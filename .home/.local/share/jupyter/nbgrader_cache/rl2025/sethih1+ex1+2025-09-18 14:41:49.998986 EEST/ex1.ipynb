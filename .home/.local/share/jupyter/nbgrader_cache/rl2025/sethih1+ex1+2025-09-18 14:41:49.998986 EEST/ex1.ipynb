{
 "cells": [
  {
   "cell_type": "markdown",
   "id": "53274fb5",
   "metadata": {
    "deletable": false,
    "editable": false,
    "nbgrader": {
     "cell_type": "markdown",
     "checksum": "9b1433e97d4756e2c9546a6a35a1562c",
     "grade": false,
     "grade_id": "cell-36af2f1e65d7b244",
     "locked": true,
     "schema_version": 3,
     "solution": false,
     "task": false
    }
   },
   "source": [
    "\n",
    "<div class=\"alert alert-block alert-info\">\n",
    "   <h2 align=\"center\"> <center><b> Reinforcement Learning Assignment 1 - The Reinforcement Learning Framework</b></center></h2>\n",
    "\n",
    "<br>\n",
    "<center><font size=\"3\">This notebook is a part of teaching material for ELEC-E8125</font></center>\n",
    "<center><font size=\"3\">Sep 1, 2025 - Dec 1, 2025</font></center>\n",
    "<center><font size=\"3\">Aalto University</font></center>\n",
    "</div>\n",
    "\n",
    "\n",
    "<a id='TOC'></a>\n",
    "\n",
    "<div class=\"alert alert-block alert-success\">\n",
    "    \n",
    "# Table of contents\n",
    "* <a href='#1.'> 1. Introduction </a>\n",
    "* <a href='#1.1'> 1.1 Learning Objectives </a>\n",
    "* <a href='#1.2'> 1.2 Code Structure & Files </a>\n",
    "* <a href='#2.'> 2. Cartpole</a>\n",
    "* <a href='#3.'> 3. Reacher</a>\n",
    "* <a href='#4.'> 4. Submitting </a>\n",
    "* <a href='#4.1'> 4.1 Feedback </a>\n",
    "* <a href='#5.'> References</a>\n",
    "\n",
    "<a href='#T1'><b>Student Task 1.</b> Training a Model for Simple Cartpole Environment (10 points)</a>\\\n",
    "<a href='#Q1'><b>Student Question 1.1</b> Learning (10 points)</a>\\\n",
    "<a href='#T2'><b>Student Task 2.</b> Investigating Training Performance (12 points) </a>\\\n",
    "<a href='#Q2'><b>Student Question 2.1</b> Analysis of Training Performance (15 points) </a>\\\n",
    "<a href='#Q3'><b>Student Question 2.2</b> Stochasticity (10 points) </a>\\\n",
    "<a href='#T3'><b>Student Task 3.</b> Reward Functions (20 points) </a>\\\n",
    "<a href='#T4'><b>Student Task 4.</b> Visualizing Behavior </a>\\\n",
    "<a href='#Q4'><b>Student Question 4.1</b> Achieved Peformance (5 points)</a>\\\n",
    "<a href='#Q5'><b>Student Question 4.2</b> Analysis of Behaviour (9 points)</a>\\\n",
    "<a href='#Q6'><b>Student Question 4.3</b> Checking your knowledge about RL (9 points)</a>\n",
    "    \n",
    "**Total Points:** 100\n",
    "\n",
    "**Estimated runtime of all the cells:** 30 minutes "
   ]
  },
  {
   "cell_type": "markdown",
   "id": "44ab28e9",
   "metadata": {
    "deletable": false,
    "editable": false,
    "nbgrader": {
     "cell_type": "markdown",
     "checksum": "ecb4bed28908246a16850b56315b8e8e",
     "grade": false,
     "grade_id": "cell-afbabf910b8ed9fd",
     "locked": true,
     "schema_version": 3,
     "solution": false,
     "task": false
    },
    "tags": []
   },
   "source": [
    "# 1. Introduction <a id='1.'></a>\n",
    "In this exercise we will take a first look at a reinforcement learning environment, its components and modify the reward function of a simple agent.\n",
    "\n",
    "In this notebook two environments are used: Cartpole and Reacher. The cartpole environment is taken from [OpenAI's Gym library](https://www.gymlibrary.dev/). The reacher environment is custom made (and defined in ```reacher.py```) but utilizes the Gym API.\n",
    "\n",
    "## 1.1 Learning Objectives: <a id='1.1'></a>\n",
    "- To become familiar with assignment structure and the agent-environment relationshp\n",
    "- To understand the effects of stochasticity\n",
    "- To understand and explore the effects of task definition\n",
    "\n",
    "## 1.2 Code Structure & Files <a id='1.2'></a>\n",
    "\n",
    "The ```train.py``` file instantiates the environment and the RL agent that acts in it. The ```agent.py``` file contains the implementation of a simple reinforcement learning agent; for the sake of this exercise, you can assume it to be a black box (you don’t need to understand how it works, although you are encouraged to study it in more detail). You don’t have to edit any other file other than ```ex1.ipynb``` to complete this exercise.\n",
    "```\n",
    "├───cfg                  # Config files for environments e.g. define the maximum number of steps in an episode.\n",
    "├───imgs                 # Images used in notebook\n",
    "├───results \n",
    "│   ├───logging          # Contains logged data\n",
    "│   ├───model            # Contains the policies learned\n",
    "│   └───video            # Contains videos for each environment\n",
    "│       └───CartPole-v0\n",
    "│       │  └───test      # Videos saved during testing\n",
    "│       │  └───train     # Videos saved during training\n",
    "│       └───SpinningReacher-v0\n",
    "│           └───test\n",
    "│           └───train\n",
    "│   ex1.ipynb            # Main assignment file containing tasks <---------\n",
    "│   feedback.ipynb       # Please give feedback in here\n",
    "│   README.ipynb         # This file\n",
    "│   agent.py             # Contains functions that govern the policy\n",
    "│   reacher.py           # Defines the reacher environment\n",
    "│   train.py             # Contains training and testing functions\n",
    "│   utils.py             # Contains useful functions \n",
    "```"
   ]
  },
  {
   "cell_type": "markdown",
   "id": "100c1cfb",
   "metadata": {},
   "source": [
    "Please consult ```README.md``` for more details the assignments."
   ]
  },
  {
   "cell_type": "markdown",
   "id": "28556beb",
   "metadata": {},
   "source": [
    "## Warnings:\n",
    "\n",
    "- Don’t copy and paste cells within a notebook. This will mess up the tracking metadata and prevent autograding from working.\n",
    "- Only add new cells using the '+' button in the upper toolbar and do not split cells.\n",
    "- Be cautious about things such as copying the whole notebook to Colab to work on it. This has sometimes resulted in removing all notebook metadata, making autograding impossible."
   ]
  },
  {
   "cell_type": "code",
   "execution_count": 112,
   "id": "f097ab74",
   "metadata": {
    "tags": []
   },
   "outputs": [],
   "source": [
    "skip_training = True  # Set this flag to True before validation and submission"
   ]
  },
  {
   "cell_type": "code",
   "execution_count": null,
   "id": "cc004e57",
   "metadata": {
    "deletable": false,
    "editable": false,
    "nbgrader": {
     "cell_type": "code",
     "checksum": "ecf78d754d0b1f6eb047222f9e14a0e4",
     "grade": true,
     "grade_id": "cell-8fb587d5abdec975",
     "locked": true,
     "points": 0,
     "schema_version": 3,
     "solution": false,
     "task": false
    },
    "tags": []
   },
   "outputs": [],
   "source": []
  },
  {
   "cell_type": "code",
   "execution_count": 113,
   "id": "c8cb8a88",
   "metadata": {
    "tags": []
   },
   "outputs": [],
   "source": [
    "from pathlib import Path # to find directory\n",
    "work_dir = Path().cwd()/'results'\n",
    "import os\n",
    "\n",
    "import train as t # for training\n",
    "import utils as u # helper functions\n",
    "\n",
    "import numpy as np # The numpy library can be used for math functions\n",
    "import torch # Used to manage policy and learning\n",
    "from IPython.display import Video, display, HTML # to display videos"
   ]
  },
  {
   "cell_type": "markdown",
   "id": "f5e36a57",
   "metadata": {
    "deletable": false,
    "editable": false,
    "nbgrader": {
     "cell_type": "markdown",
     "checksum": "6468fd86adbbe289e7e8853d2b1cdf8b",
     "grade": false,
     "grade_id": "cell-56c1faa5635120ab",
     "locked": true,
     "schema_version": 3,
     "solution": false,
     "task": false
    }
   },
   "source": [
    "# 2. Cartpole <a id='2.'></a>\n",
    "\n",
    "The Cartpole environment consists of a cart and a pole mounted on top of it, as shown in Figure 1. The cart can move either to the left or to the right. The goal is to balance the pole in a vertical position in order to prevent it from falling down. The cart should also stay within limited distance from the center (trying to move outside screen boundaries is considered a failure).\n",
    "\n",
    "<figure>\n",
    "<img src=\"imgs/cartpole.png\" width=\"400px\">\n",
    "<figcaption style=\"text-align: center\"> Figure 1: The Cartpole environment  </figcaption>\n",
    "</figure>\n",
    "\n",
    "The state and the observation are four element vectors:\n",
    "\n",
    "$$\n",
    "o=s=\\left(\\begin{array}{c}\n",
    "x \\\\\n",
    "\\dot{x} \\\\\n",
    "\\theta \\\\\n",
    "\\dot{\\theta}\n",
    "\\end{array}\\right) \\text {, }\n",
    "$$\n",
    "\n",
    "where $x$ is the position of the cart, $\\dot{x}$ is its velocity, $\\theta$ is the angle of the pole w.r.t. the vertical axis, and $\\dot{\\theta}$ is the angular velocity of the pole.\n",
    "\n",
    "In the standard formulation, a reward of 1 is given for every timestep the pole remains balanced. Upon failing (the pole falls) or completing the task, an episode is finished.\n",
    "\n",
    "The training script will record videos of the agent’s learning progress during training, and the recorded videos are saved to ```results/video/CartPole-v0/train```. By default, the training information is saved to ```results/logging/CartPole-v0_{seed}.csv```. When the training is finished, the models are saved to ```results/model/Cartpole-v0_params.pt```. Videos of the agent’s behaviour during testing are saved to ```results/video/CartPole-v0/test```."
   ]
  },
  {
   "cell_type": "markdown",
   "id": "6d5bb7ba",
   "metadata": {
    "deletable": false,
    "editable": false,
    "nbgrader": {
     "cell_type": "markdown",
     "checksum": "a1c02d0e9b975ce9813ef40bd06998d0",
     "grade": false,
     "grade_id": "cell-4902974772926f28",
     "locked": true,
     "schema_version": 3,
     "solution": false,
     "task": false
    },
    "tags": []
   },
   "source": [
    "<a id='T1'></a>\n",
    "<div class=\" alert alert-warning\">\n",
    "    <h3><b>Student Task 1.</b> Training a Model for Simple Cartpole Environment (10 points) </h3> \n",
    "\n",
    "This task requires you to train a model for the cartpole environment with 100 timesteps per episode. Then test the model for 500 timesteps and report average reward. To do this, you can simply run the code in the cells below. \n",
    "\n",
    "To see a full list of options that can be passed through ```cfg_args``` consult the configuation file found in ```cfg/```.\n",
    "\n",
    "- **1st** Run training over 100 steps per episode by using ```t.train``` function. See the cell below. The training will run for 500 episodes automatically.\n",
    "- **2nd:** Export the training plot ```episodesep_reward``` from logged data (.csv format).\n",
    "- **3rd:** Run testing over 500 steps by using ```t.test``` function. See the cell below. See the cell below. Notice ```max_episode_steps``` parameter. \n",
    "- **4th:** **Manually** report the average reward after the cells have completed execution.\n",
    "    \n",
    "🔝\t<a href='#TOC'><b>Table of Contents</b></a>\n",
    "</div>\n"
   ]
  },
  {
   "cell_type": "code",
   "execution_count": 114,
   "id": "e0481176",
   "metadata": {
    "tags": []
   },
   "outputs": [
    {
     "name": "stdout",
     "output_type": "stream",
     "text": [
      "Numpy/Torch/Random Seed:  1\n",
      "Configuration Settings: {'exp_name': 'ex1', 'seed': 1, 'env_name': 'CartPole-v1', 'model_name': 'CartPole-v1', 'max_episode_steps': 100, 'train_episodes': 500, 'batch_size': 64, 'min_update_samples': 2000, 'testing': False, 'model_path': 'default', 'save_video': True, 'save_model': True, 'save_logging': True, 'silent': False, 'use_wandb': True, 'run_suffix': 0}\n",
      "Training device: cpu\n",
      "Observation space dimensions: 4\n",
      "Action space dimensions: 2\n",
      "\n",
      "Episode 0 finished. Total reward: 14.0 (14 timesteps)\n"
     ]
    },
    {
     "name": "stderr",
     "output_type": "stream",
     "text": [
      "/opt/software/lib/python3.10/site-packages/gymnasium/wrappers/record_video.py:87: UserWarning: \u001b[33mWARN: Overwriting existing videos at /notebooks/rl2025/ex1/results/video/CartPole-v1/train folder (try specifying a different `video_folder` for the `RecordVideo` wrapper if this is not desired)\u001b[0m\n",
      "  logger.warn(\n"
     ]
    },
    {
     "name": "stdout",
     "output_type": "stream",
     "text": [
      "Episode 5 finished. Total reward: 38.0 (38 timesteps)\n",
      "Episode 10 finished. Total reward: 14.0 (14 timesteps)\n",
      "Episode 15 finished. Total reward: 83.0 (83 timesteps)\n",
      "Episode 20 finished. Total reward: 12.0 (12 timesteps)\n",
      "Episode 25 finished. Total reward: 18.0 (18 timesteps)\n",
      "Episode 30 finished. Total reward: 36.0 (36 timesteps)\n",
      "Episode 35 finished. Total reward: 16.0 (16 timesteps)\n",
      "Episode 40 finished. Total reward: 29.0 (29 timesteps)\n",
      "Episode 45 finished. Total reward: 15.0 (15 timesteps)\n",
      "Episode 50 finished. Total reward: 15.0 (15 timesteps)\n",
      "Episode 55 finished. Total reward: 27.0 (27 timesteps)\n",
      "Episode 60 finished. Total reward: 33.0 (33 timesteps)\n",
      "Episode 65 finished. Total reward: 11.0 (11 timesteps)\n",
      "Episode 70 finished. Total reward: 27.0 (27 timesteps)\n",
      "Episode 75 finished. Total reward: 13.0 (13 timesteps)\n",
      "Episode 80 finished. Total reward: 9.0 (9 timesteps)\n",
      "Episode 85 finished. Total reward: 19.0 (19 timesteps)\n",
      "Updating the policy...\n",
      "Updating finished!\n",
      "Episode 90 finished. Total reward: 58.0 (58 timesteps)\n",
      "Episode 95 finished. Total reward: 13.0 (13 timesteps)\n",
      "Episode 100 finished. Total reward: 17.0 (17 timesteps)\n",
      "Episode 105 finished. Total reward: 17.0 (17 timesteps)\n",
      "Episode 110 finished. Total reward: 27.0 (27 timesteps)\n",
      "Episode 115 finished. Total reward: 9.0 (9 timesteps)\n",
      "Episode 120 finished. Total reward: 17.0 (17 timesteps)\n",
      "Episode 125 finished. Total reward: 13.0 (13 timesteps)\n",
      "Episode 130 finished. Total reward: 26.0 (26 timesteps)\n",
      "Episode 135 finished. Total reward: 9.0 (9 timesteps)\n",
      "Episode 140 finished. Total reward: 89.0 (89 timesteps)\n",
      "Episode 145 finished. Total reward: 14.0 (14 timesteps)\n",
      "Episode 150 finished. Total reward: 30.0 (30 timesteps)\n",
      "Episode 155 finished. Total reward: 27.0 (27 timesteps)\n",
      "Episode 160 finished. Total reward: 23.0 (23 timesteps)\n",
      "Updating the policy...\n",
      "Updating finished!\n",
      "Episode 165 finished. Total reward: 24.0 (24 timesteps)\n",
      "Episode 170 finished. Total reward: 28.0 (28 timesteps)\n",
      "Episode 175 finished. Total reward: 32.0 (32 timesteps)\n",
      "Episode 180 finished. Total reward: 27.0 (27 timesteps)\n",
      "Episode 185 finished. Total reward: 65.0 (65 timesteps)\n",
      "Episode 190 finished. Total reward: 99.0 (99 timesteps)\n",
      "Episode 195 finished. Total reward: 30.0 (30 timesteps)\n",
      "Episode 200 finished. Total reward: 25.0 (25 timesteps)\n",
      "Episode 205 finished. Total reward: 29.0 (29 timesteps)\n",
      "Episode 210 finished. Total reward: 27.0 (27 timesteps)\n",
      "Updating the policy...\n",
      "Updating finished!\n",
      "Episode 215 finished. Total reward: 100.0 (100 timesteps)\n",
      "Episode 220 finished. Total reward: 100.0 (100 timesteps)\n",
      "Episode 225 finished. Total reward: 59.0 (59 timesteps)\n",
      "Episode 230 finished. Total reward: 74.0 (74 timesteps)\n",
      "Episode 235 finished. Total reward: 49.0 (49 timesteps)\n",
      "Episode 240 finished. Total reward: 96.0 (96 timesteps)\n",
      "Episode 245 finished. Total reward: 73.0 (73 timesteps)\n",
      "Updating the policy...\n",
      "Updating finished!\n",
      "Episode 250 finished. Total reward: 100.0 (100 timesteps)\n",
      "Episode 255 finished. Total reward: 100.0 (100 timesteps)\n",
      "Episode 260 finished. Total reward: 52.0 (52 timesteps)\n",
      "Episode 265 finished. Total reward: 100.0 (100 timesteps)\n",
      "Episode 270 finished. Total reward: 18.0 (18 timesteps)\n",
      "Updating the policy...\n",
      "Updating finished!\n",
      "Episode 275 finished. Total reward: 100.0 (100 timesteps)\n",
      "Episode 280 finished. Total reward: 93.0 (93 timesteps)\n",
      "Episode 285 finished. Total reward: 100.0 (100 timesteps)\n",
      "Episode 290 finished. Total reward: 100.0 (100 timesteps)\n",
      "Updating the policy...\n",
      "Updating finished!\n",
      "Episode 295 finished. Total reward: 100.0 (100 timesteps)\n",
      "Episode 300 finished. Total reward: 52.0 (52 timesteps)\n",
      "Episode 305 finished. Total reward: 100.0 (100 timesteps)\n",
      "Episode 310 finished. Total reward: 100.0 (100 timesteps)\n",
      "Updating the policy...\n",
      "Updating finished!\n",
      "Episode 315 finished. Total reward: 100.0 (100 timesteps)\n",
      "Episode 320 finished. Total reward: 100.0 (100 timesteps)\n",
      "Episode 325 finished. Total reward: 100.0 (100 timesteps)\n",
      "Episode 330 finished. Total reward: 100.0 (100 timesteps)\n",
      "Episode 335 finished. Total reward: 40.0 (40 timesteps)\n",
      "Episode 340 finished. Total reward: 42.0 (42 timesteps)\n",
      "Updating the policy...\n",
      "Updating finished!\n",
      "Episode 345 finished. Total reward: 100.0 (100 timesteps)\n",
      "Episode 350 finished. Total reward: 100.0 (100 timesteps)\n",
      "Episode 355 finished. Total reward: 100.0 (100 timesteps)\n",
      "Episode 360 finished. Total reward: 100.0 (100 timesteps)\n",
      "Updating the policy...\n",
      "Updating finished!\n",
      "Episode 365 finished. Total reward: 100.0 (100 timesteps)\n",
      "Episode 370 finished. Total reward: 100.0 (100 timesteps)\n",
      "Episode 375 finished. Total reward: 100.0 (100 timesteps)\n",
      "Episode 380 finished. Total reward: 100.0 (100 timesteps)\n",
      "Updating the policy...\n",
      "Updating finished!\n",
      "Episode 385 finished. Total reward: 100.0 (100 timesteps)\n",
      "Episode 390 finished. Total reward: 100.0 (100 timesteps)\n",
      "Episode 395 finished. Total reward: 100.0 (100 timesteps)\n",
      "Episode 400 finished. Total reward: 35.0 (35 timesteps)\n",
      "Updating the policy...\n",
      "Updating finished!\n",
      "Episode 405 finished. Total reward: 100.0 (100 timesteps)\n",
      "Episode 410 finished. Total reward: 100.0 (100 timesteps)\n",
      "Episode 415 finished. Total reward: 100.0 (100 timesteps)\n",
      "Episode 420 finished. Total reward: 100.0 (100 timesteps)\n",
      "Episode 425 finished. Total reward: 100.0 (100 timesteps)\n",
      "Updating the policy...\n",
      "Updating finished!\n",
      "Episode 430 finished. Total reward: 100.0 (100 timesteps)\n",
      "Episode 435 finished. Total reward: 100.0 (100 timesteps)\n",
      "Episode 440 finished. Total reward: 100.0 (100 timesteps)\n",
      "Episode 445 finished. Total reward: 100.0 (100 timesteps)\n",
      "Updating the policy...\n",
      "Updating finished!\n",
      "Episode 450 finished. Total reward: 100.0 (100 timesteps)\n",
      "Episode 455 finished. Total reward: 98.0 (98 timesteps)\n",
      "Episode 460 finished. Total reward: 98.0 (98 timesteps)\n",
      "Episode 465 finished. Total reward: 98.0 (98 timesteps)\n",
      "Updating the policy...\n",
      "Updating finished!\n",
      "Episode 470 finished. Total reward: 100.0 (100 timesteps)\n",
      "Episode 475 finished. Total reward: 90.0 (90 timesteps)\n",
      "Episode 480 finished. Total reward: 100.0 (100 timesteps)\n",
      "Episode 485 finished. Total reward: 100.0 (100 timesteps)\n",
      "Updating the policy...\n",
      "Updating finished!\n",
      "Episode 490 finished. Total reward: 100.0 (100 timesteps)\n",
      "Episode 495 finished. Total reward: 100.0 (100 timesteps)\n",
      "Episode 500 finished. Total reward: 100.0 (100 timesteps)\n",
      "Model saved to /notebooks/rl2025/ex1/results/model/CartPole-v1_params.pt\n",
      "------Training finished.------\n"
     ]
    }
   ],
   "source": [
    "if not skip_training:\n",
    "    t.train(cfg_path=Path().cwd()/'cfg'/'cartpole_v1.yaml', cfg_args=dict(seed=1, max_episode_steps=100, model_name=\"CartPole-v1\")) # < 5 mins"
   ]
  },
  {
   "cell_type": "code",
   "execution_count": 115,
   "id": "1f8cd415-c26a-44cf-9f76-f80237cdd918",
   "metadata": {
    "tags": []
   },
   "outputs": [
    {
     "data": {
      "image/png": "[encoded data removed]",
      "text/plain": [
       "<Figure size 450x300 with 1 Axes>"
      ]
     },
     "metadata": {},
     "output_type": "display_data"
    }
   ],
   "source": [
    "if not skip_training:\n",
    "    u.plot_reward(Path().cwd()/'results'/'logging'/'CartPole-v1_1.csv', 'CartPole')"
   ]
  },
  {
   "cell_type": "markdown",
   "id": "b0230ba0",
   "metadata": {
    "deletable": false,
    "editable": false,
    "nbgrader": {
     "cell_type": "markdown",
     "checksum": "4b2dc935e91cccb3f0345d4c423e7190",
     "grade": false,
     "grade_id": "cell-64fbeb2b60de708a",
     "locked": true,
     "schema_version": 3,
     "solution": false,
     "task": false
    }
   },
   "source": [
    "The command below will evaluate the trained model in 10 episodes and report the average reward (and episode length) for these 10 episodes. Do not delete the cell below as it is used for grading."
   ]
  },
  {
   "cell_type": "code",
   "execution_count": 116,
   "id": "95418d8d",
   "metadata": {
    "deletable": false,
    "editable": false,
    "nbgrader": {
     "cell_type": "code",
     "checksum": "8b492043c94a6382f5ff92b768d1cc89",
     "grade": true,
     "grade_id": "cell-8b1bd0d092f865b7",
     "locked": true,
     "points": 10,
     "schema_version": 3,
     "solution": false,
     "task": false
    },
    "tags": []
   },
   "outputs": [
    {
     "name": "stdout",
     "output_type": "stream",
     "text": [
      "Numpy/Torch/Random Seed:  688\n",
      "Loading model from /notebooks/rl2025/ex1/results/model/CartPole-v1_params.pt ...\n",
      "Testing...\n",
      "Test ep reward: 117.0 seed: 434\n",
      "Test ep reward: 136.0 seed: 308\n",
      "Test ep reward: 125.0 seed: 922\n",
      "Test ep reward: 121.0 seed: 231\n",
      "Test ep reward: 116.0 seed: 961\n",
      "Test ep reward: 133.0 seed: 363\n",
      "Test ep reward: 124.0 seed: 626\n",
      "Test ep reward: 125.0 seed: 905\n",
      "Test ep reward: 133.0 seed: 497\n",
      "Test ep reward: 129.0 seed: 816\n",
      "Average test reward: 125.9 episode length: 125.9\n"
     ]
    }
   ],
   "source": [
    "%%capture --no-stdout\n",
    "assert t.test(episodes=10, cfg_path=Path().cwd()/'cfg'/'cartpole_v1.yaml', \n",
    "        cfg_args=dict(testing=True, save_video=(not skip_training), save_model=False, seed=None, max_episode_steps=500,model_name=\"CartPole-v1\")) > 100"
   ]
  },
  {
   "cell_type": "markdown",
   "id": "7829f371",
   "metadata": {},
   "source": [
    "Report below the average reward after testing the model"
   ]
  },
  {
   "cell_type": "markdown",
   "id": "18da8596",
   "metadata": {
    "deletable": false,
    "nbgrader": {
     "cell_type": "markdown",
     "checksum": "e556373c147e8173d8451bd1c237691e",
     "grade": true,
     "grade_id": "cell-24f7f8d91599a232",
     "locked": false,
     "points": 0,
     "schema_version": 3,
     "solution": true,
     "task": false
    }
   },
   "source": [
    "125.9"
   ]
  },
  {
   "cell_type": "markdown",
   "id": "65a689b7",
   "metadata": {
    "deletable": false,
    "editable": false,
    "nbgrader": {
     "cell_type": "markdown",
     "checksum": "9f2c06a70d499a71cbcb437b5400a3c1",
     "grade": false,
     "grade_id": "cell-17b4eb8d711f2770",
     "locked": true,
     "schema_version": 3,
     "solution": false,
     "task": false
    }
   },
   "source": [
    "The agent acting in the environment can be seen using the following command. Change the ```path``` to pick the episode you want to visualize. Bear in mind by default video saving for training is taken every 50 episodes."
   ]
  },
  {
   "cell_type": "code",
   "execution_count": 117,
   "id": "ee7bc0ff",
   "metadata": {
    "tags": []
   },
   "outputs": [
    {
     "name": "stdout",
     "output_type": "stream",
     "text": [
      "test/ ex1-episode-0.mp4\n"
     ]
    },
    {
     "data": {
      "text/html": [
       "<div style=\"width: 200px; height: 100px;; border: 1px solid #FF5733;\"><video loop autoplay  width=\"200\"  height=\"100\">\n",
       " <source src=\"data:video/mp4;base64,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\" type=\"video/mp4\">\n",
       " Your browser does not support the video tag.\n",
       " </video></div>"
      ],
      "text/plain": [
       "<IPython.core.display.HTML object>"
      ]
     },
     "metadata": {},
     "output_type": "display_data"
    },
    {
     "name": "stdout",
     "output_type": "stream",
     "text": [
      "test/ ex1-episode-50.mp4\n"
     ]
    },
    {
     "data": {
      "text/html": [
       "<div style=\"width: 200px; height: 100px;; border: 1px solid #FF5733;\"><video loop autoplay  width=\"200\"  height=\"100\">\n",
       " <source src=\"data:video/mp4;base64,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\" type=\"video/mp4\">\n",
       " Your browser does not support the video tag.\n",
       " </video></div>"
      ],
      "text/plain": [
       "<IPython.core.display.HTML object>"
      ]
     },
     "metadata": {},
     "output_type": "display_data"
    },
    {
     "name": "stdout",
     "output_type": "stream",
     "text": [
      "test/ ex1-episode-100.mp4\n"
     ]
    },
    {
     "data": {
      "text/html": [
       "<div style=\"width: 200px; height: 100px;; border: 1px solid #FF5733;\"><video loop autoplay  width=\"200\"  height=\"100\">\n",
       " <source src=\"data:video/mp4;base64,AAAAIGZ0eXBpc29tAAACAGlzb21pc28yYXZjMW1wNDEAAAAIZnJlZQAADERtZGF0AAACrwYF//+r3EXpvebZSLeWLNgg2SPu73gyNjQgLSBjb3JlIDE2NCByMzA5NSBiYWVlNDAwIC0gSC4yNjQvTVBFRy00IEFWQyBjb2RlYyAtIENvcHlsZWZ0IDIwMDMtMjAyMiAtIGh0dHA6Ly93d3cudmlkZW9sYW4ub3JnL3gyNjQuaHRtbCAtIG9wdGlvbnM6IGNhYmFjPTEgcmVmPTMgZGVibG9jaz0xOjA6MCBhbmFseXNlPTB4MzoweDExMyBtZT1oZXggc3VibWU9NyBwc3k9MSBwc3lfcmQ9MS4wMDowLjAwIG1peGVkX3JlZj0xIG1lX3JhbmdlPTE2IGNocm9tYV9tZT0xIHRyZWxsaXM9MSA4eDhkY3Q9MSBjcW09MCBkZWFkem9uZT0yMSwxMSBmYXN0X3Bza2lwPTEgY2hyb21hX3FwX29mZnNldD0tMiB0aHJlYWRzPTEyIGxvb2thaGVhZF90aHJlYWRzPTIgc2xpY2VkX3RocmVhZHM9MCBucj0wIGRlY2ltYXRlPTEgaW50ZXJsYWNlZD0wIGJsdXJheV9jb21wYXQ9MCBjb25zdHJhaW5lZF9pbnRyYT0wIGJmcmFtZXM9MyBiX3B5cmFtaWQ9MiBiX2FkYXB0PTEgYl9iaWFzPTAgZGlyZWN0PTEgd2VpZ2h0Yj0xIG9wZW5fZ29wPTAgd2VpZ2h0cD0yIGtleWludD0yNTAga2V5aW50X21pbj0yNSBzY2VuZWN1dD00MCBpbnRyYV9yZWZyZXNoPTAgcmNfbG9va2FoZWFkPTQwIHJjPWNyZiBtYnRyZWU9MSBjcmY9MjMuMCBxY29tcD0wLjYwIHFwbWluPTAgcXBtYXg9NjkgcXBzdGVwPTQgaXBfcmF0aW89MS40MCBhcT0xOjEuMDAAgAAAAqRliIQAI//+9Sf4FNQS/Evha2Ht1LdJMNFwsS2z0ACHoUAAAAMAB/5MpR0dNau8UAAAEMADgB9BlB5iJirFQJbQWBEM4ALgLKyv+3N6PVptDQHcDjw/bwH/Y6yudaYBNbQ+dWI3vXhPdWGijruug5/U51OFB6Fj/GuFBZF39PmQSD5yWXRywPy9aVOD29tq+SacCJacKGbkHHjjjceuWU/a3wgOygFZYCVhBHWqqgWslqF9SfErd0G2WADD3wiHrw4rp8/Bfj6Yt93m1fJXl7Uz029gIy0MzuRMN6Q2TCZfF6fLnkBOxFP2yKLgTSHZ9SKpQyO43iJkDBjwBFYfEecDEL4O9XLTBvXrGFEbf4f0cNKYnie2hGSFMsKCHq00ZcTReAZtWaku5L6H3jJz8km/DlPcQO+lL71SHxIcHkG82plsZ6BpL0AKrIaAmTXMdsDrjc2SUPn/TuNvI99GpEb/4HwdS86etGoFAK+sh24W+x/KQimhBiZx3QJaomO+aRlCWWY/Os3s45mZ8UR56klec/Ciiv25Zf0mDSbCBu5j3UxUyCCRoi5RUw1YjnMOHAXa9nv6wc+RpdYJ9RwmxrlKx7jCCelqqxgUfSJjyEDIPpxV8b6nDp9f6PAqQTpvRMoT/7eUQCPiRoHCokPJFe7acphPubaEe0Im8J9Pi460Lj+rhSh8EhomkBc9gW61t0amv92m/+N1F3ef24NIBjcYRCk0V8IjpghWPU6/J47WPlfMrzP2ErOtyST98iLQKV80D6VcYZkwghWihwCOznPxjLMzDMVmPxA8AACzkovaAl4yJuJ9ER3VQPoaZEigWX7kEjsmDwoikEpb7uK5pWN0zZV0Yvc8k4+TTrTvR0iwGRYNbKvJiCZ3+gPtAAADAAADAALDAAABDUGaImxCf/3xAAADArXJ9gxDR+i4EboAJ3DzGGI8M/Kpvj6VjmpJGX69yv7vRYu1cFHK0HNLK6n18K/on9yLKzOG4LR2ssqiPT5jquLL/8jrKzjIA8VxT43gBPUMqCSCT9h1wnZfo9WIKt1eB/AmfgvUxUgY27Pu15jxuhw99JpWujITnr9MkS8K2ql+zOZ/GfCPfRL1zQ2fXNwoTuBe0Q+zprlHDGeSZiNA2mv9R9yZoO7WyCL5uj8Ts8Og4NvxwAk/mg4QxEqRpFhkV1qrmg6uwFrxDIt9obgoWFNj+J1Z1QeqL03r20FiH2bN+ISmZZ3ebHkF+paEO53/h/4oExaQpmXIx5TPGR59FzNZAAAAMAGeQXkf/wAAJLHBDcaCXIYtB/3MpZ5MghbPZ8Rq9D08qROxiBCkI6JoYJmh1iUjPwAAAHhBmkY8IZMphCv//jhAAAEM+t8Vdc+pDpAaMFe3gBwjI2w2Wcr036Qc05c0mC+uyL+xVNkObs/nS+790JBb7l+H23xuy57Gz7Sx7QPeqbM9noElgetFaBTfRxs6DZMNI2tlfe6+2Z14wvf4kppP2Fn3v02C6+VQ1WgAAAApQZ5kalPCPwAAFrxQtKvM+Zp3yikmYYLASEPe/iCIdAQtUtCTgytwFJEAAAAsAZ6DdEf/AAANzhNEHENHOC2uEwCZh5xKuvRZAA+41bOKyhSNaNnOaf64om8AAAAdAZ6Fakf/AAAjsisNuyOPw8cP6UttTDGf0slToIEAAAAXQZqKSahBaJlMCP/8hAAAAwAArGhnJekAAAA5QZ6oRREsI/8AAAhthB/UtJ3Sj0pAnHEmEGau7fOmTLywZ/U0o0KALBiCYe8UFmdPuWgL/P8+MGzAAAAAGwGex3RH/wAABRxbeZJPdykkh8fe9ewZtPigYAAAABwBnslqR/8AAAUfNNWxkwvP68AVDV/Nlgs3w2zBAAAAl0Gay0moQWyZTAhP//3xAAADAqC0vQAN1hvdeAenPl1AYISQ74CmWKYjLGYUrl0kmdHR9YAYsFGZpKCqmz4tkSiqAgkhCd1Z7UTCpNje13QrMa0YDy2crdUjbz1NfQaVVtLaIc0jGrWZs7SULfHtiUz+7Wp0MzywYGvELZcXQtyVRGHEO+RLLGVBrQPx/zxJGfWL/vb4aYAAAADQQZrvSeEKUmUwIR/94QAABBNKBe8AcmCUPdOs1b5qw/PtCB7af2tQNwZRAMGcUoXdu4KHH7sT5CYDG3Pf8wkhpmcdd3p0DVkRjt2WYJcEeKuiu5uR94PZ9IbwC5PQIfRO6ttv/9WPdVBuZtEeF8Xhpi9OWr5KlNRKdbvXh8QlY1OBGZ9q2OFdw3Kh3zh6c7csdSzTCgxAuC8UICv332GHUhxQD9fgYVxQwqsBJPrvA903tOLgt+bh2N9Rc12M8FX+ka0iwI+JAcABuzZBNMRYtgAAAFBBnw1FNEwj/wAAFrtfbrRoLcLgBat3YsN8sa74qpJrnEVNzxI500Bj+gwyboct1IlL/nWWbaKCZgw5fqRELDc5MV7/MEj1plmYj5Yal7bluQAAAEABnyx0R/8AACPAuN+/7X6IAC4YPreaQe9qAHCiswQPw6wsR8GhBIrSR7v1in34hhTdCMoR0qERFHhLutq/vVhbAAAARwGfLmpH/wAAI64xL89cjYZa6MkVnsLpbF95T9CzWaVBXgZUEsLVMfqJVb8u6TZMTmLeAF+g/+/JxxJxIb/lSii8giTGnu2vAAAAvUGbM0moQWiZTAj//IQAAA/Tq/hhoWOr3c2SPFBuFrMEFAZ0oAWy2QQn8kQRvayZshwdiIa1LKkGYL+VuZ/lv+iDzbEcjb/esuinVHKoDMyjuKv+OfP+aTFqRHSSgYfmJL6cOtARLvYGY+RAox7ABU8EIlk0QBb42QYai0rH4yqQSumd/+L3CcozsVCV2meYznp18XM+Y18mS3sAVy/JBrMp7LZpf9d8Q5bOmFWEs3UEG1zOgzv9Mf8lMyABgAAAAG1Bn1FFESwj/wAAFrsixGQI0LpxFjfcSoHP784JdMqOLMV+1t0XUpSb2/gS0dlGhjMj3jlJlFmkyAAGtAwjK/1KpXN+kBpXb04T8u9DWWcfKY/Vnt/X3/mPH8HqjXI5t/GdSiaqZ0witK+zmLDaAAAASQGfcHRH/wAAI8AK1qdtY0t50Yqb9Nc7IdibCxju4kdDnCTMs4IHiycjCcMFzOxASLYSbm1ENmt8SE63ZSgKQMJTKUMOrs+hwk0AAAA2AZ9yakf/AAAjsaqJ2wxb7ad18vj99xfrtnaKhzxXyMd0Oaerbhcb1PriUsoJY7kRc+mSdkGwAAAEG21vb3YAAABsbXZoZAAAAAAAAAAAAAAAAAAAA+gAAAGQAAEAAAEAAAAAAAAAAAAAAAABAAAAAAAAAAAAAAAAAAAAAQAAAAAAAAAAAAAAAAAAQAAAAAAAAAAAAAAAAAAAAAAAAAAAAAAAAAAAAAAAAAIAAANFdHJhawAAAFx0a2hkAAAAAwAAAAAAAAAAAAAAAQAAAAAAAAGQAAAAAAAAAAAAAAAAAAAAAAABAAAAAAAAAAAAAAAAAAAAAQAAAAAAAAAAAAAAAAAAQAAAAAJYAAABkAAAAAAAJGVkdHMAAAAcZWxzdAAAAAAAAAABAAABkAAAAgAAAQAAAAACvW1kaWEAAAAgbWRoZAAAAAAAAAAAAAAAAAAAMgAAABQAVcQAAAAAAC1oZGxyAAAAAAAAAAB2aWRlAAAAAAAAAAAAAAAAVmlkZW9IYW5kbGVyAAAAAmhtaW5mAAAAFHZtaGQAAAABAAAAAAAAAAAAAAAkZGluZgAAABxkcmVmAAAAAAAAAAEAAAAMdXJsIAAAAAEAAAIoc3RibAAAALBzdHNkAAAAAAAAAAEAAACgYXZjMQAAAAAAAAABAAAAAAAAAAAAAAAAAAAAAAJYAZAASAAAAEgAAAAAAAAAARVMYXZjNjAuMzEuMTAyIGxpYngyNjQAAAAAAAAAAAAAABj//wAAADZhdmNDAWQAH//hABlnZAAfrNlAmDPl4QAAAwABAAADAGQPGDGWAQAGaOvjyyLA/fj4AAAAABRidHJ0AAAAAAAA9LAAAPSwAAAAGHN0dHMAAAAAAAAAAQAAABQAAAEAAAAAFHN0c3MAAAAAAAAAAQAAAAEAAACwY3R0cwAAAAAAAAAUAAAAAQAAAgAAAAABAAADAAAAAAEAAAEAAAAAAQAABQAAAAABAAACAAAAAAEAAAAAAAAAAQAAAQAAAAABAAAFAAAAAAEAAAIAAAAAAQAAAAAAAAABAAABAAAAAAEAAAIAAAAAAQAABQAAAAABAAACAAAAAAEAAAAAAAAAAQAAAQAAAAABAAAFAAAAAAEAAAIAAAAAAQAAAAAAAAABAAABAAAAABxzdHNjAAAAAAAAAAEAAAABAAAAFAAAAAEAAABkc3RzegAAAAAAAAAAAAAAFAAABVsAAAERAAAANAAAAHwAAAAtAAAAMAAAACEAAAAbAAAAPQAAAB8AAAAgAAAAmwAAANQAAABUAAAARAAAAEsAAADBAAAAcQAAAE0AAAA6AAAAFHN0Y28AAAAAAAAAAQAAADAAAABidWR0YQAAAFptZXRhAAAAAAAAACFoZGxyAAAAAAAAAABtZGlyYXBwbAAAAAAAAAAAAAAAAC1pbHN0AAAAJal0b28AAAAdZGF0YQAAAAEAAAAATGF2ZjYwLjE2LjEwMA==\" type=\"video/mp4\">\n",
       " Your browser does not support the video tag.\n",
       " </video></div>"
      ],
      "text/plain": [
       "<IPython.core.display.HTML object>"
      ]
     },
     "metadata": {},
     "output_type": "display_data"
    },
    {
     "name": "stdout",
     "output_type": "stream",
     "text": [
      "test/ ex1-episode-150.mp4\n"
     ]
    },
    {
     "data": {
      "text/html": [
       "<div style=\"width: 200px; height: 100px;; border: 1px solid #FF5733;\"><video loop autoplay  width=\"200\"  height=\"100\">\n",
       " <source src=\"data:video/mp4;base64,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\" type=\"video/mp4\">\n",
       " Your browser does not support the video tag.\n",
       " </video></div>"
      ],
      "text/plain": [
       "<IPython.core.display.HTML object>"
      ]
     },
     "metadata": {},
     "output_type": "display_data"
    },
    {
     "name": "stdout",
     "output_type": "stream",
     "text": [
      "test/ ex1-episode-200.mp4\n"
     ]
    },
    {
     "data": {
      "text/html": [
       "<div style=\"width: 200px; height: 100px;; border: 1px solid #FF5733;\"><video loop autoplay  width=\"200\"  height=\"100\">\n",
       " <source src=\"data:video/mp4;base64,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\" type=\"video/mp4\">\n",
       " Your browser does not support the video tag.\n",
       " </video></div>"
      ],
      "text/plain": [
       "<IPython.core.display.HTML object>"
      ]
     },
     "metadata": {},
     "output_type": "display_data"
    },
    {
     "name": "stdout",
     "output_type": "stream",
     "text": [
      "test/ ex1-episode-250.mp4\n"
     ]
    },
    {
     "data": {
      "text/html": [
       "<div style=\"width: 200px; height: 100px;; border: 1px solid #FF5733;\"><video loop autoplay  width=\"200\"  height=\"100\">\n",
       " <source src=\"data:video/mp4;base64,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\" type=\"video/mp4\">\n",
       " Your browser does not support the video tag.\n",
       " </video></div>"
      ],
      "text/plain": [
       "<IPython.core.display.HTML object>"
      ]
     },
     "metadata": {},
     "output_type": "display_data"
    },
    {
     "name": "stdout",
     "output_type": "stream",
     "text": [
      "test/ ex1-episode-300.mp4\n"
     ]
    },
    {
     "data": {
      "text/html": [
       "<div style=\"width: 200px; height: 100px;; border: 1px solid #FF5733;\"><video loop autoplay  width=\"200\"  height=\"100\">\n",
       " <source src=\"data:video/mp4;base64,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\" type=\"video/mp4\">\n",
       " Your browser does not support the video tag.\n",
       " </video></div>"
      ],
      "text/plain": [
       "<IPython.core.display.HTML object>"
      ]
     },
     "metadata": {},
     "output_type": "display_data"
    },
    {
     "name": "stdout",
     "output_type": "stream",
     "text": [
      "test/ ex1-episode-350.mp4\n"
     ]
    },
    {
     "data": {
      "text/html": [
       "<div style=\"width: 200px; height: 100px;; border: 1px solid #FF5733;\"><video loop autoplay  width=\"200\"  height=\"100\">\n",
       " <source src=\"data:video/mp4;base64,AAAAIGZ0eXBpc29tAAACAGlzb21pc28yYXZjMW1wNDEAAAAIZnJlZQAAI2ttZGF0AAACrwYF//+r3EXpvebZSLeWLNgg2SPu73gyNjQgLSBjb3JlIDE2NCByMzA5NSBiYWVlNDAwIC0gSC4yNjQvTVBFRy00IEFWQyBjb2RlYyAtIENvcHlsZWZ0IDIwMDMtMjAyMiAtIGh0dHA6Ly93d3cudmlkZW9sYW4ub3JnL3gyNjQuaHRtbCAtIG9wdGlvbnM6IGNhYmFjPTEgcmVmPTMgZGVibG9jaz0xOjA6MCBhbmFseXNlPTB4MzoweDExMyBtZT1oZXggc3VibWU9NyBwc3k9MSBwc3lfcmQ9MS4wMDowLjAwIG1peGVkX3JlZj0xIG1lX3JhbmdlPTE2IGNocm9tYV9tZT0xIHRyZWxsaXM9MSA4eDhkY3Q9MSBjcW09MCBkZWFkem9uZT0yMSwxMSBmYXN0X3Bza2lwPTEgY2hyb21hX3FwX29mZnNldD0tMiB0aHJlYWRzPTEyIGxvb2thaGVhZF90aHJlYWRzPTIgc2xpY2VkX3RocmVhZHM9MCBucj0wIGRlY2ltYXRlPTEgaW50ZXJsYWNlZD0wIGJsdXJheV9jb21wYXQ9MCBjb25zdHJhaW5lZF9pbnRyYT0wIGJmcmFtZXM9MyBiX3B5cmFtaWQ9MiBiX2FkYXB0PTEgYl9iaWFzPTAgZGlyZWN0PTEgd2VpZ2h0Yj0xIG9wZW5fZ29wPTAgd2VpZ2h0cD0yIGtleWludD0yNTAga2V5aW50X21pbj0yNSBzY2VuZWN1dD00MCBpbnRyYV9yZWZyZXNoPTAgcmNfbG9va2FoZWFkPTQwIHJjPWNyZiBtYnRyZWU9MSBjcmY9MjMuMCBxY29tcD0wLjYwIHFwbWluPTAgcXBtYXg9NjkgcXBzdGVwPTQgaXBfcmF0aW89MS40MCBhcT0xOjEuMDAAgAAAAeVliIQAJ//+9bF8CmrJ84oM6DIu4Zckya62IuJtAMABjhSAAAADABos3+LmQEo1L4AAACEgBqA+gyg8xExVioFiIOLikkEACxHa5SKsmrb3MiX416XoUix9+Y6bRp3u4SU6oTvoMURaPSrhWGstSVYiatCiryhXlfJPey4j4dpVwmhCq5lNLgbyHC4BrxfAPzwbsdLdPum86FRqmme+ikOYZhSN1A+ZPCA6ZDxZ+ZEo8vvcDbb9eKCBGbNylFVUzEwiNQUXOYcUHG4wQRqOEjF2+Z2SNx0sN2Hj9Hog4zxeUowGZ1xrMtJAJ5lcYpt7w44/GWVvmOIAYK1QxKL9ADbE4j3no2UiYYB7mzTVr4CfAjZerhk1ksRtWZzsr7dvpAEvuduG4h/ABo0UsS0R77QpArDkNm6l+Z+vUlokPMEmgITcgHt3aRFqKoXtjtmQBHXKZj3iZgvw4SXJ2GzmMjLvHMBm3u4VDcnc8pUF9UZ3+fesJRDOhcLqERPE5tmuEb+V00QqN76j7r1pVxGUq7XhyIvJ1BYl1132B14kYuzP3AFQCFJjcfXLspSzRGxdJ+xJqJN8Qvj+QWt1HUvAAF4o8gW2xbynGKRYhbKpFGTNaTImhDV6efjwAAE7AAADAAADAAAmIQAAAYJBmiRsQn/98QAAAwN36bwy6GLdziwAtGN73vkHVVYa27vE6eRplo6KXqZqel9M0zSU8By4wDJ4ABE74GlXLGyo67idMffuhSc5JeY7Nz0788UuWBZB1SJiIDHo5xqyLz5VmTJ1I6ygXN52B54M1VQsVeWV7hj0S7hSs6rlb13DHvaYuIS27bE3uxFcECzLUIegE7bPWM00PedpJZuu5Ke5lXXLzGLWSAiE0Wfd0B+QPiATABIl1Jzjka1V0aSIcdFhgvH3nheK/iE0q04jjNUYXidhhvsFbYKGnWg0W4+PvqV+H5ekw1G8/76DcHmPSwTiIIxNa5tyhHKSJ1Z/+den7LrvoNGW/zfofOolBTVRgbZAUklc06L6fdkO5f3ia8Nyu5sgskyb8ms2RTEiVU/2y0Mkk6hwwOMUodnPt5jrlcb1vhKDvqru9D19Tz8lVM6x+8gho9X85hAEsr8ESjaz8oroXNbEWrETvM/4d6bPJXJ09yJsJ1uZsn5F8uX5CJ4OmAAAAElBnkJ4hH8AAB2wOqvJ/BARBV6vPmI8A+GCWQAEZMHrM2vkTvtERGtzIoIUIiRBUGNUrstRjZBU+EtGQNlPp2pVuZew0T/14GzBAAAAOAGeYXRH/wAAL7h1acxY5v0MTyxyIz8C6dsNiOhlTlChZLv5F1zzjVUTsqQ5UIVPSHvlDZiLgCDgAAAAPQGeY2pH/wAAIr8jIyLCIRcrHRbJ0rCKtcXrS12vKXbnhiJUT2treswgBMgF+osIxEI3BvGHAxMVtU5gOOEAAACeQZpoSahBaJlMCE///fEAAAMCnwU1DhEYCxegFIgEcqE1U9dK24SAXu2HuNEy6cEQZBEH2a0jWCgBaky/NSlOfxXWEo5bhZPKJYYOHku9g3Y9rhaswN/omktDOTsyBdg5xfOJTA31TK5FyV6nPjU/uQe3kchFzdSMBRZ95JyC8JZVXqMfGQsRnPPVZJgYXC8jUDwq+RlWn/9I43XajbkAAAAkQZ6GRREsI/8AABa1WFJ9M49DTHfLKlsBTrTtWUOCZIB1e2b1AAAAJgGepXRH/wAAI6w4/vSbJgB7MsTYg3R/NwlX/dai42q+iZH10GMXAAAAEwGep2pH/wAADTSeFv0LRmuSC4AAAACUQZqsSahBbJlMCFf//jhAAABmub7DvQVMAUGV6LzaA/OFq/4EuvYkS0V/rvl/J4ePjhJZjW11VS5STIS8GK1DrHfyqEd81oXJ6oEgDk9MsCiQfLfMVWhoL4Rya1CD8x7y22TrPonEExzWmI+97QHrrAVjyPRbTmHF9ocb8wRtVqSQ2WCDxVpfqlMCftuLwxqJ3TFTCAAAADlBnspFFSwj/wAACGG2k8ljVspQ4Kus6SigzLvQX/gMYKAXB3HcBt3iVNYpm32/Fq+XlZUJG5LiXcEAAAAhAZ7pdEf/AAANfgDTas3td4y+HSYvI4P4BFSKPxigls8CAAAAHgGe62pH/wAADYSVLPcSWmauFZTJcsRGWJjxlABvQAAAADlBmu9JqEFsmUwIT//98QAAAwBfXyBivJNkhI1HTgmWhGASLJHgR1lZ3RO3BlZhaAJ7Dr9t7OWNTnUAAAAjQZ8NRRUsI/8AAAhxTZ+w/sMg5CK0buGj2IKVbqlZB5+qvzEAAAAhAZ8uakf/AAANhJUs9xJaZrqhkxEnrNu5g5YorLQtNI5JAAAA/0GbM0moQWyZTAhP//3xAAADAqCjVs3le4BNUMKjhiyOeDFglSRhInu8dDcpcPalDRk+mWKhfP/ZK+YPcYG9AXhHmwfSWPz3clC0qscDeaMiHDQq+Ujkk4bjLkYUGpw3Rpm304ueCuHeyBKwYFJI7J47e9kimFhbn4W+8jXJI4DICYLioECZ++Lx4YSVeEMlfESvsF4DvVcXlnVKSiFXmYeICamEh6BJ8nhgUr+LS0Qgmff4ZbM0H/XOxvgIbOeWDA0PYeHwch2B39VePW/mMdzwzlTD03cCResqLVQQcj7+/SBGTpsN6letsUUNgduO6wccdBvZ5U4TxOkRlNg92AAAAFJBn1FFFSwj/wAAFrKsnxw9UkhRIOFWe4O0fNI8hdMBZPQnYJLnM7lvqww7Kdp5b0eHc0+yeDU3cFKBVoWiD73XAB74oBTnNeJokjOksP/Al1LcAAAAOwGfcHRH/wAAI8Cai5xUnNdHhR/0FZ0msOcGqLuytKwFrzB1SkNP7AHF2kpRbbBVQci5kZ/hQ4/7/FRhAAAAQQGfcmpH/wAAI65gQv5F3rOrdwiYvDtiLXhcI/gNjL/yaI6DBwJhhHufd6GjeWMNhP/AQFsFwqAD0p/88yMT9GzAAAAAvkGbd0moQWyZTAhP//3xAAADArD3p7VfBeloAs3XgZFtW6Yn9H0giTDYDDsHat5Na31xDmK+tNcVA9ck6DknxOGiyWiAq1Sf8j79uYfFXZIoF2BqI8dj0G3y8cJkhYdJSRd/cwDw6owmCzuE80lNsp/23RopdZS7NI+EeKZcx+MnZTYoImeWDAz4zSDv1bVBmc6bAVm6rPWlYidSk344rzFUTZg0r11HCWdWBWP7XXR/dYmaf7VA5q6Xj4DZ2iUAAAA2QZ+VRRUsI/8AABdMPS1m6hnnnzhoDUJFTj6rIDxUSp0P+pSfYD71/MZ2CPRIABt1QUD0FwWBAAAANQGftHRH/wAAI6v4azBcVSDCLQBZ7K6Uzl/ZjAPBq6ORoiyvLM4cMURUVnbJZwNuP3VwBsGAAAAAHAGftmpH/wAAJL8EJxLJaSGKcAoJFnfLl4Wwr0EAAAB5QZu7SahBbJlMCEf//eEAAAQ1EzGHtMx6Y6l4wRwTXdgt6J71A9wDZ4jvKqlhKF0UonFFqfAAEyNQcUCmvFfwlDlMbaMCpI7HcRwmGkX1luzZAxUo1O/DhGe59sApEOYwKettnbSjUyePoMKiNk2QC3cjGM6ihB13IQAAADpBn9lFFSwj/wAAF0xDzbOI9Qvyx+K5CbcEoOOE9JDak2pLrD7tdKnbxC1MaCs24rmhkab0PB4YgtG9AAAAKQGf+HRH/wAADXjSP6K8RKUMYkW3Cf2IOtjiiMhjeoy2JCFalVPHj0b1AAAALAGf+mpH/wAAJL2DgcrxRZZSACE0oJKHB0zctHUxIlUeRa7gCZpiPl9Xd1ICAAAAkEGb/0moQWyZTAhH//3hAAAEM1vAat0EUc3CFHjn03P1Q3D4UJr56EA/o3rKVvODooPQsv88uieEag7qf/Ehyh/NvEujmGFSBJQqlMgdhaoGdeFtnAEKoBwG5khXUzsgbhDOMPie+D767bQWBkwb2yQH7CfExijcjKwpRpUOHW06Z4BjO5M3TUIPlWAqmCg76QAAADlBnh1FFSwj/wAAF0NHtw4AmnluwXeeydRg5Wb5ClUnpIRP1g914O6jlWm/72QZsfkVZhInODXJu2cAAAAsAZ48dEf/AAAkwxdfPhuB/sFJVCBCV8Yv5UWGoN8RNYNbJTUAH2AFmcU+duAAAAAtAZ4+akf/AAAkvwQlkiTIOYGq0Frk64e35sUx4jG99OHVt5DaGF3j+gRMrHbgAAAAaUGaI0moQWyZTAhH//3hAAAEM0kb6SAg1lbKDsqlKT/FY0so1BPauA3FmER+v1nT0Wyo35nkPIGMb0fNs4aaEJ8ZMDsATQQSEZgVznMzVTj/90mqdQXa/L5+OPBmUuBKYnxZvW6N7AxJQQAAAEFBnkFFFSwj/wAAF0tbbqbmff30RxQNfivYGc/apYDcmnxEavjGyjKihN6xMljIQF2ym/G8FYQHZyBDuTIwR7KxQAAAACwBnmB0R/8AACTAmd3pXpFk3cyrKGPU97F05r/ptEi81MS2m+KyoGCjKf/gwQAAACsBnmJqR/8AACS9g4HJdE/ys7PktLDC+G/P4qzcwqAPx8zdJhPHOnNJZD5gAAAAckGaZ0moQWyZTAhH//3hAAAENLaOOhgZawwdOV5FXyPSS0vA0Urb32BHE/bdzhm044QFHGJRVLBbk7Bn5WwGStPSLXrRw2/WWREkXQERbv9wbHo3tXXUHAcU3IhdwtSMSOO8lFZKmYcgO6j5quMvrYOjgQAAAENBnoVFFSwj/wAAFzpKcjbOG597ePJzt/UEQEI3u/mgotm/x+5Vxjro8w1DVqtVIWTK1h+o+QEYX6z1kmOvBnz7vXW1AAAAJwGepHRH/wAAJL/vjPlbFyWOfkcTwJhFT2UAAwPCOoEKV9bdPsEKVQAAACcBnqZqR/8AACSuXmkeA8g6gjPvB/ZdHZ5BPZ/WlODobLfqG6Ng2YEAAABsQZqrSahBbJlMCEf//eEAAARUtxchvW87Z4BOx1HKYsuzhK2w+vFVBnLtbQAoPmPONmS/St5s3oBy9kE0jPkr33sFR3zLxL5n7PAeb6i5rdfN69EOjdDK+vx0PDpspzKJVEIcySqZq2K93KbAAAAAKEGeyUUVLCP/AAAX6XxO9hU72IsfQ2vIFQHmAKrwOKdnt7MNYVK2flgAAAApAZ7odEf/AAAkqU1Btck6bb3oaF9tciqM5sSuvLahCONTi4r2IbqiOvEAAAAnAZ7qakf/AAAlrVtz3u2zlcN5pCSi3XSopgsP90qRsCyq9zehJDOCAAAAdkGa7kmoQWyZTAhH//3hAAAEVRS4g21iAr77+sUuXmBdhnBsw1wIcn3xjDeyOLr3ZkAfM2bJ6LEuWPT6/cv2H8nmdYDQ03SoYoFJTWk1YyLWsYW8A14x6vGHNokQMzQWQ2l5IufJurzRHccnHP4hvNDdaWUxm5gAAAAuQZ8MRRUsI/8AABfoypRklgp+bwABx1bjUWJ1vHawmspQTgiW1/mGIpNLH0QBFwAAACMBny1qR/8AACW9Jr9UgubJwTuSIxGu+2pihrMl39pqQiZFgQAAAKFBmzBJqEFsmUwUTCP//eEAAARTW8Cb+FB85eigCPlHewRgR6jYan53XqGIhrSsOacnGtVDCPgQu5LE8uqIjbfSx8zCsQrrD1OJkKP41Bm0aeLK9Zok3kQEcNAkfExX2z+ITNx92ImPI2IwL40WjwxudgVYo6IeNIyW2yvWU17cc1m0cGPdPhcX6I/BtY696HQoTEpzSQkD5ZYlBM0mQBAUwQAAAEYBn09qR/8AACWuXjOCIYjtbpdQMQfOx8LdGPgsewPZrkpU1ALRZMJdymO6UZJVOmCMpGWW4/Y400+ukAAnYmu4vQyT+QWAAAAAmEGbVEnhClJlMCEf/eEAAARWQu6CrULANRDu1gZBZzGSss6rUriKwXnT1TV8hirfC7OoKp6tXABPTphArqq7WOR9lKw3eSS9RZWin/rh2s2YQFHm/U5TXtViMxbqMrOVGTUwMbuiPFSaRsPrEAO1Lfnv8EELONd+whJV0Cz/sBS/r97A6kjXx2ACb63/RJlaopP+QTwmArqAAAAAQkGfckU0TCP/AAAYiYLNtmp1hHt6nXnwJ4JKMhOscUBsrfc7xHBxikajCZtM6pqty1lXOAecBX06zVWANqAjb0EQIQAAACwBn5F0R/8AACW/72ofayNcRJBi5iPB9F0BDLJ5lHbnnlZ0Y426T/WU7yqswAAAADYBn5NqR/8AACa+9HEfR1AkyCoOqGTM893Q9qWS5g2G+qFB6qCSuKApUH9woogA8RLiIC5Zmz4AAACdQZuYSahBaJlMCEf//eEAAARzUEIugIQgADgZycPDsUQo+bFJiS8r9kDNdCy16J1cK9sWu8b2KpbricWqmuO16PjggKoES+KnIQHQ/JQoP5y0ZhZByzUa2Coihf0jmHkhtjalZDJuRcs6wQiW+/szU4X53mY8B0FeDd7BUVgimI1TLJhkpRNE8u2EfNVIYiYcEpL2QneohzOFo0aMgQAAADtBn7ZFESwj/wAAGH904q+XswnOfpgt8O6iOggTKIbtw+EHMX3HETiUYnqONGrGI4jJqqlVMaulABb2gAAAADcBn9V0R/8AACbAmRm7SSLEBFMTY7LM7ZlzRTKo6NTPI4fzhXE+zJpwD0OHFOmRn1LX63ns89txAAAAIwGf12pH/wAAJr0mv1SC5snBO5G9yBeGQmMTrQgbFyOoAs+BAAAAUUGb3EmoQWyZTAhH//3hAAAEdLe6DoYGYMvjWEmkAAaQWakOLy52kt8IUReE0IOhn0Al0d5Um1X07pRtA8MD18xVS/7HMmkf2sVAlRokMEDsHAAAAClBn/pFFSwj/wAAGH91Ppz9EkXUmvhfsmsDCmdLEepPu3dltjLUf+XHuQAAADIBnhl0R/8AACapTL8vvLmN83JYicstFR2imJ0r19wcZD5cGS6hGaPLuYQyEarPfHUttAAAACsBnhtqR/8AACatXI/jytAds4mWT4Gg41GEPCpz4OGNWFYZiQKKp140F2VBAAAAfkGaHkmoQWyZTBRMI//94QAABJNL5XrYMTID9AHbe2LWp1a58+sAPcVdk2NcR9vcRMW5RplmBv6aORMFHfiaYssrvZFlF5oZukxMSByuLq+AKfI1aXkzIefAPF/NbuHQHLNujz9i5NAtP9OVgXh1cWdNqzogCArqAIX8UTxKgQAAACYBnj1qR/8AACfEGZfJCGDs828SfRWUEnGBSqO8pjz5zaTau2pXuAAAAHVBmiJJ4QpSZTAj//yEAAAR5IV6qnlQHBYFQhNhPLYMtdMK0MPXIXQBiKJJQdyw27zXLmy9z7/7nXG+bg30EfVH/xdzhJaBixs4L31JwmUuAf/Vutqz5u0Li4KcSSdbp4bERt0h38XTA+G14o2J7nRANDnrYBAAAAAuQZ5ARTRMI/8AABkodFtCg5eNPz+qrEMQUF7o0tugeJb3oktAkjN6ypVIV3jTgQAAACIBnn90R/8AACfanY1iHZxZRH6gdAzFuqOC2cwMObQWYVRgAAAAJwGeYWpH/wAAJ0Brg5Sy+Cj/XirfvNWLBJCU+d3ir8dTipliFLzlwQAAAHJBmmNJqEFomUwIR//94QAABJN0EyAZhZGPnAVTzCYXif0/DI0/xmU161K4u6LXqOQolKF9Ff7zSLiDW2b9vUfWKMNuGpqhEOkvU5WCdedGWZuXLI+9DsU6PBE412QOjAqDrTlkPESDq3MKPAaG6+DJgFkAAABmQZqHSeEKUmUwIR/94QAABLaM23Pay4gVA2SWcbmkqvQvDHFJMm4ijfKVx6OIbUP0xj+4GTzAKU2W+8PLxMVyqk9IPceXw64RZWN8uhVKhyQe15Bs1VK5AWi9i5mb5z91+qvkZdjXAAAASEGepUU0TCP/AAAZv3UdC2GaeoWxZLTRWIiLhpkGTPYRnTb64ajWwKMrGGUN6AcvzIIxwPEUsKQKdozPEfYXVWieXCoUSuBiwQAAACkBnsR0R/8AACj+MoqsTSRO1qUd9DkQxvTLpr/BPMZCOvM27lcX5GJi7QAAACEBnsZqR/8AACjkGTJw3zwwYl3y/eZxqZQxp77RHcPfVgUAAACOQZrLSahBaJlMCEf//eEAAATTVF9rAVqogPF9gkO/OZB2moUT3kEqOrRXiI05XNloG8Jn+7zuNi+PFeiaY/jcjEo3K99k0JnKWUEwb8Kh1TqVUHUdw5IWbiQJhcnGbBMqzo8j6L6x/35MLuU6n2JuHYpid2Diyh7UsfR+oj92WfadHAncIOCbTa1tT6Pw9AAAAEJBnulFESwj/wAAGmmC1y2aCArUGSPHITDJbdNJ4FADdA1gOT3RVpfnhds9Dot+IiMKPvhdnRyRbvmlQm29NqTqrhAAAAA/AZ8IdEf/AAAo+bXbOI2EwAJajZqXa5pXc3n3poNeFxEsRvDZjr5rY7cjcoJLTRFvLNbsdsqM1bvHGtBF3nY9AAAAKAGfCmpH/wAAKhlrffMemSWQtcHDWiIJ4AIKPwoUuTpHxvbXDAoaOEAAAACSQZsNSahBbJlMFEwj//3hAAAE1Ld4b6SAzcgZTlnhbLsAjQDC6zYyNcBB67LaYHzl1p4sxuWv5C5P0IHWy96UxrHjYqWQlFiZtDFgP24J9V7ZrMMxv9dwakVgnUShd4bkr3iF4FPW2az0f2Qqm0vzIZi71ceW1ZWoCfNvuwOfvVpy8D2+oDMUsc2VPEMnxYl2e5AAAAA5AZ8sakf/AAAqApyf9JUDu6Dr/Npmo5YZ/b8U5+alq+FpzXT4SCx4SCBiQf4x5h3bVyadUKdtU9mBAAAAVkGbMUnhClJlMCP//IQAABNRuFNsGEh0czhEgGO5wL8+VAHh+ELe+iLS3+8Ny43aRV5kl7wAODxofYhlr+uw9UHcy60TzYGnOtB7qkKvVuSMt5N1qUZ5AAAAOEGfT0U0TCP/AAAbCYLTrZoICrdgAG6JP6sQ21N4XWtXsnIe4ST9oqSkK76nUobjwo6IcacNjruBAAAAMwGfbnRH/wAAKhqc7Uldr2mBtE9VlM9spRIopZ12FdJkVjpHm/hddwD6b/v8cQCaCo2u4AAAADoBn3BqR/8AACs5gZFKqHkMtfybSsOJnAhw3wGKViDydHN1I/XPp278k4tQu7gcs3s5nL1+6pTHBsOAAAAAW0GbckmoQWiZTAhH//3hAAAE9X+V6oKUAoixogJPcAA1vl79RK4yuvhPzh88f4O0rxVIl2cDJxFDnroZ8mXICLh8fC3YpP/1b+H4MhRG1DaWxT7vhs9Biw3C2XEAAAB0QZuUSeEKUmUwURLCP/3hAAAE9zBtJdpfbH9znW6eOx29wANF6mTS0ujRePvYiBy09Mj3AKtVfthuqiFCFR0uS7Dv/4jCyzROqoIq1mtxnjKNrCUa90dmQUdsUQx/cZN8CayYb0p6YluLst7xjaoqah5kdIAAAAAqAZ+zakf/AAArIpyf9IaFainpvUjdECjeVOm6RVG99VFKq12WVCsfEnS2AAAAQ0Gbt0nhDomUwIR//eEAAAUZkl/phcQVpm67B3hogKZE2d4i2UU+TjPge01IV+uyEKri1OvhDK1GxLZIrKf+StTquxEAAABAQZ/VRRU8I/8AABupgr+2aCYuD0QABuhdlZAdgL3PoDHH3vPzVcYHzGdWvUW3gIE3Hys1sIXMhRUrkhunC8SjLAAAAC8Bn/ZqR/8AACxZbPuWJ+dMaNiwC/9qUpfMBDhuzZIoPkUTpTkJdfqMRi9KabMN/QAAAEJBm/lJqEFomUwU8I/94QAABRmODLzsD8qZT0lYSmj3+Zn05INxEOnnx2gjA/6K5NICD+HJ5DsmzM6UFkA7xYHP4NkAAAApAZ4Yakf/AAAsQpyf9IZLWgBLKdef38qohd7X39CwA2H1YGlm22Cg0Z8AAAB2QZodSeEKUmUwIR/94QAABT2U56i4Vak8NGpnXOnoM+lp6JQlDEVkNZAHEcTB6vLRx/keR5wJTZ3j2y9gIq7r8X6YZDloAc8dx0hrQUObsg2lgXENhYhgBd5+xWUszuLniWCxGYQCRFiKvAR4f2f8RjLS6blHqQAAAERBnjtFNEwj/wAAHFhyEVJgtmN/zzGnGTdVSHPUcc6vcLitG3l3sK9uu1yFWtpOo97nj0PdvLAsienKAEccTB6hkDWltAAAADgBnlp0R/8AACxZtes0g4PadXYxGxQMqnNhloHYAhBTc5stAWPW3UDACGu+rR+jdLvg5468grbtQQAAAC4BnlxqR/8AAC15a33zHhaAAAWxts0Q2y8RIFwGTyb8ru0OcRUHIofu5nVGiN1XAAAAW0GaX0moQWiZTBTwj/3hAAAFPY4MvW6OxRGmeerbYO5EKFoLarJVEqFeHdYl12fl6RivkM44Lb7feIqsomCFzHJuZC5iQYzk/krCTXVhG40JKxq1uQEMN9/T8Q4AAAAkAZ5+akf/AAAtYpyf9IY/NV/D6vP61X6TMH6cOVoXLi3HybKAAAAAUkGaY0nhClJlMCEf/eEAAAVhlXE27/H/Lyk9iQXQyZ/uEHA3bg8g6BxWvP6rNiQhfJ0cXwBwWt9vlJ9nNBn349jhZEauQeBoX0KKYS8awQGgugkAAABNQZ6BRTRMI/8AAB0IchFSXOlWUSPZyaRrHnKrK8qdcL4DCgBIyhPipnI4KSZkoxcVLGv0lLYrsgd+GHnEbUIsGcsS8jtymZW6e0+0rbgAAAAqAZ6gdEf/AAAtefyyrgMJ3GAALYrSwJ7cVLM92pBElb0TdeLGbtWbs3lxAAAAKQGeompH/wAALoKc2NKXqGVOabuaymckAMyRHkUtTPyP3ZvcS/XI6mWAAAAAWUGapkmoQWiZTAj//IQAABT0vKAiimui6Pd37+qElVbv4KROe6mbb0mtkGByjQT697KO/eeII7mPIALQAlfQnMq9ZoD/T6L4oIrx6Nf7CM7uQE0Z/SZJ02qlAAAAO0GexEURLCP/AAAc/H2SC2H+KPFdb0XygUQ7Z1LrNZ4JeVm9cf4BaxIrnZEHWexZcqKOZ18XJy9q/+thAAAAIgGe5WpH/wAALomAcNyRAUb711nJSspCZLwrYFgk+TNqM7UAAAffbW9vdgAAAGxtdmhkAAAAAAAAAAAAAAAAAAAD6AAACAwAAQAAAQAAAAAAAAAAAAAAAAEAAAAAAAAAAAAAAAAAAAABAAAAAAAAAAAAAAAAAABAAAAAAAAAAAAAAAAAAAAAAAAAAAAAAAAAAAAAAAAAAgAABwl0cmFrAAAAXHRraGQAAAADAAAAAAAAAAAAAAABAAAAAAAACAwAAAAAAAAAAAAAAAAAAAAAAAEAAAAAAAAAAAAAAAAAAAABAAAAAAAAAAAAAAAAAABAAAAAAlgAAAGQAAAAAAAkZWR0cwAAABxlbHN0AAAAAAAAAAEAAAgMAAACAAABAAAAAAaBbWRpYQAAACBtZGhkAAAAAAAAAAAAAAAAAAAyAAAAZwBVxAAAAAAALWhkbHIAAAAAAAAAAHZpZGUAAAAAAAAAAAAAAABWaWRlb0hhbmRsZXIAAAAGLG1pbmYAAAAUdm1oZAAAAAEAAAAAAAAAAAAAACRkaW5mAAAAHGRyZWYAAAAAAAAAAQAAAAx1cmwgAAAAAQAABexzdGJsAAAAsHN0c2QAAAAAAAAAAQAAAKBhdmMxAAAAAAAAAAEAAAAAAAAAAAAAAAAAAAAAAlgBkABIAAAASAAAAAAAAAABFUxhdmM2MC4zMS4xMDIgbGlieDI2NAAAAAAAAAAAAAAAGP//AAAANmF2Y0MBZAAf/+EAGWdkAB+s2UCYM+XhAAADAAEAAAMAZA8YMZYBAAZo6+PLIsD9+PgAAAAAFGJ0cnQAAAAAAACJbAAAiWwAAAAYc3R0cwAAAAAAAAABAAAAZwAAAQAAAAAUc3RzcwAAAAAAAAABAAAAAQAAAyhjdHRzAAAAAAAAAGMAAAABAAACAAAAAAEAAAUAAAAAAQAAAgAAAAABAAAAAAAAAAEAAAEAAAAAAQAABQAAAAABAAACAAAAAAEAAAAAAAAAAQAAAQAAAAABAAAFAAAAAAEAAAIAAAAAAQAAAAAAAAABAAABAAAAAAEAAAQAAAAAAgAAAQAAAAABAAAFAAAAAAEAAAIAAAAAAQAAAAAAAAABAAABAAAAAAEAAAUAAAAAAQAAAgAAAAABAAAAAAAAAAEAAAEAAAAAAQAABQAAAAABAAACAAAAAAEAAAAAAAAAAQAAAQAAAAABAAAFAAAAAAEAAAIAAAAAAQAAAAAAAAABAAABAAAAAAEAAAUAAAAAAQAAAgAAAAABAAAAAAAAAAEAAAEAAAAAAQAABQAAAAABAAACAAAAAAEAAAAAAAAAAQAAAQAAAAABAAAFAAAAAAEAAAIAAAAAAQAAAAAAAAABAAABAAAAAAEAAAQAAAAAAgAAAQAAAAABAAADAAAAAAEAAAEAAAAAAQAABQAAAAABAAACAAAAAAEAAAAAAAAAAQAAAQAAAAABAAAFAAAAAAEAAAIAAAAAAQAAAAAAAAABAAABAAAAAAEAAAUAAAAAAQAAAgAAAAABAAAAAAAAAAEAAAEAAAAAAQAAAwAAAAABAAABAAAAAAEAAAUAAAAAAQAAAgAAAAABAAAAAAAAAAEAAAEAAAAAAQAAAgAAAAABAAAFAAAAAAEAAAIAAAAAAQAAAAAAAAABAAABAAAAAAEAAAUAAAAAAQAAAgAAAAABAAAAAAAAAAEAAAEAAAAAAQAAAwAAAAABAAABAAAAAAEAAAUAAAAAAQAAAgAAAAABAAAAAAAAAAEAAAEAAAAAAQAAAgAAAAABAAADAAAAAAEAAAEAAAAAAQAABAAAAAACAAABAAAAAAEAAAMAAAAAAQAAAQAAAAABAAAFAAAAAAEAAAIAAAAAAQAAAAAAAAABAAABAAAAAAEAAAMAAAAAAQAAAQAAAAABAAAFAAAAAAEAAAIAAAAAAQAAAAAAAAABAAABAAAAAAEAAAQAAAAAAgAAAQAAAAAcc3RzYwAAAAAAAAABAAAAAQAAAGcAAAABAAABsHN0c3oAAAAAAAAAAAAAAGcAAAScAAABhgAAAE0AAAA8AAAAQQAAAKIAAAAoAAAAKgAAABcAAACYAAAAPQAAACUAAAAiAAAAPQAAACcAAAAlAAABAwAAAFYAAAA/AAAARQAAAMIAAAA6AAAAOQAAACAAAAB9AAAAPgAAAC0AAAAwAAAAlAAAAD0AAAAwAAAAMQAAAG0AAABFAAAAMAAAAC8AAAB2AAAARwAAACsAAAArAAAAcAAAACwAAAAtAAAAKwAAAHoAAAAyAAAAJwAAAKUAAABKAAAAnAAAAEYAAAAwAAAAOgAAAKEAAAA/AAAAOwAAACcAAABVAAAALQAAADYAAAAvAAAAggAAACoAAAB5AAAAMgAAACYAAAArAAAAdgAAAGoAAABMAAAALQAAACUAAACSAAAARgAAAEMAAAAsAAAAlgAAAD0AAABaAAAAPAAAADcAAAA+AAAAXwAAAHgAAAAuAAAARwAAAEQAAAAzAAAARgAAAC0AAAB6AAAASAAAADwAAAAyAAAAXwAAACgAAABWAAAAUQAAAC4AAAAtAAAAXQAAAD8AAAAmAAAAFHN0Y28AAAAAAAAAAQAAADAAAABidWR0YQAAAFptZXRhAAAAAAAAACFoZGxyAAAAAAAAAABtZGlyYXBwbAAAAAAAAAAAAAAAAC1pbHN0AAAAJal0b28AAAAdZGF0YQAAAAEAAAAATGF2ZjYwLjE2LjEwMA==\" type=\"video/mp4\">\n",
       " Your browser does not support the video tag.\n",
       " </video></div>"
      ],
      "text/plain": [
       "<IPython.core.display.HTML object>"
      ]
     },
     "metadata": {},
     "output_type": "display_data"
    },
    {
     "name": "stdout",
     "output_type": "stream",
     "text": [
      "test/ ex1-episode-400.mp4\n"
     ]
    },
    {
     "data": {
      "text/html": [
       "<div style=\"width: 200px; height: 100px;; border: 1px solid #FF5733;\"><video loop autoplay  width=\"200\"  height=\"100\">\n",
       " <source src=\"data:video/mp4;base64,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\" type=\"video/mp4\">\n",
       " Your browser does not support the video tag.\n",
       " </video></div>"
      ],
      "text/plain": [
       "<IPython.core.display.HTML object>"
      ]
     },
     "metadata": {},
     "output_type": "display_data"
    },
    {
     "name": "stdout",
     "output_type": "stream",
     "text": [
      "test/ ex1-episode-450.mp4\n"
     ]
    },
    {
     "data": {
      "text/html": [
       "<div style=\"width: 200px; height: 100px;; border: 1px solid #FF5733;\"><video loop autoplay  width=\"200\"  height=\"100\">\n",
       " <source src=\"data:video/mp4;base64,AAAAIGZ0eXBpc29tAAACAGlzb21pc28yYXZjMW1wNDEAAAAIZnJlZQAAIq1tZGF0AAACrwYF//+r3EXpvebZSLeWLNgg2SPu73gyNjQgLSBjb3JlIDE2NCByMzA5NSBiYWVlNDAwIC0gSC4yNjQvTVBFRy00IEFWQyBjb2RlYyAtIENvcHlsZWZ0IDIwMDMtMjAyMiAtIGh0dHA6Ly93d3cudmlkZW9sYW4ub3JnL3gyNjQuaHRtbCAtIG9wdGlvbnM6IGNhYmFjPTEgcmVmPTMgZGVibG9jaz0xOjA6MCBhbmFseXNlPTB4MzoweDExMyBtZT1oZXggc3VibWU9NyBwc3k9MSBwc3lfcmQ9MS4wMDowLjAwIG1peGVkX3JlZj0xIG1lX3JhbmdlPTE2IGNocm9tYV9tZT0xIHRyZWxsaXM9MSA4eDhkY3Q9MSBjcW09MCBkZWFkem9uZT0yMSwxMSBmYXN0X3Bza2lwPTEgY2hyb21hX3FwX29mZnNldD0tMiB0aHJlYWRzPTEyIGxvb2thaGVhZF90aHJlYWRzPTIgc2xpY2VkX3RocmVhZHM9MCBucj0wIGRlY2ltYXRlPTEgaW50ZXJsYWNlZD0wIGJsdXJheV9jb21wYXQ9MCBjb25zdHJhaW5lZF9pbnRyYT0wIGJmcmFtZXM9MyBiX3B5cmFtaWQ9MiBiX2FkYXB0PTEgYl9iaWFzPTAgZGlyZWN0PTEgd2VpZ2h0Yj0xIG9wZW5fZ29wPTAgd2VpZ2h0cD0yIGtleWludD0yNTAga2V5aW50X21pbj0yNSBzY2VuZWN1dD00MCBpbnRyYV9yZWZyZXNoPTAgcmNfbG9va2FoZWFkPTQwIHJjPWNyZiBtYnRyZWU9MSBjcmY9MjMuMCBxY29tcD0wLjYwIHFwbWluPTAgcXBtYXg9NjkgcXBzdGVwPTQgaXBfcmF0aW89MS40MCBhcT0xOjEuMDAAgAAAAidliIQAI//+9Sf4FNQS/Evha2Ht1Ld88KogtX5hJ1wAAAMAAAMAABG9ae0VKcQe+cAAAEMADgB9BlB5iJirFQL7iwMnSYAQ+atd/mSrkj6WlVadHcEEXzTB0ZueUV0g/CcrtIKcwPr3WDjoerEAFhHFLqiFD1tx7VrMtvmKQDlyfL/0VfZ0KqzdW8+ORA2FWvzB8sx/IYA3ktp1vAkSnpXsefvIdnx41X3yz/LTrjg1AHj39llSumse6AYja6WIFo1fKCA5EVLIHj+NGFLhTPwmpFVrbmdbkgmC9YDv8gf1PvsUEgFhf1zjAuaMrhboLZJa163OBts0vSpJOfahZeAmrELbzY+6SwWEAPw7PDOKilwu4o44SBl993CZ6fHOi2DOma1QpBXtRoJJhNsJAII+eD25crIiqREFY8/13KkfmKgdc0Pt7iEBcO/nk3UijkBMnLV420OBEzPi5ro3HNyQ9cnoqdri04eAD/nLZ0fhV6yX77L9czUSYno+i0imgSG04AAAAwEQd6jlzv/782hEkf4HYCZXhk2WzjzTzhuN1cPnGsecc9V0qkhaKTySLSRnuLAv3kxN9A/lKl+hBa8G7zpCsoATbfXU+xc9t3OlAuRH2xbasQC8Nn1M1dU9pC9GzTzYLooVxKdr9DqMluxgO+3K4gAAJNE7y+xHjvBVWGWPIEMrEd4CjCPh+OSyRZK1sy9GIkSAAWrS/9B5QAAAAwAAAwABsQAAAcJBmiNsQr/+OEAAAX/1Ilrdb6+LdylcBCMWP6X43idaXubBmHmrhcCMdTzIN6IcWDiX5uiF8paPz0SkYj33+BKIq1kKRzadYtnsC28s3DB08SvUb/mYRJr9Hk38Wt/kqct22eRnNIRou/uB4fj+V48u6XKUxorxnpp8whYIQ+yW5m4Z4Zffe3mnh4gjJPlJ7s+hxZBPvf7sBWwE2jbItSg9yB28ge5OYYBh8jBlZasj3wY4aOtGl3wnaEnHQ9ok4RMxRhvZeJYm+DWwLYj75SxUhjbivDS60AguNvl16FMSBm828YhAaoDi/MtvG707DL4mrJIW+XzsdyfthGy4Bc5udrp0eCUlPzdsshQU4DrR6Awc2wdMqPYdDKb/ow2oV4SM7XmSuJHv7wC2XaclybB0pFY1uWB9nLntc6Srqoqya54RcKm87a//BlTTsBcxKU6278IYhRbuV8zzbtLSZ+K/VI51gZJJ7naDh6ubZOBZiWUiV/mYIQ4QU1AfKY404nSA2EkdJOBGSSBLMQeLLtxOdOgALX2S88CD3mPv32LGdy3tMfO8fwKvBN3Cj9wyw3tje1t/r953sqYZVT0W4BxIhMwAAABGQZ5BeIR/AAAfD+lwExzoqg/VoCPk1r7kL9ngaXsEMQA2Ie+0Jqh/nLBcSvN2jJ3zurBn9ADPW3v9be9lwLug6xjdnyALaQAAAC8BnmJqR/8AACOyPL9+owxW+T8PjlZHvxT6+bO0CLqcv1v0WpBOzcthNRMpNvCEHAAAAGRBmmdJqEFomUwIT//98QAAAwD++mpZlPAI8e9M5P32LpbLd1jOqhsSaearNF8CEMdtrIJ0CCKX2ENmHuJZ83GUdRRAupwFlBLfmWsYlxb0+EmWRTvJxXx5flixy0M0X9EkhbIjAAAANUGehUURLCP/AAAIsUsppewha6qBCkbO3BCj4j3b3mE+hZRW0Uwr9UamklhZxfSTubiY8yLbAAAAHgGepHRH/wAADc4F4AwNBsQpZcKT0t6GuKuw5ZwpIQAAAB8BnqZqR/8AAA3Un3jBw/+yjFdiBXECeeYiH6yYN3IjAAAAX0Gaq0moQWyZTAhP//3xAAADAP76aavoOnR1HljGchAQQrrZYD6OX7yyL5/YqUGWI1VUdv/2cAgc1gJhz+e/7oxdpDWHyhkCNcqqL1Xwib03uJ+pVbiRt630iUt3KcZgAAAAIEGeyUUVLCP/AAAIrAAXXFAxBp9EozfquYkise35NJuAAAAAEwGe6HRH/wAADc4UQzt+blp26oEAAAAbAZ7qakf/AAANhJ2rYyZnhKqzst/9JltAiEbcAAAAgUGa70moQWyZTAhP//3xAAADAqC0PHPjwCFQnI1LU5bXAaO4RtAdQ3YyIqMHbArqA9ezXxZRwP3USbnUEAbSsSXKsG47mpEb+I+hVkx83IFrgBAM0pObTHGOPxYgNzJXvfm5Tujc/Xu56E8NevthIBo6JRXQMhgTRv7869ZTFYW97wAAACpBnw1FFSwj/wAAFrxObR3zeltOoQF77lgBOR4Z7m8P+WGBe4EsJNhJWLEAAAAbAZ8sdEf/AAAN1g1PEcom+RjpFWXO74vR/Vg5AAAAPgGfLmpH/wAAI7I8yQ6QCigmCR03C1KgAlNdGWg/YkywyuKZyE67k1SzUaS/ZiVT1FTEUh8mEyr6Pt5iaq2hAAAAYEGbM0moQWyZTAhP//3xAAADAp8CxIATpvpHvwB8mOIG9iPIFjOPwuG+s6KHLvFfUERlYbQBzxgj/CZP+bmzZ9Nn1fqcoNbu8eSknVApppeNArEwxyB3e70+MFTM6uoHUAAAACdBn1FFFSwj/wAAF1CcHV+dKGgCWU4n/a8D3B1pI3m/oBIPoMhSk+AAAAAWAZ9wdEf/AAANzifbe25oQkc0AN39sQAAACIBn3JqR/8AACOyPL9zia5/nThWCqm1Le07BKs52UlB8xGAAAAAZ0Gbd0moQWyZTAhP//3xAAADArXJ9t37dlpuFZid1QAJod9rrcT9w3i3Jujm2KmQrPAWLkbRgKRrNq2ju1tyksXLdn9g9gYS1lJlxN1n51Y/DKJaRmlunqfFNqaS9rA7VlRhf2mqIlgAAAAuQZ+VRRUsI/8AAAixU7zoUXVMbFk4dgiaX5bKfM+Z8KFG8FoODuLOOZHQc4+k+QAAACMBn7R0R/8AAA3OJ9uNG5CEvIbvEYbIgtOH9kUQ2qh4BL/m4AAAADMBn7ZqR/8AAA3UrpxE9E3voLkad+fUPU+80anuEE7J2V9LRqrYFiq1+S9YtwD40gimwcEAAABlQZu7SahBbJlMCEf//eEAAAQzP7awasMsokhIL90Nj7SX9lUGbtJTPClj9p4Skax8vnPsXdX5o6a/6P/2mrYRe3COpYbINsVDHzzE7R3xAgpdCPRL/kQajcQto5K9b/cJj6dj0JMAAAAyQZ/ZRRUsI/8AABdMPMNhKQvxHlSdMvMXvFBbdOmTAXSzAzK03loEUiAnVOZdqg+/qWUAAAAxAZ/4dEf/AAAjrEJULUry0pV63tvjpSCIJw3izf6wROGbXQIWwAP29RxFc8jPTXPllQAAACkBn/pqR/8AACSuXjOBv7cI/zkJuPR0VhFF3ufRozJvL0ghtESKF50ZBgAAAHtBm/9JqEFsmUwIR//94QAABDS0jIb3B7Q6w+57lAITiLB+WTh20Sk3PErcTgdTB2gqM9OuQH2pS3Gkz8JpNX+r8zAgji/WPi+Qr6F+RmO/T2zXCufWE72cDiAgRCMajOMrgPkhg1HmDIwxxNSfQcZGhjVa8YoQ8QJhsUEAAAAxQZ4dRRUsI/8AABdDR7cN/84kdrjrETuWr3HLApg6VQuchyXHDRKvP6WHpGyfRomCwQAAACsBnjx0R/8AACTDF2iuCneA9l9B388FJ5bucu8U4cYaLb+WpQf8WKFQsHZgAAAAHwGePmpH/wAAJLHMCW+pb7SAXfd+MMoKn1n3wHFnLFgAAACLQZojSahBbJlMCEf//eEAAAQzSDLf6Vn8DM0Iv+W41BJFqHL2RMiWUxvhZzaWVNON92LAzahsJxqezqw+AtmoSabqVwlycOlR2OcPNdeC0nVVQTIDNv/ikPHSKI/Qtq4P9L3/tH5ZnvpTagZ3jQZBos1aNT9cebXerJOvHgj2c3ms8aRyx+o1VH4a4QAAACtBnkFFFSwj/wAAF0Kr6LQ808GL5xgypaIIJNv2YdpbP8mM3gSl/2oxWaVbAAAAOwGeYHRH/wAAJMCZ3emEG94cGDkfTKaD1bkxqAKs19k9UbRyjyLZeoc/i4Pvd4/JMigBX85FrPUyxMalAAAAIwGeYmpH/wAAJK5eM4F5Q7PNzR/LlNc5xTB93xDjapB5yOzcAAAAcEGaZ0moQWyZTAhH//3hAAAEMz+jp/ofRYnNRS6Jb+ayWv7kyRER9Xundn0IkF/PahGCOv2L47LLZDPUOZCpaySG+Q+HUE0k/KlBMw/gf28r0dNxdvdOMoDPgtYHOtNFHCSJtSN37Hvl8maKa89+0qEAAAAsQZ6FRRUsI/8AABdLinWI0bj9OZ310pMlN4cmuyEFhKdLmJUeUnpwq149ioEAAAAuAZ6kdEf/AAAkwvB6xdGkeX3DQVA3QZ5Nn4O8afQ/Tdx+sYnwHEKD0/GGVNrFgQAAACYBnqZqR/8AACSuXjOBeUOzzc0fzBtGzA++nxhf5x2ul4zopw1qIwAAAHlBmqtJqEFsmUwIT//98QAAAwKw7R6P9ae3ziq/fJfclXH5wmlzI2Uhn7P29bRL8O8Y2eBf73uD8FY8bBj9E5lbd6CpdlNrRi9aM1FWiaJnMC7+cTrK4H67xwF/EVLnJU8QulcnD2oejvb7jCWhRI+4UKNUzKsjYIkfAAAAJ0GeyUUVLCP/AAAXQqwvU6aZPfpTH0IoPZH0EAMVg1MIGU7vpo/tgAAAADMBnuh0R/8AACTAmTIvHQ6Cxc5lUgCRtEaWomeF6aW647KqkuihHQphFeTPvsljIpedqVEAAAAwAZ7qakf/AAAkrl/7VAj//0NMimszvNTuji4issij3XWvZQTE1HH9B1rGr/bXQ5KbAAAARkGa70moQWyZTAhH//3hAAAEU04MvW6O3PyIcRPebkwumNoMICZtH/rYo2XkRbouM5qVYBXxbI37yrEL4pyuno5XBvspBKAAAAApQZ8NRRUsI/8AABffQ9Q4C5HkqmZtc0x/XGSsfJio+NCuWrbkzqKutL0AAAAtAZ8sdEf/AAAlqepOOT6YQCKAEl5D4yLKi8rd5W64/HDx75pB2WSLNiOOfiptAAAAOAGfLmpH/wAAJa1bw4lURziejGiIuNevjFGAUQNtWWdAWlbSYXELQ29uZs8b1tCeI2+84ItfYymxAAAAfUGbM0moQWyZTAhP//3xAAADAsLwBfa/UjFHbHanXuQqbLPUiLYBkDeUgCPj2i1fL4lAI5UleRtT+1ahsTrtx/u12F3q0YO2kRGa8G4ZVXEOua0y5YI0TmmPbfw79QAWqYeychyAgwDF/ePmo99fHd/TuZpyYWkNDFD7E/0YAAAAN0GfUUUVLCP/AAAX30O9C15p5nLL0tn56CG1rcogTXsmDJ2TXdg0wJxHS2yyxxWxFIoec8HmnfMAAAApAZ9wdEf/AAAlwJnd6V6RZRH8Zg6xJ7XcEp7jU7PcZC5Wx3raoMn2DgkAAAA0AZ9yakf/AAAlrVvDiRwzEFxYmPm4RBoGxbjUIg7FMu+OrF0FqcaAuhXbH7M0x1r6SEpuNgAAAJRBm3dJqEFsmUwIR//94QAABHNQbYsDFTVANQOPhfZip/i8clAUAchmS07Q0vAh7HyZhMTAHReD86hjsb7nPoYwBLeDZJo+Tpi6QyKJS4olVNVygGGlRE5GjFrzRgNtqtlzzTVNzYKhXlnU2LqlQqCrzyyPlO+d84UgdTwvBgQGRCw599eZcN8KW8pAXOInFzG29GfAAAAALkGflUUVLCP/AAAYiYK/tmgmK7VdOfpqYKuwC92kHaLrijhIimMj8vn7b7QmdZ8AAAAmAZ+0dEf/AAAlv++UzT0mqkHeQnKtOAtCPM9RuHi32HhLoQ9hQIAAAABJAZ+2akf/AAAmvwGTUShXaAyxF+e3e3ggMJml0x1deUsA4K+G+Zjm1ZKJGFAk54k0YfB9cXW8Zb6gBKHGI0lEN8OI2PCHn4plnwAAAJJBm7tJqEFsmUwIR//94QAABHUU+kuAVI/0vA8eixkQPV7bk1Z2u8FfjAEHlGYNfAEHz4xi2Kp+frnzXu8aLEV7fnGQat/9ErZGlvN9Bveozus0J7eFNX9ulzyWopse16eGtuaOnShmTajqh0KACTmr1Vdz8HMrmOetwP5azkBUjsfNhK7X2+GUzppP8WmCsd5ThQAAAEdBn9lFFSwj/wAAGIh0bB/HniPUSnFK4aOWEmAHI457B/zRCn9jPXyxvvFW6rsfEX46Nn5sQ5tmJg6i6HmpNptzQ/85Qgbo7QAAADwBn/h0R/8AACa/797wxVeaD85wjAH0cMgGkooLK2JNqDKw99asvObhCH70QgXH3O5iKlMALRrwIl0UO0EAAAAoAZ/6akf/AAAmvSZbrIPJGHIbBAVvUlhkV2RhVGqH1TFdryLq5jR2gAAAAH1Bm/5JqEFsmUwIR//94QAABJNQNL94UHhonqivN5JE7nwebj2aNL/Fv/o6jn/n6XAeqkATfOL70jz/vQAiyNTUj5VP0O1q6rmDF3CB0fQaT22/xyvTMXmjcoNYE8Gkv2Azdd6gweKchD06soHIR1zlFII3MPeqnshQBOtYYQAAAERBnhxFFSwj/wAAGSmC7YVQTOETycUSyAzVWfXraj2Dg1DmSeu5eeYh6v177Gl0gtNOUxm9iFG6PoT7QBuE3UKLQ8TrkwAAADEBnj1qR/8AACfZgZFKW5VYRTix+OdvnZO4+5MymLAkLQ8qInBpoiZY6blskuvs/RAgAAAAY0GaIkmoQWyZTAj//IQAABHRt7d7A+01Pwa/aTlOHKmoTboD+u5JQfJKTeYn0hn09RA0c00Rry7VTPqwo+ayfp6ugtDuPskP+XwB9w0o/OMBb/yKesgY4t7xdrw4SgHeMKiKYAAAADBBnkBFFSwj/wAAGSh0W0KGJtStptB5HzQiTaJIRFm3jwXRowIWUSaVExKtbbWtRYEAAAArAZ5/dEf/AAAn2p2NYhxz+OqcHRV/7ejmnmT2Rtmy7AdIxRccDxi1K8CiwAAAAC0BnmFqR/8AACfEGTJwcJk/mceXhxFKLVEHhAC3oIzdYM1iUljUYCZwcVnRO4EAAABTQZpjSahBbJlMCEf//eEAAASTP6Oh3gFVwbfxOudQOI6LsOa38AQAd/sA334PAncsFIreEbV4p9DkOUosiY4wzZpvSLn4C1clAIZ4x4SJaWQ15yQAAABCQZqHSeEKUmUwI//8hAAAElG3t3sEUYqL4Rn+hBO9tPSob84ZK8BAUX96g8QRm9GlwaAKyXwb0d204ViJIsAmv4FXAAAAREGepUU0TCP/AAAZv5INZaeIZwQGVMgLdiaPMQOfoAR8Uz7aZEQ69hkgNPD8+/p37bPQxAmznH2SzhDsc1p/LyEqhagtAAAAMwGexHRH/wAAKN+eku7w0kVCyAIu2AZR3j+3b/7Qy2qfca/CY4k3CcxH1Vkk0MCLGGOs7wAAACcBnsZqR/8AACjinJ/0hj81YLRZTXIPAroJz4nK0tPDfggxLcG9BtEAAABsQZrISahBaJlMCP/8hAAAEljPlLiYBp/rJFNlWtwwB9qbuRW3L1YmXymtew316zvOrm6BIH/5Rnd6YAdZ0ZqmcG8DE4wbNqFr0ODhY5EfVxh6/fl66EFeKdpYNqVIvjpOE8vcsQ5uI3lA8g/AAAAAbUGa6UnhClJlMCEf/eEAAASzP6OhgZzfQ0+q4AK2K2dHhsDiXRzi1EQNcOzbe77VoY5k+At0qwFmCAKTFvak51pgYKlAY4by+3U42mE8kJuJQ4CwqAY8a7tfXe2vxi69tSJq1oawVYowlTvv/ZAAAABjQZsMSeEOiZTAhH/94QAABNS3uckgDj+sg39eJy4iNoAGj+mFRa2089N1xxy35QeKzwu/NGr/LmZx/1JGftAzwAMtkfuXWx1d3eadbNkfgAt8u7ZlagoTFINT8eBsMi5yOyudAAAAPEGfKkURPCP/AAAaaGMkzq6V68b9pWYSYRLNmC2GuOkaG8XYIo0T+lLDt+H5BxI9A4ReKPYbyLJtjQ44QAAAAC4Bn0tqR/8AACoCnJ/0jkSWfNwWaqSN39MZuAZ1SrcRHnMeb3MxiGmvTQXQNmmUAAAAXEGbTkmoQWiZTBTwj/3hAAAE01A46GBmJpbX/FjenS86kghI7DXIBNTrNRHYcKsSdkZsw7XPuzZ9EsiYd1pAF558psIC+FdrsjUwOw1PkHDL3kQ5mEo4bRVLchYVAAAAMgGfbWpH/wAAKhbA6+ZHcqJmDBWPgOpEXpIOHM//rRE4HFOjkSmAe1d//gU5/2byVQyhAAAAo0GbcUnhClJlMCP//IQAABNRuUeqyxX1s2ezcScgBP/155Gfz/UglhibJk0/CFGP6v8q/d6QZdhnVwTRtNG2cQlIPbwteYLxsRQdm9I7GiKKhmbyZ7olAJ37sRhIwk6gRtOiVYxK5+vpyM9xMnVTENyWIACQPX04TT4qOC+xx2Qhssdv81llPA25H1lTQn+pU43lRLvL3HilNxnyoqZxL8I0/Q0AAABRQZ+PRTRMI/8AABsIdFsWfCfaNnIMamgRf+kkhx5cy32mTJHH8lB9VYgwo5Bjf/LSW6SzLZWb73rGXnolGVGPSw4jwmKXTObLQdegdvaZVgcIAAAANwGfsGpH/wAAKzbBJgBSBr4taiIhJZYd9N6llljLfdf+CaQnWOhJJfjbWmgPTVUw6hjWXM6FuXAAAABPQZuySahBaJlMCP/8hAAAE1iqoFjxyoCy0hKY2oOXtdQz1lpMMrPTbz/VMEYYEP0NZKvkLurzLZsUCUIKi8z9tiQu3Wx4oq0PDAGTpqlNjQAAAHFBm9NJ4QpSZTAhH/3hAAAFGX+V6oKWZVU28TZGE/pf5DUqeEhpcj3RM/5sv3FXULZdbclO0h+AGRPOHfWm7hVwKIWrABP0dwPMXQJWydmxKPm6Rl5FLfSEdBEtB88RhTb7CAV79+MtHkXYXgmEyA0BoAAAAHlBm/VJ4Q6JlMFNEx///IQAABPJoHr++gAQqnfYUm7NbHg7CDwQhvReZCu+FfJ8eQ0Rxq+iYqS38+rkEYOLFaxlU/L0rcz5Glm5za7ET9+TsmvVPMJ5RDvdyvCq2YzfIsnvg7aS3VIdoTnJKwYhMW6GDqJmj1CPuVwgAAAAKQGeFGpH/wAALEMOH/SGPzVhzbbigfPed9H29sVvFL461E5gT7fOBnpxAAAAckGaFknhDyZTAhH//eEAAAUZiEOhgZ/zrl/ie8sUly8FAeuQC1ifo66XVsEVVIdv46Vt1mzkm1achrG65x+mcDADpRvbWd9yytY4MEpiU8y7D665k7K5o6ujK5+NfeCAHDd0cPG8L1zUeMowuvIExRVhwAAAAEtBmjlJ4Q8mUwI///yEAAAUZMthQTodGvvOtCbGmtKtthPNq4L9qhcfygaAF/Sa7omL+XcN2AOcuSQAI/caUUihPn4WaM85OepvVLcAAAA1QZ5XRRE8I/8AABxW946VjPDtDs9qq7PZ9/p5o9gXdKdK2lrgIQ85Q8gzVspwhWEGb/Gbh/EAAAAgAZ54akf/AAAtYw4f9IY/NWTy7x1HigWbiKrFHP8p+fAAAAA9QZp6SahBaJlMCP/8hAAAFGSBfflQJFJIrKKAF6W609wMjGo3OYqYm6QygINLVjJtFU9zMvFhtOMvow5ERQAAAFFBmptJ4QpSZTAhH/3hAAAFYYwJWj60AVO5F6AIqNORaHa+Nik03QCthvziBssxZeE1a2at1HAyKnvE+1pZPZBDkTHbVHrBbqGMpN3e4sTVM7AAAABxQZq9SeEOiZTBTRMI//3hAAAFYZNJYFW11Ubp4iqvJ+gA2WXil4XWd5R9IzN7rHi7QUDR1mbsCovmoxeYt+Bs5ChDYeURsLLs6/TcTTQqnrbUEzNmNnfS7Bim+s7D/c1g3v2NQXqOD5UDbB+XCiuqTr0AAAAyAZ7cakf/AAAulsDr5kHqdCwhswtvaQOSEN495/TFwwcEi1YmVjhA7+clYYymyHJkbpEAAACAQZrASeEPJlMCP//8hAAAFZDvecPAGr2koZdDkFehpnvsDU7W5Js/bv/HQfGo9oTzgFUerWDO3UDPmBg1xyRt/7f+i5GC1nToEMZUK7wA49LmHd0mODPFfPFgtbJZkqCbkAT52XGPLvfj62mNNhF9kFuRFi+AonCwnA3fsWtbAnAAAABAQZ7+RRE8I/8AAB24a6y+jAIGPdy7kGkC90Env36+HP4EGxFHYNmR7U8h259cr7Nj6gUW/yeo1LBYjr7biLMggAAAADYBnx9qR/8AAC/PQEqbaVkq0Psz1J0SXI/6oYohXLFqmGEX1gTNHP20THyqAmEzTgQk3HwDkVsAAABFQZsBSahBaJlMCEf//eEAAAWFi+joYGWxvHOoABVcFIZUSlRh6sTtdpa8qDSp0KZ2g/qgGw54PbgIHETJHVM2LVMWRxMxAAAAQkGbJEnhClJlMCEf/eEAAAWploY6GBmpg+z312qwpPMzaqOjJbQJ9ziSt0ejl+4QgCiUSb1ACvCn0PZpcv412RGZgQAAAElBn0JFNEx/AAAxF8l9qakhqzo+g0rnW6S7FiShNC3FBPmvg/D4uILmK2jqKyF4cV1kILqHBAvOqACxX81Zj7PuBfJt7skOVSWnAAAAOQGfY2pH/wAAMOZ9oUG5sAv0CkZcE8DqOs7V0VkDzU5Acp3dI5KSYsbJyZE1yKpYbGUsgQLBXi+kgQAAAFJBm2ZJqEFomUwU8f/8hAAAFqg6IAoNYGHTsZarqmP9C5jew5VaDWpc97Al1uLF+9sShgrm9L4CkoryswZ+JrvQoDHKHrgnDkUWX7cPz0nnLfKBAAAAIQGfhWpH/wAAMj7aMKkO6kxbKuTzLaOxtP90gHG7A26TgQAAB69tb292AAAAbG12aGQAAAAAAAAAAAAAAAAAAAPoAAAIDAABAAABAAAAAAAAAAAAAAAAAQAAAAAAAAAAAAAAAAAAAAEAAAAAAAAAAAAAAAAAAEAAAAAAAAAAAAAAAAAAAAAAAAAAAAAAAAAAAAAAAAACAAAG2XRyYWsAAABcdGtoZAAAAAMAAAAAAAAAAAAAAAEAAAAAAAAIDAAAAAAAAAAAAAAAAAAAAAAAAQAAAAAAAAAAAAAAAAAAAAEAAAAAAAAAAAAAAAAAAEAAAAACWAAAAZAAAAAAACRlZHRzAAAAHGVsc3QAAAAAAAAAAQAACAwAAAIAAAEAAAAABlFtZGlhAAAAIG1kaGQAAAAAAAAAAAAAAAAAADIAAABnAFXEAAAAAAAtaGRscgAAAAAAAAAAdmlkZQAAAAAAAAAAAAAAAFZpZGVvSGFuZGxlcgAAAAX8bWluZgAAABR2bWhkAAAAAQAAAAAAAAAAAAAAJGRpbmYAAAAcZHJlZgAAAAAAAAABAAAADHVybCAAAAABAAAFvHN0YmwAAACwc3RzZAAAAAAAAAABAAAAoGF2YzEAAAAAAAAAAQAAAAAAAAAAAAAAAAAAAAACWAGQAEgAAABIAAAAAAAAAAEVTGF2YzYwLjMxLjEwMiBsaWJ4MjY0AAAAAAAAAAAAAAAY//8AAAA2YXZjQwFkAB//4QAZZ2QAH6zZQJgz5eEAAAMAAQAAAwBkDxgxlgEABmjr48siwP34+AAAAAAUYnRydAAAAAAAAIaKAACGigAAABhzdHRzAAAAAAAAAAEAAABnAAABAAAAABRzdHNzAAAAAAAAAAEAAAABAAAC+GN0dHMAAAAAAAAAXQAAAAEAAAIAAAAAAQAABAAAAAACAAABAAAAAAEAAAUAAAAAAQAAAgAAAAABAAAAAAAAAAEAAAEAAAAAAQAABQAAAAABAAACAAAAAAEAAAAAAAAAAQAAAQAAAAABAAAFAAAAAAEAAAIAAAAAAQAAAAAAAAABAAABAAAAAAEAAAUAAAAAAQAAAgAAAAABAAAAAAAAAAEAAAEAAAAAAQAABQAAAAABAAACAAAAAAEAAAAAAAAAAQAAAQAAAAABAAAFAAAAAAEAAAIAAAAAAQAAAAAAAAABAAABAAAAAAEAAAUAAAAAAQAAAgAAAAABAAAAAAAAAAEAAAEAAAAAAQAABQAAAAABAAACAAAAAAEAAAAAAAAAAQAAAQAAAAABAAAFAAAAAAEAAAIAAAAAAQAAAAAAAAABAAABAAAAAAEAAAUAAAAAAQAAAgAAAAABAAAAAAAAAAEAAAEAAAAAAQAABQAAAAABAAACAAAAAAEAAAAAAAAAAQAAAQAAAAABAAAFAAAAAAEAAAIAAAAAAQAAAAAAAAABAAABAAAAAAEAAAUAAAAAAQAAAgAAAAABAAAAAAAAAAEAAAEAAAAAAQAABQAAAAABAAACAAAAAAEAAAAAAAAAAQAAAQAAAAABAAAEAAAAAAIAAAEAAAAAAQAABQAAAAABAAACAAAAAAEAAAAAAAAAAQAAAQAAAAABAAACAAAAAAEAAAUAAAAAAQAAAgAAAAABAAAAAAAAAAEAAAEAAAAAAgAAAgAAAAABAAAEAAAAAAIAAAEAAAAAAQAAAwAAAAABAAABAAAAAAEAAAQAAAAAAgAAAQAAAAACAAACAAAAAAEAAAMAAAAAAQAAAQAAAAABAAACAAAAAAEAAAQAAAAAAgAAAQAAAAACAAACAAAAAAEAAAMAAAAAAQAAAQAAAAABAAAEAAAAAAIAAAEAAAAAAQAAAgAAAAABAAAEAAAAAAIAAAEAAAAAAQAAAwAAAAABAAABAAAAABxzdHNjAAAAAAAAAAEAAAABAAAAZwAAAAEAAAGwc3RzegAAAAAAAAAAAAAAZwAABN4AAAHGAAAASgAAADMAAABoAAAAOQAAACIAAAAjAAAAYwAAACQAAAAXAAAAHwAAAIUAAAAuAAAAHwAAAEIAAABkAAAAKwAAABoAAAAmAAAAawAAADIAAAAnAAAANwAAAGkAAAA2AAAANQAAAC0AAAB/AAAANQAAAC8AAAAjAAAAjwAAAC8AAAA/AAAAJwAAAHQAAAAwAAAAMgAAACoAAAB9AAAAKwAAADcAAAA0AAAASgAAAC0AAAAxAAAAPAAAAIEAAAA7AAAALQAAADgAAACYAAAAMgAAACoAAABNAAAAlgAAAEsAAABAAAAALAAAAIEAAABIAAAANQAAAGcAAAA0AAAALwAAADEAAABXAAAARgAAAEgAAAA3AAAAKwAAAHAAAABxAAAAZwAAAEAAAAAyAAAAYAAAADYAAACnAAAAVQAAADsAAABTAAAAdQAAAH0AAAAtAAAAdgAAAE8AAAA5AAAAJAAAAEEAAABVAAAAdQAAADYAAACEAAAARAAAADoAAABJAAAARgAAAE0AAAA9AAAAVgAAACUAAAAUc3RjbwAAAAAAAAABAAAAMAAAAGJ1ZHRhAAAAWm1ldGEAAAAAAAAAIWhkbHIAAAAAAAAAAG1kaXJhcHBsAAAAAAAAAAAAAAAALWlsc3QAAAAlqXRvbwAAAB1kYXRhAAAAAQAAAABMYXZmNjAuMTYuMTAw\" type=\"video/mp4\">\n",
       " Your browser does not support the video tag.\n",
       " </video></div>"
      ],
      "text/plain": [
       "<IPython.core.display.HTML object>"
      ]
     },
     "metadata": {},
     "output_type": "display_data"
    },
    {
     "name": "stdout",
     "output_type": "stream",
     "text": [
      "test/ ex1-episode-500.mp4\n"
     ]
    },
    {
     "data": {
      "text/html": [
       "<div style=\"width: 200px; height: 100px;; border: 1px solid #FF5733;\"><video loop autoplay  width=\"200\"  height=\"100\">\n",
       " <source src=\"data:video/mp4;base64,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\" type=\"video/mp4\">\n",
       " Your browser does not support the video tag.\n",
       " </video></div>"
      ],
      "text/plain": [
       "<IPython.core.display.HTML object>"
      ]
     },
     "metadata": {},
     "output_type": "display_data"
    }
   ],
   "source": [
    "if not skip_training:\n",
    "    # Train Result\n",
    "    video_dir = work_dir/'video'/'CartPole-v1'/'train'\n",
    "    \n",
    "    # List all MP4 files in the directory\n",
    "    mp4_files = [file for file in os.listdir(video_dir) if file.endswith(\".mp4\")]\n",
    "    frame_colors = ['#FF5733', '#33FF57', '#5733FF', '#FFFF33', '#33FFFF', '#FF33FF']\n",
    "    # Display each MP4 file\n",
    "    for i, mp4_file in enumerate(mp4_files):\n",
    "        video_path = os.path.join(video_dir, mp4_file)\n",
    "        video = Video(video_path, embed=True, html_attributes=\"loop autoplay\", width=200, height=100)\n",
    "        frame_color = frame_colors[i % len(frame_colors)]\n",
    "        video_frame = HTML(f'<div style=\"width: 200px; height: 100px;; border: 1px solid #FF5733;\">{video._repr_html_()}</div>')\n",
    "        print(\"test/\",mp4_file)\n",
    "        display(video_frame)"
   ]
  },
  {
   "cell_type": "code",
   "execution_count": 118,
   "id": "47f0e835-79ad-47c7-9984-bfc705927d7b",
   "metadata": {
    "tags": []
   },
   "outputs": [
    {
     "name": "stdout",
     "output_type": "stream",
     "text": [
      "test/ ex1-episode-0.mp4\n"
     ]
    },
    {
     "data": {
      "text/html": [
       "<div style=\"width: 200px; height: 100px;; border: 1px solid #5733FF;\"><video loop autoplay  width=\"200\"  height=\"100\">\n",
       " <source src=\"data:video/mp4;base64,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\" type=\"video/mp4\">\n",
       " Your browser does not support the video tag.\n",
       " </video></div>"
      ],
      "text/plain": [
       "<IPython.core.display.HTML object>"
      ]
     },
     "metadata": {},
     "output_type": "display_data"
    },
    {
     "name": "stdout",
     "output_type": "stream",
     "text": [
      "test/ ex1-episode-1.mp4\n"
     ]
    },
    {
     "data": {
      "text/html": [
       "<div style=\"width: 200px; height: 100px;; border: 1px solid #5733FF;\"><video loop autoplay  width=\"200\"  height=\"100\">\n",
       " <source src=\"data:video/mp4;base64,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\" type=\"video/mp4\">\n",
       " Your browser does not support the video tag.\n",
       " </video></div>"
      ],
      "text/plain": [
       "<IPython.core.display.HTML object>"
      ]
     },
     "metadata": {},
     "output_type": "display_data"
    },
    {
     "name": "stdout",
     "output_type": "stream",
     "text": [
      "test/ ex1-episode-2.mp4\n"
     ]
    },
    {
     "data": {
      "text/html": [
       "<div style=\"width: 200px; height: 100px;; border: 1px solid #5733FF;\"><video loop autoplay  width=\"200\"  height=\"100\">\n",
       " <source src=\"data:video/mp4;base64,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\" type=\"video/mp4\">\n",
       " Your browser does not support the video tag.\n",
       " </video></div>"
      ],
      "text/plain": [
       "<IPython.core.display.HTML object>"
      ]
     },
     "metadata": {},
     "output_type": "display_data"
    },
    {
     "name": "stdout",
     "output_type": "stream",
     "text": [
      "test/ ex1-episode-3.mp4\n"
     ]
    },
    {
     "data": {
      "text/html": [
       "<div style=\"width: 200px; height: 100px;; border: 1px solid #5733FF;\"><video loop autoplay  width=\"200\"  height=\"100\">\n",
       " <source src=\"data:video/mp4;base64,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\" type=\"video/mp4\">\n",
       " Your browser does not support the video tag.\n",
       " </video></div>"
      ],
      "text/plain": [
       "<IPython.core.display.HTML object>"
      ]
     },
     "metadata": {},
     "output_type": "display_data"
    },
    {
     "name": "stdout",
     "output_type": "stream",
     "text": [
      "test/ ex1-episode-4.mp4\n"
     ]
    },
    {
     "data": {
      "text/html": [
       "<div style=\"width: 200px; height: 100px;; border: 1px solid #5733FF;\"><video loop autoplay  width=\"200\"  height=\"100\">\n",
       " <source src=\"data:video/mp4;base64,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\" type=\"video/mp4\">\n",
       " Your browser does not support the video tag.\n",
       " </video></div>"
      ],
      "text/plain": [
       "<IPython.core.display.HTML object>"
      ]
     },
     "metadata": {},
     "output_type": "display_data"
    },
    {
     "name": "stdout",
     "output_type": "stream",
     "text": [
      "test/ ex1-episode-5.mp4\n"
     ]
    },
    {
     "data": {
      "text/html": [
       "<div style=\"width: 200px; height: 100px;; border: 1px solid #5733FF;\"><video loop autoplay  width=\"200\"  height=\"100\">\n",
       " <source src=\"data:video/mp4;base64,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\" type=\"video/mp4\">\n",
       " Your browser does not support the video tag.\n",
       " </video></div>"
      ],
      "text/plain": [
       "<IPython.core.display.HTML object>"
      ]
     },
     "metadata": {},
     "output_type": "display_data"
    },
    {
     "name": "stdout",
     "output_type": "stream",
     "text": [
      "test/ ex1-episode-6.mp4\n"
     ]
    },
    {
     "data": {
      "text/html": [
       "<div style=\"width: 200px; height: 100px;; border: 1px solid #5733FF;\"><video loop autoplay  width=\"200\"  height=\"100\">\n",
       " <source src=\"data:video/mp4;base64,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\" type=\"video/mp4\">\n",
       " Your browser does not support the video tag.\n",
       " </video></div>"
      ],
      "text/plain": [
       "<IPython.core.display.HTML object>"
      ]
     },
     "metadata": {},
     "output_type": "display_data"
    },
    {
     "name": "stdout",
     "output_type": "stream",
     "text": [
      "test/ ex1-episode-7.mp4\n"
     ]
    },
    {
     "data": {
      "text/html": [
       "<div style=\"width: 200px; height: 100px;; border: 1px solid #5733FF;\"><video loop autoplay  width=\"200\"  height=\"100\">\n",
       " <source src=\"data:video/mp4;base64,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\" type=\"video/mp4\">\n",
       " Your browser does not support the video tag.\n",
       " </video></div>"
      ],
      "text/plain": [
       "<IPython.core.display.HTML object>"
      ]
     },
     "metadata": {},
     "output_type": "display_data"
    },
    {
     "name": "stdout",
     "output_type": "stream",
     "text": [
      "test/ ex1-episode-8.mp4\n"
     ]
    },
    {
     "data": {
      "text/html": [
       "<div style=\"width: 200px; height: 100px;; border: 1px solid #5733FF;\"><video loop autoplay  width=\"200\"  height=\"100\">\n",
       " <source src=\"data:video/mp4;base64,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\" type=\"video/mp4\">\n",
       " Your browser does not support the video tag.\n",
       " </video></div>"
      ],
      "text/plain": [
       "<IPython.core.display.HTML object>"
      ]
     },
     "metadata": {},
     "output_type": "display_data"
    },
    {
     "name": "stdout",
     "output_type": "stream",
     "text": [
      "test/ ex1-episode-9.mp4\n"
     ]
    },
    {
     "data": {
      "text/html": [
       "<div style=\"width: 200px; height: 100px;; border: 1px solid #5733FF;\"><video loop autoplay  width=\"200\"  height=\"100\">\n",
       " <source src=\"data:video/mp4;base64,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\" type=\"video/mp4\">\n",
       " Your browser does not support the video tag.\n",
       " </video></div>"
      ],
      "text/plain": [
       "<IPython.core.display.HTML object>"
      ]
     },
     "metadata": {},
     "output_type": "display_data"
    }
   ],
   "source": [
    "if not skip_training:\n",
    "    # Test Result\n",
    "    \n",
    "    video_dir = work_dir/'video'/'CartPole-v1'/'test'\n",
    "    \n",
    "    # List all MP4 files in the directory\n",
    "    mp4_files = [file for file in os.listdir(video_dir) if file.endswith(\".mp4\")]\n",
    "    frame_colors = ['#FF5733', '#33FF57', '#5733FF', '#FFFF33', '#33FFFF', '#FF33FF']\n",
    "    # Display each MP4 file\n",
    "    for i, mp4_file in enumerate(mp4_files):\n",
    "        video_path = os.path.join(video_dir, mp4_file)\n",
    "        video = Video(video_path, embed=True, html_attributes=\"loop autoplay\", width=200, height=100)\n",
    "        frame_color = frame_colors[i % len(frame_colors)]\n",
    "        video_frame = HTML(f'<div style=\"width: 200px; height: 100px;; border: 1px solid #5733FF;\">{video._repr_html_()}</div>')\n",
    "        print(\"test/\",mp4_file)\n",
    "        display(video_frame)"
   ]
  },
  {
   "cell_type": "markdown",
   "id": "b9298a34",
   "metadata": {
    "deletable": false,
    "editable": false,
    "nbgrader": {
     "cell_type": "markdown",
     "checksum": "29f3456bbec5bacc9d93ec415d74e5d3",
     "grade": false,
     "grade_id": "cell-9b1e05f80922c2bf",
     "locked": true,
     "schema_version": 3,
     "solution": false,
     "task": false
    },
    "tags": []
   },
   "source": [
    "<a id='Q1'></a>\n",
    "<div class=\" alert alert-warning\">\n",
    "    <h3><b>Student Question 1.1</b> Learning (10 points) </h3> \n",
    "\n",
    "Test the trained model from Task 1 five times with different random seeds. Did the same model, trained to balance for 100 timesteps, learn to always balance the pole for 1000 timesteps? Why/why not?\n",
    "    \n",
    "🔝\t<a href='#TOC'><b>Table of Contents</b></a>\n",
    "</div>\n"
   ]
  },
  {
   "cell_type": "code",
   "execution_count": 119,
   "id": "e76718b1",
   "metadata": {
    "tags": []
   },
   "outputs": [],
   "source": [
    "#Evaluate the trained model by setting 5 different random seeds chosen by you\n",
    "#Type 5 different  random seeds  in eval_seeds array\n",
    "eval_seeds =  [ 42, 32 , 64 , 10 , 11 ]"
   ]
  },
  {
   "cell_type": "code",
   "execution_count": 120,
   "id": "1549ae65",
   "metadata": {
    "deletable": false,
    "editable": false,
    "nbgrader": {
     "cell_type": "code",
     "checksum": "55507b4aacb261bb5e0c39e9fb9933f9",
     "grade": true,
     "grade_id": "cell-a885538088286a64",
     "locked": true,
     "points": 0,
     "schema_version": 3,
     "solution": false,
     "task": false
    },
    "tags": []
   },
   "outputs": [],
   "source": [
    "assert len(set(eval_seeds)) == 5"
   ]
  },
  {
   "cell_type": "code",
   "execution_count": 121,
   "id": "8ea940e9",
   "metadata": {
    "deletable": false,
    "editable": false,
    "nbgrader": {
     "cell_type": "code",
     "checksum": "ebb50086ad7448789468612578cd825d",
     "grade": true,
     "grade_id": "cell-2f9ca7392eabd6d2",
     "locked": true,
     "points": 0,
     "schema_version": 3,
     "solution": false,
     "task": false
    },
    "tags": []
   },
   "outputs": [
    {
     "name": "stdout",
     "output_type": "stream",
     "text": [
      "Numpy/Torch/Random Seed:  42\n",
      "Loading model from /notebooks/rl2025/ex1/results/model/CartPole-v1_params.pt ...\n",
      "Testing...\n",
      "Test ep reward: 141.0 seed: 42\n",
      "Average test reward: 141.0 episode length: 141.0\n",
      "Numpy/Torch/Random Seed:  32\n",
      "Loading model from /notebooks/rl2025/ex1/results/model/CartPole-v1_params.pt ...\n",
      "Testing...\n",
      "Test ep reward: 121.0 seed: 32\n",
      "Average test reward: 121.0 episode length: 121.0\n",
      "Numpy/Torch/Random Seed:  64\n",
      "Loading model from /notebooks/rl2025/ex1/results/model/CartPole-v1_params.pt ...\n",
      "Testing...\n",
      "Test ep reward: 119.0 seed: 64\n",
      "Average test reward: 119.0 episode length: 119.0\n",
      "Numpy/Torch/Random Seed:  10\n",
      "Loading model from /notebooks/rl2025/ex1/results/model/CartPole-v1_params.pt ...\n",
      "Testing...\n",
      "Test ep reward: 141.0 seed: 10\n",
      "Average test reward: 141.0 episode length: 141.0\n",
      "Numpy/Torch/Random Seed:  11\n",
      "Loading model from /notebooks/rl2025/ex1/results/model/CartPole-v1_params.pt ...\n",
      "Testing...\n",
      "Test ep reward: 127.0 seed: 11\n",
      "Average test reward: 127.0 episode length: 127.0\n"
     ]
    }
   ],
   "source": [
    "%%capture --no-stdout\n",
    "def question1_1_evaluate1(eval_seeds):\n",
    "    mean_reward = []\n",
    "\n",
    "    for seed in eval_seeds:\n",
    "        acc_rewards = t.test(episodes=1, cfg_path=Path().cwd()/'cfg'/'cartpole_v1.yaml', \n",
    "            cfg_args=dict(testing=True,save_video=False, save_logging=False, save_model=False, \n",
    "            seed=seed, max_episode_steps=1000, model_name=\"CartPole-v1\"))\n",
    "        mean_reward.append(acc_rewards)\n",
    "\n",
    "    return np.mean(mean_reward)\n",
    "\n",
    "assert question1_1_evaluate1(eval_seeds) > 100"
   ]
  },
  {
   "cell_type": "markdown",
   "id": "5d817076",
   "metadata": {
    "deletable": false,
    "editable": false,
    "nbgrader": {
     "cell_type": "markdown",
     "checksum": "a8a797866432c49e79a07cbe95f60a7d",
     "grade": false,
     "grade_id": "cell-34afac26642e2bc4",
     "locked": true,
     "schema_version": 3,
     "solution": false,
     "task": false
    }
   },
   "source": [
    "### Question:\n",
    "Did the same model consistently balance the pole for 1000 timesteps? There are multiple correct answers. Choose the one you think is most appropriate.\n",
    "\n",
    "**Options:**\n",
    "Choose **only one**:\n",
    "\n",
    "1. No, the agent generally failed around 100-200 timesteps because it encountered unfamiliar states.\n",
    "\n",
    "2. Yes, the agent balanced the pole for 1000 timesteps in every test due to a perfectly learned policy.\n",
    "\n",
    "3. No, although the agent sometimes balanced the pole for 1000 timesteps, it typically failed due to limited generalization to new states.\n",
    "\n",
    "4. No, the agent frequently moved out of bounds or the pole tilted too much, showing poor adaptation.\n",
    "\n",
    "5. Yes, the agent demonstrated perfect control in all tests due to effective training.\n",
    "\n",
    "6. No, the agent's performance varied significantly with different random seeds, indicating inconsistency in learned behavior."
   ]
  },
  {
   "cell_type": "code",
   "execution_count": 122,
   "id": "3b571667",
   "metadata": {
    "tags": []
   },
   "outputs": [],
   "source": [
    "sq1_1 = 1 # Answer question 1.1 with the appropriate answer number"
   ]
  },
  {
   "cell_type": "code",
   "execution_count": 123,
   "id": "53d85d22",
   "metadata": {
    "deletable": false,
    "editable": false,
    "nbgrader": {
     "cell_type": "code",
     "checksum": "11c62ac2a464b078e231c9be051ec0cc",
     "grade": true,
     "grade_id": "cell-c0b2457bfc16e0b6",
     "locked": true,
     "points": 0,
     "schema_version": 3,
     "solution": false,
     "task": false
    },
    "tags": []
   },
   "outputs": [],
   "source": [
    "assert sq1_1 in range(1,8)"
   ]
  },
  {
   "cell_type": "markdown",
   "id": "d0b1a1ca",
   "metadata": {},
   "source": [
    "The following cells are used for grading"
   ]
  },
  {
   "cell_type": "code",
   "execution_count": null,
   "id": "a14c81c7",
   "metadata": {
    "deletable": false,
    "editable": false,
    "nbgrader": {
     "cell_type": "code",
     "checksum": "d5b622a3c44df9ba7ba3b01cfcc246d6",
     "grade": true,
     "grade_id": "cell-c5e675812f807564",
     "locked": true,
     "points": 10,
     "schema_version": 3,
     "solution": false,
     "task": false
    },
    "tags": []
   },
   "outputs": [],
   "source": []
  },
  {
   "cell_type": "markdown",
   "id": "9f3b5ed9",
   "metadata": {
    "deletable": false,
    "editable": false,
    "nbgrader": {
     "cell_type": "markdown",
     "checksum": "404aae2a11c55e21c7625ae8a845b515",
     "grade": false,
     "grade_id": "cell-6fdccf7da0340917",
     "locked": true,
     "schema_version": 3,
     "solution": false,
     "task": false
    }
   },
   "source": [
    "<a id='T2'></a>\n",
    "<div class=\" alert alert-warning\">\n",
    "    <h3><b>Student Task 2.</b> Investigating Training Performance (12 points) </h3> \n",
    "\n",
    "Repeat the experiment in Task 1 five times, each time training the model from scratch with 100 timesteps and testing it for 1000 timesteps. Use a different seed number for each training/testing cycle. You can use the box below to write a small script to do this. Use the result textbox below to report the average test reward for each repeat. \n",
    "    \n",
    "🔝\t<a href='#TOC'><b>Table of Contents</b></a>\n",
    "</div>\n"
   ]
  },
  {
   "cell_type": "markdown",
   "id": "aa8b9768",
   "metadata": {
    "deletable": false,
    "editable": false,
    "nbgrader": {
     "cell_type": "markdown",
     "checksum": "0e6bbcf84dee7d5a7e4e77f40fef39da",
     "grade": false,
     "grade_id": "cell-52c4064985fce5f1",
     "locked": true,
     "schema_version": 3,
     "solution": false,
     "task": false
    }
   },
   "source": [
    "Make sure to change the model_name for each agent to the ones given and and that the respective parameter file is saved in results/model/\n",
    "\n",
    "In order to get the points for this exercise each of the agents must have a test accuracy of higher than 100."
   ]
  },
  {
   "cell_type": "code",
   "execution_count": 124,
   "id": "01cb1f80",
   "metadata": {
    "tags": []
   },
   "outputs": [
    {
     "name": "stdout",
     "output_type": "stream",
     "text": [
      "Numpy/Torch/Random Seed:  1\n",
      "Configuration Settings: {'exp_name': 'ex1', 'seed': 1, 'env_name': 'CartPole-v1', 'model_name': 'CartPole-v1-model0', 'max_episode_steps': 100, 'train_episodes': 500, 'batch_size': 64, 'min_update_samples': 2000, 'testing': False, 'model_path': 'default', 'save_video': True, 'save_model': True, 'save_logging': True, 'silent': False, 'use_wandb': True, 'run_suffix': 0}\n",
      "Training device: cpu\n",
      "Observation space dimensions: 4\n",
      "Action space dimensions: 2\n",
      "\n",
      "Episode 0 finished. Total reward: 14.0 (14 timesteps)\n"
     ]
    },
    {
     "name": "stderr",
     "output_type": "stream",
     "text": [
      "/opt/software/lib/python3.10/site-packages/gymnasium/wrappers/record_video.py:87: UserWarning: \u001b[33mWARN: Overwriting existing videos at /notebooks/rl2025/ex1/results/video/CartPole-v1/train folder (try specifying a different `video_folder` for the `RecordVideo` wrapper if this is not desired)\u001b[0m\n",
      "  logger.warn(\n"
     ]
    },
    {
     "name": "stdout",
     "output_type": "stream",
     "text": [
      "Episode 5 finished. Total reward: 38.0 (38 timesteps)\n",
      "Episode 10 finished. Total reward: 14.0 (14 timesteps)\n",
      "Episode 15 finished. Total reward: 83.0 (83 timesteps)\n",
      "Episode 20 finished. Total reward: 12.0 (12 timesteps)\n",
      "Episode 25 finished. Total reward: 18.0 (18 timesteps)\n",
      "Episode 30 finished. Total reward: 36.0 (36 timesteps)\n",
      "Episode 35 finished. Total reward: 16.0 (16 timesteps)\n",
      "Episode 40 finished. Total reward: 29.0 (29 timesteps)\n",
      "Episode 45 finished. Total reward: 15.0 (15 timesteps)\n",
      "Episode 50 finished. Total reward: 15.0 (15 timesteps)\n",
      "Episode 55 finished. Total reward: 27.0 (27 timesteps)\n",
      "Episode 60 finished. Total reward: 33.0 (33 timesteps)\n",
      "Episode 65 finished. Total reward: 11.0 (11 timesteps)\n",
      "Episode 70 finished. Total reward: 27.0 (27 timesteps)\n",
      "Episode 75 finished. Total reward: 13.0 (13 timesteps)\n",
      "Episode 80 finished. Total reward: 9.0 (9 timesteps)\n",
      "Episode 85 finished. Total reward: 19.0 (19 timesteps)\n",
      "Updating the policy...\n",
      "Updating finished!\n",
      "Episode 90 finished. Total reward: 58.0 (58 timesteps)\n",
      "Episode 95 finished. Total reward: 13.0 (13 timesteps)\n",
      "Episode 100 finished. Total reward: 17.0 (17 timesteps)\n",
      "Episode 105 finished. Total reward: 17.0 (17 timesteps)\n",
      "Episode 110 finished. Total reward: 27.0 (27 timesteps)\n",
      "Episode 115 finished. Total reward: 9.0 (9 timesteps)\n",
      "Episode 120 finished. Total reward: 17.0 (17 timesteps)\n",
      "Episode 125 finished. Total reward: 13.0 (13 timesteps)\n",
      "Episode 130 finished. Total reward: 26.0 (26 timesteps)\n",
      "Episode 135 finished. Total reward: 9.0 (9 timesteps)\n",
      "Episode 140 finished. Total reward: 89.0 (89 timesteps)\n",
      "Episode 145 finished. Total reward: 14.0 (14 timesteps)\n",
      "Episode 150 finished. Total reward: 30.0 (30 timesteps)\n",
      "Episode 155 finished. Total reward: 27.0 (27 timesteps)\n",
      "Episode 160 finished. Total reward: 23.0 (23 timesteps)\n",
      "Updating the policy...\n",
      "Updating finished!\n",
      "Episode 165 finished. Total reward: 24.0 (24 timesteps)\n",
      "Episode 170 finished. Total reward: 28.0 (28 timesteps)\n",
      "Episode 175 finished. Total reward: 32.0 (32 timesteps)\n",
      "Episode 180 finished. Total reward: 27.0 (27 timesteps)\n",
      "Episode 185 finished. Total reward: 65.0 (65 timesteps)\n",
      "Episode 190 finished. Total reward: 99.0 (99 timesteps)\n",
      "Episode 195 finished. Total reward: 30.0 (30 timesteps)\n",
      "Episode 200 finished. Total reward: 25.0 (25 timesteps)\n",
      "Episode 205 finished. Total reward: 29.0 (29 timesteps)\n",
      "Episode 210 finished. Total reward: 27.0 (27 timesteps)\n",
      "Updating the policy...\n",
      "Updating finished!\n",
      "Episode 215 finished. Total reward: 100.0 (100 timesteps)\n",
      "Episode 220 finished. Total reward: 100.0 (100 timesteps)\n",
      "Episode 225 finished. Total reward: 59.0 (59 timesteps)\n",
      "Episode 230 finished. Total reward: 74.0 (74 timesteps)\n",
      "Episode 235 finished. Total reward: 49.0 (49 timesteps)\n",
      "Episode 240 finished. Total reward: 96.0 (96 timesteps)\n",
      "Episode 245 finished. Total reward: 73.0 (73 timesteps)\n",
      "Updating the policy...\n",
      "Updating finished!\n",
      "Episode 250 finished. Total reward: 100.0 (100 timesteps)\n",
      "Episode 255 finished. Total reward: 100.0 (100 timesteps)\n",
      "Episode 260 finished. Total reward: 52.0 (52 timesteps)\n",
      "Episode 265 finished. Total reward: 100.0 (100 timesteps)\n",
      "Episode 270 finished. Total reward: 18.0 (18 timesteps)\n",
      "Updating the policy...\n",
      "Updating finished!\n",
      "Episode 275 finished. Total reward: 100.0 (100 timesteps)\n",
      "Episode 280 finished. Total reward: 93.0 (93 timesteps)\n",
      "Episode 285 finished. Total reward: 100.0 (100 timesteps)\n",
      "Episode 290 finished. Total reward: 100.0 (100 timesteps)\n",
      "Updating the policy...\n",
      "Updating finished!\n",
      "Episode 295 finished. Total reward: 100.0 (100 timesteps)\n",
      "Episode 300 finished. Total reward: 52.0 (52 timesteps)\n",
      "Episode 305 finished. Total reward: 100.0 (100 timesteps)\n",
      "Episode 310 finished. Total reward: 100.0 (100 timesteps)\n",
      "Updating the policy...\n",
      "Updating finished!\n",
      "Episode 315 finished. Total reward: 100.0 (100 timesteps)\n",
      "Episode 320 finished. Total reward: 100.0 (100 timesteps)\n",
      "Episode 325 finished. Total reward: 100.0 (100 timesteps)\n",
      "Episode 330 finished. Total reward: 100.0 (100 timesteps)\n",
      "Episode 335 finished. Total reward: 40.0 (40 timesteps)\n",
      "Episode 340 finished. Total reward: 42.0 (42 timesteps)\n",
      "Updating the policy...\n",
      "Updating finished!\n",
      "Episode 345 finished. Total reward: 100.0 (100 timesteps)\n",
      "Episode 350 finished. Total reward: 100.0 (100 timesteps)\n",
      "Episode 355 finished. Total reward: 100.0 (100 timesteps)\n",
      "Episode 360 finished. Total reward: 100.0 (100 timesteps)\n",
      "Updating the policy...\n",
      "Updating finished!\n",
      "Episode 365 finished. Total reward: 100.0 (100 timesteps)\n",
      "Episode 370 finished. Total reward: 100.0 (100 timesteps)\n",
      "Episode 375 finished. Total reward: 100.0 (100 timesteps)\n",
      "Episode 380 finished. Total reward: 100.0 (100 timesteps)\n",
      "Updating the policy...\n",
      "Updating finished!\n",
      "Episode 385 finished. Total reward: 100.0 (100 timesteps)\n",
      "Episode 390 finished. Total reward: 100.0 (100 timesteps)\n",
      "Episode 395 finished. Total reward: 100.0 (100 timesteps)\n",
      "Episode 400 finished. Total reward: 35.0 (35 timesteps)\n",
      "Updating the policy...\n",
      "Updating finished!\n",
      "Episode 405 finished. Total reward: 100.0 (100 timesteps)\n",
      "Episode 410 finished. Total reward: 100.0 (100 timesteps)\n",
      "Episode 415 finished. Total reward: 100.0 (100 timesteps)\n",
      "Episode 420 finished. Total reward: 100.0 (100 timesteps)\n",
      "Episode 425 finished. Total reward: 100.0 (100 timesteps)\n",
      "Updating the policy...\n",
      "Updating finished!\n",
      "Episode 430 finished. Total reward: 100.0 (100 timesteps)\n",
      "Episode 435 finished. Total reward: 100.0 (100 timesteps)\n",
      "Episode 440 finished. Total reward: 100.0 (100 timesteps)\n",
      "Episode 445 finished. Total reward: 100.0 (100 timesteps)\n",
      "Updating the policy...\n",
      "Updating finished!\n",
      "Episode 450 finished. Total reward: 100.0 (100 timesteps)\n",
      "Episode 455 finished. Total reward: 98.0 (98 timesteps)\n",
      "Episode 460 finished. Total reward: 98.0 (98 timesteps)\n",
      "Episode 465 finished. Total reward: 98.0 (98 timesteps)\n",
      "Updating the policy...\n",
      "Updating finished!\n",
      "Episode 470 finished. Total reward: 100.0 (100 timesteps)\n",
      "Episode 475 finished. Total reward: 90.0 (90 timesteps)\n",
      "Episode 480 finished. Total reward: 100.0 (100 timesteps)\n",
      "Episode 485 finished. Total reward: 100.0 (100 timesteps)\n",
      "Updating the policy...\n",
      "Updating finished!\n",
      "Episode 490 finished. Total reward: 100.0 (100 timesteps)\n",
      "Episode 495 finished. Total reward: 100.0 (100 timesteps)\n",
      "Episode 500 finished. Total reward: 100.0 (100 timesteps)\n",
      "Model saved to /notebooks/rl2025/ex1/results/model/CartPole-v1-model0_params.pt\n",
      "------Training finished.------\n",
      "Numpy/Torch/Random Seed:  2\n",
      "Configuration Settings: {'exp_name': 'ex1', 'seed': 2, 'env_name': 'CartPole-v1', 'model_name': 'CartPole-v1-model1', 'max_episode_steps': 100, 'train_episodes': 500, 'batch_size': 64, 'min_update_samples': 2000, 'testing': False, 'model_path': 'default', 'save_video': True, 'save_model': True, 'save_logging': True, 'silent': False, 'use_wandb': True, 'run_suffix': 0}\n",
      "Training device: cpu\n",
      "Observation space dimensions: 4\n",
      "Action space dimensions: 2\n",
      "\n",
      "Episode 0 finished. Total reward: 13.0 (13 timesteps)\n",
      "Episode 5 finished. Total reward: 16.0 (16 timesteps)\n",
      "Episode 10 finished. Total reward: 18.0 (18 timesteps)\n",
      "Episode 15 finished. Total reward: 17.0 (17 timesteps)\n",
      "Episode 20 finished. Total reward: 28.0 (28 timesteps)\n",
      "Episode 25 finished. Total reward: 40.0 (40 timesteps)\n",
      "Episode 30 finished. Total reward: 22.0 (22 timesteps)\n",
      "Episode 35 finished. Total reward: 13.0 (13 timesteps)\n",
      "Episode 40 finished. Total reward: 16.0 (16 timesteps)\n",
      "Episode 45 finished. Total reward: 18.0 (18 timesteps)\n",
      "Episode 50 finished. Total reward: 35.0 (35 timesteps)\n",
      "Episode 55 finished. Total reward: 12.0 (12 timesteps)\n",
      "Episode 60 finished. Total reward: 10.0 (10 timesteps)\n",
      "Episode 65 finished. Total reward: 27.0 (27 timesteps)\n",
      "Episode 70 finished. Total reward: 23.0 (23 timesteps)\n",
      "Episode 75 finished. Total reward: 10.0 (10 timesteps)\n",
      "Episode 80 finished. Total reward: 34.0 (34 timesteps)\n",
      "Episode 85 finished. Total reward: 19.0 (19 timesteps)\n",
      "Episode 90 finished. Total reward: 14.0 (14 timesteps)\n",
      "Episode 95 finished. Total reward: 13.0 (13 timesteps)\n",
      "Updating the policy...\n",
      "Updating finished!\n",
      "Episode 100 finished. Total reward: 19.0 (19 timesteps)\n",
      "Episode 105 finished. Total reward: 14.0 (14 timesteps)\n",
      "Episode 110 finished. Total reward: 19.0 (19 timesteps)\n",
      "Episode 115 finished. Total reward: 16.0 (16 timesteps)\n",
      "Episode 120 finished. Total reward: 15.0 (15 timesteps)\n",
      "Episode 125 finished. Total reward: 28.0 (28 timesteps)\n",
      "Episode 130 finished. Total reward: 38.0 (38 timesteps)\n",
      "Episode 135 finished. Total reward: 52.0 (52 timesteps)\n",
      "Episode 140 finished. Total reward: 35.0 (35 timesteps)\n",
      "Episode 145 finished. Total reward: 20.0 (20 timesteps)\n",
      "Episode 150 finished. Total reward: 44.0 (44 timesteps)\n",
      "Episode 155 finished. Total reward: 14.0 (14 timesteps)\n",
      "Episode 160 finished. Total reward: 21.0 (21 timesteps)\n",
      "Episode 165 finished. Total reward: 15.0 (15 timesteps)\n",
      "Updating the policy...\n",
      "Updating finished!\n",
      "Episode 170 finished. Total reward: 36.0 (36 timesteps)\n",
      "Episode 175 finished. Total reward: 28.0 (28 timesteps)\n",
      "Episode 180 finished. Total reward: 22.0 (22 timesteps)\n",
      "Episode 185 finished. Total reward: 27.0 (27 timesteps)\n",
      "Episode 190 finished. Total reward: 36.0 (36 timesteps)\n",
      "Episode 195 finished. Total reward: 100.0 (100 timesteps)\n",
      "Episode 200 finished. Total reward: 35.0 (35 timesteps)\n",
      "Episode 205 finished. Total reward: 100.0 (100 timesteps)\n",
      "Episode 210 finished. Total reward: 21.0 (21 timesteps)\n",
      "Updating the policy...\n",
      "Updating finished!\n",
      "Episode 215 finished. Total reward: 55.0 (55 timesteps)\n",
      "Episode 220 finished. Total reward: 26.0 (26 timesteps)\n",
      "Episode 225 finished. Total reward: 100.0 (100 timesteps)\n",
      "Episode 230 finished. Total reward: 100.0 (100 timesteps)\n",
      "Episode 235 finished. Total reward: 61.0 (61 timesteps)\n",
      "Updating the policy...\n",
      "Updating finished!\n",
      "Episode 240 finished. Total reward: 100.0 (100 timesteps)\n",
      "Episode 245 finished. Total reward: 53.0 (53 timesteps)\n",
      "Episode 250 finished. Total reward: 100.0 (100 timesteps)\n",
      "Episode 255 finished. Total reward: 53.0 (53 timesteps)\n",
      "Episode 260 finished. Total reward: 100.0 (100 timesteps)\n",
      "Updating the policy...\n",
      "Updating finished!\n",
      "Episode 265 finished. Total reward: 42.0 (42 timesteps)\n",
      "Episode 270 finished. Total reward: 100.0 (100 timesteps)\n",
      "Episode 275 finished. Total reward: 100.0 (100 timesteps)\n",
      "Episode 280 finished. Total reward: 68.0 (68 timesteps)\n",
      "Episode 285 finished. Total reward: 23.0 (23 timesteps)\n",
      "Updating the policy...\n",
      "Updating finished!\n",
      "Episode 290 finished. Total reward: 36.0 (36 timesteps)\n",
      "Episode 295 finished. Total reward: 100.0 (100 timesteps)\n",
      "Episode 300 finished. Total reward: 100.0 (100 timesteps)\n",
      "Episode 305 finished. Total reward: 84.0 (84 timesteps)\n",
      "Updating the policy...\n",
      "Updating finished!\n",
      "Episode 310 finished. Total reward: 100.0 (100 timesteps)\n",
      "Episode 315 finished. Total reward: 100.0 (100 timesteps)\n",
      "Episode 320 finished. Total reward: 100.0 (100 timesteps)\n",
      "Episode 325 finished. Total reward: 100.0 (100 timesteps)\n",
      "Updating the policy...\n",
      "Updating finished!\n",
      "Episode 330 finished. Total reward: 100.0 (100 timesteps)\n",
      "Episode 335 finished. Total reward: 100.0 (100 timesteps)\n",
      "Episode 340 finished. Total reward: 100.0 (100 timesteps)\n",
      "Episode 345 finished. Total reward: 100.0 (100 timesteps)\n",
      "Updating the policy...\n",
      "Updating finished!\n",
      "Episode 350 finished. Total reward: 100.0 (100 timesteps)\n",
      "Episode 355 finished. Total reward: 100.0 (100 timesteps)\n",
      "Episode 360 finished. Total reward: 100.0 (100 timesteps)\n",
      "Episode 365 finished. Total reward: 100.0 (100 timesteps)\n",
      "Updating the policy...\n",
      "Updating finished!\n",
      "Episode 370 finished. Total reward: 100.0 (100 timesteps)\n",
      "Episode 375 finished. Total reward: 100.0 (100 timesteps)\n",
      "Episode 380 finished. Total reward: 100.0 (100 timesteps)\n",
      "Episode 385 finished. Total reward: 100.0 (100 timesteps)\n",
      "Updating the policy...\n",
      "Updating finished!\n",
      "Episode 390 finished. Total reward: 100.0 (100 timesteps)\n",
      "Episode 395 finished. Total reward: 100.0 (100 timesteps)\n",
      "Episode 400 finished. Total reward: 100.0 (100 timesteps)\n",
      "Episode 405 finished. Total reward: 100.0 (100 timesteps)\n",
      "Updating the policy...\n",
      "Updating finished!\n",
      "Episode 410 finished. Total reward: 100.0 (100 timesteps)\n",
      "Episode 415 finished. Total reward: 100.0 (100 timesteps)\n",
      "Episode 420 finished. Total reward: 69.0 (69 timesteps)\n",
      "Episode 425 finished. Total reward: 100.0 (100 timesteps)\n",
      "Updating the policy...\n",
      "Updating finished!\n",
      "Episode 430 finished. Total reward: 100.0 (100 timesteps)\n",
      "Episode 435 finished. Total reward: 100.0 (100 timesteps)\n",
      "Episode 440 finished. Total reward: 100.0 (100 timesteps)\n",
      "Episode 445 finished. Total reward: 100.0 (100 timesteps)\n",
      "Updating the policy...\n",
      "Updating finished!\n",
      "Episode 450 finished. Total reward: 100.0 (100 timesteps)\n",
      "Episode 455 finished. Total reward: 100.0 (100 timesteps)\n",
      "Episode 460 finished. Total reward: 100.0 (100 timesteps)\n",
      "Episode 465 finished. Total reward: 100.0 (100 timesteps)\n",
      "Updating the policy...\n",
      "Updating finished!\n",
      "Episode 470 finished. Total reward: 100.0 (100 timesteps)\n",
      "Episode 475 finished. Total reward: 100.0 (100 timesteps)\n",
      "Episode 480 finished. Total reward: 100.0 (100 timesteps)\n",
      "Episode 485 finished. Total reward: 100.0 (100 timesteps)\n",
      "Updating the policy...\n",
      "Updating finished!\n",
      "Episode 490 finished. Total reward: 100.0 (100 timesteps)\n",
      "Episode 495 finished. Total reward: 100.0 (100 timesteps)\n",
      "Episode 500 finished. Total reward: 100.0 (100 timesteps)\n",
      "Model saved to /notebooks/rl2025/ex1/results/model/CartPole-v1-model1_params.pt\n",
      "------Training finished.------\n",
      "Numpy/Torch/Random Seed:  3\n",
      "Configuration Settings: {'exp_name': 'ex1', 'seed': 3, 'env_name': 'CartPole-v1', 'model_name': 'CartPole-v1-model2', 'max_episode_steps': 100, 'train_episodes': 500, 'batch_size': 64, 'min_update_samples': 2000, 'testing': False, 'model_path': 'default', 'save_video': True, 'save_model': True, 'save_logging': True, 'silent': False, 'use_wandb': True, 'run_suffix': 0}\n",
      "Training device: cpu\n",
      "Observation space dimensions: 4\n",
      "Action space dimensions: 2\n",
      "\n",
      "Episode 0 finished. Total reward: 25.0 (25 timesteps)\n",
      "Episode 5 finished. Total reward: 17.0 (17 timesteps)\n",
      "Episode 10 finished. Total reward: 14.0 (14 timesteps)\n",
      "Episode 15 finished. Total reward: 12.0 (12 timesteps)\n",
      "Episode 20 finished. Total reward: 16.0 (16 timesteps)\n",
      "Episode 25 finished. Total reward: 9.0 (9 timesteps)\n",
      "Episode 30 finished. Total reward: 21.0 (21 timesteps)\n",
      "Episode 35 finished. Total reward: 49.0 (49 timesteps)\n",
      "Episode 40 finished. Total reward: 17.0 (17 timesteps)\n",
      "Episode 45 finished. Total reward: 35.0 (35 timesteps)\n",
      "Episode 50 finished. Total reward: 12.0 (12 timesteps)\n",
      "Episode 55 finished. Total reward: 21.0 (21 timesteps)\n",
      "Episode 60 finished. Total reward: 44.0 (44 timesteps)\n",
      "Episode 65 finished. Total reward: 9.0 (9 timesteps)\n",
      "Episode 70 finished. Total reward: 33.0 (33 timesteps)\n",
      "Episode 75 finished. Total reward: 16.0 (16 timesteps)\n",
      "Episode 80 finished. Total reward: 35.0 (35 timesteps)\n",
      "Episode 85 finished. Total reward: 17.0 (17 timesteps)\n",
      "Episode 90 finished. Total reward: 25.0 (25 timesteps)\n",
      "Updating the policy...\n",
      "Updating finished!\n",
      "Episode 95 finished. Total reward: 34.0 (34 timesteps)\n",
      "Episode 100 finished. Total reward: 32.0 (32 timesteps)\n",
      "Episode 105 finished. Total reward: 17.0 (17 timesteps)\n",
      "Episode 110 finished. Total reward: 29.0 (29 timesteps)\n",
      "Episode 115 finished. Total reward: 15.0 (15 timesteps)\n",
      "Episode 120 finished. Total reward: 15.0 (15 timesteps)\n",
      "Episode 125 finished. Total reward: 30.0 (30 timesteps)\n",
      "Episode 130 finished. Total reward: 14.0 (14 timesteps)\n",
      "Episode 135 finished. Total reward: 79.0 (79 timesteps)\n",
      "Episode 140 finished. Total reward: 17.0 (17 timesteps)\n",
      "Episode 145 finished. Total reward: 32.0 (32 timesteps)\n",
      "Episode 150 finished. Total reward: 39.0 (39 timesteps)\n",
      "Episode 155 finished. Total reward: 17.0 (17 timesteps)\n",
      "Updating the policy...\n",
      "Updating finished!\n",
      "Episode 160 finished. Total reward: 67.0 (67 timesteps)\n",
      "Episode 165 finished. Total reward: 34.0 (34 timesteps)\n",
      "Episode 170 finished. Total reward: 27.0 (27 timesteps)\n",
      "Episode 175 finished. Total reward: 16.0 (16 timesteps)\n",
      "Episode 180 finished. Total reward: 24.0 (24 timesteps)\n",
      "Episode 185 finished. Total reward: 21.0 (21 timesteps)\n",
      "Episode 190 finished. Total reward: 55.0 (55 timesteps)\n",
      "Episode 195 finished. Total reward: 24.0 (24 timesteps)\n",
      "Episode 200 finished. Total reward: 21.0 (21 timesteps)\n",
      "Episode 205 finished. Total reward: 65.0 (65 timesteps)\n",
      "Updating the policy...\n",
      "Updating finished!\n",
      "Episode 210 finished. Total reward: 66.0 (66 timesteps)\n",
      "Episode 215 finished. Total reward: 65.0 (65 timesteps)\n",
      "Episode 220 finished. Total reward: 74.0 (74 timesteps)\n",
      "Episode 225 finished. Total reward: 83.0 (83 timesteps)\n",
      "Episode 230 finished. Total reward: 100.0 (100 timesteps)\n",
      "Updating the policy...\n",
      "Updating finished!\n",
      "Episode 235 finished. Total reward: 56.0 (56 timesteps)\n",
      "Episode 240 finished. Total reward: 100.0 (100 timesteps)\n",
      "Episode 245 finished. Total reward: 18.0 (18 timesteps)\n",
      "Episode 250 finished. Total reward: 100.0 (100 timesteps)\n",
      "Episode 255 finished. Total reward: 72.0 (72 timesteps)\n",
      "Updating the policy...\n",
      "Updating finished!\n",
      "Episode 260 finished. Total reward: 100.0 (100 timesteps)\n",
      "Episode 265 finished. Total reward: 100.0 (100 timesteps)\n",
      "Episode 270 finished. Total reward: 100.0 (100 timesteps)\n",
      "Episode 275 finished. Total reward: 100.0 (100 timesteps)\n",
      "Episode 280 finished. Total reward: 100.0 (100 timesteps)\n",
      "Updating the policy...\n",
      "Updating finished!\n",
      "Episode 285 finished. Total reward: 100.0 (100 timesteps)\n",
      "Episode 290 finished. Total reward: 100.0 (100 timesteps)\n",
      "Episode 295 finished. Total reward: 100.0 (100 timesteps)\n",
      "Episode 300 finished. Total reward: 100.0 (100 timesteps)\n",
      "Updating the policy...\n",
      "Updating finished!\n",
      "Episode 305 finished. Total reward: 100.0 (100 timesteps)\n",
      "Episode 310 finished. Total reward: 77.0 (77 timesteps)\n",
      "Episode 315 finished. Total reward: 100.0 (100 timesteps)\n",
      "Episode 320 finished. Total reward: 100.0 (100 timesteps)\n",
      "Updating the policy...\n",
      "Updating finished!\n",
      "Episode 325 finished. Total reward: 100.0 (100 timesteps)\n",
      "Episode 330 finished. Total reward: 100.0 (100 timesteps)\n",
      "Episode 335 finished. Total reward: 100.0 (100 timesteps)\n",
      "Episode 340 finished. Total reward: 100.0 (100 timesteps)\n",
      "Updating the policy...\n",
      "Updating finished!\n",
      "Episode 345 finished. Total reward: 90.0 (90 timesteps)\n",
      "Episode 350 finished. Total reward: 100.0 (100 timesteps)\n",
      "Episode 355 finished. Total reward: 73.0 (73 timesteps)\n",
      "Episode 360 finished. Total reward: 100.0 (100 timesteps)\n",
      "Updating the policy...\n",
      "Updating finished!\n",
      "Episode 365 finished. Total reward: 94.0 (94 timesteps)\n",
      "Episode 370 finished. Total reward: 100.0 (100 timesteps)\n",
      "Episode 375 finished. Total reward: 100.0 (100 timesteps)\n",
      "Episode 380 finished. Total reward: 100.0 (100 timesteps)\n",
      "Updating the policy...\n",
      "Updating finished!\n",
      "Episode 385 finished. Total reward: 100.0 (100 timesteps)\n",
      "Episode 390 finished. Total reward: 100.0 (100 timesteps)\n",
      "Episode 395 finished. Total reward: 100.0 (100 timesteps)\n",
      "Episode 400 finished. Total reward: 100.0 (100 timesteps)\n",
      "Updating the policy...\n",
      "Updating finished!\n",
      "Episode 405 finished. Total reward: 100.0 (100 timesteps)\n",
      "Episode 410 finished. Total reward: 100.0 (100 timesteps)\n",
      "Episode 415 finished. Total reward: 100.0 (100 timesteps)\n",
      "Episode 420 finished. Total reward: 100.0 (100 timesteps)\n",
      "Updating the policy...\n",
      "Updating finished!\n",
      "Episode 425 finished. Total reward: 100.0 (100 timesteps)\n",
      "Episode 430 finished. Total reward: 100.0 (100 timesteps)\n",
      "Episode 435 finished. Total reward: 100.0 (100 timesteps)\n",
      "Episode 440 finished. Total reward: 100.0 (100 timesteps)\n",
      "Updating the policy...\n",
      "Updating finished!\n",
      "Episode 445 finished. Total reward: 100.0 (100 timesteps)\n",
      "Episode 450 finished. Total reward: 100.0 (100 timesteps)\n",
      "Episode 455 finished. Total reward: 100.0 (100 timesteps)\n",
      "Episode 460 finished. Total reward: 100.0 (100 timesteps)\n",
      "Updating the policy...\n",
      "Updating finished!\n",
      "Episode 465 finished. Total reward: 89.0 (89 timesteps)\n",
      "Episode 470 finished. Total reward: 99.0 (99 timesteps)\n",
      "Episode 475 finished. Total reward: 100.0 (100 timesteps)\n",
      "Episode 480 finished. Total reward: 89.0 (89 timesteps)\n",
      "Episode 485 finished. Total reward: 21.0 (21 timesteps)\n",
      "Updating the policy...\n",
      "Updating finished!\n",
      "Episode 490 finished. Total reward: 100.0 (100 timesteps)\n",
      "Episode 495 finished. Total reward: 100.0 (100 timesteps)\n",
      "Episode 500 finished. Total reward: 100.0 (100 timesteps)\n",
      "Model saved to /notebooks/rl2025/ex1/results/model/CartPole-v1-model2_params.pt\n",
      "------Training finished.------\n",
      "Numpy/Torch/Random Seed:  4\n",
      "Configuration Settings: {'exp_name': 'ex1', 'seed': 4, 'env_name': 'CartPole-v1', 'model_name': 'CartPole-v1-model3', 'max_episode_steps': 100, 'train_episodes': 500, 'batch_size': 64, 'min_update_samples': 2000, 'testing': False, 'model_path': 'default', 'save_video': True, 'save_model': True, 'save_logging': True, 'silent': False, 'use_wandb': True, 'run_suffix': 0}\n",
      "Training device: cpu\n",
      "Observation space dimensions: 4\n",
      "Action space dimensions: 2\n",
      "\n",
      "Episode 0 finished. Total reward: 18.0 (18 timesteps)\n",
      "Episode 5 finished. Total reward: 14.0 (14 timesteps)\n",
      "Episode 10 finished. Total reward: 20.0 (20 timesteps)\n",
      "Episode 15 finished. Total reward: 44.0 (44 timesteps)\n",
      "Episode 20 finished. Total reward: 25.0 (25 timesteps)\n",
      "Episode 25 finished. Total reward: 20.0 (20 timesteps)\n",
      "Episode 30 finished. Total reward: 13.0 (13 timesteps)\n",
      "Episode 35 finished. Total reward: 16.0 (16 timesteps)\n",
      "Episode 40 finished. Total reward: 19.0 (19 timesteps)\n",
      "Episode 45 finished. Total reward: 21.0 (21 timesteps)\n",
      "Episode 50 finished. Total reward: 27.0 (27 timesteps)\n",
      "Episode 55 finished. Total reward: 11.0 (11 timesteps)\n",
      "Episode 60 finished. Total reward: 17.0 (17 timesteps)\n",
      "Episode 65 finished. Total reward: 38.0 (38 timesteps)\n",
      "Episode 70 finished. Total reward: 39.0 (39 timesteps)\n",
      "Episode 75 finished. Total reward: 19.0 (19 timesteps)\n",
      "Episode 80 finished. Total reward: 39.0 (39 timesteps)\n",
      "Updating the policy...\n",
      "Updating finished!\n",
      "Episode 85 finished. Total reward: 40.0 (40 timesteps)\n",
      "Episode 90 finished. Total reward: 46.0 (46 timesteps)\n",
      "Episode 95 finished. Total reward: 48.0 (48 timesteps)\n",
      "Episode 100 finished. Total reward: 42.0 (42 timesteps)\n",
      "Episode 105 finished. Total reward: 24.0 (24 timesteps)\n",
      "Episode 110 finished. Total reward: 11.0 (11 timesteps)\n",
      "Episode 115 finished. Total reward: 29.0 (29 timesteps)\n",
      "Episode 120 finished. Total reward: 38.0 (38 timesteps)\n",
      "Episode 125 finished. Total reward: 28.0 (28 timesteps)\n",
      "Episode 130 finished. Total reward: 48.0 (48 timesteps)\n",
      "Episode 135 finished. Total reward: 14.0 (14 timesteps)\n",
      "Episode 140 finished. Total reward: 20.0 (20 timesteps)\n",
      "Episode 145 finished. Total reward: 27.0 (27 timesteps)\n",
      "Episode 150 finished. Total reward: 13.0 (13 timesteps)\n",
      "Updating the policy...\n",
      "Updating finished!\n",
      "Episode 155 finished. Total reward: 18.0 (18 timesteps)\n",
      "Episode 160 finished. Total reward: 46.0 (46 timesteps)\n",
      "Episode 165 finished. Total reward: 22.0 (22 timesteps)\n",
      "Episode 170 finished. Total reward: 47.0 (47 timesteps)\n",
      "Episode 175 finished. Total reward: 26.0 (26 timesteps)\n",
      "Episode 180 finished. Total reward: 26.0 (26 timesteps)\n",
      "Episode 185 finished. Total reward: 61.0 (61 timesteps)\n",
      "Episode 190 finished. Total reward: 42.0 (42 timesteps)\n",
      "Episode 195 finished. Total reward: 100.0 (100 timesteps)\n",
      "Updating the policy...\n",
      "Updating finished!\n",
      "Episode 200 finished. Total reward: 18.0 (18 timesteps)\n",
      "Episode 205 finished. Total reward: 21.0 (21 timesteps)\n",
      "Episode 210 finished. Total reward: 27.0 (27 timesteps)\n",
      "Episode 215 finished. Total reward: 100.0 (100 timesteps)\n",
      "Episode 220 finished. Total reward: 53.0 (53 timesteps)\n",
      "Episode 225 finished. Total reward: 64.0 (64 timesteps)\n",
      "Episode 230 finished. Total reward: 100.0 (100 timesteps)\n",
      "Updating the policy...\n",
      "Updating finished!\n",
      "Episode 235 finished. Total reward: 100.0 (100 timesteps)\n",
      "Episode 240 finished. Total reward: 100.0 (100 timesteps)\n",
      "Episode 245 finished. Total reward: 100.0 (100 timesteps)\n",
      "Episode 250 finished. Total reward: 83.0 (83 timesteps)\n",
      "Updating the policy...\n",
      "Updating finished!\n",
      "Episode 255 finished. Total reward: 100.0 (100 timesteps)\n",
      "Episode 260 finished. Total reward: 100.0 (100 timesteps)\n",
      "Episode 265 finished. Total reward: 53.0 (53 timesteps)\n",
      "Episode 270 finished. Total reward: 95.0 (95 timesteps)\n",
      "Episode 275 finished. Total reward: 40.0 (40 timesteps)\n",
      "Updating the policy...\n",
      "Updating finished!\n",
      "Episode 280 finished. Total reward: 100.0 (100 timesteps)\n",
      "Episode 285 finished. Total reward: 100.0 (100 timesteps)\n",
      "Episode 290 finished. Total reward: 100.0 (100 timesteps)\n",
      "Episode 295 finished. Total reward: 100.0 (100 timesteps)\n",
      "Updating the policy...\n",
      "Updating finished!\n",
      "Episode 300 finished. Total reward: 100.0 (100 timesteps)\n",
      "Episode 305 finished. Total reward: 100.0 (100 timesteps)\n",
      "Episode 310 finished. Total reward: 100.0 (100 timesteps)\n",
      "Episode 315 finished. Total reward: 100.0 (100 timesteps)\n",
      "Updating the policy...\n",
      "Updating finished!\n",
      "Episode 320 finished. Total reward: 100.0 (100 timesteps)\n",
      "Episode 325 finished. Total reward: 100.0 (100 timesteps)\n",
      "Episode 330 finished. Total reward: 100.0 (100 timesteps)\n",
      "Episode 335 finished. Total reward: 100.0 (100 timesteps)\n",
      "Episode 340 finished. Total reward: 29.0 (29 timesteps)\n",
      "Updating the policy...\n",
      "Updating finished!\n",
      "Episode 345 finished. Total reward: 100.0 (100 timesteps)\n",
      "Episode 350 finished. Total reward: 100.0 (100 timesteps)\n",
      "Episode 355 finished. Total reward: 51.0 (51 timesteps)\n",
      "Episode 360 finished. Total reward: 100.0 (100 timesteps)\n",
      "Updating the policy...\n",
      "Updating finished!\n",
      "Episode 365 finished. Total reward: 89.0 (89 timesteps)\n",
      "Episode 370 finished. Total reward: 100.0 (100 timesteps)\n",
      "Episode 375 finished. Total reward: 100.0 (100 timesteps)\n",
      "Episode 380 finished. Total reward: 100.0 (100 timesteps)\n",
      "Updating the policy...\n",
      "Updating finished!\n",
      "Episode 385 finished. Total reward: 100.0 (100 timesteps)\n",
      "Episode 390 finished. Total reward: 100.0 (100 timesteps)\n",
      "Episode 395 finished. Total reward: 100.0 (100 timesteps)\n",
      "Episode 400 finished. Total reward: 100.0 (100 timesteps)\n",
      "Updating the policy...\n",
      "Updating finished!\n",
      "Episode 405 finished. Total reward: 100.0 (100 timesteps)\n",
      "Episode 410 finished. Total reward: 100.0 (100 timesteps)\n",
      "Episode 415 finished. Total reward: 100.0 (100 timesteps)\n",
      "Episode 420 finished. Total reward: 100.0 (100 timesteps)\n",
      "Updating the policy...\n",
      "Updating finished!\n",
      "Episode 425 finished. Total reward: 100.0 (100 timesteps)\n",
      "Episode 430 finished. Total reward: 100.0 (100 timesteps)\n",
      "Episode 435 finished. Total reward: 100.0 (100 timesteps)\n",
      "Episode 440 finished. Total reward: 100.0 (100 timesteps)\n",
      "Updating the policy...\n",
      "Updating finished!\n",
      "Episode 445 finished. Total reward: 100.0 (100 timesteps)\n",
      "Episode 450 finished. Total reward: 100.0 (100 timesteps)\n",
      "Episode 455 finished. Total reward: 100.0 (100 timesteps)\n",
      "Episode 460 finished. Total reward: 100.0 (100 timesteps)\n",
      "Updating the policy...\n",
      "Updating finished!\n",
      "Episode 465 finished. Total reward: 100.0 (100 timesteps)\n",
      "Episode 470 finished. Total reward: 100.0 (100 timesteps)\n",
      "Episode 475 finished. Total reward: 100.0 (100 timesteps)\n",
      "Episode 480 finished. Total reward: 100.0 (100 timesteps)\n",
      "Updating the policy...\n",
      "Updating finished!\n",
      "Episode 485 finished. Total reward: 97.0 (97 timesteps)\n",
      "Episode 490 finished. Total reward: 96.0 (96 timesteps)\n",
      "Episode 495 finished. Total reward: 100.0 (100 timesteps)\n",
      "Episode 500 finished. Total reward: 98.0 (98 timesteps)\n",
      "Model saved to /notebooks/rl2025/ex1/results/model/CartPole-v1-model3_params.pt\n",
      "------Training finished.------\n",
      "Numpy/Torch/Random Seed:  5\n",
      "Configuration Settings: {'exp_name': 'ex1', 'seed': 5, 'env_name': 'CartPole-v1', 'model_name': 'CartPole-v1-model4', 'max_episode_steps': 100, 'train_episodes': 500, 'batch_size': 64, 'min_update_samples': 2000, 'testing': False, 'model_path': 'default', 'save_video': True, 'save_model': True, 'save_logging': True, 'silent': False, 'use_wandb': True, 'run_suffix': 0}\n",
      "Training device: cpu\n",
      "Observation space dimensions: 4\n",
      "Action space dimensions: 2\n",
      "\n",
      "Episode 0 finished. Total reward: 36.0 (36 timesteps)\n",
      "Episode 5 finished. Total reward: 15.0 (15 timesteps)\n",
      "Episode 10 finished. Total reward: 46.0 (46 timesteps)\n",
      "Episode 15 finished. Total reward: 11.0 (11 timesteps)\n",
      "Episode 20 finished. Total reward: 39.0 (39 timesteps)\n",
      "Episode 25 finished. Total reward: 18.0 (18 timesteps)\n",
      "Episode 30 finished. Total reward: 77.0 (77 timesteps)\n",
      "Episode 35 finished. Total reward: 22.0 (22 timesteps)\n",
      "Episode 40 finished. Total reward: 18.0 (18 timesteps)\n",
      "Episode 45 finished. Total reward: 16.0 (16 timesteps)\n",
      "Episode 50 finished. Total reward: 19.0 (19 timesteps)\n",
      "Episode 55 finished. Total reward: 15.0 (15 timesteps)\n",
      "Episode 60 finished. Total reward: 20.0 (20 timesteps)\n",
      "Episode 65 finished. Total reward: 16.0 (16 timesteps)\n",
      "Episode 70 finished. Total reward: 38.0 (38 timesteps)\n",
      "Episode 75 finished. Total reward: 51.0 (51 timesteps)\n",
      "Updating the policy...\n",
      "Updating finished!\n",
      "Episode 80 finished. Total reward: 30.0 (30 timesteps)\n",
      "Episode 85 finished. Total reward: 24.0 (24 timesteps)\n",
      "Episode 90 finished. Total reward: 50.0 (50 timesteps)\n",
      "Episode 95 finished. Total reward: 23.0 (23 timesteps)\n",
      "Episode 100 finished. Total reward: 16.0 (16 timesteps)\n",
      "Episode 105 finished. Total reward: 24.0 (24 timesteps)\n",
      "Episode 110 finished. Total reward: 30.0 (30 timesteps)\n",
      "Episode 115 finished. Total reward: 24.0 (24 timesteps)\n",
      "Episode 120 finished. Total reward: 42.0 (42 timesteps)\n",
      "Episode 125 finished. Total reward: 16.0 (16 timesteps)\n",
      "Episode 130 finished. Total reward: 25.0 (25 timesteps)\n",
      "Episode 135 finished. Total reward: 10.0 (10 timesteps)\n",
      "Episode 140 finished. Total reward: 22.0 (22 timesteps)\n",
      "Episode 145 finished. Total reward: 53.0 (53 timesteps)\n",
      "Updating the policy...\n",
      "Updating finished!\n",
      "Episode 150 finished. Total reward: 76.0 (76 timesteps)\n",
      "Episode 155 finished. Total reward: 38.0 (38 timesteps)\n",
      "Episode 160 finished. Total reward: 39.0 (39 timesteps)\n",
      "Episode 165 finished. Total reward: 28.0 (28 timesteps)\n",
      "Episode 170 finished. Total reward: 77.0 (77 timesteps)\n",
      "Episode 175 finished. Total reward: 30.0 (30 timesteps)\n",
      "Episode 180 finished. Total reward: 74.0 (74 timesteps)\n",
      "Updating the policy...\n",
      "Updating finished!\n",
      "Episode 185 finished. Total reward: 66.0 (66 timesteps)\n",
      "Episode 190 finished. Total reward: 100.0 (100 timesteps)\n",
      "Episode 195 finished. Total reward: 25.0 (25 timesteps)\n",
      "Episode 200 finished. Total reward: 72.0 (72 timesteps)\n",
      "Episode 205 finished. Total reward: 100.0 (100 timesteps)\n",
      "Episode 210 finished. Total reward: 17.0 (17 timesteps)\n",
      "Updating the policy...\n",
      "Updating finished!\n",
      "Episode 215 finished. Total reward: 51.0 (51 timesteps)\n",
      "Episode 220 finished. Total reward: 100.0 (100 timesteps)\n",
      "Episode 225 finished. Total reward: 100.0 (100 timesteps)\n",
      "Episode 230 finished. Total reward: 100.0 (100 timesteps)\n",
      "Episode 235 finished. Total reward: 79.0 (79 timesteps)\n",
      "Updating the policy...\n",
      "Updating finished!\n",
      "Episode 240 finished. Total reward: 100.0 (100 timesteps)\n",
      "Episode 245 finished. Total reward: 100.0 (100 timesteps)\n",
      "Episode 250 finished. Total reward: 100.0 (100 timesteps)\n",
      "Episode 255 finished. Total reward: 100.0 (100 timesteps)\n",
      "Updating the policy...\n",
      "Updating finished!\n",
      "Episode 260 finished. Total reward: 100.0 (100 timesteps)\n",
      "Episode 265 finished. Total reward: 21.0 (21 timesteps)\n",
      "Episode 270 finished. Total reward: 100.0 (100 timesteps)\n",
      "Episode 275 finished. Total reward: 100.0 (100 timesteps)\n",
      "Episode 280 finished. Total reward: 100.0 (100 timesteps)\n",
      "Updating the policy...\n",
      "Updating finished!\n",
      "Episode 285 finished. Total reward: 100.0 (100 timesteps)\n",
      "Episode 290 finished. Total reward: 100.0 (100 timesteps)\n",
      "Episode 295 finished. Total reward: 100.0 (100 timesteps)\n",
      "Episode 300 finished. Total reward: 56.0 (56 timesteps)\n",
      "Updating the policy...\n",
      "Updating finished!\n",
      "Episode 305 finished. Total reward: 100.0 (100 timesteps)\n",
      "Episode 310 finished. Total reward: 100.0 (100 timesteps)\n",
      "Episode 315 finished. Total reward: 100.0 (100 timesteps)\n",
      "Episode 320 finished. Total reward: 100.0 (100 timesteps)\n",
      "Updating the policy...\n",
      "Updating finished!\n",
      "Episode 325 finished. Total reward: 100.0 (100 timesteps)\n",
      "Episode 330 finished. Total reward: 100.0 (100 timesteps)\n",
      "Episode 335 finished. Total reward: 100.0 (100 timesteps)\n",
      "Episode 340 finished. Total reward: 100.0 (100 timesteps)\n",
      "Episode 345 finished. Total reward: 100.0 (100 timesteps)\n",
      "Updating the policy...\n",
      "Updating finished!\n",
      "Episode 350 finished. Total reward: 100.0 (100 timesteps)\n",
      "Episode 355 finished. Total reward: 100.0 (100 timesteps)\n",
      "Episode 360 finished. Total reward: 100.0 (100 timesteps)\n",
      "Episode 365 finished. Total reward: 100.0 (100 timesteps)\n",
      "Updating the policy...\n",
      "Updating finished!\n",
      "Episode 370 finished. Total reward: 100.0 (100 timesteps)\n",
      "Episode 375 finished. Total reward: 100.0 (100 timesteps)\n",
      "Episode 380 finished. Total reward: 100.0 (100 timesteps)\n",
      "Episode 385 finished. Total reward: 100.0 (100 timesteps)\n",
      "Updating the policy...\n",
      "Updating finished!\n",
      "Episode 390 finished. Total reward: 100.0 (100 timesteps)\n",
      "Episode 395 finished. Total reward: 100.0 (100 timesteps)\n",
      "Episode 400 finished. Total reward: 100.0 (100 timesteps)\n",
      "Episode 405 finished. Total reward: 100.0 (100 timesteps)\n",
      "Updating the policy...\n",
      "Updating finished!\n",
      "Episode 410 finished. Total reward: 100.0 (100 timesteps)\n",
      "Episode 415 finished. Total reward: 100.0 (100 timesteps)\n",
      "Episode 420 finished. Total reward: 100.0 (100 timesteps)\n",
      "Episode 425 finished. Total reward: 100.0 (100 timesteps)\n",
      "Updating the policy...\n",
      "Updating finished!\n",
      "Episode 430 finished. Total reward: 100.0 (100 timesteps)\n",
      "Episode 435 finished. Total reward: 100.0 (100 timesteps)\n",
      "Episode 440 finished. Total reward: 100.0 (100 timesteps)\n",
      "Episode 445 finished. Total reward: 100.0 (100 timesteps)\n",
      "Updating the policy...\n",
      "Updating finished!\n",
      "Episode 450 finished. Total reward: 100.0 (100 timesteps)\n",
      "Episode 455 finished. Total reward: 100.0 (100 timesteps)\n",
      "Episode 460 finished. Total reward: 100.0 (100 timesteps)\n",
      "Episode 465 finished. Total reward: 100.0 (100 timesteps)\n",
      "Updating the policy...\n",
      "Updating finished!\n",
      "Episode 470 finished. Total reward: 100.0 (100 timesteps)\n",
      "Episode 475 finished. Total reward: 100.0 (100 timesteps)\n",
      "Episode 480 finished. Total reward: 100.0 (100 timesteps)\n",
      "Episode 485 finished. Total reward: 100.0 (100 timesteps)\n",
      "Updating the policy...\n",
      "Updating finished!\n",
      "Episode 490 finished. Total reward: 100.0 (100 timesteps)\n",
      "Episode 495 finished. Total reward: 100.0 (100 timesteps)\n",
      "Episode 500 finished. Total reward: 100.0 (100 timesteps)\n",
      "Model saved to /notebooks/rl2025/ex1/results/model/CartPole-v1-model4_params.pt\n",
      "------Training finished.------\n"
     ]
    }
   ],
   "source": [
    "# %%capture\n",
    "# uncomment if you want to skip the output\n",
    "\n",
    "if not skip_training:\n",
    "    model_names = [\"CartPole-v1-model0\", \"CartPole-v1-model1\", \"CartPole-v1-model2\", \"CartPole-v1-model3\", \"CartPole-v1-model4\"]\n",
    "    model_seeds = [1, 2, 3, 4, 5]\n",
    "\n",
    "    assert len(set(model_seeds)) == 5\n",
    "    '''\n",
    "    TODO: Repeat the experiment in Task 1 five times\n",
    "    '''\n",
    "    ########## Your code starts here ##########\n",
    "    \n",
    "    for i, seed in enumerate(model_seeds):\n",
    "        t.train(cfg_path=Path().cwd()/'cfg'/'cartpole_v1.yaml', cfg_args=dict(seed=seed, max_episode_steps=100, model_name=model_names[i])) # < 5 mins\n",
    "\n",
    "    ########## Your code ends here ##########\n",
    "\n"
   ]
  },
  {
   "cell_type": "markdown",
   "id": "0106a2db",
   "metadata": {},
   "source": [
    "Do not delete the cell below as it is used for grading."
   ]
  },
  {
   "cell_type": "code",
   "execution_count": 125,
   "id": "3b59f4fd",
   "metadata": {
    "deletable": false,
    "editable": false,
    "nbgrader": {
     "cell_type": "code",
     "checksum": "27f80c6109a365207abe48d1a8553f27",
     "grade": true,
     "grade_id": "cell-410200f55bb863ed",
     "locked": true,
     "points": 12,
     "schema_version": 3,
     "solution": false,
     "task": false
    },
    "tags": []
   },
   "outputs": [
    {
     "name": "stdout",
     "output_type": "stream",
     "text": [
      "Numpy/Torch/Random Seed:  700\n",
      "Loading model from /notebooks/rl2025/ex1/results/model/CartPole-v1-model0_params.pt ...\n",
      "Testing...\n",
      "Test ep reward: 131.0 seed: 700\n",
      "Average test reward: 131.0 episode length: 131.0\n",
      "Numpy/Torch/Random Seed:  800\n",
      "Loading model from /notebooks/rl2025/ex1/results/model/CartPole-v1-model0_params.pt ...\n",
      "Testing...\n",
      "Test ep reward: 123.0 seed: 800\n",
      "Average test reward: 123.0 episode length: 123.0\n",
      "Numpy/Torch/Random Seed:  900\n",
      "Loading model from /notebooks/rl2025/ex1/results/model/CartPole-v1-model0_params.pt ...\n",
      "Testing...\n",
      "Test ep reward: 127.0 seed: 900\n",
      "Average test reward: 127.0 episode length: 127.0\n",
      "Numpy/Torch/Random Seed:  1000\n",
      "Loading model from /notebooks/rl2025/ex1/results/model/CartPole-v1-model0_params.pt ...\n",
      "Testing...\n",
      "Test ep reward: 126.0 seed: 1000\n",
      "Average test reward: 126.0 episode length: 126.0\n",
      "Numpy/Torch/Random Seed:  2000\n",
      "Loading model from /notebooks/rl2025/ex1/results/model/CartPole-v1-model0_params.pt ...\n",
      "Testing...\n",
      "Test ep reward: 116.0 seed: 2000\n",
      "Average test reward: 116.0 episode length: 116.0\n",
      "Numpy/Torch/Random Seed:  700\n",
      "Loading model from /notebooks/rl2025/ex1/results/model/CartPole-v1-model1_params.pt ...\n",
      "Testing...\n",
      "Test ep reward: 1000.0 seed: 700\n",
      "Average test reward: 1000.0 episode length: 1000.0\n",
      "Numpy/Torch/Random Seed:  800\n",
      "Loading model from /notebooks/rl2025/ex1/results/model/CartPole-v1-model1_params.pt ...\n",
      "Testing...\n",
      "Test ep reward: 1000.0 seed: 800\n",
      "Average test reward: 1000.0 episode length: 1000.0\n",
      "Numpy/Torch/Random Seed:  900\n",
      "Loading model from /notebooks/rl2025/ex1/results/model/CartPole-v1-model1_params.pt ...\n",
      "Testing...\n",
      "Test ep reward: 1000.0 seed: 900\n",
      "Average test reward: 1000.0 episode length: 1000.0\n",
      "Numpy/Torch/Random Seed:  1000\n",
      "Loading model from /notebooks/rl2025/ex1/results/model/CartPole-v1-model1_params.pt ...\n",
      "Testing...\n",
      "Test ep reward: 1000.0 seed: 1000\n",
      "Average test reward: 1000.0 episode length: 1000.0\n",
      "Numpy/Torch/Random Seed:  2000\n",
      "Loading model from /notebooks/rl2025/ex1/results/model/CartPole-v1-model1_params.pt ...\n",
      "Testing...\n",
      "Test ep reward: 1000.0 seed: 2000\n",
      "Average test reward: 1000.0 episode length: 1000.0\n",
      "Numpy/Torch/Random Seed:  700\n",
      "Loading model from /notebooks/rl2025/ex1/results/model/CartPole-v1-model2_params.pt ...\n",
      "Testing...\n",
      "Test ep reward: 175.0 seed: 700\n",
      "Average test reward: 175.0 episode length: 175.0\n",
      "Numpy/Torch/Random Seed:  800\n",
      "Loading model from /notebooks/rl2025/ex1/results/model/CartPole-v1-model2_params.pt ...\n",
      "Testing...\n",
      "Test ep reward: 136.0 seed: 800\n",
      "Average test reward: 136.0 episode length: 136.0\n",
      "Numpy/Torch/Random Seed:  900\n",
      "Loading model from /notebooks/rl2025/ex1/results/model/CartPole-v1-model2_params.pt ...\n",
      "Testing...\n",
      "Test ep reward: 150.0 seed: 900\n",
      "Average test reward: 150.0 episode length: 150.0\n",
      "Numpy/Torch/Random Seed:  1000\n",
      "Loading model from /notebooks/rl2025/ex1/results/model/CartPole-v1-model2_params.pt ...\n",
      "Testing...\n",
      "Test ep reward: 140.0 seed: 1000\n",
      "Average test reward: 140.0 episode length: 140.0\n",
      "Numpy/Torch/Random Seed:  2000\n",
      "Loading model from /notebooks/rl2025/ex1/results/model/CartPole-v1-model2_params.pt ...\n",
      "Testing...\n",
      "Test ep reward: 126.0 seed: 2000\n",
      "Average test reward: 126.0 episode length: 126.0\n",
      "Numpy/Torch/Random Seed:  700\n",
      "Loading model from /notebooks/rl2025/ex1/results/model/CartPole-v1-model3_params.pt ...\n",
      "Testing...\n",
      "Test ep reward: 113.0 seed: 700\n",
      "Average test reward: 113.0 episode length: 113.0\n",
      "Numpy/Torch/Random Seed:  800\n",
      "Loading model from /notebooks/rl2025/ex1/results/model/CartPole-v1-model3_params.pt ...\n",
      "Testing...\n",
      "Test ep reward: 120.0 seed: 800\n",
      "Average test reward: 120.0 episode length: 120.0\n",
      "Numpy/Torch/Random Seed:  900\n",
      "Loading model from /notebooks/rl2025/ex1/results/model/CartPole-v1-model3_params.pt ...\n",
      "Testing...\n",
      "Test ep reward: 117.0 seed: 900\n",
      "Average test reward: 117.0 episode length: 117.0\n",
      "Numpy/Torch/Random Seed:  1000\n",
      "Loading model from /notebooks/rl2025/ex1/results/model/CartPole-v1-model3_params.pt ...\n",
      "Testing...\n",
      "Test ep reward: 118.0 seed: 1000\n",
      "Average test reward: 118.0 episode length: 118.0\n",
      "Numpy/Torch/Random Seed:  2000\n",
      "Loading model from /notebooks/rl2025/ex1/results/model/CartPole-v1-model3_params.pt ...\n",
      "Testing...\n",
      "Test ep reward: 128.0 seed: 2000\n",
      "Average test reward: 128.0 episode length: 128.0\n",
      "Numpy/Torch/Random Seed:  700\n",
      "Loading model from /notebooks/rl2025/ex1/results/model/CartPole-v1-model4_params.pt ...\n",
      "Testing...\n",
      "Test ep reward: 303.0 seed: 700\n",
      "Average test reward: 303.0 episode length: 303.0\n",
      "Numpy/Torch/Random Seed:  800\n",
      "Loading model from /notebooks/rl2025/ex1/results/model/CartPole-v1-model4_params.pt ...\n",
      "Testing...\n",
      "Test ep reward: 422.0 seed: 800\n",
      "Average test reward: 422.0 episode length: 422.0\n",
      "Numpy/Torch/Random Seed:  900\n",
      "Loading model from /notebooks/rl2025/ex1/results/model/CartPole-v1-model4_params.pt ...\n",
      "Testing...\n",
      "Test ep reward: 444.0 seed: 900\n",
      "Average test reward: 444.0 episode length: 444.0\n",
      "Numpy/Torch/Random Seed:  1000\n",
      "Loading model from /notebooks/rl2025/ex1/results/model/CartPole-v1-model4_params.pt ...\n",
      "Testing...\n",
      "Test ep reward: 707.0 seed: 1000\n",
      "Average test reward: 707.0 episode length: 707.0\n",
      "Numpy/Torch/Random Seed:  2000\n",
      "Loading model from /notebooks/rl2025/ex1/results/model/CartPole-v1-model4_params.pt ...\n",
      "Testing...\n",
      "Test ep reward: 277.0 seed: 2000\n",
      "Average test reward: 277.0 episode length: 277.0\n"
     ]
    }
   ],
   "source": [
    "%%capture --no-stdout\n",
    "test_seeds = [700, 800, 900, 1000, 2000]\n",
    "\n",
    "for i in range(5):\n",
    "    for seed in test_seeds:\n",
    "        assert t.test(episodes=1, cfg_path=Path().cwd()/'cfg'/'cartpole_v1.yaml', \n",
    "            cfg_args=dict(testing=True, seed=seed,save_video=False, save_logging=False, \n",
    "            save_model=False, max_episode_steps=1000, model_name=str(\"CartPole-v1-model\"+str(i)))) > 100\n",
    "\n"
   ]
  },
  {
   "cell_type": "markdown",
   "id": "c5efc121-7d09-4645-804c-25015f5dea2a",
   "metadata": {
    "tags": []
   },
   "source": [
    "**DOUBLE CLICK HERE TO EDIT, CLEAR THIS TEXT AND REPORT HERE**"
   ]
  },
  {
   "cell_type": "markdown",
   "id": "95ff4274",
   "metadata": {
    "deletable": false,
    "editable": false,
    "nbgrader": {
     "cell_type": "markdown",
     "checksum": "4a996d7ff3ccc16e98ef6c64a247a59e",
     "grade": false,
     "grade_id": "cell-7b64e24c45653faa",
     "locked": true,
     "schema_version": 3,
     "solution": false,
     "task": false
    }
   },
   "source": [
    "<a id='Q2'></a>\n",
    "<div class=\" alert alert-warning\">\n",
    "    <h3><b>Student Question 2.1</b> Analysis of Training Performance (15 points) </h3> \n",
    "\n",
    "Are the behavior and performance of the trained models the same every time? Why/why not? Analyze the causes briefly. Hint: the random seed initializes the weights and the environment settings randomly.\n",
    "    \n",
    "🔝\t<a href='#TOC'><b>Table of Contents</b></a>\n",
    "</div>\n"
   ]
  },
  {
   "cell_type": "markdown",
   "id": "eee2bcdb",
   "metadata": {
    "deletable": false,
    "editable": false,
    "nbgrader": {
     "cell_type": "markdown",
     "checksum": "397e056ea791b621a4248328ad689f75",
     "grade": false,
     "grade_id": "cell-7af2d94176449236",
     "locked": true,
     "schema_version": 3,
     "solution": false,
     "task": false
    }
   },
   "source": [
    "Select all the correct answers. You get 3 points for each correct answer. Select at **most** 6 answers, or you will **lose all points**.\n",
    "\n",
    "1. Yes, because the model has been optimized to always reach the highest possible reward regardless of random seeds or initial conditions.\n",
    "\n",
    "2. No, because the training dynamics and the evaluating dynamics are not the same\n",
    "\n",
    "3. No, because the trained model has stochastic behaviour which may perform differently in different environments\n",
    "\n",
    "4. No, the behaviour and performance are not the same, as shown by the different average rewards in previous Task. \n",
    "\n",
    "5. No, because there’s a lot of stochasticity involved in the training process\n",
    "\n",
    "6. No, because agent explores with random actions during training\n",
    "\n",
    "7. No, because policy is initially randomly initialised with random weights, gradient updates of the policy are noisy. \n",
    "\n",
    "8. No, because the environment may be stochastic: agent is randomly initialised in beginning of each episode, (transitions from one state to next one may follow a probability distribution)\n",
    "\n",
    "9. Yes, all machine learning models perform consistently after training due to the deterministic nature of their algorithms."
   ]
  },
  {
   "cell_type": "code",
   "execution_count": 126,
   "id": "24c0e6d4",
   "metadata": {
    "tags": []
   },
   "outputs": [],
   "source": [
    "sq2_1 = [2,3,4,5,6,7] # Answer question 2.1 with the appropriate answer numbers"
   ]
  },
  {
   "cell_type": "code",
   "execution_count": 127,
   "id": "a4f08826",
   "metadata": {
    "deletable": false,
    "editable": false,
    "nbgrader": {
     "cell_type": "code",
     "checksum": "8984880c713f3f91b66fe44e266ed251",
     "grade": true,
     "grade_id": "cell-722a5d335b120083",
     "locked": true,
     "points": 0,
     "schema_version": 3,
     "solution": false,
     "task": false
    },
    "tags": []
   },
   "outputs": [],
   "source": [
    "assert 1 <= len(set(sq2_1)) <= 6\n",
    "assert set(sq2_1) < set(range(1, 10))"
   ]
  },
  {
   "cell_type": "markdown",
   "id": "c5011bb0",
   "metadata": {},
   "source": [
    "Do not remove the following blocks as they are used for grading"
   ]
  },
  {
   "cell_type": "code",
   "execution_count": null,
   "id": "6ea13a03",
   "metadata": {
    "deletable": false,
    "editable": false,
    "nbgrader": {
     "cell_type": "code",
     "checksum": "ecec9d4c828f9bed69a14039122d01f8",
     "grade": true,
     "grade_id": "cell-c78029cac9905a77",
     "locked": true,
     "points": 3,
     "schema_version": 3,
     "solution": false,
     "task": false
    }
   },
   "outputs": [],
   "source": []
  },
  {
   "cell_type": "code",
   "execution_count": null,
   "id": "fa2fbbce",
   "metadata": {
    "deletable": false,
    "editable": false,
    "nbgrader": {
     "cell_type": "code",
     "checksum": "ee347f3560f406aeae33d04d56afa907",
     "grade": true,
     "grade_id": "cell-9d6e251e5ab4caaa",
     "locked": true,
     "points": 3,
     "schema_version": 3,
     "solution": false,
     "task": false
    }
   },
   "outputs": [],
   "source": []
  },
  {
   "cell_type": "code",
   "execution_count": null,
   "id": "cfded39b",
   "metadata": {
    "deletable": false,
    "editable": false,
    "nbgrader": {
     "cell_type": "code",
     "checksum": "b68ba72b4beaba16e6a1a23bd6c7af06",
     "grade": true,
     "grade_id": "cell-0cc6e8153c39e73f",
     "locked": true,
     "points": 3,
     "schema_version": 3,
     "solution": false,
     "task": false
    }
   },
   "outputs": [],
   "source": []
  },
  {
   "cell_type": "code",
   "execution_count": null,
   "id": "5871d663",
   "metadata": {
    "deletable": false,
    "editable": false,
    "nbgrader": {
     "cell_type": "code",
     "checksum": "119a95a042c705feb85c5dc20e6f7143",
     "grade": true,
     "grade_id": "cell-0622d1b37ab64c5f",
     "locked": true,
     "points": 3,
     "schema_version": 3,
     "solution": false,
     "task": false
    }
   },
   "outputs": [],
   "source": []
  },
  {
   "cell_type": "code",
   "execution_count": null,
   "id": "d58c5f09",
   "metadata": {
    "deletable": false,
    "editable": false,
    "nbgrader": {
     "cell_type": "code",
     "checksum": "2482be09b178df1a0623964d5ca75e57",
     "grade": true,
     "grade_id": "cell-cf801ba86d95dc4f",
     "locked": true,
     "points": 3,
     "schema_version": 3,
     "solution": false,
     "task": false
    }
   },
   "outputs": [],
   "source": []
  },
  {
   "cell_type": "markdown",
   "id": "8b248abf",
   "metadata": {
    "deletable": false,
    "editable": false,
    "nbgrader": {
     "cell_type": "markdown",
     "checksum": "dc5ef08285c80b3826ba67701c70dede",
     "grade": false,
     "grade_id": "cell-e0d965bc4eca7b76",
     "locked": true,
     "schema_version": 3,
     "solution": false,
     "task": false
    }
   },
   "source": [
    "<a id='Q3'></a>\n",
    "<div class=\" alert alert-warning\">\n",
    "    <h3><b>Student Question 2.2</b> Stochasticity (10 points) </h3> \n",
    "\n",
    "What are the implications of this stochasticity, when it comes to comparing reinforcement learning algorithms to each other?\n",
    "    \n",
    "🔝\t<a href='#TOC'><b>Table of Contents</b></a>\n",
    "</div>\n"
   ]
  },
  {
   "cell_type": "markdown",
   "id": "b7b41e22",
   "metadata": {
    "deletable": false,
    "editable": false,
    "nbgrader": {
     "cell_type": "markdown",
     "checksum": "626187977d5460c138a08a7220fa18a3",
     "grade": false,
     "grade_id": "cell-20eea1ddc122c6c4",
     "locked": true,
     "schema_version": 3,
     "solution": false,
     "task": false
    }
   },
   "source": [
    "Select **only one**:\n",
    "\n",
    "1. It is only necessary to compare the maximum rewards achieved by each algorithm to determine the best one.\n",
    "\n",
    "2. Stochasticity requires that algorithms be trained and evaluated multiple times to obtain a reliable estimate of performance, including measures of variance besides the average reward.\n",
    "\n",
    "3. Algorithms should be trained once under identical conditions to ensure a fair comparison, focusing on the consistency of the training process.\n",
    "\n",
    "4. The best approach is to evaluate algorithms based on their performance in a single, well-designed test to avoid the confounding effects of random variability."
   ]
  },
  {
   "cell_type": "code",
   "execution_count": 128,
   "id": "ddea5e29",
   "metadata": {
    "tags": []
   },
   "outputs": [],
   "source": [
    "sq2_2 = 2 # Answer question 2.2 with the appropriate answer number"
   ]
  },
  {
   "cell_type": "code",
   "execution_count": 129,
   "id": "47fb2651",
   "metadata": {
    "deletable": false,
    "editable": false,
    "nbgrader": {
     "cell_type": "code",
     "checksum": "8e55384a770d91c7f192f6daeea33c89",
     "grade": true,
     "grade_id": "cell-f97b7298905094bd",
     "locked": true,
     "points": 0,
     "schema_version": 3,
     "solution": false,
     "task": false
    },
    "tags": []
   },
   "outputs": [],
   "source": [
    "assert sq2_2 in range(1,5)"
   ]
  },
  {
   "cell_type": "markdown",
   "id": "82d5d136",
   "metadata": {},
   "source": [
    "The following cells are used for grading"
   ]
  },
  {
   "cell_type": "code",
   "execution_count": null,
   "id": "1f38a7a5",
   "metadata": {
    "deletable": false,
    "editable": false,
    "nbgrader": {
     "cell_type": "code",
     "checksum": "3c9b327530544c6d2be97f448098ae51",
     "grade": true,
     "grade_id": "cell-390e4a656c3243a8",
     "locked": true,
     "points": 10,
     "schema_version": 3,
     "solution": false,
     "task": false
    },
    "tags": []
   },
   "outputs": [],
   "source": []
  },
  {
   "cell_type": "markdown",
   "id": "842afa68",
   "metadata": {
    "deletable": false,
    "editable": false,
    "nbgrader": {
     "cell_type": "markdown",
     "checksum": "c77d78adb7ac2e8073a9ea95d4ddece4",
     "grade": false,
     "grade_id": "cell-18b846ee50e61942",
     "locked": true,
     "schema_version": 3,
     "solution": false,
     "task": false
    }
   },
   "source": [
    "# Reacher <a id='3.'></a>\n",
    "\n",
    "Now we will focus on designing a reward function for a different environment, the Reacher environment, where a two-joint manipulator needs to reach a goal (see Figure 2).\n",
    "\n",
    "<figure>\n",
    "<img src=\"imgs/reacher.png\" width=\"200px\">\n",
    "<figcaption style=\"text-align: center\"> Figure 2: The Reacher environment  </figcaption>\n",
    "</figure>\n",
    "\n",
    "The Cartesian ($x$, $y$) position of the end-effector of the manipulator can be determined following the equation:\n",
    "\n",
    "$$\n",
    " x = L_1 \\sin(\\theta_0)+L_2 \\sin(\\theta_0+\\theta_1)\\\\\n",
    " y = -L_1 \\cos(\\theta_0)-L_2 \\cos(\\theta_0+\\theta_1)\n",
    "$$\n",
    "\n",
    "where $L1 = 1$, $L2 = 1$ are the lengths, and $\\theta_0$, $\\theta_1$ the joint angles of the first and second links respectively. The state (and observation) in this environment is the two element vector:\n",
    "\n",
    "$$\n",
    "o=s=\\left(\\begin{array}{c}\n",
    "\\theta_0 \\\\\n",
    "\\theta_1 \\\\\n",
    "\\end{array}\\right) \\text {, }\n",
    "$$\n",
    "\n",
    "The action space now consists of 5 \"options\"; 4 correspond rotating the first/second joint left/right, and the final one performs no motion at all (the configuration doesn’t change). The episode terminates when the agent reaches the target position, marked in red. Now, let us design a custom reward function and use it for training the RL agent."
   ]
  },
  {
   "cell_type": "markdown",
   "id": "e138b75d",
   "metadata": {
    "deletable": false,
    "editable": false,
    "nbgrader": {
     "cell_type": "markdown",
     "checksum": "ff94517d52449f9ad78ed836e8ae5056",
     "grade": false,
     "grade_id": "cell-47ba07fead317fd8",
     "locked": true,
     "schema_version": 3,
     "solution": false,
     "task": false
    }
   },
   "source": [
    "<a id='T3'></a>\n",
    "<div class=\" alert alert-warning\">\n",
    "    <h3><b>Student Task 3.</b> Reward Functions (20 points) </h3> \n",
    "\n",
    "Below two classes are shown that modify the reward function of the reacher function provided in ```reacher.py```. Edit the function ```get_reward``` _below_ (not in ```reacher.py```) in both classes. For each class, write a reward function to incentivise the agent to learn the following behaviors:\n",
    "\n",
    "Class 1) ```SpinningReacherEnv```: Keep the manipulator rotating clockwise continuously (w.r.t. angle θ_0). You can use a lower number of training episodes for this, e.g. train(cfg_args=dict(env_name='SpinningReacher-v0', train_episodes=200), overrides=['env=reacher_v1'])\n",
    "\n",
    "Class 2) ```TargetReacherEnv```: Reach the goal point located in x = [1.0,1.0] (marked in red). Use at least 500 training episodes.\n",
    "    \n",
    "Train one model for each behavior. \n",
    "\n",
    "**Hint:** Use the observation vector to get the quantities required to compute the new reward (such as the position of the manipulator). You can get the Cartesian position of the end-effector with ```self.get_cartesian_pos(state)```.\n",
    "            \n",
    "🔝\t<a href='#TOC'><b>Table of Contents</b></a>\n",
    "</div>\n"
   ]
  },
  {
   "cell_type": "code",
   "execution_count": 130,
   "id": "32bf76fe",
   "metadata": {
    "tags": []
   },
   "outputs": [
    {
     "name": "stderr",
     "output_type": "stream",
     "text": [
      "/opt/software/lib/python3.10/site-packages/gymnasium/envs/registration.py:693: UserWarning: \u001b[33mWARN: Overriding environment SpinningReacher-v0 already in registry.\u001b[0m\n",
      "  logger.warn(f\"Overriding environment {new_spec.id} already in registry.\")\n",
      "/opt/software/lib/python3.10/site-packages/gymnasium/envs/registration.py:693: UserWarning: \u001b[33mWARN: Overriding environment TargetReacher-v0 already in registry.\u001b[0m\n",
      "  logger.warn(f\"Overriding environment {new_spec.id} already in registry.\")\n"
     ]
    }
   ],
   "source": [
    "from reacher import ReacherEnv\n",
    "from typing import Optional\n",
    "from gymnasium.envs.registration import register\n",
    "\n",
    "class SpinningReacherEnv(ReacherEnv):\n",
    "    def __init__(self, render_mode: Optional[str] = None, max_episode_steps=200):\n",
    "        super().__init__(render_mode=render_mode, max_episode_steps=max_episode_steps)\n",
    "        \n",
    "    def get_reward(self, prev_state, action, next_state):\n",
    "        '''\n",
    "        TODO: Task 3: Implement and test the first reward function\n",
    "        '''\n",
    "        ########## Your code starts here ##########\n",
    "        if action == 1: \n",
    "            reward = 1.0\n",
    "        elif action == 0:  \n",
    "            reward = -1.0\n",
    "        else:  \n",
    "            reward = -0.1  \n",
    "        return reward\n",
    "\n",
    "        return 1\n",
    "        ########## Your codes end here ########## \n",
    "        \n",
    "    \n",
    "register(\"SpinningReacher-v0\",\n",
    "        entry_point=\"%s:SpinningReacherEnv\"%__name__,\n",
    "        max_episode_steps=200)\n",
    "\n",
    "class TargetReacherEnv(ReacherEnv):\n",
    "    def __init__(self, render_mode: Optional[str] = None, max_episode_steps=200):\n",
    "        super().__init__(render_mode=render_mode, max_episode_steps=max_episode_steps)\n",
    "        \n",
    "    def get_reward(self, prev_state, action, next_state):\n",
    "        '''\n",
    "        # TODO: Task 3: Implement and test the second reward function\n",
    "        '''\n",
    "        ########## Your code starts here ##########\n",
    "        ee_pos = self.get_cartesian_pos(next_state)\n",
    "        target = np.array([1.0, 1.0])\n",
    "        \n",
    "        dist = np.linalg.norm(ee_pos - target)\n",
    "        \n",
    "        \n",
    "        reward = -dist\n",
    "        \n",
    "        \n",
    "        if dist < 0.05:\n",
    "            reward += 10.0\n",
    "        \n",
    "        \n",
    "        if action != 4:\n",
    "            reward -= 0.01\n",
    "            \n",
    "        return reward\n",
    "        return 1\n",
    "        ########## Your codes end here ########## \n",
    "        \n",
    "register(\"TargetReacher-v0\",\n",
    "        entry_point=\"%s:TargetReacherEnv\"%__name__,\n",
    "        max_episode_steps=200)"
   ]
  },
  {
   "cell_type": "code",
   "execution_count": 131,
   "id": "765ea45c",
   "metadata": {
    "tags": []
   },
   "outputs": [
    {
     "name": "stdout",
     "output_type": "stream",
     "text": [
      "Numpy/Torch/Random Seed:  1\n",
      "Configuration Settings: {'exp_name': 'ex1', 'seed': 1, 'env_name': 'SpinningReacher-v0', 'model_name': 'SpinningReacher-v0', 'max_episode_steps': 200, 'train_episodes': 200, 'batch_size': 64, 'min_update_samples': 2000, 'testing': False, 'model_path': 'default', 'save_video': True, 'save_model': True, 'save_logging': True, 'silent': False, 'use_wandb': True, 'run_suffix': 0}\n",
      "Training device: cpu\n",
      "Observation space dimensions: 2\n",
      "Action space dimensions: 5\n",
      "\n"
     ]
    },
    {
     "name": "stderr",
     "output_type": "stream",
     "text": [
      "/opt/software/lib/python3.10/site-packages/gymnasium/wrappers/record_video.py:87: UserWarning: \u001b[33mWARN: Overwriting existing videos at /notebooks/rl2025/ex1/results/video/SpinningReacher-v0/train folder (try specifying a different `video_folder` for the `RecordVideo` wrapper if this is not desired)\u001b[0m\n",
      "  logger.warn(\n"
     ]
    },
    {
     "name": "stdout",
     "output_type": "stream",
     "text": [
      "Episode 0 finished. Total reward: -16.299999999999983 (200 timesteps)\n",
      "Episode 5 finished. Total reward: 9.100000000000001 (200 timesteps)\n",
      "Episode 10 finished. Total reward: -10.699999999999985 (200 timesteps)\n",
      "Updating the policy...\n",
      "Updating finished!\n",
      "Episode 15 finished. Total reward: -8.099999999999984 (200 timesteps)\n",
      "Episode 20 finished. Total reward: -8.999999999999973 (200 timesteps)\n",
      "Updating the policy...\n",
      "Updating finished!\n",
      "Episode 25 finished. Total reward: 26.09999999999993 (200 timesteps)\n",
      "Episode 30 finished. Total reward: 11.100000000000009 (200 timesteps)\n",
      "Updating the policy...\n",
      "Updating finished!\n",
      "Episode 35 finished. Total reward: 46.899999999999885 (200 timesteps)\n",
      "Episode 40 finished. Total reward: 37.99999999999988 (200 timesteps)\n",
      "Updating the policy...\n",
      "Updating finished!\n",
      "Episode 45 finished. Total reward: 19.499999999999993 (68 timesteps)\n",
      "Episode 50 finished. Total reward: 21.699999999999992 (53 timesteps)\n",
      "Episode 55 finished. Total reward: 65.39999999999992 (200 timesteps)\n",
      "Updating the policy...\n",
      "Updating finished!\n",
      "Episode 60 finished. Total reward: 69.79999999999995 (170 timesteps)\n",
      "Episode 65 finished. Total reward: 70.29999999999997 (163 timesteps)\n",
      "Updating the policy...\n",
      "Updating finished!\n",
      "Episode 70 finished. Total reward: 135.70000000000013 (200 timesteps)\n",
      "Episode 75 finished. Total reward: 71.99999999999997 (157 timesteps)\n",
      "Episode 80 finished. Total reward: 50.89999999999997 (91 timesteps)\n",
      "Updating the policy...\n",
      "Updating finished!\n",
      "Episode 85 finished. Total reward: 21.799999999999997 (37 timesteps)\n",
      "Episode 90 finished. Total reward: 148.9000000000001 (200 timesteps)\n",
      "Episode 95 finished. Total reward: 145.0000000000001 (189 timesteps)\n",
      "Updating the policy...\n",
      "Updating finished!\n",
      "Episode 100 finished. Total reward: 138.8000000000001 (200 timesteps)\n",
      "Episode 105 finished. Total reward: 47.199999999999996 (60 timesteps)\n",
      "Updating the policy...\n",
      "Updating finished!\n",
      "Episode 110 finished. Total reward: 174.70000000000005 (200 timesteps)\n",
      "Episode 115 finished. Total reward: 109.60000000000005 (125 timesteps)\n",
      "Episode 120 finished. Total reward: 167.40000000000003 (200 timesteps)\n",
      "Updating the policy...\n",
      "Updating finished!\n",
      "Episode 125 finished. Total reward: 180.20000000000005 (200 timesteps)\n",
      "Episode 130 finished. Total reward: 109.50000000000004 (126 timesteps)\n",
      "Updating the policy...\n",
      "Updating finished!\n",
      "Episode 135 finished. Total reward: 185.90000000000003 (200 timesteps)\n",
      "Episode 140 finished. Total reward: 191.20000000000002 (200 timesteps)\n",
      "Updating the policy...\n",
      "Updating finished!\n",
      "Episode 145 finished. Total reward: 195.60000000000002 (200 timesteps)\n",
      "Episode 150 finished. Total reward: 191.20000000000002 (200 timesteps)\n",
      "Updating the policy...\n",
      "Updating finished!\n",
      "Episode 155 finished. Total reward: 194.50000000000003 (200 timesteps)\n",
      "Episode 160 finished. Total reward: 189.00000000000003 (200 timesteps)\n",
      "Updating the policy...\n",
      "Updating finished!\n",
      "Episode 165 finished. Total reward: 195.6 (200 timesteps)\n",
      "Episode 170 finished. Total reward: 198.9 (200 timesteps)\n",
      "Updating the policy...\n",
      "Updating finished!\n",
      "Episode 175 finished. Total reward: 200.0 (200 timesteps)\n",
      "Episode 180 finished. Total reward: 198.9 (200 timesteps)\n",
      "Updating the policy...\n",
      "Updating finished!\n",
      "Episode 185 finished. Total reward: 200.0 (200 timesteps)\n",
      "Episode 190 finished. Total reward: 200.0 (200 timesteps)\n",
      "Updating the policy...\n",
      "Updating finished!\n",
      "Episode 195 finished. Total reward: 200.0 (200 timesteps)\n",
      "Episode 200 finished. Total reward: 200.0 (200 timesteps)\n",
      "Model saved to /notebooks/rl2025/ex1/results/model/SpinningReacher-v0_params.pt\n",
      "------Training finished.------\n"
     ]
    }
   ],
   "source": [
    "if not skip_training:\n",
    "      t.train(cfg_path=Path().cwd()/'cfg'/'reacher_v1.yaml', \n",
    "      cfg_args=dict(env_name='SpinningReacher-v0',model_name='SpinningReacher-v0', train_episodes=200, seed=1)) # < 5 mins"
   ]
  },
  {
   "cell_type": "code",
   "execution_count": 84,
   "id": "2d4cb332",
   "metadata": {
    "tags": []
   },
   "outputs": [
    {
     "name": "stdout",
     "output_type": "stream",
     "text": [
      "Numpy/Torch/Random Seed:  519\n",
      "Loading model from /notebooks/rl2025/ex1/results/model/SpinningReacher-v0_params.pt ...\n",
      "Testing...\n",
      "Test ep reward: 200.0 seed: 25\n",
      "Test ep reward: 200.0 seed: 466\n",
      "Test ep reward: 200.0 seed: 374\n",
      "Test ep reward: 200.0 seed: 517\n",
      "Test ep reward: 200.0 seed: 875\n",
      "Test ep reward: 200.0 seed: 180\n",
      "Test ep reward: 200.0 seed: 20\n",
      "Test ep reward: 200.0 seed: 519\n",
      "Test ep reward: 200.0 seed: 873\n",
      "Test ep reward: 200.0 seed: 768\n",
      "Average test reward: 200.0 episode length: 200.0\n"
     ]
    }
   ],
   "source": [
    "if not skip_training:\n",
    "       t.test(episodes=10, cfg_path=Path().cwd()/'cfg'/'reacher_v1.yaml', \n",
    "       cfg_args=dict(env_name='SpinningReacher-v0',model_name='SpinningReacher-v0', testing=True,seed=None))"
   ]
  },
  {
   "cell_type": "markdown",
   "id": "383507bc",
   "metadata": {
    "deletable": false,
    "editable": false,
    "nbgrader": {
     "cell_type": "markdown",
     "checksum": "ae28a94ff0891a34fcdffc954b90cda2",
     "grade": false,
     "grade_id": "cell-06f756f42a921878",
     "locked": true,
     "schema_version": 3,
     "solution": false,
     "task": false
    }
   },
   "source": [
    "The agent acting in the environment can be seen using the following command. Change the ```path``` to pick the episode you want to visualize. Bear in mind by default video saving for training is taken every 50 episodes."
   ]
  },
  {
   "cell_type": "code",
   "execution_count": 132,
   "id": "555bc002",
   "metadata": {
    "tags": []
   },
   "outputs": [
    {
     "data": {
      "text/html": [
       "<video loop autoplay  >\n",
       " <source src=\"data:video/mp4;base64,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\" type=\"video/mp4\">\n",
       " Your browser does not support the video tag.\n",
       " </video>"
      ],
      "text/plain": [
       "<IPython.core.display.Video object>"
      ]
     },
     "metadata": {},
     "output_type": "display_data"
    }
   ],
   "source": [
    "if not skip_training:\n",
    "      video = Video(work_dir/'video'/'SpinningReacher-v0'/'test'/f'ex1-episode-0.mp4',\n",
    "      embed=True, html_attributes=\"loop autoplay\") # Set html_attributes=\"controls\" for video control\n",
    "      display(video)"
   ]
  },
  {
   "cell_type": "code",
   "execution_count": 133,
   "id": "663c258a",
   "metadata": {
    "tags": []
   },
   "outputs": [
    {
     "name": "stdout",
     "output_type": "stream",
     "text": [
      "Numpy/Torch/Random Seed:  1\n",
      "Configuration Settings: {'exp_name': 'ex1', 'seed': 1, 'env_name': 'TargetReacher-v0', 'model_name': 'TargetReacher-v0', 'max_episode_steps': 200, 'train_episodes': 500, 'batch_size': 64, 'min_update_samples': 2000, 'testing': False, 'model_path': 'default', 'save_video': True, 'save_model': True, 'save_logging': True, 'silent': False, 'use_wandb': True, 'run_suffix': 0}\n",
      "Training device: cpu\n",
      "Observation space dimensions: 2\n",
      "Action space dimensions: 5\n",
      "\n"
     ]
    },
    {
     "name": "stderr",
     "output_type": "stream",
     "text": [
      "/opt/software/lib/python3.10/site-packages/gymnasium/wrappers/record_video.py:87: UserWarning: \u001b[33mWARN: Overwriting existing videos at /notebooks/rl2025/ex1/results/video/TargetReacher-v0/train folder (try specifying a different `video_folder` for the `RecordVideo` wrapper if this is not desired)\u001b[0m\n",
      "  logger.warn(\n"
     ]
    },
    {
     "name": "stdout",
     "output_type": "stream",
     "text": [
      "Episode 0 finished. Total reward: -573.6137799663694 (200 timesteps)\n",
      "Episode 5 finished. Total reward: -535.374376759924 (200 timesteps)\n",
      "Episode 10 finished. Total reward: -605.9627677112636 (200 timesteps)\n",
      "Updating the policy...\n",
      "Updating finished!\n",
      "Episode 15 finished. Total reward: -80.48965376531595 (40 timesteps)\n",
      "Episode 20 finished. Total reward: -371.49731101167146 (200 timesteps)\n",
      "Updating the policy...\n",
      "Updating finished!\n",
      "Episode 25 finished. Total reward: -396.17143803051215 (200 timesteps)\n",
      "Episode 30 finished. Total reward: -380.1374358609634 (200 timesteps)\n",
      "Updating the policy...\n",
      "Updating finished!\n",
      "Episode 35 finished. Total reward: -374.84862562568486 (200 timesteps)\n",
      "Episode 40 finished. Total reward: -211.9564354147055 (121 timesteps)\n",
      "Episode 45 finished. Total reward: -389.49876886327115 (200 timesteps)\n",
      "Episode 50 finished. Total reward: -69.01065547693781 (32 timesteps)\n",
      "Updating the policy...\n",
      "Updating finished!\n",
      "Episode 55 finished. Total reward: -67.9982015688833 (34 timesteps)\n",
      "Episode 60 finished. Total reward: -363.2219820660333 (200 timesteps)\n",
      "Episode 65 finished. Total reward: -109.10162382833724 (71 timesteps)\n",
      "Episode 70 finished. Total reward: -50.43621883950299 (27 timesteps)\n",
      "Updating the policy...\n",
      "Updating finished!\n",
      "Episode 75 finished. Total reward: -79.11789361046807 (36 timesteps)\n",
      "Episode 80 finished. Total reward: -41.91137619956004 (22 timesteps)\n",
      "Episode 85 finished. Total reward: -48.43532680869779 (26 timesteps)\n",
      "Episode 90 finished. Total reward: -35.841580718982414 (21 timesteps)\n",
      "Episode 95 finished. Total reward: -236.1753704731027 (136 timesteps)\n",
      "Episode 100 finished. Total reward: -63.31471445571319 (31 timesteps)\n",
      "Episode 105 finished. Total reward: -72.5787103025761 (58 timesteps)\n",
      "Updating the policy...\n",
      "Updating finished!\n",
      "Episode 110 finished. Total reward: -28.96515971044775 (18 timesteps)\n",
      "Episode 115 finished. Total reward: -365.50906389833284 (200 timesteps)\n",
      "Episode 120 finished. Total reward: -59.1676575328282 (31 timesteps)\n",
      "Episode 125 finished. Total reward: -35.88632814957388 (24 timesteps)\n",
      "Episode 130 finished. Total reward: -189.33860501173697 (103 timesteps)\n",
      "Updating the policy...\n",
      "Updating finished!\n",
      "Episode 135 finished. Total reward: -30.92359206044698 (19 timesteps)\n",
      "Episode 140 finished. Total reward: -35.82740361409481 (20 timesteps)\n",
      "Episode 145 finished. Total reward: -28.329526810959674 (16 timesteps)\n",
      "Episode 150 finished. Total reward: -28.33496292196709 (18 timesteps)\n",
      "Episode 155 finished. Total reward: -45.579901975165825 (22 timesteps)\n",
      "Episode 160 finished. Total reward: -277.35624790784925 (154 timesteps)\n",
      "Episode 165 finished. Total reward: -352.96977993379556 (200 timesteps)\n",
      "Updating the policy...\n",
      "Updating finished!\n",
      "Episode 170 finished. Total reward: -40.98496648373423 (26 timesteps)\n",
      "Episode 175 finished. Total reward: -324.989696385545 (166 timesteps)\n",
      "Episode 180 finished. Total reward: -25.790863279411703 (16 timesteps)\n",
      "Episode 185 finished. Total reward: -38.145430345425396 (23 timesteps)\n",
      "Episode 190 finished. Total reward: -341.1159363456463 (200 timesteps)\n",
      "Episode 195 finished. Total reward: -36.89768651316182 (21 timesteps)\n",
      "Episode 200 finished. Total reward: -364.0851445045648 (200 timesteps)\n",
      "Updating the policy...\n",
      "Updating finished!\n",
      "Episode 205 finished. Total reward: -38.209283515366934 (19 timesteps)\n",
      "Episode 210 finished. Total reward: -194.12340985733445 (118 timesteps)\n",
      "Episode 215 finished. Total reward: -27.22929695113234 (16 timesteps)\n",
      "Episode 220 finished. Total reward: -29.236809246283176 (16 timesteps)\n",
      "Episode 225 finished. Total reward: -208.7891055936684 (116 timesteps)\n",
      "Episode 230 finished. Total reward: -63.02077738114742 (46 timesteps)\n",
      "Updating the policy...\n",
      "Updating finished!\n",
      "Episode 235 finished. Total reward: -38.36258295007722 (20 timesteps)\n",
      "Episode 240 finished. Total reward: -28.47523630521949 (17 timesteps)\n",
      "Episode 245 finished. Total reward: -24.557179452279858 (15 timesteps)\n",
      "Episode 250 finished. Total reward: -37.521700057071875 (19 timesteps)\n",
      "Episode 255 finished. Total reward: -24.949591092868758 (16 timesteps)\n",
      "Episode 260 finished. Total reward: -31.774435082838586 (17 timesteps)\n",
      "Updating the policy...\n",
      "Updating finished!\n",
      "Episode 265 finished. Total reward: -149.82207251493605 (83 timesteps)\n",
      "Episode 270 finished. Total reward: -387.49639662960965 (200 timesteps)\n",
      "Episode 275 finished. Total reward: -24.10594544639618 (14 timesteps)\n",
      "Episode 280 finished. Total reward: -26.823000650560722 (15 timesteps)\n",
      "Episode 285 finished. Total reward: -23.932596763529197 (15 timesteps)\n",
      "Episode 290 finished. Total reward: -142.3021052645214 (84 timesteps)\n",
      "Episode 295 finished. Total reward: -24.283782035164013 (15 timesteps)\n",
      "Episode 300 finished. Total reward: -28.024114034575895 (17 timesteps)\n",
      "Updating the policy...\n",
      "Updating finished!\n",
      "Episode 305 finished. Total reward: -27.59801616223153 (17 timesteps)\n",
      "Episode 310 finished. Total reward: -168.68677821166244 (98 timesteps)\n",
      "Episode 315 finished. Total reward: -26.981033994111982 (15 timesteps)\n",
      "Episode 320 finished. Total reward: -31.248590945191232 (16 timesteps)\n",
      "Episode 325 finished. Total reward: -185.65958351738593 (114 timesteps)\n",
      "Episode 330 finished. Total reward: -31.3411577596974 (19 timesteps)\n",
      "Episode 335 finished. Total reward: -165.22189566029135 (89 timesteps)\n",
      "Episode 340 finished. Total reward: -27.427384279716126 (17 timesteps)\n",
      "Episode 345 finished. Total reward: -27.18254169303055 (17 timesteps)\n",
      "Episode 350 finished. Total reward: -30.103239320717545 (18 timesteps)\n",
      "Updating the policy...\n",
      "Updating finished!\n",
      "Episode 355 finished. Total reward: -26.677857855228616 (15 timesteps)\n",
      "Episode 360 finished. Total reward: -27.18010312291401 (18 timesteps)\n",
      "Episode 365 finished. Total reward: -27.152567200587743 (16 timesteps)\n",
      "Episode 370 finished. Total reward: -34.601937826821946 (19 timesteps)\n",
      "Episode 375 finished. Total reward: -157.91985125545636 (89 timesteps)\n",
      "Episode 380 finished. Total reward: -266.3178590787365 (147 timesteps)\n",
      "Episode 385 finished. Total reward: -149.08615549154317 (85 timesteps)\n",
      "Episode 390 finished. Total reward: -313.97864773079345 (161 timesteps)\n",
      "Episode 395 finished. Total reward: -24.9326579827187 (14 timesteps)\n",
      "Updating the policy...\n",
      "Updating finished!\n",
      "Episode 400 finished. Total reward: -24.59466316797187 (15 timesteps)\n",
      "Episode 405 finished. Total reward: -25.64234821509669 (15 timesteps)\n",
      "Episode 410 finished. Total reward: -25.493925714393075 (15 timesteps)\n",
      "Episode 415 finished. Total reward: -24.482877360771962 (15 timesteps)\n",
      "Episode 420 finished. Total reward: -24.591748633591823 (15 timesteps)\n",
      "Episode 425 finished. Total reward: -29.7467075836643 (17 timesteps)\n",
      "Episode 430 finished. Total reward: -259.6143575512207 (150 timesteps)\n",
      "Episode 435 finished. Total reward: -302.9501371262236 (182 timesteps)\n",
      "Episode 440 finished. Total reward: -54.97847979451476 (39 timesteps)\n",
      "Updating the policy...\n",
      "Updating finished!\n",
      "Episode 445 finished. Total reward: -24.622527222645104 (16 timesteps)\n",
      "Episode 450 finished. Total reward: -30.480398753513015 (17 timesteps)\n",
      "Episode 455 finished. Total reward: -26.135772762760265 (16 timesteps)\n",
      "Episode 460 finished. Total reward: -25.634276950061977 (15 timesteps)\n",
      "Episode 465 finished. Total reward: -25.97941300210582 (15 timesteps)\n",
      "Episode 470 finished. Total reward: -26.83719286564951 (16 timesteps)\n",
      "Episode 475 finished. Total reward: -29.4382352774371 (17 timesteps)\n",
      "Episode 480 finished. Total reward: -27.133749490659692 (15 timesteps)\n",
      "Episode 485 finished. Total reward: -23.910422929320475 (15 timesteps)\n",
      "Episode 490 finished. Total reward: -24.787882860235563 (14 timesteps)\n",
      "Episode 495 finished. Total reward: -30.219944161387616 (16 timesteps)\n",
      "Episode 500 finished. Total reward: -25.290242493376546 (16 timesteps)\n",
      "Model saved to /notebooks/rl2025/ex1/results/model/TargetReacher-v0_params.pt\n",
      "------Training finished.------\n"
     ]
    }
   ],
   "source": [
    "if not skip_training:\n",
    "      t.train(cfg_path=Path().cwd()/'cfg'/'reacher_v1.yaml', \n",
    "      cfg_args=dict(env_name='TargetReacher-v0',model_name='TargetReacher-v0', train_episodes=500, seed=1)) # < 5 mins"
   ]
  },
  {
   "cell_type": "code",
   "execution_count": 134,
   "id": "4714194c",
   "metadata": {
    "tags": []
   },
   "outputs": [
    {
     "name": "stdout",
     "output_type": "stream",
     "text": [
      "Numpy/Torch/Random Seed:  688\n",
      "Loading model from /notebooks/rl2025/ex1/results/model/TargetReacher-v0_params.pt ...\n",
      "Testing...\n",
      "Test ep reward: -16.9005503208479 seed: 434\n"
     ]
    },
    {
     "name": "stderr",
     "output_type": "stream",
     "text": [
      "/opt/software/lib/python3.10/site-packages/gymnasium/wrappers/record_video.py:87: UserWarning: \u001b[33mWARN: Overwriting existing videos at /notebooks/rl2025/ex1/results/video/TargetReacher-v0/test folder (try specifying a different `video_folder` for the `RecordVideo` wrapper if this is not desired)\u001b[0m\n",
      "  logger.warn(\n"
     ]
    },
    {
     "name": "stdout",
     "output_type": "stream",
     "text": [
      "Test ep reward: -25.733267988660124 seed: 308\n",
      "Test ep reward: -28.232740924682247 seed: 922\n",
      "Test ep reward: -25.28231795461684 seed: 231\n",
      "Test ep reward: -28.162024775212824 seed: 961\n",
      "Test ep reward: -23.702047111353757 seed: 363\n",
      "Test ep reward: -25.537271822833365 seed: 626\n",
      "Test ep reward: -24.410540955922603 seed: 905\n",
      "Test ep reward: -26.176459161569557 seed: 497\n",
      "Test ep reward: -25.814203684127 seed: 816\n",
      "Average test reward: -24.995142469982625 episode length: 15.2\n"
     ]
    }
   ],
   "source": [
    "if not skip_training:\n",
    "       t.test(episodes=10, cfg_path=Path().cwd()/'cfg'/'reacher_v1.yaml', \n",
    "       cfg_args=dict(env_name='TargetReacher-v0',model_name='TargetReacher-v0', seed=None, testing=True,))"
   ]
  },
  {
   "cell_type": "code",
   "execution_count": 135,
   "id": "67152513",
   "metadata": {
    "tags": []
   },
   "outputs": [
    {
     "data": {
      "text/html": [
       "<video loop autoplay  >\n",
       " <source src=\"data:video/mp4;base64,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\" type=\"video/mp4\">\n",
       " Your browser does not support the video tag.\n",
       " </video>"
      ],
      "text/plain": [
       "<IPython.core.display.Video object>"
      ]
     },
     "metadata": {},
     "output_type": "display_data"
    }
   ],
   "source": [
    "if not skip_training:\n",
    "      video = Video(work_dir/'video'/'TargetReacher-v0'/'test'/f'ex1-episode-0.mp4',\n",
    "      embed=True, html_attributes=\"loop autoplay\") # Set html_attributes=\"controls\" for video control\n",
    "      display(video)"
   ]
  },
  {
   "cell_type": "markdown",
   "id": "947add89",
   "metadata": {
    "deletable": false,
    "editable": false,
    "nbgrader": {
     "cell_type": "markdown",
     "checksum": "24b4e1b132030de471dd3ab7d7d89a7b",
     "grade": false,
     "grade_id": "cell-8fbe6b6920b12c52",
     "locked": true,
     "schema_version": 3,
     "solution": false,
     "task": false
    }
   },
   "source": [
    "Do not delete the following cells as they are used for grading. Make sure to test that both agents work correctly for the selected set of seeds [860, 241, 73, 543, 582, 211, 524, 484, 954, 656]."
   ]
  },
  {
   "cell_type": "code",
   "execution_count": 136,
   "id": "141e44fe",
   "metadata": {
    "deletable": false,
    "editable": false,
    "nbgrader": {
     "cell_type": "code",
     "checksum": "8d262615dcd66ffad7534f4c0c2a5424",
     "grade": true,
     "grade_id": "cell-626f99384bd58109",
     "locked": true,
     "points": 10,
     "schema_version": 3,
     "solution": false,
     "task": false
    },
    "tags": []
   },
   "outputs": [],
   "source": [
    "%%capture --no-stdout\n",
    "\"TEST CELL\""
   ]
  },
  {
   "cell_type": "code",
   "execution_count": 137,
   "id": "0ee03e99",
   "metadata": {
    "deletable": false,
    "editable": false,
    "nbgrader": {
     "cell_type": "code",
     "checksum": "80c6477f2fe781715a9c816f5434d617",
     "grade": true,
     "grade_id": "cell-233242cce6bb1187",
     "locked": true,
     "points": 10,
     "schema_version": 3,
     "solution": false,
     "task": false
    },
    "tags": []
   },
   "outputs": [],
   "source": [
    "%%capture --no-stdout\n",
    "\"TEST CELL\""
   ]
  },
  {
   "cell_type": "markdown",
   "id": "c384e863",
   "metadata": {
    "deletable": false,
    "editable": false,
    "nbgrader": {
     "cell_type": "markdown",
     "checksum": "b3bb72081ab68915f7c37a6a93a897ee",
     "grade": false,
     "grade_id": "cell-54aa2850dfdfb7d1",
     "locked": true,
     "schema_version": 3,
     "solution": false,
     "task": false
    }
   },
   "source": [
    "<a id='T4'></a>\n",
    "<div class=\" alert alert-warning\">\n",
    "    <h3><b>Student Task 4.</b> Visualizing Behavior </h3> \n",
    "\n",
    "Now, let us visualize the reward function for the second behavior (reaching the goal [1,1]). Plot the values of the second reward function from Task 3 and the learned best action as a function of the state (the joint positions). Use the code below as a starting point. After plotting, answer the questions below.\n",
    "            \n",
    "🔝\t<a href='#TOC'><b>Table of Contents</b></a>\n",
    "</div>\n"
   ]
  },
  {
   "cell_type": "code",
   "execution_count": 138,
   "id": "139b3387",
   "metadata": {
    "tags": []
   },
   "outputs": [],
   "source": [
    "import matplotlib.pyplot as plt\n",
    "import seaborn as sns\n",
    "import gymnasium as gym\n",
    "from agent import Agent, Policy"
   ]
  },
  {
   "cell_type": "code",
   "execution_count": 139,
   "id": "0035a7f8",
   "metadata": {
    "tags": []
   },
   "outputs": [
    {
     "name": "stdout",
     "output_type": "stream",
     "text": [
      "Loading policy from /notebooks/rl2025/ex1/results/model/TargetReacher-v0_params.pt\n"
     ]
    }
   ],
   "source": [
    "env_name = \"TargetReacher-v0\" \n",
    "resolution = 101  # Resolution of the policy/reward image\n",
    "\n",
    "# Load policy from default path to plot\n",
    "policy_dir = Path().cwd()/'results'/'model'/f'{env_name}_params.pt'\n",
    "\n",
    "sns.set()\n",
    "\n",
    "# Create a gym environment\n",
    "env = gym.make(env_name)\n",
    "\n",
    "action_space_dim = u.get_space_dim(env.action_space)\n",
    "observation_space_dim = u.get_space_dim(env.observation_space)\n",
    "policy = Policy(observation_space_dim, action_space_dim)\n",
    "\n",
    "if policy_dir:\n",
    "    policy.load_state_dict(torch.load(policy_dir))\n",
    "    print(\"Loading policy from\", policy_dir)\n",
    "else:\n",
    "    print(\"Plotting a random policy\")"
   ]
  },
  {
   "cell_type": "code",
   "execution_count": 150,
   "id": "170a06be",
   "metadata": {
    "tags": []
   },
   "outputs": [],
   "source": [
    "# Create a grid and initialize arrays to store rewards and actions\n",
    "npoints = resolution\n",
    "state_range = np.linspace(-np.pi, np.pi, npoints)\n",
    "rewards = np.zeros((npoints, npoints))\n",
    "actions = np.zeros((npoints, npoints), dtype=np.int32)\n",
    "\n",
    "# Loop through state[0] and state[1]\n",
    "for i,th1 in enumerate(state_range):\n",
    "    for j,th2 in enumerate(state_range):\n",
    "        # Create the state vector from th1, th2\n",
    "        state = np.array([th1, th2])\n",
    "\n",
    "        # Query the policy and find the most probable action\n",
    "        with torch.no_grad():\n",
    "            action_dist, _ = policy(torch.from_numpy(state).float().unsqueeze(0))\n",
    "        action_probs = action_dist.probs.numpy()\n",
    "\n",
    "        '''\n",
    "        # TODO: Task 4: \n",
    "        # 1. What's the best action, according to the policy?\n",
    "        # 2. Compute the reward given state\n",
    "        '''\n",
    "        ########## Your code starts here ##########\n",
    "        # Use the action probabilities in the action_probs vector\n",
    "        # (it's a numpy array)\n",
    "        actions[i, j] = 0\n",
    "        actions[i,j] = np.argmax(action_probs)\n",
    "        \n",
    "        rewards[i,j] = 0 \n",
    "        state = np.array([th1, th2])\n",
    "        ee_pos = env.get_cartesian_pos(state)  \n",
    "        goal = np.array([1.0, 1.0])  \n",
    "        distance = np.linalg.norm(ee_pos - goal)  \n",
    "        reward = -distance\n",
    "        if distance < 0.05:\n",
    "            reward += 10.0\n",
    "        if actions[i, j] != 4:\n",
    "            reward -= 0.01\n",
    "        rewards[i, j] = reward\n",
    "        ########## Your code ends here ##########\n"
   ]
  },
  {
   "cell_type": "code",
   "execution_count": 151,
   "id": "ea36aa9a",
   "metadata": {
    "tags": []
   },
   "outputs": [
    {
     "data": {
      "image/png": "[encoded data removed]",
      "text/plain": [
       "<Figure size 640x480 with 2 Axes>"
      ]
     },
     "metadata": {},
     "output_type": "display_data"
    }
   ],
   "source": [
    "# Create the reward plot\n",
    "num_ticks = 10\n",
    "tick_skip = max(1, npoints // num_ticks)\n",
    "tick_shift = 2*np.pi/npoints/2\n",
    "tick_points = np.arange(npoints)[::tick_skip] + tick_shift\n",
    "tick_labels = state_range.round(2)[::tick_skip]\n",
    "\n",
    "sns.heatmap(rewards)\n",
    "plt.xticks(tick_points, tick_labels, rotation=45)\n",
    "plt.yticks(tick_points, tick_labels, rotation=45)\n",
    "plt.xlabel(\"J2\")\n",
    "plt.ylabel(\"J1\")\n",
    "plt.title(\"Reward\")\n",
    "plt.suptitle(\"Rewards in %s\" % env_name)\n",
    "plt.show()\n"
   ]
  },
  {
   "cell_type": "code",
   "execution_count": 152,
   "id": "99f6c89a",
   "metadata": {
    "tags": []
   },
   "outputs": [
    {
     "data": {
      "image/png": "[encoded data removed]",
      "text/plain": [
       "<Figure size 640x480 with 2 Axes>"
      ]
     },
     "metadata": {},
     "output_type": "display_data"
    }
   ],
   "source": [
    "# # Create the policy plot\n",
    "cmap = sns.color_palette(\"deep\", action_space_dim)\n",
    "sns.heatmap(actions, cmap=cmap, vmin=0, vmax=action_space_dim-1)\n",
    "plt.xticks(tick_points, tick_labels, rotation=45)\n",
    "plt.yticks(tick_points, tick_labels, rotation=45)\n",
    "colorbar = plt.gca().collections[0].colorbar\n",
    "ticks = np.array(range(action_space_dim))*((action_space_dim-1)/action_space_dim)+0.5\n",
    "colorbar.set_ticks(ticks)\n",
    "if env.spec.id == \"Reacher-v1\":\n",
    "    # In Reacher, we can replace 0..4 with more readable labels\n",
    "    labels = [\"J1+\", \"J1-\", \"J2+\", \"J2-\", \"Stop\"]\n",
    "else:\n",
    "    labels = list(map(str, range(action_space_dim)))\n",
    "colorbar.set_ticklabels(labels)\n",
    "plt.xlabel(\"J2\")\n",
    "plt.ylabel(\"J1\")\n",
    "plt.title(\"Best action\")\n",
    "plt.suptitle(\"Best action in %s\" % env_name)\n",
    "plt.show()"
   ]
  },
  {
   "cell_type": "markdown",
   "id": "7c2187e8-19c3-43a3-8854-7c20a9c73f9d",
   "metadata": {
    "deletable": false,
    "editable": false,
    "nbgrader": {
     "cell_type": "markdown",
     "checksum": "8a786bb3b1a68bc06adae81775588814",
     "grade": false,
     "grade_id": "cell-29064556f36a3c80",
     "locked": true,
     "schema_version": 3,
     "solution": false,
     "task": false
    },
    "tags": []
   },
   "source": [
    "Do not remove this cell as it is used for grading"
   ]
  },
  {
   "cell_type": "markdown",
   "id": "c45dc911",
   "metadata": {
    "deletable": false,
    "editable": false,
    "nbgrader": {
     "cell_type": "markdown",
     "checksum": "38774681f9b8ea8d0c120330f044c23a",
     "grade": false,
     "grade_id": "cell-a90e3e94423fcb0c",
     "locked": true,
     "schema_version": 3,
     "solution": false,
     "task": false
    }
   },
   "source": [
    "<a id='Q4'></a>\n",
    "<div class=\" alert alert-warning\">\n",
    "    <h3><b>Student Question 4.1</b> Achieved Performance (5 points) </h3> \n",
    "\n",
    "Where should the reward be higher for the reaching task? \n",
    "            \n",
    "🔝\t<a href='#TOC'><b>Table of Contents</b></a>\n",
    "</div>\n"
   ]
  },
  {
   "cell_type": "markdown",
   "id": "7011e57b",
   "metadata": {
    "deletable": false,
    "editable": false,
    "nbgrader": {
     "cell_type": "markdown",
     "checksum": "b6af53eeeb3490d7b74f6e2ca3a59c9b",
     "grade": false,
     "grade_id": "cell-e19d78f23a6643a3",
     "locked": true,
     "schema_version": 3,
     "solution": false,
     "task": false
    },
    "tags": []
   },
   "source": [
    "Select **only one**.\n",
    "1. Reward should be higher when the end-effector is far from the goal.\n",
    "2. Reward should be higher when the end-effector is near the goal. \n",
    "3. Reward should be equal in joint space.\n",
    "4. Reward should have noise to improve exploration and be higher when close to the goal.\n",
    "5. Reward should be calculated based on the history, if end-effector is approaching the goal, it should be higher"
   ]
  },
  {
   "cell_type": "code",
   "execution_count": 143,
   "id": "21dbcb90-01c8-4825-bc3e-5f28f0bcf965",
   "metadata": {
    "tags": []
   },
   "outputs": [],
   "source": [
    "sq4_1 = 2 # Answer question 4.1 with the appropriate answer number"
   ]
  },
  {
   "cell_type": "code",
   "execution_count": 144,
   "id": "77452fd6-23f2-4045-9437-3107a3a50a0b",
   "metadata": {
    "deletable": false,
    "editable": false,
    "nbgrader": {
     "cell_type": "code",
     "checksum": "67f2ef8d46163f9aae541c7ff63a427b",
     "grade": true,
     "grade_id": "cell-d6a8fcabc4c42c92",
     "locked": true,
     "points": 0,
     "schema_version": 3,
     "solution": false,
     "task": false
    },
    "tags": []
   },
   "outputs": [],
   "source": [
    "assert sq4_1 in range(1, 6)"
   ]
  },
  {
   "cell_type": "code",
   "execution_count": null,
   "id": "783b614d-8f10-42ed-980e-c2def5d66181",
   "metadata": {
    "deletable": false,
    "editable": false,
    "nbgrader": {
     "cell_type": "code",
     "checksum": "08f817d52414224e40facb15ed356d59",
     "grade": true,
     "grade_id": "cell-385126983a8fd92d",
     "locked": true,
     "points": 5,
     "schema_version": 3,
     "solution": false,
     "task": false
    },
    "tags": []
   },
   "outputs": [],
   "source": []
  },
  {
   "cell_type": "markdown",
   "id": "f77cbd95",
   "metadata": {
    "deletable": false,
    "editable": false,
    "nbgrader": {
     "cell_type": "markdown",
     "checksum": "9114aa69847c9c2be97907cfa2af71a4",
     "grade": false,
     "grade_id": "cell-4346eec80fe675af",
     "locked": true,
     "schema_version": 3,
     "solution": false,
     "task": false
    }
   },
   "source": [
    "<a id='Q5'></a>\n",
    "<div class=\" alert alert-warning\">\n",
    "    <h3><b>Student Question 4.2</b> Analysis of Behaviour (9 points) </h3> \n",
    "\n",
    "Did the policy learn to reach the goal from every possible state (manipulator configuration) in an optimal way (i.e. with lowest possible number of steps)? Why/why not?\n",
    "            \n",
    "🔝\t<a href='#TOC'><b>Table of Contents</b></a>\n",
    "</div>"
   ]
  },
  {
   "cell_type": "markdown",
   "id": "f5b2b7fd",
   "metadata": {
    "deletable": false,
    "editable": false,
    "nbgrader": {
     "cell_type": "markdown",
     "checksum": "79a2ad8ef18bc08b07496b71340a0dfb",
     "grade": false,
     "grade_id": "cell-44ab862bff7d27bf",
     "locked": true,
     "schema_version": 3,
     "solution": false,
     "task": false
    }
   },
   "source": [
    "Select all the correct answers. You get 3 points for each correct answer. Select at **most** 4 answers, or you will **lose all points**.\n",
    "\n",
    "1. Yes, the policy efficiently learns to reach the goal from every state due to comprehensive state exploration.\n",
    "\n",
    "2. No, the policy fails to explore all states adequately because the initial and goal states are nearly constant, leading to limited exploration ability.\n",
    "\n",
    "3. Yes, the model is trained to always find the shortest path due to advanced algorithmic efficiency.\n",
    "\n",
    "4. No, because the policy often chooses longer paths for certain initial states , not exploiting shorter alternatives.\n",
    "\n",
    "5. Yes, continuous training ensures the policy adapts to find the best route from any state over time.\n",
    "\n",
    "6. No, optimal paths are not always found because the exploration phase is limited, causing repeated suboptimal actions.\n",
    "\n",
    "7. No, the policy sometimes achieves the goal optimally, but not consistently across all trials and configurations.\n",
    "\n",
    "8. Yes, the training regime guarantees that all possible configurations are optimally addressed by the final model.\n",
    "\n",
    "9. No, the policy cannot reach from all state because the policy has stochastic behavior.\n",
    "\n",
    "10. No, bacause the policy overfits to the online it collects.\n",
    "\n",
    "11. No, bacause the the reward function is not defined in an optimal way for this task."
   ]
  },
  {
   "cell_type": "code",
   "execution_count": 145,
   "id": "1621dc20",
   "metadata": {
    "tags": []
   },
   "outputs": [],
   "source": [
    "sq4_2 = [4, 6, 7, 10] #Answer question 4.2 with the appropriate answer numbers"
   ]
  },
  {
   "cell_type": "code",
   "execution_count": 146,
   "id": "fcc40e62",
   "metadata": {
    "deletable": false,
    "editable": false,
    "nbgrader": {
     "cell_type": "code",
     "checksum": "343ce1ee6a8e4d8c9e31750dca196477",
     "grade": true,
     "grade_id": "cell-44c69f0bc8c72e3f",
     "locked": true,
     "points": 0,
     "schema_version": 3,
     "solution": false,
     "task": false
    },
    "tags": []
   },
   "outputs": [],
   "source": [
    "assert 1 <= len(set(sq4_2)) <= 4\n",
    "assert set(sq4_2) < set(range(1, 12))"
   ]
  },
  {
   "cell_type": "markdown",
   "id": "3eaeb40d",
   "metadata": {
    "deletable": false,
    "editable": false,
    "nbgrader": {
     "cell_type": "markdown",
     "checksum": "b652e7d56b0faeab487f22b14f619240",
     "grade": false,
     "grade_id": "cell-c1270f97d5ec1f3d",
     "locked": true,
     "schema_version": 3,
     "solution": false,
     "task": false
    }
   },
   "source": [
    "Do not remove the following blocks as they are used for grading"
   ]
  },
  {
   "cell_type": "code",
   "execution_count": null,
   "id": "05031d7b",
   "metadata": {
    "deletable": false,
    "editable": false,
    "nbgrader": {
     "cell_type": "code",
     "checksum": "363e721a50466efc4a48b8eb31060bfc",
     "grade": true,
     "grade_id": "cell-5a73a8d6f1e62a4c",
     "locked": true,
     "points": 3,
     "schema_version": 3,
     "solution": false,
     "task": false
    }
   },
   "outputs": [],
   "source": []
  },
  {
   "cell_type": "code",
   "execution_count": null,
   "id": "75c7b426",
   "metadata": {
    "deletable": false,
    "editable": false,
    "nbgrader": {
     "cell_type": "code",
     "checksum": "7ac4e9f13a548e2d539bd454d10ee8b0",
     "grade": true,
     "grade_id": "cell-b18c9cd3dfeb8639",
     "locked": true,
     "points": 3,
     "schema_version": 3,
     "solution": false,
     "task": false
    }
   },
   "outputs": [],
   "source": []
  },
  {
   "cell_type": "code",
   "execution_count": null,
   "id": "db031f32",
   "metadata": {
    "deletable": false,
    "editable": false,
    "nbgrader": {
     "cell_type": "code",
     "checksum": "27bd6747e4d994a69c36e743a49c9e70",
     "grade": true,
     "grade_id": "cell-20401f4d0e76b565",
     "locked": true,
     "points": 3,
     "schema_version": 3,
     "solution": false,
     "task": false
    }
   },
   "outputs": [],
   "source": []
  },
  {
   "cell_type": "markdown",
   "id": "7c934ffd-63fb-4162-9d90-5682a4d24e0b",
   "metadata": {},
   "source": [
    "<a id='Q6'></a>\n",
    "<div class=\" alert alert-warning\">\n",
    "    <h3><b>Student Question 4.3</b> Checking your knowledge about RL (9 points) </h3> \n",
    "            \n",
    "🔝\t<a href='#TOC'><b>Table of Contents</b></a>\n",
    "</div>"
   ]
  },
  {
   "cell_type": "markdown",
   "id": "60d4b6d0-97c7-4627-9742-8f67563bd815",
   "metadata": {},
   "source": [
    "Select all the true statements. You get 3 points for each correct answer. Select at **most** 4 answers, or you will **lose all points**.\n",
    "\n",
    "1. Each trial in reinforcement learning is called an episode. \n",
    "\n",
    "2. Each trial in reinforcement learning should have the same length.\n",
    "\n",
    "3. Reinforcement learning always requires a model of the environment.\n",
    "\n",
    "4. Once the agent learns, it never makes mistakes again.\n",
    "\n",
    "5. Exploitation means choosing the action that seems best based on past experience.\n",
    "\n",
    "6. Optimal policies are always found in reinforcement learining. \n",
    "\n",
    "7. There is always only one optimal policy.\n",
    "\n",
    "8. The exploration–exploitation trade-off is central to reinforcement learning."
   ]
  },
  {
   "cell_type": "code",
   "execution_count": 147,
   "id": "054d3397-37f7-4c08-8291-e285b80ec907",
   "metadata": {
    "tags": []
   },
   "outputs": [],
   "source": [
    "sq4_3 = [1, 5, 8] #Answer question 4.2 with the appropriate answer numbers"
   ]
  },
  {
   "cell_type": "code",
   "execution_count": 148,
   "id": "c8127189-016c-4e5a-b90f-4040047c63cb",
   "metadata": {
    "deletable": false,
    "editable": false,
    "nbgrader": {
     "cell_type": "code",
     "checksum": "827fe7185982bb28d0d7593ccea30093",
     "grade": true,
     "grade_id": "cell-f6aef306d8725802",
     "locked": true,
     "points": 0,
     "schema_version": 3,
     "solution": false,
     "task": false
    },
    "tags": []
   },
   "outputs": [],
   "source": [
    "assert 1 <= len(set(sq4_3)) <= 4\n",
    "assert set(sq4_3) < set(range(1, 9))"
   ]
  },
  {
   "cell_type": "code",
   "execution_count": null,
   "id": "7241aea4-ff50-4d85-a502-0d1df5d78627",
   "metadata": {
    "deletable": false,
    "editable": false,
    "nbgrader": {
     "cell_type": "code",
     "checksum": "7fb4f785894e812af8f5a4f71dbc3a48",
     "grade": true,
     "grade_id": "cell-9b87d4e533b58f65",
     "locked": true,
     "points": 3,
     "schema_version": 3,
     "solution": false,
     "task": false
    },
    "tags": []
   },
   "outputs": [],
   "source": []
  },
  {
   "cell_type": "code",
   "execution_count": null,
   "id": "3054efbc-e7c1-4583-ad3b-5b7c04ce7958",
   "metadata": {
    "deletable": false,
    "editable": false,
    "nbgrader": {
     "cell_type": "code",
     "checksum": "823ca0672ba2112c1554c928516e9318",
     "grade": true,
     "grade_id": "cell-582e8b9d6a11c222",
     "locked": true,
     "points": 3,
     "schema_version": 3,
     "solution": false,
     "task": false
    },
    "tags": []
   },
   "outputs": [],
   "source": []
  },
  {
   "cell_type": "code",
   "execution_count": null,
   "id": "090291db-697d-495e-850e-d184a04c8224",
   "metadata": {
    "deletable": false,
    "editable": false,
    "nbgrader": {
     "cell_type": "code",
     "checksum": "f8e2c7de06cbb3496a3346d3e652dcd8",
     "grade": true,
     "grade_id": "cell-ffc63b0be74b0da6",
     "locked": true,
     "points": 3,
     "schema_version": 3,
     "solution": false,
     "task": false
    },
    "tags": []
   },
   "outputs": [],
   "source": []
  },
  {
   "cell_type": "markdown",
   "id": "4c50da4d",
   "metadata": {},
   "source": [
    "# 5. Submitting <a id='4.'></a>\n",
    "Ensure all tasks and questions (in ```ex1.ipynb```) are answered and the relevant plots are recorded in the relevant places. Details about attaching images and figures can be found below. The relevant graphs to be included for this assignment are:\n",
    "- Task 1, CartPole ```episodesep_reward``` plot from logged csv file\n",
    "- x2 Task 4 reward plots\n",
    "\n",
    "Ensure the correct model files are saved:\n",
    "- results/model/CartPole-v1_params.pt\n",
    "- results/model/CartPole-v1-model{0-4}_params.pt\n",
    "- results/model/SpinningReacher-v0_params.pt\n",
    "- results/model/TargetReacher-v0_params.pt\n"
   ]
  },
  {
   "cell_type": "code",
   "execution_count": 149,
   "id": "27d551ec",
   "metadata": {
    "deletable": false,
    "editable": false,
    "nbgrader": {
     "cell_type": "code",
     "checksum": "ec29d723e13463965e0cd445e8d76d21",
     "grade": true,
     "grade_id": "cell-b0b285ad316b6cdf",
     "locked": true,
     "points": 0,
     "schema_version": 3,
     "solution": false,
     "task": false
    },
    "tags": []
   },
   "outputs": [
    {
     "ename": "AssertionError",
     "evalue": "",
     "output_type": "error",
     "traceback": [
      "\u001b[0;31m---------------------------------------------------------------------------\u001b[0m",
      "\u001b[0;31mAssertionError\u001b[0m                            Traceback (most recent call last)",
      "Cell \u001b[0;32mIn[149], line 2\u001b[0m\n\u001b[1;32m      1\u001b[0m \u001b[38;5;66;03m# Make sure that skip training is set to True before submission\u001b[39;00m\n\u001b[0;32m----> 2\u001b[0m \u001b[38;5;28;01massert\u001b[39;00m skip_training \u001b[38;5;241m==\u001b[39m \u001b[38;5;28;01mTrue\u001b[39;00m\n",
      "\u001b[0;31mAssertionError\u001b[0m: "
     ]
    }
   ],
   "source": [
    "# Make sure that skip training is set to True before submission\n",
    "assert skip_training == True"
   ]
  },
  {
   "cell_type": "markdown",
   "id": "d4c3b7e3-49a1-4ca6-8484-e9fd422271be",
   "metadata": {},
   "source": [
    "## 5.1 Feedback <a id='5.1'></a>\n",
    "\n",
    "In order to help the staff of the course as well as the forthcoming students, it would be great if you could answer to the following questions in your submission:"
   ]
  },
  {
   "cell_type": "markdown",
   "id": "29381b17-ce64-4a1c-b16c-e82ea2a0af96",
   "metadata": {},
   "source": [
    "1) How much time did you spend solving this exercise? (change the ```hrs``` variable below to a floating point number representing the number of hours taken e.g. 5.43)\n"
   ]
  },
  {
   "cell_type": "code",
   "execution_count": 111,
   "id": "cbc91b59-0048-475d-a679-8e976ba0c7b7",
   "metadata": {
    "tags": []
   },
   "outputs": [],
   "source": [
    "hrs = 5"
   ]
  },
  {
   "cell_type": "markdown",
   "id": "4dbefa77-e4a4-48ec-8049-e52b40fff463",
   "metadata": {},
   "source": [
    "2) Difficulty of each task/question from 1-5 (int or float)"
   ]
  },
  {
   "cell_type": "code",
   "execution_count": null,
   "id": "35321f8a-a156-4953-ba84-689b6e53a0b8",
   "metadata": {},
   "outputs": [],
   "source": [
    "T1 = 1 # Student Task 1. Training a simple model for Cartpole environment\n",
    "Q1_1 = 1 # Student Question 1.1 Learning\n",
    "T2 = 1 # Student Task 2. Investigating training performance\n",
    "Q2_1 = 1 # Student Question 2.1 Analyzing the training performance\n",
    "Q2_2 = 1 # Stochasticity\n",
    "T3 = 3 # Student Task 3. Reward function\n",
    "T4 = 3 # Student Task 4. Visualize behavior\n",
    "Q4_1 = 2 # Student Question 4.1 Achieved performance\n",
    "Q4_2 = 2 # Student Question 4.2 Analysis of behavior\n",
    "Q4_3 = 2 # Student Question 4.3 Checking your knowledge about RL"
   ]
  },
  {
   "cell_type": "markdown",
   "id": "ce4983ba-5031-460d-bdb3-e7cd708ed203",
   "metadata": {},
   "source": [
    "3) How well did you understand the content of the task/question from 1-5? (int or float)\n"
   ]
  },
  {
   "cell_type": "code",
   "execution_count": null,
   "id": "6ed5d535-89b1-4852-81ef-541a0e1d6dcd",
   "metadata": {},
   "outputs": [],
   "source": [
    "T1 = 5 # Student Task 1. Training a simple model for Cartpole environment\n",
    "Q1_1 = 5 # Student Question 1.1 Learning\n",
    "T2 = 5 # Student Task 2. Investigating training performance\n",
    "Q2_1 = 5 # Student Question 2.1 Analyzing the training performance\n",
    "Q2_2 = 5 # Stochasticity\n",
    "T3 = 4 # Student Task 3. Reward function\n",
    "T4 = 1 # Student Task 4. Visualize behavior\n",
    "Q4_1 = 1 # Student Question 4.1 Achieved performance\n",
    "Q4_2 = 1 # Student Question 4.2 Analysis of behavior\n",
    "Q4_3 = 1 # Student Question 4.3 Checking your knowledge about RL"
   ]
  },
  {
   "cell_type": "markdown",
   "id": "f7670bd2-6bff-418a-bf25-fabf1a3e5396",
   "metadata": {},
   "source": [
    "4) General feedback. Consider questions like:\n",
    "\n",
    "    - Did the content of the lecture relate well with the assignment?\n",
    "    - To what extent did you find the material to be potentially useful for your research and studies?\n",
    "    \n",
    "And other feedback you think is worth including. Type in the box below"
   ]
  },
  {
   "cell_type": "markdown",
   "id": "463630b4-2c2f-4926-bd4e-f7d280744d5e",
   "metadata": {},
   "source": [
    "I don't understand the visualize behaviour exercise, it seems I just needed to run the notebook. I don't see any questions related to it. "
   ]
  },
  {
   "cell_type": "markdown",
   "id": "e4330ed5-2f15-4580-bf05-34e9aaf0004c",
   "metadata": {
    "tags": []
   },
   "source": [
    "# References <a id='5.'></a>\n",
    "\n",
    "[1] Sutton, Richard S., and Andrew G. Barto. \"Reinforcement Learning: An Introduction (in progress).\" London, England (2017). http://incompleteideas.net/book/RLbook2018.pdf"
   ]
  },
  {
   "cell_type": "code",
   "execution_count": null,
   "id": "69d837ff-dea1-4e5a-84a1-c1771fe296a1",
   "metadata": {},
   "outputs": [],
   "source": []
  }
 ],
 "metadata": {
  "kernelspec": {
   "display_name": "Python 3",
   "language": "python",
   "name": "python3"
  },
  "language_info": {
   "codemirror_mode": {
    "name": "ipython",
    "version": 3
   },
   "file_extension": ".py",
   "mimetype": "text/x-python",
   "name": "python",
   "nbconvert_exporter": "python",
   "pygments_lexer": "ipython3",
   "version": "3.10.12"
  }
 },
 "nbformat": 4,
 "nbformat_minor": 5
}
