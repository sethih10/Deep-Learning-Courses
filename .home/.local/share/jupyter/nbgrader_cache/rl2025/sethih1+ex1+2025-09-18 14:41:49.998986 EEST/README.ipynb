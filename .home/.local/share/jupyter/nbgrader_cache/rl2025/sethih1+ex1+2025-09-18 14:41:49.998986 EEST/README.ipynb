{
 "cells": [
  {
   "cell_type": "markdown",
   "id": "c5fb1496",
   "metadata": {},
   "source": [
    "# General Notes and Advice\n",
    "\n",
    "## How to Submit\n",
    "Exercises must be done **individually**. We will use **TurnItIn** to verify this. You can work with peers on the solutions but the solution you provide must be your own work. It is advised to ask questions in the [Zulip channel](https://rl2025.zulip.aalto.fi/join/r5sdxtqei2tliueqf3qmak6t/) and attend to the exercise sessions as TAs will assist you on the solutions. It's recommended to use the **Zulip channel** as the main place to ask questions since other people might ask the same questions. However, **avoid sharing your code** in the channel, if the code sharing is needed for your questions, you can have a private discussion with TAs or attend the exercise session.\n",
    "\n",
    "Marking is conducted either automatically and manually by the TAs. Most tasks are automatically graded.\n",
    "\n",
    "### Completing Tasks and Answering Questions\n",
    "**Tasks**: require you to complete a programming assignment. **Plots generated during the training of a task must be in the report.** You can create new cells if you need them.\n",
    "\n",
    "**Questions** are typically multiple-choice questions. These come in two formats:\n",
    "\n",
    "1. **Select only one**: Choose the single best answer from the provided options.\n",
    "\n",
    "1. **Select multiple answers**: You get points for each correct answer, but selecting too many will result in losing all points. Pay attention to the maximum number allowed.\n",
    "\n",
    "**How to answer:**\n",
    "\n",
    "- **Single choice questions**: Assign the answer number to the variable\n",
    "  ```python\n",
    "  sq2_2 = 1  # Answer question 2.2 with answer number 1\n",
    "  ```\n",
    "<br>\n",
    "\n",
    "- **Multiple choice questions**: Assign a list of answer numbers to the variable\n",
    "  ```python\n",
    "  sq4_2 = [1, 2, 3]  # Answer question 4.2 with answer numbers 1, 2, and 3\n",
    "  ```\n",
    "\n",
    "## Feedback\n",
    "In order to help the staff of the course as well as the forthcoming students, it would be great if you could answer to the feedback for each assignment. To give feedback, fill the feedback section at the end of each exercise notebook."
   ]
  },
  {
   "cell_type": "code",
   "execution_count": null,
   "id": "4323d0da-cc31-4705-957d-e60be7e3e4ae",
   "metadata": {},
   "outputs": [],
   "source": []
  }
 ],
 "metadata": {
  "kernelspec": {
   "display_name": "Python 3",
   "language": "python",
   "name": "python3"
  },
  "language_info": {
   "codemirror_mode": {
    "name": "ipython",
    "version": 3
   },
   "file_extension": ".py",
   "mimetype": "text/x-python",
   "name": "python",
   "nbconvert_exporter": "python",
   "pygments_lexer": "ipython3",
   "version": "3.10.12"
  }
 },
 "nbformat": 4,
 "nbformat_minor": 5
}
