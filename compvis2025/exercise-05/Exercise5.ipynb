{
 "cells": [
  {
   "cell_type": "code",
   "execution_count": null,
   "metadata": {
    "tags": []
   },
   "outputs": [],
   "source": [
    "# This cell is used for creating a button that hides/unhides code cells to quickly look only the results.\n",
    "# Works only with Jupyter Notebooks.\n",
    "\n",
    "from IPython.display import HTML\n",
    "\n",
    "HTML('''<script>\n",
    "code_show=true;\n",
    "function code_toggle() {\n",
    "if (code_show){\n",
    "$('div.input').hide();\n",
    "} else {\n",
    "$('div.input').show();\n",
    "}\n",
    "code_show = !code_show\n",
    "}\n",
    "$( document ).ready(code_toggle);\n",
    "</script>\n",
    "<form action=\"javascript:code_toggle()\"><input type=\"submit\" value=\"Click here to toggle on/off the raw code.\"></form>''')"
   ]
  },
  {
   "cell_type": "code",
   "execution_count": null,
   "metadata": {
    "deletable": false,
    "editable": false,
    "nbgrader": {
     "cell_type": "code",
     "checksum": "8c8806a8b3dab7ba9c410ca4052add28",
     "grade": false,
     "grade_id": "cell-9e5decbf6cf3bbfc",
     "locked": true,
     "schema_version": 3,
     "solution": false,
     "task": false
    },
    "tags": []
   },
   "outputs": [],
   "source": [
    "# Description:\n",
    "#   Exercise5 notebook.\n",
    "#\n",
    "# Copyright (C) 2018 Santiago Cortes, Juha Ylioinas\n",
    "#\n",
    "# This software is distributed under the GNU General Public \n",
    "# Licence (version 2 or later); please refer to the file \n",
    "# Licence.txt, included with the software, for details.\n",
    "\n",
    "# Preparations\n",
    "import os\n",
    "import numpy as np\n",
    "import matplotlib.pyplot as plt\n",
    "import cv2\n",
    "\n",
    "# Select data directory\n",
    "if os.path.isdir('/coursedata'):\n",
    "    # JupyterHub\n",
    "    course_data_dir = '/coursedata'\n",
    "elif os.path.isdir('../../../coursedata'):\n",
    "    # Local installation\n",
    "    course_data_dir = '../../../coursedata'\n",
    "else:\n",
    "    # Docker\n",
    "    course_data_dir = '/home/jovyan/work/coursedata/'\n",
    "\n",
    "print('The data directory is %s' % course_data_dir)\n",
    "data_dir = os.path.join(course_data_dir, 'exercise-05-data/')\n",
    "print('Data stored in %s' % data_dir)"
   ]
  },
  {
   "cell_type": "markdown",
   "metadata": {
    "deletable": false,
    "editable": false,
    "nbgrader": {
     "cell_type": "markdown",
     "checksum": "85a78883bd5fb6ac9dfb4a8b0737b20c",
     "grade": false,
     "grade_id": "cell-4383400f088734b3",
     "locked": true,
     "schema_version": 3,
     "solution": false,
     "task": false
    },
    "tags": []
   },
   "source": [
    "# CS-E4850 Computer Vision Exercise Round 5\n",
    "\n",
    "The exercises should be solved and the solutions submitted via Aalto JupyterHub by the deadline. \n",
    "\n",
    "**Deliverables:**\n",
    "- **Jupyter notebook** (.ipynb) containing your solutions to the programming tasks. Do not change the name of the notebook file. It may result in 0 points for the exercise.\n",
    "- **PDF** with your solutions to any pen-and-paper tasks (scanned or typeset, e.g., LaTeX). Make sure the PDF is clearly readable.\n",
    "\n",
    "**Important:**\n",
    "- Fill only the cells marked with `# YOUR CODE HERE`. Do not change function signatures.\n",
    "- You may add extra cells for your own tests, but **do not** overwrite global variables or edit locked cells.\n",
    "- **Never create new cells by menu commands \"Edit/Copy Cells\" and \"Edit/Paste Cells ...\"**. These commands create cells with duplicate ids and make autograding impossible. Use menu commands \"Insert/Insert Cell ...\" or the button with a plus sign to insert new cells.\n",
    "- **All notebooks contain hidden tests** which are used for grading. They are hidden inside read-only cells. Therefore, **the read-only cells should never be removed.** \n",
    "- **Note:** Visible tests mainly check the shapes and data types of your function’s output. Hidden tests check the correctness of your solution more thoroughly. Passing the visible tests does not guarantee full points for the exercise.\n",
    "- **Google Colab warning:** Uploading your assignment notebooks to Colab may cause problems. Colab can overwrite notebook metadata and break the autograding. To avoid this, we recommend copy-pasting your code into the notebooks fetched on JupyterHub. Sorry for the inconvenience.\n",
    "- Be sure that everything that you need to implement should work with the pictures specified by the assignments of this exercise round.\n",
    "- Running the cells in mixed order (which quite often happens while trying different things and debugging) may cause errors. While working on a particular cell be sure that you have freshly run all its preceding cells belonging to the same exercise.\n",
    "- **Before submitting**, simply run all the cells of the notebook (for example, select \"Restart & Run All\" in the menu) and check that all the cells run properly.\n",
    "- **Remember to submit your assignment!**\n",
    "\n",
    "## Remember to do the pen-and-paper assignments given in Exercise05.pdf.\n"
   ]
  },
  {
   "cell_type": "markdown",
   "metadata": {
    "deletable": false,
    "editable": false,
    "nbgrader": {
     "cell_type": "markdown",
     "checksum": "0a1ff19280d34cdb6ac22d7adbd90300",
     "grade": false,
     "grade_id": "cell-42b39c0da96a5373",
     "locked": true,
     "schema_version": 3,
     "solution": false,
     "task": false
    },
    "tags": []
   },
   "source": [
    "## Exercise 1. - Total least squares line fitting. (Pen and paper problem, 10 points)\n",
    "\n",
    "This is a pen-and-paper exercise, which is given in Exercise05.pdf. Submit your solutions for this exercise in PDF format. "
   ]
  },
  {
   "cell_type": "markdown",
   "metadata": {
    "deletable": false,
    "editable": false,
    "nbgrader": {
     "cell_type": "markdown",
     "checksum": "7289e431014c9c3e0f33f95a7a47d1ca",
     "grade": false,
     "grade_id": "cell-35d2a54ebd341d9e",
     "locked": true,
     "schema_version": 3,
     "solution": false,
     "task": false
    },
    "tags": []
   },
   "source": [
    "## Exercise 2. - Robust line fitting using RANSAC (10 points)\n",
    "\n",
    "In this exercise, you will implement robust line fitting using the RANSAC algorithm.\n",
    "\n",
    "### Steps:\n",
    "\n",
    "- **2.1** Load and plot data points\n",
    "- **2.2** Find a line that minimizes the total least squares fitting\n",
    "- **2.3** Implement RANSAC line fitting\n",
    "- **2.4** Display the RANSAC fit and inliers\n",
    "\n",
    "Load and visualize the data in **2.1**, complete the tasks in **2.2** and **2.3**, and visualize the results in **2.4**.\n"
   ]
  },
  {
   "cell_type": "markdown",
   "metadata": {
    "deletable": false,
    "editable": false,
    "nbgrader": {
     "cell_type": "markdown",
     "checksum": "f3b5b0ff5af7a02a8a31cbae809c34d9",
     "grade": false,
     "grade_id": "cell-fec927c865d6d22f",
     "locked": true,
     "schema_version": 3,
     "solution": false,
     "task": false
    },
    "tags": []
   },
   "source": [
    "### 2.1 Load and plot data points"
   ]
  },
  {
   "cell_type": "code",
   "execution_count": null,
   "metadata": {
    "deletable": false,
    "editable": false,
    "nbgrader": {
     "cell_type": "code",
     "checksum": "03edb36e2eb4a049c49d0b8ada817b75",
     "grade": false,
     "grade_id": "cell-6967a0c25fc6e251",
     "locked": true,
     "schema_version": 3,
     "solution": false,
     "task": false
    },
    "tags": []
   },
   "outputs": [],
   "source": [
    "data = np.load(data_dir+'points.npy')\n",
    "x, y = data[0,:], data[1,:]\n",
    "plt.plot(x, y, 'kx')\n",
    "plt.title('Point distribution')\n",
    "plt.axis('equal')\n",
    "plt.show()"
   ]
  },
  {
   "cell_type": "markdown",
   "metadata": {
    "deletable": false,
    "editable": false,
    "nbgrader": {
     "cell_type": "markdown",
     "checksum": "3e87e6c265ecbaa111d5671ce4c5ce86",
     "grade": false,
     "grade_id": "cell-19c35ab43a2dec2d",
     "locked": true,
     "schema_version": 3,
     "solution": false,
     "task": false
    },
    "tags": []
   },
   "source": [
    "### 2.2 Find line that minimizes the total least squares fitting\n",
    "\n",
    "The final step of robust line fitting using RANSAC involves fitting a line to all inlier points using **total least squares**. In this task, you will implement total least squares fitting so it can be used later in your RANSAC algorithm (Step 2.3).\n",
    "\n",
    "### Task:\n",
    "Implement `linefitlsq(x, y)` function that applies total least squares line fitting to the given points and returns the coefficients $(a,b,d)$ of the fitted line  $a x + b y - d = 0$, with $a^2 + b^2 = 1$ (scale is arbitrary; any proportional vector defines the same line).\n",
    "\n",
    "### Function specification:\n",
    "- **Input:** `x` and `y` as 1D NumPy arrays of equal length  \n",
    "- **Output:** a NumPy array `l = np.array([a, b, d])` representing the line $a x + b y - d = 0$  \n",
    "\n",
    "### Hint: \n",
    "- Review Exercise 1 and the slides of Lecture 4\n",
    "- You may use: `np.mean`, `np.vstack`, `np.linalg.eig`.\n"
   ]
  },
  {
   "cell_type": "code",
   "execution_count": null,
   "metadata": {
    "deletable": false,
    "nbgrader": {
     "cell_type": "code",
     "checksum": "c3229526b3df67826cdafd8ccd9889b7",
     "grade": false,
     "grade_id": "cell-e81ccffa5bf4502a",
     "locked": false,
     "schema_version": 3,
     "solution": true,
     "task": false
    },
    "tags": []
   },
   "outputs": [],
   "source": [
    "def linefitlsq(x,y):\n",
    "    ##--your-code-starts-here--##\n",
    "    # YOUR CODE HERE\n",
    "    raise NotImplementedError()\n",
    "    ##--your-code-ends-here--##\n",
    "    l = np.array([a,b,d])\n",
    "    \n",
    "    return l"
   ]
  },
  {
   "cell_type": "code",
   "execution_count": null,
   "metadata": {
    "deletable": false,
    "editable": false,
    "nbgrader": {
     "cell_type": "code",
     "checksum": "bc6c60e31669ac65c967b97dacfa0745",
     "grade": true,
     "grade_id": "cell-6c66de7f455a54eb",
     "locked": true,
     "points": 0,
     "schema_version": 3,
     "solution": false,
     "task": false
    },
    "tags": []
   },
   "outputs": [],
   "source": [
    "# Visible tests\n",
    "\n",
    "l = linefitlsq(x, y)\n",
    "\n",
    "# Existence, type and shape\n",
    "assert isinstance(l, np.ndarray) and l.shape == (3,), \"Return value must be np.ndarray of shape (3,)\"\n",
    "\n",
    "# Create synthetic data: y = 0.5x + 1\n",
    "rng = np.random.default_rng(0)\n",
    "x = np.linspace(-5, 5, 200)\n",
    "y_true = 0.5 * x + 1.0\n",
    "y = y_true + rng.normal(0, 0.05, size=x.shape)\n",
    "\n",
    "l = linefitlsq(x, y)\n",
    "\n",
    "assert abs(0.5 + l[0] / l[1]) < 0.05, \"Slope is incorrect.\"\n",
    "assert abs(1.0 - l[2] / l[1]) < 0.05, \"Intercept is incorrect.\"\n",
    "\n",
    "print(\"All visible tests passed.\")"
   ]
  },
  {
   "cell_type": "code",
   "execution_count": null,
   "metadata": {
    "deletable": false,
    "editable": false,
    "nbgrader": {
     "cell_type": "code",
     "checksum": "5d2b177345157ef3bab1f6b884496878",
     "grade": true,
     "grade_id": "cell-db640c1b1e1a224b",
     "locked": true,
     "points": 1,
     "schema_version": 3,
     "solution": false,
     "task": false
    },
    "tags": []
   },
   "outputs": [],
   "source": [
    "# HIDDEN TEST CELL\n",
    "# This cell contains hidden test cases that will be evaluated after the deadline.\n",
    "# Please do not remove or modify this cell, as it is required for grading.\n"
   ]
  },
  {
   "cell_type": "code",
   "execution_count": null,
   "metadata": {
    "deletable": false,
    "editable": false,
    "nbgrader": {
     "cell_type": "code",
     "checksum": "0813808d87609ee0c1a7c7b8229e7958",
     "grade": true,
     "grade_id": "cell-fb35219863c4310c",
     "locked": true,
     "points": 1,
     "schema_version": 3,
     "solution": false,
     "task": false
    },
    "tags": []
   },
   "outputs": [],
   "source": [
    "# HIDDEN TEST CELL\n",
    "# This cell contains hidden test cases that will be evaluated after the deadline.\n",
    "# Please do not remove or modify this cell, as it is required for grading.\n"
   ]
  },
  {
   "cell_type": "code",
   "execution_count": null,
   "metadata": {
    "deletable": false,
    "editable": false,
    "nbgrader": {
     "cell_type": "code",
     "checksum": "b41703e78f124e10fa6d8b43639d3663",
     "grade": true,
     "grade_id": "cell-c7fa9f4756990953",
     "locked": true,
     "points": 1,
     "schema_version": 3,
     "solution": false,
     "task": false
    },
    "tags": []
   },
   "outputs": [],
   "source": [
    "# HIDDEN TEST CELL\n",
    "# This cell contains hidden test cases that will be evaluated after the deadline.\n",
    "# Please do not remove or modify this cell, as it is required for grading.\n"
   ]
  },
  {
   "cell_type": "markdown",
   "metadata": {
    "deletable": false,
    "editable": false,
    "nbgrader": {
     "cell_type": "markdown",
     "checksum": "ca0e291ebc3193c3d6ec7cfbdee60b46",
     "grade": false,
     "grade_id": "cell-9b9eec671c47b5c3",
     "locked": true,
     "schema_version": 3,
     "solution": false,
     "task": false
    },
    "tags": []
   },
   "source": [
    "### 2.3 RANSAC\n",
    "\n",
    "#### Task:\n",
    "Implement a **RANSAC approach** to estimate a line that best fits to given points as explained in the **slides of Lecture 4**.\n",
    "\n",
    "Repeat the following steps until the required number of iterations `N` is reached.  \n",
    "Start with `N` set to a large value, and update it **adaptively** during the process using the best inlier ratio found so far (see lecture for details):\n",
    "\n",
    "- Randomly select 2 distinct points $(x_i, y_i)$. (If the same point is drawn twice, redraw.)\n",
    "- Fit a line to these 2 points.\n",
    "- Determine the inliers to this line among the remaining points (i.e. points whose distance to the line is less than the given threshold `t`).\n",
    "\n",
    "After reaching the required number of iterations, take the line with the highest number of inliers from the previous stage and **refit** it using **total least squares** on the set of points identified as inliers to that line.\n",
    "\n",
    "#### Return:\n",
    "- The estimated coefficients $(a,b,d)$  of the fitted line  $a x + b y - d = 0$, with $a^2 + b^2 = 1$ (as in Step 2.2) and \n",
    "- The indeces of the inlier points\n",
    "\n",
    "#### Important:\n",
    "- All required RANSAC parameters (threshold `t`, probability `p`, etc.) are already given at the beginning of the algorithm.\n",
    "- Update `max_inliers` (the largest inlier count observed so far). In this task you will **implement the adaptive variant** of `ransac_line_fit`, which **adaptively determine the number of needed iterations**, as presented in the lecture slides. The adaptive logic is already implemented; your task is to keep `max_inliers` up to date."
   ]
  },
  {
   "cell_type": "code",
   "execution_count": null,
   "metadata": {
    "deletable": false,
    "nbgrader": {
     "cell_type": "code",
     "checksum": "a93bb08e6500bfa2f6c735822b0ad66c",
     "grade": false,
     "grade_id": "cell-3fd355d5444714db",
     "locked": false,
     "schema_version": 3,
     "solution": true,
     "task": false
    },
    "tags": []
   },
   "outputs": [],
   "source": [
    "def ransac_line_fit(x, y):\n",
    "\n",
    "    # m is the number of data points\n",
    "    m = np.size(x) * 1.0\n",
    "    # s is the size of the random sample\n",
    "    s = 2\n",
    "    # t is the inlier distance threshold\n",
    "    t = np.sqrt(3.84) * 2\n",
    "    # e is the expected outlier ratio\n",
    "    e = 0.8\n",
    "    # at least one random sample should be free \n",
    "    # from outliers with probability p\n",
    "    p = 0.999\n",
    "    # required number of samples\n",
    "    N_estimated = np.log(1-p) / np.log(1-(1-e)**s)\n",
    "    \n",
    "    # First initialize some variables\n",
    "    N = np.inf\n",
    "    sample_count = 0\n",
    "    max_inliers = 0\n",
    "    best_line = np.zeros((3,1))\n",
    "    \n",
    "    while N > sample_count:\n",
    "        \n",
    "        ##--your-code-starts-here--##\n",
    "        # Pick two random samples\n",
    "        # if the same point is drawn twice, pick again\n",
    "        \n",
    "        # Fit line to these two points\n",
    "        \n",
    "        # Determine the inliers of this line\n",
    "        # (i.e. points whose distance to the line is less than the given threshold t)\n",
    "        \n",
    "        # Keep the line giving most inliers so far\n",
    "        \n",
    "        # YOUR CODE HERE\n",
    "        raise NotImplementedError()\n",
    "        \n",
    "        # Update the outlier ratio estimate based on the best model so far.\n",
    "        # max_inliers = highest number of inliers found up to this iteration\n",
    "        #max_inliers\n",
    "        ##--your-code-ends-here--## \n",
    "        \n",
    "        e = 1 - float(max_inliers) / float(m)\n",
    "\n",
    "        # Update also the estimate for the required number of samples\n",
    "        N = np.log(1-p)/np.log(1-(1-e)**s)\n",
    "        sample_count += 1\n",
    "        \n",
    "    \n",
    "    # Perform total least squares fitting on the inliers of the best RANSAC hypothesis:\n",
    "    # 1. Recompute the inliers for the best line found\n",
    "    # 2. Refit the line using total least squares on all these inliers\n",
    "    ##--your-code-starts-here--##\n",
    "    # YOUR CODE HERE\n",
    "    raise NotImplementedError()\n",
    "    ##--your-code-ends-here--##\n",
    "    \n",
    "    return l, inliers, sample_count\n"
   ]
  },
  {
   "cell_type": "code",
   "execution_count": null,
   "metadata": {
    "deletable": false,
    "editable": false,
    "nbgrader": {
     "cell_type": "code",
     "checksum": "86b8d5fee143337bafd9ef12ab4fc049",
     "grade": true,
     "grade_id": "cell-4b0c99b68e8b7fce",
     "locked": true,
     "points": 0,
     "schema_version": 3,
     "solution": false,
     "task": false
    },
    "tags": []
   },
   "outputs": [],
   "source": [
    "# Visible tests\n",
    "\n",
    "# Load and run the algorithm\n",
    "data = np.load(data_dir+'points.npy')\n",
    "x, y = data[0,:], data[1,:]\n",
    "m = len(x)\n",
    "l, inliers, sample_count = ransac_line_fit(x, y)\n",
    "\n",
    "# Existence, type and shape\n",
    "assert isinstance(l, np.ndarray) and l.shape == (3,), \"Return 'l' must be a NumPy array of shape (3,).\"\n",
    "assert hasattr(inliers, \"__len__\"), \"'inliers' must be an index array or boolean mask.\"\n",
    "\n",
    "# Inlier count\n",
    "inlier_ratio = len(inliers) / m if not isinstance(inliers, np.ndarray) or inliers.dtype != bool else np.count_nonzero(inliers) / m\n",
    "assert inlier_ratio > 0.6 and inlier_ratio < 0.8, \"Inlier ratio is not in the range.\"\n",
    "\n",
    "print(\"All visible tests passed.\")"
   ]
  },
  {
   "cell_type": "code",
   "execution_count": null,
   "metadata": {
    "deletable": false,
    "editable": false,
    "nbgrader": {
     "cell_type": "code",
     "checksum": "d531faf86e5aec0b59931cb367187fbe",
     "grade": true,
     "grade_id": "cell-e681138deee2abb1",
     "locked": true,
     "points": 2,
     "schema_version": 3,
     "solution": false,
     "task": false
    },
    "tags": []
   },
   "outputs": [],
   "source": [
    "# HIDDEN TEST CELL\n",
    "# This cell contains hidden test cases that will be evaluated after the deadline.\n",
    "# Please do not remove or modify this cell, as it is required for grading.\n"
   ]
  },
  {
   "cell_type": "code",
   "execution_count": null,
   "metadata": {
    "deletable": false,
    "editable": false,
    "nbgrader": {
     "cell_type": "code",
     "checksum": "73cdc1d1c274bc4211f5c5db4fe2eaae",
     "grade": true,
     "grade_id": "cell-9f90e1555b971a70",
     "locked": true,
     "points": 3,
     "schema_version": 3,
     "solution": false,
     "task": false
    },
    "tags": []
   },
   "outputs": [],
   "source": [
    "# HIDDEN TEST CELL\n",
    "# This cell contains hidden test cases that will be evaluated after the deadline.\n",
    "# Please do not remove or modify this cell, as it is required for grading.\n"
   ]
  },
  {
   "cell_type": "markdown",
   "metadata": {
    "deletable": false,
    "editable": false,
    "nbgrader": {
     "cell_type": "markdown",
     "checksum": "c33f2022fa13964ba741dbd2812d57ae",
     "grade": false,
     "grade_id": "cell-641268e2914ded66",
     "locked": true,
     "schema_version": 3,
     "solution": false,
     "task": false
    },
    "tags": []
   },
   "source": [
    "### 2.4 Display RANSAC fit and inliers\n",
    "\n",
    "The fitted line and the inliers will be plotted in this step. However, the code is currently missing the line parameters in a form suitable for plotting.\n",
    "\n",
    "#### Task:\n",
    "Implement `line_to_slope_intercept` function which transforms the output of the `ransac_line_fit` function into **slope–intercept form** so that it can be used for plotting. In slope–intercept form, the line is written as:\n",
    "$\n",
    "y = kx + b,\n",
    "$\n",
    "where $k$ and $b$ are the slope and intercept, respectively.\n",
    "\n",
    "Derive the values of $k$ and $b$ based on the output of `ransac_line_fit`, which returns the line parameters in the form $ ax + by - d = 0 $.\n"
   ]
  },
  {
   "cell_type": "code",
   "execution_count": null,
   "metadata": {
    "deletable": false,
    "nbgrader": {
     "cell_type": "code",
     "checksum": "ae4c3d939e5fa0c08d0e3f322ea5c170",
     "grade": false,
     "grade_id": "cell-503bc736f8e9d733",
     "locked": false,
     "schema_version": 3,
     "solution": true,
     "task": false
    },
    "tags": []
   },
   "outputs": [],
   "source": [
    "def line_to_slope_intercept(l):\n",
    "    ##--your-code-starts-here--##\n",
    "    # YOUR CODE HERE\n",
    "    raise NotImplementedError()\n",
    "    ##--your-code-ends-here--#  \n",
    "\n",
    "    return k, b\n",
    "\n",
    "# Load and plot the data points\n",
    "data = np.load(data_dir+'points.npy')\n",
    "x, y = data[0,:], data[1,:]\n",
    "plt.plot(x, y, 'kx')\n",
    "\n",
    "# Run the RANSAC function\n",
    "l, inliers, s_count = ransac_line_fit(x, y)\n",
    "# Transform the line coefficients to slope-intercept form\n",
    "k, b = line_to_slope_intercept(l)\n",
    "\n",
    "# Plot the resulting line and the inliers\n",
    "x_line = np.arange(1, 101)\n",
    "y_line = k * x_line + b\n",
    "plt.plot(x_line, y_line, 'm-', label='RANSAC fit')\n",
    "plt.plot(x[inliers], y[inliers], 'rx', markersize=6, label='Inliers')\n",
    "\n",
    "plt.legend()\n",
    "plt.title('Point distribution')\n",
    "plt.axis('equal')\n",
    "plt.show()\n"
   ]
  },
  {
   "cell_type": "code",
   "execution_count": null,
   "metadata": {
    "deletable": false,
    "editable": false,
    "nbgrader": {
     "cell_type": "code",
     "checksum": "3544b3fc7c2246e5d36dd5225adf1004",
     "grade": true,
     "grade_id": "cell-10496d025e1a6188",
     "locked": true,
     "points": 0,
     "schema_version": 3,
     "solution": false,
     "task": false
    },
    "tags": []
   },
   "outputs": [],
   "source": [
    "# Visible tests\n",
    "k, b = line_to_slope_intercept(l)\n",
    "assert 'k' in globals(), \"Variable 'k' (slope) was not defined.\"\n",
    "assert 'b' in globals(), \"Variable 'b' (intercept) was not defined.\"\n",
    "\n",
    "# Size / shape checks\n",
    "assert np.isscalar(k) or (np.ndim(k) == 0), \"'k' must be a scalar.\"\n",
    "assert np.isscalar(b) or (np.ndim(b) == 0), \"'b' must be a scalar.\"\n",
    "\n",
    "print(\"All visible tests passed.\")"
   ]
  },
  {
   "cell_type": "code",
   "execution_count": null,
   "metadata": {
    "deletable": false,
    "editable": false,
    "nbgrader": {
     "cell_type": "code",
     "checksum": "730e3d8cf0a0819ca3f9ac95dcad1db7",
     "grade": true,
     "grade_id": "cell-f5a5736fc2e2b1f0",
     "locked": true,
     "points": 1,
     "schema_version": 3,
     "solution": false,
     "task": false
    },
    "tags": []
   },
   "outputs": [],
   "source": [
    "# HIDDEN TEST CELL\n",
    "# This cell contains hidden test cases that will be evaluated after the deadline.\n",
    "# Please do not remove or modify this cell, as it is required for grading.\n"
   ]
  },
  {
   "cell_type": "code",
   "execution_count": null,
   "metadata": {
    "deletable": false,
    "editable": false,
    "nbgrader": {
     "cell_type": "code",
     "checksum": "f572cd17ebdd82a2aa7276f099c551bc",
     "grade": true,
     "grade_id": "cell-cb434b9303467058",
     "locked": true,
     "points": 1,
     "schema_version": 3,
     "solution": false,
     "task": false
    },
    "tags": []
   },
   "outputs": [],
   "source": [
    "# HIDDEN TEST CELL\n",
    "# This cell contains hidden test cases that will be evaluated after the deadline.\n",
    "# Please do not remove or modify this cell, as it is required for grading.\n"
   ]
  },
  {
   "cell_type": "markdown",
   "metadata": {
    "deletable": false,
    "editable": false,
    "nbgrader": {
     "cell_type": "markdown",
     "checksum": "e649c173ffea2e3ac103416d194fc464",
     "grade": false,
     "grade_id": "cell-0fb65aaa94f0d13c",
     "locked": true,
     "schema_version": 3,
     "solution": false,
     "task": false
    },
    "tags": []
   },
   "source": [
    "## DEMO - Line detection by Hough transform (no points given)\n",
    "\n",
    "Run the example cell below to illustrate line detection by Hough transform using OpenCV's built-in functions.\n",
    "\n",
    "This demo performs the following steps:\n",
    "\n",
    "- Detects **Canny edges** for the input image  \n",
    "- Calculates the **Hough transform** on the Canny edge image  \n",
    "- Displays the **Hough votes** in an accumulator array  \n",
    "- Draws the **detected lines** on the image "
   ]
  },
  {
   "cell_type": "code",
   "execution_count": null,
   "metadata": {
    "deletable": false,
    "editable": false,
    "nbgrader": {
     "cell_type": "code",
     "checksum": "d70c9dab65d3d7af2cdabbc8262beab2",
     "grade": false,
     "grade_id": "cell-47fcf242204c8896",
     "locked": true,
     "schema_version": 3,
     "solution": false,
     "task": false
    },
    "tags": []
   },
   "outputs": [],
   "source": [
    "# DEMO CELL\n",
    "# Logistic sigmoid function\n",
    "def sigm(x):\n",
    "    return 1 / (1 + np.exp(-x))\n",
    "\n",
    "# Read image\n",
    "I = cv2.imread(data_dir+'board.png', 0)\n",
    "r, c = I.shape\n",
    "\n",
    "plt.figure(1)\n",
    "plt.imshow(I, cmap='bone')\n",
    "plt.title('Original image')\n",
    "plt.axis('off')\n",
    "# Find Canny edges. The input image for cv2.HoughLines should be\n",
    "# a binary image, so a Canny edge image will do just fine.\n",
    "# The Canny edge detector uses hysteresis thresholding, where\n",
    "# there are two different threshold levels.\n",
    "edges = cv2.Canny(I, 80, 130)\n",
    "plt.figure(2)\n",
    "plt.imshow(edges, cmap='gray')\n",
    "plt.title('Canny edges')\n",
    "plt.axis('off')\n",
    "# Compute the Hough transform for the binary image returned by cv2.Canny\n",
    "# cv2.HoughLines returns 2-element vectors containing (rho, theta)\n",
    "# cv2.HoughLines(input image, radius resolution(pixels), angular resolution (radians),treshold )\n",
    "H = cv2.HoughLines(edges, 0.5, np.pi/180, 5)\n",
    "\n",
    "# Display the transform\n",
    "theta = H[:,0,1].ravel()\n",
    "rho = H[:,0,0].ravel()\n",
    "\n",
    "# Create an acculumator array and the bin coordinates for voting\n",
    "x_coord = np.arange(0, np.pi, np.pi/180)\n",
    "y_coord = np.arange(np.amin(rho), np.amax(rho)+1, (np.amax(rho)+1)/50)\n",
    "\n",
    "acc = np.zeros([np.size(y_coord),np.size(x_coord)])\n",
    "\n",
    "# Perform the voting\n",
    "for i in range(np.size(theta)):\n",
    "    x_id = np.argmin(np.abs(x_coord-theta[i]))\n",
    "    y_id = np.argmin(np.abs(y_coord-rho[i]))\n",
    "    acc[y_id, x_id] +=  1\n",
    "\n",
    "# Pass the values through a logistic sigmoid function and normalize\n",
    "# (only for the purpose of better visualization)\n",
    "#acc = sigm(acc)\n",
    "acc /= np.amax(acc)\n",
    "\n",
    "plt.figure(3)\n",
    "plt.imshow(acc,cmap='bone')\n",
    "plt.axis('off')\n",
    "\n",
    "plt.title('Hough transform space')\n",
    "\n",
    "plt.figure(4)\n",
    "plt.imshow(acc,cmap='bone')\n",
    "plt.axis('off')\n",
    "\n",
    "plt.title('Hough transform space')\n",
    "\n",
    "# Compute the Hough transform with higher threshold \n",
    "# for displaying ~30 strongest peaks in the transform space\n",
    "H2 = cv2.HoughLines(edges, 1, np.pi/180, 150)\n",
    "\n",
    "x2 = H2[:,:,1].ravel()\n",
    "y2 = H2[:,:,0].ravel()\n",
    "\n",
    "# Superimpose a plot on the image of the transform that identifies the peaks\n",
    "plt.figure(4)\n",
    "for i in range(np.size(x2)):\n",
    "    x_id = np.argmin(abs(x_coord-x2[i]))\n",
    "    y_id = np.argmin(abs(y_coord-y2[i]))\n",
    "    plt.plot(x_id, y_id, 'xr','Linewidth',0.1)\n",
    "    \n",
    "# Visualize detected lines on top of the Canny edges.\n",
    "plt.figure(5)\n",
    "plt.imshow(edges, cmap='bone')\n",
    "plt.title('Detected lines')\n",
    "plt.axis('off')\n",
    "\n",
    "\n",
    "for ind in range(0,len(H2)):\n",
    "    line=H2[ind,0,:]\n",
    "    rho=line[0]\n",
    "    theta=line[1]\n",
    "    a = np.cos(theta)\n",
    "    b = np.sin(theta)\n",
    "    x0 = a*rho\n",
    "    y0 = b*rho\n",
    "    x1 = int(x0 + 1000*(-b))\n",
    "    y1 = int(y0 + 1000*(a))\n",
    "    x2 = int(x0 - 1000*(-b))\n",
    "    y2 = int(y0 - 1000*(a))\n",
    "\n",
    "    plt.plot((x1,x2),(y1,y2))\n",
    "    \n",
    "#plt.plot(xk, yk, 'm-')\n",
    "plt.xlim([0,np.size(I,1)])\n",
    "plt.ylim([0,np.size(I,0)])\n",
    "plt.gca().invert_yaxis()\n",
    "plt.show()"
   ]
  },
  {
   "cell_type": "code",
   "execution_count": null,
   "metadata": {},
   "outputs": [],
   "source": []
  }
 ],
 "metadata": {
  "kernelspec": {
   "display_name": "Python 3",
   "language": "python",
   "name": "python3"
  },
  "language_info": {
   "codemirror_mode": {
    "name": "ipython",
    "version": 3
   },
   "file_extension": ".py",
   "mimetype": "text/x-python",
   "name": "python",
   "nbconvert_exporter": "python",
   "pygments_lexer": "ipython3",
   "version": "3.10.12"
  }
 },
 "nbformat": 4,
 "nbformat_minor": 4
}
