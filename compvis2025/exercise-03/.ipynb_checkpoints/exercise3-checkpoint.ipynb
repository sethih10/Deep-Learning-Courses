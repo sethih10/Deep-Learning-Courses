{
 "cells": [
  {
   "cell_type": "code",
   "execution_count": null,
   "metadata": {
    "deletable": false,
    "editable": false,
    "nbgrader": {
     "cell_type": "code",
     "checksum": "b2414eddd61c68947e3f1561321227f4",
     "grade": false,
     "grade_id": "cell-73addc3d3aa227ff",
     "locked": true,
     "schema_version": 3,
     "solution": false,
     "task": false
    },
    "tags": []
   },
   "outputs": [],
   "source": [
    "# This cell is used for creating a button that hides/unhides code cells to quickly look only the results.\n",
    "# Works only with Jupyter Notebooks.\n",
    "\n",
    "from __future__ import division\n",
    "\n",
    "from IPython.display import HTML\n",
    "\n",
    "HTML('''<script>\n",
    "code_show=true;\n",
    "function code_toggle() {\n",
    "if (code_show){\n",
    "$('div.input').hide();\n",
    "} else {\n",
    "$('div.input').show();\n",
    "}\n",
    "code_show = !code_show\n",
    "}\n",
    "$( document ).ready(code_toggle);\n",
    "</script>\n",
    "<form action=\"javascript:code_toggle()\"><input type=\"submit\" value=\"Click here to toggle on/off the raw code.\"></form>''')"
   ]
  },
  {
   "cell_type": "code",
   "execution_count": null,
   "metadata": {
    "deletable": false,
    "editable": false,
    "nbgrader": {
     "cell_type": "code",
     "checksum": "c3d20002fcf3bbabeefa5b902c08c3c5",
     "grade": false,
     "grade_id": "cell-a7ff86821044e13e",
     "locked": true,
     "schema_version": 3,
     "solution": false,
     "task": false
    },
    "tags": []
   },
   "outputs": [],
   "source": [
    "# Description:\n",
    "#   Exercise3 notebook.\n",
    "#\n",
    "# Copyright (C) 2018 Santiago Cortes, Juha Ylioinas\n",
    "#\n",
    "# This software is distributed under the GNU General Public \n",
    "# Licence (version 2 or later); please refer to the file \n",
    "# Licence.txt, included with the software, for details.\n",
    "\n",
    "# Preparations\n",
    "import os\n",
    "from IPython import get_ipython\n",
    "from skimage.io import imread\n",
    "from skimage.transform import resize\n",
    "import numpy as np\n",
    "from numpy.fft import fftshift, fft2\n",
    "import matplotlib as mpl\n",
    "import matplotlib.pyplot as plt\n",
    "from scipy.ndimage import gaussian_filter, map_coordinates\n",
    "from scipy.ndimage import convolve as conv2\n",
    "from scipy.ndimage import convolve1d as conv1\n",
    "\n",
    "from utils import *\n",
    "from utils import rgb2gray, imnoise, add_gaussian_noise, gaussian2, affinefit, \\\n",
    "show_pyramid_horizontally, contains_forbidden_usage\n",
    "\n",
    "# Select data directory\n",
    "\n",
    "if os.path.isdir('/coursedata'):\n",
    "    # JupyterHub\n",
    "    course_data_dir = '/coursedata'\n",
    "elif os.path.isdir('../../../coursedata'):\n",
    "    # Local installation\n",
    "    course_data_dir = '../../../coursedata'\n",
    "else:\n",
    "    # Docker\n",
    "    course_data_dir = '/home/jovyan/work/coursedata/'\n",
    "\n",
    "print('The data directory is %s' % course_data_dir)\n",
    "data_dir = os.path.join(course_data_dir, 'exercise-03-data')\n",
    "print('Data stored in %s' % data_dir)"
   ]
  },
  {
   "cell_type": "markdown",
   "metadata": {
    "deletable": false,
    "editable": false,
    "nbgrader": {
     "cell_type": "markdown",
     "checksum": "55c53e21ba8aa67b8ae83efa7d4a4ea8",
     "grade": false,
     "grade_id": "cell-149f5a07d742088b",
     "locked": true,
     "schema_version": 3,
     "solution": false,
     "task": false
    },
    "tags": []
   },
   "source": [
    "# CS-E4850 Computer Vision Exercise Round 3\n",
    "\n",
    "The exercises should be solved and the solutions submitted via Aalto JupyterHub by the deadline.\n",
    "\n",
    "**Deliverables:**\n",
    "- **Jupyter notebook** (.ipynb) containing your solutions to the programming tasks. Do not change the name of the notebook file. It may result in 0 points for the exercise.\n",
    "\n",
    "**Important:**\n",
    "- Fill only the cells marked with `# YOUR CODE HERE`. Do not change function signatures.\n",
    "- You may add extra cells for your own tests, but **do not** overwrite global variables or edit locked cells.\n",
    "- **Never create new cells by menu commands \"Edit/Copy Cells\" and \"Edit/Paste Cells ...\"**. These commands create cells with duplicate ids and make autograding impossible. Use menu commands \"Insert/Insert Cell ...\" or the button with a plus sign to insert new cells.\n",
    "- **All notebooks contain hidden tests** which are used for grading. They are hidden inside read-only cells. Therefore, **the read-only cells should never be removed.** \n",
    "- **Note:** Visible tests mainly check the shapes and data types of your function’s output. Hidden tests check the correctness of your solution more thoroughly. Passing the visible tests does not guarantee full points for the exercise.\n",
    "- **Google Colab warning:** Uploading your assignment notebooks to Colab may cause problems. Colab can overwrite notebook metadata and break the autograding. To avoid this, we recommend copy-pasting your code into the notebooks fetched on JupyterHub. Sorry for the inconvenience.\n",
    "- Be sure that everything that you need to implement should work with the pictures specified by the assignments of this exercise round.\n",
    "- Running the cells in mixed order (which quite often happens while trying different things and debugging) may cause errors. While working on a particular cell be sure that you have freshly run all its preceding cells belonging to the same exercise.\n",
    "- **Before submitting**, simply run all the cells of the notebook (for example, select \"Restart & Run All\" in the menu) and check that all the cells run properly.\n",
    "- **Remember to submit your assignment!**"
   ]
  },
  {
   "cell_type": "markdown",
   "metadata": {
    "tags": []
   },
   "source": [
    "Fill your name and student number below.\n",
    "\n",
    "### Name:\n",
    "### Student number:"
   ]
  },
  {
   "cell_type": "markdown",
   "metadata": {},
   "source": [
    "## This exercise round doesn't have any pen&paper tasks."
   ]
  },
  {
   "cell_type": "markdown",
   "metadata": {
    "deletable": false,
    "editable": false,
    "nbgrader": {
     "cell_type": "markdown",
     "checksum": "7ac3bc3c789f8f95c36140446dba807c",
     "grade": false,
     "grade_id": "cell-d08233da56100c3f",
     "locked": true,
     "schema_version": 3,
     "solution": false,
     "task": false
    },
    "tags": []
   },
   "source": [
    "## Exercise 1 - Image denoising (10 points)\n",
    "\n",
    "In this exercise, you will denoise two noise-corrupted images using the following methods:\n",
    "\n",
    "a) **Gaussian filtering using horizontal and vertical 1D convolutions** (see Section 3.2.1 of Szeliski’s book),\n",
    "\n",
    "b) **Median filtering** (Section 3.3.1 of Szeliski’s book), and <br>\n",
    "\n",
    "c) **Bilateral filtering** (Section 3.3.1 of Szeliski’s book)."
   ]
  },
  {
   "cell_type": "markdown",
   "metadata": {
    "deletable": false,
    "editable": false,
    "nbgrader": {
     "cell_type": "markdown",
     "checksum": "5b6c6a94346e33b7a9af2635cde68f05",
     "grade": false,
     "grade_id": "cell-c0d2ba8940d6fc96",
     "locked": true,
     "schema_version": 3,
     "solution": false,
     "task": false
    },
    "tags": []
   },
   "source": [
    "### Load, corrupt, and visualize test images\n",
    "\n",
    "In this step, you will load a grayscale test image, corrupt it with two types of noise, and display the results:\n",
    "\n",
    "- `imns`: corrupted with **salt-and-pepper** noise\n",
    "- `imng`: corrupted with **Gaussian** noise\n"
   ]
  },
  {
   "cell_type": "code",
   "execution_count": null,
   "metadata": {
    "deletable": false,
    "editable": false,
    "nbgrader": {
     "cell_type": "code",
     "checksum": "4c29dabe2e54436771e5e673ff7b648e",
     "grade": false,
     "grade_id": "cell-53f8384b6a6a7587",
     "locked": true,
     "schema_version": 3,
     "solution": false,
     "task": false
    },
    "tags": []
   },
   "outputs": [],
   "source": [
    "## Load test image\n",
    "## Note: Must be double precision in the interval [0,1].\n",
    "im = rgb2gray(imread(data_dir+'/department2.jpg')) / 255.\n",
    "im = resize(im, (256, 256))\n",
    "\n",
    "## Add noise\n",
    "## \"salt and pepper\" noise\n",
    "imns = imnoise(im, 'salt & pepper', 0.05)\n",
    "## zero-mean gaussian noise\n",
    "imng = im + 0.05*np.random.randn(im.shape[0],im.shape[1])\n",
    "\n",
    "# Display original and noise corrupted images\n",
    "fig, axes = plt.subplots(nrows=1, ncols=3, figsize=(16,8))\n",
    "ax = axes.ravel()\n",
    "ax[0].imshow(im, cmap='gray')\n",
    "ax[0].axis('off')\n",
    "ax[0].set_title(\"Original image\", fontsize=20)\n",
    "ax[1].imshow(imns, cmap='gray')\n",
    "ax[1].axis('off')\n",
    "ax[1].set_title(\"'Salt and pepper'\", fontsize=20)\n",
    "ax[2].imshow(imng, cmap='gray')\n",
    "ax[2].axis('off')\n",
    "ax[2].set_title(\"Gaussian noise corrupted\", fontsize=20)\n",
    "plt.tight_layout()\n",
    "plt.subplots_adjust(top=1.2)\n",
    "plt.show()"
   ]
  },
  {
   "cell_type": "markdown",
   "metadata": {
    "deletable": false,
    "editable": false,
    "nbgrader": {
     "cell_type": "markdown",
     "checksum": "faf53570900eba3713ef8474ada81918",
     "grade": false,
     "grade_id": "cell-2b5223707548e493",
     "locked": true,
     "schema_version": 3,
     "solution": false,
     "task": false
    },
    "tags": []
   },
   "source": [
    "### 1a) Gaussian filtering using horizontal and vertical 1D convolutions\n",
    "\n",
    "In this part, you'll learn how to replace a 2D Gaussian convolution with two faster 1D convolutions by taking advantage of filter separability.  The task is divided into two steps:\n",
    "\n",
    "- **1a) Step 1**: You will begin with a small 3×3 Gaussian kernel to understand how a 2D Gaussian filter can be separated into horizontal and vertical 1D filters.\n",
    "- **1a) Step 2**: You will perform convolution with the 1D filters and verify that the results match the 2D convolution.\n",
    "\n",
    "See Szeliski's book Chapter 3.2.1 Separable filtering, `numpy.linalg.svd` and `scipy.ndimage.convolve1d` for more details.\n"
   ]
  },
  {
   "cell_type": "markdown",
   "metadata": {
    "deletable": false,
    "editable": false,
    "nbgrader": {
     "cell_type": "markdown",
     "checksum": "7da5a8a398bc2ef64cd022169c2e11f0",
     "grade": false,
     "grade_id": "cell-f71c442acd86b921",
     "locked": true,
     "schema_version": 3,
     "solution": false,
     "task": false
    },
    "tags": []
   },
   "source": [
    "#### 1a) Step 1: Separate a 2D Gaussian filter into horizontal and vertical 1D filters\n",
    "Szeliski's Book Chapter 3.2.1: \"*A more direct method is to treat the 2D kernel\n",
    "as a 2D matrix K and to take its singular value decomposition (SVD)*\n",
    "$$\\mathbf{K} = \\sum_i \\sigma_i \\mathbf{u}_i \\mathbf{v}_i$$\n",
    "... $\\sqrt{\\sigma_0}\\mathbf{u}_0$  and $\\sqrt{\\sigma_0}\\mathbf{v}_0^\\top$ *provide the vertical and horizontal kernels*\"\n",
    "\n",
    "##### **Task**\n",
    "Implement the function `separate_filter`. Once complete, you can test it using the following 2D filter:\n",
    "$$\n",
    "\\begin{bmatrix}\n",
    "1 & 2 & 1\\\\\n",
    "2 & 4 & 2\\\\\n",
    "1 & 2 & 1\n",
    "\\end{bmatrix}\n",
    "$$ \n",
    "Do not hard-code $\\sigma$ or kernel size, the function must work with any separable 2D Gaussian filter.\n",
    "\n",
    "In the `separate_filter` function.\n",
    "\n",
    "- Start by computing the **Singular Value Decomposition (SVD)** of the 2D filter.\n",
    "- Then compute the 1D **horizontal** (row vector) and **vertical** (column vector) filters as described above.\n",
    "- The **output vectors** should have the following shapes:\n",
    "  - `gv` should be a column vector of shape (h, 1)\n",
    "  - `gh` should be a row vector of shape (1, w)\n",
    "  \n",
    "  where `h` and `w` are the height and width of the input 2D filter `g`.\n",
    "  \n",
    "##### **Note**\n",
    "- The resulting 1D filters should be able to reconstruct the original 2D filter using matrix multiplication: `gv @ gh`.\n"
   ]
  },
  {
   "cell_type": "code",
   "execution_count": null,
   "metadata": {
    "deletable": false,
    "nbgrader": {
     "cell_type": "code",
     "checksum": "c6466c5ab8b55a46755b30fdcdb02d13",
     "grade": false,
     "grade_id": "separate_filter",
     "locked": false,
     "schema_version": 3,
     "solution": true,
     "task": false
    },
    "tags": []
   },
   "outputs": [],
   "source": [
    "# 2D filter, which will be separated to 1D filters\n",
    "g = [[1, 2, 1], \n",
    "     [2, 4, 2], \n",
    "     [1, 2, 1]]\n",
    "\n",
    "# Implement `separate_filter_svd` which separates the 2D filter `g` \n",
    "# into two 1D filters: `gv` (vertical) and `gh` (horizontal)\n",
    "# See the instructions above for more details.\n",
    "def separate_filter(g):\n",
    "\n",
    "    g = np.array(g)\n",
    "    h, w = g.shape\n",
    "    \n",
    "    ##-your-code-starts-here-##\n",
    "    # YOUR CODE HERE\n",
    "    raise NotImplementedError()\n",
    "    ##-your-code-ends-here-##\n",
    "    \n",
    "    return gv, gh\n"
   ]
  },
  {
   "cell_type": "code",
   "execution_count": null,
   "metadata": {
    "deletable": false,
    "editable": false,
    "nbgrader": {
     "cell_type": "code",
     "checksum": "608a9b0a7d19e77f235c2478c5ca136b",
     "grade": true,
     "grade_id": "visible_separate",
     "locked": true,
     "points": 1,
     "schema_version": 3,
     "solution": false,
     "task": false
    },
    "tags": []
   },
   "outputs": [],
   "source": [
    "# Visible tests\n",
    "\n",
    "# Check shapes and reconstruction\n",
    "g = [[1, 2, 1], \n",
    "     [2, 4, 2], \n",
    "     [1, 2, 1]]\n",
    "gv, gh = separate_filter(g)\n",
    "\n",
    "print(\"Your separated 1D filters\")\n",
    "print(\"gv:\\n\", gv)\n",
    "print(\"gh:\\n\", gh, \"\\n\")\n",
    "\n",
    "reconstructed = gv @ gh\n",
    "print(\"The reconstructed 2D filter:\\n\", reconstructed)\n",
    "\n",
    "reconst_error = np.sum(np.abs(reconstructed - g)) \n",
    "print(f\"Reconstruction error: {reconst_error} \\n\")\n",
    "\n",
    "# Visible asserts\n",
    "assert gv.shape == (3, 1), f'Error: The shape of gv is incorrect. gv should be a column vector of shape (3, 1), but got {gv.shape}.'\n",
    "assert gh.shape == (1, 3), f'Error: The shape of gh is incorrect. gh should be a row vector of shape (1, 3), but got {gh.shape}.'\n",
    "assert np.allclose(reconstructed, g, atol=1e-5), \"The reconstructed 2D filter is not close enough to the original one.\"\n",
    "\n",
    "print('All visible tests passed successfully!')"
   ]
  },
  {
   "cell_type": "code",
   "execution_count": null,
   "metadata": {
    "deletable": false,
    "editable": false,
    "nbgrader": {
     "cell_type": "code",
     "checksum": "d4a864309e590cf757c6fafc82d2c66f",
     "grade": true,
     "grade_id": "hidden_separate",
     "locked": true,
     "points": 1,
     "schema_version": 3,
     "solution": false,
     "task": false
    },
    "tags": []
   },
   "outputs": [],
   "source": [
    "# HIDDEN TEST CELL\n",
    "# This cell contains hidden test cases that will be evaluated after the deadline.\n",
    "# Please do not remove or modify this cell, as it is required for grading.\n"
   ]
  },
  {
   "cell_type": "markdown",
   "metadata": {
    "deletable": false,
    "editable": false,
    "nbgrader": {
     "cell_type": "markdown",
     "checksum": "833636a2d71064da077d50dfa367bcd9",
     "grade": false,
     "grade_id": "cell-6064982697deb0d0",
     "locked": true,
     "schema_version": 3,
     "solution": false,
     "task": false
    },
    "tags": []
   },
   "source": [
    "#### 1a) Step 2: Filter using the horizontal and vertical 1D convolutions \n",
    "\n",
    "First, let's see how filtering is performed using 2D convolution with the `conv2` function. Note that we use a Gaussian filter, `g_large`, with a larger kernel size than in the previous step."
   ]
  },
  {
   "cell_type": "code",
   "execution_count": null,
   "metadata": {
    "deletable": false,
    "editable": false,
    "nbgrader": {
     "cell_type": "code",
     "checksum": "0f0b8c7a9de293f57782154327069744",
     "grade": false,
     "grade_id": "cell-5944be1044ea918c",
     "locked": true,
     "schema_version": 3,
     "solution": false,
     "task": false
    },
    "tags": []
   },
   "outputs": [],
   "source": [
    "# REFERENCE (read-only cell)\n",
    "# 2D convolution with a large kernel size Gaussian\n",
    "\n",
    "# Apply Gaussian filter of std 2.5 \n",
    "sigmad = 2.5\n",
    "g_large,_,_,_,_,_, = gaussian2(sigmad)\n",
    "\n",
    "# Reference results with 2D convolution\n",
    "gflt_imns_2D = conv2(imns, g_large, mode='reflect')\n",
    "gflt_imng_2D = conv2(imng, g_large, mode='reflect')"
   ]
  },
  {
   "cell_type": "markdown",
   "metadata": {
    "deletable": false,
    "editable": false,
    "nbgrader": {
     "cell_type": "markdown",
     "checksum": "b871cc6fec7a571ac7e4b0570bf85b39",
     "grade": false,
     "grade_id": "cell-cb01d905fb1cbbb5",
     "locked": true,
     "schema_version": 3,
     "solution": false,
     "task": false
    },
    "tags": []
   },
   "source": [
    "##### **Task** \n",
    "Now, it's your turn to filter using the horizontal and vertical 1D convolutions. \n",
    " \n",
    "1. Use your previously implemented function, `separate_filter`, to separate the 2D filter `g_large` into horizontal and vertical 1D filters.\n",
    "\n",
    "2. Apply the 1D filters using `conv1` (not `conv2`), performing the filtering operation twice, once in each direction. The result should match the output of the 2D convolution computed earlier.\n",
    "\n",
    "3. Filter both images, `imns` and `imng`, and store the filtering results in the variables `gflt_imns` and `gflt_imng`, respectively.  \n",
    "\n",
    "##### **Important** \n",
    "- **Do not use 2D convolution, e.g. `conv2`, in this task.** The goal is to demonstrate the separability of the filter using two consecutive 1D convolutions.\n",
    "- The `separate_filter` function returns 2D vectors (a column and a row). To use them with `conv1`, you must flatten them to 1D using `.ravel()`, e.g. `gv.ravel()`\n",
    "- You may choose the `mode` parameter freely when using `conv1` (e.g., `'reflect'`, `'nearest'`, etc.). The effect of the chosen mode is limited to the image borders and is accounted for in the tests.\n",
    "- `conv1` is an alias for [`scipy.ndimage.convolve1d`](https://docs.scipy.org/doc/scipy/reference/generated/scipy.ndimage.convolve1d.html). \n",
    "Use the [documentation](https://docs.scipy.org/doc/scipy/reference/generated/scipy.ndimage.convolve1d.html) to check available parameters and usage examples.\n"
   ]
  },
  {
   "cell_type": "code",
   "execution_count": null,
   "metadata": {
    "deletable": false,
    "nbgrader": {
     "cell_type": "code",
     "checksum": "fc193f12eb8016825adeaf9079184e62",
     "grade": false,
     "grade_id": "convolutions",
     "locked": false,
     "schema_version": 3,
     "solution": true,
     "task": false
    },
    "tags": []
   },
   "outputs": [],
   "source": [
    "# Use your previously implemented function to separate the 2D filter `g_large`\n",
    "gv, gh = separate_filter(g_large)\n",
    "\n",
    "# TASK:\n",
    "# Filter using two 1D convolutions: horizontal and vertical.\n",
    "# Filter both images `imns` and `imng, and store the filtering \n",
    "# results in `gflt_imns` and `gflt_imng`, respectively.  \n",
    "# Use conv1 function, conv2 is not allowed here\n",
    "##-your-code-starts-here-##\n",
    "# YOUR CODE HERE\n",
    "raise NotImplementedError()\n",
    "##-your-code-ends-here-##"
   ]
  },
  {
   "cell_type": "code",
   "execution_count": null,
   "metadata": {
    "deletable": false,
    "editable": false,
    "nbgrader": {
     "cell_type": "code",
     "checksum": "3372faaf3920f46a4abc2c8a4c7391fa",
     "grade": true,
     "grade_id": "cell-7c77f542780a7c6e",
     "locked": true,
     "points": 1,
     "schema_version": 3,
     "solution": false,
     "task": false
    },
    "tags": []
   },
   "outputs": [],
   "source": [
    "# Visible tests\n",
    "\n",
    "# Check result shape\n",
    "assert gflt_imns.shape == imns.shape, \"Output shape for gflt_imns is incorrect\"\n",
    "assert gflt_imng.shape == imng.shape, \"Output shape for gflt_imng is incorrect\"\n",
    "\n",
    "# Compare only the central region (to ignore border differences due to padding mode)\n",
    "margin = g_large.shape[0] // 2\n",
    "gflt_imns_crop = gflt_imns[margin:-margin, margin:-margin]\n",
    "gflt_imns_2D_crop = gflt_imns_2D[margin:-margin, margin:-margin]\n",
    "gflt_imng_crop = gflt_imng[margin:-margin, margin:-margin]\n",
    "gflt_imng_2D_crop = gflt_imng_2D[margin:-margin, margin:-margin]\n",
    "\n",
    "# Compute and report reconstruction errors\n",
    "reconst_error_ns = np.sum(np.abs(gflt_imns_crop - gflt_imns_2D_crop))\n",
    "reconst_error_ng = np.sum(np.abs(gflt_imng_crop - gflt_imng_2D_crop))\n",
    "\n",
    "print(\"Reconstruction error (imns):\", reconst_error_ns)\n",
    "print(\"Reconstruction error (imng):\", reconst_error_ng)\n",
    "\n",
    "# Numerical comparison\n",
    "assert np.allclose(gflt_imns_crop, gflt_imns_2D_crop, atol=1e-5), \\\n",
    "    \"gflt_imns does not match the 2D reference result (after cropping borders)\"\n",
    "assert np.allclose(gflt_imng_crop, gflt_imng_2D_crop, atol=1e-5), \\\n",
    "    \"gflt_imng does not match the 2D reference result (after cropping borders)\"\n",
    "\n",
    "# Check for forbidden usage of conv2 in the last executed cell\n",
    "history = get_ipython().history_manager.input_hist_raw\n",
    "previous_code = history[-2]  # last executed code (excluding this test cell)\n",
    "# Perform the assertions\n",
    "assert not contains_forbidden_usage(previous_code, (\n",
    "    \"conv2\", \"convolve\", \"scipy.ndimage.convolve\", \"scipy.signal.convolve2d\", \"cv2.filter2D\", \"scipy.ndimage.correlate\")), (\n",
    "    \"You used 2D convolution in a task that requires separable filtering using `conv1`. \"\n",
    "    \"Please replace 2D convolution with two `conv1` calls (one per direction).\"\n",
    ")\n",
    "\n",
    "assert not contains_forbidden_usage(previous_code,  (\"gflt_imns_2D\", \"gflt_imng_2D\")), (\n",
    "    \"You assigned your result from a precomputed 2D result (e.g., `gflt_imns_2D`). \"\n",
    "    \"Please apply filtering with `conv1` instead.\")\n",
    "\n",
    "print('All visible tests passed successfully!')"
   ]
  },
  {
   "cell_type": "code",
   "execution_count": null,
   "metadata": {
    "deletable": false,
    "editable": false,
    "nbgrader": {
     "cell_type": "code",
     "checksum": "7c009077fea6a089573103f70b4124cc",
     "grade": true,
     "grade_id": "cell-0c32e7f45c4d2ba1",
     "locked": true,
     "points": 1,
     "schema_version": 3,
     "solution": false,
     "task": false
    },
    "tags": []
   },
   "outputs": [],
   "source": [
    "# HIDDEN TEST CELL\n",
    "# This cell contains hidden test cases that will be evaluated after the deadline.\n",
    "# Please do not remove or modify this cell, as it is required for grading.\n"
   ]
  },
  {
   "cell_type": "markdown",
   "metadata": {
    "deletable": false,
    "editable": false,
    "nbgrader": {
     "cell_type": "markdown",
     "checksum": "e2ea9f8612de206809b9d4e84770bb52",
     "grade": false,
     "grade_id": "cell-0d93f02209f67a34",
     "locked": true,
     "schema_version": 3,
     "solution": false,
     "task": false
    },
    "tags": []
   },
   "source": [
    "### 1b) Median filtering\n",
    "\n",
    "The second denoising method in Exercise 1 is median filtering. \n",
    "\n",
    "This task is divided into two steps:\n",
    " \n",
    "- 1b) Step 1: Complete the `median_filter` function by implementing the missing code.\n",
    "- 1b) Step 2: Apply your implemented `median_filter` function to the two noisy images."
   ]
  },
  {
   "cell_type": "markdown",
   "metadata": {
    "deletable": false,
    "editable": false,
    "nbgrader": {
     "cell_type": "markdown",
     "checksum": "925640e1154f29358fad94d9e5804a4d",
     "grade": false,
     "grade_id": "cell-90b0f303cedd1a8c",
     "locked": true,
     "schema_version": 3,
     "solution": false,
     "task": false
    },
    "tags": []
   },
   "source": [
    "#### 1b) Step 1: Complete the `median_filter` function\n",
    "\n",
    "Median filtering works by extracting a local patch around each pixel and replacing the pixel value with the median of that patch.\n",
    "\n",
    "**Task:** Complete the missing code in the `median_filter` function to apply median filtering to a grayscale image.\n",
    "\n",
    "**Note:** Be careful when computing the patch boundaries! Ensure your indexing handles image borders correctly, and that the extracted patch has the correct size.\n"
   ]
  },
  {
   "cell_type": "code",
   "execution_count": null,
   "metadata": {
    "deletable": false,
    "nbgrader": {
     "cell_type": "code",
     "checksum": "d5e585ebb3dbd39fb813366aa0eb83fa",
     "grade": false,
     "grade_id": "median_filter",
     "locked": false,
     "schema_version": 3,
     "solution": true,
     "task": false
    },
    "tags": []
   },
   "outputs": [],
   "source": [
    "def median_filter(img, wsize):\n",
    "    nrows, ncols = img.shape\n",
    "    output = np.zeros([nrows, ncols])\n",
    "    k = (wsize - 1) / 2\n",
    "\n",
    "    for i in range(nrows):\n",
    "        for j in range(ncols):\n",
    "            # Calculate local region limits\n",
    "            iMin = int(max(i - k, 0))\n",
    "            iMax = int(min(i + k, nrows - 1))\n",
    "            jMin = int(max(j - k, 0))\n",
    "            jMax = int(min(j + k, ncols - 1))\n",
    "\n",
    "            # Use the region limits to extract a local patch from the image,\n",
    "            # calculate the median value and store it at the correct \n",
    "            # index in the output.\n",
    "\n",
    "            ##-your-code-starts-here-##\n",
    "            # YOUR CODE HERE\n",
    "            raise NotImplementedError()\n",
    "            ##-your-code-ends-here-##\n",
    "\n",
    "    return output"
   ]
  },
  {
   "cell_type": "code",
   "execution_count": null,
   "metadata": {
    "deletable": false,
    "editable": false,
    "nbgrader": {
     "cell_type": "code",
     "checksum": "0ad1d716516d7bf286102fdfacdc86e7",
     "grade": true,
     "grade_id": "cell-fff30430e0ce72bf",
     "locked": true,
     "points": 1,
     "schema_version": 3,
     "solution": false,
     "task": false
    },
    "tags": []
   },
   "outputs": [],
   "source": [
    "# Visible tests for median_filter\n",
    "\n",
    "# Small test image\n",
    "test_img = np.array([\n",
    "    [10, 20, 30],\n",
    "    [40, 50, 60],\n",
    "    [70, 80, 90]\n",
    "])\n",
    "\n",
    "# Expected output when applying 3x3 median filter to center\n",
    "expected_median_center = 50\n",
    "\n",
    "# Run the function\n",
    "output = median_filter(test_img, wsize=3)\n",
    "\n",
    "# Test shape\n",
    "assert output.shape == test_img.shape, \"Output shape is incorrect.\"\n",
    "\n",
    "# Test center pixel median value\n",
    "assert output[1, 1] == expected_median_center, \"Median value at center is incorrect.\"\n",
    "\n",
    "print(\"All visible tests passed!\")\n"
   ]
  },
  {
   "cell_type": "code",
   "execution_count": null,
   "metadata": {
    "deletable": false,
    "editable": false,
    "nbgrader": {
     "cell_type": "code",
     "checksum": "918daffba264ae730d83865ac42b67eb",
     "grade": true,
     "grade_id": "cell-b254e5cd60cb5931",
     "locked": true,
     "points": 1,
     "schema_version": 3,
     "solution": false,
     "task": false
    },
    "tags": []
   },
   "outputs": [],
   "source": [
    "# HIDDEN TEST CELL\n",
    "# This cell contains hidden tests for grading after the deadline.\n",
    "# Please do not remove or modify this cell.\n"
   ]
  },
  {
   "cell_type": "markdown",
   "metadata": {
    "deletable": false,
    "editable": false,
    "nbgrader": {
     "cell_type": "markdown",
     "checksum": "72415d58f4dc2c366c60a0d0a2fe5ac8",
     "grade": false,
     "grade_id": "cell-4e47dc9ed3b3a2cd",
     "locked": true,
     "schema_version": 3,
     "solution": false,
     "task": false
    },
    "tags": []
   },
   "source": [
    "#### 1b) Step 2: Apply your implemented `median_filter` function\n",
    "\n",
    "**Task:** Apply your `median_filter` function with a 5×5 neighborhood size to both noisy images, `imns` and `imng`, and store the results in `medflt_imns` and `medflt_imng`, respectively."
   ]
  },
  {
   "cell_type": "code",
   "execution_count": null,
   "metadata": {
    "deletable": false,
    "nbgrader": {
     "cell_type": "code",
     "checksum": "7475d80e8b43b2408896a0c31f4c3aa8",
     "grade": false,
     "grade_id": "cell-1a3d365d6a50a029",
     "locked": false,
     "schema_version": 3,
     "solution": true,
     "task": false
    },
    "tags": []
   },
   "outputs": [],
   "source": [
    "##-your-code-starts-here-##\n",
    "# YOUR CODE HERE\n",
    "raise NotImplementedError()\n",
    "##-your-code-ends-here-##"
   ]
  },
  {
   "cell_type": "code",
   "execution_count": null,
   "metadata": {
    "deletable": false,
    "editable": false,
    "nbgrader": {
     "cell_type": "code",
     "checksum": "528f61a81dca7eefa8ad8300745355d6",
     "grade": true,
     "grade_id": "cell-9799fa128c03a9a3",
     "locked": true,
     "points": 1,
     "schema_version": 3,
     "solution": false,
     "task": false
    },
    "tags": []
   },
   "outputs": [],
   "source": [
    "# Visible tests for applying median_filter\n",
    "\n",
    "assert 'medflt_imns' in locals(), \"Variable medflt_imns not defined.\"\n",
    "assert 'medflt_imng' in locals(), \"Variable medflt_imng not defined.\"\n",
    "assert medflt_imns.shape == imns.shape, \"medflt_imns shape mismatch.\"\n",
    "assert medflt_imng.shape == imng.shape, \"medflt_imng shape mismatch.\"\n",
    "\n",
    "print(\"All visible tests passed!\")"
   ]
  },
  {
   "cell_type": "code",
   "execution_count": null,
   "metadata": {
    "deletable": false,
    "editable": false,
    "nbgrader": {
     "cell_type": "code",
     "checksum": "3d329256ce8ffe422bafcb36457dc91b",
     "grade": true,
     "grade_id": "cell-e15cf4d3f4fa96d2",
     "locked": true,
     "points": 1,
     "schema_version": 3,
     "solution": false,
     "task": false
    },
    "tags": []
   },
   "outputs": [],
   "source": [
    "# HIDDEN TEST CELL\n",
    "# This cell contains hidden tests for grading after the deadline.\n",
    "# Please do not remove or modify this cell.\n"
   ]
  },
  {
   "cell_type": "markdown",
   "metadata": {
    "deletable": false,
    "editable": false,
    "nbgrader": {
     "cell_type": "markdown",
     "checksum": "750276f68d5e3fb41ee2a43f9cffd43f",
     "grade": false,
     "grade_id": "cell-c49025c3139f0a3e",
     "locked": true,
     "schema_version": 3,
     "solution": false,
     "task": false
    },
    "tags": []
   },
   "source": [
    "### 1c) Bilateral filtering\n",
    "\n",
    "**Task:** Implement `bilateral_filter` function.\n",
    "- Use formulas (3.34)-(3.37) from Szeliski's book.\n",
    "- You may freely decide in which mode ('full', 'valid', or 'same') your  function runs (only one implementation enough), but note that with 'full' and 'same' you need to take care how the borders are handled (padded).\n",
    "- Finally, replace the zero image, `output`,  with your bilateral filtering output.\n"
   ]
  },
  {
   "cell_type": "code",
   "execution_count": null,
   "metadata": {
    "deletable": false,
    "nbgrader": {
     "cell_type": "code",
     "checksum": "09d1e7a1bd116ec3915c1e040173a112",
     "grade": false,
     "grade_id": "cell-36650d8a17d272df",
     "locked": false,
     "schema_version": 3,
     "solution": true,
     "task": false
    },
    "tags": []
   },
   "outputs": [],
   "source": [
    "def bilateral_filter(img, wsize, sigma_d, sigma_r):\n",
    "    \n",
    "    ##-your-code-starts-here-##\n",
    "    # YOUR CODE HERE\n",
    "    raise NotImplementedError()\n",
    "    ##-your-code-ends-here-##\n",
    "    \n",
    "    return output\n"
   ]
  },
  {
   "cell_type": "code",
   "execution_count": null,
   "metadata": {
    "deletable": false,
    "editable": false,
    "nbgrader": {
     "cell_type": "code",
     "checksum": "542809a59455e227b72d7b2ddacf5062",
     "grade": true,
     "grade_id": "cell-627d86f7e4f249db",
     "locked": true,
     "points": 1,
     "schema_version": 3,
     "solution": false,
     "task": false
    },
    "tags": []
   },
   "outputs": [],
   "source": [
    "# Visible tests for applying bilateral_filter\n",
    "\n",
    "test_img = np.ones((5, 5))\n",
    "test_img[2, 2] = 0.0  # Add a single dark pixel in the center\n",
    "\n",
    "# Apply bilateral filter\n",
    "out = bilateral_filter(test_img, wsize=3, sigma_d=1.0, sigma_r=0.1)\n",
    "\n",
    "# Test shape\n",
    "assert out.shape == test_img.shape, \"Output shape does not match input.\"\n",
    "\n",
    "# Test type\n",
    "assert isinstance(out, np.ndarray), \"Output should be a NumPy array.\"\n",
    "\n",
    "# Test that center pixel is smoothed but not completely equal to neighbors\n",
    "assert out[2, 2] > 0.0 and out[2, 2] < 1.0, \"Center pixel should be smoothed, but not flattened completely.\"\n",
    "\n",
    "print(\"All visible tests passed!\")"
   ]
  },
  {
   "cell_type": "code",
   "execution_count": null,
   "metadata": {
    "deletable": false,
    "editable": false,
    "nbgrader": {
     "cell_type": "code",
     "checksum": "8a52ecfe747f0309e87a313d3f94fd2d",
     "grade": true,
     "grade_id": "cell-ca3d80e0bb607835",
     "locked": true,
     "points": 1,
     "schema_version": 3,
     "solution": false,
     "task": false
    },
    "tags": []
   },
   "outputs": [],
   "source": [
    "# HIDDEN TEST CELL\n",
    "# This cell contains hidden tests for grading after the deadline.\n",
    "# Please do not remove or modify this cell.\n"
   ]
  },
  {
   "cell_type": "markdown",
   "metadata": {
    "deletable": false,
    "editable": false,
    "nbgrader": {
     "cell_type": "markdown",
     "checksum": "75b927f57267b96fe84382d0236770da",
     "grade": false,
     "grade_id": "cell-3a929f22dbf71072",
     "locked": true,
     "schema_version": 3,
     "solution": false,
     "task": false
    },
    "tags": []
   },
   "source": [
    "#### Apply bilateral filter to the images\n",
    "\n",
    "Apply bilateral filter to the images for displaying the filtering results in the upcoming cells."
   ]
  },
  {
   "cell_type": "code",
   "execution_count": null,
   "metadata": {
    "deletable": false,
    "editable": false,
    "nbgrader": {
     "cell_type": "code",
     "checksum": "a37c05f39834142013d8379099fac504",
     "grade": false,
     "grade_id": "cell-d5afbf49c82b2a87",
     "locked": true,
     "schema_version": 3,
     "solution": false,
     "task": false
    },
    "tags": []
   },
   "outputs": [],
   "source": [
    "# Set bilateral filter parameters\n",
    "wsize = 11\n",
    "sigma_d = 2.5\n",
    "sigma_r = 0.1\n",
    "\n",
    "bflt_imns = bilateral_filter(imns, wsize, sigma_d, sigma_r)\n",
    "bflt_imng = bilateral_filter(imng, wsize, sigma_d, sigma_r)\n"
   ]
  },
  {
   "cell_type": "markdown",
   "metadata": {
    "deletable": false,
    "editable": false,
    "nbgrader": {
     "cell_type": "markdown",
     "checksum": "67dbe5e8d30a8330d18c3d26227ef660",
     "grade": false,
     "grade_id": "cell-79dd72d3de9dcb5b",
     "locked": true,
     "schema_version": 3,
     "solution": false,
     "task": false
    },
    "tags": []
   },
   "source": [
    "### Display the filtering results"
   ]
  },
  {
   "cell_type": "code",
   "execution_count": null,
   "metadata": {
    "deletable": false,
    "editable": false,
    "nbgrader": {
     "cell_type": "code",
     "checksum": "1d68e66cf5ee2acf77ac20c7d496b8ab",
     "grade": false,
     "grade_id": "cell-41fb90404a838242",
     "locked": true,
     "schema_version": 3,
     "solution": false,
     "task": false
    },
    "tags": []
   },
   "outputs": [],
   "source": [
    "fig, axes = plt.subplots(nrows=2, ncols=4, figsize=(16,8))\n",
    "ax = axes.ravel()\n",
    "\n",
    "# First row\n",
    "ax[0].imshow(imns, cmap='gray')\n",
    "ax[0].set_title(\"Input image\")\n",
    "ax[1].set_title(\"Result of Gaussian filtering\")\n",
    "try:\n",
    "    ax[1].imshow(gflt_imns, cmap='gray')\n",
    "except Exception:\n",
    "    ax[1].text(0.5, 0.5, 'Not implemented', ha='center', va='center')\n",
    "ax[2].set_title(\"Result of median filtering\")\n",
    "try:\n",
    "    ax[2].imshow(medflt_imns, cmap='gray')\n",
    "except Exception:\n",
    "    ax[2].text(0.5, 0.5, 'Not implemented', ha='center', va='center')\n",
    "ax[3].set_title(\"Result of bilateral filtering\")\n",
    "try:\n",
    "    ax[3].imshow(bflt_imns, cmap='gray')\n",
    "except Exception:\n",
    "    ax[3].text(0.5, 0.5, 'Not implemented', ha='center', va='center')\n",
    "\n",
    "# Second row\n",
    "ax[4].imshow(imng, cmap='gray')\n",
    "try:\n",
    "    ax[5].imshow(gflt_imng, cmap='gray')\n",
    "except Exception:\n",
    "    ax[5].text(0.5, 0.5, 'Not implemented', ha='center', va='center')\n",
    "try:\n",
    "    ax[6].imshow(medflt_imng, cmap='gray')\n",
    "except Exception:\n",
    "    ax[6].text(0.5, 0.5, 'Not implemented', ha='center', va='center')\n",
    "try:\n",
    "    ax[7].imshow(bflt_imng, cmap='gray')\n",
    "except Exception:\n",
    "    ax[7].text(0.5, 0.5, 'Not implemented', ha='center', va='center')\n",
    "\n",
    "plt.suptitle(\"Filtering results\", fontsize=20)\n",
    "plt.show()"
   ]
  },
  {
   "cell_type": "markdown",
   "metadata": {
    "deletable": false,
    "editable": false,
    "nbgrader": {
     "cell_type": "markdown",
     "checksum": "01c8738d16110cabe7bc1d1c91feec66",
     "grade": false,
     "grade_id": "cell-d56aa510aabf8c7a",
     "locked": true,
     "schema_version": 3,
     "solution": false,
     "task": false
    },
    "tags": []
   },
   "source": [
    "---\n",
    "\n",
    "## Exercise 2 - Hybrid images (10 points)\n",
    "In  this  task,  you  will  construct:\n",
    "- A  hybrid  image  that  combines  facial images  of  a  wolf  and  a  man.  \n",
    "- Visualize  the  log  magnitudes  of  the  Fourier transforms  of  the  original  images  and  their  low-pass  and  high-pass  filtered  versions  (i.e. constituents  of  the  hybrid  image).\n"
   ]
  },
  {
   "cell_type": "markdown",
   "metadata": {
    "deletable": false,
    "editable": false,
    "nbgrader": {
     "cell_type": "markdown",
     "checksum": "dd3a276b9d8155ca1fc412a47c0b21ad",
     "grade": false,
     "grade_id": "cell-cb62ef9b2f9a9a6f",
     "locked": true,
     "schema_version": 3,
     "solution": false,
     "task": false
    },
    "tags": []
   },
   "source": [
    "### 2.1. Load test images, perform affine alignment, and display naive blending\n",
    "\n",
    "In this part, you will load two grayscale face images (a man and a wolf), align them using an affine transformation based on facial landmarks, and create a naive blend using additive superimposition."
   ]
  },
  {
   "cell_type": "code",
   "execution_count": null,
   "metadata": {
    "deletable": false,
    "editable": false,
    "nbgrader": {
     "cell_type": "code",
     "checksum": "3746c2a3bec6211d797ad3098b4a20ad",
     "grade": false,
     "grade_id": "cell-21c02ba9eee70b7c",
     "locked": true,
     "schema_version": 3,
     "solution": false,
     "task": false
    },
    "tags": []
   },
   "outputs": [],
   "source": [
    "## Load test images\n",
    "man = imread(data_dir+'/man.jpg') / 255.\n",
    "wolf = imread(data_dir+'/wolf.jpg') / 255.\n",
    "\n",
    "# The pixel coordinates of eyes and chin have been manually found \n",
    "# from both images in order to enable affine alignment \n",
    "man_eyes_chin=np.array([[452, 461],  # left eye\n",
    "                        [652, 457],  # right eye\n",
    "                        [554, 823]]) # chin\n",
    "wolf_eyes_chin=np.array([[851, 919],   # left eye\n",
    "                         [1159, 947],  # right eye \n",
    "                         [975, 1451]]) # chin\n",
    "\n",
    "## Warp wolf to man using an affine transformation and the coordinates above\n",
    "A, b = affinefit(man_eyes_chin, wolf_eyes_chin)\n",
    "\n",
    "xv, yv = np.meshgrid(np.arange(0, man.shape[1]), np.arange(0, man.shape[0]))\n",
    "pt = np.dot(A, np.vstack([xv.flatten(), yv.flatten()])) + np.tile(b, (xv.size,1)).T\n",
    "wolft = map_coordinates(wolf, (pt[1,:].reshape(man.shape), pt[0,:].reshape(man.shape)))\n",
    "\n",
    "# Naive blending using additive superimposition for illustration\n",
    "additive_superimposition = man + wolft\n",
    "\n",
    "# Display input images and the naive blending by additive superimposition.\n",
    "fig, axes = plt.subplots(nrows=1, ncols=3, figsize=(16,8))\n",
    "plt.suptitle(\"Input images and naive blending\", fontsize=20)\n",
    "ax = axes.ravel()\n",
    "ax[0].imshow(man, cmap='gray')\n",
    "ax[0].set_title(\"Input Image A\")\n",
    "ax[1].imshow(wolft, cmap='gray')\n",
    "ax[1].set_title(\"Input Image B\")\n",
    "ax[2].imshow(additive_superimposition, cmap='gray')\n",
    "ax[2].set_title(\"Additive Superimposition\")\n",
    "\n",
    "plt.show()"
   ]
  },
  {
   "cell_type": "markdown",
   "metadata": {
    "deletable": false,
    "editable": false,
    "nbgrader": {
     "cell_type": "markdown",
     "checksum": "bc89969e266dc9d989bcef57f7700410",
     "grade": false,
     "grade_id": "cell-d0bfec61c97abe07",
     "locked": true,
     "schema_version": 3,
     "solution": false,
     "task": false
    },
    "tags": []
   },
   "source": [
    "### 2.2. Construct a hybrid image\n",
    "\n",
    "#### Task:\n",
    "\n",
    "Create a hybrid image, `hybrid_image`, by combining a low-pass filtered \n",
    "version of the human face with a high-pass filtered wolf face. \n",
    "\n",
    "**Hint:** \n",
    "- You get a high-pass version by subtracting the low-pass filtered version\n",
    "from the original image. \n",
    "- Try different values for `sigmaA` and `sigmaB` and also look at the results from different distances.\n"
   ]
  },
  {
   "cell_type": "code",
   "execution_count": null,
   "metadata": {
    "deletable": false,
    "editable": false,
    "nbgrader": {
     "cell_type": "code",
     "checksum": "15ea2cfff7b61c863d5c1739262ac9c0",
     "grade": false,
     "grade_id": "cell-25bb6f11646c489a",
     "locked": true,
     "schema_version": 3,
     "solution": false,
     "task": false
    },
    "tags": []
   },
   "outputs": [],
   "source": [
    "# First, low-pass filter the two test images with two different Gaussian kernels\n",
    "sigmaA = 16\n",
    "sigmaB = 8\n",
    "man_lowpass = gaussian_filter(man, sigmaA, mode='nearest')\n",
    "wolft_lowpass = gaussian_filter(wolft, sigmaB, mode='nearest')\n"
   ]
  },
  {
   "cell_type": "code",
   "execution_count": null,
   "metadata": {
    "deletable": false,
    "nbgrader": {
     "cell_type": "code",
     "checksum": "e73f5adc24530def179f87c17ed679bd",
     "grade": false,
     "grade_id": "cell-74fb3391a4f2f039",
     "locked": false,
     "schema_version": 3,
     "solution": true,
     "task": false
    },
    "tags": []
   },
   "outputs": [],
   "source": [
    "# Next, your task is to create a hybrid image. \n",
    "# Replace the zero images below. See instructions above for details. \n",
    " \n",
    "# Replace the zero image, `wolft_highpass`, below \n",
    "# with a high-pass filtered version of 'wolft'\n",
    "wolft_highpass = np.zeros(man_lowpass.shape);\n",
    "##-your-code-starts-here-##\n",
    "# YOUR CODE HERE\n",
    "raise NotImplementedError()\n",
    "##-your-code-ends-here-##\n",
    " \n",
    "# Replace also the zero image, `hybrid_image`, below with the correct hybrid image\n",
    "# which is combining a low-pass filtered version of the human face with \n",
    "# a high-pass filtered wolf face.\n",
    "hybrid_image = np.zeros(man_lowpass.shape)\n",
    "##-your-code-starts-here-##\n",
    "# YOUR CODE HERE\n",
    "raise NotImplementedError()\n",
    "##-your-code-ends-here-##\n",
    "\n",
    "# Try looking at the results from different distances.\n",
    "# Notice how strongly the interpretation of the hybrid image is affected \n",
    "# by the viewing distance\n",
    "\n",
    "# Display input images and both output images.\n",
    "fig, axes = plt.subplots(nrows=2, ncols=2, figsize=(16,16))\n",
    "plt.suptitle(\"Results of superimposition\", fontsize=20)\n",
    "ax = axes.ravel()\n",
    "ax[0].imshow(man, cmap='gray')\n",
    "ax[0].set_title(\"Input Image A\")\n",
    "ax[1].imshow(wolft, cmap='gray')\n",
    "ax[1].set_title(\"Input Image B\")\n",
    "ax[2].imshow(additive_superimposition, cmap='gray')\n",
    "ax[2].set_title(\"Additive Superimposition\")\n",
    "ax[3].imshow(hybrid_image, cmap='gray')\n",
    "ax[3].set_title(\"Hybrid Image\")\n",
    "plt.show()\n"
   ]
  },
  {
   "cell_type": "code",
   "execution_count": null,
   "metadata": {
    "deletable": false,
    "editable": false,
    "nbgrader": {
     "cell_type": "code",
     "checksum": "a35277788550bf889fe68386631222da",
     "grade": true,
     "grade_id": "cell-baf9d8a1dd78f41f",
     "locked": true,
     "points": 2,
     "schema_version": 3,
     "solution": false,
     "task": false
    },
    "tags": []
   },
   "outputs": [],
   "source": [
    "# Visible tests\n",
    "\n",
    "# Check output shapes\n",
    "assert wolft_highpass.shape == wolft.shape, \"Shape mismatch in wolft_highpass\"\n",
    "assert hybrid_image.shape == man_lowpass.shape, \"Shape mismatch in hybrid_image\"\n",
    "\n",
    "# Check basic pixel statistics\n",
    "assert np.any(wolft_highpass != 0), \"wolft_highpass appears to be all zeros\"\n",
    "assert np.any(hybrid_image != 0), \"hybrid_image appears to be all zeros\"\n",
    "\n",
    "print(\"All visible tests passed!\")"
   ]
  },
  {
   "cell_type": "code",
   "execution_count": null,
   "metadata": {
    "deletable": false,
    "editable": false,
    "nbgrader": {
     "cell_type": "code",
     "checksum": "f8b41097350a67f3d3894ddd6d265306",
     "grade": true,
     "grade_id": "cell-8e38cf168f92c3b0",
     "locked": true,
     "points": 3,
     "schema_version": 3,
     "solution": false,
     "task": false
    },
    "tags": []
   },
   "outputs": [],
   "source": [
    "# HIDDEN TEST CELL\n",
    "# This cell contains hidden tests for grading after the deadline.\n",
    "# Please do not remove or modify this cell.\n"
   ]
  },
  {
   "cell_type": "markdown",
   "metadata": {
    "deletable": false,
    "editable": false,
    "nbgrader": {
     "cell_type": "markdown",
     "checksum": "4f29ba2bb421ba8ed53dc7c8a5c16b8c",
     "grade": false,
     "grade_id": "cell-bf198037793bd5cb",
     "locked": true,
     "schema_version": 3,
     "solution": false,
     "task": false
    },
    "tags": []
   },
   "source": [
    "### 2.3. Visualize the Log Magnitudes of the Fourier Transforms\n",
    "\n",
    "In this part, you will compute the **2D Fourier transforms** of the input images and their filtered versions, and visualize their frequency domain representations.\n",
    "\n",
    "#### **Task:**\n",
    "Compute the 2D Fourier transforms for the following images:\n",
    "- `man`\n",
    "- `man_lowpass`\n",
    "- `wolft`\n",
    "- `wolft_highpass`\n",
    "\n",
    "Assign the results to the variables:\n",
    "- `F_man`\n",
    "- `F_man_lowpass`\n",
    "- `F_wolft`\n",
    "- `F_wolft_highpass`\n",
    "\n",
    "#### Note: \n",
    "- The code for visualizing the log magnitudes is already provided. You only need to compute and assign the correct transformed variables.  \n",
    "- See lecture slides for examples of using `fft2` and `fftshift`.\n"
   ]
  },
  {
   "cell_type": "code",
   "execution_count": null,
   "metadata": {
    "deletable": false,
    "nbgrader": {
     "cell_type": "code",
     "checksum": "9ea632f7fcbed73ba8ff390d0eebc453",
     "grade": false,
     "grade_id": "cell-36b49d476878a8af",
     "locked": false,
     "schema_version": 3,
     "solution": true,
     "task": false
    },
    "tags": []
   },
   "outputs": [],
   "source": [
    "##-your-code-starts-here-##\n",
    "# YOUR CODE HERE\n",
    "raise NotImplementedError()\n",
    "##-your-code-ends-here-##\n",
    "\n",
    "# Display the Fourier transform results\n",
    "fig, axes = plt.subplots(nrows=1, ncols=4, figsize=(16,8))\n",
    "plt.suptitle(\"Magnitudes of the Fourier transforms\", fontsize=20)\n",
    "ax = axes.ravel()\n",
    "ax[0].imshow(np.log(np.abs(F_man)), cmap='gray')\n",
    "ax[0].set_title(\"log(abs(F_man))\")\n",
    "ax[1].imshow(np.log(np.abs(F_man_lowpass)), cmap='gray')\n",
    "ax[1].set_title(\"log(abs(F_man_lowpass)) image\")\n",
    "ax[2].imshow(np.log(np.abs(F_wolft)), cmap='gray')\n",
    "ax[2].set_title(\"log(abs(F_wolft)) image\")\n",
    "ax[3].imshow(np.log(np.abs(F_wolft_highpass)), cmap='gray')\n",
    "ax[3].set_title(\"log(abs(F_wolft_highpass))\")\n",
    "plt.subplots_adjust(top=1.2)\n",
    "plt.show() "
   ]
  },
  {
   "cell_type": "code",
   "execution_count": null,
   "metadata": {
    "deletable": false,
    "editable": false,
    "nbgrader": {
     "cell_type": "code",
     "checksum": "a6001ea3bbe91cc082f02366700b1c9b",
     "grade": true,
     "grade_id": "cell-ac262e3107d41188",
     "locked": true,
     "points": 2,
     "schema_version": 3,
     "solution": false,
     "task": false
    },
    "tags": []
   },
   "outputs": [],
   "source": [
    "# Visible tests\n",
    "\n",
    "# Check shape of the Fourier results\n",
    "assert F_man.shape == man.shape, \"F_man shape mismatch\"\n",
    "assert F_man_lowpass.shape == man_lowpass.shape, \"F_man_lowpass shape mismatch\"\n",
    "assert F_wolft.shape == wolft.shape, \"F_wolft shape mismatch\"\n",
    "assert F_wolft_highpass.shape == wolft_highpass.shape, \"F_wolft_highpass shape mismatch\"\n",
    "\n",
    "# Check that outputs are not all zeros\n",
    "assert np.any(np.abs(F_man) > 0), \"F_man seems to contain only zeros\"\n",
    "assert np.any(np.abs(F_man_lowpass) > 0), \"F_man_lowpass seems to contain only zeros\"\n",
    "assert np.any(np.abs(F_wolft) > 0), \"F_wolft seems to contain only zeros\"\n",
    "assert np.any(np.abs(F_wolft_highpass) > 0), \"F_wolft_highpass seems to contain only zeros\"\n",
    "\n",
    "print(\"All visible tests passed!\")\n"
   ]
  },
  {
   "cell_type": "code",
   "execution_count": null,
   "metadata": {
    "deletable": false,
    "editable": false,
    "nbgrader": {
     "cell_type": "code",
     "checksum": "8f6a9d503bd4d998f102cd706458ab76",
     "grade": true,
     "grade_id": "cell-b97ab067ba602492",
     "locked": true,
     "points": 3,
     "schema_version": 3,
     "solution": false,
     "task": false
    },
    "tags": []
   },
   "outputs": [],
   "source": [
    "# HIDDEN TEST CELL\n",
    "# This cell contains hidden tests for grading after the deadline.\n",
    "# Please do not remove or modify this cell.\n"
   ]
  },
  {
   "cell_type": "markdown",
   "metadata": {
    "deletable": false,
    "editable": false,
    "nbgrader": {
     "cell_type": "markdown",
     "checksum": "0ceeecf00f2cdf652f78a0a88f3dad09",
     "grade": false,
     "grade_id": "cell-70ae766b07f625ef",
     "locked": true,
     "schema_version": 3,
     "solution": false,
     "task": false
    },
    "tags": []
   },
   "source": [
    "---\n",
    "\n",
    "## Exercise 3 - Image blending (10 points)\n",
    "This is the last exercise of this notebook. The exercise implements Laplacian pyramid blending and blends facial images of a wolf and a man. The blending process is described in Section 3.5.5 of Szeliski’s book. \n",
    "\n",
    "You need to implement:\n",
    "- The generation procedure for Gaussian and Laplacian image pyramids\n",
    "- The reconstruction procedure for reconstructing an image from its Laplacian pyramid.\n"
   ]
  },
  {
   "cell_type": "markdown",
   "metadata": {
    "deletable": false,
    "editable": false,
    "nbgrader": {
     "cell_type": "markdown",
     "checksum": "29ffb7ecbc038ca202a3583d9bb3cdf3",
     "grade": false,
     "grade_id": "cell-0932776e985b189e",
     "locked": true,
     "schema_version": 3,
     "solution": false,
     "task": false
    },
    "tags": []
   },
   "source": [
    "### 3.1. Load, pre-process and display images"
   ]
  },
  {
   "cell_type": "code",
   "execution_count": null,
   "metadata": {
    "deletable": false,
    "editable": false,
    "nbgrader": {
     "cell_type": "code",
     "checksum": "c367a6c6ea20e9a21fcb7ae12d63b447",
     "grade": false,
     "grade_id": "cell-0f92031b269f2f31",
     "locked": true,
     "schema_version": 3,
     "solution": false,
     "task": false
    },
    "tags": []
   },
   "outputs": [],
   "source": [
    "## Load images and pre-processing\n",
    "man = imread(data_dir+'/man.jpg') / 255.\n",
    "wolf = imread(data_dir+'/wolf.jpg') / 255.\n",
    "\n",
    "# The pixel coordinates of eyes and chin have been manually found \n",
    "# from both images in order to enable affine alignment \n",
    "man_eyes_chin=np.array([[452, 461],  # left eye\n",
    "                        [652, 457],  # right eye\n",
    "                        [554, 823]]) # chin\n",
    "wolf_eyes_chin=np.array([[851, 919],   # left eye\n",
    "                         [1159, 947],  # right eye \n",
    "                         [975, 1451]]) # chin\n",
    "\n",
    "## Warp wolf to man using an affine transformation and the coordinates above\n",
    "A, b = affinefit(man_eyes_chin, wolf_eyes_chin)\n",
    "\n",
    "xv, yv = np.meshgrid(np.arange(0, man.shape[1]), np.arange(0, man.shape[0]))\n",
    "pt = np.dot(A, np.vstack([xv.flatten(), yv.flatten()])) + np.tile(b, (xv.size,1)).T\n",
    "wolft = map_coordinates(wolf, (pt[1,:].reshape(man.shape), pt[0,:].reshape(man.shape)))\n",
    "\n",
    "\n",
    "# Manually defined binary mask with an elliptical shape is constructed\n",
    "# as well as its complement\n",
    "x0=553.\n",
    "y0=680.\n",
    "a=160. \n",
    "b=190.\n",
    "pixmask = (((xv-x0) / a) ** 2 + ((yv-y0) / b) ** 2) < 1\n",
    "\n",
    "maskb = np.zeros(man.shape)\n",
    "maskb[pixmask] = 1.0\n",
    "maska = 1.0 - maskb\n",
    "\n",
    "imga = resize(man, (1024,1024))\n",
    "imgb = resize(wolft, (1024, 1024))\n",
    "maska = resize(maska, (1024, 1024))\n",
    "maskb = resize(maskb, (1024, 1024))    \n",
    "\n",
    "# Display the images used in pyramid blending\n",
    "fig, axes = plt.subplots(nrows=1, ncols=4, figsize=(16,8))\n",
    "ax = axes.ravel()\n",
    "ax[0].imshow(imga, cmap='gray')\n",
    "ax[0].set_title(\"Input Image A\")\n",
    "ax[1].imshow(imgb, cmap='gray')\n",
    "ax[1].set_title(\"Input Image B\")\n",
    "ax[2].imshow(maska, cmap='gray')\n",
    "ax[2].set_title(\"Mask A\")\n",
    "ax[3].imshow(maskb, cmap='gray')\n",
    "ax[3].set_title(\"Mask B\")\n",
    "plt.suptitle(\"Images for the pyramid blending\", fontsize=20)\n",
    "plt.subplots_adjust(top=1.3)\n",
    "plt.show()"
   ]
  },
  {
   "cell_type": "markdown",
   "metadata": {
    "deletable": false,
    "editable": false,
    "nbgrader": {
     "cell_type": "markdown",
     "checksum": "4b3dd4588b36d552a854c2ac9bd3e12a",
     "grade": false,
     "grade_id": "cell-f20f7101ae096ceb",
     "locked": true,
     "schema_version": 3,
     "solution": false,
     "task": false
    },
    "tags": []
   },
   "source": [
    "### 3.2. Generate a Laplacian or Gaussian image pyramid\n",
    "\n",
    "#### **Task:**\n",
    "Implement the function `generateLaplacianPyramid(im, ptype, levels)` to construct an image pyramid from a given input image.\n",
    "\n",
    "Notice that in this implementation, the first level of a Gaussian pyramid \n",
    "is the original image, and the last level of a Laplacian pyramid is the\n",
    "same as the corresponding level in the Gaussian pyramid.\n",
    "\n",
    "#### Parameters:\n",
    "- `im` (`ndarray`): Input image (e.g., grayscale or color).\n",
    "- `ptype` (`str`): Type of pyramid to generate, either 'laplacian' or 'gaussian'.\n",
    "- `levels` (`int`):  Number of levels in the pyramid.\n",
    "\n",
    "#### Returns:\n",
    "- If `ptype == 'gaussian'`:\n",
    "  - Returns a dictionary `gaussianpyramid`, where `gaussianpyramid[i]` contains the Gaussian image at level `i`.\n",
    "\n",
    "- If `ptype == 'laplacian'`:\n",
    "  - Returns a dictionary `laplacianpyramid`, where `laplacianpyramid[i]` contains the Laplacian image at level `i`.\n",
    "  - The final level (`laplacianpyramid[levels - 1]`) should contain the smallest-resolution Gaussian image (i.e. the base level of the Gaussian pyramid).\n",
    "  \n",
    "#### Hints:\n",
    "- Check Figures 3.32 and 3.33 of Szeliski’s book.\n",
    "- Use a 1D Gaussian kernel: `flt = [1, 4, 6, 4, 1] / 16.0` to apply low-pass filtering.\n",
    "- Perform separable convolution by applying the 1D filter horizontally and vertically.\n",
    "- You can use slicing for downsampling, e.g. `im[0::2, 0::2]`\n",
    "- Each Laplacian level is formed by subtracting the upsampled (and interpolated) next Gaussian level from the current Gaussian level.\n",
    "  - For upsampling, insert zeros between the rows and columns of the lower resolution image \n",
    "  - For interpolation (after upsampling), convolve the upsampled image with  `2*flt` both horizontally and vertically, as described in Figure 3.32 of Szeliski’s book. "
   ]
  },
  {
   "cell_type": "code",
   "execution_count": null,
   "metadata": {
    "deletable": false,
    "nbgrader": {
     "cell_type": "code",
     "checksum": "97e1ee5657c4a0f840ebbcd4057fab23",
     "grade": false,
     "grade_id": "cell-4c1576ba7c2feb31",
     "locked": false,
     "schema_version": 3,
     "solution": true,
     "task": false
    },
    "tags": []
   },
   "outputs": [],
   "source": [
    "def generateLaplacianPyramid(im, ptype, levels):\n",
    "    \"\"\"\n",
    "    Constructs a Gaussian or Laplacian image pyramid with the given number of levels.\n",
    "    See instructions above for implementation details.\n",
    "    \"\"\"\n",
    "\n",
    "    gaussianpyramid = {}\n",
    "    laplacianpyramid = {}\n",
    "    flt = np.array([1, 4, 6, 4, 1]) / 16.0    # 1D Gaussian kernel\n",
    "    \n",
    "    # The original image is the first layer in a Gaussian pyramid\n",
    "    gaussianpyramid[0] = im\n",
    "\n",
    "    for i in range(levels-1):\n",
    "        \n",
    "        ##-your-code-starts-here-##\n",
    "        # YOUR CODE HERE\n",
    "        raise NotImplementedError()\n",
    "        ##-your-code-ends-here-##\n",
    "        \n",
    "    # The last Laplacian pyramid is the same as the Gaussian pyramid\n",
    "    laplacianpyramid[levels-1] = gaussianpyramid[levels-1]\n",
    "    \n",
    "    if ptype == 'laplacian':\n",
    "        return laplacianpyramid\n",
    "    elif ptype == 'gaussian':\n",
    "        return gaussianpyramid\n",
    "    else:\n",
    "        raise ValueError('Unknown pyramid type: ' + str(ptype))"
   ]
  },
  {
   "cell_type": "code",
   "execution_count": null,
   "metadata": {
    "deletable": false,
    "editable": false,
    "nbgrader": {
     "cell_type": "code",
     "checksum": "f2203fcc429ce790367ddeb80c0958c4",
     "grade": true,
     "grade_id": "cell-0b223b9891fa5499",
     "locked": true,
     "points": 2,
     "schema_version": 3,
     "solution": false,
     "task": false
    },
    "tags": []
   },
   "outputs": [],
   "source": [
    "# Visible tests\n",
    "\n",
    "test_image = np.ones((16, 16))  # simple test input\n",
    "levels = 3\n",
    "\n",
    "# Gaussian pyramid test\n",
    "gp = generateLaplacianPyramid(test_image, 'gaussian', levels)\n",
    "assert isinstance(gp, dict), \"Output is not a dictionary\"\n",
    "assert len(gp) == levels, \"Incorrect number of levels in Gaussian pyramid\"\n",
    "assert gp[0].shape == (16, 16), \"Level 0 of Gaussian pyramid has incorrect shape\"\n",
    "assert gp[1].shape == (8, 8), \"Level 1 of Gaussian pyramid has incorrect shape\"\n",
    "assert gp[2].shape == (4, 4), \"Level 2 of Gaussian pyramid has incorrect shape\"\n",
    "\n",
    "# Laplacian pyramid test\n",
    "lp = generateLaplacianPyramid(test_image, 'laplacian', levels)\n",
    "assert isinstance(lp, dict), \"Output is not a dictionary\"\n",
    "assert len(lp) == levels, \"Incorrect number of levels in Laplacian pyramid\"\n",
    "assert lp[levels-1].shape == (4, 4), \"Final level of Laplacian pyramid should match last Gaussian level\"\n",
    "\n",
    "print(\"All visible tests passed!\")\n"
   ]
  },
  {
   "cell_type": "code",
   "execution_count": null,
   "metadata": {
    "deletable": false,
    "editable": false,
    "nbgrader": {
     "cell_type": "code",
     "checksum": "64485d3ca7daf584e7941a654e0082d3",
     "grade": true,
     "grade_id": "cell-5c0203b82d7b10ea",
     "locked": true,
     "points": 3,
     "schema_version": 3,
     "solution": false,
     "task": false
    },
    "tags": []
   },
   "outputs": [],
   "source": [
    "# HIDDEN TEST CELL\n",
    "# This cell contains hidden tests for grading after the deadline.\n",
    "# Please do not remove or modify this cell.\n"
   ]
  },
  {
   "cell_type": "markdown",
   "metadata": {
    "deletable": false,
    "editable": false,
    "nbgrader": {
     "cell_type": "markdown",
     "checksum": "4919cfd1f332abd28524be77cffe524a",
     "grade": false,
     "grade_id": "cell-22192e0dacb60ae4",
     "locked": true,
     "schema_version": 3,
     "solution": false,
     "task": false
    },
    "tags": []
   },
   "source": [
    "### 3.3. Display your Gaussian and Laplacian pyramids"
   ]
  },
  {
   "cell_type": "code",
   "execution_count": null,
   "metadata": {
    "deletable": false,
    "editable": false,
    "nbgrader": {
     "cell_type": "code",
     "checksum": "3c68f642d111253146ef8b1120f3f9e5",
     "grade": false,
     "grade_id": "cell-794b98790d030aa4",
     "locked": true,
     "schema_version": 3,
     "solution": false,
     "task": false
    },
    "tags": []
   },
   "outputs": [],
   "source": [
    "# Check that your Gaussian and Laplacian pyramids both work\n",
    "level = 4\n",
    "gpimga = generateLaplacianPyramid(imga,'gaussian',level); # for a man\n",
    "lpimga = generateLaplacianPyramid(imga,'laplacian',level); # for a man\n",
    "\n",
    "# Display the pyramids\n",
    "show_pyramid_horizontally(gpimga, title=\"Gaussian Pyramid\")\n",
    "show_pyramid_horizontally(lpimga, title=\"Laplacian Pyramid\")"
   ]
  },
  {
   "cell_type": "markdown",
   "metadata": {
    "deletable": false,
    "editable": false,
    "nbgrader": {
     "cell_type": "markdown",
     "checksum": "710fa11323d55d58f093ee54ef53312e",
     "grade": false,
     "grade_id": "cell-766febe0e1f2c3bd",
     "locked": true,
     "schema_version": 3,
     "solution": false,
     "task": false
    },
    "tags": []
   },
   "source": [
    "### 3.4. Reconstruct an image from its Laplacian pyramid\n",
    "\n",
    "#### Task:\n",
    "\n",
    "Implement the function `reconstFromLaplacianPyramid(lpyramid)` to reconstruct an image from a given Laplacian pyramid.\n",
    "\n",
    "In this implementation, the Laplacian pyramid is a dictionary `lpyramid`, where each level `i` contains the difference image between two successive Gaussian levels. The final level, `lpyramid[levels - 1]`, contains the smallest (most downsampled) Gaussian image, not a difference image, and serves as the base for reconstruction. The reconstruction proceeds by upsampling the smaller image and adding back the Laplacian at each level, working from the coarsest level (smallest image) up to the finest.\n",
    "\n",
    "#### Parameters:\n",
    "\n",
    "- `lpyramid` (`dict`): Laplacian pyramid, where `lpyramid[i]` contains the Laplacian image at level `i`, and the final level contains the smallest Gaussian image.\n",
    "\n",
    "#### Returns:\n",
    "\n",
    "- `reconstructed` (`ndarray`): Reconstructed image from the Laplacian pyramid. Its shape should match the shape of `lpyramid[0]`, the top of the pyramid.\n"
   ]
  },
  {
   "cell_type": "code",
   "execution_count": null,
   "metadata": {
    "deletable": false,
    "nbgrader": {
     "cell_type": "code",
     "checksum": "db32254bf8175ba0eee40c78b4b398be",
     "grade": false,
     "grade_id": "cell-7f2e1418f798f604",
     "locked": false,
     "schema_version": 3,
     "solution": true,
     "task": false
    },
    "tags": []
   },
   "outputs": [],
   "source": [
    "def reconstFromLaplacianPyramid(lpyramid):\n",
    "    \"\"\"\n",
    "    Reconstructs an image from a given Laplacian pyramid.\n",
    "    See instructions above for implementation details.\n",
    "    \"\"\"\n",
    "    \n",
    "    reconstructed = np.zeros(lpyramid[0].shape)\n",
    "    flt = np.array([1, 4, 6, 4, 1]) / 16.0  # 1D Gaussian kernel\n",
    "    \n",
    "    ##-your-code-starts-here-##\n",
    "    # YOUR CODE HERE\n",
    "    raise NotImplementedError()\n",
    "    ##-your-code-ends-here-##\n",
    "    \n",
    "    return reconstructed"
   ]
  },
  {
   "cell_type": "code",
   "execution_count": null,
   "metadata": {
    "deletable": false,
    "editable": false,
    "nbgrader": {
     "cell_type": "code",
     "checksum": "710868f845a7f785614113794d88a0ec",
     "grade": true,
     "grade_id": "cell-276075e5d84b7d09",
     "locked": true,
     "points": 2,
     "schema_version": 3,
     "solution": false,
     "task": false
    },
    "tags": []
   },
   "outputs": [],
   "source": [
    "# Visible tests for reconstFromLaplacianPyramid\n",
    "\n",
    "# Small synthetic image and shallow pyramid\n",
    "levels = 3\n",
    "im_test = np.random.rand(32, 32).astype(float)\n",
    "\n",
    "# Build Laplacian pyramid\n",
    "lp = generateLaplacianPyramid(im_test, 'laplacian', levels)\n",
    "\n",
    "# Reconstruct\n",
    "recon = reconstFromLaplacianPyramid(lp)\n",
    "\n",
    "# Basic checks\n",
    "assert isinstance(recon, np.ndarray), \"Reconstruction must return a NumPy array.\"\n",
    "assert recon.shape == im_test.shape, \"Reconstructed image shape must match the input image shape.\"\n",
    "\n",
    "# Compare on a small central region to avoid border artifacts\n",
    "margin = 2  # half of 5-tap kernel support\n",
    "if recon.shape[0] > 2*margin and recon.shape[1] > 2*margin:\n",
    "    r_c = recon[margin:-margin, margin:-margin]\n",
    "    i_c = im_test[margin:-margin, margin:-margin]\n",
    "    assert np.allclose(r_c, i_c, atol=1e-4), \"Reconstruction does not match the original (central region).\"\n",
    "\n",
    "print(\"All visible tests passed!\")"
   ]
  },
  {
   "cell_type": "code",
   "execution_count": null,
   "metadata": {
    "deletable": false,
    "editable": false,
    "nbgrader": {
     "cell_type": "code",
     "checksum": "96c55fd30a61e06874ed178085989215",
     "grade": true,
     "grade_id": "cell-668dbaa14c9c9ec1",
     "locked": true,
     "points": 3,
     "schema_version": 3,
     "solution": false,
     "task": false
    },
    "tags": []
   },
   "outputs": [],
   "source": [
    "# HIDDEN TEST CELL\n",
    "# This cell contains hidden tests for grading after the deadline.\n",
    "# Please do not remove or modify this cell.\n"
   ]
  },
  {
   "cell_type": "markdown",
   "metadata": {
    "deletable": false,
    "editable": false,
    "nbgrader": {
     "cell_type": "markdown",
     "checksum": "3f51cdd8cdddcad91b705a4ec3de7b2a",
     "grade": false,
     "grade_id": "cell-7729b0e409074ecf",
     "locked": true,
     "schema_version": 3,
     "solution": false,
     "task": false
    },
    "tags": []
   },
   "source": [
    "### 3.5. Display your reconstructed image from Laplacian pyramid"
   ]
  },
  {
   "cell_type": "code",
   "execution_count": null,
   "metadata": {
    "deletable": false,
    "editable": false,
    "nbgrader": {
     "cell_type": "code",
     "checksum": "8edd188434821f2ef11be6b46f6c8084",
     "grade": false,
     "grade_id": "cell-8680ac037c5e0617",
     "locked": true,
     "schema_version": 3,
     "solution": false,
     "task": false
    },
    "tags": []
   },
   "outputs": [],
   "source": [
    "# Check that your pyramid and reconstruction both work\n",
    "level = 8\n",
    "lpimga = generateLaplacianPyramid(imga,'laplacian',level); # for a man\n",
    "reconst = reconstFromLaplacianPyramid(lpimga)\n",
    "reconstruction_error = imga - reconst\n",
    "max_reconstruction_error = np.amax(np.abs(imga.flatten() - reconst.flatten()))\n",
    "print(\"Reconstruction error: {}\".format(max_reconstruction_error))\n",
    "\n",
    "# Display the reconstruction and the difference between the input image and reconstruction\n",
    "fig, axes = plt.subplots(nrows=1, ncols=3, figsize=(16,8))\n",
    "ax = axes.ravel()\n",
    "ax[0].imshow(imga, cmap='gray')\n",
    "ax[0].set_title(\"Input Image A\")\n",
    "ax[1].imshow(reconst, cmap='gray')\n",
    "ax[1].set_title(\"Reconstructed Image\")\n",
    "ax[2].imshow(reconstruction_error, cmap='gray')\n",
    "ax[2].set_title(\"Difference Image\")\n",
    "#plt.suptitle(\" \", fontsize=20)\n",
    "plt.subplots_adjust(top=1.3)\n",
    "plt.show()\n"
   ]
  },
  {
   "cell_type": "markdown",
   "metadata": {
    "deletable": false,
    "editable": false,
    "nbgrader": {
     "cell_type": "markdown",
     "checksum": "47f2b1ec89e0ef1d5a59f5b521ec1e26",
     "grade": false,
     "grade_id": "cell-e6cf946b1b03c575",
     "locked": true,
     "schema_version": 3,
     "solution": false,
     "task": false
    },
    "tags": []
   },
   "source": [
    "### Pyramid Blending\n",
    "\n",
    "Run the cell below to generate and display the two blending results:\n",
    "\n",
    "- **`imgo1`** — simple blending using smooth masks\n",
    "- **`imgo`** — pyramid blending (multi-scale)\n",
    "\n",
    "Compare the outputs and note how pyramid blending reduces visible seams and preserves details across scales.\n"
   ]
  },
  {
   "cell_type": "code",
   "execution_count": null,
   "metadata": {
    "tags": []
   },
   "outputs": [],
   "source": [
    "level = 8\n",
    "\n",
    "# Start the pyramid blending with generating Laplacian pyramids\n",
    "lpimga = generateLaplacianPyramid(imga,'laplacian',level); # for a man\n",
    "lpimgb = generateLaplacianPyramid(imgb,'laplacian',level); # for a wolf\n",
    "\n",
    "# Make Gaussian image pyramids of the mask images, maska and maskb\n",
    "gpmaska = generateLaplacianPyramid(maska,'gaussian',level);\n",
    "gpmaskb = generateLaplacianPyramid(maskb,'gaussian',level);\n",
    "\n",
    "# Make smooth masks in a simple manner for comparison\n",
    "smaska = gaussian_filter(maska, 20)\n",
    "smaskb = gaussian_filter(maskb, 20)\n",
    "\n",
    "# In practice, you can also use the Gaussian pyramids of smoothed masks. \n",
    "# In this case, the blendings (simple & pyramid) will appear more similar.\n",
    "gpsmaska = generateLaplacianPyramid(smaska,'gaussian',level); \n",
    "gpsmaskb = generateLaplacianPyramid(smaskb,'gaussian',level);\n",
    "\n",
    "limgo = {} # the blended pyramid\n",
    "for p in range(level):\n",
    "    # Blend the Laplacian images at each level\n",
    "    # (You can use either one of the two rows below.)\n",
    "    limgo[p] = (lpimga[p]*gpmaska[p] + lpimgb[p]*gpmaskb[p])/(gpmaska[p]+gpmaskb[p])\n",
    "    #limgo[p] = (lpimga[p]*gpsmaska[p] + lpimgb[p]*gpsmaskb[p])/(gpsmaska[p]+gpsmaskb[p])\n",
    "\n",
    "# Reconstruct the blended image from its Laplacian pyramid  \n",
    "imgo = reconstFromLaplacianPyramid(limgo);\n",
    " \n",
    "# Simple blending with smooth masks\n",
    "imgo1 = smaska*imga + smaskb*imgb\n",
    "\n",
    "# Display results\n",
    "fig, axes = plt.subplots(nrows=2, ncols=3, figsize=(16,8))\n",
    "plt.suptitle(\"Blending results\", fontsize=20)\n",
    "ax = axes.ravel()\n",
    "\n",
    "ax[0].imshow(imga, cmap='gray')\n",
    "ax[0].set_title(\"Input Image A\")\n",
    "ax[1].imshow(imgb, cmap='gray')\n",
    "ax[1].set_title(\"Input Image B\")\n",
    "ax[2].set_visible(False)\n",
    "ax[3].imshow(imgo1, cmap='gray')\n",
    "ax[3].set_title(\"Simple Blending\")\n",
    "ax[4].imshow(imgo, cmap='gray')\n",
    "ax[4].set_title(\"Pyramid Blending\")\n",
    "ax[5].imshow((imgo-imgo1), cmap='gray')\n",
    "ax[5].set_title(\"Difference:\")\n",
    "plt.show()"
   ]
  }
 ],
 "metadata": {
  "kernelspec": {
   "display_name": "Python 3",
   "language": "python",
   "name": "python3"
  },
  "language_info": {
   "codemirror_mode": {
    "name": "ipython",
    "version": 3
   },
   "file_extension": ".py",
   "mimetype": "text/x-python",
   "name": "python",
   "nbconvert_exporter": "python",
   "pygments_lexer": "ipython3",
   "version": "3.10.12"
  }
 },
 "nbformat": 4,
 "nbformat_minor": 4
}
