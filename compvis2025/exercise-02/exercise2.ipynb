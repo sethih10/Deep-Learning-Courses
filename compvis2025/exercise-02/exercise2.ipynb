{
 "cells": [
  {
   "cell_type": "code",
   "execution_count": null,
   "metadata": {
    "tags": []
   },
   "outputs": [],
   "source": [
    "# This cell is used for creating a button that hides/unhides code cells to quickly look only the results.\n",
    "# Works only with Jupyter Notebooks.\n",
    "\n",
    "from IPython.display import HTML\n",
    "\n",
    "HTML('''<script>\n",
    "code_show=true;\n",
    "function code_toggle() {\n",
    "if (code_show){\n",
    "$('div.input').hide();\n",
    "} else {\n",
    "$('div.input').show();\n",
    "}\n",
    "code_show = !code_show\n",
    "}\n",
    "$( document ).ready(code_toggle);\n",
    "</script>\n",
    "<form action=\"javascript:code_toggle()\"><input type=\"submit\" value=\"Click here to toggle on/off the raw code.\"></form>''')"
   ]
  },
  {
   "cell_type": "code",
   "execution_count": null,
   "metadata": {
    "deletable": false,
    "editable": false,
    "nbgrader": {
     "cell_type": "code",
     "checksum": "1c31aa2c9d406db0b6316e7e10314376",
     "grade": false,
     "grade_id": "cell-9e5decbf6cf3bbfc",
     "locked": true,
     "schema_version": 3,
     "solution": false,
     "task": false
    },
    "tags": []
   },
   "outputs": [],
   "source": [
    "# Description:\n",
    "#   Exercise5 notebook.\n",
    "#\n",
    "# Copyright (C) 2018 Santiago Cortes, Juha Ylioinas\n",
    "#\n",
    "# This software is distributed under the GNU General Public \n",
    "# Licence (version 2 or later); please refer to the file \n",
    "# Licence.txt, included with the software, for details.\n",
    "\n",
    "# Preparations\n",
    "import os\n",
    "import numpy as np\n",
    "\n",
    "# Select data directory\n",
    "if os.path.isdir('/coursedata'):\n",
    "    # JupyterHub\n",
    "    course_data_dir = '/coursedata'\n",
    "elif os.path.isdir('../../../coursedata'):\n",
    "    # Local installation\n",
    "    course_data_dir = '../../../coursedata'\n",
    "else:\n",
    "    # Docker\n",
    "    course_data_dir = '/home/jovyan/work/coursedata/'\n",
    "\n",
    "print('The data directory is %s' % course_data_dir)\n",
    "data_dir = os.path.join(course_data_dir, 'exercise-05-data/')\n",
    "print('Data stored in %s' % data_dir)"
   ]
  },
  {
   "cell_type": "markdown",
   "metadata": {
    "deletable": false,
    "editable": false,
    "nbgrader": {
     "cell_type": "markdown",
     "checksum": "af5b26051a90de576d6c514ea6e537b1",
     "grade": false,
     "grade_id": "cell-4383400f088734b3",
     "locked": true,
     "schema_version": 3,
     "solution": false,
     "task": false
    },
    "tags": []
   },
   "source": [
    "# CS-E4850 Computer Vision Exercise Round 2\n",
    "\n",
    "The exercises should be solved and the solutions submitted via Aalto JupyterHub by the deadline. \n",
    "\n",
    "**Deliverables:**\n",
    "- **PDF** with your solutions to any pen-and-paper tasks (scanned or typeset, e.g., LaTeX). Make sure the PDF is clearly readable.\n",
    "- **Jupyter notebook** (.ipynb) containing your solutions to the programming tasks. Do not change the name of the notebook file. It may result in 0 points for the exercise.\n",
    "\n",
    "**Important:**\n",
    "- Fill only the cells marked with `# YOUR CODE HERE`. Do not change function signatures.\n",
    "- You may add extra cells for your own tests, but **do not** overwrite global variables or edit locked cells.\n",
    "- **Never create new cells by menu commands \"Edit/Copy Cells\" and \"Edit/Paste Cells ...\"**. These commands create cells with duplicate ids and make autograding impossible. Use menu commands \"Insert/Insert Cell ...\" or the button with a plus sign to insert new cells.\n",
    "- **All notebooks contain hidden tests** which are used for grading. They are hidden inside read-only cells. Therefore, **the read-only cells should never be removed.** \n",
    "- **Note:** Visible tests mainly check the shapes and data types of your function’s output. Hidden tests check the correctness of your solution more thoroughly. Passing the visible tests does not guarantee full points for the exercise.\n",
    "- **Google Colab warning:** Uploading your assignment notebooks to Colab may cause problems. Colab can overwrite notebook metadata and break the autograding. To avoid this, we recommend copy-pasting your code into the notebooks fetched on JupyterHub. Sorry for the inconvenience.\n",
    "- Running the cells in mixed order (which quite often happens while trying different things and debugging) may cause errors. While working on a particular cell be sure that you have freshly run all its preceding cells belonging to the same exercise.\n",
    "- **Before submitting**, simply run all the cells of the notebook (for example, select \"Restart & Run All\" in the menu) and check that all the cells run properly.\n",
    "- **Remember to submit your assignment!**\n",
    "\n",
    "\n",
    "## Exercises 1 - 5\n",
    "\n",
    "Remember to do the pen and paper assignments given in Exercise02.pdf.\n",
    "\n"
   ]
  },
  {
   "cell_type": "markdown",
   "metadata": {},
   "source": [
    "## Exercise 6 - Project a 3D point to pixel coordinates (5 points)\n",
    "\n",
    "### Task\n",
    "Implement `project_point(P, XYZ)` function, which projects a point from world coordinates to pixel coordinates. The function takes as an input a 3×4 camera projection matrix `P` and a single 3D point\n",
    "`XYZ` of shape `(3,)`, and returns its pixel coordinates `(u, v)` as a float array of shape `(2,)`.\n",
    "\n",
    "**Input**\n",
    "- `P`: `np.ndarray` with shape `(3, 4)`\n",
    "- `XYZ`: `np.ndarray` with shape `(3,)`\n",
    "\n",
    "**Output**\n",
    "- `np.ndarray` with shape `(2,)` containing `(u, v)`\n",
    "\n",
    "**Hint**\n",
    "- Use homogeneous coordinates for the 3D point, and remember to give the returned $u$ and $v$ in non-homogeneous coordinates."
   ]
  },
  {
   "cell_type": "code",
   "execution_count": null,
   "metadata": {
    "deletable": false,
    "nbgrader": {
     "cell_type": "code",
     "checksum": "fa4a2fcd54384341e32bf5a49e071c8f",
     "grade": false,
     "grade_id": "cell-acbc1e3ec1cd008a",
     "locked": false,
     "schema_version": 3,
     "solution": true,
     "task": false
    },
    "tags": []
   },
   "outputs": [],
   "source": [
    "def project_point(P, XYZ):\n",
    "    \n",
    "    ##--your-code-starts-here--##\n",
    "    # YOUR CODE HERE\n",
    "    raise NotImplementedError()\n",
    "    ##--your-code-ends-here--##\n",
    "    \n",
    "    return np.array([u, v], dtype=float)"
   ]
  },
  {
   "cell_type": "code",
   "execution_count": null,
   "metadata": {
    "deletable": false,
    "editable": false,
    "nbgrader": {
     "cell_type": "code",
     "checksum": "a97a7fb4b3e3546a5c9424cf6c09b507",
     "grade": true,
     "grade_id": "cell-203a759df5ab5640",
     "locked": true,
     "points": 0,
     "schema_version": 3,
     "solution": false,
     "task": false
    },
    "tags": []
   },
   "outputs": [],
   "source": [
    "# Visible tests\n",
    "\n",
    "P = np.array([[800.,  0., 320.,   0.],\n",
    "             [  0., 800., 240.,   0.],\n",
    "             [  0.,   0.,   1.,   0.]])\n",
    "\n",
    "uv1 = project_point(P, np.array([0.0, 0.0, 2.0]))\n",
    "uv2 = project_point(P, np.array([0.5, 0.0, 2.0]))\n",
    "\n",
    "# Basic shape/type checks\n",
    "assert isinstance(uv1, np.ndarray), f\"uv1 must be a numpy.ndarray, got {type(uv1)}\"\n",
    "assert uv1.shape == (2,), f\"uv1 must have shape (2,), got {uv1.shape}\"\n",
    "\n",
    "assert isinstance(uv2, np.ndarray), f\"uv2 must be a numpy.ndarray, got {type(uv2)}\"\n",
    "assert uv2.shape == (2,), f\"uv2 must have shape (2,), got {uv2.shape}\"\n",
    "\n",
    "# Sanity check on part of the result\n",
    "_expected_u2 = 520\n",
    "returned_u2 = uv2[0]\n",
    "\n",
    "assert np.allclose(returned_u2, _expected_u2, atol=1e-6), \"Wrong pixel u coordinate.\"\n",
    "\n",
    "print(\"All visible tests passed!\")"
   ]
  },
  {
   "cell_type": "code",
   "execution_count": null,
   "metadata": {
    "deletable": false,
    "editable": false,
    "nbgrader": {
     "cell_type": "code",
     "checksum": "367311a5341f961ad7a06ae801fdeb25",
     "grade": true,
     "grade_id": "cell-000bef90cf660077",
     "locked": true,
     "points": 2,
     "schema_version": 3,
     "solution": false,
     "task": false
    },
    "tags": []
   },
   "outputs": [],
   "source": [
    "# HIDDEN TEST CELL\n",
    "# This cell contains hidden tests for grading after the deadline.\n",
    "# Please do not remove or modify this cell.\n"
   ]
  },
  {
   "cell_type": "code",
   "execution_count": null,
   "metadata": {
    "deletable": false,
    "editable": false,
    "nbgrader": {
     "cell_type": "code",
     "checksum": "d1a2cfb930f60788e4893b76786044b7",
     "grade": true,
     "grade_id": "cell-96b777538c49eeec",
     "locked": true,
     "points": 3,
     "schema_version": 3,
     "solution": false,
     "task": false
    },
    "tags": []
   },
   "outputs": [],
   "source": [
    "# HIDDEN TEST CELL\n",
    "# This cell contains hidden tests for grading after the deadline.\n",
    "# Please do not remove or modify this cell.\n"
   ]
  },
  {
   "cell_type": "code",
   "execution_count": null,
   "metadata": {},
   "outputs": [],
   "source": []
  }
 ],
 "metadata": {
  "kernelspec": {
   "display_name": "Python 3",
   "language": "python",
   "name": "python3"
  },
  "language_info": {
   "codemirror_mode": {
    "name": "ipython",
    "version": 3
   },
   "file_extension": ".py",
   "mimetype": "text/x-python",
   "name": "python",
   "nbconvert_exporter": "python",
   "pygments_lexer": "ipython3",
   "version": "3.10.12"
  }
 },
 "nbformat": 4,
 "nbformat_minor": 4
}
