{
 "cells": [
  {
   "cell_type": "markdown",
   "metadata": {
    "deletable": false,
    "editable": false,
    "nbgrader": {
     "cell_type": "markdown",
     "checksum": "9945fcea0ee2c45298f48aa44edd19ee",
     "grade": false,
     "grade_id": "cell-bdc2c3e9281cbcf7",
     "locked": true,
     "schema_version": 3,
     "solution": false,
     "task": false
    }
   },
   "source": [
    "<div class=\"alert alert-block alert-info\">\n",
    "<b>Deadline:</b> February 26, 2025 (Wednesday) 23:00\n",
    "</div>\n",
    "\n",
    "# Exercise 1. Recurrent relational network\n",
    "\n",
    "The goal of this exercise is to get familiar with graph neural networks.\n",
    "\n",
    "We will implement a simplified version of the recurrent relational network proposed in [this paper](http://papers.nips.cc/paper/7597-recurrent-relational-networks.pdf).\n",
    "\n",
    "We recommend you to use a machine with GPU for solving this exercise. Training on CPU will take much longer."
   ]
  },
  {
   "cell_type": "code",
   "execution_count": 1,
   "metadata": {
    "tags": []
   },
   "outputs": [],
   "source": [
    "skip_training = False  # Set this flag to True before validation and submission"
   ]
  },
  {
   "cell_type": "code",
   "execution_count": 2,
   "metadata": {
    "deletable": false,
    "editable": false,
    "nbgrader": {
     "cell_type": "code",
     "checksum": "748b56c565e43e6f7a92d541d87ef00a",
     "grade": true,
     "grade_id": "cell-f455db2a64cfbc10",
     "locked": true,
     "points": 0,
     "schema_version": 3,
     "solution": false,
     "task": false
    },
    "tags": []
   },
   "outputs": [],
   "source": [
    "# During evaluation, this cell sets skip_training to True\n",
    "# skip_training = True\n",
    "\n",
    "import tools, warnings\n",
    "warnings.showwarning = tools.customwarn"
   ]
  },
  {
   "cell_type": "code",
   "execution_count": 3,
   "metadata": {
    "tags": []
   },
   "outputs": [],
   "source": [
    "import time\n",
    "import torch\n",
    "import numpy as np\n",
    "import matplotlib.pyplot as plt\n",
    "\n",
    "import torch.nn as nn\n",
    "import torch.nn.functional as F\n",
    "import torch.optim as optim\n",
    "from torch.utils.data import TensorDataset, DataLoader\n",
    "\n",
    "import tools\n",
    "import tests"
   ]
  },
  {
   "cell_type": "code",
   "execution_count": 4,
   "metadata": {
    "tags": []
   },
   "outputs": [
    {
     "name": "stdout",
     "output_type": "stream",
     "text": [
      "The data directory is /coursedata\n"
     ]
    }
   ],
   "source": [
    "# When running on your own computer, you can specify the data directory by:\n",
    "# data_dir = tools.select_data_dir('/your/local/data/directory')\n",
    "data_dir = tools.select_data_dir()"
   ]
  },
  {
   "cell_type": "code",
   "execution_count": 5,
   "metadata": {
    "tags": []
   },
   "outputs": [],
   "source": [
    "# Select the device for training (use GPU if you have one)\n",
    "#device = torch.device('cuda:0')\n",
    "device = torch.device('cpu')"
   ]
  },
  {
   "cell_type": "code",
   "execution_count": 6,
   "metadata": {
    "deletable": false,
    "editable": false,
    "nbgrader": {
     "cell_type": "code",
     "checksum": "c000e09278f7a11b4e0ec6c55586f179",
     "grade": false,
     "grade_id": "cell-dbefffd6c1ecd0e6",
     "locked": true,
     "schema_version": 3,
     "solution": false,
     "task": false
    },
    "tags": []
   },
   "outputs": [],
   "source": [
    "if skip_training:\n",
    "    # The models are always evaluated on CPU\n",
    "    device = torch.device(\"cpu\")"
   ]
  },
  {
   "cell_type": "markdown",
   "metadata": {
    "deletable": false,
    "editable": false,
    "nbgrader": {
     "cell_type": "markdown",
     "checksum": "94ff585d623e04d102c3c10b5db7b007",
     "grade": false,
     "grade_id": "cell-0a18248531b242c1",
     "locked": true,
     "schema_version": 3,
     "solution": false,
     "task": false
    }
   },
   "source": [
    "# Data\n",
    "\n",
    "The dataset is a set of sudoku puzzles with solutions obtained from [here](https://github.com/locuslab/SATNet)."
   ]
  },
  {
   "cell_type": "code",
   "execution_count": 7,
   "metadata": {
    "deletable": false,
    "editable": false,
    "nbgrader": {
     "cell_type": "code",
     "checksum": "dd73ac621312a3d8a78f419b3fca1cdf",
     "grade": false,
     "grade_id": "cell-52fd7fdb88c05e1e",
     "locked": true,
     "schema_version": 3,
     "solution": false,
     "task": false
    },
    "tags": []
   },
   "outputs": [
    {
     "name": "stdout",
     "output_type": "stream",
     "text": [
      "torch.Size([81, 9]) torch.Size([81])\n"
     ]
    }
   ],
   "source": [
    "import data\n",
    "trainset = data.Sudoku(data_dir, train=True)\n",
    "testset = data.Sudoku(data_dir, train=False)\n",
    "\n",
    "x, y = trainset[0]\n",
    "print(x.shape, y.shape)"
   ]
  },
  {
   "cell_type": "markdown",
   "metadata": {
    "deletable": false,
    "editable": false,
    "nbgrader": {
     "cell_type": "markdown",
     "checksum": "64a0bbff6d55d8c116ee56ffe1519387",
     "grade": false,
     "grade_id": "cell-bfa379ded9e81dfd",
     "locked": true,
     "schema_version": 3,
     "solution": false,
     "task": false
    }
   },
   "source": [
    "We can visualize the data in the following way."
   ]
  },
  {
   "cell_type": "code",
   "execution_count": 8,
   "metadata": {
    "deletable": false,
    "editable": false,
    "nbgrader": {
     "cell_type": "code",
     "checksum": "3c3bbbc62ec0a3b8a9757a827f2e983b",
     "grade": false,
     "grade_id": "cell-e2ec662ae3e456cf",
     "locked": true,
     "schema_version": 3,
     "solution": false,
     "task": false
    },
    "tags": []
   },
   "outputs": [],
   "source": [
    "def sudoku_to_labels(x):\n",
    "    \"\"\"Convert one-hot coded sudoku puzzles to labels. -1 corresponds to missing labels.\n",
    "\n",
    "    Args:\n",
    "      x of shape (n_rows=9, n_colums=9, n_digits=9): Tensor with a sudoku board. The digits are one-hot coded.\n",
    "                  Cells with unknown digits have all zeros along the third dimension.\n",
    "    \"\"\"\n",
    "    assert x.shape == torch.Size([9, 9, 9]), \"Wrong shape {}\".format(x.shape)\n",
    "    is_filled = x.sum(dim=2)\n",
    "    y = x.argmax(dim=2)\n",
    "    y[~is_filled.bool()] = -1\n",
    "    return y"
   ]
  },
  {
   "cell_type": "code",
   "execution_count": 9,
   "metadata": {
    "deletable": false,
    "editable": false,
    "nbgrader": {
     "cell_type": "code",
     "checksum": "bbec24d9865256c37ebb9cdd850ba994",
     "grade": false,
     "grade_id": "cell-f65b460624d547c2",
     "locked": true,
     "schema_version": 3,
     "solution": false,
     "task": false
    },
    "tags": []
   },
   "outputs": [
    {
     "name": "stdout",
     "output_type": "stream",
     "text": [
      "tensor([[ 5,  6, -1, -1, -1, -1, -1, -1,  4],\n",
      "        [-1, -1,  2, -1,  3, -1, -1,  7,  1],\n",
      "        [-1,  3, -1, -1, -1,  4,  0,  2,  5],\n",
      "        [-1, -1, -1,  6,  2, -1, -1,  8, -1],\n",
      "        [ 2, -1,  3,  1, -1,  5, -1,  6, -1],\n",
      "        [-1, -1,  0, -1,  8, -1,  5, -1, -1],\n",
      "        [ 4, -1,  8, -1, -1,  7, -1, -1, -1],\n",
      "        [-1, -1, -1,  8,  4, -1,  1, -1,  7],\n",
      "        [-1, -1, -1,  0,  1,  6,  3, -1, -1]])\n"
     ]
    }
   ],
   "source": [
    "print(sudoku_to_labels(x.view(9, 9, 9)))"
   ]
  },
  {
   "cell_type": "code",
   "execution_count": 10,
   "metadata": {
    "deletable": false,
    "editable": false,
    "nbgrader": {
     "cell_type": "code",
     "checksum": "7b67d8b0b725f17eeb7367b2d043cdad",
     "grade": false,
     "grade_id": "cell-97be4a389937532c",
     "locked": true,
     "schema_version": 3,
     "solution": false,
     "task": false
    },
    "tags": []
   },
   "outputs": [
    {
     "data": {
      "image/png": "[encoded data removed]",
      "text/plain": [
       "<Figure size 700x700 with 1 Axes>"
      ]
     },
     "metadata": {},
     "output_type": "display_data"
    }
   ],
   "source": [
    "tools.draw_sudoku(x.view(9, 9, 9), logits=False)"
   ]
  },
  {
   "cell_type": "markdown",
   "metadata": {
    "deletable": false,
    "editable": false,
    "nbgrader": {
     "cell_type": "markdown",
     "checksum": "37651ad1c6e0e135213f6ff3f5c1c30d",
     "grade": false,
     "grade_id": "cell-eb45c36fad255047",
     "locked": true,
     "schema_version": 3,
     "solution": false,
     "task": false
    },
    "tags": []
   },
   "source": [
    "## Graph\n",
    "\n",
    "We describe each sudoku puzzle as a graph in which each node corresponds to one of the 9*9=81 cells in the puzzle. Each node is connected to 8+8+8-4=20 other nodes:\n",
    "* 8 nodes that correspond to other cells in the same row\n",
    "* 8 nodes that correspond to other cells in the same column\n",
    "* 8 nodes that correspond to other cells in the same $3\\times 3$ box\n",
    "* 4 cells appear both in a $3\\times 3$ box and in the same row or column.\n",
    "\n",
    "In this exercise, we decribe a graph as a set of edges. Each edge is a pair (`src_id`, `dst_id`) where `src_id` is the id of the source node and `dst_id` is the id of the destination node. In the cell below, your task is to describe such a graph by producing two lists:\n",
    "* a list of source node ids `src_id` of all edges\n",
    "* a list of destination node ids `dst_id` of all edges\n",
    "\n",
    "Notes:\n",
    "\n",
    "* To be consistent with the training data set, we need to use node ids from 0 and 80 according to the following order:\n",
    "```\n",
    "[ 0,  1,  2,  3,  4,  5,  6,  7,  8]\n",
    "[ 9, 10, 11, 12, 13, 14, 15, 16, 17]\n",
    "[18, 19, 20, 21, 22, 23, 24, 25, 26]\n",
    "[27, 28, 29, 30, 31, 32, 33, 34, 35]\n",
    "[36, 37, 38, 39, 40, 41, 42, 43, 44]\n",
    "[45, 46, 47, 48, 49, 50, 51, 52, 53]\n",
    "[54, 55, 56, 57, 58, 59, 60, 61, 62]\n",
    "[63, 64, 65, 66, 67, 68, 69, 70, 71]\n",
    "[72, 73, 74, 75, 76, 77, 78, 79, 80]\n",
    "```\n",
    "* This function is called only once before training. Therefore, you do not need to optimize its execution time."
   ]
  },
  {
   "cell_type": "code",
   "execution_count": 67,
   "metadata": {
    "tags": []
   },
   "outputs": [
    {
     "name": "stdout",
     "output_type": "stream",
     "text": [
      "torch.Size([9])\n",
      "torch.Size([9])\n",
      "tensor(80) tensor(17) tensor(73) tensor(10)\n",
      "torch.Size([0])\n",
      "tensor([ 1,  2,  3,  4,  5,  6,  7,  8,  9, 18, 27, 36, 45, 54, 63, 72])\n",
      "torch.Size([16])\n"
     ]
    }
   ],
   "source": [
    "sud = torch.arange(0,81).reshape(9,9)\n",
    "i = 0\n",
    "j = 0\n",
    "torch.tensor([sud[i,j]]*20)\n",
    "#t = torch.cat([sud[i, :j].flatten(), sud[i, j+1:].flatten(), sud[:i, j].flatten(), sud[i+1:, j].flatten(), sud[i-1, j-1], sud[i+1, j-1], sud[i-1, j+1], sud[i+1, j+1]])\n",
    "print(sud[i, :].flatten().shape)\n",
    "print(sud[:, j].flatten().shape)\n",
    "print(sud[i-1, j-1], sud[i+1, j-1], sud[i-1, j+1], sud[i+1, j+1])\n",
    "print(sud[i-1:i+2:2, j-1:j+2:2].flatten().shape)\n",
    "print(t)\n",
    "print(t.shape)"
   ]
  },
  {
   "cell_type": "code",
   "execution_count": 64,
   "metadata": {
    "tags": []
   },
   "outputs": [
    {
     "data": {
      "text/plain": [
       "tensor([[ 0,  1,  2,  3,  4,  5,  6,  7,  8],\n",
       "        [ 9, 10, 11, 12, 13, 14, 15, 16, 17]])"
      ]
     },
     "execution_count": 64,
     "metadata": {},
     "output_type": "execute_result"
    }
   ],
   "source": [
    "sud[0:2, :]"
   ]
  },
  {
   "cell_type": "code",
   "execution_count": 106,
   "metadata": {
    "deletable": false,
    "nbgrader": {
     "cell_type": "code",
     "checksum": "5878b5bf220ae525677eb6ec304c4146",
     "grade": false,
     "grade_id": "sudoku_edges",
     "locked": false,
     "schema_version": 3,
     "solution": true,
     "task": false
    },
    "tags": []
   },
   "outputs": [],
   "source": [
    "def sudoku_edges():\n",
    "    \"\"\"Generate edges of the graph describing the sudoku puzzle.\n",
    "\n",
    "    Returns:\n",
    "      src_ids: LongTensor of length 1620 with source node ids of all the edges in the graph.\n",
    "      dst_ids: LongTensor of length 1620 with destination node ids of all the edges in the graph\n",
    "\n",
    "    Note: Our tests assume that node ids are between 0 and 80. Please follow this convention.\n",
    "    \"\"\"\n",
    "    # YOUR CODE HERE\n",
    "    sud = torch.arange(0,81).reshape(9,9)\n",
    "    src_ids = torch.zeros((1620), dtype = torch.long)\n",
    "    dst_ids = torch.zeros((1620), dtype = torch.long)\n",
    "    \n",
    "    start = 0\n",
    "    end = 20\n",
    "    \n",
    "    for r in range(9):\n",
    "        for c in range(9):\n",
    "            \n",
    "            src_ids[start:end] = torch.tensor([sud[r,c]]*20)\n",
    "            t = torch.cat([sud[r, :c].flatten(), sud[r, c+1:].flatten(), sud[:r, c].flatten(), sud[r+1:, c].flatten()])\n",
    "            \n",
    "            \n",
    "            rr = (r//3)*3\n",
    "            cc = (c//3)*3\n",
    "            \n",
    "            for i in range(3):\n",
    "                for j in range(3):\n",
    "                    temp = sud[rr+i, cc + j]\n",
    "                    temp  = temp.unsqueeze(0)\n",
    "                    if not(temp in t) and temp!=sud[r,c]:\n",
    "                        t = torch.cat([t, temp])\n",
    "\n",
    "            dst_ids[start:end] = t\n",
    "            start += 20\n",
    "            end += 20\n",
    "        \n",
    "    return src_ids, dst_ids\n",
    "    #raise NotImplementedError()"
   ]
  },
  {
   "cell_type": "code",
   "execution_count": 107,
   "metadata": {
    "deletable": false,
    "editable": false,
    "nbgrader": {
     "cell_type": "code",
     "checksum": "17920d105cfcf586b19607c15ff077ed",
     "grade": true,
     "grade_id": "test_sudoku_edges",
     "locked": true,
     "points": 2,
     "schema_version": 3,
     "solution": false,
     "task": false
    },
    "tags": []
   },
   "outputs": [
    {
     "name": "stdout",
     "output_type": "stream",
     "text": [
      "Number of edges in each sudoku graph: 1620\n"
     ]
    }
   ],
   "source": [
    "sudoku_src_ids, sudoku_dst_ids = sudoku_edges()\n",
    "print('Number of edges in each sudoku graph: %d' % len(sudoku_src_ids))\n",
    "assert sudoku_src_ids.dtype == torch.long and sudoku_dst_ids.dtype == torch.long\n",
    "assert len(sudoku_src_ids) == len(sudoku_dst_ids), \"The number of source and destination nodes should be same.\"\n",
    "assert len(sudoku_src_ids) == 1620, \"Wrong number of edges ({}), expected: 1620\".format(len(sudoku_src_ids))\n",
    "assert min(sudoku_src_ids) == 0 and max(sudoku_src_ids) == 80, \"Node ids should be between 0 and 80\"\n",
    "assert min(sudoku_dst_ids) == 0 and max(sudoku_dst_ids) == 80, \"Node ids should be between 0 and 80\""
   ]
  },
  {
   "cell_type": "markdown",
   "metadata": {
    "deletable": false,
    "editable": false,
    "nbgrader": {
     "cell_type": "markdown",
     "checksum": "bafa92a659e4426064de9fd6fb3b33d9",
     "grade": false,
     "grade_id": "cell-6853a7c321a2b836",
     "locked": true,
     "schema_version": 3,
     "solution": false,
     "task": false
    }
   },
   "source": [
    "## Custom data loader\n",
    "\n",
    "We first create a custom data loader to process a mini-batch of graphs (in parallel) to compute the derivatives wrt the parameters of the graph neural network. To do that, **we transform a mini-batch of graphs to one large graph without interconnecting edges between the subgraphs corresponding to individual examples in the mini-batch.** We do this using a custom collate function that you need to implement in the cell below."
   ]
  },
  {
   "cell_type": "code",
   "execution_count": 154,
   "metadata": {
    "deletable": false,
    "nbgrader": {
     "cell_type": "code",
     "checksum": "b744c606e3430b65f3e97234b4c18ade",
     "grade": false,
     "grade_id": "cell-e6452aa2777d9e21",
     "locked": false,
     "schema_version": 3,
     "solution": true,
     "task": false
    },
    "tags": []
   },
   "outputs": [],
   "source": [
    "def collate(list_of_samples):\n",
    "    \"\"\"Merges a list of samples to form a mini-batch.\n",
    "\n",
    "    Args:\n",
    "      list_of_samples is a list of tuples (inputs, targets),\n",
    "          inputs of shape (n_nodes, 9): Inputs to each node in the graph. Inputs are one-hot coded digits\n",
    "              in the sudoku puzzle. A missing digit is encoded with all zeros. n_nodes=81 for the sudoku graph.\n",
    "          targets of shape (n_nodes): A LongTensor of targets (correct digits in the sudoku puzzle).\n",
    "\n",
    "    Returns:\n",
    "      inputs of shape (batch_size*n_nodes, 9): Inputs to each node in the graph. Inputs are one-hot coded digits\n",
    "          in the sudoku puzzle. A missing digit is encoded with all zeros. n_nodes=81 for the sudoku graph.\n",
    "      targets of shape (batch_size*n_nodes): A LongTensor of targets (correct digits in the sudoku puzzle).\n",
    "      src_ids of shape (batch_size*1620): LongTensor of source node ids for each edge in the large graph.\n",
    "          The source ids should be between 0 and batch_size * 81.\n",
    "      dst_ids of shape (batch_size*1620): LongTensor of destination node ids for each edge in the large graph.\n",
    "          The destination ids should be between 0 and batch_size * 81.\n",
    "    \"\"\"\n",
    "    # YOUR CODE HERE\n",
    "    inputs, targets = zip(*list_of_samples)\n",
    "    \n",
    "    src = []\n",
    "    dst = []\n",
    "    for i in range(len(inputs)):\n",
    "        src_ids, dst_ids = sudoku_edges()\n",
    "        src_ids += 81*i\n",
    "        dst_ids += 81*i\n",
    "        src.append(src_ids)\n",
    "        dst.append(dst_ids)\n",
    "        \n",
    "    inputs = torch.cat(inputs)\n",
    "    targets = torch.cat(targets)\n",
    "    \n",
    "    src_ids = torch.cat(src)\n",
    "    dst_ids = torch.cat(dst)\n",
    "    \n",
    "    \n",
    "    return inputs, targets, src_ids, dst_ids\n",
    "        \n",
    "    #raise NotImplementedError()"
   ]
  },
  {
   "cell_type": "code",
   "execution_count": 155,
   "metadata": {
    "deletable": false,
    "editable": false,
    "nbgrader": {
     "cell_type": "code",
     "checksum": "3707026bb0be2ad18b17cdeb98313c55",
     "grade": false,
     "grade_id": "cell-4ab2b243c07d8d74",
     "locked": true,
     "schema_version": 3,
     "solution": false,
     "task": false
    },
    "tags": []
   },
   "outputs": [
    {
     "name": "stdout",
     "output_type": "stream",
     "text": [
      "Success\n"
     ]
    }
   ],
   "source": [
    "def test_collate_shapes():\n",
    "    batch_size = 2\n",
    "    n_nodes = 81\n",
    "    inputs, targets, src_ids, dst_ids = collate([trainset[0], trainset[1]])\n",
    "    assert inputs.shape == torch.Size([batch_size*n_nodes, 9]), f\"Bad inputs.shape: {inputs.shape}\"\n",
    "    assert targets.shape == torch.Size([batch_size*n_nodes]), f\"Bad targets.shape: {targets.shape}\"\n",
    "    assert src_ids.shape == torch.Size([batch_size*1620]), f\"Bad src_ids.shape: {src_ids.shape}\"\n",
    "    assert dst_ids.shape == torch.Size([batch_size*1620]), f\"Bad dst_ids.shape: {dst_ids.shape}\"\n",
    "    assert min(src_ids) == 0 and max(src_ids) == batch_size*81-1\n",
    "    assert min(dst_ids) == 0 and max(dst_ids) == batch_size*81-1\n",
    "    print('Success')\n",
    "\n",
    "test_collate_shapes()"
   ]
  },
  {
   "cell_type": "code",
   "execution_count": 156,
   "metadata": {
    "deletable": false,
    "editable": false,
    "nbgrader": {
     "cell_type": "code",
     "checksum": "bb013f35c47b4fc5430a6a116823d1ad",
     "grade": false,
     "grade_id": "cell-db00541498ac6acf",
     "locked": true,
     "schema_version": 3,
     "solution": false,
     "task": false
    },
    "tags": []
   },
   "outputs": [],
   "source": [
    "trainloader = DataLoader(trainset, batch_size=16, collate_fn=collate, shuffle=True)\n",
    "testloader = DataLoader(testset, batch_size=16, collate_fn=collate, shuffle=False)"
   ]
  },
  {
   "cell_type": "markdown",
   "metadata": {
    "deletable": false,
    "editable": false,
    "nbgrader": {
     "cell_type": "markdown",
     "checksum": "3a55e40fd0e621baaf5e800cca241f43",
     "grade": false,
     "grade_id": "cell-e03d97e4ed3350c0",
     "locked": true,
     "schema_version": 3,
     "solution": false,
     "task": false
    }
   },
   "source": [
    "<img src=\"recurrent_rn.png\" width=300 style=\"float: right;\">\n",
    "\n",
    "# Graph neural network\n",
    "\n",
    "You need to implement a graph neural network in the cell below. Its forward function consists of `n_iters` iterations with the following steps:\n",
    "* For each node, compute the messages from all its neighbors using the message network (see description below).\n",
    "* For each destination node, aggregate (by summation) all the messages sent by its neighbors. You may find it useful to use function [index_add_](https://pytorch.org/docs/stable/generated/torch.Tensor.index_add_.html#torch.Tensor.index_add_) for that.\n",
    "* The aggregated messages are concatenated with the node inputs to form the inputs of the gated recurrent units (GRUs) whose states represent the states of the nodes. The node inputs are one-hot coded digits 1-9 of the sudoku puzzle, a missing digit is encoded with all zeros. \n",
    "* The states of the GRUs are updated using the standard GRU computations.\n",
    "* The states of each graph node are linearly combined to compute the output of the corresponding node at the current iteration.\n",
    "\n",
    "**Note that since we combine all graphs in the mini-batch into a single graph using `collate()` function, we do not need to care about batches in our implementation of GNN.**\n",
    "\n",
    "\n",
    "### Message network\n",
    "\n",
    "* All messages are computed with the same message network (shared parameters).\n",
    "* The message network takes as inputs the states of the source node and the states of the destination node and produces a vector with `n_edge_features`.\n",
    "* We used as the message network a multilayer perceptron (MLP) network with the following architecture:\n",
    "  * hidden layer with 96 neurons and ReLU nonlinearity\n",
    "  * hidden layer with 96 neurons and ReLU nonlinearity\n",
    "  * output layer with `n_edge_features` output features.\n",
    "* **Important:** Our tests assume that the message network is defined as an attribute called `msg_net`, that is it can be accessed as follows:\n",
    "```\n",
    "gnn = GNN()\n",
    "print(gnn.msg_net)\n",
    "```\n",
    "\n",
    "Notes:\n",
    "\n",
    "* Please initialize the node states (before the first iteration) with all zeros.\n",
    "* The messages computed in the first iteration are not informative because they combine zero states.\n",
    "* For faster training, try to minimize the number of for-loops in your implementation.\n",
    "* **Your implementation of the GNN should work with any graph topologies, not necessarily sudoku. Please do not assume any dimensions specific to the sudoku graph.**"
   ]
  },
  {
   "cell_type": "code",
   "execution_count": null,
   "metadata": {
    "deletable": false,
    "nbgrader": {
     "cell_type": "code",
     "checksum": "82af1501de0a0c632eed843aba56b32f",
     "grade": false,
     "grade_id": "GNN",
     "locked": false,
     "schema_version": 3,
     "solution": true,
     "task": false
    }
   },
   "outputs": [],
   "source": [
    "class GNN(nn.Module):\n",
    "    def __init__(self, n_iters=7, n_node_features=10, n_node_inputs=9, n_edge_features=11, n_node_outputs=9):\n",
    "        \"\"\"\n",
    "        Args:\n",
    "          n_iters: Number of graph iterations.\n",
    "          n_node_features: Number of features in the states of each node.\n",
    "          n_node_inputs: Number of inputs to each graph node (on each graph iteration).\n",
    "          n_edge_features: Number of features in the messages sent along the edges of the graph (produced\n",
    "              by the message network).\n",
    "          n_node_outputs: Number of outputs produced by at each node of the graph.\n",
    "        \"\"\"\n",
    "        super(GNN, self).__init__()\n",
    "\n",
    "        self.n_iters = n_iters\n",
    "        self.n_node_features = n_node_features\n",
    "        self.n_node_inputs = n_node_inputs\n",
    "        self.n_edge_features = n_edge_features\n",
    "        self.n_node_outputs = n_node_outputs\n",
    "\n",
    "        # YOUR CODE HERE\n",
    "        self.layer = nn.Sequence(\n",
    "            nn.Linear(n_node_features, 96),\n",
    "            nn.ReLU(),\n",
    "            nn.Linear(96, 96),\n",
    "            nn.ReLU(),\n",
    "            nn.Linear(96, n_edge_features)\n",
    "        )\n",
    "        \n",
    "            \n",
    "        raise NotImplementedError()\n",
    "\n",
    "    def forward(self, node_inputs, src_ids, dst_ids):\n",
    "        \"\"\"\n",
    "        Args:\n",
    "          node_inputs of shape (n_nodes, n_node_inputs): Tensor of inputs to every node of the graph.\n",
    "          src_ids of shape (n_edges): Indices of source nodes of every edge.\n",
    "          dst_ids of shape (n_edges): Indices of destination nodes of every edge.\n",
    "\n",
    "        Returns:\n",
    "          outputs of shape (n_iters, n_nodes, n_node_outputs): Outputs of all the nodes at every iteration of the\n",
    "              graph neural network.\n",
    "        \"\"\"\n",
    "        # YOUR CODE HERE\n",
    "        raise NotImplementedError()"
   ]
  },
  {
   "cell_type": "code",
   "execution_count": null,
   "metadata": {
    "deletable": false,
    "editable": false,
    "nbgrader": {
     "cell_type": "code",
     "checksum": "ba83789d568c16e73add8dc76670ad98",
     "grade": false,
     "grade_id": "cell-11a931a6dc00b460",
     "locked": true,
     "schema_version": 3,
     "solution": false,
     "task": false
    }
   },
   "outputs": [],
   "source": [
    "# Shape tests of the message network\n",
    "def test_GNN_msg_net():\n",
    "    src_ids, dst_ids = sudoku_edges()\n",
    "    src_ids, dst_ids = torch.LongTensor(src_ids), torch.LongTensor(dst_ids)\n",
    "    n_nodes = 81\n",
    "    n_edges = len(src_ids)\n",
    "    n_node_features = 5\n",
    "    n_edge_features = 6\n",
    "\n",
    "    gnn = GNN(n_iters=7, n_node_features=n_node_features, n_edge_features=n_edge_features)\n",
    "    msg_net_inputs = torch.zeros(n_edges, 2*n_node_features)\n",
    "    assert hasattr(gnn, 'msg_net'), \"Cannot find the message network.\"\n",
    "    messages = gnn.msg_net(msg_net_inputs)  # [n_edges, n_edge_features]\n",
    "    assert messages.shape == torch.Size([n_edges, n_edge_features]), f\"Bad messages.shape: {messages.shape}\"\n",
    "    print('Success')\n",
    "\n",
    "test_GNN_msg_net()"
   ]
  },
  {
   "cell_type": "code",
   "execution_count": null,
   "metadata": {
    "deletable": false,
    "editable": false,
    "nbgrader": {
     "cell_type": "code",
     "checksum": "82daac8447833ccfcb74b45fb82b6e76",
     "grade": false,
     "grade_id": "cell-6e6ddbc2c5573e68",
     "locked": true,
     "schema_version": 3,
     "solution": false,
     "task": false
    }
   },
   "outputs": [],
   "source": [
    "# Shape tests\n",
    "def test_GNN_shape():\n",
    "    src_ids, dst_ids = sudoku_edges()\n",
    "    src_ids, dst_ids = torch.LongTensor(src_ids), torch.LongTensor(dst_ids)\n",
    "    n_nodes = 81\n",
    "\n",
    "    gnn = GNN(n_iters=7)\n",
    "    node_inputs = torch.zeros([n_nodes, 9])\n",
    "    outputs = gnn(node_inputs, src_ids, dst_ids)  # [n_iters, batch*n_nodes, 9]\n",
    "    assert outputs.shape == torch.Size([gnn.n_iters, n_nodes, 9]), f\"Bad outputs.shape: {outputs.shape}\"\n",
    "    print('Success')\n",
    "\n",
    "test_GNN_shape()"
   ]
  },
  {
   "cell_type": "code",
   "execution_count": null,
   "metadata": {
    "deletable": false,
    "editable": false,
    "nbgrader": {
     "cell_type": "code",
     "checksum": "439aef9b632422a31fc83786a3f0b515",
     "grade": true,
     "grade_id": "test_GNN",
     "locked": true,
     "points": 1,
     "schema_version": 3,
     "solution": false,
     "task": false
    }
   },
   "outputs": [],
   "source": [
    "# Test of GNN.forward()\n",
    "def test_GNN_forward(GNN):\n",
    "    with torch.no_grad():\n",
    "        src_ids = torch.LongTensor([0, 1, 0])\n",
    "        dst_ids = torch.LongTensor([1, 2, 2])\n",
    "        n_edges = len(src_ids)\n",
    "\n",
    "        gnn = GNN(n_iters=2, n_node_inputs=1, n_node_features=2, n_edge_features=3, n_node_outputs=2)\n",
    "        class MyMsgNet(nn.Module):\n",
    "            def forward(self, msg_net_inputs):\n",
    "                shape = list(msg_net_inputs.size())\n",
    "                shape[-1] = gnn.n_edge_features\n",
    "                messages = torch.ones(*shape)\n",
    "                return messages\n",
    "        if isinstance(gnn.msg_net, nn.Module):\n",
    "            gnn.msg_net = nn.Sequential(MyMsgNet())\n",
    "            # nn.Sequential() is to handle a for loop over msg_net layers :)\n",
    "        else:\n",
    "            gnn.msg_net = lambda x: MyMsgNet.forward(None, x)\n",
    "\n",
    "        def set_weights(gnn):\n",
    "            for name, module in gnn.named_modules():\n",
    "                if isinstance(module, (nn.GRU, nn.GRUCell)):\n",
    "                    if isinstance(module, nn.GRU):\n",
    "                        weight_ih = module.weight_ih_l0\n",
    "                        weight_hh = module.weight_hh_l0\n",
    "                    else:\n",
    "                        weight_ih = module.weight_ih\n",
    "                        weight_hh = module.weight_hh\n",
    "\n",
    "                    weight_ih.data.fill_(0)\n",
    "                    weight_ih.data[:2, :].fill_(0.1)   # reset\n",
    "                    weight_ih.data[2:4, :].fill_(0.1)  # update\n",
    "                    weight_ih.data[4:, :].fill_(1)   # new value\n",
    "                    # Since the weights are all equal, we do not need to care about the order of the inputs\n",
    "\n",
    "                    weight_hh.data.fill_(0)\n",
    "                    weight_hh.data[1, :].fill_(0.1)   # reset\n",
    "                    weight_hh.data[2, :].fill_(-0.1)   # reset\n",
    "                    weight_hh.data[2:4, 1].fill_(0.1) # update\n",
    "                    weight_hh.data[4:, 1].fill_(0.1)   # new value\n",
    "\n",
    "                    if module.bias == True:\n",
    "                        if isinstance(module, nn.GRU):\n",
    "                            bias_ih = module.bias_ih_l0\n",
    "                            bias_hh = module.bias_hh_l0\n",
    "                        else:\n",
    "                            bias_ih = module.bias_ih\n",
    "                            bias_hh = module.bias_hh\n",
    "\n",
    "                        bias_ih.data.fill_(0)\n",
    "                        bias_hh.data.fill_(0)\n",
    "\n",
    "                elif isinstance(module, nn.Linear) and (module.in_features == 2) and (module.out_features == 2):\n",
    "                    module.weight.data = torch.eye(2)\n",
    "                    module.bias.data.fill_(0)\n",
    "\n",
    "        set_weights(gnn)\n",
    "        node_inputs = torch.Tensor([1, 2, 3]).view(3, 1)\n",
    "        outputs = gnn.forward(node_inputs, src_ids, dst_ids)  # [n_iters, n_nodes, n_node_outputs]\n",
    "        expected = torch.tensor([\n",
    "            [[0.3618, 0.3618],\n",
    "             [0.3775, 0.3775],\n",
    "             [0.2891, 0.2891]],\n",
    "            [[0.5554, 0.5519],\n",
    "             [0.6125, 0.6070],\n",
    "             [0.4946, 0.4904]]\n",
    "        ])\n",
    "        print('outputs:\\n', outputs)\n",
    "        print('expected:\\n', expected)\n",
    "\n",
    "        assert torch.allclose(outputs, expected, atol=1e-04) or \\\n",
    "               torch.allclose(outputs, F.log_softmax(outputs, dim=-1), atol=1e-04) or \\\n",
    "               torch.allclose(outputs, F.softmax(outputs, dim=-1), atol=1e-04)\n",
    "        print('Success')\n",
    "\n",
    "test_GNN_forward(GNN)"
   ]
  },
  {
   "cell_type": "markdown",
   "metadata": {
    "deletable": false,
    "editable": false,
    "nbgrader": {
     "cell_type": "markdown",
     "checksum": "d1bd48c6aa150d63000c006bdea924c6",
     "grade": false,
     "grade_id": "cell-7ade147639f9842c",
     "locked": true,
     "schema_version": 3,
     "solution": false,
     "task": false
    }
   },
   "source": [
    "## Train the network"
   ]
  },
  {
   "cell_type": "markdown",
   "metadata": {
    "deletable": false,
    "editable": false,
    "nbgrader": {
     "cell_type": "markdown",
     "checksum": "c9d9eb5aa6874ce9ed806494adefd69f",
     "grade": false,
     "grade_id": "cell-329b929c7fb52923",
     "locked": true,
     "schema_version": 3,
     "solution": false,
     "task": false
    }
   },
   "source": [
    "### Training loop\n",
    "\n",
    "Your task is to implement the training loop. The recommended hyperparameters:\n",
    "* Adam optimizer with learning rate 0.001\n",
    "* 30 epochs is usually enough for training to converge.\n",
    "* The loss should be the mean of the classification losses computed at **every** GNN iteration. This way you encourage the GNN to find the correct solution with as few iterations as possible.\n",
    "\n",
    "Hints:\n",
    "* The training loss at convergence can reach 0.25. The classification loss computed after the **last** GNN iteration should be close to 0.\n",
    "* The fraction of solved test puzzles is usually close to 1 (we will use the threshold of 0.93 in the tests).\n",
    "* We recommend you to track the fraction of solved puzzles in the test set using the function below."
   ]
  },
  {
   "cell_type": "code",
   "execution_count": null,
   "metadata": {
    "deletable": false,
    "editable": false,
    "nbgrader": {
     "cell_type": "code",
     "checksum": "f136befec210d74c77cdb29f0be2b953",
     "grade": false,
     "grade_id": "cell-1a6cd2d477b9cf68",
     "locked": true,
     "schema_version": 3,
     "solution": false,
     "task": false
    }
   },
   "outputs": [],
   "source": [
    "# Create network\n",
    "gnn = GNN()\n",
    "gnn.to(device)"
   ]
  },
  {
   "cell_type": "code",
   "execution_count": null,
   "metadata": {
    "deletable": false,
    "editable": false,
    "nbgrader": {
     "cell_type": "code",
     "checksum": "070a0e968197e35da0c9caf76e5aa35d",
     "grade": false,
     "grade_id": "cell-22f6f3447eba7ab0",
     "locked": true,
     "schema_version": 3,
     "solution": false,
     "task": false
    }
   },
   "outputs": [],
   "source": [
    "def fraction_of_solved_puzzles(gnn, testloader):\n",
    "    with torch.no_grad():\n",
    "        n_test = 0\n",
    "        n_test_solved = 0\n",
    "        for i, (inputs, targets, src_ids, dst_ids) in enumerate(testloader):\n",
    "            # inputs is [n_nodes, 9*9, 9]\n",
    "            # targets is [n_nodes]\n",
    "            batch_size = inputs.size(0) // 81\n",
    "            inputs, targets = inputs.to(device), targets.to(device)\n",
    "            src_ids, dst_ids = src_ids.to(device), dst_ids.to(device)\n",
    "\n",
    "            outputs = gnn(inputs, src_ids, dst_ids)  # [n_iters, batch*n_nodes, 9]\n",
    "            solution = outputs.view(gnn.n_iters, batch_size, 9, 9, 9)\n",
    "\n",
    "            final_solution = solution[-1].argmax(dim=3)\n",
    "            solved = (final_solution.view(-1, 81) == targets.view(batch_size, 81)).all(dim=1)\n",
    "            n_test += solved.size(0)\n",
    "            n_test_solved += solved.sum().item()\n",
    "            return n_test_solved / n_test"
   ]
  },
  {
   "cell_type": "code",
   "execution_count": null,
   "metadata": {
    "deletable": false,
    "nbgrader": {
     "cell_type": "code",
     "checksum": "cc19846a8d8839a111f004d38b6dc7af",
     "grade": false,
     "grade_id": "training_loop",
     "locked": false,
     "schema_version": 3,
     "solution": true,
     "task": false
    }
   },
   "outputs": [],
   "source": [
    "# Implement the training loop here\n",
    "if not skip_training:\n",
    "    # YOUR CODE HERE\n",
    "    raise NotImplementedError()"
   ]
  },
  {
   "cell_type": "code",
   "execution_count": null,
   "metadata": {},
   "outputs": [],
   "source": [
    "# Save the model to disk (the pth-files will be submitted automatically together with your notebook)\n",
    "# Set confirm=False if you do not want to be asked for confirmation before saving.\n",
    "if not skip_training:\n",
    "    tools.save_model(gnn, '1_gnn.pth', confirm=True)"
   ]
  },
  {
   "cell_type": "code",
   "execution_count": null,
   "metadata": {
    "deletable": false,
    "editable": false,
    "nbgrader": {
     "cell_type": "code",
     "checksum": "642d4edba286c4d01ed751a1d8c5b2b7",
     "grade": false,
     "grade_id": "cell-7b664d9672add5d3",
     "locked": true,
     "schema_version": 3,
     "solution": false,
     "task": false
    }
   },
   "outputs": [],
   "source": [
    "if skip_training:\n",
    "    gnn = GNN()\n",
    "    tools.load_model(gnn, '1_gnn.pth', device)"
   ]
  },
  {
   "cell_type": "markdown",
   "metadata": {
    "deletable": false,
    "editable": false,
    "nbgrader": {
     "cell_type": "markdown",
     "checksum": "3612e3450979bdecf32aae43ff0b434f",
     "grade": false,
     "grade_id": "cell-3f1e85b8a2af78bb",
     "locked": true,
     "schema_version": 3,
     "solution": false,
     "task": false
    }
   },
   "source": [
    "## Evaluate the trained model"
   ]
  },
  {
   "cell_type": "code",
   "execution_count": null,
   "metadata": {
    "deletable": false,
    "editable": false,
    "nbgrader": {
     "cell_type": "code",
     "checksum": "0094cc851ea2cdd3e273cbb9b16a1558",
     "grade": false,
     "grade_id": "cell-32f91b6a282d0245",
     "locked": true,
     "schema_version": 3,
     "solution": false,
     "task": false
    }
   },
   "outputs": [],
   "source": [
    "# Get graph iterations for some test puzzles\n",
    "with torch.no_grad():\n",
    "    inputs, targets, src_ids, dst_ids = next(iter(testloader))\n",
    "    inputs, targets = inputs.to(device), targets.to(device)\n",
    "    src_ids, dst_ids = src_ids.to(device), dst_ids.to(device)\n",
    "\n",
    "    batch_size = inputs.size(0) // 81\n",
    "    outputs = gnn(inputs, src_ids, dst_ids)  # [n_iters, n_nodes, 9]\n",
    "\n",
    "    solution = outputs.view(gnn.n_iters, batch_size, 9, 9, 9)\n",
    "    final_solution = solution[-1].argmax(dim=3)\n",
    "    print('Solved puzzles in the current mini-batch:')\n",
    "    print((final_solution.view(-1, 81) == targets.view(batch_size, 81)).all(dim=1))"
   ]
  },
  {
   "cell_type": "code",
   "execution_count": null,
   "metadata": {
    "deletable": false,
    "editable": false,
    "nbgrader": {
     "cell_type": "code",
     "checksum": "92d62e9db18cb4f608d557bf65ce095f",
     "grade": false,
     "grade_id": "cell-f26db64afdc81028",
     "locked": true,
     "schema_version": 3,
     "solution": false,
     "task": false
    }
   },
   "outputs": [],
   "source": [
    "# Visualize graph iteration for one of the puzzles\n",
    "ix = 0\n",
    "for i in range(gnn.n_iters):\n",
    "    tools.draw_sudoku(solution[i, 0], logits=True)"
   ]
  },
  {
   "cell_type": "code",
   "execution_count": null,
   "metadata": {
    "deletable": false,
    "editable": false,
    "nbgrader": {
     "cell_type": "code",
     "checksum": "48ca164a52867689eefcabacd7aab4d0",
     "grade": true,
     "grade_id": "accuracy",
     "locked": true,
     "points": 5,
     "schema_version": 3,
     "solution": false,
     "task": false
    }
   },
   "outputs": [],
   "source": [
    "fraction_solved = fraction_of_solved_puzzles(gnn, testloader)\n",
    "print(fraction_solved)\n",
    "assert fraction_solved > .93, \"Poor accuracy ({:.3f})\".format(fraction_solved)\n",
    "print('Success')"
   ]
  },
  {
   "cell_type": "markdown",
   "metadata": {
    "deletable": false,
    "editable": false,
    "nbgrader": {
     "cell_type": "markdown",
     "checksum": "fccf695a980451fde3b56610aa9c9f23",
     "grade": false,
     "grade_id": "cell-0bc01d506d94ba01",
     "locked": true,
     "schema_version": 3,
     "solution": false,
     "task": false
    }
   },
   "source": [
    "<div class=\"alert alert-block alert-info\">\n",
    "<b>Conclusions</b>\n",
    "</div>\n",
    "\n",
    "In this exercise, we learned how to train a simple graph neural network.\n",
    "\n",
    "Note that the network learned to solve Sudoku puzzles without being explicitly told about the rules of the game. It learned to solve the puzzle from the training examples. We helped the network by telling which objects (cells) are related to each other but we did not specify the exact type of the relations."
   ]
  }
 ],
 "metadata": {
  "kernelspec": {
   "display_name": "Python 3",
   "language": "python",
   "name": "python3"
  },
  "language_info": {
   "codemirror_mode": {
    "name": "ipython",
    "version": 3
   },
   "file_extension": ".py",
   "mimetype": "text/x-python",
   "name": "python",
   "nbconvert_exporter": "python",
   "pygments_lexer": "ipython3",
   "version": "3.10.12"
  },
  "varInspector": {
   "cols": {
    "lenName": 16,
    "lenType": 16,
    "lenVar": 40
   },
   "kernels_config": {
    "python": {
     "delete_cmd_postfix": "",
     "delete_cmd_prefix": "del ",
     "library": "var_list.py",
     "varRefreshCmd": "print(var_dic_list())"
    },
    "r": {
     "delete_cmd_postfix": ") ",
     "delete_cmd_prefix": "rm(",
     "library": "var_list.r",
     "varRefreshCmd": "cat(var_dic_list()) "
    }
   },
   "types_to_exclude": [
    "module",
    "function",
    "builtin_function_or_method",
    "instance",
    "_Feature"
   ],
   "window_display": false
  }
 },
 "nbformat": 4,
 "nbformat_minor": 4
}
