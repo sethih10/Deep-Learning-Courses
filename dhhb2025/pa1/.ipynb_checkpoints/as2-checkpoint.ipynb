{
 "cells": [
  {
   "cell_type": "markdown",
   "id": "edeb6579",
   "metadata": {},
   "source": [
    "<p style=\"text-align:center; font-size: 28px;\">CS-C4100 - Digital Health and Human Behavior (2025)</p>"
   ]
  },
  {
   "cell_type": "code",
   "execution_count": null,
   "id": "7b7523e6",
   "metadata": {},
   "outputs": [],
   "source": [
    "ID = \"\"  # Your Student Id"
   ]
  },
  {
   "cell_type": "markdown",
   "id": "ddc72e37",
   "metadata": {},
   "source": [
    "<div class=\"alert alert-info\">\n",
    "\n",
    "<details open>\n",
    "    <summary style=\"font-size: 22px\"><b>⚠️ General Tips</b></summary>\n",
    "\n",
    "* Please review [the general course info](https://mycourses.aalto.fi/course/view.php?id=46377) carefully.\n",
    "* Feel free to create new code cells. This is a good way to write extra tests you may want to run. Note that all cells are executed during evaluation. \n",
    "* **Never** create new cells by menu commands \"Edit/Copy Cells\" and \"Edit/Paste Cells ...\". These commands create cells with duplicate ids and make autograding impossible. Use menu commands \"Insert/Insert Cell ...\" or the button with a plus sign to insert new cells.\n",
    "* When you write code required to solve an assignment, we highly recommend you to insert the code where it says `# YOUR CODE HERE`.\n",
    "* If your notebook is broken (e.g. accidentally removed a hidden tests cell, etc.), you can always re-fetch the assignment. To do so, rename the existing folder and fetch the assignment again.\n",
    "* Do not forget to \"Submit\" your solution in the \"Nbgrader→Assignment List\" page after finishing your work. \n",
    "* To better understand how doing assignments in JupyterLab works, please refer to the [documentation](https://scicomp.aalto.fi/aalto/jupyterhub/nbgrader-jupyterlab/).\n",
    "    \n",
    "**Note:** Exercise sessions take place on Mondays 14:15 - 15:45 via [Zoom](https://aalto.zoom.us/j/61175427911) and in-person (Tietotekniikka, C111).\n",
    "\n",
    "</details>\n",
    "</div>\n",
    "\n",
    "---\n"
   ]
  },
  {
   "cell_type": "code",
   "execution_count": null,
   "id": "90f9f113",
   "metadata": {},
   "outputs": [],
   "source": []
  },
  {
   "cell_type": "markdown",
   "id": "2227644f-af46-4be0-a529-5ce9a12804ee",
   "metadata": {
    "deletable": false,
    "editable": true,
    "slideshow": {
     "slide_type": ""
    },
    "tags": []
   },
   "source": [
    "# Assignment 1.2: StudentLife Dataset <a class=\"anchor\" id=\"introduction\"></a>\n",
    "\n",
    "In this assignment, we will delve into the StudentLife dataset, a rich collection of data capturing various aspects of student life (such as activity, conversational engagement, and academic performance, captured through smartphone sensing and questionnaire data) at Dartmouth College. The study aimed to determine how student behavior (e.g., physical activity and social interaction) correlates with academic performance and mental well-being. This exercise aims to explore correlations between different student behaviors and academic performance. The exercise follows the data analysis workflow introduced in the first programming assignment. \n",
    "\n",
    "Our goal is to replicate a few specific findings from the StudentLife paper [[1]](#References):\n",
    "1. Conversation duration during the daytime is correlated with student academic performance.\n",
    "2. Activity duration is negatively correlated with student academic performance.\n",
    "\n",
    "<div class=\"alert alert-info\">\n",
    "\n",
    "### 📚 Learning outcomes\n",
    "Upon completing this assignment, you will be able to: \n",
    "\n",
    "1. Preprocess, transform, and merge data for analysis.\n",
    "2. Visualize data to gain insights.\n",
    "3. Perform basic regression analysis.\n",
    "4. Interpret the analysis results in the context of the StudentLife study.\n",
    "    \n",
    "</div>"
   ]
  },
  {
   "cell_type": "markdown",
   "id": "5b3787f5",
   "metadata": {
    "deletable": false,
    "slideshow": {
     "slide_type": ""
    },
    "tags": []
   },
   "source": [
    "### Table of Contents\n",
    "\n",
    "* [Introduction](#introduction)\n",
    "* [Section 1: Loading the Data](#section_1)\n",
    "    * [Section 1.1: Grades Data](#section_1_1)\n",
    "    * [Section 1.2: Activity Duration Data](#section_1_2)\n",
    "    * [Section 1.3: Conversation Duration Data](#section_1_3)\n",
    "* [Section 2: Preprocessing the Data](#section_2)\n",
    "    * [Section 2.1: Preprocessing grades data](#section_2_1)\n",
    "    * [Section 2.2: Preprocessing activity data](#section_2_2)\n",
    "    * [Section 2.3: Preprocessing conversation data](#section_2_3)\n",
    "* [Section 3: Exploration](#section_3)\n",
    "    * [Section 3.1: Grades data exploration](#section_3_1)\n",
    "    * [Section 3.2: Activity data exploration](#section_3_2)\n",
    "    * [Section 3.3: Conversation data exploration](#section_3_3)\n",
    "* [Section 4: Analysis](#section_4)\n",
    "    * [Section 4.1: Merge dataframes](#section_4_1)        \n",
    "    * [Section 4.2: Visualize data](#section_4_2)\n",
    "        * [Section 4.2.1: GPA and Activity Duration](#section_4_2_1)\n",
    "        * [Section 4.2.2: GPA and Conversation Duration](#section_4_2_2)\n",
    "    * [Section 4.3: Regression Analysis](#section_4_3)\n",
    "        * [Section 4.3.1: GPA vs Activity Duration](#section_4_3_1)\n",
    "        * [Section 4.3.2: GPA vs Conversation Duration](#section_4_3_2)\n",
    "* [Section 5: Interpretation](#section_5)\n",
    "* [References](#References)\n",
    "* [Extra Reading](#extra)"
   ]
  },
  {
   "cell_type": "markdown",
   "id": "79e09105",
   "metadata": {
    "deletable": false,
    "editable": false,
    "slideshow": {
     "slide_type": ""
    },
    "tags": []
   },
   "source": [
    "---"
   ]
  },
  {
   "cell_type": "markdown",
   "id": "ebe15cf0",
   "metadata": {
    "deletable": false,
    "editable": false,
    "slideshow": {
     "slide_type": ""
    },
    "tags": []
   },
   "source": [
    "<a class=\"anchor\" id=\"section_1\"></a>\n",
    "## Section 1: Loading the Data"
   ]
  },
  {
   "cell_type": "markdown",
   "id": "cc4b5e39",
   "metadata": {
    "deletable": false,
    "editable": false,
    "slideshow": {
     "slide_type": ""
    },
    "tags": []
   },
   "source": [
    "In this section, we'll start by importing the Python modules required in this exercise and then import selected and prepared features from the StudentLife dataset. "
   ]
  },
  {
   "cell_type": "code",
   "execution_count": null,
   "id": "8fb50cf7",
   "metadata": {
    "deletable": false,
    "editable": false,
    "slideshow": {
     "slide_type": ""
    },
    "tags": []
   },
   "outputs": [],
   "source": [
    "import os\n",
    "import pandas as pd\n",
    "import numpy as np\n",
    "import scipy.stats as stats\n",
    "import seaborn as sns\n",
    "import matplotlib.pyplot as plt\n",
    "\n",
    "# Define data path\n",
    "if 'AALTO_JUPYTERHUB' in os.environ:\n",
    "    # Using jupyter sharedata directory\n",
    "    DATA = '/coursedata/pa1/'\n",
    "else:\n",
    "    DATA = '../../data/pa1/'"
   ]
  },
  {
   "cell_type": "markdown",
   "id": "e1bd5d3b",
   "metadata": {
    "deletable": false,
    "editable": false,
    "slideshow": {
     "slide_type": ""
    },
    "tags": []
   },
   "source": [
    "Then, we load data in three separate CSV files: \n",
    "1. Grades Data: Contains information about students' academic performance.\n",
    "2. Conversation Duration Data: Captures the duration of conversations that students have had.\n",
    "3. Activity Duration Data: Contains information about different physical activities that students engage in."
   ]
  },
  {
   "cell_type": "markdown",
   "id": "312c9b13",
   "metadata": {
    "deletable": false,
    "editable": false,
    "slideshow": {
     "slide_type": ""
    },
    "tags": []
   },
   "source": [
    "<a class=\"anchor\" id=\"section_1_1\"></a>\n",
    "### Section 1.1: Grades Data\n",
    "\n",
    "First, we'll load the grades data and have a peek:"
   ]
  },
  {
   "cell_type": "code",
   "execution_count": null,
   "id": "d8df1ccf",
   "metadata": {
    "deletable": false,
    "editable": false,
    "slideshow": {
     "slide_type": ""
    },
    "tags": []
   },
   "outputs": [],
   "source": [
    "# Load GPA data\n",
    "grades_df = pd.read_csv(os.path.join(DATA, \"grades.csv\"))\n",
    "print(\"Grades data loaded!\")\n",
    "grades_df.head()"
   ]
  },
  {
   "cell_type": "markdown",
   "id": "3eca8159",
   "metadata": {
    "deletable": false,
    "editable": false,
    "slideshow": {
     "slide_type": ""
    },
    "tags": []
   },
   "source": [
    "The dataframe has four columns:\n",
    "- **uid** : user id\n",
    "- **gpa all** : overall grade point average (gpa)\n",
    "- **gpa 13s** : spring term 2013 gpa\n",
    "- **cs 65** : a specific course-related info"
   ]
  },
  {
   "cell_type": "markdown",
   "id": "2dcd382c",
   "metadata": {
    "deletable": false,
    "slideshow": {
     "slide_type": ""
    },
    "tags": []
   },
   "source": [
    "<a class=\"anchor\" id=\"section_1_2\"></a>\n",
    "### Section 1.2: Activity Duration Data\n",
    "\n",
    "Next, we'll load the activity duration data."
   ]
  },
  {
   "cell_type": "code",
   "execution_count": null,
   "id": "da1ed5ba",
   "metadata": {
    "deletable": false,
    "editable": true,
    "slideshow": {
     "slide_type": ""
    },
    "tags": []
   },
   "outputs": [],
   "source": [
    "# Load activity data\n",
    "activity_df = pd.read_csv(os.path.join(DATA, \"hourly_activity.csv\"), index_col=0)\n",
    "\n",
    "# Print dataframe head\n",
    "activity_df.head()"
   ]
  },
  {
   "cell_type": "markdown",
   "id": "02882b35",
   "metadata": {
    "deletable": false,
    "editable": true,
    "slideshow": {
     "slide_type": ""
    },
    "tags": []
   },
   "source": [
    "As shown above, the index column contains student IDs, and other columns indicate activity *proportion* in one-hour bins (0 means no activity, 1 means that the student has been active for the whole hour). The data covers the spring semester of 2013.\n",
    "> Note that \"-04:00\" in the \"2013-03-27 00:00:00-04:00\" format represents the **timezone** (four hours behind UTC), not a time range!"
   ]
  },
  {
   "cell_type": "markdown",
   "id": "8e3b33e8",
   "metadata": {
    "deletable": false,
    "editable": false,
    "slideshow": {
     "slide_type": ""
    },
    "tags": []
   },
   "source": [
    "<a class=\"anchor\" id=\"section_1_3\"></a>\n",
    "### Section 1.3: Conversation Duration Data\n",
    "\n",
    "And finally, the conversation duration data:"
   ]
  },
  {
   "cell_type": "code",
   "execution_count": null,
   "id": "85b9b481",
   "metadata": {
    "deletable": false,
    "editable": false,
    "slideshow": {
     "slide_type": ""
    },
    "tags": []
   },
   "outputs": [],
   "source": [
    "# Load the conversation data\n",
    "conversation_df = pd.read_csv(os.path.join(DATA, \"conversation_durations.csv\"), index_col=0)\n",
    "print(\"Conversation data loaded!\")\n",
    "\n",
    "# Print dataframe head\n",
    "conversation_df.head()"
   ]
  },
  {
   "cell_type": "markdown",
   "id": "7709f31b",
   "metadata": {
    "deletable": false,
    "editable": false,
    "slideshow": {
     "slide_type": ""
    },
    "tags": []
   },
   "source": [
    "The dataframe has three columns:\n",
    "- **timestamp** : hourly timestamps covering spring term 2013\n",
    "- **id** : student id\n",
    "- **duration** : mobile phone inferred conversation duration during the hour (0-60 min).\n",
    "\n",
    "We notice that the dataframes are of different formats. Thus, some transformations are needed to merge them. We'll do that in the next section."
   ]
  },
  {
   "cell_type": "markdown",
   "id": "c93d4e17",
   "metadata": {
    "deletable": false,
    "editable": false,
    "slideshow": {
     "slide_type": ""
    },
    "tags": []
   },
   "source": [
    "---"
   ]
  },
  {
   "cell_type": "markdown",
   "id": "ec79ce46",
   "metadata": {
    "deletable": false,
    "editable": false,
    "slideshow": {
     "slide_type": ""
    },
    "tags": []
   },
   "source": [
    "<a class=\"anchor\" id=\"section_2\"></a>\n",
    "## Section 2: Preprocessing the Data\n",
    "\n",
    "Data preprocessing is a crucial step in any data science or machine-learning workflow. In this section, we will clean the data, and select and transform certain features to prepare our data for the subsequent steps. We proceed with a dataframe at a time, starting with the grades."
   ]
  },
  {
   "cell_type": "markdown",
   "id": "9e38c0d0",
   "metadata": {
    "deletable": false,
    "editable": false,
    "slideshow": {
     "slide_type": ""
    },
    "tags": []
   },
   "source": [
    "<a class=\"anchor\" id=\"section_2_1\"></a>\n",
    "### Section 2.1: Preprocessing grades data"
   ]
  },
  {
   "cell_type": "markdown",
   "id": "51933e4f",
   "metadata": {
    "deletable": false,
    "editable": false,
    "slideshow": {
     "slide_type": ""
    },
    "tags": []
   },
   "source": [
    "We'll start by checking the data with `describe()`:"
   ]
  },
  {
   "cell_type": "code",
   "execution_count": null,
   "id": "ed7a2735",
   "metadata": {
    "deletable": false,
    "editable": false,
    "slideshow": {
     "slide_type": ""
    },
    "tags": []
   },
   "outputs": [],
   "source": [
    "grades_df.describe()"
   ]
  },
  {
   "cell_type": "markdown",
   "id": "5ad91efe",
   "metadata": {
    "deletable": false,
    "editable": false,
    "slideshow": {
     "slide_type": ""
    },
    "tags": []
   },
   "source": [
    "We notice that there are no apparent outliers in the data. Then we'll check if there are any missing values with chaining `isna()`and `sum()`: "
   ]
  },
  {
   "cell_type": "code",
   "execution_count": null,
   "id": "9f075548",
   "metadata": {
    "deletable": false,
    "editable": false,
    "slideshow": {
     "slide_type": ""
    },
    "tags": []
   },
   "outputs": [],
   "source": [
    "grades_df.isna().sum()"
   ]
  },
  {
   "cell_type": "markdown",
   "id": "5d6e8941",
   "metadata": {
    "deletable": false,
    "editable": false,
    "slideshow": {
     "slide_type": ""
    },
    "tags": []
   },
   "source": [
    "There are no missing values. Instead, we noted that the columns column names contain some unwanted empty spaces. Let's print the column names using `columns`: "
   ]
  },
  {
   "cell_type": "code",
   "execution_count": null,
   "id": "445a4eae",
   "metadata": {
    "deletable": false,
    "editable": false,
    "slideshow": {
     "slide_type": ""
    },
    "tags": []
   },
   "outputs": [],
   "source": [
    "list(grades_df.columns)"
   ]
  },
  {
   "cell_type": "markdown",
   "id": "d95a3e68",
   "metadata": {
    "editable": false,
    "slideshow": {
     "slide_type": ""
    },
    "tags": []
   },
   "source": [
    "In this exercise, we are only interested in spring term GPA, so we'll select only that column and student id's. \n",
    "\n",
    "<div class=\"alert alert-warning\">\n",
    "\n",
    "#### 📝 Task 1\n",
    "\n",
    "- Select only columns named \"uid\" and \" gpa 13s\", discarding the rest. Notice the empty spaces in strings.\n",
    "- For the convenience, rename those columns \"id\" and \"gpa\".\n",
    "\n",
    "\n",
    "</div>"
   ]
  },
  {
   "cell_type": "code",
   "execution_count": null,
   "id": "1f337b91",
   "metadata": {
    "deletable": false,
    "editable": true,
    "nbgrader": {
     "cell_type": "code",
     "checksum": "8db47634029472fea9db28c4917054b0",
     "grade": false,
     "grade_id": "cell-3f8e41f184aba96b",
     "locked": false,
     "schema_version": 3,
     "solution": true,
     "task": false
    },
    "slideshow": {
     "slide_type": ""
    },
    "tags": []
   },
   "outputs": [],
   "source": [
    "# Select only required columns and rename them for the grades data\n",
    "\n",
    "# YOUR CODE HERE\n",
    "raise NotImplementedError()\n",
    "\n",
    "print(\"Grades data after preprocessing:\")\n",
    "grades_df.head()"
   ]
  },
  {
   "cell_type": "code",
   "execution_count": null,
   "id": "bf1e9cb9-25be-429f-a6d8-b5653d5af287",
   "metadata": {
    "editable": false,
    "slideshow": {
     "slide_type": ""
    },
    "tags": []
   },
   "outputs": [],
   "source": [
    "### Sanity Checks. Do not modify.\n",
    "\n",
    "assert len(grades_df.columns) == 2, \"Too many columns\""
   ]
  },
  {
   "cell_type": "code",
   "execution_count": null,
   "id": "d0346a87",
   "metadata": {
    "deletable": false,
    "editable": false,
    "nbgrader": {
     "cell_type": "code",
     "checksum": "19a763121f1cb4ecb8a1f227aa3f7622",
     "grade": true,
     "grade_id": "task1-rename",
     "locked": true,
     "points": 1,
     "schema_version": 3,
     "solution": false,
     "task": false
    },
    "slideshow": {
     "slide_type": ""
    },
    "tags": []
   },
   "outputs": [],
   "source": [
    "### Hidden Tests"
   ]
  },
  {
   "cell_type": "markdown",
   "id": "e169f5b0",
   "metadata": {
    "deletable": false,
    "editable": false,
    "slideshow": {
     "slide_type": ""
    },
    "tags": []
   },
   "source": [
    "<a class=\"anchor\" id=\"section_2_2\"></a>\n",
    "### Section 2.2: Preprocessing activity data"
   ]
  },
  {
   "cell_type": "markdown",
   "id": "f693d0d8",
   "metadata": {
    "deletable": false,
    "editable": false,
    "slideshow": {
     "slide_type": ""
    },
    "tags": []
   },
   "source": [
    "Next, we'll inspect activity data. The data is organized so that each column represents a date and hour, and each row is a subject. We'll start by inspecting the data and checking missing values:\n"
   ]
  },
  {
   "cell_type": "code",
   "execution_count": null,
   "id": "7f5b566d",
   "metadata": {
    "deletable": false,
    "editable": false,
    "slideshow": {
     "slide_type": ""
    },
    "tags": []
   },
   "outputs": [],
   "source": [
    "activity_df.describe()"
   ]
  },
  {
   "cell_type": "code",
   "execution_count": null,
   "id": "93c0e48f",
   "metadata": {
    "deletable": false,
    "editable": false,
    "slideshow": {
     "slide_type": ""
    },
    "tags": []
   },
   "outputs": [],
   "source": [
    "activity_df.isna().sum()"
   ]
  },
  {
   "cell_type": "markdown",
   "id": "f54af603",
   "metadata": {
    "deletable": false,
    "slideshow": {
     "slide_type": ""
    },
    "tags": []
   },
   "source": [
    "We notice that there are no apparent outliers in the data, and columns have some missing values.\n",
    "\n",
    "<div class=\"alert alert-warning\">\n",
    "\n",
    "#### 📝 Task 2\n",
    "\n",
    "- Fill NaN's in `activity_df` with zero. We will use this dataframe for visualizations later.\n",
    "- Create a new dataframe named `avg_activity_df`. We are going to use it to store the average activity for each student (`id`).\n",
    "   - The dataframe should contain two columns:\n",
    "       - **id** : with unique student id's\n",
    "       - **duration** : average activity duration for each student (`id`)\n",
    "</div>\n",
    "\n",
    "<div class=\"alert alert-success\">\n",
    "\n",
    "<details>\n",
    "    <summary style=\"font-size: 18px\">💡 Hint</summary>\n",
    "\n",
    "You can use [`pandas.DataFrame.fillna`](https://pandas.pydata.org/docs/reference/api/pandas.DataFrame.fillna.html).\n",
    "\n",
    "</details>\n",
    "</div>"
   ]
  },
  {
   "cell_type": "code",
   "execution_count": null,
   "id": "d71e7937",
   "metadata": {
    "deletable": false,
    "editable": true,
    "nbgrader": {
     "cell_type": "code",
     "checksum": "fa1c6f28dc389b2ab4472086f7448de1",
     "grade": false,
     "grade_id": "cell-82825af29664114b",
     "locked": false,
     "schema_version": 3,
     "solution": true,
     "task": false
    },
    "slideshow": {
     "slide_type": ""
    },
    "tags": []
   },
   "outputs": [],
   "source": [
    "# YOUR CODE HERE\n",
    "raise NotImplementedError()\n",
    "\n",
    "print(\"Average hourly activity for each user:\")\n",
    "avg_activity_df.head()"
   ]
  },
  {
   "cell_type": "code",
   "execution_count": null,
   "id": "301594d4-3d78-4029-90bb-ab11c9bb4a4e",
   "metadata": {
    "deletable": false,
    "editable": false,
    "slideshow": {
     "slide_type": ""
    },
    "tags": []
   },
   "outputs": [],
   "source": [
    "### Sanity Checks. Do not modify.\n",
    "\n",
    "assert activity_df.isna().sum().sum() == 0, \"There are still some NaN values left!\"\n",
    "assert avg_activity_df.shape == (49, 2), \"Wrong shape (number of rows/columns)\""
   ]
  },
  {
   "cell_type": "code",
   "execution_count": null,
   "id": "72bd69ae",
   "metadata": {
    "deletable": false,
    "editable": false,
    "nbgrader": {
     "cell_type": "code",
     "checksum": "aa4973cb4b7dfe5741d3ab4883b4bc67",
     "grade": true,
     "grade_id": "task2-activity",
     "locked": true,
     "points": 1,
     "schema_version": 3,
     "solution": false,
     "task": false
    },
    "slideshow": {
     "slide_type": ""
    },
    "tags": []
   },
   "outputs": [],
   "source": [
    "### Hidden tests"
   ]
  },
  {
   "cell_type": "markdown",
   "id": "6dd3f3a2",
   "metadata": {
    "deletable": false,
    "editable": false,
    "slideshow": {
     "slide_type": ""
    },
    "tags": []
   },
   "source": [
    "<a class=\"anchor\" id=\"section_2_3\"></a>\n",
    "\n",
    "### Section 2.3: Preprocessing conversation data"
   ]
  },
  {
   "cell_type": "markdown",
   "id": "791bce78",
   "metadata": {
    "deletable": false,
    "editable": false,
    "slideshow": {
     "slide_type": ""
    },
    "tags": []
   },
   "source": [
    "Again, we'll start by inspecting the data and checking missing values:\n"
   ]
  },
  {
   "cell_type": "code",
   "execution_count": null,
   "id": "b45e856f",
   "metadata": {
    "deletable": false,
    "editable": false,
    "slideshow": {
     "slide_type": ""
    },
    "tags": []
   },
   "outputs": [],
   "source": [
    "conversation_df.describe()"
   ]
  },
  {
   "cell_type": "code",
   "execution_count": null,
   "id": "ac1619b2",
   "metadata": {
    "deletable": false,
    "editable": false,
    "slideshow": {
     "slide_type": ""
    },
    "tags": []
   },
   "outputs": [],
   "source": [
    "conversation_df.isna().sum()"
   ]
  },
  {
   "cell_type": "markdown",
   "id": "a0d588bb",
   "metadata": {
    "deletable": false,
    "slideshow": {
     "slide_type": ""
    },
    "tags": []
   },
   "source": [
    "It appears that there are some missing values in the data. This time, those missing values are interpreted so that the subject is not engaged in conversation during the hour indicated by the index time stamp. Therefore, we do not remove these values but replace those with 0 (integer).\n",
    "\n",
    "<div class=\"alert alert-warning\">\n",
    "\n",
    "#### 📝 Task 3\n",
    "\n",
    "Replace all NaN values on the \"duration\" column with 0.\n",
    "\n",
    "</div>\n"
   ]
  },
  {
   "cell_type": "code",
   "execution_count": null,
   "id": "886c491c",
   "metadata": {
    "deletable": false,
    "editable": true,
    "nbgrader": {
     "cell_type": "code",
     "checksum": "5445e6fc1aa95165a60f71458ad3bb56",
     "grade": false,
     "grade_id": "cell-15d9890effa76faa",
     "locked": false,
     "schema_version": 3,
     "solution": true,
     "task": false
    },
    "slideshow": {
     "slide_type": ""
    },
    "tags": []
   },
   "outputs": [],
   "source": [
    "# Fill missing durations with 0\n",
    "\n",
    "# YOUR CODE HERE\n",
    "raise NotImplementedError()"
   ]
  },
  {
   "cell_type": "code",
   "execution_count": null,
   "id": "55a971f6",
   "metadata": {
    "deletable": false,
    "editable": false,
    "nbgrader": {
     "cell_type": "code",
     "checksum": "643c83c7c6a62e6c6d58b59ddea5c03f",
     "grade": true,
     "grade_id": "task3-fillna",
     "locked": true,
     "points": 1,
     "schema_version": 3,
     "solution": false,
     "task": false
    },
    "slideshow": {
     "slide_type": ""
    },
    "tags": []
   },
   "outputs": [],
   "source": [
    "### Hidden tests"
   ]
  },
  {
   "cell_type": "markdown",
   "id": "427686d6",
   "metadata": {
    "deletable": false,
    "editable": false,
    "slideshow": {
     "slide_type": ""
    },
    "tags": []
   },
   "source": [
    "Next, let's set the \"timestamp\" column as a dataframe index and convert it into datetime-format.\n",
    "\n",
    "<div class=\"alert alert-warning\">\n",
    "\n",
    "#### 📝 Task 4\n",
    "\n",
    "- Set column `timestamp` as index.\n",
    "- Convert index into datetime format.\n",
    "\n",
    "</div>\n",
    "\n",
    "<div class=\"alert alert-success\">\n",
    "\n",
    "<details>\n",
    "    <summary style=\"font-size: 18px\">💡 Hint</summary>\n",
    "\n",
    "- Use [`pandas.DataFrame.set_index`](https://pandas.pydata.org/docs/reference/api/pandas.DataFrame.set_index.html)\n",
    "- Use [`pandas.to_datetime`](https://pandas.pydata.org/docs/reference/api/pandas.to_datetime.html)\n",
    "\n",
    "</details>\n",
    "</div>"
   ]
  },
  {
   "cell_type": "code",
   "execution_count": null,
   "id": "559e1c95",
   "metadata": {
    "deletable": false,
    "editable": true,
    "nbgrader": {
     "cell_type": "code",
     "checksum": "edf37bd71083c5dc1ee7188e4052b83c",
     "grade": false,
     "grade_id": "cell-73f3f9b7c2fe4146",
     "locked": false,
     "schema_version": 3,
     "solution": true,
     "task": false
    },
    "slideshow": {
     "slide_type": ""
    },
    "tags": []
   },
   "outputs": [],
   "source": [
    "# YOUR CODE HERE\n",
    "raise NotImplementedError()"
   ]
  },
  {
   "cell_type": "code",
   "execution_count": null,
   "id": "7226b82d-7945-44a7-bf17-0a72ae4b5755",
   "metadata": {
    "editable": false,
    "slideshow": {
     "slide_type": ""
    },
    "tags": []
   },
   "outputs": [],
   "source": [
    "### Sanity Checks. Do not modify.\n",
    "assert 'timestamp' not in conversation_df.columns, \"The 'timestamp' column still exists.\""
   ]
  },
  {
   "cell_type": "code",
   "execution_count": null,
   "id": "3d4de0cf",
   "metadata": {
    "deletable": false,
    "editable": false,
    "nbgrader": {
     "cell_type": "code",
     "checksum": "49985baaa9d3e7096c99bc76da48bee0",
     "grade": true,
     "grade_id": "task4-index",
     "locked": true,
     "points": 1,
     "schema_version": 3,
     "solution": false,
     "task": false
    },
    "slideshow": {
     "slide_type": ""
    },
    "tags": []
   },
   "outputs": [],
   "source": [
    "### Hidden tests"
   ]
  },
  {
   "cell_type": "code",
   "execution_count": null,
   "id": "c4b17c78",
   "metadata": {
    "deletable": false,
    "editable": false,
    "slideshow": {
     "slide_type": ""
    },
    "tags": []
   },
   "outputs": [],
   "source": [
    "conversation_df.head()"
   ]
  },
  {
   "cell_type": "markdown",
   "id": "dcc4c933",
   "metadata": {
    "editable": true,
    "slideshow": {
     "slide_type": ""
    },
    "tags": []
   },
   "source": [
    "Next, we want to focus only on the conversation during morning hours, i.e. 9 AM to 12 PM (four timestamped hours). We do that with the following function that you need to complete.\n",
    "\n",
    "<div class=\"alert alert-warning\">\n",
    "\n",
    "#### 📝 Task 5\n",
    "\n",
    "- Start by examining the docstrings in the function below (and the corresponding sanity check).\n",
    "- From the original `conversation_df` dataframe, select only the rows having timestamped hours `start_hour` and `end_hour`, given as function arguments (integers from 0 to 23).\n",
    "- Group the filtered rows by `id` and calculate the average `duration`. Store the results in a new dataframe called `avg_conversation_df` and return it.\n",
    "\n",
    "</div>\n",
    "\n",
    "<div class=\"alert alert-success\">\n",
    "\n",
    "<details>\n",
    "    <summary style=\"font-size: 18px\">💡 Hint</summary>\n",
    "\n",
    "- While there are multiple ways of filtering the dataframe, you could try, for example [pandas.DataFrame.query](https://pandas.pydata.org/docs/reference/api/pandas.DataFrame.query.html) or [pandas.DataFrame.mask](https://pandas.pydata.org/docs/reference/api/pandas.DataFrame.mask.html).\n",
    "- You can extract hour from [Pandas DatetimeIndex](https://pandas.pydata.org/docs/reference/api/pandas.DatetimeIndex.html) by `.hour` attribute (e.g., df.index.hour)\n",
    "\n",
    "</details>\n",
    "</div>"
   ]
  },
  {
   "cell_type": "code",
   "execution_count": null,
   "id": "ea6e7f76",
   "metadata": {
    "deletable": false,
    "editable": true,
    "nbgrader": {
     "cell_type": "code",
     "checksum": "1956bbc621c203425fa359affa0749fd",
     "grade": false,
     "grade_id": "cell-21812ee4756096bb",
     "locked": false,
     "schema_version": 3,
     "solution": true,
     "task": false
    },
    "slideshow": {
     "slide_type": ""
    },
    "tags": []
   },
   "outputs": [],
   "source": [
    "def filter_average_duration(df, start_hour, end_hour):\n",
    "    \"\"\"\n",
    "    Calculate the average duration of events for each 'id', filtering by a specific time range.\n",
    "    \n",
    "    Parameters:\n",
    "    - df (pandas.DataFrame): The DataFrame containing event data. \n",
    "                             It should have a datetime index and columns 'id' and 'duration'.\n",
    "    - start_hour (int): The starting hour for the time range filter (24-hour format).\n",
    "    - end_hour (int): The ending hour for the time range filter (24-hour format).\n",
    "    \n",
    "    Returns:\n",
    "    pandas.DataFrame: A DataFrame containing each 'id' and its corresponding average 'duration'\n",
    "                      for events that occur between 'start_hour' and 'end_hour'.\n",
    "    \"\"\"\n",
    "\n",
    "    # YOUR CODE HERE\n",
    "    raise NotImplementedError()\n",
    "    \n",
    "    return avg_conversation_df"
   ]
  },
  {
   "cell_type": "code",
   "execution_count": null,
   "id": "4d7c0a14",
   "metadata": {
    "deletable": false,
    "editable": true,
    "slideshow": {
     "slide_type": ""
    },
    "tags": []
   },
   "outputs": [],
   "source": [
    "# Calculate the average conversation duration during daytime for each subject\n",
    "morning_avg_conversation_df = filter_average_duration(conversation_df, 9, 12)\n",
    "\n",
    "print(\"Average conversation duration for each subject:\")\n",
    "morning_avg_conversation_df.head()"
   ]
  },
  {
   "cell_type": "code",
   "execution_count": null,
   "id": "d0987752-cac0-4341-a4eb-a0988c21960d",
   "metadata": {
    "deletable": false,
    "editable": true,
    "slideshow": {
     "slide_type": ""
    },
    "tags": []
   },
   "outputs": [],
   "source": [
    "### Sanity Checks. Do not modify.\n",
    "\n",
    "data = {\n",
    "    'timestamp': ['2023-01-01 09:00:00', '2023-01-01 09:30:00', '2023-01-01 10:00:00', '2023-01-01 11:00:00'],\n",
    "    'id': ['u00', 'u00', 'u01', 'u01'],\n",
    "    'duration': [10, 20, 30, 40]\n",
    "}\n",
    "mock_df = pd.DataFrame(data)\n",
    "mock_df['timestamp'] = pd.to_datetime(mock_df['timestamp'])\n",
    "mock_df.set_index('timestamp', inplace=True)\n",
    "\n",
    "assert filter_average_duration(mock_df, 9, 12).equals(pd.DataFrame({\n",
    "    'id': ['u00', 'u01'],\n",
    "    'duration': [15.0, 35.0]\n",
    "})), \"Wrong answer!\""
   ]
  },
  {
   "cell_type": "markdown",
   "id": "8a3fe266-619e-4db5-a82e-6d3e07fd8344",
   "metadata": {},
   "source": [
    "<div class=\"alert alert-info\">\n",
    "<p style=\"font-size: 20px\"><b>🔍 Note</b></p>\n",
    "    \n",
    "Some functions in pandas provide the optional `inplace` parameter (shown in the cell above). Setting `inplace=True` performs the operation *in place* instead of returning the new value (and returns None). However, it does not offer any performance improvements, and can complicate debugging later on.\n",
    "</div>"
   ]
  },
  {
   "cell_type": "code",
   "execution_count": null,
   "id": "82d3462f",
   "metadata": {
    "deletable": false,
    "editable": false,
    "nbgrader": {
     "cell_type": "code",
     "checksum": "dce17b1aa3580f0db95ab03a13034141",
     "grade": true,
     "grade_id": "task5-filter_avg",
     "locked": true,
     "points": 1,
     "schema_version": 3,
     "solution": false,
     "task": false
    },
    "slideshow": {
     "slide_type": ""
    },
    "tags": []
   },
   "outputs": [],
   "source": [
    "### Hidden tests"
   ]
  },
  {
   "cell_type": "markdown",
   "id": "d5f1cb62",
   "metadata": {},
   "source": [
    "---"
   ]
  },
  {
   "cell_type": "markdown",
   "id": "cd81d519",
   "metadata": {
    "deletable": false,
    "editable": false,
    "slideshow": {
     "slide_type": ""
    },
    "tags": []
   },
   "source": [
    "<a class=\"anchor\" id=\"section_3\"></a>\n",
    "\n",
    "## Section 3: Exploration\n",
    "\n",
    "Data exploration and visualization offer invaluable insights into the dataset's structure, quirks, and patterns. This section, we visualize data and hourly distributions for activity and conversation durations. "
   ]
  },
  {
   "cell_type": "markdown",
   "id": "3d7f9d4e",
   "metadata": {
    "deletable": false,
    "editable": false,
    "slideshow": {
     "slide_type": ""
    },
    "tags": []
   },
   "source": [
    "<a class=\"anchor\" id=\"section_3_1\"></a>\n",
    "### Section 3.1: Grades data exploration\n",
    "\n",
    "Let's start by inspecting the grades."
   ]
  },
  {
   "cell_type": "code",
   "execution_count": null,
   "id": "9c6e0c86",
   "metadata": {
    "deletable": false,
    "editable": false,
    "slideshow": {
     "slide_type": ""
    },
    "tags": []
   },
   "outputs": [],
   "source": [
    "# Define bins for the grades\n",
    "bins = np.linspace(0, 5, 11)  # = [0, 0.5, 1, 1.5, 2, 2.5, 3, 3.5, 4, 4.5, 5]\n",
    "\n",
    "# Plot\n",
    "plt.figure(figsize=(12, 6))\n",
    "grades_df.plot(kind='hist', bins=bins, edgecolor=\"k\", color='skyblue')\n",
    "plt.title('Grade distribution', fontsize=18)\n",
    "plt.xlabel('GPA', fontsize=16)\n",
    "plt.ylabel('Frequency', fontsize=16)\n",
    "plt.xticks(bins, fontsize=14)\n",
    "plt.yticks(fontsize=14)\n",
    "plt.grid(axis='y')\n",
    "plt.tight_layout()\n",
    "plt.show()"
   ]
  },
  {
   "cell_type": "markdown",
   "id": "d244d6d2",
   "metadata": {
    "deletable": false,
    "editable": false,
    "slideshow": {
     "slide_type": ""
    },
    "tags": []
   },
   "source": [
    "We notice that while the GPA is generally quite good, there are few students with low scores."
   ]
  },
  {
   "cell_type": "markdown",
   "id": "b6c8fd0c",
   "metadata": {
    "deletable": false,
    "editable": false,
    "slideshow": {
     "slide_type": ""
    },
    "tags": []
   },
   "source": [
    "<a class=\"anchor\" id=\"section_3_2\"></a>\n",
    "\n",
    "### Section 3.2: Activity data exploration\n",
    "\n",
    "Next, we'll visualize students' average activity distribution."
   ]
  },
  {
   "cell_type": "code",
   "execution_count": null,
   "id": "84b1fdc4",
   "metadata": {
    "deletable": false,
    "editable": true,
    "slideshow": {
     "slide_type": ""
    },
    "tags": []
   },
   "outputs": [],
   "source": [
    "# Plot\n",
    "plt.figure(figsize=(12, 6))\n",
    "avg_activity_df['duration'].plot(kind=\"hist\", edgecolor=\"k\", color=\"skyblue\")\n",
    "plt.title(\"Average activity distribution\", fontsize=18)\n",
    "plt.xlabel(\"Activity Proportion\", fontsize=16)\n",
    "plt.ylabel(\"Frequency\", fontsize=16)\n",
    "plt.xticks(rotation=0, fontsize=14)\n",
    "plt.yticks(fontsize=14)\n",
    "plt.grid(axis=\"y\")\n",
    "plt.tight_layout()\n",
    "plt.show()"
   ]
  },
  {
   "cell_type": "markdown",
   "id": "fa01d864",
   "metadata": {
    "deletable": false,
    "editable": false,
    "slideshow": {
     "slide_type": ""
    },
    "tags": []
   },
   "source": [
    "We observe that the activity distribution is slightly right-skewed.\n",
    "Next, we'll transform activity data, calculate hourly sums, and visualize the hourly activity."
   ]
  },
  {
   "cell_type": "code",
   "execution_count": null,
   "id": "71a87f3e",
   "metadata": {
    "deletable": false,
    "editable": true,
    "slideshow": {
     "slide_type": ""
    },
    "tags": []
   },
   "outputs": [],
   "source": [
    "# Start by transposing the dataframe\n",
    "activity_df = activity_df.T\n",
    "\n",
    "# Convert the index to DateTime object\n",
    "activity_df.index = pd.to_datetime(activity_df.index)\n",
    "\n",
    "# Extract the hour and create a new column\n",
    "activity_df['hour'] = activity_df.index.hour\n",
    "\n",
    "# Group by the 'hour' column and calculate the average minutes per group\n",
    "activity_hourly_distribution = activity_df.groupby('hour').mean().mean(axis=1) * 60\n",
    "\n",
    "# Plot\n",
    "plt.figure(figsize=(12, 6))\n",
    "activity_hourly_distribution.plot(kind='bar', color='skyblue')\n",
    "plt.title('Hourly Distribution of Activity Duration', fontsize=18)\n",
    "plt.xlabel('Hour of the Day', fontsize=16)\n",
    "plt.ylabel('Total Duration (minutes)', fontsize=16)\n",
    "plt.xticks(rotation=0,fontsize=14)\n",
    "plt.yticks(fontsize=14)\n",
    "plt.grid(axis='y')\n",
    "\n",
    "plt.tight_layout()\n",
    "plt.show()"
   ]
  },
  {
   "cell_type": "markdown",
   "id": "dbfc8515",
   "metadata": {
    "deletable": false,
    "editable": false,
    "slideshow": {
     "slide_type": ""
    },
    "tags": []
   },
   "source": [
    "Activity distribution looks reasonable, having two activity peaks during the day (around noon and 6 PM), and during the night, activity is at the lowest."
   ]
  },
  {
   "cell_type": "markdown",
   "id": "d56575d3",
   "metadata": {
    "deletable": false,
    "editable": false,
    "slideshow": {
     "slide_type": ""
    },
    "tags": []
   },
   "source": [
    "<a class=\"anchor\" id=\"section_3_3\"></a>\n",
    "\n",
    "### Section 3.3: Conversation data exploration"
   ]
  },
  {
   "cell_type": "markdown",
   "id": "a144f9bb",
   "metadata": {
    "deletable": false,
    "editable": false,
    "slideshow": {
     "slide_type": ""
    },
    "tags": []
   },
   "source": [
    "Next, we'll visualize the conversation data."
   ]
  },
  {
   "cell_type": "code",
   "execution_count": null,
   "id": "17a1a2a5",
   "metadata": {
    "deletable": false,
    "editable": false,
    "slideshow": {
     "slide_type": ""
    },
    "tags": []
   },
   "outputs": [],
   "source": [
    "# Plot\n",
    "plt.figure(figsize=(12, 6))\n",
    "conversation_df[\"duration\"].plot(kind=\"hist\", bins=10, edgecolor=\"k\", color=\"skyblue\")\n",
    "plt.title(\"Conversation duration distribution\", fontsize=18)\n",
    "plt.xlabel(\"Conversation (min)\", fontsize=16)\n",
    "plt.ylabel(\"Frequency\", fontsize=16)\n",
    "plt.xticks(rotation=0, fontsize=14)\n",
    "plt.yticks(fontsize=14)\n",
    "plt.grid(axis=\"y\")\n",
    "plt.tight_layout()\n",
    "plt.show()"
   ]
  },
  {
   "cell_type": "markdown",
   "id": "2b1bfcc6",
   "metadata": {
    "deletable": false,
    "editable": false,
    "slideshow": {
     "slide_type": ""
    },
    "tags": []
   },
   "source": [
    "The conversation duration distribution is highly skewed, and most values are low.\n",
    "\n",
    "Additionally, we visualize the filtered conversation durations (during the morning hours)."
   ]
  },
  {
   "cell_type": "code",
   "execution_count": null,
   "id": "0f1c0ea9",
   "metadata": {
    "deletable": false,
    "editable": false,
    "slideshow": {
     "slide_type": ""
    },
    "tags": []
   },
   "outputs": [],
   "source": [
    "# Plot\n",
    "plt.figure(figsize=(12, 6))\n",
    "morning_avg_conversation_df['duration'].plot(kind='hist', bins=10, edgecolor=\"k\", color='skyblue')\n",
    "plt.title('Conversation duration (morning) distribution', fontsize=18)\n",
    "plt.xlabel('Conversation (min)', fontsize=16)\n",
    "plt.ylabel('Frequency', fontsize=16)\n",
    "plt.xticks(rotation=0, fontsize=14)\n",
    "plt.yticks(fontsize=14)\n",
    "plt.grid(axis='y')\n",
    "plt.tight_layout()\n",
    "plt.show()"
   ]
  },
  {
   "cell_type": "markdown",
   "id": "d1bf33fa",
   "metadata": {
    "deletable": false,
    "editable": false,
    "slideshow": {
     "slide_type": ""
    },
    "tags": []
   },
   "source": [
    "In comparison with complete conversation data, the distribution here is not as skewed. \n",
    "\n",
    "Finally, we'll visualize conversation hourly distribution:"
   ]
  },
  {
   "cell_type": "code",
   "execution_count": null,
   "id": "5b34baa0",
   "metadata": {
    "deletable": false,
    "editable": true,
    "slideshow": {
     "slide_type": ""
    },
    "tags": []
   },
   "outputs": [],
   "source": [
    "# Extract the hour from the timestamp\n",
    "conversation_df['hour'] = conversation_df.index.hour\n",
    "\n",
    "# Group by hour and average the durations\n",
    "hourly_distribution = conversation_df.groupby('hour')['duration'].mean()"
   ]
  },
  {
   "cell_type": "code",
   "execution_count": null,
   "id": "5ce48288",
   "metadata": {
    "deletable": false,
    "editable": false,
    "slideshow": {
     "slide_type": ""
    },
    "tags": []
   },
   "outputs": [],
   "source": [
    "# Plot\n",
    "plt.figure(figsize=(12, 6))\n",
    "hourly_distribution.plot(kind='bar', color='skyblue')\n",
    "plt.title('Hourly Distribution of Conversation Duration', fontsize=18)\n",
    "plt.xlabel('Hour of the Day', fontsize=16)\n",
    "plt.ylabel('Total Duration (minutes)', fontsize=16)\n",
    "plt.xticks(rotation=0, fontsize=14)\n",
    "plt.yticks(fontsize=14)\n",
    "plt.grid(axis='y')\n",
    "\n",
    "plt.tight_layout()\n",
    "plt.show()"
   ]
  },
  {
   "cell_type": "markdown",
   "id": "eabff06f",
   "metadata": {
    "deletable": false,
    "editable": false,
    "slideshow": {
     "slide_type": ""
    },
    "tags": []
   },
   "source": [
    "Conversation duration distribution looks similar to activity distribution."
   ]
  },
  {
   "cell_type": "markdown",
   "id": "8e4f27d8",
   "metadata": {},
   "source": [
    "---"
   ]
  },
  {
   "cell_type": "markdown",
   "id": "7b4c81aa",
   "metadata": {
    "deletable": false,
    "editable": false,
    "slideshow": {
     "slide_type": ""
    },
    "tags": []
   },
   "source": [
    "<a class=\"anchor\" id=\"section_4\"></a>\n",
    "\n",
    "## Section 4: Analysis\n",
    "\n",
    "This section aims to analyze the relationships between different data sets to draw meaningful conclusions. Specifically, we will:\n",
    "\n",
    "1. **Merge Dataframes:** Combine different data sources for a unified view.\n",
    "2. **Visualize Data:** Use graphs to understand trends and distributions.\n",
    "3. **Regression Analysis:** Calculate correlations to interpret the relationships between variables."
   ]
  },
  {
   "cell_type": "markdown",
   "id": "4c88b873",
   "metadata": {
    "deletable": false,
    "slideshow": {
     "slide_type": ""
    },
    "tags": []
   },
   "source": [
    "<a class=\"anchor\" id=\"section_4_1\"></a>\n",
    "\n",
    "### Section 4.1: Merge dataframes\n",
    "\n",
    "First, we must merge the relevant dataframes to perform a comprehensive analysis by aligning them with their common 'id' fields.\n",
    "\n",
    "First, join **the conversion duration dataframe** with **the grades dataframe.**\n",
    "\n",
    "<div class=\"alert alert-warning\">\n",
    "\n",
    "#### 📝 Task 6\n",
    "\n",
    "- merge dataframes \"morning_avg_conversation_df\" and \"grades_df\" using pandas [`pandas.DataFrame.merge()`](https://pandas.pydata.org/docs/reference/api/pandas.DataFrame.merge.html)\n",
    "- merge on columns named \"id\" and use \"inner\" join\n",
    "\n",
    "</div>\n",
    "\n",
    "<div class=\"alert alert-success\">\n",
    "\n",
    "<details>\n",
    "    <summary style=\"font-size: 18px\">💡 Hint</summary>\n",
    "\n",
    "Use parameters:\n",
    "   - on = ... (or left_on = ..., and right_on = ... if the column names differ in the dataframes)\n",
    "   - how = ...\n",
    "\n",
    "</details>\n",
    "</div>"
   ]
  },
  {
   "cell_type": "code",
   "execution_count": null,
   "id": "77b392ac",
   "metadata": {
    "deletable": false,
    "editable": true,
    "nbgrader": {
     "cell_type": "code",
     "checksum": "084c7d8e6f4cdacd694c1d4cfc3400fb",
     "grade": false,
     "grade_id": "cell-a287cc690dbba8a9",
     "locked": false,
     "schema_version": 3,
     "solution": true,
     "task": false
    },
    "slideshow": {
     "slide_type": ""
    },
    "tags": []
   },
   "outputs": [],
   "source": [
    "# merged_conversation = ...\n",
    "\n",
    "# YOUR CODE HERE\n",
    "raise NotImplementedError()\n",
    "\n",
    "merged_conversation.head()"
   ]
  },
  {
   "cell_type": "markdown",
   "id": "724732da",
   "metadata": {
    "deletable": false,
    "editable": false,
    "slideshow": {
     "slide_type": ""
    },
    "tags": []
   },
   "source": [
    "Next, merge **the activity duration dataframe** with **the grades dataframe.**\n",
    "\n",
    "<div class=\"alert alert-warning\">\n",
    "\n",
    "#### 📝 Task 7\n",
    "\n",
    "- Merge dataframes \"avg_activity_df\" and \"grades_df\" using pandas [`pandas.DataFrame.merge()`].\n",
    "- Use the same parameters as in the previous step.\n",
    "\n",
    "</div>"
   ]
  },
  {
   "cell_type": "code",
   "execution_count": null,
   "id": "70c18363",
   "metadata": {
    "deletable": false,
    "editable": true,
    "nbgrader": {
     "cell_type": "code",
     "checksum": "d32386649dcea9a6af3c0d50645ab4ec",
     "grade": false,
     "grade_id": "cell-c39bedf7f91ab030",
     "locked": false,
     "schema_version": 3,
     "solution": true,
     "task": false
    },
    "slideshow": {
     "slide_type": ""
    },
    "tags": []
   },
   "outputs": [],
   "source": [
    "# Assuming you have a dataframe 'grades_df' with 'id' and 'gpa all' columns\n",
    "# merged_activity = ...\n",
    "\n",
    "# YOUR CODE HERE\n",
    "raise NotImplementedError()\n",
    "\n",
    "merged_activity.head()"
   ]
  },
  {
   "cell_type": "markdown",
   "id": "a6f67583",
   "metadata": {
    "deletable": false,
    "editable": false,
    "slideshow": {
     "slide_type": ""
    },
    "tags": []
   },
   "source": [
    "Merging has given us two new dataframes, `merged_conversation`, and `merged_activity`, which we will use for further analysis."
   ]
  },
  {
   "cell_type": "markdown",
   "id": "4ad8630f",
   "metadata": {
    "deletable": false,
    "editable": false,
    "slideshow": {
     "slide_type": ""
    },
    "tags": []
   },
   "source": [
    "<a class=\"anchor\" id=\"section_4_2\"></a>\n",
    "\n",
    "### Section 4.2: Visualize data"
   ]
  },
  {
   "cell_type": "markdown",
   "id": "90b29f94",
   "metadata": {
    "deletable": false,
    "editable": false,
    "slideshow": {
     "slide_type": ""
    },
    "tags": []
   },
   "source": [
    "<a class=\"anchor\" id=\"section_4_2_1\"></a>\n",
    "\n",
    "#### 4.2.1. GPA and activity duration\n",
    "\n",
    "Using a scatter plot, we can visualize the linear relationship between GPA and average activity duration."
   ]
  },
  {
   "cell_type": "code",
   "execution_count": null,
   "id": "8f08273d",
   "metadata": {
    "deletable": false,
    "editable": false,
    "slideshow": {
     "slide_type": ""
    },
    "tags": []
   },
   "outputs": [],
   "source": [
    "# Plot\n",
    "plt.figure(figsize=(12, 6))\n",
    "sns.regplot(data=merged_activity, x=\"gpa\", y=\"duration\")\n",
    "plt.title(\"GPA vs. Average Activity Duration Scatterplot\")\n",
    "plt.xlabel(\"GPA\")\n",
    "plt.ylabel(\"Average Activity Duration (hours)\")\n",
    "plt.xticks(rotation=0)\n",
    "plt.tight_layout()\n",
    "plt.show()"
   ]
  },
  {
   "cell_type": "markdown",
   "id": "114c862a",
   "metadata": {
    "deletable": false,
    "editable": false,
    "slideshow": {
     "slide_type": ""
    },
    "tags": []
   },
   "source": [
    "<a class=\"anchor\" id=\"section_4_2_2\"></a>\n",
    "\n",
    "#### 4.2.2. GPA and conversation duration\n",
    "\n",
    "Similarly, we can visualize the linear relationship between GPA and average conversation duration."
   ]
  },
  {
   "cell_type": "code",
   "execution_count": null,
   "id": "ca13ba74",
   "metadata": {
    "deletable": false,
    "editable": false,
    "slideshow": {
     "slide_type": ""
    },
    "tags": []
   },
   "outputs": [],
   "source": [
    "# Plot\n",
    "plt.figure(figsize=(12, 6))\n",
    "sns.regplot(data=merged_conversation, x=\"gpa\", y=\"duration\")\n",
    "plt.title(\"GPA vs. Average Conversation Duration Scatterplot\")\n",
    "plt.xlabel(\"GPA\")\n",
    "plt.ylabel(\"Average Conversation Duration (minutes)\")\n",
    "plt.xticks(rotation=0)\n",
    "plt.tight_layout()\n",
    "plt.show()"
   ]
  },
  {
   "cell_type": "markdown",
   "id": "ec455455",
   "metadata": {
    "deletable": false,
    "editable": false,
    "slideshow": {
     "slide_type": ""
    },
    "tags": []
   },
   "source": [
    "<a class=\"anchor\" id=\"section_4_3\"></a>\n",
    "\n",
    "### Section 4.3: Regression Analysis\n",
    "\n",
    "Regression analysis is a set of statistical processes used for modeling and analyzing the relationships between a dependent variable and one or more independent variables. By adjusting one independent variable, we can observe and analyze the corresponding changes in the dependent variable. In this exercise, we use `scipy.stats` library already imported as \"stats\". "
   ]
  },
  {
   "cell_type": "markdown",
   "id": "81b12371",
   "metadata": {
    "deletable": false,
    "editable": true,
    "slideshow": {
     "slide_type": ""
    },
    "tags": []
   },
   "source": [
    "<a class=\"anchor\" id=\"section_4_3_1\"></a>\n",
    "\n",
    "#### 4.3.1. GPA vs Activity Duration\n",
    "\n",
    "To examine the correlation between GPA and average activity duration, we will use Pearson's correlation coefficient (for more information, take a look at the [last section](#extra)).\n",
    "\n",
    "<div class=\"alert alert-warning\">\n",
    "\n",
    "#### 📝 Task 8\n",
    "\n",
    "- Calculate Pearson's correlation coefficient and corresponding p-value between \"duration\" and \"gpa\" from `merged_activity` dataframe.\n",
    "- Assign correlation coefficient to \"correlation\" and p-value to \"p_value\".\n",
    "\n",
    "</div>\n",
    "\n",
    "<div class=\"alert alert-success\">\n",
    "\n",
    "<details>\n",
    "    <summary style=\"font-size: 18px\">💡 Hint</summary>\n",
    "\n",
    "Use [`scipy.stats.pearsonr`](https://docs.scipy.org/doc/scipy/reference/generated/scipy.stats.pearsonr.html).\n",
    "\n",
    "</details>\n",
    "</div>"
   ]
  },
  {
   "cell_type": "code",
   "execution_count": null,
   "id": "3e90dc91",
   "metadata": {
    "deletable": false,
    "editable": true,
    "nbgrader": {
     "cell_type": "code",
     "checksum": "4d6fa6d5e9a15b4f867599de6967561e",
     "grade": false,
     "grade_id": "cell-a13a41e9c9d950b4",
     "locked": false,
     "schema_version": 3,
     "solution": true,
     "task": false
    },
    "slideshow": {
     "slide_type": ""
    },
    "tags": []
   },
   "outputs": [],
   "source": [
    "# YOUR CODE HERE\n",
    "raise NotImplementedError()\n",
    "\n",
    "print(f\"Correlation: {correlation}, P-value: {p_value}\")"
   ]
  },
  {
   "cell_type": "markdown",
   "id": "a1ce6c07",
   "metadata": {
    "editable": true,
    "slideshow": {
     "slide_type": ""
    },
    "tags": []
   },
   "source": [
    "<a class=\"anchor\" id=\"section_4_3_2\"></a>\n",
    "\n",
    "#### 4.3.2. GPA vs Conversation Duration\n",
    "\n",
    "Similarly, we'll look at the correlation between GPA and conversation duration.\n",
    "\n",
    "<div class=\"alert alert-warning\">\n",
    "\n",
    "#### 📝 Task 9\n",
    "\n",
    "- Same as the previous task, calculate Pearson's correlation coefficient (and corresponding p-value) between \"duration\" and \"gpa\" from `merged_conversation` dataframe.\n",
    "- Assign correlation coefficient to \"correlation\" and p-value to \"p_value\".\n",
    "\n",
    "</div>"
   ]
  },
  {
   "cell_type": "code",
   "execution_count": null,
   "id": "fdd05eea",
   "metadata": {
    "deletable": false,
    "editable": true,
    "nbgrader": {
     "cell_type": "code",
     "checksum": "f3de217b9fa1323282c0ca8e6651f62f",
     "grade": false,
     "grade_id": "cell-a90e26241daacca9",
     "locked": false,
     "schema_version": 3,
     "solution": true,
     "task": false
    },
    "slideshow": {
     "slide_type": ""
    },
    "tags": []
   },
   "outputs": [],
   "source": [
    "# YOUR CODE HERE\n",
    "raise NotImplementedError()\n",
    "\n",
    "print(f\"Correlation: {correlation}, P-value: {p_value}\")"
   ]
  },
  {
   "cell_type": "markdown",
   "id": "99b48fc4",
   "metadata": {},
   "source": [
    "---"
   ]
  },
  {
   "cell_type": "markdown",
   "id": "610c84b6",
   "metadata": {
    "deletable": false,
    "editable": false,
    "slideshow": {
     "slide_type": ""
    },
    "tags": []
   },
   "source": [
    "<a class=\"anchor\" id=\"section_5\"></a>\n",
    "\n",
    "## Section 5: Interpretation"
   ]
  },
  {
   "cell_type": "markdown",
   "id": "34274de9",
   "metadata": {},
   "source": [
    "Now, let's have a closer look at the results in the previous section and answer the following multiple-choice questions (the significance level for the p-value is set at $0.05$):"
   ]
  },
  {
   "cell_type": "markdown",
   "id": "3b8e5327-721a-4b5c-8ce4-715686ac5bd0",
   "metadata": {
    "tags": []
   },
   "source": [
    "<div class=\"alert alert-info\">\n",
    "<p style=\"font-size: 20px\"><b>🔍 Note</b></p>\n",
    "    \n",
    "When reporting correlation results, it is useful to provide ranges for weak, moderate, and strong correlations to aid interpretation. \n",
    "As a general guideline, correlations below 0.3 are considered weak, those between 0.3 and 0.5 moderate, and those above 0.5 strong, though these thresholds can vary depending on the field and research context (Akoglu, 2018).\n",
    "</div>"
   ]
  },
  {
   "cell_type": "markdown",
   "id": "ca2eb6de",
   "metadata": {
    "deletable": false,
    "editable": false,
    "slideshow": {
     "slide_type": ""
    },
    "tags": []
   },
   "source": [
    "## Multiple Choice Questions\n",
    "\n",
    "#### Question 1\n",
    "**What does a negative correlation coefficient indicate about the relationship between two variables?**\n",
    "- A: The variables are unrelated.\n",
    "- B: The variables are negatively correlated.\n",
    "- C: The correlation coefficient alone does not indicate the direction of the relationship.\n",
    "- D: The variables are positively correlated.\n",
    "\n",
    "---\n",
    "\n",
    "#### Question 2\n",
    "**What can be inferred from a p-value for the correlation between students' average activity and academic performance?**\n",
    "- A: The p-value alone cannot determine the significance of the correlation.\n",
    "- B: The correlation is weak.\n",
    "- C: The correlation is not statistically significant.\n",
    "- D: The correlation is statistically significant.\n",
    "\n",
    "---\n",
    "\n",
    "#### Question 3\n",
    "**What does a correlation coefficient between students' average activity and academic performance suggest?**\n",
    "- A: No correlation.\n",
    "- B: A moderate negative correlation.\n",
    "- C: A very strong negative correlation.\n",
    "- D: A weak negative correlation.\n",
    "\n",
    "---\n",
    "\n",
    "#### Question 4\n",
    "**What can be inferred about students' engagement in discussions during morning hours (9 a.m. to noon) and their academic performance?**\n",
    "- A: They are positively correlated.\n",
    "- B: They are unrelated.\n",
    "- C: Cannot be determined.\n",
    "- D: They are negatively correlated.\n",
    "\n",
    "---\n",
    "\n",
    "#### Question 5\n",
    "**What does a p-value of for the correlation between students' morning discussions and academic performance indicate?**\n",
    "- A: The correlation is very strong.\n",
    "- B: The p-value alone cannot determine the significance of the correlation.\n",
    "- C: The correlation is statistically significant.\n",
    "- D: The correlation is not statistically significant.\n",
    "\n",
    "---"
   ]
  },
  {
   "cell_type": "markdown",
   "id": "d785664f",
   "metadata": {
    "deletable": false,
    "editable": false,
    "slideshow": {
     "slide_type": ""
    },
    "tags": []
   },
   "source": [
    "<div class=\"alert alert-warning\">\n",
    "\n",
    "#### 📝 Task 10\n",
    "\n",
    "- Answer the question by adding the right choices (\"A\", \"B\", ''C\", or \"D\") in the following code cell after question names.\n",
    "- Please do not change the question names!\n",
    "\n",
    "\n",
    "</div>"
   ]
  },
  {
   "cell_type": "code",
   "execution_count": null,
   "id": "feec532c",
   "metadata": {
    "editable": true,
    "slideshow": {
     "slide_type": ""
    },
    "tags": []
   },
   "outputs": [],
   "source": [
    "# Your answer here. For example, if you choose option A for question 1, write: answer_1 = 'A'\n",
    "answer_1 = None\n",
    "answer_2 = None\n",
    "answer_3 = None\n",
    "answer_4 = None\n",
    "answer_5 = None"
   ]
  },
  {
   "cell_type": "code",
   "execution_count": null,
   "id": "965d3cd4",
   "metadata": {
    "deletable": false,
    "editable": false,
    "nbgrader": {
     "cell_type": "code",
     "checksum": "829ae77d0e6a5c9b85758ac311afe109",
     "grade": true,
     "grade_id": "task10-q1",
     "locked": true,
     "points": 1,
     "schema_version": 3,
     "solution": false,
     "task": false
    },
    "slideshow": {
     "slide_type": ""
    },
    "tags": []
   },
   "outputs": [],
   "source": [
    "### Hidden tests\n"
   ]
  },
  {
   "cell_type": "code",
   "execution_count": null,
   "id": "c3724f31",
   "metadata": {
    "deletable": false,
    "editable": false,
    "nbgrader": {
     "cell_type": "code",
     "checksum": "c546c36586ced7891b96b21a6f95be81",
     "grade": true,
     "grade_id": "task10-q2",
     "locked": true,
     "points": 1,
     "schema_version": 3,
     "solution": false,
     "task": false
    },
    "slideshow": {
     "slide_type": ""
    },
    "tags": []
   },
   "outputs": [],
   "source": [
    "### Hidden tests\n"
   ]
  },
  {
   "cell_type": "code",
   "execution_count": null,
   "id": "7ef9f779",
   "metadata": {
    "deletable": false,
    "editable": false,
    "nbgrader": {
     "cell_type": "code",
     "checksum": "2a662eeb7b910c2399d6b35948b0312b",
     "grade": true,
     "grade_id": "task10-q3",
     "locked": true,
     "points": 1,
     "schema_version": 3,
     "solution": false,
     "task": false
    },
    "slideshow": {
     "slide_type": ""
    },
    "tags": []
   },
   "outputs": [],
   "source": [
    "### Hidden tests\n"
   ]
  },
  {
   "cell_type": "code",
   "execution_count": null,
   "id": "72b9592c",
   "metadata": {
    "deletable": false,
    "editable": false,
    "nbgrader": {
     "cell_type": "code",
     "checksum": "b5d9adb857156897d61ec081119fefc9",
     "grade": true,
     "grade_id": "task10-q4",
     "locked": true,
     "points": 1,
     "schema_version": 3,
     "solution": false,
     "task": false
    },
    "slideshow": {
     "slide_type": ""
    },
    "tags": []
   },
   "outputs": [],
   "source": [
    "### Hidden tests\n"
   ]
  },
  {
   "cell_type": "code",
   "execution_count": null,
   "id": "e77c0ee4",
   "metadata": {
    "deletable": false,
    "editable": false,
    "nbgrader": {
     "cell_type": "code",
     "checksum": "573af4616877765782d229b5b3cdb271",
     "grade": true,
     "grade_id": "task10-q5",
     "locked": true,
     "points": 1,
     "schema_version": 3,
     "solution": false,
     "task": false
    },
    "slideshow": {
     "slide_type": ""
    },
    "tags": []
   },
   "outputs": [],
   "source": [
    "### Hidden tests\n"
   ]
  },
  {
   "cell_type": "markdown",
   "id": "51257d5f",
   "metadata": {
    "editable": true,
    "slideshow": {
     "slide_type": ""
    },
    "tags": []
   },
   "source": [
    "---"
   ]
  },
  {
   "cell_type": "markdown",
   "id": "a55c3e86",
   "metadata": {
    "deletable": false,
    "slideshow": {
     "slide_type": ""
    },
    "tags": []
   },
   "source": [
    "---\n",
    "\n",
    "## References\n",
    "\n",
    "[[1]](https://dl.acm.org/doi/abs/10.1145/2632048.2632054) Wang, R., Chen, F., Chen, Z., Li, T., Harari, G., Tignor, S., ... & Campbell, A. T. (2014, September). StudentLife: assessing mental health, academic performance and behavioral trends of college students using smartphones. In Proceedings of the 2014 ACM international joint conference on pervasive and ubiquitous computing (pp. 3-14). https://doi.org/10.1145/2632048.2632054\n",
    "\n",
    "[[2]](https://www.sciencedirect.com/science/article/pii/S2452247318302164?via%3Dihub) Akoglu, H. (2018). User’s guide to correlation coefficients. Turkish Journal of Emergency Medicine, 18(3), 91–93. https://doi.org/10.1016/j.tjem.2018.08.001\n"
   ]
  },
  {
   "cell_type": "markdown",
   "id": "2afce7eb",
   "metadata": {
    "deletable": false,
    "slideshow": {
     "slide_type": ""
    },
    "tags": []
   },
   "source": [
    "---\n",
    "\n",
    "\n",
    "<a class=\"anchor\" id=\"extra\"></a>\n",
    "\n",
    "\n",
    "## Extra Reading: Notes on Pearson Correlation Assumptions and Assessment\n",
    "\n",
    "\n",
    "### What is Pearson Correlation?\n",
    "\n",
    "\n",
    "Pearson correlation is a statistical measure for assessing the strength and direction of a linear relationship between two numerical variables. However, certain assumptions must be met to ensure the results are reliable.\n",
    "\n",
    "\n",
    "### Assumptions for Pearson Correlation:\n",
    "\n",
    "\n",
    "1. **Linearity**: The relationship between the two variables should be linear.\n",
    "2. **Normality**: Both variables should be normally distributed, especially for small sample sizes.\n",
    "3. **Homoscedasticity**: The variability of one variable should be consistent across the range of the second variable.\n",
    "4. **No Outliers**: Outliers can skew the results and should be avoided.\n",
    "5. **Independence**: Each pair of observations should be independent.\n",
    "6. **Scale of Measurement**: Variables should be measured on an interval or ratio scale.\n",
    "\n",
    "\n",
    "## How to Assess These Assumptions:\n",
    "\n",
    "\n",
    "### 1. Linearity\n",
    "- **How to Check**: Use scatter plots to visually assess the two variables' linearity.\n",
    "- **What to Look For**: A roughly straight-line pattern in the scatterplot.\n",
    "\n",
    "\n",
    "### 2. Normality\n",
    "- **How to Check**: Use histograms, Q-Q (Quantile-Quantile) plots, or statistical tests like the Shapiro-Wilk test.\n",
    "- **What to Look For**: In histograms, a bell-shaped curve. In Q-Q plots, the points should lie along the diagonal line.\n",
    "\n",
    "\n",
    "### 3. Homoscedasticity\n",
    "- **How to Check**: Examine scatterplots.\n",
    "- **What to Look For**: A consistent spread of residuals (difference between observed and predicted values) across all independent variable levels.\n",
    "\n",
    "\n",
    "### 4. No Outliers\n",
    "- **How to Check**: Scatterplots, Z-scores, or specialized tests for outliers.\n",
    "- **What to Look For**: Points that deviate significantly from the scatterplot general pattern. Z-scores greater than 3 or less than -3 are often considered outliers.\n",
    "\n",
    "\n",
    "### 5. Independence\n",
    "- **How to Check**: This is usually more related to study design than something that can be checked after data collection.\n",
    "- **What to Look For**: Ensure that the data collection process guarantees that each data point is independent.\n",
    "\n",
    "\n",
    "### 6. Scale of Measurement\n",
    "- **How to Check**: Examine the variables and the context in which they are measured.\n",
    "\n",
    "\n",
    "\n",
    "## Interpreting Pearson Correlation Coefficient and p-value\n",
    "\n",
    "### Pearson Correlation Coefficient (r)\n",
    "- **What it is**: Measures the strength and direction of a linear relationship between two variables.  \n",
    "- **Range**: -1 to 1  \n",
    "  - `1` → perfect positive correlation (both variables increase together)  \n",
    "  - `-1` → perfect negative correlation (one increases while the other decreases)  \n",
    "  - `0` → no linear correlation  \n",
    "- **What to look for**: The closer r is to 1 or -1, the stronger the linear relationship.\n",
    "\n",
    "### p-value\n",
    "- **What it is**: Indicates whether the observed correlation is statistically significant.  \n",
    "- **Interpretation**:  \n",
    "  - **Small p-value** (commonly < 0.05) → correlation is unlikely to be due to chance.  \n",
    "  - **Large p-value** → correlation may be random; not statistically significant.\n",
    "\n",
    "#### Important Note\n",
    "- Correlation does **not imply causation**. A high correlation does not mean one variable causes the other to change.\n",
    "\n",
    "By understanding and checking these assumptions, you can interpret Pearson correlation results more accurately and meaningfully.\n"
   ]
  },
  {
   "cell_type": "code",
   "execution_count": null,
   "id": "4663d9f3-5dc6-48e4-b42e-07aa8a6e085b",
   "metadata": {},
   "outputs": [],
   "source": []
  }
 ],
 "metadata": {
  "kernelspec": {
   "display_name": "Python 3",
   "language": "python",
   "name": "python3"
  },
  "language_info": {
   "codemirror_mode": {
    "name": "ipython",
    "version": 3
   },
   "file_extension": ".py",
   "mimetype": "text/x-python",
   "name": "python",
   "nbconvert_exporter": "python",
   "pygments_lexer": "ipython3",
   "version": "3.10.12"
  },
  "nbdime-conflicts": {
   "local_diff": [
    {
     "diff": [
      {
       "diff": [
        {
         "key": 0,
         "op": "addrange",
         "valuelist": [
          "Python 3 (ipykernel)"
         ]
        },
        {
         "key": 0,
         "length": 1,
         "op": "removerange"
        }
       ],
       "key": "display_name",
       "op": "patch"
      }
     ],
     "key": "kernelspec",
     "op": "patch"
    }
   ],
   "remote_diff": [
    {
     "diff": [
      {
       "diff": [
        {
         "key": 0,
         "op": "addrange",
         "valuelist": [
          "Python 3"
         ]
        },
        {
         "key": 0,
         "length": 1,
         "op": "removerange"
        }
       ],
       "key": "display_name",
       "op": "patch"
      }
     ],
     "key": "kernelspec",
     "op": "patch"
    }
   ]
  }
 },
 "nbformat": 4,
 "nbformat_minor": 5
}
