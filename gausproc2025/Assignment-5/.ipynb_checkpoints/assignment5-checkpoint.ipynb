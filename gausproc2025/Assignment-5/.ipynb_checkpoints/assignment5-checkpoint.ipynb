{
 "cells": [
  {
   "cell_type": "markdown",
   "id": "c095dc7f-c071-4e0a-8d62-56f20720ff29",
   "metadata": {
    "deletable": false,
    "editable": false,
    "nbgrader": {
     "cell_type": "markdown",
     "checksum": "6aa931255115a13ef1d05cfa3bd88bd8",
     "grade": false,
     "grade_id": "cell-0ca81de7629d3e76",
     "locked": true,
     "schema_version": 3,
     "solution": false,
     "task": false
    }
   },
   "source": [
    "# CS-E4895: Gaussian Processes\n",
    "\n",
    "## Assignment #5: Sparse Variational GPs and State Space GP Regression\n",
    "\n",
    "### Learning objectives\n",
    "\n",
    "After completing the exercise, you should be able to:\n",
    "- Learn to implement the Sparse Variational GP ELBO function and its whitened version.\n",
    "- Learn about state-space GPs and the computational benefits they can offer\n",
    "\n",
    "This assignment is worth 6 points. It has two tasks, which are each worth 3 points."
   ]
  },
  {
   "cell_type": "markdown",
   "id": "c10634c2-2c95-4952-b84d-9608119b6b6c",
   "metadata": {},
   "source": [
    "## Enter your student number\n",
    "\n",
    "**STUDENT_NUMBER** = XXX"
   ]
  },
  {
   "cell_type": "markdown",
   "id": "434343bf-fb0f-4331-bf33-c6dda961f454",
   "metadata": {
    "deletable": false,
    "editable": false,
    "nbgrader": {
     "cell_type": "markdown",
     "checksum": "0c59c260a81ac68c624393970cde1556",
     "grade": false,
     "grade_id": "cell-f67e558de0eb55f7",
     "locked": true,
     "schema_version": 3,
     "solution": false,
     "task": false
    }
   },
   "source": [
    "## Warnings:\n",
    "\n",
    "- Don’t copy and paste cells within a notebook. This will mess up the tracking metadata and prevent autograding from working.\n",
    "- Only add new cells using the '+' button in the upper toolbar and do not split cells.\n",
    "- Be cautious about things such as copying the whole notebook to Colab to work on it. This has sometimes resulted in removing all notebook metadata, making autograding impossible."
   ]
  },
  {
   "cell_type": "code",
   "execution_count": 1,
   "id": "2c6fc8e5-aa4e-496d-b4b0-dd171e166f3c",
   "metadata": {
    "deletable": false,
    "editable": false,
    "nbgrader": {
     "cell_type": "code",
     "checksum": "1655afefeb4fe95354c6e262d994c589",
     "grade": false,
     "grade_id": "cell-c8242245f9179db5",
     "locked": true,
     "schema_version": 3,
     "solution": false,
     "task": false
    },
    "tags": []
   },
   "outputs": [
    {
     "name": "stderr",
     "output_type": "stream",
     "text": [
      "2025-03-24 10:21:23.664652: I tensorflow/core/platform/cpu_feature_guard.cc:182] This TensorFlow binary is optimized to use available CPU instructions in performance-critical operations.\n",
      "To enable the following instructions: SSE4.1 SSE4.2 AVX, in other operations, rebuild TensorFlow with the appropriate compiler flags.\n"
     ]
    }
   ],
   "source": [
    "%matplotlib inline\n",
    "import os\n",
    "import math\n",
    "import time\n",
    "import csv\n",
    "import numpy as np\n",
    "import matplotlib.pyplot as plt\n",
    "import tensorflow as tf\n",
    "import tensorflow_probability as tfp\n",
    "import scipy.linalg as linalg\n",
    "\n",
    "import IPython\n",
    "assert IPython.version_info[0] >= 3, \"Your version of IPython is too old, please update it.\""
   ]
  },
  {
   "cell_type": "code",
   "execution_count": null,
   "id": "f2fea37c-b300-4653-a8e7-52344b1c1552",
   "metadata": {},
   "outputs": [],
   "source": [
    "automatic_grading = False  # Set this to True after completing the notebook and before submitting."
   ]
  },
  {
   "cell_type": "markdown",
   "id": "a9c0dc80-3626-44fc-9f33-966da944ef9b",
   "metadata": {
    "deletable": false,
    "editable": false,
    "nbgrader": {
     "cell_type": "markdown",
     "checksum": "6e3fdc2ed7c5c014ffc325ac99a48229",
     "grade": false,
     "grade_id": "cell-2068bd5e4153adbf",
     "locked": true,
     "schema_version": 3,
     "solution": false,
     "task": false
    }
   },
   "source": [
    "### Do not move or delete the below block. It is used for automatic grading."
   ]
  },
  {
   "cell_type": "code",
   "execution_count": null,
   "id": "2a5f1f5e-debd-4cad-ab90-c2c0f62b005f",
   "metadata": {
    "deletable": false,
    "editable": false,
    "nbgrader": {
     "cell_type": "code",
     "checksum": "de0dadb7a8840f4796abb3db42515d65",
     "grade": true,
     "grade_id": "cell-a52a53ea42e58a60",
     "locked": true,
     "points": 0,
     "schema_version": 3,
     "solution": false,
     "task": false
    }
   },
   "outputs": [],
   "source": []
  },
  {
   "cell_type": "markdown",
   "id": "76dc7513-4119-4b83-b675-0398becd6e70",
   "metadata": {
    "deletable": false,
    "editable": false,
    "nbgrader": {
     "cell_type": "markdown",
     "checksum": "419adc9e2e3aae481f1c571df3e0435e",
     "grade": false,
     "grade_id": "cell-2a1e3b9c3cb5fb7f",
     "locked": true,
     "schema_version": 3,
     "solution": false,
     "task": false
    }
   },
   "source": [
    "## Task 1: Sparse variational GPs & Whitening (3 points)\n",
    "\n",
    "In this task, we implement the sparse GP version of the GP classification task in the previous assignment. Sparse GPs allow us to scale the GP inference to much larger data sets by using *inducing points*. We will use the same data set as last time, but this time the full version with >5000 data points. This would be very computationally demanding with the non-sparse approach. "
   ]
  },
  {
   "cell_type": "code",
   "execution_count": null,
   "id": "503e96ba-c87e-4bb5-9a4d-7bcbf1d0b69a",
   "metadata": {
    "deletable": false,
    "editable": false,
    "nbgrader": {
     "cell_type": "code",
     "checksum": "3fbc8f683dd40fe26c176acb08451426",
     "grade": false,
     "grade_id": "cell-bc14ef3744409293",
     "locked": true,
     "schema_version": 3,
     "solution": false,
     "task": false
    }
   },
   "outputs": [],
   "source": [
    "# Loading the data\n",
    "XY = []\n",
    "with open(\"banana.csv\") as csvfile:\n",
    "    reader = csv.reader(csvfile, quoting=csv.QUOTE_NONNUMERIC) # change contents to floats\n",
    "    for row in reader: # each row is a list\n",
    "        XY.append(row)\n",
    "\n",
    "XY = np.array(XY)\n",
    "X = XY[:,:2]\n",
    "Y = (XY[:,2:3]-1.5) * 2 # to be in {-1, 1}\n",
    "N = XY.shape[0]\n",
    "\n",
    "# Plotting the data\n",
    "plt.scatter(X[:,0], X[:,1], c=Y, s=1, alpha=0.3)\n",
    "plt.xlabel('$x_1$', fontsize=15)\n",
    "plt.ylabel('$x_2$', fontsize=15)\n",
    "plt.title('Classification data', fontsize=20);"
   ]
  },
  {
   "cell_type": "markdown",
   "id": "222c5f15-bf9d-40f3-8cd4-130e7f28f33c",
   "metadata": {
    "deletable": false,
    "editable": false,
    "nbgrader": {
     "cell_type": "markdown",
     "checksum": "4de00427a10d64cd69f4ee8462d7d116",
     "grade": false,
     "grade_id": "cell-e6e2232eaf0fbed1",
     "locked": true,
     "schema_version": 3,
     "solution": false,
     "task": false
    }
   },
   "source": [
    "**Task 1a:** Copy and paste the implementations for the functions below from previous assignments (Hint: The correct solutions are also posted into the course Zulip)."
   ]
  },
  {
   "cell_type": "code",
   "execution_count": null,
   "id": "e5129e97-0c29-4817-9f78-e5761ba6ca60",
   "metadata": {
    "deletable": false,
    "nbgrader": {
     "cell_type": "code",
     "checksum": "1a53546790282064e4e499b960882f54",
     "grade": false,
     "grade_id": "cell-f2264b03fe005d6f",
     "locked": false,
     "schema_version": 3,
     "solution": true,
     "task": false
    }
   },
   "outputs": [],
   "source": [
    "def KL(m0, L0, m1, L1):\n",
    "    \"\"\" returns the KL divergence between N(m0, S0) and N(m1, S1)\n",
    "    \n",
    "    arguments:\n",
    "    m0, m1   -- N × 1, mean vector\n",
    "    L0, L1   -- N × N, Cholesky factor of a covariance matrix \n",
    "    returns a scalar\n",
    "    \"\"\"\n",
    "    # YOUR CODE HERE\n",
    "    raise NotImplementedError()\n",
    "\n",
    "def q_marginals(m, L):\n",
    "    \"\"\" returns the vectors of marginal means and marginal variances\n",
    "    i.e, the means and variances of q(f_n)\n",
    "    \n",
    "    arguments:\n",
    "    m   -- N × 1, mean vector\n",
    "    L   -- N × N, Cholesky factor of a covariance matrix \n",
    "    returns two N × 1 vectors\n",
    "    \"\"\"\n",
    "    # YOUR CODE HERE\n",
    "    raise NotImplementedError()\n",
    "\n",
    "def phi(x):\n",
    "    r\"\"\" Cumulative distribution function for the standard normal distribution \n",
    "    Hint: you may want to use the error function. (tf.math.erf if using tensorflow)\n",
    "    Hint 2: You may want to use a small epsilon parameter to ensure that the output \n",
    "            is strictly between 0 and 1\n",
    "\n",
    "    phi(x) = int_{-\\infty, x} N(u| 0, 1) du    \n",
    "    \"\"\"\n",
    "    # YOUR CODE HERE\n",
    "    raise NotImplementedError()\n",
    "\n",
    "\n",
    "def classif_log_likelihood(f, y):\n",
    "    \"\"\" log p(y|f) for classification using the normal cdf \n",
    "        log p(y|f) = log phi(y * f)\n",
    "        \n",
    "    Arguments:\n",
    "    f -- The GP value at the observation\n",
    "    y -- The observed value of y, either -1 or 1\n",
    "    \"\"\"\n",
    "    # YOUR CODE HERE\n",
    "    raise NotImplementedError()\n",
    "\n",
    "\n",
    "def expected_log_likelihood(means, mvars, llh, y, n_gh=20):\n",
    "    \"\"\" returns the expected log likelihood terms\n",
    "    \n",
    "    E_q(f_n)[log p(y_n|f_n)]\n",
    "    \n",
    "    This is a quadrature approximation, \n",
    "    turning the integral into a sum.\n",
    "        \n",
    "    arguments:\n",
    "    means  -- N × 1, vector of means\n",
    "    mvars  -- N × 1, vector of marginal variances\n",
    "    llh    -- log likelihood function\n",
    "    y      -- N × 1, vector of observed labels\n",
    "    \"\"\"\n",
    "    z, dz = np.polynomial.hermite.hermgauss(n_gh)\n",
    "    weights = (dz / np.sqrt(np.pi)).reshape(1, -1) # 1 × n_gh\n",
    "    inputs = means + np.sqrt(2) * tf.sqrt(mvars) * z.reshape(1, -1) # N × n_gh\n",
    "    llh_quad = weights * llh(inputs, y) # N × n_gh\n",
    "\n",
    "    return tf.reduce_sum(llh_quad, axis=1) # N,\n",
    "\n",
    "def kernelmatrix(X1, X2, log_ell, log_sigma_squared):\n",
    "    ell = tf.exp(log_ell)\n",
    "    sigma_squared = tf.exp(log_sigma_squared)\n",
    "    # YOUR CODE HERE\n",
    "    raise NotImplementedError()\n",
    "\n",
    "def posterior_marginal_prediction(X_new, X, m_q, L_q, log_ell, log_sigma_squared):\n",
    "    \"\"\" compute the posterior marginal predictions q(f(x*)) \n",
    "    independently for all inputs in X_new \n",
    "    \n",
    "    !!! IMPORTANT !!!\n",
    "    We should avoid computing the full N_new × N_new covariance matrix due to memory limitations.\n",
    "    You only need the diagonal values of this matrix for the predictive variances.\n",
    "    Could you implement an alternative to kernelmatrix() to do this?\n",
    "\n",
    "    !!! NEW IMPORTANT NOTE !!!\n",
    "    Last time you may have gotten this to work without using tensorflow functions. \n",
    "    Now you really need them because we are going to calculate gradients through this function\n",
    "    \n",
    "    arguments:\n",
    "    X_new -- N_new × 2, matrix of new inputs\n",
    "    X     -- N × 2, matrix of training inputs\n",
    "    m_q   -- N × 1, mean vector of q\n",
    "    L_q   -- N × N, Cholesky factor of the covariances of q\n",
    "    log_ell -- log-length-scale of the kernel\n",
    "    log_sigmasquared -- log-variance of the kernel\n",
    "    \n",
    "    returns: predictive marginal means and variances (both with size N_new × 1)\n",
    "    \"\"\"\n",
    "\n",
    "    # YOUR CODE HERE\n",
    "    raise NotImplementedError()"
   ]
  },
  {
   "cell_type": "markdown",
   "id": "f7fd120f-5583-495b-aea2-cac60b4838b3",
   "metadata": {
    "deletable": false,
    "editable": false,
    "nbgrader": {
     "cell_type": "markdown",
     "checksum": "e206b97a02586018d0eb72a77c7bc32f",
     "grade": false,
     "grade_id": "cell-987e040819fa95fb",
     "locked": true,
     "schema_version": 3,
     "solution": false,
     "task": false
    }
   },
   "source": [
    "### Sparse GP ELBO\n",
    "To evaluate the variational expectations (data fit) term of the SVGP objective, you need the marginals of $q({\\bf f})$ - think about how you can re-use `posterior_marginal_prediction` for that.\n",
    "\n",
    "**Task 1b:** Implement the ELBO for a SVGP"
   ]
  },
  {
   "cell_type": "code",
   "execution_count": null,
   "id": "c768018f-efb6-4c50-b4c1-90afe37ff26d",
   "metadata": {
    "deletable": false,
    "nbgrader": {
     "cell_type": "code",
     "checksum": "884d447ba47cd524d3237dc80b46e8ef",
     "grade": false,
     "grade_id": "cell-3b8835f2c9230042",
     "locked": false,
     "schema_version": 3,
     "solution": true,
     "task": false
    }
   },
   "outputs": [],
   "source": [
    "def sparse_gp_elbo(m_p, L_p, m_q, L_q, Z, X, y, log_ell, log_sigma_squared):\n",
    "    \"\"\" returns ELBO\n",
    "    ℒ = ∑ₙ₌₁ᴺ 𝔼_q(fₙ)[log p(yₙ|fₙ)] - KL[q(u)∥p(u)]\n",
    "    \n",
    "    (See slides of lecture 5 and 6 for closed-form solution)\n",
    "    \n",
    "    arguments:\n",
    "    L_p, L_q  -- N × N, Cholesky factors of the covariances of p and q\n",
    "    m_p, m_q  -- N × 1, mean vector of p and q\n",
    "    Z, X      -- N × D, inducing points and training points\n",
    "    y         -- N × 1, training observations\n",
    "    log_ell   -- log length scale\n",
    "    log_sigma_squared -- log kernel variance\n",
    "    \n",
    "    returns: a scalar\n",
    "    \"\"\"    \n",
    "    # YOUR CODE HERE\n",
    "    raise NotImplementedError()"
   ]
  },
  {
   "cell_type": "markdown",
   "id": "59ac7b4e-c3ab-4ee8-b463-8bd4f4ac5953",
   "metadata": {
    "deletable": false,
    "editable": false,
    "nbgrader": {
     "cell_type": "markdown",
     "checksum": "685602a372a09fd521f4b1a525b7a4b1",
     "grade": false,
     "grade_id": "cell-0e2fd3e6c863792b",
     "locked": true,
     "schema_version": 3,
     "solution": false,
     "task": false
    }
   },
   "source": [
    "Let's test the above function"
   ]
  },
  {
   "cell_type": "code",
   "execution_count": null,
   "id": "107a5798-8ccc-48dc-bfdd-817df8ea1cbd",
   "metadata": {
    "deletable": false,
    "editable": false,
    "nbgrader": {
     "cell_type": "code",
     "checksum": "1261f6365a6774575d51e7aa1356f956",
     "grade": false,
     "grade_id": "cell-b53ca91bbd511845",
     "locked": true,
     "schema_version": 3,
     "solution": false,
     "task": false
    }
   },
   "outputs": [],
   "source": [
    "# Define some dummy data\n",
    "test_n = 2\n",
    "test_mp = np.asarray([[0.0], [0.0]])\n",
    "test_Lp = np.eye(test_n)\n",
    "test_mq = np.asarray([[1.0], [1.0]])\n",
    "test_Lq = np.tril(np.arange(test_n * test_n).reshape(test_n, test_n) / 10) + 10 * np.eye(test_n)\n",
    "test_y = np.ones_like(test_mp)\n",
    "test_X = np.asarray([[-1.0, 1.0]])\n",
    "test_Z = np.asarray([[1.0, 2.0], [-1.0, -2.0]])\n",
    "\n",
    "test_log_ell = tf.convert_to_tensor(np.math.log(1), dtype=test_mp.dtype)\n",
    "test_log_sigma_squared = tf.convert_to_tensor(np.math.log(2.0), dtype=test_mp.dtype)\n",
    "\n",
    "# This assertion should pass if your implementation is correct\n",
    "assert np.allclose(sparse_gp_elbo(test_mp, test_Lp, test_mq, test_Lq, test_Z, test_X, test_y, test_log_ell, test_log_sigma_squared).numpy(), -101.03, atol=1e-2, rtol=1e-2)"
   ]
  },
  {
   "cell_type": "markdown",
   "id": "fd4148de-f6f2-4550-bdac-6488a285551a",
   "metadata": {
    "deletable": false,
    "editable": false,
    "nbgrader": {
     "cell_type": "markdown",
     "checksum": "ccbbc1b3a6e77612c08c7143a8d01819",
     "grade": false,
     "grade_id": "cell-59a94d9c9b81f017",
     "locked": true,
     "schema_version": 3,
     "solution": false,
     "task": false
    }
   },
   "source": [
    "#### Do not move or delete the below block. It is used for automatic grading."
   ]
  },
  {
   "cell_type": "code",
   "execution_count": null,
   "id": "20945bb9-9d86-4fc3-8ae3-7434813dc487",
   "metadata": {
    "deletable": false,
    "editable": false,
    "nbgrader": {
     "cell_type": "code",
     "checksum": "3932ec7a732f0c10eb0a8c35805124ee",
     "grade": true,
     "grade_id": "cell-22c701008facd48f",
     "locked": true,
     "points": 0,
     "schema_version": 3,
     "solution": false,
     "task": false
    }
   },
   "outputs": [],
   "source": []
  },
  {
   "cell_type": "markdown",
   "id": "2acf53b3-211c-4d60-b970-22e15cdfd998",
   "metadata": {
    "deletable": false,
    "editable": false,
    "nbgrader": {
     "cell_type": "markdown",
     "checksum": "aed5673c7ecb652233887678d1aa196c",
     "grade": false,
     "grade_id": "cell-de47d451a7de35c4",
     "locked": true,
     "schema_version": 3,
     "solution": false,
     "task": false
    }
   },
   "source": [
    "### Whitened sparse GP ELBO\n",
    "In the code below, let's also implement 'whitening': Instead of parametrizing the Cholesky factor of the posterior covariance directly, we define a new variable $\\mathbf v$ such that $\\mathbf u = \\mathbf L_p \\mathbf v + \\mathbf m_p$, where $\\mathbf u$ are the inducing variables. The reason is that the optimization pushes $q(\\mathbf u)$ to be similar to $p(\\mathbf u)$, and thus the elements in $\\mathbf L_q$ are strongly correlated. This makes optimization more difficult. In contrast, the distribution of $\\mathbf v$ that corresponds to the prior is $\\mathcal N(\\mathbf 0, \\mathbf I)$. Thus, we define our optimized variables as $\\mathbf m', \\mathbf S'$ in $q(\\mathbf v) = \\mathcal N(\\mathbf m', \\mathbf S')$ and transform them back to $\\mathbf u$-space using $L_p, m_p$ whenever we need to do ELBO calculations or calculate conditional distributions. When we do this, $\\mathbf m'$ and $\\mathbf S'$ are much easier to optimize than directly defining them as the mean and covariance of the real posterior $q(\\mathbf u)$.\n",
    "\n",
    "See also lecture 7.\n",
    "\n",
    "**Task 1c:** Implement the unwhitening and the whitened SVGP ELBO functions below."
   ]
  },
  {
   "cell_type": "code",
   "execution_count": null,
   "id": "62b0e768-4a07-4c4b-b65f-21fb1eabca45",
   "metadata": {
    "deletable": false,
    "nbgrader": {
     "cell_type": "code",
     "checksum": "f85d28f6f99f0c8274d367143c45c6a1",
     "grade": false,
     "grade_id": "cell-b6eeadf46bfb7f10",
     "locked": false,
     "schema_version": 3,
     "solution": true,
     "task": false
    }
   },
   "outputs": [],
   "source": [
    "def unwhiten(m_p, L_p, m_qv, L_qv):\n",
    "    \"\"\"Transformation from the whitened distribution q(v) to unwhitened distribution q(u)\n",
    "    arguments:\n",
    "    L_p, L_qv  -- N × N, Cholesky factors of the covariances of p and the whitened q\n",
    "    m_p, m_qv  -- N × 1, mean vector of p and the whitened q\n",
    "    returns:\n",
    "    m_qu       -- N × 1 unwhitened mean vector and NxN\n",
    "    L_qu       -- N x N Cholesky factor of the unwhitened covariance\n",
    "    \"\"\"\n",
    "    # YOUR CODE HERE\n",
    "    raise NotImplementedError()\n",
    "\n",
    "def sparse_gp_elbo_whitened(m_p, L_p, m_qv, L_qv, Z, X, y, log_ell, log_sigma_squared):\n",
    "    \"\"\" returns ELBO\n",
    "    ℒ = ∑ₙ₌₁ᴺ 𝔼_q(fₙ)[log p(yₙ|fₙ)] - KL[q(v)∥p(v)]\n",
    "\n",
    "    (See slides of lecture 5 and 6 for closed-form solution)\n",
    "    \n",
    "    arguments:\n",
    "    L_p, L_qv  -- N × N, Cholesky factors of the covariances of p and the whitened q\n",
    "    m_p, m_qv  -- N × 1, mean vector of p and the whitened q\n",
    "    Z, X      -- N × D, inducing points and training points\n",
    "    y         -- N × 1, training observations\n",
    "    returns: a scalar\n",
    "    \"\"\"\n",
    "    # YOUR CODE HERE\n",
    "    raise NotImplementedError()"
   ]
  },
  {
   "cell_type": "markdown",
   "id": "292e6792-f9ba-44be-b700-b9ebf6e79d27",
   "metadata": {
    "deletable": false,
    "editable": false,
    "nbgrader": {
     "cell_type": "markdown",
     "checksum": "341085ce4ee51a97600851c91d0dc4c4",
     "grade": false,
     "grade_id": "cell-0de647cc1fffd95a",
     "locked": true,
     "schema_version": 3,
     "solution": false,
     "task": false
    }
   },
   "source": [
    "Lets test the above functions"
   ]
  },
  {
   "cell_type": "code",
   "execution_count": null,
   "id": "143fcb28-1d6b-4d5e-8a79-3290e362f802",
   "metadata": {
    "deletable": false,
    "editable": false,
    "nbgrader": {
     "cell_type": "code",
     "checksum": "f725c9756cf41b5d4062d228049a37f3",
     "grade": false,
     "grade_id": "cell-a9858bdc37ceee36",
     "locked": true,
     "schema_version": 3,
     "solution": false,
     "task": false
    }
   },
   "outputs": [],
   "source": [
    "# Define some dummy data\n",
    "test_n = 2\n",
    "test_mp = np.asarray([[0.1], [0.2]])\n",
    "test_Lp = np.eye(test_n)\n",
    "test_mq = np.asarray([[0.3], [0.4]])\n",
    "test_Lq = np.tril(np.arange(test_n * test_n).reshape(test_n, test_n) / 10) + 10 * np.eye(test_n)\n",
    "\n",
    "test_mqu, test_Lqu = unwhiten(test_mp, test_Lp, test_mq, test_Lq)\n",
    "assert np.allclose(test_mqu.flatten(), np.asarray([0.4, 0.6]))\n",
    "assert np.allclose(test_Lqu.numpy().flatten(), np.asarray([10.0, 0.0, 0.2, 10.3]), atol=1e-2, rtol=1e-2)"
   ]
  },
  {
   "cell_type": "markdown",
   "id": "5cce783c-a046-49bf-894d-c87602149c15",
   "metadata": {
    "deletable": false,
    "editable": false,
    "nbgrader": {
     "cell_type": "markdown",
     "checksum": "f9ce741fa4c25d085b9b843e9905eff5",
     "grade": false,
     "grade_id": "cell-588db2dd1ac31387",
     "locked": true,
     "schema_version": 3,
     "solution": false,
     "task": false
    }
   },
   "source": [
    "#### Do not move or delete the below block. It is used for automatic grading."
   ]
  },
  {
   "cell_type": "code",
   "execution_count": null,
   "id": "a5172329-3132-4477-9df8-9795136672b6",
   "metadata": {
    "deletable": false,
    "editable": false,
    "nbgrader": {
     "cell_type": "code",
     "checksum": "63d98c74e9808339f6356033b4477425",
     "grade": true,
     "grade_id": "cell-5cdd6ecbcb6d0d50",
     "locked": true,
     "points": 1,
     "schema_version": 3,
     "solution": false,
     "task": false
    }
   },
   "outputs": [],
   "source": []
  },
  {
   "cell_type": "markdown",
   "id": "36fe2bd7-90a7-4620-932c-e5a171fbdd68",
   "metadata": {
    "deletable": false,
    "editable": false,
    "nbgrader": {
     "cell_type": "markdown",
     "checksum": "5af26a348a31e0a2987d79ad5848cf12",
     "grade": false,
     "grade_id": "cell-b94bbcdbd6a0c9cb",
     "locked": true,
     "schema_version": 3,
     "solution": false,
     "task": false
    }
   },
   "source": [
    "### Running the optimisation\n",
    "Use the following code to run the variational inference optimisation loop. Get to know the code, and answer the multiple choice questions about it.\n",
    "\n",
    "Let's not optimise the hyperparameters of $q$ now for simplicity. If you like, you can try modifying the code to also optimise them.\n",
    "\n",
    "**Task 1d:** Copy-paste your solution from **Assignment 4: Task 2b** into the function `get_prior_parameters` (Hint: The correct solution is also posted in the course Zulip after the Assignment 4 deadline)."
   ]
  },
  {
   "cell_type": "code",
   "execution_count": null,
   "id": "42cca02e-35bc-448f-844b-9ee155b1e6a1",
   "metadata": {
    "deletable": false,
    "nbgrader": {
     "cell_type": "code",
     "checksum": "bca325acf6dc5e3704b2e0671b0ba714",
     "grade": false,
     "grade_id": "cell-6f04580be6f105a3",
     "locked": false,
     "schema_version": 3,
     "solution": true,
     "task": false
    }
   },
   "outputs": [],
   "source": [
    "def optimize_elbo(ell, sigma_squared, optimize_inducing_points=False):\n",
    "    # Log-hyperparameters:\n",
    "    v_log_ell = tf.Variable(np.log(ell), dtype=tf.float64)\n",
    "    v_log_sigma_squared = tf.Variable(np.log(sigma_squared), dtype=tf.float64)\n",
    "\n",
    "    M = 16\n",
    "    Z = tf.Variable(X[:M].copy())\n",
    "\n",
    "    @tf.function\n",
    "    def get_prior_parameters(z, log_ell, log_sigma_squared):\n",
    "        # YOUR CODE HERE\n",
    "        raise NotImplementedError()\n",
    "        return m_p, L_p \n",
    "    \n",
    "    # The prior mean at the inducing points and the Cholesky factor of the prior covariance, with small diagonal jitter\n",
    "    m_p, L_p = get_prior_parameters(Z, v_log_ell, v_log_sigma_squared)\n",
    "\n",
    "    # Inference distributions\n",
    "    m_qv = tf.Variable(np.zeros((M, 1)), dtype=tf.float64)\n",
    "    L_qv_params = tf.Variable(tfp.math.fill_triangular_inverse(np.zeros((M,M))), dtype=tf.float64)\n",
    "    filltriangular = tfp.bijectors.FillTriangular(upper=False)\n",
    "    positivediagonal = tfp.bijectors.TransformDiagonal(diag_bijector=tfp.bijectors.Exp())\n",
    "    transform = lambda x: positivediagonal(filltriangular(x))\n",
    "\n",
    "    loss_svgp = lambda: - sparse_gp_elbo_whitened(\n",
    "        m_p, tf.linalg.cholesky(kernelmatrix(Z, Z, v_log_ell, v_log_sigma_squared)+ 1e-10*tf.eye(Z.shape[0],dtype=tf.float64)),\n",
    "        m_qv, transform(L_qv_params), Z, X, Y, v_log_ell, v_log_sigma_squared)\n",
    "\n",
    "    ##### definition of a training step\n",
    "    def create_train_step(loss, opt, trainable_variables):\n",
    "        @tf.function  # this makes the optimisation loop much faster, but restricts what operations you can do within your code\n",
    "        def train_step():\n",
    "            with tf.GradientTape() as tape:\n",
    "                tape.watch(trainable_variables)\n",
    "                loss_value = loss()\n",
    "            gradients = tape.gradient(loss_value, trainable_variables)\n",
    "            opt.apply_gradients(zip(gradients, trainable_variables))\n",
    "            return loss_value\n",
    "        return train_step\n",
    "\n",
    "    # you can change the optimizer or learning rate\n",
    "    opt = tf.optimizers.Adam(learning_rate=0.1)\n",
    "    train_step = create_train_step(loss_svgp, opt, [Z, m_qv, L_qv_params]) if optimize_inducing_points \\\n",
    "                                        else create_train_step(loss_svgp, opt, [m_qv, L_qv_params])\n",
    "\n",
    "    num_iterations = 1100 # you can change the number of steps as well\n",
    "\n",
    "    # running the optimization\n",
    "    neg_elbo_values = []\n",
    "    for t in range(num_iterations):\n",
    "        neg_elbo_value = train_step()\n",
    "        neg_elbo_values.append(neg_elbo_value)\n",
    "        if t % 500 == 0:\n",
    "            print(f\"Train step: {t}, Neg. ELBO: {loss_svgp().numpy()}\")\n",
    "    \n",
    "    return Z, m_qv, transform(L_qv_params), neg_elbo_values, v_log_ell, v_log_sigma_squared"
   ]
  },
  {
   "cell_type": "markdown",
   "id": "109f8eff-2769-478b-89e2-5f1ce7dbfc8d",
   "metadata": {
    "deletable": false,
    "editable": false,
    "nbgrader": {
     "cell_type": "markdown",
     "checksum": "a23e5af0ac1ddc221767fd10049d1062",
     "grade": false,
     "grade_id": "cell-e72e31df69838bfc",
     "locked": true,
     "schema_version": 3,
     "solution": false,
     "task": false
    }
   },
   "source": [
    "**Task 1d:** How many inducing points are we using in `optimize_elbo`?\n",
    "\n",
    "**1)** 4\n",
    "\n",
    "**2)** 8\n",
    "\n",
    "**3)** 16\n",
    "\n",
    "**4)** 32\n",
    "\n",
    "Type your answer in the cell below."
   ]
  },
  {
   "cell_type": "code",
   "execution_count": null,
   "id": "458acf7e-52e1-4a71-b299-81553ff18c6f",
   "metadata": {},
   "outputs": [],
   "source": [
    "a_1d = None # TASK: Replace None with your answer (1, 2, 3, 4)"
   ]
  },
  {
   "cell_type": "code",
   "execution_count": null,
   "id": "d03c76de-10d0-41eb-8356-a36ef642c78e",
   "metadata": {
    "deletable": false,
    "editable": false,
    "nbgrader": {
     "cell_type": "code",
     "checksum": "1619e3d854dab50d293c801bc4049eda",
     "grade": false,
     "grade_id": "cell-d037a55e23cb4863",
     "locked": true,
     "schema_version": 3,
     "solution": false,
     "task": false
    }
   },
   "outputs": [],
   "source": [
    "assert a_1d in [1, 2, 3, 4]"
   ]
  },
  {
   "cell_type": "markdown",
   "id": "d70a28d3-47b5-4103-8658-93c4aa8e9776",
   "metadata": {
    "deletable": false,
    "editable": false,
    "nbgrader": {
     "cell_type": "markdown",
     "checksum": "eb0303e2aea83db5418bf321e09aba79",
     "grade": false,
     "grade_id": "cell-6cf7f3622c95b41c",
     "locked": true,
     "schema_version": 3,
     "solution": false,
     "task": false
    }
   },
   "source": [
    "#### Do not move or delete the below block. It is used for automatic grading."
   ]
  },
  {
   "cell_type": "code",
   "execution_count": null,
   "id": "47eaf711-766c-476b-ad53-423744b29b8a",
   "metadata": {
    "deletable": false,
    "editable": false,
    "nbgrader": {
     "cell_type": "code",
     "checksum": "18a094c4ce66bc20cc648233d6c6108c",
     "grade": true,
     "grade_id": "cell-835763ab6527f853",
     "locked": true,
     "points": 0.5,
     "schema_version": 3,
     "solution": false,
     "task": false
    }
   },
   "outputs": [],
   "source": []
  },
  {
   "cell_type": "markdown",
   "id": "a1600a1c-747f-4d26-8c65-2fe6664d6ddf",
   "metadata": {
    "deletable": false,
    "editable": false,
    "nbgrader": {
     "cell_type": "markdown",
     "checksum": "c54f8b549276b170d212e310ce519803",
     "grade": false,
     "grade_id": "cell-5b48febb85b9f479",
     "locked": true,
     "schema_version": 3,
     "solution": false,
     "task": false
    }
   },
   "source": [
    "**Task 1e:** To what values are the inducing points initialised in `optimize_elbo`?\n",
    "\n",
    "**1)** A sample from the standard normal distribution\n",
    "\n",
    "**2)** A sample from a uniform distribution\n",
    "\n",
    "**3)** Zeros\n",
    "\n",
    "**4)** A subset of the data points\n",
    "\n",
    "Type your answer in the cell below."
   ]
  },
  {
   "cell_type": "code",
   "execution_count": null,
   "id": "2cf4be6b-7182-4311-a9fd-97920f382e60",
   "metadata": {},
   "outputs": [],
   "source": [
    "a_1e = None  # TASK: Replace None with your answer (1, 2, 3, 4)"
   ]
  },
  {
   "cell_type": "code",
   "execution_count": null,
   "id": "a8a108af-1d21-433d-9736-e4c1b19ade3b",
   "metadata": {
    "deletable": false,
    "editable": false,
    "nbgrader": {
     "cell_type": "code",
     "checksum": "da841a3156fb1c82a7cbda5893086310",
     "grade": false,
     "grade_id": "cell-33a94f8f6c3776d0",
     "locked": true,
     "schema_version": 3,
     "solution": false,
     "task": false
    }
   },
   "outputs": [],
   "source": [
    "assert a_1e in [1, 2, 3, 4]"
   ]
  },
  {
   "cell_type": "markdown",
   "id": "969d3c65-330b-49d0-81a4-da4791a3e5c7",
   "metadata": {
    "deletable": false,
    "editable": false,
    "nbgrader": {
     "cell_type": "markdown",
     "checksum": "d831f98349b0641830ff0a3691be206f",
     "grade": false,
     "grade_id": "cell-34625015d0e5a4b1",
     "locked": true,
     "schema_version": 3,
     "solution": false,
     "task": false
    }
   },
   "source": [
    "#### Do not move or delete the below block. It is used for automatic grading."
   ]
  },
  {
   "cell_type": "code",
   "execution_count": null,
   "id": "9531ee19-c79f-4ff8-a5b4-e02d5d5eea3d",
   "metadata": {
    "deletable": false,
    "editable": false,
    "nbgrader": {
     "cell_type": "code",
     "checksum": "5770fd00e2860ba82b491f108d7032c1",
     "grade": true,
     "grade_id": "cell-c9a6f39c544b3797",
     "locked": true,
     "points": 0.5,
     "schema_version": 3,
     "solution": false,
     "task": false
    }
   },
   "outputs": [],
   "source": []
  },
  {
   "cell_type": "markdown",
   "id": "ad922701-8f5a-4602-82ac-eef5ef116ca4",
   "metadata": {
    "deletable": false,
    "editable": false,
    "nbgrader": {
     "cell_type": "markdown",
     "checksum": "a1d1a3ebce7cb83635f12330da5ea48a",
     "grade": false,
     "grade_id": "cell-5c577d478864e39e",
     "locked": true,
     "schema_version": 3,
     "solution": false,
     "task": false
    }
   },
   "source": [
    "### Optimisation with fixed inducing points & plotting results\n",
    "First, let's try optimising the ELBO only with the mean and covariance of $q(\\mathbf u)$, and keep the inducing point locations $\\mathbf Z$ fixed at a subset of data points. \n",
    "\n",
    "After finding the parameters $\\mathbf L_q$ and $\\mathbf m_q$, plot the results using the function provided. Note that the optimisation loop returns the whitened $\\mathbf L_q$ and $\\mathbf m_q$, you will have to take that into account before passing values to the plotting code.\n",
    "\n",
    "Also copy-paste your solution from last week for the posterior predictive distribution $p(y*=1|y)$ in the plotting code."
   ]
  },
  {
   "cell_type": "code",
   "execution_count": null,
   "id": "93d78540-aa70-4759-bbf1-afdd37b9af0a",
   "metadata": {
    "deletable": false,
    "editable": false,
    "nbgrader": {
     "cell_type": "code",
     "checksum": "5c24a2f4370c68582d8f1f3b9b54f25f",
     "grade": false,
     "grade_id": "cell-b348ed6fb3b8976c",
     "locked": true,
     "schema_version": 3,
     "solution": false,
     "task": false
    }
   },
   "outputs": [],
   "source": [
    "ell = 0.5  # the length scale\n",
    "sigma_squared = 3.0**2  # the kernel variance\n",
    "\n",
    "# kernel parameters\n",
    "if not automatic_grading:\n",
    "\n",
    "    # Run the optimisation\n",
    "    Z, m_qv, L_qv, neg_elbo_values, v_log_ell, v_log_sigma_squared = optimize_elbo(ell, sigma_squared, optimize_inducing_points=True)\n",
    "    \n",
    "    # Plot optimisation progress\n",
    "    plt.plot(neg_elbo_values)\n",
    "    plt.ylabel('negative ELBO')\n",
    "    plt.xlabel('Steps')\n",
    "    plt.title('Training step vs. Optimised Negative ELBO Plot')\n",
    "    plt.show()"
   ]
  },
  {
   "cell_type": "markdown",
   "id": "a26d7fcd-6e76-4007-b963-8dcfb09b56cc",
   "metadata": {
    "deletable": false,
    "editable": false,
    "nbgrader": {
     "cell_type": "markdown",
     "checksum": "bd7b546a310d98783e1428c774788d72",
     "grade": false,
     "grade_id": "cell-70bf9b0bc6f9302c",
     "locked": true,
     "schema_version": 3,
     "solution": false,
     "task": false
    }
   },
   "source": [
    "**Task 1f:** Copy-paste your solution for computing `y_new` from function `plot_posterior` in **Assignment 4: Task 3c** into the new function for plotting the posterior"
   ]
  },
  {
   "cell_type": "code",
   "execution_count": null,
   "id": "80723a1a-19db-4e02-8e2f-addaefc88765",
   "metadata": {
    "deletable": false,
    "nbgrader": {
     "cell_type": "code",
     "checksum": "e0ba8f0d38c65d26cd13726b4cff6524",
     "grade": false,
     "grade_id": "cell-bd010e60c47eee44",
     "locked": false,
     "schema_version": 3,
     "solution": true,
     "task": false
    }
   },
   "outputs": [],
   "source": [
    "# create new input points on grid\n",
    "n_grid = 100\n",
    "x = np.linspace(XY[:,0].min(), XY[:,1].max(), n_grid)\n",
    "X1new, X2new = np.meshgrid(x, x)\n",
    "Xnew = np.hstack([\n",
    "  X1new.reshape(-1,1), X2new.reshape(-1,1)\n",
    "])  # size : n_grid * n_grid x 2\n",
    "\n",
    "def plot_posterior(Z, m_new, v_new, neg_elbo):\n",
    "    \"\"\"\n",
    "    Plots the posterior prediction for the grid in Xnew (global variable)\n",
    "    \n",
    "    arguments:\n",
    "    m_new -- mean at Xnew\n",
    "    v_new -- variance at Xnew\n",
    "    neg_elbo -- negative elbo value from optimization\n",
    "    \"\"\"\n",
    "    y_new = ...\n",
    "    # YOUR CODE HERE\n",
    "    raise NotImplementedError()\n",
    "    \n",
    "    plt.figure(figsize=(12,4))\n",
    "    plt.suptitle(f\"ELBO: {-neg_elbo : .2f}\")\n",
    "    plt.subplot(1,3,1)\n",
    "    plt.contour(x, x, m_new.numpy().reshape(n_grid,n_grid),\n",
    "                cmap=plt.cm.RdBu_r, vmin=-np.abs(m_new).max(), vmax=np.abs(m_new).max())\n",
    "    plt.colorbar()\n",
    "    plt.title(\"Posterior mean\")\n",
    "    plt.subplot(1,3,2)\n",
    "    plt.contour(x, x, v_new.numpy().reshape(n_grid,n_grid))\n",
    "    plt.colorbar()\n",
    "    plt.title(\"Posterior variance\")\n",
    "    plt.subplot(1,3,3)\n",
    "    plt.scatter(Z[:,0], Z[:,1], color='black') # Inducing points\n",
    "    plt.legend([\"Inducing points\"])\n",
    "    plt.contour(x, x, y_new.numpy().reshape(n_grid,n_grid),\n",
    "                cmap=plt.cm.RdBu_r, vmin=0, vmax=1)\n",
    "    plt.colorbar()\n",
    "    plt.title(\"p(y|f)\")\n",
    "\n",
    "    plt.scatter(X[:,0], X[:,1], c=Y, s=1, alpha=0.3)  # all data points\n",
    "    plt.xlim(x.min(), x.max())\n",
    "    plt.ylim(x.min(), x.max())"
   ]
  },
  {
   "attachments": {
    "2e9b88e7-a372-499b-baa3-5012469ad7b7.png": {
     "image/png": "[encoded data removed]"
    }
   },
   "cell_type": "markdown",
   "id": "1f251857-08c7-4797-9593-1f9fd46a4a7c",
   "metadata": {
    "deletable": false,
    "editable": false,
    "nbgrader": {
     "cell_type": "markdown",
     "checksum": "6a5514ff9d5785ca70998ecde1daf768",
     "grade": false,
     "grade_id": "cell-89ade0d361f904cf",
     "locked": true,
     "schema_version": 3,
     "solution": false,
     "task": false
    }
   },
   "source": [
    "**Task 1g**: Complete the function for computing the posterior predictive mean `m_new` and variance `v_new` and plot the results. The final plot should resemble the plot below:\n",
    "\n",
    "![image.png](attachment:2e9b88e7-a372-499b-baa3-5012469ad7b7.png)"
   ]
  },
  {
   "cell_type": "code",
   "execution_count": null,
   "id": "37ef9bcd-dd15-4471-a5d9-0dd268fb0c6a",
   "metadata": {
    "deletable": false,
    "nbgrader": {
     "cell_type": "code",
     "checksum": "c2896d35dd81ad1b731dd887536c857b",
     "grade": false,
     "grade_id": "cell-c9aa93ffb89e1aa8",
     "locked": false,
     "schema_version": 3,
     "solution": true,
     "task": false
    }
   },
   "outputs": [],
   "source": [
    "# Note: The m_qv and L_qv are whitened posterior parameters\n",
    "def get_posterior_predictive_params(x_new, z, m_qv, L_qv, v_log_ell, v_log_sigma_squared):\n",
    "    \"\"\"\n",
    "    \n",
    "    arguments:\n",
    "        x_new -- N x D matrix of new data points\n",
    "        z     -- M x D matrix of inducing points\n",
    "        m_qv  -- M × 1, mean vector of the whitened q\n",
    "        L_qv  -- M × M, Cholesky factor of the covariances of the whitened q\n",
    "\n",
    "    returns:\n",
    "        m_new, v_new; predictive marginal means and variances (both with size N_new × 1)\n",
    "    \"\"\"\n",
    "    \n",
    "    # YOUR CODE HERE\n",
    "    raise NotImplementedError()\n",
    "\n",
    "    return m_new, v_new"
   ]
  },
  {
   "cell_type": "markdown",
   "id": "34a8f013-3536-4b1f-80de-ae729b0dfd7d",
   "metadata": {
    "deletable": false,
    "editable": false,
    "nbgrader": {
     "cell_type": "markdown",
     "checksum": "ab1df88812cbf6e669bfc8c55001d274",
     "grade": false,
     "grade_id": "cell-c3bade9944eb9290",
     "locked": true,
     "schema_version": 3,
     "solution": false,
     "task": false
    }
   },
   "source": [
    "Let's test the above function"
   ]
  },
  {
   "cell_type": "code",
   "execution_count": null,
   "id": "1189e693-ca19-4302-bbf4-1151d3f57e29",
   "metadata": {
    "deletable": false,
    "editable": false,
    "nbgrader": {
     "cell_type": "code",
     "checksum": "19454ab3bfce81930429fa5a40bd8100",
     "grade": false,
     "grade_id": "cell-fb81e558762d88a8",
     "locked": true,
     "schema_version": 3,
     "solution": false,
     "task": false
    }
   },
   "outputs": [],
   "source": [
    "# Initializing some dummy data\n",
    "test_Z = np.asarray([[1.0, 2.0], [3.0, 4.0]])\n",
    "test_n = test_Z.shape[0]\n",
    "test_X_new = np.linspace(0, 1, 4).reshape(2, 2)\n",
    "test_mqv = np.arange(test_n).reshape(-1,1)\n",
    "test_Lqv = np.tril(np.arange(test_n * test_n).reshape(test_n, test_n) / 10) + 10 * np.eye(test_n)\n",
    "\n",
    "# Calling your function\n",
    "test_m, test_v = get_posterior_predictive_params(test_X_new, test_Z, test_mqv, test_Lqv, test_log_ell, test_log_sigma_squared)\n",
    "\n",
    "assert np.allclose(test_m.numpy(), np.asarray([[-0.00389919],[-0.01383118]]), rtol=1e-2, atol=1e-2)\n",
    "assert np.allclose(test_v.numpy(), np.asarray([[6.5272085], [67.15543209]]), rtol=1e-2, atol=1e-2)"
   ]
  },
  {
   "cell_type": "markdown",
   "id": "26590fbb-4d5f-41d8-9677-f48d32566ac5",
   "metadata": {
    "deletable": false,
    "editable": false,
    "nbgrader": {
     "cell_type": "markdown",
     "checksum": "d2f2ce26d726a7ef68ff3ab13f02ebe6",
     "grade": false,
     "grade_id": "cell-94a69f9967ab8dac",
     "locked": true,
     "schema_version": 3,
     "solution": false,
     "task": false
    }
   },
   "source": [
    "Finally, plot the results"
   ]
  },
  {
   "cell_type": "code",
   "execution_count": null,
   "id": "d1a1949c-a875-4520-bcd5-a7ccdace5266",
   "metadata": {
    "deletable": false,
    "editable": false,
    "nbgrader": {
     "cell_type": "code",
     "checksum": "d6f94b722bd0506ba8319e24a668dffb",
     "grade": false,
     "grade_id": "cell-ec5f877fb8e04dfa",
     "locked": true,
     "schema_version": 3,
     "solution": false,
     "task": false
    }
   },
   "outputs": [],
   "source": [
    "if not automatic_grading:\n",
    "    m_new, v_new = get_posterior_predictive_params(Xnew, Z, m_qv, L_qv, v_log_ell, v_log_sigma_squared)\n",
    "    plot_posterior(Z, m_new, v_new, neg_elbo_values[-1])"
   ]
  },
  {
   "cell_type": "markdown",
   "id": "399b0d71-1c16-40ef-8bcf-ad321db02d0c",
   "metadata": {
    "deletable": false,
    "editable": false,
    "nbgrader": {
     "cell_type": "markdown",
     "checksum": "26fecae68729e796fa9dce7d9d15bef6",
     "grade": false,
     "grade_id": "cell-073d12db3160e220",
     "locked": true,
     "schema_version": 3,
     "solution": false,
     "task": false
    }
   },
   "source": [
    "#### Do not move or delete the below block. It is used for automatic grading."
   ]
  },
  {
   "cell_type": "code",
   "execution_count": null,
   "id": "ff56aaf2-59d9-4809-b714-2b2f40be90df",
   "metadata": {
    "deletable": false,
    "editable": false,
    "nbgrader": {
     "cell_type": "code",
     "checksum": "575a6498d8ec2a2de3a3f03ea944ce7a",
     "grade": true,
     "grade_id": "cell-28d14fa6a0c36cfa",
     "locked": true,
     "points": 1,
     "schema_version": 3,
     "solution": false,
     "task": false
    }
   },
   "outputs": [],
   "source": []
  },
  {
   "cell_type": "markdown",
   "id": "b81f64e0-c8b1-4f52-9f6e-58e614adb17f",
   "metadata": {
    "deletable": false,
    "editable": false,
    "nbgrader": {
     "cell_type": "markdown",
     "checksum": "bdecbac2a4a62212c27c122188cbabfd",
     "grade": false,
     "grade_id": "cell-0a5634e4be7b1a5e",
     "locked": true,
     "schema_version": 3,
     "solution": false,
     "task": false
    }
   },
   "source": [
    "### Optional: Advanced extra questions on variational inference, VGPs and sparse VGPs (only for the curious, **no extra points!**)\n",
    "* For fixed hyperparameters, does the ELBO match the marginal likelihood $\\log p({\\bf y})$? If so, why & when?\n",
    "* How does the ELBO-at-optimum change as you vary the number of inducing points?\n",
    "* Repeat the procedure for the regression setting with Gaussian noise. You need to derive new variational expectations since the likelihood changes. Apply the resulting algorithm to the regression problem of the previous assignment.\n",
    "* Jointly optimise the kernel hyperparameters in addition to the inducing points $Z$, and $q({\\bf u})$. How does the optimal value of the kernel hyperparameters depend on the number of inducing points?\n",
    "\n",
    "\n",
    "---\n",
    "\n"
   ]
  },
  {
   "cell_type": "markdown",
   "id": "f7c881d7-8f54-4101-85a5-2235c23bc90a",
   "metadata": {
    "deletable": false,
    "editable": false,
    "nbgrader": {
     "cell_type": "markdown",
     "checksum": "b4252323d3ff390de725850d2ca70194",
     "grade": false,
     "grade_id": "cell-a24fce29afe89024",
     "locked": true,
     "schema_version": 3,
     "solution": false,
     "task": false
    }
   },
   "source": [
    "## Task 2: State-space GP regression (3 points)\n",
    "1. In this exercise you start by first creating some dummy data by simulating a random function from a Matern $\\nu=\\frac{3}{2}$ (nu) GP prior and then adding some Gaussian observation noise. \n",
    "2. The next step is to solve a GP regression task in order to recover the unknown latent function. This is done naively in the standard way by expanding the covariance matrix and inverting it (even though here we use the Cholesky factor to some additional stability, but still just using numpy). \n",
    "3. Finally the exactly same inference problem is solved sequentially by state space inference methods, and you are supposed to recover the _exactly_ same solution (within numerical precision), but now in $O(n)$ time complexity rather than $O(n^3)$.\n",
    "\n",
    "Run the code (you will need to modify it in the next tasks). Feel free to experiment with the hyperparameters (magnitude, characteristic length-scale, and noise scale), and the number of data points, n. The larger your n, the larger the time difference between the two approaches."
   ]
  },
  {
   "cell_type": "markdown",
   "id": "6ce0e967-a88d-45ff-9489-9479da0cbd13",
   "metadata": {
    "deletable": false,
    "editable": false,
    "nbgrader": {
     "cell_type": "markdown",
     "checksum": "96ccefbe42ef95d4608482ea3fb91f69",
     "grade": false,
     "grade_id": "cell-b47a07e034a354d8",
     "locked": true,
     "schema_version": 3,
     "solution": false,
     "task": false
    }
   },
   "source": [
    "### Part 1: Simulating some dummy data\n",
    "\n",
    "Run the code below to create some simulated data."
   ]
  },
  {
   "cell_type": "code",
   "execution_count": null,
   "id": "d72a8baa-0688-41e0-b921-71a1b50699b4",
   "metadata": {},
   "outputs": [],
   "source": [
    "# Parameters\n",
    "n = 1000\n",
    "sigma2 = 1\n",
    "magnSigma2 = 1\n",
    "ell = 1"
   ]
  },
  {
   "cell_type": "code",
   "execution_count": null,
   "id": "caf73d4b-771e-44bb-b2f5-263f0563a5a3",
   "metadata": {
    "deletable": false,
    "editable": false,
    "nbgrader": {
     "cell_type": "code",
     "checksum": "47c4bbf27c2af01333586053a18b7fe3",
     "grade": false,
     "grade_id": "cell-822d5cdd0e8c0c79",
     "locked": true,
     "schema_version": 3,
     "solution": false,
     "task": false
    }
   },
   "outputs": [],
   "source": [
    "# Observation time indices\n",
    "t = np.linspace(0,10,n).reshape((n,1))\n",
    "\n",
    "# Set up kernel (Matern nu=3/2)\n",
    "tx,ty=np.meshgrid(t,t);\n",
    "D = abs(tx-ty)\n",
    "K = magnSigma2 * (1 + np.sqrt(3)*D/ell) * np.exp(-np.sqrt(3)*D/ell)\n",
    "\n",
    "# Draw a random sample from the GP prior\n",
    "np.random.seed(43)\n",
    "L = np.linalg.cholesky(K)\n",
    "f = L.dot(np.random.randn(n))\n",
    "y = f + np.sqrt(sigma2)*np.random.randn(n)\n",
    "\n",
    "plt.figure(figsize=(12, 6))\n",
    "plt.plot(t, f, 'k-', label=u'Hidden $f(t)$')\n",
    "plt.plot(t, y, 'r+', markersize=5, label=u'Observations')\n",
    "plt.xlabel('Input, $t$')\n",
    "plt.ylabel('Output, $y$')\n",
    "plt.title('Generated data from GP Prior')\n",
    "plt.legend()"
   ]
  },
  {
   "cell_type": "markdown",
   "id": "db7d5198-8873-4853-8248-e3e633b6919a",
   "metadata": {
    "deletable": false,
    "editable": false,
    "nbgrader": {
     "cell_type": "markdown",
     "checksum": "4c7410a0d44eeb60945c40910075adb2",
     "grade": false,
     "grade_id": "cell-68025a615a1a2b2a",
     "locked": true,
     "schema_version": 3,
     "solution": false,
     "task": false
    }
   },
   "source": [
    "### Part 2: Naive GP approach\n",
    "\n",
    "Run the code below and observe how long it takes to run."
   ]
  },
  {
   "cell_type": "code",
   "execution_count": null,
   "id": "f29d5032-511e-4528-bec6-2deaaf3eb4a1",
   "metadata": {
    "deletable": false,
    "editable": false,
    "nbgrader": {
     "cell_type": "code",
     "checksum": "e9d421dea506e732dcb6172bc31f9b84",
     "grade": false,
     "grade_id": "cell-e443c9ad80931af0",
     "locked": true,
     "schema_version": 3,
     "solution": false,
     "task": false
    }
   },
   "outputs": [],
   "source": [
    "# Helper function for plotting results\n",
    "def plot_gp(t, f, y, Eft, Varft, marginal):\n",
    "    plt.figure(figsize=(12, 6))\n",
    "    plt.plot(t, f, 'k-', label=u'Hidden $f(t)$')\n",
    "    plt.plot(t, y, 'r+', markersize=5, label=u'Observations')\n",
    "    plt.plot(t, Eft, 'b-', label=u'Posterior mean')\n",
    "\n",
    "    plt.fill(np.concatenate([t, t[::-1]]),\n",
    "             np.concatenate([Eft - 1.96 * np.sqrt(Varft),\n",
    "                            (Eft + 1.96 * np.sqrt(Varft))[::-1]]),\n",
    "         alpha=.5, fc='b', ec='None', label='95% confidence interval')\n",
    "    plt.xlabel('Input, $t$')\n",
    "    plt.ylabel('Output, $y$')\n",
    "    plt.title('Marginal LLH: {0}'.format(marginal))\n",
    "    plt.legend()\n",
    "\n",
    "def naive_gp_regression(y, K, sigma2):\n",
    "    \"\"\" \n",
    "    Naive implementation of GP regression\n",
    "    \"\"\"\n",
    "    n = len(y)\n",
    "\n",
    "    # Solve the GP regression problem the naive way\n",
    "    alpha = np.linalg.solve(K+sigma2*np.eye(n), y)\n",
    "    L = np.linalg.cholesky(K+sigma2*np.eye(n))\n",
    "    v = np.linalg.solve(L, K)\n",
    "    Eft = K.dot(alpha) # Posterior mean\n",
    "    Varft = np.diag(K) - np.sum(v**2,axis=0) # Marginal variance\n",
    "\n",
    "    # Negative log marginal likelihood\n",
    "    negloglik = n/2*np.log(2*np.pi) + np.sum(np.log(np.diag(L))) + .5*y.T.dot(np.linalg.inv(K+sigma2*np.eye(n))).dot(y) #.5*y.T.dot(alpha)\n",
    "\n",
    "    return Eft, Varft, negloglik\n",
    "\n",
    "if not automatic_grading:\n",
    "    # Start timing\n",
    "    start = time.process_time() \n",
    "\n",
    "    # Perform GP regression naively\n",
    "    Eft, Varft, negloglik = naive_gp_regression(y, K, sigma2)\n",
    "\n",
    "    # End timing (this should grow O(n^3))\n",
    "    end = time.process_time()\n",
    "    print(\"Naive GP inference took %.3f s.\" % (end - start)) \n",
    "\n",
    "    # Plot GP\n",
    "    plot_gp(t, f, y, Eft, Varft, negloglik)"
   ]
  },
  {
   "cell_type": "markdown",
   "id": "4789173c-4384-423c-8c8a-ee88315d679e",
   "metadata": {
    "deletable": false,
    "editable": false,
    "nbgrader": {
     "cell_type": "markdown",
     "checksum": "57d3b2d481fc0c75bea84de3f318e952",
     "grade": false,
     "grade_id": "cell-f53401ea109e1f58",
     "locked": true,
     "schema_version": 3,
     "solution": false,
     "task": false
    }
   },
   "source": [
    "### State space approach\n",
    "**Task 2a**: Implement the function `kalman_negloglik_update` that is used in the Kalman filter for evaluating the negative log marginal likelihood during the forward sweep. This quantity has to do with the so called innovation mean `v` and variance `s`. If you feel confused, look at the material in the lecture slides, or the two papers mentioned as pre-reading."
   ]
  },
  {
   "cell_type": "code",
   "execution_count": null,
   "id": "98ee0ec6-4797-427c-ae2c-f3a8e46432c0",
   "metadata": {
    "deletable": false,
    "nbgrader": {
     "cell_type": "code",
     "checksum": "a3bcad815a39554737ea6aafbc74befb",
     "grade": false,
     "grade_id": "cell-e0df06c909710e11",
     "locked": false,
     "schema_version": 3,
     "solution": true,
     "task": false
    }
   },
   "outputs": [],
   "source": [
    "def kalman_negloglik_update(s, v):\n",
    "    \"\"\"\n",
    "    Computes the Kalman Filter update to the negative log likelihood\n",
    "    \n",
    "    arguments:\n",
    "        v -- innovation mean\n",
    "        s -- innotation variance\n",
    "\n",
    "    returns: a scalar\n",
    "    \"\"\"\n",
    "    # == \n",
    "    # Task 2a:\n",
    "    # Compute the marginal likelihood\n",
    "    # ==\n",
    "    # YOUR CODE HERE\n",
    "    raise NotImplementedError()"
   ]
  },
  {
   "cell_type": "markdown",
   "id": "ff856dc0-871f-45af-8580-57c1bef26a9c",
   "metadata": {
    "deletable": false,
    "editable": false,
    "nbgrader": {
     "cell_type": "markdown",
     "checksum": "f16172f8e8a7185a0aa0fda9c1f16e9d",
     "grade": false,
     "grade_id": "cell-5d24bada5a1144c6",
     "locked": true,
     "schema_version": 3,
     "solution": false,
     "task": false
    }
   },
   "source": [
    "Let's test the above function"
   ]
  },
  {
   "cell_type": "code",
   "execution_count": null,
   "id": "b390c089-a610-46bc-a717-233b91b77421",
   "metadata": {
    "deletable": false,
    "editable": false,
    "nbgrader": {
     "cell_type": "code",
     "checksum": "3a118e8b69dd4d5476744d1b4e2deb77",
     "grade": false,
     "grade_id": "cell-966c5de00f74cdcc",
     "locked": true,
     "schema_version": 3,
     "solution": false,
     "task": false
    }
   },
   "outputs": [],
   "source": [
    "test_s = np.asarray([[1.0]])\n",
    "test_v = np.asarray([2.0])\n",
    "\n",
    "assert np.allclose(kalman_negloglik_update(test_s, test_v), 2.919, rtol=1e-2, atol=1e-2)"
   ]
  },
  {
   "cell_type": "code",
   "execution_count": null,
   "id": "df334012-1afb-4f98-a1b4-477759f6f16a",
   "metadata": {
    "deletable": false,
    "editable": false,
    "nbgrader": {
     "cell_type": "code",
     "checksum": "c1b7895d3fdf2f485ae7eb7fe4952fa8",
     "grade": false,
     "grade_id": "cell-4365e12ad62622b0",
     "locked": true,
     "schema_version": 3,
     "solution": false,
     "task": false
    }
   },
   "outputs": [],
   "source": [
    "# Kalman filter (forward pass)\n",
    "def kalman_filter(y, h, M, P, Q, A, sigma2):\n",
    "    negloglik = 0\n",
    "    for i in range(0,y.shape[0]):\n",
    "        # Prediction step\n",
    "        if i > 0:\n",
    "            M[:,i] = A.dot(M[:,i-1])\n",
    "            P[:,:,i] = A.dot(P[:,:,i-1]).dot(A.T) + Q\n",
    "    \n",
    "        # Update step\n",
    "        v = y[i]-h.T.dot(M[:,i])\n",
    "        s = h.T.dot(P[:,:,i]).dot(h) + sigma2\n",
    "        k = P[:,:,i].dot(h) / s\n",
    "        M[:,i] += k.dot(v)\n",
    "        P[:,:,i] -= k.dot(h.T).dot(P[:,:,i])\n",
    "    \n",
    "        # Update log likelihood\n",
    "        negloglik += kalman_negloglik_update(s, v) # Implement this!\n",
    "\n",
    "    return M, P, negloglik\n",
    "\n",
    "# Rauch-Tung-Striebel smoother (backward pass)\n",
    "def rauch_tung_striebel_smoother(y, h, M, P, Q, A):\n",
    "    Eft = np.zeros(y.shape[0])\n",
    "    Varft = np.zeros(y.shape[0])\n",
    "    \n",
    "    for i in range(y.shape[0]-2,-1,-1):\n",
    "        Pp = A.dot(P[:,:,i]).dot(A.T) + Q\n",
    "        G = np.linalg.solve(Pp, (P[:,:,i].dot(A.T)).T).T\n",
    "        M[:,i] += G.dot(M[:,i+1]-A.dot(M[:,i]))\n",
    "        P[:,:,i] += G.dot(P[:,:,i+1]-Pp).dot(G.T)\n",
    "\n",
    "        Eft[i] = h.T.dot(M[:,i])\n",
    "        Varft[i] = h.T.dot(P[:,:,i]).dot(h)\n",
    "\n",
    "    return M, P, Eft, Varft"
   ]
  },
  {
   "cell_type": "code",
   "execution_count": null,
   "id": "f976389b-72f6-4d15-97dc-3bcb5378371f",
   "metadata": {
    "deletable": false,
    "editable": false,
    "nbgrader": {
     "cell_type": "code",
     "checksum": "6c2dda8217d31aa0f02618dc0c4d4dda",
     "grade": false,
     "grade_id": "cell-cf9ac4ed58927d4f",
     "locked": true,
     "schema_version": 3,
     "solution": false,
     "task": false
    }
   },
   "outputs": [],
   "source": [
    "# Define continuous-time state space model (SDE):\n",
    "lam = np.sqrt(3)/ell;\n",
    "F = np.array([[0,1],[-lam**2,-2*lam]])\n",
    "Pinf = np.array([[magnSigma2,0],[0,magnSigma2*lam**2]])\n",
    "h = np.array([[1],[0]])\n",
    "\n",
    "# Solve the SDE for discrete time steps:\n",
    "# The resulting state transition matrix and process noise covariance\n",
    "dt = t[1]-t[0]\n",
    "A = linalg.expm(F*dt)\n",
    "Q = Pinf - A.dot(Pinf).dot(A.T)\n",
    "\n",
    "# State mean and covariance\n",
    "M = np.zeros((F.shape[0],n))\n",
    "P = np.zeros((F.shape[0],F.shape[0],n))\n",
    "P[:,:,0] = Pinf\n",
    "\n",
    "if not automatic_grading:\n",
    "    # Start timing\n",
    "    start = time.process_time()\n",
    "\n",
    "    # Apply the state-space approach\n",
    "    M, P, negloglik = kalman_filter(y, h, M, P, Q, A, sigma2)\n",
    "    M, P, Eft, Varft = rauch_tung_striebel_smoother(y, h, M, P, Q, A)\n",
    "\n",
    "    # End timing (this should grow O(n))\n",
    "    end = time.process_time()\n",
    "    print(\"State space inference took %.3f s.\" % (end - start)) \n",
    "    \n",
    "    # Plot GP\n",
    "    plot_gp(t,f,y,Eft,Varft,negloglik)"
   ]
  },
  {
   "cell_type": "markdown",
   "id": "14e39a10-ee8d-49a0-b37d-21d01512c6cc",
   "metadata": {
    "deletable": false,
    "editable": false,
    "nbgrader": {
     "cell_type": "markdown",
     "checksum": "64e3c2798ef925600d992ad42cc7d225",
     "grade": false,
     "grade_id": "cell-7a85a4373f376876",
     "locked": true,
     "schema_version": 3,
     "solution": false,
     "task": false
    }
   },
   "source": [
    "#### Do not move or delete the below block. It is used for automatic grading."
   ]
  },
  {
   "cell_type": "code",
   "execution_count": null,
   "id": "e0e006dd-d5d4-4d9d-a50b-88c68e5472ff",
   "metadata": {
    "deletable": false,
    "editable": false,
    "nbgrader": {
     "cell_type": "code",
     "checksum": "83ca4f85347d3316e83976e168ffbb74",
     "grade": true,
     "grade_id": "cell-4ff4d0086c2bdec6",
     "locked": true,
     "points": 1,
     "schema_version": 3,
     "solution": false,
     "task": false
    }
   },
   "outputs": [],
   "source": []
  },
  {
   "cell_type": "markdown",
   "id": "ae733f20-edbc-4e63-9a13-d182c9e59460",
   "metadata": {
    "deletable": false,
    "editable": false,
    "nbgrader": {
     "cell_type": "markdown",
     "checksum": "a8cb79ae09f59e911643e88f5d75e1da",
     "grade": false,
     "grade_id": "cell-08b6b5b83ee26587",
     "locked": true,
     "schema_version": 3,
     "solution": false,
     "task": false
    }
   },
   "source": [
    "## State space GPs with the exponential kernel\n",
    "\n",
    "Copy-over the code from above and modify the GP prior to use the exponential kernel instead of the Matern $\\nu=\\frac{3}{2}$. This means that you need to define the covariance function and define the matrices `F = -1/ell`, `h = 1`, and `Pinf = magnSigma2`. This stochastic differential equation is known as the Ornestein-Uhlenbeck process (see, e.g., discussion in Rasmussen and Williams, 2006, Appendix B).\n",
    "After changing the model, make sure that you still get the same solution both ways.\n",
    "\n",
    "**Task 2b**: Implement the exponential kernel and compute the kernel matrix $K$"
   ]
  },
  {
   "cell_type": "code",
   "execution_count": null,
   "id": "35a626e2-81db-46bf-98bf-3c51a5f86ed4",
   "metadata": {
    "deletable": false,
    "nbgrader": {
     "cell_type": "code",
     "checksum": "182854744586c023833957992e6b2539",
     "grade": false,
     "grade_id": "cell-cad8654c19e06196",
     "locked": false,
     "schema_version": 3,
     "solution": true,
     "task": false
    }
   },
   "outputs": [],
   "source": [
    "def exp_kernel(tx, ty, lam, magnSigma2):\n",
    "    \"\"\"\n",
    "    The exponential kernel function\n",
    "    \n",
    "    arguments:\n",
    "        tx -- NxN matrix (from np.meshgrid)\n",
    "        ty -- NxN matrix (from np.meshgrid)\n",
    "        lam -- scalar\n",
    "        magnSigma2 -- scalar\n",
    "\n",
    "    returns:\n",
    "        NxN kernel matrix\n",
    "    \"\"\"\n",
    "    # YOUR CODE HERE\n",
    "    raise NotImplementedError()\n",
    "    return K"
   ]
  },
  {
   "cell_type": "markdown",
   "id": "b061458b-b22c-436e-9ad2-cd62f3b8f1bb",
   "metadata": {
    "deletable": false,
    "editable": false,
    "nbgrader": {
     "cell_type": "markdown",
     "checksum": "b48c5b6fffc7d25fc8e69247939d341d",
     "grade": false,
     "grade_id": "cell-e1edaa92a0a556cd",
     "locked": true,
     "schema_version": 3,
     "solution": false,
     "task": false
    }
   },
   "source": [
    "Let's test the above function"
   ]
  },
  {
   "cell_type": "code",
   "execution_count": null,
   "id": "4b6e28f6-3727-4a41-853a-92810f14d255",
   "metadata": {
    "deletable": false,
    "editable": false,
    "nbgrader": {
     "cell_type": "code",
     "checksum": "4a540ddf7b1b33a3e76dbcc82ed68ed3",
     "grade": false,
     "grade_id": "cell-7099e7f0ac79b1bd",
     "locked": true,
     "schema_version": 3,
     "solution": false,
     "task": false
    }
   },
   "outputs": [],
   "source": [
    "test_t = np.linspace(0,10,2).reshape((2,1))\n",
    "test_tx, test_ty = np.meshgrid(test_t, test_t)\n",
    "assert np.allclose(exp_kernel(test_tx, test_ty, 0.1, 2.0), np.asarray([[2.00, 0.736],[0.736, 2.00]]), atol=1e-2, rtol=1e-2)"
   ]
  },
  {
   "cell_type": "markdown",
   "id": "673cfa0f-e325-4cf4-9f95-a21b3a46e661",
   "metadata": {
    "deletable": false,
    "editable": false,
    "nbgrader": {
     "cell_type": "markdown",
     "checksum": "da643ff8962628dca72bdfc0e81e07ad",
     "grade": false,
     "grade_id": "cell-4304c6b0f41efe78",
     "locked": true,
     "schema_version": 3,
     "solution": false,
     "task": false
    }
   },
   "source": [
    "#### Do not move or delete the below block. It is used for automatic grading."
   ]
  },
  {
   "cell_type": "code",
   "execution_count": null,
   "id": "dab22807-55ca-46c0-91d0-b1304b77b5e5",
   "metadata": {
    "deletable": false,
    "editable": false,
    "nbgrader": {
     "cell_type": "code",
     "checksum": "a271c685881ff6fef4986607e957cb86",
     "grade": true,
     "grade_id": "cell-e5e882639091af41",
     "locked": true,
     "points": 1,
     "schema_version": 3,
     "solution": false,
     "task": false
    }
   },
   "outputs": [],
   "source": []
  },
  {
   "cell_type": "markdown",
   "id": "73eab2a2-7f46-407d-92e5-98f11cd954a7",
   "metadata": {
    "deletable": false,
    "editable": false,
    "nbgrader": {
     "cell_type": "markdown",
     "checksum": "ad7f8e03a6672638f2b16103120cc1cf",
     "grade": false,
     "grade_id": "cell-52e3ccf8778efe3c",
     "locked": true,
     "schema_version": 3,
     "solution": false,
     "task": false
    }
   },
   "source": [
    "### Naive GP approach"
   ]
  },
  {
   "cell_type": "code",
   "execution_count": null,
   "id": "35784a02-c86a-4203-877b-66fc20da3a2c",
   "metadata": {
    "deletable": false,
    "editable": false,
    "nbgrader": {
     "cell_type": "code",
     "checksum": "5a67a7f40acd8f86f041c2a9172de425",
     "grade": false,
     "grade_id": "cell-7b39e5f8aaacf203",
     "locked": true,
     "schema_version": 3,
     "solution": false,
     "task": false
    }
   },
   "outputs": [],
   "source": [
    "# Compute the kernel matrix with the exponential kernel\n",
    "K = exp_kernel(tx, ty, lam, magnSigma2)\n",
    "\n",
    "# Draw a random sample from the GP prior\n",
    "np.random.seed(43)\n",
    "L = np.linalg.cholesky(K)\n",
    "f = L.dot(np.random.randn(n))\n",
    "y = f + np.sqrt(sigma2)*np.random.randn(n)\n",
    "\n",
    "if not automatic_grading:\n",
    "    # Start timing\n",
    "    start = time.process_time() \n",
    "\n",
    "    # Solve the GP regression problem the naive way\n",
    "    Eft, Varft, negloglik = naive_gp_regression(y, K, sigma2)\n",
    "\n",
    "    # End timing (this should grow O(n^3))\n",
    "    end = time.process_time()\n",
    "    print(\"Naive GP inference took %.3f s.\" % (end - start)) \n",
    "\n",
    "    # Plot GP\n",
    "    plot_gp(t, f, y, Eft, Varft, negloglik)"
   ]
  },
  {
   "cell_type": "markdown",
   "id": "52389558-2baa-4383-8c34-391df8f62a61",
   "metadata": {
    "deletable": false,
    "editable": false,
    "nbgrader": {
     "cell_type": "markdown",
     "checksum": "dfcc694f4c871fb0954b75ec8cc67dd1",
     "grade": false,
     "grade_id": "cell-1e94e21bc1c128e0",
     "locked": true,
     "schema_version": 3,
     "solution": false,
     "task": false
    }
   },
   "source": [
    "### State space GP approach"
   ]
  },
  {
   "cell_type": "markdown",
   "id": "75e9cd46-bf3f-41e0-a607-8e946f4c8a4c",
   "metadata": {
    "deletable": false,
    "editable": false,
    "nbgrader": {
     "cell_type": "markdown",
     "checksum": "a7d60dfb88bfd5aab9f513d64eb14597",
     "grade": false,
     "grade_id": "cell-62076da2f6593b2c",
     "locked": true,
     "schema_version": 3,
     "solution": false,
     "task": false
    }
   },
   "source": [
    "**Task 2c:** Define the matrices `F` and `Pinf`"
   ]
  },
  {
   "cell_type": "code",
   "execution_count": null,
   "id": "bcd8e3ad-0ecb-4ab8-8992-899fb09af489",
   "metadata": {
    "deletable": false,
    "nbgrader": {
     "cell_type": "code",
     "checksum": "bf1ba334b5593cedd73bb3cc9e4f8e05",
     "grade": false,
     "grade_id": "cell-99dd31dd0e1da10c",
     "locked": false,
     "schema_version": 3,
     "solution": true,
     "task": false
    }
   },
   "outputs": [],
   "source": [
    "F = ...\n",
    "Pinf = ...\n",
    "h = np.array([[1]])\n",
    "\n",
    "# YOUR CODE HERE\n",
    "raise NotImplementedError()"
   ]
  },
  {
   "cell_type": "code",
   "execution_count": null,
   "id": "a57a11eb-121f-43e4-bca4-6d7860f7b17f",
   "metadata": {
    "deletable": false,
    "editable": false,
    "nbgrader": {
     "cell_type": "code",
     "checksum": "b7e250478ca97ea221fe7669d08428af",
     "grade": false,
     "grade_id": "cell-29283036a228d3d2",
     "locked": true,
     "schema_version": 3,
     "solution": false,
     "task": false
    }
   },
   "outputs": [],
   "source": [
    "assert F.shape == (1,1)"
   ]
  },
  {
   "cell_type": "markdown",
   "id": "dd0c21d0-4fc8-4635-9fa8-f84b78563e95",
   "metadata": {
    "deletable": false,
    "editable": false,
    "nbgrader": {
     "cell_type": "markdown",
     "checksum": "1509be3c59b4e699c9c88e53c354c2a3",
     "grade": false,
     "grade_id": "cell-e2c834bbd3129b4e",
     "locked": true,
     "schema_version": 3,
     "solution": false,
     "task": false
    }
   },
   "source": [
    "#### Do not move or delete the below block. It is used for automatic grading."
   ]
  },
  {
   "cell_type": "code",
   "execution_count": null,
   "id": "8b62d208-7047-4c88-a573-2b272b0dc2a2",
   "metadata": {
    "deletable": false,
    "editable": false,
    "nbgrader": {
     "cell_type": "code",
     "checksum": "2e39a0e10c2e2bed707079f150dd4325",
     "grade": true,
     "grade_id": "cell-d4a5c7b16d924a1c",
     "locked": true,
     "points": 0.5,
     "schema_version": 3,
     "solution": false,
     "task": false
    }
   },
   "outputs": [],
   "source": []
  },
  {
   "cell_type": "code",
   "execution_count": null,
   "id": "27253704-da76-45ee-a984-897b7f428e22",
   "metadata": {
    "deletable": false,
    "editable": false,
    "nbgrader": {
     "cell_type": "code",
     "checksum": "c865c5947d42515607c70cb6b7a0745e",
     "grade": false,
     "grade_id": "cell-925701e984b48928",
     "locked": true,
     "schema_version": 3,
     "solution": false,
     "task": false
    }
   },
   "outputs": [],
   "source": [
    "# Solve the SDE for discrete time steps:\n",
    "# The resulting state transition matrix and process noise covariance\n",
    "dt = t[1]-t[0]\n",
    "A = linalg.expm(F*dt)\n",
    "Q = Pinf - A.dot(Pinf).dot(A.T)\n",
    "\n",
    "# State mean and covariance\n",
    "M = np.zeros((F.shape[0],n))\n",
    "P = np.zeros((F.shape[0],F.shape[0],n))\n",
    "P[:,:,0] = Pinf\n",
    "\n",
    "if not automatic_grading:\n",
    "    # Start timing\n",
    "    start = time.process_time()\n",
    "\n",
    "    M, P, negloglik = kalman_filter(y, h, M, P, Q, A, sigma2)\n",
    "    M, P, Eft, Varft = rauch_tung_striebel_smoother(y, h, M, P, Q, A)\n",
    "\n",
    "    # End timing (this should grow O(n))\n",
    "    end = time.process_time()\n",
    "    print(\"State space inference took %.3f s.\" % (end - start)) \n",
    "    \n",
    "    # Plot GP\n",
    "    plot_gp(t,f,y,Eft,Varft,negloglik)"
   ]
  },
  {
   "cell_type": "markdown",
   "id": "ea69c875-c7a6-44a4-9c52-a6152c6adc37",
   "metadata": {
    "deletable": false,
    "editable": false,
    "nbgrader": {
     "cell_type": "markdown",
     "checksum": "89683a4dd24000aa8489a4fc54d46d8e",
     "grade": false,
     "grade_id": "cell-47f6fcfba10beed3",
     "locked": true,
     "schema_version": 3,
     "solution": false,
     "task": false
    }
   },
   "source": [
    "**Task 2c:** Do the naive GP implementation and state space GP implementations yield approximately the same result (**True** or **False**)? Type your answer in the cell below."
   ]
  },
  {
   "cell_type": "code",
   "execution_count": null,
   "id": "69f58e0b-88a7-4d17-97b1-83d11a2e587a",
   "metadata": {},
   "outputs": [],
   "source": [
    "a_2c = None # TASK: Replace None with your answer True or False"
   ]
  },
  {
   "cell_type": "code",
   "execution_count": null,
   "id": "6b917335-bae1-4f0d-bb97-6da04e23b958",
   "metadata": {
    "deletable": false,
    "editable": false,
    "nbgrader": {
     "cell_type": "code",
     "checksum": "6658b8c2898ad880ce8ffe5f7c912609",
     "grade": false,
     "grade_id": "cell-bdfd01108ba7aef8",
     "locked": true,
     "schema_version": 3,
     "solution": false,
     "task": false
    }
   },
   "outputs": [],
   "source": [
    "assert isinstance(a_2c, bool)"
   ]
  },
  {
   "cell_type": "markdown",
   "id": "19de752c-4b68-4982-ae48-df73757cf276",
   "metadata": {
    "deletable": false,
    "editable": false,
    "nbgrader": {
     "cell_type": "markdown",
     "checksum": "d46ba8cdc6124a92be30d1966db90147",
     "grade": false,
     "grade_id": "cell-8f314286f78e3bb2",
     "locked": true,
     "schema_version": 3,
     "solution": false,
     "task": false
    }
   },
   "source": [
    "#### Do not move or delete the below block. It is used for automatic grading."
   ]
  },
  {
   "cell_type": "code",
   "execution_count": null,
   "id": "72991b77-cbf2-470a-9446-5aba3556e808",
   "metadata": {
    "deletable": false,
    "editable": false,
    "nbgrader": {
     "cell_type": "code",
     "checksum": "3d9a8744e3afda9a0d1bf00d14893364",
     "grade": true,
     "grade_id": "cell-7897ce139d803dbd",
     "locked": true,
     "points": 0.5,
     "schema_version": 3,
     "solution": false,
     "task": false
    }
   },
   "outputs": [],
   "source": []
  },
  {
   "cell_type": "markdown",
   "id": "9f7ce5d9-7617-4ddb-a3c5-43381bb42d6a",
   "metadata": {
    "deletable": false,
    "editable": false,
    "nbgrader": {
     "cell_type": "markdown",
     "checksum": "5f9a87bb8a75d9c35efcc59e9eb7650d",
     "grade": false,
     "grade_id": "cell-32901bcafa6ceed6",
     "locked": true,
     "schema_version": 3,
     "solution": false,
     "task": false
    }
   },
   "source": [
    "---"
   ]
  },
  {
   "cell_type": "markdown",
   "id": "37a079ce-577c-408b-9568-60f6c923a44c",
   "metadata": {
    "deletable": false,
    "editable": false,
    "nbgrader": {
     "cell_type": "markdown",
     "checksum": "e733b85d7b3a57a1a87e385481af9555",
     "grade": false,
     "grade_id": "cell-396f2d27ccf2dffc",
     "locked": true,
     "schema_version": 3,
     "solution": false,
     "task": false
    }
   },
   "source": [
    "### Task 3: After answering all the questions, kindly set `automatic_grading=True` at the top of the notebook, use the validate option in the toolbar to validate the notebook and be sure that there are no errors."
   ]
  },
  {
   "cell_type": "markdown",
   "id": "0040442a-965b-4d95-9031-8a1a14aca84e",
   "metadata": {
    "deletable": false,
    "editable": false,
    "nbgrader": {
     "cell_type": "markdown",
     "checksum": "08d317e6ed85fb2b40369ff0b4f5a57b",
     "grade": false,
     "grade_id": "cell-bc90b7d1b7a86201",
     "locked": true,
     "schema_version": 3,
     "solution": false,
     "task": false
    }
   },
   "source": [
    "---"
   ]
  }
 ],
 "metadata": {
  "kernelspec": {
   "display_name": "Python 3",
   "language": "python",
   "name": "python3"
  },
  "language_info": {
   "codemirror_mode": {
    "name": "ipython",
    "version": 3
   },
   "file_extension": ".py",
   "mimetype": "text/x-python",
   "name": "python",
   "nbconvert_exporter": "python",
   "pygments_lexer": "ipython3",
   "version": "3.10.12"
  }
 },
 "nbformat": 4,
 "nbformat_minor": 5
}
