{
 "cells": [
  {
   "cell_type": "markdown",
   "metadata": {
    "deletable": false,
    "editable": false,
    "nbgrader": {
     "cell_type": "markdown",
     "checksum": "65a8c879a7a7b38aa04595a281d3d605",
     "grade": false,
     "grade_id": "cell-d3b23a591f780483",
     "locked": true,
     "schema_version": 3,
     "solution": false,
     "task": false
    }
   },
   "source": [
    "\n",
    "# CS-E4895: Gaussian Processes\n",
    "\n",
    "# Assignment #6: Bayesian optimization, and GPLVM\n",
    "\n",
    "### Learning objectives\n",
    "\n",
    "After completing the exercise, you should be able to:\n",
    "\n",
    "- Implement an acquisition function and study its properties\n",
    "- Use the acquisition function to implement Bayesian optimization\n",
    "- Gaussian process latent variable model, Principal component analysis, Bayesian Gaussian process latent variable model \n"
   ]
  },
  {
   "cell_type": "markdown",
   "metadata": {},
   "source": [
    "## Enter your student number here\n",
    "\n",
    "**STUDENT_NUMBER** = XXX"
   ]
  },
  {
   "cell_type": "markdown",
   "metadata": {
    "deletable": false,
    "editable": false,
    "nbgrader": {
     "cell_type": "markdown",
     "checksum": "0e51d6ddec6c0bbeecd04ad448e9506d",
     "grade": false,
     "grade_id": "cell-0ba3fecf1230099f",
     "locked": true,
     "schema_version": 3,
     "solution": false,
     "task": false
    }
   },
   "source": [
    "## Warnings:\n",
    "\n",
    "- Don’t copy and paste cells within a notebook. This will mess up the tracking metadata and prevent autograding from working.\n",
    "- Only add new cells using the '+' button in the upper toolbar and do not split cells.\n",
    "- Be cautious about things such as copying the whole notebook to Colab to work on it. This has sometimes resulted in removing all notebook metadata, making autograding impossible."
   ]
  },
  {
   "cell_type": "code",
   "execution_count": 1,
   "metadata": {
    "deletable": false,
    "editable": false,
    "nbgrader": {
     "cell_type": "code",
     "checksum": "7c4c7cbb1b5f913c61c809489c6e11ac",
     "grade": false,
     "grade_id": "cell-af26419e5dd8b4cb",
     "locked": true,
     "schema_version": 3,
     "solution": false,
     "task": false
    },
    "tags": []
   },
   "outputs": [
    {
     "name": "stderr",
     "output_type": "stream",
     "text": [
      "2025-04-09 23:02:57.171434: I tensorflow/core/platform/cpu_feature_guard.cc:182] This TensorFlow binary is optimized to use available CPU instructions in performance-critical operations.\n",
      "To enable the following instructions: SSE4.1 SSE4.2 AVX AVX2 FMA, in other operations, rebuild TensorFlow with the appropriate compiler flags.\n"
     ]
    }
   ],
   "source": [
    "%matplotlib inline\n",
    "import os\n",
    "import numpy as np\n",
    "import matplotlib.pyplot as plt\n",
    "from matplotlib.patches import Ellipse\n",
    "import seaborn as snb\n",
    "import pandas as pd\n",
    "from sklearn.decomposition import PCA\n",
    "import gpflow\n",
    "import tensorflow as tf\n",
    "snb.set(font_scale=1.5)\n",
    "\n",
    "import IPython\n",
    "assert IPython.version_info[0] >= 3, \"Your version of IPython is too old, please update it.\""
   ]
  },
  {
   "cell_type": "code",
   "execution_count": 2,
   "metadata": {
    "tags": []
   },
   "outputs": [],
   "source": [
    "automatic_grading = False  # Set this to True after completing the notebook and before submitting."
   ]
  },
  {
   "cell_type": "markdown",
   "metadata": {
    "deletable": false,
    "editable": false,
    "nbgrader": {
     "cell_type": "markdown",
     "checksum": "5fd7fb6cc809a791a1404e6d209dcd08",
     "grade": false,
     "grade_id": "cell-821fb4217b5e22c6",
     "locked": true,
     "schema_version": 3,
     "solution": false,
     "task": false
    }
   },
   "source": [
    "#### Do not move or delete the below block. It is used for automatic grading."
   ]
  },
  {
   "cell_type": "code",
   "execution_count": null,
   "metadata": {
    "deletable": false,
    "editable": false,
    "nbgrader": {
     "cell_type": "code",
     "checksum": "a1a9458771c23d957e91c859491aa75c",
     "grade": true,
     "grade_id": "cell-93e21b9aa5d7b326",
     "locked": true,
     "points": 0,
     "schema_version": 3,
     "solution": false,
     "task": false
    },
    "tags": []
   },
   "outputs": [],
   "source": []
  },
  {
   "cell_type": "markdown",
   "metadata": {
    "deletable": false,
    "editable": false,
    "nbgrader": {
     "cell_type": "markdown",
     "checksum": "a398c40c39409f7523417d0f9f461748",
     "grade": false,
     "grade_id": "cell-697d609292f1e133",
     "locked": true,
     "schema_version": 3,
     "solution": false,
     "task": false
    }
   },
   "source": [
    "### Task 1: Acquisition Function (2.5 points)"
   ]
  },
  {
   "cell_type": "markdown",
   "metadata": {
    "deletable": false,
    "editable": false,
    "nbgrader": {
     "cell_type": "markdown",
     "checksum": "38249016e39bdd22550d0c3fa0d215b1",
     "grade": false,
     "grade_id": "cell-c6b82f7eb95d184f",
     "locked": true,
     "schema_version": 3,
     "solution": false,
     "task": false
    }
   },
   "source": [
    "**Task 1a:** Code up a GP class, which we need for Bayesian optimization. For the kernel, we use an Squared Exponential kernel. "
   ]
  },
  {
   "cell_type": "code",
   "execution_count": 56,
   "metadata": {
    "deletable": false,
    "nbgrader": {
     "cell_type": "code",
     "checksum": "ddacb9710286696f34108a7a3467cdaf",
     "grade": false,
     "grade_id": "cell-2f5c55457947b127",
     "locked": false,
     "schema_version": 3,
     "solution": true,
     "task": false
    },
    "tags": []
   },
   "outputs": [],
   "source": [
    "class GP():\n",
    "    \"\"\"\n",
    "    Class for a GP model\n",
    "    \"\"\"\n",
    "    def __init__(self, data, sigma2, length_scale=1., variance=1.):\n",
    "        \"\"\"\n",
    "        Initialize your GP class.\n",
    "        Parameters\n",
    "        ----------\n",
    "        data : Tuple of regression data input and observation e.g. (X, y).\n",
    "        sigma2 : likelihood variance with dtype float.\n",
    "        length_scale: Kernel lengthscale with dtype float.\n",
    "        variance: Kernel variance with dtype float.\n",
    "        \"\"\"\n",
    "        self.data = data\n",
    "        self.sigma2 = sigma2\n",
    "        self.length_scale = length_scale\n",
    "        self.variance = variance\n",
    "       \n",
    "\n",
    "    def kernel(self, X1, X2):\n",
    "        \"\"\"\n",
    "        Return the kernel matrix K.\n",
    "        \n",
    "        Parameters\n",
    "        ----------\n",
    "        X1 : ndarray of shape (N, 1)\n",
    "        X2 : ndarray of shape (M, 1)\n",
    "        Returns\n",
    "        -------\n",
    "        K : ndarray of shape (N, M)\n",
    "        \"\"\"\n",
    "        # YOUR CODE HERE\n",
    "        \n",
    "        print(X1.shape)\n",
    "        print(X2.shape)\n",
    "        sqdist = np.sum(X1**2, axis=1, keepdims=True) - 2*np.dot(X1, X2.T) + np.sum(X2**2, axis=1)\n",
    "        K = self.variance * np.exp(-0.5 * sqdist / self.length_scale**2)\n",
    "        return K\n",
    "        #raise NotImplementedError()\n",
    "\n",
    "\n",
    "    def predict_f(self, x_new):\n",
    "        \"\"\"\n",
    "        Return the mean and marginal variance of GP model.\n",
    "        \n",
    "        Parameters\n",
    "        ----------\n",
    "        x_new : ndarray of shape (P, 1)\n",
    "        \n",
    "        Returns\n",
    "        -------\n",
    "        m : ndarray of shape (P, 1)\n",
    "        v : ndarray of shape (P, 1)\n",
    "        \"\"\"\n",
    "        # YOUR CODE HERE\n",
    "        \n",
    "        X, y = self.data\n",
    "        jitter = 1e-6*self.variance\n",
    "        K = self.kernel(X, X)  \n",
    "        K += self.sigma2 * np.eye(K.shape[0]) + jitter * np.eye(K.shape[0])\n",
    "        K_s = self.kernel(X, x_new)       \n",
    "        K_ss = self.kernel(x_new, x_new)\n",
    "        \n",
    "\n",
    "        L = np.linalg.cholesky(K)  \n",
    "\n",
    "\n",
    "        z = np.linalg.solve(L,y)\n",
    "\n",
    "        alpha = np.linalg.solve(L.T, z)\n",
    "\n",
    "        m = np.dot(K_s.T, alpha)\n",
    "\n",
    "        v_temp = np.linalg.solve(L, K_s)\n",
    "        \n",
    "        pred_var = np.diag(K_ss) - np.sum(v_temp**2, axis=0)\n",
    "        \n",
    "        m = m.reshape(-1, 1)\n",
    "        pred_var = pred_var.reshape(-1, 1)\n",
    "        \n",
    "        return m, pred_var\n",
    "        #raise NotImplementedError()\n"
   ]
  },
  {
   "cell_type": "markdown",
   "metadata": {
    "deletable": false,
    "editable": false,
    "nbgrader": {
     "cell_type": "markdown",
     "checksum": "307ee01a5f5ef55d2ca21ea690e493bd",
     "grade": false,
     "grade_id": "cell-bf7b0c622fc483f2",
     "locked": true,
     "schema_version": 3,
     "solution": false,
     "task": false
    }
   },
   "source": [
    "Let's test the above function:"
   ]
  },
  {
   "cell_type": "code",
   "execution_count": 57,
   "metadata": {
    "deletable": false,
    "editable": false,
    "nbgrader": {
     "cell_type": "code",
     "checksum": "2b6e0915adf16b9416b50259cb91e9ad",
     "grade": false,
     "grade_id": "cell-ba019bfb626b62d6",
     "locked": true,
     "schema_version": 3,
     "solution": false,
     "task": false
    },
    "tags": []
   },
   "outputs": [
    {
     "name": "stdout",
     "output_type": "stream",
     "text": [
      "(2, 1)\n",
      "(3, 1)\n",
      "(2, 1)\n",
      "(2, 1)\n",
      "(2, 1)\n",
      "(3, 1)\n",
      "(3, 1)\n",
      "(3, 1)\n"
     ]
    }
   ],
   "source": [
    "test_x = 2 * np.ones((2, 1))\n",
    "test_y = .45 * np.ones((2, 1))\n",
    "\n",
    "test_gp_model = GP(data=(test_x, test_y), sigma2=0.23, length_scale=0.5, variance=0.2)\n",
    "\n",
    "# Test Kernel \n",
    "test_X1 = 1.46 * np.ones((2, 1))\n",
    "test_X2 = 0.52 * np.ones((3, 1))\n",
    "test_kernel_val = test_gp_model.kernel(test_X1, test_X2)\n",
    "expected_kernel_val = np.array([\n",
    "        [0.0342, 0.0342, 0.0342],\n",
    "        [0.0342, 0.0342, 0.0342]\n",
    "    ])\n",
    "assert test_kernel_val.shape == (2, 3)\n",
    "np.testing.assert_allclose(expected_kernel_val, test_kernel_val, rtol=1e-3, atol=1e-3)\n",
    "\n",
    "# Test predict_f\n",
    "test_m, test_S = test_gp_model.predict_f(test_X2)\n",
    "assert test_m.shape == (3, 1)\n",
    "assert test_S.shape == (3, 1)\n",
    "expected_m = np.array([[0.00357581], [0.00357581], [0.00357581]])\n",
    "expected_S = np.array([[0.19998011], [0.19998011], [0.19998011]])\n",
    "np.testing.assert_allclose(expected_m, test_m, rtol=1e-3, atol=1e-3)\n",
    "np.testing.assert_allclose(expected_S, test_S, rtol=1e-3, atol=1e-3)"
   ]
  },
  {
   "cell_type": "markdown",
   "metadata": {
    "deletable": false,
    "editable": false,
    "nbgrader": {
     "cell_type": "markdown",
     "checksum": "69fe7f0e2fea8095138ec996f3e03972",
     "grade": false,
     "grade_id": "cell-f2e69b915f81483e",
     "locked": true,
     "schema_version": 3,
     "solution": false,
     "task": false
    }
   },
   "source": [
    "#### Do not move or delete the below two blocks. It is used for automatic grading."
   ]
  },
  {
   "cell_type": "code",
   "execution_count": null,
   "metadata": {
    "deletable": false,
    "editable": false,
    "nbgrader": {
     "cell_type": "code",
     "checksum": "306010a82efc31563e267654edf7e77e",
     "grade": true,
     "grade_id": "cell-d84bab37a35d3fd3",
     "locked": true,
     "points": 0.5,
     "schema_version": 3,
     "solution": false,
     "task": false
    },
    "tags": []
   },
   "outputs": [],
   "source": []
  },
  {
   "cell_type": "code",
   "execution_count": null,
   "metadata": {
    "deletable": false,
    "editable": false,
    "nbgrader": {
     "cell_type": "code",
     "checksum": "9941476c0d7ae2f83d285218debf10f6",
     "grade": true,
     "grade_id": "cell-bd01a557534cfb32",
     "locked": true,
     "points": 0.5,
     "schema_version": 3,
     "solution": false,
     "task": false
    },
    "tags": []
   },
   "outputs": [],
   "source": []
  },
  {
   "cell_type": "markdown",
   "metadata": {
    "deletable": false,
    "editable": false,
    "nbgrader": {
     "cell_type": "markdown",
     "checksum": "d80038ef5ece4ee6868602eeed963d68",
     "grade": false,
     "grade_id": "cell-caa23aa63ecf8fb3",
     "locked": true,
     "schema_version": 3,
     "solution": false,
     "task": false
    }
   },
   "source": [
    "**Task 1b)** Implement the UCB acquisiton function."
   ]
  },
  {
   "cell_type": "code",
   "execution_count": 58,
   "metadata": {
    "deletable": false,
    "nbgrader": {
     "cell_type": "code",
     "checksum": "c46e8eb73e5788e6778bb783f8c2d725",
     "grade": false,
     "grade_id": "cell-1dc232296d89a49a",
     "locked": false,
     "schema_version": 3,
     "solution": true,
     "task": false
    },
    "tags": []
   },
   "outputs": [],
   "source": [
    "def UCB(mean, std, beta=1.0):\n",
    "    \"\"\"\n",
    "    Implement the UCB acquisition function.\n",
    "\n",
    "    mean: np.ndarray of shape (N, 1)\n",
    "    std: np.ndarray of shape (N, 1)\n",
    "    beta: float value.\n",
    "\n",
    "    return: np.ndarray of shape (N, 1)\n",
    "    \"\"\"\n",
    "    # YOUR CODE HERE\n",
    "    return mean + beta * std\n",
    "    #raise NotImplementedError()"
   ]
  },
  {
   "cell_type": "markdown",
   "metadata": {
    "deletable": false,
    "editable": false,
    "nbgrader": {
     "cell_type": "markdown",
     "checksum": "e6887315439db790102b01c8fd12a645",
     "grade": false,
     "grade_id": "cell-11f5fd9108bd91a0",
     "locked": true,
     "schema_version": 3,
     "solution": false,
     "task": false
    }
   },
   "source": [
    "Let's test the above function:"
   ]
  },
  {
   "cell_type": "code",
   "execution_count": 59,
   "metadata": {
    "deletable": false,
    "editable": false,
    "nbgrader": {
     "cell_type": "code",
     "checksum": "f5fbf432ffb2bc6622b5f8090db45ec7",
     "grade": false,
     "grade_id": "cell-cbfb921f5657c564",
     "locked": true,
     "schema_version": 3,
     "solution": false,
     "task": false
    },
    "tags": []
   },
   "outputs": [],
   "source": [
    "test_mean = 1.2 * np.ones((5, 1))\n",
    "test_std = .5 * np.ones((5, 1))\n",
    "test_beta = 0.3\n",
    "\n",
    "test_ucb_val = UCB(test_mean, test_std, beta=test_beta)\n",
    "expected_ucb_val = np.array([[1.35], [1.35], [1.35], [1.35],[1.35]])\n",
    "assert test_ucb_val.shape == (5, 1)\n",
    "np.testing.assert_allclose(test_ucb_val, expected_ucb_val, atol=1e-5)"
   ]
  },
  {
   "cell_type": "markdown",
   "metadata": {
    "deletable": false,
    "editable": false,
    "nbgrader": {
     "cell_type": "markdown",
     "checksum": "fea9c1ca0ca31bbb3059214c9c158548",
     "grade": false,
     "grade_id": "cell-11c661bc1e16e57f",
     "locked": true,
     "schema_version": 3,
     "solution": false,
     "task": false
    }
   },
   "source": [
    "#### Do not move or delete the below two blocks. It is used for automatic grading."
   ]
  },
  {
   "cell_type": "code",
   "execution_count": null,
   "metadata": {
    "deletable": false,
    "editable": false,
    "nbgrader": {
     "cell_type": "code",
     "checksum": "adbd0c9c8b89ea9206c5f9aa89935b95",
     "grade": true,
     "grade_id": "cell-b445fa9d13d231f5",
     "locked": true,
     "points": 0.5,
     "schema_version": 3,
     "solution": false,
     "task": false
    },
    "tags": []
   },
   "outputs": [],
   "source": []
  },
  {
   "cell_type": "markdown",
   "metadata": {
    "deletable": false,
    "editable": false,
    "nbgrader": {
     "cell_type": "markdown",
     "checksum": "484f64dbe7ee36aeaaa353a6a832f4b0",
     "grade": false,
     "grade_id": "cell-737ac3fe52a71c5a",
     "locked": true,
     "schema_version": 3,
     "solution": false,
     "task": false
    }
   },
   "source": [
    "Next, we define a multi-modal function that we are going to use to see the samples from the UCB acquisiton function."
   ]
  },
  {
   "cell_type": "code",
   "execution_count": 60,
   "metadata": {
    "tags": []
   },
   "outputs": [],
   "source": [
    "N_data = 2"
   ]
  },
  {
   "cell_type": "code",
   "execution_count": 61,
   "metadata": {
    "deletable": false,
    "editable": false,
    "nbgrader": {
     "cell_type": "code",
     "checksum": "3e09a2008cdce6860faa787e40db31aa",
     "grade": false,
     "grade_id": "cell-5eda4e81fa03558e",
     "locked": true,
     "schema_version": 3,
     "solution": false,
     "task": false
    },
    "tags": []
   },
   "outputs": [
    {
     "data": {
      "image/png": "[encoded data removed]",
      "text/plain": [
       "<Figure size 640x480 with 1 Axes>"
      ]
     },
     "metadata": {},
     "output_type": "display_data"
    }
   ],
   "source": [
    "def multimodal_func_1(x):\n",
    "    return 5 * (1.5*np.sin(x) + np.sin(5 * x)) * 0.1*np.exp(-np.abs(0.5*x))\n",
    "\n",
    "# Create grid and sample some observations from the function between [-4, 4]\n",
    "N = 100\n",
    "X = np.linspace(-4,4,N)[..., None]\n",
    "np.random.seed(12345)\n",
    "X_data = np.random.uniform(-4, 4, N_data)[..., None]\n",
    "Y_data = multimodal_func_1(X_data)\n",
    "\n",
    "# Plotting \n",
    "plt.plot(X, multimodal_func_1(X), label=\"Function to optimize\")\n",
    "plt.scatter(X_data, Y_data, color=\"black\", label=\"Observations\")\n",
    "plt.legend()\n",
    "plt.show()"
   ]
  },
  {
   "cell_type": "markdown",
   "metadata": {
    "deletable": false,
    "editable": false,
    "nbgrader": {
     "cell_type": "markdown",
     "checksum": "b443448c9a00532ea75cf5bda0ab6a70",
     "grade": false,
     "grade_id": "cell-79538e39400272d3",
     "locked": true,
     "schema_version": 3,
     "solution": false,
     "task": false
    }
   },
   "source": [
    "**Task 1c)** Complete the function below to condition the GP on the `(X_train, Y_train)` and return the posterior for the `X`."
   ]
  },
  {
   "cell_type": "code",
   "execution_count": 62,
   "metadata": {
    "deletable": false,
    "nbgrader": {
     "cell_type": "code",
     "checksum": "5e562b3d8989583e7d5941b9bc1ed94c",
     "grade": false,
     "grade_id": "cell-0b23827617786761",
     "locked": false,
     "schema_version": 3,
     "solution": true,
     "task": false
    },
    "tags": []
   },
   "outputs": [],
   "source": [
    "def get_gp_posterior(X_train, Y_train, X, kernel_lengthscale, kernel_variance, sigma2):\n",
    "    \"\"\"\n",
    "    Condition a GP on the data, (X_train, Y_train) using the RBF kernel with the parameters passed to the function.\n",
    "\n",
    "    return the prediction posterior i.e. posterior mean and posterior variance\n",
    "\n",
    "    args: \n",
    "    \n",
    "    X_train of shape (N, 1)\n",
    "    Y_train of shape (N, 1)\n",
    "    X of shape (P, 1)\n",
    "    lengthscale, variance, and sigma2 are floats.\n",
    "\n",
    "    return posterior mean and posterior variance of the shape (N, 1)\n",
    "    \"\"\"\n",
    "    # YOUR CODE HERE\n",
    "    gp_model = GP((X_train, Y_train), sigma2, length_scale=kernel_lengthscale, variance=kernel_variance)\n",
    "    \n",
    "    post_means, post_vars = gp_model.predict_f(X)\n",
    "    #raise NotImplementedError()\n",
    "    return post_means, post_vars\n",
    "    "
   ]
  },
  {
   "cell_type": "markdown",
   "metadata": {
    "deletable": false,
    "editable": false,
    "nbgrader": {
     "cell_type": "markdown",
     "checksum": "0f75404bf3d560a6ee70de38e48d03d1",
     "grade": false,
     "grade_id": "cell-7cae68cd60376845",
     "locked": true,
     "schema_version": 3,
     "solution": false,
     "task": false
    }
   },
   "source": [
    "Let's test the above function:"
   ]
  },
  {
   "cell_type": "code",
   "execution_count": 63,
   "metadata": {
    "deletable": false,
    "editable": false,
    "nbgrader": {
     "cell_type": "code",
     "checksum": "352f8a23b733ab29783072767fa22e83",
     "grade": false,
     "grade_id": "cell-2fec4a1e63ab63df",
     "locked": true,
     "schema_version": 3,
     "solution": false,
     "task": false
    },
    "tags": []
   },
   "outputs": [
    {
     "name": "stdout",
     "output_type": "stream",
     "text": [
      "(2, 1)\n",
      "(2, 1)\n",
      "(2, 1)\n",
      "(3, 1)\n",
      "(3, 1)\n",
      "(3, 1)\n"
     ]
    }
   ],
   "source": [
    "X_train_test = np.ones((2, 1))\n",
    "Y_train_test = np.zeros((2, 1))\n",
    "X_test = 1.2 * np.ones((3, 1))\n",
    "\n",
    "test_post_m, test_post_S = get_gp_posterior(X_train_test, Y_train_test, X_test, \n",
    "                                            0.5, 0.6, 0.003)\n",
    "\n",
    "assert test_post_m.shape == (3, 1)\n",
    "assert test_post_S.shape == (3, 1)\n",
    "\n",
    "np.testing.assert_allclose(test_post_m, np.zeros_like(test_post_m), atol=1e-5, rtol=1e-5)\n",
    "np.testing.assert_allclose(test_post_S, 0.089989 * np.ones_like(test_post_S), atol=1e-5, rtol=1e-5)"
   ]
  },
  {
   "cell_type": "markdown",
   "metadata": {
    "deletable": false,
    "editable": false,
    "nbgrader": {
     "cell_type": "markdown",
     "checksum": "01f276b8b18ccab7074a2a46444eed37",
     "grade": false,
     "grade_id": "cell-a3a57fffb24580e4",
     "locked": true,
     "schema_version": 3,
     "solution": false,
     "task": false
    }
   },
   "source": [
    "#### Do not move or delete the below block. It is used for automatic grading."
   ]
  },
  {
   "cell_type": "code",
   "execution_count": null,
   "metadata": {
    "deletable": false,
    "editable": false,
    "nbgrader": {
     "cell_type": "code",
     "checksum": "29d503e9357ec41396475d9696158e5d",
     "grade": true,
     "grade_id": "cell-4b0af2aa53464701",
     "locked": true,
     "points": 0.5,
     "schema_version": 3,
     "solution": false,
     "task": false
    },
    "tags": []
   },
   "outputs": [],
   "source": []
  },
  {
   "cell_type": "markdown",
   "metadata": {
    "deletable": false,
    "editable": false,
    "nbgrader": {
     "cell_type": "markdown",
     "checksum": "d8f36e097202e82c5225c51d3455f6b5",
     "grade": false,
     "grade_id": "cell-e0070a718a1afefd",
     "locked": true,
     "schema_version": 3,
     "solution": false,
     "task": false
    }
   },
   "source": [
    "Next, we plot the acquisiton function evaluated on our initial dataset. "
   ]
  },
  {
   "cell_type": "code",
   "execution_count": 64,
   "metadata": {
    "deletable": false,
    "editable": false,
    "nbgrader": {
     "cell_type": "code",
     "checksum": "af4553c9418a33ab51d4ead4ab46a579",
     "grade": false,
     "grade_id": "cell-c490e45fc01651be",
     "locked": true,
     "schema_version": 3,
     "solution": false,
     "task": false
    },
    "tags": []
   },
   "outputs": [
    {
     "name": "stdout",
     "output_type": "stream",
     "text": [
      "(2, 1)\n",
      "(2, 1)\n",
      "(2, 1)\n",
      "(100, 1)\n",
      "(100, 1)\n",
      "(100, 1)\n"
     ]
    },
    {
     "data": {
      "image/png": "[encoded data removed]",
      "text/plain": [
       "<Figure size 640x480 with 1 Axes>"
      ]
     },
     "metadata": {},
     "output_type": "display_data"
    }
   ],
   "source": [
    "def plot_posterior(X_data, Y_data, X):\n",
    "    post_means, post_vars = get_gp_posterior(X_data, Y_data, X, 0.4, 0.5, 0.0001)\n",
    "    \n",
    "    # Plotting\n",
    "    plt.plot(X, multimodal_func_1(X), \"blue\")\n",
    "    plt.scatter(X_data, Y_data, s=45, color=\"black\")\n",
    "    plt.plot(X, post_means, c='green')\n",
    "    plt.fill_between(X.squeeze(), (post_means + np.sqrt(post_vars)).reshape((-1,)), \n",
    "                     (post_means - np.sqrt(post_vars)).reshape((-1,)), alpha=0.2, \n",
    "                     color='green')\n",
    "    plt.legend([\"Original function\", \"Observed data\", \"GP posterior\"])\n",
    "    plt.show()\n",
    "\n",
    "plot_posterior(X_data, Y_data, X)"
   ]
  },
  {
   "cell_type": "markdown",
   "metadata": {
    "deletable": false,
    "editable": false,
    "nbgrader": {
     "cell_type": "markdown",
     "checksum": "bf44b716237e2c608570388090de08ad",
     "grade": false,
     "grade_id": "cell-9601a5eb46e4a5fe",
     "locked": true,
     "schema_version": 3,
     "solution": false,
     "task": false
    }
   },
   "source": [
    "**Task 1d** Plot the acquisition function with different values of beta variable in UCB."
   ]
  },
  {
   "cell_type": "code",
   "execution_count": 65,
   "metadata": {
    "deletable": false,
    "nbgrader": {
     "cell_type": "code",
     "checksum": "ce3ac7cb85a404e2e850fe31f75098b5",
     "grade": false,
     "grade_id": "cell-369fcf669d82100a",
     "locked": false,
     "schema_version": 3,
     "solution": true,
     "task": false
    },
    "tags": []
   },
   "outputs": [
    {
     "name": "stdout",
     "output_type": "stream",
     "text": [
      "(2, 1)\n",
      "(2, 1)\n",
      "(2, 1)\n",
      "(100, 1)\n",
      "(100, 1)\n",
      "(100, 1)\n"
     ]
    },
    {
     "data": {
      "image/png": "[encoded data removed]",
      "text/plain": [
       "<Figure size 1000x600 with 1 Axes>"
      ]
     },
     "metadata": {},
     "output_type": "display_data"
    }
   ],
   "source": [
    "beta_vals = [0.1, 0.4, 0.8, 1.0, 1.5]\n",
    "kernel_lengthscale = 0.4\n",
    "kernel_variance = 0.5 \n",
    "sigma2 = 0.0001\n",
    "\n",
    "# YOUR CODE HERE\n",
    "post_means, post_vars = get_gp_posterior(X_data, Y_data, X, kernel_lengthscale, kernel_variance, sigma2)\n",
    "plt.figure(figsize=(10, 6))\n",
    "for beta in beta_vals:\n",
    "    \n",
    "    acquisition = UCB(post_means, post_vars**0.5, beta=beta)\n",
    "    plt.plot(X, acquisition, label=f\"UCB (beta = {beta})\")\n",
    "#raise NotImplementedError()\n",
    "\n",
    "plt.scatter(X_data, Y_data, s=45, color=\"black\")\n",
    "plt.legend()\n",
    "plt.show()"
   ]
  },
  {
   "cell_type": "markdown",
   "metadata": {
    "deletable": false,
    "editable": false,
    "nbgrader": {
     "cell_type": "markdown",
     "checksum": "c08b2ec6592544c7d0745e51d74be470",
     "grade": false,
     "grade_id": "cell-aa4ee19349a1b811",
     "locked": true,
     "schema_version": 3,
     "solution": false,
     "task": false
    }
   },
   "source": [
    "**Task 1e)** What does the beta parameter in the UCB acquisition function handle?\n",
    "\n",
    "1) Feature selection\n",
    "2) Regularization\n",
    "3) Exploration and exploitation\n",
    "4) Sampling and accuracy"
   ]
  },
  {
   "cell_type": "code",
   "execution_count": 66,
   "metadata": {
    "tags": []
   },
   "outputs": [],
   "source": [
    "a_1e = 3  # Replace with the answer: 1, 2, 3, 4"
   ]
  },
  {
   "cell_type": "code",
   "execution_count": 67,
   "metadata": {
    "deletable": false,
    "editable": false,
    "nbgrader": {
     "cell_type": "code",
     "checksum": "6ccd3044321c1d4527099a25bf4114cf",
     "grade": false,
     "grade_id": "cell-35083110d66c9c7a",
     "locked": true,
     "schema_version": 3,
     "solution": false,
     "task": false
    },
    "tags": []
   },
   "outputs": [],
   "source": [
    "assert a_1e in [1, 2, 3, 4]"
   ]
  },
  {
   "cell_type": "markdown",
   "metadata": {},
   "source": [
    "#### Do not move or delete the below block. It is used for automatic grading."
   ]
  },
  {
   "cell_type": "code",
   "execution_count": null,
   "metadata": {
    "deletable": false,
    "editable": false,
    "nbgrader": {
     "cell_type": "code",
     "checksum": "d46752e3093f0610b4e3fd9654597b4e",
     "grade": true,
     "grade_id": "cell-e35867f063f58696",
     "locked": true,
     "points": 0.5,
     "schema_version": 3,
     "solution": false,
     "task": false
    },
    "tags": []
   },
   "outputs": [],
   "source": []
  },
  {
   "cell_type": "markdown",
   "metadata": {
    "deletable": false,
    "editable": false,
    "nbgrader": {
     "cell_type": "markdown",
     "checksum": "42a78c1517ad710ad14ad5ed7ac4aa46",
     "grade": false,
     "grade_id": "cell-db5fe2556c97ed9e",
     "locked": true,
     "schema_version": 3,
     "solution": false,
     "task": false
    }
   },
   "source": [
    "**Extra Task (No points):** Increase the number of data points and plot the posterior along with the samples from the UCB acquisition function. What difference do you see?"
   ]
  },
  {
   "cell_type": "code",
   "execution_count": null,
   "metadata": {},
   "outputs": [],
   "source": []
  },
  {
   "cell_type": "markdown",
   "metadata": {
    "deletable": false,
    "editable": false,
    "nbgrader": {
     "cell_type": "markdown",
     "checksum": "d395a9c307b9f0a7b4bf6923adc98423",
     "grade": false,
     "grade_id": "cell-65c2a3118e621e45",
     "locked": true,
     "schema_version": 3,
     "solution": false,
     "task": false
    }
   },
   "source": [
    "### Task 2: Bayesian Optimization (1.5 points)\n",
    "\n",
    "First, we define the function (Gramacy & Lee), which is the true function and will be used to simulate and get the observations. "
   ]
  },
  {
   "cell_type": "code",
   "execution_count": 68,
   "metadata": {
    "deletable": false,
    "editable": false,
    "nbgrader": {
     "cell_type": "code",
     "checksum": "afddafbb8d832f863b383bfdbba2d02c",
     "grade": false,
     "grade_id": "cell-5cb568858c9b49ad",
     "locked": true,
     "schema_version": 3,
     "solution": false,
     "task": false
    },
    "tags": []
   },
   "outputs": [],
   "source": [
    "def gramacy_lee(x):\n",
    "    \"\"\"\n",
    "    The Gramacy & Lee function, typically evaluated over :math:`[0.5, 2.5]`.\n",
    "    \n",
    "    :param x: Where to evaluate the function, with shape [N, 1].\n",
    "    :return: The function values, with shape [N, 1].\n",
    "    \"\"\"\n",
    "    return -(np.sin(10 * np.pi * x) / (2 * x) + (x - 1) ** 4)"
   ]
  },
  {
   "cell_type": "code",
   "execution_count": 69,
   "metadata": {
    "deletable": false,
    "editable": false,
    "nbgrader": {
     "cell_type": "code",
     "checksum": "bc7dc3afa5cf3e0dc1c10915a340fcad",
     "grade": false,
     "grade_id": "cell-7e949accc18cb9e3",
     "locked": true,
     "schema_version": 3,
     "solution": false,
     "task": false
    },
    "tags": []
   },
   "outputs": [
    {
     "data": {
      "image/png": "[encoded data removed]",
      "text/plain": [
       "<Figure size 640x480 with 1 Axes>"
      ]
     },
     "metadata": {},
     "output_type": "display_data"
    }
   ],
   "source": [
    "x_bo = np.linspace(0.5, 2.5, 100)[:, None]\n",
    "y_bo = gramacy_lee(x_bo)\n",
    "\n",
    "plt.plot(x_bo, y_bo)\n",
    "plt.show()"
   ]
  },
  {
   "cell_type": "markdown",
   "metadata": {
    "deletable": false,
    "editable": false,
    "nbgrader": {
     "cell_type": "markdown",
     "checksum": "8186911a5165492864576d04170adffb",
     "grade": false,
     "grade_id": "cell-26c61af3e6dd1675",
     "locked": true,
     "schema_version": 3,
     "solution": false,
     "task": false
    }
   },
   "source": [
    "Next, we write the Bayesian optimizatoon loop.\n",
    "\n",
    "**Task 2a)** Complete the below function."
   ]
  },
  {
   "cell_type": "code",
   "execution_count": 70,
   "metadata": {
    "deletable": false,
    "nbgrader": {
     "cell_type": "code",
     "checksum": "e6de54ce8ae148628cd5055cc1fb39d2",
     "grade": false,
     "grade_id": "cell-ff320908b948efbc",
     "locked": false,
     "schema_version": 3,
     "solution": true,
     "task": false
    },
    "tags": []
   },
   "outputs": [],
   "source": [
    "def bayes_optimization(x_bo, sigma2=0.0001, length_scale=0.1, variance=2, n_steps=10):\n",
    "    \"\"\"A Bayesian optimization loop.\n",
    "\n",
    "    x_bo: X range for the function.\n",
    "    sigma2: Likelihood variance\n",
    "    length_scale: Kernel length scale.\n",
    "    variance: Kernel variance.\n",
    "    n_steps: Bayesian optimization steps to take.\n",
    "    \n",
    "    Returns:\n",
    "    X_obs: An array of length N_obs_total, containing the chosen X points in order\n",
    "    Y_obs: An array of length N_obs_total, containing the function values corresponding to X_obs\n",
    "    \"\"\"\n",
    "    X_obs = np.array([2]) # Starting guess, this can be changed\n",
    "    Y_obs = gramacy_lee(X_obs)\n",
    "\n",
    "    for i in range(n_steps):\n",
    "        # YOUR CODE HERE\n",
    "        X_obs = X_obs[:, None]\n",
    "        Y_obs = Y_obs[:, None]\n",
    "        gp = GP(data=(X_obs, Y_obs), sigma2=sigma2, length_scale=length_scale, variance=variance)\n",
    "\n",
    "        # Predict posterior at candidate points\n",
    "        print(x_bo.shape)\n",
    "        mu, var = gp.predict_f(x_bo)  # x_bo is shape (N, 1)\n",
    "        std = np.sqrt(var)\n",
    "\n",
    "        # Compute UCB acquisition\n",
    "        beta = 1.0  # Could also change over time\n",
    "        acq = UCB(mu, std, beta=beta)  # Shape (N, 1)\n",
    "\n",
    "        # Choose next point\n",
    "        idx_next = np.argmax(acq)\n",
    "        x_next = x_bo[idx_next].reshape(1, -1)  # Shape (1, 1)\n",
    "\n",
    "        # Evaluate objective\n",
    "        y_next = gramacy_lee(x_next)  # Shape (1, 1)\n",
    "\n",
    "        # Append new observation\n",
    "        X_obs = np.vstack((X_obs, x_next))  # Stacks vertically, keeps shape (n+1, 1)\n",
    "        Y_obs = np.vstack((Y_obs, y_next))\n",
    "        \n",
    "    X_obs = X_obs.flatten() \n",
    "    Y_obs = Y_obs.flatten()\n",
    "        #raise NotImplementedError()\n",
    "    return X_obs, Y_obs\n"
   ]
  },
  {
   "cell_type": "markdown",
   "metadata": {
    "deletable": false,
    "editable": false,
    "nbgrader": {
     "cell_type": "markdown",
     "checksum": "61ec12da2542996ea333557e6d7c4b61",
     "grade": false,
     "grade_id": "cell-32f5aecf23b46a0d",
     "locked": true,
     "schema_version": 3,
     "solution": false,
     "task": false
    }
   },
   "source": [
    "Let's test the function."
   ]
  },
  {
   "cell_type": "code",
   "execution_count": 71,
   "metadata": {
    "deletable": false,
    "editable": false,
    "nbgrader": {
     "cell_type": "code",
     "checksum": "82e378423459b1695db6cc6fd16e6f2c",
     "grade": false,
     "grade_id": "cell-78b730bf7b673566",
     "locked": true,
     "schema_version": 3,
     "solution": false,
     "task": false
    },
    "tags": []
   },
   "outputs": [
    {
     "name": "stdout",
     "output_type": "stream",
     "text": [
      "(3, 1)\n",
      "(1, 1)\n",
      "(1, 1)\n",
      "(1, 1)\n",
      "(3, 1)\n",
      "(3, 1)\n",
      "(3, 1)\n"
     ]
    }
   ],
   "source": [
    "x_bo_test = np.array([1, 2, 3])[..., None]\n",
    "x_test_obs, y_test_obs = bayes_optimization(x_bo_test, sigma2=.2, length_scale=.4, \n",
    "                                            variance=.7, n_steps=1)\n",
    "np.testing.assert_almost_equal(x_test_obs, np.array([2, 1]))\n",
    "np.testing.assert_almost_equal(y_test_obs, np.array([-1, 6.123234e-16]))"
   ]
  },
  {
   "cell_type": "markdown",
   "metadata": {
    "deletable": false,
    "editable": false,
    "nbgrader": {
     "cell_type": "markdown",
     "checksum": "97d0f313dce5c4c2410ffb6bb9dc44cd",
     "grade": false,
     "grade_id": "cell-021656688dc09d3d",
     "locked": true,
     "schema_version": 3,
     "solution": false,
     "task": false
    }
   },
   "source": [
    "#### Do not move or delete the below block. It is used for automatic grading."
   ]
  },
  {
   "cell_type": "code",
   "execution_count": null,
   "metadata": {
    "deletable": false,
    "editable": false,
    "nbgrader": {
     "cell_type": "code",
     "checksum": "558c88bd7601bdcbd1af10253f191683",
     "grade": true,
     "grade_id": "cell-d2e9a9e10199b586",
     "locked": true,
     "points": 1,
     "schema_version": 3,
     "solution": false,
     "task": false
    },
    "tags": []
   },
   "outputs": [],
   "source": []
  },
  {
   "cell_type": "markdown",
   "metadata": {
    "deletable": false,
    "editable": false,
    "nbgrader": {
     "cell_type": "markdown",
     "checksum": "afca2c15278b378d39409b89be513fc9",
     "grade": false,
     "grade_id": "cell-735cf3098aaa52ef",
     "locked": true,
     "schema_version": 3,
     "solution": false,
     "task": false
    }
   },
   "source": [
    "Next, we plot the BO results.\n",
    "\n",
    "Below plotting code is complete. However, you can play with the hyperparameter values to see their impact. "
   ]
  },
  {
   "cell_type": "code",
   "execution_count": 72,
   "metadata": {
    "tags": []
   },
   "outputs": [],
   "source": [
    "def plot_bo_results(X_obs, Y_obs, x_bo, sigma2=0.0001, length_scale=0.1, variance=2):\n",
    "    fig, ax = plt.subplots(2, 5, figsize=(24, 10))\n",
    "    for i in range(1, 11):\n",
    "        x_ = (i-1) % 5\n",
    "        y_ = (i-1) // 5\n",
    "        post_means, post_vars = GP((X_obs[:i, None], Y_obs[:i, None]), \n",
    "                               sigma2, length_scale, variance).predict_f(x_bo)\n",
    "        post_means, post_vars = post_means.squeeze(), post_vars.squeeze()\n",
    "        \n",
    "        ax[y_,x_].plot(X_obs[:i], Y_obs[:i], 'o')\n",
    "        ax[y_,x_].plot(x_bo, y_bo)\n",
    "        ax[y_,x_].plot(x_bo, post_means)\n",
    "        ax[y_,x_].fill_between(x_bo.squeeze(), post_means + np.sqrt(post_vars), post_means - np.sqrt(post_vars), alpha=0.2)\n",
    "        ax[y_,x_].plot(x_bo, UCB(post_means, np.sqrt(post_vars)))\n",
    "        ax[y_,x_].set_title(f\"{i} iteration\")\n",
    "\n",
    "    plt.show()"
   ]
  },
  {
   "cell_type": "code",
   "execution_count": 73,
   "metadata": {
    "tags": []
   },
   "outputs": [
    {
     "name": "stdout",
     "output_type": "stream",
     "text": [
      "(100, 1)\n",
      "(1, 1)\n",
      "(1, 1)\n",
      "(1, 1)\n",
      "(100, 1)\n",
      "(100, 1)\n",
      "(100, 1)\n",
      "(100, 1)\n",
      "(2, 1, 1)\n",
      "(2, 1, 1)\n",
      "(2, 1, 1)\n",
      "(100, 1)\n",
      "(100, 1)\n",
      "(100, 1)\n"
     ]
    },
    {
     "ename": "LinAlgError",
     "evalue": "Matrix is not positive definite",
     "output_type": "error",
     "traceback": [
      "\u001b[0;31m---------------------------------------------------------------------------\u001b[0m",
      "\u001b[0;31mLinAlgError\u001b[0m                               Traceback (most recent call last)",
      "Cell \u001b[0;32mIn[73], line 4\u001b[0m\n\u001b[1;32m      2\u001b[0m length_scale \u001b[38;5;241m=\u001b[39m \u001b[38;5;241m0.1\u001b[39m\n\u001b[1;32m      3\u001b[0m variance \u001b[38;5;241m=\u001b[39m \u001b[38;5;241m2\u001b[39m\n\u001b[0;32m----> 4\u001b[0m X_obs, Y_obs \u001b[38;5;241m=\u001b[39m \u001b[43mbayes_optimization\u001b[49m\u001b[43m(\u001b[49m\u001b[43mx_bo\u001b[49m\u001b[43m,\u001b[49m\u001b[43m \u001b[49m\u001b[43msigma2\u001b[49m\u001b[43m,\u001b[49m\u001b[43m \u001b[49m\u001b[43mlength_scale\u001b[49m\u001b[43m,\u001b[49m\u001b[43m \u001b[49m\u001b[43mvariance\u001b[49m\u001b[43m,\u001b[49m\u001b[43m \u001b[49m\u001b[43mn_steps\u001b[49m\u001b[38;5;241;43m=\u001b[39;49m\u001b[38;5;241;43m10\u001b[39;49m\u001b[43m)\u001b[49m\n\u001b[1;32m      5\u001b[0m plot_bo_results(X_obs, Y_obs, x_bo, sigma2, length_scale, variance)\n",
      "Cell \u001b[0;32mIn[70], line 25\u001b[0m, in \u001b[0;36mbayes_optimization\u001b[0;34m(x_bo, sigma2, length_scale, variance, n_steps)\u001b[0m\n\u001b[1;32m     23\u001b[0m \u001b[38;5;66;03m# Predict posterior at candidate points\u001b[39;00m\n\u001b[1;32m     24\u001b[0m \u001b[38;5;28mprint\u001b[39m(x_bo\u001b[38;5;241m.\u001b[39mshape)\n\u001b[0;32m---> 25\u001b[0m mu, var \u001b[38;5;241m=\u001b[39m \u001b[43mgp\u001b[49m\u001b[38;5;241;43m.\u001b[39;49m\u001b[43mpredict_f\u001b[49m\u001b[43m(\u001b[49m\u001b[43mx_bo\u001b[49m\u001b[43m)\u001b[49m  \u001b[38;5;66;03m# x_bo is shape (N, 1)\u001b[39;00m\n\u001b[1;32m     26\u001b[0m std \u001b[38;5;241m=\u001b[39m np\u001b[38;5;241m.\u001b[39msqrt(var)\n\u001b[1;32m     28\u001b[0m \u001b[38;5;66;03m# Compute UCB acquisition\u001b[39;00m\n",
      "Cell \u001b[0;32mIn[56], line 65\u001b[0m, in \u001b[0;36mGP.predict_f\u001b[0;34m(self, x_new)\u001b[0m\n\u001b[1;32m     62\u001b[0m K_s \u001b[38;5;241m=\u001b[39m \u001b[38;5;28mself\u001b[39m\u001b[38;5;241m.\u001b[39mkernel(X, x_new)       \n\u001b[1;32m     63\u001b[0m K_ss \u001b[38;5;241m=\u001b[39m \u001b[38;5;28mself\u001b[39m\u001b[38;5;241m.\u001b[39mkernel(x_new, x_new)       \n\u001b[0;32m---> 65\u001b[0m L \u001b[38;5;241m=\u001b[39m \u001b[43mnp\u001b[49m\u001b[38;5;241;43m.\u001b[39;49m\u001b[43mlinalg\u001b[49m\u001b[38;5;241;43m.\u001b[39;49m\u001b[43mcholesky\u001b[49m\u001b[43m(\u001b[49m\u001b[43mK\u001b[49m\u001b[43m \u001b[49m\u001b[38;5;241;43m+\u001b[39;49m\u001b[43mjitter\u001b[49m\u001b[43m \u001b[49m\u001b[38;5;241;43m*\u001b[39;49m\u001b[43m \u001b[49m\u001b[43mnp\u001b[49m\u001b[38;5;241;43m.\u001b[39;49m\u001b[43meye\u001b[49m\u001b[43m(\u001b[49m\u001b[43mK\u001b[49m\u001b[38;5;241;43m.\u001b[39;49m\u001b[43mshape\u001b[49m\u001b[43m[\u001b[49m\u001b[38;5;241;43m0\u001b[39;49m\u001b[43m]\u001b[49m\u001b[43m)\u001b[49m\u001b[43m)\u001b[49m  \n\u001b[1;32m     68\u001b[0m z \u001b[38;5;241m=\u001b[39m np\u001b[38;5;241m.\u001b[39mlinalg\u001b[38;5;241m.\u001b[39msolve(L,y)\n\u001b[1;32m     70\u001b[0m alpha \u001b[38;5;241m=\u001b[39m np\u001b[38;5;241m.\u001b[39mlinalg\u001b[38;5;241m.\u001b[39msolve(L\u001b[38;5;241m.\u001b[39mT, z)\n",
      "File \u001b[0;32m<__array_function__ internals>:180\u001b[0m, in \u001b[0;36mcholesky\u001b[0;34m(*args, **kwargs)\u001b[0m\n",
      "File \u001b[0;32m/opt/software/lib/python3.10/site-packages/numpy/linalg/linalg.py:770\u001b[0m, in \u001b[0;36mcholesky\u001b[0;34m(a)\u001b[0m\n\u001b[1;32m    768\u001b[0m t, result_t \u001b[38;5;241m=\u001b[39m _commonType(a)\n\u001b[1;32m    769\u001b[0m signature \u001b[38;5;241m=\u001b[39m \u001b[38;5;124m'\u001b[39m\u001b[38;5;124mD->D\u001b[39m\u001b[38;5;124m'\u001b[39m \u001b[38;5;28;01mif\u001b[39;00m isComplexType(t) \u001b[38;5;28;01melse\u001b[39;00m \u001b[38;5;124m'\u001b[39m\u001b[38;5;124md->d\u001b[39m\u001b[38;5;124m'\u001b[39m\n\u001b[0;32m--> 770\u001b[0m r \u001b[38;5;241m=\u001b[39m \u001b[43mgufunc\u001b[49m\u001b[43m(\u001b[49m\u001b[43ma\u001b[49m\u001b[43m,\u001b[49m\u001b[43m \u001b[49m\u001b[43msignature\u001b[49m\u001b[38;5;241;43m=\u001b[39;49m\u001b[43msignature\u001b[49m\u001b[43m,\u001b[49m\u001b[43m \u001b[49m\u001b[43mextobj\u001b[49m\u001b[38;5;241;43m=\u001b[39;49m\u001b[43mextobj\u001b[49m\u001b[43m)\u001b[49m\n\u001b[1;32m    771\u001b[0m \u001b[38;5;28;01mreturn\u001b[39;00m wrap(r\u001b[38;5;241m.\u001b[39mastype(result_t, copy\u001b[38;5;241m=\u001b[39m\u001b[38;5;28;01mFalse\u001b[39;00m))\n",
      "File \u001b[0;32m/opt/software/lib/python3.10/site-packages/numpy/linalg/linalg.py:92\u001b[0m, in \u001b[0;36m_raise_linalgerror_nonposdef\u001b[0;34m(err, flag)\u001b[0m\n\u001b[1;32m     91\u001b[0m \u001b[38;5;28;01mdef\u001b[39;00m \u001b[38;5;21m_raise_linalgerror_nonposdef\u001b[39m(err, flag):\n\u001b[0;32m---> 92\u001b[0m     \u001b[38;5;28;01mraise\u001b[39;00m LinAlgError(\u001b[38;5;124m\"\u001b[39m\u001b[38;5;124mMatrix is not positive definite\u001b[39m\u001b[38;5;124m\"\u001b[39m)\n",
      "\u001b[0;31mLinAlgError\u001b[0m: Matrix is not positive definite"
     ]
    }
   ],
   "source": [
    "sigma2 = 0.01\n",
    "length_scale = 0.1\n",
    "variance = 2\n",
    "X_obs, Y_obs = bayes_optimization(x_bo, sigma2, length_scale, variance, n_steps=10)\n",
    "plot_bo_results(X_obs, Y_obs, x_bo, sigma2, length_scale, variance)"
   ]
  },
  {
   "cell_type": "markdown",
   "metadata": {
    "deletable": false,
    "editable": false,
    "nbgrader": {
     "cell_type": "markdown",
     "checksum": "5f24ba87a606a18846589c5597915934",
     "grade": false,
     "grade_id": "cell-8ad28ecfe5e95b0e",
     "locked": true,
     "schema_version": 3,
     "solution": false,
     "task": false
    }
   },
   "source": [
    "Regret plots are common way to visualise and show how the BO loop performs against some maximum/minimum.\n",
    "\n",
    "You can choose the number of iterations but we suggest perhaps only a few initial points."
   ]
  },
  {
   "cell_type": "code",
   "execution_count": null,
   "metadata": {
    "deletable": false,
    "editable": false,
    "nbgrader": {
     "cell_type": "code",
     "checksum": "5463a9e786e00357f0cc46dbc4574e66",
     "grade": false,
     "grade_id": "cell-689aa5768ba37c1d",
     "locked": true,
     "schema_version": 3,
     "solution": false,
     "task": false
    },
    "tags": []
   },
   "outputs": [],
   "source": [
    "gramacy_lee_max = 0.548562  # We know the ground truth value"
   ]
  },
  {
   "cell_type": "code",
   "execution_count": null,
   "metadata": {
    "deletable": false,
    "editable": false,
    "nbgrader": {
     "cell_type": "code",
     "checksum": "dcd5193e0ddb59bb9fc3d787b4d62d1b",
     "grade": false,
     "grade_id": "cell-fa07ca8d6f37a465",
     "locked": true,
     "schema_version": 3,
     "solution": false,
     "task": false
    },
    "tags": []
   },
   "outputs": [],
   "source": [
    "def format_point_markers(\n",
    "    num_pts,\n",
    "    num_init,\n",
    "    idx_best=None,\n",
    "    mask_fail=None,\n",
    "    m_init=\"x\",\n",
    "    m_add=\"circle\",\n",
    "    c_pass=\"green\",\n",
    "    c_fail=\"red\",\n",
    "    c_best=\"darkmagenta\",\n",
    "):\n",
    "    \"\"\"\n",
    "    Prepares point marker styles according to some BO factors\n",
    "    :param num_pts: total number of BO points\n",
    "    :param num_init: initial number of BO points\n",
    "    :param idx_best: index of the best BO point\n",
    "    :param mask_fail: Boolean vector, True if the corresponding observation violates the constraint(s)\n",
    "    :param m_init: marker for the initial BO points\n",
    "    :param m_add: marker for the other BO points\n",
    "    :param c_pass: color for the regular BO points\n",
    "    :param c_fail: color for the failed BO points\n",
    "    :param c_best: color for the best BO points\n",
    "    :return: 2 string vectors col_pts, mark_pts containing marker styles and colors\n",
    "    \"\"\"\n",
    "\n",
    "    col_pts = np.repeat(c_pass, num_pts).astype(\"<U15\")\n",
    "    mark_pts = np.repeat(m_init, num_pts).astype(\"<U15\")\n",
    "    mark_pts[num_init:] = m_add\n",
    "    if mask_fail is not None:\n",
    "        col_pts[mask_fail] = c_fail\n",
    "    if idx_best is not None:\n",
    "        col_pts[idx_best] = c_best\n",
    "\n",
    "    return col_pts, mark_pts\n",
    "\n",
    "def plot_regret(\n",
    "    obs_values,\n",
    "    ax,\n",
    "    show_obs=True,\n",
    "    num_init=None,\n",
    "    mask_fail=None,\n",
    "    idx_best=None,\n",
    "    m_init=\"x\",\n",
    "    m_add=\"o\",\n",
    "    c_pass=\"tab:green\",\n",
    "    c_fail=\"tab:red\",\n",
    "    c_best=\"tab:purple\",\n",
    "):\n",
    "    \"\"\"\n",
    "    Draws the simple regret\n",
    "    :param obs_values:\n",
    "    :param ax:\n",
    "    :param show_obs:\n",
    "    :param num_init:\n",
    "    :param mask_fail:\n",
    "    :param idx_best:\n",
    "    :param m_init:\n",
    "    :param m_add:\n",
    "    :param c_pass:\n",
    "    :param c_fail:\n",
    "    :param c_best:\n",
    "    :return:\n",
    "    \"\"\"\n",
    "\n",
    "    col_pts, mark_pts = format_point_markers(\n",
    "        obs_values.shape[0], num_init, idx_best, mask_fail, m_init, m_add, c_pass, c_fail, c_best\n",
    "    )\n",
    "\n",
    "    safe_obs_values = obs_values.copy()\n",
    "    if mask_fail is not None:\n",
    "        safe_obs_values[mask_fail] = np.max(obs_values)\n",
    "\n",
    "    ax.plot(np.minimum.accumulate(safe_obs_values), color=\"tab:orange\")\n",
    "\n",
    "    if show_obs:\n",
    "        for i in range(obs_values.shape[0]):\n",
    "            ax.scatter(i, obs_values[i], c=col_pts[i], marker=mark_pts[i])\n",
    "\n",
    "    ax.axvline(x=num_init - 0.5, color=\"tab:blue\")"
   ]
  },
  {
   "cell_type": "markdown",
   "metadata": {
    "deletable": false,
    "editable": false,
    "nbgrader": {
     "cell_type": "markdown",
     "checksum": "36152cf92e025533c13da798100eb1f4",
     "grade": false,
     "grade_id": "cell-cc8aca16fd66e342",
     "locked": true,
     "schema_version": 3,
     "solution": false,
     "task": false
    }
   },
   "source": [
    "Now, we plot the regret for UCB acquisition function. Feel free to play with the hyperparameter values to see their impact. "
   ]
  },
  {
   "cell_type": "code",
   "execution_count": null,
   "metadata": {},
   "outputs": [],
   "source": [
    "sigma2 = 0.01\n",
    "length_scale = 0.1\n",
    "variance = 2\n",
    "\n",
    "X_obs, Y_obs = bayes_optimization(x_bo, sigma2=sigma2, length_scale=length_scale, variance=variance, n_steps=10)\n",
    "suboptimality = gramacy_lee_max - Y_obs\n",
    "\n",
    "plot_regret(suboptimality, plt, num_init=len(X_obs), idx_best=np.argmax(Y_obs))\n",
    "\n",
    "plt.title(\"Regret Plot\")\n",
    "plt.show()"
   ]
  },
  {
   "cell_type": "markdown",
   "metadata": {
    "deletable": false,
    "editable": false,
    "nbgrader": {
     "cell_type": "markdown",
     "checksum": "5266ea9dd5a641a79a12efe0410c78fe",
     "grade": false,
     "grade_id": "cell-43696e89b43184d0",
     "locked": true,
     "schema_version": 3,
     "solution": false,
     "task": false
    }
   },
   "source": [
    "**Task 2b:** From the plots above, what does the regret plot illustrate?\n",
    "\n",
    "1. The expected improvement in performance achieved by selecting optimal parameters.\n",
    "2. The trade-off between exploration and exploitation during the optimization process.\n",
    "3. The cumulative difference between the performance of the best observed point and the true optimum over time.\n",
    "4. The distribution of samples across the search space during the optimization."
   ]
  },
  {
   "cell_type": "code",
   "execution_count": null,
   "metadata": {},
   "outputs": [],
   "source": [
    "a_2b = None # Replace None with your answer [1, 2, 3, 4]"
   ]
  },
  {
   "cell_type": "code",
   "execution_count": null,
   "metadata": {
    "deletable": false,
    "editable": false,
    "nbgrader": {
     "cell_type": "code",
     "checksum": "1733b8709a95dab34034b7dd7b2f3f6d",
     "grade": false,
     "grade_id": "cell-225fa6f77023aba5",
     "locked": true,
     "schema_version": 3,
     "solution": false,
     "task": false
    }
   },
   "outputs": [],
   "source": [
    "assert a_2b in [1, 2, 3, 4]"
   ]
  },
  {
   "cell_type": "markdown",
   "metadata": {
    "deletable": false,
    "editable": false,
    "nbgrader": {
     "cell_type": "markdown",
     "checksum": "b8ee496b0acccc3e4535b0ab718bbc84",
     "grade": false,
     "grade_id": "cell-567b6269f473a8cc",
     "locked": true,
     "schema_version": 3,
     "solution": false,
     "task": false
    }
   },
   "source": [
    "#### Do not move or delete the below block. It is used for automatic grading."
   ]
  },
  {
   "cell_type": "code",
   "execution_count": null,
   "metadata": {
    "deletable": false,
    "editable": false,
    "nbgrader": {
     "cell_type": "code",
     "checksum": "4184b9ac2ec4131ca9853c9d6c50833f",
     "grade": true,
     "grade_id": "cell-8d8606602b9a9df2",
     "locked": true,
     "points": 0.5,
     "schema_version": 3,
     "solution": false,
     "task": false
    }
   },
   "outputs": [],
   "source": []
  },
  {
   "cell_type": "markdown",
   "metadata": {
    "deletable": false,
    "editable": false,
    "nbgrader": {
     "cell_type": "markdown",
     "checksum": "c28a097d23ac9b91c33893f8706c48ae",
     "grade": false,
     "grade_id": "cell-e697bf8f50160738",
     "locked": true,
     "schema_version": 3,
     "solution": false,
     "task": false
    }
   },
   "source": [
    "### Task 3: Gaussian process latent variable model (2 points)\n",
    "\n",
    "The GPLVM is a non-linear, kernelized, probabilistic variant of PCA. We start from input datapoints $\\mathbf{x} \\in \\mathbb{R}^D$ in a real-valued space $\\mathbb{R}^D$. Our goal is to find the embedding $\\mathbf{z} \\in \\mathbb{R}^Q$ for each datapoint $\\mathbf{x}$, where $Q < D$. The GPLVM was described in lecture 7. \n",
    "\n",
    "The key idea of GPLVM is to model the mapping from latent space to data space as a GP,\n",
    "\\begin{align}\n",
    "\\mathbf{x}(\\mathbf{z}) \\sim \\mathcal{GP}(m(\\mathbf{z}), k( \\mathbf{z}, \\mathbf{z}')),\n",
    "\\end{align}\n",
    "where each dimension $d = 1,\\ldots,D$ has its own univariate-output GP.\n",
    "\n",
    "The GPLVM has two main learning targets. In conventional GPLVM we optimize point estimates for $\\mathbf{Z},\\theta$ by maximum likelihood\n",
    "\\begin{align}\n",
    "\\mathrm{maximize} \\quad \\log p(\\mathbf{X} | \\mathbf{Z}, \\theta) \\propto -D/2 \\log | \\mathbf{K}_{ZZ}| - 1/2 tr( \\mathbf{K}_{ZZ}^{-1} \\mathbf{X} \\mathbf{X}^T),\n",
    "\\end{align}\n",
    "or by MAP\n",
    "\\begin{align}\n",
    "\\mathrm{maximize} \\quad \\log p(\\mathbf{X} | \\mathbf{Z}, \\theta) + \\log p(\\mathbf{Z}). \n",
    "\\end{align}\n",
    "\n",
    "Finally, the Bayesian GPLVM is a model where we also aim to marginalize the distribution of latent variables and infer the variational posterior $q(\\mathbf{Z})$ of the latent variables. This is useful since it gives an uncertainty (eg. $\\mathrm{var}[q(\\mathbf{Z})]$) for the embeddings.\n",
    "\n",
    "In this task you compare PCA, GPLVM and Bayesian GPLVM on \"oilflow\" dataset https://inverseprobability.com/3PhaseData. The dataset contains 1000 datapoints with 12 covariates, and are labelled into three categories. If you run into computational problems, you can use a subset of the data.\n",
    "\n",
    "You can use any GPLVM implementation available online. For this task, we recommend gpflow (tensorflow-based) because that's what we have tested on, but GPyTorch (torch-based) would likely be good as well. Both frameworks have helpful documentation and examples: See:\n",
    "- https://gpflow.github.io/GPflow/2.7.1/index.html\n",
    "- https://nbviewer.org/github/GPflow/GPflow/blob/develop-1.0/doc/source/notebooks/intro.ipynb?flush_cache=true. \n"
   ]
  },
  {
   "cell_type": "code",
   "execution_count": null,
   "metadata": {
    "deletable": false,
    "editable": false,
    "nbgrader": {
     "cell_type": "code",
     "checksum": "e517b8296cdf90bb332affc2ba99c114",
     "grade": false,
     "grade_id": "cell-2b906352e4a7e648",
     "locked": true,
     "schema_version": 3,
     "solution": false,
     "task": false
    }
   },
   "outputs": [],
   "source": [
    "# We start by loading the data\n",
    "data = pd.read_csv(\"DataTrn.txt\", header=None, sep='\\s+')[:1000]\n",
    "data.head()"
   ]
  },
  {
   "cell_type": "code",
   "execution_count": null,
   "metadata": {
    "deletable": false,
    "editable": false,
    "nbgrader": {
     "cell_type": "code",
     "checksum": "8883f5302cdfaf6b90aa0001356cb0d5",
     "grade": false,
     "grade_id": "cell-52be03330dbbfe70",
     "locked": true,
     "schema_version": 3,
     "solution": false,
     "task": false
    }
   },
   "outputs": [],
   "source": [
    "data.plot(0,2,'scatter')"
   ]
  },
  {
   "cell_type": "markdown",
   "metadata": {
    "deletable": false,
    "editable": false,
    "nbgrader": {
     "cell_type": "markdown",
     "checksum": "9cb114b6de209a7fe0870b62664a0333",
     "grade": false,
     "grade_id": "cell-e8580fae040301fa",
     "locked": true,
     "schema_version": 3,
     "solution": false,
     "task": false
    }
   },
   "source": [
    "**Task 3a:** Perform PCA and visualise the data using two principal components"
   ]
  },
  {
   "cell_type": "code",
   "execution_count": null,
   "metadata": {
    "deletable": false,
    "nbgrader": {
     "cell_type": "code",
     "checksum": "93a5eb5c8b31b5331c110142a082cad9",
     "grade": false,
     "grade_id": "cell-33f1e56130441533",
     "locked": false,
     "schema_version": 3,
     "solution": true,
     "task": false
    }
   },
   "outputs": [],
   "source": [
    "pca_transformed_data = None  # Update this\n",
    "# YOUR CODE HERE\n",
    "raise NotImplementedError()"
   ]
  },
  {
   "cell_type": "code",
   "execution_count": null,
   "metadata": {
    "deletable": false,
    "editable": false,
    "nbgrader": {
     "cell_type": "code",
     "checksum": "f437380b44e8eefdf6d044dd9bdb0081",
     "grade": false,
     "grade_id": "cell-5788e043d0f50b45",
     "locked": true,
     "schema_version": 3,
     "solution": false,
     "task": false
    }
   },
   "outputs": [],
   "source": [
    "assert isinstance(pca_transformed_data, np.ndarray)\n",
    "assert pca_transformed_data.shape == (data.shape[0], 2)"
   ]
  },
  {
   "cell_type": "code",
   "execution_count": null,
   "metadata": {
    "deletable": false,
    "editable": false,
    "nbgrader": {
     "cell_type": "code",
     "checksum": "4c139c8c53ebcc5a96fbacecdce2f7af",
     "grade": false,
     "grade_id": "cell-ffdae8017d060fab",
     "locked": true,
     "schema_version": 3,
     "solution": false,
     "task": false
    }
   },
   "outputs": [],
   "source": [
    "plt.plot(pca_transformed_data[:,0], pca_transformed_data[:,1], 'o')\n",
    "plt.show()"
   ]
  },
  {
   "cell_type": "markdown",
   "metadata": {
    "deletable": false,
    "editable": false,
    "nbgrader": {
     "cell_type": "markdown",
     "checksum": "9971b9260bd9d2f914b975b520b36c05",
     "grade": false,
     "grade_id": "cell-d576b3aeb2735126",
     "locked": true,
     "schema_version": 3,
     "solution": false,
     "task": false
    }
   },
   "source": [
    "#### Do not move or delete the below block. It is used for automatic grading."
   ]
  },
  {
   "cell_type": "code",
   "execution_count": null,
   "metadata": {
    "deletable": false,
    "editable": false,
    "nbgrader": {
     "cell_type": "code",
     "checksum": "dc22f8ad09c96a8be636f7c3243bf1a1",
     "grade": true,
     "grade_id": "cell-6c357969923c4aa5",
     "locked": true,
     "points": 0.5,
     "schema_version": 3,
     "solution": false,
     "task": false
    }
   },
   "outputs": [],
   "source": []
  },
  {
   "cell_type": "markdown",
   "metadata": {
    "deletable": false,
    "editable": false,
    "nbgrader": {
     "cell_type": "markdown",
     "checksum": "0165a17ba24d01024a0033bbbdab714d",
     "grade": false,
     "grade_id": "cell-cf9847aeea3893ef",
     "locked": true,
     "schema_version": 3,
     "solution": false,
     "task": false
    }
   },
   "source": [
    "**Task 3b:** Perform GPLVM and visualise the latent embedding. Can you see any differences to PCA. Can you explain why?"
   ]
  },
  {
   "cell_type": "code",
   "execution_count": null,
   "metadata": {
    "deletable": false,
    "nbgrader": {
     "cell_type": "code",
     "checksum": "b5da4fd14b9af3408be888c3db428558",
     "grade": false,
     "grade_id": "cell-681fdfdc65a5ae53",
     "locked": false,
     "schema_version": 3,
     "solution": true,
     "task": false
    }
   },
   "outputs": [],
   "source": [
    "if not automatic_grading:  # Note: Do not change this if condition\n",
    "    latent_dim = 2\n",
    "    lengthscales = tf.convert_to_tensor([1.0] * latent_dim)\n",
    "    kernel = gpflow.kernels.RBF(lengthscales=lengthscales)\n",
    "    # YOUR CODE HERE\n",
    "    raise NotImplementedError()"
   ]
  },
  {
   "cell_type": "markdown",
   "metadata": {
    "deletable": false,
    "editable": false,
    "nbgrader": {
     "cell_type": "markdown",
     "checksum": "33ed89d623812815a9447bbca2c73fc0",
     "grade": false,
     "grade_id": "cell-621e60258da7f7b4",
     "locked": true,
     "schema_version": 3,
     "solution": false,
     "task": false
    }
   },
   "source": [
    "**Task 3c:** Which of the following statements accurately distinguishes between Principal Component Analysis (PCA) and Gaussian Process Latent Variable Models (GPLVM)?\n",
    "\n",
    "1. PCA is a linear dimensionality reduction technique, while GPLVM is a nonlinear method.\n",
    "\n",
    "2. GPLVM is an unsupervised learning technique, while PCA can be used for both supervised and unsupervised learning tasks.\n",
    "\n",
    "3. PCA assumes that the principal components with the highest variance capture the most important information in the data, whereas GPLVM makes fewer assumptions about the underlying data structure.\n",
    "\n",
    "4. GPLVM is primarily used for data visualization and noise reduction, while PCA is suitable for capturing complex, nonlinear relationships in the data."
   ]
  },
  {
   "cell_type": "code",
   "execution_count": null,
   "metadata": {},
   "outputs": [],
   "source": [
    "a_3c = None  # Replace None with your answer [1, 2, 3, 4]"
   ]
  },
  {
   "cell_type": "code",
   "execution_count": null,
   "metadata": {
    "deletable": false,
    "editable": false,
    "nbgrader": {
     "cell_type": "code",
     "checksum": "aee8701064e0595723791d6fade7fa8e",
     "grade": false,
     "grade_id": "cell-1e558fb835c106b8",
     "locked": true,
     "schema_version": 3,
     "solution": false,
     "task": false
    }
   },
   "outputs": [],
   "source": [
    "assert a_3c in [1, 2, 3, 4]"
   ]
  },
  {
   "cell_type": "markdown",
   "metadata": {
    "deletable": false,
    "editable": false,
    "nbgrader": {
     "cell_type": "markdown",
     "checksum": "471c00883cb40ad824edcb817c8da89f",
     "grade": false,
     "grade_id": "cell-95ab8bb596906b42",
     "locked": true,
     "schema_version": 3,
     "solution": false,
     "task": false
    }
   },
   "source": [
    "#### Do not move or delete the below block. It is used for automatic grading."
   ]
  },
  {
   "cell_type": "code",
   "execution_count": null,
   "metadata": {
    "deletable": false,
    "editable": false,
    "nbgrader": {
     "cell_type": "code",
     "checksum": "396bcc65bc886cf9748c871b084e38c4",
     "grade": true,
     "grade_id": "cell-217611866c4e2a57",
     "locked": true,
     "points": 0.5,
     "schema_version": 3,
     "solution": false,
     "task": false
    }
   },
   "outputs": [],
   "source": []
  },
  {
   "cell_type": "markdown",
   "metadata": {
    "deletable": false,
    "editable": false,
    "nbgrader": {
     "cell_type": "markdown",
     "checksum": "2c311a8c908b52ac52a5b9655190a46c",
     "grade": false,
     "grade_id": "cell-0b11027d60b8a775",
     "locked": true,
     "schema_version": 3,
     "solution": false,
     "task": false
    }
   },
   "source": [
    "**Task 3d:** Perform Bayesian GPLVM and visualise the embeddings as Gaussians (i.e. by plotting 95% contours)."
   ]
  },
  {
   "cell_type": "code",
   "execution_count": null,
   "metadata": {
    "deletable": false,
    "nbgrader": {
     "cell_type": "code",
     "checksum": "9919724cfdd315c5d5d1bdeda6070ae7",
     "grade": false,
     "grade_id": "cell-0bcd9416088bc562",
     "locked": false,
     "schema_version": 3,
     "solution": true,
     "task": false
    }
   },
   "outputs": [],
   "source": [
    "if not automatic_grading:  # Note: Do not change this if condition\n",
    "    num_inducing = 20  # number of inducing points\n",
    "    num_data = data.shape[0]  # number of data points\n",
    "    latent_dim = 2\n",
    "    lengthscales = tf.convert_to_tensor([1.0] * latent_dim)\n",
    "    kernel = gpflow.kernels.RBF(lengthscales=lengthscales)\n",
    "    \n",
    "    # YOUR CODE HERE\n",
    "    raise NotImplementedError()"
   ]
  },
  {
   "cell_type": "markdown",
   "metadata": {
    "deletable": false,
    "editable": false,
    "nbgrader": {
     "cell_type": "markdown",
     "checksum": "cb48887f50fa24d460cca7557d5fdab6",
     "grade": false,
     "grade_id": "cell-12b1612642ebc10d",
     "locked": true,
     "schema_version": 3,
     "solution": false,
     "task": false
    }
   },
   "source": [
    "***Task 3e.*** Which statement accurately differentiates between Gaussian Process Latent Variable Models (GPLVM) and Bayesian Gaussian Process Latent Variable Models (Bayesian GPLVM)?\n",
    "\n",
    "1. GPLVM is a probabilistic model, while Bayesian GPLVM is deterministic.\n",
    "\n",
    "2. Bayesian GPLVM allows for the incorporation of prior knowledge about the latent space, whereas GPLVM does not consider prior information.\n",
    "\n",
    "3. GPLVM assumes linear relationships between variables, while Bayesian GPLVM captures nonlinear relationships.\n",
    "\n",
    "4. Bayesian GPLVM is primarily used for data visualization, while GPLVM is focused on feature extraction."
   ]
  },
  {
   "cell_type": "code",
   "execution_count": null,
   "metadata": {},
   "outputs": [],
   "source": [
    "a_3e = None  # Replace None with your answer [1, 2, 3, 4]"
   ]
  },
  {
   "cell_type": "code",
   "execution_count": null,
   "metadata": {
    "deletable": false,
    "editable": false,
    "nbgrader": {
     "cell_type": "code",
     "checksum": "dd486cd849ebe84a55fc3eb7b8c6881a",
     "grade": false,
     "grade_id": "cell-77fb2a189dfa7eff",
     "locked": true,
     "schema_version": 3,
     "solution": false,
     "task": false
    }
   },
   "outputs": [],
   "source": [
    "assert a_3e in [1, 2, 3, 4]"
   ]
  },
  {
   "cell_type": "markdown",
   "metadata": {
    "deletable": false,
    "editable": false,
    "nbgrader": {
     "cell_type": "markdown",
     "checksum": "5f84acdf91b8a2f4a69337946501e837",
     "grade": false,
     "grade_id": "cell-2fe0e65ccab52b2c",
     "locked": true,
     "schema_version": 3,
     "solution": false,
     "task": false
    }
   },
   "source": [
    "#### Do not move or delete the below block. It is used for automatic grading."
   ]
  },
  {
   "cell_type": "code",
   "execution_count": null,
   "metadata": {
    "deletable": false,
    "editable": false,
    "nbgrader": {
     "cell_type": "code",
     "checksum": "576a4593a7552fb0ceeee71a3e74e904",
     "grade": true,
     "grade_id": "cell-743a685be1994b5e",
     "locked": true,
     "points": 0.5,
     "schema_version": 3,
     "solution": false,
     "task": false
    }
   },
   "outputs": [],
   "source": []
  },
  {
   "cell_type": "markdown",
   "metadata": {
    "deletable": false,
    "editable": false,
    "nbgrader": {
     "cell_type": "markdown",
     "checksum": "e58c657e44b4fa286524e2ee0d53fbb1",
     "grade": false,
     "grade_id": "cell-38ec5598875bc4b3",
     "locked": true,
     "schema_version": 3,
     "solution": false,
     "task": false
    }
   },
   "source": [
    "***Task 3f:*** Which of the following statements accurately compares Principal Component Analysis (PCA), Gaussian Process Latent Variable Models (GPLVM), and Bayesian Gaussian Process Latent Variable Models (Bayesian GPLVM)?\n",
    "\n",
    "1. PCA is a linear dimensionality reduction technique, whereas GPLVM and Bayesian GPLVM are nonlinear methods.\n",
    "\n",
    "2. GPLVM is a probabilistic model, while PCA and Bayesian GPLVM are deterministic.\n",
    "\n",
    "3. Bayesian GPLVM allows for the incorporation of prior knowledge about the latent space, similar to GPLVM, while PCA does not involve probabilistic modeling.\n",
    "\n",
    "4. PCA and GPLVM are unsupervised learning techniques, while Bayesian GPLVM is primarily used for supervised learning tasks."
   ]
  },
  {
   "cell_type": "code",
   "execution_count": null,
   "metadata": {},
   "outputs": [],
   "source": [
    "a_3f = None  # Replace None with your answer [1, 2, 3, 4]"
   ]
  },
  {
   "cell_type": "code",
   "execution_count": null,
   "metadata": {
    "deletable": false,
    "editable": false,
    "nbgrader": {
     "cell_type": "code",
     "checksum": "a8fe9f524b886c5bbbb11fa2cf73ee88",
     "grade": false,
     "grade_id": "cell-531c862f2c6ac5ae",
     "locked": true,
     "schema_version": 3,
     "solution": false,
     "task": false
    }
   },
   "outputs": [],
   "source": [
    "assert a_3f in [1, 2, 3, 4]"
   ]
  },
  {
   "cell_type": "markdown",
   "metadata": {
    "deletable": false,
    "editable": false,
    "nbgrader": {
     "cell_type": "markdown",
     "checksum": "257106c8d643b8110b627cdf72069700",
     "grade": false,
     "grade_id": "cell-88d537db0e9f0726",
     "locked": true,
     "schema_version": 3,
     "solution": false,
     "task": false
    }
   },
   "source": [
    "#### Do not move or delete the below block. It is used for automatic grading."
   ]
  },
  {
   "cell_type": "code",
   "execution_count": null,
   "metadata": {
    "deletable": false,
    "editable": false,
    "nbgrader": {
     "cell_type": "code",
     "checksum": "dbb16fd7829f5e957679ff02fe4636db",
     "grade": true,
     "grade_id": "cell-693eba10752e216c",
     "locked": true,
     "points": 0.5,
     "schema_version": 3,
     "solution": false,
     "task": false
    }
   },
   "outputs": [],
   "source": []
  },
  {
   "cell_type": "markdown",
   "metadata": {
    "deletable": false,
    "editable": false,
    "nbgrader": {
     "cell_type": "markdown",
     "checksum": "7b1bc5bd762a61cfdd2f006dce8e51ba",
     "grade": false,
     "grade_id": "cell-4f01aa9ccfa34056",
     "locked": true,
     "schema_version": 3,
     "solution": false,
     "task": false
    }
   },
   "source": [
    "### Task 4: After answering all the questions, kindly set `automatic_grading=True` at the top of the notebook, use the validate option in the toolbar to validate the notebook and be sure that there are no errors."
   ]
  }
 ],
 "metadata": {
  "kernelspec": {
   "display_name": "Python 3",
   "language": "python",
   "name": "python3"
  },
  "language_info": {
   "codemirror_mode": {
    "name": "ipython",
    "version": 3
   },
   "file_extension": ".py",
   "mimetype": "text/x-python",
   "name": "python",
   "nbconvert_exporter": "python",
   "pygments_lexer": "ipython3",
   "version": "3.10.12"
  }
 },
 "nbformat": 4,
 "nbformat_minor": 4
}
