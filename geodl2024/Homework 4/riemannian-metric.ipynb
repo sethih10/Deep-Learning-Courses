{
 "cells": [
  {
   "cell_type": "code",
   "execution_count": 1,
   "metadata": {
    "tags": []
   },
   "outputs": [],
   "source": [
    "# import \n",
    "import matplotlib.pyplot as plt\n",
    "import numpy as np\n",
    "import torch\n",
    "%matplotlib widget\n"
   ]
  },
  {
   "cell_type": "code",
   "execution_count": 2,
   "metadata": {
    "tags": []
   },
   "outputs": [],
   "source": [
    "from utils.visualisation import plot_contour, plot_contour_3d, plot_sphere, map_to_sphere_np\n",
    "from utils.energy import compute_geodesic"
   ]
  },
  {
   "cell_type": "code",
   "execution_count": 3,
   "metadata": {
    "tags": []
   },
   "outputs": [],
   "source": [
    "def metric_riemann(x):\n",
    "    theta, phi = x\n",
    "    metric = [[1, 0], [0, 1]]  # Euclidean\n",
    "    ### CHANGE THE EUCLIDEAN METRIC WITH THE RIEMANNIAN METRIC\n",
    "    return torch.Tensor(metric)\n",
    "\n",
    "def norm_riemann(vv, x, metric_fn=metric_riemann):\n",
    "    metric = torch.stack([metric_fn(pos) for pos in x])  # (n, 2, 2)\n",
    "    norm = torch.einsum(\"bi,bij,bj->b\", vv, metric, vv)\n",
    "    return torch.sqrt(norm)\n"
   ]
  },
  {
   "cell_type": "code",
   "execution_count": null,
   "metadata": {
    "tags": []
   },
   "outputs": [
    {
     "name": "stdout",
     "output_type": "stream",
     "text": [
      "Computing geodesics riemann...\n",
      "Iteration 0, energy: 0.11215460300445557\n",
      "Iteration 200, energy: 0.11215460300445557\n",
      "Converged at iteration 201\n",
      "Plotting in 2d...\n"
     ]
    }
   ],
   "source": [
    "# Visualisation in the 2D plane (theta, phi) Theta: [-pi, pi], phi: [-np.pi/2, np.pi/2]\n",
    "endpoints = np.array(\n",
    "    [[[-3 * np.pi / 8, -3 * np.pi / 8], [3 * np.pi / 8, 3 * np.pi / 8]]]\n",
    ")\n",
    "\n",
    "print(\"Computing geodesics riemann...\")\n",
    "for start, end in endpoints:\n",
    "    curver = compute_geodesic(start, end, norm_riemann, n_points=100)\n",
    "    curver = np.stack([c.detach().numpy() for c in curver])\n",
    "\n",
    "# straight line for comparison\n",
    "liner = np.linspace(start, end, 100)\n",
    "\n",
    "print(\"Plotting in 2d...\")\n",
    "fig = plt.figure(figsize=plt.figaspect(0.5))\n",
    "ax = fig.add_subplot(1, 2, 1)\n",
    "xlim, ylim = [-np.pi / 2, np.pi / 2], [-np.pi / 2, np.pi / 2]\n",
    "# indicatrices\n",
    "ax = plot_contour(ax, norm_riemann, xlim, ylim, grid_pts=[8, 8], color=\"purple\")\n",
    "# start and end points\n",
    "ax.scatter(*start, color=\"orange\")\n",
    "ax.scatter(*end, color=\"orange\")\n",
    "# geodesic and straight line\n",
    "ax.plot(curver[:, 0], curver[:, 1], color=\"purple\", zorder=10)\n",
    "ax.plot(liner[:, 0], liner[:, 1], color=\"black\", zorder=10)\n",
    "ax.title.set_text(\"Geodesic with the pullback metric\")\n",
    "ax.set_xlim(xlim)\n",
    "ax.set_ylim(ylim)\n",
    "plt.show()"
   ]
  },
  {
   "cell_type": "code",
   "execution_count": null,
   "metadata": {
    "tags": []
   },
   "outputs": [],
   "source": [
    "# map points and geodesics to the sphere in 3D\n",
    "\n",
    "\n",
    "def plot_geodesic_3d(ax, curve, color=\"r\"):\n",
    "    curve = np.stack([map_to_sphere_np(c) for c in curve])\n",
    "    ax.plot(curve[:, 0], curve[:, 1], curve[:, 2], color=color)\n",
    "    return ax\n",
    "\n",
    "\n",
    "print(\"Plotting in 3d...\")\n",
    "fig = plt.figure(figsize=plt.figaspect(0.5))\n",
    "ax = fig.add_subplot(1, 2, 1, projection=\"3d\")\n",
    "plot_sphere(ax)\n",
    "# indicatrices\n",
    "ax = plot_contour_3d(ax, norm_riemann, xlim, ylim, grid_pts=[8, 8], color=\"purple\", alpha=0.5)\n",
    "# start and end points\n",
    "ax.scatter(*map_to_sphere_np(start), color=\"orange\")\n",
    "ax.scatter(*map_to_sphere_np(end), color=\"orange\")\n",
    "# geodesic and straight line\n",
    "plot_geodesic_3d(ax, curver, color=\"purple\")\n",
    "plot_geodesic_3d(ax, liner, color=\"black\")\n",
    "# remove axis and grid\n",
    "ax.set_axis_off()\n",
    "ax.set_box_aspect([1,1,1])\n"
   ]
  },
  {
   "cell_type": "code",
   "execution_count": null,
   "metadata": {},
   "outputs": [],
   "source": []
  }
 ],
 "metadata": {
  "kernelspec": {
   "display_name": "Python 3",
   "language": "python",
   "name": "python3"
  },
  "language_info": {
   "codemirror_mode": {
    "name": "ipython",
    "version": 3
   },
   "file_extension": ".py",
   "mimetype": "text/x-python",
   "name": "python",
   "nbconvert_exporter": "python",
   "pygments_lexer": "ipython3",
   "version": "3.10.12"
  }
 },
 "nbformat": 4,
 "nbformat_minor": 4
}
