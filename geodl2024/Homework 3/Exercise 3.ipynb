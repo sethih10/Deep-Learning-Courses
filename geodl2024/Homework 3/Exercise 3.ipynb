{
 "cells": [
  {
   "cell_type": "code",
   "execution_count": null,
   "id": "d6b9ab93-1ffe-4667-969b-ec49a5c163ca",
   "metadata": {
    "deletable": false,
    "editable": false,
    "nbgrader": {
     "cell_type": "code",
     "checksum": "010c55f28b9c95585c55994b9e05cefc",
     "grade": false,
     "grade_id": "cell-21c4f4bffa6fd5b0",
     "locked": true,
     "schema_version": 3,
     "solution": false,
     "task": false
    },
    "tags": []
   },
   "outputs": [],
   "source": [
    "!pip install torch torchvision numpy Pillow pytest"
   ]
  },
  {
   "cell_type": "code",
   "execution_count": null,
   "id": "78824ec0-8ee7-43cf-9859-016f66f8d4dd",
   "metadata": {
    "deletable": false,
    "editable": false,
    "nbgrader": {
     "cell_type": "code",
     "checksum": "2aea4c4d5ac3adfdb957a559f566d59d",
     "grade": false,
     "grade_id": "cell-6e1522b61e11882f",
     "locked": true,
     "schema_version": 3,
     "solution": false,
     "task": false
    },
    "tags": []
   },
   "outputs": [],
   "source": [
    "import numpy as np\n",
    "import matplotlib.pyplot as plt\n",
    "import torch\n",
    "import torchvision\n",
    "import torch.nn as nn\n",
    "import torch.nn.functional as F\n",
    "import torch.optim as optim\n",
    "import math\n",
    "import numpy as np\n",
    "import pytest\n",
    "import pathlib"
   ]
  },
  {
   "cell_type": "markdown",
   "id": "27c1ed19-3db1-4583-8522-afe20bd8fcd6",
   "metadata": {
    "deletable": false,
    "editable": false,
    "nbgrader": {
     "cell_type": "markdown",
     "checksum": "ba2c0df6f87d02e09096629fc8369614",
     "grade": false,
     "grade_id": "cell-791c29d56d9b9fa5",
     "locked": true,
     "schema_version": 3,
     "solution": false,
     "task": false
    },
    "tags": []
   },
   "source": [
    "## One-Dimensional Steerable Kernels (1pt):\n",
    "In the lecture, we derived a basis for a steerable kernel for the D4 group with its standard action on a 3x3 grid, and the B1 representation. \n",
    "\n",
    "Here, we want to generalize this to any 1-dimensional representation of D4.\n",
    "\n",
    "Your task is to implement the following function, which the cells below will then use to generate visualizations of D4-steerable kernels w.r.t. the different 1-dimensional representations."
   ]
  },
  {
   "cell_type": "code",
   "execution_count": null,
   "id": "356e4ecf",
   "metadata": {
    "deletable": false,
    "nbgrader": {
     "cell_type": "code",
     "checksum": "ed57d8ba944a1aa5f81fd1fba9de76e7",
     "grade": true,
     "grade_id": "cell-92acc5191f2f9456",
     "locked": false,
     "points": 1,
     "schema_version": 3,
     "solution": true,
     "task": false
    },
    "tags": []
   },
   "outputs": [],
   "source": [
    "def impose_weight_sharing(start, a, b):\n",
    "    \"\"\"\n",
    "    start: initial vector \n",
    "    a: representation for 90° rotation\n",
    "    b: representation for flip around axis 1\n",
    "    \"\"\"\n",
    "    # your code here\n",
    "    raise NotImplementedError"
   ]
  },
  {
   "cell_type": "code",
   "execution_count": null,
   "id": "fd375d01-c5fc-451e-9e73-5c562c46a0d2",
   "metadata": {
    "deletable": false,
    "editable": false,
    "nbgrader": {
     "cell_type": "code",
     "checksum": "fae03e5a24a1d1363ffcb4c23659a636",
     "grade": true,
     "grade_id": "cell-d5ef852416b917f1",
     "locked": true,
     "points": 0,
     "schema_version": 3,
     "solution": false,
     "task": false
    },
    "tags": []
   },
   "outputs": [],
   "source": [
    "test = np.zeros((3, 3))\n",
    "test[0, 0] = 1\n",
    "expected = np.zeros((3, 3))\n",
    "expected[0, 0] = 0.25\n",
    "expected[2, 0] = 0.25\n",
    "expected[0, 2] = 0.25\n",
    "expected[2, 2] = 0.25\n",
    "result = impose_weight_sharing(test, 1, 1)\n",
    "assert pytest.approx(result) == expected"
   ]
  },
  {
   "cell_type": "code",
   "execution_count": null,
   "id": "2e0e19af",
   "metadata": {
    "deletable": false,
    "editable": false,
    "nbgrader": {
     "cell_type": "code",
     "checksum": "83086e1d275d463e32bcd1ba6dee0a5d",
     "grade": false,
     "grade_id": "cell-2ffd78a6c5dc1428",
     "locked": true,
     "schema_version": 3,
     "solution": false,
     "task": false
    },
    "tags": []
   },
   "outputs": [],
   "source": [
    "def visualize_weight_sharing(a, b):\n",
    "    dim = 5\n",
    "    input_image = np.zeros((dim, dim))\n",
    "    fig, ax = plt.subplots(dim, dim)\n",
    "    for x in range(dim):\n",
    "        for y in range(dim):\n",
    "            v = np.copy(input_image)\n",
    "            v[x, y] = 1\n",
    "            ax[x, y].imshow(impose_weight_sharing(v, a, b))\n",
    "    plt.show()"
   ]
  },
  {
   "cell_type": "markdown",
   "id": "e90fed29",
   "metadata": {
    "deletable": false,
    "editable": false,
    "nbgrader": {
     "cell_type": "markdown",
     "checksum": "add8749fc65b82851e6d9ddbe16f8952",
     "grade": false,
     "grade_id": "cell-7ad64462424d4607",
     "locked": true,
     "schema_version": 3,
     "solution": false,
     "task": false
    },
    "tags": []
   },
   "source": [
    "### A1 - Trivial representation"
   ]
  },
  {
   "cell_type": "code",
   "execution_count": null,
   "id": "eb22a30e",
   "metadata": {
    "deletable": false,
    "editable": false,
    "nbgrader": {
     "cell_type": "code",
     "checksum": "999887a64eb48e90d4391456bfc2d9bf",
     "grade": false,
     "grade_id": "cell-e4c4da7b7bd50743",
     "locked": true,
     "schema_version": 3,
     "solution": false,
     "task": false
    },
    "tags": []
   },
   "outputs": [],
   "source": [
    "visualize_weight_sharing(1, 1)"
   ]
  },
  {
   "cell_type": "markdown",
   "id": "c4ee3a80",
   "metadata": {
    "deletable": false,
    "editable": false,
    "nbgrader": {
     "cell_type": "markdown",
     "checksum": "472b5973da4af53cc7dc9873ac371ffd",
     "grade": false,
     "grade_id": "cell-bc447c71503e1622",
     "locked": true,
     "schema_version": 3,
     "solution": false,
     "task": false
    },
    "tags": []
   },
   "source": [
    "### A2"
   ]
  },
  {
   "cell_type": "code",
   "execution_count": null,
   "id": "7c433b4f",
   "metadata": {
    "deletable": false,
    "editable": false,
    "nbgrader": {
     "cell_type": "code",
     "checksum": "1fadd9cfb16dd99cdd1005a9353385e2",
     "grade": false,
     "grade_id": "cell-0d7a0785cd3fa880",
     "locked": true,
     "schema_version": 3,
     "solution": false,
     "task": false
    },
    "tags": []
   },
   "outputs": [],
   "source": [
    "visualize_weight_sharing(1, -1)"
   ]
  },
  {
   "cell_type": "markdown",
   "id": "c0efe823",
   "metadata": {
    "deletable": false,
    "editable": false,
    "nbgrader": {
     "cell_type": "markdown",
     "checksum": "5228764b096c0cc1b78da228da5e75f5",
     "grade": false,
     "grade_id": "cell-38675cfd9327c638",
     "locked": true,
     "schema_version": 3,
     "solution": false,
     "task": false
    },
    "tags": []
   },
   "source": [
    "### B1"
   ]
  },
  {
   "cell_type": "code",
   "execution_count": null,
   "id": "47b02e36",
   "metadata": {
    "deletable": false,
    "editable": false,
    "nbgrader": {
     "cell_type": "code",
     "checksum": "4c756f96bfbabce47293b708d1f6f652",
     "grade": false,
     "grade_id": "cell-ec996fce469edda8",
     "locked": true,
     "schema_version": 3,
     "solution": false,
     "task": false
    },
    "tags": []
   },
   "outputs": [],
   "source": [
    "visualize_weight_sharing(-1, 1)"
   ]
  },
  {
   "cell_type": "markdown",
   "id": "f212b9a0",
   "metadata": {
    "deletable": false,
    "editable": false,
    "nbgrader": {
     "cell_type": "markdown",
     "checksum": "929300144b954a70dddc732871dcbeaf",
     "grade": false,
     "grade_id": "cell-4ef27e95dda79cec",
     "locked": true,
     "schema_version": 3,
     "solution": false,
     "task": false
    },
    "tags": []
   },
   "source": [
    "### B2"
   ]
  },
  {
   "cell_type": "code",
   "execution_count": null,
   "id": "6205ae23",
   "metadata": {
    "deletable": false,
    "editable": false,
    "nbgrader": {
     "cell_type": "code",
     "checksum": "8b110e3103a01bd74cb5be9f60992233",
     "grade": false,
     "grade_id": "cell-f6033d622d641ad3",
     "locked": true,
     "schema_version": 3,
     "solution": false,
     "task": false
    },
    "tags": []
   },
   "outputs": [],
   "source": [
    "visualize_weight_sharing(-1, -1)"
   ]
  },
  {
   "cell_type": "markdown",
   "id": "dc1e79b5",
   "metadata": {
    "deletable": false,
    "editable": false,
    "nbgrader": {
     "cell_type": "markdown",
     "checksum": "17f2bd77e39a1ed1ae2046d382bb48b7",
     "grade": false,
     "grade_id": "cell-90c926ab9d4c706d",
     "locked": true,
     "schema_version": 3,
     "solution": false,
     "task": false
    },
    "tags": []
   },
   "source": [
    "## Equivariant convolutional network (3pts)\n",
    "In this part, we are going to develop a K4-invariant convolutional network following the GDL blueprint.\n",
    "The K4 group consists of 4 elements, horizontal and vertical flip as well as 180° rotation."
   ]
  },
  {
   "cell_type": "markdown",
   "id": "928f548e-ba77-44d2-a800-0e1be9f7528e",
   "metadata": {
    "deletable": false,
    "editable": false,
    "nbgrader": {
     "cell_type": "markdown",
     "checksum": "ed1a3f8ebd3e220421ff599e5dcb2782",
     "grade": false,
     "grade_id": "cell-529e6137101738f4",
     "locked": true,
     "schema_version": 3,
     "solution": false,
     "task": false
    },
    "tags": []
   },
   "source": [
    "###  First layer\n",
    "As a first task, implement an equivariant convolution layer as described in the lecture (i.e., equivariant w.r.t. the regular representation). As the group has four elements, the output is supposed to be of shape `batch x out_channels x 4 x w x h`, i.e., do not merge the channels together in one dimension. While the ordering of group elements in the 4 sub-channels is in principle arbitrary, to keep things easily comparable (and make the asserts happy), please use the following ordering:\n",
    "- identity\n",
    "- flip(dim=2)\n",
    "- flip(dim=3)\n",
    "- rot-180°"
   ]
  },
  {
   "cell_type": "code",
   "execution_count": null,
   "id": "1142f871",
   "metadata": {
    "deletable": false,
    "nbgrader": {
     "cell_type": "code",
     "checksum": "1004eedb396d72d2f6925338c3e8ac85",
     "grade": true,
     "grade_id": "cell-4300dc35dd1b5356",
     "locked": false,
     "points": 1,
     "schema_version": 3,
     "solution": true,
     "task": false
    },
    "tags": []
   },
   "outputs": [],
   "source": [
    "class K4ConvLayer(nn.Module):\n",
    "    def __init__(self, in_channels: int, out_channels: int, kernel_size: int):\n",
    "        super().__init__()\n",
    "        self.weight = torch.nn.Parameter(torch.empty((out_channels, in_channels, kernel_size, kernel_size)))\n",
    "        self.reset_parameters()\n",
    "    \n",
    "    def reset_parameters(self):\n",
    "        torch.nn.init.kaiming_uniform_(self.weight, a=math.sqrt(5))\n",
    "\n",
    "    def forward(self, input):\n",
    "        # your code here\n",
    "        raise NotImplementedError"
   ]
  },
  {
   "cell_type": "code",
   "execution_count": null,
   "id": "563edd42",
   "metadata": {
    "deletable": false,
    "editable": false,
    "nbgrader": {
     "cell_type": "code",
     "checksum": "e380fcfbbe740aea7744f72b6b4493ce",
     "grade": true,
     "grade_id": "cell-982fa0e98638bb21",
     "locked": true,
     "points": 0,
     "schema_version": 3,
     "solution": false,
     "task": false
    },
    "tags": []
   },
   "outputs": [],
   "source": [
    "test_layer = K4ConvLayer(1, 1, 3)\n",
    "test_input = torch.rand((1, 1, 3, 3))\n",
    "original = test_layer(test_input)\n",
    "transformed = test_layer(torch.flip(test_input, dims=(2,)))\n",
    "\n",
    "# check that channels permute according to regular representation\n",
    "assert pytest.approx(original[0, 0, 0, 0, 0].item()) == transformed[0, 0, 1, 0, 0].item()\n",
    "assert pytest.approx(original[0, 0, 1, 0, 0].item()) == transformed[0, 0, 0, 0, 0].item()\n",
    "assert pytest.approx(original[0, 0, 2, 0, 0].item()) == transformed[0, 0, 3, 0, 0].item()\n",
    "assert pytest.approx(original[0, 0, 3, 0, 0].item()) == transformed[0, 0, 2, 0, 0].item()"
   ]
  },
  {
   "cell_type": "markdown",
   "id": "60adeba4-7dc6-4807-b788-7645cc269cd2",
   "metadata": {
    "deletable": false,
    "editable": false,
    "nbgrader": {
     "cell_type": "markdown",
     "checksum": "12e8b3363786127c3c3843051ad1e34f",
     "grade": false,
     "grade_id": "cell-fe9d201c6180bde1",
     "locked": true,
     "schema_version": 3,
     "solution": false,
     "task": false
    },
    "tags": []
   },
   "source": [
    "### Transformation according to the regular representation\n",
    "For a regular CNN, we would be done now, and could just start stacking these layers on top of each other.\n",
    "However, there is a problem now. In the first layer, when we transform the input according to a group element, it is only the position of pixels that changes, but the channels (RGB colors) remain invariant. But the feature map we gain after the first group-convolution transforms in a different way; the pixels change position, and also, there is a permutation of the channel maps. \n",
    "Therefore, we need to define a group convolution layer that is equivariant with respect to this new kind of input transformation.\n",
    "\n",
    "As a first step, implement the function `transform_regular`, which, when given a feature map such as the one produced by our convolution above, and an element of the K4 group (k = 0: identity, 1: flip-2, 2: flip-3, 3: rot-180), produces a version of the feature map as it is transformed by the regular representation of K4. (Strictly speaking, since we have multiple independent `out_channels`, it transforms according to the direct sum of `out_channels` many copies of the regular representation)."
   ]
  },
  {
   "cell_type": "code",
   "execution_count": null,
   "id": "6ffa3518",
   "metadata": {
    "deletable": false,
    "nbgrader": {
     "cell_type": "code",
     "checksum": "e1a4610b555af25976e1e95704a87b82",
     "grade": true,
     "grade_id": "cell-0ec023e71147d109",
     "locked": false,
     "points": 1,
     "schema_version": 3,
     "solution": true,
     "task": false
    },
    "tags": []
   },
   "outputs": [],
   "source": [
    "def transform_regular(data, k):\n",
    "    # your code here\n",
    "    raise NotImplementedError\n"
   ]
  },
  {
   "cell_type": "code",
   "execution_count": null,
   "id": "e3ccbd53",
   "metadata": {
    "deletable": false,
    "editable": false,
    "nbgrader": {
     "cell_type": "code",
     "checksum": "22faa3fa5918bc72a9b76ed15c520a37",
     "grade": true,
     "grade_id": "cell-ada86b577baf1266",
     "locked": true,
     "points": 0,
     "schema_version": 3,
     "solution": false,
     "task": false
    },
    "tags": []
   },
   "outputs": [],
   "source": [
    "dummy = torch.zeros(1, 1, 4, 3, 3)\n",
    "dummy[0, 0, 0, 0, 1] = 1.0\n",
    "\n",
    "# identity\n",
    "result = transform_regular(dummy, 0)\n",
    "assert np.all(result.numpy() == dummy.numpy()), (result, dummy)\n",
    "\n",
    "# reflection around first axis; shift by one position\n",
    "result = transform_regular(dummy, 1)\n",
    "\n",
    "expected = torch.zeros(1, 1, 4, 3, 3)\n",
    "expected[0, 0, 1, 2, 1] = 1\n",
    "\n",
    "assert np.all(result.numpy() == expected.numpy()), (result, expected)\n",
    "\n",
    "# reflection around second axis; shift by two\n",
    "result = transform_regular(dummy, 2)\n",
    "\n",
    "expected = torch.zeros(1, 1, 4, 3, 3)\n",
    "expected[0, 0, 2, 0, 1] = 1\n",
    "\n",
    "assert np.all(result.numpy() == expected.numpy()), (result, expected)\n",
    "\n",
    "# combining both reflections\n",
    "result = transform_regular(dummy, 3)\n",
    "expected = transform_regular(transform_regular(dummy, 1), 2)\n",
    "\n",
    "assert np.all(result.numpy() == expected.numpy()), (result, expected)"
   ]
  },
  {
   "cell_type": "markdown",
   "id": "20f54cb3-0632-4830-bf18-ea39efa13b9b",
   "metadata": {
    "deletable": false,
    "editable": false,
    "nbgrader": {
     "cell_type": "markdown",
     "checksum": "adbcca2a9988abae1c81805181f4026a",
     "grade": false,
     "grade_id": "cell-7472aaa4a483645c",
     "locked": true,
     "schema_version": 3,
     "solution": false,
     "task": false
    },
    "tags": []
   },
   "source": [
    "### Regular-regular steerable convolution\n",
    "Now we are ready to implement a second convolution layer, which implements an equivariant convolution for the case when the input transforms according to the regular representation."
   ]
  },
  {
   "cell_type": "code",
   "execution_count": null,
   "id": "ac1c3706",
   "metadata": {
    "deletable": false,
    "nbgrader": {
     "cell_type": "code",
     "checksum": "d041e69a964086b397bff6b25fa74e79",
     "grade": true,
     "grade_id": "cell-277abc1ce4215507",
     "locked": false,
     "points": 1,
     "schema_version": 3,
     "solution": true,
     "task": false
    },
    "tags": []
   },
   "outputs": [],
   "source": [
    "class K4GConvLayer(nn.Module):\n",
    "    def __init__(self, in_channels: int, out_channels: int, kernel_size: int):\n",
    "        super().__init__()\n",
    "        self.weight = torch.nn.Parameter(torch.empty((out_channels, in_channels, kernel_size, kernel_size)))\n",
    "        self.out_channels = out_channels\n",
    "        self.kernel_size = kernel_size\n",
    "        self.in_channels = in_channels\n",
    "        self.reset_parameters()\n",
    "    \n",
    "    def reset_parameters(self):\n",
    "        torch.nn.init.kaiming_uniform_(self.weight, a=math.sqrt(5))\n",
    "\n",
    "    def forward(self, input):\n",
    "        # your code here\n",
    "        raise NotImplementedError"
   ]
  },
  {
   "cell_type": "code",
   "execution_count": null,
   "id": "cd8c4661",
   "metadata": {
    "deletable": false,
    "editable": false,
    "nbgrader": {
     "cell_type": "code",
     "checksum": "8c02058d97f1f7170e45f801335c2944",
     "grade": true,
     "grade_id": "cell-48bd92354d23225c",
     "locked": true,
     "points": 0,
     "schema_version": 3,
     "solution": false,
     "task": false
    },
    "tags": []
   },
   "outputs": [],
   "source": [
    "aux_layer = K4ConvLayer(1, 1, 3)\n",
    "test_layer = K4GConvLayer(4, 1, 3)\n",
    "test_raw = torch.rand((1, 1, 5, 5))\n",
    "test_input = aux_layer(test_raw)\n",
    "o_out = test_layer(test_input)\n",
    "t_input = aux_layer(torch.flip(test_raw, dims=(2,)))\n",
    "t_out = test_layer(t_input)\n",
    "\n",
    "print(o_out.detach().numpy()[0, 0, :, 0, 0])\n",
    "print(t_out.detach().numpy()[0, 0, :, 0, 0])\n",
    "\n",
    "# check that channels permute according to regular representation\n",
    "assert pytest.approx(o_out[0, 0, 0, 0, 0].item(), rel=1e-3) == t_out[0, 0, 1, 0, 0].item()\n",
    "assert pytest.approx(o_out[0, 0, 1, 0, 0].item(), rel=1e-3) == t_out[0, 0, 0, 0, 0].item()\n",
    "assert pytest.approx(o_out[0, 0, 2, 0, 0].item(), rel=1e-3) == t_out[0, 0, 3, 0, 0].item()\n",
    "assert pytest.approx(o_out[0, 0, 3, 0, 0].item(), rel=1e-3) == t_out[0, 0, 2, 0, 0].item()"
   ]
  },
  {
   "cell_type": "markdown",
   "id": "631e81fa-072b-4c5f-a30d-ed3dd9330e16",
   "metadata": {
    "deletable": false,
    "editable": false,
    "nbgrader": {
     "cell_type": "markdown",
     "checksum": "1dcf80c0d8d7796f52dffcecbd8ab310",
     "grade": false,
     "grade_id": "cell-c892b659c44e3c81",
     "locked": true,
     "schema_version": 3,
     "solution": false,
     "task": false
    },
    "tags": []
   },
   "source": [
    "### Putting it all together\n",
    "We are finally ready to build the group-invariant CNN. The cells below define and train both a regular CNN and an invariant CNN based on the layers we constructed above."
   ]
  },
  {
   "cell_type": "markdown",
   "id": "cc919cf8",
   "metadata": {
    "deletable": false,
    "editable": false,
    "nbgrader": {
     "cell_type": "markdown",
     "checksum": "ccb3fe9b58911a369654a0eb581907e0",
     "grade": false,
     "grade_id": "cell-939f6972ef2016ea",
     "locked": true,
     "schema_version": 3,
     "solution": false,
     "task": false
    },
    "tags": []
   },
   "source": [
    "Get CIFAR data. We are interested in the data-scarce regime, so we subsample the  training set down to just two percent of the original data."
   ]
  },
  {
   "cell_type": "code",
   "execution_count": null,
   "id": "b257b6e8",
   "metadata": {
    "deletable": false,
    "editable": false,
    "nbgrader": {
     "cell_type": "code",
     "checksum": "9a81b0687235b5277572542b6699cab7",
     "grade": false,
     "grade_id": "cell-2591eb2b392b2918",
     "locked": true,
     "schema_version": 3,
     "solution": false,
     "task": false
    },
    "tags": []
   },
   "outputs": [],
   "source": [
    "transform = torchvision.transforms.Compose([torchvision.transforms.ToTensor()])\n",
    "batch_size = 8\n",
    "trainset = torchvision.datasets.CIFAR10(root='/coursedata', train=True,\n",
    "                                      download=True, transform=transform)\n",
    "trainset, valset, _ = torch.utils.data.random_split(trainset, [0.02, 0.08, 0.9], generator=torch.Generator().manual_seed(42))\n",
    "trainloader = torch.utils.data.DataLoader(trainset, batch_size=batch_size,\n",
    "                                          shuffle=True)\n",
    "\n",
    "valloader = torch.utils.data.DataLoader(valset, batch_size=batch_size,\n",
    "                                        shuffle=False)"
   ]
  },
  {
   "cell_type": "markdown",
   "id": "7fdaa9c1",
   "metadata": {
    "deletable": false,
    "editable": false,
    "nbgrader": {
     "cell_type": "markdown",
     "checksum": "865f5dd6701f7cb04f5db2dae9f382bd",
     "grade": false,
     "grade_id": "cell-fe976aa5c16c88c9",
     "locked": true,
     "schema_version": 3,
     "solution": false,
     "task": false
    },
    "tags": []
   },
   "source": [
    "Define the reference CNN model."
   ]
  },
  {
   "cell_type": "code",
   "execution_count": null,
   "id": "7d0f5b58",
   "metadata": {
    "deletable": false,
    "editable": false,
    "nbgrader": {
     "cell_type": "code",
     "checksum": "6e0194b8d08f04872300b87d62bc89bf",
     "grade": false,
     "grade_id": "cell-4b4886fe3a1c9132",
     "locked": true,
     "schema_version": 3,
     "solution": false,
     "task": false
    },
    "tags": []
   },
   "outputs": [],
   "source": [
    "class CNN(nn.Module):\n",
    "    def __init__(self):\n",
    "        super().__init__()\n",
    "        self.conv1 = nn.Conv2d(3, 12*2, 3)\n",
    "        self.conv2 = nn.Conv2d(12*2, 12*2, 3)\n",
    "        self.conv3 = nn.Conv2d(12*2, 24*2, 3)\n",
    "        self.conv4 = nn.Conv2d(24*2, 24*2, 3)\n",
    "        self.conv5 = nn.Conv2d(24*2, 48*2, 3)\n",
    "        self.conv6 = nn.Conv2d(48*2, 10, 3)\n",
    "\n",
    "    def forward(self, x):\n",
    "        x = F.relu(self.conv1(x))\n",
    "        x = F.relu(self.conv2(x))\n",
    "        x = F.max_pool2d(x, 2)\n",
    "        x = F.relu(self.conv3(x))\n",
    "        x = F.relu(self.conv4(x))\n",
    "        x = F.max_pool2d(x, 2)\n",
    "        x = F.relu(self.conv5(x))\n",
    "        x = self.conv6(x)[..., 0, 0]\n",
    "        return x"
   ]
  },
  {
   "cell_type": "markdown",
   "id": "72e9c027-d692-4c56-96ee-edb6780b65fc",
   "metadata": {
    "deletable": false,
    "editable": false,
    "nbgrader": {
     "cell_type": "markdown",
     "checksum": "f83d382e592e3afce4924dbe4098f8d5",
     "grade": false,
     "grade_id": "cell-7880a552aecd8efe",
     "locked": true,
     "schema_version": 3,
     "solution": false,
     "task": false
    },
    "tags": []
   },
   "source": [
    "Defining the GCNN model. You may leave the code as-is, but this cell is deliberately left editable to encourage experimentation :)"
   ]
  },
  {
   "cell_type": "code",
   "execution_count": null,
   "id": "2bde8d61-309f-4a15-be05-17b94687789b",
   "metadata": {
    "tags": []
   },
   "outputs": [],
   "source": [
    "class GCNN(nn.Module):\n",
    "    def __init__(self):\n",
    "        super().__init__()\n",
    "        self.conv1 = K4ConvLayer(3, 12, 3)\n",
    "        self.conv2 = K4GConvLayer(12*4, 12, 3)\n",
    "        self.conv3 = K4GConvLayer(12*4, 24, 3)\n",
    "        self.conv4 = K4GConvLayer(24*4, 24, 3)\n",
    "        self.conv5 = K4GConvLayer(24*4, 48, 3)\n",
    "        self.conv6 = K4GConvLayer(48*4, 10, 3)\n",
    "    \n",
    "    def forward_equivariant_features(self, x):\n",
    "        x = F.relu(self.conv1(x))\n",
    "        x = F.relu(self.conv2(x))\n",
    "        x = F.max_pool2d(torch.reshape(x, (x.shape[0], 4*12, 28, 28)), 2)\n",
    "        x = torch.reshape(x, (x.shape[0], 12, 4, 14, 14))\n",
    "        x = F.relu(self.conv3(x))\n",
    "        x = F.relu(self.conv4(x))\n",
    "        x = F.max_pool2d(torch.reshape(x, (x.shape[0], 4*24, 10, 10)), 2)\n",
    "        x = torch.reshape(x, (x.shape[0], 24, 4, 5, 5))\n",
    "        x = F.relu(self.conv5(x))\n",
    "        return x\n",
    "    \n",
    "    def forward_equivariant_cls(self, x):\n",
    "        x = self.forward_equivariant_features(x)\n",
    "        return self.conv6(x)[..., 0, 0]\n",
    "\n",
    "    def forward(self, x):\n",
    "        x = self.forward_equivariant_cls(x)\n",
    "        x = torch.mean(x, dim=2)\n",
    "        return x"
   ]
  },
  {
   "cell_type": "code",
   "execution_count": null,
   "id": "745b3c99",
   "metadata": {
    "deletable": false,
    "editable": false,
    "nbgrader": {
     "cell_type": "code",
     "checksum": "15513502292723a86a49f318e1f55202",
     "grade": true,
     "grade_id": "cell-1c215a36178e0aed",
     "locked": true,
     "points": 0,
     "schema_version": 3,
     "solution": false,
     "task": false
    },
    "tags": []
   },
   "outputs": [],
   "source": [
    "test_model = GCNN()\n",
    "test_input = torch.rand((1, 3, 32, 32))\n",
    "o_out = test_model(test_input)\n",
    "t_input = torch.flip(test_input, dims=(2,))\n",
    "t_out = test_model(t_input)\n",
    "\n",
    "# check that channels permute according to regular representation\n",
    "assert pytest.approx(o_out.detach().numpy(), rel=1e-3) == t_out.detach().numpy()"
   ]
  },
  {
   "cell_type": "markdown",
   "id": "8802eee2",
   "metadata": {
    "deletable": false,
    "editable": false,
    "nbgrader": {
     "cell_type": "markdown",
     "checksum": "52822719f67b627b70b60841b221bdf1",
     "grade": false,
     "grade_id": "cell-eb4fffbc90e70dea",
     "locked": true,
     "schema_version": 3,
     "solution": false,
     "task": false
    },
    "tags": []
   },
   "source": [
    "Define a training loop with early stopping based on the validation set"
   ]
  },
  {
   "cell_type": "code",
   "execution_count": null,
   "id": "4fafc586",
   "metadata": {
    "deletable": false,
    "editable": false,
    "nbgrader": {
     "cell_type": "code",
     "checksum": "90c130e463ca444500903ea0f9ed649d",
     "grade": false,
     "grade_id": "cell-1209afc72c4376c4",
     "locked": true,
     "schema_version": 3,
     "solution": false,
     "task": false
    },
    "tags": []
   },
   "outputs": [],
   "source": [
    "def evaluate(net, dataloader):\n",
    "    correct = 0\n",
    "    total = 0\n",
    "    # since we're not training, we don't need to calculate the gradients for our outputs\n",
    "    with torch.no_grad():\n",
    "        for data in dataloader:\n",
    "            images, labels = data\n",
    "            outputs = net(images)\n",
    "            _, predicted = torch.max(outputs.data, 1)\n",
    "            total += labels.size(0)\n",
    "            correct += (predicted == labels).sum().item()\n",
    "    return correct, total\n",
    "\n",
    "def train_and_evaluate(net, checkpoint_name: str):\n",
    "    if pathlib.Path(checkpoint_name).exists():\n",
    "        print(f\"Loading existing checkpoint {checkpoint_name}\")\n",
    "        net.load_state_dict(torch.load(checkpoint_name, weights_only=True))\n",
    "        return\n",
    "\n",
    "    criterion = nn.CrossEntropyLoss()\n",
    "    optimizer = optim.Adam(net.parameters(), lr=0.0001)\n",
    "    best = 0\n",
    "    patience = 0\n",
    "\n",
    "    for epoch in range(100):  # loop over the dataset multiple times\n",
    "\n",
    "        running_loss = 0.0\n",
    "        for i, data in enumerate(trainloader, 0):\n",
    "            # get the inputs; data is a list of [inputs, labels]\n",
    "            inputs, labels = data\n",
    "\n",
    "            # zero the parameter gradients\n",
    "            optimizer.zero_grad()\n",
    "\n",
    "            # forward + backward + optimize\n",
    "            outputs = net(inputs)\n",
    "            loss = criterion(outputs, labels)\n",
    "            loss.backward()\n",
    "            optimizer.step()\n",
    "\n",
    "            running_loss += loss.item()\n",
    "\n",
    "        correct, total = evaluate(net, valloader)        \n",
    "        print(f'[{epoch + 1}] loss: {running_loss / len(trainset):.3f} eval: {100 * correct / total:.2f}')\n",
    "        running_loss = 0.0\n",
    "        \n",
    "        if correct < best:\n",
    "            patience += 1\n",
    "            if patience > 10:\n",
    "                # early stop\n",
    "                break\n",
    "        else:\n",
    "            torch.save(net.state_dict(), checkpoint_name)\n",
    "            best = correct\n",
    "            patience = 0\n",
    "    \n",
    "    # reload best weights\n",
    "    net.load_state_dict(torch.load(checkpoint_name, weights_only=True))"
   ]
  },
  {
   "cell_type": "markdown",
   "id": "03dc8186",
   "metadata": {
    "deletable": false,
    "editable": false,
    "nbgrader": {
     "cell_type": "markdown",
     "checksum": "e9f809d445f48b7d5a36dae3ef89de0b",
     "grade": false,
     "grade_id": "cell-9696fa88aee00453",
     "locked": true,
     "schema_version": 3,
     "solution": false,
     "task": false
    },
    "tags": []
   },
   "source": [
    "Train the standard CNN"
   ]
  },
  {
   "cell_type": "code",
   "execution_count": null,
   "id": "3d968123",
   "metadata": {
    "deletable": false,
    "editable": false,
    "nbgrader": {
     "cell_type": "code",
     "checksum": "9b0bf5ee13c93a69d36caf0d3c8b41b4",
     "grade": false,
     "grade_id": "cell-d7c199622feb70be",
     "locked": true,
     "schema_version": 3,
     "solution": false,
     "task": false
    },
    "tags": []
   },
   "outputs": [],
   "source": [
    "cnn = CNN()\n",
    "print(f\"Parameters: {sum(p.numel() for p in cnn.parameters())}\")\n",
    "train_and_evaluate(cnn, \"ckp-cnn\")"
   ]
  },
  {
   "cell_type": "markdown",
   "id": "017e2d04-69ca-4179-b86e-aff92453d253",
   "metadata": {
    "deletable": false,
    "editable": false,
    "nbgrader": {
     "cell_type": "markdown",
     "checksum": "ca01ead1cc32222c4229a7728cb82b26",
     "grade": false,
     "grade_id": "cell-574629e3dbfca675",
     "locked": true,
     "schema_version": 3,
     "solution": false,
     "task": false
    },
    "tags": []
   },
   "source": [
    "Train the group-invariant CNN"
   ]
  },
  {
   "cell_type": "code",
   "execution_count": null,
   "id": "bd6f1545",
   "metadata": {
    "deletable": false,
    "editable": false,
    "nbgrader": {
     "cell_type": "code",
     "checksum": "345bd06c62f24e9d5456fed11608f705",
     "grade": false,
     "grade_id": "cell-1cb21516a2a8769f",
     "locked": true,
     "schema_version": 3,
     "solution": false,
     "task": false
    },
    "tags": []
   },
   "outputs": [],
   "source": [
    "gcnn = GCNN()\n",
    "print(f\"Parameters: {sum(p.numel() for p in gcnn.parameters())}\")\n",
    "train_and_evaluate(gcnn, \"ckp-gcnn\")"
   ]
  },
  {
   "cell_type": "markdown",
   "id": "eb1ebab2",
   "metadata": {
    "deletable": false,
    "editable": false,
    "nbgrader": {
     "cell_type": "markdown",
     "checksum": "de28e1be22a16cf0d897af4e4e2a678a",
     "grade": false,
     "grade_id": "cell-994bfcb2159bcaa0",
     "locked": true,
     "schema_version": 3,
     "solution": false,
     "task": false
    },
    "tags": []
   },
   "source": [
    "### Evaluate both the original model, and its group-smoothed version\n",
    "#### First on original CIFAR data"
   ]
  },
  {
   "cell_type": "code",
   "execution_count": null,
   "id": "51dfcb9d",
   "metadata": {
    "deletable": false,
    "editable": false,
    "nbgrader": {
     "cell_type": "code",
     "checksum": "d5f5a59496a5455256512bd0906427e6",
     "grade": false,
     "grade_id": "cell-67e55e62703bb609",
     "locked": true,
     "schema_version": 3,
     "solution": false,
     "task": false
    },
    "tags": []
   },
   "outputs": [],
   "source": [
    "test_transform = torchvision.transforms.Compose([torchvision.transforms.ToTensor()])\n",
    "testset = torchvision.datasets.CIFAR10(root='/coursedata', train=False,\n",
    "                                       download=True, transform=test_transform)\n",
    "testloader = torch.utils.data.DataLoader(testset, batch_size=batch_size,\n",
    "                                         shuffle=False)"
   ]
  },
  {
   "cell_type": "code",
   "execution_count": null,
   "id": "09e51319",
   "metadata": {
    "deletable": false,
    "editable": false,
    "nbgrader": {
     "cell_type": "code",
     "checksum": "a24f03fa3e0532668e6805b42b8d91bf",
     "grade": false,
     "grade_id": "cell-4d2df19f91c918d1",
     "locked": true,
     "schema_version": 3,
     "solution": false,
     "task": false
    },
    "tags": []
   },
   "outputs": [],
   "source": [
    "c, t = evaluate(cnn, testloader)\n",
    "c4, t4 = evaluate(gcnn, testloader)\n",
    "print(f\"Accuracy: {100 * c / t:.2f}% vs {100 * c4 / t4:.2f}%\")"
   ]
  },
  {
   "cell_type": "markdown",
   "id": "6a66fa4c",
   "metadata": {
    "deletable": false,
    "editable": false,
    "nbgrader": {
     "cell_type": "markdown",
     "checksum": "3825c5ae6d9cdf25a791b1fa93e058ff",
     "grade": false,
     "grade_id": "cell-7df6dd968e5d329b",
     "locked": true,
     "schema_version": 3,
     "solution": false,
     "task": false
    },
    "tags": []
   },
   "source": [
    "#### Then on augmented CIFAR"
   ]
  },
  {
   "cell_type": "code",
   "execution_count": null,
   "id": "44f28a38",
   "metadata": {
    "deletable": false,
    "editable": false,
    "nbgrader": {
     "cell_type": "code",
     "checksum": "1619a3985d96a129629133dd2a8a66db",
     "grade": false,
     "grade_id": "cell-28077ca08c5631bf",
     "locked": true,
     "schema_version": 3,
     "solution": false,
     "task": false
    },
    "tags": []
   },
   "outputs": [],
   "source": [
    "test_transform = torchvision.transforms.Compose([torchvision.transforms.ToTensor(),\n",
    "                                                 torchvision.transforms.RandomHorizontalFlip(),\n",
    "                                                 torchvision.transforms.RandomVerticalFlip()])\n",
    "testset = torchvision.datasets.CIFAR10(root='/coursedata', train=False,\n",
    "                                       download=True, transform=test_transform)\n",
    "testloader = torch.utils.data.DataLoader(testset, batch_size=batch_size,\n",
    "                                         shuffle=False)"
   ]
  },
  {
   "cell_type": "code",
   "execution_count": null,
   "id": "29e5406d",
   "metadata": {
    "deletable": false,
    "editable": false,
    "nbgrader": {
     "cell_type": "code",
     "checksum": "0a553193741ab7871bdfeb069aac0a48",
     "grade": false,
     "grade_id": "cell-842ad41e1d7b4468",
     "locked": true,
     "schema_version": 3,
     "solution": false,
     "task": false
    },
    "tags": []
   },
   "outputs": [],
   "source": [
    "c, t = evaluate(cnn, testloader)\n",
    "c4, t4 = evaluate(gcnn, testloader)\n",
    "print(f\"Accuracy: {100 * c / t:.2f}% vs {100 * c4 / t4:.2f}%\")"
   ]
  },
  {
   "cell_type": "markdown",
   "id": "b04c0636",
   "metadata": {
    "deletable": false,
    "editable": false,
    "nbgrader": {
     "cell_type": "markdown",
     "checksum": "da9c4812aee852a854ef29429f178cbe",
     "grade": false,
     "grade_id": "cell-ce12862cbe56b21d",
     "locked": true,
     "schema_version": 3,
     "solution": false,
     "task": false
    },
    "tags": []
   },
   "source": [
    "### Visualization of equivariant features.\n",
    "Pick a feature map (`midx`) and a training sample (`sidx`), then run the cells below to see how the feature map transformes when the input transforms."
   ]
  },
  {
   "cell_type": "code",
   "execution_count": null,
   "id": "35559310",
   "metadata": {
    "tags": []
   },
   "outputs": [],
   "source": [
    "# pick one feature map\n",
    "midx = 4\n",
    "sidx = 1"
   ]
  },
  {
   "cell_type": "code",
   "execution_count": null,
   "id": "3f4ec544",
   "metadata": {
    "deletable": false,
    "editable": false,
    "nbgrader": {
     "cell_type": "code",
     "checksum": "f391746022af8c2a57b67e2e62c3f329",
     "grade": false,
     "grade_id": "cell-c9cd5f889655122a",
     "locked": true,
     "schema_version": 3,
     "solution": false,
     "task": false
    },
    "tags": []
   },
   "outputs": [],
   "source": [
    "sample = trainset[sidx][0]\n",
    "label = trainset[sidx][1]\n",
    "plt.imshow(sample.permute(1, 2, 0).detach().numpy())\n",
    "plt.show()"
   ]
  },
  {
   "cell_type": "code",
   "execution_count": null,
   "id": "0ee1144c",
   "metadata": {
    "deletable": false,
    "editable": false,
    "nbgrader": {
     "cell_type": "code",
     "checksum": "d81c7206bd7c413cc25eb34ad4d62e6b",
     "grade": false,
     "grade_id": "cell-efaab6ad2ff5a381",
     "locked": true,
     "schema_version": 3,
     "solution": false,
     "task": false
    },
    "tags": []
   },
   "outputs": [],
   "source": [
    "s = sample[None, ...]\n",
    "fmap = gcnn.forward_equivariant_features(s)[0, midx, :, ...]\n",
    "lmap = gcnn.forward_equivariant_cls(s)[0, label]\n",
    "print(lmap.detach().numpy())\n",
    "\n",
    "fig, ax = plt.subplots(4, 4)\n",
    "\n",
    "for i in range(4):\n",
    "    ax[0, i].imshow(fmap[i].detach().numpy())\n",
    "\n",
    "s = torch.flip(sample[None, ...], dims=(2,))\n",
    "fmap = gcnn.forward_equivariant_features(s)[0, midx, :, ...]\n",
    "lmap = gcnn.forward_equivariant_cls(s)[0, label]\n",
    "print(lmap.detach().numpy())\n",
    "for i in range(4):\n",
    "    ax[1, i].imshow(fmap[i].detach().numpy())\n",
    "\n",
    "s = torch.flip(sample[None, ...], dims=(3,))\n",
    "fmap = gcnn.forward_equivariant_features(s)[0, midx, :, ...]\n",
    "lmap = gcnn.forward_equivariant_cls(s)[0, label]\n",
    "print(lmap.detach().numpy())\n",
    "for i in range(4):\n",
    "    ax[2, i].imshow(fmap[i].detach().numpy())\n",
    "\n",
    "s = torch.rot90(sample[None, ...], k=2, dims=(2,3))\n",
    "fmap = gcnn.forward_equivariant_features(s)[0, midx, :, ...]\n",
    "lmap = gcnn.forward_equivariant_cls(s)[0, label]\n",
    "print(lmap.detach().numpy())\n",
    "for i in range(4):\n",
    "    ax[3, i].imshow(fmap[i].detach().numpy())\n",
    "\n",
    "for i in range(4):\n",
    "    for j in range(4):\n",
    "        ax[i, j].set_xticks([])\n",
    "        ax[i, j].set_yticks([])"
   ]
  },
  {
   "cell_type": "code",
   "execution_count": null,
   "id": "8af191c8-31c4-4cbb-8503-5c3d036167c2",
   "metadata": {},
   "outputs": [],
   "source": []
  },
  {
   "cell_type": "code",
   "execution_count": null,
   "id": "87c4236b-8b87-4b32-a8a2-816e2345af73",
   "metadata": {},
   "outputs": [],
   "source": []
  }
 ],
 "metadata": {
  "kernelspec": {
   "display_name": "Python 3",
   "language": "python",
   "name": "python3"
  },
  "language_info": {
   "codemirror_mode": {
    "name": "ipython",
    "version": 3
   },
   "file_extension": ".py",
   "mimetype": "text/x-python",
   "name": "python",
   "nbconvert_exporter": "python",
   "pygments_lexer": "ipython3",
   "version": "3.10.12"
  }
 },
 "nbformat": 4,
 "nbformat_minor": 5
}
