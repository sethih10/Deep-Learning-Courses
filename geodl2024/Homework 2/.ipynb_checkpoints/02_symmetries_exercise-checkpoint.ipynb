{
 "cells": [
  {
   "cell_type": "markdown",
   "id": "def3c47d",
   "metadata": {
    "deletable": false,
    "editable": false,
    "nbgrader": {
     "cell_type": "markdown",
     "checksum": "b8822580b8a8b7dcc5f53e41e8ccea74",
     "grade": false,
     "grade_id": "cell-2e2a0b916beb0248",
     "locked": true,
     "schema_version": 3,
     "solution": false,
     "task": false
    },
    "tags": []
   },
   "source": [
    "## Permutation Group (1pt):\n",
    "Consider the permutation group S(n).\n",
    "A transposition, written as (a,b), switches element a and b, e.g., (1,3) indicates that the sequence 1,2,3 will be mapped to 3,2,1.\n",
    "Show that the set of transpositions (1,2), ..., (1,n) serves as a generator for S(n)."
   ]
  },
  {
   "cell_type": "markdown",
   "id": "0f932366",
   "metadata": {
    "deletable": false,
    "jp-MarkdownHeadingCollapsed": true,
    "nbgrader": {
     "cell_type": "markdown",
     "checksum": "3aa4c13ebf72ef1812d12ff2059ab72b",
     "grade": true,
     "grade_id": "cell-d56f9f330fb010bc",
     "locked": false,
     "points": 1,
     "schema_version": 3,
     "solution": true,
     "task": false
    },
    "tags": []
   },
   "source": [
    "YOUR ANSWER HERE"
   ]
  },
  {
   "cell_type": "markdown",
   "id": "37472c3d",
   "metadata": {
    "deletable": false,
    "editable": false,
    "nbgrader": {
     "cell_type": "markdown",
     "checksum": "d3de44c498147270039eb9be58504643",
     "grade": false,
     "grade_id": "cell-3e6a5f8fc6e4667b",
     "locked": true,
     "schema_version": 3,
     "solution": false,
     "task": false
    },
    "tags": []
   },
   "source": [
    "## Group Action (2pts):\n",
    "\n",
    "There are three sticks, and three coloured disks with holes in them located on the sticks (see sketch)."
   ]
  },
  {
   "cell_type": "markdown",
   "id": "5fb5bf23-927f-4f5a-8b7c-fe15ed6be6ce",
   "metadata": {
    "deletable": false,
    "editable": false,
    "nbgrader": {
     "cell_type": "markdown",
     "checksum": "eaa7019d2025d519feff7b6b5ac89089",
     "grade": false,
     "grade_id": "cell-9b778dd807053b62",
     "locked": true,
     "schema_version": 3,
     "solution": false,
     "task": false
    },
    "tags": []
   },
   "source": [
    "![sketch](sketch.png)"
   ]
  },
  {
   "cell_type": "markdown",
   "id": "5a9ac631",
   "metadata": {
    "deletable": false,
    "editable": false,
    "nbgrader": {
     "cell_type": "markdown",
     "checksum": "6fa1aee544c5279e810f161abd377047",
     "grade": false,
     "grade_id": "cell-2f03897a3ceb00d3",
     "locked": true,
     "schema_version": 3,
     "solution": false,
     "task": false
    },
    "tags": []
   },
   "source": [
    "Take the symmetry group S(3) and define that a transposition (a, b) acts on the configuration as \"take a disk from stick a and move it to stick b\".\n",
    "**a)** Does this result in a valid group action? \n",
    "**b)** What if the action is instead \"exchange disks A <-> B\"?"
   ]
  },
  {
   "cell_type": "markdown",
   "id": "17c92f93",
   "metadata": {
    "deletable": false,
    "nbgrader": {
     "cell_type": "markdown",
     "checksum": "d2baf7a9663499649b7a24e909ae0d3a",
     "grade": true,
     "grade_id": "cell-b5f7b0e0c56b69c4",
     "locked": false,
     "points": 1,
     "schema_version": 3,
     "solution": true,
     "task": false
    },
    "tags": []
   },
   "source": [
    "YOUR ANSWER HERE"
   ]
  },
  {
   "cell_type": "markdown",
   "id": "d07d29ab",
   "metadata": {
    "deletable": false,
    "editable": false,
    "nbgrader": {
     "cell_type": "markdown",
     "checksum": "eea190ad3ffa68dbda3a4196589ba1ef",
     "grade": false,
     "grade_id": "cell-ed3735061c39fef5",
     "locked": true,
     "schema_version": 3,
     "solution": false,
     "task": false
    },
    "tags": []
   },
   "source": [
    "Can you define a group action that corresponds to rearranging the disks? How many dimensions does it have?\n",
    "(it is not necessary to define _all_ matrices, a  description how to construct them is sufficient)."
   ]
  },
  {
   "cell_type": "markdown",
   "id": "0f2c22b9",
   "metadata": {
    "deletable": false,
    "nbgrader": {
     "cell_type": "markdown",
     "checksum": "2ea8b1637121b374a6fa7ee4c4535a36",
     "grade": true,
     "grade_id": "cell-0de30b2bbc48b543",
     "locked": false,
     "points": 1,
     "schema_version": 3,
     "solution": true,
     "task": false
    },
    "tags": []
   },
   "source": [
    "YOUR ANSWER HERE"
   ]
  },
  {
   "cell_type": "markdown",
   "id": "ed2450c5",
   "metadata": {
    "deletable": false,
    "editable": false,
    "nbgrader": {
     "cell_type": "markdown",
     "checksum": "b8ac565db5b7e57617c6f86d2b7158af",
     "grade": false,
     "grade_id": "cell-cad4cd870c921c9c",
     "locked": true,
     "schema_version": 3,
     "solution": false,
     "task": false
    },
    "tags": []
   },
   "source": [
    "#### Hint:\n",
    "This exercise is deliberately somewhat vague and uses a weird example. There are multiple, potentially contradictory, ways to answer this. The important part is not the answer itself, but how it is justified."
   ]
  },
  {
   "cell_type": "markdown",
   "id": "30e54498",
   "metadata": {
    "deletable": false,
    "editable": false,
    "nbgrader": {
     "cell_type": "markdown",
     "checksum": "cfde6657ddac5162f3f500e32b6cffe0",
     "grade": false,
     "grade_id": "cell-61548848303f74d7",
     "locked": true,
     "schema_version": 3,
     "solution": false,
     "task": false
    },
    "tags": []
   },
   "source": [
    "## Two-dimensional isometries (1pt)\n",
    "Consider the group of translations and rotations in two dimensions. Using the trick presented in the lecture, write down a faithful group representation. Let (theta, (u, v)) correspond to a rotation by angle theta, followed by a shift by (u, v). \n",
    "Write down R(theta, (u, v)). Show that your matrix effects the right transformation when applied to a vector, and  that the product of two such matrices correspond to the composition of group elements."
   ]
  },
  {
   "cell_type": "markdown",
   "id": "8e84305c",
   "metadata": {
    "deletable": false,
    "nbgrader": {
     "cell_type": "markdown",
     "checksum": "c597bf7064aed1a6e8237b8606f93429",
     "grade": true,
     "grade_id": "cell-d4d247d122b7241f",
     "locked": false,
     "points": 1,
     "schema_version": 3,
     "solution": true,
     "task": false
    },
    "tags": []
   },
   "source": [
    "YOUR ANSWER HERE"
   ]
  },
  {
   "cell_type": "markdown",
   "id": "43e5c751",
   "metadata": {
    "deletable": false,
    "editable": false,
    "nbgrader": {
     "cell_type": "markdown",
     "checksum": "e3cb2da35edf547e0e37a7e9a36480d4",
     "grade": false,
     "grade_id": "cell-0674d9c8b154f075",
     "locked": true,
     "schema_version": 3,
     "solution": false,
     "task": false
    },
    "tags": []
   },
   "source": [
    "## Group Smoothing (2pts)"
   ]
  },
  {
   "cell_type": "code",
   "execution_count": null,
   "id": "4ce9c922",
   "metadata": {
    "deletable": false,
    "editable": false,
    "nbgrader": {
     "cell_type": "code",
     "checksum": "d0c266190c92d3aafa0ff71032810989",
     "grade": false,
     "grade_id": "cell-04552669dfec2394",
     "locked": true,
     "schema_version": 3,
     "solution": false,
     "task": false
    },
    "tags": []
   },
   "outputs": [],
   "source": [
    "!pip install torch torchvision"
   ]
  },
  {
   "cell_type": "code",
   "execution_count": null,
   "id": "4cad5ba9",
   "metadata": {
    "deletable": false,
    "editable": false,
    "nbgrader": {
     "cell_type": "code",
     "checksum": "ed9b8874af5c1592750993e6af681b72",
     "grade": false,
     "grade_id": "cell-cab4a9b3dbf83d23",
     "locked": true,
     "schema_version": 3,
     "solution": false,
     "task": false
    },
    "tags": []
   },
   "outputs": [],
   "source": [
    "import torch\n",
    "import torchvision\n",
    "import torch.nn as nn\n",
    "import torch.nn.functional as F\n",
    "import torch.optim as optim\n",
    "import numpy as np"
   ]
  },
  {
   "cell_type": "markdown",
   "id": "cc919cf8",
   "metadata": {
    "deletable": false,
    "editable": false,
    "nbgrader": {
     "cell_type": "markdown",
     "checksum": "2d84ad23123e47f1137f7c8c9a29b340",
     "grade": false,
     "grade_id": "cell-b27c1bf067866675",
     "locked": true,
     "schema_version": 3,
     "solution": false,
     "task": false
    },
    "tags": []
   },
   "source": [
    "Get CIFAR data. We are interested in the data-scarce regime, so we subsample the  training set down to just two percent of the original data."
   ]
  },
  {
   "cell_type": "code",
   "execution_count": null,
   "id": "b257b6e8",
   "metadata": {
    "deletable": false,
    "editable": false,
    "nbgrader": {
     "cell_type": "code",
     "checksum": "b71a2908b97098533b083713524de348",
     "grade": false,
     "grade_id": "cell-c1c881d2f29674e5",
     "locked": true,
     "schema_version": 3,
     "solution": false,
     "task": false
    },
    "tags": []
   },
   "outputs": [],
   "source": [
    "transform = torchvision.transforms.Compose([torchvision.transforms.ToTensor()])\n",
    "batch_size = 8\n",
    "trainset = torchvision.datasets.CIFAR10(root='/coursedata', train=True,\n",
    "                                      download=True, transform=transform)\n",
    "trainset, valset, _ = torch.utils.data.random_split(trainset, [0.02, 0.02, 0.96], generator=torch.Generator().manual_seed(42))\n",
    "trainloader = torch.utils.data.DataLoader(trainset, batch_size=batch_size,\n",
    "                                          shuffle=True)\n",
    "\n",
    "valloader = torch.utils.data.DataLoader(valset, batch_size=batch_size,\n",
    "                                        shuffle=False)\n",
    "\n",
    "testset = torchvision.datasets.CIFAR10(root='/coursedata', train=False,\n",
    "                                     download=True, transform=transform)\n",
    "testloader = torch.utils.data.DataLoader(testset, batch_size=batch_size,\n",
    "                                         shuffle=False)"
   ]
  },
  {
   "cell_type": "markdown",
   "id": "7fdaa9c1",
   "metadata": {
    "deletable": false,
    "editable": false,
    "nbgrader": {
     "cell_type": "markdown",
     "checksum": "b07f30a2585a25cebd7ddce7b83d18fb",
     "grade": false,
     "grade_id": "cell-2db1bdc751837894",
     "locked": true,
     "schema_version": 3,
     "solution": false,
     "task": false
    },
    "tags": []
   },
   "source": [
    "Define a simple MLP model."
   ]
  },
  {
   "cell_type": "code",
   "execution_count": null,
   "id": "7d0f5b58",
   "metadata": {
    "deletable": false,
    "editable": false,
    "nbgrader": {
     "cell_type": "code",
     "checksum": "de03558cf5ae1e7b88b8895d27201990",
     "grade": false,
     "grade_id": "cell-7bd7ccb221d5847e",
     "locked": true,
     "schema_version": 3,
     "solution": false,
     "task": false
    },
    "tags": []
   },
   "outputs": [],
   "source": [
    "class MLP(nn.Module):\n",
    "    def __init__(self):\n",
    "        super().__init__()\n",
    "        self.fc1 = nn.Linear(32*32*3, 64)\n",
    "        self.fc2 = nn.Linear(64, 64)\n",
    "        self.fc3 = nn.Linear(64, 10)\n",
    "\n",
    "    def forward(self, x):\n",
    "        x = torch.flatten(x, 1) # flatten all dimensions except batch\n",
    "        x = F.relu(self.fc1(x))\n",
    "        x = F.relu(self.fc2(x))\n",
    "        x = self.fc3(x)\n",
    "        return x"
   ]
  },
  {
   "cell_type": "markdown",
   "id": "8802eee2",
   "metadata": {
    "deletable": false,
    "editable": false,
    "nbgrader": {
     "cell_type": "markdown",
     "checksum": "c5cda3124968bac2fde0f3254d248dda",
     "grade": false,
     "grade_id": "cell-304c7e23f6616bda",
     "locked": true,
     "schema_version": 3,
     "solution": false,
     "task": false
    },
    "tags": []
   },
   "source": [
    "Define a training loop with early stopping based on the validation set"
   ]
  },
  {
   "cell_type": "code",
   "execution_count": null,
   "id": "4fafc586",
   "metadata": {
    "deletable": false,
    "editable": false,
    "nbgrader": {
     "cell_type": "code",
     "checksum": "d335afb2ebcba8dd83e6e90d4c84565d",
     "grade": false,
     "grade_id": "cell-dc10d7c356e8f2a6",
     "locked": true,
     "schema_version": 3,
     "solution": false,
     "task": false
    },
    "tags": []
   },
   "outputs": [],
   "source": [
    "def evaluate(net, dataloader):\n",
    "    correct = 0\n",
    "    total = 0\n",
    "    with torch.no_grad():\n",
    "        for data in dataloader:\n",
    "            images, labels = data\n",
    "            outputs = net(images)\n",
    "            _, predicted = torch.max(outputs.data, 1)\n",
    "            total += labels.size(0)\n",
    "            correct += (predicted == labels).sum().item()\n",
    "    return correct, total\n",
    "\n",
    "def train_and_evaluate(net):\n",
    "    criterion = nn.CrossEntropyLoss()\n",
    "    optimizer = optim.SGD(net.parameters(), lr=0.002, momentum=0.9)\n",
    "    best = 0\n",
    "    patience = 0\n",
    "\n",
    "    for epoch in range(100):  \n",
    "        running_loss = 0.0\n",
    "        for i, data in enumerate(trainloader, 0):  # loop over the dataset\n",
    "            inputs, labels = data\n",
    "\n",
    "            # zero the parameter gradients\n",
    "            optimizer.zero_grad()\n",
    "\n",
    "            # forward + backward + optimize\n",
    "            outputs = net(inputs)\n",
    "            loss = criterion(outputs, labels)\n",
    "            loss.backward()\n",
    "            optimizer.step()\n",
    "\n",
    "            running_loss += loss.item()\n",
    "\n",
    "        correct, total = evaluate(net, valloader)        \n",
    "        print(f'[{epoch + 1}] loss: {running_loss / len(trainset):.3f} eval: {100 * correct / total:.2f}')\n",
    "        running_loss = 0.0\n",
    "        \n",
    "        if correct < best:\n",
    "            patience += 1\n",
    "            if patience > 10:\n",
    "                # early stop\n",
    "                break\n",
    "        else:\n",
    "            torch.save(net.state_dict(), \"ckp\")\n",
    "            best = correct\n",
    "            patience = 0\n",
    "    \n",
    "    # reload best weights\n",
    "    net.load_state_dict(torch.load(\"ckp\", weights_only=True))"
   ]
  },
  {
   "cell_type": "markdown",
   "id": "03dc8186",
   "metadata": {
    "deletable": false,
    "editable": false,
    "nbgrader": {
     "cell_type": "markdown",
     "checksum": "42cd3e972c531959b5960f8d7678bded",
     "grade": false,
     "grade_id": "cell-8465e74cf51f0a0f",
     "locked": true,
     "schema_version": 3,
     "solution": false,
     "task": false
    },
    "tags": []
   },
   "source": [
    "Train a standard MLP"
   ]
  },
  {
   "cell_type": "code",
   "execution_count": null,
   "id": "bd6f1545",
   "metadata": {
    "deletable": false,
    "editable": false,
    "nbgrader": {
     "cell_type": "code",
     "checksum": "fc6fa035c10cc50e4020bb2848283a52",
     "grade": false,
     "grade_id": "cell-bf9dbd3c474f49ad",
     "locked": true,
     "schema_version": 3,
     "solution": false,
     "task": false
    },
    "tags": []
   },
   "outputs": [],
   "source": [
    "net = MLP()\n",
    "train_and_evaluate(net)"
   ]
  },
  {
   "cell_type": "markdown",
   "id": "fc9aa855",
   "metadata": {
    "deletable": false,
    "editable": false,
    "nbgrader": {
     "cell_type": "markdown",
     "checksum": "650fd475b7c7ed81417df82ad4f93605",
     "grade": false,
     "grade_id": "cell-4b2705dda5efa000",
     "locked": true,
     "points": 1,
     "schema_version": 3,
     "solution": false,
     "task": true
    },
    "tags": []
   },
   "source": [
    "Fill in the code below and implement a model wrapper that takes an arbitrary pytorch model, and makes a group-smoothed version for the D4 group (rotation+flip)."
   ]
  },
  {
   "cell_type": "code",
   "execution_count": null,
   "id": "6191f2ba",
   "metadata": {
    "tags": []
   },
   "outputs": [],
   "source": [
    "class D4Net(nn.Module):\n",
    "    def __init__(self, backbone: nn.Module):\n",
    "        super().__init__()\n",
    "        self.backbone = backbone\n",
    "\n",
    "    def forward(self, x):\n",
    "        ### YOUR CODE HERE\n",
    "        return self.backbone(x)\n",
    "        ### YOUR CODE HERE"
   ]
  },
  {
   "cell_type": "markdown",
   "id": "d2a5f1f1-cfb1-4d28-a137-6031b30bfe5a",
   "metadata": {
    "deletable": false,
    "editable": false,
    "nbgrader": {
     "cell_type": "markdown",
     "checksum": "0f6c2a49ddd3052549cf79fde6b21e0b",
     "grade": false,
     "grade_id": "cell-666f9921664f50a6",
     "locked": true,
     "schema_version": 3,
     "solution": false,
     "task": false
    },
    "tags": []
   },
   "source": [
    "Check that the resulting network is in fact invariant."
   ]
  },
  {
   "cell_type": "code",
   "execution_count": null,
   "id": "7db908a6-8398-443b-a0e0-a8f1de32e4a7",
   "metadata": {
    "deletable": false,
    "editable": false,
    "nbgrader": {
     "cell_type": "code",
     "checksum": "55a8e4783b3d5aa0c78e8e2fee55c123",
     "grade": false,
     "grade_id": "cell-10b52320b513debe",
     "locked": true,
     "schema_version": 3,
     "solution": false,
     "task": false
    },
    "tags": []
   },
   "outputs": [],
   "source": [
    "fake_image_a = torch.zeros((1, 3, 32, 32))\n",
    "fake_image_a[0, 0, 0, 1] = 1.0\n",
    "\n",
    "fake_image_b = torch.zeros((1, 3, 32, 32))\n",
    "fake_image_b[0, 0, 0, 30] = 1.0\n",
    "\n",
    "assert(np.allclose(D4Net(net)(fake_image_a).detach().numpy(), D4Net(net)(fake_image_b).detach().numpy()))\n",
    "\n",
    "fake_image_b = torch.zeros((1, 3, 32, 32))\n",
    "fake_image_b[0, 0, 30, 0] = 1.0\n",
    "\n",
    "assert(np.allclose(D4Net(net)(fake_image_a).detach().numpy(), D4Net(net)(fake_image_b).detach().numpy()))"
   ]
  },
  {
   "cell_type": "markdown",
   "id": "1a58ccdf-7b60-4223-8886-c87eb8112234",
   "metadata": {
    "deletable": false,
    "editable": false,
    "nbgrader": {
     "cell_type": "markdown",
     "checksum": "4740ceaabccdb45e25c068f3908716f8",
     "grade": false,
     "grade_id": "cell-3b813197a231c6bb",
     "locked": true,
     "schema_version": 3,
     "solution": false,
     "task": false
    },
    "tags": []
   },
   "source": [
    "Evaluate both the original model, and its group-smoothed version"
   ]
  },
  {
   "cell_type": "code",
   "execution_count": null,
   "id": "09e51319",
   "metadata": {
    "deletable": false,
    "editable": false,
    "nbgrader": {
     "cell_type": "code",
     "checksum": "23cae2f36cfd793f4f6b77be27571d8e",
     "grade": false,
     "grade_id": "cell-683f932bacdf000c",
     "locked": true,
     "schema_version": 3,
     "solution": false,
     "task": false
    },
    "tags": []
   },
   "outputs": [],
   "source": [
    "c, t = evaluate(net, testloader)\n",
    "c4, t4 = evaluate(D4Net(net), testloader)\n",
    "print(f\"Accuracy: {100 * c / t:.2f}% vs {100 * c4 / t4:.2f}%\")"
   ]
  },
  {
   "cell_type": "markdown",
   "id": "bde93a66",
   "metadata": {
    "deletable": false,
    "editable": false,
    "nbgrader": {
     "cell_type": "markdown",
     "checksum": "9a5e146c8875eb25a9c383f6eb91ced1",
     "grade": false,
     "grade_id": "cell-0a85e13954198122",
     "locked": true,
     "schema_version": 3,
     "solution": false,
     "task": false
    },
    "tags": []
   },
   "source": [
    "Now train a group-smoothed net from scratch"
   ]
  },
  {
   "cell_type": "code",
   "execution_count": null,
   "id": "1d5b50bb",
   "metadata": {
    "deletable": false,
    "editable": false,
    "nbgrader": {
     "cell_type": "code",
     "checksum": "e12fe99013f7ee34ff124cf8c8434099",
     "grade": false,
     "grade_id": "cell-15bcf94b6d58b7be",
     "locked": true,
     "schema_version": 3,
     "solution": false,
     "task": false
    },
    "tags": []
   },
   "outputs": [],
   "source": [
    "d4net = D4Net(MLP())\n",
    "train_and_evaluate(d4net)"
   ]
  },
  {
   "cell_type": "markdown",
   "id": "cc075fff",
   "metadata": {
    "deletable": false,
    "editable": false,
    "nbgrader": {
     "cell_type": "markdown",
     "checksum": "9e5bb08c9b1aa88be7cdbcf0b86f5eb5",
     "grade": false,
     "grade_id": "cell-971bc24348bf2690",
     "locked": true,
     "schema_version": 3,
     "solution": false,
     "task": false
    },
    "tags": []
   },
   "source": [
    "And evaluate this, too"
   ]
  },
  {
   "cell_type": "code",
   "execution_count": null,
   "id": "3cd44ebe",
   "metadata": {
    "deletable": false,
    "editable": false,
    "nbgrader": {
     "cell_type": "code",
     "checksum": "7369062855d9445d17b395dd8671ced7",
     "grade": false,
     "grade_id": "cell-e5dea1fcc5358932",
     "locked": true,
     "schema_version": 3,
     "solution": false,
     "task": false
    },
    "tags": []
   },
   "outputs": [],
   "source": [
    "c4, t4 = evaluate(d4net, testloader)\n",
    "print(f\"Accuracy: {100 * c / t:.2f}% vs {100 * c4 / t4:.2f}%\")"
   ]
  },
  {
   "cell_type": "markdown",
   "id": "156e1ecb",
   "metadata": {
    "deletable": false,
    "editable": false,
    "nbgrader": {
     "cell_type": "markdown",
     "checksum": "72ea587cf3597326ac9a74917385978e",
     "grade": false,
     "grade_id": "cell-08134855d439c93f",
     "locked": true,
     "schema_version": 3,
     "solution": false,
     "task": false
    },
    "tags": []
   },
   "source": [
    "What is your interpretation of this result? Does it contradict the lecture?"
   ]
  },
  {
   "cell_type": "markdown",
   "id": "aa9dbcdd",
   "metadata": {
    "deletable": false,
    "nbgrader": {
     "cell_type": "markdown",
     "checksum": "380f73f87d5fb3f63e8153e8dc1a5e2a",
     "grade": true,
     "grade_id": "cell-fea67aa755855f36",
     "locked": false,
     "points": 1,
     "schema_version": 3,
     "solution": true,
     "task": false
    },
    "tags": []
   },
   "source": [
    "YOUR ANSWER HERE"
   ]
  },
  {
   "cell_type": "code",
   "execution_count": null,
   "id": "446de3f0",
   "metadata": {},
   "outputs": [],
   "source": []
  }
 ],
 "metadata": {
  "kernelspec": {
   "display_name": "Python 3",
   "language": "python",
   "name": "python3"
  },
  "language_info": {
   "codemirror_mode": {
    "name": "ipython",
    "version": 3
   },
   "file_extension": ".py",
   "mimetype": "text/x-python",
   "name": "python",
   "nbconvert_exporter": "python",
   "pygments_lexer": "ipython3",
   "version": "3.10.12"
  }
 },
 "nbformat": 4,
 "nbformat_minor": 5
}
