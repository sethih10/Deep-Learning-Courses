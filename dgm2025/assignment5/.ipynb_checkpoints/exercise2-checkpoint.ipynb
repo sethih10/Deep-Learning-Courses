{
 "cells": [
  {
   "cell_type": "code",
   "execution_count": null,
   "id": "4dfe75ec-dcad-441e-b56f-625efed82efe",
   "metadata": {
    "deletable": false,
    "editable": false,
    "nbgrader": {
     "cell_type": "code",
     "checksum": "41a9f0eb0a86a846bcff729074825008",
     "grade": false,
     "grade_id": "cell-8771e304fcadbcfc",
     "locked": true,
     "schema_version": 3,
     "solution": false,
     "task": false
    },
    "tags": []
   },
   "outputs": [],
   "source": [
    "import os\n",
    "import numpy as np"
   ]
  },
  {
   "cell_type": "markdown",
   "id": "25bed0aa-d6d1-4776-8b86-9b3b4eb9be7f",
   "metadata": {
    "deletable": false,
    "editable": false,
    "nbgrader": {
     "cell_type": "markdown",
     "checksum": "7944404475ccf46fb78d38fcaa276ca1",
     "grade": false,
     "grade_id": "cell-1180ec45781771c2",
     "locked": true,
     "schema_version": 3,
     "solution": false,
     "task": false
    },
    "tags": []
   },
   "source": [
    "# Exercise 2: BPE Tokenizer (3p)\n",
    "\n",
    "Next, we move on to language modeling, a common use case for autoregressive models. A crucial part of language modeling is the tokenizer, with Byte Pair Encoding (BPE) being widely adopted in state-of-the-art language models. The central idea of BPE is iteratively replacing the most frequent pairs of tokens (initially bytes) with new, unused tokens. Your task is to implement a simplified version of the BPE tokenizer using the Shakespeare dataset.\n",
    "\n",
    "First, we download and preview the Shakespeare dataset:"
   ]
  },
  {
   "cell_type": "code",
   "execution_count": null,
   "id": "455ef738-dd14-4658-aae5-ab287b113dc8",
   "metadata": {
    "deletable": false,
    "editable": false,
    "nbgrader": {
     "cell_type": "code",
     "checksum": "501f646b0d9a5fc0b6ed67b47ed460e3",
     "grade": false,
     "grade_id": "cell-70d45fd816724e50",
     "locked": true,
     "schema_version": 3,
     "solution": false,
     "task": false
    },
    "tags": []
   },
   "outputs": [],
   "source": [
    "# Check if the file already exists\n",
    "if not os.path.exists(\"input.txt\"):\n",
    "    !wget https://raw.githubusercontent.com/karpathy/char-rnn/refs/heads/master/data/tinyshakespeare/input.txt\n",
    "else:\n",
    "    print(\"input.txt already exists. Skipping download.\\n\")\n",
    "\n",
    "# Preview dataset\n",
    "with open('input.txt', 'r') as file:\n",
    "    content = file.read()\n",
    "print(content[:250])"
   ]
  },
  {
   "cell_type": "markdown",
   "id": "d3af2c61-b762-47b6-a500-7f31b832a8d5",
   "metadata": {
    "deletable": false,
    "editable": false,
    "nbgrader": {
     "cell_type": "markdown",
     "checksum": "3ccb72d3f4f5aeb749c054c00207cbe0",
     "grade": false,
     "grade_id": "cell-91f8cd1cb293bedd",
     "locked": true,
     "schema_version": 3,
     "solution": false,
     "task": false
    },
    "tags": []
   },
   "source": [
    "We will use the first 5000 characters from the dataset for training. Let's encode it into UTF-8 bytes and represent it as integers:"
   ]
  },
  {
   "cell_type": "code",
   "execution_count": null,
   "id": "3182b80b-97c9-49d4-8c13-55dc7b953a19",
   "metadata": {
    "deletable": false,
    "editable": false,
    "nbgrader": {
     "cell_type": "code",
     "checksum": "4da36d48d2fd89dcb9bc5095c265fe39",
     "grade": false,
     "grade_id": "cell-6eae4336c96fbdb3",
     "locked": true,
     "schema_version": 3,
     "solution": false,
     "task": false
    },
    "tags": []
   },
   "outputs": [],
   "source": [
    "training_text = content[:5000]\n",
    "training_data = training_text.encode(\"utf-8\")\n",
    "training_data = list(map(int, training_data))\n",
    "training_data[:10]"
   ]
  },
  {
   "cell_type": "markdown",
   "id": "e0efbe30-498e-46da-833d-b841e405df2e",
   "metadata": {
    "deletable": false,
    "editable": false,
    "nbgrader": {
     "cell_type": "markdown",
     "checksum": "b0a4a51abc867d286a20a54c31ec053e",
     "grade": false,
     "grade_id": "cell-fd0be583550234dc",
     "locked": true,
     "schema_version": 3,
     "solution": false,
     "task": false
    },
    "tags": []
   },
   "source": [
    "Although we could directly train a language model on these byte-level tokens, BPE enhances efficiency by merging frequent byte-pairs into new tokens. This approach is standard practice for training large language models. Your task is to implement two functions necessary for BPE: get_stats and merge."
   ]
  },
  {
   "cell_type": "code",
   "execution_count": null,
   "id": "91153ad2-1803-4bb2-ad8e-5ccc6d0757d7",
   "metadata": {
    "deletable": false,
    "nbgrader": {
     "cell_type": "code",
     "checksum": "25ab7922b65ba77c8e48c59cfe5f6778",
     "grade": false,
     "grade_id": "cell-79f81a0c7ffd07ae",
     "locked": false,
     "schema_version": 3,
     "solution": true,
     "task": false
    },
    "tags": []
   },
   "outputs": [],
   "source": [
    "def get_stats(token_ids):\n",
    "    \"\"\"\n",
    "    Counts occurrences of adjacent token pairs.\n",
    "\n",
    "    Args:\n",
    "        token_ids (list of int): Input token IDs.\n",
    "\n",
    "    Returns:\n",
    "        dict: Dictionary with pairs as keys and their frequencies as values.\n",
    "\n",
    "    Example:\n",
    "        Input: [1, 2, 3, 1, 2]\n",
    "        Output: {(1, 2): 2, (2, 3): 1, (3, 1): 1}\n",
    "    \"\"\"\n",
    "    # YOUR CODE HERE\n",
    "    raise NotImplementedError()"
   ]
  },
  {
   "cell_type": "code",
   "execution_count": null,
   "id": "2b565561-6d07-4750-a9ba-6ae9d6915db2",
   "metadata": {
    "deletable": false,
    "editable": false,
    "nbgrader": {
     "cell_type": "code",
     "checksum": "61e02be85a91df818c24ba1716174039",
     "grade": true,
     "grade_id": "cell-8d702d221618b49e",
     "locked": true,
     "points": 0.5,
     "schema_version": 3,
     "solution": false,
     "task": false
    },
    "tags": []
   },
   "outputs": [],
   "source": [
    "# Test case for get_stats\n",
    "tokens = [1, 2, 3, 1, 2]\n",
    "expected_stats = {\n",
    "    (1, 2): 2,\n",
    "    (2, 3): 1,\n",
    "    (3, 1): 1\n",
    "}\n",
    "assert get_stats(tokens) == expected_stats, \"get_stats returned incorrect solution\"\n",
    "\n",
    "# Another test case for get_stats\n",
    "tokens = [5, 5, 5, 6, 5, 5]\n",
    "expected_stats = {\n",
    "    (5, 5): 3,\n",
    "    (5, 6): 1,\n",
    "    (6, 5): 1\n",
    "}\n",
    "assert get_stats(tokens) == expected_stats, \"get_stats failed on repeated elements\"\n",
    "\n",
    "print(\"Tests pass - success!\")"
   ]
  },
  {
   "cell_type": "code",
   "execution_count": null,
   "id": "cb884ff9-5220-433e-8596-9aa87d9e0ab1",
   "metadata": {
    "deletable": false,
    "nbgrader": {
     "cell_type": "code",
     "checksum": "3fbe52f6f3a05c3231d88b22eda23b63",
     "grade": false,
     "grade_id": "cell-15828c0e722f3df4",
     "locked": false,
     "schema_version": 3,
     "solution": true,
     "task": false
    },
    "tags": []
   },
   "outputs": [],
   "source": [
    "def merge(token_ids, pair, idx):\n",
    "    \"\"\"\n",
    "    Merges occurrences of a specific token pair into a new token.\n",
    "\n",
    "    Args:\n",
    "        token_ids (list of int): Input token IDs.\n",
    "        pair (tuple of int): Pair of tokens to merge.\n",
    "        idx (int): New token ID for merged pair.\n",
    "\n",
    "    Returns:\n",
    "        list of int: Token IDs after merging.\n",
    "\n",
    "    Example:\n",
    "        Input: token_ids = [1, 2, 3, 1, 2], pair = (1, 2), idx = 99\n",
    "        Output: [99, 3, 99]\n",
    "    \"\"\"\n",
    "    # YOUR CODE HERE\n",
    "    raise NotImplementedError()"
   ]
  },
  {
   "cell_type": "code",
   "execution_count": null,
   "id": "2c2e2c57-f0ba-44fd-926f-cfd26906239d",
   "metadata": {
    "deletable": false,
    "editable": false,
    "nbgrader": {
     "cell_type": "code",
     "checksum": "764c7e54278ebc12191af5c7028cdc30",
     "grade": true,
     "grade_id": "cell-9acdd3c38ce2f2ab",
     "locked": true,
     "points": 0.5,
     "schema_version": 3,
     "solution": false,
     "task": false
    },
    "tags": []
   },
   "outputs": [],
   "source": [
    "tokens = [1, 2, 3, 1, 2]\n",
    "merged = merge(tokens, pair=(1, 2), idx=99)\n",
    "expected_merged = [99, 3, 99]\n",
    "assert merged == expected_merged, \"merge failed, the returned solution is incorrect\"\n",
    "\n",
    "tokens = [4, 4, 4, 4, 5, 4, 4]\n",
    "merged = merge(tokens, pair=(4, 4), idx=77)\n",
    "expected_merged = [77, 77, 5, 77]\n",
    "assert merged == expected_merged, \"merge failed on repeated merges\"\n",
    "\n",
    "print(\"Tests pass - success!\")"
   ]
  },
  {
   "cell_type": "markdown",
   "id": "0a646032-59cf-484d-ada7-9cfe32a76347",
   "metadata": {
    "deletable": false,
    "editable": false,
    "nbgrader": {
     "cell_type": "markdown",
     "checksum": "eede9415492ba7918b1b077e3ae64231",
     "grade": false,
     "grade_id": "cell-0a2415016a4c8171",
     "locked": true,
     "schema_version": 3,
     "solution": false,
     "task": false
    },
    "tags": []
   },
   "source": [
    "After implementation, we use these functions to learn the tokenizer:"
   ]
  },
  {
   "cell_type": "code",
   "execution_count": null,
   "id": "c8d7a1de-a0ed-4405-8d4a-d88ef203a579",
   "metadata": {
    "deletable": false,
    "editable": false,
    "nbgrader": {
     "cell_type": "code",
     "checksum": "251a4318ec31429d5d35a74bc0cf4161",
     "grade": false,
     "grade_id": "cell-0c1602ccbab4c789",
     "locked": true,
     "schema_version": 3,
     "solution": false,
     "task": false
    },
    "tags": []
   },
   "outputs": [],
   "source": [
    "vocab_size = 300\n",
    "num_merges = vocab_size - 256\n",
    "ids = training_data\n",
    "merges = {}\n",
    "# Performing token merges\n",
    "for i in range(num_merges):\n",
    "    stats = get_stats(ids)\n",
    "    pair = max(stats, key=stats.get)\n",
    "    idx = 256 + i\n",
    "    if i < 5:\n",
    "        print(f\"merging {pair} into a new token {idx}\")\n",
    "    elif i == 5:\n",
    "        print(\"Going quiet...\\n\")\n",
    "    ids = merge(ids, pair, idx)\n",
    "    merges[pair] = idx\n",
    "\n",
    "# Create vocabulary\n",
    "vocab = {idx: bytes([idx]) for idx in range(256)}\n",
    "for (p0, p1), idx in merges.items():\n",
    "    vocab[idx] = vocab[p0] + vocab[p1]\n",
    "    \n",
    "# Illustrating the vocabulary\n",
    "print(\"Example tokens that were added\")\n",
    "indices = sorted(np.random.choice(np.arange(256, 300), size=5, replace=False))\n",
    "for idx in indices:\n",
    "    print(f\"{idx}: {vocab[idx].decode('utf-8')}\")"
   ]
  },
  {
   "cell_type": "markdown",
   "id": "56bfe300-da42-440d-8508-d117a72df16b",
   "metadata": {
    "deletable": false,
    "editable": false,
    "nbgrader": {
     "cell_type": "markdown",
     "checksum": "05d2c84f244cedcbac789efb75c37508",
     "grade": false,
     "grade_id": "cell-25df8d5fc922698c",
     "locked": true,
     "schema_version": 3,
     "solution": false,
     "task": false
    },
    "tags": []
   },
   "source": [
    "Finally, implement the encode and decode functions to test your tokenizer:"
   ]
  },
  {
   "cell_type": "code",
   "execution_count": null,
   "id": "d33b1349-c593-4007-8f4f-6c1dbc0c5f4b",
   "metadata": {
    "deletable": false,
    "nbgrader": {
     "cell_type": "code",
     "checksum": "c10b67a0dbf4c5b77a6355967edc4f53",
     "grade": false,
     "grade_id": "cell-efcf0e0cd9b02f7c",
     "locked": false,
     "schema_version": 3,
     "solution": true,
     "task": false
    },
    "tags": []
   },
   "outputs": [],
   "source": [
    "def encode(text):\n",
    "    \"\"\"\n",
    "    Encodes text into token IDs using the merge-based encoding.\n",
    "\n",
    "    The function starts by converting the input string into UTF-8 bytes. \n",
    "    Then, using a merge table, it repeatedly merges known byte-pairs into\n",
    "    new token IDs. This continues until no more merges can be applied.\n",
    "\n",
    "    Args:\n",
    "        text (str): Input text.\n",
    "\n",
    "    Returns:\n",
    "        list of int: Encoded token IDs.\n",
    "    \"\"\"\n",
    "    # YOUR CODE HERE\n",
    "    raise NotImplementedError()"
   ]
  },
  {
   "cell_type": "code",
   "execution_count": null,
   "id": "a9fe4274-ae3a-4dfa-8331-8f915424fe6d",
   "metadata": {
    "deletable": false,
    "editable": false,
    "nbgrader": {
     "cell_type": "code",
     "checksum": "4bd5978aaac56006b2bd0e5bd2a8b55e",
     "grade": true,
     "grade_id": "cell-b1cb0eb93555be0a",
     "locked": true,
     "points": 0.5,
     "schema_version": 3,
     "solution": false,
     "task": false
    },
    "tags": []
   },
   "outputs": [],
   "source": [
    "text = content[:25]\n",
    "print(f\"Encoding the following piece of text:\\n---\\n{text}\\n---\")\n",
    "otp = encode(text)\n",
    "assert otp == [292, 289, 32, 285, 66, 101, 102, 271, 256, 119, 256], \"The encode function is incorrect\"\n",
    "\n",
    "print(\"First test passes\\n\")\n",
    "\n",
    "text = content[25:50]\n",
    "print(f\"Encoding the following piece of text:\\n---\\n{text}\\n---\")\n",
    "otp = encode(text)\n",
    "assert otp == [112, 114, 111, 99, 101, 297, 268, 266, 102, 117, 114, 257, 264, 259, 104, 101, 273], \"The encode function is incorrect\"\n",
    "\n",
    "print(\"Tests pass - success!\")"
   ]
  },
  {
   "cell_type": "code",
   "execution_count": null,
   "id": "86c4334d-2cca-4980-bd44-17f1625ed228",
   "metadata": {
    "deletable": false,
    "nbgrader": {
     "cell_type": "code",
     "checksum": "a2a59714572f8a7a612a802bc8200753",
     "grade": false,
     "grade_id": "cell-5c0e550c20a85609",
     "locked": false,
     "schema_version": 3,
     "solution": true,
     "task": false
    },
    "tags": []
   },
   "outputs": [],
   "source": [
    "def decode(ids):\n",
    "    \"\"\"\n",
    "    Decodes token IDs back to the original text.\n",
    "\n",
    "    This function reconstructs the original text by looking up each token ID \n",
    "    in the vocabulary (which stores byte strings), joining them together, \n",
    "    and decoding the result from UTF-8.\n",
    "\n",
    "    Args:\n",
    "        ids (list of int): Token IDs to decode.\n",
    "\n",
    "    Returns:\n",
    "        str: Decoded text.\n",
    "    \"\"\"\n",
    "    # YOUR CODE HERE\n",
    "    raise NotImplementedError()"
   ]
  },
  {
   "cell_type": "code",
   "execution_count": null,
   "id": "0a6b000b-fa7a-4281-a6d3-6da97f4aaed8",
   "metadata": {
    "deletable": false,
    "editable": false,
    "nbgrader": {
     "cell_type": "code",
     "checksum": "3fc9eb373c8157000ec4e2ee0dbdf04d",
     "grade": true,
     "grade_id": "cell-bdc6d5d15785c304",
     "locked": true,
     "points": 0.5,
     "schema_version": 3,
     "solution": false,
     "task": false
    },
    "tags": []
   },
   "outputs": [],
   "source": [
    "otp = decode([292, 289, 32, 285, 66, 101, 102, 271, 256])\n",
    "assert otp == \"First Citizen:\\nBefore \", f\"the decode function returns an incorrect solution {otp}\"\n",
    "\n",
    "otp = decode([112, 114, 111, 99, 101, 297, 268, 266, 102, 117, 114, 257, 264, 259, 104, 101, 273])\n",
    "assert otp == \"proceed any further, hear\", f\"the decode function returns an incorrect solution {otp}\"\n",
    "\n",
    "print(\"Tests pass - success!\")"
   ]
  },
  {
   "cell_type": "code",
   "execution_count": null,
   "id": "19d0bc79-42a2-447b-bda8-1dddded8199e",
   "metadata": {
    "deletable": false,
    "editable": false,
    "nbgrader": {
     "cell_type": "code",
     "checksum": "8ddaff0eadd7e969ca333fc8409269be",
     "grade": true,
     "grade_id": "cell-7a10e8cfa00fec86",
     "locked": true,
     "points": 1,
     "schema_version": 3,
     "solution": false,
     "task": false
    },
    "tags": []
   },
   "outputs": [],
   "source": [
    "print(\"Running a bigger match of data through the encoder-decoder to ensure it does not change\")\n",
    "assert decode(encode(training_text)) == training_text, \"the encoder-decoder pair does not return the correct output, when the training data is encoded and decoded\"\n",
    "print(\"Tests pass - success!\")"
   ]
  },
  {
   "cell_type": "code",
   "execution_count": null,
   "id": "5f6283df-5f08-4295-80fa-66f31b5d78d6",
   "metadata": {},
   "outputs": [],
   "source": []
  }
 ],
 "metadata": {
  "kernelspec": {
   "display_name": "Python 3",
   "language": "python",
   "name": "python3"
  },
  "language_info": {
   "codemirror_mode": {
    "name": "ipython",
    "version": 3
   },
   "file_extension": ".py",
   "mimetype": "text/x-python",
   "name": "python",
   "nbconvert_exporter": "python",
   "pygments_lexer": "ipython3",
   "version": "3.10.12"
  }
 },
 "nbformat": 4,
 "nbformat_minor": 5
}
