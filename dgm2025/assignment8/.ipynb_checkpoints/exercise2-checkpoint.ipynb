{
 "cells": [
  {
   "cell_type": "markdown",
   "id": "9a3efb28-3cc2-4e9b-ae36-d6805bb46576",
   "metadata": {
    "deletable": false,
    "editable": false,
    "nbgrader": {
     "cell_type": "markdown",
     "checksum": "057ac449a0507ee000454ca2cfea5234",
     "grade": false,
     "grade_id": "ex2_title",
     "locked": true,
     "schema_version": 3,
     "solution": false,
     "task": false
    },
    "tags": []
   },
   "source": [
    "## Exercise 2: Linear-Gaussian State Space Model (LGSSM) (3 pt)\n",
    "\n"
   ]
  },
  {
   "cell_type": "markdown",
   "id": "ccbcdeef-9c87-4dc8-a71e-dbc00171d49c",
   "metadata": {
    "deletable": false,
    "editable": false,
    "nbgrader": {
     "cell_type": "markdown",
     "checksum": "c0fabfedbf4f61ec58cd8a0cafe4464d",
     "grade": false,
     "grade_id": "ex2_description",
     "locked": true,
     "schema_version": 3,
     "solution": false,
     "task": false
    },
    "tags": []
   },
   "source": [
    "Consider following the generative model:\n",
    "\n",
    "$z_0 = 0$\n",
    "$z = [z_1, z_2, \\ldots, z_T]^T$\n",
    "$$p(z_t \\mid z_{t-1}) = \\mathcal{N}(z_{t-1}, 1), \\quad t \\geq 1$$\n",
    "$$p(x_t \\mid z_t) = \\mathcal{N}(z_t, 1), \\quad t \\geq 1$$\n",
    "\n",
    "1. The posterior of latent variables shown as $p(z \\mid x) = \\mathcal{N}(\\mu, P^{-1})$, where $\\mu$ is the posterior mean and $P$ is the posterior precision matrix of size $T \\times T$. Specify $\\mu$ and $P$.\n",
    "\n",
    "2. Fill the values of $\\mu$ and $P$ for $T = 3$.\n",
    "\n",
    "$$\\mu = \\begin{bmatrix} \\mu_1 \\\\ \\mu_2 \\\\ \\mu_3 \\end{bmatrix}, \\quad P = \\begin{bmatrix} p_{11} & p_{12} & p_{13} \\\\ p_{21} & p_{22} & p_{23} \\\\ p_{31} & p_{32} & p_{33} \\end{bmatrix}$$\n",
    "\n",
    "3. You have found the posterior in closed form (1) as well as the realizations for given $x = [x_1, x_2, x_3]^T$ (2). Now, assume you want to use amortization to approximate optimal $\\mu = [\\mu_1, \\mu_2, \\mu_3]^T$ found in (2). Your recognition (inference) function $f_{\\phi}(\\cdot)$ has the following properties:\n",
    "\n",
    "* $f_{\\phi}(\\cdot)$ is a deterministic learnable function.\n",
    "* $f_{\\phi}(\\cdot)$ depends only on $x_t$ to infer $\\mu_t$, i.e. $f_{\\phi}(x_t) = \\hat{\\mu}_t \\approx \\mu_t$.\n",
    "\n",
    "For $T = 3$, prove that there exists an LGSSM for some realization $x = [x_1, x_2, x_3]^T$ where VI can find optimal posterior mean $\\mu$ but AVI equipped with $f_{\\phi}(\\cdot)$ cannot."
   ]
  },
  {
   "cell_type": "markdown",
   "id": "33d43da8-3132-445c-97d0-c4697409bdaf",
   "metadata": {
    "deletable": false,
    "nbgrader": {
     "cell_type": "markdown",
     "checksum": "7070bb268d89b65a92e940dc5db7a5b1",
     "grade": true,
     "grade_id": "ex2_answer",
     "locked": false,
     "points": 3,
     "schema_version": 3,
     "solution": true,
     "task": false
    },
    "tags": []
   },
   "source": [
    "YOUR ANSWER HERE"
   ]
  }
 ],
 "metadata": {
  "kernelspec": {
   "display_name": "Python 3",
   "language": "python",
   "name": "python3"
  },
  "language_info": {
   "codemirror_mode": {
    "name": "ipython",
    "version": 3
   },
   "file_extension": ".py",
   "mimetype": "text/x-python",
   "name": "python",
   "nbconvert_exporter": "python",
   "pygments_lexer": "ipython3",
   "version": "3.10.12"
  }
 },
 "nbformat": 4,
 "nbformat_minor": 5
}
