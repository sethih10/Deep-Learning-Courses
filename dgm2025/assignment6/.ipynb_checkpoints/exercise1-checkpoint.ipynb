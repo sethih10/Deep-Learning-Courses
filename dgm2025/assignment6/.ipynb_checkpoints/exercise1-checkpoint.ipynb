{
 "cells": [
  {
   "cell_type": "markdown",
   "id": "53c3527b-6058-41db-9785-16fadea2ac64",
   "metadata": {
    "deletable": false,
    "editable": false,
    "nbgrader": {
     "cell_type": "markdown",
     "checksum": "84fdcdbe0976778255b387783bdb2acd",
     "grade": false,
     "grade_id": "cell-619477b7bd65b018",
     "locked": true,
     "schema_version": 3,
     "solution": false,
     "task": false
    },
    "tags": []
   },
   "source": [
    "# Exercise 1 - GAN (2p)\n",
    "\n",
    "The goal of this exercise is to find the optimal discriminator $D$ given a generator $G$ in a GAN. The model was proposed by [ Goodfellow et al., 2014](https://arxiv.org/pdf/1406.2661)."
   ]
  },
  {
   "cell_type": "markdown",
   "id": "bf10f310-87a8-4414-bf83-2ab24359bd8b",
   "metadata": {
    "deletable": false,
    "editable": false,
    "nbgrader": {
     "cell_type": "markdown",
     "checksum": "b6bd334ea015a26c1cadf49f5e623437",
     "grade": false,
     "grade_id": "cell-7244384713e14094",
     "locked": true,
     "points": 0,
     "schema_version": 3,
     "solution": false,
     "task": true
    },
    "tags": []
   },
   "source": [
    "The goal is to maximize the quantity $V(G, D)$ to obtain the optimal discriminator $D$, given any generator $G$.\n",
    "\n",
    "$$V(G, D) = \\int_x p_{\\text{data}} (x) \\log(D(x)) + p_g (x) \\log(1-D(x)) \\ dx$$\n",
    "\n",
    "**Your task** therefore is to show what is the optimal discriminator $D^*_G(x)$, given a fixed generator $G$, which maximizes $V(G, D)$.\n",
    "\n",
    "Hint: It is sufficient to find the discriminator that maximizes the integrand pointwise (which also maximizes $V(G, D)$)."
   ]
  },
  {
   "cell_type": "markdown",
   "id": "20b75b95-0074-4f11-8f4a-cde030329681",
   "metadata": {
    "deletable": false,
    "editable": false,
    "nbgrader": {
     "cell_type": "markdown",
     "checksum": "f17dbc97e60e439a82c6ff6cd276474f",
     "grade": false,
     "grade_id": "cell-84306778f675840e",
     "locked": true,
     "schema_version": 3,
     "solution": false,
     "task": false
    },
    "tags": []
   },
   "source": [
    "### Answer"
   ]
  },
  {
   "cell_type": "markdown",
   "id": "533f9e52-4078-44f9-93c8-7a7e652131cf",
   "metadata": {
    "deletable": false,
    "nbgrader": {
     "cell_type": "markdown",
     "checksum": "208646b3ca39a879a2d011835545282a",
     "grade": true,
     "grade_id": "cell-f04f746fa45fb5cf",
     "locked": false,
     "points": 2,
     "schema_version": 3,
     "solution": true,
     "task": false
    },
    "tags": []
   },
   "source": [
    "YOUR ANSWER HERE"
   ]
  }
 ],
 "metadata": {
  "kernelspec": {
   "display_name": "Python 3",
   "language": "python",
   "name": "python3"
  },
  "language_info": {
   "codemirror_mode": {
    "name": "ipython",
    "version": 3
   },
   "file_extension": ".py",
   "mimetype": "text/x-python",
   "name": "python",
   "nbconvert_exporter": "python",
   "pygments_lexer": "ipython3",
   "version": "3.10.12"
  }
 },
 "nbformat": 4,
 "nbformat_minor": 5
}
