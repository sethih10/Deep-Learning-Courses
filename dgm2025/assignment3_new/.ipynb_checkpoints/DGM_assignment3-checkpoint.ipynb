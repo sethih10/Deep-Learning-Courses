{
 "cells": [
  {
   "cell_type": "markdown",
   "metadata": {
    "deletable": false,
    "editable": false,
    "id": "t50jL6n09Yt3",
    "nbgrader": {
     "cell_type": "markdown",
     "checksum": "90d59b2c24b9622d642ae4c6e629360e",
     "grade": false,
     "grade_id": "cell-3a8be99d687c7e9e",
     "locked": true,
     "schema_version": 3,
     "solution": false,
     "task": false
    },
    "tags": []
   },
   "source": [
    "## Assignment 3: Variational Auto Encoder for Out-of-Distribution Sample Detection\n"
   ]
  },
  {
   "cell_type": "markdown",
   "metadata": {
    "deletable": false,
    "editable": false,
    "nbgrader": {
     "cell_type": "markdown",
     "checksum": "6e96956929d5263687be60d34fe33690",
     "grade": false,
     "grade_id": "cell-d03cbf0c78b42a2b",
     "locked": true,
     "schema_version": 3,
     "solution": false,
     "task": false
    },
    "tags": []
   },
   "source": [
    "## Exercise 1"
   ]
  },
  {
   "cell_type": "markdown",
   "metadata": {
    "deletable": false,
    "editable": false,
    "nbgrader": {
     "cell_type": "markdown",
     "checksum": "c0105d143025f8c43c1a2c08a028c98b",
     "grade": false,
     "grade_id": "cell-4468c86a2b99a93c",
     "locked": true,
     "points": 0,
     "schema_version": 3,
     "solution": false,
     "task": true
    },
    "tags": []
   },
   "source": [
    "Show that the ELBO can alternatively be derived from the KL divergence between the variational distribution $q(z|x)$ and the true posterior distribution  $p(z|x)$:\n",
    "\n",
    "$$\n",
    "\\mathbb{D}_{KL} \\left[ q(\\mathbf{z}|\\mathbf{x}) \\,\\|\\, p(\\mathbf{z}|\\mathbf{x}) \\right] = \n",
    "\\int q(\\mathbf{z}|\\mathbf{x}) \\log \\left[ \\frac{q(\\mathbf{z}|\\mathbf{x})}{p(\\mathbf{z}|\\mathbf{x})} \\right] d\\mathbf{z}.\n",
    "$$\n"
   ]
  },
  {
   "cell_type": "markdown",
   "metadata": {
    "deletable": false,
    "nbgrader": {
     "cell_type": "markdown",
     "checksum": "a6f1a80e9233f8b1c207ddf299937e2a",
     "grade": true,
     "grade_id": "cell-d541c5e36f607a2f",
     "locked": false,
     "points": 3,
     "schema_version": 3,
     "solution": true,
     "task": false
    },
    "tags": []
   },
   "source": [
    "YOUR ANSWER HERE"
   ]
  },
  {
   "cell_type": "markdown",
   "metadata": {
    "deletable": false,
    "editable": false,
    "id": "6LUbZ5G_9wav",
    "nbgrader": {
     "cell_type": "markdown",
     "checksum": "7b9760c6b855402a740be3d93108ca6b",
     "grade": false,
     "grade_id": "cell-9ce94fe8457a4eef",
     "locked": true,
     "schema_version": 3,
     "solution": false,
     "task": false
    },
    "tags": []
   },
   "source": [
    "# Overview\n",
    "\n",
    "The out-of-distribution (OOD) data has a significantly different distribution from the training in-distribution (ID) data. Anomaly detection is a technique for identifying abnormal situations and mining nonlogical data. Novelty detection finds novel data in the dataset that may belong to the classification but have not been seen. Outlier detection focuses on data points that are significantly different from other observations. Although the names of these terms are different, the core of their strategy is finding OOD samples. In this assignment reconstruction error will be used to detect out of distributions points."
   ]
  },
  {
   "cell_type": "markdown",
   "metadata": {
    "deletable": false,
    "editable": false,
    "id": "bujRtU6VMxv4",
    "nbgrader": {
     "cell_type": "markdown",
     "checksum": "833378861f1da86326075d61156e5bad",
     "grade": false,
     "grade_id": "cell-0d2e2529af016ee6",
     "locked": true,
     "schema_version": 3,
     "solution": false,
     "task": false
    },
    "tags": []
   },
   "source": [
    "\n",
    "\n",
    "We will start by implementing a simple auto-encoder (AE) using PyTorch and training it on\n",
    "the MNIST dataset.\n",
    "\n",
    "\n",
    "\n",
    "1. Loads the MNIST dataset and splits it into:\n",
    "  \n",
    "\n",
    "*   A train dataset (excluding a specific digit, in this case  5, which is treated as the anomaly).\n",
    "\n",
    "*   A test dataset (excluding a specific digit, in this case 5, which is treated as the anomaly).\n",
    "*   An anomaly dataset (containing only the excluded digit, that is  5).\n",
    "\n",
    "\n",
    "2. Defines a VAE model to learn a compressed representation (latent space) of the data.\n",
    "3. Train the VAE on the train dataset.\n",
    "4. Evaluates the VAE on the combination of test and anomaly dataset to detect anomalies using reconstruction error \n"
   ]
  },
  {
   "cell_type": "code",
   "execution_count": 23,
   "metadata": {
    "id": "qxpUgmq-xI3R",
    "tags": []
   },
   "outputs": [],
   "source": [
    "skip_training = False  # Set this flag to True before validation and submission"
   ]
  },
  {
   "cell_type": "markdown",
   "metadata": {
    "deletable": false,
    "editable": false,
    "id": "Ws0ctxLw-FrJ",
    "nbgrader": {
     "cell_type": "markdown",
     "checksum": "03b7902c52d6dda1b90ef1bebe828b78",
     "grade": false,
     "grade_id": "cell-db19a751268097b2",
     "locked": true,
     "schema_version": 3,
     "solution": false,
     "task": false
    },
    "tags": []
   },
   "source": [
    "## Import Libraries and Functions"
   ]
  },
  {
   "cell_type": "code",
   "execution_count": 24,
   "metadata": {
    "deletable": false,
    "editable": false,
    "nbgrader": {
     "cell_type": "code",
     "checksum": "95c3446df4bcc0a6bae759e1e73d8fb1",
     "grade": true,
     "grade_id": "cell-b6939ceeea2e4e9e",
     "locked": true,
     "points": 0,
     "schema_version": 3,
     "solution": false,
     "task": false
    },
    "tags": []
   },
   "outputs": [],
   "source": [
    "import tools, warnings\n",
    "warnings.showwarning = tools.customwarn"
   ]
  },
  {
   "cell_type": "code",
   "execution_count": 25,
   "metadata": {
    "deletable": false,
    "editable": false,
    "id": "is23qZO7743E",
    "nbgrader": {
     "cell_type": "code",
     "checksum": "de60fbd83cf92906fefe8254121ae303",
     "grade": false,
     "grade_id": "cell-a4e6169dc72d792c",
     "locked": true,
     "schema_version": 3,
     "solution": false,
     "task": false
    },
    "tags": []
   },
   "outputs": [],
   "source": [
    "import matplotlib.pyplot as plt\n",
    "from mpl_toolkits.mplot3d import Axes3D\n",
    "from sklearn.decomposition import PCA"
   ]
  },
  {
   "cell_type": "code",
   "execution_count": 26,
   "metadata": {
    "deletable": false,
    "editable": false,
    "id": "M1-V7EXMBosN",
    "nbgrader": {
     "cell_type": "code",
     "checksum": "d068ee916549fef095ec12a39785c90b",
     "grade": false,
     "grade_id": "cell-fb0cfb17113b65bf",
     "locked": true,
     "schema_version": 3,
     "solution": false,
     "task": false
    },
    "tags": []
   },
   "outputs": [],
   "source": [
    "from sklearn.metrics import accuracy_score\n",
    "from sklearn.metrics import precision_score\n",
    "from sklearn.metrics import recall_score\n",
    "from sklearn.metrics import f1_score\n",
    "from sklearn.metrics import cohen_kappa_score\n",
    "from sklearn.metrics import roc_auc_score\n",
    "from sklearn.metrics import confusion_matrix\n",
    "from sklearn.metrics import classification_report"
   ]
  },
  {
   "cell_type": "code",
   "execution_count": 27,
   "metadata": {
    "deletable": false,
    "editable": false,
    "id": "_gglHLbWfhBj",
    "nbgrader": {
     "cell_type": "code",
     "checksum": "14a4c15d1c884159446d0b562ff8dfc7",
     "grade": false,
     "grade_id": "cell-a52c18ea70eda238",
     "locked": true,
     "schema_version": 3,
     "solution": false,
     "task": false
    },
    "tags": []
   },
   "outputs": [],
   "source": [
    "from __future__ import print_function\n",
    "import os\n",
    "import argparse\n",
    "import torch\n",
    "import torch.utils.data\n",
    "from torch import nn, optim\n",
    "from torch.nn import functional as F\n",
    "from torchvision import datasets, transforms\n",
    "from torchvision.utils import save_image\n",
    "import matplotlib.pyplot as plt\n",
    "from tqdm import tqdm\n",
    "import numpy as np\n",
    "from sklearn import metrics\n",
    "from scipy import stats\n",
    "\n",
    "# Anomaly number\n",
    "ANOMALY_TARGET = 5\n"
   ]
  },
  {
   "cell_type": "markdown",
   "metadata": {
    "deletable": false,
    "editable": false,
    "id": "t6OTHmIxNQhN",
    "nbgrader": {
     "cell_type": "markdown",
     "checksum": "0eb37c4abb6c6e8f17a64e1fb66875e2",
     "grade": false,
     "grade_id": "cell-ca42c33916a6d556",
     "locked": true,
     "schema_version": 3,
     "solution": false,
     "task": false
    },
    "tags": []
   },
   "source": [
    "## MNIST Data Loader"
   ]
  },
  {
   "cell_type": "markdown",
   "metadata": {
    "deletable": false,
    "editable": false,
    "id": "WbusjTupN_7f",
    "nbgrader": {
     "cell_type": "markdown",
     "checksum": "d498b6c3a7dab3040f35e581f8702d1f",
     "grade": false,
     "grade_id": "cell-b211944a6dd2c18c",
     "locked": true,
     "schema_version": 3,
     "solution": false,
     "task": false
    },
    "tags": []
   },
   "source": [
    "The MNIST dataset contains images with numbers 0-9. We selected 0-9 as normal numbers except 5 which is set as the anomaly number. The next step is to separate the data accordingly into the normal and anomaly datasets for training and testing:\n",
    "\n",
    "Train Dataset: Loads the MNIST dataset and excludes the anomaly target (e.g., digit 5).\n",
    "\n",
    "Anomaly Dataset: Loads only the anomaly target (e.g., digit 5).\n",
    "\n",
    "DataLoaders: Creates PyTorch DataLoader objects for batching and shuffling the data."
   ]
  },
  {
   "cell_type": "code",
   "execution_count": 28,
   "metadata": {
    "deletable": false,
    "editable": false,
    "nbgrader": {
     "cell_type": "code",
     "checksum": "50c0d203e62f4e332cd4c613878a91d3",
     "grade": false,
     "grade_id": "cell-1b7dd31191b9a062",
     "locked": true,
     "schema_version": 3,
     "solution": false,
     "task": false
    },
    "tags": []
   },
   "outputs": [
    {
     "name": "stdout",
     "output_type": "stream",
     "text": [
      "The data directory is /coursedata\n"
     ]
    }
   ],
   "source": [
    "import  tools\n",
    "data_dir = tools.select_data_dir()"
   ]
  },
  {
   "cell_type": "code",
   "execution_count": 29,
   "metadata": {
    "deletable": false,
    "editable": false,
    "nbgrader": {
     "cell_type": "code",
     "checksum": "7a7e2b8c2690fdb1e84c741d4a15129e",
     "grade": false,
     "grade_id": "cell-dc4c37a3b593218c",
     "locked": true,
     "schema_version": 3,
     "solution": false,
     "task": false
    },
    "tags": []
   },
   "outputs": [],
   "source": [
    "# Training dataset excluding anomaly target numbers\n",
    "train_dataset = tools.MNIST(data_dir, train=True )\n",
    "train_mask = (train_dataset.mnist.targets != ANOMALY_TARGET)\n",
    "train_dataset.data = train_dataset.mnist.data[train_mask]\n",
    "train_dataset.targets = train_dataset.mnist.targets[train_mask]\n",
    "train_loader = torch.utils.data.DataLoader(train_dataset, batch_size=128, shuffle=True)\n",
    "all_train_loader = torch.utils.data.DataLoader(train_dataset, batch_size=1, shuffle=True)"
   ]
  },
  {
   "cell_type": "code",
   "execution_count": 30,
   "metadata": {
    "colab": {
     "base_uri": "https://localhost:8080/"
    },
    "deletable": false,
    "editable": false,
    "id": "4kA46bk-x7rM",
    "nbgrader": {
     "cell_type": "code",
     "checksum": "b3eb2b94f67755d7cdaa2c9f7b625f4b",
     "grade": false,
     "grade_id": "cell-2fb06d7c34bb3ee9",
     "locked": true,
     "schema_version": 3,
     "solution": false,
     "task": false
    },
    "outputId": "e62e2bf8-a6c3-4f33-826a-cb5c7485e9c3",
    "tags": []
   },
   "outputs": [
    {
     "name": "stdout",
     "output_type": "stream",
     "text": [
      "Train dataset shape: torch.Size([54579, 28, 28])\n",
      "Train labels shape: torch.Size([54579])\n"
     ]
    }
   ],
   "source": [
    "print(\"Train dataset shape:\", train_dataset.data.shape)\n",
    "print(\"Train labels shape:\", train_dataset.targets.shape)"
   ]
  },
  {
   "cell_type": "code",
   "execution_count": 31,
   "metadata": {
    "deletable": false,
    "editable": false,
    "id": "PzzMnvHQJpak",
    "nbgrader": {
     "cell_type": "code",
     "checksum": "4580ba43ce9e7bf767eec6bc38d080ec",
     "grade": false,
     "grade_id": "cell-86484984f6987f50",
     "locked": true,
     "schema_version": 3,
     "solution": false,
     "task": false
    },
    "tags": []
   },
   "outputs": [],
   "source": [
    "# Training dataset excluding anomaly target numbers 5\n",
    "test_dataset = tools.MNIST(data_dir, train=False)\n",
    "test_mask = (test_dataset.mnist.targets != ANOMALY_TARGET)\n",
    "test_dataset.data = test_dataset.mnist.data[test_mask]\n",
    "test_dataset.targets = test_dataset.mnist.targets[test_mask]\n",
    "test_loader = torch.utils.data.DataLoader(test_dataset, batch_size=128, shuffle=True)"
   ]
  },
  {
   "cell_type": "code",
   "execution_count": 32,
   "metadata": {
    "colab": {
     "base_uri": "https://localhost:8080/"
    },
    "deletable": false,
    "editable": false,
    "id": "uamXEXsFs4t-",
    "nbgrader": {
     "cell_type": "code",
     "checksum": "1c363e6efed410ea11d40f95936c5609",
     "grade": false,
     "grade_id": "cell-a399aa3b249e810d",
     "locked": true,
     "schema_version": 3,
     "solution": false,
     "task": false
    },
    "outputId": "7dc55ed8-ba04-4134-cb42-0accc4d45676",
    "tags": []
   },
   "outputs": [
    {
     "name": "stdout",
     "output_type": "stream",
     "text": [
      "Train dataset shape: torch.Size([9108, 28, 28])\n",
      "Train labels shape: torch.Size([9108])\n"
     ]
    }
   ],
   "source": [
    "print(\"Train dataset shape:\", test_dataset.data.shape)\n",
    "print(\"Train labels shape:\", test_dataset.targets.shape)"
   ]
  },
  {
   "cell_type": "code",
   "execution_count": 33,
   "metadata": {
    "deletable": false,
    "editable": false,
    "id": "0qaY1vmRsuf-",
    "nbgrader": {
     "cell_type": "code",
     "checksum": "87a9fb314bd9695e0d82a70fec46a3e6",
     "grade": false,
     "grade_id": "cell-31a3de60ae380502",
     "locked": true,
     "schema_version": 3,
     "solution": false,
     "task": false
    },
    "tags": []
   },
   "outputs": [],
   "source": [
    "# Anomaly target numeric-only dataset\n",
    "#anomaly_dataset = datasets.MNIST('../data', train=False, download=True, transform=transforms.ToTensor())\n",
    "anomaly_dataset = tools.MNIST(data_dir, train=False)\n",
    "\n",
    "anomaly_mask = (anomaly_dataset.mnist.targets == ANOMALY_TARGET)\n",
    "anomaly_dataset.data = anomaly_dataset.mnist.data[anomaly_mask]\n",
    "anomaly_dataset.targets = anomaly_dataset.mnist.targets[anomaly_mask]\n",
    "anomaly_loader = torch.utils.data.DataLoader(anomaly_dataset, batch_size=128, shuffle=False)\n",
    "all_anomaly_loader = torch.utils.data.DataLoader(anomaly_dataset, batch_size=1, shuffle=False)"
   ]
  },
  {
   "cell_type": "code",
   "execution_count": 34,
   "metadata": {
    "colab": {
     "base_uri": "https://localhost:8080/"
    },
    "deletable": false,
    "editable": false,
    "id": "QoVq3PzJJQkw",
    "nbgrader": {
     "cell_type": "code",
     "checksum": "d0f12f73a186ef605cd54dece2ffa96f",
     "grade": false,
     "grade_id": "cell-9c65aa3ec7e3de72",
     "locked": true,
     "schema_version": 3,
     "solution": false,
     "task": false
    },
    "outputId": "c80e02db-d74e-4bff-934e-62d5b6b0f400",
    "tags": []
   },
   "outputs": [
    {
     "name": "stdout",
     "output_type": "stream",
     "text": [
      "Outlier dataset shape: torch.Size([892, 28, 28])\n",
      "Outlier labels shape: torch.Size([892])\n"
     ]
    }
   ],
   "source": [
    "print(\"Outlier dataset shape:\", anomaly_dataset.data.shape)\n",
    "print(\"Outlier labels shape:\", anomaly_dataset.targets.shape)"
   ]
  },
  {
   "cell_type": "markdown",
   "metadata": {
    "deletable": false,
    "editable": false,
    "id": "l2Bzi6TqlHCM",
    "nbgrader": {
     "cell_type": "markdown",
     "checksum": "a6a00a37daeb8cb780d71a3e88f6c62a",
     "grade": false,
     "grade_id": "cell-48af67e9e7f56931",
     "locked": true,
     "schema_version": 3,
     "solution": false,
     "task": false
    },
    "tags": []
   },
   "source": [
    "## Visualize the data"
   ]
  },
  {
   "cell_type": "markdown",
   "metadata": {
    "deletable": false,
    "editable": false,
    "id": "BB7gixhalNr0",
    "nbgrader": {
     "cell_type": "markdown",
     "checksum": "8ed2c7043aa8087dc64ff57cc76abb1d",
     "grade": false,
     "grade_id": "cell-5f67c9ed9d6fdd5c",
     "locked": true,
     "schema_version": 3,
     "solution": false,
     "task": false
    },
    "tags": []
   },
   "source": [
    "\n",
    "Let's plot the first 8 images of normal data and anomalies to double-check:\n",
    "\n"
   ]
  },
  {
   "cell_type": "code",
   "execution_count": 35,
   "metadata": {
    "deletable": false,
    "editable": false,
    "nbgrader": {
     "cell_type": "code",
     "checksum": "7e51cb65ba97a0ad4a7d8ad2f89e7716",
     "grade": false,
     "grade_id": "cell-e63dc35e0aef2a27",
     "locked": true,
     "schema_version": 3,
     "solution": false,
     "task": false
    },
    "tags": []
   },
   "outputs": [
    {
     "data": {
      "image/png": "[encoded data removed]",
      "text/plain": [
       "<Figure size 1000x500 with 8 Axes>"
      ]
     },
     "metadata": {},
     "output_type": "display_data"
    }
   ],
   "source": [
    "def plot_train_dataset():\n",
    "    samples = [train_dataset.data[i] for i in range(8)]\n",
    "    samples = torch.stack(samples)\n",
    "    plt.figure(figsize=(10, 5))\n",
    "    for i in range(8):\n",
    "        plt.subplot(2, 4, i + 1)\n",
    "        plt.imshow(samples[i].squeeze(), cmap='gray')\n",
    "        plt.title(f\"Train Sample {i + 1}\")\n",
    "        plt.axis('off')\n",
    "    plt.suptitle(\"Train Dataset Samples\")\n",
    "    plt.show()\n",
    "    plt.close()\n",
    "\n",
    "plot_train_dataset()"
   ]
  },
  {
   "cell_type": "markdown",
   "metadata": {
    "deletable": false,
    "editable": false,
    "id": "UFu3MhkfDs4C",
    "nbgrader": {
     "cell_type": "markdown",
     "checksum": "9718dba43e1f7967d1c15d91543cdb60",
     "grade": false,
     "grade_id": "cell-c7bed885e4b9b164",
     "locked": true,
     "schema_version": 3,
     "solution": false,
     "task": false
    },
    "tags": []
   },
   "source": [
    "The image of the anomalies shows 5.\n",
    "\n"
   ]
  },
  {
   "cell_type": "code",
   "execution_count": 36,
   "metadata": {
    "deletable": false,
    "editable": false,
    "nbgrader": {
     "cell_type": "code",
     "checksum": "7e0da54e59dc597ddb7dd5c8d179c86e",
     "grade": false,
     "grade_id": "cell-81ffba4a99a3b4fd",
     "locked": true,
     "schema_version": 3,
     "solution": false,
     "task": false
    },
    "tags": []
   },
   "outputs": [
    {
     "data": {
      "image/png": "[encoded data removed]",
      "text/plain": [
       "<Figure size 1000x500 with 8 Axes>"
      ]
     },
     "metadata": {},
     "output_type": "display_data"
    }
   ],
   "source": [
    "def plot_anomaly_dataset():\n",
    "    samples = [anomaly_dataset.data[i] for i in range(8)]\n",
    "    samples = torch.stack(samples)\n",
    "\n",
    "    plt.figure(figsize=(10, 5))\n",
    "    for i in range(8):\n",
    "        plt.subplot(2, 4, i + 1)\n",
    "        plt.imshow(samples[i].squeeze(), cmap='gray')\n",
    "        plt.title(f\"Anomaly Sample {i + 1}\")\n",
    "        plt.axis('off')\n",
    "    plt.show()\n",
    "    plt.suptitle(\"Anomaly Dataset Samples\")\n",
    "    plt.close()\n",
    "\n",
    "plot_anomaly_dataset()"
   ]
  },
  {
   "cell_type": "markdown",
   "metadata": {
    "deletable": false,
    "editable": false,
    "id": "Om1NjhyUUnut",
    "nbgrader": {
     "cell_type": "markdown",
     "checksum": "6fcbe0850f3e77f17e655b4cbee403ad",
     "grade": false,
     "grade_id": "cell-7fd5f79e23040327",
     "locked": true,
     "schema_version": 3,
     "solution": false,
     "task": false
    },
    "tags": []
   },
   "source": [
    "## Task 1. Model"
   ]
  },
  {
   "cell_type": "markdown",
   "metadata": {
    "deletable": false,
    "editable": false,
    "id": "_W31T0TDVhI1",
    "nbgrader": {
     "cell_type": "markdown",
     "checksum": "b1ce2a23c3a5cabde7bbc37f67ac10f9",
     "grade": false,
     "grade_id": "cell-934888b171551565",
     "locked": true,
     "schema_version": 3,
     "solution": false,
     "task": false
    },
    "tags": []
   },
   "source": [
    "Implement the reparameterize method which performs the reparameterization to sample from a Gaussian distribution. Instead of sampling directly from a normal distribution N(mu, sigma^2),   this method samples from a standard normal distribution N(0,1) and transforms  it using the mean (mu) and standard deviation (sigma) derived from logvar."
   ]
  },
  {
   "cell_type": "code",
   "execution_count": 37,
   "metadata": {
    "deletable": false,
    "id": "VBldgxlQEv-b",
    "nbgrader": {
     "cell_type": "code",
     "checksum": "1e224ac7610d89029a2566782baee32e",
     "grade": false,
     "grade_id": "cell-d7b3fff72c5eda21",
     "locked": false,
     "schema_version": 3,
     "solution": true,
     "task": false
    },
    "tags": []
   },
   "outputs": [],
   "source": [
    "class VAE(nn.Module):\n",
    "    def __init__(self):\n",
    "        super(VAE, self).__init__()\n",
    "\n",
    "        self.fc1 = nn.Linear(784, 400)\n",
    "        self.fc21 = nn.Linear(400, 20)\n",
    "        self.fc22 = nn.Linear(400, 20)\n",
    "        self.fc3 = nn.Linear(20, 400)\n",
    "        self.fc4 = nn.Linear(400, 784)\n",
    "\n",
    "    def encode(self, x):\n",
    "        h1 = F.relu(self.fc1(x))\n",
    "        return self.fc21(h1), self.fc22(h1)\n",
    "\n",
    "    def reparameterize(self, mu, logvar):\n",
    "        \"\"\"\n",
    "        Args:\n",
    "            mu (torch.Tensor): The mean of the latent Gaussian distribution. Shape: (batch_size, latent_dim).\n",
    "            logvar (torch.Tensor): The logarithm of the variance of the latent Gaussian distribution. Shape: (batch_size, latent_dim).\n",
    "\n",
    "        Returns:\n",
    "            torch.Tensor: A sampled latent variable tensor of shape (batch_size, latent_dim).\n",
    "        \"\"\"\n",
    "        # YOUR CODE HERE\n",
    "        raise NotImplementedError()\n",
    "\n",
    "\n",
    "    def decode(self, z):\n",
    "        h3 = F.relu(self.fc3(z))\n",
    "        return torch.sigmoid(self.fc4(h3))\n",
    "\n",
    "    def forward(self, x):\n",
    "        mu, logvar = self.encode(x.view(-1, 784))\n",
    "        z = self.reparameterize(mu, logvar)\n",
    "        return self.decode(z), mu, logvar"
   ]
  },
  {
   "cell_type": "code",
   "execution_count": 38,
   "metadata": {
    "colab": {
     "base_uri": "https://localhost:8080/"
    },
    "deletable": false,
    "editable": false,
    "id": "HRMbOAYwyZfk",
    "nbgrader": {
     "cell_type": "code",
     "checksum": "a177278f3b6d15203783d17a62033e91",
     "grade": true,
     "grade_id": "cell-98766220794f1f48",
     "locked": true,
     "points": 1,
     "schema_version": 3,
     "solution": false,
     "task": false
    },
    "outputId": "1b87dd71-b9a5-4af3-e3fe-f890ac821044",
    "tags": []
   },
   "outputs": [
    {
     "ename": "NotImplementedError",
     "evalue": "",
     "output_type": "error",
     "traceback": [
      "\u001b[0;31m---------------------------------------------------------------------------\u001b[0m",
      "\u001b[0;31mNotImplementedError\u001b[0m                       Traceback (most recent call last)",
      "Cell \u001b[0;32mIn[38], line 15\u001b[0m\n\u001b[1;32m     12\u001b[0m     \u001b[38;5;28;01massert\u001b[39;00m z\u001b[38;5;241m.\u001b[39mrequires_grad \u001b[38;5;241m==\u001b[39m mu\u001b[38;5;241m.\u001b[39mrequires_grad, \u001b[38;5;124m\"\u001b[39m\u001b[38;5;124mOutput tensor must retain requires_grad property\u001b[39m\u001b[38;5;124m\"\u001b[39m\n\u001b[1;32m     13\u001b[0m     \u001b[38;5;28mprint\u001b[39m(\u001b[38;5;124m\"\u001b[39m\u001b[38;5;124mSuccess\u001b[39m\u001b[38;5;124m\"\u001b[39m)\n\u001b[0;32m---> 15\u001b[0m \u001b[43mtest_reparameterize\u001b[49m\u001b[43m(\u001b[49m\u001b[43m)\u001b[49m\n",
      "Cell \u001b[0;32mIn[38], line 9\u001b[0m, in \u001b[0;36mtest_reparameterize\u001b[0;34m()\u001b[0m\n\u001b[1;32m      7\u001b[0m logvar \u001b[38;5;241m=\u001b[39m torch\u001b[38;5;241m.\u001b[39mrandn(batch_size, latent_dim)\n\u001b[1;32m      8\u001b[0m vae \u001b[38;5;241m=\u001b[39m VAE()\n\u001b[0;32m----> 9\u001b[0m z \u001b[38;5;241m=\u001b[39m \u001b[43mvae\u001b[49m\u001b[38;5;241;43m.\u001b[39;49m\u001b[43mreparameterize\u001b[49m\u001b[43m(\u001b[49m\u001b[43mmu\u001b[49m\u001b[43m,\u001b[49m\u001b[43m \u001b[49m\u001b[43mlogvar\u001b[49m\u001b[43m)\u001b[49m\n\u001b[1;32m     11\u001b[0m \u001b[38;5;28;01massert\u001b[39;00m z\u001b[38;5;241m.\u001b[39mshape \u001b[38;5;241m==\u001b[39m mu\u001b[38;5;241m.\u001b[39mshape, \u001b[38;5;124mf\u001b[39m\u001b[38;5;124m\"\u001b[39m\u001b[38;5;124mIncorrect shape: expected \u001b[39m\u001b[38;5;132;01m{\u001b[39;00mmu\u001b[38;5;241m.\u001b[39mshape\u001b[38;5;132;01m}\u001b[39;00m\u001b[38;5;124m, got \u001b[39m\u001b[38;5;132;01m{\u001b[39;00mz\u001b[38;5;241m.\u001b[39mshape\u001b[38;5;132;01m}\u001b[39;00m\u001b[38;5;124m\"\u001b[39m\n\u001b[1;32m     12\u001b[0m \u001b[38;5;28;01massert\u001b[39;00m z\u001b[38;5;241m.\u001b[39mrequires_grad \u001b[38;5;241m==\u001b[39m mu\u001b[38;5;241m.\u001b[39mrequires_grad, \u001b[38;5;124m\"\u001b[39m\u001b[38;5;124mOutput tensor must retain requires_grad property\u001b[39m\u001b[38;5;124m\"\u001b[39m\n",
      "Cell \u001b[0;32mIn[37], line 25\u001b[0m, in \u001b[0;36mVAE.reparameterize\u001b[0;34m(self, mu, logvar)\u001b[0m\n\u001b[1;32m     16\u001b[0m \u001b[38;5;250m\u001b[39m\u001b[38;5;124;03m\"\"\"\u001b[39;00m\n\u001b[1;32m     17\u001b[0m \u001b[38;5;124;03mArgs:\u001b[39;00m\n\u001b[1;32m     18\u001b[0m \u001b[38;5;124;03m    mu (torch.Tensor): The mean of the latent Gaussian distribution. Shape: (batch_size, latent_dim).\u001b[39;00m\n\u001b[0;32m   (...)\u001b[0m\n\u001b[1;32m     22\u001b[0m \u001b[38;5;124;03m    torch.Tensor: A sampled latent variable tensor of shape (batch_size, latent_dim).\u001b[39;00m\n\u001b[1;32m     23\u001b[0m \u001b[38;5;124;03m\"\"\"\u001b[39;00m\n\u001b[1;32m     24\u001b[0m \u001b[38;5;66;03m# YOUR CODE HERE\u001b[39;00m\n\u001b[0;32m---> 25\u001b[0m \u001b[38;5;28;01mraise\u001b[39;00m \u001b[38;5;167;01mNotImplementedError\u001b[39;00m()\n",
      "\u001b[0;31mNotImplementedError\u001b[0m: "
     ]
    }
   ],
   "source": [
    "def test_reparameterize():\n",
    "\n",
    "    latent_dim = 20\n",
    "    batch_size = 5\n",
    "\n",
    "    mu = torch.randn(batch_size, latent_dim)\n",
    "    logvar = torch.randn(batch_size, latent_dim)\n",
    "    vae = VAE()\n",
    "    z = vae.reparameterize(mu, logvar)\n",
    "\n",
    "    assert z.shape == mu.shape, f\"Incorrect shape: expected {mu.shape}, got {z.shape}\"\n",
    "    assert z.requires_grad == mu.requires_grad, \"Output tensor must retain requires_grad property\"\n",
    "    print(\"Success\")\n",
    "\n",
    "test_reparameterize()"
   ]
  },
  {
   "cell_type": "code",
   "execution_count": 39,
   "metadata": {
    "deletable": false,
    "editable": false,
    "nbgrader": {
     "cell_type": "code",
     "checksum": "5bf388649b8a839d62279c953df28071",
     "grade": true,
     "grade_id": "cell-e833ae69cc1498d7",
     "locked": true,
     "points": 1,
     "schema_version": 3,
     "solution": false,
     "task": false
    },
    "tags": []
   },
   "outputs": [
    {
     "ename": "NotImplementedError",
     "evalue": "",
     "output_type": "error",
     "traceback": [
      "\u001b[0;31m---------------------------------------------------------------------------\u001b[0m",
      "\u001b[0;31mNotImplementedError\u001b[0m                       Traceback (most recent call last)",
      "Cell \u001b[0;32mIn[39], line 15\u001b[0m\n\u001b[1;32m     12\u001b[0m     \u001b[38;5;28;01massert\u001b[39;00m torch\u001b[38;5;241m.\u001b[39mallclose(empirical_std, torch\u001b[38;5;241m.\u001b[39mones(latent_dim), atol\u001b[38;5;241m=\u001b[39m\u001b[38;5;241m0.05\u001b[39m), \u001b[38;5;124m\"\u001b[39m\u001b[38;5;124mStd dev is off!\u001b[39m\u001b[38;5;124m\"\u001b[39m\n\u001b[1;32m     13\u001b[0m     \u001b[38;5;28mprint\u001b[39m(\u001b[38;5;124m\"\u001b[39m\u001b[38;5;124mSuccess\u001b[39m\u001b[38;5;124m\"\u001b[39m)\n\u001b[0;32m---> 15\u001b[0m \u001b[43mtest_reparameterize\u001b[49m\u001b[43m(\u001b[49m\u001b[43m)\u001b[49m\n",
      "Cell \u001b[0;32mIn[39], line 8\u001b[0m, in \u001b[0;36mtest_reparameterize\u001b[0;34m()\u001b[0m\n\u001b[1;32m      6\u001b[0m mu \u001b[38;5;241m=\u001b[39m torch\u001b[38;5;241m.\u001b[39mzeros(batch_size, latent_dim)\n\u001b[1;32m      7\u001b[0m logvar \u001b[38;5;241m=\u001b[39m torch\u001b[38;5;241m.\u001b[39mzeros(batch_size, latent_dim)  \n\u001b[0;32m----> 8\u001b[0m z \u001b[38;5;241m=\u001b[39m \u001b[43mmodel\u001b[49m\u001b[38;5;241;43m.\u001b[39;49m\u001b[43mreparameterize\u001b[49m\u001b[43m(\u001b[49m\u001b[43mmu\u001b[49m\u001b[43m,\u001b[49m\u001b[43m \u001b[49m\u001b[43mlogvar\u001b[49m\u001b[43m)\u001b[49m\n\u001b[1;32m      9\u001b[0m empirical_mean \u001b[38;5;241m=\u001b[39m z\u001b[38;5;241m.\u001b[39mmean(dim\u001b[38;5;241m=\u001b[39m\u001b[38;5;241m0\u001b[39m)\n\u001b[1;32m     10\u001b[0m empirical_std \u001b[38;5;241m=\u001b[39m z\u001b[38;5;241m.\u001b[39mstd(dim\u001b[38;5;241m=\u001b[39m\u001b[38;5;241m0\u001b[39m)\n",
      "Cell \u001b[0;32mIn[37], line 25\u001b[0m, in \u001b[0;36mVAE.reparameterize\u001b[0;34m(self, mu, logvar)\u001b[0m\n\u001b[1;32m     16\u001b[0m \u001b[38;5;250m\u001b[39m\u001b[38;5;124;03m\"\"\"\u001b[39;00m\n\u001b[1;32m     17\u001b[0m \u001b[38;5;124;03mArgs:\u001b[39;00m\n\u001b[1;32m     18\u001b[0m \u001b[38;5;124;03m    mu (torch.Tensor): The mean of the latent Gaussian distribution. Shape: (batch_size, latent_dim).\u001b[39;00m\n\u001b[0;32m   (...)\u001b[0m\n\u001b[1;32m     22\u001b[0m \u001b[38;5;124;03m    torch.Tensor: A sampled latent variable tensor of shape (batch_size, latent_dim).\u001b[39;00m\n\u001b[1;32m     23\u001b[0m \u001b[38;5;124;03m\"\"\"\u001b[39;00m\n\u001b[1;32m     24\u001b[0m \u001b[38;5;66;03m# YOUR CODE HERE\u001b[39;00m\n\u001b[0;32m---> 25\u001b[0m \u001b[38;5;28;01mraise\u001b[39;00m \u001b[38;5;167;01mNotImplementedError\u001b[39;00m()\n",
      "\u001b[0;31mNotImplementedError\u001b[0m: "
     ]
    }
   ],
   "source": [
    "def test_reparameterize():\n",
    "    torch.manual_seed(42)  \n",
    "    model = VAE()\n",
    "    batch_size = 10000\n",
    "    latent_dim = 20\n",
    "    mu = torch.zeros(batch_size, latent_dim)\n",
    "    logvar = torch.zeros(batch_size, latent_dim)  \n",
    "    z = model.reparameterize(mu, logvar)\n",
    "    empirical_mean = z.mean(dim=0)\n",
    "    empirical_std = z.std(dim=0)\n",
    "    assert torch.allclose(empirical_mean, torch.zeros(latent_dim), atol=0.05), \"Mean is off!\"\n",
    "    assert torch.allclose(empirical_std, torch.ones(latent_dim), atol=0.05), \"Std dev is off!\"\n",
    "    print(\"Success\")\n",
    "\n",
    "test_reparameterize()"
   ]
  },
  {
   "cell_type": "markdown",
   "metadata": {
    "deletable": false,
    "editable": false,
    "id": "dkozEVSNE1BV",
    "nbgrader": {
     "cell_type": "markdown",
     "checksum": "684d9cf7472f64d55f95d8f501ced41b",
     "grade": false,
     "grade_id": "cell-d88e2876b9eafcc1",
     "locked": true,
     "schema_version": 3,
     "solution": false,
     "task": false
    },
    "tags": []
   },
   "source": [
    "## Task 2. Loss Function"
   ]
  },
  {
   "cell_type": "markdown",
   "metadata": {
    "deletable": false,
    "editable": false,
    "id": "BlXyy5xIE5Bo",
    "nbgrader": {
     "cell_type": "markdown",
     "checksum": "a53c0dfd79940cd54f925690004b36db",
     "grade": false,
     "grade_id": "cell-372ba90c83d8e011",
     "locked": true,
     "schema_version": 3,
     "solution": false,
     "task": false
    },
    "tags": []
   },
   "source": [
    "Loss Function combines: Reconstruction Loss (BCE): Measures how well the VAE reconstructs the input.\n",
    "\n",
    "KL Divergence (KLD): Regularizes the latent space to follow a standard normal distribution.\n",
    "\n",
    "Implement the loss_function which computes the Variational Autoencoder (VAE) loss, which consists of two components:\n",
    "      1. Reconstruction Loss (Binary Cross-Entropy) - Measures how well the reconstructed output matches the input.\n",
    "      2. Kullback-Leibler Divergence (KLD) - Regularizes the latent space by ensuring it follows a standard normal distribution.\n"
   ]
  },
  {
   "cell_type": "code",
   "execution_count": 40,
   "metadata": {
    "deletable": false,
    "id": "5OM782tWE9hi",
    "nbgrader": {
     "cell_type": "code",
     "checksum": "863fcb8d8e76cab8c63fd961c21a3cbf",
     "grade": false,
     "grade_id": "cell-79e27a9e75fb7d7d",
     "locked": false,
     "schema_version": 3,
     "solution": true,
     "task": false
    },
    "tags": []
   },
   "outputs": [],
   "source": [
    "# Reconstruction + KL divergence losses summed over all elements and batch\n",
    "def loss_function(recon_x, x, mu, logvar):\n",
    "    \"\"\"\n",
    "      Args:\n",
    "          recon_x (torch.Tensor): Reconstructed output from the decoder, of shape (batch_size, 784).\n",
    "          x (torch.Tensor): Original input data, of shape (batch_size, 1, 28, 28).\n",
    "          mu (torch.Tensor): Mean of the latent distribution, of shape (batch_size, latent_dim).\n",
    "          logvar (torch.Tensor): Log-variance of the latent distribution, of shape (batch_size, latent_dim).\n",
    "\n",
    "      Returns:\n",
    "          torch.Tensor: The total VAE loss, computed as BCE + KLD.\n",
    "      \"\"\"\n",
    "    # YOUR CODE HERE\n",
    "    raise NotImplementedError()\n",
    "\n",
    "    return BCE + KLD\n"
   ]
  },
  {
   "cell_type": "code",
   "execution_count": 41,
   "metadata": {
    "colab": {
     "base_uri": "https://localhost:8080/"
    },
    "deletable": false,
    "editable": false,
    "id": "PnmKCevCzi6z",
    "nbgrader": {
     "cell_type": "code",
     "checksum": "8d62310b24770e750f48d6aab499850d",
     "grade": true,
     "grade_id": "cell-65616e3596718215",
     "locked": true,
     "points": 1,
     "schema_version": 3,
     "solution": false,
     "task": false
    },
    "outputId": "70d1f408-4ab5-42c9-f2da-edf8a2adc991",
    "tags": []
   },
   "outputs": [
    {
     "ename": "NotImplementedError",
     "evalue": "",
     "output_type": "error",
     "traceback": [
      "\u001b[0;31m---------------------------------------------------------------------------\u001b[0m",
      "\u001b[0;31mNotImplementedError\u001b[0m                       Traceback (most recent call last)",
      "Cell \u001b[0;32mIn[41], line 14\u001b[0m\n\u001b[1;32m     11\u001b[0m     \u001b[38;5;28;01massert\u001b[39;00m loss\u001b[38;5;241m.\u001b[39mitem() \u001b[38;5;241m>\u001b[39m\u001b[38;5;241m=\u001b[39m \u001b[38;5;241m0\u001b[39m, \u001b[38;5;124m\"\u001b[39m\u001b[38;5;124mLoss should be non-negative\u001b[39m\u001b[38;5;124m\"\u001b[39m\n\u001b[1;32m     12\u001b[0m     \u001b[38;5;28mprint\u001b[39m(\u001b[38;5;124m\"\u001b[39m\u001b[38;5;124mSuccess\u001b[39m\u001b[38;5;124m\"\u001b[39m)\n\u001b[0;32m---> 14\u001b[0m \u001b[43mtest_loss_function\u001b[49m\u001b[43m(\u001b[49m\u001b[43m)\u001b[49m\n",
      "Cell \u001b[0;32mIn[41], line 8\u001b[0m, in \u001b[0;36mtest_loss_function\u001b[0;34m()\u001b[0m\n\u001b[1;32m      6\u001b[0m mu \u001b[38;5;241m=\u001b[39m torch\u001b[38;5;241m.\u001b[39mzeros(batch_size, latent_dim)\n\u001b[1;32m      7\u001b[0m logvar \u001b[38;5;241m=\u001b[39m torch\u001b[38;5;241m.\u001b[39mzeros(batch_size, latent_dim)\n\u001b[0;32m----> 8\u001b[0m loss \u001b[38;5;241m=\u001b[39m \u001b[43mloss_function\u001b[49m\u001b[43m(\u001b[49m\u001b[43mrecon_x\u001b[49m\u001b[43m,\u001b[49m\u001b[43m \u001b[49m\u001b[43mx\u001b[49m\u001b[43m,\u001b[49m\u001b[43m \u001b[49m\u001b[43mmu\u001b[49m\u001b[43m,\u001b[49m\u001b[43m \u001b[49m\u001b[43mlogvar\u001b[49m\u001b[43m)\u001b[49m\n\u001b[1;32m      9\u001b[0m \u001b[38;5;28;01massert\u001b[39;00m \u001b[38;5;28misinstance\u001b[39m(loss, torch\u001b[38;5;241m.\u001b[39mTensor), \u001b[38;5;124m\"\u001b[39m\u001b[38;5;124mLoss should be a PyTorch tensor\u001b[39m\u001b[38;5;124m\"\u001b[39m\n\u001b[1;32m     10\u001b[0m \u001b[38;5;28;01massert\u001b[39;00m loss\u001b[38;5;241m.\u001b[39mshape \u001b[38;5;241m==\u001b[39m torch\u001b[38;5;241m.\u001b[39mSize([]), \u001b[38;5;124mf\u001b[39m\u001b[38;5;124m\"\u001b[39m\u001b[38;5;124mLoss should be a scalar tensor, but got shape \u001b[39m\u001b[38;5;132;01m{\u001b[39;00mloss\u001b[38;5;241m.\u001b[39mshape\u001b[38;5;132;01m}\u001b[39;00m\u001b[38;5;124m\"\u001b[39m\n",
      "Cell \u001b[0;32mIn[40], line 14\u001b[0m, in \u001b[0;36mloss_function\u001b[0;34m(recon_x, x, mu, logvar)\u001b[0m\n\u001b[1;32m      3\u001b[0m \u001b[38;5;250m\u001b[39m\u001b[38;5;124;03m\"\"\"\u001b[39;00m\n\u001b[1;32m      4\u001b[0m \u001b[38;5;124;03m  Args:\u001b[39;00m\n\u001b[1;32m      5\u001b[0m \u001b[38;5;124;03m      recon_x (torch.Tensor): Reconstructed output from the decoder, of shape (batch_size, 784).\u001b[39;00m\n\u001b[0;32m   (...)\u001b[0m\n\u001b[1;32m     11\u001b[0m \u001b[38;5;124;03m      torch.Tensor: The total VAE loss, computed as BCE + KLD.\u001b[39;00m\n\u001b[1;32m     12\u001b[0m \u001b[38;5;124;03m  \"\"\"\u001b[39;00m\n\u001b[1;32m     13\u001b[0m \u001b[38;5;66;03m# YOUR CODE HERE\u001b[39;00m\n\u001b[0;32m---> 14\u001b[0m \u001b[38;5;28;01mraise\u001b[39;00m \u001b[38;5;167;01mNotImplementedError\u001b[39;00m()\n\u001b[1;32m     16\u001b[0m \u001b[38;5;28;01mreturn\u001b[39;00m BCE \u001b[38;5;241m+\u001b[39m KLD\n",
      "\u001b[0;31mNotImplementedError\u001b[0m: "
     ]
    }
   ],
   "source": [
    "def test_loss_function():\n",
    "    batch_size = 4\n",
    "    latent_dim = 20\n",
    "    x = torch.rand(batch_size, 1, 28, 28)\n",
    "    recon_x = torch.rand(batch_size, 784)\n",
    "    mu = torch.zeros(batch_size, latent_dim)\n",
    "    logvar = torch.zeros(batch_size, latent_dim)\n",
    "    loss = loss_function(recon_x, x, mu, logvar)\n",
    "    assert isinstance(loss, torch.Tensor), \"Loss should be a PyTorch tensor\"\n",
    "    assert loss.shape == torch.Size([]), f\"Loss should be a scalar tensor, but got shape {loss.shape}\"\n",
    "    assert loss.item() >= 0, \"Loss should be non-negative\"\n",
    "    print(\"Success\")\n",
    "\n",
    "test_loss_function()"
   ]
  },
  {
   "cell_type": "code",
   "execution_count": 42,
   "metadata": {
    "deletable": false,
    "editable": false,
    "nbgrader": {
     "cell_type": "code",
     "checksum": "1b14ed92f49f3f8b5be0604f86d3e185",
     "grade": true,
     "grade_id": "cell-62d1c914d7f66d17",
     "locked": true,
     "points": 1,
     "schema_version": 3,
     "solution": false,
     "task": false
    },
    "tags": []
   },
   "outputs": [
    {
     "ename": "NotImplementedError",
     "evalue": "",
     "output_type": "error",
     "traceback": [
      "\u001b[0;31m---------------------------------------------------------------------------\u001b[0m",
      "\u001b[0;31mNotImplementedError\u001b[0m                       Traceback (most recent call last)",
      "Cell \u001b[0;32mIn[42], line 16\u001b[0m\n\u001b[1;32m     13\u001b[0m     \u001b[38;5;28;01massert\u001b[39;00m torch\u001b[38;5;241m.\u001b[39mallclose(loss, expected, atol\u001b[38;5;241m=\u001b[39m\u001b[38;5;241m1e-2\u001b[39m), \u001b[38;5;124m\"\u001b[39m\u001b[38;5;124mVAE loss does not match expected value.\u001b[39m\u001b[38;5;124m\"\u001b[39m\n\u001b[1;32m     14\u001b[0m     \u001b[38;5;28mprint\u001b[39m(\u001b[38;5;124m'\u001b[39m\u001b[38;5;124mSuccess\u001b[39m\u001b[38;5;124m'\u001b[39m)\n\u001b[0;32m---> 16\u001b[0m \u001b[43mtest_loss_function\u001b[49m\u001b[43m(\u001b[49m\u001b[43m)\u001b[49m\n",
      "Cell \u001b[0;32mIn[42], line 7\u001b[0m, in \u001b[0;36mtest_loss_function\u001b[0;34m()\u001b[0m\n\u001b[1;32m      5\u001b[0m mu \u001b[38;5;241m=\u001b[39m torch\u001b[38;5;241m.\u001b[39mzeros(\u001b[38;5;241m2\u001b[39m, \u001b[38;5;241m5\u001b[39m)             \n\u001b[1;32m      6\u001b[0m logvar \u001b[38;5;241m=\u001b[39m torch\u001b[38;5;241m.\u001b[39mzeros(\u001b[38;5;241m2\u001b[39m, \u001b[38;5;241m5\u001b[39m)          \n\u001b[0;32m----> 7\u001b[0m loss \u001b[38;5;241m=\u001b[39m \u001b[43mloss_function\u001b[49m\u001b[43m(\u001b[49m\u001b[43mrecon_x\u001b[49m\u001b[43m,\u001b[49m\u001b[43m \u001b[49m\u001b[43mx\u001b[49m\u001b[43m,\u001b[49m\u001b[43m \u001b[49m\u001b[43mmu\u001b[49m\u001b[43m,\u001b[49m\u001b[43m \u001b[49m\u001b[43mlogvar\u001b[49m\u001b[43m)\u001b[49m\n\u001b[1;32m      8\u001b[0m bce_expected \u001b[38;5;241m=\u001b[39m \u001b[38;5;241m2\u001b[39m \u001b[38;5;241m*\u001b[39m \u001b[38;5;241m784\u001b[39m \u001b[38;5;241m*\u001b[39m F\u001b[38;5;241m.\u001b[39mbinary_cross_entropy(torch\u001b[38;5;241m.\u001b[39mfull((\u001b[38;5;241m1\u001b[39m,), \u001b[38;5;241m0.5\u001b[39m), torch\u001b[38;5;241m.\u001b[39mfull((\u001b[38;5;241m1\u001b[39m,), \u001b[38;5;241m1.0\u001b[39m), reduction\u001b[38;5;241m=\u001b[39m\u001b[38;5;124m'\u001b[39m\u001b[38;5;124msum\u001b[39m\u001b[38;5;124m'\u001b[39m)\u001b[38;5;241m.\u001b[39mitem()\n\u001b[1;32m      9\u001b[0m kld_expected \u001b[38;5;241m=\u001b[39m \u001b[38;5;241m0.0\u001b[39m\n",
      "Cell \u001b[0;32mIn[40], line 14\u001b[0m, in \u001b[0;36mloss_function\u001b[0;34m(recon_x, x, mu, logvar)\u001b[0m\n\u001b[1;32m      3\u001b[0m \u001b[38;5;250m\u001b[39m\u001b[38;5;124;03m\"\"\"\u001b[39;00m\n\u001b[1;32m      4\u001b[0m \u001b[38;5;124;03m  Args:\u001b[39;00m\n\u001b[1;32m      5\u001b[0m \u001b[38;5;124;03m      recon_x (torch.Tensor): Reconstructed output from the decoder, of shape (batch_size, 784).\u001b[39;00m\n\u001b[0;32m   (...)\u001b[0m\n\u001b[1;32m     11\u001b[0m \u001b[38;5;124;03m      torch.Tensor: The total VAE loss, computed as BCE + KLD.\u001b[39;00m\n\u001b[1;32m     12\u001b[0m \u001b[38;5;124;03m  \"\"\"\u001b[39;00m\n\u001b[1;32m     13\u001b[0m \u001b[38;5;66;03m# YOUR CODE HERE\u001b[39;00m\n\u001b[0;32m---> 14\u001b[0m \u001b[38;5;28;01mraise\u001b[39;00m \u001b[38;5;167;01mNotImplementedError\u001b[39;00m()\n\u001b[1;32m     16\u001b[0m \u001b[38;5;28;01mreturn\u001b[39;00m BCE \u001b[38;5;241m+\u001b[39m KLD\n",
      "\u001b[0;31mNotImplementedError\u001b[0m: "
     ]
    }
   ],
   "source": [
    "def test_loss_function():\n",
    "    x = torch.zeros(2, 1, 28, 28)\n",
    "    x[0] = 1.0 \n",
    "    recon_x = torch.full((2, 784), 0.5)  \n",
    "    mu = torch.zeros(2, 5)             \n",
    "    logvar = torch.zeros(2, 5)          \n",
    "    loss = loss_function(recon_x, x, mu, logvar)\n",
    "    bce_expected = 2 * 784 * F.binary_cross_entropy(torch.full((1,), 0.5), torch.full((1,), 1.0), reduction='sum').item()\n",
    "    kld_expected = 0.0\n",
    "    expected = torch.tensor(bce_expected + kld_expected)\n",
    "    print('loss:', loss.item())\n",
    "    print('expected:', expected.item())\n",
    "    assert torch.allclose(loss, expected, atol=1e-2), \"VAE loss does not match expected value.\"\n",
    "    print('Success')\n",
    "\n",
    "test_loss_function()"
   ]
  },
  {
   "cell_type": "markdown",
   "metadata": {
    "deletable": false,
    "editable": false,
    "id": "Vl2lwj2D-wpS",
    "nbgrader": {
     "cell_type": "markdown",
     "checksum": "8b50ce58276d63aa945053e2d2c28bef",
     "grade": false,
     "grade_id": "cell-b4a27a51a62ad18a",
     "locked": true,
     "schema_version": 3,
     "solution": false,
     "task": false
    },
    "tags": []
   },
   "source": [
    "## Training and Anomaly Evaluation Function"
   ]
  },
  {
   "cell_type": "code",
   "execution_count": 43,
   "metadata": {
    "deletable": false,
    "editable": false,
    "id": "ywlWl3kO_BTA",
    "nbgrader": {
     "cell_type": "code",
     "checksum": "5245531149645736793774e3bb8840fc",
     "grade": false,
     "grade_id": "cell-c64d73c327b462c5",
     "locked": true,
     "schema_version": 3,
     "solution": false,
     "task": false
    },
    "tags": []
   },
   "outputs": [],
   "source": [
    "def train(epoch):\n",
    "    model.train()\n",
    "    train_loss = 0\n",
    "    for data, target, batch_idx in tqdm(train_loader):\n",
    "        data = data.to(device)\n",
    "        optimizer.zero_grad()\n",
    "        recon_batch, mu, logvar = model(data)\n",
    "        loss = loss_function(recon_batch, data, mu, logvar)\n",
    "        loss.backward()\n",
    "        train_loss += loss.item()\n",
    "        optimizer.step()\n",
    "\n",
    "def anomaly(epoch):\n",
    "    model.eval()\n",
    "    anomaly_loss = 0\n",
    "    with torch.no_grad():\n",
    "        for data, target, batch_idx in tqdm(anomaly_loader):\n",
    "            data = data.to(device)\n",
    "            recon_batch, mu, logvar = model(data)\n",
    "            anomaly_loss += loss_function(recon_batch, data, mu, logvar).item()\n",
    "\n",
    "    anomaly_loss /= len(anomaly_loader.dataset)\n",
    "    print('====> anomaly set loss: {:.4f}'.format(anomaly_loss))\n",
    "\n",
    "    return - anomaly_loss"
   ]
  },
  {
   "cell_type": "markdown",
   "metadata": {
    "deletable": false,
    "editable": false,
    "id": "18s7ke4LfIph",
    "nbgrader": {
     "cell_type": "markdown",
     "checksum": "36ad3fb1ebcf2997393162efce4cd2d8",
     "grade": false,
     "grade_id": "cell-e7bac4f7f65697a1",
     "locked": true,
     "schema_version": 3,
     "solution": false,
     "task": false
    },
    "tags": []
   },
   "source": [
    "\n",
    "Using auc value evaluate the model’s ability to distinguish between normal and anomalous data."
   ]
  },
  {
   "cell_type": "code",
   "execution_count": 44,
   "metadata": {
    "deletable": false,
    "editable": false,
    "id": "u4M9e8Iee338",
    "nbgrader": {
     "cell_type": "code",
     "checksum": "af6d150fefcc889671536a92db04e67d",
     "grade": false,
     "grade_id": "cell-7c2fd40d54408ca9",
     "locked": true,
     "schema_version": 3,
     "solution": false,
     "task": false
    },
    "tags": []
   },
   "outputs": [],
   "source": [
    "def auc():\n",
    "    y_true = np.concatenate([np.zeros(len(train_dataset)), np.ones(len(anomaly_dataset))])\n",
    "    y_score = []\n",
    "    model.eval()\n",
    "    with torch.no_grad():\n",
    "        for data, target, batch_idx in tqdm(all_train_loader):\n",
    "            data = data.to(device)\n",
    "            recon_batch, mu, logvar = model(data)\n",
    "            train_score_loss = loss_function(recon_batch, data, mu, logvar)\n",
    "            train_score_loss = train_score_loss.cpu()\n",
    "            y_score.append(np.round(train_score_loss, 1).detach().numpy())\n",
    "        for data, target, batch_idx in tqdm(all_anomaly_loader):\n",
    "            data = data.to(device)\n",
    "            recon_batch, mu, logvar = model(data)\n",
    "            anomaly_score_loss = loss_function(recon_batch, data, mu, logvar)\n",
    "            anomaly_score_loss = anomaly_score_loss.cpu()\n",
    "            y_score.append(np.round(anomaly_score_loss, 1).detach().numpy())\n",
    "\n",
    "    fpr, tpr, thresholds = metrics.roc_curve(y_true, y_score)\n",
    "    auc = metrics.auc(fpr, tpr)\n",
    "\n",
    "    return auc"
   ]
  },
  {
   "cell_type": "markdown",
   "metadata": {
    "deletable": false,
    "editable": false,
    "id": "KvV01UKPOzA0",
    "nbgrader": {
     "cell_type": "markdown",
     "checksum": "533db661a52b57039256f97151eec880",
     "grade": false,
     "grade_id": "cell-8e6f8452a262fe48",
     "locked": true,
     "schema_version": 3,
     "solution": false,
     "task": false
    },
    "tags": []
   },
   "source": [
    "## Task 3. Training Loop"
   ]
  },
  {
   "cell_type": "code",
   "execution_count": 45,
   "metadata": {
    "deletable": false,
    "editable": false,
    "id": "Afm-Zkfnbj8p",
    "nbgrader": {
     "cell_type": "code",
     "checksum": "806d95aa9c60402cf210cf6b9983449e",
     "grade": false,
     "grade_id": "cell-6b427dd18a7a00d2",
     "locked": true,
     "schema_version": 3,
     "solution": false,
     "task": false
    },
    "tags": []
   },
   "outputs": [],
   "source": [
    "device = torch.device(\"cpu\")\n",
    "model = VAE().to(device)\n",
    "optimizer = optim.Adam(model.parameters(), lr=1e-3)"
   ]
  },
  {
   "cell_type": "code",
   "execution_count": 46,
   "metadata": {
    "colab": {
     "base_uri": "https://localhost:8080/"
    },
    "deletable": false,
    "id": "O103EBqPFcjB",
    "nbgrader": {
     "cell_type": "code",
     "checksum": "21cb17a3671ed4480ba9681f7ce15419",
     "grade": false,
     "grade_id": "cell-d254897ca47c71f1",
     "locked": false,
     "schema_version": 3,
     "solution": true,
     "task": false
    },
    "outputId": "7cb1c1e1-a7cd-445b-df0b-e1bcdd14420d",
    "tags": []
   },
   "outputs": [
    {
     "ename": "NotImplementedError",
     "evalue": "",
     "output_type": "error",
     "traceback": [
      "\u001b[0;31m---------------------------------------------------------------------------\u001b[0m",
      "\u001b[0;31mNotImplementedError\u001b[0m                       Traceback (most recent call last)",
      "Cell \u001b[0;32mIn[46], line 7\u001b[0m\n\u001b[1;32m      4\u001b[0m \u001b[38;5;66;03m# Train VAE\u001b[39;00m\n\u001b[1;32m      5\u001b[0m \u001b[38;5;28;01mfor\u001b[39;00m epoch \u001b[38;5;129;01min\u001b[39;00m \u001b[38;5;28mrange\u001b[39m(\u001b[38;5;241m1\u001b[39m, epochs \u001b[38;5;241m+\u001b[39m \u001b[38;5;241m1\u001b[39m):\n\u001b[1;32m      6\u001b[0m     \u001b[38;5;66;03m# YOUR CODE HERE\u001b[39;00m\n\u001b[0;32m----> 7\u001b[0m     \u001b[38;5;28;01mraise\u001b[39;00m \u001b[38;5;167;01mNotImplementedError\u001b[39;00m()\n\u001b[1;32m      8\u001b[0m auc \u001b[38;5;241m=\u001b[39m auc()\n\u001b[1;32m      9\u001b[0m \u001b[38;5;28mprint\u001b[39m(\u001b[38;5;124m\"\u001b[39m\u001b[38;5;124mAUC:\u001b[39m\u001b[38;5;124m\"\u001b[39m \u001b[38;5;241m+\u001b[39m \u001b[38;5;28mstr\u001b[39m(np\u001b[38;5;241m.\u001b[39mround(auc, \u001b[38;5;241m2\u001b[39m)))\n",
      "\u001b[0;31mNotImplementedError\u001b[0m: "
     ]
    }
   ],
   "source": [
    "if not skip_training:\n",
    "   \n",
    "    epochs = 20\n",
    "    # Train VAE\n",
    "    for epoch in range(1, epochs + 1):\n",
    "        # YOUR CODE HERE\n",
    "        raise NotImplementedError()\n",
    "    auc = auc()\n",
    "    print(\"AUC:\" + str(np.round(auc, 2)))"
   ]
  },
  {
   "cell_type": "code",
   "execution_count": 47,
   "metadata": {
    "tags": []
   },
   "outputs": [
    {
     "name": "stdin",
     "output_type": "stream",
     "text": [
      "Do you want to save the model (type yes to confirm)?  yes\n"
     ]
    },
    {
     "name": "stdout",
     "output_type": "stream",
     "text": [
      "Model saved to model.pth.\n"
     ]
    }
   ],
   "source": [
    "if not skip_training:\n",
    "    tools.save_model(model, 'model.pth', confirm=True)"
   ]
  },
  {
   "cell_type": "code",
   "execution_count": 50,
   "metadata": {
    "tags": []
   },
   "outputs": [],
   "source": [
    "if skip_training:\n",
    "    model = VAE().to(device)\n",
    "    tools.load_model(model, 'model.pth', device)"
   ]
  },
  {
   "cell_type": "markdown",
   "metadata": {
    "deletable": false,
    "editable": false,
    "id": "6XPMCvsghge9",
    "nbgrader": {
     "cell_type": "markdown",
     "checksum": "1bed2ae9e3681454e1935a147e116a90",
     "grade": false,
     "grade_id": "cell-bce4870bb7ad5ac0",
     "locked": true,
     "schema_version": 3,
     "solution": false,
     "task": false
    },
    "tags": []
   },
   "source": [
    "Q: What is the obtained AUC value for the trained model?\n",
    "\n",
    "1) 0.83\n",
    "\n",
    "2) 0.05\n",
    "\n",
    "3) 0.23\n",
    "\n",
    "4) 0.55"
   ]
  },
  {
   "cell_type": "code",
   "execution_count": 51,
   "metadata": {
    "colab": {
     "base_uri": "https://localhost:8080/",
     "height": 106
    },
    "deletable": false,
    "id": "g2QgnmUZiQqI",
    "nbgrader": {
     "cell_type": "code",
     "checksum": "5468a822a9df1afe029d9495afe09c96",
     "grade": false,
     "grade_id": "cell-afef0091c33dcb97",
     "locked": false,
     "schema_version": 3,
     "solution": true,
     "task": false
    },
    "outputId": "c7673ced-f5ea-42af-f7f8-b3e363a2f814",
    "tags": []
   },
   "outputs": [
    {
     "ename": "NotImplementedError",
     "evalue": "",
     "output_type": "error",
     "traceback": [
      "\u001b[0;31m---------------------------------------------------------------------------\u001b[0m",
      "\u001b[0;31mNotImplementedError\u001b[0m                       Traceback (most recent call last)",
      "Cell \u001b[0;32mIn[51], line 4\u001b[0m\n\u001b[1;32m      1\u001b[0m a_1d \u001b[38;5;241m=\u001b[39m \u001b[38;5;28;01mNone\u001b[39;00m \u001b[38;5;66;03m# TASK: Replace None with your answer (1, 2, 3, 4)\u001b[39;00m\n\u001b[1;32m      3\u001b[0m \u001b[38;5;66;03m# YOUR CODE HERE\u001b[39;00m\n\u001b[0;32m----> 4\u001b[0m \u001b[38;5;28;01mraise\u001b[39;00m \u001b[38;5;167;01mNotImplementedError\u001b[39;00m()\n",
      "\u001b[0;31mNotImplementedError\u001b[0m: "
     ]
    }
   ],
   "source": [
    "a_1d = None # TASK: Replace None with your answer (1, 2, 3, 4)\n",
    "\n",
    "# YOUR CODE HERE\n",
    "raise NotImplementedError()"
   ]
  },
  {
   "cell_type": "code",
   "execution_count": 52,
   "metadata": {
    "deletable": false,
    "editable": false,
    "id": "yyu7w57auY3_",
    "nbgrader": {
     "cell_type": "code",
     "checksum": "f64b25c1a07bfa1ceec7f3ba606929c9",
     "grade": true,
     "grade_id": "cell-81cf2e15c02bcbd5",
     "locked": true,
     "points": 2,
     "schema_version": 3,
     "solution": false,
     "task": false
    },
    "tags": []
   },
   "outputs": [],
   "source": [
    "# Here is a hiddent test\n"
   ]
  },
  {
   "cell_type": "markdown",
   "metadata": {
    "deletable": false,
    "editable": false,
    "id": "-ZVex9u3muO8",
    "nbgrader": {
     "cell_type": "markdown",
     "checksum": "40d2c4d650cf0f1612db18c90a31b1d8",
     "grade": false,
     "grade_id": "cell-94851ff6ce59c7ba",
     "locked": true,
     "schema_version": 3,
     "solution": false,
     "task": false
    },
    "tags": []
   },
   "source": [
    "## PCA of bottleneck layer vectors"
   ]
  },
  {
   "cell_type": "markdown",
   "metadata": {
    "deletable": false,
    "editable": false,
    "id": "5mZnm8bS_dGx",
    "nbgrader": {
     "cell_type": "markdown",
     "checksum": "ab937ad7c868d5538f2d50e5b106c38d",
     "grade": false,
     "grade_id": "cell-07b89dc9e5f6caa7",
     "locked": true,
     "schema_version": 3,
     "solution": false,
     "task": false
    },
    "tags": []
   },
   "source": [
    "The model's hidden (bottleneck) layer generates latent representations of the input data. These vectors contain compressed knowledge of the inputs. Below we apply PCA to extract the principal components of these latent vectors and visualize their distribution.\n",
    "\n",
    "\n",
    " There is a little overlap between normal  and outlier data points."
   ]
  },
  {
   "cell_type": "markdown",
   "metadata": {
    "deletable": false,
    "editable": false,
    "id": "6vZXeWU-8HLp",
    "nbgrader": {
     "cell_type": "markdown",
     "checksum": "63c27b9199be470cc5c4137a357f70e1",
     "grade": false,
     "grade_id": "cell-95171bbf28af25f8",
     "locked": true,
     "schema_version": 3,
     "solution": false,
     "task": false
    },
    "tags": []
   },
   "source": [
    "It might take a few minutes to run this cell."
   ]
  },
  {
   "cell_type": "code",
   "execution_count": 53,
   "metadata": {
    "deletable": false,
    "editable": false,
    "nbgrader": {
     "cell_type": "code",
     "checksum": "12949fdbb6a2182c8334b6ee91b368d7",
     "grade": false,
     "grade_id": "cell-801354fc3266a8a9",
     "locked": true,
     "schema_version": 3,
     "solution": false,
     "task": false
    },
    "tags": []
   },
   "outputs": [
    {
     "data": {
      "image/png": "[encoded data removed]",
      "text/plain": [
       "<Figure size 1000x800 with 1 Axes>"
      ]
     },
     "metadata": {},
     "output_type": "display_data"
    }
   ],
   "source": [
    "def extract_latent_representations(loader):\n",
    "    model.eval()\n",
    "    latent_vectors = []\n",
    "    with torch.no_grad():\n",
    "        for data, _, _ in loader:\n",
    "            data = data.to(device)\n",
    "            mu, _ = model.encode(data.view(-1, 784))\n",
    "            latent_vectors.append(mu.cpu())\n",
    "    return torch.cat(latent_vectors)\n",
    "\n",
    "train_latent = extract_latent_representations(all_train_loader)\n",
    "anomaly_latent = extract_latent_representations(all_anomaly_loader)\n",
    "latent_vectors = torch.cat([train_latent, anomaly_latent]).numpy()\n",
    "labels = np.concatenate([np.zeros(len(train_latent)), np.ones(len(anomaly_latent))])\n",
    "pca = PCA(n_components=2)\n",
    "latent_2d = pca.fit_transform(latent_vectors)\n",
    "plt.figure(figsize=(10, 8))\n",
    "train_mask = labels == 0\n",
    "anomaly_mask = labels == 1\n",
    "plt.scatter(latent_2d[train_mask, 0], latent_2d[train_mask, 1], c='blue', label='Train Data', alpha=0.6)\n",
    "plt.scatter(latent_2d[anomaly_mask, 0], latent_2d[anomaly_mask, 1], c='red', label='Anomaly Data', alpha=0.6)\n",
    "plt.xlabel('PCA Component 1')\n",
    "plt.ylabel('PCA Component 2')\n",
    "plt.title('Latent Space Visualization (2D PCA)')\n",
    "plt.legend()  \n",
    "plt.grid(True, linestyle=\"--\", linewidth=0.5)\n",
    "plt.savefig('./latent_space.png')\n",
    "plt.show()\n",
    "plt.close()"
   ]
  },
  {
   "cell_type": "markdown",
   "metadata": {
    "deletable": false,
    "editable": false,
    "id": "wRBfRJPEnVtB",
    "nbgrader": {
     "cell_type": "markdown",
     "checksum": "c8bfe9da41187b8c12b09c891ca7655a",
     "grade": false,
     "grade_id": "cell-d6bc723f6dc8e2ed",
     "locked": true,
     "schema_version": 3,
     "solution": false,
     "task": false
    },
    "tags": []
   },
   "source": [
    "## Task 4 . Evaluation on  Reconstruction Error"
   ]
  },
  {
   "cell_type": "markdown",
   "metadata": {
    "deletable": false,
    "editable": false,
    "id": "zcSdQbbGhLBx",
    "nbgrader": {
     "cell_type": "markdown",
     "checksum": "489ab5a224a651a29bbfa1405d1cffd0",
     "grade": false,
     "grade_id": "cell-8647c1c77d48316b",
     "locked": true,
     "schema_version": 3,
     "solution": false,
     "task": false
    },
    "tags": []
   },
   "source": [
    "Compute the reconstruction error for a given input batch using a trained VAE model. The reconstruction error is measured using Binary Cross-Entropy (BCE) loss between the original input `x` and its reconstruction `x_recon`. The loss is computed per data point and summed over all dimensions.\n",
    "\n",
    "When computing loss, check the correct choice for the reduction argument to retain per-sample loss values.\n",
    "The loss is summed over all input dimensions to obtain a scalar error per sample."
   ]
  },
  {
   "cell_type": "code",
   "execution_count": 54,
   "metadata": {
    "deletable": false,
    "id": "8AbKVahGRVCm",
    "nbgrader": {
     "cell_type": "code",
     "checksum": "be16f19f98d3657abfdef05e9d2264a7",
     "grade": false,
     "grade_id": "cell-4bbf40b3ff5489ab",
     "locked": false,
     "schema_version": 3,
     "solution": true,
     "task": false
    },
    "tags": []
   },
   "outputs": [],
   "source": [
    "def compute_reconstruction_error(model, x):\n",
    "    \"\"\"\n",
    "    Args:\n",
    "    model : torch.nn.Module\n",
    "        The trained Variational Autoencoder (VAE) model.\n",
    "    x : torch.Tensor\n",
    "        Input tensor of shape (batch_size, 1, 28, 28) representing MNIST images.\n",
    "\n",
    "    Returns:\n",
    "    numpy.ndarray\n",
    "        A NumPy array containing the reconstruction error for each input in `x`.\n",
    "\n",
    "    \"\"\"\n",
    "    model.eval()\n",
    "    with torch.no_grad():\n",
    "        x_recon, _, _ = model(x.to(device))\n",
    "        # YOUR CODE HERE\n",
    "        raise NotImplementedError()\n",
    "\n",
    "    return recon_loss.cpu().numpy()"
   ]
  },
  {
   "cell_type": "code",
   "execution_count": 55,
   "metadata": {
    "colab": {
     "base_uri": "https://localhost:8080/"
    },
    "deletable": false,
    "editable": false,
    "id": "7MKBxDXwtHFn",
    "nbgrader": {
     "cell_type": "code",
     "checksum": "864a867aea2453cd627d3f155a72787a",
     "grade": true,
     "grade_id": "cell-c6e4cc1c50604c26",
     "locked": true,
     "points": 1,
     "schema_version": 3,
     "solution": false,
     "task": false
    },
    "outputId": "65532175-8152-49bd-8318-533e9794df9d",
    "tags": []
   },
   "outputs": [
    {
     "ename": "NotImplementedError",
     "evalue": "",
     "output_type": "error",
     "traceback": [
      "\u001b[0;31m---------------------------------------------------------------------------\u001b[0m",
      "\u001b[0;31mNotImplementedError\u001b[0m                       Traceback (most recent call last)",
      "Cell \u001b[0;32mIn[55], line 13\u001b[0m\n\u001b[1;32m     10\u001b[0m     \u001b[38;5;28;01massert\u001b[39;00m np\u001b[38;5;241m.\u001b[39mall(recon_errors \u001b[38;5;241m>\u001b[39m\u001b[38;5;241m=\u001b[39m \u001b[38;5;241m0\u001b[39m), \u001b[38;5;124m\"\u001b[39m\u001b[38;5;124mReconstruction error should be non-negative\u001b[39m\u001b[38;5;124m\"\u001b[39m\n\u001b[1;32m     11\u001b[0m     \u001b[38;5;28mprint\u001b[39m(\u001b[38;5;124m\"\u001b[39m\u001b[38;5;124mSuccess\u001b[39m\u001b[38;5;124m\"\u001b[39m)\n\u001b[0;32m---> 13\u001b[0m \u001b[43mtest_compute_reconstruction_error\u001b[49m\u001b[43m(\u001b[49m\u001b[43m)\u001b[49m\n",
      "Cell \u001b[0;32mIn[55], line 6\u001b[0m, in \u001b[0;36mtest_compute_reconstruction_error\u001b[0;34m()\u001b[0m\n\u001b[1;32m      4\u001b[0m dummy_model \u001b[38;5;241m=\u001b[39m VAE()\u001b[38;5;241m.\u001b[39mto(device)\n\u001b[1;32m      5\u001b[0m dummy_input \u001b[38;5;241m=\u001b[39m torch\u001b[38;5;241m.\u001b[39mrand(batch_size, \u001b[38;5;241m*\u001b[39mimage_size)\u001b[38;5;241m.\u001b[39mto(device)\n\u001b[0;32m----> 6\u001b[0m recon_errors \u001b[38;5;241m=\u001b[39m \u001b[43mcompute_reconstruction_error\u001b[49m\u001b[43m(\u001b[49m\u001b[43mdummy_model\u001b[49m\u001b[43m,\u001b[49m\u001b[43m \u001b[49m\u001b[43mdummy_input\u001b[49m\u001b[43m)\u001b[49m\n\u001b[1;32m      8\u001b[0m \u001b[38;5;28;01massert\u001b[39;00m \u001b[38;5;28misinstance\u001b[39m(recon_errors, np\u001b[38;5;241m.\u001b[39mndarray), \u001b[38;5;124m\"\u001b[39m\u001b[38;5;124mOutput should be a NumPy array\u001b[39m\u001b[38;5;124m\"\u001b[39m\n\u001b[1;32m      9\u001b[0m \u001b[38;5;28;01massert\u001b[39;00m recon_errors\u001b[38;5;241m.\u001b[39mshape \u001b[38;5;241m==\u001b[39m (batch_size,), \u001b[38;5;124mf\u001b[39m\u001b[38;5;124m\"\u001b[39m\u001b[38;5;124mExpected shape (\u001b[39m\u001b[38;5;132;01m{\u001b[39;00mbatch_size\u001b[38;5;132;01m}\u001b[39;00m\u001b[38;5;124m,), but got \u001b[39m\u001b[38;5;132;01m{\u001b[39;00mrecon_errors\u001b[38;5;241m.\u001b[39mshape\u001b[38;5;132;01m}\u001b[39;00m\u001b[38;5;124m\"\u001b[39m\n",
      "Cell \u001b[0;32mIn[54], line 16\u001b[0m, in \u001b[0;36mcompute_reconstruction_error\u001b[0;34m(model, x)\u001b[0m\n\u001b[1;32m     14\u001b[0m model\u001b[38;5;241m.\u001b[39meval()\n\u001b[1;32m     15\u001b[0m \u001b[38;5;28;01mwith\u001b[39;00m torch\u001b[38;5;241m.\u001b[39mno_grad():\n\u001b[0;32m---> 16\u001b[0m     x_recon, _, _ \u001b[38;5;241m=\u001b[39m \u001b[43mmodel\u001b[49m\u001b[43m(\u001b[49m\u001b[43mx\u001b[49m\u001b[38;5;241;43m.\u001b[39;49m\u001b[43mto\u001b[49m\u001b[43m(\u001b[49m\u001b[43mdevice\u001b[49m\u001b[43m)\u001b[49m\u001b[43m)\u001b[49m\n\u001b[1;32m     17\u001b[0m     \u001b[38;5;66;03m# YOUR CODE HERE\u001b[39;00m\n\u001b[1;32m     18\u001b[0m     \u001b[38;5;28;01mraise\u001b[39;00m \u001b[38;5;167;01mNotImplementedError\u001b[39;00m()\n",
      "File \u001b[0;32m/opt/software/lib/python3.10/site-packages/torch/nn/modules/module.py:1518\u001b[0m, in \u001b[0;36mModule._wrapped_call_impl\u001b[0;34m(self, *args, **kwargs)\u001b[0m\n\u001b[1;32m   1516\u001b[0m     \u001b[38;5;28;01mreturn\u001b[39;00m \u001b[38;5;28mself\u001b[39m\u001b[38;5;241m.\u001b[39m_compiled_call_impl(\u001b[38;5;241m*\u001b[39margs, \u001b[38;5;241m*\u001b[39m\u001b[38;5;241m*\u001b[39mkwargs)  \u001b[38;5;66;03m# type: ignore[misc]\u001b[39;00m\n\u001b[1;32m   1517\u001b[0m \u001b[38;5;28;01melse\u001b[39;00m:\n\u001b[0;32m-> 1518\u001b[0m     \u001b[38;5;28;01mreturn\u001b[39;00m \u001b[38;5;28;43mself\u001b[39;49m\u001b[38;5;241;43m.\u001b[39;49m\u001b[43m_call_impl\u001b[49m\u001b[43m(\u001b[49m\u001b[38;5;241;43m*\u001b[39;49m\u001b[43margs\u001b[49m\u001b[43m,\u001b[49m\u001b[43m \u001b[49m\u001b[38;5;241;43m*\u001b[39;49m\u001b[38;5;241;43m*\u001b[39;49m\u001b[43mkwargs\u001b[49m\u001b[43m)\u001b[49m\n",
      "File \u001b[0;32m/opt/software/lib/python3.10/site-packages/torch/nn/modules/module.py:1527\u001b[0m, in \u001b[0;36mModule._call_impl\u001b[0;34m(self, *args, **kwargs)\u001b[0m\n\u001b[1;32m   1522\u001b[0m \u001b[38;5;66;03m# If we don't have any hooks, we want to skip the rest of the logic in\u001b[39;00m\n\u001b[1;32m   1523\u001b[0m \u001b[38;5;66;03m# this function, and just call forward.\u001b[39;00m\n\u001b[1;32m   1524\u001b[0m \u001b[38;5;28;01mif\u001b[39;00m \u001b[38;5;129;01mnot\u001b[39;00m (\u001b[38;5;28mself\u001b[39m\u001b[38;5;241m.\u001b[39m_backward_hooks \u001b[38;5;129;01mor\u001b[39;00m \u001b[38;5;28mself\u001b[39m\u001b[38;5;241m.\u001b[39m_backward_pre_hooks \u001b[38;5;129;01mor\u001b[39;00m \u001b[38;5;28mself\u001b[39m\u001b[38;5;241m.\u001b[39m_forward_hooks \u001b[38;5;129;01mor\u001b[39;00m \u001b[38;5;28mself\u001b[39m\u001b[38;5;241m.\u001b[39m_forward_pre_hooks\n\u001b[1;32m   1525\u001b[0m         \u001b[38;5;129;01mor\u001b[39;00m _global_backward_pre_hooks \u001b[38;5;129;01mor\u001b[39;00m _global_backward_hooks\n\u001b[1;32m   1526\u001b[0m         \u001b[38;5;129;01mor\u001b[39;00m _global_forward_hooks \u001b[38;5;129;01mor\u001b[39;00m _global_forward_pre_hooks):\n\u001b[0;32m-> 1527\u001b[0m     \u001b[38;5;28;01mreturn\u001b[39;00m \u001b[43mforward_call\u001b[49m\u001b[43m(\u001b[49m\u001b[38;5;241;43m*\u001b[39;49m\u001b[43margs\u001b[49m\u001b[43m,\u001b[49m\u001b[43m \u001b[49m\u001b[38;5;241;43m*\u001b[39;49m\u001b[38;5;241;43m*\u001b[39;49m\u001b[43mkwargs\u001b[49m\u001b[43m)\u001b[49m\n\u001b[1;32m   1529\u001b[0m \u001b[38;5;28;01mtry\u001b[39;00m:\n\u001b[1;32m   1530\u001b[0m     result \u001b[38;5;241m=\u001b[39m \u001b[38;5;28;01mNone\u001b[39;00m\n",
      "Cell \u001b[0;32mIn[37], line 34\u001b[0m, in \u001b[0;36mVAE.forward\u001b[0;34m(self, x)\u001b[0m\n\u001b[1;32m     32\u001b[0m \u001b[38;5;28;01mdef\u001b[39;00m \u001b[38;5;21mforward\u001b[39m(\u001b[38;5;28mself\u001b[39m, x):\n\u001b[1;32m     33\u001b[0m     mu, logvar \u001b[38;5;241m=\u001b[39m \u001b[38;5;28mself\u001b[39m\u001b[38;5;241m.\u001b[39mencode(x\u001b[38;5;241m.\u001b[39mview(\u001b[38;5;241m-\u001b[39m\u001b[38;5;241m1\u001b[39m, \u001b[38;5;241m784\u001b[39m))\n\u001b[0;32m---> 34\u001b[0m     z \u001b[38;5;241m=\u001b[39m \u001b[38;5;28;43mself\u001b[39;49m\u001b[38;5;241;43m.\u001b[39;49m\u001b[43mreparameterize\u001b[49m\u001b[43m(\u001b[49m\u001b[43mmu\u001b[49m\u001b[43m,\u001b[49m\u001b[43m \u001b[49m\u001b[43mlogvar\u001b[49m\u001b[43m)\u001b[49m\n\u001b[1;32m     35\u001b[0m     \u001b[38;5;28;01mreturn\u001b[39;00m \u001b[38;5;28mself\u001b[39m\u001b[38;5;241m.\u001b[39mdecode(z), mu, logvar\n",
      "Cell \u001b[0;32mIn[37], line 25\u001b[0m, in \u001b[0;36mVAE.reparameterize\u001b[0;34m(self, mu, logvar)\u001b[0m\n\u001b[1;32m     16\u001b[0m \u001b[38;5;250m\u001b[39m\u001b[38;5;124;03m\"\"\"\u001b[39;00m\n\u001b[1;32m     17\u001b[0m \u001b[38;5;124;03mArgs:\u001b[39;00m\n\u001b[1;32m     18\u001b[0m \u001b[38;5;124;03m    mu (torch.Tensor): The mean of the latent Gaussian distribution. Shape: (batch_size, latent_dim).\u001b[39;00m\n\u001b[0;32m   (...)\u001b[0m\n\u001b[1;32m     22\u001b[0m \u001b[38;5;124;03m    torch.Tensor: A sampled latent variable tensor of shape (batch_size, latent_dim).\u001b[39;00m\n\u001b[1;32m     23\u001b[0m \u001b[38;5;124;03m\"\"\"\u001b[39;00m\n\u001b[1;32m     24\u001b[0m \u001b[38;5;66;03m# YOUR CODE HERE\u001b[39;00m\n\u001b[0;32m---> 25\u001b[0m \u001b[38;5;28;01mraise\u001b[39;00m \u001b[38;5;167;01mNotImplementedError\u001b[39;00m()\n",
      "\u001b[0;31mNotImplementedError\u001b[0m: "
     ]
    }
   ],
   "source": [
    "def test_compute_reconstruction_error():\n",
    "    batch_size = 4\n",
    "    image_size = (1, 28, 28)\n",
    "    dummy_model = VAE().to(device)\n",
    "    dummy_input = torch.rand(batch_size, *image_size).to(device)\n",
    "    recon_errors = compute_reconstruction_error(dummy_model, dummy_input)\n",
    "\n",
    "    assert isinstance(recon_errors, np.ndarray), \"Output should be a NumPy array\"\n",
    "    assert recon_errors.shape == (batch_size,), f\"Expected shape ({batch_size},), but got {recon_errors.shape}\"\n",
    "    assert np.all(recon_errors >= 0), \"Reconstruction error should be non-negative\"\n",
    "    print(\"Success\")\n",
    "\n",
    "test_compute_reconstruction_error()"
   ]
  },
  {
   "cell_type": "code",
   "execution_count": null,
   "metadata": {
    "deletable": false,
    "editable": false,
    "nbgrader": {
     "cell_type": "code",
     "checksum": "731128271d182edec9dfc7dd71bf56b7",
     "grade": true,
     "grade_id": "cell-ca0ec3b367bc5857",
     "locked": true,
     "points": 2,
     "schema_version": 3,
     "solution": false,
     "task": false
    },
    "tags": []
   },
   "outputs": [],
   "source": [
    "def test_compute_reconstruction_error():\n",
    "\n",
    "    model = VAE().to(device)\n",
    "    with torch.no_grad():\n",
    "        for param in model.parameters():\n",
    "            param.zero_()\n",
    "        model.fc4.bias.fill_(np.log(0.5 / (1 - 0.5))) \n",
    "    x = torch.zeros(2, 1, 28, 28)\n",
    "    x[1] = 1.0 \n",
    "    x = x.to(device)\n",
    "    errors = compute_reconstruction_error(model, x)\n",
    "    expected_error_0 = 784 * F.binary_cross_entropy(torch.tensor([0.5]), torch.tensor([0.0]), reduction='sum').item()\n",
    "    expected_error_1 = 784 * F.binary_cross_entropy(torch.tensor([0.5]), torch.tensor([1.0]), reduction='sum').item()\n",
    "    expected = np.array([expected_error_0, expected_error_1])\n",
    "    print(\"Computed errors:\", errors)\n",
    "    print(\"Expected errors:\", expected)\n",
    "    assert np.allclose(errors, expected, atol=1e-2), \"Reconstruction error test failed\"\n",
    "    print(\"Success\")\n",
    "\n",
    "test_compute_reconstruction_error()"
   ]
  },
  {
   "cell_type": "code",
   "execution_count": null,
   "metadata": {
    "deletable": false,
    "editable": false,
    "id": "VyfOhvfopluF",
    "nbgrader": {
     "cell_type": "code",
     "checksum": "ad21e57023fd3d7ef2cd1a2ed5575661",
     "grade": false,
     "grade_id": "cell-704f625c823a9795",
     "locked": true,
     "schema_version": 3,
     "solution": false,
     "task": false
    },
    "tags": []
   },
   "outputs": [],
   "source": [
    "train_normal_data = []\n",
    "for  data, _, _ in tqdm(train_loader):\n",
    "    train_normal_data.append(data)\n",
    "    if len(train_normal_data) >= 2000 // 128:  # Stop after collecting 2000 samples\n",
    "        break\n",
    "train_normal_data = torch.cat(train_normal_data)[:2000]  # Take the first 2000 samples\n",
    "\n",
    "test_normal_data = []\n",
    "for data, _, _ in tqdm(test_loader):\n",
    "    test_normal_data.append(data)\n",
    "    if len(test_normal_data) >= 2000 // 128:\n",
    "        break\n",
    "test_normal_data = torch.cat(test_normal_data)[:2000]\n",
    "\n",
    "anomaly_data = []\n",
    "for data, _, _ in tqdm(anomaly_loader):\n",
    "    anomaly_data.append(data)\n",
    "    if len(anomaly_data) >= 2000 // 128:\n",
    "        break\n",
    "anomaly_data = torch.cat(anomaly_data)[:2000]"
   ]
  },
  {
   "cell_type": "code",
   "execution_count": null,
   "metadata": {
    "deletable": false,
    "editable": false,
    "id": "Q4me82f6pnXI",
    "nbgrader": {
     "cell_type": "code",
     "checksum": "4e0ad0ece1d03802d3b42d6813d332eb",
     "grade": false,
     "grade_id": "cell-d1ef3195123cd897",
     "locked": true,
     "schema_version": 3,
     "solution": false,
     "task": false
    },
    "tags": []
   },
   "outputs": [],
   "source": [
    "train_normal_recon_loss = compute_reconstruction_error(model, train_normal_data)\n",
    "test_normal_recon_loss = compute_reconstruction_error(model, test_normal_data)\n",
    "anomaly_recon_loss = compute_reconstruction_error(model, anomaly_data)"
   ]
  },
  {
   "cell_type": "markdown",
   "metadata": {
    "deletable": false,
    "editable": false,
    "id": "5uO7sCWorMej",
    "nbgrader": {
     "cell_type": "markdown",
     "checksum": "b6760c282a6c546e7605f18b04283093",
     "grade": false,
     "grade_id": "cell-b8a2028487d1b5bf",
     "locked": true,
     "schema_version": 3,
     "solution": false,
     "task": false
    },
    "tags": []
   },
   "source": [
    "Next, we plot the reconstruction error for train normal and anomaly data:\n",
    "\n"
   ]
  },
  {
   "cell_type": "code",
   "execution_count": null,
   "metadata": {
    "colab": {
     "base_uri": "https://localhost:8080/",
     "height": 564
    },
    "deletable": false,
    "editable": false,
    "id": "nLJIV8carAYs",
    "nbgrader": {
     "cell_type": "code",
     "checksum": "e80c3416eb44d3772fca21876ff5ca33",
     "grade": false,
     "grade_id": "cell-586b79e466a98484",
     "locked": true,
     "schema_version": 3,
     "solution": false,
     "task": false
    },
    "outputId": "ef2ce948-d3d8-408e-885b-e222e5d3dea3",
    "tags": []
   },
   "outputs": [],
   "source": [
    "plt.figure(figsize=(10, 6))\n",
    "plt.plot(train_normal_recon_loss[:50], label='Train Normal', color='blue')\n",
    "plt.plot(test_normal_recon_loss[:50], label='Test Normal', color='green')\n",
    "\n",
    "plt.plot(anomaly_recon_loss[:50], label='Anomaly', color='red')\n",
    "plt.title('Reconstruction Error')\n",
    "plt.xlabel('Sample Index')\n",
    "plt.ylabel('Reconstruction Error')\n",
    "plt.legend()\n",
    "plt.grid(True)\n",
    "plt.savefig('./reconstruction_error.png')\n",
    "plt.show()"
   ]
  },
  {
   "cell_type": "markdown",
   "metadata": {
    "deletable": false,
    "editable": false,
    "id": "6huOglZwoP2V",
    "nbgrader": {
     "cell_type": "markdown",
     "checksum": "dc465646a52ea1ca95f8ff1844d8389b",
     "grade": false,
     "grade_id": "cell-7f23f0cdf830380c",
     "locked": true,
     "schema_version": 3,
     "solution": false,
     "task": false
    },
    "tags": []
   },
   "source": [
    "Further statistical analysis demonstrates that the average reconstruction loss for anomalies (about 104) and is higher than that of the normal data (about 78):"
   ]
  },
  {
   "cell_type": "code",
   "execution_count": null,
   "metadata": {
    "colab": {
     "base_uri": "https://localhost:8080/"
    },
    "deletable": false,
    "editable": false,
    "id": "HLbbBSyxEZf4",
    "nbgrader": {
     "cell_type": "code",
     "checksum": "14898f69fffe8f3fb4ff985a5eb64e58",
     "grade": false,
     "grade_id": "cell-9c0815424dc6c1bf",
     "locked": true,
     "schema_version": 3,
     "solution": false,
     "task": false
    },
    "outputId": "43190818-ce6d-4072-f1f2-49e7aef79412",
    "tags": []
   },
   "outputs": [],
   "source": [
    "train_normal_stats = stats.describe(train_normal_recon_loss)\n",
    "anomaly_stats = stats.describe(anomaly_recon_loss)\n",
    "\n",
    "print(\"Descriptive Statistics for Normal Data Reconstruction Errors:\")\n",
    "print(train_normal_stats)\n",
    "\n",
    "print(\"\\nDescriptive Statistics for Anomaly Data Reconstruction Errors:\")\n",
    "print(anomaly_stats)"
   ]
  },
  {
   "cell_type": "code",
   "execution_count": null,
   "metadata": {
    "colab": {
     "base_uri": "https://localhost:8080/"
    },
    "deletable": false,
    "editable": false,
    "id": "PDx3DAO7Ed-d",
    "nbgrader": {
     "cell_type": "code",
     "checksum": "99ffac520acf846a5ae8da9674276b3e",
     "grade": false,
     "grade_id": "cell-1674cbee1867f0fb",
     "locked": true,
     "schema_version": 3,
     "solution": false,
     "task": false
    },
    "outputId": "bf29ac67-59d9-403e-c6a3-9498ac89cdab",
    "tags": []
   },
   "outputs": [],
   "source": [
    "# Calculate average reconstruction loss\n",
    "avg_normal_recon_loss = np.mean(train_normal_recon_loss)\n",
    "avg_anomaly_recon_loss = np.mean(anomaly_recon_loss)\n",
    "\n",
    "print(f'\\nAverage Reconstruction Loss for Normal Data: {avg_normal_recon_loss:.2f}')\n",
    "print(f'Average Reconstruction Loss for Anomaly Data: {avg_anomaly_recon_loss:.2f}')\n",
    "print(f'Difference: {avg_anomaly_recon_loss - avg_normal_recon_loss:.2f}')"
   ]
  },
  {
   "cell_type": "markdown",
   "metadata": {
    "deletable": false,
    "editable": false,
    "id": "KzICtUsZo72n",
    "nbgrader": {
     "cell_type": "markdown",
     "checksum": "eafcc1ada4d43ac2470b0888dfd34152",
     "grade": false,
     "grade_id": "cell-81c940fa0d800ba5",
     "locked": true,
     "schema_version": 3,
     "solution": false,
     "task": false
    },
    "tags": []
   },
   "source": [
    "## Evaluate the model performance"
   ]
  },
  {
   "cell_type": "markdown",
   "metadata": {
    "deletable": false,
    "editable": false,
    "id": "-o0R6IbLo-nW",
    "nbgrader": {
     "cell_type": "markdown",
     "checksum": "498ba09e61f3a8b0073ebfdad323112d",
     "grade": false,
     "grade_id": "cell-c04ed25388b2a22b",
     "locked": true,
     "schema_version": 3,
     "solution": false,
     "task": false
    },
    "tags": []
   },
   "source": [
    "To evaluate the ability of the model to differentiate between normal data and anomalies, we set a threshold: when the reconstruction error is higher, we assign it as an anomaly, and when it’s lower, we assign it as normal data. To find the threshold, let’s look at statistical properties of the reconstruction error:"
   ]
  },
  {
   "cell_type": "code",
   "execution_count": null,
   "metadata": {
    "colab": {
     "base_uri": "https://localhost:8080/"
    },
    "deletable": false,
    "editable": false,
    "id": "OSTDikAFo3Lb",
    "nbgrader": {
     "cell_type": "code",
     "checksum": "6f50bba365c84aa909cc716c9ba6fcbb",
     "grade": false,
     "grade_id": "cell-bb911b52e5dd9daf",
     "locked": true,
     "schema_version": 3,
     "solution": false,
     "task": false
    },
    "outputId": "9eadd4d5-0c8e-489f-ed60-d24838cd7cfd",
    "tags": []
   },
   "outputs": [],
   "source": [
    "normal_percentile_1 = np.percentile(train_normal_recon_loss, 1)\n",
    "normal_percentile_99 = np.percentile(train_normal_recon_loss, 99)\n",
    "\n",
    "anomaly_percentile_4 = np.percentile(anomaly_recon_loss, 4)\n",
    "anomaly_percentile_99 = np.percentile(anomaly_recon_loss, 99)\n",
    "\n",
    "print(f'\\n1st and 99th Percentile of Normal Reconstruction Loss: {normal_percentile_1}, {normal_percentile_99}')\n",
    "print(f'4th and 99th Percentile of Anomaly Reconstruction Loss: {anomaly_percentile_4}, {anomaly_percentile_99}')"
   ]
  },
  {
   "cell_type": "markdown",
   "metadata": {
    "deletable": false,
    "editable": false,
    "id": "bgnv3e5vmYQj",
    "nbgrader": {
     "cell_type": "markdown",
     "checksum": "7705560d71d3a4175954089ab91c3884",
     "grade": false,
     "grade_id": "cell-a40bd8ac3ef8c75c",
     "locked": true,
     "schema_version": 3,
     "solution": false,
     "task": false
    },
    "tags": []
   },
   "source": []
  },
  {
   "cell_type": "code",
   "execution_count": null,
   "metadata": {
    "colab": {
     "base_uri": "https://localhost:8080/"
    },
    "deletable": false,
    "editable": false,
    "id": "iEoGqH1MV_uq",
    "nbgrader": {
     "cell_type": "code",
     "checksum": "1835a86c3427c1c4ad8da357a0852f5a",
     "grade": false,
     "grade_id": "cell-b94d02b2761104a0",
     "locked": true,
     "schema_version": 3,
     "solution": false,
     "task": false
    },
    "outputId": "237914a9-1118-48d9-d766-779005b1f45e",
    "tags": []
   },
   "outputs": [],
   "source": [
    "threshold = np.ceil(np.percentile(train_normal_recon_loss, 99))\n",
    "print(threshold)"
   ]
  },
  {
   "cell_type": "code",
   "execution_count": null,
   "metadata": {
    "deletable": false,
    "editable": false,
    "id": "cbkW_vlHfMZU",
    "nbgrader": {
     "cell_type": "code",
     "checksum": "ba4906f4b7e7a8f6dfddc42fe29301b3",
     "grade": false,
     "grade_id": "cell-a62bdfba0f377e3b",
     "locked": true,
     "schema_version": 3,
     "solution": false,
     "task": false
    },
    "tags": []
   },
   "outputs": [],
   "source": [
    "threshold=80"
   ]
  },
  {
   "cell_type": "code",
   "execution_count": null,
   "metadata": {
    "deletable": false,
    "editable": false,
    "id": "ayBDWNu5Xa02",
    "nbgrader": {
     "cell_type": "code",
     "checksum": "085e880e7c0fe462e8550f70274da5a9",
     "grade": false,
     "grade_id": "cell-0f884e6b8a0e7a74",
     "locked": true,
     "schema_version": 3,
     "solution": false,
     "task": false
    },
    "tags": []
   },
   "outputs": [],
   "source": [
    "combined_test_recon_loss = np.concatenate([test_normal_recon_loss, anomaly_recon_loss])"
   ]
  },
  {
   "cell_type": "code",
   "execution_count": null,
   "metadata": {
    "deletable": false,
    "editable": false,
    "id": "UK5v9dxwcM8l",
    "nbgrader": {
     "cell_type": "code",
     "checksum": "787c0e8058b22aa22c2f166fc25ae883",
     "grade": false,
     "grade_id": "cell-225818c8d4f85114",
     "locked": true,
     "schema_version": 3,
     "solution": false,
     "task": false
    },
    "tags": []
   },
   "outputs": [],
   "source": [
    "combined_test_y_pred = np.array([1 if x>threshold else 0 for x in combined_test_recon_loss])"
   ]
  },
  {
   "cell_type": "code",
   "execution_count": null,
   "metadata": {
    "colab": {
     "base_uri": "https://localhost:8080/"
    },
    "deletable": false,
    "editable": false,
    "id": "RA-J8Xcjd6ZB",
    "nbgrader": {
     "cell_type": "code",
     "checksum": "3e2512f57bb77190cf3a275736497587",
     "grade": false,
     "grade_id": "cell-6a34b3b839d44d31",
     "locked": true,
     "schema_version": 3,
     "solution": false,
     "task": false
    },
    "outputId": "ceda12bb-9dd6-44ae-cac5-809dc2aaf9de",
    "tags": []
   },
   "outputs": [],
   "source": [
    "print(\"Normal samples:\", sum(combined_test_y_pred == 0))\n",
    "print(\"Anomaly samples:\", sum(combined_test_y_pred == 1))"
   ]
  },
  {
   "cell_type": "code",
   "execution_count": null,
   "metadata": {
    "deletable": false,
    "editable": false,
    "id": "sgayrTANVfH1",
    "nbgrader": {
     "cell_type": "code",
     "checksum": "0a7d01aa33450e1780023a5d9c4419cc",
     "grade": false,
     "grade_id": "cell-29d60ded99e4c694",
     "locked": true,
     "schema_version": 3,
     "solution": false,
     "task": false
    },
    "tags": []
   },
   "outputs": [],
   "source": [
    "binary_labels = np.concatenate([\n",
    "    np.zeros(len(test_normal_recon_loss)),  # Label 0 for normal data\n",
    "    np.ones(len(anomaly_recon_loss))        # Label 1 for anomalies\n",
    "])"
   ]
  },
  {
   "cell_type": "code",
   "execution_count": null,
   "metadata": {
    "colab": {
     "base_uri": "https://localhost:8080/"
    },
    "deletable": false,
    "editable": false,
    "id": "93Tp4GtEcooG",
    "nbgrader": {
     "cell_type": "code",
     "checksum": "fe4247fd79152aa20ab754435963f1cf",
     "grade": false,
     "grade_id": "cell-4d31675040a1a6e1",
     "locked": true,
     "schema_version": 3,
     "solution": false,
     "task": false
    },
    "outputId": "eba400fb-1533-4e3e-d8fd-08003b04669c",
    "tags": []
   },
   "outputs": [],
   "source": [
    "accuracy = accuracy_score(binary_labels, combined_test_y_pred)\n",
    "print('Accuracy: %f' % accuracy, '\\n')\n",
    "precision = precision_score(binary_labels, combined_test_y_pred)\n",
    "print('Precision: %f' % precision, '\\n')\n",
    "recall = recall_score(binary_labels, combined_test_y_pred)\n",
    "print('Recall: %f' % recall, '\\n')\n",
    "f1 = f1_score(binary_labels, combined_test_y_pred)\n",
    "print('F1 score: %f' % f1, '\\n')\n",
    "\n",
    "auc = roc_auc_score(binary_labels, combined_test_y_pred)\n",
    "print('ROC AUC: %f' % auc, '\\n')\n",
    "matrix = confusion_matrix(binary_labels, combined_test_y_pred)\n",
    "print('Confusion Matrix:', '\\n', matrix, '\\n')"
   ]
  },
  {
   "cell_type": "code",
   "execution_count": null,
   "metadata": {},
   "outputs": [],
   "source": []
  },
  {
   "cell_type": "code",
   "execution_count": null,
   "metadata": {},
   "outputs": [],
   "source": []
  }
 ],
 "metadata": {
  "accelerator": "GPU",
  "colab": {
   "gpuType": "T4",
   "provenance": []
  },
  "kernelspec": {
   "display_name": "Python 3",
   "language": "python",
   "name": "python3"
  },
  "language_info": {
   "codemirror_mode": {
    "name": "ipython",
    "version": 3
   },
   "file_extension": ".py",
   "mimetype": "text/x-python",
   "name": "python",
   "nbconvert_exporter": "python",
   "pygments_lexer": "ipython3",
   "version": "3.10.12"
  },
  "vscode": {
   "interpreter": {
    "hash": "916dbcbb3f70747c44a77c7bcd40155683ae19c65e1c03b4aa3499c5328201f1"
   }
  }
 },
 "nbformat": 4,
 "nbformat_minor": 4
}
