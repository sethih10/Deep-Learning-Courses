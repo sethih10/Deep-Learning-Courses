{
 "cells": [
  {
   "cell_type": "code",
   "execution_count": 13,
   "id": "5b278d18-8561-4f1e-adc9-a21721a17570",
   "metadata": {
    "tags": []
   },
   "outputs": [
    {
     "name": "stdout",
     "output_type": "stream",
     "text": [
      "Posterior mean estimates:\n",
      "alpha = 1.777175 \n",
      "beta  = -0.09415046 \n",
      "Effective Sample Size (ESS) = 257.6649 \n",
      "MCSE:\n",
      "alpha = 0.04027104 \n",
      "beta  = 0.02888834 \n",
      "Pareto-k diagnostic = 0.1 \n",
      "Importance sampling estimate is likely trustworthy.\n"
     ]
    }
   ],
   "source": [
    "# Load required libraries\n",
    " # For rmvnorm\n",
    "library(aaltobda)  # For bioassay example functions\n",
    "      # For Pareto-k diagnostics\n",
    "\n",
    "\n",
    "\n",
    "# Load the bioassay data\n",
    "data(\"bioassay\")   # assuming the package provides this\n",
    "\n",
    "# Step 1: Draw 4000 samples from the prior (bivariate normal)\n",
    "set.seed(123)\n",
    "S <- 4000\n",
    "prior_mean <- c(0, 0)\n",
    "prior_cov <- diag(2)\n",
    "theta_samples <- rmvnorm(S, mean = prior_mean, sigma = prior_cov)\n",
    "\n",
    "# Step 2: Calculate log-likelihood for each sample\n",
    "log_likelihood <- apply(theta_samples, 1, function(theta) {\n",
    "  sum(dbinom(\n",
    "    bioassay$y, bioassay$n, \n",
    "    plogis(bioassay$x * theta[1] + theta[2]), \n",
    "    log = TRUE\n",
    "  ))\n",
    "})\n",
    "\n",
    "# Step 3: Compute normalized importance weights\n",
    "log_weights <- log_likelihood - max(log_likelihood)  # stabilize\n",
    "weights <- exp(log_weights)\n",
    "weights <- weights / sum(weights)                    # normalize\n",
    "\n",
    "# Step 4: Importance sampling estimate of posterior mean\n",
    "posterior_mean <- colSums(theta_samples * weights)\n",
    "alpha_est <- posterior_mean[1]\n",
    "beta_est <- posterior_mean[2]\n",
    "\n",
    "cat(\"Posterior mean estimates:\\n\")\n",
    "cat(\"alpha =\", alpha_est, \"\\n\")\n",
    "cat(\"beta  =\", beta_est, \"\\n\")\n",
    "\n",
    "# Step 5: Compute Effective Sample Size (ESS)\n",
    "ESS <- 1 / sum(weights^2)\n",
    "cat(\"Effective Sample Size (ESS) =\", ESS, \"\\n\")\n",
    "\n",
    "# Step 6: Monte Carlo Standard Error (MCSE)\n",
    "mcse_alpha <- sqrt(sum(weights * (theta_samples[,1] - alpha_est)^2)) / sqrt(ESS)\n",
    "mcse_beta  <- sqrt(sum(weights * (theta_samples[,2] - beta_est)^2)) / sqrt(ESS)\n",
    "cat(\"MCSE:\\n\")\n",
    "cat(\"alpha =\", mcse_alpha, \"\\n\")\n",
    "cat(\"beta  =\", mcse_beta, \"\\n\")\n",
    "\n",
    "# Step 7: Pareto-k diagnostic\n",
    "# Use 'weights' as log ratios (loo package expects log weights)\n",
    "pareto_k <- posterior::pareto_khat(x = log_weights, are_log_weights = TRUE)\n",
    "#pareto_k <- posterior::pareto_khat(theta_samples)\n",
    "cat(\"Pareto-k diagnostic =\", round(pareto_k, 1), \"\\n\")\n",
    "\n",
    "# Step 8: Trustworthiness based on Pareto-k\n",
    "if (pareto_k < 0.7) {\n",
    "  cat(\"Importance sampling estimate is likely trustworthy.\\n\")\n",
    "} else {\n",
    "  cat(\"Importance sampling estimate may not be trustworthy.\\n\")\n",
    "}\n"
   ]
  },
  {
   "cell_type": "code",
   "execution_count": null,
   "id": "b3e21ad4-7ee4-4c8f-986d-33b137133835",
   "metadata": {},
   "outputs": [],
   "source": []
  }
 ],
 "metadata": {
  "kernelspec": {
   "display_name": "R",
   "language": "R",
   "name": "ir"
  },
  "language_info": {
   "codemirror_mode": "r",
   "file_extension": ".r",
   "mimetype": "text/x-r-source",
   "name": "R",
   "pygments_lexer": "r",
   "version": "4.5.1"
  }
 },
 "nbformat": 4,
 "nbformat_minor": 5
}
