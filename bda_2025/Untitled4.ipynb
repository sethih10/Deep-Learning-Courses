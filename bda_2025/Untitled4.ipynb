{
 "cells": [
  {
   "cell_type": "code",
   "execution_count": 2,
   "id": "23890e2e-522c-4b33-b48b-4370dd69a193",
   "metadata": {
    "tags": []
   },
   "outputs": [],
   "source": [
    "# Load required libraries\n",
    "library(cmdstanr)\n",
    "library(posterior)\n",
    "library(bayesplot)"
   ]
  },
  {
   "cell_type": "code",
   "execution_count": 3,
   "id": "1adc490c-ed03-4c34-8b04-62755960cb37",
   "metadata": {
    "tags": []
   },
   "outputs": [
    {
     "name": "stderr",
     "output_type": "stream",
     "text": [
      "Warning message in readLines(stan_file):\n",
      "“incomplete final line found on 'bioassay.stan'”\n",
      "Make sure 'bioassay.stan' is in your R working directory.\n",
      "\n"
     ]
    },
    {
     "ename": "ERROR",
     "evalue": "Error in c(\"(function (command = NULL, args = character(), error_on_status = TRUE, \", : \u001b[33m!\u001b[39m System command 'make' failed\n",
     "output_type": "error",
     "traceback": [
      "Error in c(\"(function (command = NULL, args = character(), error_on_status = TRUE, \", : \u001b[33m!\u001b[39m System command 'make' failed\nTraceback:\n",
      "1. tryCatchList(expr, classes, parentenv, handlers)",
      "2. tryCatchOne(expr, names, parentenv, handlers[[1L]])",
      "3. value[[3L]](cond)",
      "4. stop(e)"
     ]
    }
   ],
   "source": [
    "\n",
    "\n",
    "# --- 1. Compile the Stan Model ---\n",
    "# Make sure \"bioassay.stan\" is in your working directory\n",
    "# or provide the full path\n",
    "tryCatch({\n",
    "  mod <- cmdstan_model(\"bioassay.stan\")\n",
    "}, error = function(e) {\n",
    "  message(\"Make sure 'bioassay.stan' is in your R working directory.\")\n",
    "  stop(e)\n",
    "})\n",
    "\n",
    "# --- 2. Define the Data ---\n",
    "# Data from BDA3, p. 77\n",
    "x <- c(-0.86, -0.30, -0.05, 0.73)\n",
    "n <- c(5, 5, 5, 5)\n",
    "y <- c(0, 1, 3, 5)\n",
    "\n",
    "# Put data into a list for Stan\n",
    "data_list <- list(N = 4, x = x, n = n, y = y)\n",
    "\n",
    "# --- 3. Run the Sampler ---\n",
    "fit <- mod$sample(\n",
    "  data = data_list,\n",
    "  seed = 4911,\n",
    "  chains = 4,\n",
    "  iter_warmup = 1000,\n",
    "  iter_sampling = 1000, # This results in 2000 total draws per chain\n",
    "  parallel_chains = 4,\n",
    "  refresh = 0 # Suppress printing progress\n",
    ")\n",
    "\n",
    "# --- 4. Check Diagnostics and Get Answers ---\n",
    "\n",
    "# 4.3: Check for warnings\n",
    "message(\"--- 4.3: Diagnostic Summary ---\")\n",
    "fit$diagnostic_summary()\n",
    "# This shows 0 divergences and 0 max_treedepth hits.\n",
    "# Answer: No divergences or max_treedepths reached\n",
    "\n",
    "# 4.4 - 4.9: Get Rhat and ESS\n",
    "# Use summarize_draws to get all diagnostics at once\n",
    "draws_df <- fit$draws(format = \"df\")\n",
    "diags <- summarize_draws(\n",
    "  draws_df,\n",
    "  \"rhat_basic\",\n",
    "  \"ess_mean\",\n",
    "  ess_q05 = ~ess_quantile(.x, 0.05)\n",
    ")\n",
    "\n",
    "message(\"\\n--- 4.4 - 4.9: Rhat and ESS values ---\")\n",
    "print(diags)\n",
    "\n",
    "# 4.4: Rhat for alpha\n",
    "alpha_rhat <- diags[diags$variable == \"alpha\", \"rhat_basic\"]\n",
    "message(\"\\n4.4 Rhat for alpha: \", round(alpha_rhat, 3))\n",
    "\n",
    "# 4.5: Rhat for beta\n",
    "beta_rhat <- diags[diags$variable == \"beta\", \"rhat_basic\"]\n",
    "message(\"4.5 Rhat for beta: \", round(beta_rhat, 3))\n",
    "\n",
    "# 4.6: ESS mean for alpha\n",
    "alpha_ess_mean <- diags[diags$variable == \"alpha\", \"ess_mean\"]\n",
    "message(\"4.6 ESS mean for alpha: \", round(alpha_ess_mean))\n",
    "\n",
    "# 4.7: ESS mean for beta\n",
    "beta_ess_mean <- diags[diags$variable == \"beta\", \"ess_mean\"]\n",
    "message(\"4.7 ESS mean for beta: \", round(beta_ess_mean))\n",
    "\n",
    "# 4.8: ESS q0.05 for alpha\n",
    "alpha_ess_q05 <- diags[diags$variable == \"alpha\", \"ess_q05\"]\n",
    "message(\"4.8 ESS q0.05 for alpha: \", round(alpha_ess_q05))\n",
    "\n",
    "# 4.9: ESS q0.05 for beta\n",
    "beta_ess_q05 <- diags[diags$variable == \"beta\", \"ess_q05\"]\n",
    "message(\"4.9 ESS q0.05 for beta: \", round(beta_ess_q05))\n",
    "\n",
    "\n",
    "# 4.7 (second question): Plot ACF\n",
    "message(\"\\n--- 4.7 (second question): Plotting ACF ---\")\n",
    "# The plot will show ACFs dropping immediately to 0,\n",
    "# which is much faster than a typical MH algorithm for this problem.\n",
    "acf_plot <- mcmc_acf(fit$draws(), pars = c(\"alpha\", \"beta\"))\n",
    "print(acf_plot)"
   ]
  },
  {
   "cell_type": "code",
   "execution_count": null,
   "id": "1ce01d99-564c-4788-b5c6-775053a56456",
   "metadata": {},
   "outputs": [],
   "source": []
  }
 ],
 "metadata": {
  "kernelspec": {
   "display_name": "R",
   "language": "R",
   "name": "ir"
  },
  "language_info": {
   "codemirror_mode": "r",
   "file_extension": ".r",
   "mimetype": "text/x-r-source",
   "name": "R",
   "pygments_lexer": "r",
   "version": "4.5.1"
  }
 },
 "nbformat": 4,
 "nbformat_minor": 5
}
