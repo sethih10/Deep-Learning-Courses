{
 "cells": [
  {
   "cell_type": "markdown",
   "id": "53274fb5",
   "metadata": {
    "deletable": false,
    "editable": false,
    "nbgrader": {
     "cell_type": "markdown",
     "checksum": "5bba742b91375ed640d206a3c9f351e5",
     "grade": false,
     "grade_id": "cell-7dd133571740e15f",
     "locked": true,
     "schema_version": 3,
     "solution": false,
     "task": false
    }
   },
   "source": [
    "\n",
    "<div class=\"alert alert-block alert-info\">\n",
    "   <h2 align=\"center\"> <center><b> Reinforcement Learning Assignment 4 - Function Approximators Part 2: Deep Q Network </b></center></h2>\n",
    "\n",
    "<br>\n",
    "<center><font size=\"3\">This notebook is a part of teaching material for ELEC-E8125</font></center>\n",
    "<center><font size=\"3\">Aalto University</font></center>\n",
    "</div>\n",
    "\n",
    "\n",
    "<a id='TOC'></a>\n",
    "\n",
    "<div class=\"alert alert-block alert-success\">\n",
    "    \n",
    "# Table of contents\n",
    "* <a href='#1.'> 1. Introduction </a>\n",
    "* <a href='#1.1'> 1.1 Task environments </a>\n",
    "* <a href='#1.2'> 1.2 Learning Objectives </a>\n",
    "* <a href='#1.3'> 1.3 Code Structure & Files </a>\n",
    "* <a href='#1.4'> 1.4 Execution time </a>\n",
    "* <a href='#2.'> 2. A (not-so-)deep Q-network</a>\n",
    "* <a href='#3.'> 3. Submitting </a>\n",
    "* <a href='#3.1'> 3.1 Feedback </a>\n",
    "\n",
    "<a href='#T1'><b>Student Task 1.</b> Implementing DQN (10 points) </a>\\\n",
    "<a href='#Q1'><b>Student Question 1.1</b> Considering Continuous Action Spaces (5 points) </a>\\\n",
    "<a href='#Q2'><b>Student Question 1.2</b> Continuous Action Spaces Part 1 (15 points) </a>\\\n",
    "<a href='#Q3'><b>Student Question 1.3</b> The Target Network (10 points) </a>\n",
    " \n",
    "\n",
    "**Total Points:** 40\n",
    "\n",
    "**Estimated runtime of all the cells:** 2 hours"
   ]
  },
  {
   "cell_type": "markdown",
   "id": "9fb3bd96",
   "metadata": {
    "deletable": false,
    "editable": false,
    "nbgrader": {
     "cell_type": "markdown",
     "checksum": "2ccf0d452335e813bfc82782639cf8f7",
     "grade": false,
     "grade_id": "cell-ebc6fa2d1ab8fcf9",
     "locked": true,
     "schema_version": 3,
     "solution": false,
     "task": false
    }
   },
   "source": [
    "# 1. Introduction <a id='1.'></a>\n",
    "\n",
    "In various real-world scenarios, dealing with high-dimensional state spaces makes it impractical to compute and store Q-values for every possible state-action pair in a Q-table. To address this challenge, we turn to function approximators. In this assignment, you will progress creating a basic Deep Q-Network (DQN) in the **Cartpole** and **LunarLander** environment.\n",
    "\n",
    "**Please start working on this assignment early since the DQN will take some time to train.**\n",
    "\n",
    "\n",
    "<div style=\"display:flex\">\n",
    "     <div style=\"flex:1;padding-left:100px;\">\n",
    "          <img src=\"imgs/cartpole.png\" width=\"300\"/>\n",
    "         <figcaption style=\"flex:1;padding-left:20px;\">  Figure 1: The Cartpole environment. </figcaption>\n",
    "     </div>\n",
    "     <div style=\"flex:1;padding-left:70px;\">\n",
    "          <img src=\"imgs/lunar_lander.png\" width=\"300\"/>\n",
    "         <figcaption style=\"flex:1;padding-left:20px;\">  Figure 2: The Lunarlander environment. </figcaption>\n",
    "     </div>\n",
    "\n",
    "</div>\n",
    "\n",
    "Useful Sources:\n",
    "\n",
    "- Mnih, Volodymyr, et al. \"Playing atari with deep reinforcement learning.\" arXiv preprint arXiv:1312.5602 (2013). https://arxiv.org/pdf/1312.5602.pdf\n",
    "\n",
    "\n",
    "## 1.1 Task environments: <a id='1.1'></a>\n",
    "In this excercise, we will mainly use DQN for two tasks:\n",
    "- Cartpole(https://gymnasium.farama.org/environments/classic_control/cart_pole/): This environment corresponds to the version of the cart-pole problem described by Barto, Sutton, and Anderson in “Neuronlike Adaptive Elements That Can Solve Difficult Learning Control Problem”. A pole is attached by an un-actuated joint to a cart, which moves along a frictionless track. The pendulum is placed upright on the cart and the goal is to balance the pole by applying forces in the left and right direction on the cart.\n",
    "\n",
    "- Lunar Lander (https://gymnasium.farama.org/environments/box2d/lunar_lander/): This environment is a classic rocket trajectory optimization problem. According to Pontryagin’s maximum principle, it is optimal to fire the engine at full throttle or turn it off. This is the reason why this environment has discrete actions: engine on or off.\n",
    "\n",
    "## 1.2 Learning Objectives: <a id='1.1'></a>\n",
    "- Understand why and how function approximators can be used for Q-learning\n",
    "- Understand the Deep Q-Network RL algorithm\n",
    "\n",
    "## 1.3 Code Structure & Files <a id='1.2'></a>\n",
    "\n",
    "```ex4_dqn.ipynb``` is the file needed to be modified for this part of the assignment.  \n",
    "\n",
    "<span style=\"color:red\"> **# IMPORTANT: DO NOT FORGET ANOTHER TASK IN ```ex4_rbf.ipynb```** </span>\n",
    "\n",
    "```\n",
    "├───cfg                            # Config files for environments\n",
    "├───imgs                           # Images used in notebook\n",
    "├───results\n",
    "│   └───CartPole-v1\n",
    "│   │   ├───logging                \n",
    "│   │   │    └───logging.pkl        # Contains logged data\n",
    "│   │   ├───model              \n",
    "│   │   │    └───*dqn.pt            # Contains trained model\n",
    "│   │   └───video                   # Videos saved\n",
    "│   │   └───*cartpole_dqn.png       # Contains training performance plot\n",
    "│   └───LunarLander-v2\n",
    "│   │   ├───logging                \n",
    "│   │   │    └───logging.pkl        # Contains logged data\n",
    "│   │   ├───model              \n",
    "│   │   │    └───*dqn.pt            # Contains trained model\n",
    "│   │   └───video                   # Videos saved\n",
    "│   │   └───*lunarlander_dqn.png    # Contains training performance plot\n",
    "│   ex4_dqn.ipynb                   # 2nd assignment file containing tasks <---------This task\n",
    "│   ex4_rbf.ipynb                   # 1st assignment file containing tasks <---------\n",
    "│   train.py                        # Contains train and test functions \n",
    "│   utils.py                        # Contains useful functions \n",
    "└───buffer.py                       # Contains buffer functions\n",
    "```\n",
    "\n",
    "## 1.4 Execution time <a id='1.4'></a>\n",
    "\n",
    "The training of these methods might take more than 40 mins depends on the server. If you have problem of experiment running takes too much time, you can download the jupyter notebook and test it locally."
   ]
  },
  {
   "cell_type": "markdown",
   "id": "c6968238",
   "metadata": {
    "deletable": false,
    "editable": false,
    "nbgrader": {
     "cell_type": "markdown",
     "checksum": "47530e48db6901812adae6ba0239bc2d",
     "grade": false,
     "grade_id": "cell-fdd24e05653d4a99",
     "locked": true,
     "schema_version": 3,
     "solution": false,
     "task": false
    }
   },
   "source": [
    "## Warnings:\n",
    "\n",
    "- Don’t copy and paste cells within a notebook. This will mess up the tracking metadata and prevent autograding from working.\n",
    "- Only add new cells using the '+' button in the upper toolbar and do not split cells.\n",
    "- Be cautious about things such as copying the whole notebook to Colab to work on it. This has sometimes resulted in removing all notebook metadata, making autograding impossible."
   ]
  },
  {
   "cell_type": "markdown",
   "id": "2cba7612-914b-4860-b019-7dc32b075b6b",
   "metadata": {
    "deletable": false,
    "editable": false,
    "nbgrader": {
     "cell_type": "markdown",
     "checksum": "8ead3054091bb4a4807d085110e4ebc7",
     "grade": false,
     "grade_id": "cell-3c7108bbf5fe22bf",
     "locked": true,
     "schema_version": 3,
     "solution": false,
     "task": false
    },
    "tags": []
   },
   "source": [
    "# 2. A (not-so-)deep Q-network <a id='2.'></a>"
   ]
  },
  {
   "cell_type": "markdown",
   "id": "00b2f2ea",
   "metadata": {
    "deletable": false,
    "editable": false,
    "nbgrader": {
     "cell_type": "markdown",
     "checksum": "a84e8c7719f42c54880e4a2a07f85574",
     "grade": false,
     "grade_id": "cell-af25de8f4a4da8d9",
     "locked": true,
     "schema_version": 3,
     "solution": false,
     "task": false
    }
   },
   "source": [
    "<a id='T1'></a>\n",
    "<div class=\" alert alert-warning\">\n",
    "    <h3><b>Student Task 1.</b> Implementing DQN (10 points) </h3> \n",
    "\n",
    "Finish the incomplete code in DQNAgent (functions ```update``` and ```get_action```, marked with ```TODO```) to implement a DQN agent.\n",
    "\n",
    "**See Figure 3 for an example training performance plot for cartpole. Save the training performance plots, and check if they are in the right place (the paths please refer to <a href='#3.'>Submitting<a>).**\n",
    "\n",
    "<figure style=\"text-align: center\">\n",
    "<img src=\"imgs/dqn.png\" width=\"300px\">\n",
    "<figcaption style=\"text-align: center\"> Figure 3: The training performance plot for cartpole-dqn might look something like this. </figcaption>\n",
    "</figure>\n",
    "    \n",
    "🔝\t<a href='#TOC'><b>Table of Contents</b></a>\n",
    "</div>\n"
   ]
  },
  {
   "cell_type": "code",
   "execution_count": 8,
   "id": "4284bfc0",
   "metadata": {
    "tags": []
   },
   "outputs": [],
   "source": [
    "skip_training = True # Set this flag to True before validation and submission"
   ]
  },
  {
   "cell_type": "code",
   "execution_count": null,
   "id": "6c9a2760",
   "metadata": {
    "deletable": false,
    "editable": false,
    "nbgrader": {
     "cell_type": "code",
     "checksum": "578a265f70c27c97dcec1ac8b16d4362",
     "grade": true,
     "grade_id": "cell-6421cfde6887e896",
     "locked": true,
     "points": 0,
     "schema_version": 3,
     "solution": false,
     "task": false
    }
   },
   "outputs": [],
   "source": []
  },
  {
   "cell_type": "code",
   "execution_count": 9,
   "id": "ec1d14d1",
   "metadata": {
    "tags": []
   },
   "outputs": [],
   "source": [
    "import sys, os\n",
    "sys.path.insert(0, os.path.abspath(\"..\"))\n",
    "from typing import List\n",
    "import numpy as np\n",
    "import torch, random, copy, yaml, time\n",
    "import torch.nn as nn\n",
    "import torch.optim as optim\n",
    "import torch.nn.functional as F\n",
    "from pathlib import Path\n",
    "\n",
    "import utils as u\n",
    "import train as t\n",
    "\n",
    "from IPython.display import Video # to display videos\n",
    "\n",
    "device = 'cpu'"
   ]
  },
  {
   "cell_type": "code",
   "execution_count": 10,
   "id": "b2c93182",
   "metadata": {
    "tags": []
   },
   "outputs": [],
   "source": [
    "def mlp(in_dim, mlp_dims: List[int], out_dim, act_fn=nn.ReLU, out_act=nn.Identity):\n",
    "    \"\"\"Returns an MLP.\"\"\"\n",
    "    if isinstance(mlp_dims, int): raise ValueError(\"mlp dimensions should be list, but got int.\")\n",
    "\n",
    "    layers = [nn.Linear(in_dim, mlp_dims[0]), act_fn()]\n",
    "    for i in range(len(mlp_dims)-1):\n",
    "        layers += [nn.Linear(mlp_dims[i], mlp_dims[i+1]), act_fn()]\n",
    "    # the output layer\n",
    "    layers += [nn.Linear(mlp_dims[-1], out_dim), out_act()]\n",
    "    return nn.Sequential(*layers)"
   ]
  },
  {
   "cell_type": "code",
   "execution_count": 15,
   "id": "6c01a546",
   "metadata": {
    "tags": []
   },
   "outputs": [],
   "source": [
    "class DQNAgent(object):\n",
    "    def __init__(self, state_shape, n_actions,\n",
    "                 batch_size=32, hidden_dims=[12], gamma=0.98, lr=1e-3, grad_clip_norm=1000, tau=0.001):\n",
    "        self.n_actions = n_actions\n",
    "        self.state_dim = state_shape[0]\n",
    "        self.policy_net = mlp(self.state_dim, hidden_dims, n_actions).to(device)\n",
    "        self.target_net = copy.deepcopy(self.policy_net)\n",
    "        self.target_net.eval()\n",
    "        self.optimizer = optim.Adam(self.policy_net.parameters(), lr=float(lr))\n",
    "\n",
    "        self.batch_size = batch_size\n",
    "        self.gamma = gamma\n",
    "        self.grad_clip_norm = grad_clip_norm\n",
    "        self.tau = tau\n",
    "        \n",
    "        self.counter = 0\n",
    "\n",
    "    def update(self, buffer):\n",
    "        \"\"\" One gradient step, update the policy net.\"\"\"\n",
    "        start = time.perf_counter()\n",
    "        self.counter += 1\n",
    "        # Do one step gradient update\n",
    "        batch = buffer.sample(self.batch_size, device=device)\n",
    "        # Hint:\n",
    "        #    state = batch.state\n",
    "        #    action = batch.action \n",
    "        #    next_state = batch.next_state\n",
    "        #    reward = batch.reward \n",
    "        #    not_done = batch.not_done \n",
    "        \n",
    "        # TODO: Task 3: Finish the DQN implementation.\n",
    "        # Hints: 1. You can use torch.gather() to gather values along an axis specified by dim. \n",
    "        #        2. torch.max returns a namedtuple (values, indices) where values is the maximum \n",
    "        #           value of each row of the input tensor in the given dimension dim.\n",
    "        #           And indices is the index location of each maximum value found (argmax).\n",
    "        #        3.  batch is a namedtuple, which has state, action, next_state, not_done, reward\n",
    "        #           you can access the value be batch.<name>, e.g, batch.state\n",
    "        #        4. check torch.nn.utils.clip_grad_norm_() to know how to clip grad norm\n",
    "        #        5. You can go throught the PyTorch Tutorial given on MyCourses if you are not familiar with it. \n",
    "        # calculate the q(s,a)\n",
    "        ########## You code starts here #########\n",
    "        \n",
    "        \n",
    "        state = batch.state            \n",
    "        action = batch.action          \n",
    "        next_state = batch.next_state  \n",
    "        reward = batch.reward          \n",
    "        not_done = batch.not_done      \n",
    "\n",
    "\n",
    "        q_values = self.policy_net(state)        \n",
    "        if action.dim() == 1:\n",
    "            action = action.unsqueeze(1)   \n",
    "        action = action.long()\n",
    "        qs = q_values.gather(1, action)         \n",
    "\n",
    "\n",
    "        with torch.no_grad():\n",
    "            next_q_values = self.target_net(next_state)   \n",
    "            max_next_q, _ = torch.max(next_q_values, dim=1, keepdim=True)  \n",
    "\n",
    "            if reward.dim() == 1:\n",
    "                reward = reward.unsqueeze(1)\n",
    "            if not_done.dim() == 1:\n",
    "                not_done = not_done.unsqueeze(1)\n",
    "            target = reward + self.gamma * max_next_q * not_done  # [B,1]\n",
    "\n",
    "\n",
    "        loss = F.mse_loss(qs, target)\n",
    "\n",
    "\n",
    "        self.optimizer.zero_grad()\n",
    "        loss.backward()\n",
    "\n",
    "        torch.nn.utils.clip_grad_norm_(self.policy_net.parameters(), self.grad_clip_norm)\n",
    "        self.optimizer.step()\n",
    "     \n",
    "        \n",
    "        ########## You code ends here #########\n",
    "\n",
    "        # update the target network\n",
    "        u.soft_update_params(self.policy_net, self.target_net, self.tau)\n",
    "        \n",
    "        end = time.perf_counter()\n",
    "        update_time = end - start\n",
    "        return {'loss': loss.item(), \n",
    "                'q_mean': qs.mean().item(),\n",
    "                'num_update': self.counter,\n",
    "                'update_time': update_time}\n",
    "\n",
    "\n",
    "    @torch.no_grad()\n",
    "    def get_action(self, state, epsilon=0.05):\n",
    "        # TODO:  Task 3: implement epsilon-greedy action selection\n",
    "        ########## You code starts here #########\n",
    "        p = np.random.uniform(0, 1)\n",
    "        #if p < epsilon:\n",
    "        #    action = ...\n",
    "        #else:\n",
    "        #    action = ...\n",
    "        \n",
    "        if p < epsilon:\n",
    "            action = int(np.random.randint(0, self.n_actions))\n",
    "        else:\n",
    "            if not isinstance(state, torch.Tensor):\n",
    "                s = torch.as_tensor(state, dtype=torch.float32, device=device)\n",
    "            else:\n",
    "                s = state.to(device).float()\n",
    "            if s.dim() == 1:\n",
    "                s = s.unsqueeze(0)  \n",
    "            qvals = self.policy_net(s)      \n",
    "            action = int(torch.argmax(qvals, dim=1).item())\n",
    "        \n",
    "        ########## You code ends here #########\n",
    "        return action\n",
    "\n",
    "\n",
    "    def save(self, fp):\n",
    "        path = fp/'dqn.pt'\n",
    "        torch.save({\n",
    "            'policy': self.policy_net.state_dict(),\n",
    "            'policy_target': self.target_net.state_dict()\n",
    "        }, path)\n",
    "\n",
    "    def load(self, fp):\n",
    "        path = fp/'dqn.pt'\n",
    "        d = torch.load(path)\n",
    "        self.policy_net.load_state_dict(d['policy'])\n",
    "        self.target_net.load_state_dict(d['policy_target'])"
   ]
  },
  {
   "cell_type": "code",
   "execution_count": 16,
   "id": "d1d97e7d",
   "metadata": {
    "tags": []
   },
   "outputs": [],
   "source": [
    "# init agent\n",
    "with open(Path().cwd()/'cfg'/'cartpole_dqn.yaml', 'r') as f:\n",
    "    cfg = t.Struct(**yaml.safe_load(f))\n",
    "    \n",
    "agent = DQNAgent(state_shape=cfg.state_shape, n_actions=cfg.n_actions, batch_size=cfg.batch_size, hidden_dims=cfg.hidden_dims,\n",
    "                 gamma=cfg.gamma, lr=cfg.lr, tau=cfg.tau)"
   ]
  },
  {
   "cell_type": "code",
   "execution_count": 17,
   "id": "35fc3169",
   "metadata": {
    "tags": []
   },
   "outputs": [
    {
     "name": "stdout",
     "output_type": "stream",
     "text": [
      "Numpy/Torch/Random Seed:  436\n",
      "{'ep_reward': 21.0, 'episode': 0, 'epsilon': 1.0, 'ep_avr': 0.0024652190040796995, 'ts_avr': 9.996180666521901e-05}\n",
      "{'ep_reward': 9.0, 'episode': 100, 'epsilon': 0.6666666666666666, 'ep_avr': 0.022725119503447785, 'ts_avr': 0.0011559970314487325, 'loss': 0.3693954050540924, 'q_mean': 0.9085813164710999, 'num_update': 1708, 'update_time': 0.000985773978754878}\n",
      "{'ep_reward': 10.0, 'episode': 200, 'epsilon': 0.5, 'ep_avr': 0.019593609316507353, 'ts_avr': 0.0012922844630536897, 'loss': 0.3030945062637329, 'q_mean': 2.0202393531799316, 'num_update': 3222, 'update_time': 0.006122881022747606}\n",
      "{'ep_reward': 11.0, 'episode': 300, 'epsilon': 0.4, 'ep_avr': 0.01591037291102111, 'ts_avr': 0.0012294539974334912, 'loss': 0.404846727848053, 'q_mean': 3.0108773708343506, 'num_update': 4514, 'update_time': 0.0009688830468803644}\n",
      "{'ep_reward': 12.0, 'episode': 400, 'epsilon': 0.3333333333333333, 'ep_avr': 0.01483898063772358, 'ts_avr': 0.0012242551279169592, 'loss': 0.5278303027153015, 'q_mean': 3.8537280559539795, 'num_update': 5724, 'update_time': 0.0009760429966263473}\n",
      "{'ep_reward': 10.0, 'episode': 500, 'epsilon': 0.2857142857142857, 'ep_avr': 0.013153226241120137, 'ts_avr': 0.0012269288084957156, 'loss': 0.5523316264152527, 'q_mean': 4.51686429977417, 'num_update': 6794, 'update_time': 0.0009721540263853967}\n",
      "{'ep_reward': 9.0, 'episode': 600, 'epsilon': 0.25, 'ep_avr': 0.014209332899772562, 'ts_avr': 0.0013121240982306806, 'loss': 0.5569025874137878, 'q_mean': 5.059290885925293, 'num_update': 7875, 'update_time': 0.0009768729796633124}\n",
      "{'ep_reward': 11.0, 'episode': 700, 'epsilon': 0.2222222222222222, 'ep_avr': 0.014632398322573863, 'ts_avr': 0.0013267289255331225, 'loss': 1.1641240119934082, 'q_mean': 5.775831699371338, 'num_update': 8976, 'update_time': 0.0009654230088926852}\n",
      "{'ep_reward': 10.0, 'episode': 800, 'epsilon': 0.2, 'ep_avr': 0.013553202883922495, 'ts_avr': 0.0012702714713583286, 'loss': 0.8711135387420654, 'q_mean': 6.214078903198242, 'num_update': 10041, 'update_time': 0.0009839929989539087}\n",
      "{'ep_reward': 23.0, 'episode': 900, 'epsilon': 0.18181818181818182, 'ep_avr': 0.016315381899476053, 'ts_avr': 0.0012897402229232187, 'loss': 1.5401813983917236, 'q_mean': 6.777038097381592, 'num_update': 11304, 'update_time': 0.0009688030113466084}\n",
      "{'ep_reward': 200.0, 'episode': 1000, 'epsilon': 0.16666666666666666, 'ep_avr': 0.08737471382482909, 'ts_avr': 0.0012567837192095487, 'loss': 1.2031445503234863, 'q_mean': 11.143908500671387, 'num_update': 18252, 'update_time': 0.0009715529740788043}\n",
      "{'ep_reward': 178.0, 'episode': 1100, 'epsilon': 0.15384615384615385, 'ep_avr': 0.1284979043662315, 'ts_avr': 0.00115472092318952, 'loss': 1.3325501680374146, 'q_mean': 17.898822784423828, 'num_update': 29374, 'update_time': 0.000993093999568373}\n",
      "{'ep_reward': 120.0, 'episode': 1200, 'epsilon': 0.14285714285714285, 'ep_avr': 0.13843432904512157, 'ts_avr': 0.0011665396463189858, 'loss': 3.719501495361328, 'q_mean': 23.998586654663086, 'num_update': 41235, 'update_time': 0.0009958940208889544}\n",
      "{'ep_reward': 151.0, 'episode': 1300, 'epsilon': 0.13333333333333333, 'ep_avr': 0.15366274445143063, 'ts_avr': 0.0011726835568694259, 'loss': 3.366861343383789, 'q_mean': 31.123632431030273, 'num_update': 54332, 'update_time': 0.0009953430271707475}\n",
      "{'ep_reward': 160.0, 'episode': 1400, 'epsilon': 0.125, 'ep_avr': 0.170818362950813, 'ts_avr': 0.001167748870671749, 'loss': 0.7648093700408936, 'q_mean': 36.21120834350586, 'num_update': 68953, 'update_time': 0.0009892330272123218}\n",
      "{'ep_reward': 177.0, 'episode': 1500, 'epsilon': 0.11764705882352941, 'ep_avr': 0.1940127092471812, 'ts_avr': 0.0011694102311708037, 'loss': 0.23253808915615082, 'q_mean': 40.02935028076172, 'num_update': 85536, 'update_time': 0.0011596940457820892}\n",
      "{'ep_reward': 185.0, 'episode': 1600, 'epsilon': 0.1111111111111111, 'ep_avr': 0.22239537550718524, 'ts_avr': 0.0012071674799080305, 'loss': 0.4545460641384125, 'q_mean': 45.679222106933594, 'num_update': 103951, 'update_time': 0.0010014629806391895}\n",
      "{'ep_reward': 200.0, 'episode': 1700, 'epsilon': 0.10526315789473684, 'ep_avr': 0.22624169825110585, 'ts_avr': 0.0011924909936277958, 'loss': 0.43423619866371155, 'q_mean': 53.050994873046875, 'num_update': 122915, 'update_time': 0.0009917630231939256}\n",
      "{'ep_reward': 194.0, 'episode': 1800, 'epsilon': 0.1, 'ep_avr': 0.2185055755719077, 'ts_avr': 0.001170718355850169, 'loss': 0.07528844475746155, 'q_mean': 57.012550354003906, 'num_update': 141571, 'update_time': 0.0009743129485286772}\n",
      "{'ep_reward': 200.0, 'episode': 1900, 'epsilon': 0.09523809523809523, 'ep_avr': 0.22886332593800035, 'ts_avr': 0.0011692457166362345, 'loss': 0.03526010364294052, 'q_mean': 59.83647537231445, 'num_update': 161136, 'update_time': 0.0009779229876585305}\n",
      "{'ep_reward': 200.0, 'episode': 2000, 'epsilon': 0.09090909090909091, 'ep_avr': 0.23222480065131093, 'ts_avr': 0.00116891291636177, 'loss': 0.02218995988368988, 'q_mean': 73.3768539428711, 'num_update': 180994, 'update_time': 0.0009736529900692403}\n",
      "{'ep_reward': 200.0, 'episode': 2100, 'epsilon': 0.08695652173913043, 'ep_avr': 0.2338842446007766, 'ts_avr': 0.00116891978722997, 'loss': 0.03400547057390213, 'q_mean': 82.11180114746094, 'num_update': 200994, 'update_time': 0.0009900930454023182}\n",
      "{'ep_reward': 200.0, 'episode': 2200, 'epsilon': 0.08333333333333333, 'ep_avr': 0.24833395534777084, 'ts_avr': 0.0012425300374452812, 'loss': 0.027701573446393013, 'q_mean': 84.97004699707031, 'num_update': 220972, 'update_time': 0.000994772999547422}\n",
      "{'ep_reward': 200.0, 'episode': 2300, 'epsilon': 0.08, 'ep_avr': 0.2365942404291127, 'ts_avr': 0.0011825841402042878, 'loss': 0.010181942023336887, 'q_mean': 87.94921112060547, 'num_update': 240970, 'update_time': 0.0010326929623261094}\n",
      "{'ep_reward': 200.0, 'episode': 2400, 'epsilon': 0.07692307692307693, 'ep_avr': 0.23438228016078938, 'ts_avr': 0.0011714172099978896, 'loss': 0.011228193528950214, 'q_mean': 91.13951110839844, 'num_update': 260970, 'update_time': 0.0009912030072882771}\n",
      "{'ep_reward': 200.0, 'episode': 2500, 'epsilon': 0.07407407407407407, 'ep_avr': 0.23187386402045376, 'ts_avr': 0.001169928478756683, 'loss': 0.04143965616822243, 'q_mean': 93.44107818603516, 'num_update': 280781, 'update_time': 0.0009931229869835079}\n",
      "{'ep_reward': 200.0, 'episode': 2600, 'epsilon': 0.07142857142857142, 'ep_avr': 0.23396448665182107, 'ts_avr': 0.0011693224438349716, 'loss': 0.0123774204403162, 'q_mean': 94.57581329345703, 'num_update': 300781, 'update_time': 0.0009928439976647496}\n",
      "{'ep_reward': 200.0, 'episode': 2700, 'epsilon': 0.06896551724137931, 'ep_avr': 0.24868057292769663, 'ts_avr': 0.0012428445251338417, 'loss': 0.008111298084259033, 'q_mean': 95.723388671875, 'num_update': 320781, 'update_time': 0.0009901329758577049}\n",
      "{'ep_reward': 200.0, 'episode': 2800, 'epsilon': 0.06666666666666667, 'ep_avr': 0.23447713661240413, 'ts_avr': 0.001171876424329821, 'loss': 0.000604711938649416, 'q_mean': 96.75133514404297, 'num_update': 340781, 'update_time': 0.0010886939708143473}\n",
      "{'ep_reward': 200.0, 'episode': 2900, 'epsilon': 0.06451612903225806, 'ep_avr': 0.226927145831869, 'ts_avr': 0.001167293904948802, 'loss': 0.023400533944368362, 'q_mean': 97.41767883300781, 'num_update': 360213, 'update_time': 0.0009804630535654724}\n",
      "{'ep_reward': 200.0, 'episode': 3000, 'epsilon': 0.0625, 'ep_avr': 0.23407279697887134, 'ts_avr': 0.0011698592320230092, 'loss': 0.19259591400623322, 'q_mean': 97.95784759521484, 'num_update': 380213, 'update_time': 0.0009845030144788325}\n",
      "{'ep_reward': 200.0, 'episode': 3100, 'epsilon': 0.06060606060606061, 'ep_avr': 0.23399763879948296, 'ts_avr': 0.0011694816186325625, 'loss': 0.05218840390443802, 'q_mean': 97.58110046386719, 'num_update': 400213, 'update_time': 0.0009864330058917403}\n",
      "{'ep_reward': 200.0, 'episode': 3200, 'epsilon': 0.058823529411764705, 'ep_avr': 0.24829557200195268, 'ts_avr': 0.0012409712204273092, 'loss': 0.008217180147767067, 'q_mean': 97.83763885498047, 'num_update': 420213, 'update_time': 0.0009759929962456226}\n",
      "{'ep_reward': 200.0, 'episode': 3300, 'epsilon': 0.05714285714285714, 'ep_avr': 0.2332682505075354, 'ts_avr': 0.0011658378082356649, 'loss': 0.0015546648064628243, 'q_mean': 99.13035583496094, 'num_update': 440213, 'update_time': 0.0009857029654085636}\n",
      "{'ep_reward': 200.0, 'episode': 3400, 'epsilon': 0.05555555555555555, 'ep_avr': 0.2337048934790073, 'ts_avr': 0.0011680229482764844, 'loss': 0.0013913001166656613, 'q_mean': 99.5354995727539, 'num_update': 460213, 'update_time': 0.0009815930388867855}\n",
      "{'ep_reward': 200.0, 'episode': 3500, 'epsilon': 0.05405405405405406, 'ep_avr': 0.23441267100162805, 'ts_avr': 0.0011715660793299321, 'loss': 4.785192140843719e-05, 'q_mean': 100.08984375, 'num_update': 480213, 'update_time': 0.0010093029704876244}\n",
      "{'ep_reward': 200.0, 'episode': 3600, 'epsilon': 0.05263157894736842, 'ep_avr': 0.2328594902198529, 'ts_avr': 0.001168939208037557, 'loss': 0.001165574649348855, 'q_mean': 100.4898452758789, 'num_update': 500125, 'update_time': 0.0009864730527624488}\n",
      "{'ep_reward': 200.0, 'episode': 3700, 'epsilon': 0.05128205128205128, 'ep_avr': 0.24825492707139346, 'ts_avr': 0.0012407575760880719, 'loss': 0.0018116598948836327, 'q_mean': 100.52901458740234, 'num_update': 520125, 'update_time': 0.0009867629851214588}\n",
      "{'ep_reward': 200.0, 'episode': 3800, 'epsilon': 0.05, 'ep_avr': 0.23380635367881042, 'ts_avr': 0.0011685365063953213, 'loss': 0.007721281144768, 'q_mean': 100.4871597290039, 'num_update': 540125, 'update_time': 0.0010047529940493405}\n",
      "{'ep_reward': 22.0, 'episode': 3900, 'epsilon': 0.05, 'ep_avr': 0.22644713044457604, 'ts_avr': 0.0011656046223585614, 'loss': 0.004443380981683731, 'q_mean': 100.48812103271484, 'num_update': 559544, 'update_time': 0.000986483006272465}\n",
      "------ Training Finished ------\n"
     ]
    }
   ],
   "source": [
    "# Trainig takes approximately 40 mins,depends on server\n",
    "if not skip_training:\n",
    "    t.train(agent,  cfg_path=Path().cwd()/'cfg'/'cartpole_dqn.yaml',) "
   ]
  },
  {
   "cell_type": "code",
   "execution_count": 18,
   "id": "9a9a1164-6330-4e45-ba52-1a84d8a91001",
   "metadata": {
    "tags": []
   },
   "outputs": [
    {
     "name": "stdout",
     "output_type": "stream",
     "text": [
      "Numpy/Torch/Random Seed:  436\n"
     ]
    },
    {
     "data": {
      "image/png": "[encoded data removed]",
      "text/plain": [
       "<Figure size 640x480 with 1 Axes>"
      ]
     },
     "metadata": {},
     "output_type": "display_data"
    }
   ],
   "source": [
    "# Visualize the DQN training plots for the cartpole \n",
    "if not skip_training:\n",
    "    t.plot(save_name='cartpole_dqn.png', cfg_path=Path().cwd()/'cfg'/'cartpole_dqn.yaml',)"
   ]
  },
  {
   "cell_type": "markdown",
   "id": "adf80e71",
   "metadata": {},
   "source": [
    "In order to get full points from the task make sure most of the test episodes give a reward of 200, given the seeds below (at least 50% of episodes)."
   ]
  },
  {
   "cell_type": "code",
   "execution_count": 19,
   "id": "09736f3b",
   "metadata": {
    "tags": []
   },
   "outputs": [
    {
     "name": "stdout",
     "output_type": "stream",
     "text": [
      "Numpy/Torch/Random Seed:  436\n",
      "{'episode': 0, 'ep_reward': 200.0}\n",
      "{'episode': 1, 'ep_reward': 200.0}\n",
      "{'episode': 2, 'ep_reward': 200.0}\n",
      "{'episode': 3, 'ep_reward': 200.0}\n",
      "{'episode': 4, 'ep_reward': 200.0}\n",
      "{'episode': 5, 'ep_reward': 200.0}\n",
      "{'episode': 6, 'ep_reward': 200.0}\n",
      "{'episode': 7, 'ep_reward': 200.0}\n",
      "{'episode': 8, 'ep_reward': 200.0}\n",
      "{'episode': 9, 'ep_reward': 200.0}\n"
     ]
    }
   ],
   "source": [
    "if not skip_training:\n",
    "    t.test(agent, cfg_path=Path().cwd()/'cfg'/'cartpole_dqn.yaml', cfg_args=dict(save_video=True), seeds=[67, 23, 89, 12, 45, 78, 34, 90, 21, 56])"
   ]
  },
  {
   "cell_type": "code",
   "execution_count": 20,
   "id": "e3658eb5",
   "metadata": {
    "deletable": false,
    "editable": false,
    "nbgrader": {
     "cell_type": "code",
     "checksum": "38a43041b8d9d7219c1c55d322617d12",
     "grade": true,
     "grade_id": "cell-3ef5a6f870ccd026",
     "locked": true,
     "points": 5,
     "schema_version": 3,
     "solution": false,
     "task": false
    },
    "tags": []
   },
   "outputs": [],
   "source": [
    "%%capture --no-stdout\n",
    "\"TEST\""
   ]
  },
  {
   "cell_type": "code",
   "execution_count": 21,
   "id": "6c63b5ce",
   "metadata": {
    "tags": []
   },
   "outputs": [
    {
     "data": {
      "text/html": [
       "<video loop autoplay  >\n",
       " <source src=\"data:video/mp4;base64,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\" type=\"video/mp4\">\n",
       " Your browser does not support the video tag.\n",
       " </video>"
      ],
      "text/plain": [
       "<IPython.core.display.Video object>"
      ]
     },
     "metadata": {},
     "output_type": "display_data"
    }
   ],
   "source": [
    "if not skip_training:\n",
    "      video = Video(Path().cwd()/'results'/'CartPole-v1'/'video'/'test'/'ex4_dqn-episode-0.mp4',\n",
    "      embed=True, html_attributes=\"loop autoplay\") # Set html_attributes=\"controls\" for video control\n",
    "      display(video)"
   ]
  },
  {
   "cell_type": "code",
   "execution_count": 22,
   "id": "004fa76f",
   "metadata": {
    "tags": []
   },
   "outputs": [],
   "source": [
    "# init agent\n",
    "with open(Path().cwd()/'cfg'/'lunarlander_dqn.yaml', 'r') as f:\n",
    "    cfg = t.Struct(**yaml.safe_load(f))\n",
    "    \n",
    "agent = DQNAgent(state_shape=cfg.state_shape, n_actions=cfg.n_actions, batch_size=cfg.batch_size, hidden_dims=cfg.hidden_dims,\n",
    "                 gamma=cfg.gamma, lr=cfg.lr, tau=cfg.tau)"
   ]
  },
  {
   "cell_type": "code",
   "execution_count": 23,
   "id": "d3775e17",
   "metadata": {
    "tags": []
   },
   "outputs": [
    {
     "name": "stdout",
     "output_type": "stream",
     "text": [
      "Numpy/Torch/Random Seed:  436\n",
      "{'ep_reward': -113.16722512938405, 'episode': 0, 'epsilon': 1.0, 'ep_avr': 0.006339700019452721, 'ts_avr': 8.265187994659166e-05}\n",
      "{'ep_reward': -181.05411173607902, 'episode': 100, 'epsilon': 0.6666666666666666, 'ep_avr': 0.20928025969013106, 'ts_avr': 0.0018448148652555586, 'loss': 18.707366943359375, 'q_mean': -8.345548629760742, 'num_update': 10443, 'update_time': 0.0018417260143905878}\n",
      "{'ep_reward': -120.29961312247266, 'episode': 200, 'epsilon': 0.5, 'ep_avr': 0.3390233025298221, 'ts_avr': 0.0020935474029150033, 'loss': 19.711315155029297, 'q_mean': -4.829587459564209, 'num_update': 26616, 'update_time': 0.0016634450294077396}\n",
      "{'ep_reward': 75.14774397551238, 'episode': 300, 'epsilon': 0.4, 'ep_avr': 0.6332566558773397, 'ts_avr': 0.002013960818858375, 'loss': 7.231689453125, 'q_mean': 8.1918306350708, 'num_update': 58035, 'update_time': 0.0017786759999580681}\n",
      "{'ep_reward': 78.45405078912945, 'episode': 400, 'epsilon': 0.3333333333333333, 'ep_avr': 0.8561626605031779, 'ts_avr': 0.002055701326058083, 'loss': 12.380295753479004, 'q_mean': 20.249414443969727, 'num_update': 99657, 'update_time': 0.0017631249502301216}\n",
      "{'ep_reward': 75.96554870404118, 'episode': 500, 'epsilon': 0.2857142857142857, 'ep_avr': 0.9885302316682646, 'ts_avr': 0.0020558348608713767, 'loss': 7.945326805114746, 'q_mean': 28.247699737548828, 'num_update': 147714, 'update_time': 0.0017518660170026124}\n",
      "{'ep_reward': 105.03903442771153, 'episode': 600, 'epsilon': 0.25, 'ep_avr': 1.009154690329451, 'ts_avr': 0.0020654781146979785, 'loss': 4.534419059753418, 'q_mean': 29.75900650024414, 'num_update': 196545, 'update_time': 0.0018204660154879093}\n",
      "{'ep_reward': 89.2864808734908, 'episode': 700, 'epsilon': 0.2222222222222222, 'ep_avr': 1.0281101251044311, 'ts_avr': 0.0020908050909058153, 'loss': 11.191390037536621, 'q_mean': 31.199411392211914, 'num_update': 245691, 'update_time': 0.006845082971267402}\n",
      "{'ep_reward': 21.73411017104258, 'episode': 800, 'epsilon': 0.2, 'ep_avr': 1.244689477442298, 'ts_avr': 0.0024882327330927366, 'loss': 1.7688286304473877, 'q_mean': 32.352996826171875, 'num_update': 295691, 'update_time': 0.0021567470394074917}\n",
      "{'ep_reward': 62.82587935114069, 'episode': 900, 'epsilon': 0.18181818181818182, 'ep_avr': 1.1794760445330759, 'ts_avr': 0.0023865377604500144, 'loss': 3.182690143585205, 'q_mean': 32.04083251953125, 'num_update': 345089, 'update_time': 0.0019835560233332217}\n",
      "{'ep_reward': -6.338821757285705, 'episode': 1000, 'epsilon': 0.16666666666666666, 'ep_avr': 1.1268281008134364, 'ts_avr': 0.0022684483745932646, 'loss': 2.0590999126434326, 'q_mean': 34.157958984375, 'num_update': 394738, 'update_time': 0.0019202969851903617}\n",
      "{'ep_reward': 65.93052131257545, 'episode': 1100, 'epsilon': 0.15384615384615385, 'ep_avr': 1.0631168191268807, 'ts_avr': 0.0021339097241541215, 'loss': 1.7329423427581787, 'q_mean': 35.80701446533203, 'num_update': 444531, 'update_time': 0.0018313159816898406}\n",
      "{'ep_reward': 75.63288901477056, 'episode': 1200, 'epsilon': 0.14285714285714285, 'ep_avr': 1.087917419129517, 'ts_avr': 0.0021747007888776714, 'loss': 3.0742080211639404, 'q_mean': 38.982723236083984, 'num_update': 494531, 'update_time': 0.0019944069790653884}\n",
      "{'ep_reward': 28.126309007916763, 'episode': 1300, 'epsilon': 0.13333333333333333, 'ep_avr': 1.1618081931921187, 'ts_avr': 0.0023223966136586387, 'loss': 0.9294320344924927, 'q_mean': 36.49549865722656, 'num_update': 544531, 'update_time': 0.0023812780273146927}\n",
      "{'ep_reward': 14.4483874285537, 'episode': 1400, 'epsilon': 0.125, 'ep_avr': 1.1289564026740846, 'ts_avr': 0.002256736402163515, 'loss': 2.85402774810791, 'q_mean': 33.6994514465332, 'num_update': 594531, 'update_time': 0.0019838460138998926}\n",
      "{'ep_reward': 243.54398508947364, 'episode': 1500, 'epsilon': 0.11764705882352941, 'ep_avr': 0.931667446376523, 'ts_avr': 0.002109135635943843, 'loss': 0.9656463861465454, 'q_mean': 33.841007232666016, 'num_update': 638678, 'update_time': 0.0018269760184921324}\n",
      "{'ep_reward': 112.72425147999124, 'episode': 1600, 'epsilon': 0.1111111111111111, 'ep_avr': 0.901570589223993, 'ts_avr': 0.0021103427013882507, 'loss': 1.4044625759124756, 'q_mean': 38.149253845214844, 'num_update': 681374, 'update_time': 0.0018603860517032444}\n",
      "{'ep_reward': 258.3598295959642, 'episode': 1700, 'epsilon': 0.10526315789473684, 'ep_avr': 0.8519152824702906, 'ts_avr': 0.0021157186211941204, 'loss': 1.5074594020843506, 'q_mean': 42.4422721862793, 'num_update': 721615, 'update_time': 0.001927946985233575}\n",
      "{'ep_reward': 137.0625701553829, 'episode': 1800, 'epsilon': 0.1, 'ep_avr': 0.7555894810031168, 'ts_avr': 0.0021287251903529068, 'loss': 10.141780853271484, 'q_mean': 51.819061279296875, 'num_update': 757086, 'update_time': 0.0018287559505552053}\n",
      "{'ep_reward': 183.2913824110284, 'episode': 1900, 'epsilon': 0.09523809523809523, 'ep_avr': 0.837110179681331, 'ts_avr': 0.002185321075197617, 'loss': 1.622122049331665, 'q_mean': 56.68888854980469, 'num_update': 795368, 'update_time': 0.001886945974547416}\n",
      "------ Training Finished ------\n"
     ]
    }
   ],
   "source": [
    "# Trainig takes approximately 60 mins,depends on server\n",
    "if not skip_training:\n",
    "    t.train(agent, cfg_path=Path().cwd()/'cfg'/'lunarlander_dqn.yaml', cfg_args=dict()) "
   ]
  },
  {
   "cell_type": "code",
   "execution_count": 24,
   "id": "3e2a7511-d1aa-4691-be76-406dbccdc739",
   "metadata": {
    "tags": []
   },
   "outputs": [
    {
     "name": "stdout",
     "output_type": "stream",
     "text": [
      "Numpy/Torch/Random Seed:  436\n"
     ]
    },
    {
     "data": {
      "image/png": "[encoded data removed]",
      "text/plain": [
       "<Figure size 640x480 with 1 Axes>"
      ]
     },
     "metadata": {},
     "output_type": "display_data"
    }
   ],
   "source": [
    "# Visualize the DQN training plots for the lunarlander task\n",
    "if not skip_training:\n",
    "    t.plot(save_name='lunarlander_dqn.png', cfg_path=Path().cwd()/'cfg'/'lunarlander_dqn.yaml', cfg_args=dict())"
   ]
  },
  {
   "cell_type": "markdown",
   "id": "74030fd2",
   "metadata": {},
   "source": [
    "In order to get full points from the task make sure most of the test episodes give a reward of 200, given the seeds below (at least 50% of episodes)."
   ]
  },
  {
   "cell_type": "code",
   "execution_count": 25,
   "id": "ba2808d4",
   "metadata": {
    "tags": []
   },
   "outputs": [
    {
     "name": "stdout",
     "output_type": "stream",
     "text": [
      "Numpy/Torch/Random Seed:  436\n",
      "{'episode': 0, 'ep_reward': 270.1604787718568}\n",
      "{'episode': 1, 'ep_reward': 262.1028527059899}\n",
      "{'episode': 2, 'ep_reward': 276.65209158220625}\n",
      "{'episode': 3, 'ep_reward': 269.1899056548298}\n",
      "{'episode': 4, 'ep_reward': 242.48317366072868}\n",
      "{'episode': 5, 'ep_reward': 241.6622380150712}\n",
      "{'episode': 6, 'ep_reward': 263.62431062861265}\n",
      "{'episode': 7, 'ep_reward': 228.7983378969906}\n",
      "{'episode': 8, 'ep_reward': 297.050126478705}\n",
      "{'episode': 9, 'ep_reward': 285.7984823126276}\n"
     ]
    }
   ],
   "source": [
    "if not skip_training:\n",
    "    t.test(agent, cfg_path=Path().cwd()/'cfg'/'lunarlander_dqn.yaml', cfg_args=dict(save_video=True),seeds=[67, 23, 89, 12, 45, 78, 34, 90, 21, 56])"
   ]
  },
  {
   "cell_type": "code",
   "execution_count": 26,
   "id": "85204079",
   "metadata": {
    "deletable": false,
    "editable": false,
    "nbgrader": {
     "cell_type": "code",
     "checksum": "5b145c58866764ca02e0b5c4729621a0",
     "grade": true,
     "grade_id": "cell-7c41d50955488cf2",
     "locked": true,
     "points": 5,
     "schema_version": 3,
     "solution": false,
     "task": false
    },
    "tags": []
   },
   "outputs": [],
   "source": [
    "%%capture --no-stdout\n",
    "\"TEST\""
   ]
  },
  {
   "cell_type": "code",
   "execution_count": 27,
   "id": "e34889d9",
   "metadata": {
    "tags": []
   },
   "outputs": [
    {
     "data": {
      "text/html": [
       "<video loop autoplay  >\n",
       " <source src=\"data:video/mp4;base64,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\" type=\"video/mp4\">\n",
       " Your browser does not support the video tag.\n",
       " </video>"
      ],
      "text/plain": [
       "<IPython.core.display.Video object>"
      ]
     },
     "metadata": {},
     "output_type": "display_data"
    }
   ],
   "source": [
    "if not skip_training:\n",
    "  video = Video(Path().cwd()/'results'/'LunarLander-v2'/'video'/'test'/'ex4_dqn-episode-8.mp4',\n",
    "  embed=True, html_attributes=\"loop autoplay\") # Set html_attributes=\"controls\" for video control\n",
    "  display(video)"
   ]
  },
  {
   "cell_type": "markdown",
   "id": "55896461",
   "metadata": {
    "deletable": false,
    "editable": false,
    "nbgrader": {
     "cell_type": "markdown",
     "checksum": "7672a364f357aec8cb5210d0f941fe63",
     "grade": false,
     "grade_id": "cell-c5606712f2bd514a",
     "locked": true,
     "schema_version": 3,
     "solution": false,
     "task": false
    },
    "tags": []
   },
   "source": [
    "<a id='Q1'></a>\n",
    "<div class=\" alert alert-warning\">\n",
    "    <h3><b>Student Question 1.1</b> Considering Continuous Action Spaces (5 points) </h3> \n",
    "    \n",
    "🔝\t<a href='#TOC'><b>Table of Contents</b></a>\n",
    "</div>\n"
   ]
  },
  {
   "cell_type": "markdown",
   "id": "9b95154b-026f-4e95-9492-20782e8aa24d",
   "metadata": {
    "deletable": false,
    "editable": false,
    "nbgrader": {
     "cell_type": "markdown",
     "checksum": "5f6c4dc6645b2c94d0cbd2e55e2ebe45",
     "grade": false,
     "grade_id": "cell-d77b9f2562ab2797",
     "locked": true,
     "schema_version": 3,
     "solution": false,
     "task": false
    },
    "tags": []
   },
   "source": [
    "### 1.1.1 Question (5 points):\n",
    "Can Q-learning be used directly in environments with continuous action spaces?\n",
    "\n",
    "**Select one:**\n",
    "\n",
    "1. Yes, Q-learning can be used directly without any modifications.\n",
    "2. No, Q-learning cannot be used directly because it only works with a discrete set of actions.\n",
    "3. No, Q-learning cannot be used directly in continuous action spaces, but it can be adapted with certain modifications.\n",
    "4. Yes, Q-learning can be used directly, but it is less efficient than in discrete action spaces."
   ]
  },
  {
   "cell_type": "code",
   "execution_count": 28,
   "id": "22025c94-158f-4ee7-834a-1248eb189d1a",
   "metadata": {
    "tags": []
   },
   "outputs": [],
   "source": [
    "sq_1_1_1 = 3 # Replace with the appropriate answer number"
   ]
  },
  {
   "cell_type": "markdown",
   "id": "29c2290f-67a7-4fe8-9a55-7db7bb6c88f6",
   "metadata": {},
   "source": [
    "The following cells are used for grading"
   ]
  },
  {
   "cell_type": "code",
   "execution_count": 29,
   "id": "abdf5784-303d-4aa9-b036-75219830d49d",
   "metadata": {
    "deletable": false,
    "editable": false,
    "nbgrader": {
     "cell_type": "code",
     "checksum": "85bc371a65d530f9fc963804e483295d",
     "grade": true,
     "grade_id": "cell-9b579c6ba03d991a",
     "locked": true,
     "points": 0,
     "schema_version": 3,
     "solution": false,
     "task": false
    },
    "tags": []
   },
   "outputs": [],
   "source": [
    "assert sq_1_1_1 in range(1, 5)"
   ]
  },
  {
   "cell_type": "code",
   "execution_count": null,
   "id": "42005b40-9ed9-4977-bcbf-8420c8d177b4",
   "metadata": {
    "deletable": false,
    "editable": false,
    "nbgrader": {
     "cell_type": "code",
     "checksum": "0cca2254b439447f716776ca19336a27",
     "grade": true,
     "grade_id": "cell-254ea90497e5d82c",
     "locked": true,
     "points": 5,
     "schema_version": 3,
     "solution": false,
     "task": false
    },
    "tags": []
   },
   "outputs": [],
   "source": []
  },
  {
   "cell_type": "markdown",
   "id": "1395f3d1",
   "metadata": {
    "deletable": false,
    "editable": false,
    "nbgrader": {
     "cell_type": "markdown",
     "checksum": "294b5606dc64ab643d5b5cb9823f7068",
     "grade": false,
     "grade_id": "cell-ca3df96c77733d4f",
     "locked": true,
     "schema_version": 3,
     "solution": false,
     "task": false
    },
    "tags": []
   },
   "source": [
    "<a id='Q2'></a>\n",
    "<div class=\" alert alert-warning\">\n",
    "    <h3><b>Student Question 1.2</b> Continuous Action Spaces Part 1 (15 points) </h3> \n",
    "    \n",
    "🔝\t<a href='#TOC'><b>Table of Contents</b></a>\n",
    "</div>\n"
   ]
  },
  {
   "cell_type": "markdown",
   "id": "f5ee6c44-ca32-4620-85c5-204a4ef2646d",
   "metadata": {
    "deletable": false,
    "editable": false,
    "nbgrader": {
     "cell_type": "markdown",
     "checksum": "368c9ec46e655d5206fd92a3afd6452c",
     "grade": false,
     "grade_id": "cell-19c97802050ed143",
     "locked": true,
     "schema_version": 3,
     "solution": false,
     "task": false
    },
    "tags": []
   },
   "source": [
    "### 1.2.1 Question (5 points):\n",
    "\n",
    "What is the primary challenge when applying DQN to a continuous action space? Hint: select the one that describes the main issue.\n",
    "\n",
    "**Select one:**\n",
    "\n",
    "1. Updating the Q values\n",
    "2. Storing the Q values\n",
    "3. Performing the maximization (argmax) operation\n",
    "4. Calculating the loss function\n",
    "5. Calculating the reward"
   ]
  },
  {
   "cell_type": "code",
   "execution_count": 30,
   "id": "4e8f0ef2-5e19-41d8-bf49-3c8f38ffe645",
   "metadata": {
    "tags": []
   },
   "outputs": [],
   "source": [
    "sq_1_2_1 = 3 # Replace with the appropriate answer number"
   ]
  },
  {
   "cell_type": "markdown",
   "id": "88c67c7f-cabd-40df-97a6-8ddbcfa9a8d6",
   "metadata": {
    "deletable": false,
    "editable": false,
    "nbgrader": {
     "cell_type": "markdown",
     "checksum": "ed192a4eb4250673f4af98c6e743ef23",
     "grade": false,
     "grade_id": "cell-97197487f8ceeb64",
     "locked": true,
     "schema_version": 3,
     "solution": false,
     "task": false
    },
    "tags": []
   },
   "source": [
    "### 1.2.2 Question (5 points):\n",
    "\n",
    "Which one of the following methods does NOT address the continuous action space problem in DQN?\n",
    "\n",
    "**Select one:**\n",
    "\n",
    "1. Learn a function approximation for the maximum of the Q-function\n",
    "2. Use a policy to draw samples of Q(s,a) and select the action with the highest Q-value (e.g., MPO)\n",
    "3. Approximate the Q-function as a convex function\n",
    "4. Use a Deep Deterministic Policy Gradient (DDPG) approach to learn a policy and Q-function simultaneously\n",
    "5. Use a Double DQN approach with two separate networks to estimate Q-values for continuous actions\n",
    "6. Discretize the action space with fine-grained intervals"
   ]
  },
  {
   "cell_type": "code",
   "execution_count": 31,
   "id": "9f1ae7de-289e-44ab-bfed-437273e38cf4",
   "metadata": {
    "tags": []
   },
   "outputs": [],
   "source": [
    "sq_1_2_2 = 5 # Replace with the appropriate answer number"
   ]
  },
  {
   "cell_type": "markdown",
   "id": "dbbf50e1-f1d0-4735-a614-adffd7574619",
   "metadata": {
    "deletable": false,
    "editable": false,
    "nbgrader": {
     "cell_type": "markdown",
     "checksum": "ccae140251592e9baae2e607b9db5a96",
     "grade": false,
     "grade_id": "cell-f42263c476c89d1f",
     "locked": true,
     "schema_version": 3,
     "solution": false,
     "task": false
    },
    "tags": []
   },
   "source": [
    "### 1.2.3 Question (5 points):\n",
    "\n",
    "Discretization is one approach to address the continuous action space problem. What is a **significant** limitation of discretizing the action space to address the continuous action space problem in DQN?\n",
    "\n",
    "**Select one:**\n",
    "\n",
    "1. It may not generalize well to actions outside the discrete set\n",
    "2. It increases the size of the state space exponentially\n",
    "3. It requires modifying the neural network architecture\n",
    "4. It can lead to unstable learning in the early stages of training\n",
    "5. It makes the reward function non-differentiable"
   ]
  },
  {
   "cell_type": "code",
   "execution_count": 32,
   "id": "134ba924-6705-4982-8477-93f27336b475",
   "metadata": {
    "tags": []
   },
   "outputs": [],
   "source": [
    "sq_1_2_3 = 1 # Replace with the appropriate answer number"
   ]
  },
  {
   "cell_type": "markdown",
   "id": "3695dc82-6d20-4051-9e8e-1e256a5bf8fb",
   "metadata": {
    "deletable": false,
    "editable": false,
    "nbgrader": {
     "cell_type": "markdown",
     "checksum": "ea9c2ff3ff7fa62ff869bc2e92a32207",
     "grade": false,
     "grade_id": "cell-6d65dca0030ecedc",
     "locked": true,
     "schema_version": 3,
     "solution": false,
     "task": false
    },
    "tags": []
   },
   "source": [
    "The following cells are used for grading"
   ]
  },
  {
   "cell_type": "code",
   "execution_count": 33,
   "id": "7edf9407-26e1-4b81-910f-a877ebd3d68e",
   "metadata": {
    "deletable": false,
    "editable": false,
    "nbgrader": {
     "cell_type": "code",
     "checksum": "4e70d5f938adbf449599993ed8984ee7",
     "grade": true,
     "grade_id": "cell-b7c78664ec74ec2a",
     "locked": true,
     "points": 0,
     "schema_version": 3,
     "solution": false,
     "task": false
    },
    "tags": []
   },
   "outputs": [],
   "source": [
    "assert sq_1_2_1 in range(1, 6)\n",
    "assert sq_1_2_2 in range(1, 7)\n",
    "assert sq_1_2_3 in range(1, 6)"
   ]
  },
  {
   "cell_type": "code",
   "execution_count": null,
   "id": "d1c89084-b34b-4b3b-bb23-6d84d3b17180",
   "metadata": {
    "deletable": false,
    "editable": false,
    "nbgrader": {
     "cell_type": "code",
     "checksum": "261ad454b4494ded2716bb3ea7da00f4",
     "grade": true,
     "grade_id": "cell-cee299bf0c9ac8e4",
     "locked": true,
     "points": 5,
     "schema_version": 3,
     "solution": false,
     "task": false
    },
    "tags": []
   },
   "outputs": [],
   "source": []
  },
  {
   "cell_type": "code",
   "execution_count": null,
   "id": "9c4eeeb7-aa75-49f5-b69a-3a157060ef58",
   "metadata": {
    "deletable": false,
    "editable": false,
    "nbgrader": {
     "cell_type": "code",
     "checksum": "a0166d8f9297188b4711c3a925bf6006",
     "grade": true,
     "grade_id": "cell-bd84024a26ba389c",
     "locked": true,
     "points": 5,
     "schema_version": 3,
     "solution": false,
     "task": false
    },
    "tags": []
   },
   "outputs": [],
   "source": []
  },
  {
   "cell_type": "code",
   "execution_count": null,
   "id": "11daf090-e4f1-4ca7-bd2a-9e786c3d794b",
   "metadata": {
    "deletable": false,
    "editable": false,
    "nbgrader": {
     "cell_type": "code",
     "checksum": "b14e5eefe2c878d41a5c63ece44a2ab4",
     "grade": true,
     "grade_id": "cell-42e6f022fdf27684",
     "locked": true,
     "points": 5,
     "schema_version": 3,
     "solution": false,
     "task": false
    },
    "tags": []
   },
   "outputs": [],
   "source": []
  },
  {
   "cell_type": "markdown",
   "id": "f10e680f",
   "metadata": {
    "deletable": false,
    "editable": false,
    "nbgrader": {
     "cell_type": "markdown",
     "checksum": "84e1103ca1d0b41cb9afb1cceed72204",
     "grade": false,
     "grade_id": "cell-640e21ebd354971a",
     "locked": true,
     "schema_version": 3,
     "solution": false,
     "task": false
    },
    "tags": []
   },
   "source": [
    "<a id='Q3'></a>\n",
    "<div class=\" alert alert-warning\">\n",
    "    <h3><b>Student Question 1.3</b> The Target Network (10 points) </h3> \n",
    "    \n",
    "🔝\t<a href='#TOC'><b>Table of Contents</b></a>\n",
    "</div>\n"
   ]
  },
  {
   "cell_type": "markdown",
   "id": "11f15fdf-5b08-469f-a0d5-f63f6a969aff",
   "metadata": {
    "deletable": false,
    "editable": false,
    "nbgrader": {
     "cell_type": "markdown",
     "checksum": "61cefb26ece3864427822aed99841924",
     "grade": false,
     "grade_id": "cell-a748a52ab72e0273",
     "locked": true,
     "schema_version": 3,
     "solution": false,
     "task": false
    },
    "tags": []
   },
   "source": [
    "### 1.3.1 Question (5 points):\n",
    "\n",
    "Why do we use a separate target network in DQN instead of using the same network for both Q(s,a) and max_a(Q(s', ·))?\n",
    "\n",
    "**Select one:**\n",
    "\n",
    "1. To prevent the network from overfitting to the most recent transitions\n",
    "2. To ensure that the Q-values are always within a specific range\n",
    "3. To stabilize the training process by preventing frequent changes in target values\n",
    "4. To enable the network to learn from both on-policy and off-policy data"
   ]
  },
  {
   "cell_type": "code",
   "execution_count": 34,
   "id": "559704b6-23fd-4973-92ba-6492923011e2",
   "metadata": {
    "tags": []
   },
   "outputs": [],
   "source": [
    "sq_1_3_1 = 3 # Replace with the appropriate answer number"
   ]
  },
  {
   "cell_type": "markdown",
   "id": "aa24ade0-0094-401f-820d-956a237e2247",
   "metadata": {
    "deletable": false,
    "editable": false,
    "nbgrader": {
     "cell_type": "markdown",
     "checksum": "e10a194b9212ed25ee1f1a223182e825",
     "grade": false,
     "grade_id": "cell-e43b228069f05456",
     "locked": true,
     "schema_version": 3,
     "solution": false,
     "task": false
    },
    "tags": []
   },
   "source": [
    "### 1.3.2 Question (5 points):\n",
    "\n",
    "What would happen if we don't stop the gradient of the target Q-value in DQN?\n",
    "\n",
    "**Select one:**\n",
    "\n",
    "1. The optimization process would become more stable due to the joint updates\n",
    "2. The target network updates would be synchronized with the main network updates\n",
    "3. Both the current Q-values and the target Q-values would be updated during optimization\n",
    "4. The algorithm would effectively switch to an on-policy learning method"
   ]
  },
  {
   "cell_type": "code",
   "execution_count": 35,
   "id": "e7714624-1df2-4e67-aa6a-0b248f69981e",
   "metadata": {
    "tags": []
   },
   "outputs": [],
   "source": [
    "sq_1_3_2 = 3 # Replace with the appropriate answer number"
   ]
  },
  {
   "cell_type": "markdown",
   "id": "de0dd848-e39f-4fa8-bd6c-4b4c38396412",
   "metadata": {
    "deletable": false,
    "editable": false,
    "nbgrader": {
     "cell_type": "markdown",
     "checksum": "87ced07276419b634e8b7d852523bc90",
     "grade": false,
     "grade_id": "cell-2f5dabf7c2e0b401",
     "locked": true,
     "schema_version": 3,
     "solution": false,
     "task": false
    },
    "tags": []
   },
   "source": [
    "The following cells are used for grading"
   ]
  },
  {
   "cell_type": "code",
   "execution_count": 36,
   "id": "92b45bf0-c052-4b1c-b19c-750b371a6cf4",
   "metadata": {
    "deletable": false,
    "editable": false,
    "nbgrader": {
     "cell_type": "code",
     "checksum": "738fa24b9d702b770e751fa6df17c2a3",
     "grade": true,
     "grade_id": "cell-7427871eee3676e5",
     "locked": true,
     "points": 0,
     "schema_version": 3,
     "solution": false,
     "task": false
    },
    "tags": []
   },
   "outputs": [],
   "source": [
    "assert sq_1_3_1 in range(1, 5)\n",
    "assert sq_1_3_2 in range(1, 5)"
   ]
  },
  {
   "cell_type": "code",
   "execution_count": null,
   "id": "08be39cf-a443-4ce7-b709-4701b5b9d187",
   "metadata": {
    "deletable": false,
    "editable": false,
    "nbgrader": {
     "cell_type": "code",
     "checksum": "1f7a58a67e676406e37624e5050e1132",
     "grade": true,
     "grade_id": "cell-06da3985fcfd8e51",
     "locked": true,
     "points": 5,
     "schema_version": 3,
     "solution": false,
     "task": false
    },
    "tags": []
   },
   "outputs": [],
   "source": []
  },
  {
   "cell_type": "code",
   "execution_count": null,
   "id": "5b6fd766-1305-43dd-8a4f-756ad0457882",
   "metadata": {
    "deletable": false,
    "editable": false,
    "nbgrader": {
     "cell_type": "code",
     "checksum": "6a767e7d006960d5cd4bf0181c632ea3",
     "grade": true,
     "grade_id": "cell-a8c5938cdf0dfd2c",
     "locked": true,
     "points": 5,
     "schema_version": 3,
     "solution": false,
     "task": false
    },
    "tags": []
   },
   "outputs": [],
   "source": []
  },
  {
   "cell_type": "markdown",
   "id": "4266d794-008d-4d2c-9a9e-0e18d9b6e354",
   "metadata": {
    "tags": []
   },
   "source": [
    "# 3. Submitting <a id='3.'></a>\n",
    "Ensure all tasks and questions (in ```ex4_dpn.ipynb``` and ```ex4_rbf.ipynb```) are answered and and that the necessary plots are saved in the appropriate locations. The relevant plots and files needed to be submitted for this assignment are:\n",
    "\n",
    "\n",
    "- Training performance plots:\n",
    "  - `cartpole_dqn.png`: Cartpole, training performance plots in terms of episode and episodic reward\n",
    "  - `lunarlander_dqn.png`: Lunarlander, training performance plots in terms of episode and episodic reward \n",
    "<br>\n",
    "<br>\n",
    "\n",
    "  \n",
    "\n",
    "- Model files:\n",
    "  - `dqn.pt`: Trained model\n",
    "\n",
    "\n",
    "Ensure the model files and plots are saved in correct paths:\n",
    "- ```results/CartPole-v1/cartpole_dqn``` Training result for Cartpole environment\n",
    "- ```results/CartPole-v1/model/dqn.pt``` Model for Cartpole environment\n",
    "- ```results/LunarLander-v2/lunarlander_dqn.png``` Training result for LunarLander environment\n",
    "- ```results/LunarLander-v2/model/dqn.pt``` Model for LunarLander environment\n",
    "\n",
    "\n",
    "<span style=\"color:red\"> **# IMPORTANT: DO NOT FORGET ANOTHER TASK IN ```ex4_rbf.ipynb```** </span>"
   ]
  },
  {
   "cell_type": "code",
   "execution_count": 37,
   "id": "40c8536b",
   "metadata": {
    "deletable": false,
    "editable": false,
    "nbgrader": {
     "cell_type": "code",
     "checksum": "cc73e5f68adbc298f70feabf9026032d",
     "grade": true,
     "grade_id": "cell-c97f1e23824070fc",
     "locked": true,
     "points": 0,
     "schema_version": 3,
     "solution": false,
     "task": false
    },
    "tags": []
   },
   "outputs": [
    {
     "ename": "AssertionError",
     "evalue": "",
     "output_type": "error",
     "traceback": [
      "\u001b[0;31m---------------------------------------------------------------------------\u001b[0m",
      "\u001b[0;31mAssertionError\u001b[0m                            Traceback (most recent call last)",
      "Cell \u001b[0;32mIn[37], line 2\u001b[0m\n\u001b[1;32m      1\u001b[0m \u001b[38;5;66;03m# Make sure that skip training is set to True before submission\u001b[39;00m\n\u001b[0;32m----> 2\u001b[0m \u001b[38;5;28;01massert\u001b[39;00m skip_training \u001b[38;5;241m==\u001b[39m \u001b[38;5;28;01mTrue\u001b[39;00m\n",
      "\u001b[0;31mAssertionError\u001b[0m: "
     ]
    }
   ],
   "source": [
    "# Make sure that skip training is set to True before submission\n",
    "assert skip_training == True"
   ]
  },
  {
   "cell_type": "markdown",
   "id": "2ec40b02-69c6-401a-ad79-2f67a8a660e9",
   "metadata": {
    "tags": []
   },
   "source": [
    "## 3.1 Feedback <a id='3.1'></a>\n",
    "\n",
    "In order to help the staff of the course as well as the forthcoming students, it would be great if you could answer to the following questions in your submission:"
   ]
  },
  {
   "cell_type": "markdown",
   "id": "d0a8baf6-b860-4338-b655-b28ec4fac282",
   "metadata": {},
   "source": [
    "1) How much time did you spend solving this exercise? (change the ```hrs``` variable below to a floating point number representing the number of hours taken e.g. 5.43)"
   ]
  },
  {
   "cell_type": "code",
   "execution_count": null,
   "id": "ed94026d-ad80-4148-8e02-5bcfd4b33e98",
   "metadata": {
    "tags": []
   },
   "outputs": [],
   "source": [
    "hrs = None"
   ]
  },
  {
   "cell_type": "markdown",
   "id": "732e1e56-4c4f-4bdf-95b3-f4efcc4c053a",
   "metadata": {},
   "source": [
    "2) Difficulty of each task/question from 1-5 (int or float)"
   ]
  },
  {
   "cell_type": "code",
   "execution_count": null,
   "id": "161f647d-4cf5-4cf8-abbf-1c0d285c5f40",
   "metadata": {
    "tags": []
   },
   "outputs": [],
   "source": [
    "T1 = None   # Implementing DQN (10 points)\n",
    "Q1_1 = None # Question 1.1 Considering Continuous Action Spaces (5 points)\n",
    "Q1_2 = None # Question 1.2 Continuous Action Spaces Part 1 (15 points)\n",
    "Q1_3 = None # Question 1.3 The Target Network (10 points)"
   ]
  },
  {
   "cell_type": "markdown",
   "id": "4fb4a6d0-4ff1-4705-93af-493eed829e4e",
   "metadata": {},
   "source": [
    "3) How well did you understand the content of the task/question from 1-5? (int or float)"
   ]
  },
  {
   "cell_type": "code",
   "execution_count": null,
   "id": "eb003431-4a23-4350-86ec-34444a64ee9d",
   "metadata": {
    "tags": []
   },
   "outputs": [],
   "source": [
    "T1 = None   # Implementing DQN (10 points)\n",
    "Q1_1 = None # Question 1.1 Considering Continuous Action Spaces (5 points)\n",
    "Q1_2 = None # Question 1.2 Continuous Action Spaces Part 1 (15 points)\n",
    "Q1_3 = None # Question 1.3 The Target Network (10 points)"
   ]
  },
  {
   "cell_type": "markdown",
   "id": "c2fa9a62-dcf9-41fe-8d56-a852b2582efa",
   "metadata": {},
   "source": [
    "4) General feedback. Consider questions like:\n",
    "\n",
    "    - Did the content of the lecture relate well with the assignment?\n",
    "    - To what extent did you find the material to be potentially useful for your research and studies?\n",
    "    \n",
    "Please share any additional feedback, suggestions, or comments you have about the lecture, assignment, or course content. Your input is valuable in helping us improve the learning experience."
   ]
  },
  {
   "cell_type": "markdown",
   "id": "77edf97b-6cd9-48a9-bbc9-a075e6c15abb",
   "metadata": {
    "tags": []
   },
   "source": [
    "DOUBLE CLICK HERE TO EDIT, CLEAR THIS TEXT AND ANSWER HERE"
   ]
  }
 ],
 "metadata": {
  "kernelspec": {
   "display_name": "Python 3",
   "language": "python",
   "name": "python3"
  },
  "language_info": {
   "codemirror_mode": {
    "name": "ipython",
    "version": 3
   },
   "file_extension": ".py",
   "mimetype": "text/x-python",
   "name": "python",
   "nbconvert_exporter": "python",
   "pygments_lexer": "ipython3",
   "version": "3.10.12"
  }
 },
 "nbformat": 4,
 "nbformat_minor": 5
}
