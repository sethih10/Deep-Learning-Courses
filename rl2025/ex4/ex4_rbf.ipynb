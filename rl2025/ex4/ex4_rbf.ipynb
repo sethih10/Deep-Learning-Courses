{
 "cells": [
  {
   "cell_type": "markdown",
   "id": "53274fb5",
   "metadata": {
    "deletable": false,
    "editable": false,
    "nbgrader": {
     "cell_type": "markdown",
     "checksum": "42aa8ce65cf2808c1df90efc58a0a546",
     "grade": false,
     "grade_id": "cell-d0c446e141ba6217",
     "locked": true,
     "schema_version": 3,
     "solution": false,
     "task": false
    }
   },
   "source": [
    "\n",
    "<div class=\"alert alert-block alert-info\">\n",
    "   <h2 align=\"center\"> <center><b> Reinforcement Learning Assignment 4 - Function Approximators Part 1: Radial Basis Functions </b></center></h2>\n",
    "\n",
    "<br>\n",
    "<center><font size=\"3\">This notebook is a part of teaching material for ELEC-E8125</font></center>\n",
    "<center><font size=\"3\">Aalto University</font></center>\n",
    "</div>\n",
    "\n",
    "\n",
    "<a id='TOC'></a>\n",
    "\n",
    "<div class=\"alert alert-block alert-success\">\n",
    "    \n",
    "# Table of contents\n",
    "* <a href='#1.'> 1. Introduction </a>\n",
    "* <a href='#1.1'> 1.1 Task environments </a>\n",
    "* <a href='#1.2'> 1.2 Learning Objectives </a>\n",
    "* <a href='#1.3'> 1.3 Code Structure & Files </a>\n",
    "* <a href='#2.'> 2. Approximate with non-linear features</a>\n",
    "* <a href='#2.1'> 2.1 Radial Basis Functions</a>\n",
    "* <a href='#2.2'> 2.2 Sklearn RBF function</a>\n",
    "* <a href='#3.'> 3. Submitting </a>\n",
    "* <a href='#3.1'> 3.1 Feedback </a>\n",
    "\n",
    "<a href='#T1'><b>Student Task 1.</b> Implementing Q-learning using Function Approximation (20 points) </a>\\\n",
    "<a href='#Q1'><b>Student Question 1.1</b> Considering Linear Features (10 points) </a>\\\n",
    "<a href='#Q2'><b>Student Question 1.2</b> Experience Replay Buffer (10 points) </a>\\\n",
    "<a href='#Q3'><b>Student Question 1.3</b> Grid-based vs Function Approximators (10 points) </a>\\\n",
    "<a href='#T2'><b>Student Task 2.</b> Visualizing the Policy (10 points)</a>\n",
    "    \n",
    "**Total Points:** 60\n",
    "\n",
    "**Estimated runtime of all the cells:** 2 - 3 hours"
   ]
  },
  {
   "cell_type": "markdown",
   "id": "c30395ea",
   "metadata": {
    "deletable": false,
    "editable": false,
    "nbgrader": {
     "cell_type": "markdown",
     "checksum": "7a2b0a701ed47cff056b5cb211ab235e",
     "grade": false,
     "grade_id": "cell-e08152dda643a700",
     "locked": true,
     "schema_version": 3,
     "solution": false,
     "task": false
    }
   },
   "source": [
    "# 1. Introduction <a id='1.'></a>\n",
    "\n",
    "In many real world scenarios, the dimensionality of the state space may be too high to compute and store the Q-values for each possible state and action in a Q-table. Instead, the state value and action value functions can be learned by using a function approximator, such as a radial basis functions (RBFs). In this exercise, you will start with handcrafted features and then move to radial basis functions in the **Cartpole** environment.\n",
    "\n",
    "\n",
    "<figure style=\"text-align: center\">\n",
    "<img src=\"imgs/cartpole.png\" width=\"300px\">\n",
    "<figcaption style=\"text-align: center\"> Figure 1: The Cartpole environment. </figcaption>\n",
    "</figure>\n",
    "\n",
    "Useful Sources:\n",
    "\n",
    "- Sutton, Richard S., and Andrew G. Barto. \"Reinforcement Learning: An Introduction (2nd Edition).\" London, England (2017). http://incompleteideas.net/book/RLbook2018.pdf\n",
    "- Lecture 4: Function Approximation (Sutton & Barto Ch. 9-9.3, 10-10.1)\n",
    "\n",
    "## 1.1 Task environments <a id='1.1'></a>\n",
    "\n",
    "In this part, we will specifically use RBF-based Q-learning to solve cartpole task. In this environment, a pole is attached by an un-actuated joint to a cart, which moves along a frictionless track. The pendulum is placed upright on the cart and the goal is to balance the pole by applying forces in the left and right direction on the cart. \n",
    "\n",
    "You can find the detailed description of the task through this link: https://gymnasium.farama.org/environments/classic_control/cart_pole/\n",
    "\n",
    "\n",
    "## 1.2 Learning Objectives: <a id='1.2'></a>\n",
    "- Understand why and how function approximators can be used for Q-learning\n",
    "- Develop intuition behind function approximators: radial basis functions\n",
    "\n",
    "## 1.3 Code Structure & Files <a id='1.3'></a>\n",
    "\n",
    "```ex4_rbf.ipynb``` is the file needed to be modified for this part of the assignment. \n",
    "\n",
    "<span style=\"color:red\"> **# IMPORTANT: DO NOT FORGET ANOTHER TASK IN ```ex4_dqn.ipynb```** </span>\n",
    "\n",
    "```\n",
    "├───cfg                            # Config files for environments\n",
    "├───imgs                           # Images used in notebook\n",
    "├───results\n",
    "│   └───CartPole-v1\n",
    "│   │   ├───logging                \n",
    "│   │   │    └───logging.pkl        # Contains logged data\n",
    "│   │   ├───model              \n",
    "│   │   │    └───*dqn.pt            # Contains trained model for dqn task\n",
    "│   │   │    └───*rbf.pkl           # Contains trained model for rbf task\n",
    "│   │   └───video                   # Videos saved\n",
    "│   │   └───*cartpole_rbf.png       # Contains training performance plot for rbd\n",
    "│   │   └───*cartpole_hd.png        # Contains training performance plot for handcrafted feature\n",
    "│   └───LunarLander-v2\n",
    "│   ex4_dqn.ipynb                   # 2nd assignment file containing tasks <---------\n",
    "│   ex4_rbf.ipynb                   # 1st assignment file containing tasks <---------This task\n",
    "│   train.py                        # Contains train and test functions \n",
    "│   utils.py                        # Contains useful functions \n",
    "└───buffer.py                       # Contains buffer functions\n",
    "```\n",
    "\n"
   ]
  },
  {
   "cell_type": "markdown",
   "id": "5b3c5f5c",
   "metadata": {
    "deletable": false,
    "editable": false,
    "nbgrader": {
     "cell_type": "markdown",
     "checksum": "36b40a9e7e6f787b1b792f5f3a7e224a",
     "grade": false,
     "grade_id": "cell-ab51a95c38cfeb41",
     "locked": true,
     "schema_version": 3,
     "solution": false,
     "task": false
    },
    "tags": []
   },
   "source": [
    "# 2. Approximate with non-linear features <a id='2.'></a>\n",
    "## 2.1 Radial Basis Functions <a id='2.1'></a>\n",
    "A radial basis function (RBF) is a real-valued function $\\phi$ that maps a vector $\\boldsymbol{x} \\in \\mathbb{R}^d$ into a real-value $\\phi : \\mathbb{R}^d \\mapsto \\mathbb{R}$. The RBF $\\phi(\\boldsymbol{x} )$ = $\\phi(||\\boldsymbol{x} ||)$ acts on a distance (radial) and a basis function $\\phi$ (e.g. Gaussian function). The RBFs are commonly used as kernels in machine learning. The RBF kernel is defined as a $K(\\boldsymbol{x} , \\boldsymbol{x} ′) = 〈\\phi(\\boldsymbol{x}),\\phi(\\boldsymbol{x}′)〉$, where $\\phi$ is the Gaussian function. Therefore, the RBF kernel is defined as\n",
    "\n",
    "$$\n",
    "K\\left(\\boldsymbol{x}, \\boldsymbol{x}^{\\prime}\\right)=\\exp \\left(-\\frac{\\left\\|\\boldsymbol{x}-\\boldsymbol{x}^{\\prime}\\right\\|^2}{2 \\sigma^2}\\right)\n",
    "$$\n",
    "\n",
    "where the parameter $\\sigma^2$ is the variance and gives shape to the Gaussian function. \n",
    "\n",
    "On the exercise you are given a ```featurizer``` which uses an ```RBFSampler```. The ```RBFSampler``` uses a Monte Carlo approximation of the RBF kernel and generates samples with the specified variance. The ```RBFSampler``` has been trained on a predefined dataset. Thus, the RBF kernel will map the state $x \\in \\mathbb{R}$ d to the distance to the trained dataset. Therefore, an input state will be transformed to as many features as samples $N$ are specified in the ```RBFSampler``` $\\phi : \\mathbb{R}^d \\mapsto \\mathbb{R}^N $. \n",
    "\n",
    "In a nutshell, the ```featurizer``` function maps low-dimensional states to a high-dimensional representation, which reveals properties that haven’t been shown in the original low-dimensional space, e.g., for the Cartpole environment, it maps the original four-dimensional states to a 230-dimensional vector.\n",
    "\n",
    "## 2.2 Sklearn RBF function<a id='2.2'></a>\n",
    "In this excercise, we use scikit-learn library to implement the RBF approximation by doing following steps:\n",
    "\n",
    "- RBFSampler: A RBF kernel will map feature into higher dimensions using random Fourier features.\n",
    "- FeatureUnion: Concatenates results of multiple transformer objects.\n",
    "- SGDRegressor: Linear model fitted by minimizing a regularized empirical loss with SGD.\n",
    "\n",
    "\n"
   ]
  },
  {
   "cell_type": "markdown",
   "id": "7c8cedc4-14e0-4fb1-b3ba-f26009fa02a4",
   "metadata": {
    "deletable": false,
    "editable": false,
    "nbgrader": {
     "cell_type": "markdown",
     "checksum": "47530e48db6901812adae6ba0239bc2d",
     "grade": false,
     "grade_id": "cell-fdd24e05653d4a99",
     "locked": true,
     "schema_version": 3,
     "solution": false,
     "task": false
    }
   },
   "source": [
    "## Warnings:\n",
    "\n",
    "- Don’t copy and paste cells within a notebook. This will mess up the tracking metadata and prevent autograding from working.\n",
    "- Only add new cells using the '+' button in the upper toolbar and do not split cells.\n",
    "- Be cautious about things such as copying the whole notebook to Colab to work on it. This has sometimes resulted in removing all notebook metadata, making autograding impossible."
   ]
  },
  {
   "cell_type": "markdown",
   "id": "5511d36c",
   "metadata": {
    "deletable": false,
    "editable": false,
    "nbgrader": {
     "cell_type": "markdown",
     "checksum": "d50ae4772484f424d02f23d09e82d04f",
     "grade": false,
     "grade_id": "cell-102128ef6321fb44",
     "locked": true,
     "schema_version": 3,
     "solution": false,
     "task": false
    }
   },
   "source": [
    "<a id='T1'></a>\n",
    "<div class=\" alert alert-warning\">\n",
    "    <h3><b>Student Task 1.</b> Implementing Q-learning using Function Approximation (20 points) </h3> \n",
    "\n",
    "Implement Q-learning using function approximation. Also implement $\\epsilon$-greedy action selection. Test two different features for state representations:\n",
    "\n",
    "&nbsp;&nbsp;&nbsp;&nbsp;&nbsp;(a) handcrafted feature vector $\\phi(s) = [s, |s|]^T$,(use the ```featurizer``` inside the ```RBFAgent``` class).\n",
    "\n",
    "&nbsp;&nbsp;&nbsp;&nbsp;&nbsp;(b) radial basis function representations (use the ```featurizer``` inside the ```RBFAgent``` class).\n",
    "\n",
    "For this task you need to modify functions ```featurize```, ```get_action```, and ```update``` inside the ```RBFAgent``` class. Test the implementation on the Cartpole environment by running the ```train(agent)``` script with default configs. You can test the trained model with the ```test(agent, cfg_args=dict(save_video=true))``` script. \n",
    "    \n",
    "**See Figure 2 for an example training performance plot for Task1(b). Save the training performance plots for both (a) and (b), and check if they are in the right place (the paths please refer to <a href='#3.'>Submitting<a>).**\n",
    "\n",
    "<figure style=\"text-align: center\">\n",
    "<img src=\"imgs/rbf.png\" width=\"300px\">\n",
    "<figcaption style=\"text-align: center\">Figure 2: The training performance plot for Task 1 (b) might look something like this.</figcaption>\n",
    "</figure>\n",
    "    \n",
    "🔝\t<a href='#TOC'><b>Table of Contents</b></a>\n",
    "</div>\n"
   ]
  },
  {
   "cell_type": "code",
   "execution_count": 10,
   "id": "57105930",
   "metadata": {
    "tags": []
   },
   "outputs": [],
   "source": [
    "skip_training = True  # Set this flag to True before validation and submission"
   ]
  },
  {
   "cell_type": "code",
   "execution_count": null,
   "id": "fd6ed5fa",
   "metadata": {
    "deletable": false,
    "editable": false,
    "nbgrader": {
     "cell_type": "code",
     "checksum": "8292581c94100e7cfcfa56cb34739b65",
     "grade": true,
     "grade_id": "cell-21f05aed2ce5f313",
     "locked": true,
     "points": 0,
     "schema_version": 3,
     "solution": false,
     "task": false
    }
   },
   "outputs": [],
   "source": []
  },
  {
   "cell_type": "code",
   "execution_count": 11,
   "id": "62817342",
   "metadata": {
    "tags": []
   },
   "outputs": [],
   "source": [
    "import sys, os\n",
    "sys.path.insert(0, os.path.abspath(\"..\"))\n",
    "\n",
    "import yaml\n",
    "import numpy as np\n",
    "from pathlib import Path\n",
    "\n",
    "from sklearn.linear_model import SGDRegressor\n",
    "from sklearn.kernel_approximation import RBFSampler\n",
    "from sklearn.preprocessing import StandardScaler\n",
    "from sklearn.pipeline import FeatureUnion\n",
    "\n",
    "from buffer import Batch\n",
    "import utils as u\n",
    "import train as t\n",
    "\n",
    "from IPython.display import Video # to display videos"
   ]
  },
  {
   "cell_type": "code",
   "execution_count": 21,
   "id": "9ee3fb4e",
   "metadata": {
    "tags": []
   },
   "outputs": [],
   "source": [
    "class RBFAgent(object):\n",
    "    def __init__(self, n_actions, gamma=0.98, batch_size=32):\n",
    "        self.scaler = None\n",
    "        self.featurizer = None\n",
    "        self.q_functions = None\n",
    "        self.gamma = gamma\n",
    "        self.batch_size = batch_size\n",
    "        self.n_actions = n_actions\n",
    "        self._initialize_model()\n",
    "\n",
    "    def _initialize_model(self):\n",
    "        # Draw some samples from the observation range and initialize the scaler (used to normalize data)\n",
    "        obs_limit = np.array([4.8, 5, 0.5, 5],\n",
    "                             dtype=np.float32)\n",
    "        samples = np.random.uniform(-obs_limit, obs_limit,\n",
    "                                    (1000, obs_limit.shape[0])).astype(np.float32)\n",
    "        \n",
    "        # calculate the mean and var of samples, used later to normalize training data\n",
    "        self.scaler = StandardScaler().fit(samples) \n",
    "\n",
    "        # Initialize the RBF featurizer\n",
    "        self.featurizer = FeatureUnion([\n",
    "            (\"rbf1\", RBFSampler(gamma=5.0, n_components=100)),\n",
    "            (\"rbf2\", RBFSampler(gamma=2.0, n_components=80)),\n",
    "            (\"rbf3\", RBFSampler(gamma=1.0, n_components=50)),\n",
    "        ])\n",
    "        self.featurizer.fit(self.scaler.transform(samples))\n",
    "\n",
    "        # Create a value approximator for each action dimension\n",
    "        self.q_functions = [SGDRegressor(learning_rate=\"constant\", max_iter=500, tol=1e-3)\n",
    "                           for _ in range(self.n_actions)]\n",
    "\n",
    "        # Initialize it to whatever values; implementation detail\n",
    "        for q_a in self.q_functions:\n",
    "            q_a.partial_fit(self.featurize(samples), \n",
    "                            np.zeros((samples.shape[0],), dtype=np.float32))\n",
    "\n",
    "    def featurize(self, state):\n",
    "        \"\"\" Map state to a higher dimension for better representation.\"\"\"\n",
    "        if len(state.shape) == 1:\n",
    "            state = state.reshape(1, -1)\n",
    "        \n",
    "        # TODO: Task 1, choose which feature to use. \n",
    "        # Task 1a: implement the manual features here \n",
    "        ########## You code starts here #########\n",
    "        #manual_feature = ...\n",
    "        \n",
    "        manual_feature = np.concatenate([state, np.abs(state)], axis=1)\n",
    "        ########## You code ends here #########\n",
    "\n",
    "        # Task 1b: implement the RBF features transformation here \n",
    "        # it will map a state to a higher dimension (100+80+50)\n",
    "        ########## You code starts here #########\n",
    "        # rbf_feature = ...\n",
    "        scaled = self.scaler.transform(state)\n",
    "        rbf_feature = self.featurizer.transform(scaled)\n",
    "        \n",
    "        ########## You code ends here #########\n",
    "\n",
    "        #Task 1: return manual_feature or return rbf_feature\n",
    "        ########## You code starts here #########\n",
    "        #feature = manual_feature #(task 1 a)\n",
    "        feature = rbf_feature #(task 1 b)\n",
    "        ########## You code ends here #########\n",
    "        \n",
    "        return feature\n",
    "    \n",
    "    def get_action(self, state, epsilon=0.0):\n",
    "        # TODO: Task 1: Implement epsilon-greedy policy\n",
    "        # Hints:\n",
    "        # 1. self.q_functions is a list which defines a q function for each action dimension\n",
    "        # 2. for each q function, use predict(feature) to obtain the q value\n",
    "        ########## Your code starts here ##########\n",
    "        p = np.random.uniform(0, 1)\n",
    "        \n",
    "        #feature = ...\n",
    "        #q_values = ...\n",
    "        #\n",
    "        #if p < epsilon:\n",
    "        #    action = ...\n",
    "        #else:\n",
    "        #    action = ...\n",
    "            \n",
    "        feature = self.featurize(state)  \n",
    "        q_values = np.array([q.predict(feature)[0] for q in self.q_functions], dtype=np.float32)\n",
    "        \n",
    "        if p < epsilon:\n",
    "            action = np.random.randint(0, self.n_actions)\n",
    "        else:\n",
    "            action = int(np.argmax(q_values))\n",
    "        ########## Your code ends here #########\n",
    "        return action\n",
    "\n",
    "    def _to_squeezed_np(self, batch:Batch) -> Batch:\n",
    "        \"\"\" A simple helper function squeeze data dimension and cover data format from tensor to np.ndarray.\"\"\"\n",
    "        _ret = {}\n",
    "        for name, value in batch._asdict().items():\n",
    "            if isinstance(value, dict): # this is for extra, which is a dict\n",
    "                for k, v in value.items():\n",
    "                    value[k] = v.squeeze().numpy()\n",
    "                _ret[name] = value\n",
    "            else:\n",
    "                _ret[name] = value.squeeze().numpy()\n",
    "        return Batch(**_ret)\n",
    "        \n",
    "    def update(self, buffer):\n",
    "        # batch is a namedtuple, which has state, action, next_state, not_done, reward\n",
    "        # you can access the value be batch.<name>, e.g, batch.state\n",
    "        batch = buffer.sample(self.batch_size) \n",
    "        # Hint:\n",
    "        #    state = batch.state\n",
    "        #    action = batch.action \n",
    "        #    next_state = batch.next_state\n",
    "        #    reward = batch.reward \n",
    "        #    not_done = batch.not_done \n",
    "        \n",
    "        # the returned batch is a namedtuple, where the data is torch.Tensor\n",
    "        # we first squeeze dim and then covert it to Numpy array.\n",
    "        batch = self._to_squeezed_np(batch)\n",
    "\n",
    "        # TODO: Task 1, update q_functions\n",
    "        # Hints: \n",
    "        # 1. featurize the state and next_state\n",
    "        # 2. calculate q_target (check q-learning)\n",
    "        # 3. self.q_functions is a list which defines a q function for each action dimension\n",
    "        #    for each q function, use q.predict(featurized_state) to obtain the q value \n",
    "        # 4. remember to use not_done to mask out the q values at terminal states (treat them as 0)\n",
    "        ########## You code starts here #########\n",
    "        #f_state = ...\n",
    "        #f_next_state = ...\n",
    "        \n",
    "        f_state = self.featurize(batch.state)         \n",
    "        f_next_state = self.featurize(batch.next_state) \n",
    "\n",
    "        \n",
    "        # Check the Hints to finish the rest ;)\n",
    "        #q_tar = ... \n",
    "        \n",
    "        q_next_all = np.stack([q.predict(f_next_state) for q in self.q_functions], axis=0)  \n",
    "        max_q_next = np.max(q_next_all, axis=0)\n",
    "        rewards = batch.reward.astype(np.float32)\n",
    "        not_done = batch.not_done.astype(np.float32)\n",
    "        q_tar = rewards + self.gamma * not_done * max_q_next\n",
    "        ########## You code ends here #########\n",
    "        \n",
    "        # Get new weights for each action separately\n",
    "        for a in range(self.n_actions):\n",
    "            # Find states where `a` was taken\n",
    "            idx = batch.action == a\n",
    "\n",
    "            # If a not present in the batch, skip and move to the next action\n",
    "            if np.any(idx):\n",
    "                act_states = f_state[idx]\n",
    "                act_targets = q_tar[idx]\n",
    "\n",
    "                # Perform a single SGD step on the Q-function params to update the q_function corresponding to action a\n",
    "                self.q_functions[a].partial_fit(act_states, act_targets)\n",
    "\n",
    "        return {}\n",
    "\n",
    "    def save(self, fp):\n",
    "        path = fp/'rbf.pkl'\n",
    "        u.save_object(\n",
    "            {'q': self.q_functions, 'featurizer': self.featurizer},\n",
    "            path\n",
    "        )\n",
    "\n",
    "    def load(self, fp):\n",
    "        path = fp/'rbf.pkl'\n",
    "        d = u.load_object(path)\n",
    "\n",
    "        self.q_functions = d['q']\n",
    "        self.featurizer = d['featurizer']"
   ]
  },
  {
   "cell_type": "markdown",
   "id": "bb219433-160a-4c5b-b1bf-6c654a57e703",
   "metadata": {
    "deletable": false,
    "editable": false,
    "nbgrader": {
     "cell_type": "markdown",
     "checksum": "d198c51b373df885c3794fef8724caf0",
     "grade": false,
     "grade_id": "cell-f9705dbb63754c13",
     "locked": true,
     "schema_version": 3,
     "solution": false,
     "task": false
    },
    "tags": []
   },
   "source": [
    "<a id='T1'></a>\n",
    "<div class=\" alert alert-warning\">\n",
    "    <h4><b>Student Task 1.(a)</b> Linear model with handcraft feature </h4> \n",
    "\n",
    "First, let's test Q-learning with handcrafted features. We define the feature as :\n",
    "    \n",
    "&nbsp;&nbsp;&nbsp;&nbsp;&nbsp;&nbsp;&nbsp;&nbsp;&nbsp;&nbsp;&nbsp;&nbsp;&nbsp;&nbsp;&nbsp;&nbsp;&nbsp;&nbsp;&nbsp;&nbsp;&nbsp;&nbsp;&nbsp;&nbsp;&nbsp;&nbsp;&nbsp;&nbsp;&nbsp;&nbsp;$\\phi(s) = [s, |s|]^T$\n",
    "\n",
    "Then we will feed this feature into a linear model to predict corresponding Q-values.\n",
    "\n",
    "For this Task, implement the code in ```class RBFAgent```:\n",
    "    \n",
    "1. First, you need to modify functions ```featurize```, to convert the state $s$ from encironment to $[s, |s|]^T$.\n",
    "2. Modify the function ```get_action```, use ```self.q_functions``` to select the action has the highest return.\n",
    "3. Modify the function ```update```, based on the Q-learning objective to update the Q-function (linear models).\n",
    "\n",
    "After the modifying, test the implementation on the Cartpole environment by running the ```train(agent)``` script with default configs. You can test the trained model with the ```test(agent, cfg_args=dict(save_video=true))``` script. \n",
    "</div>"
   ]
  },
  {
   "cell_type": "code",
   "execution_count": 16,
   "id": "d9dd6467",
   "metadata": {
    "tags": []
   },
   "outputs": [],
   "source": [
    "# After the modifying, run\n",
    "# init agent\n",
    "with open(Path().cwd()/'cfg'/'cartpole_rbf.yaml', 'r') as f:\n",
    "    cfg = t.Struct(**yaml.safe_load(f))\n",
    "        \n",
    "agent = RBFAgent(n_actions=cfg.n_actions, gamma=cfg.gamma, batch_size=cfg.batch_size)"
   ]
  },
  {
   "cell_type": "code",
   "execution_count": 17,
   "id": "d78c6566",
   "metadata": {
    "tags": []
   },
   "outputs": [
    {
     "name": "stdout",
     "output_type": "stream",
     "text": [
      "Numpy/Torch/Random Seed:  436\n",
      "{'ep_reward': 25.0, 'episode': 0, 'epsilon': 1.0, 'ep_avr': 0.002912750991526991, 'ts_avr': 0.00010111839976161718}\n",
      "{'ep_reward': 32.0, 'episode': 100, 'epsilon': 0.3333333333333333, 'ep_avr': 0.08114539696951396, 'ts_avr': 0.0017250787477759643}\n",
      "{'ep_reward': 50.0, 'episode': 200, 'epsilon': 0.2, 'ep_avr': 0.10352024099731352, 'ts_avr': 0.0017734972958849378}\n",
      "{'ep_reward': 77.0, 'episode': 300, 'epsilon': 0.14285714285714285, 'ep_avr': 0.11278071855893358, 'ts_avr': 0.0017577344059917142}\n",
      "{'ep_reward': 82.0, 'episode': 400, 'epsilon': 0.1111111111111111, 'ep_avr': 0.09952423968759831, 'ts_avr': 0.0017605684532586122}\n",
      "{'ep_reward': 46.0, 'episode': 500, 'epsilon': 0.09090909090909091, 'ep_avr': 0.12028394569875672, 'ts_avr': 0.001767774535082319}\n",
      "{'ep_reward': 62.0, 'episode': 600, 'epsilon': 0.07692307692307693, 'ep_avr': 0.11576702053425833, 'ts_avr': 0.001773339032563042}\n",
      "{'ep_reward': 128.0, 'episode': 700, 'epsilon': 0.06666666666666667, 'ep_avr': 0.1298471089976374, 'ts_avr': 0.0017735116943702622}\n",
      "{'ep_reward': 116.0, 'episode': 800, 'epsilon': 0.058823529411764705, 'ep_avr': 0.13569328132260125, 'ts_avr': 0.0017729401271531565}\n",
      "{'ep_reward': 90.0, 'episode': 900, 'epsilon': 0.05263157894736842, 'ep_avr': 0.12072594421159011, 'ts_avr': 0.0018010075264714603}\n",
      "{'ep_reward': 139.0, 'episode': 1000, 'epsilon': 0.05, 'ep_avr': 0.167709254938527, 'ts_avr': 0.0017493337054275673}\n",
      "{'ep_reward': 83.0, 'episode': 1100, 'epsilon': 0.05, 'ep_avr': 0.13951213121355976, 'ts_avr': 0.001767423813116497}\n",
      "{'ep_reward': 78.0, 'episode': 1200, 'epsilon': 0.05, 'ep_avr': 0.12938951491785702, 'ts_avr': 0.0017711384583433457}\n",
      "{'ep_reward': 71.0, 'episode': 1300, 'epsilon': 0.05, 'ep_avr': 0.16888298914767802, 'ts_avr': 0.0017803417374609276}\n",
      "{'ep_reward': 58.0, 'episode': 1400, 'epsilon': 0.05, 'ep_avr': 0.13927641699963714, 'ts_avr': 0.0017727301804850244}\n",
      "{'ep_reward': 110.0, 'episode': 1500, 'epsilon': 0.05, 'ep_avr': 0.1331081214727601, 'ts_avr': 0.0017744209568934636}\n",
      "{'ep_reward': 44.0, 'episode': 1600, 'epsilon': 0.05, 'ep_avr': 0.1133917708293302, 'ts_avr': 0.0017722594815155635}\n",
      "{'ep_reward': 55.0, 'episode': 1700, 'epsilon': 0.05, 'ep_avr': 0.14427981903951148, 'ts_avr': 0.0017729911715184863}\n",
      "{'ep_reward': 67.0, 'episode': 1800, 'epsilon': 0.05, 'ep_avr': 0.1273944608797319, 'ts_avr': 0.0017761706317847572}\n",
      "{'ep_reward': 72.0, 'episode': 1900, 'epsilon': 0.05, 'ep_avr': 0.14791723259782885, 'ts_avr': 0.0017852079568017973}\n",
      "------ Training Finished ------\n"
     ]
    }
   ],
   "source": [
    "if not skip_training:\n",
    "    t.train(agent, cfg_path=Path().cwd()/'cfg'/'cartpole_rbf.yaml', cfg_args={}) # >= 20 mins"
   ]
  },
  {
   "cell_type": "code",
   "execution_count": 18,
   "id": "4d57a812",
   "metadata": {
    "tags": []
   },
   "outputs": [
    {
     "name": "stdout",
     "output_type": "stream",
     "text": [
      "Numpy/Torch/Random Seed:  436\n",
      "{'episode': 0, 'ep_reward': 66.0}\n",
      "{'episode': 1, 'ep_reward': 59.0}\n",
      "{'episode': 2, 'ep_reward': 71.0}\n",
      "{'episode': 3, 'ep_reward': 79.0}\n",
      "{'episode': 4, 'ep_reward': 100.0}\n",
      "{'episode': 5, 'ep_reward': 97.0}\n",
      "{'episode': 6, 'ep_reward': 91.0}\n",
      "{'episode': 7, 'ep_reward': 94.0}\n",
      "{'episode': 8, 'ep_reward': 68.0}\n",
      "{'episode': 9, 'ep_reward': 61.0}\n"
     ]
    }
   ],
   "source": [
    "if not skip_training:\n",
    "    t.test(agent, cfg_path=Path().cwd()/'cfg'/'cartpole_rbf.yaml', cfg_args=dict(save_video=True), seeds=[67, 23, 89, 12, 45, 78, 34, 90, 21, 56]) "
   ]
  },
  {
   "cell_type": "code",
   "execution_count": 19,
   "id": "4e9ba558-6057-4142-804b-d6bc43d0d709",
   "metadata": {
    "tags": []
   },
   "outputs": [
    {
     "name": "stdout",
     "output_type": "stream",
     "text": [
      "Numpy/Torch/Random Seed:  436\n"
     ]
    },
    {
     "data": {
      "image/png": "[encoded data removed]",
      "text/plain": [
       "<Figure size 640x480 with 1 Axes>"
      ]
     },
     "metadata": {},
     "output_type": "display_data"
    }
   ],
   "source": [
    "if not skip_training:\n",
    "    t.plot(save_name='cartpole_hd.png', cfg_path=Path().cwd()/'cfg'/'cartpole_rbf.yaml', cfg_args={}) # < 15 mins"
   ]
  },
  {
   "cell_type": "markdown",
   "id": "05fb6b18",
   "metadata": {},
   "source": [
    "The agent acting in the environment can be seen using the following command. Change the path to pick the episode you want to visualize. Bear in mind by default video saving for training is taken every 500 episodes"
   ]
  },
  {
   "cell_type": "code",
   "execution_count": 20,
   "id": "69b48c8a",
   "metadata": {
    "tags": []
   },
   "outputs": [
    {
     "data": {
      "text/html": [
       "<video loop autoplay  >\n",
       " <source src=\"data:video/mp4;base64,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\" type=\"video/mp4\">\n",
       " Your browser does not support the video tag.\n",
       " </video>"
      ],
      "text/plain": [
       "<IPython.core.display.Video object>"
      ]
     },
     "metadata": {},
     "output_type": "display_data"
    }
   ],
   "source": [
    "if not skip_training:\n",
    "    video = Video(Path().cwd()/'results'/'CartPole-v1'/'video'/'test'/'ex4_rbf-episode-0.mp4',\n",
    "    embed=True, html_attributes=\"loop autoplay\") # Set html_attributes=\"controls\" for video control\n",
    "    display(video)"
   ]
  },
  {
   "cell_type": "markdown",
   "id": "571f48c8-9ab6-43fb-bce0-19719ce2c9e2",
   "metadata": {
    "tags": []
   },
   "source": [
    "<a id='T1'></a>\n",
    "<div class=\" alert alert-warning\">\n",
    "    <h4><b>Student Task 1.(b)</b> RBF approximation </h4> \n",
    "\n",
    "Now, let's test Q-learning with RBF approximation. In this task, we will do a feature transform using the Radial Basis Function. An input state will be transformed to as many features as samples $N$ are specified in the ```RBFSampler``` $\\phi : \\mathbb{R}^d \\mapsto \\mathbb{R}^N $. Then we will feed this $\\mathbb{R}^N $ feature into a linear model to predict corresponding Q-values.\n",
    "\n",
    "For this Task:\n",
    "    \n",
    "1. You need to modify functions ```featurize```, to **convert the state $s$ to a higher dimensional feature using** ```RBFSampler```.\n",
    "\n",
    "2. Run the cell of ```class RBFAgent``` to update the class function\n",
    "\n",
    "3. <span style=\"color:red\"> **IMPORTANT: Directly come to this cell after the modifications, DO NOT RUN the handcraft feature cells again!!!** </span>\n",
    "\n",
    "4. Run the cells below to check the performances of Q-learning with RBF approximation.\n",
    "    \n",
    "After the modifying, test the implementation on the Cartpole environment by running the ```train(agent)``` script with default configs. You can test the trained model with the ```test(agent, cfg_args=dict(save_video=true))``` script. \n",
    "</div>"
   ]
  },
  {
   "cell_type": "code",
   "execution_count": 22,
   "id": "ab43c155-a9a9-4d7c-8829-0b472d25314e",
   "metadata": {
    "tags": []
   },
   "outputs": [],
   "source": [
    "# After modifying the function 'featurize', \n",
    "# 1. run the cell of class RBFAgent(object) to update the class\n",
    "# 2. After update the class, directly run this cell (Skip the cells above of training hadncraft feature) \n",
    "# 2. now let's rerun the agent\n",
    "\n",
    "with open(Path().cwd()/'cfg'/'cartpole_rbf.yaml', 'r') as f:\n",
    "    cfg = t.Struct(**yaml.safe_load(f))        \n",
    "agent = RBFAgent(n_actions=cfg.n_actions, gamma=cfg.gamma, batch_size=cfg.batch_size)"
   ]
  },
  {
   "cell_type": "code",
   "execution_count": 23,
   "id": "793f3d51-0bc1-469e-a889-86f217668c02",
   "metadata": {
    "tags": []
   },
   "outputs": [
    {
     "name": "stdout",
     "output_type": "stream",
     "text": [
      "Numpy/Torch/Random Seed:  436\n",
      "{'ep_reward': 14.0, 'episode': 0, 'epsilon': 1.0, 'ep_avr': 0.0012164940126240253, 'ts_avr': 6.532442473274256e-05}\n",
      "{'ep_reward': 200.0, 'episode': 100, 'epsilon': 0.3333333333333333, 'ep_avr': 0.19994003942993005, 'ts_avr': 0.001768203099775238}\n",
      "{'ep_reward': 200.0, 'episode': 200, 'epsilon': 0.2, 'ep_avr': 0.30882750136137477, 'ts_avr': 0.0017879064482279258}\n",
      "{'ep_reward': 200.0, 'episode': 300, 'epsilon': 0.14285714285714285, 'ep_avr': 0.33314346813072915, 'ts_avr': 0.001799387185954764}\n",
      "{'ep_reward': 200.0, 'episode': 400, 'epsilon': 0.1111111111111111, 'ep_avr': 0.3475407437433023, 'ts_avr': 0.0018008766798707076}\n",
      "{'ep_reward': 200.0, 'episode': 500, 'epsilon': 0.09090909090909091, 'ep_avr': 0.35616863933217247, 'ts_avr': 0.0018036946889361943}\n",
      "{'ep_reward': 200.0, 'episode': 600, 'epsilon': 0.07692307692307693, 'ep_avr': 0.3606723824510118, 'ts_avr': 0.0018130856309620496}\n",
      "{'ep_reward': 200.0, 'episode': 700, 'epsilon': 0.06666666666666667, 'ep_avr': 0.3614776862657163, 'ts_avr': 0.001809957808469283}\n",
      "{'ep_reward': 200.0, 'episode': 800, 'epsilon': 0.058823529411764705, 'ep_avr': 0.3579365563218016, 'ts_avr': 0.001789088231648202}\n",
      "{'ep_reward': 200.0, 'episode': 900, 'epsilon': 0.05263157894736842, 'ep_avr': 0.35789193499891553, 'ts_avr': 0.0017888729113299633}\n",
      "{'ep_reward': 200.0, 'episode': 1000, 'epsilon': 0.05, 'ep_avr': 0.35994354118243793, 'ts_avr': 0.0017991351708129513}\n",
      "{'ep_reward': 200.0, 'episode': 1100, 'epsilon': 0.05, 'ep_avr': 0.3603408570308238, 'ts_avr': 0.0018011201781686396}\n",
      "{'ep_reward': 200.0, 'episode': 1200, 'epsilon': 0.05, 'ep_avr': 0.36081143202143723, 'ts_avr': 0.0018034670003835346}\n",
      "{'ep_reward': 200.0, 'episode': 1300, 'epsilon': 0.05, 'ep_avr': 0.3599322803213727, 'ts_avr': 0.0017990794664889107}\n",
      "{'ep_reward': 200.0, 'episode': 1400, 'epsilon': 0.05, 'ep_avr': 0.3576402628608048, 'ts_avr': 0.0017876090355828638}\n",
      "{'ep_reward': 200.0, 'episode': 1500, 'epsilon': 0.05, 'ep_avr': 0.3584716200531693, 'ts_avr': 0.001791759993165033}\n",
      "{'ep_reward': 200.0, 'episode': 1600, 'epsilon': 0.05, 'ep_avr': 0.3607519525196403, 'ts_avr': 0.001803168768680189}\n",
      "{'ep_reward': 200.0, 'episode': 1700, 'epsilon': 0.05, 'ep_avr': 0.36146838579908946, 'ts_avr': 0.001806739162580925}\n",
      "{'ep_reward': 200.0, 'episode': 1800, 'epsilon': 0.05, 'ep_avr': 0.36098728605080393, 'ts_avr': 0.0018043433894607006}\n",
      "{'ep_reward': 200.0, 'episode': 1900, 'epsilon': 0.05, 'ep_avr': 0.3590673937567044, 'ts_avr': 0.0017947460396710085}\n",
      "------ Training Finished ------\n"
     ]
    }
   ],
   "source": [
    "# Takes more time to train :)\n",
    "if not skip_training:\n",
    "    t.train(agent, cfg_path=Path().cwd()/'cfg'/'cartpole_rbf.yaml', cfg_args={}) # >= 60 mins"
   ]
  },
  {
   "cell_type": "markdown",
   "id": "8b602bfa",
   "metadata": {},
   "source": [
    "In order to get full points from the task make sure most of the test episodes give a reward of 200, given the seeds below (at least 50% of episodes)."
   ]
  },
  {
   "cell_type": "code",
   "execution_count": 24,
   "id": "88396eef-a80e-41dd-bdc7-c5cb67a2e75f",
   "metadata": {
    "tags": []
   },
   "outputs": [
    {
     "name": "stdout",
     "output_type": "stream",
     "text": [
      "Numpy/Torch/Random Seed:  436\n",
      "{'episode': 0, 'ep_reward': 200.0}\n",
      "{'episode': 1, 'ep_reward': 200.0}\n",
      "{'episode': 2, 'ep_reward': 200.0}\n",
      "{'episode': 3, 'ep_reward': 200.0}\n",
      "{'episode': 4, 'ep_reward': 200.0}\n",
      "{'episode': 5, 'ep_reward': 200.0}\n",
      "{'episode': 6, 'ep_reward': 200.0}\n",
      "{'episode': 7, 'ep_reward': 200.0}\n",
      "{'episode': 8, 'ep_reward': 200.0}\n",
      "{'episode': 9, 'ep_reward': 200.0}\n"
     ]
    }
   ],
   "source": [
    "if not skip_training:\n",
    "    t.test(agent, cfg_path=Path().cwd()/'cfg'/'cartpole_rbf.yaml', cfg_args=dict(save_video=True), seeds=[67, 23, 89, 12, 45, 78, 34, 90, 21, 56]) "
   ]
  },
  {
   "cell_type": "code",
   "execution_count": 25,
   "id": "4b5fd3b7-ee1d-46c7-830f-54b295ececa3",
   "metadata": {
    "tags": []
   },
   "outputs": [
    {
     "name": "stdout",
     "output_type": "stream",
     "text": [
      "Numpy/Torch/Random Seed:  436\n"
     ]
    },
    {
     "data": {
      "image/png": "[encoded data removed]",
      "text/plain": [
       "<Figure size 640x480 with 1 Axes>"
      ]
     },
     "metadata": {},
     "output_type": "display_data"
    }
   ],
   "source": [
    "if not skip_training:\n",
    "    t.plot(save_name='cartpole_rbf.png', cfg_path=Path().cwd()/'cfg'/'cartpole_rbf.yaml', cfg_args={}) # < 5 mins"
   ]
  },
  {
   "cell_type": "markdown",
   "id": "445eb823-f602-442f-b4b3-ed6806c18ffe",
   "metadata": {
    "tags": []
   },
   "source": [
    "The agent acting in the environment can be seen using the following command. Change the path to pick the episode you want to visualize. Bear in mind by default video saving for training is taken every 500 episodes"
   ]
  },
  {
   "cell_type": "code",
   "execution_count": 26,
   "id": "cd524780-6930-4de3-ae4b-9157e89760d7",
   "metadata": {
    "tags": []
   },
   "outputs": [
    {
     "data": {
      "text/html": [
       "<video loop autoplay  >\n",
       " <source src=\"data:video/mp4;base64,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\" type=\"video/mp4\">\n",
       " Your browser does not support the video tag.\n",
       " </video>"
      ],
      "text/plain": [
       "<IPython.core.display.Video object>"
      ]
     },
     "metadata": {},
     "output_type": "display_data"
    }
   ],
   "source": [
    "if not skip_training:\n",
    "    video = Video(Path().cwd()/'results'/'CartPole-v1'/'video'/'test'/'ex4_rbf-episode-0.mp4',\n",
    "    embed=True, html_attributes=\"loop autoplay\") # Set html_attributes=\"controls\" for video control\n",
    "    display(video)"
   ]
  },
  {
   "cell_type": "code",
   "execution_count": 27,
   "id": "34862517",
   "metadata": {
    "deletable": false,
    "editable": false,
    "nbgrader": {
     "cell_type": "code",
     "checksum": "930235c2e6039ea417917618e7bfb84c",
     "grade": true,
     "grade_id": "cell-b8217caa685dddf5",
     "locked": true,
     "points": 20,
     "schema_version": 3,
     "solution": false,
     "task": false
    },
    "tags": []
   },
   "outputs": [],
   "source": [
    "%%capture --no-stdout\n",
    "\"TEST\""
   ]
  },
  {
   "cell_type": "markdown",
   "id": "8f725b2e",
   "metadata": {
    "deletable": false,
    "editable": false,
    "nbgrader": {
     "cell_type": "markdown",
     "checksum": "5e212891ed3fc555ca4d0fa87023b40a",
     "grade": false,
     "grade_id": "cell-133e2c93df20c4dc",
     "locked": true,
     "schema_version": 3,
     "solution": false,
     "task": false
    },
    "tags": []
   },
   "source": [
    "<a id='Q1'></a>\n",
    "<div class=\" alert alert-warning\">\n",
    "    <h3><b>Student Question 1.1</b> Considering Linear Features (10 points) </h3> \n",
    "    \n",
    "**Hint:** directly return 'state' in function 'featurize'\n",
    "    \n",
    "🔝\t<a href='#TOC'><b>Table of Contents</b></a>\n",
    "</div>\n"
   ]
  },
  {
   "cell_type": "markdown",
   "id": "5635de8e-3bdb-4856-a21e-20381601edbe",
   "metadata": {
    "deletable": false,
    "editable": false,
    "nbgrader": {
     "cell_type": "markdown",
     "checksum": "39f071752749e25e2b4545e6e33a2d28",
     "grade": false,
     "grade_id": "cell-f75a1189f158c6ae",
     "locked": true,
     "schema_version": 3,
     "solution": false,
     "task": false
    },
    "tags": []
   },
   "source": [
    "### 1.1.1 Question (4 points):\n",
    "Which of the following best describes why linear approximation of Q-values in the Cartpole problem is inaccurate?\n",
    "\n",
    "**Select one:**\n",
    "\n",
    "1. The environment dynamics are non-linear\n",
    "2. The Q-function is inherently non-linear\n",
    "3. The state space is too large\n",
    "4. The action space is continuous\n"
   ]
  },
  {
   "cell_type": "code",
   "execution_count": 28,
   "id": "7903b02f-aae1-4b91-bd55-fee1f72129fa",
   "metadata": {
    "tags": []
   },
   "outputs": [],
   "source": [
    "sq_1_1_1 = 2 # Replace with the appropriate answer number"
   ]
  },
  {
   "cell_type": "markdown",
   "id": "f058dca0-e5d7-4890-a4e8-a26a1f3bea00",
   "metadata": {
    "deletable": false,
    "editable": false,
    "nbgrader": {
     "cell_type": "markdown",
     "checksum": "d127ac274ca6ea486fd1e79e155ab5c1",
     "grade": false,
     "grade_id": "cell-09a45dbf2a6f0e1d",
     "locked": true,
     "schema_version": 3,
     "solution": false,
     "task": false
    },
    "tags": []
   },
   "source": [
    "### 1.1.2 Question (2 points):\n",
    "What does the Q-function represent?\n",
    "\n",
    "**Select one:**\n",
    "\n",
    "1. The immediate reward for taking an action\n",
    "2. The probability of the pole falling\n",
    "3. The expected cumulative reward for taking an action and then following the optimal policy\n",
    "4. The linear transformation of the current state\n"
   ]
  },
  {
   "cell_type": "code",
   "execution_count": 29,
   "id": "7a93ee55-0e47-4a1a-b3d5-6d8e8dde720b",
   "metadata": {
    "tags": []
   },
   "outputs": [],
   "source": [
    "sq_1_1_2 = 3 # Replace with the appropriate answer number"
   ]
  },
  {
   "cell_type": "markdown",
   "id": "5a783f6e-c95b-445e-9f7f-27ba47eab902",
   "metadata": {
    "deletable": false,
    "editable": false,
    "nbgrader": {
     "cell_type": "markdown",
     "checksum": "554a02b73714d9443d27251b6d1a8ab7",
     "grade": false,
     "grade_id": "cell-7e7997faef0448da",
     "locked": true,
     "schema_version": 3,
     "solution": false,
     "task": false
    },
    "tags": []
   },
   "source": [
    "### 1.1.3 Question (4 points):\n",
    "If the environment dynamics of Cartpole were perfectly linear, which statement would be true?\n",
    "\n",
    "**Select one:**\n",
    "\n",
    "1. The Q-function would also be linear\n",
    "2. Linear approximation of the Q-function would be accurate\n",
    "3. The Q-function could still be non-linear\n",
    "4. Reinforcement learning would not be necessary\n"
   ]
  },
  {
   "cell_type": "code",
   "execution_count": 30,
   "id": "223f8512-2231-4eb8-b8db-16cd6d62d420",
   "metadata": {
    "tags": []
   },
   "outputs": [],
   "source": [
    "sq_1_1_3 = 3 # Replace with the appropriate answer number"
   ]
  },
  {
   "cell_type": "markdown",
   "id": "5253364e-6e75-4729-8e00-cb606b48dae9",
   "metadata": {
    "deletable": false,
    "editable": false,
    "nbgrader": {
     "cell_type": "markdown",
     "checksum": "144ffb087f8f0ec19ba52b26a9735626",
     "grade": false,
     "grade_id": "cell-22cb658f14d5cde6",
     "locked": true,
     "schema_version": 3,
     "solution": false,
     "task": false
    },
    "tags": []
   },
   "source": [
    "The following cells are used for grading"
   ]
  },
  {
   "cell_type": "code",
   "execution_count": 31,
   "id": "2af865cb-688d-4e9a-b93d-44cb625bebcd",
   "metadata": {
    "deletable": false,
    "editable": false,
    "nbgrader": {
     "cell_type": "code",
     "checksum": "a1b5c33652bada8565e4ee5fb2c1175d",
     "grade": true,
     "grade_id": "cell-b4096a96472e5562",
     "locked": true,
     "points": 0,
     "schema_version": 3,
     "solution": false,
     "task": false
    },
    "tags": []
   },
   "outputs": [],
   "source": [
    "assert sq_1_1_1 in range(1, 5)\n",
    "assert sq_1_1_2 in range(1, 5)\n",
    "assert sq_1_1_3 in range(1, 5)"
   ]
  },
  {
   "cell_type": "code",
   "execution_count": null,
   "id": "4fd02bb8-7933-4647-9993-c19ab6518f54",
   "metadata": {
    "deletable": false,
    "editable": false,
    "nbgrader": {
     "cell_type": "code",
     "checksum": "39cdd7a5d517d956028c7800288c1eab",
     "grade": true,
     "grade_id": "cell-83357309429acbcd",
     "locked": true,
     "points": 4,
     "schema_version": 3,
     "solution": false,
     "task": false
    },
    "tags": []
   },
   "outputs": [],
   "source": []
  },
  {
   "cell_type": "code",
   "execution_count": null,
   "id": "cac21b47-cf94-4da5-bbeb-a39a7abdaca2",
   "metadata": {
    "deletable": false,
    "editable": false,
    "nbgrader": {
     "cell_type": "code",
     "checksum": "e8a92c0c561551cfe15d0aa2c1d00ae0",
     "grade": true,
     "grade_id": "cell-3ed323aa17884686",
     "locked": true,
     "points": 2,
     "schema_version": 3,
     "solution": false,
     "task": false
    },
    "tags": []
   },
   "outputs": [],
   "source": []
  },
  {
   "cell_type": "code",
   "execution_count": null,
   "id": "f9ab2f9f-aff6-4258-abe9-7e21c6270ba6",
   "metadata": {
    "deletable": false,
    "editable": false,
    "nbgrader": {
     "cell_type": "code",
     "checksum": "40a67f2521eabb810cf0e07e83a93bc7",
     "grade": true,
     "grade_id": "cell-4284778ad9d19593",
     "locked": true,
     "points": 4,
     "schema_version": 3,
     "solution": false,
     "task": false
    },
    "tags": []
   },
   "outputs": [],
   "source": []
  },
  {
   "cell_type": "markdown",
   "id": "c5a8edc7",
   "metadata": {
    "deletable": false,
    "editable": false,
    "nbgrader": {
     "cell_type": "markdown",
     "checksum": "981ecd6b06cd94e02fa1bdab9b1b27a7",
     "grade": false,
     "grade_id": "cell-9b048cd847c57c77",
     "locked": true,
     "schema_version": 3,
     "solution": false,
     "task": false
    },
    "tags": []
   },
   "source": [
    "<a id='Q2'></a>\n",
    "<div class=\" alert alert-warning\">\n",
    "    <h3><b>Student Question 1.2</b> Experience Replay Buffer (10 points) </h3> \n",
    "\n",
    "**Hint:** In machine learning, when training a model, we usually assume dataset includes i.i.d(independent and identically distributed) samples from a unknown distribution.\n",
    "    \n",
    "🔝\t<a href='#TOC'><b>Table of Contents</b></a>\n",
    "</div>\n"
   ]
  },
  {
   "cell_type": "markdown",
   "id": "d92584a0-e8d6-4a49-86bc-7d14d2c958d0",
   "metadata": {
    "deletable": false,
    "editable": false,
    "nbgrader": {
     "cell_type": "markdown",
     "checksum": "dd1241216c2e0ee9b94dc815b263ffd8",
     "grade": false,
     "grade_id": "cell-133b0005bee48d98",
     "locked": true,
     "schema_version": 3,
     "solution": false,
     "task": false
    },
    "tags": []
   },
   "source": [
    "### 1.2.1 Question (5 points):\n",
    "Why do we use the experience replay buffer in reinforcement learning? Select **at most** 3 answers, or you will lose **all** points.\n",
    "\n",
    "**Select two:**\n",
    "\n",
    "1. To prioritize the most recent experiences over older ones\n",
    "2. To make the learning process faster by re-using previous data and improving sample efficiency\n",
    "3. To ensure that the agent only learns from highly rewarding experiences\n",
    "4. To prevent the agent from learning negative experiences\n",
    "5. To break the correlation between consecutive experiences"
   ]
  },
  {
   "cell_type": "code",
   "execution_count": 32,
   "id": "4bbf9062-d94b-40f2-a486-930af53ae3c6",
   "metadata": {
    "tags": []
   },
   "outputs": [],
   "source": [
    "sq_1_2_1 = [2, 5] # Write the appropriate answer number(s) inside the list"
   ]
  },
  {
   "cell_type": "markdown",
   "id": "78f7f3c6-c8f0-487c-bece-850f2fa9e087",
   "metadata": {
    "deletable": false,
    "editable": false,
    "nbgrader": {
     "cell_type": "markdown",
     "checksum": "176aee2c7c0508b69bda1934614ecc44",
     "grade": false,
     "grade_id": "cell-8d7e3c6747ad00c9",
     "locked": true,
     "schema_version": 3,
     "solution": false,
     "task": false
    },
    "tags": []
   },
   "source": [
    "### 1.2.2 Question (5 points):\n",
    "Which of the following best describes the benefit of randomly sampling mini-batches from the experience replay buffer?\n",
    "\n",
    "**Select one:**\n",
    "\n",
    "1. It helps the agent to focus on learning from consecutive experiences\n",
    "2. It creates a more diverse and less correlated set of training data, leading to more stable learning\n",
    "3. It allows the agent to forget irrelevant or outdated information more quickly\n",
    "4. It reduces the computational complexity of the learning algorithm\n",
    "5. It simulates exploration by introducing randomness into the learning process"
   ]
  },
  {
   "cell_type": "code",
   "execution_count": 33,
   "id": "f182a02a-15a0-4e09-ac15-f067203d64f7",
   "metadata": {
    "tags": []
   },
   "outputs": [],
   "source": [
    "sq_1_2_2 = 2 # Replace with the appropriate answer number"
   ]
  },
  {
   "cell_type": "markdown",
   "id": "5c53ffaa-6c4f-48b8-bfda-9af54c05b908",
   "metadata": {
    "deletable": false,
    "editable": false,
    "nbgrader": {
     "cell_type": "markdown",
     "checksum": "a48de8481907fbcadd19fb3f8a4e5e18",
     "grade": false,
     "grade_id": "cell-b577265fd0011c08",
     "locked": true,
     "schema_version": 3,
     "solution": false,
     "task": false
    },
    "tags": []
   },
   "source": [
    "The following cells are used for grading"
   ]
  },
  {
   "cell_type": "code",
   "execution_count": 34,
   "id": "f368aba2-5019-4950-aaa0-94a77e5395a1",
   "metadata": {
    "deletable": false,
    "editable": false,
    "nbgrader": {
     "cell_type": "code",
     "checksum": "294627b6a6afdbcc7286f01e288ee2c1",
     "grade": true,
     "grade_id": "cell-f26d8fd34a084fd7",
     "locked": true,
     "points": 0,
     "schema_version": 3,
     "solution": false,
     "task": false
    },
    "tags": []
   },
   "outputs": [],
   "source": [
    "assert len(set(sq_1_2_1)) <= 3\n",
    "assert set(sq_1_2_1) < set(range(1, 6))\n",
    "assert sq_1_2_2 in range(1, 6)"
   ]
  },
  {
   "cell_type": "code",
   "execution_count": null,
   "id": "91541fa7-bba9-4625-b906-87f9406237a6",
   "metadata": {
    "deletable": false,
    "editable": false,
    "nbgrader": {
     "cell_type": "code",
     "checksum": "085eefcf84eb13ee19847348fc726993",
     "grade": true,
     "grade_id": "cell-cf8a284ca46cf5bf",
     "locked": true,
     "points": 2,
     "schema_version": 3,
     "solution": false,
     "task": false
    },
    "tags": []
   },
   "outputs": [],
   "source": []
  },
  {
   "cell_type": "code",
   "execution_count": null,
   "id": "b10389db-047b-499f-8d84-19d79287f54f",
   "metadata": {
    "deletable": false,
    "editable": false,
    "nbgrader": {
     "cell_type": "code",
     "checksum": "434a413418d6a0bcad8db6c32be8b3b6",
     "grade": true,
     "grade_id": "cell-f40898b6f10f1d9b",
     "locked": true,
     "points": 3,
     "schema_version": 3,
     "solution": false,
     "task": false
    },
    "tags": []
   },
   "outputs": [],
   "source": []
  },
  {
   "cell_type": "code",
   "execution_count": null,
   "id": "f264ce3c-6958-4880-95d2-efa9aef31f11",
   "metadata": {
    "deletable": false,
    "editable": false,
    "nbgrader": {
     "cell_type": "code",
     "checksum": "d64fb124439dc4825762417ec6d95155",
     "grade": true,
     "grade_id": "cell-0c6e6e9c7d9037fa",
     "locked": true,
     "points": 5,
     "schema_version": 3,
     "solution": false,
     "task": false
    },
    "tags": []
   },
   "outputs": [],
   "source": []
  },
  {
   "cell_type": "markdown",
   "id": "2a4793b0",
   "metadata": {},
   "source": [
    "<a id='Q3'></a>\n",
    "<div class=\" alert alert-warning\">\n",
    "    <h3><b>Student Question 1.3</b> Grid-based vs Function Approximators (10 points) </h3> \n",
    "\n",
    "**Hint:** An algorithm is said to be sample-efficient when it requires less samples (data) to reach\n",
    "an optimal performance\n",
    "    \n",
    "🔝\t<a href='#TOC'><b>Table of Contents</b></a>\n",
    "</div>\n"
   ]
  },
  {
   "cell_type": "markdown",
   "id": "e88bdee4-990f-4af4-816d-0fc869e720fe",
   "metadata": {
    "tags": []
   },
   "source": [
    "### 1.3.1 Question (10 points):\n",
    "In Exercise 3, we used grid-based Q-learning to balance the Cartpole. Compared to RBF function approximation methods, grid-based methods are:\n",
    "\n",
    "**Select one:**\n",
    "\n",
    "1. More sample-efficient because they take similarities between states into account, making them highly efficient.\n",
    "\n",
    "2. Less sample-efficient because they don't take similarities between states into account and require exploration of all discretized states.\n",
    "\n",
    "3. More robust to noise in the environment and require discretization of continuous state spaces, leading to fewer states to explore.\n",
    "\n",
    "4. Better at generalizing to unseen states because they always simplify the state space, making them more efficient.\n",
    "\n",
    "5. Equally sample-efficient as RBF methods, but less flexible in handling non-uniform state distributions."
   ]
  },
  {
   "cell_type": "code",
   "execution_count": 35,
   "id": "5e40d8ca-e43a-48e8-8421-11a3c4c82374",
   "metadata": {
    "tags": []
   },
   "outputs": [],
   "source": [
    "sq_1_3_1 = 2 # Replace with the appropriate answer number"
   ]
  },
  {
   "cell_type": "markdown",
   "id": "e86df44e-111e-4879-9e61-6cf0ddfe0237",
   "metadata": {},
   "source": [
    "The following cells are used for grading"
   ]
  },
  {
   "cell_type": "code",
   "execution_count": 36,
   "id": "1c91c3fe-5414-4a22-ace9-fd9d4dbbba25",
   "metadata": {
    "deletable": false,
    "editable": false,
    "nbgrader": {
     "cell_type": "code",
     "checksum": "8d0bf530ec49953542f230deb6eda721",
     "grade": true,
     "grade_id": "cell-e5a1f15f82928287",
     "locked": true,
     "points": 0,
     "schema_version": 3,
     "solution": false,
     "task": false
    },
    "tags": []
   },
   "outputs": [],
   "source": [
    "assert sq_1_3_1 in range(1, 6)"
   ]
  },
  {
   "cell_type": "code",
   "execution_count": null,
   "id": "901bf613-0613-4551-8d0d-d91d3b4c13f2",
   "metadata": {
    "deletable": false,
    "editable": false,
    "nbgrader": {
     "cell_type": "code",
     "checksum": "7ef41072134244695dccd85c5ef126f8",
     "grade": true,
     "grade_id": "cell-ac160ae349b95d4c",
     "locked": true,
     "points": 10,
     "schema_version": 3,
     "solution": false,
     "task": false
    },
    "tags": []
   },
   "outputs": [],
   "source": []
  },
  {
   "cell_type": "markdown",
   "id": "223b9e0c",
   "metadata": {
    "deletable": false,
    "editable": false,
    "nbgrader": {
     "cell_type": "markdown",
     "checksum": "9b2bd9223d866f85d0b6d9e2a3948187",
     "grade": false,
     "grade_id": "cell-14c2950d3ec37ff1",
     "locked": true,
     "schema_version": 3,
     "solution": false,
     "task": false
    },
    "tags": []
   },
   "source": [
    "<a id='T2'></a>\n",
    "<div class=\" alert alert-warning\">\n",
    "    <h3><b>Student Task 2.</b> Visualizing the Policy (10 points) </h3> \n",
    "\n",
    "Create a 2D plot of policy (best action in terms of state) learned with RBF in terms of $x$ and θ for $\\dot{x} = 0$ and $\\dot{\\theta} = 0$, such that θ is on the horizontal axis and $x$ is on the vertical axis. The plot will be visualized below.\n",
    "\n",
    "**Hint 1 :** You can fix $\\dot{x} = 0$ and $\\dot{\\theta} = 0$ and discretize the state-space for $x$ and $\\theta$.\n",
    "\n",
    "**Hint 2 :** You can directly use the code in ***excercise 1 Task 4*** to visualize the policy.\n",
    "    \n",
    "**Hint 3 :** For CartPole environment state specifications, find them here https://gymnasium.farama.org/environments/classic_control/cart_pole/\n",
    "    \n",
    "🔝\t<a href='#TOC'><b>Table of Contents</b></a>\n",
    "</div>\n"
   ]
  },
  {
   "cell_type": "code",
   "execution_count": 40,
   "id": "797754bd-2a91-4b68-ab12-84dab27f100a",
   "metadata": {
    "tags": []
   },
   "outputs": [
    {
     "data": {
      "image/png": "[encoded data removed]",
      "text/plain": [
       "<Figure size 800x800 with 2 Axes>"
      ]
     },
     "metadata": {},
     "output_type": "display_data"
    }
   ],
   "source": [
    "import matplotlib.pyplot as plt\n",
    "import seaborn as sns\n",
    "\n",
    "# define and reload the RBF agent, which is trained with RBF feature!!!!\n",
    "with open(Path().cwd()/'cfg'/'cartpole_rbf.yaml', 'r') as f:\n",
    "    cfg = t.Struct(**yaml.safe_load(f))        \n",
    "agent = RBFAgent(n_actions=cfg.n_actions, gamma=cfg.gamma, batch_size=cfg.batch_size)\n",
    "agent.load(Path().cwd()/'results/CartPole-v1/model/')\n",
    "\n",
    "########## Your code starts here ##########\n",
    "\n",
    "x_range = np.linspace(-2.4, 2.4, 100)\n",
    "theta_range = np.linspace(-0.209, 0.209, 100)\n",
    "\n",
    "\n",
    "policy = np.zeros((len(x_range), len(theta_range)))\n",
    "\n",
    "\n",
    "for i, x in enumerate(x_range):\n",
    "    for j, theta in enumerate(theta_range):\n",
    "        \n",
    "        state = np.array([x, 0.0, theta, 0.0])\n",
    "        action = agent.get_action(state, epsilon=0.0)\n",
    "        policy[i, j] = action\n",
    "\n",
    "plt.figure(figsize=(8, 8))\n",
    "plt.imshow(policy.T, extent=[x_range.min(), x_range.max(), theta_range.min(), theta_range.max()],\n",
    "           aspect='auto', origin='lower', cmap=plt.cm.coolwarm)\n",
    "\n",
    "plt.xlabel('Cart Position (x)')\n",
    "plt.ylabel('Pole Angle (θ)')\n",
    "plt.title('Learned Policy (RBF Agent)')\n",
    "cbar = plt.colorbar(ticks=[0, 1])\n",
    "cbar.ax.set_yticklabels(['Push Left', 'Push Right'])\n",
    "plt.show()\n",
    "\n",
    "########## Your code ends here #############\n",
    "\n"
   ]
  },
  {
   "cell_type": "markdown",
   "id": "25abcff7-fe09-4151-b343-f0e246725125",
   "metadata": {
    "deletable": false,
    "editable": false,
    "nbgrader": {
     "cell_type": "markdown",
     "checksum": "8b26591fe5462716bc0054bce44c792d",
     "grade": false,
     "grade_id": "cell-ff09aacaf4dcf0a0",
     "locked": true,
     "points": 10,
     "schema_version": 3,
     "solution": false,
     "task": true
    }
   },
   "source": [
    "Do not remove this cell as it is used for grading"
   ]
  },
  {
   "cell_type": "markdown",
   "id": "c88aa5e4-757d-49c8-9bec-3f23e7bc2f9f",
   "metadata": {
    "tags": []
   },
   "source": [
    "# 3. Submitting <a id='3.'></a>\n",
    "Ensure all tasks and questions (in ```ex4_dpn.ipynb``` and ```ex4_rbf.ipynb```) are answered and the necessary plots are saved in the appropriate locations. The relevant plots and files need to be included for this part of assignment are:\n",
    "\n",
    "\n",
    "- Training performance plots:\n",
    "  - `cartpole_hd.png`: Training performance of handcrafted feature plots in terms of episode and episodic reward\n",
    "  - `cartpole_rbf.png`: training performance of rbf feature plots in terms of episode and episodic reward \n",
    "<br>\n",
    "<br>\n",
    "\n",
    "  \n",
    "\n",
    "- Model files:\n",
    "  - `rbf.kpl`: Trained model\n",
    "\n",
    "\n",
    "Ensure the correct model files and plots are saved in paths:\n",
    "- ```results/CartPole-v1/cartpole_rbf.png``` Training result for Cartpole environment\n",
    "- ```results/CartPole-v1/cartpole_hd.png```  Training result for Cartpole environment\n",
    "- ```results/CartPole-v1/model/rbf.kpl``` Model for Cartpole environment\n",
    "\n",
    "\n",
    "<span style=\"color:red\"> **# IMPORTANT: DO NOT FORGET ANOTHER TASK IN ```ex4_dqn.ipynb```** </span>"
   ]
  },
  {
   "cell_type": "code",
   "execution_count": null,
   "id": "6fa5830a",
   "metadata": {
    "deletable": false,
    "editable": false,
    "nbgrader": {
     "cell_type": "code",
     "checksum": "0df485c3a518d54d556aa23bfd41b439",
     "grade": true,
     "grade_id": "cell-2c6ecd048a50b678",
     "locked": true,
     "points": 0,
     "schema_version": 3,
     "solution": false,
     "task": false
    }
   },
   "outputs": [],
   "source": [
    "# Make sure that skip training is set to True before submission\n",
    "assert skip_training == True"
   ]
  },
  {
   "cell_type": "markdown",
   "id": "7dbc83ca-dbb0-4024-868e-6718a83e9bb2",
   "metadata": {
    "tags": []
   },
   "source": [
    "## 3.1 Feedback <a id='3.1'></a>\n",
    "\n",
    "In order to help the staff of the course as well as the forthcoming students, it would be great if you could answer to the following questions in your submission:"
   ]
  },
  {
   "cell_type": "markdown",
   "id": "eee27da8-ac20-488b-9d05-c03ed1f0f837",
   "metadata": {},
   "source": [
    "1) How much time did you spend solving this exercise? (change the ```hrs``` variable below to a floating point number representing the number of hours taken e.g. 5.43)"
   ]
  },
  {
   "cell_type": "code",
   "execution_count": null,
   "id": "f4a4e19d-39b6-466a-8fea-b63f91916cf5",
   "metadata": {
    "tags": []
   },
   "outputs": [],
   "source": [
    "hrs = None"
   ]
  },
  {
   "cell_type": "markdown",
   "id": "dc128a60-a227-41b5-b6e0-531de2c3df1b",
   "metadata": {},
   "source": [
    "2) Difficulty of each task/question from 1-5 (int or float)"
   ]
  },
  {
   "cell_type": "code",
   "execution_count": null,
   "id": "c797f06b-bf2d-4305-abe2-e2773c6fb3d8",
   "metadata": {
    "tags": []
   },
   "outputs": [],
   "source": [
    "T1_a = None   # Implementing Hand feature \n",
    "T2_b = None   # Implementing RBF feature \n",
    "Q1_1 = None # Question 1.1 Considering linear features (10 points)\n",
    "Q1_2 = None # Question 1.2 Experience replay (10 points)\n",
    "Q1_3 = None # Question 1.3 Grid vs Function (10 points)\n",
    "Q2 = None # Question 2 Policy visualization (10 points)"
   ]
  },
  {
   "cell_type": "markdown",
   "id": "e6612842-e130-4658-adef-181218023449",
   "metadata": {},
   "source": [
    "3) How well did you understand the content of the task/question from 1-5? (int or float)"
   ]
  },
  {
   "cell_type": "code",
   "execution_count": null,
   "id": "5a5ea255-ca3f-4ee2-860c-147ff88373f7",
   "metadata": {
    "tags": []
   },
   "outputs": [],
   "source": [
    "T1_a = None   # Implementing Hand feature \n",
    "T2_b = None   # Implementing RBF feature \n",
    "Q1_1 = None # Question 1.1 Considering linear features (10 points)\n",
    "Q1_2 = None # Question 1.2 Experience replay (10 points)\n",
    "Q1_3 = None # Question 1.3 Grid vs Function (10 points)\n",
    "Q2 = None # Question 2 Policy visualization (10 points)"
   ]
  },
  {
   "cell_type": "markdown",
   "id": "77831fe1-f18d-4036-97a9-ad6d1adadfa2",
   "metadata": {},
   "source": [
    "4) General feedback. Consider questions like:\n",
    "\n",
    "    - Did the content of the lecture relate well with the assignment?\n",
    "    - To what extent did you find the material to be potentially useful for your research and studies?\n",
    "    \n",
    "Please share any additional feedback, suggestions, or comments you have about the lecture, assignment, or course content. Your input is valuable in helping us improve the learning experience."
   ]
  },
  {
   "cell_type": "markdown",
   "id": "6c8038fb-e038-4eac-87f3-ff28e0f94e9d",
   "metadata": {
    "tags": []
   },
   "source": [
    "DOUBLE CLICK HERE TO EDIT, CLEAR THIS TEXT AND ANSWER HERE"
   ]
  }
 ],
 "metadata": {
  "kernelspec": {
   "display_name": "Python 3",
   "language": "python",
   "name": "python3"
  },
  "language_info": {
   "codemirror_mode": {
    "name": "ipython",
    "version": 3
   },
   "file_extension": ".py",
   "mimetype": "text/x-python",
   "name": "python",
   "nbconvert_exporter": "python",
   "pygments_lexer": "ipython3",
   "version": "3.10.12"
  }
 },
 "nbformat": 4,
 "nbformat_minor": 5
}
