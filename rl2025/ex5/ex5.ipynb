{
 "cells": [
  {
   "cell_type": "markdown",
   "id": "e9b29c9b",
   "metadata": {
    "deletable": false,
    "editable": false,
    "nbgrader": {
     "cell_type": "markdown",
     "checksum": "24cdaedcd4b5dfe347328615bb32c2c1",
     "grade": false,
     "grade_id": "cell-afd59c116a3ed810",
     "locked": true,
     "schema_version": 3,
     "solution": false,
     "task": false
    }
   },
   "source": [
    "\n",
    "<div class=\"alert alert-block alert-info\">\n",
    "   <h2 align=\"center\"> <center><b> Reinforcement Learning Assignment 5 - Policy Gradient </b></center></h2>\n",
    "\n",
    "<br>\n",
    "<center><font size=\"3\">This notebook is a part of teaching material for ELEC-E8125</font></center>\n",
    "<center><font size=\"3\">Sep 4, 2024 - Nov 30, 2024</font></center>\n",
    "<center><font size=\"3\">Aalto University</font></center>\n",
    "</div>\n",
    "\n",
    "\n",
    "<a id='TOC'></a>\n",
    "\n",
    "<div class=\"alert alert-block alert-success\">\n",
    " \n",
    "# Table of contents\n",
    "* <a href='#1.'> 1. Introduction </a>\n",
    "* <a href='#1.1'> 1.1 Learning Objectives </a>\n",
    "* <a href='#1.2'> 1.2 Code Structure & Files </a>\n",
    "* <a href='#2.'> 2. Policy gradient with and without baseline</a>\n",
    "* <a href='#2.1'> 2.1 Training Loop</a>\n",
    "* <a href='#2.2'> 2.2 Policy with Fixed Variance </a>\n",
    "* <a href='#2.3'> 2.3 PG Objects</a>\n",
    "* <a href='#3.'> 3. Choosing the value of variance </a>\n",
    "* <a href='#3.1'> 3.1 Policy with Learned Variance </a>\n",
    "* <a href='#4.'> 4. PG and experience replay </a>\n",
    "* <a href='#5.'> 5. Real-world control problems </a>\n",
    "* <a href='#6.'> 6. Discrete action spaces </a>\n",
    "* <a href='#7.'> 7. Submitting </a>\n",
    "* <a href='#7.1'> 7.1 Feedback </a>\n",
    "* <a href='#8.'> References</a>\n",
    "\n",
    "<a href='#T1'><b>Student Task 1.</b> Implementing Reinforce PG algorithm </a>\\\n",
    "<a href='#T1a'><b>Student Task 1a.</b> Basic REINFORCE without baseline (15 points) </a>\\\n",
    "<a href='#T1b'><b>Student Task 1b.</b> REINFORCE with a constant baseline b = 20 (5 points) </a>\\\n",
    "<a href='#T1c'><b>Student Task 1c.</b> REINFORCE with discounted rewards normalized to zero mean and unit variance (5 points) </a>\\\n",
    "<a href='#Q1'><b>Student Question 1.1</b> A good baseline (15 points) </a>\\\n",
    "<a href='#T2'><b>Student Task 2.</b> Making Variance a Learnable Parameter (10 points) </a>\\\n",
    "<a href='#Q2'><b>Student Question 2.1</b> Constant vs Learnable Variance (5 points) </a>\\\n",
    "<a href='#Q3'><b>Student Question 2.2</b> Learnable Variance Initial Performance (5 points) </a> \\\n",
    "<a href='#Q4'><b>Student Question 3.</b> Considering a experience reply buffer (15 points)</a>\\\n",
    "<a href='#Q5'><b>Student Question 4.1</b> Considering an unbounded continuous action space part 1(5 points) </a>\\\n",
    "<a href='#Q6'><b>Student Question 4.2</b> Considering an unbounded continuous action space part 2 (10 points) </a>\\\n",
    "<a href='#Q7'><b>Student Question 5.</b> Considering discrete action spaces (10 points)</a>\n",
    "    \n",
    "**Total Points:** 100\n",
    "\n",
    "**Estimated runtime of all the cells:** 2 hours"
   ]
  },
  {
   "cell_type": "markdown",
   "id": "50c043fb",
   "metadata": {
    "deletable": false,
    "editable": false,
    "nbgrader": {
     "cell_type": "markdown",
     "checksum": "82ec0ae01bfbd06b245720b831476b14",
     "grade": false,
     "grade_id": "cell-ad52c038bf5d1c50",
     "locked": true,
     "schema_version": 3,
     "solution": false,
     "task": false
    }
   },
   "source": [
    "# 1. Introduction <a id='1.'></a>\n",
    "In this exercise, we will implement the REINFORCE policy gradient algorithm for [InvertedPendulum environment](https://gymnasium.farama.org/environments/mujoco/inverted_pendulum/). The InvertedPendulum is similar to the previously used CartPole environment, except it has a continuous action space: the action can now have values in a range of [−3,3]. The action value represents a numerical force applied to the cart, with magnitude representing the amount of force and sign representing the direction.\n",
    "\n",
    "## 1.2 Learning Objectives <a id='1.2'></a>\n",
    "- To understand how policy gradient works\n",
    "- To implement the REINFORCE policy gradient algorithm\n",
    "- To understand the limits and use cases of policy gradient\n",
    "\n",
    "## 1.3 Code Structure and Files <a id='1.3'></a>\n",
    "You don’t have to edit any other file other than ```ex5.ipynb``` to complete this exercise.\n",
    "\n",
    "```\n",
    "├───cfg                  # Config files for environments e.g. define the maximum number of steps in an episode.\n",
    "├───imgs                 # Images used in notebook\n",
    "├───results \n",
    "│   ├───logging          # Contains logged data\n",
    "│   ├───model            # Contains the policies learned\n",
    "│   └───video            # Contains videos for each environment\n",
    "│       └───InvertedPendulum-v4\n",
    "│       │  └───test      # Videos saved during testing\n",
    "│       │  └───train     # Videos saved during training\n",
    "│   ex5.ipynb            # Main assignment file containing tasks <---------\n",
    "│   setup.py             # Contains setup function\n",
    "│   utils.py             # Contains useful functions \n",
    "```\n",
    "---\n",
    "The foundational class, `PG`, stands as the base class for the Policy Gradient. Three additional classes - `PGNoBase(PG)`, `PGBase20(PG)`, and `PGGamma(PG)` - inherit from this base class. Each class corresponds to a different variant of the policy gradient:\n",
    "\n",
    "- `PGNoBase(PG)`: Implements the vanilla Policy Gradient without a baseline.\n",
    "- `PGBase20(PG)`: Utilizes a baseline of 20.\n",
    "- `PGGamma(PG)`: Employs PG gamma with discounted rewards normalized to zero mean and unit variance.\n",
    "\n",
    "# 2. Policy gradient with and without baseline <a id='2.'></a>"
   ]
  },
  {
   "cell_type": "markdown",
   "id": "298df828",
   "metadata": {
    "deletable": false,
    "editable": false,
    "nbgrader": {
     "cell_type": "markdown",
     "checksum": "8e9d507428e153788d3bffa9d165dc4e",
     "grade": false,
     "grade_id": "cell-46a132ec9dcfe4ac",
     "locked": true,
     "schema_version": 3,
     "solution": false,
     "task": false
    }
   },
   "source": [
    "## Warnings:\n",
    "\n",
    "- Don’t copy and paste cells within a notebook. This will mess up the tracking metadata and prevent autograding from working.\n",
    "- Only add new cells using the '+' button in the upper toolbar and do not split cells.\n",
    "- Be cautious about things such as copying the whole notebook to Colab to work on it. This has sometimes resulted in removing all notebook metadata, making autograding impossible."
   ]
  },
  {
   "cell_type": "markdown",
   "id": "7aabd7b5",
   "metadata": {
    "deletable": false,
    "editable": false,
    "nbgrader": {
     "cell_type": "markdown",
     "checksum": "46cf9e8cd6b3dfa2c69dcf9ebd86720f",
     "grade": false,
     "grade_id": "cell-f93aed21b4a0d27f",
     "locked": true,
     "schema_version": 3,
     "solution": false,
     "task": false
    },
    "tags": []
   },
   "source": [
    "<a id='T1'></a>\n",
    "<div class=\" alert alert-warning\">\n",
    "    <h3><b>Student Task 1.</b> Implementing Reinforce PG algorithm (25 points) </h3> \n",
    "\n",
    "Implement the REINFORCE policy gradient algorithm to balance the InvertedPendulum. \n",
    "<br> Use constant standard deviation $\\sigma = 1$ (i.e. $\\log(\\sigma) = 0$) for the output action distribution throughout the training. Implement:\n",
    "\n",
    "&nbsp;&nbsp;&nbsp;&nbsp;&nbsp;&nbsp; (a) basic REINFORCE without baseline (15 points),\n",
    "\n",
    "&nbsp;&nbsp;&nbsp;&nbsp;&nbsp;&nbsp; (b) REINFORCE with a constant baseline b = 20 (5 points),\n",
    "\n",
    "&nbsp;&nbsp;&nbsp;&nbsp;&nbsp;&nbsp; (c) REINFORCE with discounted rewards normalized to zero mean and unit variance (5 points),\n",
    "    \n",
    "**Complete the all the unfinished implementation in following cells (marked with ```TODOs```)**. \n",
    "    \n",
    "1. **Train Loop Function**: Finalize the `train_iteration(agent, env)` function to establish the training loop, similarly to how it was done in Exercise 1.\n",
    "2. **Policy Class with Fixed Variance**: Complete the `PolicyFixedVar(nn.Module)` class to generate a policy with a fixed variance.\n",
    "3. **Get Action Method**: Finish the `get_action(self, observation, evaluation=False)` method within the `PG` class, ensuring it can be inherited effectively.\n",
    "4. **Complete PG Classes**: Implepment the `PGNoBase(PG)`, `PGBase20(PG)`, and `PGGamma(PG)` classes, each tailored with a different baseline.\n",
    "\n",
    "**Hint:** The ```class PolicyFixedVar(nn.Module)```  contains a basic neural network structure. And we include reasonable\n",
    "hyperparameters in the ```cfg``` folder.\n",
    "\n",
    "**Hint:** Your policy should output a probability distribution over actions. A suitable and straightforward choice is to use a normal distribution (`from torch.distributions import Normal`). Compute log probabilities using the `log_prob` function of the distribution. We strongly recommend you to read the official PyTorch documentation to learn how to use the distributions and related functions.\n",
    "    \n",
    "🔝\t<a href='#TOC'><b>Table of Contents</b></a>\n",
    "</div>\n"
   ]
  },
  {
   "cell_type": "code",
   "execution_count": 171,
   "id": "0ca4ce4c",
   "metadata": {
    "tags": []
   },
   "outputs": [],
   "source": [
    "skip_training = True  # Set this flag to True before validation and submission"
   ]
  },
  {
   "cell_type": "code",
   "execution_count": null,
   "id": "9140b77c",
   "metadata": {
    "deletable": false,
    "editable": false,
    "nbgrader": {
     "cell_type": "code",
     "checksum": "414e47f15fa3b52031225c1d85f7c4ad",
     "grade": true,
     "grade_id": "cell-b087b63d5c88b12c",
     "locked": true,
     "points": 0,
     "schema_version": 3,
     "solution": false,
     "task": false
    }
   },
   "outputs": [],
   "source": []
  },
  {
   "cell_type": "code",
   "execution_count": 172,
   "id": "46471b1e-91d6-48bb-bb0d-f3de4be1aa79",
   "metadata": {
    "tags": []
   },
   "outputs": [],
   "source": [
    "# Importing system and path-related modules\n",
    "import sys\n",
    "import os\n",
    "sys.path.insert(0, os.path.abspath(\"..\"))\n",
    "\n",
    "# Importing PyTorch related modules\n",
    "import torch\n",
    "from torch import nn\n",
    "from torch.distributions import Normal\n",
    "import torch.nn.functional as F\n",
    "\n",
    "# Importing other third-party modules\n",
    "import numpy as np\n",
    "import yaml\n",
    "from pathlib import Path\n",
    "from IPython.display import Video  # to display videos\n",
    "\n",
    "# Importing local utility modules\n",
    "import utils as u\n",
    "from setup import setup\n",
    "\n",
    "# Setting the device for storing tensors/calculations\n",
    "device = 'cpu'"
   ]
  },
  {
   "cell_type": "markdown",
   "id": "a55e45ae",
   "metadata": {
    "tags": []
   },
   "source": [
    "## 2.1 Training Loop <a id='2.1'></a>\n",
    "\n",
    "In the subsequent cell, a foundational framework is provided for training a Reinforcement Learning (RL) agent employing the REINFORCE algorithm. It is constructed to efficiently monitor the agent's progress and performance throughout the training phase. Please complete the training loop, marked with `TODO`, to finalize the setup for the agent’s training process."
   ]
  },
  {
   "cell_type": "code",
   "execution_count": 173,
   "id": "428ff872",
   "metadata": {
    "tags": []
   },
   "outputs": [],
   "source": [
    "def to_numpy(tensor):\n",
    "    \"\"\"\n",
    "    Convert a PyTorch tensor to a NumPy array.\n",
    "\n",
    "    :param tensor: A PyTorch tensor.\n",
    "    :return: The converted NumPy array.\n",
    "    \"\"\"\n",
    "    # Squeeze the tensor, move it to CPU and convert to NumPy array\n",
    "    return tensor.squeeze(0).cpu().numpy()\n",
    "\n",
    "\n",
    "def train_iteration(agent, env):\n",
    "    # Policy training function\n",
    "\n",
    "    # Reset the environment and observe the initial state\n",
    "    reward_sum, timesteps, done = 0, 0, False\n",
    "    obs, _ = env.reset(seed=409)\n",
    "\n",
    "    while not done:\n",
    "        # TODO: Task 1: finish the train loop, including \n",
    "        # 1. Call agent.get_action to get action and log prob of the action\n",
    "        # 2. Call env.step with the action (note: you need to convert the action into a numpy array -- use the function to_numpy for this)\n",
    "        #   (Steps 1. and 2. you can also find from the 'test' function below)\n",
    "        # 3. Store the log prob of action and reward by calling agent.record\n",
    "        # 4. Update reward_sum by adding the reward received from env.step, and increase timesteps by one\n",
    "        # 5. Use the observation you receive from env.step to call agent.get_action for the next timestep \n",
    "        #   (Hint: ensure to use the `.copy()` method to avoid unexpected behavior due to aliasing.)\n",
    "\n",
    "        ########### Your code starts here ###########\n",
    "        # Get action from the agent\n",
    "        action, log_prob = agent.get_action(obs)\n",
    "\n",
    "        # Perform the action on the environment, get new state and reward\n",
    "        new_obs, reward, done, _, _ = env.step(to_numpy(action))\n",
    "        \n",
    "    \n",
    "        # Store agent's and env's outcome (so that the agent can improve its policy)\n",
    "        agent.record(log_prob, reward)\n",
    "\n",
    "        # Store total episode reward\n",
    "        reward_sum += reward\n",
    "        timesteps += 1\n",
    " \n",
    "        # update observation\n",
    "        obs = new_obs.copy()\n",
    "\n",
    "        ########## Your codes ends here. ##########\n",
    "        if timesteps >= 1000:\n",
    "            done = True\n",
    "            \n",
    "    # Update the policy after one episode\n",
    "    info = agent.update()\n",
    "\n",
    "    # Return stats of training\n",
    "    info.update({'timesteps': timesteps,\n",
    "                'ep_reward': reward_sum,})\n",
    "    return info\n",
    "\n",
    "\n",
    "def train(agent_class, cfg_path, cfg_args={}):\n",
    "    env, cfg = setup(cfg_path, cfg_args=cfg_args)\n",
    "    performance_data = []\n",
    "    \n",
    "    if cfg.save_logging: \n",
    "        u.make_dir(Path().cwd()/'results'/cfg.env_name/\"logging\")\n",
    "        L = u.Logger() # create a simple logger to record stats\n",
    "        \n",
    "    # Get state and action dimensionality\n",
    "    state_dim = env.observation_space.shape[0]\n",
    "    action_dim = env.action_space.shape[0]\n",
    "\n",
    "    # Initialise the policy gradient agent\n",
    "    agent = agent_class(state_dim, action_dim, float(cfg.lr), float(cfg.gamma))\n",
    "    \n",
    "    for ep in range(cfg.train_episodes):\n",
    "        # collect data and update the policy\n",
    "        train_info = train_iteration(agent, env)\n",
    "        train_info.update({'episodes': ep})\n",
    "\n",
    "        if cfg.save_logging:\n",
    "            L.log(**train_info)\n",
    "        if (not cfg.silent) and (ep % 100 == 0):\n",
    "            print({\"ep\": ep, **train_info})\n",
    "\n",
    "        performance_data.append(train_info)\n",
    "        \n",
    "    u.plot_training_data(performance_data)\n",
    "    if cfg.save_model:\n",
    "        agent.save(cfg.model_path)\n",
    "    \n",
    "    print(\"Training complete!\")\n",
    "    \n",
    "\n",
    "# Function to test a trained policy\n",
    "@torch.no_grad()\n",
    "def test(agent_class, cfg_path, cfg_args={}, num_episodes=5, seeds=None):\n",
    "    env, cfg = setup(cfg_path, cfg_args=cfg_args)\n",
    "    \n",
    "    # Get state and action dimensionality\n",
    "    state_dim = env.observation_space.shape[0]\n",
    "    action_dim = env.action_space.shape[0]\n",
    "\n",
    "    # Initialise the policy gradient agent\n",
    "    agent = agent_class(state_dim, action_dim, float(cfg.lr), float(cfg.gamma))\n",
    "    \n",
    "    print(\"Loading model from\", cfg.model_path, \"...\")\n",
    "    agent.load(cfg.model_path)\n",
    "        \n",
    "    test_rewards = []\n",
    "    for ep in range(num_episodes):\n",
    "\n",
    "        if seeds != None:\n",
    "            test_seed = seeds[ep % len(seeds)]\n",
    "            print(\"Episode seed: \", test_seed)\n",
    "            (obs, _)  = env.reset(seed=test_seed)\n",
    "        else :\n",
    "            (obs, _)  = env.reset()\n",
    "        done=  False\n",
    "        test_reward = 0\n",
    "        timesteps = 0\n",
    "        \n",
    "        while not done:\n",
    "            # Similar to the training loop above -\n",
    "            # get the action, act on the environment, save total reward\n",
    "            # (evaluation=True makes the agent always return what it thinks to be\n",
    "            # the best action - there is no exploration at this point)\n",
    "            action, _ = agent.get_action(obs, evaluation=True)\n",
    "\n",
    "            \n",
    "            obs, reward, done, _, info = env.step(to_numpy(action))\n",
    "            timesteps += 1\n",
    "            test_reward += reward\n",
    "            \n",
    "            if timesteps >= 1000:\n",
    "                done = True\n",
    "        test_rewards.append(test_reward)\n",
    "\n",
    "        print(\"Test ep_reward:\", test_reward)\n",
    "\n",
    "    print(\"Median test reward:\", np.median(test_rewards))"
   ]
  },
  {
   "cell_type": "markdown",
   "id": "ac054ea1",
   "metadata": {},
   "source": [
    "## 2.2 Policy with Fixed Variance <a id='2.2'></a>\n",
    "\n",
    "This code is designed to establish a neural network policy where the variance is constant. The `PolicyFixedVar` class, which is a subclass of `nn.Module`, defines this policy. The policy uses a neural network to map states to actions, outputting a normal distribution with a mean and a standard deviation. \n",
    "\n",
    "#### Task:\n",
    "1. **Implementing actor_logstd:**\n",
    "   - Initialize `self.actor_logstd` as a torch tensor with zeros, ensuring to set the `device` parameter for appropriate storage.\n",
    "\n",
    "2. **Create and Return Distribution:**\n",
    "   - In the `forward` method, create a Normal distribution (`probs`) with the computed `action_mean` and `action_std`. This distribution represents the policy’s output given a state input."
   ]
  },
  {
   "cell_type": "code",
   "execution_count": 174,
   "id": "77a5cc6b",
   "metadata": {
    "tags": []
   },
   "outputs": [],
   "source": [
    "# Initialisation function for neural network layers\n",
    "def layer_init(layer, std=np.sqrt(2), bias_const=0.0):\n",
    "    torch.nn.init.orthogonal_(layer.weight, std)\n",
    "    torch.nn.init.constant_(layer.bias, bias_const)\n",
    "    return layer\n",
    "\n",
    "\n",
    "# This class defines the neural network policy\n",
    "class PolicyFixedVar(nn.Module):\n",
    "    def __init__(self, state_dim, action_dim):\n",
    "        super(PolicyFixedVar, self).__init__()\n",
    "\n",
    "        # Initialise a neural network with two hidden layers (64 neurons per layer)\n",
    "        self.actor_mean = nn.Sequential(\n",
    "            layer_init(nn.Linear(state_dim, 64)),\n",
    "            nn.Tanh(),\n",
    "            layer_init(nn.Linear(64, 64)),\n",
    "            nn.Tanh(),\n",
    "            layer_init(nn.Linear(64, action_dim), std=0.01),\n",
    "        )\n",
    "\n",
    "        # TODO: Task 1: Implement actor_logstd as a torch tensor. \n",
    "        # Hint: when creating the torch tensor, remember to set the parameter device=device \n",
    "        #       so the tensor is stored correctly on CUDA (if applicable) \n",
    "        ########## Your code starts here. ###########\n",
    "        self.actor_logstd = nn.Parameter(torch.zeros(action_dim, device=device), requires_grad=False)\n",
    "        \n",
    "        ########## Your code ends here. ##########\n",
    "\n",
    "    # Do a forward pass to map state to action\n",
    "    def forward(self, state):\n",
    "        # Get mean of a Normal distribution (the output of the neural network)\n",
    "        action_mean = self.actor_mean(state)\n",
    "\n",
    "        # Make sure action_logstd matches dimension of action_mean\n",
    "        action_logstd = self.actor_logstd.expand_as(action_mean)\n",
    "\n",
    "        # Exponentiate the log std to get actual std\n",
    "        action_std = torch.exp(action_logstd)\n",
    "\n",
    "        # TODO: Task 1: Create a Normal distribution with mean of 'action_mean' and standard deviation of 'action_std', and return the distribution\n",
    "        # Use the torch.distributions class\n",
    "        ########## Your code starts here. ###########\n",
    "        probs = Normal(action_mean, action_std)\n",
    "        ########## Your code ends here. ##########\n",
    "        return probs"
   ]
  },
  {
   "cell_type": "code",
   "execution_count": 175,
   "id": "b677a295",
   "metadata": {
    "deletable": false,
    "editable": false,
    "nbgrader": {
     "cell_type": "code",
     "checksum": "e673d7a1cb02204c75f9b5ea389b7d84",
     "grade": true,
     "grade_id": "cell-8e7d3a4799495ca0",
     "locked": true,
     "points": 0,
     "schema_version": 3,
     "solution": false,
     "task": false
    },
    "tags": []
   },
   "outputs": [],
   "source": [
    "# Test Policy\n",
    "def test_return_class():\n",
    "    policy = PolicyFixedVar(4, 1)\n",
    "    x = torch.Tensor((1.,2.,3.,4.)).reshape((1,4))\n",
    "    assert isinstance( policy.forward(x),Normal)\n",
    "\n",
    "test_return_class()"
   ]
  },
  {
   "cell_type": "markdown",
   "id": "4de05f7e",
   "metadata": {},
   "source": [
    "## 2.3 PG Objects <a id='2.3'></a>\n",
    "\n",
    "The `PG` class is defined as the Policy Gradient base class. This class forms the foundation for implementing policy gradient algorithms, providing a structured format and placeholders for essential functions and variables used in these algorithms. The methods within this class will be used to interact with, update, and manage the policy used by the agent to make decisions in the environment.\n",
    "\n",
    "Task: Implementing the `get_action` Method."
   ]
  },
  {
   "cell_type": "code",
   "execution_count": 176,
   "id": "7e300959",
   "metadata": {
    "tags": []
   },
   "outputs": [],
   "source": [
    "# Class for the Policy Gradient algorithm\n",
    "class PG(object):\n",
    "    def __init__(self, state_dim, action_dim, lr, gamma):\n",
    "        # Define the neural network policy with fixed variance \n",
    "        self.policy = PolicyFixedVar(state_dim, action_dim).to(device)\n",
    "\n",
    "        # Create an optimizer\n",
    "        self.optimizer = torch.optim.Adam(self.policy.parameters(), lr=lr)\n",
    "\n",
    "        # Set discount factor value\n",
    "        self.gamma = gamma\n",
    "\n",
    "        # Simple buffers for action probabilities and rewards\n",
    "        self.action_probs = []\n",
    "        self.rewards = []\n",
    "\n",
    "    def update(self):\n",
    "        pass\n",
    "\n",
    "    def record(self, action_prob, reward):\n",
    "        \"\"\" Store agent's and env's outcomes to update the agent.\"\"\"\n",
    "        self.action_probs.append(action_prob)\n",
    "        self.rewards.append(torch.tensor([reward]))\n",
    "\n",
    "    def save(self, filepath):\n",
    "        torch.save(self.policy.state_dict(), filepath)\n",
    "\n",
    "    def load(self, filepath):\n",
    "        self.policy.load_state_dict(torch.load(filepath))\n",
    "    \n",
    "    def get_action(self, observation, evaluation=False):\n",
    "        \"\"\"Return action and logprob of this action.\"\"\"\n",
    "\n",
    "        # Add batch dimension if necessary\n",
    "        if observation.ndim == 1: \n",
    "            observation = observation[None]\n",
    "\n",
    "        # Convert observation to a torch tensor\n",
    "        x = torch.from_numpy(observation).float().to(device)\n",
    "\n",
    "        # TODO: Task 1: Calculate action and its log_prob\n",
    "        ########## Your code starts here. ###########\n",
    "        # Hint: \n",
    "        #   1. when evaluation=True, return mean, otherwise return samples from the distribution created in self.policy.forward() function.\n",
    "        #   2. notice the shape of action and act_logprob.\n",
    "        \n",
    "        \n",
    "        # Pass state x through the policy network (T1)\n",
    "        probs = self.policy(x)\n",
    "\n",
    "        # Return mean if evaluation, else sample from the distribution\n",
    "        if evaluation:\n",
    "            action = probs.mean\n",
    "        else:\n",
    "            action = probs.sample()\n",
    "\n",
    "        # Calculate the log probability of the action (T1)\n",
    "        act_logprob = probs.log_prob(action)\n",
    "\n",
    "        if act_logprob.ndim > 1:\n",
    "            act_logprob = act_logprob.sum(dim=-1)\n",
    "        if observation.ndim == 1: \n",
    "            act_logprob = act_logprob.view(1)\n",
    "            \n",
    "        \n",
    "        ########## Your code ends here. ##########\n",
    "        \n",
    "        if observation.ndim == 1: \n",
    "            action = action[0]\n",
    "\n",
    "        return action, act_logprob"
   ]
  },
  {
   "cell_type": "markdown",
   "id": "61981975",
   "metadata": {},
   "source": [
    "<a id='T1a'></a>\n",
    "<div class=\" alert alert-warning\">\n",
    "    <h3><b>Student Task 1a.</b> Basic REINFORCE without baseline (15 points) </h3> \n",
    "The training performance plot might look like Figure 1a. \n",
    "    <figure style=\"text-align: center\">\n",
    "    <img src=\"imgs/PGNoBase.svg\" width=\"600px\">\n",
    "    <figcaption style=\"text-align: center\"> Figure 1a: REINFORCE without baseline. </figcaption>\n",
    "    </figure>\n",
    "    \n",
    "🔝\t<a href='#TOC'><b>Table of Contents</b></a>\n",
    "</div>\n"
   ]
  },
  {
   "cell_type": "code",
   "execution_count": 177,
   "id": "e164da7c",
   "metadata": {
    "tags": []
   },
   "outputs": [],
   "source": [
    "class PGNoBase(PG):\n",
    "    def __init__(self, state_dim, action_dim, lr, gamma):\n",
    "        super().__init__(state_dim, action_dim, lr, gamma)\n",
    "\n",
    "    # TODO: Task 1: Implement the policy gradient\n",
    "    # Complete the following 2 functions\n",
    "    # Hints:\n",
    "    #   1. compute discounted rewards (use the discount_rewards function offered in common.helper)\n",
    "    #   2. compute the policy gradient loss\n",
    "    \n",
    "    # Compute discounted rewards \n",
    "    def calculate_discounted_rewards(self, rewards):\n",
    "        ########## Your code starts here. ##########\n",
    "        \n",
    "        discounted_rewards = torch.zeros_like(rewards)\n",
    "        G = 0\n",
    "        for t in reversed(range(len(rewards))):\n",
    "            G = rewards[t] + self.gamma*G\n",
    "            discounted_rewards[t] = G\n",
    "        ########## Your code ends here. ##########\n",
    "        return discounted_rewards\n",
    "\n",
    "    # Calculate the PG loss\n",
    "    def calculate_loss(self, action_probs, discounted_rewards):\n",
    "        ########## Your code starts here. ##########\n",
    "        loss = -torch.mean(action_probs * discounted_rewards)\n",
    "        ########## Your code ends here. ##########\n",
    "        return loss\n",
    "    \n",
    "    def update(self):\n",
    "        # Prepare dataset used to update policy\n",
    "        action_probs = torch.stack(self.action_probs, dim=0).to(device).squeeze(-1) # shape: [batch_size,]\n",
    "        rewards = torch.stack(self.rewards, dim=0).to(device).squeeze(-1) # shape [batch_size,]\n",
    "        self.action_probs, self.rewards = [], [] # clean buffers\n",
    "        \n",
    "        # Task 1: Implement the policy gradient\n",
    "        \n",
    "        # Compute discounted rewards \n",
    "        discounted_rewards = self.calculate_discounted_rewards(rewards)\n",
    "\n",
    "        # Calculate the PG loss\n",
    "        loss = self.calculate_loss(action_probs, discounted_rewards)\n",
    "       \n",
    "        # Backprop gradients\n",
    "        loss.backward()  \n",
    "\n",
    "        # Do the optimizer step \n",
    "        self.optimizer.step() \n",
    "        self.optimizer.zero_grad() \n",
    "\n",
    "        # if you want to log something in wandb, you can put them inside the {}, otherwise, just leave it empty.\n",
    "        return {'logstd': self.policy.actor_logstd.cpu().detach().numpy()}"
   ]
  },
  {
   "cell_type": "code",
   "execution_count": 178,
   "id": "63656ac2",
   "metadata": {
    "deletable": false,
    "editable": false,
    "nbgrader": {
     "cell_type": "code",
     "checksum": "58227601cec76e5daee3bee9f5cb8f0c",
     "grade": true,
     "grade_id": "cell-170a359e31be5be6",
     "locked": true,
     "points": 0,
     "schema_version": 3,
     "solution": false,
     "task": false
    },
    "tags": []
   },
   "outputs": [
    {
     "name": "stdout",
     "output_type": "stream",
     "text": [
      "Numpy/Torch/Random Seed:  43\n"
     ]
    }
   ],
   "source": [
    "%%capture --no-stdout\n",
    "\"TEST CELL\"\n",
    "#Test get_action method\n",
    "def test_get_action_1():\n",
    "    cfg_path=Path().cwd()/'cfg'/'inverted_pendulum.yaml'\n",
    "    env, cfg = setup(cfg_path, cfg_args={\"model_name\":\"PG\",\"seed\": 43})\n",
    "    state_dim = env.observation_space.shape[0]\n",
    "    action_dim = env.action_space.shape[0]\n",
    "    agent = PG(state_dim, action_dim, float(cfg.lr), float(cfg.gamma))\n",
    "    obs = np.array( [0.00565713,  0.00385536, -0.09085017,  0.20961052] )\n",
    "    action = -0.0009746950818225741\n",
    "    assert np.allclose(agent.get_action(obs,True)[0].item(),action,0.001)\n",
    "    \n",
    "    agent2 = PG(state_dim, 3, float(cfg.lr), float(cfg.gamma))\n",
    "    assert tuple(agent2.get_action(obs,True)[1].shape) == (1,)\n",
    "\n",
    "test_get_action_1()"
   ]
  },
  {
   "cell_type": "code",
   "execution_count": 179,
   "id": "d27e7ee9",
   "metadata": {
    "deletable": false,
    "editable": false,
    "nbgrader": {
     "cell_type": "code",
     "checksum": "5e264785d47b98f7c755dac88b8a7a3d",
     "grade": true,
     "grade_id": "cell-01beb3c8be62ffc0",
     "locked": true,
     "points": 10,
     "schema_version": 3,
     "solution": false,
     "task": false
    }
   },
   "outputs": [],
   "source": [
    "%%capture --no-stdout\n",
    "\"TEST CELL\""
   ]
  },
  {
   "cell_type": "code",
   "execution_count": 180,
   "id": "2f72fee2",
   "metadata": {
    "tags": []
   },
   "outputs": [
    {
     "name": "stdout",
     "output_type": "stream",
     "text": [
      "Numpy/Torch/Random Seed:  22\n",
      "{'ep': 0, 'logstd': array([0.], dtype=float32), 'timesteps': 5, 'ep_reward': 5.0, 'episodes': 0}\n",
      "{'ep': 100, 'logstd': array([0.], dtype=float32), 'timesteps': 6, 'ep_reward': 6.0, 'episodes': 100}\n",
      "{'ep': 200, 'logstd': array([0.], dtype=float32), 'timesteps': 5, 'ep_reward': 5.0, 'episodes': 200}\n",
      "{'ep': 300, 'logstd': array([0.], dtype=float32), 'timesteps': 59, 'ep_reward': 59.0, 'episodes': 300}\n",
      "{'ep': 400, 'logstd': array([0.], dtype=float32), 'timesteps': 54, 'ep_reward': 54.0, 'episodes': 400}\n",
      "{'ep': 500, 'logstd': array([0.], dtype=float32), 'timesteps': 59, 'ep_reward': 59.0, 'episodes': 500}\n",
      "{'ep': 600, 'logstd': array([0.], dtype=float32), 'timesteps': 55, 'ep_reward': 55.0, 'episodes': 600}\n",
      "{'ep': 700, 'logstd': array([0.], dtype=float32), 'timesteps': 114, 'ep_reward': 114.0, 'episodes': 700}\n",
      "{'ep': 800, 'logstd': array([0.], dtype=float32), 'timesteps': 175, 'ep_reward': 175.0, 'episodes': 800}\n",
      "{'ep': 900, 'logstd': array([0.], dtype=float32), 'timesteps': 220, 'ep_reward': 220.0, 'episodes': 900}\n"
     ]
    },
    {
     "data": {
      "image/png": "[encoded data removed]",
      "text/plain": [
       "<Figure size 450x350 with 1 Axes>"
      ]
     },
     "metadata": {},
     "output_type": "display_data"
    },
    {
     "name": "stdout",
     "output_type": "stream",
     "text": [
      "Training complete!\n"
     ]
    }
   ],
   "source": [
    "if not skip_training:\n",
    "    train(PGNoBase, cfg_path=Path().cwd() / 'cfg' / 'inverted_pendulum.yaml', cfg_args=dict(model_name=\"PGNoBase\")) # < 7 mins"
   ]
  },
  {
   "cell_type": "code",
   "execution_count": 181,
   "id": "09ab5a2e",
   "metadata": {
    "tags": []
   },
   "outputs": [
    {
     "name": "stdout",
     "output_type": "stream",
     "text": [
      "Numpy/Torch/Random Seed:  22\n",
      "Loading model from /notebooks/rl2025/ex5/results/InvertedPendulum-v4/model/PGNoBase_params.pt ...\n",
      "Test ep_reward: 1000.0\n",
      "Test ep_reward: 1000.0\n",
      "Test ep_reward: 1000.0\n",
      "Test ep_reward: 1000.0\n",
      "Test ep_reward: 1000.0\n",
      "Median test reward: 1000.0\n"
     ]
    }
   ],
   "source": [
    "if not skip_training:\n",
    "    test(PGNoBase, cfg_path=Path().cwd() / 'cfg' / 'inverted_pendulum.yaml', cfg_args=dict(model_name=\"PGNoBase\", save_video=True, testing=True)) "
   ]
  },
  {
   "cell_type": "code",
   "execution_count": null,
   "id": "2714f3db",
   "metadata": {
    "deletable": false,
    "editable": false,
    "nbgrader": {
     "cell_type": "code",
     "checksum": "6c2e40d8dc91bbf04c0c774bcec4807f",
     "grade": true,
     "grade_id": "cell-88ff36aa060ed0d0",
     "locked": true,
     "points": 1,
     "schema_version": 3,
     "solution": false,
     "task": false
    }
   },
   "outputs": [],
   "source": []
  },
  {
   "cell_type": "code",
   "execution_count": 182,
   "id": "e5178279",
   "metadata": {
    "deletable": false,
    "editable": false,
    "nbgrader": {
     "cell_type": "code",
     "checksum": "f1773f5d1773107777dffbcfb71019cf",
     "grade": true,
     "grade_id": "cell-9efc8886a62a7f68",
     "locked": true,
     "points": 2,
     "schema_version": 3,
     "solution": false,
     "task": false
    }
   },
   "outputs": [
    {
     "name": "stdout",
     "output_type": "stream",
     "text": [
      "Numpy/Torch/Random Seed:  43\n"
     ]
    }
   ],
   "source": [
    "%%capture --no-stdout\n",
    "\"TEST CELL\"\n",
    "def test_pgnobase_update_1():\n",
    "    agent_class = PGNoBase\n",
    "    cfg_path=Path().cwd() / 'cfg' / 'inverted_pendulum.yaml'\n",
    "    cfg_args=dict(model_name=\"PGNoBase\", seed=43)\n",
    "    env, cfg = setup(cfg_path, cfg_args=cfg_args)\n",
    "\n",
    "    state_dim = env.observation_space.shape[0]\n",
    "    action_dim = env.action_space.shape[0]\n",
    "\n",
    "    agent = agent_class(state_dim, action_dim, float(cfg.lr), float(cfg.gamma))\n",
    "\n",
    "    test_reward = torch.Tensor([1., 1., 1., 1., 1., 1., 1., 1.])\n",
    "    test_action_prob = torch.Tensor([-2.4205, -2.1635, -1.2791, -1.2655, -0.9205, -0.9366, -4.9679, -2.1623])\n",
    "    test_discounted_reward = torch.Tensor([7.7255, 6.7935, 5.8520, 4.9010, 3.9404, 2.9701, 1.9900, 1.0000])\n",
    "\n",
    "    assert torch.allclose(agent.calculate_discounted_rewards(test_reward), test_discounted_reward, 0.001)\n",
    "    assert torch.allclose(agent.calculate_loss(test_action_prob, test_discounted_reward), torch.tensor(8.1928), 0.001)\n",
    "\n",
    "test_pgnobase_update_1()"
   ]
  },
  {
   "cell_type": "code",
   "execution_count": 183,
   "id": "3a39f4ea",
   "metadata": {
    "deletable": false,
    "editable": false,
    "nbgrader": {
     "cell_type": "code",
     "checksum": "a71971cc15d36173098a756d78fa1f2e",
     "grade": true,
     "grade_id": "cell-327283bf9249663a",
     "locked": true,
     "points": 2,
     "schema_version": 3,
     "solution": false,
     "task": false
    }
   },
   "outputs": [],
   "source": [
    "%%capture --no-stdout\n",
    "\"TEST CELL\""
   ]
  },
  {
   "cell_type": "code",
   "execution_count": 184,
   "id": "8ff999fb",
   "metadata": {},
   "outputs": [
    {
     "data": {
      "text/html": [
       "<video loop autoplay  >\n",
       " <source src=\"data:None;base64,/notebooks/rl2025/ex5/results/InvertedPendulum-v4/video/test/ex5-episode-5.mp4\" type=\"None\">\n",
       " Your browser does not support the video tag.\n",
       " </video>"
      ],
      "text/plain": [
       "<IPython.core.display.Video object>"
      ]
     },
     "metadata": {},
     "output_type": "display_data"
    }
   ],
   "source": [
    "if not skip_training:\n",
    "      video = Video(Path().cwd()/'results'/'InvertedPendulum-v4'/'video'/'test'/'ex5-episode-5.mp4',\n",
    "      embed=True, html_attributes=\"loop autoplay\") # Set html_attributes=\"controls\" for video control\n",
    "      display(video)"
   ]
  },
  {
   "cell_type": "code",
   "execution_count": 185,
   "id": "e39a2410-d8ea-4e1f-b10a-e112816124e7",
   "metadata": {
    "tags": []
   },
   "outputs": [
    {
     "data": {
      "text/html": [
       "<video loop autoplay  >\n",
       " <source src=\"data:video/mp4;base64,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\" type=\"video/mp4\">\n",
       " Your browser does not support the video tag.\n",
       " </video>"
      ],
      "text/plain": [
       "<IPython.core.display.Video object>"
      ]
     },
     "metadata": {},
     "output_type": "display_data"
    }
   ],
   "source": [
    "if not skip_training:\n",
    "      video = Video(Path().cwd()/'results'/'InvertedPendulum-v4'/'video'/'test'/'ex5-episode-0.mp4',\n",
    "      embed=True, html_attributes=\"loop autoplay\") # Set html_attributes=\"controls\" for video control\n",
    "      display(video)"
   ]
  },
  {
   "cell_type": "markdown",
   "id": "ea079dc7",
   "metadata": {},
   "source": [
    "<a id='T1b'></a>\n",
    "<div class=\" alert alert-warning\">\n",
    "    <h3><b>Student Task 1b.</b> REINFORCE with a constant baseline b = 20 (5 points) </h3> \n",
    "    The training performance plot might look like Figure 1b.\n",
    "    <figure style=\"text-align: center\" id=\"figure-1b\">\n",
    "        <img src=\"imgs/PGBase20.svg\" width=\"600px\">\n",
    "        <figcaption style=\"text-align: center\"> Figure 1b: REINFORCE with a constant baseline 20. </figcaption>\n",
    "    </figure>\n",
    "    \n",
    "🔝 <a href='#TOC'><b>Table of Contents</b></a>\n",
    "</div>\n",
    "\n"
   ]
  },
  {
   "cell_type": "code",
   "execution_count": 186,
   "id": "3c57e167",
   "metadata": {
    "tags": []
   },
   "outputs": [],
   "source": [
    "class PGBase20(PG):\n",
    "    def __init__(self, state_dim, action_dim, lr, gamma):\n",
    "        super().__init__(state_dim, action_dim, lr, gamma)\n",
    "\n",
    "    # TODO: Task 1: Implement the policy gradient\n",
    "    # Complete the following 2 functions\n",
    "    # Hints:\n",
    "    #   1. compute discounted rewards (use the discount_rewards function offered in common.helper)\n",
    "    #   2. compute the policy gradient loss with the baseline\n",
    "    \n",
    "    # Compute discounted rewards \n",
    "    def calculate_discounted_rewards(self, rewards):\n",
    "        ########## Your code starts here. ##########\n",
    "        \n",
    "        discounted_rewards = torch.zeros_like(rewards)\n",
    "        G = 0 \n",
    "        for t in reversed(range(len(rewards))):\n",
    "            G = rewards[t] + self.gamma*G\n",
    "            discounted_rewards[t] = G\n",
    "        ########## Your code ends here. ##########\n",
    "        return discounted_rewards\n",
    "\n",
    "    # Calculate the PG loss with the baseline\n",
    "    def calculate_loss(self, action_probs, discounted_rewards):\n",
    "        ########## Your code starts here. ##########\n",
    "        baseline = 20 \n",
    "        advantages = discounted_rewards - baseline\n",
    "        loss = -torch.mean(action_probs * advantages)\n",
    "        ########## Your code ends here. ##########\n",
    "        return loss\n",
    "\n",
    "    def update(self):\n",
    "        # Prepare dataset used to update policy\n",
    "        action_probs = torch.stack(self.action_probs, dim=0).to(device).squeeze(-1) # shape: [batch_size,]\n",
    "        rewards = torch.stack(self.rewards, dim=0).to(device).squeeze(-1) # shape [batch_size,]\n",
    "        self.action_probs, self.rewards = [], [] # clean buffers\n",
    "        \n",
    "        # TODO: Task 1: Implement the policy gradient\n",
    "\n",
    "        # Compute discounted rewards \n",
    "        discounted_rewards = self.calculate_discounted_rewards(rewards)\n",
    "        # Calculate the PG loss with the baseline\n",
    "        loss = self.calculate_loss(action_probs, discounted_rewards)\n",
    "        # Backprop gradients\n",
    "        loss.backward()\n",
    "        # Do the optimizer step\n",
    "        self.optimizer.step()\n",
    "        self.optimizer.zero_grad()\n",
    "\n",
    "        # if you want to log something in wandb, you can put them inside the {}, otherwise, just leave it empty.\n",
    "        return {'logstd': self.policy.actor_logstd.cpu().detach().numpy()}"
   ]
  },
  {
   "cell_type": "code",
   "execution_count": 187,
   "id": "8aa4d283",
   "metadata": {
    "tags": []
   },
   "outputs": [
    {
     "name": "stdout",
     "output_type": "stream",
     "text": [
      "Numpy/Torch/Random Seed:  22\n",
      "{'ep': 0, 'logstd': array([0.], dtype=float32), 'timesteps': 5, 'ep_reward': 5.0, 'episodes': 0}\n",
      "{'ep': 100, 'logstd': array([0.], dtype=float32), 'timesteps': 48, 'ep_reward': 48.0, 'episodes': 100}\n",
      "{'ep': 200, 'logstd': array([0.], dtype=float32), 'timesteps': 128, 'ep_reward': 128.0, 'episodes': 200}\n",
      "{'ep': 300, 'logstd': array([0.], dtype=float32), 'timesteps': 1000, 'ep_reward': 1000.0, 'episodes': 300}\n",
      "{'ep': 400, 'logstd': array([0.], dtype=float32), 'timesteps': 252, 'ep_reward': 252.0, 'episodes': 400}\n",
      "{'ep': 500, 'logstd': array([0.], dtype=float32), 'timesteps': 1000, 'ep_reward': 1000.0, 'episodes': 500}\n",
      "{'ep': 600, 'logstd': array([0.], dtype=float32), 'timesteps': 1000, 'ep_reward': 1000.0, 'episodes': 600}\n",
      "{'ep': 700, 'logstd': array([0.], dtype=float32), 'timesteps': 1000, 'ep_reward': 1000.0, 'episodes': 700}\n",
      "{'ep': 800, 'logstd': array([0.], dtype=float32), 'timesteps': 1000, 'ep_reward': 1000.0, 'episodes': 800}\n",
      "{'ep': 900, 'logstd': array([0.], dtype=float32), 'timesteps': 1000, 'ep_reward': 1000.0, 'episodes': 900}\n"
     ]
    },
    {
     "data": {
      "image/png": "[encoded data removed]",
      "text/plain": [
       "<Figure size 450x350 with 1 Axes>"
      ]
     },
     "metadata": {},
     "output_type": "display_data"
    },
    {
     "name": "stdout",
     "output_type": "stream",
     "text": [
      "Training complete!\n"
     ]
    }
   ],
   "source": [
    "if not skip_training:\n",
    "    train(PGBase20, cfg_path=Path().cwd() / 'cfg' / 'inverted_pendulum.yaml', cfg_args=dict(model_name=\"PGBase20\")) # < 7 mins"
   ]
  },
  {
   "cell_type": "code",
   "execution_count": 188,
   "id": "48f26f40-49c9-48f3-8543-cae81be8185f",
   "metadata": {
    "tags": []
   },
   "outputs": [
    {
     "name": "stdout",
     "output_type": "stream",
     "text": [
      "Numpy/Torch/Random Seed:  22\n",
      "Loading model from /notebooks/rl2025/ex5/results/InvertedPendulum-v4/model/PGBase20_params.pt ...\n",
      "Test ep_reward: 1000.0\n",
      "Test ep_reward: 1000.0\n",
      "Test ep_reward: 1000.0\n",
      "Test ep_reward: 1000.0\n",
      "Test ep_reward: 1000.0\n",
      "Median test reward: 1000.0\n"
     ]
    }
   ],
   "source": [
    "if not skip_training:\n",
    "    test(PGBase20, cfg_path=Path().cwd() / 'cfg' / 'inverted_pendulum.yaml', cfg_args=dict(model_name=\"PGBase20\", save_video=True, testing=True)) "
   ]
  },
  {
   "cell_type": "code",
   "execution_count": null,
   "id": "af4ac907",
   "metadata": {
    "deletable": false,
    "editable": false,
    "nbgrader": {
     "cell_type": "code",
     "checksum": "e67902311730193101e4741111bbf0b2",
     "grade": true,
     "grade_id": "cell-62d1b98f11dcd94b",
     "locked": true,
     "points": 1,
     "schema_version": 3,
     "solution": false,
     "task": false
    }
   },
   "outputs": [],
   "source": []
  },
  {
   "cell_type": "code",
   "execution_count": 189,
   "id": "6074d987",
   "metadata": {
    "deletable": false,
    "editable": false,
    "nbgrader": {
     "cell_type": "code",
     "checksum": "11f6f2b5baa3638d6d0deedc0eee29fe",
     "grade": true,
     "grade_id": "cell-3bcb1eace5908e1d",
     "locked": true,
     "points": 2,
     "schema_version": 3,
     "solution": false,
     "task": false
    }
   },
   "outputs": [
    {
     "name": "stdout",
     "output_type": "stream",
     "text": [
      "Numpy/Torch/Random Seed:  43\n"
     ]
    }
   ],
   "source": [
    "%%capture --no-stdout\n",
    "\"TEST CELL\"\n",
    "def test_pgbase20_update_1():\n",
    "    \n",
    "    agent_class = PGBase20\n",
    "    cfg_path=Path().cwd() / 'cfg' / 'inverted_pendulum.yaml'\n",
    "    cfg_args=dict(model_name=\"PGBase20\", seed=43)\n",
    "    env, cfg = setup(cfg_path, cfg_args=cfg_args)\n",
    "\n",
    "    state_dim = env.observation_space.shape[0]\n",
    "    action_dim = env.action_space.shape[0]\n",
    "\n",
    "    agent = agent_class(state_dim, action_dim, float(cfg.lr), float(cfg.gamma))\n",
    "\n",
    "    test_reward = torch.Tensor([1., 1., 1., 1., 1., 1., 1., 1.])\n",
    "    test_action_prob = torch.Tensor([-2.4205, -2.1635, -1.2791, -1.2655, -0.9205, -0.9366, -4.9679, -2.1623])\n",
    "    test_discounted_reward = torch.Tensor([7.7255, 6.7935, 5.8520, 4.9010, 3.9404, 2.9701, 1.9900, 1.0000])\n",
    "\n",
    "    assert torch.allclose(agent.calculate_discounted_rewards(test_reward), test_discounted_reward, 0.001)\n",
    "    assert torch.allclose(agent.calculate_loss(test_action_prob, test_discounted_reward), torch.tensor(-32.0970), 0.001)\n",
    "\n",
    "test_pgbase20_update_1()"
   ]
  },
  {
   "cell_type": "code",
   "execution_count": 190,
   "id": "42de046f",
   "metadata": {
    "deletable": false,
    "editable": false,
    "nbgrader": {
     "cell_type": "code",
     "checksum": "bd3eaf1021b2d35e4bac9eb0a6515439",
     "grade": true,
     "grade_id": "cell-7c3853783c05c900",
     "locked": true,
     "points": 2,
     "schema_version": 3,
     "solution": false,
     "task": false
    }
   },
   "outputs": [],
   "source": [
    "%%capture --no-stdout\n",
    "\"TEST CELL\""
   ]
  },
  {
   "cell_type": "code",
   "execution_count": 191,
   "id": "a434d9ef-523c-482a-a2e8-441ac66e15e5",
   "metadata": {
    "tags": []
   },
   "outputs": [
    {
     "data": {
      "text/html": [
       "<video loop autoplay  >\n",
       " <source src=\"data:video/mp4;base64,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\" type=\"video/mp4\">\n",
       " Your browser does not support the video tag.\n",
       " </video>"
      ],
      "text/plain": [
       "<IPython.core.display.Video object>"
      ]
     },
     "metadata": {},
     "output_type": "display_data"
    }
   ],
   "source": [
    "if not skip_training:\n",
    "      video = Video(Path().cwd() / 'results' / 'InvertedPendulum-v4' / 'video' / 'test' / 'ex5-episode-0.mp4',\n",
    "      embed=True, html_attributes=\"loop autoplay\") # Set html_attributes=\"controls\" for video control\n",
    "      display(video)"
   ]
  },
  {
   "cell_type": "markdown",
   "id": "e31c7d2e",
   "metadata": {
    "tags": []
   },
   "source": [
    "<a id='T1c'></a>\n",
    "<div class=\" alert alert-warning\">\n",
    "    <h3><b>Student Task 1c.</b> REINFORCE with discounted rewards normalized to zero mean and unit variance (5 points) </h3> \n",
    "    The training performance plot might look like Figure 1c. \n",
    "    <figure style=\"text-align: center\" id=\"figure-1c\">\n",
    "        <img src=\"imgs/PGGamma.svg\" width=\"600px\">\n",
    "        <figcaption style=\"text-align: center\"> Figure 1c: REINFORCE with discounted rewards normalized to zero mean and unit variance. </figcaption>\n",
    "    </figure>\n",
    "    \n",
    "🔝 <a href='#TOC'><b>Table of Contents</b></a>\n",
    "</div>\n",
    "\n"
   ]
  },
  {
   "cell_type": "code",
   "execution_count": 192,
   "id": "d76bcc3c",
   "metadata": {
    "tags": []
   },
   "outputs": [],
   "source": [
    "class PGNormalized(PG):\n",
    "    def __init__(self, state_dim, action_dim, lr, gamma):\n",
    "        super().__init__(state_dim, action_dim, lr, gamma)\n",
    "\n",
    "    # TODO: Task 1: Implement the policy gradient\n",
    "    # Complete the following 2 functions\n",
    "    # Hints:\n",
    "    #   1. compute discounted rewards (use the discount_rewards function offered in utils.py)\n",
    "    #   2. normalize discounted rewards and compute the policy gradient loss\n",
    "    \n",
    "    # Compute discounted rewards \n",
    "    def calculate_discounted_rewards(self, rewards):\n",
    "        ########## Your code starts here. ##########\n",
    "        \n",
    "        discounted_rewards = torch.zeros_like(rewards)\n",
    "        G = 0 \n",
    "        for t in reversed(range(len(rewards))):\n",
    "            G = rewards[t] + self.gamma*G\n",
    "            discounted_rewards[t] = G\n",
    "        ########## Your code ends here. ##########\n",
    "        return discounted_rewards\n",
    "\n",
    "    # Calculate the PG loss with the Normalization\n",
    "    def calculate_loss(self, action_probs, discounted_rewards):\n",
    "        ########## Your code starts here. ##########\n",
    "        discounted_rewards = (discounted_rewards - discounted_rewards.mean()) / (discounted_rewards.std() + 1e-9)\n",
    "        loss = -torch.mean(action_probs * discounted_rewards)\n",
    "        ########## Your code ends here. ##########\n",
    "        return loss\n",
    "\n",
    "\n",
    "\n",
    "    def update(self):\n",
    "        # Prepare dataset used to update policy\n",
    "        action_probs = torch.stack(self.action_probs, dim=0).to(device).squeeze(-1) # shape: [batch_size,]\n",
    "        rewards = torch.stack(self.rewards, dim=0).to(device).squeeze(-1) # shape [batch_size,]\n",
    "        self.action_probs, self.rewards = [], [] # clean buffers\n",
    "        \n",
    "        # TODO: Task 1: Implement the policy gradient\n",
    "        \n",
    "        # Compute discounted rewards and normalize them\n",
    "        discounted_rewards = self.calculate_discounted_rewards(rewards)\n",
    "        # Calculate the PG loss\n",
    "        loss = self.calculate_loss(action_probs, discounted_rewards)\n",
    "        # Backprop gradients\n",
    "        loss.backward()\n",
    "        # Do the optimizer step\n",
    "        self.optimizer.step()\n",
    "        self.optimizer.zero_grad()    \n",
    "\n",
    "        # if you want to log something in wandb, you can put them inside the {}, otherwise, just leave it empty.\n",
    "        return {'logstd': self.policy.actor_logstd.cpu().detach().numpy()}"
   ]
  },
  {
   "cell_type": "code",
   "execution_count": 193,
   "id": "8e236519-8afb-4ec7-ba87-3181bf822576",
   "metadata": {
    "tags": []
   },
   "outputs": [
    {
     "name": "stdout",
     "output_type": "stream",
     "text": [
      "Numpy/Torch/Random Seed:  22\n",
      "{'ep': 0, 'logstd': array([0.], dtype=float32), 'timesteps': 5, 'ep_reward': 5.0, 'episodes': 0}\n",
      "{'ep': 100, 'logstd': array([0.], dtype=float32), 'timesteps': 29, 'ep_reward': 29.0, 'episodes': 100}\n",
      "{'ep': 200, 'logstd': array([0.], dtype=float32), 'timesteps': 93, 'ep_reward': 93.0, 'episodes': 200}\n",
      "{'ep': 300, 'logstd': array([0.], dtype=float32), 'timesteps': 164, 'ep_reward': 164.0, 'episodes': 300}\n",
      "{'ep': 400, 'logstd': array([0.], dtype=float32), 'timesteps': 1000, 'ep_reward': 1000.0, 'episodes': 400}\n",
      "{'ep': 500, 'logstd': array([0.], dtype=float32), 'timesteps': 1000, 'ep_reward': 1000.0, 'episodes': 500}\n",
      "{'ep': 600, 'logstd': array([0.], dtype=float32), 'timesteps': 1000, 'ep_reward': 1000.0, 'episodes': 600}\n",
      "{'ep': 700, 'logstd': array([0.], dtype=float32), 'timesteps': 1000, 'ep_reward': 1000.0, 'episodes': 700}\n",
      "{'ep': 800, 'logstd': array([0.], dtype=float32), 'timesteps': 1000, 'ep_reward': 1000.0, 'episodes': 800}\n",
      "{'ep': 900, 'logstd': array([0.], dtype=float32), 'timesteps': 1000, 'ep_reward': 1000.0, 'episodes': 900}\n"
     ]
    },
    {
     "data": {
      "image/png": "[encoded data removed]",
      "text/plain": [
       "<Figure size 450x350 with 1 Axes>"
      ]
     },
     "metadata": {},
     "output_type": "display_data"
    },
    {
     "name": "stdout",
     "output_type": "stream",
     "text": [
      "Training complete!\n"
     ]
    }
   ],
   "source": [
    "if not skip_training:\n",
    "    train(PGNormalized, cfg_path=Path().cwd() / 'cfg' / 'inverted_pendulum.yaml', cfg_args=dict(model_name=\"PGNormalized\")) # < 10 mins"
   ]
  },
  {
   "cell_type": "code",
   "execution_count": 194,
   "id": "9aab775f-bc7e-475f-ac41-7bbf0227bc1a",
   "metadata": {
    "tags": []
   },
   "outputs": [
    {
     "name": "stdout",
     "output_type": "stream",
     "text": [
      "Numpy/Torch/Random Seed:  22\n",
      "Loading model from /notebooks/rl2025/ex5/results/InvertedPendulum-v4/model/PGNormalized_params.pt ...\n",
      "Test ep_reward: 1000.0\n",
      "Test ep_reward: 1000.0\n",
      "Test ep_reward: 1000.0\n",
      "Test ep_reward: 1000.0\n",
      "Test ep_reward: 1000.0\n",
      "Median test reward: 1000.0\n"
     ]
    }
   ],
   "source": [
    "if not skip_training:\n",
    "    test(PGNormalized, cfg_path=Path().cwd() / 'cfg' / 'inverted_pendulum.yaml', cfg_args=dict(model_name=\"PGNormalized\", save_video=True, testing=True))"
   ]
  },
  {
   "cell_type": "code",
   "execution_count": null,
   "id": "fc850792",
   "metadata": {
    "deletable": false,
    "editable": false,
    "nbgrader": {
     "cell_type": "code",
     "checksum": "c2419c79f89c4ca692b669552b27e124",
     "grade": true,
     "grade_id": "cell-03e739e487933e6e",
     "locked": true,
     "points": 1,
     "schema_version": 3,
     "solution": false,
     "task": false
    }
   },
   "outputs": [],
   "source": []
  },
  {
   "cell_type": "code",
   "execution_count": 195,
   "id": "ef8fb1c0",
   "metadata": {
    "deletable": false,
    "editable": false,
    "nbgrader": {
     "cell_type": "code",
     "checksum": "106d897f0caa69b7eb88435c2b1b3043",
     "grade": true,
     "grade_id": "cell-a90ba2f2bac40f9c",
     "locked": true,
     "points": 2,
     "schema_version": 3,
     "solution": false,
     "task": false
    }
   },
   "outputs": [
    {
     "name": "stdout",
     "output_type": "stream",
     "text": [
      "Numpy/Torch/Random Seed:  43\n"
     ]
    }
   ],
   "source": [
    "%%capture --no-stdout\n",
    "\"TEST CELL\"\n",
    "def test_pgnormalized_update_1():\n",
    "    \n",
    "    agent_class = PGNormalized\n",
    "    cfg_path=Path().cwd() / 'cfg' / 'inverted_pendulum.yaml'\n",
    "    cfg_args=dict(model_name=\"PGNormalized\", seed=43)\n",
    "    env, cfg = setup(cfg_path, cfg_args=cfg_args)\n",
    "\n",
    "    state_dim = env.observation_space.shape[0]\n",
    "    action_dim = env.action_space.shape[0]\n",
    "\n",
    "    agent = agent_class(state_dim, action_dim, float(cfg.lr), float(cfg.gamma))\n",
    "\n",
    "    test_reward = torch.Tensor([1., 1., 1., 1., 1., 1., 1., 1.])\n",
    "    test_action_prob = torch.Tensor([-2.4205, -2.1635, -1.2791, -1.2655, -0.9205, -0.9366, -4.9679, -2.1623])\n",
    "    test_discounted_reward = torch.Tensor([7.7255, 6.7935, 5.8520, 4.9010, 3.9404, 2.9701, 1.9900, 1.0000])\n",
    "\n",
    "    assert torch.allclose(agent.calculate_discounted_rewards(test_reward), test_discounted_reward, 0.001)\n",
    "    assert torch.allclose(agent.calculate_loss(test_action_prob, test_discounted_reward), torch.tensor(-0.2822), 0.001)\n",
    "\n",
    "test_pgnormalized_update_1()"
   ]
  },
  {
   "cell_type": "code",
   "execution_count": 196,
   "id": "b36fae08",
   "metadata": {
    "deletable": false,
    "editable": false,
    "nbgrader": {
     "cell_type": "code",
     "checksum": "8d2fb6c9e677aa86435b3c7b06302512",
     "grade": true,
     "grade_id": "cell-a4862f110550460f",
     "locked": true,
     "points": 2,
     "schema_version": 3,
     "solution": false,
     "task": false
    }
   },
   "outputs": [],
   "source": [
    "%%capture --no-stdout\n",
    "\"TEST CELL\""
   ]
  },
  {
   "cell_type": "code",
   "execution_count": 197,
   "id": "9e3bbe30-5d8f-426d-9a76-806e6586a23b",
   "metadata": {
    "tags": []
   },
   "outputs": [
    {
     "data": {
      "text/html": [
       "<video loop autoplay  >\n",
       " <source src=\"data:video/mp4;base64,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\" type=\"video/mp4\">\n",
       " Your browser does not support the video tag.\n",
       " </video>"
      ],
      "text/plain": [
       "<IPython.core.display.Video object>"
      ]
     },
     "metadata": {},
     "output_type": "display_data"
    }
   ],
   "source": [
    "if not skip_training:\n",
    "      video = Video(Path().cwd() / 'results' / 'InvertedPendulum-v4' / 'video' / 'test' / 'ex5-episode-0.mp4',\n",
    "      embed=True, html_attributes=\"loop autoplay\") # Set html_attributes=\"controls\" for video control\n",
    "      display(video)"
   ]
  },
  {
   "cell_type": "markdown",
   "id": "f856d17c",
   "metadata": {
    "deletable": false,
    "editable": false,
    "nbgrader": {
     "cell_type": "markdown",
     "checksum": "5344618e774be27b6e56107827fe9e38",
     "grade": false,
     "grade_id": "cell-970e68431aa3a7cd",
     "locked": true,
     "schema_version": 3,
     "solution": false,
     "task": false
    },
    "tags": []
   },
   "source": [
    "<a id='Q1'></a>\n",
    "<div class=\" alert alert-warning\">\n",
    "    <h3><b>Student Question 1.1</b> A good baseline (15 points) </h3> \n",
    "\n",
    "Which of the following statements correctly describe how to choose a good baseline and why it makes training more stable? **Select 5 options.**\n",
    "            \n",
    "🔝\t<a href='#TOC'><b>Table of Contents</b></a>\n",
    "</div>"
   ]
  },
  {
   "cell_type": "markdown",
   "id": "0c46c994-d93c-4188-adef-ef82dabe437c",
   "metadata": {
    "deletable": false,
    "editable": false,
    "nbgrader": {
     "cell_type": "markdown",
     "checksum": "b1eed5810b36c7aaf8e100f5b08c77b2",
     "grade": false,
     "grade_id": "cell-cfe2a992cab77b22",
     "locked": true,
     "schema_version": 3,
     "solution": false,
     "task": false
    },
    "tags": []
   },
   "source": [
    "Options:\n",
    "\n",
    "1. A good baseline doesn't affect the expectation (doesn't introduce bias) but reduces variance of the estimated gradients. \n",
    "2. The baseline should be dependent on both the state and the action to provide the most accurate estimates.\n",
    "3. The optimal baseline can be theoretically derived, but it is too expensive to calculate in practice. \n",
    "4.  A good baseline should be a constant value to ensure consistency across all states. \n",
    "5.  The lower variance estimates lead to more stable training. \n",
    "6.  A good choice of baseline is an estimate of the state value, or the empirical mean (when doing Monte Carlo roll-outs). \n",
    "7.  The idea with both is that we increase the probability of actions that lead to higher returns than what our current estimate of the expected return is. \n",
    "8.  A proper baseline eliminates the need for exploration in reinforcement learning algorithms. \n",
    "9.  The choice of baseline has no impact on the convergence speed of the algorithm.\n"
   ]
  },
  {
   "cell_type": "code",
   "execution_count": 198,
   "id": "d71bb55e-e23e-48ee-b9d5-da004df72b27",
   "metadata": {},
   "outputs": [],
   "source": [
    "# Answer question 1.1 with appropriate option numbers\n",
    "sq1_1 = [1,3,5,6,7] "
   ]
  },
  {
   "cell_type": "markdown",
   "id": "89b0074d-e8b9-4106-9155-bcc44fafd967",
   "metadata": {},
   "source": [
    "The following cells are used for grading."
   ]
  },
  {
   "cell_type": "code",
   "execution_count": null,
   "id": "7c1438ee-92e4-4123-99ae-bd989bfe1b81",
   "metadata": {
    "deletable": false,
    "editable": false,
    "nbgrader": {
     "cell_type": "code",
     "checksum": "068bab37656d0f1f76a988a2d372cdbe",
     "grade": true,
     "grade_id": "cell-4710481b388d34ce",
     "locked": true,
     "points": 3,
     "schema_version": 3,
     "solution": false,
     "task": false
    },
    "tags": []
   },
   "outputs": [],
   "source": []
  },
  {
   "cell_type": "code",
   "execution_count": null,
   "id": "c385229f-7736-4fb2-92d4-c2c62d7ae1ac",
   "metadata": {
    "deletable": false,
    "editable": false,
    "nbgrader": {
     "cell_type": "code",
     "checksum": "5fcbf26c4ff358b5eaf69cab8b563bc5",
     "grade": true,
     "grade_id": "cell-fdd8262ca17746aa",
     "locked": true,
     "points": 3,
     "schema_version": 3,
     "solution": false,
     "task": false
    },
    "tags": []
   },
   "outputs": [],
   "source": []
  },
  {
   "cell_type": "code",
   "execution_count": null,
   "id": "431586b5-619b-43e8-9045-ad0f3f828b05",
   "metadata": {
    "deletable": false,
    "editable": false,
    "nbgrader": {
     "cell_type": "code",
     "checksum": "5c2bba5cef04af5c1c243114c256376d",
     "grade": true,
     "grade_id": "cell-a0a1d58190a1e0f1",
     "locked": true,
     "points": 3,
     "schema_version": 3,
     "solution": false,
     "task": false
    },
    "tags": []
   },
   "outputs": [],
   "source": []
  },
  {
   "cell_type": "code",
   "execution_count": null,
   "id": "6e1699f5-73ef-4eac-9a5a-17708c1d6ccd",
   "metadata": {
    "deletable": false,
    "editable": false,
    "nbgrader": {
     "cell_type": "code",
     "checksum": "c576e4932e49fe2c4cf243edd4035915",
     "grade": true,
     "grade_id": "cell-3343cc12855e6f15",
     "locked": true,
     "points": 3,
     "schema_version": 3,
     "solution": false,
     "task": false
    },
    "tags": []
   },
   "outputs": [],
   "source": []
  },
  {
   "cell_type": "code",
   "execution_count": null,
   "id": "3d789840-2b3e-4a5b-ba87-f9cc01adb538",
   "metadata": {
    "deletable": false,
    "editable": false,
    "nbgrader": {
     "cell_type": "code",
     "checksum": "1414b678f26986c875a98c0184021ba9",
     "grade": true,
     "grade_id": "cell-86090270df654ed6",
     "locked": true,
     "points": 3,
     "schema_version": 3,
     "solution": false,
     "task": false
    },
    "tags": []
   },
   "outputs": [],
   "source": []
  },
  {
   "cell_type": "markdown",
   "id": "bda4d734",
   "metadata": {},
   "source": [
    "# 3. Choosing the value of variance <a id='3.'></a>"
   ]
  },
  {
   "cell_type": "markdown",
   "id": "c34d6f9d",
   "metadata": {},
   "source": [
    "<a id='T2'></a>\n",
    "<div class=\" alert alert-warning\">\n",
    "    <h3><b>Student Task 2.</b> Making Variance a Learnable Parameter (10 points) </h3> \n",
    "\n",
    "Implement the policy’s variance as a learnable parameter of the network and update it during training. Set the initial value $\\sigma_0^2$ to 1. REINFORCE with normalized discounted returns is used for this task.\n",
    "\n",
    "**Complete the unfinished implementation in ```PolicyLearnedVar(nn.Module)``` class (marked with ```TODOs```)**. \n",
    "    \n",
    "    \n",
    "**Hint:** To make your learned variance automatically updated by the optimizer, declare your variable inside the ```__init__``` function of the model using ```torch.nn.Parameter(some_tensor)```. \n",
    "    \n",
    "🔝\t<a href='#TOC'><b>Table of Contents</b></a>\n",
    "</div>\n"
   ]
  },
  {
   "cell_type": "markdown",
   "id": "bbc8f47f",
   "metadata": {},
   "source": [
    "## 3.1 Policy with Learned Variance <a id='3.1'></a>"
   ]
  },
  {
   "cell_type": "code",
   "execution_count": 199,
   "id": "5f38d70b",
   "metadata": {
    "tags": []
   },
   "outputs": [],
   "source": [
    "# Initialisation function for neural network layers\n",
    "def layer_init(layer, std=np.sqrt(2), bias_const=0.0):\n",
    "    torch.nn.init.orthogonal_(layer.weight, std)\n",
    "    torch.nn.init.constant_(layer.bias, bias_const)\n",
    "    return layer\n",
    "\n",
    "\n",
    "# This class defines the neural network policy with learned variance\n",
    "class PolicyLearnedVar(nn.Module):\n",
    "    def __init__(self, state_dim, action_dim):\n",
    "        super(PolicyLearnedVar, self).__init__()\n",
    "\n",
    "        # Initialise a neural network with two hidden layers (64 neurons per layer)\n",
    "        self.actor_mean = nn.Sequential(\n",
    "            layer_init(nn.Linear(state_dim, 64)),\n",
    "            nn.Tanh(),\n",
    "            layer_init(nn.Linear(64, 64)),\n",
    "            nn.Tanh(),\n",
    "            layer_init(nn.Linear(64, action_dim), std=0.01),\n",
    "        )\n",
    "\n",
    "        # TODO: Task 2: Implement actor_logstd as a learnable parameter\n",
    "        # Use log of std to make sure std doesn't become negative during training\n",
    "        ########## Your code starts here. ###########    \n",
    "        self.actor_logstd = nn.Parameter(torch.zeros(action_dim, device=device))\n",
    "\n",
    "        ########## Your code ends here. ##########\n",
    "        \n",
    "    # Do a forward pass to map state to action\n",
    "    def forward(self, state):\n",
    "        # Get mean of a Normal distribution (the output of the neural network)\n",
    "        action_mean = self.actor_mean(state)\n",
    "\n",
    "        # Make sure action_logstd matches dimension of action_mean\n",
    "        action_logstd = self.actor_logstd.expand_as(action_mean)\n",
    "\n",
    "        # Exponentiate the log std to get actual std\n",
    "        action_std = torch.exp(action_logstd)\n",
    "\n",
    "        # TODO: Task 1: Create a Normal distribution with mean of 'action_mean' and standard deviation of 'action_std', and return the distribution\n",
    "        ########## Your code starts here. ###########\n",
    "        probs = torch.distributions.Normal(action_mean, action_std)\n",
    "        ########## Your code ends here. ##########\n",
    "        return probs"
   ]
  },
  {
   "cell_type": "markdown",
   "id": "cbe99408-3caa-43d6-aa52-652c9e1b88fe",
   "metadata": {},
   "source": [
    "Initialize the `PG` class to construct the neural network policy. Continue to employ the `get_action` function, as outlined in Task 1."
   ]
  },
  {
   "cell_type": "code",
   "execution_count": 200,
   "id": "304d7def-5ad3-461e-a2c6-216157833223",
   "metadata": {
    "tags": []
   },
   "outputs": [],
   "source": [
    "# Class for the Policy Gradient algorithm\n",
    "class PGLearnedVar(PGNormalized):\n",
    "    def __init__(self, state_dim, action_dim, lr, gamma):\n",
    "        super().__init__(state_dim, action_dim, lr, gamma)\n",
    "        \n",
    "        # TODO: Task 2: Define the neural network policy (self.policy) with learned variance.\n",
    "        self.policy = None\n",
    "        ########## Your code starts here. ###########  \n",
    "        self.policy = PolicyLearnedVar(state_dim, action_dim).to(device)\n",
    "        ########## Your code ends here. ##########\n",
    "\n",
    "        # Create an optimizer\n",
    "        self.optimizer = torch.optim.Adam(self.policy.parameters(), lr=lr)"
   ]
  },
  {
   "cell_type": "code",
   "execution_count": 201,
   "id": "6b7c5cac-1e2f-4224-a503-bc1e27871a09",
   "metadata": {
    "tags": []
   },
   "outputs": [
    {
     "name": "stdout",
     "output_type": "stream",
     "text": [
      "Numpy/Torch/Random Seed:  22\n",
      "{'ep': 0, 'logstd': array([-0.002], dtype=float32), 'timesteps': 8, 'ep_reward': 8.0, 'episodes': 0}\n",
      "{'ep': 100, 'logstd': array([-0.05443632], dtype=float32), 'timesteps': 81, 'ep_reward': 81.0, 'episodes': 100}\n",
      "{'ep': 200, 'logstd': array([-0.07574365], dtype=float32), 'timesteps': 195, 'ep_reward': 195.0, 'episodes': 200}\n",
      "{'ep': 300, 'logstd': array([-0.08455732], dtype=float32), 'timesteps': 1000, 'ep_reward': 1000.0, 'episodes': 300}\n",
      "{'ep': 400, 'logstd': array([-0.08298799], dtype=float32), 'timesteps': 1000, 'ep_reward': 1000.0, 'episodes': 400}\n",
      "{'ep': 500, 'logstd': array([-0.08030261], dtype=float32), 'timesteps': 1000, 'ep_reward': 1000.0, 'episodes': 500}\n",
      "{'ep': 600, 'logstd': array([-0.09319339], dtype=float32), 'timesteps': 1000, 'ep_reward': 1000.0, 'episodes': 600}\n",
      "{'ep': 700, 'logstd': array([-0.09744], dtype=float32), 'timesteps': 513, 'ep_reward': 513.0, 'episodes': 700}\n",
      "{'ep': 800, 'logstd': array([-0.1043436], dtype=float32), 'timesteps': 1000, 'ep_reward': 1000.0, 'episodes': 800}\n",
      "{'ep': 900, 'logstd': array([-0.1125869], dtype=float32), 'timesteps': 1000, 'ep_reward': 1000.0, 'episodes': 900}\n"
     ]
    },
    {
     "data": {
      "image/png": "[encoded data removed]",
      "text/plain": [
       "<Figure size 450x350 with 1 Axes>"
      ]
     },
     "metadata": {},
     "output_type": "display_data"
    },
    {
     "name": "stdout",
     "output_type": "stream",
     "text": [
      "Training complete!\n"
     ]
    }
   ],
   "source": [
    "if not skip_training:\n",
    "    train(PGLearnedVar, cfg_path=Path().cwd() / 'cfg' / 'inverted_pendulum.yaml', cfg_args=dict(model_name=\"PGLearnedVar\")) # < 10 mins"
   ]
  },
  {
   "cell_type": "code",
   "execution_count": 202,
   "id": "6b3d4bbd-9d79-4e23-a92a-d593a192a2c7",
   "metadata": {
    "tags": []
   },
   "outputs": [
    {
     "name": "stdout",
     "output_type": "stream",
     "text": [
      "Numpy/Torch/Random Seed:  22\n",
      "Loading model from /notebooks/rl2025/ex5/results/InvertedPendulum-v4/model/PGLearnedVar_params.pt ...\n",
      "Test ep_reward: 1000.0\n",
      "Test ep_reward: 1000.0\n",
      "Test ep_reward: 1000.0\n",
      "Test ep_reward: 1000.0\n",
      "Test ep_reward: 1000.0\n",
      "Median test reward: 1000.0\n"
     ]
    }
   ],
   "source": [
    "if not skip_training:\n",
    "    test(PGLearnedVar, cfg_path=Path().cwd() / 'cfg' / 'inverted_pendulum.yaml', cfg_args=dict(model_name=\"PGLearnedVar\", save_video=True, testing=True))"
   ]
  },
  {
   "cell_type": "code",
   "execution_count": null,
   "id": "1afce7ed",
   "metadata": {
    "deletable": false,
    "editable": false,
    "nbgrader": {
     "cell_type": "code",
     "checksum": "488b0594c6a0bc7114212e08886456da",
     "grade": true,
     "grade_id": "cell-b30e0b4e722242a6",
     "locked": true,
     "points": 2,
     "schema_version": 3,
     "solution": false,
     "task": false
    }
   },
   "outputs": [],
   "source": []
  },
  {
   "cell_type": "code",
   "execution_count": null,
   "id": "c765232f",
   "metadata": {
    "deletable": false,
    "editable": false,
    "nbgrader": {
     "cell_type": "code",
     "checksum": "3ab5d3ddd4f03fbc59870f78a083f9bf",
     "grade": true,
     "grade_id": "cell-cfe147d31b546e45",
     "locked": true,
     "points": 8,
     "schema_version": 3,
     "solution": false,
     "task": false
    }
   },
   "outputs": [],
   "source": []
  },
  {
   "cell_type": "code",
   "execution_count": 203,
   "id": "da748d77-46d5-4597-b2f9-d9885ca24e6a",
   "metadata": {
    "tags": []
   },
   "outputs": [
    {
     "data": {
      "text/html": [
       "<video loop autoplay  >\n",
       " <source src=\"data:video/mp4;base64,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\" type=\"video/mp4\">\n",
       " Your browser does not support the video tag.\n",
       " </video>"
      ],
      "text/plain": [
       "<IPython.core.display.Video object>"
      ]
     },
     "metadata": {},
     "output_type": "display_data"
    }
   ],
   "source": [
    "if not skip_training:\n",
    "    video = Video(Path().cwd() / 'results' / 'InvertedPendulum-v4' / 'video' / 'test' / 'ex5-episode-0.mp4',\n",
    "    embed=True, html_attributes=\"loop autoplay\") # Set html_attributes=\"controls\" for video control\n",
    "    display(video)"
   ]
  },
  {
   "cell_type": "markdown",
   "id": "6b3294a4",
   "metadata": {
    "deletable": false,
    "editable": false,
    "nbgrader": {
     "cell_type": "markdown",
     "checksum": "fab39c6fa2607a23e24d1db8c8081c5a",
     "grade": false,
     "grade_id": "cell-f5cbd8946325f4b7",
     "locked": true,
     "schema_version": 3,
     "solution": false,
     "task": false
    }
   },
   "source": [
    "<a id='Q2'></a>\n",
    "<div class=\" alert alert-warning\">\n",
    "    <h3><b>Student Question 2.1</b> Constant vs Learnable Variance (5 points) </h3> \n",
    "\n",
    "Which of the following statements accurately describe the strengths and weaknesses of using constant variance vs. learning the variance during training? **Select 5 options.**      \n",
    "🔝\t<a href='#TOC'><b>Table of Contents</b></a>\n",
    "</div>"
   ]
  },
  {
   "cell_type": "markdown",
   "id": "ebc0af92-69e2-4092-8e09-d070351e2fde",
   "metadata": {
    "deletable": false,
    "editable": false,
    "nbgrader": {
     "cell_type": "markdown",
     "checksum": "9f9b59308ffd6714780a24779a21a972",
     "grade": false,
     "grade_id": "cell-5e9bfdef15f9a0fb",
     "locked": true,
     "schema_version": 3,
     "solution": false,
     "task": false
    },
    "tags": []
   },
   "source": [
    "Options:\n",
    "\n",
    "1. Variance is directly tied to exploration, with greater variance leading to more random actions and more exploration. \n",
    "2.  Learned variance always leads to better results than constant variance. \n",
    "3.  Constant variance is a simple solution that guarantees a certain level of exploration throughout training. \n",
    "4.  If constant variance is set too low, it can result in faster convergence to the optimal policy. \n",
    "5.  If the constant variance is set too high, it can handle very challenging environments by seeing through the randomness in selected actions.\n",
    "6.  Learning the variance allows the agent to adapt its exploration needs throughout training. \n",
    "7. Constant variance makes it possible for the agent to explore more at the beginning and less as the policy improves. \n",
    "8. Learning the variance can potentially reduce variance when actions are good and increase it when actions are bad. \n",
    "9. Understanding how learned variance behaves during optimization can be challenging.\n",
    "10. Constant variance is computationally more expensive than learned variance.\n"
   ]
  },
  {
   "cell_type": "code",
   "execution_count": 210,
   "id": "43eb71f9-232a-4ab7-97e3-31972a7cb343",
   "metadata": {},
   "outputs": [],
   "source": [
    "# Answer question 2.1 with appropriate option numbers\n",
    "sq2_1 = [1,3,6,8,9] "
   ]
  },
  {
   "cell_type": "markdown",
   "id": "296320f9-3b14-4edc-b5f2-597a094e171d",
   "metadata": {
    "deletable": false,
    "editable": false,
    "nbgrader": {
     "cell_type": "markdown",
     "checksum": "d13eefd0d63d1ff18a00323cef460153",
     "grade": false,
     "grade_id": "cell-4cf801eac92a3b19",
     "locked": true,
     "schema_version": 3,
     "solution": false,
     "task": false
    },
    "tags": []
   },
   "source": [
    "The following cells are used for grading."
   ]
  },
  {
   "cell_type": "code",
   "execution_count": null,
   "id": "c2333a4c-697c-4875-9885-e63284af3f2c",
   "metadata": {
    "deletable": false,
    "editable": false,
    "nbgrader": {
     "cell_type": "code",
     "checksum": "683b1f0671b478fec843b6e7163a15ca",
     "grade": true,
     "grade_id": "cell-ae37e0b98565323f",
     "locked": true,
     "points": 1,
     "schema_version": 3,
     "solution": false,
     "task": false
    },
    "tags": []
   },
   "outputs": [],
   "source": []
  },
  {
   "cell_type": "code",
   "execution_count": null,
   "id": "2d053c6e-6e65-4aec-ae9d-45ddb4cc3f13",
   "metadata": {
    "deletable": false,
    "editable": false,
    "nbgrader": {
     "cell_type": "code",
     "checksum": "ae84c5dba0956a86e0f1a806c86e0af1",
     "grade": true,
     "grade_id": "cell-a72089ecec4f5632",
     "locked": true,
     "points": 1,
     "schema_version": 3,
     "solution": false,
     "task": false
    },
    "tags": []
   },
   "outputs": [],
   "source": []
  },
  {
   "cell_type": "code",
   "execution_count": null,
   "id": "71edfd5d-e17f-4eda-a717-9e44120af0e1",
   "metadata": {
    "deletable": false,
    "editable": false,
    "nbgrader": {
     "cell_type": "code",
     "checksum": "c189d5b475c6cced735a5314611c4f21",
     "grade": true,
     "grade_id": "cell-9e5f8847acea74a7",
     "locked": true,
     "points": 1,
     "schema_version": 3,
     "solution": false,
     "task": false
    },
    "tags": []
   },
   "outputs": [],
   "source": []
  },
  {
   "cell_type": "code",
   "execution_count": null,
   "id": "e55b5584-6503-4fdb-8114-cc405a144043",
   "metadata": {
    "deletable": false,
    "editable": false,
    "nbgrader": {
     "cell_type": "code",
     "checksum": "115d571744e4b698680e42ef44a6a9f1",
     "grade": true,
     "grade_id": "cell-2be5408389da2f22",
     "locked": true,
     "points": 1,
     "schema_version": 3,
     "solution": false,
     "task": false
    },
    "tags": []
   },
   "outputs": [],
   "source": []
  },
  {
   "cell_type": "code",
   "execution_count": null,
   "id": "be5d5f33-0196-4a05-ab15-c14611e24329",
   "metadata": {
    "deletable": false,
    "editable": false,
    "nbgrader": {
     "cell_type": "code",
     "checksum": "bff3925d27a08b1abb8436e8f9a2087a",
     "grade": true,
     "grade_id": "cell-e990636f285b1fc3",
     "locked": true,
     "points": 1,
     "schema_version": 3,
     "solution": false,
     "task": false
    },
    "tags": []
   },
   "outputs": [],
   "source": []
  },
  {
   "cell_type": "markdown",
   "id": "0f701ff9",
   "metadata": {
    "deletable": false,
    "editable": false,
    "nbgrader": {
     "cell_type": "markdown",
     "checksum": "c782d710199b9b152f240bc37bc10069",
     "grade": false,
     "grade_id": "cell-e68f1d1241b5f955",
     "locked": true,
     "schema_version": 3,
     "solution": false,
     "task": false
    }
   },
   "source": [
    "<a id='Q3'></a>\n",
    "<div class=\" alert alert-warning\">\n",
    "    <h3><b>Student Question 2.2</b> Learnable Variance Initial Performance (5 points) </h3> \n",
    "\n",
    "In the case of learned variance, what are the impacts of initialization on the training performance? **Select 4 options.**\n",
    "\n",
    "🔝\t<a href='#TOC'><b>Table of Contents</b></a>\n",
    "</div>"
   ]
  },
  {
   "cell_type": "markdown",
   "id": "80ffb191-91ed-411a-84db-cdba261fabb1",
   "metadata": {
    "deletable": false,
    "editable": false,
    "nbgrader": {
     "cell_type": "markdown",
     "checksum": "c5d5279967303ed7150ab5b034687350",
     "grade": false,
     "grade_id": "cell-0b76bf2aa4735495",
     "locked": true,
     "schema_version": 3,
     "solution": false,
     "task": false
    },
    "tags": []
   },
   "source": [
    "Options:\n",
    "    \n",
    "1. A larger initial value allows for more exploration at the beginning of training. \n",
    "2. A lower initial value tends to favor exploitation over exploration initially. \n",
    "3. The initial variance value has no impact on the final performance of the trained policy. \n",
    "4. If the initial value is too low or too high, training can be slower and may require more data. \n",
    "5. A high initial variance leads to better final performance regardless of the task. \n",
    "6. The impact of the initial variance diminishes as training progresses and the variance is learned. \n",
    "7. The optimal initial variance can be theoretically calculated for any given task. \n",
    "8. If the variance decreases too rapidly, the optimizer might become trapped in a local minimum.\n",
    "9. Changing the initial variance is equivalent to adjusting the learning rate of the optimizer. \n",
    "10. The initial variance affects only the beginning of training.\n"
   ]
  },
  {
   "cell_type": "code",
   "execution_count": 211,
   "id": "1ffebac0-8432-44a4-bfde-7b985e21fec2",
   "metadata": {},
   "outputs": [],
   "source": [
    "# Answer question 2.2 with appropriate option numbers\n",
    "sq2_2 = [1,2,4,8] "
   ]
  },
  {
   "cell_type": "markdown",
   "id": "4be1c98b-8e1a-45a0-988d-d9b386a24f39",
   "metadata": {
    "deletable": false,
    "editable": false,
    "nbgrader": {
     "cell_type": "markdown",
     "checksum": "d825ca8e2bb7a90eac70fa0a503f7cb4",
     "grade": false,
     "grade_id": "cell-76f57b4b47186121",
     "locked": true,
     "schema_version": 3,
     "solution": false,
     "task": false
    },
    "tags": []
   },
   "source": [
    "The following cells are used for grading."
   ]
  },
  {
   "cell_type": "code",
   "execution_count": null,
   "id": "52fc11d0-fd01-463d-8283-5af574797c1d",
   "metadata": {
    "deletable": false,
    "editable": false,
    "nbgrader": {
     "cell_type": "code",
     "checksum": "f38b6c0f01a00ce34763c3d48b24ca73",
     "grade": true,
     "grade_id": "cell-09b718ecfbe32325",
     "locked": true,
     "points": 1,
     "schema_version": 3,
     "solution": false,
     "task": false
    },
    "tags": []
   },
   "outputs": [],
   "source": []
  },
  {
   "cell_type": "code",
   "execution_count": null,
   "id": "2709dfb7-56be-495d-803e-852110f47093",
   "metadata": {
    "deletable": false,
    "editable": false,
    "nbgrader": {
     "cell_type": "code",
     "checksum": "2a50c0ba4f2bf587aa935a79073d06e1",
     "grade": true,
     "grade_id": "cell-763f34edc660252e",
     "locked": true,
     "points": 1,
     "schema_version": 3,
     "solution": false,
     "task": false
    },
    "tags": []
   },
   "outputs": [],
   "source": []
  },
  {
   "cell_type": "code",
   "execution_count": null,
   "id": "bff6107a-023d-461e-968d-1e17449f64d7",
   "metadata": {
    "deletable": false,
    "editable": false,
    "nbgrader": {
     "cell_type": "code",
     "checksum": "32452fdda00d718cc0baaa7fb394651e",
     "grade": true,
     "grade_id": "cell-98c29f8b68e66232",
     "locked": true,
     "points": 1,
     "schema_version": 3,
     "solution": false,
     "task": false
    },
    "tags": []
   },
   "outputs": [],
   "source": []
  },
  {
   "cell_type": "code",
   "execution_count": null,
   "id": "25bbc19b-e340-42d0-a7ee-ab05a2ad92b8",
   "metadata": {
    "deletable": false,
    "editable": false,
    "nbgrader": {
     "cell_type": "code",
     "checksum": "5785645c12767d416dc6ddfed99efa21",
     "grade": true,
     "grade_id": "cell-9c9e78138da8d51d",
     "locked": true,
     "points": 2,
     "schema_version": 3,
     "solution": false,
     "task": false
    },
    "tags": []
   },
   "outputs": [],
   "source": []
  },
  {
   "cell_type": "markdown",
   "id": "e341103b",
   "metadata": {},
   "source": [
    "# 4. PG and experience replay <a id='4.'></a>"
   ]
  },
  {
   "cell_type": "markdown",
   "id": "6112bc95",
   "metadata": {
    "deletable": false,
    "editable": false,
    "nbgrader": {
     "cell_type": "markdown",
     "checksum": "6a68688c7ef8e04344930af37d7c63f2",
     "grade": false,
     "grade_id": "cell-6cb5eeda51f1d4eb",
     "locked": true,
     "schema_version": 3,
     "solution": false,
     "task": false
    },
    "tags": []
   },
   "source": [
    "<a id='Q4'></a>\n",
    "<div class=\" alert alert-warning\">\n",
    "    <h3><b>Student Question 3.</b> Considering an experience replay buffer (15 points) </h3> \n",
    "\n",
    "Why can't the REINFORCE method implemented in this exercise be directly used with experience replay? Which steps of the algorithm would be problematic, and how could these issues potentially be resolved? **Select 4 options.**\n",
    "\n",
    "🔝\t<a href='#TOC'><b>Table of Contents</b></a>\n",
    "</div>"
   ]
  },
  {
   "cell_type": "markdown",
   "id": "ea0ea7f0-69a6-47f8-a46a-bb010300d0e1",
   "metadata": {
    "deletable": false,
    "editable": false,
    "nbgrader": {
     "cell_type": "markdown",
     "checksum": "698fb1e0819100c4f301814e570244df",
     "grade": false,
     "grade_id": "cell-adb8f569068522a3",
     "locked": true,
     "schema_version": 3,
     "solution": false,
     "task": false
    },
    "tags": []
   },
   "source": [
    "Options:\n",
    "\n",
    "1.  REINFORCE is inherently off-policy and can be directly used with experience replay without modifications. \n",
    "2.  REINFORCE is an on-policy method, making it incompatible with off-policy data from a replay buffer. \n",
    "3. The problematic step is in the policy evaluation process, as the stored rewards may not reflect the current policy's performance.\n",
    "4.  The problem can be mitigated by frequently updating the replay buffer with experiences from more recent policies.\n",
    "5.  The expectation of the gradient must be calculated over the current policy in REINFORCE. \n",
    "6.  REINFORCE requires sequential data, which is disrupted by the random sampling in experience replay. \n",
    "7.  Computing the expectation term is difficult with experiences from policies other than the current one. \n",
    "8.  There is no way to use REINFORCE with experience replay under any circumstances.\n",
    "9.  Importance sampling can be used to estimate the gradients and potentially resolve the issue. \n"
   ]
  },
  {
   "cell_type": "code",
   "execution_count": 212,
   "id": "00d2bf15-930e-4689-898b-d6a529174d21",
   "metadata": {},
   "outputs": [],
   "source": [
    "# Answer question 3 with appropriate option numbers\n",
    "sq3 = [2,5,7,9] "
   ]
  },
  {
   "cell_type": "markdown",
   "id": "5c820539-91be-40c3-9721-f3aecf0d7c71",
   "metadata": {
    "deletable": false,
    "editable": false,
    "nbgrader": {
     "cell_type": "markdown",
     "checksum": "3f9f72a20005df02b60eacdf9cd800a1",
     "grade": false,
     "grade_id": "cell-a7b8cbb0c7ee79bf",
     "locked": true,
     "schema_version": 3,
     "solution": false,
     "task": false
    },
    "tags": []
   },
   "source": [
    "The following cells are used for grading."
   ]
  },
  {
   "cell_type": "code",
   "execution_count": null,
   "id": "a395615e-0977-42fc-97b2-0067d9daf743",
   "metadata": {
    "deletable": false,
    "editable": false,
    "nbgrader": {
     "cell_type": "code",
     "checksum": "4413fbf9a4117123de48bdff40d8edb5",
     "grade": true,
     "grade_id": "cell-888f793f50035df5",
     "locked": true,
     "points": 4,
     "schema_version": 3,
     "solution": false,
     "task": false
    },
    "tags": []
   },
   "outputs": [],
   "source": []
  },
  {
   "cell_type": "code",
   "execution_count": null,
   "id": "62f6467d-1b3e-4990-8d6b-5710d8f43cd4",
   "metadata": {
    "deletable": false,
    "editable": false,
    "nbgrader": {
     "cell_type": "code",
     "checksum": "82a27507e21e239487f9dbc71b70113f",
     "grade": true,
     "grade_id": "cell-c1e5b1ebabd15135",
     "locked": true,
     "points": 4,
     "schema_version": 3,
     "solution": false,
     "task": false
    },
    "tags": []
   },
   "outputs": [],
   "source": []
  },
  {
   "cell_type": "code",
   "execution_count": null,
   "id": "7f2e6daf-15bb-44b9-8613-ad1c420f248a",
   "metadata": {
    "deletable": false,
    "editable": false,
    "nbgrader": {
     "cell_type": "code",
     "checksum": "3151594ac1e83351cd877b808e0b3c67",
     "grade": true,
     "grade_id": "cell-a4e0e03a88560f44",
     "locked": true,
     "points": 4,
     "schema_version": 3,
     "solution": false,
     "task": false
    },
    "tags": []
   },
   "outputs": [],
   "source": []
  },
  {
   "cell_type": "code",
   "execution_count": null,
   "id": "ac8de0c6-3e96-477f-a6f2-f14ba043f29d",
   "metadata": {
    "deletable": false,
    "editable": false,
    "nbgrader": {
     "cell_type": "code",
     "checksum": "fb61e4be1d3786c02d82e25aa17d5550",
     "grade": true,
     "grade_id": "cell-89819ab91b6882b0",
     "locked": true,
     "points": 3,
     "schema_version": 3,
     "solution": false,
     "task": false
    },
    "tags": []
   },
   "outputs": [],
   "source": []
  },
  {
   "cell_type": "markdown",
   "id": "a7b67d36",
   "metadata": {},
   "source": [
    "# 5. Real-world control problems <a id='5.'></a>"
   ]
  },
  {
   "cell_type": "markdown",
   "id": "3731e57a",
   "metadata": {
    "deletable": false,
    "editable": false,
    "nbgrader": {
     "cell_type": "markdown",
     "checksum": "b0ba52a4c04c3e5a61b1b086f6e08642",
     "grade": false,
     "grade_id": "cell-4cf495dce20c4b84",
     "locked": true,
     "schema_version": 3,
     "solution": false,
     "task": false
    }
   },
   "source": [
    "<a id='Q5'></a>\n",
    "<div class=\" alert alert-warning\">\n",
    "    <h3><b>Student Question 4.1</b> Considering an unbounded continuous action space part 1 (5 points) </h3> \n",
    "\n",
    "What could go wrong when a model with an **unbounded** continuous action space and a reward function like the one used here (+1 for survival) were to be used with a physical system? **Select 5 options.**\n",
    "\n",
    "\n",
    "🔝\t<a href='#TOC'><b>Table of Contents</b></a>\n",
    "</div>"
   ]
  },
  {
   "cell_type": "markdown",
   "id": "490748e0-4af6-46c7-8c1f-bd49b17b4988",
   "metadata": {
    "deletable": false,
    "editable": false,
    "nbgrader": {
     "cell_type": "markdown",
     "checksum": "55f365842c25299d768ad29135696fc7",
     "grade": false,
     "grade_id": "cell-bd5793f602cb1128",
     "locked": true,
     "schema_version": 3,
     "solution": false,
     "task": false
    },
    "tags": []
   },
   "source": [
    "Options:\n",
    "    \n",
    "1. The agent would always converge to the most energy-efficient actions to ensure long-term survival. \n",
    "2. The agent might take extreme actions that could damage the physical hardware. \n",
    "3. The simple reward function would lead to slow learning but no physical dangers. \n",
    "4.  The model would naturally avoid extreme actions due to the survival instinct encoded in the reward. \n",
    "5.  The model could apply unrealistically large inputs (e.g., voltages) to system components. \n",
    "6.  The main issue would be the computational cost of handling unlimited actions, not physical dangers.\n",
    "7.  The agent might cause damage to the surroundings of the physical system. \n",
    "8.  The unbounded action space could lead to unsafe operating conditions for the system. \n",
    "9.  The model might learn to exploit the reward function by finding unintended shortcuts to survival. \n",
    "10.  Unbounded continuous action spaces guarantee optimal performance in physical systems. \n"
   ]
  },
  {
   "cell_type": "code",
   "execution_count": 213,
   "id": "097190c7-adc7-4ffa-9acb-600981bdfe4a",
   "metadata": {},
   "outputs": [],
   "source": [
    "# Answer question 4.1 with appropriate option numbers\n",
    "sq4_1 = [2, 5, 7, 8, 9] "
   ]
  },
  {
   "cell_type": "markdown",
   "id": "d1502a88-ef13-4b1b-b258-b8f79173b5f2",
   "metadata": {
    "deletable": false,
    "editable": false,
    "nbgrader": {
     "cell_type": "markdown",
     "checksum": "638469d35f910bd89d7923f1d4d54b79",
     "grade": false,
     "grade_id": "cell-b43da332879b800b",
     "locked": true,
     "schema_version": 3,
     "solution": false,
     "task": false
    },
    "tags": []
   },
   "source": [
    "The following cells are used for grading."
   ]
  },
  {
   "cell_type": "code",
   "execution_count": null,
   "id": "db8826d1-9986-46e4-85e5-cf27196e83e3",
   "metadata": {
    "deletable": false,
    "editable": false,
    "nbgrader": {
     "cell_type": "code",
     "checksum": "546aecc1550081b14b1522050105c6bf",
     "grade": true,
     "grade_id": "cell-d5a8ec81fd0d66b1",
     "locked": true,
     "points": 1,
     "schema_version": 3,
     "solution": false,
     "task": false
    },
    "tags": []
   },
   "outputs": [],
   "source": []
  },
  {
   "cell_type": "code",
   "execution_count": null,
   "id": "e479588a-4204-4439-a472-3f42e28a074c",
   "metadata": {
    "deletable": false,
    "editable": false,
    "nbgrader": {
     "cell_type": "code",
     "checksum": "4aa68a722fdde09a0f14b1cc2beca952",
     "grade": true,
     "grade_id": "cell-dd21e01105b76141",
     "locked": true,
     "points": 1,
     "schema_version": 3,
     "solution": false,
     "task": false
    },
    "tags": []
   },
   "outputs": [],
   "source": []
  },
  {
   "cell_type": "code",
   "execution_count": null,
   "id": "d1ddda5c-62d7-4972-8499-b366c33180d9",
   "metadata": {
    "deletable": false,
    "editable": false,
    "nbgrader": {
     "cell_type": "code",
     "checksum": "86c6d11ddefd70ca91ca251f95336b79",
     "grade": true,
     "grade_id": "cell-1fcee280857bec9d",
     "locked": true,
     "points": 1,
     "schema_version": 3,
     "solution": false,
     "task": false
    },
    "tags": []
   },
   "outputs": [],
   "source": []
  },
  {
   "cell_type": "code",
   "execution_count": null,
   "id": "be07e454-ef17-49f7-9bb6-bc8cea0f33b1",
   "metadata": {
    "deletable": false,
    "editable": false,
    "nbgrader": {
     "cell_type": "code",
     "checksum": "4c33a96b244d47f6d295480d7c250f1e",
     "grade": true,
     "grade_id": "cell-8047c00c583ed0b5",
     "locked": true,
     "points": 1,
     "schema_version": 3,
     "solution": false,
     "task": false
    },
    "tags": []
   },
   "outputs": [],
   "source": []
  },
  {
   "cell_type": "code",
   "execution_count": null,
   "id": "11aa6875-27b5-4493-9bbc-947210f76997",
   "metadata": {
    "deletable": false,
    "editable": false,
    "nbgrader": {
     "cell_type": "code",
     "checksum": "3568917e141d50f586181ced3a278c15",
     "grade": true,
     "grade_id": "cell-bd91fc42a27e31c6",
     "locked": true,
     "points": 1,
     "schema_version": 3,
     "solution": false,
     "task": false
    },
    "tags": []
   },
   "outputs": [],
   "source": []
  },
  {
   "cell_type": "markdown",
   "id": "fb45baf8",
   "metadata": {
    "deletable": false,
    "editable": false,
    "nbgrader": {
     "cell_type": "markdown",
     "checksum": "67b760375ed0a6a2b94dfb07ea65d28e",
     "grade": false,
     "grade_id": "cell-7efb2faf02c622ca",
     "locked": true,
     "schema_version": 3,
     "solution": false,
     "task": false
    }
   },
   "source": [
    "<a id='Q6'></a>\n",
    "<div class=\" alert alert-warning\">\n",
    "    <h3><b>Student Question 4.2</b> Considering an unbounded continuous action space part 2 (10 points) </h3> \n",
    "\n",
    "How could the problems appearing in Question 4.1 be mitigated without putting a hard limit on the actions? **Select 3 options.**\n",
    "\n",
    "🔝\t<a href='#TOC'><b>Table of Contents</b></a>\n",
    "</div>"
   ]
  },
  {
   "cell_type": "markdown",
   "id": "0fd8de8b-0921-4e92-99a7-bf716b05d958",
   "metadata": {
    "deletable": false,
    "editable": false,
    "nbgrader": {
     "cell_type": "markdown",
     "checksum": "27fc63402758fa9596a3e25808be10f6",
     "grade": false,
     "grade_id": "cell-aa619f6370139c43",
     "locked": true,
     "schema_version": 3,
     "solution": false,
     "task": false
    },
    "tags": []
   },
   "source": [
    "Options:\n",
    "    \n",
    "1. Only need to add a cost for constraining the state-space of the system\n",
    "2. Implement a reward function with a cost on extreme actions. \n",
    "3. Increase the frequency of agent updates to react more quickly to potential dangers.\n",
    "4.  Penalize actions that lead to unsafe states in the reward function. \n",
    "5.  Train the agent for more episodes to ensure it learns to avoid dangerous actions.\n",
    "6.  Modify the reward function to encourage safer behavior. \n",
    "7.  Increase the exploration rate to ensure the agent finds safe actions more quickly.\n",
    "8. Use a larger neural network to better approximate the optimal policy.\n"
   ]
  },
  {
   "cell_type": "code",
   "execution_count": 214,
   "id": "8c7a8af1-1828-430d-8c93-b066c8c06290",
   "metadata": {},
   "outputs": [],
   "source": [
    "# Answer question 4.2 with appropriate option numbers\n",
    "sq4_2 = [2, 4, 6] "
   ]
  },
  {
   "cell_type": "markdown",
   "id": "7180cb44-e7f8-46c3-a998-82b8ca735e52",
   "metadata": {
    "deletable": false,
    "editable": false,
    "nbgrader": {
     "cell_type": "markdown",
     "checksum": "a6805e89aea5be8794bf596d54fa3a4b",
     "grade": false,
     "grade_id": "cell-3b450e8fc52b5fde",
     "locked": true,
     "schema_version": 3,
     "solution": false,
     "task": false
    },
    "tags": []
   },
   "source": [
    "The following cells are used for grading."
   ]
  },
  {
   "cell_type": "code",
   "execution_count": null,
   "id": "b91768e7-c369-4f8b-8775-05b643ca6a18",
   "metadata": {
    "deletable": false,
    "editable": false,
    "nbgrader": {
     "cell_type": "code",
     "checksum": "3652e018ac01e53271b7629acbc23b13",
     "grade": true,
     "grade_id": "cell-f9c4479f99666417",
     "locked": true,
     "points": 3,
     "schema_version": 3,
     "solution": false,
     "task": false
    },
    "tags": []
   },
   "outputs": [],
   "source": []
  },
  {
   "cell_type": "code",
   "execution_count": null,
   "id": "00ebbea3-f23d-401e-8aeb-66509850c935",
   "metadata": {
    "deletable": false,
    "editable": false,
    "nbgrader": {
     "cell_type": "code",
     "checksum": "2e999e719e7e4b1c084cb7824d3d757a",
     "grade": true,
     "grade_id": "cell-25d8dcd46c0a0aad",
     "locked": true,
     "points": 3,
     "schema_version": 3,
     "solution": false,
     "task": false
    },
    "tags": []
   },
   "outputs": [],
   "source": []
  },
  {
   "cell_type": "code",
   "execution_count": null,
   "id": "4c207fd7-f8ad-4faf-a3e6-bae40bce0ae0",
   "metadata": {
    "deletable": false,
    "editable": false,
    "nbgrader": {
     "cell_type": "code",
     "checksum": "d8f37ba4a5b559d2961d11bccb39f025",
     "grade": true,
     "grade_id": "cell-ad280a1aceb1fe48",
     "locked": true,
     "points": 4,
     "schema_version": 3,
     "solution": false,
     "task": false
    },
    "tags": []
   },
   "outputs": [],
   "source": []
  },
  {
   "cell_type": "markdown",
   "id": "0eacb159",
   "metadata": {},
   "source": [
    "# 6. Discrete action spaces <a id='6.'></a>"
   ]
  },
  {
   "cell_type": "markdown",
   "id": "078ceb81",
   "metadata": {
    "deletable": false,
    "editable": false,
    "nbgrader": {
     "cell_type": "markdown",
     "checksum": "66dcd9987ec7c4e5ebda97a81438d820",
     "grade": false,
     "grade_id": "cell-ef7074d497b36665",
     "locked": true,
     "schema_version": 3,
     "solution": false,
     "task": false
    },
    "tags": []
   },
   "source": [
    "<a id='Q7'></a>\n",
    "<div class=\" alert alert-warning\">\n",
    "    <h3><b>Student Question 5.</b> Considering discrete action spaces (10 points) </h3> \n",
    "\n",
    "Can policy gradient methods be used with discrete action spaces? If so, how would they be implemented? **Select 5 options.**\n",
    "    \n",
    "🔝\t<a href='#TOC'><b>Table of Contents</b></a>\n",
    "</div>"
   ]
  },
  {
   "cell_type": "markdown",
   "id": "c9d9c3ec-d223-452d-8a47-4f8073e3066a",
   "metadata": {
    "deletable": false,
    "editable": false,
    "nbgrader": {
     "cell_type": "markdown",
     "checksum": "26f3c4738d927b2de66b599a486ba532",
     "grade": false,
     "grade_id": "cell-7f1aac4a2b0a31e4",
     "locked": true,
     "schema_version": 3,
     "solution": false,
     "task": false
    },
    "tags": []
   },
   "source": [
    "Options:\n",
    "    \n",
    "1. Yes, policy gradient methods can be used with discrete action spaces. \n",
    "2. The gradient can still be computed and used to update the policy in discrete action spaces. \n",
    "3. Policy gradient methods are fundamentally incompatible with discrete action spaces. \n",
    "4. In discrete action spaces, the policy network would output probabilities for each action instead of means and variances. \n",
    "5. No changes to the algorithm are needed; it works identically for continuous and discrete spaces. \n",
    "6. A categorical (softmax) distribution is typically used for the policy in discrete action spaces. \n",
    "7. In discrete spaces, the policy gradient is computed using the log-probability of the chosen action. \n",
    "8. Discrete action spaces require a completely different class of algorithms and cannot use policy gradients. \n",
    "9. The main challenge is in defining a continuous approximation of the discrete action space. \n"
   ]
  },
  {
   "cell_type": "code",
   "execution_count": 215,
   "id": "97cd5abb-dd0a-43ea-b413-d2ce26fdab5d",
   "metadata": {},
   "outputs": [],
   "source": [
    "# Answer question 5 with appropriate option numbers\n",
    "sq5 = [1,2,4,6,7] "
   ]
  },
  {
   "cell_type": "markdown",
   "id": "a457fc65-a43e-4bc2-ac20-6f5304cf9dfa",
   "metadata": {
    "deletable": false,
    "editable": false,
    "nbgrader": {
     "cell_type": "markdown",
     "checksum": "dce09cff7bd5d1047689ababaef90649",
     "grade": false,
     "grade_id": "cell-93982c40108e75aa",
     "locked": true,
     "schema_version": 3,
     "solution": false,
     "task": false
    },
    "tags": []
   },
   "source": [
    "The following cells are used for grading."
   ]
  },
  {
   "cell_type": "code",
   "execution_count": null,
   "id": "eae4646c-26ee-456b-a791-ffdaf1dea484",
   "metadata": {
    "deletable": false,
    "editable": false,
    "nbgrader": {
     "cell_type": "code",
     "checksum": "ae1a9141639c916b8df9810c7041bb4b",
     "grade": true,
     "grade_id": "cell-455629eb8ff429fc",
     "locked": true,
     "points": 2,
     "schema_version": 3,
     "solution": false,
     "task": false
    },
    "tags": []
   },
   "outputs": [],
   "source": []
  },
  {
   "cell_type": "code",
   "execution_count": null,
   "id": "c15dc545-4698-489b-a49c-3413cf70a548",
   "metadata": {
    "deletable": false,
    "editable": false,
    "nbgrader": {
     "cell_type": "code",
     "checksum": "b21d5d93a5b584d204404eb34b889116",
     "grade": true,
     "grade_id": "cell-ccd64746d61c21fe",
     "locked": true,
     "points": 2,
     "schema_version": 3,
     "solution": false,
     "task": false
    },
    "tags": []
   },
   "outputs": [],
   "source": []
  },
  {
   "cell_type": "code",
   "execution_count": null,
   "id": "1aa9a214-e0c3-42c8-bba9-28898f3a9758",
   "metadata": {
    "deletable": false,
    "editable": false,
    "nbgrader": {
     "cell_type": "code",
     "checksum": "4b411904077d2218347dba63d31cc773",
     "grade": true,
     "grade_id": "cell-3b1379631af22fbe",
     "locked": true,
     "points": 2,
     "schema_version": 3,
     "solution": false,
     "task": false
    },
    "tags": []
   },
   "outputs": [],
   "source": []
  },
  {
   "cell_type": "code",
   "execution_count": null,
   "id": "00222dd3-06b1-436c-93f4-f6b60147bb2a",
   "metadata": {
    "deletable": false,
    "editable": false,
    "nbgrader": {
     "cell_type": "code",
     "checksum": "86b3c8b0c452ce715cc376a7b4172974",
     "grade": true,
     "grade_id": "cell-a58c487d6d744df5",
     "locked": true,
     "points": 2,
     "schema_version": 3,
     "solution": false,
     "task": false
    },
    "tags": []
   },
   "outputs": [],
   "source": []
  },
  {
   "cell_type": "code",
   "execution_count": null,
   "id": "82c97890-ddd1-4824-bb2b-2e5be84291f4",
   "metadata": {
    "deletable": false,
    "editable": false,
    "nbgrader": {
     "cell_type": "code",
     "checksum": "8ed761b8c0d3a85b2b576a6e3ca8296a",
     "grade": true,
     "grade_id": "cell-6f7c8a46592ca476",
     "locked": true,
     "points": 2,
     "schema_version": 3,
     "solution": false,
     "task": false
    },
    "tags": []
   },
   "outputs": [],
   "source": []
  },
  {
   "cell_type": "markdown",
   "id": "4c50da4d",
   "metadata": {
    "deletable": false,
    "editable": false,
    "nbgrader": {
     "cell_type": "markdown",
     "checksum": "9965fc6e7758f8a420963a52b936f443",
     "grade": false,
     "grade_id": "cell-8d4be4c9092a091c",
     "locked": true,
     "schema_version": 3,
     "solution": false,
     "task": false
    },
    "tags": []
   },
   "source": [
    "# 7. Submitting <a id='7.'></a>\n",
    "\n",
    "Ensure all tasks and questions in `ex5.ipynb` are thoroughly answered and that all the relevant plots are displayed correctly (there is no need to save the plots in the results folder). \n",
    "\n",
    "The training performance plots are as follows:\n",
    "\n",
    "- **Task 1a, REINFORCE without baseline**: Ensure the implementation is correct and the plot is similar to the expected plot shown in the task description. Refer to [Figure 1a](#figure-1a).\n",
    "  \n",
    "- **Task 1b, REINFORCE with constant baseline b = 20**: Properly implement the algorithm with a constant baseline and plot the training performance. Refer to [Figure 1b](#figure-1b).\n",
    "  \n",
    "- **Task 1c, REINFORCE with discounted rewards normalized to zero mean and unit variance**: Implement and plot the performance ensuring the rewards are normalized correctly. Refer to [Figure 1c](#figure-1c).\n",
    "  \n",
    "- **Task 2, REINFORCE with learned variance**: Ensure that the variance is being learned and adjusted during training, and plot the training performance.\n",
    "\n",
    "No model files need to be saved for this assignment.\n",
    "\n",
    "🔝 [Back to Table of Contents](#TOC)\n"
   ]
  },
  {
   "cell_type": "code",
   "execution_count": 170,
   "id": "ed2a8428",
   "metadata": {
    "deletable": false,
    "editable": false,
    "nbgrader": {
     "cell_type": "code",
     "checksum": "0f2a35dca22d4e6a91f7259550809999",
     "grade": true,
     "grade_id": "cell-26f0fb23212021f6",
     "locked": true,
     "points": 0,
     "schema_version": 3,
     "solution": false,
     "task": false
    }
   },
   "outputs": [
    {
     "ename": "AssertionError",
     "evalue": "",
     "output_type": "error",
     "traceback": [
      "\u001b[0;31m---------------------------------------------------------------------------\u001b[0m",
      "\u001b[0;31mAssertionError\u001b[0m                            Traceback (most recent call last)",
      "Cell \u001b[0;32mIn[170], line 2\u001b[0m\n\u001b[1;32m      1\u001b[0m \u001b[38;5;66;03m# Make sure that skip training is set to True before submission\u001b[39;00m\n\u001b[0;32m----> 2\u001b[0m \u001b[38;5;28;01massert\u001b[39;00m skip_training \u001b[38;5;241m==\u001b[39m \u001b[38;5;28;01mTrue\u001b[39;00m\n",
      "\u001b[0;31mAssertionError\u001b[0m: "
     ]
    }
   ],
   "source": [
    "# Make sure that skip training is set to True before submission\n",
    "assert skip_training == True"
   ]
  },
  {
   "cell_type": "markdown",
   "id": "ad098b5f",
   "metadata": {},
   "source": [
    "## 7.1 Feedback <a id='7.1'></a>\n",
    "\n",
    "In order to help the staff of the course as well as the forthcoming students, it would be great if you could answer to the following questions in your submission:"
   ]
  },
  {
   "cell_type": "markdown",
   "id": "5ed5c6d1-c83a-4d62-9b4f-5ed33f0f6aea",
   "metadata": {},
   "source": [
    "1) How much time did you spend solving this exercise? (change the ```hrs``` variable below to a floating point number representing the number of hours taken e.g. 5.43)\n",
    "\n"
   ]
  },
  {
   "cell_type": "code",
   "execution_count": null,
   "id": "216bc97b-e49b-4c18-8c41-1c45711b90cd",
   "metadata": {},
   "outputs": [],
   "source": [
    "hrs = None"
   ]
  },
  {
   "cell_type": "markdown",
   "id": "0d26d7a7-acc4-48db-84a8-e366ea68a709",
   "metadata": {},
   "source": [
    "2) Difficulty of each task/question from 1-5 (int or float)"
   ]
  },
  {
   "cell_type": "code",
   "execution_count": null,
   "id": "5eeb90fa-9f33-49c1-aca3-55f9a9a00d6a",
   "metadata": {},
   "outputs": [],
   "source": [
    "T1a = None   # Task 1a. basic REINFORCE without baseline (15 points)\n",
    "T1b = None   # Task 1b. REINFORCE with a constant baseline b = 20 (5 points)\n",
    "T1c = None   # Task 1c. REINFORCE with discounted rewards normalized to zero mean and unit variance (5 points)\n",
    "Q1_1 = None  # Question 1.1 A good baseline (15 points)\n",
    "T2 = None    # Task 2. Making Variance a Learnable Parameter (10 points)\n",
    "Q2_1 = None  # Question 2.1 Constant vs Learnable Variance (5 points)\n",
    "Q2_2 = None  # Question 2.2 Learnable Variance Initial Performance (5 points)\n",
    "Q3 = None    # Question 3. Considering a experience reply buffer (15 points)\n",
    "Q4_1 = None  # Question 4.1 Considering an unbounded continuous action space part 1 (5 points)\n",
    "Q4_2 = None  # Question 4.2 Considering an unbounded continuous action space part 2 (10 points)\n",
    "Q5 = None    # Question 5. Considering discrete action spaces (10 points)"
   ]
  },
  {
   "cell_type": "markdown",
   "id": "fe9387c6-00de-4414-86eb-801485a59ec7",
   "metadata": {},
   "source": [
    "3) How well did you understand the content of the task/question from 1-5? (int or float)"
   ]
  },
  {
   "cell_type": "code",
   "execution_count": null,
   "id": "d5a53120-fcf2-4dbf-b6ad-87e5aff7dee0",
   "metadata": {},
   "outputs": [],
   "source": [
    "T1a = None   # Task 1a. basic REINFORCE without baseline (15 points)\n",
    "T1b = None   # Task 1b. REINFORCE with a constant baseline b = 20 (5 points)\n",
    "T1c = None   # Task 1c. REINFORCE with discounted rewards normalized to zero mean and unit variance (5 points)\n",
    "Q1_1 = None  # Question 1.1 A good baseline (15 points)\n",
    "T2 = None    # Task 2. Making Variance a Learnable Parameter (10 points)\n",
    "Q2_1 = None  # Question 2.1 Constant vs Learnable Variance (5 points)\n",
    "Q2_2 = None  # Question 2.2 Learnable Variance Initial Performance (5 points)\n",
    "Q3 = None    # Question 3. Considering a experience reply buffer (15 points)\n",
    "Q4_1 = None  # Question 4.1 Considering an unbounded continuous action space part 1 (5 points)\n",
    "Q4_2 = None  # Question 4.2 Considering an unbounded continuous action space part 2 (10 points)\n",
    "Q5 = None    # Question 5. Considering discrete action spaces (10 points)"
   ]
  },
  {
   "cell_type": "markdown",
   "id": "7595057e-8666-486a-bd8c-788b4de828a7",
   "metadata": {},
   "source": [
    "4) General feedback. Consider questions like:\n",
    "\n",
    "    - Did the content of the lecture relate well with the assignment?\n",
    "    - To what extent did you find the material to be potentially useful for your research and studies?\n",
    "    \n",
    "And other feedback you think is worth including. Type in the box below"
   ]
  },
  {
   "cell_type": "markdown",
   "id": "33ff95b3-6a70-4270-af0d-877ee3959030",
   "metadata": {},
   "source": [
    "DOUBLE CLICK HERE TO EDIT, CLEAR THIS TEXT AND ANSWER HERE"
   ]
  },
  {
   "cell_type": "markdown",
   "id": "e3f5f8d4",
   "metadata": {
    "tags": []
   },
   "source": [
    "\n",
    "# References <a id='8.'></a>"
   ]
  }
 ],
 "metadata": {
  "kernelspec": {
   "display_name": "Python 3",
   "language": "python",
   "name": "python3"
  },
  "language_info": {
   "codemirror_mode": {
    "name": "ipython",
    "version": 3
   },
   "file_extension": ".py",
   "mimetype": "text/x-python",
   "name": "python",
   "nbconvert_exporter": "python",
   "pygments_lexer": "ipython3",
   "version": "3.10.12"
  }
 },
 "nbformat": 4,
 "nbformat_minor": 5
}
