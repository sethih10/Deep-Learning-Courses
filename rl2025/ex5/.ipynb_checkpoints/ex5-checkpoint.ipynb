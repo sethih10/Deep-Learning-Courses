{
 "cells": [
  {
   "cell_type": "markdown",
   "id": "e9b29c9b",
   "metadata": {
    "deletable": false,
    "editable": false,
    "nbgrader": {
     "cell_type": "markdown",
     "checksum": "24cdaedcd4b5dfe347328615bb32c2c1",
     "grade": false,
     "grade_id": "cell-afd59c116a3ed810",
     "locked": true,
     "schema_version": 3,
     "solution": false,
     "task": false
    }
   },
   "source": [
    "\n",
    "<div class=\"alert alert-block alert-info\">\n",
    "   <h2 align=\"center\"> <center><b> Reinforcement Learning Assignment 5 - Policy Gradient </b></center></h2>\n",
    "\n",
    "<br>\n",
    "<center><font size=\"3\">This notebook is a part of teaching material for ELEC-E8125</font></center>\n",
    "<center><font size=\"3\">Sep 4, 2024 - Nov 30, 2024</font></center>\n",
    "<center><font size=\"3\">Aalto University</font></center>\n",
    "</div>\n",
    "\n",
    "\n",
    "<a id='TOC'></a>\n",
    "\n",
    "<div class=\"alert alert-block alert-success\">\n",
    " \n",
    "# Table of contents\n",
    "* <a href='#1.'> 1. Introduction </a>\n",
    "* <a href='#1.1'> 1.1 Learning Objectives </a>\n",
    "* <a href='#1.2'> 1.2 Code Structure & Files </a>\n",
    "* <a href='#2.'> 2. Policy gradient with and without baseline</a>\n",
    "* <a href='#2.1'> 2.1 Training Loop</a>\n",
    "* <a href='#2.2'> 2.2 Policy with Fixed Variance </a>\n",
    "* <a href='#2.3'> 2.3 PG Objects</a>\n",
    "* <a href='#3.'> 3. Choosing the value of variance </a>\n",
    "* <a href='#3.1'> 3.1 Policy with Learned Variance </a>\n",
    "* <a href='#4.'> 4. PG and experience replay </a>\n",
    "* <a href='#5.'> 5. Real-world control problems </a>\n",
    "* <a href='#6.'> 6. Discrete action spaces </a>\n",
    "* <a href='#7.'> 7. Submitting </a>\n",
    "* <a href='#7.1'> 7.1 Feedback </a>\n",
    "* <a href='#8.'> References</a>\n",
    "\n",
    "<a href='#T1'><b>Student Task 1.</b> Implementing Reinforce PG algorithm </a>\\\n",
    "<a href='#T1a'><b>Student Task 1a.</b> Basic REINFORCE without baseline (15 points) </a>\\\n",
    "<a href='#T1b'><b>Student Task 1b.</b> REINFORCE with a constant baseline b = 20 (5 points) </a>\\\n",
    "<a href='#T1c'><b>Student Task 1c.</b> REINFORCE with discounted rewards normalized to zero mean and unit variance (5 points) </a>\\\n",
    "<a href='#Q1'><b>Student Question 1.1</b> A good baseline (15 points) </a>\\\n",
    "<a href='#T2'><b>Student Task 2.</b> Making Variance a Learnable Parameter (10 points) </a>\\\n",
    "<a href='#Q2'><b>Student Question 2.1</b> Constant vs Learnable Variance (5 points) </a>\\\n",
    "<a href='#Q3'><b>Student Question 2.2</b> Learnable Variance Initial Performance (5 points) </a> \\\n",
    "<a href='#Q4'><b>Student Question 3.</b> Considering a experience reply buffer (15 points)</a>\\\n",
    "<a href='#Q5'><b>Student Question 4.1</b> Considering an unbounded continuous action space part 1(5 points) </a>\\\n",
    "<a href='#Q6'><b>Student Question 4.2</b> Considering an unbounded continuous action space part 2 (10 points) </a>\\\n",
    "<a href='#Q7'><b>Student Question 5.</b> Considering discrete action spaces (10 points)</a>\n",
    "    \n",
    "**Total Points:** 100\n",
    "\n",
    "**Estimated runtime of all the cells:** 2 hours"
   ]
  },
  {
   "cell_type": "markdown",
   "id": "50c043fb",
   "metadata": {
    "deletable": false,
    "editable": false,
    "nbgrader": {
     "cell_type": "markdown",
     "checksum": "82ec0ae01bfbd06b245720b831476b14",
     "grade": false,
     "grade_id": "cell-ad52c038bf5d1c50",
     "locked": true,
     "schema_version": 3,
     "solution": false,
     "task": false
    }
   },
   "source": [
    "# 1. Introduction <a id='1.'></a>\n",
    "In this exercise, we will implement the REINFORCE policy gradient algorithm for [InvertedPendulum environment](https://gymnasium.farama.org/environments/mujoco/inverted_pendulum/). The InvertedPendulum is similar to the previously used CartPole environment, except it has a continuous action space: the action can now have values in a range of [−3,3]. The action value represents a numerical force applied to the cart, with magnitude representing the amount of force and sign representing the direction.\n",
    "\n",
    "## 1.2 Learning Objectives <a id='1.2'></a>\n",
    "- To understand how policy gradient works\n",
    "- To implement the REINFORCE policy gradient algorithm\n",
    "- To understand the limits and use cases of policy gradient\n",
    "\n",
    "## 1.3 Code Structure and Files <a id='1.3'></a>\n",
    "You don’t have to edit any other file other than ```ex5.ipynb``` to complete this exercise.\n",
    "\n",
    "```\n",
    "├───cfg                  # Config files for environments e.g. define the maximum number of steps in an episode.\n",
    "├───imgs                 # Images used in notebook\n",
    "├───results \n",
    "│   ├───logging          # Contains logged data\n",
    "│   ├───model            # Contains the policies learned\n",
    "│   └───video            # Contains videos for each environment\n",
    "│       └───InvertedPendulum-v4\n",
    "│       │  └───test      # Videos saved during testing\n",
    "│       │  └───train     # Videos saved during training\n",
    "│   ex5.ipynb            # Main assignment file containing tasks <---------\n",
    "│   setup.py             # Contains setup function\n",
    "│   utils.py             # Contains useful functions \n",
    "```\n",
    "---\n",
    "The foundational class, `PG`, stands as the base class for the Policy Gradient. Three additional classes - `PGNoBase(PG)`, `PGBase20(PG)`, and `PGGamma(PG)` - inherit from this base class. Each class corresponds to a different variant of the policy gradient:\n",
    "\n",
    "- `PGNoBase(PG)`: Implements the vanilla Policy Gradient without a baseline.\n",
    "- `PGBase20(PG)`: Utilizes a baseline of 20.\n",
    "- `PGGamma(PG)`: Employs PG gamma with discounted rewards normalized to zero mean and unit variance.\n",
    "\n",
    "# 2. Policy gradient with and without baseline <a id='2.'></a>"
   ]
  },
  {
   "cell_type": "markdown",
   "id": "298df828",
   "metadata": {
    "deletable": false,
    "editable": false,
    "nbgrader": {
     "cell_type": "markdown",
     "checksum": "8e9d507428e153788d3bffa9d165dc4e",
     "grade": false,
     "grade_id": "cell-46a132ec9dcfe4ac",
     "locked": true,
     "schema_version": 3,
     "solution": false,
     "task": false
    }
   },
   "source": [
    "## Warnings:\n",
    "\n",
    "- Don’t copy and paste cells within a notebook. This will mess up the tracking metadata and prevent autograding from working.\n",
    "- Only add new cells using the '+' button in the upper toolbar and do not split cells.\n",
    "- Be cautious about things such as copying the whole notebook to Colab to work on it. This has sometimes resulted in removing all notebook metadata, making autograding impossible."
   ]
  },
  {
   "cell_type": "markdown",
   "id": "7aabd7b5",
   "metadata": {
    "deletable": false,
    "editable": false,
    "nbgrader": {
     "cell_type": "markdown",
     "checksum": "46cf9e8cd6b3dfa2c69dcf9ebd86720f",
     "grade": false,
     "grade_id": "cell-f93aed21b4a0d27f",
     "locked": true,
     "schema_version": 3,
     "solution": false,
     "task": false
    },
    "tags": []
   },
   "source": [
    "<a id='T1'></a>\n",
    "<div class=\" alert alert-warning\">\n",
    "    <h3><b>Student Task 1.</b> Implementing Reinforce PG algorithm (25 points) </h3> \n",
    "\n",
    "Implement the REINFORCE policy gradient algorithm to balance the InvertedPendulum. \n",
    "<br> Use constant standard deviation $\\sigma = 1$ (i.e. $\\log(\\sigma) = 0$) for the output action distribution throughout the training. Implement:\n",
    "\n",
    "&nbsp;&nbsp;&nbsp;&nbsp;&nbsp;&nbsp; (a) basic REINFORCE without baseline (15 points),\n",
    "\n",
    "&nbsp;&nbsp;&nbsp;&nbsp;&nbsp;&nbsp; (b) REINFORCE with a constant baseline b = 20 (5 points),\n",
    "\n",
    "&nbsp;&nbsp;&nbsp;&nbsp;&nbsp;&nbsp; (c) REINFORCE with discounted rewards normalized to zero mean and unit variance (5 points),\n",
    "    \n",
    "**Complete the all the unfinished implementation in following cells (marked with ```TODOs```)**. \n",
    "    \n",
    "1. **Train Loop Function**: Finalize the `train_iteration(agent, env)` function to establish the training loop, similarly to how it was done in Exercise 1.\n",
    "2. **Policy Class with Fixed Variance**: Complete the `PolicyFixedVar(nn.Module)` class to generate a policy with a fixed variance.\n",
    "3. **Get Action Method**: Finish the `get_action(self, observation, evaluation=False)` method within the `PG` class, ensuring it can be inherited effectively.\n",
    "4. **Complete PG Classes**: Implepment the `PGNoBase(PG)`, `PGBase20(PG)`, and `PGGamma(PG)` classes, each tailored with a different baseline.\n",
    "\n",
    "**Hint:** The ```class PolicyFixedVar(nn.Module)```  contains a basic neural network structure. And we include reasonable\n",
    "hyperparameters in the ```cfg``` folder.\n",
    "\n",
    "**Hint:** Your policy should output a probability distribution over actions. A suitable and straightforward choice is to use a normal distribution (`from torch.distributions import Normal`). Compute log probabilities using the `log_prob` function of the distribution. We strongly recommend you to read the official PyTorch documentation to learn how to use the distributions and related functions.\n",
    "    \n",
    "🔝\t<a href='#TOC'><b>Table of Contents</b></a>\n",
    "</div>\n"
   ]
  },
  {
   "cell_type": "code",
   "execution_count": 139,
   "id": "0ca4ce4c",
   "metadata": {
    "tags": []
   },
   "outputs": [],
   "source": [
    "skip_training = False  # Set this flag to True before validation and submission"
   ]
  },
  {
   "cell_type": "code",
   "execution_count": null,
   "id": "9140b77c",
   "metadata": {
    "deletable": false,
    "editable": false,
    "nbgrader": {
     "cell_type": "code",
     "checksum": "414e47f15fa3b52031225c1d85f7c4ad",
     "grade": true,
     "grade_id": "cell-b087b63d5c88b12c",
     "locked": true,
     "points": 0,
     "schema_version": 3,
     "solution": false,
     "task": false
    }
   },
   "outputs": [],
   "source": []
  },
  {
   "cell_type": "code",
   "execution_count": 140,
   "id": "46471b1e-91d6-48bb-bb0d-f3de4be1aa79",
   "metadata": {
    "tags": []
   },
   "outputs": [],
   "source": [
    "# Importing system and path-related modules\n",
    "import sys\n",
    "import os\n",
    "sys.path.insert(0, os.path.abspath(\"..\"))\n",
    "\n",
    "# Importing PyTorch related modules\n",
    "import torch\n",
    "from torch import nn\n",
    "from torch.distributions import Normal\n",
    "import torch.nn.functional as F\n",
    "\n",
    "# Importing other third-party modules\n",
    "import numpy as np\n",
    "import yaml\n",
    "from pathlib import Path\n",
    "from IPython.display import Video  # to display videos\n",
    "\n",
    "# Importing local utility modules\n",
    "import utils as u\n",
    "from setup import setup\n",
    "\n",
    "# Setting the device for storing tensors/calculations\n",
    "device = 'cpu'"
   ]
  },
  {
   "cell_type": "markdown",
   "id": "a55e45ae",
   "metadata": {
    "tags": []
   },
   "source": [
    "## 2.1 Training Loop <a id='2.1'></a>\n",
    "\n",
    "In the subsequent cell, a foundational framework is provided for training a Reinforcement Learning (RL) agent employing the REINFORCE algorithm. It is constructed to efficiently monitor the agent's progress and performance throughout the training phase. Please complete the training loop, marked with `TODO`, to finalize the setup for the agent’s training process."
   ]
  },
  {
   "cell_type": "code",
   "execution_count": 141,
   "id": "428ff872",
   "metadata": {
    "tags": []
   },
   "outputs": [],
   "source": [
    "def to_numpy(tensor):\n",
    "    \"\"\"\n",
    "    Convert a PyTorch tensor to a NumPy array.\n",
    "\n",
    "    :param tensor: A PyTorch tensor.\n",
    "    :return: The converted NumPy array.\n",
    "    \"\"\"\n",
    "    # Squeeze the tensor, move it to CPU and convert to NumPy array\n",
    "    return tensor.squeeze(0).cpu().numpy()\n",
    "\n",
    "\n",
    "def train_iteration(agent, env):\n",
    "    # Policy training function\n",
    "\n",
    "    # Reset the environment and observe the initial state\n",
    "    reward_sum, timesteps, done = 0, 0, False\n",
    "    obs, _ = env.reset(seed=409)\n",
    "\n",
    "    while not done:\n",
    "        # TODO: Task 1: finish the train loop, including \n",
    "        # 1. Call agent.get_action to get action and log prob of the action\n",
    "        # 2. Call env.step with the action (note: you need to convert the action into a numpy array -- use the function to_numpy for this)\n",
    "        #   (Steps 1. and 2. you can also find from the 'test' function below)\n",
    "        # 3. Store the log prob of action and reward by calling agent.record\n",
    "        # 4. Update reward_sum by adding the reward received from env.step, and increase timesteps by one\n",
    "        # 5. Use the observation you receive from env.step to call agent.get_action for the next timestep \n",
    "        #   (Hint: ensure to use the `.copy()` method to avoid unexpected behavior due to aliasing.)\n",
    "\n",
    "        ########### Your code starts here ###########\n",
    "        # Get action from the agent\n",
    "        action, log_prob = agent.get_action(obs)\n",
    "\n",
    "        # Perform the action on the environment, get new state and reward\n",
    "        new_obs, reward, done, _, _ = env.step(to_numpy(action))\n",
    "        \n",
    "    \n",
    "        # Store agent's and env's outcome (so that the agent can improve its policy)\n",
    "        agent.record(log_prob, reward)\n",
    "\n",
    "        # Store total episode reward\n",
    "        reward_sum += reward\n",
    "        timesteps += 1\n",
    " \n",
    "        # update observation\n",
    "        obs = new_obs.copy()\n",
    "\n",
    "        ########## Your codes ends here. ##########\n",
    "        if timesteps >= 1000:\n",
    "            done = True\n",
    "            \n",
    "    # Update the policy after one episode\n",
    "    info = agent.update()\n",
    "\n",
    "    # Return stats of training\n",
    "    info.update({'timesteps': timesteps,\n",
    "                'ep_reward': reward_sum,})\n",
    "    return info\n",
    "\n",
    "\n",
    "def train(agent_class, cfg_path, cfg_args={}):\n",
    "    env, cfg = setup(cfg_path, cfg_args=cfg_args)\n",
    "    performance_data = []\n",
    "    \n",
    "    if cfg.save_logging: \n",
    "        u.make_dir(Path().cwd()/'results'/cfg.env_name/\"logging\")\n",
    "        L = u.Logger() # create a simple logger to record stats\n",
    "        \n",
    "    # Get state and action dimensionality\n",
    "    state_dim = env.observation_space.shape[0]\n",
    "    action_dim = env.action_space.shape[0]\n",
    "\n",
    "    # Initialise the policy gradient agent\n",
    "    agent = agent_class(state_dim, action_dim, float(cfg.lr), float(cfg.gamma))\n",
    "    \n",
    "    for ep in range(cfg.train_episodes):\n",
    "        # collect data and update the policy\n",
    "        train_info = train_iteration(agent, env)\n",
    "        train_info.update({'episodes': ep})\n",
    "\n",
    "        if cfg.save_logging:\n",
    "            L.log(**train_info)\n",
    "        if (not cfg.silent) and (ep % 100 == 0):\n",
    "            print({\"ep\": ep, **train_info})\n",
    "\n",
    "        performance_data.append(train_info)\n",
    "        \n",
    "    u.plot_training_data(performance_data)\n",
    "    if cfg.save_model:\n",
    "        agent.save(cfg.model_path)\n",
    "    \n",
    "    print(\"Training complete!\")\n",
    "    \n",
    "\n",
    "# Function to test a trained policy\n",
    "@torch.no_grad()\n",
    "def test(agent_class, cfg_path, cfg_args={}, num_episodes=5, seeds=None):\n",
    "    env, cfg = setup(cfg_path, cfg_args=cfg_args)\n",
    "    \n",
    "    # Get state and action dimensionality\n",
    "    state_dim = env.observation_space.shape[0]\n",
    "    action_dim = env.action_space.shape[0]\n",
    "\n",
    "    # Initialise the policy gradient agent\n",
    "    agent = agent_class(state_dim, action_dim, float(cfg.lr), float(cfg.gamma))\n",
    "    \n",
    "    print(\"Loading model from\", cfg.model_path, \"...\")\n",
    "    agent.load(cfg.model_path)\n",
    "        \n",
    "    test_rewards = []\n",
    "    for ep in range(num_episodes):\n",
    "\n",
    "        if seeds != None:\n",
    "            test_seed = seeds[ep % len(seeds)]\n",
    "            print(\"Episode seed: \", test_seed)\n",
    "            (obs, _)  = env.reset(seed=test_seed)\n",
    "        else :\n",
    "            (obs, _)  = env.reset()\n",
    "        done=  False\n",
    "        test_reward = 0\n",
    "        timesteps = 0\n",
    "        \n",
    "        while not done:\n",
    "            # Similar to the training loop above -\n",
    "            # get the action, act on the environment, save total reward\n",
    "            # (evaluation=True makes the agent always return what it thinks to be\n",
    "            # the best action - there is no exploration at this point)\n",
    "            action, _ = agent.get_action(obs, evaluation=True)\n",
    "\n",
    "            \n",
    "            obs, reward, done, _, info = env.step(to_numpy(action))\n",
    "            timesteps += 1\n",
    "            test_reward += reward\n",
    "            \n",
    "            if timesteps >= 1000:\n",
    "                done = True\n",
    "        test_rewards.append(test_reward)\n",
    "\n",
    "        print(\"Test ep_reward:\", test_reward)\n",
    "\n",
    "    print(\"Median test reward:\", np.median(test_rewards))"
   ]
  },
  {
   "cell_type": "markdown",
   "id": "ac054ea1",
   "metadata": {},
   "source": [
    "## 2.2 Policy with Fixed Variance <a id='2.2'></a>\n",
    "\n",
    "This code is designed to establish a neural network policy where the variance is constant. The `PolicyFixedVar` class, which is a subclass of `nn.Module`, defines this policy. The policy uses a neural network to map states to actions, outputting a normal distribution with a mean and a standard deviation. \n",
    "\n",
    "#### Task:\n",
    "1. **Implementing actor_logstd:**\n",
    "   - Initialize `self.actor_logstd` as a torch tensor with zeros, ensuring to set the `device` parameter for appropriate storage.\n",
    "\n",
    "2. **Create and Return Distribution:**\n",
    "   - In the `forward` method, create a Normal distribution (`probs`) with the computed `action_mean` and `action_std`. This distribution represents the policy’s output given a state input."
   ]
  },
  {
   "cell_type": "code",
   "execution_count": 142,
   "id": "77a5cc6b",
   "metadata": {
    "tags": []
   },
   "outputs": [],
   "source": [
    "# Initialisation function for neural network layers\n",
    "def layer_init(layer, std=np.sqrt(2), bias_const=0.0):\n",
    "    torch.nn.init.orthogonal_(layer.weight, std)\n",
    "    torch.nn.init.constant_(layer.bias, bias_const)\n",
    "    return layer\n",
    "\n",
    "\n",
    "# This class defines the neural network policy\n",
    "class PolicyFixedVar(nn.Module):\n",
    "    def __init__(self, state_dim, action_dim):\n",
    "        super(PolicyFixedVar, self).__init__()\n",
    "\n",
    "        # Initialise a neural network with two hidden layers (64 neurons per layer)\n",
    "        self.actor_mean = nn.Sequential(\n",
    "            layer_init(nn.Linear(state_dim, 64)),\n",
    "            nn.Tanh(),\n",
    "            layer_init(nn.Linear(64, 64)),\n",
    "            nn.Tanh(),\n",
    "            layer_init(nn.Linear(64, action_dim), std=0.01),\n",
    "        )\n",
    "\n",
    "        # TODO: Task 1: Implement actor_logstd as a torch tensor. \n",
    "        # Hint: when creating the torch tensor, remember to set the parameter device=device \n",
    "        #       so the tensor is stored correctly on CUDA (if applicable) \n",
    "        ########## Your code starts here. ###########\n",
    "        self.actor_logstd = nn.Parameter(torch.zeros(action_dim, device=device), requires_grad=False)\n",
    "        \n",
    "        ########## Your code ends here. ##########\n",
    "\n",
    "    # Do a forward pass to map state to action\n",
    "    def forward(self, state):\n",
    "        # Get mean of a Normal distribution (the output of the neural network)\n",
    "        action_mean = self.actor_mean(state)\n",
    "\n",
    "        # Make sure action_logstd matches dimension of action_mean\n",
    "        action_logstd = self.actor_logstd.expand_as(action_mean)\n",
    "\n",
    "        # Exponentiate the log std to get actual std\n",
    "        action_std = torch.exp(action_logstd)\n",
    "\n",
    "        # TODO: Task 1: Create a Normal distribution with mean of 'action_mean' and standard deviation of 'action_std', and return the distribution\n",
    "        # Use the torch.distributions class\n",
    "        ########## Your code starts here. ###########\n",
    "        probs = Normal(action_mean, action_std)\n",
    "        ########## Your code ends here. ##########\n",
    "        return probs"
   ]
  },
  {
   "cell_type": "code",
   "execution_count": 143,
   "id": "b677a295",
   "metadata": {
    "deletable": false,
    "editable": false,
    "nbgrader": {
     "cell_type": "code",
     "checksum": "e673d7a1cb02204c75f9b5ea389b7d84",
     "grade": true,
     "grade_id": "cell-8e7d3a4799495ca0",
     "locked": true,
     "points": 0,
     "schema_version": 3,
     "solution": false,
     "task": false
    },
    "tags": []
   },
   "outputs": [],
   "source": [
    "# Test Policy\n",
    "def test_return_class():\n",
    "    policy = PolicyFixedVar(4, 1)\n",
    "    x = torch.Tensor((1.,2.,3.,4.)).reshape((1,4))\n",
    "    assert isinstance( policy.forward(x),Normal)\n",
    "\n",
    "test_return_class()"
   ]
  },
  {
   "cell_type": "markdown",
   "id": "4de05f7e",
   "metadata": {},
   "source": [
    "## 2.3 PG Objects <a id='2.3'></a>\n",
    "\n",
    "The `PG` class is defined as the Policy Gradient base class. This class forms the foundation for implementing policy gradient algorithms, providing a structured format and placeholders for essential functions and variables used in these algorithms. The methods within this class will be used to interact with, update, and manage the policy used by the agent to make decisions in the environment.\n",
    "\n",
    "Task: Implementing the `get_action` Method."
   ]
  },
  {
   "cell_type": "code",
   "execution_count": 144,
   "id": "7e300959",
   "metadata": {
    "tags": []
   },
   "outputs": [],
   "source": [
    "# Class for the Policy Gradient algorithm\n",
    "class PG(object):\n",
    "    def __init__(self, state_dim, action_dim, lr, gamma):\n",
    "        # Define the neural network policy with fixed variance \n",
    "        self.policy = PolicyFixedVar(state_dim, action_dim).to(device)\n",
    "\n",
    "        # Create an optimizer\n",
    "        self.optimizer = torch.optim.Adam(self.policy.parameters(), lr=lr)\n",
    "\n",
    "        # Set discount factor value\n",
    "        self.gamma = gamma\n",
    "\n",
    "        # Simple buffers for action probabilities and rewards\n",
    "        self.action_probs = []\n",
    "        self.rewards = []\n",
    "\n",
    "    def update(self):\n",
    "        pass\n",
    "\n",
    "    def record(self, action_prob, reward):\n",
    "        \"\"\" Store agent's and env's outcomes to update the agent.\"\"\"\n",
    "        self.action_probs.append(action_prob)\n",
    "        self.rewards.append(torch.tensor([reward]))\n",
    "\n",
    "    def save(self, filepath):\n",
    "        torch.save(self.policy.state_dict(), filepath)\n",
    "\n",
    "    def load(self, filepath):\n",
    "        self.policy.load_state_dict(torch.load(filepath))\n",
    "    \n",
    "    def get_action(self, observation, evaluation=False):\n",
    "        \"\"\"Return action and logprob of this action.\"\"\"\n",
    "\n",
    "        # Add batch dimension if necessary\n",
    "        if observation.ndim == 1: \n",
    "            observation = observation[None]\n",
    "\n",
    "        # Convert observation to a torch tensor\n",
    "        x = torch.from_numpy(observation).float().to(device)\n",
    "\n",
    "        # TODO: Task 1: Calculate action and its log_prob\n",
    "        ########## Your code starts here. ###########\n",
    "        # Hint: \n",
    "        #   1. when evaluation=True, return mean, otherwise return samples from the distribution created in self.policy.forward() function.\n",
    "        #   2. notice the shape of action and act_logprob.\n",
    "        \n",
    "        \n",
    "        # Pass state x through the policy network (T1)\n",
    "        probs = self.policy(x)\n",
    "\n",
    "        # Return mean if evaluation, else sample from the distribution\n",
    "        if evaluation:\n",
    "            action = probs.mean\n",
    "        else:\n",
    "            action = probs.sample()\n",
    "\n",
    "        # Calculate the log probability of the action (T1)\n",
    "        act_logprob = probs.log_prob(action)\n",
    "\n",
    "        if act_logprob.ndim > 1:\n",
    "            act_logprob = act_logprob.sum(dim=-1)\n",
    "        if observation.ndim == 1: \n",
    "            act_logprob = act_logprob.view(1)\n",
    "            \n",
    "        \n",
    "        ########## Your code ends here. ##########\n",
    "        \n",
    "        if observation.ndim == 1: \n",
    "            action = action[0]\n",
    "\n",
    "        return action, act_logprob"
   ]
  },
  {
   "cell_type": "markdown",
   "id": "61981975",
   "metadata": {},
   "source": [
    "<a id='T1a'></a>\n",
    "<div class=\" alert alert-warning\">\n",
    "    <h3><b>Student Task 1a.</b> Basic REINFORCE without baseline (15 points) </h3> \n",
    "The training performance plot might look like Figure 1a. \n",
    "    <figure style=\"text-align: center\">\n",
    "    <img src=\"imgs/PGNoBase.svg\" width=\"600px\">\n",
    "    <figcaption style=\"text-align: center\"> Figure 1a: REINFORCE without baseline. </figcaption>\n",
    "    </figure>\n",
    "    \n",
    "🔝\t<a href='#TOC'><b>Table of Contents</b></a>\n",
    "</div>\n"
   ]
  },
  {
   "cell_type": "code",
   "execution_count": 145,
   "id": "e164da7c",
   "metadata": {
    "tags": []
   },
   "outputs": [],
   "source": [
    "class PGNoBase(PG):\n",
    "    def __init__(self, state_dim, action_dim, lr, gamma):\n",
    "        super().__init__(state_dim, action_dim, lr, gamma)\n",
    "\n",
    "    # TODO: Task 1: Implement the policy gradient\n",
    "    # Complete the following 2 functions\n",
    "    # Hints:\n",
    "    #   1. compute discounted rewards (use the discount_rewards function offered in common.helper)\n",
    "    #   2. compute the policy gradient loss\n",
    "    \n",
    "    # Compute discounted rewards \n",
    "    def calculate_discounted_rewards(self, rewards):\n",
    "        ########## Your code starts here. ##########\n",
    "        \n",
    "        discounted_rewards = torch.zeros_like(rewards)\n",
    "        G = 0\n",
    "        for t in reversed(range(len(rewards))):\n",
    "            G = rewards[t] + self.gamma*G\n",
    "            discounted_rewards[t] = G\n",
    "        ########## Your code ends here. ##########\n",
    "        return discounted_rewards\n",
    "\n",
    "    # Calculate the PG loss\n",
    "    def calculate_loss(self, action_probs, discounted_rewards):\n",
    "        ########## Your code starts here. ##########\n",
    "        loss = -torch.mean(action_probs * discounted_rewards)\n",
    "        ########## Your code ends here. ##########\n",
    "        return loss\n",
    "    \n",
    "    def update(self):\n",
    "        # Prepare dataset used to update policy\n",
    "        action_probs = torch.stack(self.action_probs, dim=0).to(device).squeeze(-1) # shape: [batch_size,]\n",
    "        rewards = torch.stack(self.rewards, dim=0).to(device).squeeze(-1) # shape [batch_size,]\n",
    "        self.action_probs, self.rewards = [], [] # clean buffers\n",
    "        \n",
    "        # Task 1: Implement the policy gradient\n",
    "        \n",
    "        # Compute discounted rewards \n",
    "        discounted_rewards = self.calculate_discounted_rewards(rewards)\n",
    "\n",
    "        # Calculate the PG loss\n",
    "        loss = self.calculate_loss(action_probs, discounted_rewards)\n",
    "       \n",
    "        # Backprop gradients\n",
    "        loss.backward()  \n",
    "\n",
    "        # Do the optimizer step \n",
    "        self.optimizer.step() \n",
    "        self.optimizer.zero_grad() \n",
    "\n",
    "        # if you want to log something in wandb, you can put them inside the {}, otherwise, just leave it empty.\n",
    "        return {'logstd': self.policy.actor_logstd.cpu().detach().numpy()}"
   ]
  },
  {
   "cell_type": "code",
   "execution_count": 146,
   "id": "63656ac2",
   "metadata": {
    "deletable": false,
    "editable": false,
    "nbgrader": {
     "cell_type": "code",
     "checksum": "58227601cec76e5daee3bee9f5cb8f0c",
     "grade": true,
     "grade_id": "cell-170a359e31be5be6",
     "locked": true,
     "points": 0,
     "schema_version": 3,
     "solution": false,
     "task": false
    },
    "tags": []
   },
   "outputs": [
    {
     "name": "stdout",
     "output_type": "stream",
     "text": [
      "Numpy/Torch/Random Seed:  43\n"
     ]
    }
   ],
   "source": [
    "%%capture --no-stdout\n",
    "\"TEST CELL\"\n",
    "#Test get_action method\n",
    "def test_get_action_1():\n",
    "    cfg_path=Path().cwd()/'cfg'/'inverted_pendulum.yaml'\n",
    "    env, cfg = setup(cfg_path, cfg_args={\"model_name\":\"PG\",\"seed\": 43})\n",
    "    state_dim = env.observation_space.shape[0]\n",
    "    action_dim = env.action_space.shape[0]\n",
    "    agent = PG(state_dim, action_dim, float(cfg.lr), float(cfg.gamma))\n",
    "    obs = np.array( [0.00565713,  0.00385536, -0.09085017,  0.20961052] )\n",
    "    action = -0.0009746950818225741\n",
    "    assert np.allclose(agent.get_action(obs,True)[0].item(),action,0.001)\n",
    "    \n",
    "    agent2 = PG(state_dim, 3, float(cfg.lr), float(cfg.gamma))\n",
    "    assert tuple(agent2.get_action(obs,True)[1].shape) == (1,)\n",
    "\n",
    "test_get_action_1()"
   ]
  },
  {
   "cell_type": "code",
   "execution_count": 119,
   "id": "d27e7ee9",
   "metadata": {
    "deletable": false,
    "editable": false,
    "nbgrader": {
     "cell_type": "code",
     "checksum": "5e264785d47b98f7c755dac88b8a7a3d",
     "grade": true,
     "grade_id": "cell-01beb3c8be62ffc0",
     "locked": true,
     "points": 10,
     "schema_version": 3,
     "solution": false,
     "task": false
    }
   },
   "outputs": [],
   "source": [
    "%%capture --no-stdout\n",
    "\"TEST CELL\""
   ]
  },
  {
   "cell_type": "code",
   "execution_count": 120,
   "id": "2f72fee2",
   "metadata": {
    "tags": []
   },
   "outputs": [
    {
     "name": "stdout",
     "output_type": "stream",
     "text": [
      "Numpy/Torch/Random Seed:  22\n",
      "{'ep': 0, 'logstd': array([0.], dtype=float32), 'timesteps': 5, 'ep_reward': 5.0, 'episodes': 0}\n",
      "{'ep': 100, 'logstd': array([0.], dtype=float32), 'timesteps': 6, 'ep_reward': 6.0, 'episodes': 100}\n",
      "{'ep': 200, 'logstd': array([0.], dtype=float32), 'timesteps': 5, 'ep_reward': 5.0, 'episodes': 200}\n",
      "{'ep': 300, 'logstd': array([0.], dtype=float32), 'timesteps': 59, 'ep_reward': 59.0, 'episodes': 300}\n",
      "{'ep': 400, 'logstd': array([0.], dtype=float32), 'timesteps': 54, 'ep_reward': 54.0, 'episodes': 400}\n",
      "{'ep': 500, 'logstd': array([0.], dtype=float32), 'timesteps': 59, 'ep_reward': 59.0, 'episodes': 500}\n",
      "{'ep': 600, 'logstd': array([0.], dtype=float32), 'timesteps': 55, 'ep_reward': 55.0, 'episodes': 600}\n",
      "{'ep': 700, 'logstd': array([0.], dtype=float32), 'timesteps': 114, 'ep_reward': 114.0, 'episodes': 700}\n",
      "{'ep': 800, 'logstd': array([0.], dtype=float32), 'timesteps': 175, 'ep_reward': 175.0, 'episodes': 800}\n",
      "{'ep': 900, 'logstd': array([0.], dtype=float32), 'timesteps': 220, 'ep_reward': 220.0, 'episodes': 900}\n"
     ]
    },
    {
     "data": {
      "image/png": "[encoded data removed]",
      "text/plain": [
       "<Figure size 450x350 with 1 Axes>"
      ]
     },
     "metadata": {},
     "output_type": "display_data"
    },
    {
     "name": "stdout",
     "output_type": "stream",
     "text": [
      "Training complete!\n"
     ]
    }
   ],
   "source": [
    "if not skip_training:\n",
    "    train(PGNoBase, cfg_path=Path().cwd() / 'cfg' / 'inverted_pendulum.yaml', cfg_args=dict(model_name=\"PGNoBase\")) # < 7 mins"
   ]
  },
  {
   "cell_type": "code",
   "execution_count": 121,
   "id": "09ab5a2e",
   "metadata": {
    "tags": []
   },
   "outputs": [
    {
     "name": "stdout",
     "output_type": "stream",
     "text": [
      "Numpy/Torch/Random Seed:  22\n",
      "Loading model from /notebooks/rl2025/ex5/results/InvertedPendulum-v4/model/PGNoBase_params.pt ...\n",
      "Test ep_reward: 1000.0\n",
      "Test ep_reward: 1000.0\n",
      "Test ep_reward: 1000.0\n",
      "Test ep_reward: 1000.0\n",
      "Test ep_reward: 1000.0\n",
      "Median test reward: 1000.0\n"
     ]
    }
   ],
   "source": [
    "if not skip_training:\n",
    "    test(PGNoBase, cfg_path=Path().cwd() / 'cfg' / 'inverted_pendulum.yaml', cfg_args=dict(model_name=\"PGNoBase\", save_video=True, testing=True)) "
   ]
  },
  {
   "cell_type": "code",
   "execution_count": null,
   "id": "2714f3db",
   "metadata": {
    "deletable": false,
    "editable": false,
    "nbgrader": {
     "cell_type": "code",
     "checksum": "6c2e40d8dc91bbf04c0c774bcec4807f",
     "grade": true,
     "grade_id": "cell-88ff36aa060ed0d0",
     "locked": true,
     "points": 1,
     "schema_version": 3,
     "solution": false,
     "task": false
    }
   },
   "outputs": [],
   "source": []
  },
  {
   "cell_type": "code",
   "execution_count": 122,
   "id": "e5178279",
   "metadata": {
    "deletable": false,
    "editable": false,
    "nbgrader": {
     "cell_type": "code",
     "checksum": "f1773f5d1773107777dffbcfb71019cf",
     "grade": true,
     "grade_id": "cell-9efc8886a62a7f68",
     "locked": true,
     "points": 2,
     "schema_version": 3,
     "solution": false,
     "task": false
    }
   },
   "outputs": [
    {
     "name": "stdout",
     "output_type": "stream",
     "text": [
      "Numpy/Torch/Random Seed:  43\n"
     ]
    }
   ],
   "source": [
    "%%capture --no-stdout\n",
    "\"TEST CELL\"\n",
    "def test_pgnobase_update_1():\n",
    "    agent_class = PGNoBase\n",
    "    cfg_path=Path().cwd() / 'cfg' / 'inverted_pendulum.yaml'\n",
    "    cfg_args=dict(model_name=\"PGNoBase\", seed=43)\n",
    "    env, cfg = setup(cfg_path, cfg_args=cfg_args)\n",
    "\n",
    "    state_dim = env.observation_space.shape[0]\n",
    "    action_dim = env.action_space.shape[0]\n",
    "\n",
    "    agent = agent_class(state_dim, action_dim, float(cfg.lr), float(cfg.gamma))\n",
    "\n",
    "    test_reward = torch.Tensor([1., 1., 1., 1., 1., 1., 1., 1.])\n",
    "    test_action_prob = torch.Tensor([-2.4205, -2.1635, -1.2791, -1.2655, -0.9205, -0.9366, -4.9679, -2.1623])\n",
    "    test_discounted_reward = torch.Tensor([7.7255, 6.7935, 5.8520, 4.9010, 3.9404, 2.9701, 1.9900, 1.0000])\n",
    "\n",
    "    assert torch.allclose(agent.calculate_discounted_rewards(test_reward), test_discounted_reward, 0.001)\n",
    "    assert torch.allclose(agent.calculate_loss(test_action_prob, test_discounted_reward), torch.tensor(8.1928), 0.001)\n",
    "\n",
    "test_pgnobase_update_1()"
   ]
  },
  {
   "cell_type": "code",
   "execution_count": 123,
   "id": "3a39f4ea",
   "metadata": {
    "deletable": false,
    "editable": false,
    "nbgrader": {
     "cell_type": "code",
     "checksum": "a71971cc15d36173098a756d78fa1f2e",
     "grade": true,
     "grade_id": "cell-327283bf9249663a",
     "locked": true,
     "points": 2,
     "schema_version": 3,
     "solution": false,
     "task": false
    }
   },
   "outputs": [],
   "source": [
    "%%capture --no-stdout\n",
    "\"TEST CELL\""
   ]
  },
  {
   "cell_type": "code",
   "execution_count": 124,
   "id": "8ff999fb",
   "metadata": {},
   "outputs": [
    {
     "data": {
      "text/html": [
       "<video loop autoplay  >\n",
       " <source src=\"data:None;base64,/notebooks/rl2025/ex5/results/InvertedPendulum-v4/video/test/ex5-episode-5.mp4\" type=\"None\">\n",
       " Your browser does not support the video tag.\n",
       " </video>"
      ],
      "text/plain": [
       "<IPython.core.display.Video object>"
      ]
     },
     "metadata": {},
     "output_type": "display_data"
    }
   ],
   "source": [
    "if not skip_training:\n",
    "      video = Video(Path().cwd()/'results'/'InvertedPendulum-v4'/'video'/'test'/'ex5-episode-5.mp4',\n",
    "      embed=True, html_attributes=\"loop autoplay\") # Set html_attributes=\"controls\" for video control\n",
    "      display(video)"
   ]
  },
  {
   "cell_type": "code",
   "execution_count": 125,
   "id": "e39a2410-d8ea-4e1f-b10a-e112816124e7",
   "metadata": {
    "tags": []
   },
   "outputs": [
    {
     "data": {
      "text/html": [
       "<video loop autoplay  >\n",
       " <source src=\"data:video/mp4;base64,AAAAIGZ0eXBpc29tAAACAGlzb21pc28yYXZjMW1wNDEAAAAIZnJlZQABtzdtZGF0AAACrwYF//+r3EXpvebZSLeWLNgg2SPu73gyNjQgLSBjb3JlIDE2NCByMzA5NSBiYWVlNDAwIC0gSC4yNjQvTVBFRy00IEFWQyBjb2RlYyAtIENvcHlsZWZ0IDIwMDMtMjAyMiAtIGh0dHA6Ly93d3cudmlkZW9sYW4ub3JnL3gyNjQuaHRtbCAtIG9wdGlvbnM6IGNhYmFjPTEgcmVmPTMgZGVibG9jaz0xOjA6MCBhbmFseXNlPTB4MzoweDExMyBtZT1oZXggc3VibWU9NyBwc3k9MSBwc3lfcmQ9MS4wMDowLjAwIG1peGVkX3JlZj0xIG1lX3JhbmdlPTE2IGNocm9tYV9tZT0xIHRyZWxsaXM9MSA4eDhkY3Q9MSBjcW09MCBkZWFkem9uZT0yMSwxMSBmYXN0X3Bza2lwPTEgY2hyb21hX3FwX29mZnNldD0tMiB0aHJlYWRzPTE1IGxvb2thaGVhZF90aHJlYWRzPTIgc2xpY2VkX3RocmVhZHM9MCBucj0wIGRlY2ltYXRlPTEgaW50ZXJsYWNlZD0wIGJsdXJheV9jb21wYXQ9MCBjb25zdHJhaW5lZF9pbnRyYT0wIGJmcmFtZXM9MyBiX3B5cmFtaWQ9MiBiX2FkYXB0PTEgYl9iaWFzPTAgZGlyZWN0PTEgd2VpZ2h0Yj0xIG9wZW5fZ29wPTAgd2VpZ2h0cD0yIGtleWludD0yNTAga2V5aW50X21pbj0yNSBzY2VuZWN1dD00MCBpbnRyYV9yZWZyZXNoPTAgcmNfbG9va2FoZWFkPTQwIHJjPWNyZiBtYnRyZWU9MSBjcmY9MjMuMCBxY29tcD0wLjYwIHFwbWluPTAgcXBtYXg9NjkgcXBzdGVwPTQgaXBfcmF0aW89MS40MCBhcT0xOjEuMDAAgAAABMdliIQAL//+9q78yyt0fpUuHVl7s1Hy6Ely/YgwfWgAStCgAABZA6R8FinnePAAAAMCSgAa8pPgHhfVjw6Gaj1HEMBDJoy3S/Vz6h7uassDYwiQEWZz+/UDIGS2yrUYT+W8kMSIF0dvMRAN3YZIj5nX3wH2lHbDIyh14rNB/8rqthHcmTO+1L1IZHo09zGFn6nZG53zaQhLJ8UMpQkQvqNFiYkeOY592nkZyYG64GOez6y3MuNX2hKeDJYZFr4vem7HLryBio5oUKa2SgSSBCactBMT8c+RzBaICMRaTNND0m40YXqe+eRyWwjzqwkqDXiZ2W+lgrC/upTsqXAC72H//YlyEnxsiILPXMr0V/ndSkqiBMf6dMiDpPS+K0BCywj9SSHE75VcFMrYbDsU/l+jg3/XUvcrHs7HVRmMjLkUKYvfGbBn32QuwbPcKP3Q55LSj9/JbXg5wibwpynuxhOh9Frwr4Cz7MnjRwwnk7M/rEKA/n7Rj7l+DieQmJLpEzZT2ynwxD26oEtlBinqJt0YSynk8628ngHOeHCd//r/75dY8eUxKF8blBuk0qqEtndWb4m7v6UhlxNxL4JMxtjz4iAh1kP3/L7OgEjXxTLv5U13M39ud5MPb5vaJ95dG/Ej3vRizS6aArB9Lm8MMvTujVrVBy2DGH5HwYAcNPHXAmXICy34eQC/BBcYE1lha4UmW4/HGquhdxYuVuiJaBiYxrKvs3kWdUzSlr/ZkJLHmhHrdmma73/n86vVSWt8WSx6I5Cs5YMuba6NxhBh9VOr+ZE5SjWNQVkQIDlMRKWRYbcmKPD+K4qsUNQ2/4bCP/8HOi3mik7B25dC+7zK3ySQUGMlZ56bCPyMHJeeEgbC/+xPI62HGv64zgYhEqqJ69w6mNrSXdqOSqvVoW14Qj8eYriWmZCerooK9U/IHK+V6KNVN4cimMHDIxI9bkCqBWsDeqc7Mu+VACFcvB5/J2Mu80Z6k0KY4FT+nIQ6UTorSGCsxZCzd6KlNM+yVvc97EAFUhhqP+D61cIZRsnBdTOGCf2ILirFPcjCeMo/X82avW4s087jPkAUJTTH2/wJ/fe/gq8TKZK1YZbM4d5ZK5e241qSsV2ddqGDyuiyL4FN5ECXNn05Y1sYTGyWPjWs20AXr+6a8pHIWDmgxX7INkkXm4R6s4zUfMXSWz5MmnbQtG7jb2RQd3eSNtVFSAWI6ektmPM7nRHrNPk7K+cOUeV+16jt+i/x+To6cB986IuImOi6Vj7eFthryXPZfywR6PCXjfiZMomz5NU6rBQn3Nn/UlB6A37cJHGptX0wnycM1RvkJ6pDrq9AMk1Hz4F+jITEfz8BaVm5GoNxGPCR+6I3+qIlSNU4l8y1mMMQL6+8BiwGL4JQOxz2N3wu5cswXO2Fn7cipR2LOc0jiMHWdr8yzN0Mdhlwch1wOilBDukjWSP47H5cb+fQBs0eR3EFMo0FbsCGx4GFMh8dB1onJPwO5xhah1cq5cL3zQPhVoU0Rg/PeL4Vr65qAFyk6iAA+sN1VwdoQ81IssXyiwWwGcn7n+KQE7hbOT+T9dFFyHSUGvD9AAAkQn6IO8AAAAMAAAMAAAMAAAMAAAMAAAMAAAMAAAMAAAMBOwAAALlBmiRsQv/+jLAA9AgLYdOinnk4lDrD4Xu8IcQTTFQALp40+vEZLs2vPVaq13Vfdit04mtuhS6rqNiX88aUBb3dSrBrwiuvvcIbRu9AHHKx1Ml8w1T1Fq2qrSd7Zx2hqyRiuI4ry9/Yr0RJDZeLmBNbY74KDqv2CrIbO+FaHJlocLpQrhVnMepZHkKiIAKZx+hyJxl/qRCiTZbtsoxIFI4wSXYgIFCFkY2KFhWctOuhBz1rHv6xsNMHgAAAAEdBnkJ4hf8AJbJNID/seJHAPXT/KB1uPvpttmPCb7yrbWYDpQ3jkgGQwnKN9dDQWFXZ60X64RBQAQApN4LazXzDr6F41UADUwAAADUBnmF0Qr8AM3/D/AHDObzJFGA8cuYsC665G5rXcjjwmuBI7clHZp0ee3J9VP72FfzHyggDjgAAADUBnmNqQr8AF97i9tui4bFrtp41XlaWFZMiLq3S24UvNdQABL7I5LQBmR2xIZdUTPHfGcA9IQAAANdBmmhJqEFomUwIX//+jLAA9Q27msqhb/1AAHFrAvIo5ZfUANi+TbdJhW6UdTOiisdEtaVCDrxrO1IgZMGNCTrRZid3voN8zCzdDugCYvpen7ddriPWJSAUy34whnF3k1q1JCbZI0QMzg9ZRsBf9YJSnGKxrx9LtCmOTzif9YEi6cZhSuwNzT5pWrkwTffdOQhBfCmZJUPhXoHdeNOZCdbJdpiUz4+VuJEOTJZMyu7xdnOYIniTy3yQnjUvqSFf4jy9vVFUvim01/odRLDgY9y58a/w0LF/4QAAAD9BnoZFESwv/wBOqTs9hKWLNW/e7ysRIcb7ZDTndx5HuDo+fwdoRPibL06CK3F+zdzWoQBEmtUjVRosthoAK2EAAAA1AZ6ldEK/ADOWiZGRrB7zt+9y9ZxtZuNt7S1uc8tqm2yueg2r5REWDvjuzPk5Y15Ph+AAJWEAAAA1AZ6nakK/AGwdMcUY1dH/KinQZTnJc0Wz58Jfvt8/g56mEgI8vV+0kEg1XGL6khRI/v0AGVAAAACQQZqsSahBbJlMCHf//qmWAB8xx8oINgV4AdDI93Xk1fFWgFereLao3wz3CgimO0HIkqeSnt+IC6S9IhKl3sl4pSeQwEKAT5Bi6yF0PUjG0qrH9eDdPWv79m9+FadFCxyudN/HbXch63Z+sJoo40wdW63fCsWUPtg6as+/gYYkUnG0+ImVlLtaxCYgyRpJ3EVgAAAASEGeykUVLC//AE+YdmR+rlDX9WQnJTqFK+xAzXJQBFN5VLaUwOmVB9sFZDxkR7Xk2cXwmLDeG/ExMgkxd8fYUZYBfSJhrYA2YQAAADoBnul0Qr8Aa/+xXiAa90i/3bTWLEL+2L66kUW/2GUAw8HAmyRdCkDrroUXk9cPhRS4RlAVuifbwAoIAAAAPAGe62pCvwAzjO4j8J4RJO8JDBnTtVwbLi0rcpwRhjkh6dwMAzfgqLVv5CjVUW3LYt2c+d16iwE6vAANSAAAAMtBmvBJqEFsmUwId//+qZYAIAUXjnQgGRRp50jvlFgpaJWt3w5tftqLvMD+Xnk7rMUvEfqu+HoAcyM+ImT3Hr5dxJGKrQvDg/gjinqXb2jTGulyNdQFUKDoN7BxYmY+LwPX4PNF8xQwJ2YHDTfEFiBds01BwQ7e3stb/xoiqBGhQsZ/Da8EOsyLwGpjDqVsBUQgFsVZZHrNEXHb8CjWXtz0BLZ4GVd/6uaAwJ311xwixCSu1fHn/IOmYYMBAzURDD/0KyvoKSgZZqOH6wAAAFZBnw5FFSwv/wAmuN9fvxuqGh6FdLugw66d+vLFFuC9oJhK6G5ny/HC7jb3rMWFBAjDBh2b3QJNRkjgFTdeWyXynI3WyeaxRb6od9WZHYnOGCHn4ADUgQAAAEYBny10Qr8ANNG8x7itvnbzdsYMaxoBp0vYzyogJFRoY3rOsrEmFRdHzyZyDgdh/caUNiWsQey1M7HkBBAEFx4yK8rPgIWBAAAARwGfL2pCvwA0wCmqvk0hZQhhuAgBRsgfgs6HgUDVLYLwhw2BKFc6Sd5xPUkYKmLW7V6R4lc6fkprT0B6PslqnlajN0hqgA6YAAAA3kGbNEmoQWyZTAhv//6nhABBVmp69KABnIuQ1oYQG5M5PieKr68CmEHOpaySV/yo0ONFaIQf7ecMBE04spKiGNVyFNbw3+8qBhAoOlqSJplWoXgeohqGMAyazTL3Nv2w/0DlMIbt2oB3xYT0TCkZiZFo5J0vZ0odqC95dVy4me+OVhmQWKEEoNK+il1wGznbSoWS9lmyfdc5wrHkNAxXF3VMQQRjvjaBzJSYcJr5JHNpUuH/xdKwFzS8JVY7GWyUNQP44GwqlNOacgTJ3tL1RiWxd7nktp9xIt27AtWIwAAAAFxBn1JFFSwv/wAnyaAn2ploC4m0IAjABuVDG6C8Z6p1zFfGhO0vskjKP+Knl6jtXEboXI9TkFOzmROE2Kw0HXBVhhQQN39RoVdsuxdUDefLWqK+Y24pdD3DoAAQ8QAAAEgBn3F0Qr8ANhG89nlpytNwCO0N9pC1njJdVF2foTVIeLDzUbTw+LQiC/ZExMAyef3aGqh8iKc08P4kBlzsyNZYvdrq+//TBFwAAAA/AZ9zakK/ADYMrtpLTkTkBJKU866OJ0hKsZeycuV5a/cts8jLKOXUEuVdGyFulX5y235TISCpQOZbKWqJQDpgAAABGkGbeEmoQWyZTAhv//6nhABDUvoko2infiARz6sVQstnogzQ/y6K8R+INtXa2xIcm+WLr6f4Jw6UIJstKSCDATgtqLPD+Unmwq4EkZB1IhHpxRfp5kfuVmf1asEEHf6Fu4X8kGsT18vACsea86jYSIvI+3b/y9TbmxtkpkybPVYrfXhchO7sBSJKHW81Aie5rsr/6avgni9H9MUwBOPxCfvOWj7jTxN2vKwN7YzbMw+FlNw/eaRSnjidfN6t/q2USOYGd8ngqHjNWsHllVsj6Pq6RplEpLRVYGv86g8pX5y/PMxwFFlNn10Z/iOS6H9J1IAwFa6DSj45PSrHXnv08I2CR1diPP3oJ52iQHqYuUbOC+59KRInqKAKQQAAAFBBn5ZFFSwv/wAo6aHZcMKzh2tkBj6Ki870vr5oEZquZb+1klCr7y32NTAIjuX+zUpNd15PROzcrigniLfIJuONUhg8nAA0q8LfL1SyvgCPgAAAAEMBn7V0Qr8AN1GsheoSqHAZ3yYnCNxQ1GbntgAZMdFaEjfj0/jebBL2JISP11bfLuPTqPKiY6WMR3u3JzM27uh9AAmZAAAANgGft2pCvwA3QFvDnNLBJT5YMQKRkPWd9BUuj+gK13C9rg0PeTCzBIvYpsWUzaFH1suAKAAQcQAAAQ9Bm7xJqEFsmUwIb//+p4QARVZq2D9EGJxikADS5v7Czmx46TyCL2CR5wqtKU1AoTfu9KGuWrQ1F7A2U5laQNMfPZ6mqiXQyJlxwC8NsDpc32tVlHaW+ea0DqyrLyAXSop6yoxnfeLAVDyzkEW/k8SZ6x54hDonLj4MucSoYRfcVAGN9gj4TKZEwCi6f+ULOexplXg9Nf2ziLAtj5dpr2032hcqHZq1HNAZqfx1kKAaMPYWETqw2qcD3wZb/9g7jX/k0MbNz6JzNMM7+m/Y/uyApvftsjcdMJ2Qr4n/CMzI2Sl3gZ3VmSgx0JpPfYqC87eMMQSsm6SCvssIZ6NrBC3AmDBLa6Zl/03MO0y/ZDB8AAAAVUGf2kUVLC//ACoJnqfayOLXQsETizWstehlyFGIJl97Nwf1bykQK7GTpsT1d/eLnY2bQAMrAJzkkDJ+u7YbM3sH+Lvk7s4EP75D7n45xikfP+4ADrkAAABFAZ/5dEK/ADitLc1qNJtZneooXAUspQ4YlCuS1OTQrac5XudUAfqfSceNrGMVvh1MGSGv73QuWVJ/OOJ8moxWVaUh0AIuAAAAPQGf+2pCvwA4qrLaTCEetI6xYCCMyU/5V2nRCuTpWjQkVJd8E8xa924nyKFjUh0NIc88TaQ6nguuh2sALuEAAAEYQZvgSahBbJlMCF///oywARgHHXhZgAkl9yG6jK0w2KoCdP6V2lrQckLtNDLy/a2omnkuO7LqRVjkBYRSwr0tA0a5qJ1DxqPWAgmMk5yl2xHWKp2JY3W4gxF16AxE+3wq0QN8guSAwPMTPQAH6MdsdqmNH7ORebWj/5qGlsEcP48nfg/wlNPrHuTtamHO57/mPTeQU1i6wTALVDX17jXzzYG8iEVMwtHYdEmPwPoD9F/+McEoBunqrr2ta58l6H0Pp6wQAaYUWhZpsW+lGv25jkJmNpWczX/cf4NnChi4sol9bnqPjPu4Tcxvjn2sYAcwH0ROo1BSAUqIWslke8cFnQb+6j/2U7j+Ai16VXUb3ENM/PlSMv/koQAAAF5Bnh5FFSwv/wAsU7ufr/o2cnKo7nB3XVx1O8nR8P3qH5oEEj6wCJ9UioTQRQ8eG7iUE6ZokBzjeo6Ut+5SjmUncl6uHak7PkO2BM3lPVriIt2G4dkxPgyAM02gANSAAAAASQGePXRCvwA5+bfXM5EHRUwyT0dosj3SpL4HjN0MxFCOBJM+e3STAJMz3IGf4n8Hq9B5fhbjncZBZJkSjbi2iLxsAGNdVYWQBUwAAABAAZ4/akK/ADtsipzzCchaI3cGS8GRn2uvUZ/L/xMaR3OMwBcXWnqk36bYKgzN131ma+CKSVZyDbb/n4Yf9ugBCwAAAOJBmiRJqEFsmUwIb//+p4QASVL3SiQATmNPRaXBENPK6T+ilW5adQisCGqZbq9/t6b2hTr485PzTXhryJfVmmq66zDMry6TdCGm2jfLsked3uhOsA+9jbQz+ruCP8hFz4Sh8bgKSMA5/Eaw8vXcjD6AS8jalY2/GyUAs6rxCd1QAn2wuV2fdP5eTY2nL88gCUlPJzIveQetoyqjJHxgpdQNuJt3Fg/A8AqY+UR6jGbYDDmurfnAxapLLFjEUv2sNiViuAy9omaWgMQiZmc516+HWJQP1Zi2SJ08I9/jpb64YqUIAAAATkGeQkUVLC//ACxJcJzoapOx5pLSOag/t+vYEhBHcJuNiKFURuR8Ccj9JungAlCCQt7JaFjUyQ6C7Hjv/njvxY4KJSlwDZ0vFeToKwAPmQAAAEsBnmF0Qr8AO1mKzILVE+B30I0gpQNusn7ApgndmKjgsFifiGlLp5QAu/BhEXAQDhP6VZdftjRBaGqBYnhEGdhSucHNYQZ1dCwAOOAAAAA4AZ5jakK/ADtcCLqgbD6UckDUtAF5bWzW14psyfEsfhHKbVF5d/oYr5MFjoIvAD+NjrE6Gi8YC2kAAACnQZpoSahBbJlMCF///oywASAFgB3YD++op3H+cx0eVhrcDa76nUgE9LpqLG6rtXTm0hd3WnsGPC09L5I/1XCSsayjcWWcz0vV2fGSvIKlZWD8mIeVVnOKTtw4W40wa6TmkYeE+GiwWpkEPtsvUmDfk6olY8N5vnPiKzp8etDgM/jzFcLWUTO4ZkfOF6jUFEHd2hQxndFddgfv6y+naklwWlaikIwAIeEAAABGQZ6GRRUsL/8ALEnYU2jzptYdghXmnaCIiTtRyOjsp/FN9ANDS0nUJgm2HIYHe6YpUnJKze8tySnJOKZMvVGJhk0IZ5ADAwAAADcBnqV0Qr8AO1piMejD2uuOevCdaDlaAnqbLa8kdiZ1xiBZBYtx2ogCIxCoY2bucySnqT4pQCThAAAALQGep2pCvwA7Xw/pqUjxbCIkIkXnVB9+7w9vGP1/Ehu5Qe1yrdElggpz+AB0wAAAAMpBmqxJqEFsmUwIX//+jLABF8lmx0PbARzE6I7LgFRyufKFk8NreLWHgO1BUeGIIL0dRB5sdsz35n8ooi18H1NlUBD782TKRftT3mp+C8vReOs0DSW1h4G2oj01Go6n/nUpIvt7WUoNfnU7slArhOvwfGXCEy76mUF/lMmEnm9X4LOJm+ilL70xvUoTHx9w/XU0LFxzFNiDwmFMk6/ff82WAP9AvlZ1XnzA/4RMgV+l9EustsCJI7/H3D0TYceJV+MHfGbDEekjZDkQAAAATUGeykUVLC//AC1cVWjQerQJe49u7/1WKaogEcTHdSFvF51Crw7KZyjqb/ayH72heYJfpsKcXs/K5YsIERNzgZgM0VxDBVHIn0K5AELBAAAAMgGe6XRCvwA7XAixPlddKCoSWxFERu1XMZxDSUIJbS1j1fX5TijwCIe878gExj4jgAtoAAAAPgGe62pCvwA8wEatyXiL2dwgxxsD6se7JLKIgWLhGYSSITHDmfcJ/hq9iFfIePvWZ8GgM5KYqCDiai8kgDPgAAAA9UGa8EmoQWyZTAhf//6MsAEgQjLG0LBASOrKQ26t2Uhr0aUUt01VDK9pSm92Uqk90ajTs17E/H9ex3ruSiDm7MXpDAK48PkQueGVRGFrZxFsUEAzh//BzzBikWwY3GAbjVwjWOc/aoQZj9+kKaOskbaeIlIADMH5fj+JEB/cA43Q200VJPd+XLmgVvaRTmP+WMCsg5AWnlCQ9ux1EOk5e0hz13RV6jZwvltshytqx/G5GCNIO1O889WTdrUCp7XKHjJBkkmjQsaWw1BOccGLUPEq/+OCJgG+mP3ply6nUVFQQraIC06MTzzfyfjogHNFgGCgyYjzAAAAW0GfDkUVLC//ACxJ4/9xnC7VzIVcTZ4Iocdy5kE61JdF5pz/ckFC4G9ur7nvoK/e93hnekNzaT+NjyrgZD2erNqnV5gr0iVUMDyeGIqI1IYu73wkIeMzjbIAF3EAAABBAZ8tdEK/ADtPWdSdMITQsALS9TI7OfK7B2/8aGnvijDAE1Bfi/5n/lbhn7dTyYlcclI2nGr12jPH36LHSfGgA5cAAABCAZ8vakK/ADtD3lCYp4DZ2pmjy3gajUWRPxDGgxtjeOihIbtMPrWPWodPS7my4IBs3G04bjKCc16pXuU3KnKL8AyoAAAA/kGbNEmoQWyZTAhf//6MsAEgUTwbKgM078Q2OIHZ/CUqI4gcVj7l32e3Pc08R4/worbR5GSOeS+iZKF65+Iz0Sh38BYl1AsgY48eEWMSJtiOkOmGAJZNAfW8VdqMFcwv/ujOzf1otQe0cXs2kPeRBrx8a9NphHFNMAhYcypiXikCXA3uMoHALgXCMP09mFrWxpa0EWJeaDBeJzPKOiUmkjyGSGT9CZyYCFdNC3Nq7WAWLHQ42gHrPit0LN7xzo9hb5/atvqFO1kJIp7lGhAbh8KuY/crkm20tHimXQd9MlNH4CFKrZ9c/1ZznosgGTpt7uF/al6TXB5hUcID01aAAAAAUkGfUkUVLC//ACxKAFKwSrGumcXulvmSv5JsmK/aF8+dNyr8NtngANiM124tRUr4vLgWpW7IeKEqi3ZKnbWRQhRD7sWhs8aRHrOQWS0eMuNACDkAAABIAZ9xdEK/ADtkuTh5Odtc4AMCLsBxDVUtYPd6agb+5mLdGhAHcK17J7I022Rn8F1V3FxGAADFFHBz5oA8Bhg4dYAVS9BQACLgAAAAPwGfc2pCvwA7XfSGadobpn757QGiXhMrX+C7sHJWejGJRFgU0i5/u4V1SBiDA9GxSPCcl6f81mvd2+CVmADKgAAAALpBm3hJqEFsmUwIX//+jLABIAqmW62tnTVV/UwgAS3bZDF36BrfN4MOH9Qc3ZrlYkAkWaF+i4RX+QWSi2B9/jK7jj225fcIYQ7szQr9//vZuRRY0PpMQJDILUBqnEKUoUfRdA7HJWnSk2cBdRqeq1QVI5aTKXfb7rYz5+lQgnfnGb7o4QX1O5gripsOgQy3ChmKjG4K3drYKKPbz6++4V7MkdicmGBv1kCpj/CCdVU6+xnsjk4Wv0slBkEAAABQQZ+WRRUsL/8ALE8CV67xiFtxnlFj0cZcznPEaDul1UUWh3Qw+LxrSHE3pZ8wvBXxOn+q18c0KbLgN6IMu2z6+Fv9Rd53nStvLmoFvAAADUgAAABCAZ+1dEK/ADtvtPbTZkkbt1ePeo9e0BddLVmabLz3i5yJHeTURWIoPYvsO4nsHCcnZEVhidYzm8Swp2II9CWgAG9BAAAAKgGft2pCvwAcVlQboqHXcfeu8B6KKYSUsmL3msRanNQvqAIN1m7NpgAIOQAAAJVBm7xJqEFsmUwIX//+jLABIFFtCcUj4agAdF5+JbZuVSfITXLJuJxIYLlIzeyZRJoAy6jUH3IssCGBkKTEBGPcvjlROtbg5bpZYzURgj3waCFcd60kvbWh5ab/G9AnrSBbwh96kCPsj2469LcByvXn3PYS0fGgt409+DndEMDPy0OnP3+e8cE7Gr0IDi3TCYDky9NXaAAAAE1Bn9pFFSwv/wAsSRJ+EAMorraMj8NM7ECrCUmOyyNLfhbT/Gp2y9K0MZySWbBcVgpLpb0Uinz4AGVs/6S1Swc9QjAEoHcxl80aKgAFbQAAADQBn/l0Qr8AO1tMbE+6qAs451+fvnsMAvMHOEi/JRoWY24UXq1kwWzHOxxq97rEJGvkAAGzAAAAPgGf+2pCvwA7XZWqhfTlfWqlVW/WDV3fz7s+w702dXHwxgQISkGGleAywuk2Dvb4aR5BEQ7Tj7WRSPq8AAlZAAAAqkGb4EmoQWyZTAhv//6nhABLR6Ynt/JYQgBtV3TA7cgRJL8ZpokiZKgAKU+QhYmFCEw/86seXbK9xj2eDaut5EKgtrqR8xfx6KSiTk+OSlUj5i6jepf+CGE+WR8xOxpi+oHk0kFTbMQ4HZRYfj7CxAYl2jTeiDFs7xC87QxO12c+pmyOh9sykjx0MJqko0OKwlO+5XCoX/9RKeDZ5gIukYyhBPYyvTBy5+DjAAAAUUGeHkUVLC//AC1zu5Hv8MS1J/xRwUK+HPdGo2U9lCymNjmxNomrtXOILKeWReZvwWzm4DqOLUAtSROS9E4b9+ctwoihsDxGKAtoo5L/puwBEwAAADwBnj10Qr8AO1olc2iVaI51Tbo9RJNUwMEsvp/XgfoCXffaFcgyr2pvCrZMI0IEhgIgwsmY6Czd2kEAI2AAAABHAZ4/akK/ADzGdZgyM9bbfN4ST7cHOHkomQA8Ed4kSmLvBiQEx7Fy4FUqngl9Nw95hGoAW1DBusigfLzzLTDqlX53OVAAJuEAAADNQZokSahBbJlMCG///qeEAEtHvKYlazGCoeoXIOHJu+OChZMGSSJSIleBSGwXf5aJWoX4Rju00Q+meWKDurFet5zBsChv/vuuwgKJRMDMeuy9W1V9Sr20WvrR9/lOM+djumrXS+aSqQs5QXiEGop7kAHLXkzGhry0u0AEdgSerbUJYvSMt35h6yfF3RtqRzORAH1JXWr4NhMhvCSyVknGdZPawP33yx+BKg8YcFN1dTVbJozhm9d1QHR67Zj0Qu9lh/kRenno2ML/c1FZsgAAAFtBnkJFFSwv/wAtaYWc8pnHp1anNtkWBzrVIVaMEUeNzoQcAAk7Ou7i3Zt/Op8KSOfdjClHmCaKBqcx1GxKVt592KY6w9+a0LPl8vWkXrSu+sENHgoDi/GcQAnZAAAARAGeYXRCvwA8zNEgt3EtjOeJKOr1cgc6M1rsjqEmglIPuaqDmcfn4iUqsaQqm+ezzmxjcosKRTxhfrC1DTywVrKAAB6QAAAAQAGeY2pCvwA8vDk96URak6M5J32u0Fco9ic2pvVAdrKCKctbnbhjzB5tclhBvxGQLk42iiNVL1MMe/+KOru8A7sAAADYQZpoSahBbJlMCGf//p4QAS0QvOAs55yjr04WMMZKEBI1eyGzrG5Y9izyRxaOA35bNu+8C+CFU4vqVVOp0FKb3YNFHLVqT3KZnARybZi8yfRb7kN+yF7TMD5k4aJdYhPqKoNhWEjXzoIzFWh0yPqEt1jcgoqU7QoIVdWkIkx4AqSAU6Xv9a+Y4/aJ9++/YkddR/CawQ+RtU0dp8D1eLeMX2VjFECQ9zPEgdO5HoXwGzmw2oYNC5k+n1hVtnrjkwzHiWjJe/fGC6d6KwhNAP9BCAf/gmkr2E6BAAAAS0GehkUVLC//AC6SoIxIJRRMx3Ni+qjKJreSwJPApdvLoAkRyar5Tmm0q/kcOsKX6gu3Qs1R/lX0rUUh9tT21VzuBpQ6HCQ5sAA2YQAAAEsBnqV0Qr8APizhZUZoFqd6is5O8srp/j+D7xup1DRVnmXyPGAFZg962AqKzJKr+YTDYMF/l+h7o/fAHKbhoSc6lJwySdmjamQAAZcAAABHAZ6nakK/AD4qmMGVNTupNwN0wpV1MpfRlCG0ou4iwJsEIiD8GG41xKHVF6qbaP8r1Dx1hXmFlWrQGF0SSva2lZhMxGQAXcAAAAEIQZqsSahBbJlMCF///oywAThRYQgasAxhmAfEuf4NT05XbQsooFuEXutwYY8+xS0Q4R+Xvvyiaui8RfuT0VX2bG6VwYb++L34JWMj1hzr36/YrAAumr60Ovpgh/eaEG9NwuIWNxATfaI53aw5yKQMxjrgwGCdHxOCi+BMhpUNpHraUAkivbPChFWM3ROBz3BxQCC4Rz0rLDLylBhshUmUqJnHDHMl+IVyrbWopKduMMKpukLqfe3i6vD62otZJdYo5I+PFjjs7skPQ5Ge1H4Rbb64y9ptttM1IaXX63PAosTknyvqcSIcPQhW/E3lnywibgK/kavTbWPM3pfP65opyf3jkVD/aHg4AAAAV0GeykUVLC//AC/JD4+qU/09B3Wmc6FIdTKRBx8K2foHUbg5e3BejagqTGcNblmYQFiInljnJ4wwMM2iaHw6LmcAAUMjtENp8gFDeeihaeWxytAqNgAwIQAAAEcBnul0Qr8AP5DYMe6NLVp8udOCgg2368PBfEAICRfrK/RAxs8useznlDctQEgULBIQddW+iBfOb8tjx+twXR+9Nn3R7ACtgAAAAEABnutqQr8AP4qImRmMw0I6kPz5nwSB9yQ0jZia4/FRHLmSZwSE0T1O6WbEhO4CUMZMXK+5UfuyezbTBBxIAN6AAAABI0Ga8EmoQWyZTAhf//6MsAFAqb6+2JnZ8H5Fz/rREja0H77lTNTa4i+Knf/hAuZ7NXqBbv3htuDW4Vb/pPZ603BAG+Q/SeXtA9qP16u5Ld6MPvRbRBZyRu2/a1R3kxX9YGdth3LGY1ck0iOM1zIwPwTCFPg3q11bfHx1scE8YGYNGT+lEYahHR4X0y2IF+Px8zMEX6VTnpDx9dOS5nQhDpuU9CVha8iVwMr4K+aZVOSqWdsSYpAe36XQfJLDioz2Tozmq35Pxc1U0ZEIBCaL2cDr5qNQsZiUIo9cHXYMufoO68PFN8PMmmeL+Q5+JFghpkDcTIzOui4g568MiLqQbZEu7oQ4Ejprlmyw4E1vD5cuM9DERqw612yd7D6S9vwJqi8oVQAAAE5Bnw5FFSwv/wAxCmOTJ/hf4xjx3+0G/+qiISl7IsIm8cmdKqvrmZMAu7aRKu+OXQkDHh9WnRDytwe7Va+ScgcmTYsT/RUlmJOshIAoAm8AAAA6AZ8tdEK/AD+M0TURR8DsYq/LTs/sopOTc1KdgmwjM63xIQy20kfvWi6x72M00sNlq6BBvxwkWgCXgQAAAD0Bny9qQr8AQV67raAeYAaKSDqmnkNchKUn1pJbGhRHvUfh2tZIAu/nvC3cuDbArg87ICqgazc3H+kTgDjgAAAAvkGbNEmoQWyZTAhf//6MsAFAqGj4cCRNQoUESoCaEXK6BPW97T22l83bY3lFLU1qwXH8hvAUA1mtoFILTm9X+a7Y99FkWaDSZrPmMkf91s/vUQ9pBDS1EE2jwZAsu4gxTWKxya9Yejpnn/Zky3BgLyLQmBmKYLw3c4MIustDmMp8JdaEQJQO8SksGGCVWJY9NmA8dXU0LtJHZt1AZewysfWyX/zZCEYfZoNnWE6428tZVN1t5YH+jNdSHxNsYIAAAABKQZ9SRRUsL/8AMP8AwYxklOsUnOeVhNR607kGlLBtJh9G8LKZyS9rQ80fueX/8V/V6VVgeasEBjUYE7US0gmA0v3MO1KiNJQAYsEAAAA5AZ9xdEK/AEF3UFCPc0lcqHPPLZ/PCZ8njZp+MK5uS/VqsdX+ou7DZs0aJQVDmK0Iw+hUVx4AAGrAAAAANQGfc2pCvwBBYhajW9TQJRhPy6G32NUvm1X9HjkJe1wcsOty4nyvtfiXey6IzggtMTf4QAakAAAAvkGbeEmoQWyZTAhf//6MsAFBW7xAGCrtWyHxNSOB9RcUyAI7zZA7l9pKszjVx5X8Gg7m0820CkMkAkrBA6yXcKvPJYocEeh4FmsHMPOetdRZTA85HU/1Hqj7IKZvaFCdN7EhFhD3+f4yCNfxzsuOrqKgJ1B3PIa/7ozXTHUuRxwFMw6FgasL1GJ2DvuvzGdBk2tXxR1OWnIoNnsIr/lgv875QNgQNJPRKgLUzDC9R6zhMb7ikHacn2r6ytFBVxMAAABNQZ+WRRUsL/8AMQmI9RQ4CysSbJkwxsQauCqN8Qf0tyZWjsI1MBNIlGkq7VAr3z9OKPQWr35pPTlC3u/jJOhVUEZHsGtqhogTokmwA9YAAAAyAZ+1dEK/AEFdOpekl+rQA+Em1d/p41eyTE643CAQH6GWpVXy+H4ezzIexXHhyAoAC0kAAAA9AZ+3akK/AEF2K++0zlLqlN2NeRfKKIKMC/dVWbU4UiOVlT9HvEFPDrjmoeJ+4U+GlCR3dFtX844D4AC7gQAAAPNBm7xJqEFsmUwIX//+jLABQKf4bgimA1hiqqDeTv1h6yFkbnp0osNJ6E3j6DZeSVmes1s8ODrLBbStayCJh12FU83Pyf9mILuDPeVS+H92Sk8P7Neng7wyQ8MN4imOGUIHyYFu5uEIgdI/Sqv7hW2G5T7HkncHUFY15hd+kvgLhyPT6g2WxCRkoKgte5xsEmkgSNG41AjwsVdxEGr7bJerpqdDb7+CcSU2QQIv3RAPFdiwcoKWaoh/TskoKnd7ERJpweeAKjh/wnj8b7ifL6Pl7wzWfk735Ymdza0Z8ZrS29Z/NhpyUmVp8q/18EifY7QJi9kAAABsQZ/aRRUsL/8AMP38knMl9iyfeWyOS8om4fWzLEYIpevNL7Q1a/2fTbvT+uX+SmfGQnXY7jvGiIaUo2LFvqJqLvvhBOewBTUAbJyVXqzXgAOF7CzSoggrSgFOtSdthVtNNEH1ypZoKJQwAAkZAAAATgGf+XRCvwBBWqW7JsZvCRNTgZt8FKYx53KguOJwlws/yvDCiW6duW4xlUCWeaCpYUbxR3CfyI96JSBAQRAM6vjsRLqMYyJmQoqvhAAHdAAAAEoBn/tqQr8AQV9hx1LkKtWkrV/M6yLCX1CVqqC1b9VEQNE1efribpdBcUiCMSB2VIcF8YqdMz0g2aqUAj2ga1sF8EpRH15HHSBlQQAAAPRBm+BJqEFsmUwIX//+jLABQuZckKEJL/IQmfEVmx0+3qAwrPxzutAWnsbEf4QEESw2HmwPO+cIaeUQ1wX+tbNM893cG5VGnv0aAYguQC74VoG7urF5HGCQBKMB8KgH6cGcCiRewjUA/skNrPoPC42ry3ztdzlKaEHBbXlcz/h0hJoYUsS0ZsOIJOSMd6cMTgDcOaOEqD6euymAP5Rbr3Th8lLemb9sNN4PpG8M7y4PxkAh/zfRhwN/OqWFJhf3zZbSvJTA80+eMsw4E+ZH29IQrUhRX4RZGyAM75sM0UVDNTNG/sD33fDKOGAKmnAH7SxxZaUrAAAAWkGeHkUVLC//ADEI5zA++gMjR3ZZ4GMCXc4JybVa30iblvGQP3uh+9Zw6LBjvc85gUFJnEU8/DBf1iKTOi1cWTB5q8Uk5QTZ+NV63t0jgVXSDueVWt5bUABBwAAAAFABnj10Qr8AQYQRVKeMkDxuwQS9oU1xI+5AhfuS+pKVwupdA/wOZAwnZKLnK097YFzIHEK3hBrLHhSNaVkHwADdbkRqgMcqcCB3T1sBn2ADpgAAAEIBnj9qQr8AQWQguh+kzMTnVZJvyA+Wi1IOmNzCpAoXm3rsZBukCIj6HNyYnwyFs4PCu4ZoVbqwbi39WwkFN/yCAqcAAAD8QZokSahBbJlMCF///oywATgFsLfEDJhZKFe6F/a7M4Fe/enBysc/fLUHBr3hzW8U4cOEJAZ5aEEYv/h7XX2UbSfsxJnlEM09qnXNWwtn9EUsuxW02LrLy5ReoghtV/eQh9raKabQwzrFN2aJfxzYl/hxWOINa7yV1imftysrtr8EW6XhA9dFxmQ0sAOV4GKP3mHB03naO1phPS8SohJQUa5UJ4isaH85upkmuJPhGeGKiTUhuaTLhzldCpxqfT46P4XTGzjXREYplwOUKvHITeMXzADbdhB3xRVz4g6fzPSzPne6JtJgUmMbP4ITGxJB0zG5mTisT0lqYdsqAAAATEGeQkUVLC//AC/I5zjYdnroFfz32d96i/WC8C2A31wJ7QmwlnnUZuZE6KAzazlEGiJl0G+h1boVjS0GOmqReqXt1Qx21yW0yaAAAj8AAABEAZ5hdEK/AD+E1Hk/TJ0vhKsDLtU31jvpk+kUjjpufIU0ZnpFU9ThfiRwXE7BBMIwNUBe59j5dqjTPL3Obojzac6AHtAAAABCAZ5jakK/AD99eqqKH7PeXneOnQTYS5cpAPhkOuChOjk7ZKg9om9rp+Bp3l+Nww+z27JdoDj9VhTpDhWT91MeAI+BAAAAuUGaaEmoQWyZTAhf//6MsAE4A+CRBUOE7RGjos9uc0VRJz7TAx9SocUs1QyBhloYdwzFp+4v3Cmu0nwmnzRnnS2k/nTbYhqWhr2xLxJehtUh00Ogct2MB3fosxM79G4eFeXaKIgnhao2ecMUJSyJnsVy/o9tU+/GUb/e1SoXws0wc5OWYgNXhL7PM3PQSfrGp4QSZPqC330SuWwdpCGS23vTOw5zdoTogPxQZDbHP8gUY5CZHBoHJ6sRAAAASkGehkUVLC//AC+/YgIpCIxvuFcOANA0wFPJQp7Q0ZE6ajNplQOmflSRgyZvmR/OW+1juNTRlqAsiNHvZcUi01JwvNQtc72jQA9JAAAASAGepXRCvwA/ZwwwpB2i2BZjvB8VGSKPT/uoJfr3Kw0qqgHgFnWMJI82NicFkE+juyVFpavaO7fZvRtPmOSuxHQASkaOeABDwQAAADkBnqdqQr8AP35yHGtMdvlXgHIBjf9US8abm16xKpw3DLitIpTzuB4ex41KxwNZcpeEosz4QvAAJuAAAACZQZqsSahBbJlMCF///oywATfKUlYnAonHDDJh0c5FbpY9Zli7+WJV2zwV/2pnXLEV1FKvrMWsVbndAxI3k/Dv4dWD4GraESAR9Y9mJzXNfcpE+4UOlFoxNhMbwkf3W/5UKSHWOzT9X4PtKRnyJWvjVKQOi37UZMVj0YhExIUASO8weZsjxbrTPMRHDvl2M0ApyuDLfH5x3OL7AAAAR0GeykUVLC//AGSiMLlHW9XRKRQQdWhomd0h04gSR0Btu7eWvqxhQ7cChFjDTzERx5MgDMHxKfTiQ6YHB5Jjj8pYo6YAABQxAAAAIAGe6XRCvwAGcjuqvRJjm/tKus00/4isFMUGBpilAAKaAAAAPAGe62pCvwAdrxeklgoOkgvWOk8P3jAlmrCu/lxJHhUztlOG05l4I8EcBs0awmg6eR3nBdEKbtncA1gBWwAAAMtBmvBJqEFsmUwIX//+jLABOUqJiAky761AO9j2AoEULQYCmbe/95Se4Hrs/NB05yz7vc74l2MmTdXz5STnA4Ye42BtBQdDTpdtTYeGyS1v//rV6InSuMEb1C4tx9MGdRlz9oved4VFY7Bou7JIuPgCyG1Oa0wYUJW7qESGl4oUUzROqTjtMDv9YkVmWglwUVR3QCY563XNWdvKoke4n7CXUSg45OWrk2jgQqpONyGfsYvzY36xGE93Mtg4fEH5iaDyCy3rwaeieD5zwQAAAE1Bnw5FFSwv/wAv0JqTY7qG68XTm1+tZLRvNrCP2zAVcL/7xFKb48vaKE7ttSqbkL+eCMjNqQsfnsuyxNVGL0gb+q1J/PYIfZgdgAAYEQAAADwBny10Qr8AP3pim2GWPg2pRQ5O+4WrBNsgO4Ko3YvmOJhsmHBknvFI+lHInZZgGTn06alP3Zrjl0IAW0EAAABIAZ8vakK/AD+K8hX7/xdk0OXhqRVJQM4U1XROg591G6S0AAc8Xq1l7kjR/2LRegeGw4qX7IjHkuBiY8fB1BtCOCfVhhoyABDwAAAA1EGbNEmoQWyZTAhf//6MsAFAZlHL+YhPTkMlnMbzrU/Mu/gviy8AKs7lEsV60ojDf7BfTTzaneZWFMULiuHrWsKbG7/0wLWJInG2aeZGnAFn8QgKqgLX9ma9gPd8mvvz3hb5hBm7WBuvaTjWOrogOcMUFdZcsChY95xEWCNyIvXZDseLLsRUWJxyZ1ZU6rh/3XqidSGD4J1+6Gtnikg5lJ+05sdjWx3+bzcxtnJw2hjoixNH9hIui4ioYM3N2Q6R0TtJ+chpPHs3CXc9H5AZ+p1s2NKAAAAAYEGfUkUVLC//ADD+d5sKHZan5nYRAgWQy9WWZFV8xxTLvsWgp1kCmI3eGB1thsUzjsDCUSnBXzEwVUdrW0TPqUJgztJOBPr2F0zrZvdmkawAXKi38j+20eLPc+SxgcABnwAAAEABn3F0Qr8AQXvylJSfphCvorDEFbhzZeVnhjDpTnBeX6Svl/QgQ4MnqbtbH7kgsEKzUA1pHfFM/vfuYqghUA6YAAAASAGfc2pCvwBBXSC0HWXVCRt9LxNiu9YsEh84rif6siduF/X+Qw1egIm/qGInXuaILyDsnqONzo5zWRGj5DoxRZUF1duxT6AC7gAAAQNBm3hJqEFsmUwIX//+jLABScdvdNqJqvHbiybZttDt6xXSrqqrB59RbMTAIWxClbxawrNkw7kKgLon1WE+7nj85er5kuEplLs5y5lAjd2mouDigEdcK/nWuJoa7gC/cID+jQLBBsJ4Hv1rNhwZWeP1QKWF73MS0ye6pgmwJYHnn4szjyRmE4LhnBoesnR9cWgwqdwBiFzgy9OQeB6uCbJD3XwsWWuMkVCe8cvrQWHrPPrst7Z297V1kG3FtGyvQBPVxcN9s/54o8PVevoHYWQsa0NHmcU2CZc3vRu3gfJDuZoJXJJDl7ziv6J98dLh/2y/5H+nz1oJnrcLkAoGeIAC84+hAAAAWUGflkUVLC//ADJKXmDTXNZk8rJrjCprVlgFlgDO5JQfd1e4vsc3ICJDnZVXNSXBjDjk2NRFpaxabYEppaK0/zknbwCH7P70mVmARnQV8hFfDbeQg8fEwALuAAAARgGftXRCvwBBa95TfMELKAF96c5iaZu16wvnQnbuTBcsthONKp4YPgvIa5P+QLrmRc8v/mC8+gZ5ZYD8KAM99P41voAAHzEAAABEAZ+3akK/AEN14yPOiKc8b4RrVNq7DKuHplK7wv6Z+svOLVBfuPqARK35mFTWfoMANbMaI4JZaEN7s3tVofwkW8AABQUAAAESQZu8SahBbJlMCF///oywAUoLFjFl3fswGJUJCSskCwvfJGziXhjN9zWiycD1D738eDG2wPRhfOhJ6LuU6gpBp8+G9iEZJ2kqyCzRcchtMD/e6fBVnDavxFmej98EMPVilZXBhrLYuTYM9sAOdp6ega4qAkkYHLgdjBEr9WTeYW9TvaZ8X4ctOT4hD6y9TUkHxdZ9kRKdLF8v6QCFVriQUwTEcMwsTFUKydMULt10yN21onxfEKFAcLsASxvT0uiVfG6eAoI8aEgLtRQ0LHa6HWibRCUHKU09V8J5TZUYuUuMGZUtI8LpKUx94XKhqcwqHOWCpKn2RMfZWeRQ6E0U2LHlcxAKOq+t7RcN1jyJPisv6AAAAFZBn9pFFSwv/wAySQUPp9OYNpoIeYzgUP67YvYdwLLRTJR8EpRrgky55R9d6q15t5kVNpr8IJB6fUZyjv2iCv3de6T/6MV8ATnQu+mxuWr08axhlgAi4QAAAEgBn/l0Qr8AQ3XwffwSFRXCxk26WugQeB/AbVu9J8mr7nVfugWZTS2RnmxAvZUqedlxHNsXq5sU5mrauLxSkfxjObmt0kAAIuAAAABHAZ/7akK/AENeu62enHLYK/eJ7EGHRMil41zzly+gh9qURIdpylCi5NhSH52r8yBvBsQBrFaZcmv9qXZLn12yeO8eSfEAOmEAAAD5QZvgSahBbJlMCF///oywAVTfHwNY5vUoTEuOuN0LUC14GbFXr/oFlFA9j2SwlVaOfEM8B+gnu/3ftz+lH3ebJt/v2bfInuTalRBZzxkoy4t6TG5qfeVBcVH+dYezZlASKtZ5eMkoA5m82Dnai6YmFHolQeDMJO8xTZrJxP7Lh6tfRRoTI1fs2qC0LUabvXE0DdldQz1TB746myLv3UkhERwkey8Fi9nLTfAVutpQMOthnmhy8aRft/Z6mArCboDr99Z6U4IW4dbf2g1olcvrskXi8P4MYDxNXgQzClTLbKVOJVsPaVunS/9muEvc7SOYiywIyolLeByFAAAATEGeHkUVLC//ADOKY4vrV6ofNzb+Yn9Sn7YqX+5KMbiqjjWaTni3b07qbEJxfPisYGIPcEhba8U1kaoKozhH9aJ9bfhr31kUD7DAAtoAAAA4AZ49dEK/AEN3UExC3yABepWNHly00gE1Z4sAmMdKcKoDlSZRPuQjvDMozMIlittswmwkvoAgChgAAAA4AZ4/akK/AEV122nYyTL6AgT8SRO65lF88lJDVvB4JJmIsxJqXpKNsEoaDzb8pgP+5MKN/FAgdMEAAACRQZokSahBbJlMCF///oywAs3uaIHb4EKsHRIIFooDCroUOWqV2RPFMKeouh1KTiUtWK3JbWGMQyOclJ/InfKgqFtKCofAozMuqM01rh/1S1Fb9MX5ysvr6VpbYvC2SPI+i8+w59XOafwutx3OAAxPEdEUDJagk+KNbK3SL5CT+8f7LQjnRki5z4hOQPM1g7QGBAAAAFRBnkJFFSwv/wAzhsG/1dabBqjD68twFP3q+sSevDJirarr34ZHU9TDydgQBRlVj5lJGOTav645/S1iGOTFfAxRiVeMfyhnDFuCscrFLOftWJZgAR8AAAA6AZ5hdEK/AEVinrpz8z+MO7IJBJOfWtG7OCdzyDs3f5bgzWc8hwEtaFF/1s2gIdpF54SEOCkEeQAM+AAAAC4BnmNqQr8APiypijdkYktrwDbtezF7NNP1mSF6kUbStbg6+8k5eayVgr/0AD0hAAAAy0GaaEmoQWyZTAhf//6MsAFU5lx5Z26xIgB277XToTq0ez2+AlAIUQIylAfspZt7t/tvwrC8lspjfCjWBZ1MLSUjQa+YSXaTVSmX3QhzRxqF5H5lfpJX74ZuFaCtygPTNfMil6Gl7gy2xYOk9pU8Vs3f3cJwZj+Vrxp9lzEkkS8p0WJA7iML5jjMg9KUv14aZI4V3peL20jHjDuE6eLihdq4w8sR+1Xcl/BxtBtt+r0/dPzjB7cu6N3cD+ezWzuVpTtQ5Wn0nadfjiwDAAAAUUGehkUVLC//ADN+8FHpuilBD36vs/jPKxZOWT45fjNNHsBabsMlXNWuPCSW5YS5QcC1psYxQ3Gfylfy1O33ST9bxslbwFh5x2pQ5aZD4AAYsQAAAEUBnqV0Qr8ARXx/kNHNOwR5DvqxPoArTlgTnSASKgSI4K2oFah4fzTYhHCaI4KbptG7iAkXLjoVtU2VthdYW2r+d6ngErEAAABKAZ6nakK/AENfX5P57xvfQKLVi79vBYi8o53q6j2e0xzY6EHuzrlmKDvlDPGJ7DeI8iioNNONcLUCVJD+0Oovvcxncpg75wIASMAAAADiQZqsSahBbJlMCF///oywAUmo1M55uNJTkALBMjo26J1pVRjduJv35+MYTpFE/ZhG9FvZX/057SZ8bt22z6bD4AbSWK2+sxkKpyBzy2J6/Kd3OPMf/+LrOomiN8Ct0xdAZKReY+b8DsxgS50jp5GHNqhzlGKVKSpDskDUCp8KmBIZWfHrN/1Pa3Jes2/3Qq+0+cWrHUJ4KaCeP5RficcPwfy1NdbcCXkFdyb8DJqJPfVr1i3bmnFXK6LEOEp3ns8ktogOVx/Fvp6ad8om7hHzJ19qmDa22bF5tid1Vt7scPVEQAAAAF1BnspFFSwv/wAyPkAvng3VkyB0KmtjixIsWK+LJz1M34BMXuFLSN4e7rU9EzP1dpN/sTmIMtZTcQul8TXzvO7ra8pevUFH4ADhLAzY5UxI0PiUbjG8lrYcX5UAAhcAAABGAZ7pdEK/AENad/e6rCkDxKCDwyB/UB58fAfDv4ZQPcEl02DjEGux7EEf5Hoy0N+QAxrVG6I0l8aNF98FzkhB+dQoHUoNSAAAAEABnutqQr8AQ16ikndL+yZLLCQFC0ZHlPkPUNbAFbzeiAxOiIm1CFhJfyTdVONGPJQEPaPFkQdhEr7DLH0UAMWAAAAA/UGa8EmoQWyZTAhf//6MsAFJqTzy4PScfU0s1BKc0OFlNTOz7Ik4Zl00aiehqcHAQMmo6rkPhfmGAVBvNYQCSe/VRP/AKQKPuAMDuyhWOqBSxglyRLuHRt4KIT6AMuA4oMgf8iKbOS6oIN7CnuGUj3+1rVxvAkXmXBmQy4Y/jwi/SPthL9Zs+SRyR/8kslgKJ0B85JYoAtUk6E/MfhoUBh+EKj8d45+EnR6e1u5WZUcypjiIU92PjmR5IzOYUBFAii9bjMecTp/G/IlQ6tUMUMBo6Resrn3xuLtvNs/ZP9IKNWsw/6gFF16Dk66bCOEgwaC29NH3SLsxMe4Znd8AAABbQZ8ORRUsL/8AMj5AL9S+yeVgbTp4ZfexR5zcLiwp3u4ETPnhvURgtoch+RvwWjoH/pJugv2V1Yhxsmz2AJv1mzUjGpTDeyf9KkVIU12mSvrCPKoHeZlEYAA2YQAAAEgBny10Qr8AQ1oYrkqLg5zNerrCBZHDsUlNm/jxIzfwwNmJwNIS+qbUAWLR1Xz5bX/mHNgCjymwDW3svS83FJSFhlqsWPomARMAAAA/AZ8vakK/AENfK7rNw8MpAeJ1udWiRZL2XE5/IlylxjhhvKSkwAtohY6dVXmtz07OHvwkzxaEsM8p4hZcQFJAAAAA1UGbNEmoQWyZTAhf//6MsAFL5lx5utvKNU4MuIZLgFeDzqi9xcB+S3HUAO77WTEkTnz1SMuRVbICScJSKoM8746NzrrVPdgeRAU8ThRh375h2aToPYltBf45sR83JVs/mInqMCvp8xX1x+SPgsGsBBS5BrjCE/qDbDlWSieSMZcvnVSkDD8EIFluZTjalgKv4/1w4oJlqfJ9tFYqRAW8tHtAsyWirkLkoY+BEs6t+5vCP+osLRRAE/ifB0NLRFrJsi0fab4FlaNzllOAadgehwkv+4V1FgAAAExBn1JFFSwv/wAyQXwXxxH8z1PeVNiLyuMFqe3SHWf5cTkkNQINWRvrusOvkIF47V6TjjxLz0HjIKvZi4Yj9NioPTZK8ciXyLvigAb1AAAASQGfcXRCvwBDd5pPsyyiRQUuv4Xbce00DRuoAXH6+RWxV2X7pZp+7th7PQsWf9iJwbwTjKbqPAlsN5jTRE+eSbbZ2/t7rBzgKqAAAAA/AZ9zakK/AEFzpPJ5hpozK/vKnQ1NV1GyIs3+qZfyrsoVZLcRvMXmW6a64jl3nPyJxowhKGUFfcKr70VBwDjgAAAAqUGbeEmoQWyZTAhf//6MsAFApnNBF6uibChewb2vnSECHy0C8DeRlvnxqtk0G71uP6yrY70HrWGNloOB/xUcYXei7wni20FbCdWA4iB8IywxJe3xx6x1D4tyl8EWGnUp5Vk7ozJdmk8vJv8t75GRTzxw1DzpgmdpIPP004L0JYHwGGP0QiZU8matFcJ2Ab8CHXzgFHa5mE1ZkoOw3A++JaAKARJ7c/wbgkkAAABDQZ+WRRUsL/8AMQk4KEsQwiy5PfaA+8o37t2owQcpHvfLQ3juR/xz9IEfuEPgKBrlEao2zRs4E3K7Ns4e9IjziUACLgAAADkBn7V0Qr8AQVrhwOxUNrGzefHcqulEjNj/uUndpPyKcKeU93l+QAIeGFZtgYn9oKYNTYenNOgcArcAAAApAZ+3akK/AEFVddSDeMjCCNKtC/FEZdUVz6U/L9u79M/xyZ8d6MMIAuMAAACEQZu8SahBbJlMCF///oywAUD3RTkPSQmrFfMjVDctiom6pxguzziDKs3LDVuTH+edOs5kDyOa6a7vHmdk5tK6CN5tnVrZDVYlPLH82eAFhOSTtFXSTlFcN6REzN7ZcywKspHNEuVQ7LG+6Bpvuh8MnjxrsK72fhfKVk6Gf9nzjNC7SupgAAAAQ0Gf2kUVLC//ADEKZDMwg7ruN4PPrHIIrapmbB3gtIIH4G47q65KspiMP2WwmcG7DikqNbfgMzxuwUeVdL/ErjAABJ0AAAAdAZ/5dEK/AA0v9W0MkuHeb6KGj+HtSG7eB6+WAQMAAAA3AZ/7akK/AEFgk9N8NywiYa8RWJroP1XTeuMjE0nqsmwK9q6F0bE8xHINoieEUXXvVFX+u4DKgQAAANZBm+BJqEFsmUwIX//+jLABSaifl6waG5eCz0Hjeb/93AOzLoAogEeQ4zj1b97tu2ZtJFKgrFoyu6y7QCVMwV7udVSHGyLgg0pdO5IYwyu/mwtOycg421Bu8Ppmps8FO1vwO9YvjfYji4VtoALTljaqe+8cR9fAj+563q4L3z7qUVni7Et1Yl4fctCiRIUlqUNG85vqFFH9VGEOuTot6V3A9G5ok8nwfLVnJGOAiFKyEEhXvgsQukjUaq2WZLNTBiX2DSvbVSMmnWzn2F9XuSU/4eoJ1qvtAAAAU0GeHkUVLC//ADJKXktNCqk1p+UUbENz8oQzdhm2WKV9CGU3X4/SqU5seU4BVVBYgmqXoFYCGH8D5kaRA9x/e6wFcPRN8I1l8/cZl2EWDqaYAA2YAAAAQQGePXRCvwBBeEdFObt2R0MEivRbdDrt8Hx0GjPqq5VNzC+nRKL9qq2SOMGLOvpw5mVqCvQWPlAs7g6fD9BVABWwAAAATgGeP2pCvwBDdeMaRYRjZSZm8NAKSfm18e+7d63ywsd2xoZomcPQB3VHDs9WTEqN6tVP9iRlCUd2ElR8xMAyVG8rCKP1pxUyOT1zMADUgQAAAO5BmiRJqEFsmUwIX//+jLABSgsOj/WVVJNslNKDqlHue7mJUxe3FwXY1iioVUr7XG6byNCzJ7JhOUPdiPzWtLzG/u4Txd+01nw47OT3P4WUfx33Wrjq3ebrwBOsz8G6K5Jrl4PWUuZZotEGcbabJJnPLpiTNi9mH13M+OBXTpsyKWNkX0vL9Fy9+CN+MGDH3UUJ9gYju5aS+PVLIxYciUT4aIgiaU5Bk4/SXVDKSAxeDKTuoGuTfax+iKip4qc2oB09oM3n22AmC3jsPhqDXGll7QC20U16ZUTB0aeh7LA8vrxHiZS78Og7iU6smTAuAAAAWUGeQkUVLC//ADJI/DkkSeDrgnPQcfD2CHN6Awx5VdosNT7qHFymqERv/lHgmID/UMFL0YyHw0AD2cEk8JXpH9W0tjSTt3W8aZHZEQUKHGIxo9DbnK6rgAc1AAAARwGeYXRCvwBDd1AI4Re6AgXuri9EX3qtvD/QbXR4gbkbyoQcSzVPTVf8Se4oJC4PYXV77QgNA+8DUYv0VkXfR2GaJLMywFTAAAAAOgGeY2pCvwBDXQZEHWTVJIsO6nVi8V32HFYGkDHwdFwjvRrYhOw65A48AdN0GJQ53z/K/Ei/ySpwDUkAAAD4QZpoSahBbJlMCF///oywAVL0HhPF0xCQAOLoliCnVKKbIDKOnaCPSmU+YU6qomzmwJOKXdtX2Am2d7kK5x3A/+zBOxJfXn6MFBdsocY9qQQSS4nXIhPANtTBjvvNBPY4Z9mks2vqzCvyifYkr0ByE7NnuvVzLRGLJfvWSPkGgycwYpOQebxbusvmfmwEMr466+jf7ctMq7fe2NkC+SYworG2aTrtzVFAJhzuDrlG2jbj6JFtUPcaBfsEDMKL3PjWp1z6Nc/dpiXBePB2s6W3mSlk8fA8MkT/PuRyHAIpXET+L9BFgHTQUT4o3E6pQ73GmByjMtNzFXkAAABKQZ6GRRUsL/8AM4peWtNZUo1783tmlkVKGy1l+oD5TRSATPPDDxH0vPj/phueOOokvMHqys59RxHkMDbXdEi5OrAAbMyRvPgAAZ8AAAA+AZ6ldEK/AEN18ItJuV6w4bWcNmVZ4Mc1c+oQr5nWQWufRpLbLKsmg0zw/ymfPwwdlF8ojB0IVO69/RgAHTEAAABBAZ6nakK/AEV1z44kYrQJ6uE9AURCozADESxqAAL2dwedMNEDYhTkh/WvqDgLdJxNSCZ98tgJ5E09ydI3iNVgChgAAAD3QZqsSahBbJlMCF///oywAVKpYQgQHQmbRa4CdFre3F53MS6csoxcVi+Ok9w0IQBE/GeMGvu5lTeNKdNN0f7uM7xkhWCXqEVn5phQ7ezq7ERKCRPCu/hMw/JrlALN5ne7IYg4+fcmwucT29xFAw7DZplJlOmBoWsteqzEZ54nbeHyHPIL+35WFPsI7cDnEOp1C+0fSwYvzaGYOjTApQOyn6A7aT9Y3IcsPyD2GFEr1fadbJn8F625uHDVagfdCtPC6TwdEklzR763otAwlXIE9UwhIxVdddWdSYNqT3ZYQYpktsCnJRmkIomtCF0b0j5OBrBkUc29jgAAAE1BnspFFSwv/wAziPw5AqcqOCdg9BJy7C63QLhuBfM4zYw4KeoxoPYpKXgtvH6w8GI4Sra85Enaf8jOiEfmz5IltJwzN/xtIGo+sAAh4QAAAEEBnul0Qr8ARXXZLdsJiPKn/Lw+LzPogAzb5GN3ggLdLjgrodQBBkSPsCVOF9Pno0l0MAYK4unM/k6/CjJCUKAH+AAAAEUBnutqQr8ARV877uKVy3UR53oU/HZaYcWy8DG7b+TGhLwpWH3NcnWiwqDeM4vwyBTp2xsGJGEJA5y4nU4USz7iQxgQE3AAAAClQZrwSahBbJlMCG///qeEAFj5l/O746GN/MVpF9A25G+JYbehAJA4yC0Lwp4d0WUWZYSnQ/5B89TOHpVg3pD5uq4tMs0hfW0JC0jS44uMwrL7UoS7niWM3nkZtRdtbkCouplbc6E8GhcIGPMRagqkbJSSQmzLcvbM5vwGQ9BK8Io0VzrWyeAKB9D5iJw/jNyj67COU98tJopLjaWme9MYyd/dg9khAAAATkGfDkUVLC//ADOI2D6AMLEF3uCS9l7sv7fo2z4EHlRrQujDIMhS5bQ83wUnICykqpNcqfxIEcDeAVMnE4vd6NcV9zc6L2R05EcXgAAHdQAAAEMBny10Qr8ARXe21d+550e++nETMZOM1mA3TxKASmy5ZSUQ1UN2inRYGdBY32lVeAlKJjfGWMbJUKOL0jvGKV5YAA8JAAAALgGfL2pCvwBFYhTAZkryDkZSDoRd5iWEQwRfmGy4wnkbvpBT8R+VxW6rTgEYAxYAAACSQZs0SahBbJlMCF///oywAUCWcVwB8g5G/jipvSyFwrWj5Vu5J6IfO5kUL3+cTuYThQdDOVKZi/+doGQ4LQqlNZXlYLM2IWFN8oFyBXa0Lf/X5wn3hXcj+hR0lGc3R1p3vtkov51U9l7zqstBYo9Q2JWLJENkjRD6mdt1YdRI2VwMogq+ZDQ/9JKJDCT1otPGqWIAAABMQZ9SRRUsL/8AM4AF5qbPEGUCr4RZMIATHtrzKE5ulVRDCvnlfHHsIbsnZnpJvwNIcL7Ns1UuWJUfbqf7Ho+1qWi98th63pGIJAAI2QAAACUBn3F0Qr8AH74Cb26sqw9FN97+ltDJQD+K4s8s7XjK3UbPABswAAAANAGfc2pCvwAfvzsze4KhPVUZ74obUkLlKBEkCUrJoVAKAuGhaxlxpcZcmmBMgNVIAqkAHhAAAADSQZt4SahBbJlMCF///oywAVQqjWFvhVFNEAC7tiDEuAD5bIXDX+VO+KxhtKsM6yQcYVDk+yWfnSY+CpfGMAha7pCCfJwnwSdXmvPxSTPhN6ZVluWyWKqA89II8JOIfQj4yMNfspv5kka8mVeBa+25qBYOIg5WWMRcykXJgp/NL4FtiOIEhygf6QtalchuXqYxWRztdr8GbZ3ZFTYAh0ijpOzgLIPXrj2PodY3KBsOnlAvLjEheaM3cLNgYtyuVScLLe/HkT+sJIrQIRJbuqbKHoeRAAAAVEGflkUVLC//ADN+Ch+0FlrTpYAqOc59hb79+nGXfZSpI9iGWx3HgYlBD5iTlMLmERa/1z0PpQC6F+cAnmhLdTFHcyyJBbrEECYq61RO5bUwcAA1IAAAAEYBn7V0Qr8ARVqlwB6DIXQgGR4T+tAR2fipiBXVRAI91PvsZ8D4eUg34Az37iQX4vESjfbTeITaoAu1JQxbWR1M+c8AAGVBAAAAQgGft2pCvwBFXxjuENSOYgyBywT6//6tuaHuldXAwiZYioBSyG0aRF5tv8fU+93tTxn1F8oNuYo4BPn4+X46HAAqYQAAANtBm7xJqEFsmUwIX//+jLABUqk2G4PR9gHRd46a4+iElPNc8SaNysrqj0mLQalV6sdfYtxfpFjXg2tXjpUEPPKDYILcMYbzen1iz2WjAMFtxcEKpfm4TWPOcPQXoxdj/UVMu7k/uNGKnLEKOC+VTAu6Dhxf9SRfGS89LFyQTwZ0OCuMjKuCXxtSdJWrGvlwtFYFjC4NKQeIMXc7EZfpYHoRWyJJY6V6kHQTd2oWGSqopqIkvtOhkbbzwhmdnJqmOw66nh5K/uZVw+voh3dyqxGZ+iEO+aBbXnQZwiAAAABeQZ/aRRUsL/8AM35AL9SgYDZHmBH0Yv60WkM5Iw/NeznWmbQy068ad+MJUmg4f0NEdaHkFjzoOoIHvXNCk2I7JCYAIVs9tvn+S1BwEM8Juh/HAs0veHKgsmMTQADUgQAAAEQBn/l0Qr8ARXfaO7HgmhTjexo23/j45Rrs97Q0lHRtqlkKRbQe1262P5MbeBRH8S/S0SroXmsowLG/maZU0E5W7dADKgAAAEUBn/tqQr8ARV6hLUYbBCVNy2tgRAeyFWiypPG1W0vPO+MHnnlZhwqFkK5yq7ni4dBZDjEM9HIjeE1+oEQwo4Ae+0DABmUAAADpQZvgSahBbJlMCF///oywAVTmXHnJ29G1VDfqPX+n9hYvMKKMDVyc7QnCYCnNcS+6XxzOcAQ7PmJuW+8TG/5p5KvaFFxKgZDdC5KStU0Eov8JGkN8aN7HKPUJ10beOVtSo/qJsNU8a1piD+bQeLgFAoIj2Afhr9yHkPgLIyfovNYDx/I4m03t13RWcIpEKUox9zMg5I/f3+rfsD6vadOb9JrbSHiY8HGz04N+fAjR7UHTdjQVeyMElpVVYtcyiNo07ySaEEuCDTweHTUbJNIuu5ij3h5EYOObwKto0bSLuwkqkEPAc024o0EAAABXQZ4eRRUsL/8AM4F8TeeJ/M9GmBte/Rs/y9IzHHX7A5NRP9RdYdAV+Uy1QsXOSqnbU9iBjwPyKCyt2Ink0PAl8lElIxJO3qDwLrZq6XzUmfY7Lc/CgALKAAAASQGePXRCvwBFd2dQ7X4n69BXwMZQUC4nkj5/Erw5/T41TfrGlPl8AlDnA9PibXmv1mroipS/tnYihc5/S4Znp8SiGiM9+YAAccAAAABEAZ4/akK/AENe1tzcMQpZq3SramHm4kzt+aOvmMsoZ/PxRmc5l/WZGoCENqFHpxgZakQDH+YxEgZerMVR/061B9yAC2kAAADEQZokSahBbJlMCF///oywAUsrdKc0KwRh5zyNwizFm/CZEHsPV7bVWabWM/isjurqwGf9XCm9+Kq2eWq2kXMY9Valv+AreHhjILDIJojK4XgVarItcDkcXy6N7kyl9l0b83qWHReWlw8KF8sRgKYGHloU5fBg+8o2uHpcpJiwY5G5f4FaZSfBAZSbOC8OlliCfdjtmkS6kYgdP9/dmSHJ6Z5J1ex5aOiXR2qy8OM4/VNIqI3o0OOn830i0LDez/VZpElunAAAAFlBnkJFFSwv/wAyPg3ir0SRP8nWsW+zh85zGLx+9J8h2edAHV+q02i+SQMSvUCG/LY1wkRndOkPW0pdQDWz53KuCQvjQ4pBwpeuKdk3zN6lSCLR1rUG6ABdwQAAAEYBnmF0Qr8AQ3faOmqtIBkgE9F+6PMLUsNmD9a1MbciOauEtVSoHEAUQd6Su7Iij8BwqAKMR8Jmn2AfY5X5vC5damz0AAE3AAAAPQGeY2pCvwBDX2HHZ7CaoL/vKGHKBuPM+OIKCiSYuwwPUhp97IgWccGwzXuYCVdU+x0A66GVKsziblAABhUAAACtQZpoSahBbJlMCF///oywArvuaIHXoMGEt1cpRnIZ0+tltqsqm5k3NTdRShPZ6HQWIS0hLGf3QdjYNuzTLIqGV/cq+ICsk/LwK3DG0v9hhs63aMc7Pq6Dd6kKW+0FKo2hW38KPdSmMvwYfcUmCANEjX2d0AHbDIkb1m4KE2gWqWPkEU+RsVWZ87KABmlpR1RGvyxA1nJ7BVwAsc/cqpSJBm5NJQVg9GAYIh/HnK0AAABFQZ6GRRUsL/8AMklE/yd9npUh49FGIAAIc/y7PyL/aSsK2XfdWBlvw/nQ/TddG90d6Q6zGSItOF+tNH/vbK1R9oEKAEvBAAAAQgGepXRCvwBDeHmpRfw8kiZV2QOSF07P4c1fB5gu9m3X9Iro4V1lUjQNp0lmQdvCgDxqoFJXzETOaumqDaXC+OACtwAAACABnqdqQr8ADiga2hXFzZ7spcoXaJ0fZ2lHbbJM8AA1IAAAAJVBmqxJqEFsmUwIX//+jLABSzrFl2zyG/yCayv4uPmrLbpvmDFI/IIEXRAcP899s72o0UD6gSphaEOzJR9Anj8q/6gpJi/rToQJ7Ry2AaKEfzwQS/pwhU3y6ScEI5CTWz8CXCwmRJJQHrsATDTCbD3rzxIgxEviRVXCzLp2fEFDUby8UjZX2zRNJCHoH2jZbaIRXbnkUAAAAE5BnspFFSwv/wAyTclJFCz/UrdFQKjEXslc4Ynr/eqzm4ulUR+3xAZOD2IJl5wb+aB7V5UdDCPZkyXIOk/KI7DJOdxIt0YVRhuZhUQAg4EAAAAoAZ7pdEK/AA4sPvWoqwF5z6n0xjvFZoYfUeDHfzo+fcrUTjTayQBdwAAAAEYBnutqQr8AQV/yjpL+Ip69h/Ryr64jcNtBo+6BcYO1SuBSvUlWFLU2plFtRRUQBq7R88oopF/G2lMxAiUgeo2LzQdoABqwAAAAtEGa8EmoQWyZTAhf//6MsAFJqMjiRP//UCgkLeoOz6b7GVnFqwwSf0xjnyd4yHcFOw4ZoyQJJz84yJu4ylHzAO4FKGc/mhbCo3yHawovY/rqxjddYmoc1LDtN7XBrhLtf9awgsdaY/4Gj2NIr8CKLbIdqMb3WzW8IKmcsGEB8UjveIOck2BNSoFQIi4cUXtlFAsUMuQ+doYZ9Shmoi7kujuY2Hv8c4Nr0ApSUJ7MKeH5MU016QAAAFVBnw5FFSwv/wBplOfcs4fz3W9+LadSRI6LUVt9YkU7h77gO8appfHCNwEfixh6SrptcIGXWACj6T6gQAOT1A4oB43RGu2vP+avmeTA+3T+rDMAABjRAAAAQwGfLXRCvwBDd/2UxEaZMqHPGj+P1pXdtTIsnnkNAZrs1T3NZbXMFcj8a6j3tqP+d8Ee9rEG3eTJPq1Vcx0YpIL4DFkAAAA+AZ8vakK/AI7sA4ma/n3wi5L02dlfp3xdOuvHTSBuJh1/IwNxUQyLZp/EBA8mjW8unGUqZXtbMrCHoEAAhYAAAAEsQZs0SahBbJlMCF///oywArvuaIXZNlNX5guo34QdEgNPh9/7v5MS8giliFkaAVl6Iop2TS7xjr8cXj6eHs3x+YeTttreFUZc/ApdmopqTPKdkb32/X0gNAbe/S4lMz7Qat6vTFpHcSdgeH9EXOByTK9IDPYB9Fmr+ohVMiU7NMnp5Z4en2EZKZmmhUyevQF0srUTeOerZoCOQ+Kq4rJjiKYeuEyPVLRMM+3dMl2qPj4eEccPWaoL+SQnKIkDvhkTsKstBoyixufiKKuxGcqSHtcUw7ris7EUT3Fbn4jmkBn2HtR0kKElCkDy3flAWCUdy+y4MWHXOk2aIzX25LoqM6NNr6lGWs4YucpmFXLrPZpNNCQvzpG4lm34itDaB1MeUaAal+myMWeSVvS0AAAAWUGfUkUVLC//AGmDUGV/SeN5ULeFn0Ii98OVSSaQVepx+2S5jY1VNpSlfnCcu+uJYCwpdJQclCimcX7u0iEFiWWDiTZRdUOJSq2QyerW1HBa0v/kklUAABHxAAAARQGfcXRCvwCOuiGHCFrdEJuF2V7I7GStdF3f2w/ktmZCbGO40EvME6psUosMSPFRpTQeDWt5bPQvfgQHp1V37TjQf/AB6QAAAD4Bn3NqQr8ARXNgCdE5ljI/2SeiP/od3OZGCc0zIFn8qNKBjhflQFJKk868fQTu/5/m5Dn7EoU5Tq0mmqwBVwAAANVBm3hJqEFsmUwIX//+jLABUvQMoNdWKP/YJbi6CubL72mq+TuXyrC7le5eghHMz+KTAMi4GEbWRSftG+Vr5Zhaj63zdAWqUFYaPDBLHTkj74S2fXus9snV5jfLG+9b1AwDNDsVW3WSNQcgbJItIjn4wl0FLxVGDL1Vg3ZMLdleUpakj5WEJqgFC5CoUExg7S/IzaRGwXDBxqsndA/YJjI446XCmiGJvvjOHLwgWDDCQ4nkBVNVse0knAcvNvmdnBXLSFk1ee0JHKfj2+TBS86J9/oXnUcAAABXQZ+WRRUsL/8AM2qaJByL/tC66lu8GYBmvX5H9Bf3P/onqo7NHP6Fw1OPpEKTfWJT5YYrZZ1jOwAJP6bCkDoqgb+YzBYQGYgmaof0mFIdJjxRrACAAAHzAAAAQwGftXRCvwBFWiXNj5RwKjenJCO/WuO4n7A+HFvRme1O5o2zLUj7UqRJmK+GFlFeqIlGMH71WWRBrpVI+6rMDP4A4IEAAABFAZ+3akK/AEVzYLD8tfYjkXRtroZ9BjefqST0+G2tN9PgEOzRlkVytiyMF5b+SJWgzu5DHtj+CIPGJlgrkD5yYqvTACghAAAA2kGbvEmoQWyZTAhf//6MsAFbZlGjDBde7CsgmgtcWEa//jYqpT9KqGbN/K3eB4Rx5m9WA6EPmfEz/pWHwEATNsH63M32A8U34cs/+5A8FTf7KW6uc8VIQRuVKFBQrU9Ob6Z4akfpSZwqjvifjX/QVu4U9l/CfgZ0mvk/c96pUvm9csl5t+pk2BL7LYKbM00oLZ22fJLNoilQwftBjhde61ZFckQI9/b7FKQlhnf8HtgAdXO2ORPsN9TSPZzl6DEIVH4f+Scl59g2X45xgXPYN0UeJXhTn4nl8IiIAAAARkGf2kUVLC//ADTL4EuUmHtn1Zoyd4zMlcxdX56/7Xz46Y0bsN82ZQYWGcG1HVlCgNCe+6YTF24zyunQgdvkzuNdPwAAIeEAAAA8AZ/5dEK/AEVaZhoCS4iVVIHHkM+AWeOJG6chJbkU2Fabui9kXDmZOTe78k/hVdz/jc4aHJppEi2KgAPGAAAASgGf+2pCvwBHeKoVW6KigIQ/KgqvQpsC7bCKaFEMw/wktKjPeF+aZ8Kj2FPdc4QyAiJoznplMV8vGznOH+KeXxLMCByPKQ9oAF3BAAAAi0Gb4EmoQWyZTAhf//6MsAFcYgJILeCKXOQOGcYbU8+nNRrvy6JO1nCIjHBPoyCb1sKgXxyohaMREcDIRpbphVrj/xPO83EhN7GpQhYaA7wo+OZ3oxiRKPpRDY4UuIK9EgySKXYPzEHM//1iUJYlELOfRz0cWGUClu+HpeYNBNSV6c9PpMF9e+HdDLEAAABBQZ4eRRUsL/8ANMZpwoIEo1rW7yCZUsGfxCJWnBmRzugzKXsXNbA4J+wQ01CFMfyegTHmhcwoxpln0BIBLBwABFwAAAAtAZ49dEK/AEd4ZWOXzH1r1aT6O4im326phzK0mcDFa5829mEJGQtKsgKmQBlQAAAAKQGeP2pCvwBHbO3Ss7veoZm12mSG82mo7cMWgVHGnYd9FQvtgPCAAOmBAAAAtkGaJEmoQWyZTAhf//6MsAFbrZITODABzS4wbs8AN8p7hEHLD39LJ8ExbWhv4mLQ6rSyCLDGBxf2Jsbne2n7nrQ9hRGkocNhhm9iLt0v29Oqi93n5cjMJpIpMRA7ev/dxkBHzildaKPPYTKOUxFyCwIciP+hegz7y+r0YEvzzbh3p5G4Dm9ENaI92CEO/DeeoJ9tcBvcBeZmMuvooZveAEfintcRxKtoW0UbFPHVItrndeNZ4fJWAAAAU0GeQkUVLC//ADTMoQw46uZZEXaAP1jpFfnOrj9elW8ry/utrzzzqtXeV/5Uj/6DdVRdNT5kAEbkoVghKslTlPQwVe4d1x81mdOywwF0IJzAAIuBAAAALQGeYXRCvwBFfEXcRMVCLiCpFt6sPxhdZjxAMQ5ZDwBGvLNOIUVnSXz3gQABzQAAAEQBnmNqQr8AR4TWSJjVdSZtWulsjTXGvGHW11IY6ybCSt35/QGo4Ym1Cwil8QdR1F8MlU8nv47PEAN2gv/xNtapYADFgQAAAOlBmmhJqEFsmUwIX//+jLABXfdGgKT4rBM5qv8sj8CEzM5+4ATu4Pyij04gDh3XQ6nLwCUG8U2PRRcQ+5afLm9K2gB5KAGsLwlQQLLiy80xYo6OI7MW9HtcWd/fXSAPfjwBGXdPANNOlDAj72Ngkos2ezl2uYQo/oieUaV0er/Qvn3JQHJHpclKTO9+GHguGzUDdytCvbZyFd2fW3hRN2UxWiuAMNMjHJpUDDOifX9sg0G6qz+LUl+VTCLmVCSMuzKLwzDDKKQIBtkZSxBZtWQvnOVYscmjbJBrS+D7sSn4K0ffClRymKn3wQAAAFVBnoZFFSwv/wA0xICSU3csQLKQkFVkIif2H0J/raY40m0eb3HfN/aXQnOaKmSt2F5vqW7LBkPgaUM/DNZlq8T8Qk/Czp4pxIjoaDYDf0YtL3HcAAEfAAAARQGepXRCvwBHWrytiKZgj7QP9GBIKMeA4ikeWL2SLel3kAt7/B+W0LJrM0k94khOPEBrlfgmjNGeF4NGlc2eFsrZsAD5gQAAAEMBnqdqQr8ARXPJFO7xVlR5vnJa321jG3jauRiSQ03OH52A5/jQYPubyMXyJFKfMKBgpiGIQ9VDIMvEG9BKKp7iAAMWAAAA4kGarEmoQWyZTAhf//6MsAFS8/4BcXsV9D8GAFq0zHcmGFQKlUuIHc289BXynrXHCS5I6z8QiXW4FO7aPzfWELMiYIe62O3blvPyohowUZYR86noHtV1BOL27LEhlh2h8xGmkpxxYEcoThhuv6ETE9QmiZc+8do/69E87OcKUOQ+nTY5pRYnO/1DLfWosEM9kwZSL+rQejvnw0EyaBO1rwzOgCyWI+Ldilvn+5I4o9PhrI/2qjyN6xtgQoWdK5vHTn+htg9gQfDzyjJBUpHdBBPxjcKpGBNCA2mDvMIzBs9PrnAAAABNQZ7KRRUsL/8AM35bSgSGQsuYYvaasGOUZUY9kUaox477rDsZGWSGx+lcjDRN1zh/5jX8PZ0gGKZnCs8146fONF+Om0o/E5PGOsnAAssAAAA9AZ7pdEK/AEVaM2SsHECo3sOhaiPiOItz5zp3zDnk/jUGjT9wGv3HXdTGL7QMworc0T9a5q4EVANPDcArYAAAAEMBnutqQr8ARV6wKiKH13UIA+WA7mu8knvTpvMf0CIA2MgDDZIp3Ac2dQmnP9pwzRcXxiP2E8ZToxy1Dxov6/oqAA/wAAAA00Ga8EmoQWyZTAhf//6MsAFU5lyV5ztJoBDXOfsXd/oDXZlw2KKk8jZ1cond/BaO02xxB67gUaFOI+h25nrn93yZk4ypL3Gh736YLr2ZB/0vurjwXGzcIO4knJ7BIcge1YYdr8Nh/1sgA9aAeKWVdTuL7diKfiq5iZ3+bLmSATaLVcXdv/iTmZJTFA1lfGRXV1AOw67gbr5Khw3AddAI78Q7Utd3KG+h2h/1wLtw5OzOPAOVeK1SdSS6+ZQqhfqzF3CZeWf+GQjs6d8gNMK8VS9MEIEAAABZQZ8ORRUsL/8AM35Ewr+QtCXi7bQuVvV1qgVgPkrVlLSIGQAkUsxlPByCIse3W4/iw/CxcAm8ue/CQA7tC+quRnWiuSSgfNTUqwVUUtsixk/TdIFXJ3AAHdEAAABDAZ8tdEK/AEVaGI9KHECo3ozJKE5AoTi8SkK0daD9Lw1RJ20/Pbd/Zm7wKmnch2qW1uRTU7/u8XZQ5w7tsEmoTwADewAAAEMBny9qQr8ARWQguh+rhOD8lP07K2GwhTuOGJZQ5H7XjbRUdYolT8MyqZdlELAIACBCfK9l92hCp4WiI9jsHKzfAHHAAAAA5EGbNEmoQWyZTAhf//6MsAFJqJBFEBqLWbFcWuFGwKGIEJ43Iha9X3LazpZOvtTJny9QfYr7rEVYIrQ9j84VO2VTjCh3WfA12hWpXw8cxfwt1jAEgXc/YxM58GaFA5XY1G34Wc+rUAaAIadtOBGEhpNUOBW64uwqcN0WrPxLEf40eBWE5CuP/chpapMI8i652ggel73tEQP8l69ZTzm80v5EUQnPmMDIHjtRIjS+r13EiwRucGhvD/HEjIsAbg/IjuV25HAoKvcUGRu4as+rVlOJOf5Xas+YeDvVyZDYD84oQTklgAAAAFhBn1JFFSwv/wAyPfyI44FEtZhqPWBLuZHjZLiQSHdEAaya7uK/bR0cTfzKdPQyzb3h/5jeGJ9B6ClZcz4T7uYcAO36TI284lwg7N36zOUaPpPQa8Y4AAWVAAAAPwGfcXRCvwBDd9u2Jl8O0xUkjqgQ3YOTNFrWzX1VsShBtaI50IWmFHPVY9DpPsfXGYcEMItcHmHkRzkcZjAFpAAAADkBn3NqQr8AQ1+9BRI9wJ3ydgu4/n5YSy682iSVazjH5JbQULSE9cMwSvIffvmFAsXiZCSWBqUwFTAAAADCQZt4SahBbJlMCF///oywAUtJuMv14gVx/ol9P2dfhdE5tsRSNNANfzcuNXHbmXaON21aZZTzXTKDRswf6MOWRkmZTfiFvSi2kHfvQ+vXKGNHhFipxojD07FUcO8uVI7wXLMSe/1wcKMTB79CxQ/ykbu/9VLsZGJnN6JdylCGTE73ea44MghMt1CGtLCPB0qpKr13wf+q1zQqGW/lWo5CV+6pljwLqtsr8LQ+UhnKLqFYv0Y3gnhwAAb9g5Y7BO/WLTkAAABGQZ+WRRUsL/8AMjDVbzwlQ1agtLwPcoEaA86KmO7I3tot4tjFhxs+isBxoYUNO/CkwtvagY8Qc6A4XRTQw6bvZR2kygAC2gAAADoBn7V0Qr8AH731BarvoXm91RMAnjLvMy03XqqfXn+WarSW5TrwVLbwthVClfiXsBOr0iBokepwAKuBAAAAHwGft2pCvwAAqEfs8VpUFNZAQvlTobwtgIMtWvPQOOEAAABNQZu5SahBbJlMCFf//jhAAip+zSny2FHXR1XBK6+uqBO0yV+edncryXvNWfs5LmbPNAbo3mrTBZ0BFr80L9oRgqr+Zgoyk6gPM1xfdCAAAAa6ZYiCAA7//vdOvwKbVMIqA5JXCvbKpCZZuVKIILvfG2AAAAMAAAMDzITO9ICiIyA0AAAYoADiFo33xaGp7wBkpv8ppKr8WBEnIPlHI+jAnXPBzUKD4kEZXvVjC6S9rLzL5C+Ek5trRRdlxan464xhLOWV84m1B1pf9QSvZSmbdZ0TrkIXZj7wgrbjizG5vJXOgejsOWqU7n7q4ghmVLzTDApFBVy2gIQq8Rg2HFeNjpjITll/ZWtdw5w3rSnuLUlUHouK3SDYcn73vzTcBx8kuGgOqfy5ac1BAb6OEUt6OoZAPdpi3wqsg/VzhVu2X+vbFrpXxowy8LwOTT/mUkkPyBvU+CfRaugfsUiNXwqIbULB1ZOTcDwgKnprfaH3OT30YHaKykqEo70cBE8WuHFyjPyx1S82RXXrmRnFhzFo/nLXTRmxJkApdfkwPrUedoSdONZh6qpLljcXlzz/i4AiMAmymtJ9mquFfRPuxCkqVUNO3zatBMt3T4y/5/fNYGKKup0tpV/+T+cr3Iw/8wX2ye561SL+bDq8jQP3rtzJFbbjoUcDRHcootD9HpodoIJ8GuHP01GCxyzXgTQRNyQbYYoelArBiZjcLuy+bj+5hUJLSxeLj0JjfA//5F02MenTSFbJ9JEYW9zde86KlCZRbac0hvCkhr073oW9+5qZAgbL/DtIp1iMG90Er41YTCIlALMOrrpD0gCHoJucuFxZUphw7Hi2dQvIn5Q18QXm7wbYDb3XPcRJWi2lh2lV4mu6l4d75sw+A1PVKc8+5J6pFsT59DCXK1DlMs5CG1w8eKIB+CdnrFK4+3w+lpAcltY+/OwBgEvfEuflH6EBGAwBtrpwsltDdvXTPnoxLRU0c0UsYMS8SR5fRLqCVhPkEIM9XJNjxpYWRDFqZs8jKnrVvVHyymmzrv/ynjcI58g6qO8SZNNPINL8iFJ/2XdmZGgUjIq9uTq2PnaGvJqAdO/2pBezLi+eBDJRUbjKuNUVsRchHzECp1NfezRtIUarUvl3TzidabmRsKC7r59bj+AAPbgHdl11UmSe1VHWqk+d+50qNR/4eJTH8Cpbnwxyf8xXtQoVcQG7TkyltN7sMpDI9pwGMN6Picxx6Sunf9u4jYkX/a+ADZ8z2L/gVcku/VBfqlcrzwvpdlWycbpOyLuC6yIHhVJVkMoKqQRjV2WKlMG4CZb0UJvAJrcLUo/pDKF6auDgzFB7Dan0Jygwgja5fKkEC0f8ofa2rFl5i9l9QXuxYVafQyz611Vnf7LsliVX8ufTZ3ODCS026iVY0gOVqy7bXQJ3SslUxNvU3YAtUHjbuxIx3O4HFOVc8TkEdKUEwBysjR9LBGtSvzBc6A3GdMX8HD0PRHwY2dLfXeBDRywJg7NA7LrFTfdFR8yVOupBmT15nRncBQy7+3jsJF4OL0eeDzh04AESDEzTyqNOQQSr8jtAUQWywuHoN4W9cOZtVaLJevFxu8BVCn6dKUqaktoMDubQY/Lsn8acrpJkI9Q4y73M4zvETCxm4z9KMdq/wng/R/3YapDwPPIUhTjbPjUYf4lkmGtxqTwbUdfchCXNaL7sNdgnDBZ4nw08t2i6sgRHxR/huOQRzyAgCwGp4Klg+09CJdrXXLHFGJUv+k0tEdFFYMUBpxSDE+MVCdJDJKcPW/Q74bteiaqY6e2uFehZmGQHuP1gDulE6fs5mrlZcS/TjxMZnaPv8bC47sbvpzwqm4/m2QwbJ5QVa0rWGLvgXTkcwxl7m4JuvYhuqkxqDJr5D/kZ8ZQB8Mx6wbabMk86SUdXD7CpdAZwwdcCGKaNjV8dy2nRL2iwZW77dovMX9cUOQyV5kMOFuXM2p05o3aED7Lhi0d177lbrvBF+4X5EdGWBzas3ae4BrTI41XViDx7MHwHiy1M6BqfiqfDX8+Id5aDa2uFAQ2kHNstApn5vNtdkMseEJG2tDitPSrvjCAk+uLdYcErsU0tq4rP1MOq+JbXcimGPtQxppDhRmSMbKvtQbx0ceYagFNxGefhu8apyfuyY0TRv66IAawRiFfsNQv4SGfmnGoGWTF83rOgH6EmAENRKN999YOgnMycPh+ChtZMq0Okn5KdWY9qbVdtMh+7jEXdclmIVvt3mAv2WCLnF1Jlbljxm/GvpTgXzqSCOApHH1/1wIapOH7aK+lYe6aRSog0TktpDslNNsp+mgzgNlcWFHnRjbL8KOYBKp0tznczU4Qac5I2DKk/QAAAAwMEe4d9JqV4AAADAAADAAADAAADAAADAAADAAADAAADAAADAAK3AAAAmEGaJGxC//6MsAFJxSKFdoWzYqsiq1gfuTatAvT9/z9XdHfBKebfUpJqgWJP0k4+ALejOKnL9WQwbflWCJlK1HlrEC1Z9XcyQ2sDzI3vx9gsk1BmnvoPbUQjuzOisJ/kVH+0xgDPbIYnYg382YHGrwBiAG5NicF8a7FT+GGWyAV2F2S4wshzDCVZEEJ/aTWZWJ/ftnTLTS9AAAAAUEGeQniF/wAySyzN7ecnSj9Q5sy/JH9l5qd2fqcaGpCpPwFZv9HyhPYouvtdl6apm4qLN5IB/xSOLU2cJ5LxEUdFEd4Vyg+S7JPOLa1pACDhAAAARQGeYXRCvwBDeEmm6sXoJ4xObqOdh69dW3DsXD6RHuAkiIwdSxU4Gqs7WZXkLJpMn5SzyiXimc1gegZiWGb1khIeeABswQAAAD4BnmNqQr8AQ3O3p5pPS8eB4j3f1sNc/42jj4MF79MveZey8J6uUBodcDcH62jAfAVZYE9vzxRb8a2/qdsBCwAAAPVBmmhJqEFomUwIX//+jLABUwsJj4kkEgAHFnBqyWGcupORI2O4sm7HiLjC9R6NkkfEDDxPF+INKSfrdF/vIRfbVHXicXV/RUEfLBNeGb/nSRD0MzKCJB2JW6zlmpI4qgfHKARu5EIFmPzHUZI//bgmzycuxaOGzuErajHgh+v8VrM+KBlKd3eQWPU1W/Du80i4/gCRaDXCX9aUN0MQFVB2J/HaAmeNcLUxzeZnAdbH6EO6E4x6BLUJRDojpUTTf63XwSd+1biCPdzeF+OzxOYV9xA7crXMEIrAV6vsUISODKl5x36hlyYLT/dIBIJt2mZlBoLIWAAAAFpBnoZFESwv/wAzfoM5yJwt2XpOmmhKI/zAlLufaiZXvSJOqEIpV9OXN1e1vVyzh5qEVhCyV/f7Sh1Sg+deqH9YA25djKpAg79bNSKQdX69tzvYRVrCuep+B00AAABIAZ6ldEK/AEV78uQqLY1WW4hOX+db2s8W2NxymuXhRsSqERGpywRVruQaWkKo5DFpw3F3RVQ9U2KRwRFqlG++Cps+AKjpIAQ8AAAAPAGep2pCvwBFXrutoB5gBopIOe1J0sIROOdgD9ZMfFPCIE84HdjRanOT46PjuI9kDHI0CN/SVtxv6RgCdwAAAQFBmqxJqEFsmUwIX//+jLABUqmJRIGugZG10Z1EpPiKgpmmWHmbcWeO/8Nava+wJKvirbXOJ2s8MwzmESNmZ121sV0wGzGJclR3kqaANzjXgL4RM2aQRJ+PcI1T4b/92Zz0+3rLJEKGM4UIqFQbJFjD9Y0+ZPhx002qODFuG+Rl1vIOh/dyq870DuKy2aPbE1aPoPOVoWKzStpziIOm6oCyYSazyvnPXaecbVSdTaNsvO/7uGI3f2tXZSs75NrPdT2aSVODffd80/uWGbu+kbndVl+iEftpHPxdEQvTLp7ZCA/2wLvksfmy5NIx54iZQpWIEuj7LtST4qh/I0HS3kffcAAAAEhBnspFFSwv/wAzfmID/Wju2tyEXVXEpHPeYqMohcCKXtL+C7ADWsc47XNVKkosLlEvafvRS4qd3cl1TZY4GD/dltiWTWMgW0EAAABAAZ7pdEK/AEVaRBIM1urvlH3STSgBIDUvPBfOzH6QAMKnajYq8BU3LMzCXwL+zI5rCHjQJy0EkfhU6YcMEgC7gQAAAD4BnutqQr8ARV733Zk5Ejr38iQBRw8znSVI4quHU1K5/cgmnrdb+Mv6sCQ3T4yaTXoHzmhj6Qn1zAxyl1gD/QAAAOxBmvBJqEFsmUwIX//+jLABW6kyyXNsf9IDfuq6a5VeTjSd5p++cuEB4URXtGKXvi0h4N/X3UsUCqcW7RGMCMB3AzqL6gBYrgP+lrt+2f011nnt5s6+3wiWHApSYZAIWRJsNN8SO6kepFfbfC//gkZwsmM7hyrt3C3U4qirWDBPb+upzJGROHMogUk5W2kBVWhbdmJMcv3e01XeUX0eZsZmsz1JWbd3ERBDi4GS3zMHIENeTJ/WfxhOdE92T25tTtUh5lGQtWs3i5dfIPcbA7hMyOxD9XOeqBN8DOvyH+jloxmQ8GaKl2Qfgef6SwAAAFRBnw5FFSwv/wA0y+CgYclqhjGkJt08MgEe+WkxDMlNdzVcqvE2J87A7FX8jJqZPNf8ollGb7UQfZyA+TOb5+kNHFzQZDqUWw9ttCwJqEjn9sAAdUAAAABHAZ8tdEK/AEVaZhoBgQ8CqumxxI3ud9glbK6QcZYlIgY9WseGv0Y0RijHJHzjZ0q6LA+Fz1M9fz3m3YbB4wyupmAunr6YBZQAAAA5AZ8vakK/AEdfTGrfhFimUeuP8awmpRts8PCkrtAjJgtbTjvUMObj6bX/tQFNpEYeMyHaTtGfABJxAAAAmUGbNEmoQWyZTAhf//6MsAFdXutLdEjLVkSNv4ZPddgAlRfu88qWNeZOBUrJXa5j7szXXdVzB+EUx1CROEzFODXoQ3AIn8BBglRt8k7l1bwSk0Ui0x2YzZtKn+4m2yvmLI85+29IM7jd80aT/jdSixEmFLIxDX5r13m4/YL+Bj9ej1riSoW4sJ111CeCBl3vkIMA000LwseDIAAAAEpBn1JFFSwv/wA0yNOeVtE7FUHQtBd1QS4VMM3Kg2UWCMaTSg6SzM7u23GWhZ1qKnTTXK3CRdVu3iu8MyP7FPaRmn9HprldKVgBewAAADMBn3F0Qr8AR2v6QTvh6SRw6IZGZOGEZLfRKOcwxPaYgXFy4TEw6zoRmB6nJL5qmzegAdMAAAAwAZ9zakK/AEdik83B3HLLB/jgK+AFnzbZ02zBBOrsrWpf2gAIbjxAoCMx6yDm+AOPAAAAvEGbeEmoQWyZTAhf//6MsAFcBjUwCBRL81Y6aiudtnL+lMg4/xSMLhH6ljBAE/54h9KjBb+8oKNWtqmDdOXiKibxEoStZyXqsyT4cv4Ed7k/KiTldvw0w4oNEIo0S5zAVadYD8YDsc+qjrv7SItQxko/c+qcqOBX58jYZ3dM9sTX+rgi+SEVeva+AiPSKJFl39LJrmN24gqQj8bmc2TMw2GJtGKR/VCNIyPFSdBeR453xojzpQ320MuPveETAAAARUGflkUVLC//ADTMTgg/1SGvjYoy2EyNocXDwdVePqB0AWOTiAaHjlEIxHs0iBGKS/ZoLswydSHMVvXQutYPbN7lPQACkgAAACgBn7V0Qr8ADy/ZQB/vDAK4E5MoP6qgzmZE/CTE+++BV8HP1IagAAGLAAAANgGft2pCvwAgwgZrxzwj5C7Wr9t7v0ikBuSOgyl98C0spQRjrHSLLwFQgPhEZxkWCYaPSgADbwAAALJBm7xJqEFsmUwIX//+jLABW6hP+cfuRftkgJGhbZmUzv+oeMiLPbEkX8oJURG/KxTSYf8g1ef+OdcddNmxSv+Y4OiIk3NjLxspxOCF3/goevGxGW8Kx9/pQXNylKjNtfJ/ZdVn/3D9Z3EbhdaiLsdT/hSTMIBxlrtoMlfF6lHqLXmINLQjOlyorPU8V3B/CyaWejqG89ptxCRQYL6F4gxRwfoaK2+IV8IhNncRdQ7V0d/AAAAAWkGf2kUVLC//ADQwqIIdGHBS89ZBvYwfvTFCIvlui4DXtkzCNNw3WI3wdXkZ/8gUqdQr3o0/iwnL+S23dS1Mz9D4aJOGc3GEebYW5nxAsfY6lzGPQycpbIgOmAAAAEEBn/l0Qr8AR3iiaui14DFI9RC+JYE/BNZQV/gUBKxiCvoKgqogchQb9pkWyIDfKfYsmJAIRAapBw8asXDwAAD0gQAAAEABn/tqQr8AR3PSMlXRQlltl0Y437qIiSBHSOWDP/SJGJ2bZ1XYEbCeCVhZnxIeosxPsXD5swQqublAhanMACdgAAAA4EGb4EmoQWyZTAhf//6MsAFd5l+oH/YP7zQJbPVFCKx0DxuaYnetkhbgQMDArBrLX/AT+ni0SJeMiWUBIppwEFbleTnjiPpDOGf9tuVdOXXU4u2Q+YPVmdng0K5rugtm1kYAsh//HGvdhX1+u+dXKUxiyeoNmvRJNAvfu1Dzwn0rObGxDRpDLT4sLCsGSL8IYlxppCbD1Z6t4317Y79KT+CDBS7w+cwA2z3YpQwLjdt0hbZkqQASvHXCMBDVZ/H8ZZUGhjBdnadGrewsr76RjIn9+ZOX+UOhSFiIW+BwErOBAAAAVUGeHkUVLC//ADTEgaoHhrnGyAmNnrWTfSeB0BaPwwXXKQcFmFo80Okuxt+PwRgINyYgmUINGi35eytvXVtTa+m5vVXKfWZhN+y7NnYAZF77Y5cQBJ0AAABIAZ49dEK/AEdgNEmx1RNVJmDU6R7Fp7Zb0C34N3s6lrWFNHJmdJ+N3yjT3wuoQHNzDjnM0W5dw33J6hCVlFiFGmpathV4APmAAAAAOgGeP2pCvwBFc4UiSsnp3eX1qHhPMFBuFfY7YkYC4nqqf9YQstetT6jIy23SLJH+JMtiGRhB+ni2AwMAAAD5QZokSahBbJlMCF///oywAVL0Bkn3w6BRu4Wdpy7C/8y3jhEV2a4zBtUGnLS3X2oebfsrfeoNXdsLtXK9yjtufJzBnEo5yphRUtDw2cMEcUDw8B11piwrBUSqvPeHj/BVUBqqKlu7eQpYMAFrzoSNDghPsKlTxEod2P9Wir+dUtsw5HI5MpQDavteK106FntPBalKLq2OJRUSgRJqkdsHGXMqITkP2TDaAU1mfM2WNK2HPbl74Ve2Ramj7HjF4m+atnjehIPOBce3QE9UB2Ekhg5JW8cV0txxYMKTEfn5WTIESY3sFB3uFgRNLqIZH/uxlQAHrNmy3ENwAAAAU0GeQkUVLC//ADOI/zPAd+UO2IwOYOiuA5AJMVshfd4FEJnHezl4fzWy4vTEo09QNB8Laz+vfkihl25CUKfjk/VEG1PrGJBFDrh93h1jkiCDgDFhAAAAPgGeYXRCvwBFd2dRsZEo0j28nds2kqtpVAoo06VB8XL0G2kkbb4C6o5HnrHmao9mP+8UpcxVy9TVqSQ8ADFhAAAARAGeY2pCvwBFXtbbsQ7vBUt/bezWk4ojViDJ2i2fAUk31ZqtCUXJV2kwcNHtNeICZWqfeSdpok1dpaD40iNiQ7JdgCDgAAAAxEGaaEmoQWyZTAhf//6MsAFU5lx5ut3pxZtITWhKGCxfJ/O0DIYdXLkgvPR1hQPrVPmx9a6V2PVTEdUiBfqeN2F3DeIutfbIYr+KYvagNEVm2XWu+vn3y9jmvLVtY5J5/+jrmSmAYMKZX3aW1ddMuuQg07ak3UUfIcouKcLK9pQAKlwI+HBe1q1S6QklUtD7t9ulZ3TwcQkxqGtC6PNasnj4Ewg+N+ZodAtIZVzE+b8JXEXLBFu21nsNvnCm9AAogIAv6o8AAABQQZ6GRRUsL/8AM4F8Ck+jjQe2SDl1fDi9tgDWZr9gsbtPM0aHOyax2QbWuCx0UThrfZgoJqVUL7qwbZD01pupVjeqn5jV1nyaRU0CMSH8CmkAAAA/AZ6ldEK/AEV3ewJrY2Y0W+CjO7ggrahyQS8IwGoqHiBiIo7oLPhRTHnsnsHBD/vmaog9/LFe2lzc5k75CwMWAAAAOwGep2pCvwBDX1+T9b5o1QAevC0CIW0NhfI0ePLUp5AYw9WprKwmgSVvwkgy0f5mdFMoNvfC+lAAAMWBAAAAsUGarEmoQWyZTAhf//6MsAFKpxoVbczelrHK4DqTko4ZZZk0XRW5TyUANX9rtqm1FT3yM0u+khReFyIfYJ+5kA/3cEq2niWQnwrJ7+SVr/2zyO8I8kTUBEu/tck6MijUfEe6XQle/aQ/7tL19et3GuYOxxJc1UJCdC7Lqiy0e35eZsoBPcc/DcxVANNPNGyIeMByOh3+T2UpLV6Zd+GE58LEOYdCuRe41ow/3U+5Qp8y2AAAAERBnspFFSwv/wAyIxVenPxxrwFMLrRJBFb290MpQTugMRzJUD8/HihO9S5PslX8uHv7VbUIh10tge6ouUa4fPFHJsABSQAAAD0Bnul0Qr8AQ1qmg0UhRIwkPDEAsuDn86NZYhQtvvXmhoX1ObJ0Q6ZBhs9yD4zMQLe9lQRkZBCDQWUlAARtAAAAHAGe62pCvwADEKClgDiZPFWd2J2h90yYpIgAHpEAAACtQZrwSahBbJlMCF///oywAUrTRx9ZZYIrAyL671AA4t3E96mwAvER0Ygxu151G3XWCcjvH8TS7HJuFhDTn98nyotfI1zsFSmasqP2w6ZlKfAAleqpLva1xdYN4aTHpLifaX6gTIZ7CUBa/dGPaUF/wmVKwYH9UQzzmGNEFSjz+2Mp0OtjtW9d/aV0NIPh5FlVc/aPiZKacNY4vXqkqZB+mDnFyJ2VlLV01w6fmhEAAABGQZ8ORRUsL/8AMkcBTzVSmnUg6cCycZE5zh50WAg3FtUS3meaZP6Zrj3AwpCxG5iGz7ghNu0hS+VghAPHd9SUfGdyrgBnwAAAACYBny10Qr8AAxAxOx+zQJ0U9L/jB7OvqvYS5YSTWncvbnV6GAANSAAAADoBny9qQr8AQ4KEDy0vK7+xFxZ6BiFjhBB6fNkAY4usiIsXyIdev3UmAYoKiC3ik1rtcK2WQogyAEHBAAAAzkGbNEmoQWyZTAhf//6MsAFU6aAduXYrMlQNAI4LyU8DZyC6SDJUG6brdknpQ0p6OmG3Y+XiNRazbbYeiDmuArQ4ZdectToh/I4XxyGEWMYG384QmxHhTkFI5VZwOZiSFUs28fK3bzgP2cEu+4HM/Z3sCwp2K+GlliDlHWFWcDy1L+TJb/XiZ+ufP5r138Pj+yO5RQ/6dWy/vdIfJhHRkizZxhqFWOVvCOmRpKXC2ln7TxP056p8PkeETIlJPQyhJ/jLXiaX//7jk5CQm/iYAAAAUkGfUkUVLC//ADOKXj9NCspW3xHgMGiLBsjWztR4dmIk+/XlcgJgQ5EKETBRrkSHnsMUQh6SwUnYQMr3+ocUYUNo1MxDdHlv8CCLvTKmU1gAi4AAAAA+AZ9xdEK/AENaj2N77siZsHQQH6VnF9bLlTg9YyLDSm0WUu3cSQsGZwGVu3Q4nkkgnS/yYh/TnpXBavwYA48AAAA6AZ9zakK/AEV1z846Y7aH0a7gh20bIFPp0Jzel8fRL78kmUxyqJVoyHiT1sxWrRUgShWQGoaGjuwFTQAAANFBm3hJqEFsmUwIX//+jLABU2GWJ607Dzw3QFv+0IrR7IH0uj2MwDlD/jT20/ffK3sI8iudU6Lnl2Lr9fT8Y7Jgm11skl85qXFsuXfVYBGS6+WJrirX1eG1GOabmAH6jWh2Uncccz6Fho/Ra5DKcY6gILke2D27je6hsdkfE02OYHVGU/qIhlAP0Q3cbiYFMmwrdMBc+RLWaY6cwAuAw1I6uYEiZUPkR3mXFyIVXXXzNr6gFgHk+4m0krAipolHEDaxfi+tOtxBl2rXb4JAtOWgkwAAAExBn5ZFFSwv/wAziPY5HtIf/JJoXSj/W5xTaXTnpwas27ESlXauXMs81gilXA5vrzcR1cT3ptPOmvG3vkN8JXrM0NqN0Mna8NiGIGLAAAAAQwGftXRCvwBFd1AI4RkZ5gJfcRe9VpMXxFAL/E7kMwJqEs/j5290dVBUGlSxA0zguULTud6+NTXlSrnXgAa0slAAGLAAAAA/AZ+3akK/AEVeu62gJbZZ2YkvE1qisO3ZbIQgN0h9oxFEUTR1ZPB4zd6XrOMbchseyiskaEcMF0MVUH1tgCDhAAAA4kGbvEmoQWyZTAhf//6MsAFTCxDlp/6AB3hn09T/zpEwdX1ksCWD0MGErMw/QRGJJ6Cr8qEBMorogl7YmLn/EmGi7LIS/BgI1a6ubyRkO/GAzjZZVdEIgx6Nx8bG7gx/p2c5DkjUEsBavEbdDZMAjXoEzMPQE4Cbale2PUpGsQVRd7cFU77v5YRE5Ybcsz1Q5TViewqcj+P9Imh71lkWhl/F4yDVJZc+oR6shdbQRbxHnOP/m0tkWpBkoKMpXxz2pkndrbSIHLvlJ5NqmY6OsF4hVwLpHJRQP/LNDL76matXndgAAABMQZ/aRRUsL/8AM35G/gfjbYFzWo/mi0Ui2t2DX4ecHPSBrskHrc8wAEnFkMzm9Y5Wv0RzYvMXIvnZzfTt8GNLiSVKvNF87k/RKmAHzAAAAEABn/l0Qr8ARXdQCTbUc4qB5U5SGL6Dw7t3rEyGxr0R9+b7YCfMJI4d2ak8jNiCRc13n5XL7DYgfVGZprZ2YAf5AAAAQAGf+2pCvwBFc3cJJ5wVR6xFGcplb3KO4eVgRuINnFL1pPscKKgr9Ze7gfnGbejqx5VBXRsm+OSnS4VX7ZvAW0AAAAD9QZvgSahBbJlMCF///oywAVwLDAsdQEJwKAtkHe1os8vT50wShp7UFfyhreW2D2oyjEZc0zZ3Nup11UI/IygFomFQQ5TIbtGZONbJJYI9CFqQCmRy2Id2nnIsmAM5uLOpxcrApDgk7ghH+DW7lugvnBsobSbIZEoSipt84JGOq0LvqgWuad/9Rj34FCkUTjZW37H6Yw0sCH5bIKQhYLn5KIlqps8noCW5D7TlPqU07nTLVeH6sMupLrGhcZDDvLqTPnKB3K+l3kox4Z+koouN8XoblcIHGomB9lhdlpDQGGK1uzTT5uKdzjtAx7niDSF7yrQAgo5tjqFlCFLO4wAAAEJBnh5FFSwv/wA0yOYYJZn/JlxrLEAQdjh0DnOi+dZFpuHmw7Z0FEygo91vY+UM2oZ4135P+pDUhND1O/qb4SkAMWEAAABFAZ49dEK/AEd3iwGRwGMvMqzPl+ririEdKMwMZKJSrEc2yH1+6KZbDibw0CGkIA+730/Cjz28xRJNvlH66nEbA/agAA44AAAAPQGeP2pCvwBHc5uycpwqwhU/5AmGkodTFNeG76kQDVHn2cZCY9C8SyYr9M81DPbLd8MkywyjfZOwCQiAHHEAAACZQZokSahBbJlMCF///oywAV2Z9o8beAzZ0tCQNiAPYg4ebCHnbod6qCnnnr2boOMZ4cRXtaLq8dfvUvWcXU+epuG/QrM8K9iDQs2RIBPQepU619iVYd8Pm8lhD59ki4vzHV6m4ogMo0drIGg2GAe60Qp+0uRECq073CTjn4g88XAvUhbhBLhJuhGR7GzERmOtn0Ei2SNDJQ4gAAAAOkGeQkUVLC//ADTGmjkdlPr4gXyvICYyOpFkgAES+VQbM0ppFvlhp91BXef+IFz6v2wiG3k/V6AA3oEAAAAyAZ5hdEK/AEdsJZ5GsWTQxIC3pcdcv3pmIhS9gKihFjmwWXTLoskNtRIH/jYlR+QAz4EAAAAnAZ5jakK/AEVkJ6fqaVWWovhrMjIkH/fcjZBczPM1Fn8WkaS7wAmYAAAAmEGaaEmoQWyZTAhf//6MsAFbZ2Ho0wxPv4AK/7C2e2eP/1j4Y0cx/HCjR63c/hzWpEJMXr8PdQk6weT64WL15xK/gP7LTBQTG7KwVkaRLUq6vnvloNdzNVLL/9j57AtDxDuLl1zOgwY86joxE/NCrWimrQggisWN3r1RjDjAhTgPNAE1ndiB28teKrPKFI5y5FAO4vVGWGTAAAAATUGehkUVLC//ADTNDrkc02ITJKkBgqMChdhcypP0zAfETjVJ1lVhFZMklb43iDEGFsCGi7lMoE20JFXBl88FPTIC3jN6EbRUuMUsACghAAAALgGepXRCvwAHFqVu4K45MtogmJTqbnnRoErc3PeIqGTj+RMv8mX+8nCjfPAAZ8AAAAA6AZ6nakK/ACCv6h181grTaR119lNg440xYw7JTJvkIpaTD5hGY3JFwmGhJYvqGjxXGxfuAvtXKAA2oQAAAOVBmqxJqEFsmUwIX//+jLABW6mCoJj3DTHwQlG6MRhSkB0EePDbRaXVJqdkqFQwdcaRwTfSD94JT+dla/uW4o7cl8Wso8IzfDfF9DKNy4MnWWwn61beLYhALtINiSNm41IAcvnjebPcpMPLZhI0hntTxYdEsq5oAlRFg6SwXVMtsVcG5tqxMtOYXqw9GNbrsjhu9+o+tpYJ57TXZvDk4aSa1g8yGRCpTYYbqwzjvWj8Ia2FhxqrklqgF2NYD4iEgsvHdwQPT2f5V9N8yUY5NOnhokIB/ftWiGzREcoxnU2RtPq2eZ/4AAAAT0GeykUVLC//ADS+KIPbLjxSAc9IfJxz+3/l3vVQxWAeVZ/VvShfjR7EO/lrOazqreX0xQX2j5QuKdd83kxYunpDRg34Q23L/qUYWgUAE3EAAABGAZ7pdEK/AEdaXLYcl1emJZsCnFkOza0QOVGhcILqmTpTpJt0z96ojOycXvkIybon6BQZg4lK5qyowwHY6MCnoglSMgBbQQAAADoBnutqQr8AR17vot/SU+C7HNv/sBPA4JwXwOj8EabPJd+ddBWYkL75o5WrzcWwX2vFQT35KPrk2AGLAAAArUGa8EmoQWyZTAhf//6MsAFd90aBvNLJsJZbMU5Oq3iM8bzxdUJUG3LkQ7wO6/BzaEyTVpS+DAQRA1FhXmZLuCFUB/NE+jEm2d+N9b0Gn+EuKBOlNdvi/Mdxy+XDYdfS8PZNLvD6qK3p2ICiUSYcBYgfAe7aiUJPFLA24Ly2IEu9SAGrrqhiwd5gdbCqUJ6nv5g/s67wYSRCPutYHjTxbSHmacBaykjtpqNlpO3TAAAAUUGfDkUVLC//ADTEgJTc/jRkQZxy55x4h2jphLJ4T+nX4Z5csv0hlAhxHoaYbY/APaW+/+oY5wwBdaDKQLteSYMMvgPt3klYx8NR8iVGMtA7oAAAAEEBny10Qr8AR2A0SbhX2WglYu0KRdOOi2GimCDy5jccNVrinpjUeyI6cCdBXavGvVKMFCPYGk58K4K0DfhLTYANmAAAAD4Bny9qQr8ARV6hKASIEHjDnAJAXJ1aYLVRU+0APPJT8+QFgCKYHU+QGD0lvghS9xt3r4iN/QJiv4AsYGBgQQAAAOlBmzRJqEFsmUwIX//+jLABUwsRNadOuSVAFh4xGAf1XnIGgewuhiBFi92ycL7cD50Gsjp0/gyaS5YT5rX1NX6EHlrClXCIera63mVtnqqexmAri2CreicIZA0vCrmLCVntyqW04cs8CYf69V6XNQo0bqWDKXTBVAUGuXkpxAJ+j52efLZhr5K0VVB8S59cM/IcgGnP77pjc3qtu8U3vZvKZoUxpW4omulENmQNFrlFCpGAl9rcb/CJ6mNhcMHU/dUTWAYMP+/0VTxh8RDQJ7QBA13VxScNW1yAE3vzlAJbJMJFjFf30D/qOAAAAFdBn1JFFSwv/wAziP85B1b56tS6rGXK5wmoD/Ili1+virODgGs8gPCIEJNzOsiTHiaXRITL7YNu5bJ/AN5uRBWaVwmZ3a55jNSaF8C9MJt4jQgfbQHDQYEAAABFAZ9xdEK/AEV3Z1DvcOO+goKq02leWqjltf4w/ErbIZo8JAjOYaCUZaS1CNcQVuNI3KXlPYE6VNOesTaNr9QkCeXH8QFBAAAAQAGfc2pCvwBFXrLLe1/kaUzWIVXLXlnE+C7o6C6gowNNI5n5wODQ19f7S3fGYbmWSPjJpVXZXMzhCSR+ptdgAssAAADRQZt4SahBbJlMCF///oywAVTmXIsb2U6mvE2gB3TyWaIRYu/AeY+AXp6wA1RY+kmag1qsDiNK9WcvS6Ic/G7HbWA5zDP24nGANIr1BW1vaA3kUz5sEq9mnLvAorDeqVs0gDtZ3ZgfSoZlBP0EZQyrirAPBF1cjAxhKPQ1MqHsWFCin+wvbXD3lWsor2FSYIo/19NDOchKTSd7Qb9XTLbnyl2HgrGvvrU5poJKBrrOW6nS+Ay+BWYyRCUr4JDsD5Uyp9xQMTEa/pT7MT1dBlkNyaEAAABEQZ+WRRUsL/8AM4GH9cAUKi+RfxUdZjsG6eq0Pss5QYynbZTiHLn0h7F1WVn+ikwkPWVn8IYb/0l696kBawXKDwygBswAAAA/AZ+1dEK/AEVc6n56af6z5zkqeFMwdeO7QG6CJbhFJHqoRSHw4eqZFDIifBsHbU1D2ZHE0Pkt5zf1HCEGACpgAAAAOAGft2pCvwBDdAON5r4WVeUj+xBvvMGR9Q9XdJ3vp7UDVYyq70uC2hxAKn4T6s1U+Gmqeeg2AKaBAAAAp0GbvEmoQWyZTAhf//6MsAFJ81nCwXv/UREXegN9UndNrG6AY2hVDwCTVQAjRXB91ZyMhEhkpl4kcxVdWq3WlU2CUVrfu+cW20XurpHXyb5t/OIHgFOVsj0+IAJfYDnU+79mxcM9mfgY/FSLqy06G9n7zpsI+bCLxC8F8B61V0EdXyj3tPBV9EQQwFr8U/zxoL9fGjR19r2v1WM7jQEb8xP11TnEWCvAAAAAR0Gf2kUVLC//ADI6KDi7ZTqOgg5xIgOGDgPcnXIdUUmGa3qdzlsVP2Gi+gm0lkT5s45BruFsWJWy8RxIGh8z93xzsIXYAOqAAAAAPAGf+XRCvwBDbD7lsVKlQKSMm6xKr1Xdn3KEj/RxyFzmdo9O0OMk6gslKxjrQ67ZtLhDO1fQCZJIwuwBzQAAAB4Bn/tqQr8AAVCwCQy/7ufROqPm3GjfO7qs3WAAGpAAAADFQZvgSahBbJlMCF///oywAUqSca93IBije6KKzZVdsYa3+dwk/hOMl87svr5PoFGjfCvuQrSojpD6xwEmeWdHzOxPneyaKTMyauWOmcxgplLoQWUA5z0PP/OgDdWqZVyOoYRh0XycJPIh0kiOiq6Nb66eIAFk7OvM9o10B6n0aEEVD9FCtbw4kaA3wgXKURurrGAxbFlHgXFOHKxi7h39OPLTZVuHyYEzn0MZLRIe5UfaawH/y5PZ/mplOcvUAMXWqbfzA7EAAABSQZ4eRRUsL/8AMkmJ0Ur2OP6UeQ/byLeQvo5LjyHVGuBh95cqhfQ/gvuIwxLQ2TZ81WyXu65SxHXodPRdaRMVm+cOoTq3Y+TZNESa3bS6ZuAGfQAAADQBnj10Qr8AQXlo8ZF+hD6cmODO0QY8lEiiFQ7phTBDxPhd4HRTgOVspRkkKglKkKP0ACtgAAAAQAGeP2pCvwBDX/UFHV3Au2QNkFhpWzj5xlJP56taXUhAKRgDjpr7N2jcdA6pNwACEVj+V2pnruWbbKzcQpwAwIEAAADRQZokSahBbJlMCF///oywAVQ6cEYAzn2AZnD+Th9cdhRLce061/HMV8CMXcztSjEtT223jMHFBcVZXMXfPSzKpLp8NWiBIRRt++3OLq2xft21FUTTRTY60+0eRPm+iMXlQe+Wa6A1W23pCBhP2/ExWG02sL86t+cTT0D0w2VBJCx81rZrPiaht0KcA381mAUyuEZNytepjEQFVw5FLonYVRvH7WM567IOnXsm2e4CSOXs2z96dAoBEZuopsfq5Bt0DNaGtDZRJ4KCn1MWFcCMFoAAAABPQZ5CRRUsL/8AM4peS00K6atCypoaUfEO1ZW+MdXVyJ9YqUQcoFmWZ3LprfpYTgf13O/2Ycw6ERzBumedcNuqJxF+fh1seS5MPc5Nk1ADewAAADsBnmF0Qr8AQ3e3Ov0fDeco71sOjTRQ/cThS+sszpKgLpPJzFPihBoPCBnkTklYPnxTSocdBQyRkYCpgQAAAEkBnmNqQr8ARXNnr4lHdsecJMUFRn3DMBObZH47JmdI8rEtt9GZUdcgOSpArlMmVvm2F9I/4hc1eQB4+KYkdfmaGi4EWsoAAGzAAAAA9EGaaEmoQWyZTAhf//6MsAFSqVkRz/kculhzSAtY7ahcqjD3yyuABdBIzFtdU47kaVzfzydzzHeBTfTi9Qm8tH9/Mp4x1vZ1aeVHsj/4vkpKuM8zywTIEOhYWfT8P89NYEBs4oaxVDZX6/cY/VFfyMwgxHlmmAdIGFg1x/q+ssoem11ePcl9h17BK0nMX5qndDAT3fSESyqn3wRzGprL215NQpnjEFeOBsSSkLIQeJJ9u7x/QkdtsIungtIPbkJjskSXoaKE96qKT0962jQQ5lF9Lb5jlkOfjub0kNCE9LNCgjIsTVNT9cz3KSeY8dyCyxbfZUAAAABMQZ6GRRUsL/8AM4j+KzUtOy+LdEBqSy2BhZ0hf0T1qVZQ/bsR54kzD6SbTLTILIifVXduMXFhqz2MVadknLepgnrHPZFDQoRZVNA3oQAAAEsBnqV0Qr8ARXdQCOHOwOwGRAZwEIjR6t9mjDWRbQSJmQ/ITxnJR2W0t8kzb+ZIhRsRdhUMP3yHLObtG40w8HkoeAkQb7hnvGzAYEAAAAA9AZ6nakK/AEVzYAnROaN1iBvJRdAZr4DSX+LPt9e0oLGnhHBM5r0Of6VnXsaTl/BoWpbnDmx7gW1KC9AHdQAAAPVBmqxJqEFsmUwIX//+jLABW6mSyXNwMVk9U23glSqztbSZAsvOX80HbPNeUt4CLlKhwWktjX48vscHmQH6YEcGSS90Y40kf9EewwwO9uORpAav1avSIOXR4h8fGUvBamAT5nvH+gk2+FtQ/pR9lUBcbj0WNllVOt3aTYggXFZol51EdI040XQbkgViG9YQ3Hd10zW7QPdRMlNqgy5nIWsVSq0x+aYaw1cQFuj8StUtUrEryEhbnExuv7NmTlVperRiOrvlxxJcPz2dD4HxcjqU4IoZBvrI9+lfKskTuf84m1ghmP+u/OE2YdfZnftCWXLpaV/+wAAAAExBnspFFSwv/wA0y+Cg2ftoyrhViiKtKogCuKifSMBTBz9mTUztBnrmdJx26UuZLyp9CrRIbaeVqhqeTayAAKpDd11bTxQ6uNOoAAi5AAAAQQGe6XRCvwBFd1BP+aHYVKHg1DFxKq8ynFE2YIUyAJHP5o2wYo33b4bMGypxwdv400JlTq47BxvtnV5jEWkV4A1JAAAAQQGe62pCvwBHeLP8puUniWIAgANjJp8hJQRlo7uFnROBhCh0DLN4gbQ0GZNzo5DLqvdjQrXDZ+yLBTiotUqmAA1pAAAAtEGa8EmoQWyZTAhf//6MsAFdVgjyYBAwnYAAAHd/hY9hv8PGZ01l5g26n8Axzny/mC92O+ZSo+IpNCm0/ROgEcIk/KtxW/tDsbYr8S/xVE2iKqHJxxr9+zOOfPmDw0uO55l7XATwe2aMt79tGkN9kALoirg4awiuutBACPmvC9i5n/uY/OU9Kfg3e/FvA0yd/7hRz9Tyhe6orV4DzOTY6KRh0Dg8el8zIWTbl7Bv7CjmtmB/gQAAAEBBnw5FFSwv/wA0vulRB9wL1P/gZEGyRR3FBur2wmraq8VbqZjfDu53T5+YRbRcTsFNfivY8lOtJkoLL4w3AAKGAAAANAGfLXRCvwBHWplVFHM4VoykftAPMYxBgt2j0lvkptJhPWUW3jKrnjcVg/S0nmF+GOyAAfMAAAA9AZ8vakK/AEdt8K8ReKkJbbYraxSTZD/hAGsxQkUmN6VJbtHeukF8I+71gPAoYEbjymoql5gWQoi+8AA+YQAAAHFBmzRJqEFsmUwIX//+jLABW60HN4DNtEoKa/xF/YOL9R7vPKkN+94JdoX+x7SFyNfLIp2za02c1Ch3ivbGudk07Oua8IyUS2PpRX0NOPfhUlEQ3JdmVhnLJHxXXz9+WEpWbefULxz1+q25nnTIsACTgAAAAEpBn1JFFSwv/wA0q430LeKqJgq6+PvSsdS1e9JhGl6zTiAJaS9T9fcWo48Tkd9M0OuAA0Y+CkdNy4UWRmzLltsT+Uu2boaGIhAH3AAAADIBn3F0Qr8AR1wR8OIxIqM6Iu/NNtR1dCHcYykHoqaHJ+8Ct+m+tU19Lo8nG6FnggAD0wAAACgBn3NqQr8AR2nwJ4nzFX3c8BXjoAAfG9fT6kMEPkB7Vz1HmIywAK2BAAAArUGbeEmoQWyZTAhf//6MsAFbpin13aEf47Fl6Q9sPTp/K78jIETkM34/U2JEzhNFoUoG3uoh/sEfkZUF9IxSPuT1mnD2j8LUIxrgoAyA2u+3IMfy2XpDESks9TyN40g2YsQBPVLGMF8sQFYqnoj6oTgrFroFxeuZ0EA0PGP3RGo3wN62dS+9BWl4bCVClWJkRK1IMgJfmXZXyWmdvmxmTme/xxNob+8XzNNF3BixAAAAS0GflkUVLC//ADTJgflI+Y1jTTMvBnkYFUu+iDkmvaVk/NMaqqX+5AE0R7e2+Oz8kpiFDjum0059z7rdHe8h8c5Zj+I/p/t+U3AH3AAAADIBn7V0Qr8AILoczkJsjhMkQ59Ezc1NJm/AQNAkGLbM2Sy7rMfBViJUi5vMhLW6gAAQ8AAAAEEBn7dqQr8AR1/UGiABq+Jie9YVGsr3HlAeoODXyviFZMBxua8pNku0v1wpq9iF/mxSYE7/3wC+iBSzDgnazIAGFQAAAONBm7xJqEFsmUwIX//+jLABXfdGgKQKDs4EXX3wfi5e3f0PdvBOjaLpdIqce1akn2UUmimIeyhDXjqC1S71qC8zq6F8u1LvQJLBsPw9wzJdTaMOu7NBxgsERwE3fySDYR/eEJaBA4aynFpfJTBV4s0VSAvTV0MU2yKbkdqEY6N5O4i+7TRNbcIU2miBjzVSGJs2DklcEQxd+CQHVNgISEG5o7sibmqKYy8bV4vlEHiAXoQgzX5DcDc0bHLUgloHYDKFSur+e6QjZzQv7bqBfz+3ruaFmag6S35lSR98Yr4edycngAAAAFlBn9pFFSwv/wA0viiD2yx1pXi2wn+kDNVGQej7yo/itkugwN5s5cAC50YAA9ZVBuE3918o1I9Sr8ScjaomiyCN+ENkmH4ADhM8mg1JmZsKO3cv7Sn0Lx4BhQAAADwBn/l0Qr8AR1o62Ly2pTOBtTlD+Gfw9ypY1eSeoBNafYg9tLzynRnbcnstYxFOqvdRS63UvJ3v6GDgB/kAAABEAZ/7akK/AEdzsBk/fGTLYP6JU+wBWlKX+AasJEBZ2wOtXrgpPSusEZhBw2LzSeVrDcKQ3/9IhtPvAXT5SIPXwkIgAXcAAADgQZvgSahBbJlMCF///oywAVKplRzWMOPYGS5LwFh5T1fttZsHsHgig9x/giZn7ry8dSbLfzHlv59Toj88Xcx9fiNA0DMKElwhKBb0gxKOWfbpjslLGSVSXoHTK46KKa8u6Yff0bVK2/90dm+abJ/KOZl01D0jlzvUJ4jnb3ZJHZLgw/7iIKFEnd5OIbA526HNxnramSyjs7UszniN99Dv+5Lf9dL/33BgOq+JXuo8P5zF0hFfQmtsO5MHi9r41v07j1S894XVcc1jM0wu9Q8uQ5iYFevDFjYlORCUfJcOps0AAABOQZ4eRRUsL/8AM35bSgSE2ftUdhj/5JLEjde5Q187nXmLsptZOC6zi1cZFTfe83jPuXzjWFfxl1ADavoKNIWCgsjmRGANWPN81UtfACNhAAAAQAGePXRCvwBFd2dQ73zcKY+zV4hSEs7ZZ47RZSPIQtZs5jGh39IY43Z3hnSxKclyNIQ9Nle9P9Z0WIcnyH6YDUgAAABDAZ4/akK/AEVeopJytf80SMqBsyliBaXp6t/PoN3pK+9/ExpovlBRiUYINVFWUubF9+0waUh8L3AR8efgO8PYIYAWUQAAAO5BmiRJqEFsmUwIX//+jLABVOmgHbl2KzJUDQCLqnT95CbJKP9TwgaMBgZ1tkn4lf9t+V9SEtx/WUN1MvfaGXEnymdyZ0r53leQtaQdGaZmJThdisNPgTGBRF+c8eQu552rf1ehJhPxsK814VCI4koUP/owoqSo2rpBH5scC8NtDYMrWwh2r79tpYqqu/UQTXuH5yQ1vSTou88Y+oPRZPNe9IpSe+mocpA51j1nMeY3fBTYmHTmDvZplsfALDgnIxDpAf7g4+uC+WvvdyUmp6B53BLwCQKCU/tiSD+HuRxqegHW538FegSRc3dEF5uAAAAAV0GeQkUVLC//AGwiMLqtdwGCWVQlSadnR4/6+ztwMbGWcypn6aseJtIcTX0Xzy+0vE/bAt0gjIK5VsbbqdOT3DJENk9iXMG2Dr8va4TJ/hzTKK/Xi4Al4QAAAEIBnmF0Qr8ARVozZVbdTPlFk73KCUCR+z5V6RTMbQ1OpdhlcYi/aWyq411B2j0H2y+oISOIqaNV0ZBpEY3hJCc4Ab8AAAA9AZ5jakK/AEVe1tzcTzQKmlW5N5xxcJlxYLPQIyfnrA5t7K5+ArbL6dqAs8UmvMiBEsg6w0RyF112z1AFBAAAAMpBmmhJqEFsmUwIb//+p4QAVrmXX6cf5DMWyyAXjF3/MvfNT++KNO1yyJz79Gqh+tE1U+FDI+Q3PU/bH76oRlT77KXkPau7L1ikdz+YdmTufNJxb3Tm2hyXvqb8ZyueaHVMBR3O/q2zmuJWdV7nXBy4RjAqApOpmL9K8KWLcMB47Tw15Jt2SVR1wirlYWpgZxi5y5EpANrB01QVSs2Uy57SGXuZqvAozL6MG9HwchVEev4xGC+GD4HA6WEAiwmErQ3aaZ7gF0/iZKqAAAAASUGehkUVLC//AGwiMLmWtSLMFBrHTltB9/JP+iUfyBahCtSNcQ4VukSbn+pr0UPdrh9ayMxw+50YNZiJ4gG52tTACdLDxt4AesEAAABCAZ6ldEK/AEVc4sBk3lG2E5Ao+pjc/1QN9zlnDYzpim55BQAZ36MKSEj2JmeJCEITkCSLu4ECCiQF0FOkDIkROALuAAAAQAGep2pCvwBDYDOACR1mxv2nPzZxoiCCpEP38GzIuvNS1E6jjuSFmXM1OUjETzNRUBbvNXy56c4tzJrGjAYGAWUAAACXQZqsSahBbJlMCF///oywAUmyC2ICaXotCqetm6eawCH5FMMJXQN+3DFVt7GSTfgYl1a3GBz7uPn8hdd2Ypl+xVffzHvi/c9t1sfRjkrBYHhe2Y35oHyKdBx70A0lkcitosP0xZudMhG7Mxe67G+09n/N6AWo9qXB8mpu2e2xGHe6W5rfJ492u5dOZ4RmdOunWnOh17t5aAAAAFhBnspFFSwv/wBsIi7FmKy4EDMXNQ2iwtFSZruJ9ogOIg/3LdpFQ7p3ZBbCOG7Mixi4OqP5HqIP4vbiUPUhJcWGExXIyVr8+6RammzSJFyihRU9tlSIgBLxAAAAKQGe6XRCvwANXla6+t7VuV1t8WkyGjTkvAvPQN8rHEtxvcdIGnwAAAXFAAAALAGe62pCvwAfxlQXhXSx1rb5YoUK902F1ouIQ5JCI20KjYlW7GEkyL+sgJ2BAAAAwkGa8EmoQWyZTAhf//6MsAFK4rytJLIGjpEdt1bqTx0plyBfUeYVNCx9NkHEyG+yrGlThxlk7YwCpjdGr0OxIJUaIVnop0eKEjxwowhTu6MtylF53NAfmu+oI9ypDXPOui9cMWGbu3iX3NPltvcladEVQlTS3hKLw1lMqnrHFMV+LqEp+E8zVSiPJseiWVQNAEOr5SHlqpImqd3Az653NHhgIxwqe6imDDTOB1SKbUL1afdBUEq8RMPrxGPusggviZfhAAAATUGfDkUVLC//AGwiLtEMxFQsjQN7BM4t2+8CJcL9aYBAJA7R+W9jY87NMWDuP3nLMQpzz7ZfADqMtuMd+Iv+Xyd+OqaeAjGdBN2sAGrAAAAAQAGfLXRCvwBDeWlYjJAjbCbmCWU9D4+F87BLspMNi0RPOwDXpZDW/4sEAVfyjwtEkYp2A566zKsvH/3un0sAuIAAAABEAZ8vakK/AENf8kSM8TNFoNUC8o9XDdCOx6pDAS3JbNto15IcmuECGc742rmGoc8cc7neXrJSIVlCMukd+FeAbQ+ADwkAAAD1QZs0SahBbJlMCF///oywAVKo6v/oQKEHMTuaRg7x1vO0Ias7evjAcG8xmxZFE9yquRvOlDbB9FEvqBAPnnusY9Mog2fIfVF1ieTSKDXxiFdD2/6Mfvbk35+cj7Z6JUw+/3qDDFJEcz6FhIgBqcrGKJ4WvHdSrmE29Vdp8PPV9Uy13rM2IG86bHp0/O0MYqDgFOQf9C4oGGH2FQG4nZmHWcApv2GhvhcZ0y4/Scyi0p8JrdaqjHtHdCu8bS03yoL/sXpx9kNh1KynxjM0GFo9Yp3AVoCL6WOpUr2mIVlhpJpv0r2vTNCms1kyLFyZc8CFrtNuHIAAAABKQZ9SRRUsL/8AM4jkORVnKY9KIFXn/KPuDEQqaRyzqGwfqcArCF1pEsmfZ9roMS3Osvgcx7IlN3ACnq8qkSjZA6JQkfCZiWjgGjAAAABEAZ9xdEK/AEV78uPRGcV2G0j+AIOIiFXtUjgWQKn5LtTIAkfHhCNb2YZ+BMLDcPZgL0ERUr6Otew6OCYq/Rv+g0DgW0EAAABDAZ9zakK/AEVgINfaKBUCDeNLXVaWFwHexcfrtSVh3vIme/KTHOX2Ieel+LxSkPlXdByY1Hc6gNa+27QQpNzKX4ADrwAAAOpBm3hJqEFsmUwIX//+jLABUwsPpaZurQA1ay5WJnxFNvjgDJm0RdoQEkdsN2o5Ibs9kEGY+52XSFz7sdNPD5r8SzCO0mwG2kMWUYK8A0BTcOqdTP1dhtAGfqXjMGvIQ6utdM/0cvMOzNcg6qGdBgz/gmIFahjeCjlvRh8EsKDFHSsL61J17lQQNu5GbKvUNXJ6UOCjF77TJKFmgfgbK0598ofeat3odiXJo9JohvBclcAp8i1Wiya4ruLui/wR97DwR59/fBVt0Z5jdIS9iPJtvqeZduJMKulI2aUsXBkNzeaQEEm9cX+pLHEAAABRQZ+WRRUsL/8AbBTn2e9GgGapbhvLm9Z9rLthjtxPermdwVBRYDExX64Pa2w5qim0KYCpUlOzIrmuX631D1A1JlU4XYACM0c3sN5gY5Sc4A1oAAAASQGftXRCvwBFT26961f2yLWDvqD5AhuhpuFfZyqnu2qoCZKeSJRcsleuTv7yTbU37A2MDBYOpJJZrHxqYosjKLvv2EO/IMKoAVsAAABKAZ+3akK/AJLsA5cChVeZs21n/Upsc8k6lHqL+uS+Eh0R38AA4T4cuLxzZiNpGWCAyVfi0x2FiYhoe/iBcv0nRduC4nbxz+UAEfEAAAEYQZu8SahBbJlMCF///oywAVwLESicPuT+dYDF+Hw4KahS1xZ7Wnkg4gq1Y94k/UtDR1U0aWEq8KeVCWz/ckP1jcWTLJgd66oey1/tU9yqiQTHW4126v0q8HG/b9a7sD/hniwHuGCfYuBKRlFqBXr/7vrWM69Arr8sI60IhKlXKVW4UcOvctj/zzq8z91eSIO5Uw5jyK+3gyFB8GogZQq5zf8Rd7IcZDWIikPdfyTH/96iiIUAORSeYkbB+XIx1t2UHZenqaOHiXQcVvFVBfpvsGPmCHI90L5btcycwUjX3xRyn2rOkcjKG+JdjQ3QmqJSYeR69rO6zFMJ7EiLK6bIxthtN7cxrShO+taS4G4eavJ8g0lZRbHVYAAAAFZBn9pFFSwv/wBsIjDbGn53lU6m/I5glqH29szE96o+HGVRr9JAhFAAMsPHtZ/Si/9FLOdTcmJ29q/WJUGXG8rwimLrfqb8/2rF6fEZ5Ni+mZPQ/AADugAAAEgBn/l0Qr8Akrohhx4S65silcOnaQtWkx9PDIGiMl1Y5bbLMPS5aqVArA0M9TqmSUTzhdaa+fNefkyiLydwcvqMinSw0AAAu4EAAAA/AZ/7akK/AJLsBJcXSodOfDTAWBEJg44ORsM/zIPD+SYrohVdsD3vtoCDjd9ssiVPf292xAQRrjuTl4q8AAoIAAAAw0Gb4EmoQWyZTAhv//6nhABY44c7+nJtZ4gJyQpW3QLwKBgKo0HTbSMgSN4qWXCRs/nfcX8lpILGe7Xd2G4c2oo8UdyxHva8JRNlDLlbh/sQl03tBYtg5m1gE3hk7N9xd7XtyijDHgFJnImqiVzAcQMMM5ZWLcYZGcafeGDd6JhOySan9OM/c25MwkqIOCYTd+8BtrNDx8jaM/IjhN70o/90dGuL2RmB+XqvW1Hh8AEFjvXElQP+Np3SBbu0gHEh0t5BgQAAAEdBnh5FFSwv/wBulM5VVlnSnGlYb4DiZ0/jIx7dk5avZprpX8WYcP3w1F/UDKHG5AL+NrEgfHqqAZ4LSwWt7hQ1K6wHIAB6QQAAAEQBnj10Qr8AkroimvVBVHe0n8o+xXGourwaKUkgr/9LJA3rJR8crBTCeOzdh+YUfbtdNsRElWBQrII2h0QggFn5Y8ABZQAAADsBnj9qQr8Aluu5g/CET7s7dtl0xQWytHaZbXxDUA/r/NH4SyWTwx1rATb7ODy3Zb57JMU+BifaoADegQAAAI5BmiRJqEFsmUwIX//+jLABW40QABU8x6y7NvOEdZqyYdzIcE3/+AS++s9IK+MBrd0/dWefLnW3g1ECWiZxCCLOoNR9ZpEiS6m1C2/XsFmukWPiBeOn72E70jVFrgRXyE9HsaoTCi6Wfy1EraGi6Js9JQUggEEOcUFyQm0tLiYX3BCAqAZmg3NAZyElIFLgAAAAS0GeQkUVLC//AG6iJ995/mdCRRBQZOtPn/lstAcQQKHC/Z0QLhrA4aVdMTlPLgxCP00bdcPE7KUoACt3VWgJtpE4pI4k2CjzTQAFfQAAACQBnmF0Qr8AlrmxusdsGANFNFsIDu/8dL/Jh5AYcNuwiwAAEvEAAAA7AZ5jakK/AJbruYDlbPzAHRU/IbH4/Z9dG/wBJ9vW2qp6kkVRCtrTFWFFaF+Csc43BSIc7bN73xgATcAAAADCQZpoSahBbJlMCF///oywAVuoHmsRWEnf/iBfXKw9ytq4X0DjV4IrvX/XIzZd1Ht0k/xm2GxbBGxzQgZ65aH6lPTEDu83QzPPUzMOiRX5SCFaeF8G0/tzHJ8wVYicnKNVfTksTj+7tgl5VbjEsbUClHmzFlBkNY6RP9mFP6DSaHbWkL1+nSYfKHXSzbSs/051RaG8YOvBdL38+0Ullw9146aK4uh+9AONh/od3qaObLqYhzR0HjeVWYZ3Y96fY5wlntgAAABIQZ6GRRUsL/8AbqIn33qbUmesUu339j7/QRQ+sMpfpszeI1mq5wA1S/SLiLAbr9MKG8hsSSKBup+Spz3AV6c1R0pyyxjsAAd1AAAAOgGepXRCvwCWubG628fhvwNXglyCWaM1FsWarM8x3TY/oit50IqOJSMrG1jvpMmERpS4FWEHcyewAqYAAABAAZ6nakK/AJbruYPwCZKZ4x+Dj+tV63pUagXASq4eStU67zdfOGTUrygREzw7JgeObLiDyUPI+At/0bSC4ABHwQAAANFBmqxJqEFsmUwIX//+jLAC3+5ogt//mD2lfBkp6Tq07yrzdPCfXQnzlEyBY/ONt7OJ7HQ4iq3IjXjv0a9Xzx/XJk5TDoQugnhhLGNy0WoWwsrX4vxpsKCK3iJ8lJ/yd3n81DraopBKSmSgCDnWWrdOt2M2v0SuzVFS0bCS9iVGoe8GMQyQQ1usdVoc8i8vGw/BowQ8e8kU7WKLMKO82Qv0T62eZwh//kZ2P41i7M/wKaN3KYKil7KSo+nEdvj1DNgw6YP5sneHs1K+K4tDdvJdgAAAAFVBnspFFSwv/wBugxw96lntPZ8vQeo4m4kUplrVeMyGygBQZdLyjbubKyUce3QNPepuqrSfsM36tj2LJXQ5NF9HGvM3SGN9c8LEgkXkFpC/uewgACNhAAAAQwGe6XRCvwCWubG64yIfqCAY/Nvm/jRxyteVXoZD2rErde10JZLBzhAehQLHHmCfWNXLMbK2hIgdLDbyHCesDydAz4EAAABCAZ7rakK/AJLsBJBloKZvuFKfvzjhmWrO85RRVqOeT10s0cfDaQzjDF4J42qsG+cel+H+UMX2DC5RyQ/FIP89wAEDAAAA/kGa8EmoQWyZTAhf//6MsAFTT5UUG/uon+QLLce0+AZTHwVfKB+Lr1w3Q5hKr30TV9PXpD7otcMVWGOqECuMdvQI23eC8rRLa2Q4uHHVc7u9EvoIblMGX4XVrfznnwMFMjSDr7yfEJJjLDCR9THC+2jh1pJCwr+wXAHqYFj45pfdLLkVy1c0MdgxfUUBDQsV/aJ6dne/V6X5GvoC1svDmSJUUhzePS+VVaBkxln8KKlX02pjRGczc8jQjzFB8TbtZ5JJfLCWaS74/Q2HQR3SQfncmn5Jtz1/9TQns/9PqwuZkO/QERcou7UUZc5ZzX2f1YwvRPw0PQVHbDtE3wYxAAAAUkGfDkUVLC//AGwiMLknd3wouX5y1voTHQs5E/XDhrvbA3/swhtsRhg+jU9qYnoqlyV7//rZevZS0QLa2EWxank5UbKxyIXz6R5sjGkRCqAAHpAAAAA+AZ8tdEK/AJK6IZrdC3sFjSVqsLq/z4GLluG/6fPgOx0L8eFjHOqYrfF4YnK35h7tITu7EfTlomSIY3QAEnAAAABAAZ8vakK/AJLsA4llFLvpbCHExc2ZsYz9TqCFVk558bMA1x9NbX0kyCVJubQ243FNRAq+6t3DyoodcSvtxOAEvQAAAOdBmzRJqEFsmUwIX//+jLABVOZceb/d6jR+gUDA2E6gCYfvTJ6Bx4QfrlgaJqzL30D+K+K0sHs37lujTjdxqJIt+9P/DX5huNaioim2ZoV+sklWYyv+Eo997OgYftZoNrDHKgI7Eynn/Hw7miJzuVUdOyzKJJLVCsY6fV1EyjijGIWI92LOE3+I8e8/GrWKxmDdhkPhQJEvclRSvXbj/6y/C2Jq/K1q3/RlkezWpc6cynmpQbcrELzfF6ZfI9aaWUk9hU3MP7330R0rJWBdIzdNBq5vSR24ZHOMdotWQGbw1a2ZZUFuVMAAAABMQZ9SRRUsL/8AbCIpD3qW8bI0X8y97GadmD06PDAm8xN9s64RcVbZbBdcPRF5pvZYg3NNUXs5NeEUJNDUhqj0AMhW719eXR0X8gAB4wAAAEYBn3F0Qr8AkrohmsmEdo8VhekAIcalVwS9Zk/6Hv5uJpA4VdOfmE+DeQSOjhz9eqX+6OcqgacLxGJGrParSJJBLpbCgAGpAAAAPgGfc2pCvwCS67mD92DBnzdctaE4Ey6l0nhl7Z2MrSobdJZAfqKy589vrh2NppkcWjf5wFOvbpzSbLg5WBixAAAApUGbeEmoQWyZTAhf//6MsAFJp/M5xMRSyw8zItt8TLnMD9ngwHVxclN2DYlvWTKBilyT/UyWGQX+zy/VRJVrQjzfy4nwC7QSozhyuKZILIJFf60YoAYvVb6EpSX8kXU+/3GbWobqPSaSth6y9lI3Y3sLyBo6PmnIWYkxK2DvIc7CzEpDQzIpC5aXM5h5E+1azZONdRxGNqo+3YhX8bYlp18jIlTHWQAAAFNBn5ZFFSwv/wBsIife98tDQUfvaBsQwAh2S1csW4dkA3Drg4CkIAUZ61esff5nhd+ABlc8YYgTy3wlFeECbWEVH/zAA4l5PeSkw2zdK42/1AAHrAAAAEMBn7V0Qr8AkrmxrT7k3qTuvwijJ8yTT4o3iZVywuZykzD/eH0PqMHVrEeYM5eYqnXe6Gu8fPNJWlWhYPLXKSbpAJuAAAAAPQGft2pCvwCS67l6G3rBWtdHC3aLiOHq/tVa2Q/H9NpJ0vCFEBCGgc0AesgDc08zXtOSbGIk7bILjImAA+cAAACLQZu8SahBbJlMCF///oywAUmzZRUAVoAfDIAT50WlXgg+s8BZCh9hI6l7N0Nkr8pdxKQnXmCydC20dsU5BYR8J9VpmeXzJmo1hHFB/fHGwhzf1tA3ARwRiOC1NfXIn5iv4/Oi6hQn+5imf9C6hX9rMtGNHK4LqH53FdeW8rHpYnkSuUb8P4ZQa83n2AAAAERBn9pFFSwv/wBsIiffEUs2pbyiFZSc8pVjU73VJyOMp0awN7n0fjHKR18So801Ao08yvF4cbOZ0fC95ILMdLStS4BNwAAAACQBn/l0Qr8Akrmxtt3/xo5YT+0ciUCq1t0NbEmZqoiwUSAAEXEAAAA1AZ/7akK/AJLruYJwrWvCCojYwApPfHZyRn4eEuStk82tc9dUEEXYoWQFgOVoJcL1DHpgAUEAAAC7QZvgSahBbJlMCF///oywAUoK35jircNspP0KW1jPyvuUdIFr7X3YhIbMYTd/hVLHa+GaIQUm0iQYrL0iE4fPtV5GpArYhwhJEtQ5YOMcenMjAnI7N9uq+Ia4hvvXJ9CeWSl6C6f53P8e9tCZlqirBeSWaaxO/WLpR6CVhVbBKz+rjaYI2DHXeb6bBsFfT3T41km1JG1igEcHeEUZ0DHbbJLXwiO2dwz4oiKhf5ZpLJspQxIbNPKWBpEL4QAAAFNBnh5FFSwv/wBsIife9mOkCrIm0e9jK4X0Blll4QW66YeYdmEZTtMqdSX+WCL6d4Y93vcJBotiXplLbzbw+5heoFEKkB3pPu2Dd02oD1D4ZhACbwAAAEQBnj10Qr8AkrmxrUtM271EeyOtvhJ/rLacX+4ACS52pRvIcEHmBa1B4qfcx5x5Mh4LVaGj+a4/w68t94ftiOtdxABnwAAAAE0Bnj9qQr8Akuu5eg3ncTcg8prbVu+6iKyxxYYI0t/9fCVc1OhuT13aOyNjfeg88o/0Ho6RdZhVvRMX8DFmiL6UO8A0SQj7xv5mknwBSQAAAOtBmiRJqEFsmUwIX//+jLABVDp97wAMR4+3qqT0VsvDmjbLYnr+4eS5Q/frOlkozG4fHH/+IlZzM4qBMMpvabndIO4oogv+Ww3Q3wDOoA1x3a2BXrLGJ1j3Rt9VEGjmrO7UEjWoxt1P8a7O08Zo8cqWDUsoLUAXpGAbipCH6DAgr358T0xEFWOzYyhMoPJEsr8xQ32sWB2OHMSWOB7hVckGzfI4CmLaSw5OQBLpc3aNwG/WeCW2ZyF5KbA6yhfY4ebmFibW0bAeGfkjApNDI7GowwJdeXeKBRm2G+f8uV4RggZ+e7WajvxODasgAAAAUEGeQkUVLC//AGwiJ996JJrOzONiCFuxAkyE3gAjLPPBE+FIgNqwBWSWv9sKxb5kq98w9ElpE8FN+SyP2/EPsRVr+LUHMsbvUvg6r91qAAS9AAAARgGeYXRCvwCSubG62bBaaQ22kAygEDZZaIX+65B/X8MbhBsEnhIi7DZ2mslIWcf8USZL2vslt/auAxAbZFJclZwESzUgAfMAAABEAZ5jakK/AJLruYPvwHsI5hUO4W1j2RHvCDK1ygZbsABSndf8ijqSK7/K7Oxt/QbRUbxFZ/oiu6Ifi6n1gTNIrno9gYEAAADwQZpoSahBbJlMCF///oywAVKpWOKceKpEDISzrLKckCxdAYZTd7eKsRLWFNKbS+nSMC3dHWqjPjApRc6Ee7hsMNx7KTLTe3Uwis+GEBQos/pL2DZdrMxraXHiDN4bq0kIYaP9l/hhTwtqpTbYa8q3oIEOwMTnIMkjWXIwjOAIyIwUInxuOro3JM0g04CmnUAsTs77yTJigjDqKrhh8QcVmioX6ZHnypTleEt88Y/lduv1+q+5IAT8hTSRsPHHWL+5QKS2ItD5K0HN4/S59PXlEIbzI2dMX+65gGBTnR0wLPGT1rc+EQXFtkiRAJ9Pw3HAAAAAUEGehkUVLC//AGwiJ996JJvHVkD+WlYhh1lSTZxAvQGL/d0K5F6V1tzXqxgYP+UP5OsnUyBZ5XteKQJN88ZEVtTHE4ZXiz9PbL1qxA9PAAE7AAAARAGepXRCvwCSubG62WXXgMCD4iwPTD3gFJjdYg9/46TZxtudhFIyHKG9SFRhEMbqTgsWczka9L4mvNgVfMvHy5yshAYEAAAAQAGep2pCvwCS67mD79ZpDAAFc3u3YZGveW+7qQh5vZlJ4g104qiNt/iwcl1uJZO/uuld44oDG7bsaJm8IvgANmEAAADnQZqsSahBbJlMCF///oywAVuo5pOgOhkPOkW9SURBolgjOiaWHw+3MHp9srWFX5cMJuOxb2xhssxe8kVa/XH7sJ7QzlsbfhgEg70i3tILdYZR6e4Q0KQGorrpBkpnD/JzqvJ2B5pz6/0JVJ4HZcF0Re47M4ZZdB6m6tZy8YN1OTE8wBDwhXJy1PNAgPQkWkIREoM8UFMB5j3o19bJR7iLm3EKZg+33zal1+u2HgY5vMNsHqKD4ZmbDxEI77ni1A3makAzs0tl0f3yGK6Eoc3l84RwrFPIaXC9QjwgmnbKYFDxH4jWbq24AAAATEGeykUVLC//AGwiJJIMD3kVHttVAeBw/pTr/h95CtXFOKbHxSnU4NypQSfBxux7WecTozkTxEBIxao6AfHClrGYVFRKUVrqf7oAjYEAAABMAZ7pdEK/AJK5sbvXUq0DmLQvquK3IYeoM8dte6OtKop+wNsZlXXs+TaTeA1+15H7IZkrYyvYWFSZ9aCeWJRCK3xmE3KAw1DeSYBoQQAAADwBnutqQr8AkuwEic4WD8DITk5+Y5CS9jF8bwvDEksazBsfhoFIFQ+LtmwH7aSFU1YJRwPDmbSTzIYAMKEAAACkQZrwSahBbJlMCF///oywAVumYYX34f5ADjK1/2X+JvGr29xtxckBcBg1PUAuRNVL88jcjkmkZK9r+HEdOh8HxSh1uUMtAzudvZnEBizdYj+PRlYf9BChNZVjWBF/9ZBk9evUZy9phmQY9r7e6+FFuKHo33knG4yYbjtJ8jHRumCO09jlu0bSJtzTeKCKY4wc7lGpW7mupKsccFPlMuDZFdzusGEAAAA+QZ8ORRUsL/8AbCIw2rbGgK0wjK1y+aU//q+Qfco6YdG7hflYtD67lJXGU1up4E7HWQoTy65Z9werrPXAAScAAAA8AZ8tdEK/AJK6IptPMP/h9ZU7ISSHkF2fwAFLF0kSCmo7K0n3JVjnI8+jZetoICK6IXGuWUodMbPGAA+YAAAAMgGfL2pCvwCS6/2eYQtTIh/3DXSlzpvc4toIspFGCWnqUh7/lCOCRWMABmmvegAAAwELAAAAlEGbNEmoQWyZTAhf//6MsAFdmHbxYoNGMbBGlpScMTmoynKeutLXJM+ICJgwzo+HtjAXyR49zufu3hqxTAS1r7OEO8c7fXZUP0ROCRgJGE8qQFzphj93llJFJcqo7iVxB48W+lan/yyl2APFj707pdEnIo1of7McLB+JDm1FofaDfo323G3JSP4OQAaj73BvfrguDKwAAAA/QZ9SRRUsL/8AbCIw2Un+vJmJCRITfo+w84k40tYPGSGcq/p4ky1y/LMOqcl9akacFLWphetuPsNsWdCbAAb0AAAALAGfcXRCvwCSuiKLm+/LlrmiN+YMJHXLJB1CVA3JEdwS5EBCeiDhlvQAAHHBAAAAOwGfc2pCvwCS7ASKcNtrwOY8/H+DWMHeRNobvlcEigYGsDnFXcgYjBUW3CiR56+HffGfjJMrRmSEAA9JAAAAz0GbeEmoQWyZTAhf//6MsAFbqEp4d43tv5W+QLZCHcmkCB3bN35uXBraobsD2lU9qGwv7y4MfMr811j0iAFmQuM7opcjO39so1apZ0N6PEw0ZnmSJtfrOsCFsMDg+UmKWZsgfMVQYVRM++Wv6P3EhQTuo+XEgrk1os44VptAu83ZWzEkAEtkSphv/VX7OABujYeiAuO9kGSGYVAjBMyyQ2INKczJZ4vHgXY5uXPpFsklhxJ6Tf3m/iT+YEP8McSbeRlzLaOrFEEIndrMVm15oQAAAFhBn5ZFFSwv/wBsIjDauY17jYXFZWnRJqF0/2NB0mDlNwiH+6hnNwSbXHGnoEDwknPqAG1KwSBPNDh/25KzZY5l3hx0hAIbABAN2Byo/PbYSg9z5f/3QAesAAAAPwGftXRCvwCSuiKcrgtJ+iOjitD3rAVpvHHtHF6DLkVYL34Qs8N9s0p/NcxZyunQLiUKKtmb9KgBbatuszAXcAAAAEkBn7dqQr8AkuwEibianaroanBxnutn0QREbaKaagQslxAzKRAFEeJoW6nH3buV6WvaN545ztf1aqBOBolcEE3GCHN4XidAAA3pAAAAsEGbvEmoQWyZTAhf//6MsAFd5l+oH/YP1/bLNusfnMUpgGiYgOsZQsDyopeuDb7NVNHdxoXSc/ZKMNS25WGihVjjbDbg+Z/iKczTNWPDroSN7+KpaK/NdnvhVedCj3JfN+rYIgD75whwkCHkN577QLRLccKgEsHyJ4CD4H/Yi+kp9aspiCkWiHjObrQryZB5JAK0ggQtLJGTotjXuXkEiBvo1Z2wtxTGTAHn8bWuVaqjAAAAUkGf2kUVLC//AGwiMNn/OYHmkkiKlPpEeC1Hf9EJ9Bk2Qzn8PGwltRDf1sazOJE/OY+/OmIOUAB2drLeYL431nlZrGijNAVGNNkcCimEZr2AEDAAAAA5AZ/5dEK/AJK6IocXMx7CBFGyK5D50nD43r6n6TjkxUCEbgsuG3p2aHbSEL0SFaF8GxKQk/4zQAFTAAAAQQGf+2pCvwCS7AOXHQT0kB8Ofg0CrUqsv4URSQtyleXMRAOHYwTJTqdeNrX0+hZyeFcq+j1SvEDSL3ihK+2UANSAAAABFUGb4EmoQWyZTAhf//6MsAFTCw75SoEE6nzUfhTvRe6NEC92j36KcoCouRT2A85zbqMTiOGhI8bY1duOlcTQnJI0VV3cRAJm/eTu4sYn2OMK96JsPW/804Z7MV2vHsy50+CrgKThiWW+SGktL6BnjApOYEsvZb6/CMNEAIEqjv7r2ylGA4t8XGnCsBR0recdUYCImtaJmZgyx+KfLmp+G5nlFnLfQOhIw/KPGkNyGv6pBP/dipqxyel1KudWkzrkmc4UA4OhbeQSI+pGBW8SfFiHnTwbVYCqw9cQdUHnmUN8NqSdEFQj+ZYSDENsUcpNwSPAFQQFpDUcPIXmuUDuJSUavp8UmdTV/vluZ9ju+AHLred9nK8AAABTQZ4eRRUsL/8AbCIwuSXB8mT4r1ChJhJVn38J0y3ojtZlUeWQDvWc4OZlEP3fXLs06l79TXlkqGkPwbNs5jGxlWnnfUEUgAUwj5KS3YK9O2gApIEAAABIAZ49dEK/AJK6IYb+m7mlJEGHi5eNa1K6URm11VLiP4gPjY1KLKDYgzqx13AKGqxn0gxMdQAjgrAuYS5uSb9CTsag/KYGDAb0AAAARAGeP2pCvwCS7AOJZRPdJRBWTPgU82v4qE0W/HE22pS1Zf2IAUHq8ddIYMp3FsImiZJYqgCFVtvJHaZyL+wlDb/0ADKhAAAAykGaJEmoQWyZTAhf//6MsAFU5lyLIhD+GQE/N+oNWUOrLhxNRf2Zx1WkU40rFnie87GC+zspKeQ/mZCJoSsn9UgF3byuPD6kTAsRgGev++BZ5XUUUwBgfRzJ6z/L0fu5SwR86evY3OIPSDULp3zP7aojztPa4xqAEYBzPBEJsPxwm7WtTwPTAxo1rv1VmOxe7/5EMqlzcTuXPZJa6kbOl4NvI+u7aPFm0+gN9RLLCK52Ofk/TdXffrLvsV3yUiE6QZi4b1Dnh/aORw0AAABNQZ5CRRUsL/8AbCIpD3ruK2cqcipyv7uLRVtCfzfxNN0osaOinPHopsRhkXCjLRgEVvtvwNR2YN8d3cTT7FYOf8jK6tpPmE9Ohg+gYsEAAAA8AZ5hdEK/AJK6IZrdDLNS79J8mHb10zeqtlVGNZg3QIOxLgG2PUTrd45HCoMVgT5C8eAl78ceT/klgMWBAAAAQQGeY2pCvwCS67mD8glxBIK87kuB0M3fqPqWSn+XCeFchuiaMm/hBz6Y05tZikN6mOvKh09sjF/iC2ksrkR4kAQcAAAAt0GaaEmoQWyZTAhf//6MsAFJpnnBAd7csU9Ofn4+3jSPG7O940I+9dTzndigrW2CZnJINPtK4o/yshyc1i6CSTV5VLzwrRfZ96gt/oJ2ssXT57umk9Ragw4vKUMv60blHuAoTjOUQcc1irbjyc/kHE8sNUc+aiHKXV/dOTaR8vAvXRjAf05edQc5y+iqYD2RY0KpizJ+JViUrK+svUavGfe1QClfJkzJOZz0qOtOJl5FgS0gQtRbwAAAAEVBnoZFFSwv/wBsIiSQTVJSCu6nG4Gc4xfVC7d/fju1nmmYet2N3uvLGmG3yLv/uwDK4FN5lJx7IO4/elamY71wvWKAxYEAAAA2AZ6ldEK/AJK5saoxTawvdp836MomU2O0lAIjJ9d7AfBaO+kqHzcrhOuz6ycZVyttMzEbYAaEAAAAMQGep2pCvwCS6/1ZWye5qE7glSXgRSY6PsZDQLgBFmrP1w1ZWHCNl6VroWLLodAAf4EAAAC9QZqsSahBbJlMCF///oywAUnsBRdAfqaK5UgNGQbo2jcK1hkYIAONeFABHVqPE7PZ6eqdtqNG29FX/OSZrcbutLL8C0gpEQKnB9V3xY9hHcyuyiVrK5IQjBx787KchT6WqDHulV/DcoBktykVprknbz2MJKlwgaWsdZM4MbWNBkiz5ykl9tNLjjmP5jHjxC7R17vBiAmhI217LGPvDeIISU8GJ2EI0HCVSJJJ/QrtkaYK192AF7QHclDnStwZAAAAS0GeykUVLC//AGwiLxpJwaZPIe8dE/y6vF5o8Pooo/u9y6mS2UqQZcBKkI4SzTc8SCHmN3LBBNdxAskpUAfi6R8WUbGPaNIrI6ADjwAAACgBnul0Qr8AkroYm699pJ1SBvoyv86+FWdWuBS6ajhvV5xVxbF9AAN/AAAAOAGe62pCvwCS6/PCJ96XF4GFt5QMHbBTm26W37Ll7+BYcCSxbRxY++F1XcskBM5+YyN05r+pABlRAAAAv0Ga8EmoQWyZTAhf//6MsAFSqHEII01WCipHqguz98EAoInxeYWrAk2xT0fZEG3BLeg6qZsYYMy6oqAhK7d+ztTaFOQV3Ae/uoNYZzPz5BZdcOo555PaeQ/NsyA/+czQmGLjPXzOmOPSKVvMQ5onXwSZnPACpRYyRxWDQZ/+/hdNVF7b3t2I6ZxwHzxuhLPx9KfItrQ5VeuDDRhTS0jez0BZk/bhpIRSvuUQ/dqk5J/p7tPkDf4ItsyGYsZnuLmhAAAATEGfDkUVLC//AGwiMLrmQthMYXCRMvd09oms81i0ApUhLhhqNOtWxZQA63f/WT7UKjaLc39BNkwjuNZ9w9A/RPHRCdty2sNtKKcAKSAAAABAAZ8tdEK/AJK6E9fE0DStGgLIp2RCvIyiaZ7OHk7wMY312w0VM1almk/0sHpZzpd2XLKDo/CQHOI7u5ZVYXgGLAAAAEgBny9qQr8AkuwDmGBxQohsQZN7wTjIFHoNnCr9wKuZs3fS3I1KXFLys++32pO1PUnWpUIj10W0M8hqfxzGjJJe4xRry9gAIOEAAADhQZs0SahBbJlMCF///oywAVKpWRHNkQgAVZQ7LdIwk5iivPpbicEbOmaXfMxM8mK3sbcfIfzjsvAalGZwW+Zl/Cu+jIu8UXYZZ8rRWTRt5fiNKxiVMJmG7WFZgaHSUCx450pk1En9lEIqRnFnXSbB6bGja73Y/+oH6h/AtE56azW6BllZSIO/F46dg8/MW18eByqk1JrJtnPsuhtPCwZRu3GllBcHf5BuC+JiMX+uOkc4PpqVbpB8LoM8vAV9Gimt9J4VUeaZudR5/uVSJmJMwJlOWIaTYsJmVWrss+k3BbqsAAAAVUGfUkUVLC//AGwDT6u+vu5iAxvvex8AVkeyLmG25KpgC2UYsmFtRwasd3JHeCR3ZFo3rPiBYXoRa3EBIh+ydZwpR6ZYXQvrtmsgbPDC5mkM3CaIAdMAAABFAZ9xdEK/AJK6IZqxHjDKSU0d0uaYmMtQm06hUdK2U81sbirAvgRfgBBJvlEuxtLkHspGzIBBG7eZ72vgq6Kh2mNEAPSBAAAAPQGfc2pCvwBFXruw1zjFkwINq0g1c0vo/1TAo4jBjBHOrPuThUCp8llF0xlbVTK45MffoOiN4ZRKepTAGpEAAADyQZt4SahBbJlMCF///oywAVvWomPfqUJgztJVsvCn0Iu4Zz3j+4Ya7amgB0DohGi2lDtqemdGfP23leBLF5kYluk9Tl/4fBOdCJYpaTlIzLULF3jbLzWacH7ilicljJmbzDWUsNN9DJdvLDIyrfdiHvXJT/co2B8wAC0b67SqsBsdcfNfwhSAoHsoZ3oMqGxbr6kSZ4goBh8BNiJgpJhfK1GN0cBEQ9UKiGX2YB/NY+wHCM3jqMJueYMsBrI5KUZzpeSCpPQroGkDPwEYTXAD9n2INAPuHcTFhaUBMjwKgW8UGMGkoaiNS6xQY17Fi2R156EAAABOQZ+WRRUsL/8ANMvgTLSZEgbDy2C/Kb+rxh3WYUdAGqB6/Kvj0+5s3+R5JdmTKgn8cHrEP9RzEzkc0uPWujCge/OEdCet2BxDeJxPAA/wAAAAQwGftXRCvwBFd1AJN7Yf67zGN3//AxXaO0ONWiSO3A2JSo8vCkXK15oUGvZj/CVb9XJpXuLC+tZA+wRIG1SocrATAakAAAA+AZ+3akK/AEd4s/ytBnSkt4diCjPO9SlFTsGTPHLLLJRRJO9h+tG8Bgk7r4Hykmj607LeE4n6zNzNN904AZkAAABUQZu5SahBbJlMCFf//jhABT5DwMkfXWPFxrcv44pEpj59591iQdJ4sV8R7p9yuhl1kkWcNMKzAb9AS94EeNTp3Kq8UdwLmF6Gr50FpDE+LFXGqEqAAAAGxmWIhAA7//73Tr8Cm1TCKgOSVwr2yqQmWcCM8hsK5DZAAAADAAALyBwdQ4bylXwQAABTAAL4aJdHfBOWyxJYP2AezoMsqQ0JTtC1ool+wOYhYIbvByngibz59DwMREuC0q07i1lo53S3vrUcSb5ii7meEUTMu1LvHubUTMdIyfDeH8/qP8A9r5sBu9Gcdd3zgvIHiHz2oqSCxIVDWsPr+Slz/UtVuyDNFYyTQCJlE3RBCytxSiuWbMEPBNQVoYCx7fMo6NyL5UhZCqgX0QJfjKZVxcXNtK9rZG8J4FlK6UcUXuMj9nyX9JyCjNEqctkBlSPZU2HlQjJXERKDntVkWbnvIlwWcf+mjVb1a1xsX6xNx2qRNvxgA/MC1bNxt0Nodyvznw4wPP/vUAv7mvbZeTVLy8zB6sRNclm4Ajxxn4dVvbDXyTtImCSIZ7BAmE04H5DI1sfAL3V243dHIPJBcY6vmzD0NDghVSQD34rUDvDwXkWBF4xspVDquTluwa2oVwhLuMtXGBdeDplSBXK/l4I1vqdmRQMQxOF7y02rtWAVgRBlHgpA97KJzCZDr5M+NZ/Xf2ghhB2EFJDOgojHw0yzyDPB9qku6oJUtHKbqxhtmuOOLlD7mDRjj0cZ9puIXLphmBBtWyCHjuWhXVyh8ttR5teSHmzTovy9VjKEsMtXA5bqCGeo3titvlMFqvAfp7MlYlsgijH25Ud3JffVcTiAfL3i7K2Z4/cP8wBkPAr7DdWJvcq+RscW9wHQ/haNmhi2N9fVsPiOcrTnoXYOQodgnVmhlyfuLhSdMRL2X0RcHs5M2BcgDvRE167vFfLIlNGIboAOd2xQJGp205tXxPSo11ExpLqkYjpuTFaZH1OadLW8/sRg3AoQyZ6jLHADim9j68jBU8xtoKsUBAhSG24StGXUNgC0CU55B9cDTB6GT+COqMIBtBOU7QAZrNwEqc3rBvlYAwGiPKkOSqBsl17QOHwqJq3Rra4pA+XPtUVbp1OpgAFV0mhSGQ2RUTQq1A32wNZzDjZMrYF5cBlM0+mFsqH2dPdXUkU6pSJ53TJQuJgutgipzv73OOdYS90lEl3uQ0pv1m0gvzDTFd97feIXtxTz/+7ZfuPYMrDcMXIXx/W/XJjSw/aD/nrKZil6G8iGXTMW3rf//zq8v+DmNTLj6W9aNOa1Bq9Xi6nxMD4qoBZxD6O5f0YH3brPa8rb90pSwhUc1//5HBfuyV2FCjE8G7j2CngHZDr8OlUhHKw6x6TILtsFNLLkGdevJNtOghVaHLzqK/mq6DYCsyE7cCALIEAAU+Uulvj1zdzi8vDnMVEpgnDlkSZEeMiRpxUgeH3//TBt5/kGH6cqgn2LwaLFNEYJNoRlkWp6thKXno2OMYkVJjwksPr8LK7RoOwnhaPqWcrG7oKbQQaZxnRR3kGYuu1sa94RYUCN+06o7ImFVGhQ55ciBmugqlrir7aKchSQAD/qsYbAEzCb9OWF4JSFGw289xLV/vbAw4Cc6UulOoBCmT3GieHo7W7NTbMxd9zC4aPnnbYl9MWiIawdxqhoqOyI07+byzkf+GHRexN9lGYTwXdo7w06y1MNNMmDGIsMw1GDea/utg6/jmHz8hC02dC9URW1BH9H+qXgAm0AUGISXKDr9/euZC0Ip2Ji3PK0D0EHGPto+2j9Bi7hFYbeysI42WTtsifUwhYTOA8be/6bSRwsySRs8DiNf7blL7XIK/mvqZA9i9lACtC3D3OlYTzBI/i9SZyCqYsAB8wi/bMzfW88w6QP1eFKgSH4fFeZUiU5Dqp5ojfM2tYExxOJVTHEmnxhp4W3Kyk73abojEj/vp/LOvQsXFLUu79l5oyyLARpnQCOhKiRIU0Cc7XbOgC/fMuT9LjxD9ub/47KrVmNKEjsq0XQX150qyM8ccp/pvyWaDtGhL5Bmrnh7xyWLeFzoIMBuWcLizx4Wlj7nrNSzaRK/i0mfwpbzO/yFJIwnTmtx4gZBkJALPVEdjoJ2PoWx4nsKa9xuYVabBNUnISzoixBQQPxnmCWtr3xpZzkgQxmYkvBffFETy/RhJ/zjxZ5UUqsg9B4Sdv1yC1UtHHTZk9zjOvD1hVH45MRr7OLMP75A8y5k1h9YXgZECDAPeaNe01f23gukLp0CrzaYsaHfEIK8NDpPAdHkMa820UQZ3ldZTrGQ6P3fL5rALrgviHzvoCbyDr4CpJtPV1VXTfNhEviYbpeXxScr/BJQY3g701iPCgkgBuibVO5AAAHS+iyq2vxTgAAAwAAAwAAAwAAAwAAAwAAAwAAAwAAAwAAAwABFwAAAIRBmiRsQv/+jLABXYptcCjtZ1RgNv1jSP3eZdVBXtxTvbJ2CusMx+16WkeQ8m9gI0s9aPLFc8PmBYNqX4Sw8nIO3mIphAg51dJbEJrOdBoH75WxwgI0jk04ILYg7EIYacCeofHkHKvHrXGKG/R7AwSCsM379nEccUVvogynBgCRU2PZBQkAAABBQZ5CeIX/ADS/K0NTFteNnNwy0CpiaObFrcf1OGKrNjFwpW508zyHUrxX1b4YmXgGKqliHFsRZrnHu7nvU4eeAWUAAABAAZ5hdEK/AEd3x45cXVgsGojOAVr5Ck5/OXqOKTeFErJW62PBOFlWyMyOkOLtTutXRglWvtMQt54uxYqFA00DZwAAADABnmNqQr8AR2KTy3nNlHAGpyVW6EXuKA/InCSWRmMctKhCa6OdkzlD9o2cGzMABd0AAACCQZpoSahBaJlMCF///oywAV1FOvBrOD9CAcjEg3SK7boxArcM9BKLNtw3iD5OsHuPfy/aiEqDe2h/FLcnBPdpKO6mg9HG6WEE6s4jYTpKDXivO/URNKIu9Pjk9VMvA/DJRD/r5ohuCmyROjmL4i48H6nVZxrP5aOXi6MWqqZlpbygRgAAAEZBnoZFESwv/wA0uyr9dGNrMr5WJwaUm06Uv01AAlAFuK54V6sq97jN8jIzonM8hS06eNhJLRpFC+nyEdNqfxjKx/JUAAVtAAAAMQGepXRCvwBHYDdbhQn40jxP7xNK9zpkCpkJxqBjfDm7vmFfWsrj9d68X19aY7cAKaAAAAA4AZ6nakK/AA81tiRteOYeCb9PCq7i/h6hrHL1gPWwKDFmw+jX8e9WNkyJFoCPjPh5zJ32GuAAVMEAAACbQZqsSahBbJlMCF///oywAVunSe5uBfYJqjlKoEonJhdW3tkdCHuPuFpLREsnAR5LVjDyFGe5alCr9RwTDHl4RbWufkYdrQBlzGWpY8BPjG7A5Cuxm49aP7/6wO9uFz+2pLlKvwRWeCqs4p12cdsOEKlao5xBT7RaH8k2dxRIff2Pb5757MYQmmDHnjoeYc+dIq6q479WgwH7ryEAAABZQZ7KRRUsL/8ANCtdrmOowJfJB1xmcTE06kqNW5o0liLyv+oKk6RCnBenw0MrbJJtj+TEvSf3z0Jytns0y3gqMBh5jaUNx4VQA5C7DfLUP6K5tP6Czi/AGzAAAABCAZ7pdEK/AEda9kIz6WMqCBWOR52Opu1uNvgZs3vlsoEqng9pPb+hInKn6vWL74RTwWL4SgqOZzKaYhFH6JRsrAHzAAAAPAGe62pCvwBHc/7g8165RcCk/jirG7li6rQpSho3KwZw8+d7Tc6jCuy6pel0gmkcUOd7IPszcJ1vjoAJ2QAAANFBmvBJqEFsmUwIX//+jLABXfdGgKRLnmBj5btmErMz/ynXQ9GPmQV7cz9hsw8K7uNFzQX9SmoOxQfbHsyHsUi6tzpmvTpkihwnsQd5+HUC8BmveTzDzhcOd+dGVl6eHPgtxEYCSQ6UMhy2fWxrf9IhrJyMIPEvIv6R2sPjF75Xgcf/XYq88eAHQ+RVIA6MxjgBSTGeU6J8lINSNqDuHYXt+W8gsRafphug39DPSpqn6iiadz36wmo3Im3CQMySftYXn6spyrfPZ4c3FjyIXTPjcAAAAF9Bnw5FFSwv/wA0vkOT3pJ7OXqnzVQAGxaNX3WTIxXpXDWBp4pqr77MuILPDpL2AC4bhrpubf+Umv54yjb7MpSbelvVzDKhMI9+7eb4YfubMYY1ZHe8SAtOW0IDCgAg4QAAAD0Bny10Qr8AR1o61MlM1+bBwkDsRbl3BMCM3UMX2nThU3Th56BhWgjx6YQP05TC5cocU4BQrOR/5qoUQAccAAAAQQGfL2pCvwBHaefvfCz9D9f7dl5SkU6ZcervPU9NwVUD+geJb18dPdVd/Cat83q32dxWlNawW2u9fgsU5raM9wYFAAABB0GbNEmoQWyZTAhf//6MsAFSqZs8nH7I8aX43gDNvcATLerDVc19/kPvzbud7KeoePtboYG+6IOOgNDbEVjW1U9zTSzsSBoiuuK03oCuXKpyjAuuW54LLGcHvLWqqzbp+/E/eVxWr+LNi7zDBNIENsl0tR7isaSDpX5Yux9++wYq7ztnpd/h1nmnmF/7bc6QGkFMuhKFb54zIdrXTP1/NRqT9ibmRgBqIljk8YFeM7rRGtnXwWwBMeP+M7AnZ/PxcIjgiGEEKyyfFBheJ/DBIyi62PAQCwYqomjQQ577VV9P4wUJ7g6XXp73QIfJAAyApZrTb1hPG1gpdBz4wj4TxbX6EMvwsCBBAAAAX0GfUkUVLC//ADN+Wz/us2bvNy/O2ul3l0DRjFWlAJAuev+o3sd5i2v4fmBXmJf7Te19H3fTtLbFbt9GgrqCyZL3P5fZM5tnWKDVunGJ3eipkS9aeuDGURZUVLphgA+ZAAAARQGfcXRCvwBFWhiukO2Pxv5A390ND7CGYH3j3MlgCbdU1WJ6/k6xZxl9+3iJo+xnMs+8YTkUEzOhVznNWiGZfc1i9YBgQQAAAEsBn3NqQr8ARUCuvqVLQGzo4M892zLyrG4yy5RqgH2R8t9pfR1BLudAACLnJabwVdRpmdv3B4uv8mHDEe+SEk2t6+57wBIPvfsAVMAAAADcQZt4SahBbJlMCF///oywAVTmXKOhBVA8LeYikEomCGbQdk7NrqtVHJuNBPMTFGREVpLxy+PDo2xkvB2tPwYPh1XELyQMPSutYYiwlCy2kse4TIXT40n5s8oJKHl17NQv67hFOMCxE4Olqn4oWjR+c1+yunbrubZr77/CE7bVeFZSZQmFUBbnrYWI8/FWXq43sc8W7has86EERFOZVhG7oIAiOoYmSfOHSDJU67w9jXLhtZtGxhMi+vxgVWWmOrvbG4vvRRULnhbYDxgNERTxVzK8b30ZIEj0MwFJvwAAAExBn5ZFFSwv/wAzfiUfnj9DCqvWw8gUnypKvyW2sY8W8temzIaDYbRYHwDRN+bsDDOC2Hvv9X1oT8gCjrzLlIsSXm9ISrNxIrhkANSBAAAAQgGftXRCvwBFd5pO73YqHKDrtPQwluQY58GzlpnYCC/ZOOvOjvxjAtHID9BvEb3j7GiiplNqb8KczS0kWV6xksgBQwAAADwBn7dqQr8ARXOk8e2KDMRQywqegFLQvgsa143YZk9eabj5XcvmqD8ESKIz1PvcCIWC/zhz8TdUoD4A2YAAAACPQZu8SahBbJlMCF///oywAUmn84a5XrQP2buq1nwHwq6Glja4OLuvHGkiU0KUFt1WDDI/bolk7GdPASNAO9MTqRQ+2yGAG3QmQn3Dqhzl7L9jjP9E0zYuNTv2P/gTpTUX+xb+RknHX5mPlIQ3Unnhd8KrkKSjB9O5BykbftvqKKKYkqF5ibRTuexbg10Qf9UAAABWQZ/aRRUsL/8AM4xe3xr4YFHEW935EVAL1dCaEqSqoe+x3r3Kp3psXy6JOnKI7VUnNAfbjsoTRdBkxC3KcJd9wqZsZvpOeBdESZAZlMhcQBTvvdUAH+EAAABEAZ/5dEK/AEN4IpYMyskWDmzudeQViOBVqIxLcAFVrDtfODvpbIJHYUlLqsTFgyGucw6DWBnCIj90OkEPZzLVtOv1gncAAAA4AZ/7akK/AENgM30RiydrojB/eINP/twPEIrh/HaTNZiivKXgXm0hZCQWqK6wirRUBlyR0W9wBswAAACUQZvgSahBbJlMCF///oywAUmzZRStTr5D2+p2xNBrAjPeGKdZRmohZxgbM/EfNn2XGuApX4FQOh5OuivxCIo+wNtlUvQF2Ma+lsF1Xqys5KVfxqkED1AtNaroVo4bIL263Ad9sxumgcQWitxo8TKtnCabSJMsWgi8vx23WR7C2czmRhYUFZWPVRuaEzVXgLLBamVmcAAAAEBBnh5FFSwv/wAzkRRE/RAqQl1ctJEvGi1S+93GkDpJTMMlCJOElfF/BqeC0UXqaXgRQ/ss+Bp9RPPR04ePAAg5AAAAJQGePXRCvwAO1wcgQck6IUi9ZVZry6xRrQDvUskXDYup+ECABdwAAAAxAZ4/akK/AA7bLyorgIE2DRhTh7bTAg80WenIARLCW1o4wd1RlzZZHRaO0COrNMABSQAAANJBmiRJqEFsmUwIX//+jLABSyqwY5xMADTTDcQ73m3sP2bL9/s9qAI75t++tr89fPEKUFmTQE1wlMn7tXKCKyW/WPzzwtZV9M4otN45H4T6pUvoZpuhKypeVWkTakA5oBB3w0SkfZzI9MOdDUVTpoxd34Rz40Pf8DJ2KstpSKJLDMgewQ8y+jLqCvRggcPJ7bZaz6ar/3Rz7khII405geKUtmhjDlN9T1Pmj3FsWNk9NZo0H7YXxrG6VUV0hGlzLhKjXXmbOdHl5hOhPrbyj8LIM90AAABWQZ5CRRUsL/8AM5ETMojstaASuQwwJ3Xpj9Ca+OoHb0w08/qCW/HcqV9WNkkkHp4et+/4YA7J/dZCQaLm7DTMDPA803PDyY/O5wAEZqkql1R0eKYABQQAAAA9AZ5hdEK/AENbEew/Ty3X5fIwVXNhllr7WIFl1aZTCGsMPCFMzeOi3E/zYNSxWIJ/dWTPObwLM6/ZhWkB/wAAAEYBnmNqQr8ARXXP9wpMpFLQLNSGShP5KzUU7yPdzR4+Zbi9dSVgqkpIaY6zKi3KJmq3Z5QDNOqStiQA6+4D1BOYa7JcgBixAAAAwUGaaEmoQWyZTAhf//6MsAFUOn2bFQT42ADi3D7o5dShgDXccof9qXLuTzclCSeRbEjFw1VykFeqGM7sMCDm9txTCgM7GTF8eKh5DewQD1A8dxflalPIkTZ0qm1yhRyvIqL9c+mn376j8JvCCr9AYi8lIdSvmR07fkKip3E5DnQdAAAGbrzwH6DEYeIqGtnRcoDWVOHOKJQEm+M5DWuCR1j6qYb8biCauaR5wDrFnGOtXFSwfJbteCChBV6K6OsBzJ0AAABRQZ6GRRUsL/8AM35Ue/1ojjm5pvB9696nkV7uyXRZD/CKIjgt3sgHMUO4tkoVWGm9bL/uSNEJ/OT37sAEcPbQAFVlcswwbrQwZyPxGpmEAAFNAAAAQgGepXRCvwBFd8nKOaFlv++BKLcga/XSxgEyg1RqdxKURh0oyQAalkC8DIPxxJEoSJcRfXUxesxaRppCybeIQgAYEAAAAEUBnqdqQr8ARV67rmt7zyRhWCECeQslWdEMerL+2iXx3jUVocgW0hMexz5OHO/qbuVAFCqcJDwVB+FLHd/H7vsyRlP7A+cAAADrQZqsSahBbJlMCF///oywAVKpWOKUPMADVoB0JY+QRvtwNGRYexe3/bGK1alLg+2PLIYYx4mi9o45twM3gB9GkzP7ljjgEZ2fYxmsXkcVY4WaLuFoeY56lLHThCN7BsnUmm+sGWh7pCUXn4KehQDD/nDmFOKqyEJ7sKFj5GFjolOEW+emlsuCnqNR7BVEQ10NIWJG6VxbKOCklRP0ar6W59inwNwR3GM+P5AGWIe9wk0SZC/Z3KNNPeBg/oCj8UCfHLjjZ8ccq+m68qX1cCjtsjywdTPW78tYcah/WcvRGK6MdPoJPNa+gCkNgQAAAFZBnspFFSwv/wBsFOfZ7Inks5rwoNhLTHtY6y77sDmWBAAETTgI4T3MHao23q6nRgSE99hA2pi03WZFwJ2btCwARlwWT/1H9Yr3Gsh8MacZgZzE2oAFJAAAAEMBnul0Qr8ARXdQT/bEihKgzLEG2IUcqBmmNTQu3vtERQrdaFz930dTjwvC1rHKDFXSpkZik8EIYYgN6hVYlc4iKQK2AAAARwGe62pCvwCS7AOJmhyPpeSwfNp+CSLmCmvvveOayauRsK5y6hxkZdtFMnkB9k8VNvJBRFSl2IMdMDWa0ukvRnWQr8cwYDAhAAAA8EGa8EmoQWyZTAhf//6MsAFbqOaToDoNBUR7sxtuqnEjRsYrJl3rbTguXT38nWdWalrNqNiyuJwNmpygz0JhhJAavnxKK6v7+PeEAGqjhyjb2eSVTitvjHIrdpn7qdv01ZWBAsI6sAkbIWBEQlJuR3h3hqBNNb0AuTg+KvpyDxTBNnQQYxbr7jChGEpIg4uUItoSBCjU45c5oKJVlHLVwPv5uuzV0/r6NIgTM7rk0ci/7wq1YWUsfDVtuhQs0EJrapTwxljr6OYTcDm2/WO/4W2pt5VJy3PnXajsy0mRM3d4YvhyYnEnUzQ+ZNB3RQkM0gAAAEdBnw5FFSwv/wBsIjDZIe6BTBSbcJzMkcXFSmay0pvbGa7McEXrHDu0Mf5VUwYJq5znKmo756cYrpPQ7BZtIBkpOI4jDoA2YQAAAEMBny10Qr8AkroimPJAe4fpUix0igd0CuGAjhxjnfLvKq7OWudI2fQEKPJTt/41kDpGJJmV5Ph0EoAUHdLviu7vGAHTAAAAQAGfL2pCvwCS7ASKCU2D6WUVIISnp87OJcdth2t+M9gIMirVDEI4Xuuf0at7EeoxYqAt80TcspokZBTDgpuABv0AAADTQZs0SahBbJlMCF///oywAVumuqkYB7mERiQMkqLY54we1rv1na1X8HvJ+Gee/FN3kildfe8XiTPuvujNrtZDBlAMjcdyhHxJGrRU0WXTP3KNuPIpMCGms6ZghzUz9sb/JU3nqSj76dZdRzVa1CcgqxdoUbCYmbJnK++ov6bKRFYDlzNlZ0JSkfCbZxMkAHiPiGGU35roQJBLYnLvy08Ja8f2qfimWxQdWqbL0V6tBNk5aD9ILcCFY3nrXPLTolJj3RcF3VLondKz46BTrMNxc2zcwQAAAFVBn1JFFSwv/wBsIjDatsc8EEiDap+QJMsi6nueiHNxSE6PrHfmOOXZBjEjVgAmZAASe7BIczkEErSNXNOd+9YjJHRuRo68axDl2DIoUmcF52nLAApJAAAAOQGfcXRCvwCSuiKbSul8IUHUtQ7BOquLekTM3p5mNUuOOKc4YXejBvfQZRvMJXUoIoP2sEgED5QB0wAAADwBn3NqQr8Akuv9nF4LpjFVsDyh4zkQDEKcMbE/2mcYHJdLHJ/b2PToYcbq9HsU5ycPfx5FqP++iVsAMqAAAACxQZt4SahBbJlMCF///oywAVwKnrCRLgAO8NfOmHO86YbkVG+mcPGxh465C6k8Ug4gj1joqi/+N1rB17v/6yLa7jWhQ80R8lRVlXHYnh0sa4qyHXYAP5AfMk8FfxVozJ4NP6dKarjufTtqZrw0tVoUtp65NdDSwAhZ7e723L80eD4mKCl6Q306qqzdvCAIelz6OYpshkmPRcYEbP/O2D/w4+wci16uKhBRUvYzYXZBUvJgAAAAR0GflkUVLC//AGwiMNssV06G2lBoA8EXY5hG7VzFYwcwCaTXNDpCwKyl9MobAj7DM4nSlaHEk6dyHIE/++/GVX59il7YADKhAAAALAGftXRCvwCSuhud4dbwSEHhthFYiNmR9qWVBT9f3zBu0xAet5u3AE3oIAIOAAAAQAGft2pCvwCS7ASjWIN2g1uipyMiwsz9ce4MTk6f1JNpbcxKO86t/J4xCMWYSMP0ODA2ecQODEoY7PchxAAAyoAAAADOQZu8SahBbJlMCF///oywAVuoSnyJ204SBk3tGI3hcEKh9mL2Yv2HzZwe3FjOccFyHh4EyyaXtU6hLQNJwMqmQttQwvs0ZIb6L9e1a///i2SojD8M/hwuMY2cA5maJpPU6CWrCfYcnbPUwFIpNOE/RS88OQ9i9k7+sffI2g5+/ILzg72kVXGE6chCuwtyJFENirNLFJy5e8+Fh0Kpn31BDJqbc2uLeqwcDomxnU0Up8FJbZ5fYXChe8G/s3VKz8Hg+v8OHRgeXAJBE4yEFdkAAABWQZ/aRRUsL/8AbCIw2R20AEWRqQJy47AhfBypDTSfXPj7EcFTCExEsQ708ufbBoniQVMjXiHolbYWbl0f84FRTLhEdPCzNajF1HoUj2t56I/FXKAANSEAAABCAZ/5dEK/AJK6IpvBCZ3CuG4jbTzmmt+6YKwnOFOpTAd/ttL7Nyu7WCL9jRm7OLYGIYBnhtU4W3Hn5mv6dr2tgAJfAAAAPAGf+2pCvwCS7ASJvd70VFmUIQB3Cz91D9G9qxGlU7jxgTNayFLPeKDKTgVYO1mwDo64FDE4ULu18gACbgAAANhBm+BJqEFsmUwIX//+jLABXeZfp4qZ4QjiQHH4iiW7aMs/mDVRSf1g/MtzkP7CK7/HmQteBaw0MIZUtyk3ATgLxd9HKgcGYovLa5sb1zY8aRP78kUapxkdpuJZWUCEFYurdh/buzMI5mPjN6lfosTZ7QkxANE6jXkGCIwXYgVvxAIQUgeH54D4dZ4CzYRMKwEvPxh6ghnLMfOCbjCVRnH90lD6REXUfImCHV3RiOiA6qyRswmomyfOOsuxUvsq6h0F08mcAnehTzrqn2Sgdjkjtu5ggmcub0wAAABNQZ4eRRUsL/8AbCIw2f8f/1HbC/bLuvo9fz3caw2h2kox253zYt77YBBcOrE+cpfx54ZjFbDJ6xsL+NEbT1Z0rHqWLhgIGIgDibgAcsEAAABAAZ49dEK/AJK6IocFa/Kf5ysc5TSaehg3iH8+5z94JM+GPI1wMpvi4aG++308O0CMPWq86fcRGXjNkMsrNgAPSAAAAEUBnj9qQr8AkuwDiWUT3RsXHID0hbFqAO8f87awy8NAVayOKsnY1dwzVxudCAWzcBZQCAR4VoHeS6vxKVmjb00RowIwBLwAAAEHQZokSahBbJlMCF///oywAVKpPuEUB0Mh5xfNtrKCRQuhL7rsx41d9V8BPqaFx7Yk8uTVrrH1xRbi2I7DX/+4FDEMHb17IH+jU2wXPx88vb9mYkusX7R7NyfmNHiMEBS/qffIDPzx7VEP2hDdYl5CgCyCyFGOUG9xRQb4HDrJiAB/i4aPw1HaVy6L7JfngyZGQr4+84iWl7b9Z19ZWpqT8ED484Ef76hQbo0JDLgVOSP8W6KU4SJFq2Y+ZrqH9SUxw4fpTWCNkYeeapR7yVS6dXRG3DJjD4LqmnvQ8zyS4QvT6YAm3oOtPnnS83QYPcdj2E7q40AD0o3ruw8MkmugPVz/Qp3GpgcAAABVQZ5CRRUsL/8AbCIwuSXB+TD4uG90aXv1xhaNXkkiYWuP3P+W9o0T5yUvmDrnMRA63lFIN0MFkGciICYE8wr54TJ9gfrnSo1Zt4icIJo4xckPMMB8wAAAAEQBnmF0Qr8Akrohhv5kjWhhFEryjZ3sHFuANtRrR/TRxxxPLUkqNbdsFRLBF+mAI1hpPQ6Ac2bT8a3d3PwMln2fx/AF3QAAAEYBnmNqQr8AkuwDiWVGt3ZvhCYZeB7ZzpZVl3Y815rCpbKCnbyQvQZ8lUJyBmvt6Qa4CJ58o26gxsAg2tTNhnuD0U7PAArZAAAA2UGaaEmoQWyZTAhf//6MsAFU5lyLJCL221ix0CvO6uMAHG8pzgNLnKl/MIARNmW1LI+/+9JceJiQUcj02OXPlqpALvhMxYFX5E6w3d66UkdALUNXPpiSe2VM6nHNJKQsrqxc7lXIXtYXlcYHVM9wu703NmnLdnjRUQ55Rrg+xKwyy6wn4Kr0UC21Yo25rFe67hnN5HHRiGkPKn3iYAZjzx5033vCv+7XeW2oYVuhx8EYmvcOZpyux94QrGeKJFcnipWgV4umLomQwpPNURcdOuzrE7nXmhnME3wAAABPQZ6GRRUsL/8AbCIwuq10ei1qiP2xNaNFdVt52SGKTXW86t5ge/KURbNHxxJI/hV8jpc0m17wzNaZTt+JqO94VNupDiybVdEVCcnY2wAfMQAAAEEBnqV0Qr8Akrohmt0Ms1LsWis/lJvMPyAnjLPAauboxBmzM4x6SxWsgUjdvWGK/R3yd7i2eEr5BZ3i1GyAPIAg4AAAAEQBnqdqQr8AkuwDjQedpZTiQ9eGoNnrd+6qXNVdcX5WPTwkh6V+L0js4zJhO2zKXQoTQRRuOhmkkOyM/dsV9s9ygwAFlQAAAKVBmqxJqEFsmUwIX//+jLABSaZ5wQHT0UeioKIj8pt2lrLEOuvt7RuH9RzQpK2nXdmnjy3fACTzeBxofiQpJJs8AaDV2LQmBAfRZuUZykqw3oROiQ7l8Bje84xtVOm/nMq1wQUkMn7CVgfj5K1Fw/bVDQUWtSMqxo+GsYRfDsP9p+jPg3jXQFzKODZTkv61nNDEnoxFuNwf2zcJibMq75bQhWvMmpEAAABIQZ7KRRUsL/8AbCIu0wqFxewZrNisPazHeqY+/UywABpMQLI4qlhEHZccQr+ssKZWCaKOhhIyFX+c0Cl3O1ppK7dHfV2+MAEHAAAAPQGe6XRCvwCSuhPbNGYEbLtq28mUnYy95etgkQyV5FOt4KpJs4ADY/+VzA7MtZVUJqPyVLc4itFmOprAAb8AAAAwAZ7rakK/AJLr88tmsdUXLdIJP8N2uv5JCXuAJ4SjkqIGAi4B8NAUvgj6hvUcAA/xAAAAm0Ga8EmoQWyZTAhf//6MsAFJrMO3ZMqEYtNpNiIF7SOsDDg9Wb7BUZXm4NLfZjSl1ISnYibU3LpYQFwWfgs/+p2mSVoUTurnZms8A2EpFZ36NsmqFUJaGtU2AmIbvkWW7vxl9loq5XV3yEEaFphltG2dXRuBYBstGL2/Bg/funCAeezcq0Mk2wkkx+Y4XvhxQ6zhTowlCKF1E7onAAAAR0GfDkUVLC//AGwiLxpJwaYXlCIaydR7QSYqLnqDKmvnDTdO2o9dTDak7GPqNWzlsRpAoNDjBV++iDCSTgAKrSocc0JYwBgRAAAAJgGfLXRCvwCSuhcWq4w7CX7GWRQPxM5Bck6rOMwXKLKjOWaQSAIOAAAANQGfL2pCvwCS6/VntuF7FIhQlJG0SBeLMoPgZtAGGyugNo0LFkgKn/XmHlE8lDgvL+EAAEHBAAAAuEGbNEmoQWyZTAhf//6MsAFSqFIcGTvU1Jg4PnAG2Rv6Fi+S6HOGju22ljxWoyEDUk2wEZjVN3zXhvrXvk/h25TuHCnq41CZkz21GYcMHffsTEVWVcPvccZvRBr7kHDwF/lDYbdRWpiVNa/ihOFRmte3VRNhdaZ1c/MdS9S3GY8bUUE9UHXo4fpg9Pe8STWMoe1866fij6HFI0bMVGAQX1WcezOv3LPMELmaeSOVjBjkgTIboFY5gIEAAABTQZ9SRRUsL/8AbCIwuuZC2ExcTKN3IvherngI7j1u1v32UeoU6mYuDdK4iqvQjy0F7Tdo9BbXFJ6eZWYhB9bWPWNHmG8/C62hQmiULfw7f3oAWkEAAABAAZ9xdEK/AJK6EWAxNi4oNPw9cTGiJIdnBmehcIoGPEvy4vUh6EL3DQ7E46VZGZsNISKiWBWrBj3CSIhVb3wBnwAAAEIBn3NqQr8AkuwDmNN1Rl2f3mnzG6AqX1ePOumZqt+TIeW8eOMDB0j+TfVZj0gFO0wdInEJ3LipUQkmltFjwGQAHpAAAAD0QZt4SahBbJlMCF///oywAVKpWRHNhxABeAXVtjKW5qU2gW1vaeNGUM92u6gUgfSCFSBkAfbPNlvk7M1xYw1C05yUUmuCYAKpq9vpZuk95lBdWaae0JFO+L6+IjL30x/4/W+eUWTA0LdquQqUG3Av6MVrzCf/x0/vCzkUaJbauZB+Q0nrhWovSXRev06Z2ojwkpJL/DKWWd2f32cnDjIGNtjqqvjNdCinQC/Z8uWqc9g0GxApF4/MP7AF+Ji/OHkvuoDREmEHx6wh232iiSRc89O8EA0KfZfldTInk/DWWfxT6uQRMXQVlJf5vams+vx/zdICWQAAAE9Bn5ZFFSwv/wBsIjC6rUOWKfhpecTblRI1U6HJt1MXgqbtC2OXRTjpCEptgeh6TgkbniYw7vM5m3yhx9uiv2ZfNuHRmI8F8N2LXK/cAAH/AAAASgGftXRCvwCSuiGasR4xLhjAmJnJd1EYi0MRxkruhL/fVcRJr6zdAwOeXInMQoHtIbMAbIEy1FWDHv0lOrv8+nhumtoQtUlRgBHwAAAAQAGft2pCvwCS7AOXAoW55KF31zgFzvMxxQ97qli0/M+Mhb1+cF7xeORTEfL1MjqVgUN7Be+UTtAgzaFGByxwFtAAAAD2QZu8SahBbJlMCF///oywAVMLEObDaLz2ADxHgW9MZpVMP7gAKSCFDdC+qQJwzq58bDTHE9+XJk1c6KxP+/nS+3F/4s5n+iGz1Edj9rWHGsPH3ZV9Bcu03L/OCWN4xslKZEeJRjcBTKH0dugJwtdXp6zTvrpCFL45CxP4oIKeoPfFZm1gDtRu32Hs5g2HlBG/8bY/l2lb8ObESsFJk6TvO9pMsDlwz9SdMaYpzk4DBOzCQutEsSAP5R71T/ej+q+d8Cnh6x8nvkUGhC0eJkGZw4DMp+gDPAB+HiskOJ7EhEf/pWc+1Iu6yGIkFm9INDalsQUVrtTJAAAAWUGf2kUVLC//AGwiMLquu8NEYFfX8XlGuUVvjAjouJz1aMEsQr3hR2GnH7sAB9ws/DCAdqkTTVC1dAhUUqWC8arGUc+ECB3Zl/sa6a9POtoL+mlbugN4ADQhAAAASAGf+XRCvwCSuiGasR6WYZRqIV00OICmu1cOexXUwehyjOBdIhW7bobIsao363MKTVuno/fh/OJKGZZe7lNO1f/jesiiohgNSQAAAEMBn/tqQr8AkuwDiZoaWsqnSGPOB0YyjKHQSvDVHIpQvqh1JqSqIMwD5KVeqbzyPmJAumJFQ1eOojip1UOus6hCAH+AAAAA8EGb4EmoQWyZTAhf//6MsAFdOmoz7YKraGG5VR1Urpu190OMXSuLRWkGxeXT7KGsxG6QgFTpbpE2CHOzVtPX7gWpr3fdwKQL9HZ3EF228D++Izyld1affJ9sfzFb/UtmxITDoDnw26TvRBhBgYV+K84SNJEoVz4mxWk1xjz8QJFKfsJKps4bNUnv9NEgk8L96+1DTJENO8s8plv4f2VMjIrs/ElVSlFCAwDOxBqHdZ+vHoUX09L8kn3t1T6KfWA18egdPYqelDanmAbD8s1dQxu74GEZG9BWR9ycClaweLap3G4uzADkwTFnDQH+YttEgAAAAElBnh5FFSwv/wBsIjDZHoyAbAmC5YScHuff/33VaOLN+M34yc2Vt2vn9zgYYUFV0IZIPqGDGpC7urxPD9HZNdKCMhIHtCkAAJGBAAAAQwGePXRCvwCSuiKa19dMlP+ZOJTsgWjLvnA/5Rq6FU60aMasGKkpqEQiT0uuTo8jr032qXXuGkL5+PmBzzZVIAAAf4AAAABJAZ4/akK/AJLsBIo/naQgc8fuoh594rF12+Dgez+QbnU+UVzOUb0K/ABKoEgl2D4r2BtqdYkYpRPFaS5J6V4rtLKE2eIELADpgAAAAHVBmiRJqEFsmUwIX//+jLABW6WZ5n5mRAyAJpJbcH3eZVQLLriOd9f358Z05r+IYzQ9WVc20DGh/6ZeeC1Et3w+AEfiAAueW6kL/kNhWjeeLKgOuJds0BaW6fF1r+FUgZp2tF552SWORFgSCIEcVH36oENOmOEAAABGQZ5CRRUsL/8AbCIw2riFhBRa0kQq0LBO3bMouIZ+ekhS6UQrLM4jRCPtpycRw5iCDkK6casY0G+2PKgEamk4dl9tDADlgAAAADYBnmF0Qr8Akroim0r0clCZSBiIquqIMQE/ip4dkwtoVNfjZSQyJLVXPjv/VVzs1/AzN4AA6YEAAAAlAZ5jakK/AJLsBJKuSDjXu3daEAiEKC2mGf20tee/pLXg6QAIuQAAAJRBmmhJqEFsmUwIX//+jLABXZn6lC1EY0vaAnE8UrRSrABxdYLSnWLV3VjVdweGN1xpNHKN7kYzVzT1F52gb32aHfhLerh+lx1dfwGb4a0LMJjEglUdcpTjhjpqlAYbXn1fmB5MGWQtA+Hh0xIu/oVss7WslnuQ/BWar9lZAfjjFdLzGA+7wjXWYn7qQp8pFkPxRFxIAAAAWEGehkUVLC//AGwiMNvZn+GMLvFsqxQ5ZWQz2+bLkmsd3Saw1fTQZ7c8e3iOLYOeRZflgAZWE5Gzzpn0nva8dUn7vcvxNwQGTNrJBdu+NkKy5Pb5ovAAJOEAAAAvAZ6ldEK/AJK6IpbG+oN2mExoCf6IRnPrA9ZdWfZ5GQf3HlvKiYGEJEPGecAAl4AAAAA4AZ6nakK/AJLsBIpwnVjVRckb9dKBz574XUT8adTryRP9IcWq/9QuqHLZIFoPeLWtUoNP6jGwAYEAAADFQZqsSahBbJlMCF///oywAVuoqqCcGbZYhpNAG+FRTua/t+gliryW5Awus6o086gI4bBTAebPlUWs1K9V/aUk2whqNnWCOuY8cqCQK+EHfN8V5LeDJAkvKiShFxyOVkpy70HbzcR31wkDpsU4+viLh2mGX2E//+fkDA0DrQwAEZ1gzQ2ZnbB4KHuMSe3MdJXlVCjdc/+GLCYB9W4VbMVuJm44MtQEs1vzTz5yn/usW5MCc2GgG+vDbrRiedmcucNP5iypK3EAAABYQZ7KRRUsL/8AbCIw2SEWIfoS6WVoUmlNFcfknIU4pF35VEf7kX0YiFNzbUFGC0BzUANTpAl6P/7IJZITs3+kLaM+fq8zA4IZhG4541/e/118/HqGnZAGfAAAAEYBnul0Qr8Akroim2bnKeSXrolpQ5gyxEJ8efypMc2MnPxLUYj8LHlIcDB3MLtPdHa+IgtIo8nMQ8/3Xf4ECIPO1PSAAKCAAAAAQAGe62pCvwCS7ASJk9+2OgkFqeDALxOvJ5ky1UXWhsLIs9YaLNytZy1Mt9lj8Lw36D/xSA/oS0OQcGi8Dh4AdMEAAADkQZrwSahBbJlMCF///oywAV3mX6uSLsGVICWx+QsqVF3F5kuYDlXF/WsKYjKHr0uLQsjEe9u1r6k3o2bP1zeeEiJEI4a1veEFRKTr56IvbUShoSGaQppPaw0hBWEvBlOWUFSKsZGjiNECrEAOkeNryjkzVCfLupB4lNiBQXJs6hXf28sEqvtQsBdaUTYA6wsRUUf49KOE0JuVy+j+VZ/B0zSct7Fm+OYHkkOunSucoj0FNZSxynI8vuCvb1QWltQ1SWJgESjDZUctqhglzSvzcoav+O6A4eBHsCxh0D4C6EhH/0U4AAAATEGfDkUVLC//AGwiMNn++7qzgFwJADbTUDErX6rWzIDdxQu0nY2rBVwlniZTCXphqecwMKm22BDT31+EofMkPjld93kFKc/uaLKgBi0AAABFAZ8tdEK/AJK6IouVBkTf5eZ/BxhoDQIPCwFoLmMTQRs+10ovN7y//deNqZjeqEJ3wzkTH9F+XLaBeYB9ps/M6A1C0ANCAAAAQgGfL2pCvwCS7AOJZRPdGtnPbxcfuHAtvsvzPiKaxzbktKuXW2zpCod1tI4snghZFyl/XeYlgyxHOoAW2hiETcA2YQAAAPBBmzRJqEFsmUwIX//+jLABUvQHk0BnOL7R0xzyxxoHHzF8u4xg7xw++wgHKQGtH3XWB8poEIT/v9Qtwl0O5pDh50on4B5UZ2xlILJd0w7cnuHB2mSnU2o7K+XYWZsS6Enrcra4KGA4SILcrgUsfV8gm0W3HA+QNJ6HeI0uj9IZu97ppw8WVY7PGAF8bLTDfiPs1ParxYTVeXWLexD6ANZ4qcvxjObyq5XuM15EPvIqk4Yde+eafwwzOoTa2p/+J8Ve5xdDDE0gqjoWlzGE61YHwQEJ+L0jxoCvPsZk2Z7/Mkfs0agKE8TwS0j24lpKNVMAAABLQZ9SRRUsL/8AbCIwuSQQ+TDSeRS57IjvevS0ULCVlS5wPjOaIvUc0cclUNPk9Y7soCkQA0eFsA2rwx8alnGoAuPHdg2LpkzNgD7hAAAAPwGfcXRCvwCSuiGG/mSOUm5za3BJZRVvlHbZ8NHjnPDamZRrVgRlDwRlSJiFeqEi2aFNFHnVHPGPmh9zgKAwIQAAAEABn3NqQr8AkuwDiYWZer8nH+9NJM44qtG4qsIPjtfiTyJ2wCrtKlHJQnW78QyZ/TyFD89TYeWANz6RPOB8AAfMAAAA10GbeEmoQWyZTAhf//6MsAFU5lSaisvRMiPQF2eJSrBqvJyLgWDbnwmcTvBMIZD/miRg1BWIj+CWfvE+jC4Wr3XU1/iMx69/w3Xo4PkIWYwSPIMustGFagkKcqBnxQ4I1bl0Z+62RbNwWq9bi8RM6ktWLK8NmmvX1UdaO4oWSYg/meUW6DT/Q4ei7tPWSoOs4WpyqRtVniusE63mqErw2OYB2PjfI2EPceg+Q7kAqsrXgX1Pdf3IRejxNvl64oygNn8jEM22VNFIa9y2MokvczEL0Y45vPtAAAAAUUGflkUVLC//AGwiMLma0SwtdLyZgJNtFONUzfDZ4ncbg5KgkhcWKvFpMFOXfJ0eEIUMAoDlgwHgDfGuKhugLIrol+xMt0YxWsP0unngAADLgQAAAEoBn7V0Qr8AkrohgQ1jQDBnGjn4Z9ETrynGpL6Kaw4Ea3sBN/KmQgWqk3UptH05QlEmc1Sk8+w4OZJhsr4NcsCyBYAN/r1nboBxwAAAADgBn7dqQr8AkuvzqzmwAg1AQ3NXjBXcLX5RUchki83ioQpBQYjKtK/86L+GNp3SBdQrLu/jS2QB6QAAAJhBm7xJqEFsmUwIX//+jLABSauFhj47o3OdEVyANEw+spXm5hBUL5XJxVeUP+YOsWCkScmKdhbTVrii2Fo4rz7C8oqwISxfjtpLdbJyYBhMfKI8ogWBpdAFxtbEEBSlAlhCtbD6TP+jfZLgMk4AF8L/FXV7A/mUrkC8N8kxXLf2LqAjYPbTEZFJjwNcidlAAB9TfH2beJFEUwAAAD1Bn9pFFSwv/wBsIi8O3PdOKdyH76mmi5NlyBomlhQ0AhMOVD+Iyt89kyDC4QmEZZ38SNAmg/xvy/YAAMWBAAAAPQGf+XRCvwCSuhPlpzRiZ8Nl/b650GYaja+qvqyRZ798HLFblhTcfaO6hXjAFkHQ6XBOvOjYYDmmK3gAF3EAAAAjAZ/7akK/AJLr+Y1qT7GNU/2wU1RQRW+bsVNWLAM4p68ACrgAAACkQZvgSahBbJlMCF///oywAUn0dFIV02lsnU4qvIa1AXC95BTzZCbU0pFHgFpJIFVerHjrH6SKStDsYjPFR16Mnenx7pe9kOKjET1nB9ZBK8jNID0ZHtuUbTwlAuB1VsUJ9hI2RZuf2Bl8epwIYpyXGPnBBM33dmntmak4ULC2qjQIHAWNgvNvxfbUon4XexfzjZNV9T1MhJpq8ke3cvsZpIcSxKgAAABMQZ4eRRUsL/8AbCIvCkBN97qV7PWjEx97MuiOvut5Hf8oMS5VdBVTkBPDf68YP3NXaSB6m2VulKy9Jm6P5LBEz6c+NAKU9NYUFgAMCQAAAC8Bnj10Qr8AkroXnmHfAOtQZh+dev7EoGUiEPTrIrhqjbPjhCTXLJ80LcKXWwAdMAAAAEMBnj9qQr8AkuvztjzMBb6JEdU/SGWUAHCTZmw9sSqYUt08hoEEQBq7IYX5YQOGgVYY2YzW7WUU8hWs79x8M1ZLgBSQAAAAykGaJEmoQWyZTAhf//6MsAFSqNOtB+EcXKyqmejhgqkmdk/mmH2ieOG6nyalekhgCaYMxiujO3vHV//Z9Xgz2KndeoMLQhhHIzYxCHIushCD2+NHwZ0wIflwiWpqK5W/Jjk316WoqwzpSnxQpP9sUCr4hzim8a0rJ3YL7f0TKHnPcd3vwvIhP46bXz437XvmIXH8qspwVUM+8IHxCsaYtuCyzsQKeATP/IDJrkJ1osuAcqxGmpsyhySkqlbLt2SvUdGK7zEIcCh7EUEAAABWQZ5CRRUsL/8AbCIwuuZEWC2ue2zU/GPPElvAtBUfe95bs3+Zcc1+IcXVs0VXoXZCPrVkClB6ZdHEUH8lBxVhXDLg37eV+o2mdiqVKXKwIgsrCh8AAfMAAAA/AZ5hdEK/AJK6E9fEhzqeqwTbTJsPI/nrO3hCDbJIp4rZ8nCj/DIa3dDl2iVjR3YcCFdHR4cgAOGEHr5cQD0hAAAARgGeY2pCvwCS7AOJmTCWP4WXe4af+eV5Yy/HIyNdpuhWdMMbFatyM0gHHSB+voiVIO3DpYFF96KberWJfBA8wrExu6+ACJkAAADZQZpoSahBbJlMCF///oywAVKpWTcvU6oEtrPe1/Mo062tMk5b4pm0SX7bPUHx0kgPc71x6NmabdVtx6gkqlLuPqi7VIb44gE7PAPwMK2TxPCAi+1kjR8aLY9l7Tex01oyspveSJinA6ndCaau86GE15Ioh0xF68VZAY0g7gaPQu5Xw5fv2P85ef/mLdn/xwYYgKABBxFSGreM3lPgThrrqrOeEws4Z6TcEOI0k+YqMFLtQ+snYDJmZNysSTTIhFYFgWlhpZn2F0N+5YUgFUOkSc7SmrgflZxSGAAAAE9BnoZFFSwv/wBsIjC5Jpp8l1cJr3B+LiDNVnIAnYEND5o0h7PWTC+cCr4F3oGZW9lNj4B6PxJZdivDMSQCmHilf7b8Sys4qgMzc4CnwOOBAAAARQGepXRCvwCSuiGasR4wLfTQdRn8GtztroVtq56pPZWOQKsW/jPr4q3mgPOEunEwhwmNJlXKiz/YCEXrrUNyBFeqgEAakAAAAEQBnqdqQr8AkuwDiZplO971kBPu+tzMJ5YRb+rBHZjvvXa7yIMetTRkXETDlKoTb1T+BHb0RUituL8663SuAQ9bopABtQAAAS1BmqxJqEFsmUwIX//+jLABXAsTpqE3y15t83caLsYyMM4wQAANti+Y73CgEBIfOpCmURdaKVJy6Pzl0DRhgHe3epSLdb5J60QG8WZ27QcakM7t4ippB819buf/6MKHQmMS//9PnAwOjWkp0FvjZCH+jY1+gDy2r8wmspQyB8n2IB34dpgwHk44AYwsqWcATYY1g4Jpz7KHrY9z77DVfITlHyPajSvB65lVU3MgRFIfonVykSMxrjCvPGiFR4x31v0u7jHjQNXuLn5pUbsJolSTakpu4hnD6Oh5i8tgNw7dpDHtem1WWugAzpEIVyLwMAzt/McEBzgzDQhcdPXpmpNc4bxWJWIC5iUTHYV7iMXGfsojc9QhVjDiphfE4GNyn94sjpk4hcroQMK2Hgj/AAAAUUGeykUVLC//AGwiMNsajiTK2k2gExvRLiGXqWuTzrD5rokLNstRTctk7y+uqTJquF7368NLoiEkGf9QDuXuJx954myFl+9YJ5YoFIDDgAAYEAAAAEcBnul0Qr8AkrohmrEel8nzpwvtyp9DSiV6MTUBjdWkBeVvdNmoTOvTLEkZS4RnnHjsq5eOF+pVF8x9AIRVUYT8iXII6LAGpAAAAEABnutqQr8AkuwEmoLMS/VMVc24Wmiq6x2bEpZvSL+9G87z6cANna6IIUlzBSQ/aDS7eizy/cGQK6TWzQZyALaBAAAApkGa8EmoQWyZTAhf//6MsAFbZlGSLScBg1e4hhsYUNUQX1qhuVwu7fVkKamjvfabCTfWnDjokspoVlw0kTR7Yg94hB0EJESkigBk2QvVLol88H/rhMaHXATtB+FL6WzKP6nQ5QLb8P8KWMPq8Kke36nK5MWk95SJvTmTh9IFVWELMldt3QHm2bbI06cvnFWsjiSxEtzNHjsIOkAck8NZX+wr0+Y2h1gAAABUQZ8ORRUsL/8AbCIw2qqyf3qbEY3WirAgVF1naCDVwBO6jXVLuzi6rwK6/65KXMF7Sr2A3jdaPWqOhFnnvX2zHOPUuK/7SwAxkwWhYmrCOXmgAAi5AAAARwGfLXRCvwCSuiKTTVPv6mRzcas/RdwDCHu9Bn9MWQ31pEibVLurdOc7RaidyUsC1jlO6ROWfA8aRyOqrY+7mhfVK54XAAOWAAAAPQGfL2pCvwCS7ASKq9K0bREaCFM6+K/PJL/I0ZKsGqvzfl76GYnII25VOD3o8R3d0SvolBV4zukA1rgAAtsAAACrQZs0SahBbJlMCF///oywAV1gvL/HUgXRygK2r765nSbOBWRf1p9FICTUAqXw5X/7v3cCFsHn1F/XfCTtLluqI5EtzJrMxPnCPO5p9sK7B17f3enb6RCbcNQIC92fjVJPIhQRJlDevyyV/IweSRqitbv/OhUsqDfS8+cDbTj55UYKbcC/GcDeKm+gBocGfMxpO0RClZtR34XHoOOosoKNrm8EqlpnvrhePO3BAAAAPkGfUkUVLC//AGwiMNj+dNRvrGHrH/C6Uo3p0r3ZmSaaLlo1ofm85XUBb1uFdl9gby+i1nRO2+8jbeSdoALLAAAALwGfcXRCvwCSuiKbj1X+ctWRMaUvZ/HSwcLpFP+zraDW4xKoqKG8ki4UmencEAJfAAAAIgGfc2pCvwCS6/QTcYsWmMonxUXVJYn3m2X9yWvCPpAAz4AAAADGQZt4SahBbJlMCF///oywAV2Z+xcAAKoWqFqeE5uFmF5NIgY4GnrrLzlszMZeB1O7k+jox3cAk2MzLejPzYAVFAq0iGmA0pe3gXIb9YJv27jSooQnhEQOu/6VS+VzPV6x8fQyc4JlLwEeKOi/ysiL54LEfHCnhOO5fclYWz7rE0RJxd74p48HT+KKqtEZV/h9bme+urYQ9efNmarGHDVoX5mS0+Dh4DxeRp43ayBderAxyXsk7ulc07tiOKoIyF8tt2IVmbtgAAAATUGflkUVLC//AGwiMNk7CwfeWYDHLw11FKfzACyE91A5G4SvrxIV5PwFOis/tU4uw6/Eig5kicKD4leJNRYAksgAr7luwuJcT8vFAD0hAAAAMQGftXRCvwCSuhjrjzINTDWZiNFg/LhOtdlN6KCAG+X8nyOkkdwRrcSdb66BFtAADpgAAAA9AZ+3akK/AJLsBJel54U++SdRGm1xo9aBmum31ZEY4Sl30u/iuOHr/s6shIAY0LuhVbTo3c1TiYSnewAJuAAAANNBm7xJqEFsmUwIX//+jLABXeZfqumzozyrgAcXnruQ+CPkiWqx+P0lJhSE72A3ukQHANoK5luCXJCtwFzJIdmgNf5NS3xP5BGtypBr7vnBxPkCjet2BU81ifD7DsNBGVmTkoWT7LZZrjo/eudZVXDCj1L4ohw2FIwqp16cnDT9H7IBTcknAVB7+9buPWp4J7ZBvJV7tnaCFDTlql5d9GAIxddUGC0486UcOOWS2QJM6yAsSPUNUMlem6kdmGLZ2GBawnbaWUKrR/TLvq3w7duitZbBAAAATUGf2kUVLC//AGwiMNe2tcJVrVRCGrYgAlGr2FgCZLbmnyvbLqy8gIzC5HuHf8+r1PsI8uJuF6msPHx+1vtIV6lP/wDCkFtzvyLQAMCBAAAAQAGf+XRCvwCSuiKHUTI5hZ4wuX9mnDlEfk/kEp5ZfJfsnn7djyCAhD82z5BoBkUt/z81XBX4H3DAtr8Go3AArYEAAAA+AZ/7akK/AJLsBImOlaEoK25GsUJJQ5THeCdJqt0RzU9j/iWNatDL/Sfls/hTmR+xiaoDjz652gq0YtcABFwAAADeQZvgSahBbJlMCF///oywAVNPlREU7CdW2wMb2itUN1hTSx6N+m0wuoMgPGxEj21WEmeaak9z6KuCFv+DD4giQYpu2QitbfeK6SCpP2MHD9+Pnks2PenrbS1HteqHamAHjCl85memZhhDmx7LsmcPJX8oyvXxBAJmnRiV9Qh0YwbrECXezqkHPwpsqtZw9Gv5sP9v+/aDtWX8Lpg+6DP5YGUla2Q5vwk9C6t/KNLAKZsXb17kcoVND1wqneWNMTlKX3U3Ano7f9Cc5FM2a6PO1sMpcjhFQaHqDvEqrg6qAAAAVEGeHkUVLC//AGwiMLkncvk8vpYNNuv2QA916l+5I0fwuOGbnOuWQoAXxn6Qc8roEjGyNLxCOrmNEl8Vv4Qa+nVqylri/sLXuauoAcfycLSFvwAB1wAAAEUBnj10Qr8AkrohmtyihC0fgT1RTrjqPAPRtvu7hTmuyQcCoAgkyG/lT8POOGH1oczmlL/LG7dqEDCe0r3kCuFzNzQAApIAAAA8AZ4/akK/AJLsA6HSCqDetcKgOiz2xn6kk+kenZrP7jwLyVYzSrBfaKR2lmx/c/2FlnUpXvYVtbXiGBgQAAAA4UGaJEmoQWyZTAhf//6MsAFTCxE1Nls8gdoAEpjUnQ/6Xgm7GTbWd5yvsZEefUni7YpmSQG9ThwbGZHdqV6xfqMo+hTGlkWH1RfCtrGMYhUC2WPO4n8hhJsW0hXgqz8YD3Y7HXI6q56J979BdPSxLezpvDmQIH53Qd29ka3akzfJWFxJbbmDzXKWd5daW5ri6rkdpmUu2XU5AY1TdTnFWIi3UQbM1mmmvRv5nu/mC4jS6MQ+Wtt1kstN3sQivp7zxZWq7P3yAUaZjoTz7Xyd3uSjCDO2wb4I24SsAB/wqwBINQAAAFRBnkJFFSwv/wBsIjC2OLoQ8jZ5jJrdVIsiWnpMbxpsUf2xe/gp/E78JAP2z5Jtq9myY6YMcTF6S8L56d355RaMcODjhnDjqYqvG1xoEoIuQGvkAS8AAAA+AZ5hdEK/AJK6IYb+ZI+5KgxU3/lqJnMurfKAWCasyqf+HxdEPHmkB8zCTpPk2X1O5TJVGXBhd7SKri3gKSEAAAA8AZ5jakK/AJLsA4mFmXq/Jx7eGgpMa8acnsSAWsSQu4QJJIHlgX/H3QSKImASCuUIBnd7P7G5+S8/fAGVAAAA00GaaEmoQWyZTAhv//6nhABWuZdgXuAm1AKL0+jUwnXeAt3Qcqakf1SqFe2IWG7nzBZm6HQga0aXPuPC/C14pN30VrEMXpYpzO/7KeuhbjjcGNTsscqSNN5rMqPngXYvO6LDtTvpUmhmhDARBFMh+tHYWK5ktUdfbUoM3xGvQ86IQ6laMt7b1WqDSWWKAws2bbAEAgO4XgZae50pbyaNIO3VsaJ0J6Q/rI+eqTHDUGyC1W9tEVqX+IEkCKTFVubS/FDTlwFYz7hQ5P+NSYOqh6iuxbgAAABFQZ6GRRUsL/8AbCIwuZavXAw/mYR9niGLfMGbBtgZAIn7cau46i2nstzKBNHwAqliWBEtvUwr6Eb1tNblOG1y/iGnQAb1AAAARQGepXRCvwCSuiGJRhUJc+P0N+Gskh1CbHmMsxwg4KzL5oc9qOgsxci8KrrVH2LTrfDFBSnQwoizM9DXAHrqyTcLyVAYsAAAADcBnqdqQr8Akuvzsk6AQ1BhjYKRTXmNuRLtXcaRpuQ/l9knWvawL4xtsQxUyv6uPxALNxFTwDahAAAAfEGarEmoQWyZTAhf//6MsAFJr8ZJ3GsoslU1gNAjPSPEaSxRjDgvTz6HW26xgJnjripGtCXco6XPT3MT3JajWPGaqwzezrgQHQovm6JatrLPV0Ga5Xni+I2k+JoTGRsPY7mVHvdyxmHSy5BtIzSQoNKkfqBdwV/XGMFAD5kAAABFQZ7KRRUsL/8AbCIu3BO7k+ljHwzhZo2UEtVL417NjywiMnB22mhXs+2z3CI39hFdnRnkBIYZRkDqbWt43u+3J51vAAG1AAAAMgGe6XRCvwCSuhP+d0k7b8xtHGWfdUATC+PVYIcZvJkIROhWMJFD5Xj4TOXdKA+wAAwIAAAALQGe62pCvwCS6/rbjV+2mV5GMsv1L2gtNYDO0aMF2FwXLuzCkPxERnHDRgAbMQAAALFBmvBJqEFsmUwIX//+jLABSgqIbCp3r2BI7BcTkkeo8aH4VkVLYqRLp6N8oPnsh7ez48n8Kp8YawthA+rYFePdC8T0TxHN2zRVTp08969Bqwr0wUUzQ03yAlOOttkYTZxEqAfw8h+IuYuqSRJzvG3MgupfEeFbFkCNrq0a0f7cN4jrFEfWP6m4VS6PFKCb6trd5wReLBm+v7r8a3UQap19KPaVEqMt4nf1HTeIideXejAAAABRQZ8ORRUsL/8AbCIu/6dLh+3MFbswsGMEKvPhkzL+R8R0y7ffkPdPO1Cr3wvPAxzof+iOSFqXNl2wJeOAlLTjgfsJLUsVmQDxbiz50AIwADUhAAAANwGfLXRCvwCSuhPtYMJ22AlDIwx0dteB63NUUaKyAIatVeRUaD4/0DCz9YKqhLUta+Jf1amIAakAAABCAZ8vakK/AJLr87ZegIRRGj7GOpO5j+lnT5L0ocjwa4ECw9P08XPCZgBrg4GN19AeFyqgtbjYPeZssnFnK53eMBixAAABBEGbNEmoQWyZTAhf//6MsAFS8+kJ9d03AAc7oChnYPLW68WaczMUXMbUH2MAOopPkAkPf3cH8vlkM4EBri6uX6uPdoOXiNi2ZL+1wjOjmt43V/8z4NETQgF4Q3cT9clySdameSgqKcIt5Rr91gPEvwu3rl2++puiqfThTLH+tIhktrmCL9cij5eB5hsefyl5RzzGOWKg8118x81Fi/WU0PX9MwYxHqkued97qcco39jFv20dg3tj9vxuTtshyBy11o1uqajxmqA47HR/ZR4mIN0ZsdLcM4FxDocX1N2Roo5Klir4Snd6UICMCfRa3XolN87GZVGIki/1Zfw9qcaZWMZ7VjN5AAAAUEGfUkUVLC//AGwiMLqrnwWKMvQInZbC1VE1Cm99ZEqdSKmAvuj3u8aCkOZw82AK+ZSUCfVQB5bELTh3gCwvpcMndJY7ZUTFirvumz+o2gMXAAAARQGfcXRCvwCSuiGdvCYCMjb2+86wJhy4+0RvUjjVf5j9rMTTdycD8SAfJa+BVFuLIW9tHdEVmhn8zC79T25caglyQGAXEQAAADsBn3NqQr8ARV9bOPhXyf/WNbjuejdDBC8j77faq26yBnRttebC0I2rbVPTU4NnRT04lgBofENwjNAZUAAAAONBm3hJqEFsmUwIX//+jLABU7s5t5F0jqQf1SRH0AcLWdmKPu9x7dHTGUhsnHx3EWgooytZxMi8oHri+wRP8zMtQfVE5dagdZgZYr0IuhXuGAqE3npI8Uga0P3yDdPjP4q0eVr9iwkLLI5tG5nlmHAoUkcoaZFp5bnTw2v/Y33GB7YAFtYtlSnhgsZw4l+V90Xi/fs5IgjvEYCOZQSrcRZ2/+9FOa4spOQcQkXB+9GLYYL1aMTb+vjAD7mgWlYmG1H7d/2XKvr55Sqm5XqH8ztzRY6amIWYL+YO1nDLAoQpkF1rQAAAAE1Bn5ZFFSwv/wBsIjC7zdl0Szf2fFZILVx8L1uUEeWjxEmnb+BQa0a5H3PvimHisKGNn23VUAUAQ8/60WD9kGWptDI5h/EAROa/1MQA/wAAAEUBn7V0Qr8ARVomie2RQcqUcIB9G1L3m4BENK36qqUq5E2k7o3dbftsoRLGG7VXy1RGO7T63hyn33lPjSLKOgtIoDwAaEAAAAA9AZ+3akK/AEVzYCMBBxyDqXygsWs/1ZsI2kG8K1QS4GZAoLSGpVa7l/nfoXdCkYrnP4aZZ0cpqIStYb4CkgAAAPxBm7xJqEFsmUwIX//+jLABXAsRKYfd5N9e9RAZVdxmkJ5sSPiUeW6j3I+kXQvpERtXrHAj+3qWX7/4nyLIzzcOvyAP4HQxnhzOBrKnaCyjZDv0mIMln05BHhJ2ySAJAHHoyQqvY+Jmx5SM39JW9xBPlrzwvufCnWLws8f9USLaJWSgeCs2x0GVZiO2y007yuaBF5CnJ1/eHgNq/9Gs3PFBShVSAm5UsP+zezbujVrTqxXDyF/3Oe/d+F3H8oerPs8pQad5h1e43K2IMjn+Ce3tSOdXME79okkjiweb0c6sUnVkjtwgFMCx1lMju0/FtNTBym2ztDXCXlFP7IEAAABHQZ/aRRUsL/8ANMvgoIn7MwAE4PMBB6fvdzKzVGYd/BZ6bPmDiwZxH7AYed4x6fEU/LMFOczHHVIyzEkTP0Oys/nWDF8AA48AAABEAZ/5dEK/AEVaRBIMCYtg+d6u1XaDJ5lewozXuGhC9RgNWeNOxa8/5VsPB98OXBK0nqf88TbeS0VGHidGNsbQpBwAHTEAAAA3AZ/7akK/AEdfTGrWyVSwr1iNG9dTIv3HWYbIEZS+wdAxExocoJPKYt54rbKxGvA89Ba32AAUUAAAANRBm+BJqEFsmUwIX//+jLABXGFRam0AVZicfkHZN/1TNGkxqYHmOr8jqQQH9XvgL0LLXhlMFjqs8uPtLWEaia0jYxAPQfx103pZpNO+HnTzBxTFBw64VsNMHxTLN+gIoT4R6NMZR5hVFwKCAr/GgTDG8F+5wd+93ewvWpzWUjnRXWolmRjLJDYl+z5eEP9f/qSLJStVpvp52W2lck/ltVVv0A6ei7M6/Bovq+XtKDc5jrnLO9auOb77bVF3XAg9mT7SEee3paJ1aUshCsWK1XzajQj7MAAAAENBnh5FFSwv/wA0vwhf4I4EtXTZ/Lr5yCAfBDHVxYea7FDYq4kWRqnTIFBv8Q8cjpptgciP7FamWDLc2Qna9/3bwATdAAAAOwGePXRCvwBHd8djVMAUuyzcfTNl9p5CUgPc6CFCWbGxLa1orY2WnxnNqyai0Ay47WjJd9bavRJ0AAQ8AAAANwGeP2pCvwBHYL88ao/I1o9snFc/rOtsTjks+QbkkGFIkpfYOcUAHdEnMa++UU/HsazFUIgAj4AAAACIQZokSahBbJlMCF///oywAVu1Ah9dZnx9Ii1GxIDD8yjUWCR8ueJ5B7Bf71dFhrl/6ygtWVxl+T2gB9IxSR2PH86CZ3sfZVotnK6Ce9q+L8FRnGmqBynuJhqvUvry5wJpHdk4oj0LbFBh+Lm2hDVjdbvbuhH67ZvmyvThhBl9ZJMg9IdKh+b+NwAAAEtBnkJFFSwv/wA0uyr9PXpxW0ebuRpI98vXU1SMZh/9R72IsLJdqSb5eEVv5s9dY45rmIiaF/Z9ngoF9AdCvuNtVeFB0miat/pgAkYAAAAkAZ5hdEK/AEc0nj15rvRWEYMzpByGwtxcY4v5dzv4AtUSgAPTAAAALAGeY2pCvwAgwUPHQPY2in7g+WXSIWeCPJFyjE1TfIBRnlJIzXggmW9ywASdAAAAvEGaaEmoQWyZTAhf//6MsAFbp0nrAHwATD7TOrBBfKY3dR/2CTHiS3z72LK/LF0eVtUim/t8CiD0eh9t1pm0p9mSzlRXESxEPrPJOJR25jbOqBkTrS6ODlqVFb9PianNjro311Zy1KjtX+q1sPmAtrk6fGrSc0pyhTpBNfG9Y0uX9NqElsz6C4fLJdwldS+yOiCiqzExPtsWeFONowelopVVxHbEi3Lto+cYzt0R5vtyxZxoix6gy8s0XhfGAAAATEGehkUVLC//ADS9/+vZeV9qqkdbTswStyOoyQMKwMQonYJkxtz3u7wfq4dkpHnZ+gaQBYA6d6XHsZtJghVxXDf9qPH9Usqt5liA3oEAAAA/AZ6ldEK/AEaHabePpJf9n7vIDNuuK8iSNAcp9LDj+ElkJrE+wgv8Z4pgcS5QIJYoeP1bryBIGvhR0yYdgA7oAAAARAGep2pCvwBHXylq8V2YCb/hpsWGxyTsjdX5sJzM6qCI48Fs1zaLHOhkhKVILUcNFKmPF7W9VPVnJjPTogtVcxkLAAFlAAAAy0GarEmoQWyZTAhf//6MsAFd90aApD2R66OUX443wQHdCvf2yyvFUoVa3iBXZOwHRVqAl/9dT0sCSiSR6hQ2+az6VkjYrodAC5Lb55j8hvzBAy3ahWD7RrE/wqJOFxeg2hDYG/0qBjGwJNDOkxKj7x1wbVeiEWzMM83fD/amz5jo2zf3rc+g3zhIM4gPK5thBwSp5Ps93CpEJCjIk8Ttj6gsiYK/jtSoVWHt6UapaHi6HIogc/zazuTz92/iNXxYg8QrGeoohgdE+i2ZAAAAYkGeykUVLC//ADTI6J6kK5HAJ/8XPFYXpc8yIS3tgPYBrqzx53TvUsl2R5sI6A4tq+4iQZQ/Sj5UI9biggJoes9b3cWJIbUrCTJCH6fxm++UC6ckyq72P5CRIGlB7vgYRAfMAAAAQAGe6XRCvwBHeDRseRvMDyC+z8rBg5aAPBagROBMSE5pI3fDkLS7glU1YOnhJz81qRovTiI2RtW6Kzo+MMgAKqAAAABGAZ7rakK/AEdp6kK4ukRN2OrcndQRGRkNuE6HfZe7PZnaZ00AG7qr4BClL+2Pj69N5yjHAt0RtY0g0CNIfgP9CTT85YAWUQAAAOpBmvBJqEFsmUwIX//+jLABUqmU4qGES2eoSELoYDk535THZ3dMJPEgH2nKI+MKVN+4mWwxj1a9oHIHfuS5X6hwciHLhUvPZWMWj9yfIYkCBpK68qjv7QIEwN9l0YjlPBOl1Xz0dN6Bd0nV00S6kctxtkiMyvVjMoQEVO5KhrGI2h4xOFMFmuHZZBBT+jteJQYPkqWhhHNV2d7CKKj6bm4T1I4xOqE6GYNcNGn5CionyJEFSSRXYKGBQexvYdZgr1K4KJVl5n8UecjNJaIKmNHQQPYkRBM3AT67HKW/Unly/Oc2sTP1N1gHMgwAAABOQZ8ORRUsL/8AM35bP9SgvzRzWkpbkj/I9UXkr8SwG0/GfOqepWiyBYgLnVh5neHvVl7vWm1r1Wu2UoIQMy3+hfCI27gbzWKR1lDXqAPTAAAAQwGfLXRCvwBFd2cIvBhbjkG3IBVVIli6hc4ZrrEtH4YV45Pnas0mH1IAIP2/Lk0IT/7rkqpyCe63N1AC2zpM0R34AyoAAABDAZ8vakK/AEVArr6ukfRc4diz8/YuhMrr1ai34qpc6c7WdH8VEMQ4FiKH9gmUUf0AZheLYGEMPyZ7jbUP9qyDZADUgQAAAPtBmzRJqEFsmUwIX//+jLABVOZco6P8/Gx7DmdQNgNRNyIfNaM76JWpSwJJM+qdjOT2avR0Z1xfs1WEd7oJGIIObZvzby9l5haUGQ3o7TLMXUQsgyci7WTKiKoNvuIizd6sI/Xw+qux2clKikJ65w5HHuoS5E919Yw6dTgeuVYR2T6PtNBH6Y10NPytgb3Y0IseomCp7ozdWC/mVXcLacSTJsgBsvfpWR41ldlLWgMrI+BRHYQJ4WUOQ/15KRSWO9zi7+ajpRo/PCYSe3AuOFU+JpJRwfgqtJOsBq6ko4Cvld1GzordP0X59e5iNTNGg3o5tRwHMXqjnT86gQAAAFFBn1JFFSwv/wAziPM4/fbaCtkSTz9n9sJOt2XbapY6Ji9OgYkERAFGWnxzbaaaMOG/peHsQccft7WpSBRWezrJjeRt2kjHHGQa1Zz5ByZAAoMAAABFAZ9xdEK/AEV3c+2UE+jri2Hf0sNqQgepbXIYNPABlsFiLhGudPyYfkUpclR6wxZQq1ZBxyVszUrw5r/C9pTRdphqAA7pAAAAOgGfc2pCvwBFXyu7BomI0pmqwWLuBxboooBobpMI5PU255e31uPa0cXUSjyox0wSSyX6csewhc9AHjAAAAC/QZt4SahBbJlMCF///oywAUmn+0BATS70oCiqx55v5RlrfbFP1rSJ6/qI8uTUj4zuHr41ERi/ujy4Afe4xO/baGiEFvMOdPAhjg9J80FBCziH0w5hZUt07Se/ch1CK67OOAZh9JLJgOG3k7Kn/h4N9Z9rdxvQzrL+wRMYKKQDWUjqFeKgXkKmxQ5YluTpb1+D4wR/P9AGUgqvPOzG++o+yRMmW2ATRwrVILC8U4kEpO2yjEP8Eaz/G22t+emD3UAAAABBQZ+WRRUsL/8AMj8RUrBFRSoF/uBFaVrTF/Cjwqb6nu+iYSwaD2lUy/eEPqfXETw/wFJQdc8vYjPATQj0kikABs0AAAA+AZ+1dEK/AEN4d9Sb7pxa+Rn/B6CTWAIEZW9+JntuagRvzzHatvyEMfm3Gfy0/9ZTIQ9nG3tZQ831mNoA+YAAAAA9AZ+3akK/AENgMOcMcuWhBBBmQu7JB/+kTX94cWchOR8P2TQmCVksBsxjGvyKS9pYFOr/Suv08RE1HQBUwAAAAJ5Bm7xJqEFsmUwIX//+jLAAmCiTSh+fR7AcX/t9PVIBJpFNbcxfWbWeuHUHzH7IBapay68XcLxJdEwZEMi9kx7ZauSj4I+kbCsZPlqmO5ec434EsEcdJDLUNoLV0dfEXx+fBEU/2jzeFoQ9Y8QJULaNPmVR7nfXDmGMVxeqQYMI2evEcYO6fQPfUVtVrpvpxIuUPrvebsYzvTjVPm5gVQAAAEJBn9pFFSwv/wAyQI7i2X0hGh+RXFgKgeo6WZPbiF6Zoez8C55Goxva+49i2w+7jjBilfGTJGRcU7beFoTIIWM0HdEAAAAeAZ/5dEK/AA1/9j/P4zqT0biheB6KgxnRcBAgAMWBAAAAMQGf+2pCvwAGmsNFqCqD6Ti9Aig/4xFhicCh1uVIe0rk/jjZjf1W4hNDOOqxbAAAc0AAAADRQZvgSahBbJlMCF///oywAUnzgsAADLJAnTz3D/ruakmjLoUyp+grzK+fajJkt6QcExAyVSr9Sfsnr27e76iWUX2XDjnjPlwQ7oiXH8EFoziVDQA2pU6tpGJCqlSKLDpHkiaR4ZAD7MG/wBGM0M0Vw+o7ciT9xZiRvZ4nQWDlB0dHq3V+FPdf9SBrpjGN7HKSQNsV+tzFWCPyu3K+nduOsOdunV7K30iqBsG4y+lFJJtzDYVKc+H7HRsb+sZizLzwyZfA1CK/DVz/j5iURJ2EZuwAAABOQZ4eRRUsL/8AMkkyZuqj+wLV3sUI5Wog0PMmaiqseYCK38DxvM6ZUQ8V+mQImQmNlirZjgpVkANs6pLTxpqndtjmdvzROsnwJ6qDwBHxAAAAQQGePXRCvwBDeEmqcgpOY0gIBu5J7qiW97ay60xpAWc8/WIHLoIr6I9PKk7UnhHrtwktvJ+G8EBml1ByiNYAkAfMAAAAOwGeP2pCvwBDXzvzWNLhj/FrpT+0CKEp6jxGbfSFII9OKXvBO764KetbaggCQabfzCSae3zQFlYT0DjgAAAA5EGaJEmoQWyZTAhf//6MsAFSqRIbgUT0QPtT+gpCNZN7H8JHWNnn3QySQfGlbToXaroKniCiYpCzQYuE2qZVp2GASxF+77Ec6N9tLdIBE+ARkmnv3zsNZnLZLXpbfBTH5yajvJS3f+1h/IrmO0vK+lD3eX+1dIEnm8X9igS/l8R+mJAoACnABgON8mbvXLk1B7ZGbtSX4n1wJnNfx+kX9mLyN7jvgrExOIOBt98Hi/QfpRYQKUmVz1MN1BcYCgEA1H5nCarnQwehbO1mMA0ggowURAOC2U8gbuhFTnmCuJvzIfNFgQAAAFtBnkJFFSwv/wBsA0+rsr7uvNg8Dq8fIAIVl5ZWFpJGE/V9tJhGELLMACTjNE6v2xnOLPnmjBWuQTlT9+GSNa8/M1aZppx0jpnxY8/wzVSKPTpPsRgsI7yMgAIeAAAAQAGeYXRCvwCSuiGbEapWdpr6pQ2qLGq1G3XIV9xygAs2X+3BpPf5sJg4GqwMEF9ge5JaCvjxB0cdrVy9TsgA3oEAAABFAZ5jakK/AEVzYAqJdBQ/YhGw0kLvm3VkM2uPvJ1x2PhxEKu/WQe1M0faQ4RK/XRmy8BP3uvmdZ7UHKEUgbWOe7PtADehAAABC0GaaEmoQWyZTAhf//6MsAFSqXDinHiqRBqrKICgGfoCfq+bP0OlgHaMVPIc5Mc+dEwaDhRDnTLHLUbtBnPjFZlI2X/Z9J5lCNy2YudodfbViGOj2+7n7C3Ky2I8OS64Hjwrv6GP/dKy1kFug96e+p2bo4EpudrOd4O6swjPYz2Nue6QkiIn5skpFpGsDrwODwUwz1IdyWhSBavVS8/rVmQjPnDI8+2hKckVIS8rArYwKbEvYVDQN/L74m6TtLS/8OXcOypaB/O4jL4f2O7gHVvkN53jy9wtNjrwcL89RYsWE/kbK/CVcoiA3OlF6IEvdWuewNixF+1f/eAlGdiwpo07X4D2kEJLemJAEAAAAFRBnoZFFSwv/wAziPw+mTGXawRaXgDHnBlMABUmjb/kFM1lld97yzMtSYNm5oUABjLQH1iJP1ap1ZfpUS/tiFkBrXK4yO3BTCFUMO0pvMUsTrAgAXcAAABIAZ6ldEK/AEV3UE/5odhUoU+dIECjiwK5PKBO6K00Brn7PE4ilTcZVKRVoAOcnKI7fjzMdWf5u70fqAFtpubsXWWXqD1oAH+AAAAARwGep2pCvwBFc2AjAXSR42E/nawdiRog3t2Y5A+Ss0WY4e/oi2Jipz7mCyYSIbJSw4cCdwT/UVUARTbQSsDXvvqQbLI/AHdBAAAA9kGarEmoQWyZTAhf//6MsAFbqM57nvBgu8r6gUJsWSgF26Sz9CmtXgVYxIyWsGCHnNJ33O3dyQBx+l1PclV4zU2JLC1TGWf4V7XvPswKKseh95CMpM/1x5QmAU42R0bWFcN7l/lku8EzKK3CpMolnTTaH1NlginqobXGjEWTie1TXgkkRUY3Z4kF950rU8CoPqRDVuMNKWbYgM6e2u1WIS+Ar1aCfHlJAeEmXctPrFJYEDOSWp3DcH57B8S/rr7d6VRPcmdRzjhT3jNizTTVMtcfDVrV3DATGxdeQMRWtjlt4xmPNxozS9g4jIFbf7X9QNnH3UV8cwAAAEtBnspFFSwv/wA0qpiPCM04W7E8cEd6cGR2aapbR66kWEzGOD6iM4Li8LatCULePOktoecdNJrtV/Dnlod+nbJ7tgFsZWaF8hMsAXcAAABJAZ7pdEK/AEeBAaw4mg8qLqoVfmIyhdkr7aFnhL09ke/wrvV8jlqEqBMEy0QOVQJMPR6nS7x8xCteJ4CEUlgspe4A+b4qBYAC7gAAAD0BnutqQr8AR1+iqRRdV8yRjz4ZilqH7t9vkNvht6VvZ/nnmCcYlApGPKhJEyoa8dL1vvyMtTCoqW81EAJPAAAAq0Ga8EmoQWyZTAhf//6MsAFbpxppAC6j206yot10bAO0nzOJuIPc8bx2VSKbOhTNJQ4exUF8BefE5iF/Ma+AE4bzUIDewqlOH96ekVcoq4njwTvMWF5TZpHwZV/aXhipv4MyZylXXm52+0a28Q0Hz12B9pNbFY+jHFUd39XDGBPCRbuYEsjGsa9LYTeV83QApC+rCZDP86aZcYlhzkTJajB/zBzUfWOsqKtEpAAAAEJBnw5FFSwv/wA0yNOeWFsbmytCCXJ8MA5GJ1dpNFkhk/38yJgn82mBCooLdGooHe4Ccyby8vUASdpVhrRBF7YACgkAAAAyAZ8tdEK/AEd4D2NAFN6kjY+95esyykhTsOoKI1p8VEBGSshrXwWetqaBuebmp2UABWwAAAAyAZ8vakK/AEdikzaJmrJFX3x4HzEbvjYGsZmIT0qrcG9b5l8SFKays2wRgmDE5eAAA2cAAACdQZs0SahBbJlMCF///oywAV2fw9RE74w+t2qD2ECuCGjUscv3unKa06t604UCd0OsjRr02/2rDWOXFcxLWc+cTZZVt8tuLUyvR7JU4ZFmkancsrypYH97fi9KdsqB9lVXrk97zZnl2smhYH04NuRtftSNr0ZP1lfTU2E1/dF81r2BfizuEIstNEiK5mN1aRp2ZyBt1d3/8gAUQQHIeQAAAEFBn1JFFSwv/wBuojC6dgFgvtwvohDwHO2Pu0yjFYMaHeeIdxpxCQYA39RTt9mevHBvrecgupmeJbQPA5y4z4ACiwAAACABn3F0Qr8AQ10RS2NB+J9D1CiFOipgAdj0b4LloAAz4QAAADgBn3NqQr8AR4QM8kczjT9XO6/qupGziEw8o8oTXgu9ert6u+coWdz6Raub3y17AeVaf8rzxWAJ2AAAALtBm3hJqEFsmUwIX//+jLABW6hKk6CJOuVJXAS0Hc2fZ0tFz3J2ntlzu6dC/09eJzfl9j97A04CSBRspy+eUzYF9kttg5NE3OpQRp0TqGoZJc4+/l5x5wWmt0tvGrlgtImEemd2no9Cu6gYCqH9V9em5KDlqCjqWw0FdzXTLTbsVOYAO/fpx9CbdQAXVyqnYn4AKopD5fbETL3YhuD1O63qSkTqeja53lCnW2y7MNWtWnhbBTwEb+8vlC2AAAAASkGflkUVLC//ADTJSESUovfpkYfyGH4kk8E8nkCJtDmM2n+R3pdv9Hnabyy/fVcsJQROfOxll8UHGbpj8k5FfgSXyEFOWdEroASNAAAARAGftXRCvwBHeSp9BGKqi1agftcEjKYAFd6DoRaUUGIUjm+lMALB8+ZYxIAfGV6yB/P3JjGI5rZfVoHR1vDLZba7qAHTAAAANwGft2pCvwBHXylmP2vfw9WNJKd2EcxRf+CuKOVRAu5sFo9U2YIThLWJr1e6kyzPqftrcOAArYAAAABIQZu5SahBbJlMCFf//jhABT5LsMyhM+Z9N7cuAKrqcP2wzzrEakrFU5nl/bqAzN2JMurOgduGMvSMfT6X6Li3bSDG4aY+oh8fAAAGzWWIggAO//73Tr8Cm1TCKgOSVwr2yqQmWblecli0yGyAAAADAAAXkDg6hw3lKvggAACmAAXwm4EU74rXYqWtPpInVaJWNyjaWgqwf82reZ3grJAMoOA25P5InLtEXZYYtIbc89uoxpqJIVWpO4i3HQotbtdqjizCpakWpC91oBmmyl9Nqj6mQ5BFRZe6XS68mR1HMguZGC5KtAD3NQELxQluQt8dvw2XB895q028CrKeZ70L2lQ76kLEJoqszcjSI9zY/CFlHGB8bTi5yaxR7s4Wbs/sbO2YAKHcyuC80/6wNtUCiVsUZ6Vw2EZASMldibvmt8vhKs+QUne0DFgGw31KCg80/an2f3T++/j/5lTmjc2ZZe7gg/Pq5mhaDFLO/prDPihgCIr3As5w2l+gWxZT7b3advinC2dLLRAhAsYiQlSEEGlzRrghsPmagMQSmeJYQxQ5dryDJy9rEZu4JECfNL7vDlqkJTwCjK77Q9RjSy8OqpbT7XTiVJQgtnopVSaHhIyIE8zfAWgpAmEn2wfLcvzyaVtFER0lnHZEWwLMlILssheA0afJ0ywqmywjSSz74QaX6/vst2nvJoAMTIHkrpvtKbFWRFxa5g6oshRU3HHE9VUocIYGWcpSH5DS/Tb8lcq3lDJGVOPqxQmTyqMUetgAWROtUwg7ike3swNA9PIMY9kMkofvH74H8afgYpFFSGeRH01bV0c5/jsu08yqMDw3OMmiXpo21EJQvLls4KFFr7ejoNhJIRmQKPvt/6WkeTiLFjJIEHx/C+nZIezGH3gP66b508SkpNLPd9Pk/J91Q5Edz79oUHU/lQ9mFrUK4Mw1y3z+NoGCfvE01zKaFkVKLU1LpCPE76CHfyRnxB2yVvSIe9y00N4cG0jOY8ZB9zL9nDtpB0VNHSXqTy6qtXFpkO/pXe6Kvh7ANrNi4qZ5fX2pCe4zXKu1QyhuBuxEw79M9ezGSVn05248lLdzyIIAjbjz7BaMzpvH1j+ByAiDSdyRU8r+b21HEDlaogUBNt9w4M9Si6HobVYGVkt6tyCBI0HdLNoATsPvh6g86SBjp1uk4JypjFM9UPpzStjlAo8Hh6JBTfWhN4qCzttZbl2S54Po1pLOnVPDhX+x7hun+hpNdoF9p5AZmFjhD0No9KVF8FCDxnmlkxbRUhlWV02e4pdIYTknyM8DeG26CVdLHSxRC7me6XSuRb0trIn3+ItZ2o+wo3JOzKwkZNTLlyOA9n0Zb6OeplED/c1AwCDeMQdd8D2+S0LUVVfzzETVy+CPPF9OIhijxY3/8/q3bVTbMX0dXG5/91fTuvYXBXaHkAwD+P+wJquKvhn7c1HWR5qFj6t3u+Ordf5j7cS2CYTLWt6uUnRJaZWy3rxZbzr505Mt/OgPCPPIcIpIipzwPx8D4rQaLlFLPQt6PkMzKwtEIccZkAOWgdGQqW+7sW01+WICCfKgM6GuiYyq9uHwkUkQWHE5EDbb9rzd8kyAArv68+NmMaV+Hm1ZzCkWBQTNdiJrByYxsSoVOOhDgebZqrAwsyGHYVBu09gYbPX+LC2u3CfCSvnJ38judwkgT2rfzGarumcmZDPUvmQYb99KRAECbiEXgIO1xwqgVdnXqyv1ZIWZnr3MKXiIgP/BlkQmjQnnkqpV2eT+WruxUV5MTaMHPrwnNZgrZRl8bSLuh7YmsxcXa7inLRMTIGHRgVvDuju6Hh1S/qy1MB03F4vYHJSwMAuqhFc17pG2FE0m5cHdFTxfBYWJUxSo2zrLdKps4TjI2jrDvEugieTICfqqkuxzOiQG1otap9fADGW13wFwbW1Z3kLKyY4b/EKnKEuITEJtpvstScqisR8NvARCn3TN8THejWNo2DWTrVGaRPm/D7pjcyb34Xrd51jemE9tXBqYSM7MHGdNM2AknVGUxviqpJe4MgzaxdCgmB9mTYe9Sl643TuA2shOUNFO7guOy2vyAdBe9dcm3bjLxJ/clXsm6rdpYhpfV53hnXA6ED5v0u3gv4KpzQDi5eE5gcjxqXbziogzpGrWElAUIqSNW7crtzff72ltexEAMZFD2gCxPC8eEAgiSJGQIYO1ZTP5ZJSqU+zFollo7wCtfWp/lMRZ576WGQ0nuU404EVPYxKgF1QvZv0zd7DnE2XeK8N7wN+kCOkQlgYMNzf8ci3jp9SjwFFy7qKwF6D8CcLL8629ErO2m0j3oaEQ8NbayloaSVkhzq/afoSVfz5lTgM+lvH/j/k5njZMlUOYmcaj9GJajH0hV9y0lG5DvQKpwAAZINUe/AAAAwAAAwAAAwAAAwAAAwAAAwAAC3kAAADDQZokbEL//oywAVLHty5gLslmzRJQwa9ZUqvjYXTf4+a5ditiXAp0wCyQtVOiACOo9EMyogUIv8ktv/joAqFPR0csgxBTG3A9bEiPZDA/6BDMAbW/iXV44E/sohdH2e5FyBbYGBRVN4vpkAjwl/+H7ioXELr0+0aZzQ1xmjcBcgLBz5yA9t1spZHzTtia49RUf4JUrvN8vdo9enIWFWXECsJk9Om7MB/4YpYJ1aIrLpog93zUWboakdF0y8TmxfG5oRujAAAAR0GeQniF/wBsGzZc6n4mwV0BVFDjRj1lTurafd09kAVsi09oAsKdmXtJQyQ9f5uZy6aiiXUUlBNzAdQmjhRPvCsBOt/1CAMWAAAAQAGeYXRCvwBFWhiuSzo3Cm8Hpyt5U5oE+RhLNF73rNF5lWyPC4IL8OTnMZmufFdOnTBYECa1pypN7awA0QpMA2YAAABRAZ5jakK/AJLsA4llE9Le+YMqV1EJ3LfKs9YOSRfTqlvUVsV1rJgQcRaUnuPY8eR+S+UQUNJjOIczfe9+jGrG+YA4LbNq8BaFCAdDYKP1SAGLAAAAvkGaaEmoQWiZTAhf//6MsAFTCxE1NlqEExkqrU5jVJFG7d8L2ABX/VxZ+jLPNPHW39VEmD22BipeUPj3W6sl88Fbz2KO04BM8h5Z9c8ZQafneFgUzW4SjbaQO52NmFEI1yAsEGzvZrYQ/xuOAA6JkZLjG8K46rScjRDw8cmCUI8ny+IngkErFoECpPOyRP8aBG6AcNRyIv5edkuVfkzZnQqZNIUVWctV++hqoPkkk94sLKZhGK4zCTOxSG2aE74AAABUQZ6GRREsL/8AbCIwuSgh40EY2j8ORKuB6SJazgopQRapoaG1mO0XGEW61arQzgMxwjT7C65wJk0yNWWCu3q07CK/aV0lSZ2qJib2J+U8WczVABSQAAAARQGepXRCvwCSuiEbH48oVXmMo7dwkYJE6xSFpoOwozOgZB4AFd/YhnYdv6fzuQyM1MW5MvfI77Ps0g8cGLLuQxdw4NQN6QAAAD4BnqdqQr8AkuwDlx0FiefDo1iEzAbNlW/xDHb5EaxHkpfh9y+3T54liN+vumE7KSpt/f5CGFlNkElOUQArYAAAALpBmqxJqEFsmUwIb//+p4QAVrmXY74tUd7W/AvQlzW9Z+Fj88bo/WBSPVAH8X3zi9H1efqmnybXNgXG9ECMNJdLmxnGCep1E8E8rrw/1cSYz2xEC6XrKg3US5m/UtfFneWy3pbo/JIpGVA/ROj/oa/bmRfKaCS/3TTA6PwBcYPWLTIkJRpCMu2z6XzOwoaLtAYpSCKdXlKeb7/rTKiLxma0dAWbn1e6UMXSUqQG1+lKQRMUIGWWGvIfEsEAAABHQZ7KRRUsL/8AbCIwuZoS1mdOorEGsjLOYZB9zjxWpL/RR6eAZ4ojT+8nzeWGXuVRGBGxqrzPnjbpWzhxc4gH9xlpGCAAj4EAAABDAZ7pdEK/AJK6IYlGUDjjbs9DBbH/nMUmXZP5yJPtr2EWQSYxDRWRVsW64mVdnvab6aDoghXPC5uiSqyDGc9v4ACpgAAAADcBnutqQr8Akuvzsk6Rc8d8E1i+LpY/+aX42SPVyRa0Drtb2iBxizteSDRivxJxNzexGAsBAAtpAAAAiEGa8EmoQWyZTAhf//6MsAFKeFbf/6ZegS2mSPNAAbQPfKP9X5hklzCLS56IzmMqXbBGbLsQ3jKAFnG28a1ZCqCCB6tu1UICdSWdHR4Kf164NtIKSVEGkFTpaeH55Qk87r1QS61Jp/aQEloVat8EtpBcDU5Um46GSaCf5b4gTnl648qW7miABiwAAABCQZ8ORRUsL/8AbCIpDvumbpaRq3NHjuYA2BqUacGOXYppjke5R01imgckt4DQFs6YjNdvaPGJszyBZ2MqdwWAAPmBAAAALgGfLXRCvwCSuhjLVrv0k6EhlBVrNmsfqEwCnKaSL5kATmF/F5UvwfBbwEeAAccAAAAqAZ8vakK/AJLruYHc1W8fYvGDAqhYIU9+Kl92VApmlIreKW9k2l5QAGBAAAAAn0GbNEmoQWyZTAhf//6MsAFKpxJYFUmR1l/Ji+uAHdPFOoh+Rn7txeZTF+qxIHc96Rq1lXuSo7W2Zu8lfk0Yv7n0JhqqWwqCXM4OAmE0NKJRhk0mXRp9pBT+xd7pAhRZbDa36WcTU9Zp08RdKjAMWszVsDyu77iqn4i8gdez29HZbavD2KC56tsRsdYXwA+p1hBMp0SjKjD/A1AlZ3QzIAAAAFJBn1JFFSwv/wBsIiffBia/XtpsFOz2xzPUCrihlYfUvaVW/oODbcSzFGLwV9rMvo/Wrq/hoca3Unp22hhBlQpeYSFle1j+B34edKH/dQpeANmBAAAAPQGfcXRCvwCSubGtXSKBod5xf9nL+K4NQTnNND/koGq1pW+QMzdb7kTCRrOC2+38vQn8hQp9yws8CQ9AAoIAAABFAZ9zakK/AJLruXoX3eAwZjrxC+YRspo6HQF4GbM3SygFK6wcnwBBDQ1VQpVL6/YQbHC9eCCeoMAtpV2bAIYG0Q7lwAU1AAAAykGbeEmoQWyZTAhf//6MsAFS8/S664Iox5hNzwkk3ZWXUor1FGS03dI2GjqlHT/nRKPRbQk13Yl54KNb/ciNXUtWs57lNIIsc5N62xNYFn1pThI9/zvLHLw+KRDPjZqv5Yq+7O9x9u+6esXR6QJWHoJfKPeH2ldTjqsskAmTgu7nuWZF1cXsiLsuhzy9jCmYmgfWhdWJO0PnwV84Gfy6Z8HexoX9GdN+KrX9mxXU0AeuclG0FdDByn7jkx0EpxD4Arr9DlORQUeeCYAAAABZQZ+WRRUsL/8AbCIn33njAS81BtxrzBJhTtP9xT49oKJ8uaQ7cJbnK7cF087b0jUD5t0MeTOvQIN0AbyEU1wisTq6IxElkOK4B8kDgjNdol0s+3+TFKAAMWEAAABCAZ+1dEK/AJK5sbrdb2FoSU3Tv6124fLZfnsrQyTCkP66z19+IE9EPjVHJB6Fj7ehVfoMSyqOAb7ppY0X2hrxnYGLAAAARAGft2pCvwCS67mD900h0h91okPCaE0GHBGAJHxfhc5pF3L0v9ITIA//yIhhRZuHiaXE4DoXpBVUortxl3qEMI92ABlRAAAAvEGbvEmoQWyZTAhf//6MsAFSqVjinHi4MVT/7vMutI/7UjJQzh5yqABHipCWqYjCEbdFN0+Ujkp6PkDY0fLRrAwbR108k3JBamn/owDaRfpKgSXPS7xdMpYticZ9cHof/6ZDxWveK5nFMINizC+lNy04iS2082Cwwo4apBPyAwNI6YDw+4M2huVeCK02D16boY7jfYLOiQNLntdkDqyMHkgNah17q7+hMJ1OSEbqZ6igywsuv6aoeH+Y2bUtAAAATkGf2kUVLC//AGwiJ996lxNe5bjGZs33IAycRPDrZ4xj2fQrmWgTcG9moN6wvNVwEP/Y/tHJawEdbXzRMCkWFy3LyTyaMjWGO8gtk1gKSAAAAEQBn/l0Qr8Akrmxutll19+/ydyJOgWX+SCDj0kzTq3zsIODIosbYK1bFE8k1ba0LL6zrmUD/g4K6q8GbkGiOBTlkADpgAAAAEIBn/tqQr8Akuu5g/dDSag0p7ZNtxXM6JusmJ5OReO9KZUzQLMSoGiIzuahalq+ea+y60BmwrOsYvj/6NbIvM8AtIEAAAEZQZvgSahBbJlMCF///oywAVwLESmHjfROGyAp5IgAZi3n9HX9E6wo8kANboYfwcc/YdR6kFLhyOObmB6y0ph8ry/HPrWrd/8LwawjyIApYoARQu5SEcMRGBF8IhmGC/dfXmAy6vDTsCuU5E/sRBasEe0LCQX3FTarV8HcL+0c+V8hqf3cYVottpyA/4VfFKyRBOAdYgB3IabOxeZ9i4oXvwW8WEL2IWb+P1V3ibsLiclvDezHAO+6u80kID0vz6ey64c+Pze2TwL1kLTHIrlL3V8ws774jqDaoV9h7TUprs9+IQ7B7RS56TP8dRQpc45jsEvjkWkzDr7MfzkqNU3QZvGjuERB+18kXBAl+3MPcvVxbgIhdhtpBYAAAABUQZ4eRRUsL/8AbpTOTrhqwdgfI+cg4JD81XYVgCokP8Umo7L3QBx0SdXDb9r27LUy4khUiI8uYaOARwJ93SofojOeWn9nQ4PKOPSvzkXe2XLMAFNAAAAARgGePXRCvwCSubG62WXX2bsCOwlaraVD5g/Pl6IuB6UyiZbNw38InUmgfZZz/hJdQ2RJrY/U8DLhCGFKAexKFpwKee8AN6EAAAA+AZ4/akK/AJbruYP02rci98WtJnBRbK3hKMyQAnehxjKp40PbSEQGnLqJj3qPqutwZbdriNwEfnByIAAAjYEAAACpQZokSahBbJlMCF///oywAVuoJqLqBKZZ2gOtuspkEbmRftMqdYE7m5V/f6rsUxTabaI40ZNLYcJ+C1kX3CriadThAS5FAdKEPm/4Ud8Y/+yKbWcTrMAFjGoATHp6KIG8Q3Lf8n+OWKcDoNYR5JZHEBDcOr45MZYlMIiJbA9cw3W5aGXbw9tb4crNHR1EBKo9pd7yK6TyfAV10Q7hR2eJ0fs2/D9JttepgQAAAEFBnkJFFSwv/wBuoiffeizpTwFug80yt6Y+EADluAI8djV5RSnOAuQQBq94pyj2JAEkkQgm6T4vsG17bNvxPpAB0wAAAD0BnmF0Qr8AlrmxusF4F/kroyb4wi6+3ziiWOOyqpEr04O4+v3OiTciehpHVHBngRG0nfAcrOGLVRSCAANWAAAAMwGeY2pCvwCW67mD/lj9SoGUSIXjQyQFrQxNPvRyzkqNXOnoeXdSXmxwpa3fz/s8EuAFJQAAAI1BmmhJqEFsmUwIX//+jLABW7UL8AHTpS3IIR+ymV1zAlC5Ou/mIZeeikRQBpxE56FzaAfNeWM22D0fTMrOzTy7DgfnTx4Q04peJbDSPYBufI9dM7ndTVKUcrQ5qYuUGucQfspJi7Du68T8EHNiB50bzL1dFyGREL9iA5o9Thpkh3CA4tDBYjVBVUt6mHYAAABKQZ6GRRUsL/8AbqIn33n+aE6Yo5AqzzeH7z/h6Hr5OLBaAuYrnzrC0RDSm9iA4L/X0C8IujzFm4t0/oHJ9hWQW4It4QVBT8gADfgAAAAwAZ6ldEK/AJa5sbqvZ/y9fQ/sjBjocmZdqndbbar5JFWSEuW8mrK8jaqJC14qAALjAAAAMwGep2pCvwCW67mDqbZgvE7ejsmLyPHvmzNKOLS0zQHxkTDE6kQp9ORr1tpaxYfiQAD1gAAAAKxBmqxJqEFsmUwIX//+jLABW6dKToCcjOnk8NuYJ6Njp2z38uv7wqvErY58GC98PW/P6qkPiRfQDvxvhrJQpMHxNKjLDU44HictPwWoutUvATfuAiV3IVA41GFcIjf/9GW66v/Wz+PSxDqzzfhRTLmYKt/imaTb7q1NMyTLxriOKfD//kgTg7svwn6YoUbG4+tprWpWS8y5lMtRuOaIu7K3bZXiL39rgFvK2mf5AAAAUkGeykUVLC//AG6iJ996IK6GAPc+qCWjnhdQ1J1movZyo8iPzby2SENFnZUiMZYzmu/FYM75BoxR7pdiQr/5ozxZ1rIqxbWAAjHL7ht7dP8ACgkAAAA9AZ7pdEK/AJa5sbg0hkUt6XSwHeAb7L1ivroD2csnBNC7rr1XelvljAGGCBe/bgygnKKDoXBevzzM5ABUwAAAAD0BnutqQr8Aluu5g+/pi0ag2KhQX8Idu+lOpGw8kcv83quv7b6M3NUfNZmTfEs2oQnlZ79C+P+ZMuMXKAHHAAAAuUGa8EmoQWyZTAhf//6MsAFd90aApAofXgqPUOzKcQ32YKq1amuCGiCt6pT1pdtLPrUwbMyogQpYhuDd/v/4+0Haw/TPlgg6FtJgRbTonBMtmVYZ2/g2NzgRZKF9ywqBA8ypOvSF1WYTjox0poJRTJeH5IKXYjK1oY+6BUBl+abMK+7rPdRf+3U/L9/pTomYrzLx6ivV3MqJp0ocz9R7rM6arjPUBHfqhFIsIQyihXN2cf9RT4QgsuuIAAAAU0GfDkUVLC//AG6iJ996lntR0QB7xkgQY0O4ZIreyUADIMmiRsvQssJK4+k5KGo5mkBRWrLyLfR/iScli+3z9+6EOW6lYljEAcNp54ZvnvopAN6BAAAAQQGfLXRCvwCWubG6wPZH2od6SaScPDW0tftdRdNG3vgMoMgBoc9zPw/qnD0nRyx8sKECvuYIYFQWVcKtM7cv8AIPAAAASQGfL2pCvwCW67mD86ATd+zmCcT4F+4OtIyYQVZRABWLwPbNkaNrMPpbMk+Z6zqODgxYFZiNGwQzPyQnB6dw9kNFkcsRa8SHAXEAAADwQZs0SahBbJlMCF///oywAVQr5KTaRBfSeSN1ynj7r11bHYZ3ugkwfAJ4MCWFu4SxZACWxd5juaxCgFLKumoN1ynXDd89Y8OYaHHijGate70MOfhabyMBz5Tw+bX1/hojP6GEy4aHIwxGS97o9qnX3V7Eipk8UUD6k5wrpErsCJa0QXloMycH6GarqxWCjLozD7b8FFT+FbdB5W+aNSWrgot5UL3ubuMkeCOZqeqEsXhgCOyFEWPWR0g+4/NAC4zdZuL9gG2SJHVoW7fUq1L+LP6obDTh3I6zS2Xw6weYfa5TEWqDmCAjSUqITYAkmq3kAAAATkGfUkUVLC//AG6iJ972vWXa4c+XM4EAvOBFunPBWFmovDFLdm7zHKLdmTXAe5ldiGYkTxWYjHsQUc1Td+Ntv97bEPUaOAuVhb1IpjADPwAAAD8Bn3F0Qr8AlrmxqhsdVIihFms7C0UjbRbKID7oFiEZocYlHRxcFclX22M3Oc3RVUd5lL8dqB9uWvtm3tzeAwIAAABDAZ9zakK/AJbruXoFHn6rpsvF9TQcEOQ7HsS1p+HHk1HZ42It+a3E4HYeIQmk/XB8WGbtlYy+D9VCQH7zM0wpS7ADjwAAANlBm3hJqEFsmUwIX//+jLABVOZcecJejeuHUohUhuLCxIvxTkKVAklCFKUubm5sD7SBcCoZzHleCF1kuwNijnM+7u/GCFxDOYXulUJdkfJ95RHZBsYGlH8LVpBIPWMt6s+KvGH7DQb8tCXa1cf3hZA3zbBKEUWvk47v9FLfokXxto/FoLVsNpeLEFoQvyPatUlqtMdc+dXQxy5ouezuPFGIOOEODgwHOzZxkGgHULzkvBn80hN3xhl42I6vhOifAevV0XqhA5tYMICrTuJUa1+uYElJYwQYDHTwAAAAUkGflkUVLC//AG6iJ972gaNGrcQikm1wirOPzNUwJKs38cpV7gv+N3cB9nBEG+Xbo7MZsAcr2VzJclvyCKSy1BxusfPLrvMSM6kc+FGptkYAAScAAABHAZ+1dEK/AJa5sa0zUXNr56uv9Q94hVaxpXxNwyfwRb91nGIxy5Mz2PpB6f7zzpxRm5ZbnCgZD7pxOlEg0Ch8oyPMyvAAm4EAAAA+AZ+3akK/AJbruXoICffQ2RwL8xRjb3iDP1QJz4alGvZbPC/WXDK0INAI+x95Vy2Xglyi2Ee93nqNJb+ADekAAACNQZu8SahBbJlMCF///oywAUmn84f48/bb4nWgD8Xj4+kke9yVIeW7loNL+I0EYwE62z6PHGSiPSbj1CXeO/KBKej/xYvAx2aytyt4vhgScQ5FmZxeDqAgNHM2pjwDd7c3CMd8/VzUMDjQMzC7/hsGxsjjQiCv6nzaGrDhizTk8XGAz3IxtFTYGQyUTRbhAAAAPUGf2kUVLC//AG6iJ99RqlV6ECQdLEai/y877OC6krS+j/VS798surpGYXLQ5ldZSPYBUturlKYZ8CkyAZ8AAABCAZ/5dEK/AJa5sbXHrvAnMjWGpGEhmORuRw/udc13P2CYIUry3zgQ9wxqMXbVYueBNkQkoLLNweHAfqvuaOWtwAK2AAAANgGf+2pCvwCW67mAfhteu8hvKQsBdn1uZNAn8NqkewK700WSZoLUkP6HTocqM7ej1936ucADAwAAAJVBm+BJqEFsmUwIX//+jLAAQfKFyNRWup/SYCPN+oAkw9SHvDJVqrb1Jx1Qdm7nTJr4eAf9tgOwusaFwadrrHxMF64T1VrHRLy+toNVUvs8r/OTGN7qPy24mFN0rzYFjcLXGgsFvaT/UxJ379f4TMP04wescd6JdeavQadEe2Tl0OwsmK+Mx935S79hnXRj96er4nf/fAAAAD9Bnh5FFSwv/wBuoiffUkIn0hpUbcRTHfCD3YvDIDNX9mTLxMRisX/y3SeuzltuEGc8mLwcXyxSKwfqOkEACkgAAAAhAZ49dEK/AJa5sbaoP+NF4nIVL3TdQDQyB8qyV8BAAEPBAAAAMAGeP2pCvwCW67mBpRZdpju12l76/D9LJ7bDeSxT0JvbVVI7/k2UNM6l25Mv3AABywAAAKtBmiRJqEFsmUwIX//+jLABSagg4cHfqgEUwWmAx+Hzt5ZHzDqaI12XTPdPaQ/ns/S1p53xLWcXAgIFClNzldy1om4guIWJacMxS/ZUTAYW9BxHO/h/bnQgiqyE+ccNPCteeAniqRDFo/dircKog2ZlgXIy62lIfAd3dCML42cOyTFQ8nr6KNsjcZkgU5hCPB/rZMJuoA19vOpeNkYxbSWZssDchBZGHOoxH2kAAABJQZ5CRRUsL/8AbqIn31htGoDEldKyJ9d7rDkXcZjmg+/9+aDApligupImwJGjMSVzvd93pUrdDm8k8cCEsUE9puRF+h6UpgAbMAAAAEMBnmF0Qr8Alrmxtcia4j08q3LRcRGBJd/nZ5K+S0O9vLxqWciLMlenIsXnbbpxrom4ePWxBg+/UASoFV1TNvLdAAMWAAAARAGeY2pCvwCW67mAe3wZVUGbLq+KF/R2QkysbpfzAKVKF5lXG5gYRYoO4rl3yNFx2RtbIRcyIJu22KzhCb/EjaGelYGLAAAA00GaaEmoQWyZTAhf//6MsAFUOn3OAERXXVtL2ybVE7y2LDbjsf286EYXegJpAirFKI0QccjYGBA1VkLmtNic1Bat1f2s5//TjcpLHA67GzQAFzXM/8TzQZjVqluRfwnxcRaKnQEdvlgw/4RskirypzIKlucJD8yOiKTOydzbxftPhKPvvQTM5QAQLrFSaEBA4WU5cGpYRX5kwSGi9ME6Uhgo4SHul93PnVYV6GnL1basUSzuwxPKsZqngZoa0xIXTnWuU24mye+YA96fyL1c9YqzimAAAABVQZ6GRRUsL/8AbqIn3vazZT64yIcYT5kQ/eF8oB60lvJOLjy5A+Usr5QAwdFUDyg4HlmHEyfi8u5VXHOEdbs3vNqAGg0TjqV0TFwRx2H9wYEH8AAqYAAAAD4BnqV0Qr8AlrmxrTXs+qq/1p2uKIBciVwT09tt/F5kpf5ln/l0Ma6zErAwAonma3Vw5hAuIPxUFxvouAAR8QAAAEgBnqdqQr8Aluu5e1GkJeRLNIgqxYRSe13SiTzWNDmhbUG0jaMwV+ziIXzmdRSwGo2Wbj+bBoc2AGdauZYgDeOmVgjEgN2YDAgAAAC/QZqsSahBbJlMCF///oywAs3MuY0vpcOtrSbQRFKwLH6lATVkm8IwdCLBfIB+yTVmM7nyZx3ugOn3QoNuHWY/mHy2ZJ9Jazzw2qwgAaRRVLlDKk5I5MA6Eag2QRjWeXwdbUjOwPhBXOq8oII5n0LE4ZAoZPe1XYt/tRJqIRf59OjDMsDmJ7HMl4qfuGFasOFCR3AWTqKV9duhmQqOVtQUpuWBRbURG8knWWN11RXZ+OYDheMrb0wTKuvToWe1oiEAAABUQZ7KRRUsL/8AbqIkj9eePz9Oe2pjad5Ti6dSXVT6iGyA5xuG/K6nJ58J8jO7T+Yf9QCnDOPDgrSXI5VnKRrvME51o8B7ltR5B4shsy32JFoKwAD/AAAARAGe6XRCvwCWubGtLLhsU2sazvlOiQ787y8CVVC0cqaDFa0xrWkh0hjW/OS1gbDVXM/RJDKF7l+wB+7K8RKCOaOkAAm4AAAARQGe62pCvwCW6/Oel5MyKm32axDyEUfT1DL7zLgzuwtJOwfQoxIJIC+81gA6ERqGhrHjSzoRJO9B6I/mXsQGwaFQ3OgBswAAAO9BmvBJqEFsmUwIX//+jLABW6jOe572rQJXrIEHyUJ2WEpTPtWNgpRWzwdzMH7YtOE6OzaWLsya/J9X9I63fBLyxMSvO1lyDJ4nCRJ9eK8jnHi1ka2Gh6PKyFgM6y/+gNtZp11qb88uzsCpafvLtiGuAblZe3M8j2arPYTA7ztdGrCjl4NtG4T0CC2PRa1KUnMpR6Cx2KKJp11op5/vyb48y1mbPc5EZdA4GkA1dEybKYoGzVVdf+Zhq/QtverHWyqg30/fxfydk6fUI1DQ2Nfwiyf5/IPAUZCWqMLocCQkYnRf3ZLXk0Chhq6j84d5YAAAAFVBnw5FFSwv/wBuojC5Ie83YuySFbiPGlVm9hvJTPC1V+jibjMamn5a6rll4TogNTsgWiFYCh/i9356nEE0lK0Ya4NjHj6COP3UBnYfIVXe0Z/QAELBAAAAQQGfLXRCvwCWuiGg+T6Btv4NCQ9IpYbN2hoaxcm5kTbrt6VU3AvrRdEVTEjrw3p0bofbk5NpnWx5z4POFIkAAD7hAAAAMQGfL2pCvwCW7AOKAkxOcTS7dKahXibAFOXmxHRRM3DLKfVQKyOsghv/dblSlVgwBswAAADWQZs0SahBbJlMCF///oywAVunGoJgL5GK4OY5XZnbgiUCZGOXcueGbL8yNpN4vNmvgRTITCrN1BBbQBWU4Pa36nrCRvk8skZ+YoP3wudcb3G3QuO/c1Jrrmtgch55Q9wCpLS1iJRXbRHct0QF6dRGyChtmia66arS3BV7VkyfKeq+WD++yWxfbF9ZjcbcySDHZYI97ORHoV0w37jgYPii5mr8ujsE/6T7n2qujHhEemIoFc+//wRVq6PDpxY5YpuFotlq94Eg0zfG28Wp3NjzdX/jCXekVgAAAD5Bn1JFFSwv/wBuojC6qQHc3Z9wOjv6u+Y5Bp18L4sdRzEURDoa/RwAE4lBftHHLkVE0g/Vak3K0Tr0IwADAwAAADcBn3F0Qr8AlrohmxuBl9QRo+Y8bkCrkSomEKmbJL+rKSDVwalXxmRC+LDVTXB/vOI5fQyngArYAAAANQGfc2pCvwCW6/166/iJADWr6w67tBmfIrMayVUaPkSF1A79pYfiLwb6H0w0CVda6A7gADPhAAAAjUGbeEmoQWyZTAhf//6MsAFc3YhZIt/5AsvrlvIcw9qP+d7MYBQUU+MGgBBOJFSQFCLGgB2iQYRW1Vo/+KKVwe0c8cq/qtwXnfIJfGwn4Lt2JP2qach/voq8I4NKMaikCThoNOej20ETds4UA1UU9bf525oBHUgLFZsAMf8N7pAaC0doYfcQV+o9ikYRwAAAAENBn5ZFFSwv/wBuojC6dgFkfQtktR/HMfDlRHAlYbDJMuhKI8QT8FSxRj/5F4ntuL4GdLsVcNew5Xd0zKWWQPV0ADuhAAAAJQGftXRCvwCWuiCh/8TdoHRJu8vKW1Z3foDHo0yneDZ8esyADekAAAA1AZ+3akK/AJbsAx0nBMLHgfHZYVp1L7ZSJcgD+2J/dU9SbHyItdbNziEqrrRy4G5CxeAAASMAAADPQZu8SahBbJlMCF///oywAVuoTGkRCcLYY9HjGI69B++Y8kOuGAKMV2guwfLd2D3olwgS3n4uGfHPET/xyXQ5SATAvSdrj1OxndwXXhIzzs2q4soNVv7K+jNdM+P5w0xX9Sf8rK24146m4+Wg5VrsnFXQL99Ur+Uty6EIfOA4GihfWmMJaEHSFjvNI2zTqUjbu5JbP22vwvQUucvTzjvGRoOLYeZeyZL+pqk8bF9qBuptHfXvmTJG+RigvdUMJSyJDYlUD0V9DIvpAftGSySxAAAAVEGf2kUVLC//AG6iMLvKS0wXyEDUJk58igRtmYp18yS/veTTAhodP9FQWDDkmpIaPMFMVJRfiLmHjeZ7AA30cjnilq+f5GPy5LsVEzKjKsKAAABlQAAAAD4Bn/l0Qr8Alrohh3clnu6U+kv8vhG0KC78j7wejlF7Y5TePEHO1pl0ih5gb8WAjhfBQFLgss8qrvlx34ABWwAAADUBn/tqQr8AluwDl2/VRmIstEPzl3Y8lu/z9//hU5/AP7IW/BYsELq5XclDgjd7UJU+hAABHwAAALBBm+BJqEFsmUwIX//+jLABXeZfp4pp4RtMv1lx45vgAO4L/J0B9HO5PK7/GQz3xEFouKG4Y4RUfapI2o4h/SCtNYzFPnJVtUszNJyl0Apeyk4JVvb3aooJ9quTP+KZhz2p+Nekm9oC/Hs9IyIiKtON9eWhxitAts/3XvmzpU99FiDGNr2AlpP7SNv/D2Tam05s+tqOy3IcikVfQ9H5znBUlThdyFZv3nKMo1vTLQX54wAAAF5Bnh5FFSwv/wBuojC5/7fq9fJElvETieta9VXWU5zKIGQ8enu1BAESUaJdUsZT88pxVfBtOBtDLFu4b21kyH4VvnPB1PPU78p8w+G0VM9ZG/tt6cR6x+cvjonZbAFJAAAAQwGePXRCvwCWuiGHF0A3Qv1r/Ub31l9VXw+u0WGxbPewWowYUy7Q2XPa2mNMPHm0rfdvGAbHfJCBHtoMqGsi5osAD/EAAAA+AZ4/akK/AJbr85ySOOsQQTz3UV4qj7aVqAz9zyeO5YwPX7kQ1mp7n8bgxtMk2AZYuaxo2Afn6oaBp2dQFJEAAAETQZokSahBbJlMCF///oywAVKpm3LgioBlGK0Li46tZl/xKCfzW7S/7T8ZlYzV9X5f1eORli7gim5yI/4B2S/Vv7eLaDCp5Gw2u1DdW0RWozEIWM5GPNz1mIFvT1tZ42lEgRoW6008JNc6s1eyj6tUqsrhOKMDklUhKYGuTb4yrP02gZzNEsYJnN2SwMsCeyTNyliwopvo/SqHNluwXlfmaFgA1JRujL7Skz1NVYVmq3hOYOWnlkn4tT0kipe7RLEzJ2Q/4Jl21G9fvrtvAIeUS2rZzCaU+tPPGTSuexuJBswD7nhAV+dylW0t/zLFeT2AIHKJENtkvbCkY+AXFqvqOQy0cSSFMlsSP+m+edkeb5SnTIEAAABTQZ5CRRUsL/8AbqIpDvapZXUbZr1kLrP8bzWo2qgQWkxFZJeffu7FHIkIaSszcGj426tgTQBZk50b51+LT5GG5GWRftSDC6m5hqQcCqTG0iwA6oAAAAA/AZ5hdEK/AJa6EtpoXqUX/fM4kL+e8nBqAZiZrQpBAYW99zXXJofrvkCSTnkliNK8aVbj6gBj/TSj7L+HQCtgAAAAPwGeY2pCvwCW67l6BR5+rcDYaHYiJ82IDNPiLm4n6N9eJUjo9RA0ly0iyVwuTx/pcWSOd0JyKG/QV6ZpBoBUwQAAANFBmmhJqEFsmUwIX//+jLABVOZcqfWH9P7D6ZKA59HqfWNQ9wvWqJ2/CR38Z5sfW+WUxyT3MPnzVIreyEcqNOWcMEPoN7kqx4imTan5rOt77nbyZV2/NDz/Rn6uiEJhNEc8V6jsnhkrK4elZ/cg4nar8asFeb/C2z21/gF7c6jX2iQWMpCA0VjMIA/cgv0IgYiQrewTXVW3WlzE9MoWMrK9ijwH/yx2QJBHjMOErG04A0PSJQpef0kNzYNf+jtjSqUEDYeRiDTO9SgFW8GsVT5W+gAAAFRBnoZFFSwv/wBuoife/WTAPnxqvlmNbYbwsLKj86zoslSTd1qF0z7y3evLG1a+bU43XJbIK27RTjOHzWH5RsqbpZeRtyuRcqTFb8udljN2tJMAUkAAAABBAZ6ldEK/AJa432x5ELs2UwFsFfqJwn2prHli2yBfMY14WnWUp1adI9sLwKHipUCvw/5JAu/cRM8N1nabU++4AqsAAABIAZ6nakK/AJbrc67jQibi9OYweSGtA64dQKc1MUzeWPHCBYj6mZpE9GnOAiYSIk/Nm/8DrpjJ8K0Vhh5V0ODkVAeL3jsVAAnYAAAAm0GarEmoQWyZTAhf//6MsAFJptQa2yfIjqdVWLAAL98UO9a1Q/Ev5zoN07tYF4ZjFyEyAQflq5e5pnIBeScmrgR26cP2+XlXwxzGCawgIJmoUbl0QA0aotIacG/J0bULsxXqW7/v+uJ+dh19imOEVhDgwwAMgXWf76SaPBpCDQxnMGBValP8xb7pRkLKKZYFvIAMmn7XseEq1IWxAAAAR0GeykUVLC//AG6iMJyGTdpyGIFUiPLh4KEq8m4vV6DDQHdWq9ZyHC608qRi6HE7eX2+HentdhDZBAz23CvKlwvYh21+aAMLAAAAOgGe6XRCvwCWuiCgu7CMSaIAZBT7cW1R2K23I+JNXxYgMaI6iFeAqIw+JwnZ8uTUWPMNfDNLuNrQCDgAAAA0AZ7rakK/AJbr/TlbKV5pk3Ft7GD5Yz8cI8f0VGa7qkMKtkSEE6LWWUSlCPCzi8owlgCPgQAAAJhBmvBJqEFsmUwIX//+jLABSgsyk/6gbhLp34K/gSDD39+F7FnR0j2vZdQ5PDVGocOGLy19DVyh//AbBdEaF97ggkmGmE5QWiAoTeYh7Y3AyX9vYc0AtXjRuEj5WJRrvyNixnegoBZeCnAfm6na/m7IBYlorblkOcZK5mVUWBP2n0NKtgOpCzmiQkYq65lRGpAyB5kGAv0HgAAAAEVBnw5FFSwv/wBuojCclNHI8MfnTdpOI+byaS8TMBsYjoJPrLSRFxx1p5dnqQTr2uakUP9QKsFicrqK2mRT/6STDkQAasEAAAArAZ8tdEK/AJa6GJCvqlG80j7A/SeNilCP8ohHuSzM8+zK3iDPDjWuYABIwQAAADkBny9qQr8AluwCob3IonE5KH9OWJbTqxxj126rv0DzkWgOIUHZMHxPOsuXDxWXzEG6/MmOn5YAC7gAAADcQZs0SahBbJlMCF///oywAVKoahvm6IkC70B0arOj/o246FGc8cV+5lz1UHAMKR2scx4P5vjgVBDz873blmGU8XjCZWYgOv6e6Sw1n4Q9cqhLxC8pjAPKUqk+Xy+n3vQ1FlmsuE00e8+cgQtiCN4MHCkHlXL7lkUi5MCRSU1VVnnmt3E6YA7CYB8EYbynosFKpHABIVpKB8v3FBTfAdG0v59MD4EgUiogg2/oQSNLwxvrQhWUA6sEtU2xJEX/4Bw4JBUq9fXNf6rrPANeqgxKZY7V5dIF4XV3l51wsAAAAFFBn1JFFSwv/wBuogoTcYVI7AJvydYOgU9yh7fVJHanl8/L4kYmu8ifK7POz0mxw9soEqNhF3gZERdYxfS2xaeeeviG2K9nvYwlwjyFx6WAU0EAAABCAZ9xdEK/AJa5sbXImuHR1IwNCoBJcb60I7f0gwII7yKNcl7M9h764yOrS7mqciZxuQqZXZpP3n37uhNzfx4FeAu4AAAARQGfc2pCvwCW67l7e0ePsseb1JBSEPq524F3BlGj3i/Bn+fMFgRkihuzlxhpQco6YojpiNC3VoVzdF62DaOlDgdaHUA2YQAAANNBm3hJqEFsmUwIX//+jLABUvP+Jg9VjM4tmSQQCoWug9vpUVdlhJtWb+FWfFwcgHVXbmcI93MFyQteIMyq6pBZJe7hiAcKAJITWS0/3szsva4AIBE6x9URUKIwhBZ2PscWGAQJrvAZMnV5jaFk7/dUHbActP3YN89YgXomIMaQWlo7CG9OlYbdfkB/Xiofnrbq0eV35q/SSQQ5ZnQ71aVLbgbRdMZjmfMdmVKQj1u73VwTlnWM3z002gPz2WMuhzLPGtgPraOdv8ImOVVTm6h0k7x4AAAAXkGflkUVLC//AG6iJ972s2WrekqfJ8OKbtliKQjDyJuQ3zGkHcK46DtFff0hoSWHzT/0fmeRlD7EPHEjBXtiroSkccaSZ0UMj45ZyQl8IRJriyNh0mnj7O25xc4AZUEAAABEAZ+1dEK/AJa5sa0wwbOI6chgW5yeSyUWfH7RD95MlpQpRjp7jhbhYk8Dd/U1lQpLtStTVHj29Oz8Ly+XjPgV0AJaBQ0AAABBAZ+3akK/AJbruXoJyhPO0uMsIoepU8+mg+0xIfAUHgTrfgWp9bR0D/fyalsj8zpLPnw7okqiALMB2RDd54qgA7sAAADvQZu8SahBbJlMCF///oywAVKpWOKT7DoDDFkvVAjJxsurUd9qZcr8rh8h5P9jkpLL142RBpGJpokqY3l0PN8w5KldSpqmSGqMFRblRLNOa3OaWkJ0dUmKCPA+l1CDFxtZbDmwi73p+YSqS+f2KmtIkQq0ZgDwf3VXNMiMcmM5+vD7piBcHXpwkHWtHgNiOQKuXzNO2veHtEKp0QlnttNlUCc7ZuckC0O1RvKQvyI9GrcAk0F5TsKykn9alb7DkmiRY2Zz1L2bTue8/p35WAQRaJLxzhVFvucFO9dAH0RwaYtPaRBj0ddBkhtboP146SEAAABTQZ/aRRUsL/8AbqIn33q2iylCT5lu5dOUSRTJhnqBoSSxMsnQjVSOij1/PQQa0xZMgdXo/i58YkwVBJImin9SodRBbdBVjK71LnJR88CVQo+AAYEAAABHAZ/5dEK/AJa5sa0suGxTaxrO+U7mQaryJEzNO0GVnzHszPRCif2mM++jqRbNLD1heQkNCqf27QdZXf5wxAGprslcAC1kDAgAAABCAZ/7akK/AJbruXoJyhPO2ounBfCCiE4IQX4U1TgKNveikmnPB6c6X5A0l/kj+gkHHP/e8ABVQdQREQZ+J9SMAA1JAAAA6EGb4EmoQWyZTAhf//6MsAFdOnGefzgTw3ppbuF9KVSgTcwJVKCRmWckg3QEOb9f/Uv6aiFvFcRFOFGpqfNgbQwQ17mLlIqmUp2FfOyuzG+14KpciOHTjTxfh1pV/vHMbOLqHUctJogytkkX0mMz8mLxKwH1c8AotzsN6nWRJ/kkSmZzCzNTTrmL0VIK+vTHxYHUoY9i+ZZtX56RUxM5Ca7YVMX81QPZu1m4qHAaaik8BqoJezW1cRO74sqyk6MpeRJPqX7QhSUw/h3cnTK0uctpPWh180Uq/+vERdLWkJkEGVNLghkExeAAAABBQZ4eRRUsL/8AbqIn33qWWj4Rmeu2DQSH1L0Vjtp+lki/QVy3227GAx3fyBX3Q510bywGh1FWcDWNbsOfSOAA6YAAAABFAZ49dEK/AJa5sbrZjycgAS4rKKk7Wiy+sJShUVMTz7twhAj1/rGMNEr2I2W8Mvhl1A6DsIciVs44EKzyUl7bM2p4wAErAAAARwGeP2pCvwCW67mD8Bv54gyTymnfJPPqkUwNEIuNe2dbmgADhN51UFmeegtapEyPEjOS+IJhNttWQaMf5hQdCJB+8p9XADZhAAAAgkGaJEmoQWyZTAhf//6MsAFclQwLBfAaD9JYIucKv28yn4WiuYVFxJBhRqlYjxzPoWOR8lDFrp5S8Q1Y9I3ue7whmUTkHq1UccZ8LUYv4FZOaI5No/AvPwM8ibcPjmojhqksRoCHACUKuNKz29AnAOmB9dIfS0vw3lCr1VfJrMQELEEAAABFQZ5CRRUsL/8AbqIn33qaVLgs9Lftq8IFmGSPtK/PyetIe1fAFYXQ0N+OD30Cge3IPOKNADYDykYUJcpI3JRPn87gYAGjAAAAPgGeYXRCvwCWubG62h/P7MQVeVa6i4Y+hcdQfeQQ20RyAYjVB7ek7C3BBSFyOcV402MM24rAwF8OTJxcADAgAAAALAGeY2pCvwCW67mD9KmFwnZYgUlhjp6clfxqVseMGswxILKlc92sMdUAABsxAAAAm0GaaEmoQWyZTAhf//6MsAFciJczICfXDrqylWk9g66aSakIpfkm70UxrrfLKvZ5J/IHr7UylR3zG0A1XDj6dwwbj0CJiHA78My6slyCanvqsEMVYMdNfLyJ3svm6+27p9gjjtV+7rTa6FBSdQbNRvS34CVTJoO6//cHZM7k59k0pSBtHIAOLVM2YtoeX8UHCQmTrGX5tn6dnHiAAAAASUGehkUVLC//AG6iJ996khexze/xl3f+qrAU/CyAtCiIMghiGxuyLVmdLU4GR4pzw1Hq9mTmhLO+mSl48DIxkpYdq5MPjcwABxwAAAAzAZ6ldEK/AJa5sbSujCBJIMegiBYn2eAz1nMn2FT/O+ktXwObMrLZLLLIZfKTMVTbAAR9AAAAPQGep2pCvwCW67mD8C+UDUYMs6BLGPx0gEgwZCoWeCoOfHDMausHYNxvICGfgqjolPO1aGMwXpI92W4AAwIAAACvQZqsSahBbJlMCF///oywAVuoenmzQ1oB3s6Iv8aukPlIiV/mkiDDJyNcGrwTjK0qq5zvYLKFrlwJiyIuAVzmoB2UizKdvAkgtkzDTo1lMLWVNGsXfbbhGjVlVmOP+dNTHT0rIjq2f6tfrHv3nF/6TejdPYMcKehCRJRQAdXEtbsRtH+hBF4yuFcHoOjEPbtc8cYl4R83907bj8I0DiOB2Z59OIPF4i1kSOVoeyFjqQAAAEtBnspFFSwv/wBuoiffeiKOhc52Crfd4INjac4/bdcEHJ3PDKOsOWexVoDgvwbZ54B5gEdn6tQpsT3kE2LGZRU7ZAgZrN8DaHAAg4EAAAA9AZ7pdEK/AJa5sbraRQpQZj5dQYVjlwgbw3RMROEZnrX+x3yd6lF8KL3OhXWyD/9wQDvk/EGlFL8C6YABvQAAAEgBnutqQr8Aluu5g+ezgvOEp0zpfKEgi4G8G8Wvnpo6EqDiAXzta7tJGX2aP/nm2qR+Y1uaMfeHmHSNLTswWyDFzUweD8AAxYEAAADKQZrwSahBbJlMCF///oywAV3mX6hOFe3IHSwAqx7+AaJJvNYUxGXHZAHfneWVk430SflizXVvRdWVOVRehmLbYG5fHhgaYNrbAdiDQYpOFfOo/I19jr+ploH5N5h/YIJLlQABSbmtqhgXHYAV9QsMlgB62dja5xG5N7VhG5JyTvNIL852H7aw9r33jtp+BaANVgfwYS8cZyg/ChY8ripKHNXNbfX9YSGowzxO2bT1nkx3kyrtQU84SmHIn+bjhWT4wsVd7l1ed2JtbAAAAFtBnw5FFSwv/wBuoiffemkEVTulz1PYWvhAFRLh2yqE8sSmZggL7fCU5qHaIMUtTKNrSVO/uTFB/dUYwOL23aw+NnBqrF8GRDkaf5VTxj3wQbEnPyAGcH7FIG9BAAAAPgGfLXRCvwCWubG6x2T9qYsVV7tJyrzHedQMpuqpapp3pr6/qXDErN2VZyg0djQBZmUQho3LFL/8gbqfQAGLAAAAPAGfL2pCvwCW67l6BR58h1Aol/ky6btfIRp5GozK6vbEADlZ8kA2H/EfNEhqDsGw8rZHYrWfK6K/+owFJAAAAOxBmzRJqEFsmUwIX//+jLABUqlrcuD0gGi1AlzOxodQLBvaeIlzrulKS+L/0m3/QggVkO/DwB2MqcryDfQ8gnBtnE/kNZo8K2+REDYYnnM1yEJ9XMwCgdW00bH+xeOkWB9C+GQQW6QO+me3a6UyXVuhqkiVv6ZUeFVs0L70ZvoHgARyrv6p1+VqswjUYI9H10xpqd0y2ieoD7Mun138Z92Ax/gL4Ky5BDOsLtXcKGO5MzxOlJGtvZP32e2DPHtWaPQg84e0DtMq3tiYwi8Xa8UGMKzCpq2glpMke+reLxrYZfc2vSZoxmbAafhggAAAAFpBn1JFFSwv/wBuoife5R9BNqUh67o5/qxvJAOi+D1vRS5uZUlLLgRxU34q1KRNRzsl13gGMAZMkJiwG5DdR59B4PxLfzUCCeI2Ofhx3qALjaALP7F3Z6MwBSUAAABGAZ9xdEK/AJa5saobKFzq7vJ6MWXA7npH6OongbShT4yx1niNu3hPXRV4RI/JKnfnZvqoISDg5PFZTl9RJXI6ZQcdeWBVQAAAAEYBn3NqQr8Aluu5eggJymdWoqxWs/jheGvhLRKMHaFIfH5vgpEWMZDsZb1dfoXU/8URenVPwzStFhzcb38gi0l/v0iI4AdNAAAA3EGbeEmoQWyZTAhf//6MsAFU5lepl6NpkV6Au1FjnHgO0qTC6abl5MAgcMwXR/RO9gQD2zItHUPR7HWcmeK7DaphR1gNDxskdSfVn6grTeq+AKsOwdOiyekUOXt4uy2MM7WQ26/0/+LQQeOzTCRi2C8jV/3QnyJhZ6Dzxlfe0m1GEl3BqMLWKEe1T9Pp4P8dNY6nx8d1DxkNLTbZ+iCq2eI+Cw94RCS+T5p/+Ukev4YFYC1P6UlyiD/6ThPP7x7JwK3FqFvw3hQ2ApUDj6DmKZveVyJ6Cr+6Gw+T0egAAABOQZ+WRRUsL/8AbqIn3RXiTyaqpdoKSdJftCC1tGS8jGh18QONKMBRsVgl58JJsIczOH8+ARQ9ZB7+PM2wEgDshV2H5Gotlo+CaQsxVAFBAAAASgGftXRCvwCWubGtOJznG7dyvcJDp5sHBO+cXK8v70MWv8pQeMzRz6cqS0o24YJ+ouivclLA2HhiNeT8zvrGzlQTme6JjlhH4BUxAAAAQgGft2pCvwCW67lR0bcx7nx7K099NJORAVD5iOfsTkGxrfGHDM0S8+U9Ho83MKQg3aQ/SshqcJIkkpPkP0hLMYAPmQAAALNBm7xJqEFsmUwIX//+jLABSauFBPLJo+PNvvd5P1uqzZ0BuNwCmN+gFeDd8yJQyVLPWW52ngiB3rXp6E8MkeXCRiqmlHxPSyU366gLc0Zzoiw53s4AgMnBxHcTDx/CFf3kFcVmt5Q6hpyIvvuCuVsIckZFwukh0Gg/ZrF5neeXvApsYHPeNmDZ33vwxJ5DfWAiu2yBa9YKgq8Ld/PKkeUI97LHv9CF/0IWmM4aiJoGoew3KQAAAEJBn9pFFSwv/wBuoifcopYt3IBuv2vtI3EepAQgzOuEv9bbWGlleFaBtiesjkt1SrSJKAwEW+S9G2cg572hKBQAl4AAAAA/AZ/5dEK/AJa5sUJGEYCElQuCULdN5+ENd9WwGZCQy0Knb3pTgERRIZcFmXfWYpRPVIQM73BZuNlFFh9mwBWwAAAAIwGf+2pCvwCW67lR0/Vq0TPYF+IqJOpStmRxDaieOrTqABDxAAAAtUGb4EmoQWyZTAhf//6MsAFK3DGMMk6w+diOb3JLx9I1QgPB3jlPUpRy5fiJ9Rt54oU07fygoMCcwFxolSGOltR/H91EyiB0m88AKfcAFHJ40ijZl8saJqag7tacmRCH4FJR/cMTMnoL5rve39V/v5mDXuTiW0iTkB59DY430Yq2rQOvrvBCGJuRbYdzhEFQfQnaqj3fvwIQJsjkUXKYW4h7STAgaZE4Y/i2uuAxcEm9NuYCKgYAAABRQZ4eRRUsL/8AbqIn3KKVYfKUNoS8KsAPQIvCsHbveDw7929Loi0Fxo23gWKQIA5ZENZQxnoA02oAsmAgJMyKygE9EcAwyKqd4XqvLwYBAGBAAAAAPgGePXRCvwCWubFCSjql0JOPAS1Hb3uuCCrCk+zU53tU7cgLnXtZxUBb3Pi8AMCGVQSX7wSV0SghChq8ACXhAAAAQwGeP2pCvwCW67lR0bq55OUhqY2KtN3zx7JDK/Gvn4tgSoRVTS0u6oAsO95M2AaqTEy925AMzRFDx/KypF73HsQA8IEAAADaQZokSahBbJlMCF///oywAVQ6cZfAZro7cgA6Di3rEbbrdrI0CXwoZ71sHGN0j1EOnl6E9kmc6Ghwl+GtCbUJxxAKf4G/IYa92FdOYkaXe5OlL43rbjrtgk4myzdSPwCUxy0xuS1mVP+f/TabgefBTDDlSvYFenhLDGlWt9ttl4q6z9tud4JkCuLqVaGae1QAUauQU8yitRpIfVRL4SsBnR3ZyjzBhpQT9/QdMUYpp6LXxo4L3ISlNZhkeLDLMDPgurP2uhaGm4a5Pu6lUhWX0pzgJcErs67s84EAAABSQZ5CRRUsL/8AbqIn3KJr5ux2WqdbUb2IJrM6LNUd9DuR+HV78f2UWP5XcQmZ1SgXOY832SwRDMKPvR389nkA+KTgB7rycm65FSdEbsxXXcDjgAAAAEkBnmF0Qr8AlrmxQkRObt6ac59RWEuP+zkENKZ9vCawtuXYFeWj+/bXkc3xUeZHNJ+23aBpQmS+uYCY2bjR8gVnG+OLPWhm4A7oAAAARgGeY2pCvwCW67lRy5pxerFk2gngye+1y5BnvGmEnJKKL0iIUth23CoWxM/Fp+Y2WutzISyL6UT+mjuWq6zGKc05tjoAm4EAAADlQZpoSahBbJlMCF///oywAVQrbe3eYZW9zyBksH29KLbwhzFovbYeCONCEEME3Ky7gbl0Q+TkxqSqynhtAfskhUYCjmFhDH63OVkHRnO5QIsoZ4yhQrpIuwaAu+1ibf2aUYmFCjpIDHaZqtxpLS3Q3uTb9D3TroPGfQovlU+SZcbHwXIw6UurZ206LIcn0QMEfX7cPlGTP8GarLNNMsm5wFdxHSBbpQHlrTdTLAD9ogg0sLYY0agFygyC6Tb/4sGEOK/pV/DkGzu243mKMRsJtmQM+jkV9OcDgeYXGhp1Aq1Oc2K7zgAAAFRBnoZFFSwv/wBuoifcomZYnbFA/w61Stbb535hYHAGitiCgcQuFsQV/wDVGJJ7GqO7oORKJttoDRxNhUCIKokAzvbmnld3CqihUsWFAdhWdPuQFBAAAABGAZ6ldEK/AJa5sUI4jEx9NOGWVxM9ykEwjhvgxciOguvjls7Upz2tI1/SxJKJKRBylWHvbgabPNx0y2XmKmMDto+NaGAOOQAAAEYBnqdqQr8Aluu5UcuYWO1Q+6CRTGjPdHR7LKTLzQgp6ZWSSYNEaenvQ0Y4bMA0b+zL3l6wM+bMv1ZOnGL4MjNLeQgAABvQAAAA90GarEmoQWyZTAhf//6MsAFbqTBqqOCRxGSB9D6CkegVrv7J6g1mOQ/frZSRPxEPGxT4Xy63z8FOZIKcy8QeWwmjnWmB5gm6qAzQ335dXPEfvKjhBjztuX3O045H3YSbN6uSndTbFdzO8RFJmAxuaqz7AfelaCSIdejlhwDkz7ELPk+oqJdOM3xGVNm9t++GQtmtZCBtcHTByicRtvnBxHkpeyPzb1oRzRUNZ8Jz00/0tIttrbK5IJ0hLHPwYEAUPrZREHW9IebtPs0YHDhC0VUOQfLtzA6XzTkla11dyDYRsQ+pQzF4cHmfxg3rG4hdbxzRv+6ohvkAAABcQZ7KRRUsL/8AbqIn3KKqpv6V/tATlqQeoWWjsx5OzL5KCRBMrSrMjw5KPYP43OB29fmanudfes84QOoQnArjD/fpajJCem7wDoZxcMNzqXnefJh7YXh+jb0AARcAAABNAZ7pdEK/AJa5sUI4hk4CQxVUT3rSonQ7JeVB/mIiIqKM0+964caoi24TGt1Jl7LzqGeoM8HdIslDcE9KyBueS8mMwb8Vlb/E/dGQA8IAAAA+AZ7rakK/AJbruVHVId+IkkqQ5nzocPua8QnBE2kWtqSxVx6nuvMQwJTn9H9LkcEe8sM+VffPwcfI9YAA6YEAAADDQZrwSahBbJlMCF///oywAVtsjDlLL1vAonogoEdfZuvHhEfSIT5SPJBrxR2ByI7NV7Owg/bb6jg0TjJtCiBQO40Ivzg8gnjJjfHCe2/ZBhIlnht1wOS+3VP1vNQV4O1B1bDzVhmkVNZM/lyF/AIh3JOZRcYQMI9k0TGCUjRNoK0aGQaSalhliBIEe1SzKWbl+6cdOCZty+RaT0CPFkU4ZSORZPrGLRi0DALxD6DpbLtMmle1c06xSzDj3L2Err6utAtwAAAAVUGfDkUVLC//AG6iJ9yiqr3pKQgzKbPeMFqWE4fiUs826etSaa5mWH8tfbKwcn2NQzPuxtTnh0SMa/LQCpq13v9ee5NvuB8VXACYER1GRYjsLNsAOqEAAABCAZ8tdEK/AJa5sUJM1XRdQ4B5hJMM0RF/5VvTzOiQHEK1BRmi1UsfQYXbUFqajJ7y5VYhDdKVt1mtTMFcml3RmAJPAAAANgGfL2pCvwCW67lR1R4AUQAm3bswsWVJkn44+7dmEqH/CkXCazcljsg7CBJL6NRi33E5xgBAwAAAAJpBmzRJqEFsmUwIX//+jLABW60GEqe0GGoHioKyMGRYonilL9VnReIlOD8xBMQqumqXDrdTelzho5e9QoQvoxXTJDBS0HGWb7dMep5/yor7PytsLedtSwkbJp6sgRXBQ0jfZvgdtTBRYcBgzUsm6xXm1oGiQcf7FOhCHln5ORVXBF2g+Lv3F10x9pteZWBYK5THQik1nLFIrexQAAAAP0GfUkUVLC//AG6iJ9yiqoZA+/y0OtcLma2ixCkKK2spGeZaHhpQI+QUq5sv30liIH8viLbXDuJEeAZn28ABWwAAADwBn3F0Qr8AlrmxQky+WnVRMoc6WebmOOY9e5lLQ3AIuzByNCdxvFkrUq7eSOal2oWTOPBmQCykXXgAtoAAAAAwAZ9zakK/AJbruVHRLQg6855LSLjcmQGGhzeVMSynBp5Z7mMbvhY9hF59zozAAAf5AAAArkGbeEmoQWyZTAhf//6MsAFbpWqLqAqG7gPCLT1Oj6hK7M7YJyQRnaz2E9WVEKoW/5Zk3TWwD/hGuv/8UG3vXZ9zPv2bJyQTVI98QJgXNIr/riY33mm03iYn+/s7FqfafaztBc/tp+hIvl6weW/wgbhlBU0p6hhzP9/PE2C8LJy1vp6UZvCBpDk/0803/ZeJpFsl83X4ZkmJ6LQo3dh1FvwwZBKo5j/o9HTr5UDkQAAAAFZBn5ZFFSwv/wBuoifcoqrguWhHH6AeB/WJROThPCLdZ/4W26CJg16r+3oLhSMQOaiGvShvhPymRi/OueqZBuKWkMHljp37IbvWuZO2+LV4xonohYATcQAAAD4Bn7V0Qr8AlrmxQkwQCkO/X6Zg9gdYvu2LzDFbkEO9aNq1wMLQLkyxIF+qpIPOG8IsO1SxFdlZc423nIAYEQAAAEwBn7dqQr8Aluu5UdUd5FEAJsXXzoRAuPpBAxxMSQv10ZPOtfY7OqgCGgjGcopB+L/HNtH6kNXTPEAwZRn0wOAsmX2L2e7mKsKgAAUlAAAA2EGbvEmoQWyZTAhf//6MsAFd5l+q6YD566QkX6BLnDWT8g+/BQljobzS5+Ms+PgsFW1fJQskj3Y6Xra+rxwFmmJ66svvnOo3emefGqmeShWGwau3rBd4Q3pwSvtZARL0HVblk1QbooHaGWlY9FPm5XJgtnBQlZdz6g4j9lDs8qKVa/LVe5ZDlcbOz6qy2Zy1gwW0p39cVUGlQYjZM36GSZGjjEv3JHvA+/zSJz9cdbIxwdghEDpKIMkNpd0W23qVr6/npWs7ANJ1ykRN/PFASYDVNQE6Pz/k1wAAAFNBn9pFFSwv/wBuoifcoqrW4UHFCVCeKfqUAXtDPlk/EQ5J/XtA+f8cQNJvrusSuzleaBfG4gnShdQldxVYtrdrDwQo0k5sNCd9vJyyyD5GDwAh4AAAAEABn/l0Qr8AlrmxQkzWcWlrOLOnXbn2007wjpr8bMkwvug8K/XWFYrkYv9LWGkaSZViWslwiK8AAtlstTAAAFbAAAAARwGf+2pCvwCW67lR1SZney+0S0nFBPGvArh0Q1cyGQTf0X2pKvYgLLwnt75ovftd4TMUK88MutD27lsyzvcKY/oI5LwBgAb9AAAA6EGb4EmoQWyZTAhf//6MsAFSqX7QEBqXiyZXVJkpwxagoPYfw1fTs/Dk8METsSxYVOepoRSbA0yVGf3XFPA7HzbNzJStl5Yp24yAOVbcKV5p4XcMhAnkJfQMuJuED4/bTutFQBHJj1MdflNYISzzHTWBgW/xgJ5/2gJ94NjxudlGZa52/XYy2G0lVAIw/PgS8OAJT88OvqhlQatTbaZTJF/3EzbcZGSJOGYLxVyYtjwy+XkOakWaWv/LBJ040FOnsC0TvVB74WxygmpSFeh+aoyzIMaEidKCfRNUWlbddI6ERNAjJb4w9jQAAABNQZ4eRRUsL/8AbqIn3KJwW7mfp3ulLnsSVJbLyyu11T/8j/J7RJ+u8UxWFtyM7/z0Yg5kmT+EtA7WWNA0ejje2Qjr6/XbBhH1i04AB3QAAABKAZ49dEK/AJa5sUI4j8x8R9X2zfJNdSeHCSMc3nvkAgdc3/0tcsd0gpOck2KyMQ5SW/6tSs8A6cZoATtoWHGsywyx+4SRzDQAtoEAAAA/AZ4/akK/AJbruVHKOb8klZ6OmQhfS13BRf8lt1BUw+wu6gO8qR2Sffud2QWODR2uqArtv1/AYUuc/YficAFTAAAA7UGaJEmoQWyZTAhf//6MsAFSqU65tl08NRrRwfil3rftpLHcs4ERCTHHCeVpQhEZMqg9HTHrFiKChzfyp74uyGGStuTTTc60quXGp6h2tSfOyg4KC/IImSeVtn0MU1lzeA5iPEfyeGJumxe4zPqTh0GHkJSNgdSyUjwfin4buSlAdFMDmCHTHtfDdG5ktNIBricki7+GcvaG97XYW+4VScO7Ni3BQ5GATmSKwHQTxNJzRLLptK6bdE0dgUyKpwfSsmnxNtdN4Kn5l4yAZOjSXKWS5gifCwtTdTCyst+wxANgTC8io06uQQcuNvYyUQAAAFVBnkJFFSwv/wBuoifcol4jqNG2D8iflbY6k+JhGOsgjSFltLu1z3bwUS4D2lVx92p1/NC0bKoQ2XutNbEhiuxP+gID9GWBergnd7cNtf2PYilKgAHHAAAAQQGeYXRCvwCWubFCOIlapL75/E082weujaKgaV8Ov/+/7DIARZEbx1JLGhIpauyrA7pFtfxu7XMh01t3gLn2cAIOAAAAOAGeY2pCvwCW67lRyj63bUM25m8u/gaIk2DKq6AucSRcc9iMnEmYLJScD0v6AFCZVFM+rkYBwAFTAAAAz0GaaEmoQWyZTAhv//6nhABWuZZ8WkkL3IrxowTeJePoTTy8YJHk1AP3gWd109wtmYO82ETRwlFhz2xt1eJMJoY1CJiQ0OorhzroKtBT2n6lC3Z4dX33hPY5hjeQwbEKOsfNdtF3fQqnHz2GyB4WEOBDMFeDfsxunOeoFAfzw4UXiQ2NJN7VLoNJ9FuKdV8H4rL/tsDpAw1PzMeuYaFw/MgJ8vZKLzL0yRDEpmycwbj2xHyZ3o739BaPtsPA//sUwRYU4tntDzRST737vXhPcAAAAEBBnoZFFSwv/wBuoifcolIJsIcRxZDOEet5O06Kly6aJRa5slnu+Ejl9zFyUxiK90+lQFXhChr6jPjlsK8A+AFlAAAASAGepXRCvwCWubFCL8UHmJEVq8Ju6jBG7WPlUAl9+SjfxMM7BpoJWSCKVgm29EPlR6+cEIWOjloBut9Fxwtj4PQIPDg6eADKgQAAADgBnqdqQr8Aluu5UdINVlk+CCkCzcUxVvq/GsxMvPHz6HFX4Xsf1gapXuNhMnuxPM7IU+zREQAdMAAAAIdBmqxJqEFsmUwIX//+jLABSa5va5ggOHNWOfwigUx/QW9vyKnZ4IdlqGbMg3tGSTBKON8UuKcC4ymg00MSlOD/aBznWH8j6mIbPyQ58kwVj/phzbK7MhikTwM2y7r1zJe35WEu2RPTKlQUICa8JvMh92Wh6SrWVkpUYZz35qT/rePgy98AEvEAAABJQZ7KRRUsL/8AbqIn3KKSDG4JhhkB/McZBnu6QAcRoDElYX+mZXp1dmXoZLF8hE8/GVu5VogXGJm836zwL9Uu/RSrbj4IcsgD7wAAADQBnul0Qr8AlrmxQkYRf43guRQmQkbdA1aV25QdeaZh81jSgSjHaTFrCLmGtr+CUFxAABlwAAAAKQGe62pCvwCW67lR1C8Azof791Wh0CdlFDz6dDA0GCg2tOztdNVwAAXlAAAAoUGa8EmoQWyZTAhf//6MsAFK4vtBgD1rV/ELq3S9lbqPDJq85r5N/YPP76JoIvJcbRer8YWprSqaMbRWlNOcb+fmgKGfawS91xZTEBtYuxFe3LrdCDKje3/zoAVqewziwfu9VqnZI+AAj1ToaoMQUwmi4MjH+LV0AjSJew9S3H4t86l9Ri+a16Rz1CJbXFEDDaIH7U9Nk+5JeB2DhlSCyQz4AAAAUUGfDkUVLC//AG6iJ9yilm1CT6yxNaZ7iVXshJPom2N5IHbLYQAa+RUVU6owrIpGYbctGj+3jY/q/Oe8TApdoAvmUrP/pvBeVDnAWl/gBQB3QQAAAD8Bny10Qr8AlrmxQkYW3bnjB7D4mJEx4DNIfI2dsn1d8UNmfDlHZMkWIQoGON06txT6te+JMkKAbXTHwERwEzEAAABFAZ8vakK/AJbruVHSDNRZQtSGqq2q+wn7k+2Z/UFRDN9tMOZi6WHow6QZxiMqn9h/cWv9YMHYsSMaxjmGJOQCncCgAOmAAAAAxEGbNEmoQWyZTAhf//6MsAFSqNLyVFQYPzyTtlcwE/+FklHdAnRnXhZ3m3/eOWlVHdocYqlofWul3yCbLO7/jmAvd/qPQ3JjcX2iBqUO710GsHD+km0EtSuUxP1zULVtpledgNGBBKIGqVaHWJjNft96m3huWwM2TDV/11O37Iy0Z1/pBQ3KPDfjsj0DUrXWeRXMiczSiq/2rqmFo7WDbJ+qRaDswY+7KYk/Ckg14h3TaltGZVnLnkuag5Ax55Rx37qVZaAAAABMQZ9SRRUsL/8AbqIn3KJePLplCEymkk99SyR/EFAODwKy9NYa0Vjhd3Z4vLFdMkaW3saaWkTjNv2KIdQUxJdNJZqB8TaLR//qSgApIQAAAD8Bn3F0Qr8AlrmxQjYch1DTQxYawjG3aEpGWB7OXaslgfLU7LHlAa6043ITfjfBKft0HsDW0E+ev7OglpOAAXcAAABGAZ9zakK/AJbruVHLmmXJUPwgQrf22l4J5QHDu5Zt8ljNsXVcB5SXUZsdikoHZxmdWgxgdLTueixnEngAIh+ntQoe2AB8wQAAAO9Bm3hJqEFsmUwIX//+jLABUwsOZZtACA8LtWUjyfr2zR77zLk//xn0gxFpciLcHN/0HoG+DMnLlwfwEmbD2fZbaLriPD0sbuG5biF6Gq8Bcjd/WwuYO9WhmcuE/4U7K4spgGhj4p5BFlcZ2tvDVQIpPm8ah3dMmOHrBUzPp9+9I+N7g9Kh0YMMof4WpkbPSct5k2c4wPV8wOQlkZLx2XHVnAa76Ppeqw8V+YUthoDt6d9Ygjf9znNT0sVXdGbWlDXcHQWv12n8j2UbcxH5Gvp9lFe02BI576BfFztH8tL1ZWhWak4zhTZklrQCkvbGQAAAAEdBn5ZFFSwv/wBuoifcol5dqGSUPxeVU+2ZoAk3s6+74c0w5MD7tq6dOUc4BS6K0tDujFdbKK+QOwJ7CWdZT8+GjwEKQqoB3QAAAEIBn7V0Qr8AlrmxQjK93NKF3jhDnGQ4dJ0GRkA4YB/+PguaDst9TNPzrAaP9k/MW/eBmYqWMn5h67vLBN/a9mdgYEEAAAA8AZ+3akK/AJbruVHKQbcsKUaab3xaMk75+V5xRS7oofUP1d3EgbKJIB7PVdy/02ViGilbvpj3HFjrAHdBAAAA50GbvEmoQWyZTAhf//6MsAFbqTHpEQm1KUZo/9X9ds1AEJOz8eXQ5/irQra6kNwTnalFudn0rKjbNKeypTl5k5WGIE89Py49kAZGvqnd2sjKR3PU3Azi+4MjcSSzu+fLpztblLoCOY2ghZh/0+VhfRLyYgdIrrWuP8MrtXc0ioty8PEg0D/su7S41CSUxSADd7ZTdZlEHrgREG4sG4KMyqFK/eG3o5a0Ch6kXuN91wMif09jdomfFRSoh3YJsrnYAqp1PXEX6bNiIIESP9isUQUWhdHsAjEauByJedN3tG9pqC8bLDSGEQAAAFBBn9pFFSwv/wBxVfG08k+5UiIPftqrlwak0G4UqMN3man+dSqeQtUQzao5r8sk3bj1HuITR2RDbaImeVy+DQzGEU59LzCXqiTUQcsR7jkBnwAAAD0Bn/l0Qr8AlrmxQjiGeqPH2STZUSmmSrm/be06mDxSIA2ZA0oW2bMnV7WUqA0IuWWZ/M9VySrZyFq0QAEjAAAAPgGf+2pCvwCW67mD/l5bwB9FVrCu1JzeOpCDZyXPHyR4W7PQ24/jCafp7XZudQsOOHhuz1oD/iFXSr9AABExAAAA4kGb4EmoQWyZTAhf//6MsAFbZlF8BdvAZuk5yPDRrWx5RluhBQ/ClPD2ryFxb/JBI3ZMO31DYtY98zLWE9WuolqvAQooLZTSucwaVmaQawIECZUn66DL+vptwkyGuAfAxdfBkgIDMGY3vJXpNw4779yEwtke86JGHEpTjYylrsq+kw4tRhb7Mybzhb8owosMSiTbokH2XoUcU5TLPDaB1BjzL1rvkplj1wtUy5FysripRi8kP9BGqitePR7T/f2sp6PuCy75cyc58Zkx55gu1OSngMW7Ah4cX9pfK88t7qAC8MAAAABCQZ4eRRUsL/8AbqIn33ozvc0z3DvoOoMcIAoewk7BszhyVAvT3lSJwy8zSzJGlXAKg51Br4GuRfR9VfbCtqvAAKCAAAAAOwGePXRCvwCWubG60EdXReLBTuYPwR2d1DkQtijNWxshKD9RT81MMtReyotCwxCy8rAAOOfrxAfJAATNAAAAOwGeP2pCvwCW67mD93+/DuGwEMKfujIM9CieTQeF8lek0+BFn2qI8zl2/x+oZkj2VvfVZBMRNIpAACbhAAAAiEGaJEmoQWyZTAhf//6MsAFdYAwBO3gM2cXzj4Hdl4jqjvM/P1mSwD3HV2f9k5xxrw0aMaHIIJkZE4+BYPIP8q34hF3t6WuqmnRkcK2i9a81qRyg5vzTV43h57AN9zr6lsChh5a1c1bHm2dBljCmRdxL7tGFk2NvfikFBvoBy5hz5+QxE5+nBYkAAABIQZ5CRRUsL/8AbqIn33pyU1+IomVZq/ZagX1FwsLU8HqyQffqZ8bt2yif7nMXVrbKltvJEF8bimdvm5MomwBeIRCX0/k2wBUwAAAALQGeYXRCvwCWubG60kjhwynGosSxBTDBOD1jhUZUYMKUa2wZ+RmBpLdtVoACVgAAADMBnmNqQr8Aluu5gPdWPweyic7Z1XPbbJxVnT0Ahtt9aBirUnBKGIo9x3C9KQip5voAD/EAAAC7QZpoSahBbJlMCF///oywAVunUYI4xF4gOffcYDNxPvL87UUicppfaHalpGKnomYnWvYxRvuSHDG66HoIlzrsxihTQ0Kl/uHUTpR8rTUz73IwFvYDU59jiycV3Sn+zMPP3KWVZaj3hC1iQgEtils/wVlmsQULxHnPhNzcWZt9S/iZy+v+lhFcjZV92l1P6TSTTNnC5RrKLzDKjibcqcG3yurqCo1tUZ5Nx+A49VjUuH0A1FcTfIYmx4scdwAAAFFBnoZFFSwv/wBuoiffesyImNigMyo0pWxGQZ+SoozjOnXUG7dJjLpVeVwWrND/rGRBWlZqIsbTiqYRST1pnLPGEqq4icQBE5smkPBf2mRAAz4AAAA/AZ6ldEK/AJa5sbrX/5CGX4QIiYTwsWY2lXo4YCxSo+ILnEYYUxgUOUEKRoM1OIhc2XBMqFZWayKy+3GjAAUFAAAAQAGep2pCvwCW67mD96oR7ijEuAgpYwtKe3aEwTQJcf2lXZtdgdETxk7DHF4RKY5JZpQrQW/xrmD16wUzfwoADAgAAAC3QZqsSahBbJlMCF///oywAV3mX6nIgeIZjGQDFJ21Q75WhwY/gaHd1LTeos6JKDtS2vvynSyIUd/DmuAY57DA5GiH04IKwkhPO+QD2zw9BmArPKsCVARLfpM+xo/2KJF0uen80QEVb5im0rxV5cGXQn2FIoYOgBagmwP7ceO4aaZFOLKureHYHh8eFummAflf6ShG5Ar5n6HjdvRIDTqDYHS52ey/PH6LRavNIXsXaKGShQYecU6BAAAAUEGeykUVLC//AG6iJ996I86FzxYKt+ZaWekOgKh40ezt2flqjjbzYFQ0gU06M2N0b2p6LYkTfedhXPXrnrBSdUIgg7TQD7zdKaxZ2aO7gAIfAAAAQQGe6XRCvwCWubG6wPZQUlqVSU3DmIwJrwUALRFKhCD6yMqoDd7KYTiQjfHq3wgX33Kplq2Tl0I7q7O0E1VTQAEDAAAAQgGe62pCvwCW67mD8572tXdX5BPfA3Z1/UyQhaiOddkSg3dWrx1+lRdgORUd3Uo6Mwb2L1AEUYZfNo49rwCA5ABgQQAAAL9BmvBJqEFsmUwIX//+jLABUqmbLDNzctvEgJUYwHtP9CHb6qvF1xxkJCYC6lnhAUG0LRdXVQLbcKBqCJbfQhhGSzWvmewmLpmVR39uEWY1gHMVX/Ev/AdnHGxI0bARioKJzskXF/ewQ+7wBZgd9aE+E1CHotrh93LSEwNdMphw1dMqV4yRebVof6+ZNbdXWFaqgnVzNtOhBrH9NKC4IogLJH0s9wQttNfOJC8N3YaoKeUTx6A9ie4xydUzPbzzIAAAAE1Bnw5FFSwv/wBuoife9r1l2svZnnVOTPV8+R1OruzvT344SI8wCxpfqo5mrK228BZ62Xo+KfWx+U72ExYlVbq6gM0Pzsp2v3ObruApIQAAAE0Bny10Qr8Alrmxqhs08pW7MaVlKDAmLDggGDX/F1Gjziuh8ClCG0I9LH8AT2F14sos0OASpStEI8S5BIaicWWDglzyPl8pOHwiuiABbQAAAEMBny9qQr8Aluu5egUefqumy8YCkbHLLBWO08+pmFiz+PuEp5azI5/KhiV9GW37OI7sCJtWhJozlub9hKO8LHt4AAu4AAAAvUGbNEmoQWyZTAhf//6MsAFU5lepo6FMuvQYwXegGoCFS6wjDrCniyN6UcgvkogUcccMXQ/QUB5b7mDoG741+BuMlxMkv1JAXe9gRB8LITBZLAnGTUJjgf3rxZYtXyK5osBFIdw+X2PCMNQdaPCSUivdQbxe+tf/GUwNVAuA40gdkw83sj7KsGPuQgQKUS9G8tT/35tRSuxhE0Ny5va23XN4zv1Yl6H121xJfxPPk123aPqio6bGk7BSM00I0AAAAFpBn1JFFSwv/wBuoife9oFkLeIqxXMMPp+FIRdylqk4LlRi7w4zG2gl1zN8zSZi1TZSM+L9kABsieojqs8OYEUSeWsGhhiRC6Gcqz4h6Iw0utRTxMbNg6YADakAAABIAZ9xdEK/AJa5sa0wR0fBfTcISY9gFvYA+OkH+xs6bhs1bwFsZbG0QX6bDXNmt8FwkFwveQEBpQovLUi0Q4TXMQJ25sl9bAEHAAAAQgGfc2pCvwCW67l6CAoxPjDx+r9oote7ewrhzVEuk0OJZt2e9yekGdaIIQ39r8nE7n8qBBdyDcn83mK+4ziFFbBTQQAAAG1Bm3hJqEFsmUwIZ//+nhABRq2D9X2kk2V+jXt5bOQzircs7+wngSU0kY5oocaO0OL2QWkQOfnz2Up/+WQTWIJ764zyjoachaEfxZFVzVhWoyM5I0eA8Amp+zAUat21wdjBz165mxfbFqTyGy5LAAAASkGflkUVLC//AG6iJ99Rso+uaTDpd1YXOZPE5Ni60KmamxvHVrFVo/t7Ex6FCIR4QnWWIlAJ+181RAABoLVwY49SFMcaRW6uACkhAAAARQGftXRCvwCWubG1x67vrMGETECzVRLPPlCOPoJGxTF7hA5Bn+431wbEVTcdH0FIL5+ymXFMOB7LGZsVPU0rfXDusAAEzQAAAD4Bn7dqQr8Aluu5gIGlqGfPnGhvmuUDli3mkQNlnwT36J553gQr9RL59jnEUaIMOOpJ2E9VKBy6n4RDzoACNwAAADNBm7lJqEFsmUwIV//+OEAE9oD9Mjdqgr7DtV9zHcHheoTRCKLk5s8W8jhk9SLa8x0AC8kAAAO6ZYiEADf//vbw/gU2VgRQlxHN6J0zH78VuLo0N73OAAADAAADAK66RphJ89zcPAAABVAAMQT17+LQAnbADiZ8UJEWsRXcuBoOSDfbk4/SYJXprLQ20wz+//2m0n//16X8rOz5x0xgC5A66Tg5IMjjjZzuuHRXIcCmRBId+INfl5T2Hy8OoAsqQ/V5W1qrEbGSa6zFhtxwCDZudgO5LxfL8i1eeMF9hZuKuIYLhbGxJr7MjtKOOGK55zMVRTpvVAH4oG/Tuk/K7P/5FH4VP5CC82J+4X2MH7Y5G93BP2dwo90UjXYOb2YieH/gG+9ZNoavAprJTZfz3oH90X9Ox74BNOReOEKi4rmARL/a5i5n1ZRcmDk9xTp4ztYtnCIde7AtLATcV2/K8JOnqgAJeWMQkc7mBO/Hw0GIFQiImNSUB9EB6LP80yQJiz2KuP1WWKsk+URek095Iw5kgrvpIWNE3XbN6SQSkxJV2QPMoqbcva3PhDMVWyAfeHRv5pQ4C0x+pk3+fo7Htc+JIxckgzVUdfzQgA+VPr0kk5LoUqnThnheJ/WUqby8kKxwkiGCBsbSqKsmNpxKVmoSixgYHToocuL/I7+g9tsFunEGppZ8gllWl+aH4rBaiwkvXelhjeqRF2M8AKDTJq0ugn6o2i/1KCw9+CXw0MRn4xJlFTSE4swh2mxI2ZwT/TxJkRuRkfZIn1VMIAt11G0n3vfsu4mGWGnzjwCdvHNwaaMa9QpuP021tXteJ0njDJz1XQFjGCnv7EWtwlSnGKRMioCEeGWzzYOc+iQpaA32Sb11C/5aumCzJhOQ5DYGlDjVH2OkDrxntwOo4HjgkZAJ+qSZ/RkiZjz/+0Lkei3D+t7QgWgfsFQeD/O90zoENivPTK7T5GCsC3j8zhh2vVJt0fxVdJjV62umIq9suqqdDMn8Kx3NVWLz/nOdAfUSc43AoAc2mqlU1S9nt2wwoU+9IFf/+UM/+BIFdTsjaoE4HthWj0qXnLOZRwxytL+NC1YnpkiYMncnXSFucg+7msrcmTXznWiX9lxuN58yByz7c5Gcqe1kkcmFPBAubS9JBqNFZrG2Z3JOxVtzQK4X5JpVMtkxiWTbOs9Moufoor7dRomgAoZDOMDMz5DQAKc/NdekVCP5XFRg7FDVeEPe8I5anhhPe2fcXUD/q/Dghjs5K5GcAuwB4hWuH17B6+j6g0SoHM9+pVbDNGIHT3r8kW9jeqcZwF3bWYIDGAkAAAMAAAMAAAMAAAMAAAMAAAMAACTgAAAyBm1vb3YAAABsbXZoZAAAAAAAAAAAAAAAAAAAA+gAAJxoAAEAAAEAAAAAAAAAAAAAAAABAAAAAAAAAAAAAAAAAAAAAQAAAAAAAAAAAAAAAAAAQAAAAAAAAAAAAAAAAAAAAAAAAAAAAAAAAAAAAAAAAAIAADEwdHJhawAAAFx0a2hkAAAAAwAAAAAAAAAAAAAAAQAAAAAAAJxoAAAAAAAAAAAAAAAAAAAAAAABAAAAAAAAAAAAAAAAAAAAAQAAAAAAAAAAAAAAAAAAQAAAAAHgAAAB4AAAAAAAJGVkdHMAAAAcZWxzdAAAAAAAAAABAACcaAAABAAAAQAAAAAwqG1kaWEAAAAgbWRoZAAAAAAAAAAAAAAAAAAAMgAAB9IAVcQAAAAAAC1oZGxyAAAAAAAAAAB2aWRlAAAAAAAAAAAAAAAAVmlkZW9IYW5kbGVyAAAAMFNtaW5mAAAAFHZtaGQAAAABAAAAAAAAAAAAAAAkZGluZgAAABxkcmVmAAAAAAAAAAEAAAAMdXJsIAAAAAEAADATc3RibAAAAK9zdHNkAAAAAAAAAAEAAACfYXZjMQAAAAAAAAABAAAAAAAAAAAAAAAAAAAAAAHgAeAASAAAAEgAAAAAAAAAARVMYXZjNjAuMzEuMTAyIGxpYngyNjQAAAAAAAAAAAAAABj//wAAADVhdmNDAWQAHv/hABhnZAAerNlB4PaEAAADAAQAAAMAyDxYtlgBAAZo6+PLIsD9+PgAAAAAFGJ0cnQAAAAAAABXvwAAV78AAAAYc3R0cwAAAAAAAAABAAAD6QAAAgAAAAAkc3RzcwAAAAAAAAAFAAAAAQAAAPsAAAH1AAAC7wAAA+kAAB84Y3R0cwAAAAAAAAPlAAAAAQAABAAAAAABAAAKAAAAAAEAAAQAAAAAAQAAAAAAAAABAAACAAAAAAEAAAoAAAAAAQAABAAAAAABAAAAAAAAAAEAAAIAAAAAAQAACgAAAAABAAAEAAAAAAEAAAAAAAAAAQAAAgAAAAABAAAKAAAAAAEAAAQAAAAAAQAAAAAAAAABAAACAAAAAAEAAAoAAAAAAQAABAAAAAABAAAAAAAAAAEAAAIAAAAAAQAACgAAAAABAAAEAAAAAAEAAAAAAAAAAQAAAgAAAAABAAAKAAAAAAEAAAQAAAAAAQAAAAAAAAABAAACAAAAAAEAAAoAAAAAAQAABAAAAAABAAAAAAAAAAEAAAIAAAAAAQAACgAAAAABAAAEAAAAAAEAAAAAAAAAAQAAAgAAAAABAAAKAAAAAAEAAAQAAAAAAQAAAAAAAAABAAACAAAAAAEAAAoAAAAAAQAABAAAAAABAAAAAAAAAAEAAAIAAAAAAQAACgAAAAABAAAEAAAAAAEAAAAAAAAAAQAAAgAAAAABAAAKAAAAAAEAAAQAAAAAAQAAAAAAAAABAAACAAAAAAEAAAoAAAAAAQAABAAAAAABAAAAAAAAAAEAAAIAAAAAAQAACgAAAAABAAAEAAAAAAEAAAAAAAAAAQAAAgAAAAABAAAKAAAAAAEAAAQAAAAAAQAAAAAAAAABAAACAAAAAAEAAAoAAAAAAQAABAAAAAABAAAAAAAAAAEAAAIAAAAAAQAACgAAAAABAAAEAAAAAAEAAAAAAAAAAQAAAgAAAAABAAAKAAAAAAEAAAQAAAAAAQAAAAAAAAABAAACAAAAAAEAAAoAAAAAAQAABAAAAAABAAAAAAAAAAEAAAIAAAAAAQAACgAAAAABAAAEAAAAAAEAAAAAAAAAAQAAAgAAAAABAAAKAAAAAAEAAAQAAAAAAQAAAAAAAAABAAACAAAAAAEAAAoAAAAAAQAABAAAAAABAAAAAAAAAAEAAAIAAAAAAQAACgAAAAABAAAEAAAAAAEAAAAAAAAAAQAAAgAAAAABAAAKAAAAAAEAAAQAAAAAAQAAAAAAAAABAAACAAAAAAEAAAoAAAAAAQAABAAAAAABAAAAAAAAAAEAAAIAAAAAAQAACgAAAAABAAAEAAAAAAEAAAAAAAAAAQAAAgAAAAABAAAKAAAAAAEAAAQAAAAAAQAAAAAAAAABAAACAAAAAAEAAAoAAAAAAQAABAAAAAABAAAAAAAAAAEAAAIAAAAAAQAACgAAAAABAAAEAAAAAAEAAAAAAAAAAQAAAgAAAAABAAAKAAAAAAEAAAQAAAAAAQAAAAAAAAABAAACAAAAAAEAAAoAAAAAAQAABAAAAAABAAAAAAAAAAEAAAIAAAAAAQAACgAAAAABAAAEAAAAAAEAAAAAAAAAAQAAAgAAAAABAAAKAAAAAAEAAAQAAAAAAQAAAAAAAAABAAACAAAAAAEAAAoAAAAAAQAABAAAAAABAAAAAAAAAAEAAAIAAAAAAQAACgAAAAABAAAEAAAAAAEAAAAAAAAAAQAAAgAAAAABAAAKAAAAAAEAAAQAAAAAAQAAAAAAAAABAAACAAAAAAEAAAoAAAAAAQAABAAAAAABAAAAAAAAAAEAAAIAAAAAAQAACgAAAAABAAAEAAAAAAEAAAAAAAAAAQAAAgAAAAABAAAKAAAAAAEAAAQAAAAAAQAAAAAAAAABAAACAAAAAAEAAAoAAAAAAQAABAAAAAABAAAAAAAAAAEAAAIAAAAAAQAACgAAAAABAAAEAAAAAAEAAAAAAAAAAQAAAgAAAAABAAAKAAAAAAEAAAQAAAAAAQAAAAAAAAABAAACAAAAAAEAAAoAAAAAAQAABAAAAAABAAAAAAAAAAEAAAIAAAAAAQAACgAAAAABAAAEAAAAAAEAAAAAAAAAAQAAAgAAAAABAAAKAAAAAAEAAAQAAAAAAQAAAAAAAAABAAACAAAAAAEAAAoAAAAAAQAABAAAAAABAAAAAAAAAAEAAAIAAAAAAQAACgAAAAABAAAEAAAAAAEAAAAAAAAAAQAAAgAAAAABAAAKAAAAAAEAAAQAAAAAAQAAAAAAAAABAAACAAAAAAEAAAoAAAAAAQAABAAAAAABAAAAAAAAAAEAAAIAAAAAAQAACgAAAAABAAAEAAAAAAEAAAAAAAAAAQAAAgAAAAABAAAKAAAAAAEAAAQAAAAAAQAAAAAAAAABAAACAAAAAAEAAAoAAAAAAQAABAAAAAABAAAAAAAAAAEAAAIAAAAAAQAACgAAAAABAAAEAAAAAAEAAAAAAAAAAQAAAgAAAAABAAAKAAAAAAEAAAQAAAAAAQAAAAAAAAABAAACAAAAAAEAAAoAAAAAAQAABAAAAAABAAAAAAAAAAEAAAIAAAAAAQAACgAAAAABAAAEAAAAAAEAAAAAAAAAAQAAAgAAAAABAAAKAAAAAAEAAAQAAAAAAQAAAAAAAAABAAACAAAAAAEAAAoAAAAAAQAABAAAAAABAAAAAAAAAAEAAAIAAAAAAQAACgAAAAABAAAEAAAAAAEAAAAAAAAAAQAAAgAAAAABAAAKAAAAAAEAAAQAAAAAAQAAAAAAAAABAAACAAAAAAEAAAoAAAAAAQAABAAAAAABAAAAAAAAAAEAAAIAAAAAAgAABAAAAAABAAAKAAAAAAEAAAQAAAAAAQAAAAAAAAABAAACAAAAAAEAAAoAAAAAAQAABAAAAAABAAAAAAAAAAEAAAIAAAAAAQAACgAAAAABAAAEAAAAAAEAAAAAAAAAAQAAAgAAAAABAAAKAAAAAAEAAAQAAAAAAQAAAAAAAAABAAACAAAAAAEAAAoAAAAAAQAABAAAAAABAAAAAAAAAAEAAAIAAAAAAQAACgAAAAABAAAEAAAAAAEAAAAAAAAAAQAAAgAAAAABAAAKAAAAAAEAAAQAAAAAAQAAAAAAAAABAAACAAAAAAEAAAoAAAAAAQAABAAAAAABAAAAAAAAAAEAAAIAAAAAAQAACgAAAAABAAAEAAAAAAEAAAAAAAAAAQAAAgAAAAABAAAKAAAAAAEAAAQAAAAAAQAAAAAAAAABAAACAAAAAAEAAAoAAAAAAQAABAAAAAABAAAAAAAAAAEAAAIAAAAAAQAACgAAAAABAAAEAAAAAAEAAAAAAAAAAQAAAgAAAAABAAAKAAAAAAEAAAQAAAAAAQAAAAAAAAABAAACAAAAAAEAAAoAAAAAAQAABAAAAAABAAAAAAAAAAEAAAIAAAAAAQAACgAAAAABAAAEAAAAAAEAAAAAAAAAAQAAAgAAAAABAAAKAAAAAAEAAAQAAAAAAQAAAAAAAAABAAACAAAAAAEAAAoAAAAAAQAABAAAAAABAAAAAAAAAAEAAAIAAAAAAQAACgAAAAABAAAEAAAAAAEAAAAAAAAAAQAAAgAAAAABAAAKAAAAAAEAAAQAAAAAAQAAAAAAAAABAAACAAAAAAEAAAoAAAAAAQAABAAAAAABAAAAAAAAAAEAAAIAAAAAAQAACgAAAAABAAAEAAAAAAEAAAAAAAAAAQAAAgAAAAABAAAKAAAAAAEAAAQAAAAAAQAAAAAAAAABAAACAAAAAAEAAAoAAAAAAQAABAAAAAABAAAAAAAAAAEAAAIAAAAAAQAACgAAAAABAAAEAAAAAAEAAAAAAAAAAQAAAgAAAAABAAAKAAAAAAEAAAQAAAAAAQAAAAAAAAABAAACAAAAAAEAAAoAAAAAAQAABAAAAAABAAAAAAAAAAEAAAIAAAAAAQAACgAAAAABAAAEAAAAAAEAAAAAAAAAAQAAAgAAAAABAAAKAAAAAAEAAAQAAAAAAQAAAAAAAAABAAACAAAAAAEAAAoAAAAAAQAABAAAAAABAAAAAAAAAAEAAAIAAAAAAQAACgAAAAABAAAEAAAAAAEAAAAAAAAAAQAAAgAAAAABAAAKAAAAAAEAAAQAAAAAAQAAAAAAAAABAAACAAAAAAEAAAoAAAAAAQAABAAAAAABAAAAAAAAAAEAAAIAAAAAAQAACgAAAAABAAAEAAAAAAEAAAAAAAAAAQAAAgAAAAABAAAKAAAAAAEAAAQAAAAAAQAAAAAAAAABAAACAAAAAAEAAAoAAAAAAQAABAAAAAABAAAAAAAAAAEAAAIAAAAAAQAACgAAAAABAAAEAAAAAAEAAAAAAAAAAQAAAgAAAAABAAAKAAAAAAEAAAQAAAAAAQAAAAAAAAABAAACAAAAAAEAAAoAAAAAAQAABAAAAAABAAAAAAAAAAEAAAIAAAAAAQAACgAAAAABAAAEAAAAAAEAAAAAAAAAAQAAAgAAAAABAAAKAAAAAAEAAAQAAAAAAQAAAAAAAAABAAACAAAAAAEAAAoAAAAAAQAABAAAAAABAAAAAAAAAAEAAAIAAAAAAQAACgAAAAABAAAEAAAAAAEAAAAAAAAAAQAAAgAAAAABAAAKAAAAAAEAAAQAAAAAAQAAAAAAAAABAAACAAAAAAEAAAoAAAAAAQAABAAAAAABAAAAAAAAAAEAAAIAAAAAAQAACgAAAAABAAAEAAAAAAEAAAAAAAAAAQAAAgAAAAABAAAKAAAAAAEAAAQAAAAAAQAAAAAAAAABAAACAAAAAAEAAAoAAAAAAQAABAAAAAABAAAAAAAAAAEAAAIAAAAAAQAACgAAAAABAAAEAAAAAAEAAAAAAAAAAQAAAgAAAAABAAAKAAAAAAEAAAQAAAAAAQAAAAAAAAABAAACAAAAAAEAAAoAAAAAAQAABAAAAAABAAAAAAAAAAEAAAIAAAAAAQAACgAAAAABAAAEAAAAAAEAAAAAAAAAAQAAAgAAAAABAAAKAAAAAAEAAAQAAAAAAQAAAAAAAAABAAACAAAAAAEAAAoAAAAAAQAABAAAAAABAAAAAAAAAAEAAAIAAAAAAQAACgAAAAABAAAEAAAAAAEAAAAAAAAAAQAAAgAAAAABAAAKAAAAAAEAAAQAAAAAAQAAAAAAAAABAAACAAAAAAEAAAoAAAAAAQAABAAAAAABAAAAAAAAAAEAAAIAAAAAAQAACgAAAAABAAAEAAAAAAEAAAAAAAAAAQAAAgAAAAABAAAKAAAAAAEAAAQAAAAAAQAAAAAAAAABAAACAAAAAAEAAAoAAAAAAQAABAAAAAABAAAAAAAAAAEAAAIAAAAAAQAACgAAAAABAAAEAAAAAAEAAAAAAAAAAQAAAgAAAAABAAAKAAAAAAEAAAQAAAAAAQAAAAAAAAABAAACAAAAAAEAAAoAAAAAAQAABAAAAAABAAAAAAAAAAEAAAIAAAAAAgAABAAAAAABAAAKAAAAAAEAAAQAAAAAAQAAAAAAAAABAAACAAAAAAEAAAoAAAAAAQAABAAAAAABAAAAAAAAAAEAAAIAAAAAAQAACgAAAAABAAAEAAAAAAEAAAAAAAAAAQAAAgAAAAABAAAKAAAAAAEAAAQAAAAAAQAAAAAAAAABAAACAAAAAAEAAAoAAAAAAQAABAAAAAABAAAAAAAAAAEAAAIAAAAAAQAACgAAAAABAAAEAAAAAAEAAAAAAAAAAQAAAgAAAAABAAAKAAAAAAEAAAQAAAAAAQAAAAAAAAABAAACAAAAAAEAAAoAAAAAAQAABAAAAAABAAAAAAAAAAEAAAIAAAAAAQAACgAAAAABAAAEAAAAAAEAAAAAAAAAAQAAAgAAAAABAAAKAAAAAAEAAAQAAAAAAQAAAAAAAAABAAACAAAAAAEAAAoAAAAAAQAABAAAAAABAAAAAAAAAAEAAAIAAAAAAQAACgAAAAABAAAEAAAAAAEAAAAAAAAAAQAAAgAAAAABAAAKAAAAAAEAAAQAAAAAAQAAAAAAAAABAAACAAAAAAEAAAoAAAAAAQAABAAAAAABAAAAAAAAAAEAAAIAAAAAAQAACgAAAAABAAAEAAAAAAEAAAAAAAAAAQAAAgAAAAABAAAKAAAAAAEAAAQAAAAAAQAAAAAAAAABAAACAAAAAAEAAAoAAAAAAQAABAAAAAABAAAAAAAAAAEAAAIAAAAAAQAACgAAAAABAAAEAAAAAAEAAAAAAAAAAQAAAgAAAAABAAAKAAAAAAEAAAQAAAAAAQAAAAAAAAABAAACAAAAAAEAAAoAAAAAAQAABAAAAAABAAAAAAAAAAEAAAIAAAAAAQAACgAAAAABAAAEAAAAAAEAAAAAAAAAAQAAAgAAAAABAAAKAAAAAAEAAAQAAAAAAQAAAAAAAAABAAACAAAAAAEAAAoAAAAAAQAABAAAAAABAAAAAAAAAAEAAAIAAAAAAQAACgAAAAABAAAEAAAAAAEAAAAAAAAAAQAAAgAAAAABAAAKAAAAAAEAAAQAAAAAAQAAAAAAAAABAAACAAAAAAEAAAoAAAAAAQAABAAAAAABAAAAAAAAAAEAAAIAAAAAAQAACgAAAAABAAAEAAAAAAEAAAAAAAAAAQAAAgAAAAABAAAKAAAAAAEAAAQAAAAAAQAAAAAAAAABAAACAAAAAAEAAAoAAAAAAQAABAAAAAABAAAAAAAAAAEAAAIAAAAAAQAACgAAAAABAAAEAAAAAAEAAAAAAAAAAQAAAgAAAAABAAAKAAAAAAEAAAQAAAAAAQAAAAAAAAABAAACAAAAAAEAAAoAAAAAAQAABAAAAAABAAAAAAAAAAEAAAIAAAAAAQAACgAAAAABAAAEAAAAAAEAAAAAAAAAAQAAAgAAAAABAAAKAAAAAAEAAAQAAAAAAQAAAAAAAAABAAACAAAAAAEAAAoAAAAAAQAABAAAAAABAAAAAAAAAAEAAAIAAAAAAQAACgAAAAABAAAEAAAAAAEAAAAAAAAAAQAAAgAAAAABAAAKAAAAAAEAAAQAAAAAAQAAAAAAAAABAAACAAAAAAEAAAoAAAAAAQAABAAAAAABAAAAAAAAAAEAAAIAAAAAAQAACgAAAAABAAAEAAAAAAEAAAAAAAAAAQAAAgAAAAABAAAKAAAAAAEAAAQAAAAAAQAAAAAAAAABAAACAAAAAAEAAAoAAAAAAQAABAAAAAABAAAAAAAAAAEAAAIAAAAAAQAACgAAAAABAAAEAAAAAAEAAAAAAAAAAQAAAgAAAAABAAAKAAAAAAEAAAQAAAAAAQAAAAAAAAABAAACAAAAAAEAAAoAAAAAAQAABAAAAAABAAAAAAAAAAEAAAIAAAAAAQAACgAAAAABAAAEAAAAAAEAAAAAAAAAAQAAAgAAAAABAAAKAAAAAAEAAAQAAAAAAQAAAAAAAAABAAACAAAAAAEAAAoAAAAAAQAABAAAAAABAAAAAAAAAAEAAAIAAAAAAQAACgAAAAABAAAEAAAAAAEAAAAAAAAAAQAAAgAAAAABAAAKAAAAAAEAAAQAAAAAAQAAAAAAAAABAAACAAAAAAEAAAoAAAAAAQAABAAAAAABAAAAAAAAAAEAAAIAAAAAAQAACgAAAAABAAAEAAAAAAEAAAAAAAAAAQAAAgAAAAABAAAKAAAAAAEAAAQAAAAAAQAAAAAAAAABAAACAAAAAAEAAAoAAAAAAQAABAAAAAABAAAAAAAAAAEAAAIAAAAAAQAACgAAAAABAAAEAAAAAAEAAAAAAAAAAQAAAgAAAAABAAAKAAAAAAEAAAQAAAAAAQAAAAAAAAABAAACAAAAAAEAAAoAAAAAAQAABAAAAAABAAAAAAAAAAEAAAIAAAAAAQAACgAAAAABAAAEAAAAAAEAAAAAAAAAAQAAAgAAAAABAAAKAAAAAAEAAAQAAAAAAQAAAAAAAAABAAACAAAAAAEAAAoAAAAAAQAABAAAAAABAAAAAAAAAAEAAAIAAAAAAQAACgAAAAABAAAEAAAAAAEAAAAAAAAAAQAAAgAAAAABAAAKAAAAAAEAAAQAAAAAAQAAAAAAAAABAAACAAAAAAEAAAoAAAAAAQAABAAAAAABAAAAAAAAAAEAAAIAAAAAAgAABAAAAAABAAAKAAAAAAEAAAQAAAAAAQAAAAAAAAABAAACAAAAAAEAAAoAAAAAAQAABAAAAAABAAAAAAAAAAEAAAIAAAAAAQAACgAAAAABAAAEAAAAAAEAAAAAAAAAAQAAAgAAAAABAAAKAAAAAAEAAAQAAAAAAQAAAAAAAAABAAACAAAAAAEAAAoAAAAAAQAABAAAAAABAAAAAAAAAAEAAAIAAAAAAQAACgAAAAABAAAEAAAAAAEAAAAAAAAAAQAAAgAAAAABAAAKAAAAAAEAAAQAAAAAAQAAAAAAAAABAAACAAAAAAEAAAoAAAAAAQAABAAAAAABAAAAAAAAAAEAAAIAAAAAAQAACgAAAAABAAAEAAAAAAEAAAAAAAAAAQAAAgAAAAABAAAKAAAAAAEAAAQAAAAAAQAAAAAAAAABAAACAAAAAAEAAAoAAAAAAQAABAAAAAABAAAAAAAAAAEAAAIAAAAAAQAACgAAAAABAAAEAAAAAAEAAAAAAAAAAQAAAgAAAAABAAAKAAAAAAEAAAQAAAAAAQAAAAAAAAABAAACAAAAAAEAAAoAAAAAAQAABAAAAAABAAAAAAAAAAEAAAIAAAAAAQAACgAAAAABAAAEAAAAAAEAAAAAAAAAAQAAAgAAAAABAAAKAAAAAAEAAAQAAAAAAQAAAAAAAAABAAACAAAAAAEAAAoAAAAAAQAABAAAAAABAAAAAAAAAAEAAAIAAAAAAQAACgAAAAABAAAEAAAAAAEAAAAAAAAAAQAAAgAAAAABAAAKAAAAAAEAAAQAAAAAAQAAAAAAAAABAAACAAAAAAEAAAoAAAAAAQAABAAAAAABAAAAAAAAAAEAAAIAAAAAAQAACgAAAAABAAAEAAAAAAEAAAAAAAAAAQAAAgAAAAABAAAKAAAAAAEAAAQAAAAAAQAAAAAAAAABAAACAAAAAAEAAAoAAAAAAQAABAAAAAABAAAAAAAAAAEAAAIAAAAAAQAACgAAAAABAAAEAAAAAAEAAAAAAAAAAQAAAgAAAAABAAAKAAAAAAEAAAQAAAAAAQAAAAAAAAABAAACAAAAAAEAAAoAAAAAAQAABAAAAAABAAAAAAAAAAEAAAIAAAAAAQAACgAAAAABAAAEAAAAAAEAAAAAAAAAAQAAAgAAAAABAAAKAAAAAAEAAAQAAAAAAQAAAAAAAAABAAACAAAAAAEAAAoAAAAAAQAABAAAAAABAAAAAAAAAAEAAAIAAAAAAQAACgAAAAABAAAEAAAAAAEAAAAAAAAAAQAAAgAAAAABAAAKAAAAAAEAAAQAAAAAAQAAAAAAAAABAAACAAAAAAEAAAoAAAAAAQAABAAAAAABAAAAAAAAAAEAAAIAAAAAAQAACgAAAAABAAAEAAAAAAEAAAAAAAAAAQAAAgAAAAABAAAKAAAAAAEAAAQAAAAAAQAAAAAAAAABAAACAAAAAAEAAAoAAAAAAQAABAAAAAABAAAAAAAAAAEAAAIAAAAAAQAACgAAAAABAAAEAAAAAAEAAAAAAAAAAQAAAgAAAAABAAAKAAAAAAEAAAQAAAAAAQAAAAAAAAABAAACAAAAAAEAAAoAAAAAAQAABAAAAAABAAAAAAAAAAEAAAIAAAAAAQAACgAAAAABAAAEAAAAAAEAAAAAAAAAAQAAAgAAAAABAAAKAAAAAAEAAAQAAAAAAQAAAAAAAAABAAACAAAAAAEAAAoAAAAAAQAABAAAAAABAAAAAAAAAAEAAAIAAAAAAQAACgAAAAABAAAEAAAAAAEAAAAAAAAAAQAAAgAAAAABAAAKAAAAAAEAAAQAAAAAAQAAAAAAAAABAAACAAAAAAEAAAoAAAAAAQAABAAAAAABAAAAAAAAAAEAAAIAAAAAAQAACgAAAAABAAAEAAAAAAEAAAAAAAAAAQAAAgAAAAABAAAKAAAAAAEAAAQAAAAAAQAAAAAAAAABAAACAAAAAAEAAAoAAAAAAQAABAAAAAABAAAAAAAAAAEAAAIAAAAAAQAACgAAAAABAAAEAAAAAAEAAAAAAAAAAQAAAgAAAAABAAAKAAAAAAEAAAQAAAAAAQAAAAAAAAABAAACAAAAAAEAAAoAAAAAAQAABAAAAAABAAAAAAAAAAEAAAIAAAAAAQAACgAAAAABAAAEAAAAAAEAAAAAAAAAAQAAAgAAAAABAAAKAAAAAAEAAAQAAAAAAQAAAAAAAAABAAACAAAAAAEAAAoAAAAAAQAABAAAAAABAAAAAAAAAAEAAAIAAAAAAQAACgAAAAABAAAEAAAAAAEAAAAAAAAAAQAAAgAAAAABAAAKAAAAAAEAAAQAAAAAAQAAAAAAAAABAAACAAAAAAEAAAoAAAAAAQAABAAAAAABAAAAAAAAAAEAAAIAAAAAAQAACgAAAAABAAAEAAAAAAEAAAAAAAAAAQAAAgAAAAABAAAKAAAAAAEAAAQAAAAAAQAAAAAAAAABAAACAAAAAAEAAAoAAAAAAQAABAAAAAABAAAAAAAAAAEAAAIAAAAAAQAACgAAAAABAAAEAAAAAAEAAAAAAAAAAQAAAgAAAAABAAAKAAAAAAEAAAQAAAAAAQAAAAAAAAABAAACAAAAAAEAAAoAAAAAAQAABAAAAAABAAAAAAAAAAEAAAIAAAAAAgAABAAAAAAcc3RzYwAAAAAAAAABAAAAAQAAA+kAAAABAAAPuHN0c3oAAAAAAAAAAAAAA+kAAAd+AAAAvQAAAEsAAAA5AAAAOQAAANsAAABDAAAAOQAAADkAAACUAAAATAAAAD4AAABAAAAAzwAAAFoAAABKAAAASwAAAOIAAABgAAAATAAAAEMAAAEeAAAAVAAAAEcAAAA6AAABEwAAAFkAAABJAAAAQQAAARwAAABiAAAATQAAAEQAAADmAAAAUgAAAE8AAAA8AAAAqwAAAEoAAAA7AAAAMQAAAM4AAABRAAAANgAAAEIAAAD5AAAAXwAAAEUAAABGAAABAgAAAFYAAABMAAAAQwAAAL4AAABUAAAARgAAAC4AAACZAAAAUQAAADgAAABCAAAArgAAAFUAAABAAAAASwAAANEAAABfAAAASAAAAEQAAADcAAAATwAAAE8AAABLAAABDAAAAFsAAABLAAAARAAAAScAAABSAAAAPgAAAEEAAADCAAAATgAAAD0AAAA5AAAAwgAAAFEAAAA2AAAAQQAAAPcAAABwAAAAUgAAAE4AAAD4AAAAXgAAAFQAAABGAAABAAAAAFAAAABIAAAARgAAAL0AAABOAAAATAAAAD0AAACdAAAASwAAACQAAABAAAAAzwAAAFEAAABAAAAATAAAANgAAABkAAAARAAAAEwAAAEHAAAAXQAAAEoAAABIAAABFgAAAFoAAABMAAAASwAAAP0AAABQAAAAPAAAADwAAACVAAAAWAAAAD4AAAAyAAAAzwAAAFUAAABJAAAATgAAAOYAAABhAAAASgAAAEQAAAEBAAAAXwAAAEwAAABDAAAA2QAAAFAAAABNAAAAQwAAAK0AAABHAAAAPQAAAC0AAACIAAAARwAAACEAAAA7AAAA2gAAAFcAAABFAAAAUgAAAPIAAABdAAAASwAAAD4AAAD8AAAATgAAAEIAAABFAAAA+wAAAFEAAABFAAAASQAAAKkAAABSAAAARwAAADIAAACWAAAAUAAAACkAAAA4AAAA1gAAAFgAAABKAAAARgAAAN8AAABiAAAASAAAAEkAAADtAAAAWwAAAE0AAABIAAAAyAAAAF0AAABKAAAAQQAAALEAAABJAAAARgAAACQAAACZAAAAUgAAACwAAABKAAAAuAAAAFkAAABHAAAAQgAAATAAAABdAAAASQAAAEIAAADZAAAAWwAAAEcAAABJAAAA3gAAAEoAAABAAAAATgAAAI8AAABFAAAAMQAAAC0AAAC6AAAAVwAAADEAAABIAAAA7QAAAFkAAABJAAAARwAAAOYAAABRAAAAQQAAAEcAAADXAAAAXQAAAEcAAABHAAAA6AAAAFwAAABDAAAAPQAAAMYAAABKAAAAPgAAACMAAABRAAAGvgAAAJwAAABUAAAASQAAAEIAAAD5AAAAXgAAAEwAAABAAAABBQAAAEwAAABEAAAAQgAAAPAAAABYAAAASwAAAD0AAACdAAAATgAAADcAAAA0AAAAwAAAAEkAAAAsAAAAOgAAALYAAABeAAAARQAAAEQAAADkAAAAWQAAAEwAAAA+AAAA/QAAAFcAAABCAAAASAAAAMgAAABUAAAAQwAAAD8AAAC1AAAASAAAAEEAAAAgAAAAsQAAAEoAAAAqAAAAPgAAANIAAABWAAAAQgAAAD4AAADVAAAAUAAAAEcAAABDAAAA5gAAAFAAAABEAAAARAAAAQEAAABGAAAASQAAAEEAAACdAAAAPgAAADYAAAArAAAAnAAAAFEAAAAyAAAAPgAAAOkAAABTAAAASgAAAD4AAACxAAAAVQAAAEUAAABCAAAA7QAAAFsAAABJAAAARAAAANUAAABIAAAAQwAAADwAAACrAAAASwAAAEAAAAAiAAAAyQAAAFYAAAA4AAAARAAAANUAAABTAAAAPwAAAE0AAAD4AAAAUAAAAE8AAABBAAAA+QAAAFAAAABFAAAARQAAALgAAABEAAAAOAAAAEEAAAB1AAAATgAAADYAAAAsAAAAsQAAAE8AAAA2AAAARQAAAOcAAABdAAAAQAAAAEgAAADkAAAAUgAAAEQAAABHAAAA8gAAAFsAAABGAAAAQQAAAM4AAABNAAAARgAAAEQAAACbAAAAXAAAAC0AAAAwAAAAxgAAAFEAAABEAAAASAAAAPkAAABOAAAASAAAAEcAAADuAAAAVQAAAE0AAABOAAABHAAAAFoAAABMAAAAQwAAAMcAAABLAAAASAAAAD8AAACSAAAATwAAACgAAAA/AAAAxgAAAEwAAAA+AAAARAAAANUAAABZAAAARwAAAEYAAAECAAAAVgAAAEIAAABEAAAA6wAAAFAAAABKAAAAQgAAAKkAAABXAAAARwAAAEEAAACPAAAASAAAACgAAAA5AAAAvwAAAFcAAABIAAAAUQAAAO8AAABUAAAASgAAAEgAAAD0AAAAVAAAAEgAAABEAAAA6wAAAFAAAABQAAAAQAAAAKgAAABCAAAAQAAAADYAAACYAAAAQwAAADAAAAA/AAAA0wAAAFwAAABDAAAATQAAALQAAABWAAAAPQAAAEUAAAEZAAAAVwAAAEwAAABIAAAAzgAAAFEAAABAAAAARQAAALsAAABJAAAAOgAAADUAAADBAAAATwAAACwAAAA8AAAAwwAAAFAAAABEAAAATAAAAOUAAABZAAAASQAAAEEAAAD2AAAAUgAAAEcAAABCAAAAWAAABsoAAACIAAAARQAAAEQAAAA0AAAAhgAAAEoAAAA1AAAAPAAAAJ8AAABdAAAARgAAAEAAAADVAAAAYwAAAEEAAABFAAABCwAAAGMAAABJAAAATwAAAOAAAABQAAAARgAAAEAAAACTAAAAWgAAAEgAAAA8AAAAmAAAAEQAAAApAAAANQAAANYAAABaAAAAQQAAAEoAAADFAAAAVQAAAEYAAABJAAAA7wAAAFoAAABHAAAASwAAAPQAAABLAAAARwAAAEQAAADXAAAAWQAAAD0AAABAAAAAtQAAAEsAAAAwAAAARAAAANIAAABaAAAARgAAAEAAAADcAAAAUQAAAEQAAABJAAABCwAAAFkAAABIAAAASgAAAN0AAABTAAAARQAAAEgAAACpAAAATAAAAEEAAAA0AAAAnwAAAEsAAAAqAAAAOQAAALwAAABXAAAARAAAAEYAAAD4AAAAUwAAAE4AAABEAAAA+gAAAF0AAABMAAAARwAAAPQAAABNAAAARwAAAE0AAAB5AAAASgAAADoAAAApAAAAmAAAAFwAAAAzAAAAPAAAAMkAAABcAAAASgAAAEQAAADoAAAAUAAAAEkAAABGAAAA9AAAAE8AAABDAAAARAAAANsAAABVAAAATgAAADwAAACcAAAAQQAAAEEAAAAnAAAAqAAAAFAAAAAzAAAARwAAAM4AAABaAAAAQwAAAEoAAADdAAAAUwAAAEkAAABIAAABMQAAAFUAAABLAAAARAAAAKoAAABYAAAASwAAAEEAAACvAAAAQgAAADMAAAAmAAAAygAAAFEAAAA1AAAAQQAAANcAAABRAAAARAAAAEIAAADiAAAAWAAAAEkAAABAAAAA5QAAAFgAAABCAAAAQAAAANcAAABJAAAASQAAADsAAACAAAAASQAAADYAAAAxAAAAtQAAAFUAAAA7AAAARgAAAQgAAABUAAAASQAAAD8AAADnAAAAUQAAAEkAAABBAAABAAAAAEsAAABIAAAAOwAAANgAAABHAAAAPwAAADsAAACMAAAATwAAACgAAAAwAAAAwAAAAFAAAABDAAAASAAAAM8AAABmAAAARAAAAEoAAADuAAAAUgAAAEcAAABHAAAA/wAAAFUAAABJAAAAPgAAAMMAAABFAAAAQgAAAEEAAACiAAAARgAAACIAAAA1AAAA1QAAAFIAAABFAAAAPwAAAOgAAABfAAAARAAAAEkAAAEPAAAAWAAAAEwAAABLAAAA+gAAAE8AAABNAAAAQQAAAK8AAABGAAAANgAAADYAAAChAAAARQAAACQAAAA8AAAAvwAAAE4AAABIAAAAOwAAAEwAAAbRAAAAxwAAAEsAAABEAAAAVQAAAMIAAABYAAAASQAAAEIAAAC+AAAASwAAAEcAAAA7AAAAjAAAAEYAAAAyAAAALgAAAKMAAABWAAAAQQAAAEkAAADOAAAAXQAAAEYAAABIAAAAwAAAAFIAAABIAAAARgAAAR0AAABYAAAASgAAAEIAAACtAAAARQAAAEEAAAA3AAAAkQAAAE4AAAA0AAAANwAAALAAAABWAAAAQQAAAEEAAAC9AAAAVwAAAEUAAABNAAAA9AAAAFIAAABDAAAARwAAAN0AAABWAAAASwAAAEIAAACRAAAAQQAAAEYAAAA6AAAAmQAAAEMAAAAlAAAANAAAAK8AAABNAAAARwAAAEgAAADXAAAAWQAAAEIAAABMAAAAwwAAAFgAAABIAAAASQAAAPMAAABZAAAARQAAADUAAADaAAAAQgAAADsAAAA5AAAAkQAAAEcAAAApAAAAOQAAANMAAABYAAAAQgAAADkAAAC0AAAAYgAAAEcAAABCAAABFwAAAFcAAABDAAAAQwAAANUAAABYAAAARQAAAEwAAACfAAAASwAAAD4AAAA4AAAAnAAAAEkAAAAvAAAAPQAAAOAAAABVAAAARgAAAEkAAADXAAAAYgAAAEgAAABFAAAA8wAAAFcAAABLAAAARgAAAOwAAABFAAAASQAAAEsAAACGAAAASQAAAEIAAAAwAAAAnwAAAE0AAAA3AAAAQQAAALMAAABPAAAAQQAAAEwAAADOAAAAXwAAAEIAAABAAAAA8AAAAF4AAABKAAAASgAAAOAAAABSAAAATgAAAEYAAAC3AAAARgAAAEMAAAAnAAAAuQAAAFUAAABCAAAARwAAAN4AAABWAAAATQAAAEoAAADpAAAAWAAAAEoAAABKAAAA+wAAAGAAAABRAAAAQgAAAMcAAABZAAAARgAAADoAAACeAAAAQwAAAEAAAAA0AAAAsgAAAFoAAABCAAAAUAAAANwAAABXAAAARAAAAEsAAADsAAAAUQAAAE4AAABDAAAA8QAAAFkAAABFAAAAPAAAANMAAABEAAAATAAAADwAAACLAAAATQAAADgAAAAtAAAApQAAAFUAAABDAAAASQAAAMgAAABQAAAAQwAAAEoAAADzAAAASwAAAEYAAABAAAAA6wAAAFQAAABBAAAAQgAAAOYAAABGAAAAPwAAAD8AAACMAAAATAAAADEAAAA3AAAAvwAAAFUAAABDAAAARAAAALsAAABUAAAARQAAAEYAAADDAAAAUQAAAFEAAABHAAAAwQAAAF4AAABMAAAARgAAAHEAAABOAAAASQAAAEIAAAA3AAADvgAAABRzdGNvAAAAAAAAAAEAAAAwAAAAYnVkdGEAAABabWV0YQAAAAAAAAAhaGRscgAAAAAAAAAAbWRpcmFwcGwAAAAAAAAAAAAAAAAtaWxzdAAAACWpdG9vAAAAHWRhdGEAAAABAAAAAExhdmY2MC4xNi4xMDA=\" type=\"video/mp4\">\n",
       " Your browser does not support the video tag.\n",
       " </video>"
      ],
      "text/plain": [
       "<IPython.core.display.Video object>"
      ]
     },
     "metadata": {},
     "output_type": "display_data"
    }
   ],
   "source": [
    "if not skip_training:\n",
    "      video = Video(Path().cwd()/'results'/'InvertedPendulum-v4'/'video'/'test'/'ex5-episode-0.mp4',\n",
    "      embed=True, html_attributes=\"loop autoplay\") # Set html_attributes=\"controls\" for video control\n",
    "      display(video)"
   ]
  },
  {
   "cell_type": "markdown",
   "id": "ea079dc7",
   "metadata": {},
   "source": [
    "<a id='T1b'></a>\n",
    "<div class=\" alert alert-warning\">\n",
    "    <h3><b>Student Task 1b.</b> REINFORCE with a constant baseline b = 20 (5 points) </h3> \n",
    "    The training performance plot might look like Figure 1b.\n",
    "    <figure style=\"text-align: center\" id=\"figure-1b\">\n",
    "        <img src=\"imgs/PGBase20.svg\" width=\"600px\">\n",
    "        <figcaption style=\"text-align: center\"> Figure 1b: REINFORCE with a constant baseline 20. </figcaption>\n",
    "    </figure>\n",
    "    \n",
    "🔝 <a href='#TOC'><b>Table of Contents</b></a>\n",
    "</div>\n",
    "\n"
   ]
  },
  {
   "cell_type": "code",
   "execution_count": 147,
   "id": "3c57e167",
   "metadata": {
    "tags": []
   },
   "outputs": [],
   "source": [
    "class PGBase20(PG):\n",
    "    def __init__(self, state_dim, action_dim, lr, gamma):\n",
    "        super().__init__(state_dim, action_dim, lr, gamma)\n",
    "\n",
    "    # TODO: Task 1: Implement the policy gradient\n",
    "    # Complete the following 2 functions\n",
    "    # Hints:\n",
    "    #   1. compute discounted rewards (use the discount_rewards function offered in common.helper)\n",
    "    #   2. compute the policy gradient loss with the baseline\n",
    "    \n",
    "    # Compute discounted rewards \n",
    "    def calculate_discounted_rewards(self, rewards):\n",
    "        ########## Your code starts here. ##########\n",
    "        \n",
    "        discounted_rewards = torch.zeros_like(rewards)\n",
    "        G = 0 \n",
    "        for t in reversed(range(len(rewards))):\n",
    "            G = rewards[t] + self.gamma*G\n",
    "            discounted_rewards[t] = G\n",
    "        ########## Your code ends here. ##########\n",
    "        return discounted_rewards\n",
    "\n",
    "    # Calculate the PG loss with the baseline\n",
    "    def calculate_loss(self, action_probs, discounted_rewards):\n",
    "        ########## Your code starts here. ##########\n",
    "        baseline = 20 \n",
    "        advantages = discounted_rewards - baseline\n",
    "        loss = -torch.mean(action_probs * advantages)\n",
    "        ########## Your code ends here. ##########\n",
    "        return loss\n",
    "\n",
    "    def update(self):\n",
    "        # Prepare dataset used to update policy\n",
    "        action_probs = torch.stack(self.action_probs, dim=0).to(device).squeeze(-1) # shape: [batch_size,]\n",
    "        rewards = torch.stack(self.rewards, dim=0).to(device).squeeze(-1) # shape [batch_size,]\n",
    "        self.action_probs, self.rewards = [], [] # clean buffers\n",
    "        \n",
    "        # TODO: Task 1: Implement the policy gradient\n",
    "\n",
    "        # Compute discounted rewards \n",
    "        discounted_rewards = self.calculate_discounted_rewards(rewards)\n",
    "        # Calculate the PG loss with the baseline\n",
    "        loss = self.calculate_loss(action_probs, discounted_rewards)\n",
    "        # Backprop gradients\n",
    "        loss.backward()\n",
    "        # Do the optimizer step\n",
    "        self.optimizer.step()\n",
    "        self.optimizer.zero_grad()\n",
    "\n",
    "        # if you want to log something in wandb, you can put them inside the {}, otherwise, just leave it empty.\n",
    "        return {'logstd': self.policy.actor_logstd.cpu().detach().numpy()}"
   ]
  },
  {
   "cell_type": "code",
   "execution_count": 127,
   "id": "8aa4d283",
   "metadata": {
    "tags": []
   },
   "outputs": [
    {
     "name": "stdout",
     "output_type": "stream",
     "text": [
      "Numpy/Torch/Random Seed:  22\n",
      "{'ep': 0, 'logstd': array([0.], dtype=float32), 'timesteps': 5, 'ep_reward': 5.0, 'episodes': 0}\n",
      "{'ep': 100, 'logstd': array([0.], dtype=float32), 'timesteps': 48, 'ep_reward': 48.0, 'episodes': 100}\n",
      "{'ep': 200, 'logstd': array([0.], dtype=float32), 'timesteps': 128, 'ep_reward': 128.0, 'episodes': 200}\n",
      "{'ep': 300, 'logstd': array([0.], dtype=float32), 'timesteps': 1000, 'ep_reward': 1000.0, 'episodes': 300}\n",
      "{'ep': 400, 'logstd': array([0.], dtype=float32), 'timesteps': 252, 'ep_reward': 252.0, 'episodes': 400}\n",
      "{'ep': 500, 'logstd': array([0.], dtype=float32), 'timesteps': 1000, 'ep_reward': 1000.0, 'episodes': 500}\n",
      "{'ep': 600, 'logstd': array([0.], dtype=float32), 'timesteps': 1000, 'ep_reward': 1000.0, 'episodes': 600}\n",
      "{'ep': 700, 'logstd': array([0.], dtype=float32), 'timesteps': 1000, 'ep_reward': 1000.0, 'episodes': 700}\n",
      "{'ep': 800, 'logstd': array([0.], dtype=float32), 'timesteps': 1000, 'ep_reward': 1000.0, 'episodes': 800}\n",
      "{'ep': 900, 'logstd': array([0.], dtype=float32), 'timesteps': 1000, 'ep_reward': 1000.0, 'episodes': 900}\n"
     ]
    },
    {
     "data": {
      "image/png": "[encoded data removed]",
      "text/plain": [
       "<Figure size 450x350 with 1 Axes>"
      ]
     },
     "metadata": {},
     "output_type": "display_data"
    },
    {
     "name": "stdout",
     "output_type": "stream",
     "text": [
      "Training complete!\n"
     ]
    }
   ],
   "source": [
    "if not skip_training:\n",
    "    train(PGBase20, cfg_path=Path().cwd() / 'cfg' / 'inverted_pendulum.yaml', cfg_args=dict(model_name=\"PGBase20\")) # < 7 mins"
   ]
  },
  {
   "cell_type": "code",
   "execution_count": 128,
   "id": "48f26f40-49c9-48f3-8543-cae81be8185f",
   "metadata": {
    "tags": []
   },
   "outputs": [
    {
     "name": "stdout",
     "output_type": "stream",
     "text": [
      "Numpy/Torch/Random Seed:  22\n",
      "Loading model from /notebooks/rl2025/ex5/results/InvertedPendulum-v4/model/PGBase20_params.pt ...\n",
      "Test ep_reward: 1000.0\n",
      "Test ep_reward: 1000.0\n",
      "Test ep_reward: 1000.0\n",
      "Test ep_reward: 1000.0\n",
      "Test ep_reward: 1000.0\n",
      "Median test reward: 1000.0\n"
     ]
    }
   ],
   "source": [
    "if not skip_training:\n",
    "    test(PGBase20, cfg_path=Path().cwd() / 'cfg' / 'inverted_pendulum.yaml', cfg_args=dict(model_name=\"PGBase20\", save_video=True, testing=True)) "
   ]
  },
  {
   "cell_type": "code",
   "execution_count": null,
   "id": "af4ac907",
   "metadata": {
    "deletable": false,
    "editable": false,
    "nbgrader": {
     "cell_type": "code",
     "checksum": "e67902311730193101e4741111bbf0b2",
     "grade": true,
     "grade_id": "cell-62d1b98f11dcd94b",
     "locked": true,
     "points": 1,
     "schema_version": 3,
     "solution": false,
     "task": false
    }
   },
   "outputs": [],
   "source": []
  },
  {
   "cell_type": "code",
   "execution_count": 129,
   "id": "6074d987",
   "metadata": {
    "deletable": false,
    "editable": false,
    "nbgrader": {
     "cell_type": "code",
     "checksum": "11f6f2b5baa3638d6d0deedc0eee29fe",
     "grade": true,
     "grade_id": "cell-3bcb1eace5908e1d",
     "locked": true,
     "points": 2,
     "schema_version": 3,
     "solution": false,
     "task": false
    }
   },
   "outputs": [
    {
     "name": "stdout",
     "output_type": "stream",
     "text": [
      "Numpy/Torch/Random Seed:  43\n"
     ]
    }
   ],
   "source": [
    "%%capture --no-stdout\n",
    "\"TEST CELL\"\n",
    "def test_pgbase20_update_1():\n",
    "    \n",
    "    agent_class = PGBase20\n",
    "    cfg_path=Path().cwd() / 'cfg' / 'inverted_pendulum.yaml'\n",
    "    cfg_args=dict(model_name=\"PGBase20\", seed=43)\n",
    "    env, cfg = setup(cfg_path, cfg_args=cfg_args)\n",
    "\n",
    "    state_dim = env.observation_space.shape[0]\n",
    "    action_dim = env.action_space.shape[0]\n",
    "\n",
    "    agent = agent_class(state_dim, action_dim, float(cfg.lr), float(cfg.gamma))\n",
    "\n",
    "    test_reward = torch.Tensor([1., 1., 1., 1., 1., 1., 1., 1.])\n",
    "    test_action_prob = torch.Tensor([-2.4205, -2.1635, -1.2791, -1.2655, -0.9205, -0.9366, -4.9679, -2.1623])\n",
    "    test_discounted_reward = torch.Tensor([7.7255, 6.7935, 5.8520, 4.9010, 3.9404, 2.9701, 1.9900, 1.0000])\n",
    "\n",
    "    assert torch.allclose(agent.calculate_discounted_rewards(test_reward), test_discounted_reward, 0.001)\n",
    "    assert torch.allclose(agent.calculate_loss(test_action_prob, test_discounted_reward), torch.tensor(-32.0970), 0.001)\n",
    "\n",
    "test_pgbase20_update_1()"
   ]
  },
  {
   "cell_type": "code",
   "execution_count": 130,
   "id": "42de046f",
   "metadata": {
    "deletable": false,
    "editable": false,
    "nbgrader": {
     "cell_type": "code",
     "checksum": "bd3eaf1021b2d35e4bac9eb0a6515439",
     "grade": true,
     "grade_id": "cell-7c3853783c05c900",
     "locked": true,
     "points": 2,
     "schema_version": 3,
     "solution": false,
     "task": false
    }
   },
   "outputs": [],
   "source": [
    "%%capture --no-stdout\n",
    "\"TEST CELL\""
   ]
  },
  {
   "cell_type": "code",
   "execution_count": 131,
   "id": "a434d9ef-523c-482a-a2e8-441ac66e15e5",
   "metadata": {
    "tags": []
   },
   "outputs": [
    {
     "data": {
      "text/html": [
       "<video loop autoplay  >\n",
       " <source src=\"data:video/mp4;base64,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\" type=\"video/mp4\">\n",
       " Your browser does not support the video tag.\n",
       " </video>"
      ],
      "text/plain": [
       "<IPython.core.display.Video object>"
      ]
     },
     "metadata": {},
     "output_type": "display_data"
    }
   ],
   "source": [
    "if not skip_training:\n",
    "      video = Video(Path().cwd() / 'results' / 'InvertedPendulum-v4' / 'video' / 'test' / 'ex5-episode-0.mp4',\n",
    "      embed=True, html_attributes=\"loop autoplay\") # Set html_attributes=\"controls\" for video control\n",
    "      display(video)"
   ]
  },
  {
   "cell_type": "markdown",
   "id": "e31c7d2e",
   "metadata": {
    "tags": []
   },
   "source": [
    "<a id='T1c'></a>\n",
    "<div class=\" alert alert-warning\">\n",
    "    <h3><b>Student Task 1c.</b> REINFORCE with discounted rewards normalized to zero mean and unit variance (5 points) </h3> \n",
    "    The training performance plot might look like Figure 1c. \n",
    "    <figure style=\"text-align: center\" id=\"figure-1c\">\n",
    "        <img src=\"imgs/PGGamma.svg\" width=\"600px\">\n",
    "        <figcaption style=\"text-align: center\"> Figure 1c: REINFORCE with discounted rewards normalized to zero mean and unit variance. </figcaption>\n",
    "    </figure>\n",
    "    \n",
    "🔝 <a href='#TOC'><b>Table of Contents</b></a>\n",
    "</div>\n",
    "\n"
   ]
  },
  {
   "cell_type": "code",
   "execution_count": 148,
   "id": "d76bcc3c",
   "metadata": {
    "tags": []
   },
   "outputs": [],
   "source": [
    "class PGNormalized(PG):\n",
    "    def __init__(self, state_dim, action_dim, lr, gamma):\n",
    "        super().__init__(state_dim, action_dim, lr, gamma)\n",
    "\n",
    "    # TODO: Task 1: Implement the policy gradient\n",
    "    # Complete the following 2 functions\n",
    "    # Hints:\n",
    "    #   1. compute discounted rewards (use the discount_rewards function offered in utils.py)\n",
    "    #   2. normalize discounted rewards and compute the policy gradient loss\n",
    "    \n",
    "    # Compute discounted rewards \n",
    "    def calculate_discounted_rewards(self, rewards):\n",
    "        ########## Your code starts here. ##########\n",
    "        \n",
    "        discounted_rewards = torch.zeros_like(rewards)\n",
    "        G = 0 \n",
    "        for t in reversed(range(len(rewards))):\n",
    "            G = rewards[t] + self.gamma*G\n",
    "            discounted_rewards[t] = G\n",
    "        ########## Your code ends here. ##########\n",
    "        return discounted_rewards\n",
    "\n",
    "    # Calculate the PG loss with the Normalization\n",
    "    def calculate_loss(self, action_probs, discounted_rewards):\n",
    "        ########## Your code starts here. ##########\n",
    "        discounted_rewards = (discounted_rewards - discounted_rewards.mean()) / (discounted_rewards.std() + 1e-9)\n",
    "        loss = -torch.mean(action_probs * discounted_rewards)\n",
    "        ########## Your code ends here. ##########\n",
    "        return loss\n",
    "\n",
    "\n",
    "\n",
    "    def update(self):\n",
    "        # Prepare dataset used to update policy\n",
    "        action_probs = torch.stack(self.action_probs, dim=0).to(device).squeeze(-1) # shape: [batch_size,]\n",
    "        rewards = torch.stack(self.rewards, dim=0).to(device).squeeze(-1) # shape [batch_size,]\n",
    "        self.action_probs, self.rewards = [], [] # clean buffers\n",
    "        \n",
    "        # TODO: Task 1: Implement the policy gradient\n",
    "        \n",
    "        # Compute discounted rewards and normalize them\n",
    "        discounted_rewards = self.calculate_discounted_rewards(rewards)\n",
    "        # Calculate the PG loss\n",
    "        loss = self.calculate_loss(action_probs, discounted_rewards)\n",
    "        # Backprop gradients\n",
    "        loss.backward()\n",
    "        # Do the optimizer step\n",
    "        self.optimizer.step()\n",
    "        self.optimizer.zero_grad()    \n",
    "\n",
    "        # if you want to log something in wandb, you can put them inside the {}, otherwise, just leave it empty.\n",
    "        return {'logstd': self.policy.actor_logstd.cpu().detach().numpy()}"
   ]
  },
  {
   "cell_type": "code",
   "execution_count": 149,
   "id": "8e236519-8afb-4ec7-ba87-3181bf822576",
   "metadata": {
    "tags": []
   },
   "outputs": [
    {
     "name": "stdout",
     "output_type": "stream",
     "text": [
      "Numpy/Torch/Random Seed:  22\n",
      "{'ep': 0, 'logstd': array([0.], dtype=float32), 'timesteps': 5, 'ep_reward': 5.0, 'episodes': 0}\n",
      "{'ep': 100, 'logstd': array([0.], dtype=float32), 'timesteps': 29, 'ep_reward': 29.0, 'episodes': 100}\n",
      "{'ep': 200, 'logstd': array([0.], dtype=float32), 'timesteps': 93, 'ep_reward': 93.0, 'episodes': 200}\n",
      "{'ep': 300, 'logstd': array([0.], dtype=float32), 'timesteps': 164, 'ep_reward': 164.0, 'episodes': 300}\n",
      "{'ep': 400, 'logstd': array([0.], dtype=float32), 'timesteps': 1000, 'ep_reward': 1000.0, 'episodes': 400}\n",
      "{'ep': 500, 'logstd': array([0.], dtype=float32), 'timesteps': 1000, 'ep_reward': 1000.0, 'episodes': 500}\n",
      "{'ep': 600, 'logstd': array([0.], dtype=float32), 'timesteps': 1000, 'ep_reward': 1000.0, 'episodes': 600}\n",
      "{'ep': 700, 'logstd': array([0.], dtype=float32), 'timesteps': 1000, 'ep_reward': 1000.0, 'episodes': 700}\n",
      "{'ep': 800, 'logstd': array([0.], dtype=float32), 'timesteps': 1000, 'ep_reward': 1000.0, 'episodes': 800}\n",
      "{'ep': 900, 'logstd': array([0.], dtype=float32), 'timesteps': 1000, 'ep_reward': 1000.0, 'episodes': 900}\n"
     ]
    },
    {
     "data": {
      "image/png": "[encoded data removed]",
      "text/plain": [
       "<Figure size 450x350 with 1 Axes>"
      ]
     },
     "metadata": {},
     "output_type": "display_data"
    },
    {
     "name": "stdout",
     "output_type": "stream",
     "text": [
      "Training complete!\n"
     ]
    }
   ],
   "source": [
    "if not skip_training:\n",
    "    train(PGNormalized, cfg_path=Path().cwd() / 'cfg' / 'inverted_pendulum.yaml', cfg_args=dict(model_name=\"PGNormalized\")) # < 10 mins"
   ]
  },
  {
   "cell_type": "code",
   "execution_count": 150,
   "id": "9aab775f-bc7e-475f-ac41-7bbf0227bc1a",
   "metadata": {
    "tags": []
   },
   "outputs": [
    {
     "name": "stdout",
     "output_type": "stream",
     "text": [
      "Numpy/Torch/Random Seed:  22\n",
      "Loading model from /notebooks/rl2025/ex5/results/InvertedPendulum-v4/model/PGNormalized_params.pt ...\n",
      "Test ep_reward: 1000.0\n",
      "Test ep_reward: 1000.0\n",
      "Test ep_reward: 1000.0\n",
      "Test ep_reward: 1000.0\n",
      "Test ep_reward: 1000.0\n",
      "Median test reward: 1000.0\n"
     ]
    }
   ],
   "source": [
    "if not skip_training:\n",
    "    test(PGNormalized, cfg_path=Path().cwd() / 'cfg' / 'inverted_pendulum.yaml', cfg_args=dict(model_name=\"PGNormalized\", save_video=True, testing=True))"
   ]
  },
  {
   "cell_type": "code",
   "execution_count": null,
   "id": "fc850792",
   "metadata": {
    "deletable": false,
    "editable": false,
    "nbgrader": {
     "cell_type": "code",
     "checksum": "c2419c79f89c4ca692b669552b27e124",
     "grade": true,
     "grade_id": "cell-03e739e487933e6e",
     "locked": true,
     "points": 1,
     "schema_version": 3,
     "solution": false,
     "task": false
    }
   },
   "outputs": [],
   "source": []
  },
  {
   "cell_type": "code",
   "execution_count": 151,
   "id": "ef8fb1c0",
   "metadata": {
    "deletable": false,
    "editable": false,
    "nbgrader": {
     "cell_type": "code",
     "checksum": "106d897f0caa69b7eb88435c2b1b3043",
     "grade": true,
     "grade_id": "cell-a90ba2f2bac40f9c",
     "locked": true,
     "points": 2,
     "schema_version": 3,
     "solution": false,
     "task": false
    }
   },
   "outputs": [
    {
     "name": "stdout",
     "output_type": "stream",
     "text": [
      "Numpy/Torch/Random Seed:  43\n"
     ]
    }
   ],
   "source": [
    "%%capture --no-stdout\n",
    "\"TEST CELL\"\n",
    "def test_pgnormalized_update_1():\n",
    "    \n",
    "    agent_class = PGNormalized\n",
    "    cfg_path=Path().cwd() / 'cfg' / 'inverted_pendulum.yaml'\n",
    "    cfg_args=dict(model_name=\"PGNormalized\", seed=43)\n",
    "    env, cfg = setup(cfg_path, cfg_args=cfg_args)\n",
    "\n",
    "    state_dim = env.observation_space.shape[0]\n",
    "    action_dim = env.action_space.shape[0]\n",
    "\n",
    "    agent = agent_class(state_dim, action_dim, float(cfg.lr), float(cfg.gamma))\n",
    "\n",
    "    test_reward = torch.Tensor([1., 1., 1., 1., 1., 1., 1., 1.])\n",
    "    test_action_prob = torch.Tensor([-2.4205, -2.1635, -1.2791, -1.2655, -0.9205, -0.9366, -4.9679, -2.1623])\n",
    "    test_discounted_reward = torch.Tensor([7.7255, 6.7935, 5.8520, 4.9010, 3.9404, 2.9701, 1.9900, 1.0000])\n",
    "\n",
    "    assert torch.allclose(agent.calculate_discounted_rewards(test_reward), test_discounted_reward, 0.001)\n",
    "    assert torch.allclose(agent.calculate_loss(test_action_prob, test_discounted_reward), torch.tensor(-0.2822), 0.001)\n",
    "\n",
    "test_pgnormalized_update_1()"
   ]
  },
  {
   "cell_type": "code",
   "execution_count": 152,
   "id": "b36fae08",
   "metadata": {
    "deletable": false,
    "editable": false,
    "nbgrader": {
     "cell_type": "code",
     "checksum": "8d2fb6c9e677aa86435b3c7b06302512",
     "grade": true,
     "grade_id": "cell-a4862f110550460f",
     "locked": true,
     "points": 2,
     "schema_version": 3,
     "solution": false,
     "task": false
    }
   },
   "outputs": [],
   "source": [
    "%%capture --no-stdout\n",
    "\"TEST CELL\""
   ]
  },
  {
   "cell_type": "code",
   "execution_count": 153,
   "id": "9e3bbe30-5d8f-426d-9a76-806e6586a23b",
   "metadata": {
    "tags": []
   },
   "outputs": [
    {
     "data": {
      "text/html": [
       "<video loop autoplay  >\n",
       " <source src=\"data:video/mp4;base64,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\" type=\"video/mp4\">\n",
       " Your browser does not support the video tag.\n",
       " </video>"
      ],
      "text/plain": [
       "<IPython.core.display.Video object>"
      ]
     },
     "metadata": {},
     "output_type": "display_data"
    }
   ],
   "source": [
    "if not skip_training:\n",
    "      video = Video(Path().cwd() / 'results' / 'InvertedPendulum-v4' / 'video' / 'test' / 'ex5-episode-0.mp4',\n",
    "      embed=True, html_attributes=\"loop autoplay\") # Set html_attributes=\"controls\" for video control\n",
    "      display(video)"
   ]
  },
  {
   "cell_type": "markdown",
   "id": "f856d17c",
   "metadata": {
    "deletable": false,
    "editable": false,
    "nbgrader": {
     "cell_type": "markdown",
     "checksum": "5344618e774be27b6e56107827fe9e38",
     "grade": false,
     "grade_id": "cell-970e68431aa3a7cd",
     "locked": true,
     "schema_version": 3,
     "solution": false,
     "task": false
    },
    "tags": []
   },
   "source": [
    "<a id='Q1'></a>\n",
    "<div class=\" alert alert-warning\">\n",
    "    <h3><b>Student Question 1.1</b> A good baseline (15 points) </h3> \n",
    "\n",
    "Which of the following statements correctly describe how to choose a good baseline and why it makes training more stable? **Select 5 options.**\n",
    "            \n",
    "🔝\t<a href='#TOC'><b>Table of Contents</b></a>\n",
    "</div>"
   ]
  },
  {
   "cell_type": "markdown",
   "id": "0c46c994-d93c-4188-adef-ef82dabe437c",
   "metadata": {
    "deletable": false,
    "editable": false,
    "nbgrader": {
     "cell_type": "markdown",
     "checksum": "b1eed5810b36c7aaf8e100f5b08c77b2",
     "grade": false,
     "grade_id": "cell-cfe2a992cab77b22",
     "locked": true,
     "schema_version": 3,
     "solution": false,
     "task": false
    },
    "tags": []
   },
   "source": [
    "Options:\n",
    "\n",
    "1. A good baseline doesn't affect the expectation (doesn't introduce bias) but reduces variance of the estimated gradients. \n",
    "2. The baseline should be dependent on both the state and the action to provide the most accurate estimates.\n",
    "3. The optimal baseline can be theoretically derived, but it is too expensive to calculate in practice. \n",
    "4.  A good baseline should be a constant value to ensure consistency across all states. \n",
    "5.  The lower variance estimates lead to more stable training. \n",
    "6.  A good choice of baseline is an estimate of the state value, or the empirical mean (when doing Monte Carlo roll-outs). \n",
    "7.  The idea with both is that we increase the probability of actions that lead to higher returns than what our current estimate of the expected return is. \n",
    "8.  A proper baseline eliminates the need for exploration in reinforcement learning algorithms. \n",
    "9.  The choice of baseline has no impact on the convergence speed of the algorithm.\n"
   ]
  },
  {
   "cell_type": "code",
   "execution_count": 154,
   "id": "d71bb55e-e23e-48ee-b9d5-da004df72b27",
   "metadata": {},
   "outputs": [],
   "source": [
    "# Answer question 1.1 with appropriate option numbers\n",
    "sq1_1 = [1,3,5,6,7] "
   ]
  },
  {
   "cell_type": "markdown",
   "id": "89b0074d-e8b9-4106-9155-bcc44fafd967",
   "metadata": {},
   "source": [
    "The following cells are used for grading."
   ]
  },
  {
   "cell_type": "code",
   "execution_count": null,
   "id": "7c1438ee-92e4-4123-99ae-bd989bfe1b81",
   "metadata": {
    "deletable": false,
    "editable": false,
    "nbgrader": {
     "cell_type": "code",
     "checksum": "068bab37656d0f1f76a988a2d372cdbe",
     "grade": true,
     "grade_id": "cell-4710481b388d34ce",
     "locked": true,
     "points": 3,
     "schema_version": 3,
     "solution": false,
     "task": false
    },
    "tags": []
   },
   "outputs": [],
   "source": []
  },
  {
   "cell_type": "code",
   "execution_count": null,
   "id": "c385229f-7736-4fb2-92d4-c2c62d7ae1ac",
   "metadata": {
    "deletable": false,
    "editable": false,
    "nbgrader": {
     "cell_type": "code",
     "checksum": "5fcbf26c4ff358b5eaf69cab8b563bc5",
     "grade": true,
     "grade_id": "cell-fdd8262ca17746aa",
     "locked": true,
     "points": 3,
     "schema_version": 3,
     "solution": false,
     "task": false
    },
    "tags": []
   },
   "outputs": [],
   "source": []
  },
  {
   "cell_type": "code",
   "execution_count": null,
   "id": "431586b5-619b-43e8-9045-ad0f3f828b05",
   "metadata": {
    "deletable": false,
    "editable": false,
    "nbgrader": {
     "cell_type": "code",
     "checksum": "5c2bba5cef04af5c1c243114c256376d",
     "grade": true,
     "grade_id": "cell-a0a1d58190a1e0f1",
     "locked": true,
     "points": 3,
     "schema_version": 3,
     "solution": false,
     "task": false
    },
    "tags": []
   },
   "outputs": [],
   "source": []
  },
  {
   "cell_type": "code",
   "execution_count": null,
   "id": "6e1699f5-73ef-4eac-9a5a-17708c1d6ccd",
   "metadata": {
    "deletable": false,
    "editable": false,
    "nbgrader": {
     "cell_type": "code",
     "checksum": "c576e4932e49fe2c4cf243edd4035915",
     "grade": true,
     "grade_id": "cell-3343cc12855e6f15",
     "locked": true,
     "points": 3,
     "schema_version": 3,
     "solution": false,
     "task": false
    },
    "tags": []
   },
   "outputs": [],
   "source": []
  },
  {
   "cell_type": "code",
   "execution_count": null,
   "id": "3d789840-2b3e-4a5b-ba87-f9cc01adb538",
   "metadata": {
    "deletable": false,
    "editable": false,
    "nbgrader": {
     "cell_type": "code",
     "checksum": "1414b678f26986c875a98c0184021ba9",
     "grade": true,
     "grade_id": "cell-86090270df654ed6",
     "locked": true,
     "points": 3,
     "schema_version": 3,
     "solution": false,
     "task": false
    },
    "tags": []
   },
   "outputs": [],
   "source": []
  },
  {
   "cell_type": "markdown",
   "id": "bda4d734",
   "metadata": {},
   "source": [
    "# 3. Choosing the value of variance <a id='3.'></a>"
   ]
  },
  {
   "cell_type": "markdown",
   "id": "c34d6f9d",
   "metadata": {},
   "source": [
    "<a id='T2'></a>\n",
    "<div class=\" alert alert-warning\">\n",
    "    <h3><b>Student Task 2.</b> Making Variance a Learnable Parameter (10 points) </h3> \n",
    "\n",
    "Implement the policy’s variance as a learnable parameter of the network and update it during training. Set the initial value $\\sigma_0^2$ to 1. REINFORCE with normalized discounted returns is used for this task.\n",
    "\n",
    "**Complete the unfinished implementation in ```PolicyLearnedVar(nn.Module)``` class (marked with ```TODOs```)**. \n",
    "    \n",
    "    \n",
    "**Hint:** To make your learned variance automatically updated by the optimizer, declare your variable inside the ```__init__``` function of the model using ```torch.nn.Parameter(some_tensor)```. \n",
    "    \n",
    "🔝\t<a href='#TOC'><b>Table of Contents</b></a>\n",
    "</div>\n"
   ]
  },
  {
   "cell_type": "markdown",
   "id": "bbc8f47f",
   "metadata": {},
   "source": [
    "## 3.1 Policy with Learned Variance <a id='3.1'></a>"
   ]
  },
  {
   "cell_type": "code",
   "execution_count": 155,
   "id": "5f38d70b",
   "metadata": {
    "tags": []
   },
   "outputs": [],
   "source": [
    "# Initialisation function for neural network layers\n",
    "def layer_init(layer, std=np.sqrt(2), bias_const=0.0):\n",
    "    torch.nn.init.orthogonal_(layer.weight, std)\n",
    "    torch.nn.init.constant_(layer.bias, bias_const)\n",
    "    return layer\n",
    "\n",
    "\n",
    "# This class defines the neural network policy with learned variance\n",
    "class PolicyLearnedVar(nn.Module):\n",
    "    def __init__(self, state_dim, action_dim):\n",
    "        super(PolicyLearnedVar, self).__init__()\n",
    "\n",
    "        # Initialise a neural network with two hidden layers (64 neurons per layer)\n",
    "        self.actor_mean = nn.Sequential(\n",
    "            layer_init(nn.Linear(state_dim, 64)),\n",
    "            nn.Tanh(),\n",
    "            layer_init(nn.Linear(64, 64)),\n",
    "            nn.Tanh(),\n",
    "            layer_init(nn.Linear(64, action_dim), std=0.01),\n",
    "        )\n",
    "\n",
    "        # TODO: Task 2: Implement actor_logstd as a learnable parameter\n",
    "        # Use log of std to make sure std doesn't become negative during training\n",
    "        ########## Your code starts here. ###########    \n",
    "        self.actor_logstd = nn.Parameter(torch.zeros(action_dim, device=device))\n",
    "\n",
    "        ########## Your code ends here. ##########\n",
    "        \n",
    "    # Do a forward pass to map state to action\n",
    "    def forward(self, state):\n",
    "        # Get mean of a Normal distribution (the output of the neural network)\n",
    "        action_mean = self.actor_mean(state)\n",
    "\n",
    "        # Make sure action_logstd matches dimension of action_mean\n",
    "        action_logstd = self.actor_logstd.expand_as(action_mean)\n",
    "\n",
    "        # Exponentiate the log std to get actual std\n",
    "        action_std = torch.exp(action_logstd)\n",
    "\n",
    "        # TODO: Task 1: Create a Normal distribution with mean of 'action_mean' and standard deviation of 'action_std', and return the distribution\n",
    "        ########## Your code starts here. ###########\n",
    "        probs = torch.distributions.Normal(action_mean, action_std)\n",
    "        ########## Your code ends here. ##########\n",
    "        return probs"
   ]
  },
  {
   "cell_type": "markdown",
   "id": "cbe99408-3caa-43d6-aa52-652c9e1b88fe",
   "metadata": {},
   "source": [
    "Initialize the `PG` class to construct the neural network policy. Continue to employ the `get_action` function, as outlined in Task 1."
   ]
  },
  {
   "cell_type": "code",
   "execution_count": 156,
   "id": "304d7def-5ad3-461e-a2c6-216157833223",
   "metadata": {
    "tags": []
   },
   "outputs": [],
   "source": [
    "# Class for the Policy Gradient algorithm\n",
    "class PGLearnedVar(PGNormalized):\n",
    "    def __init__(self, state_dim, action_dim, lr, gamma):\n",
    "        super().__init__(state_dim, action_dim, lr, gamma)\n",
    "        \n",
    "        # TODO: Task 2: Define the neural network policy (self.policy) with learned variance.\n",
    "        self.policy = None\n",
    "        ########## Your code starts here. ###########  \n",
    "        self.policy = PolicyLearnedVar(state_dim, action_dim).to(device)\n",
    "        ########## Your code ends here. ##########\n",
    "\n",
    "        # Create an optimizer\n",
    "        self.optimizer = torch.optim.Adam(self.policy.parameters(), lr=lr)"
   ]
  },
  {
   "cell_type": "code",
   "execution_count": 157,
   "id": "6b7c5cac-1e2f-4224-a503-bc1e27871a09",
   "metadata": {
    "tags": []
   },
   "outputs": [
    {
     "name": "stdout",
     "output_type": "stream",
     "text": [
      "Numpy/Torch/Random Seed:  22\n"
     ]
    },
    {
     "ename": "AttributeError",
     "evalue": "'PolicyLearnedVar' object has no attribute 'actor_logstd'",
     "output_type": "error",
     "traceback": [
      "\u001b[0;31m---------------------------------------------------------------------------\u001b[0m",
      "\u001b[0;31mAttributeError\u001b[0m                            Traceback (most recent call last)",
      "Cell \u001b[0;32mIn[157], line 2\u001b[0m\n\u001b[1;32m      1\u001b[0m \u001b[38;5;28;01mif\u001b[39;00m \u001b[38;5;129;01mnot\u001b[39;00m skip_training:\n\u001b[0;32m----> 2\u001b[0m     \u001b[43mtrain\u001b[49m\u001b[43m(\u001b[49m\u001b[43mPGLearnedVar\u001b[49m\u001b[43m,\u001b[49m\u001b[43m \u001b[49m\u001b[43mcfg_path\u001b[49m\u001b[38;5;241;43m=\u001b[39;49m\u001b[43mPath\u001b[49m\u001b[43m(\u001b[49m\u001b[43m)\u001b[49m\u001b[38;5;241;43m.\u001b[39;49m\u001b[43mcwd\u001b[49m\u001b[43m(\u001b[49m\u001b[43m)\u001b[49m\u001b[43m \u001b[49m\u001b[38;5;241;43m/\u001b[39;49m\u001b[43m \u001b[49m\u001b[38;5;124;43m'\u001b[39;49m\u001b[38;5;124;43mcfg\u001b[39;49m\u001b[38;5;124;43m'\u001b[39;49m\u001b[43m \u001b[49m\u001b[38;5;241;43m/\u001b[39;49m\u001b[43m \u001b[49m\u001b[38;5;124;43m'\u001b[39;49m\u001b[38;5;124;43minverted_pendulum.yaml\u001b[39;49m\u001b[38;5;124;43m'\u001b[39;49m\u001b[43m,\u001b[49m\u001b[43m \u001b[49m\u001b[43mcfg_args\u001b[49m\u001b[38;5;241;43m=\u001b[39;49m\u001b[38;5;28;43mdict\u001b[39;49m\u001b[43m(\u001b[49m\u001b[43mmodel_name\u001b[49m\u001b[38;5;241;43m=\u001b[39;49m\u001b[38;5;124;43m\"\u001b[39;49m\u001b[38;5;124;43mPGLearnedVar\u001b[39;49m\u001b[38;5;124;43m\"\u001b[39;49m\u001b[43m)\u001b[49m\u001b[43m)\u001b[49m \u001b[38;5;66;03m# < 10 mins\u001b[39;00m\n",
      "Cell \u001b[0;32mIn[141], line 77\u001b[0m, in \u001b[0;36mtrain\u001b[0;34m(agent_class, cfg_path, cfg_args)\u001b[0m\n\u001b[1;32m     73\u001b[0m agent \u001b[38;5;241m=\u001b[39m agent_class(state_dim, action_dim, \u001b[38;5;28mfloat\u001b[39m(cfg\u001b[38;5;241m.\u001b[39mlr), \u001b[38;5;28mfloat\u001b[39m(cfg\u001b[38;5;241m.\u001b[39mgamma))\n\u001b[1;32m     75\u001b[0m \u001b[38;5;28;01mfor\u001b[39;00m ep \u001b[38;5;129;01min\u001b[39;00m \u001b[38;5;28mrange\u001b[39m(cfg\u001b[38;5;241m.\u001b[39mtrain_episodes):\n\u001b[1;32m     76\u001b[0m     \u001b[38;5;66;03m# collect data and update the policy\u001b[39;00m\n\u001b[0;32m---> 77\u001b[0m     train_info \u001b[38;5;241m=\u001b[39m \u001b[43mtrain_iteration\u001b[49m\u001b[43m(\u001b[49m\u001b[43magent\u001b[49m\u001b[43m,\u001b[49m\u001b[43m \u001b[49m\u001b[43menv\u001b[49m\u001b[43m)\u001b[49m\n\u001b[1;32m     78\u001b[0m     train_info\u001b[38;5;241m.\u001b[39mupdate({\u001b[38;5;124m'\u001b[39m\u001b[38;5;124mepisodes\u001b[39m\u001b[38;5;124m'\u001b[39m: ep})\n\u001b[1;32m     80\u001b[0m     \u001b[38;5;28;01mif\u001b[39;00m cfg\u001b[38;5;241m.\u001b[39msave_logging:\n",
      "Cell \u001b[0;32mIn[141], line 31\u001b[0m, in \u001b[0;36mtrain_iteration\u001b[0;34m(agent, env)\u001b[0m\n\u001b[1;32m     17\u001b[0m obs, _ \u001b[38;5;241m=\u001b[39m env\u001b[38;5;241m.\u001b[39mreset(seed\u001b[38;5;241m=\u001b[39m\u001b[38;5;241m409\u001b[39m)\n\u001b[1;32m     19\u001b[0m \u001b[38;5;28;01mwhile\u001b[39;00m \u001b[38;5;129;01mnot\u001b[39;00m done:\n\u001b[1;32m     20\u001b[0m     \u001b[38;5;66;03m# TODO: Task 1: finish the train loop, including \u001b[39;00m\n\u001b[1;32m     21\u001b[0m     \u001b[38;5;66;03m# 1. Call agent.get_action to get action and log prob of the action\u001b[39;00m\n\u001b[0;32m   (...)\u001b[0m\n\u001b[1;32m     29\u001b[0m     \u001b[38;5;66;03m########### Your code starts here ###########\u001b[39;00m\n\u001b[1;32m     30\u001b[0m     \u001b[38;5;66;03m# Get action from the agent\u001b[39;00m\n\u001b[0;32m---> 31\u001b[0m     action, log_prob \u001b[38;5;241m=\u001b[39m \u001b[43magent\u001b[49m\u001b[38;5;241;43m.\u001b[39;49m\u001b[43mget_action\u001b[49m\u001b[43m(\u001b[49m\u001b[43mobs\u001b[49m\u001b[43m)\u001b[49m\n\u001b[1;32m     33\u001b[0m     \u001b[38;5;66;03m# Perform the action on the environment, get new state and reward\u001b[39;00m\n\u001b[1;32m     34\u001b[0m     new_obs, reward, done, _, _ \u001b[38;5;241m=\u001b[39m env\u001b[38;5;241m.\u001b[39mstep(to_numpy(action))\n",
      "Cell \u001b[0;32mIn[144], line 49\u001b[0m, in \u001b[0;36mPG.get_action\u001b[0;34m(self, observation, evaluation)\u001b[0m\n\u001b[1;32m     39\u001b[0m x \u001b[38;5;241m=\u001b[39m torch\u001b[38;5;241m.\u001b[39mfrom_numpy(observation)\u001b[38;5;241m.\u001b[39mfloat()\u001b[38;5;241m.\u001b[39mto(device)\n\u001b[1;32m     41\u001b[0m \u001b[38;5;66;03m# TODO: Task 1: Calculate action and its log_prob\u001b[39;00m\n\u001b[1;32m     42\u001b[0m \u001b[38;5;66;03m########## Your code starts here. ###########\u001b[39;00m\n\u001b[1;32m     43\u001b[0m \u001b[38;5;66;03m# Hint: \u001b[39;00m\n\u001b[0;32m   (...)\u001b[0m\n\u001b[1;32m     47\u001b[0m \n\u001b[1;32m     48\u001b[0m \u001b[38;5;66;03m# Pass state x through the policy network (T1)\u001b[39;00m\n\u001b[0;32m---> 49\u001b[0m probs \u001b[38;5;241m=\u001b[39m \u001b[38;5;28;43mself\u001b[39;49m\u001b[38;5;241;43m.\u001b[39;49m\u001b[43mpolicy\u001b[49m\u001b[43m(\u001b[49m\u001b[43mx\u001b[49m\u001b[43m)\u001b[49m\n\u001b[1;32m     51\u001b[0m \u001b[38;5;66;03m# Return mean if evaluation, else sample from the distribution\u001b[39;00m\n\u001b[1;32m     52\u001b[0m \u001b[38;5;28;01mif\u001b[39;00m evaluation:\n",
      "File \u001b[0;32m/opt/software/lib/python3.10/site-packages/torch/nn/modules/module.py:1518\u001b[0m, in \u001b[0;36mModule._wrapped_call_impl\u001b[0;34m(self, *args, **kwargs)\u001b[0m\n\u001b[1;32m   1516\u001b[0m     \u001b[38;5;28;01mreturn\u001b[39;00m \u001b[38;5;28mself\u001b[39m\u001b[38;5;241m.\u001b[39m_compiled_call_impl(\u001b[38;5;241m*\u001b[39margs, \u001b[38;5;241m*\u001b[39m\u001b[38;5;241m*\u001b[39mkwargs)  \u001b[38;5;66;03m# type: ignore[misc]\u001b[39;00m\n\u001b[1;32m   1517\u001b[0m \u001b[38;5;28;01melse\u001b[39;00m:\n\u001b[0;32m-> 1518\u001b[0m     \u001b[38;5;28;01mreturn\u001b[39;00m \u001b[38;5;28;43mself\u001b[39;49m\u001b[38;5;241;43m.\u001b[39;49m\u001b[43m_call_impl\u001b[49m\u001b[43m(\u001b[49m\u001b[38;5;241;43m*\u001b[39;49m\u001b[43margs\u001b[49m\u001b[43m,\u001b[49m\u001b[43m \u001b[49m\u001b[38;5;241;43m*\u001b[39;49m\u001b[38;5;241;43m*\u001b[39;49m\u001b[43mkwargs\u001b[49m\u001b[43m)\u001b[49m\n",
      "File \u001b[0;32m/opt/software/lib/python3.10/site-packages/torch/nn/modules/module.py:1527\u001b[0m, in \u001b[0;36mModule._call_impl\u001b[0;34m(self, *args, **kwargs)\u001b[0m\n\u001b[1;32m   1522\u001b[0m \u001b[38;5;66;03m# If we don't have any hooks, we want to skip the rest of the logic in\u001b[39;00m\n\u001b[1;32m   1523\u001b[0m \u001b[38;5;66;03m# this function, and just call forward.\u001b[39;00m\n\u001b[1;32m   1524\u001b[0m \u001b[38;5;28;01mif\u001b[39;00m \u001b[38;5;129;01mnot\u001b[39;00m (\u001b[38;5;28mself\u001b[39m\u001b[38;5;241m.\u001b[39m_backward_hooks \u001b[38;5;129;01mor\u001b[39;00m \u001b[38;5;28mself\u001b[39m\u001b[38;5;241m.\u001b[39m_backward_pre_hooks \u001b[38;5;129;01mor\u001b[39;00m \u001b[38;5;28mself\u001b[39m\u001b[38;5;241m.\u001b[39m_forward_hooks \u001b[38;5;129;01mor\u001b[39;00m \u001b[38;5;28mself\u001b[39m\u001b[38;5;241m.\u001b[39m_forward_pre_hooks\n\u001b[1;32m   1525\u001b[0m         \u001b[38;5;129;01mor\u001b[39;00m _global_backward_pre_hooks \u001b[38;5;129;01mor\u001b[39;00m _global_backward_hooks\n\u001b[1;32m   1526\u001b[0m         \u001b[38;5;129;01mor\u001b[39;00m _global_forward_hooks \u001b[38;5;129;01mor\u001b[39;00m _global_forward_pre_hooks):\n\u001b[0;32m-> 1527\u001b[0m     \u001b[38;5;28;01mreturn\u001b[39;00m \u001b[43mforward_call\u001b[49m\u001b[43m(\u001b[49m\u001b[38;5;241;43m*\u001b[39;49m\u001b[43margs\u001b[49m\u001b[43m,\u001b[49m\u001b[43m \u001b[49m\u001b[38;5;241;43m*\u001b[39;49m\u001b[38;5;241;43m*\u001b[39;49m\u001b[43mkwargs\u001b[49m\u001b[43m)\u001b[49m\n\u001b[1;32m   1529\u001b[0m \u001b[38;5;28;01mtry\u001b[39;00m:\n\u001b[1;32m   1530\u001b[0m     result \u001b[38;5;241m=\u001b[39m \u001b[38;5;28;01mNone\u001b[39;00m\n",
      "Cell \u001b[0;32mIn[155], line 35\u001b[0m, in \u001b[0;36mPolicyLearnedVar.forward\u001b[0;34m(self, state)\u001b[0m\n\u001b[1;32m     32\u001b[0m action_mean \u001b[38;5;241m=\u001b[39m \u001b[38;5;28mself\u001b[39m\u001b[38;5;241m.\u001b[39mactor_mean(state)\n\u001b[1;32m     34\u001b[0m \u001b[38;5;66;03m# Make sure action_logstd matches dimension of action_mean\u001b[39;00m\n\u001b[0;32m---> 35\u001b[0m action_logstd \u001b[38;5;241m=\u001b[39m \u001b[38;5;28;43mself\u001b[39;49m\u001b[38;5;241;43m.\u001b[39;49m\u001b[43mactor_logstd\u001b[49m\u001b[38;5;241m.\u001b[39mexpand_as(action_mean)\n\u001b[1;32m     37\u001b[0m \u001b[38;5;66;03m# Exponentiate the log std to get actual std\u001b[39;00m\n\u001b[1;32m     38\u001b[0m action_std \u001b[38;5;241m=\u001b[39m torch\u001b[38;5;241m.\u001b[39mexp(action_logstd)\n",
      "File \u001b[0;32m/opt/software/lib/python3.10/site-packages/torch/nn/modules/module.py:1695\u001b[0m, in \u001b[0;36mModule.__getattr__\u001b[0;34m(self, name)\u001b[0m\n\u001b[1;32m   1693\u001b[0m     \u001b[38;5;28;01mif\u001b[39;00m name \u001b[38;5;129;01min\u001b[39;00m modules:\n\u001b[1;32m   1694\u001b[0m         \u001b[38;5;28;01mreturn\u001b[39;00m modules[name]\n\u001b[0;32m-> 1695\u001b[0m \u001b[38;5;28;01mraise\u001b[39;00m \u001b[38;5;167;01mAttributeError\u001b[39;00m(\u001b[38;5;124mf\u001b[39m\u001b[38;5;124m\"\u001b[39m\u001b[38;5;124m'\u001b[39m\u001b[38;5;132;01m{\u001b[39;00m\u001b[38;5;28mtype\u001b[39m(\u001b[38;5;28mself\u001b[39m)\u001b[38;5;241m.\u001b[39m\u001b[38;5;18m__name__\u001b[39m\u001b[38;5;132;01m}\u001b[39;00m\u001b[38;5;124m'\u001b[39m\u001b[38;5;124m object has no attribute \u001b[39m\u001b[38;5;124m'\u001b[39m\u001b[38;5;132;01m{\u001b[39;00mname\u001b[38;5;132;01m}\u001b[39;00m\u001b[38;5;124m'\u001b[39m\u001b[38;5;124m\"\u001b[39m)\n",
      "\u001b[0;31mAttributeError\u001b[0m: 'PolicyLearnedVar' object has no attribute 'actor_logstd'"
     ]
    }
   ],
   "source": [
    "if not skip_training:\n",
    "    train(PGLearnedVar, cfg_path=Path().cwd() / 'cfg' / 'inverted_pendulum.yaml', cfg_args=dict(model_name=\"PGLearnedVar\")) # < 10 mins"
   ]
  },
  {
   "cell_type": "code",
   "execution_count": null,
   "id": "6b3d4bbd-9d79-4e23-a92a-d593a192a2c7",
   "metadata": {
    "tags": []
   },
   "outputs": [],
   "source": [
    "if not skip_training:\n",
    "    test(PGLearnedVar, cfg_path=Path().cwd() / 'cfg' / 'inverted_pendulum.yaml', cfg_args=dict(model_name=\"PGLearnedVar\", save_video=True, testing=True))"
   ]
  },
  {
   "cell_type": "code",
   "execution_count": null,
   "id": "1afce7ed",
   "metadata": {
    "deletable": false,
    "editable": false,
    "nbgrader": {
     "cell_type": "code",
     "checksum": "488b0594c6a0bc7114212e08886456da",
     "grade": true,
     "grade_id": "cell-b30e0b4e722242a6",
     "locked": true,
     "points": 2,
     "schema_version": 3,
     "solution": false,
     "task": false
    }
   },
   "outputs": [],
   "source": []
  },
  {
   "cell_type": "code",
   "execution_count": null,
   "id": "c765232f",
   "metadata": {
    "deletable": false,
    "editable": false,
    "nbgrader": {
     "cell_type": "code",
     "checksum": "3ab5d3ddd4f03fbc59870f78a083f9bf",
     "grade": true,
     "grade_id": "cell-cfe147d31b546e45",
     "locked": true,
     "points": 8,
     "schema_version": 3,
     "solution": false,
     "task": false
    }
   },
   "outputs": [],
   "source": []
  },
  {
   "cell_type": "code",
   "execution_count": null,
   "id": "da748d77-46d5-4597-b2f9-d9885ca24e6a",
   "metadata": {
    "tags": []
   },
   "outputs": [],
   "source": [
    "if not skip_training:\n",
    "    video = Video(Path().cwd() / 'results' / 'InvertedPendulum-v4' / 'video' / 'test' / 'ex5-episode-0.mp4',\n",
    "    embed=True, html_attributes=\"loop autoplay\") # Set html_attributes=\"controls\" for video control\n",
    "    display(video)"
   ]
  },
  {
   "cell_type": "markdown",
   "id": "6b3294a4",
   "metadata": {
    "deletable": false,
    "editable": false,
    "nbgrader": {
     "cell_type": "markdown",
     "checksum": "fab39c6fa2607a23e24d1db8c8081c5a",
     "grade": false,
     "grade_id": "cell-f5cbd8946325f4b7",
     "locked": true,
     "schema_version": 3,
     "solution": false,
     "task": false
    }
   },
   "source": [
    "<a id='Q2'></a>\n",
    "<div class=\" alert alert-warning\">\n",
    "    <h3><b>Student Question 2.1</b> Constant vs Learnable Variance (5 points) </h3> \n",
    "\n",
    "Which of the following statements accurately describe the strengths and weaknesses of using constant variance vs. learning the variance during training? **Select 5 options.**      \n",
    "🔝\t<a href='#TOC'><b>Table of Contents</b></a>\n",
    "</div>"
   ]
  },
  {
   "cell_type": "markdown",
   "id": "ebc0af92-69e2-4092-8e09-d070351e2fde",
   "metadata": {
    "deletable": false,
    "editable": false,
    "nbgrader": {
     "cell_type": "markdown",
     "checksum": "9f9b59308ffd6714780a24779a21a972",
     "grade": false,
     "grade_id": "cell-5e9bfdef15f9a0fb",
     "locked": true,
     "schema_version": 3,
     "solution": false,
     "task": false
    },
    "tags": []
   },
   "source": [
    "Options:\n",
    "\n",
    "1. Variance is directly tied to exploration, with greater variance leading to more random actions and more exploration. \n",
    "2.  Learned variance always leads to better results than constant variance. \n",
    "3.  Constant variance is a simple solution that guarantees a certain level of exploration throughout training. \n",
    "4.  If constant variance is set too low, it can result in faster convergence to the optimal policy. \n",
    "5.  If the constant variance is set too high, it can handle very challenging environments by seeing through the randomness in selected actions.\n",
    "6.  Learning the variance allows the agent to adapt its exploration needs throughout training. \n",
    "7. Constant variance makes it possible for the agent to explore more at the beginning and less as the policy improves. \n",
    "8. Learning the variance can potentially reduce variance when actions are good and increase it when actions are bad. \n",
    "9. Understanding how learned variance behaves during optimization can be challenging.\n",
    "10. Constant variance is computationally more expensive than learned variance.\n"
   ]
  },
  {
   "cell_type": "code",
   "execution_count": null,
   "id": "43eb71f9-232a-4ab7-97e3-31972a7cb343",
   "metadata": {},
   "outputs": [],
   "source": [
    "# Answer question 2.1 with appropriate option numbers\n",
    "sq2_1 = [1,3,6,8,9] "
   ]
  },
  {
   "cell_type": "markdown",
   "id": "296320f9-3b14-4edc-b5f2-597a094e171d",
   "metadata": {
    "deletable": false,
    "editable": false,
    "nbgrader": {
     "cell_type": "markdown",
     "checksum": "d13eefd0d63d1ff18a00323cef460153",
     "grade": false,
     "grade_id": "cell-4cf801eac92a3b19",
     "locked": true,
     "schema_version": 3,
     "solution": false,
     "task": false
    },
    "tags": []
   },
   "source": [
    "The following cells are used for grading."
   ]
  },
  {
   "cell_type": "code",
   "execution_count": null,
   "id": "c2333a4c-697c-4875-9885-e63284af3f2c",
   "metadata": {
    "deletable": false,
    "editable": false,
    "nbgrader": {
     "cell_type": "code",
     "checksum": "683b1f0671b478fec843b6e7163a15ca",
     "grade": true,
     "grade_id": "cell-ae37e0b98565323f",
     "locked": true,
     "points": 1,
     "schema_version": 3,
     "solution": false,
     "task": false
    },
    "tags": []
   },
   "outputs": [],
   "source": []
  },
  {
   "cell_type": "code",
   "execution_count": null,
   "id": "2d053c6e-6e65-4aec-ae9d-45ddb4cc3f13",
   "metadata": {
    "deletable": false,
    "editable": false,
    "nbgrader": {
     "cell_type": "code",
     "checksum": "ae84c5dba0956a86e0f1a806c86e0af1",
     "grade": true,
     "grade_id": "cell-a72089ecec4f5632",
     "locked": true,
     "points": 1,
     "schema_version": 3,
     "solution": false,
     "task": false
    },
    "tags": []
   },
   "outputs": [],
   "source": []
  },
  {
   "cell_type": "code",
   "execution_count": null,
   "id": "71edfd5d-e17f-4eda-a717-9e44120af0e1",
   "metadata": {
    "deletable": false,
    "editable": false,
    "nbgrader": {
     "cell_type": "code",
     "checksum": "c189d5b475c6cced735a5314611c4f21",
     "grade": true,
     "grade_id": "cell-9e5f8847acea74a7",
     "locked": true,
     "points": 1,
     "schema_version": 3,
     "solution": false,
     "task": false
    },
    "tags": []
   },
   "outputs": [],
   "source": []
  },
  {
   "cell_type": "code",
   "execution_count": null,
   "id": "e55b5584-6503-4fdb-8114-cc405a144043",
   "metadata": {
    "deletable": false,
    "editable": false,
    "nbgrader": {
     "cell_type": "code",
     "checksum": "115d571744e4b698680e42ef44a6a9f1",
     "grade": true,
     "grade_id": "cell-2be5408389da2f22",
     "locked": true,
     "points": 1,
     "schema_version": 3,
     "solution": false,
     "task": false
    },
    "tags": []
   },
   "outputs": [],
   "source": []
  },
  {
   "cell_type": "code",
   "execution_count": null,
   "id": "be5d5f33-0196-4a05-ab15-c14611e24329",
   "metadata": {
    "deletable": false,
    "editable": false,
    "nbgrader": {
     "cell_type": "code",
     "checksum": "bff3925d27a08b1abb8436e8f9a2087a",
     "grade": true,
     "grade_id": "cell-e990636f285b1fc3",
     "locked": true,
     "points": 1,
     "schema_version": 3,
     "solution": false,
     "task": false
    },
    "tags": []
   },
   "outputs": [],
   "source": []
  },
  {
   "cell_type": "markdown",
   "id": "0f701ff9",
   "metadata": {
    "deletable": false,
    "editable": false,
    "nbgrader": {
     "cell_type": "markdown",
     "checksum": "c782d710199b9b152f240bc37bc10069",
     "grade": false,
     "grade_id": "cell-e68f1d1241b5f955",
     "locked": true,
     "schema_version": 3,
     "solution": false,
     "task": false
    }
   },
   "source": [
    "<a id='Q3'></a>\n",
    "<div class=\" alert alert-warning\">\n",
    "    <h3><b>Student Question 2.2</b> Learnable Variance Initial Performance (5 points) </h3> \n",
    "\n",
    "In the case of learned variance, what are the impacts of initialization on the training performance? **Select 4 options.**\n",
    "\n",
    "🔝\t<a href='#TOC'><b>Table of Contents</b></a>\n",
    "</div>"
   ]
  },
  {
   "cell_type": "markdown",
   "id": "80ffb191-91ed-411a-84db-cdba261fabb1",
   "metadata": {
    "deletable": false,
    "editable": false,
    "nbgrader": {
     "cell_type": "markdown",
     "checksum": "c5d5279967303ed7150ab5b034687350",
     "grade": false,
     "grade_id": "cell-0b76bf2aa4735495",
     "locked": true,
     "schema_version": 3,
     "solution": false,
     "task": false
    },
    "tags": []
   },
   "source": [
    "Options:\n",
    "    \n",
    "1. A larger initial value allows for more exploration at the beginning of training. \n",
    "2. A lower initial value tends to favor exploitation over exploration initially. \n",
    "3. The initial variance value has no impact on the final performance of the trained policy. \n",
    "4. If the initial value is too low or too high, training can be slower and may require more data. \n",
    "5. A high initial variance leads to better final performance regardless of the task. \n",
    "6. The impact of the initial variance diminishes as training progresses and the variance is learned. \n",
    "7. The optimal initial variance can be theoretically calculated for any given task. \n",
    "8. If the variance decreases too rapidly, the optimizer might become trapped in a local minimum.\n",
    "9. Changing the initial variance is equivalent to adjusting the learning rate of the optimizer. \n",
    "10. The initial variance affects only the beginning of training.\n"
   ]
  },
  {
   "cell_type": "code",
   "execution_count": null,
   "id": "1ffebac0-8432-44a4-bfde-7b985e21fec2",
   "metadata": {},
   "outputs": [],
   "source": [
    "# Answer question 2.2 with appropriate option numbers\n",
    "sq2_2 = [1,2,4,8] "
   ]
  },
  {
   "cell_type": "markdown",
   "id": "4be1c98b-8e1a-45a0-988d-d9b386a24f39",
   "metadata": {
    "deletable": false,
    "editable": false,
    "nbgrader": {
     "cell_type": "markdown",
     "checksum": "d825ca8e2bb7a90eac70fa0a503f7cb4",
     "grade": false,
     "grade_id": "cell-76f57b4b47186121",
     "locked": true,
     "schema_version": 3,
     "solution": false,
     "task": false
    },
    "tags": []
   },
   "source": [
    "The following cells are used for grading."
   ]
  },
  {
   "cell_type": "code",
   "execution_count": null,
   "id": "52fc11d0-fd01-463d-8283-5af574797c1d",
   "metadata": {
    "deletable": false,
    "editable": false,
    "nbgrader": {
     "cell_type": "code",
     "checksum": "f38b6c0f01a00ce34763c3d48b24ca73",
     "grade": true,
     "grade_id": "cell-09b718ecfbe32325",
     "locked": true,
     "points": 1,
     "schema_version": 3,
     "solution": false,
     "task": false
    },
    "tags": []
   },
   "outputs": [],
   "source": []
  },
  {
   "cell_type": "code",
   "execution_count": null,
   "id": "2709dfb7-56be-495d-803e-852110f47093",
   "metadata": {
    "deletable": false,
    "editable": false,
    "nbgrader": {
     "cell_type": "code",
     "checksum": "2a50c0ba4f2bf587aa935a79073d06e1",
     "grade": true,
     "grade_id": "cell-763f34edc660252e",
     "locked": true,
     "points": 1,
     "schema_version": 3,
     "solution": false,
     "task": false
    },
    "tags": []
   },
   "outputs": [],
   "source": []
  },
  {
   "cell_type": "code",
   "execution_count": null,
   "id": "bff6107a-023d-461e-968d-1e17449f64d7",
   "metadata": {
    "deletable": false,
    "editable": false,
    "nbgrader": {
     "cell_type": "code",
     "checksum": "32452fdda00d718cc0baaa7fb394651e",
     "grade": true,
     "grade_id": "cell-98c29f8b68e66232",
     "locked": true,
     "points": 1,
     "schema_version": 3,
     "solution": false,
     "task": false
    },
    "tags": []
   },
   "outputs": [],
   "source": []
  },
  {
   "cell_type": "code",
   "execution_count": null,
   "id": "25bbc19b-e340-42d0-a7ee-ab05a2ad92b8",
   "metadata": {
    "deletable": false,
    "editable": false,
    "nbgrader": {
     "cell_type": "code",
     "checksum": "5785645c12767d416dc6ddfed99efa21",
     "grade": true,
     "grade_id": "cell-9c9e78138da8d51d",
     "locked": true,
     "points": 2,
     "schema_version": 3,
     "solution": false,
     "task": false
    },
    "tags": []
   },
   "outputs": [],
   "source": []
  },
  {
   "cell_type": "markdown",
   "id": "e341103b",
   "metadata": {},
   "source": [
    "# 4. PG and experience replay <a id='4.'></a>"
   ]
  },
  {
   "cell_type": "markdown",
   "id": "6112bc95",
   "metadata": {
    "deletable": false,
    "editable": false,
    "nbgrader": {
     "cell_type": "markdown",
     "checksum": "6a68688c7ef8e04344930af37d7c63f2",
     "grade": false,
     "grade_id": "cell-6cb5eeda51f1d4eb",
     "locked": true,
     "schema_version": 3,
     "solution": false,
     "task": false
    },
    "tags": []
   },
   "source": [
    "<a id='Q4'></a>\n",
    "<div class=\" alert alert-warning\">\n",
    "    <h3><b>Student Question 3.</b> Considering an experience replay buffer (15 points) </h3> \n",
    "\n",
    "Why can't the REINFORCE method implemented in this exercise be directly used with experience replay? Which steps of the algorithm would be problematic, and how could these issues potentially be resolved? **Select 4 options.**\n",
    "\n",
    "🔝\t<a href='#TOC'><b>Table of Contents</b></a>\n",
    "</div>"
   ]
  },
  {
   "cell_type": "markdown",
   "id": "ea0ea7f0-69a6-47f8-a46a-bb010300d0e1",
   "metadata": {
    "deletable": false,
    "editable": false,
    "nbgrader": {
     "cell_type": "markdown",
     "checksum": "698fb1e0819100c4f301814e570244df",
     "grade": false,
     "grade_id": "cell-adb8f569068522a3",
     "locked": true,
     "schema_version": 3,
     "solution": false,
     "task": false
    },
    "tags": []
   },
   "source": [
    "Options:\n",
    "\n",
    "1.  REINFORCE is inherently off-policy and can be directly used with experience replay without modifications. \n",
    "2.  REINFORCE is an on-policy method, making it incompatible with off-policy data from a replay buffer. \n",
    "3. The problematic step is in the policy evaluation process, as the stored rewards may not reflect the current policy's performance.\n",
    "4.  The problem can be mitigated by frequently updating the replay buffer with experiences from more recent policies.\n",
    "5.  The expectation of the gradient must be calculated over the current policy in REINFORCE. \n",
    "6.  REINFORCE requires sequential data, which is disrupted by the random sampling in experience replay. \n",
    "7.  Computing the expectation term is difficult with experiences from policies other than the current one. \n",
    "8.  There is no way to use REINFORCE with experience replay under any circumstances.\n",
    "9.  Importance sampling can be used to estimate the gradients and potentially resolve the issue. \n"
   ]
  },
  {
   "cell_type": "code",
   "execution_count": null,
   "id": "00d2bf15-930e-4689-898b-d6a529174d21",
   "metadata": {},
   "outputs": [],
   "source": [
    "# Answer question 3 with appropriate option numbers\n",
    "sq3 = [2,5,7,9] "
   ]
  },
  {
   "cell_type": "markdown",
   "id": "5c820539-91be-40c3-9721-f3aecf0d7c71",
   "metadata": {
    "deletable": false,
    "editable": false,
    "nbgrader": {
     "cell_type": "markdown",
     "checksum": "3f9f72a20005df02b60eacdf9cd800a1",
     "grade": false,
     "grade_id": "cell-a7b8cbb0c7ee79bf",
     "locked": true,
     "schema_version": 3,
     "solution": false,
     "task": false
    },
    "tags": []
   },
   "source": [
    "The following cells are used for grading."
   ]
  },
  {
   "cell_type": "code",
   "execution_count": null,
   "id": "a395615e-0977-42fc-97b2-0067d9daf743",
   "metadata": {
    "deletable": false,
    "editable": false,
    "nbgrader": {
     "cell_type": "code",
     "checksum": "4413fbf9a4117123de48bdff40d8edb5",
     "grade": true,
     "grade_id": "cell-888f793f50035df5",
     "locked": true,
     "points": 4,
     "schema_version": 3,
     "solution": false,
     "task": false
    },
    "tags": []
   },
   "outputs": [],
   "source": []
  },
  {
   "cell_type": "code",
   "execution_count": null,
   "id": "62f6467d-1b3e-4990-8d6b-5710d8f43cd4",
   "metadata": {
    "deletable": false,
    "editable": false,
    "nbgrader": {
     "cell_type": "code",
     "checksum": "82a27507e21e239487f9dbc71b70113f",
     "grade": true,
     "grade_id": "cell-c1e5b1ebabd15135",
     "locked": true,
     "points": 4,
     "schema_version": 3,
     "solution": false,
     "task": false
    },
    "tags": []
   },
   "outputs": [],
   "source": []
  },
  {
   "cell_type": "code",
   "execution_count": null,
   "id": "7f2e6daf-15bb-44b9-8613-ad1c420f248a",
   "metadata": {
    "deletable": false,
    "editable": false,
    "nbgrader": {
     "cell_type": "code",
     "checksum": "3151594ac1e83351cd877b808e0b3c67",
     "grade": true,
     "grade_id": "cell-a4e0e03a88560f44",
     "locked": true,
     "points": 4,
     "schema_version": 3,
     "solution": false,
     "task": false
    },
    "tags": []
   },
   "outputs": [],
   "source": []
  },
  {
   "cell_type": "code",
   "execution_count": null,
   "id": "ac8de0c6-3e96-477f-a6f2-f14ba043f29d",
   "metadata": {
    "deletable": false,
    "editable": false,
    "nbgrader": {
     "cell_type": "code",
     "checksum": "fb61e4be1d3786c02d82e25aa17d5550",
     "grade": true,
     "grade_id": "cell-89819ab91b6882b0",
     "locked": true,
     "points": 3,
     "schema_version": 3,
     "solution": false,
     "task": false
    },
    "tags": []
   },
   "outputs": [],
   "source": []
  },
  {
   "cell_type": "markdown",
   "id": "a7b67d36",
   "metadata": {},
   "source": [
    "# 5. Real-world control problems <a id='5.'></a>"
   ]
  },
  {
   "cell_type": "markdown",
   "id": "3731e57a",
   "metadata": {
    "deletable": false,
    "editable": false,
    "nbgrader": {
     "cell_type": "markdown",
     "checksum": "b0ba52a4c04c3e5a61b1b086f6e08642",
     "grade": false,
     "grade_id": "cell-4cf495dce20c4b84",
     "locked": true,
     "schema_version": 3,
     "solution": false,
     "task": false
    }
   },
   "source": [
    "<a id='Q5'></a>\n",
    "<div class=\" alert alert-warning\">\n",
    "    <h3><b>Student Question 4.1</b> Considering an unbounded continuous action space part 1 (5 points) </h3> \n",
    "\n",
    "What could go wrong when a model with an **unbounded** continuous action space and a reward function like the one used here (+1 for survival) were to be used with a physical system? **Select 5 options.**\n",
    "\n",
    "\n",
    "🔝\t<a href='#TOC'><b>Table of Contents</b></a>\n",
    "</div>"
   ]
  },
  {
   "cell_type": "markdown",
   "id": "490748e0-4af6-46c7-8c1f-bd49b17b4988",
   "metadata": {
    "deletable": false,
    "editable": false,
    "nbgrader": {
     "cell_type": "markdown",
     "checksum": "55f365842c25299d768ad29135696fc7",
     "grade": false,
     "grade_id": "cell-bd5793f602cb1128",
     "locked": true,
     "schema_version": 3,
     "solution": false,
     "task": false
    },
    "tags": []
   },
   "source": [
    "Options:\n",
    "    \n",
    "1. The agent would always converge to the most energy-efficient actions to ensure long-term survival. \n",
    "2. The agent might take extreme actions that could damage the physical hardware. \n",
    "3. The simple reward function would lead to slow learning but no physical dangers. \n",
    "4.  The model would naturally avoid extreme actions due to the survival instinct encoded in the reward. \n",
    "5.  The model could apply unrealistically large inputs (e.g., voltages) to system components. \n",
    "6.  The main issue would be the computational cost of handling unlimited actions, not physical dangers.\n",
    "7.  The agent might cause damage to the surroundings of the physical system. \n",
    "8.  The unbounded action space could lead to unsafe operating conditions for the system. \n",
    "9.  The model might learn to exploit the reward function by finding unintended shortcuts to survival. \n",
    "10.  Unbounded continuous action spaces guarantee optimal performance in physical systems. \n"
   ]
  },
  {
   "cell_type": "code",
   "execution_count": null,
   "id": "097190c7-adc7-4ffa-9acb-600981bdfe4a",
   "metadata": {},
   "outputs": [],
   "source": [
    "# Answer question 4.1 with appropriate option numbers\n",
    "sq4_1 = [] "
   ]
  },
  {
   "cell_type": "markdown",
   "id": "d1502a88-ef13-4b1b-b258-b8f79173b5f2",
   "metadata": {
    "deletable": false,
    "editable": false,
    "nbgrader": {
     "cell_type": "markdown",
     "checksum": "638469d35f910bd89d7923f1d4d54b79",
     "grade": false,
     "grade_id": "cell-b43da332879b800b",
     "locked": true,
     "schema_version": 3,
     "solution": false,
     "task": false
    },
    "tags": []
   },
   "source": [
    "The following cells are used for grading."
   ]
  },
  {
   "cell_type": "code",
   "execution_count": null,
   "id": "db8826d1-9986-46e4-85e5-cf27196e83e3",
   "metadata": {
    "deletable": false,
    "editable": false,
    "nbgrader": {
     "cell_type": "code",
     "checksum": "546aecc1550081b14b1522050105c6bf",
     "grade": true,
     "grade_id": "cell-d5a8ec81fd0d66b1",
     "locked": true,
     "points": 1,
     "schema_version": 3,
     "solution": false,
     "task": false
    },
    "tags": []
   },
   "outputs": [],
   "source": []
  },
  {
   "cell_type": "code",
   "execution_count": null,
   "id": "e479588a-4204-4439-a472-3f42e28a074c",
   "metadata": {
    "deletable": false,
    "editable": false,
    "nbgrader": {
     "cell_type": "code",
     "checksum": "4aa68a722fdde09a0f14b1cc2beca952",
     "grade": true,
     "grade_id": "cell-dd21e01105b76141",
     "locked": true,
     "points": 1,
     "schema_version": 3,
     "solution": false,
     "task": false
    },
    "tags": []
   },
   "outputs": [],
   "source": []
  },
  {
   "cell_type": "code",
   "execution_count": null,
   "id": "d1ddda5c-62d7-4972-8499-b366c33180d9",
   "metadata": {
    "deletable": false,
    "editable": false,
    "nbgrader": {
     "cell_type": "code",
     "checksum": "86c6d11ddefd70ca91ca251f95336b79",
     "grade": true,
     "grade_id": "cell-1fcee280857bec9d",
     "locked": true,
     "points": 1,
     "schema_version": 3,
     "solution": false,
     "task": false
    },
    "tags": []
   },
   "outputs": [],
   "source": []
  },
  {
   "cell_type": "code",
   "execution_count": null,
   "id": "be07e454-ef17-49f7-9bb6-bc8cea0f33b1",
   "metadata": {
    "deletable": false,
    "editable": false,
    "nbgrader": {
     "cell_type": "code",
     "checksum": "4c33a96b244d47f6d295480d7c250f1e",
     "grade": true,
     "grade_id": "cell-8047c00c583ed0b5",
     "locked": true,
     "points": 1,
     "schema_version": 3,
     "solution": false,
     "task": false
    },
    "tags": []
   },
   "outputs": [],
   "source": []
  },
  {
   "cell_type": "code",
   "execution_count": null,
   "id": "11aa6875-27b5-4493-9bbc-947210f76997",
   "metadata": {
    "deletable": false,
    "editable": false,
    "nbgrader": {
     "cell_type": "code",
     "checksum": "3568917e141d50f586181ced3a278c15",
     "grade": true,
     "grade_id": "cell-bd91fc42a27e31c6",
     "locked": true,
     "points": 1,
     "schema_version": 3,
     "solution": false,
     "task": false
    },
    "tags": []
   },
   "outputs": [],
   "source": []
  },
  {
   "cell_type": "markdown",
   "id": "fb45baf8",
   "metadata": {
    "deletable": false,
    "editable": false,
    "nbgrader": {
     "cell_type": "markdown",
     "checksum": "67b760375ed0a6a2b94dfb07ea65d28e",
     "grade": false,
     "grade_id": "cell-7efb2faf02c622ca",
     "locked": true,
     "schema_version": 3,
     "solution": false,
     "task": false
    }
   },
   "source": [
    "<a id='Q6'></a>\n",
    "<div class=\" alert alert-warning\">\n",
    "    <h3><b>Student Question 4.2</b> Considering an unbounded continuous action space part 2 (10 points) </h3> \n",
    "\n",
    "How could the problems appearing in Question 4.1 be mitigated without putting a hard limit on the actions? **Select 3 options.**\n",
    "\n",
    "🔝\t<a href='#TOC'><b>Table of Contents</b></a>\n",
    "</div>"
   ]
  },
  {
   "cell_type": "markdown",
   "id": "0fd8de8b-0921-4e92-99a7-bf716b05d958",
   "metadata": {
    "deletable": false,
    "editable": false,
    "nbgrader": {
     "cell_type": "markdown",
     "checksum": "27fc63402758fa9596a3e25808be10f6",
     "grade": false,
     "grade_id": "cell-aa619f6370139c43",
     "locked": true,
     "schema_version": 3,
     "solution": false,
     "task": false
    },
    "tags": []
   },
   "source": [
    "Options:\n",
    "    \n",
    "1. Only need to add a cost for constraining the state-space of the system\n",
    "2. Implement a reward function with a cost on extreme actions. \n",
    "3. Increase the frequency of agent updates to react more quickly to potential dangers.\n",
    "4.  Penalize actions that lead to unsafe states in the reward function. \n",
    "5.  Train the agent for more episodes to ensure it learns to avoid dangerous actions.\n",
    "6.  Modify the reward function to encourage safer behavior. \n",
    "7.  Increase the exploration rate to ensure the agent finds safe actions more quickly.\n",
    "8. Use a larger neural network to better approximate the optimal policy.\n"
   ]
  },
  {
   "cell_type": "code",
   "execution_count": null,
   "id": "8c7a8af1-1828-430d-8c93-b066c8c06290",
   "metadata": {},
   "outputs": [],
   "source": [
    "# Answer question 4.2 with appropriate option numbers\n",
    "sq4_2 = [] "
   ]
  },
  {
   "cell_type": "markdown",
   "id": "7180cb44-e7f8-46c3-a998-82b8ca735e52",
   "metadata": {
    "deletable": false,
    "editable": false,
    "nbgrader": {
     "cell_type": "markdown",
     "checksum": "a6805e89aea5be8794bf596d54fa3a4b",
     "grade": false,
     "grade_id": "cell-3b450e8fc52b5fde",
     "locked": true,
     "schema_version": 3,
     "solution": false,
     "task": false
    },
    "tags": []
   },
   "source": [
    "The following cells are used for grading."
   ]
  },
  {
   "cell_type": "code",
   "execution_count": null,
   "id": "b91768e7-c369-4f8b-8775-05b643ca6a18",
   "metadata": {
    "deletable": false,
    "editable": false,
    "nbgrader": {
     "cell_type": "code",
     "checksum": "3652e018ac01e53271b7629acbc23b13",
     "grade": true,
     "grade_id": "cell-f9c4479f99666417",
     "locked": true,
     "points": 3,
     "schema_version": 3,
     "solution": false,
     "task": false
    },
    "tags": []
   },
   "outputs": [],
   "source": []
  },
  {
   "cell_type": "code",
   "execution_count": null,
   "id": "00ebbea3-f23d-401e-8aeb-66509850c935",
   "metadata": {
    "deletable": false,
    "editable": false,
    "nbgrader": {
     "cell_type": "code",
     "checksum": "2e999e719e7e4b1c084cb7824d3d757a",
     "grade": true,
     "grade_id": "cell-25d8dcd46c0a0aad",
     "locked": true,
     "points": 3,
     "schema_version": 3,
     "solution": false,
     "task": false
    },
    "tags": []
   },
   "outputs": [],
   "source": []
  },
  {
   "cell_type": "code",
   "execution_count": null,
   "id": "4c207fd7-f8ad-4faf-a3e6-bae40bce0ae0",
   "metadata": {
    "deletable": false,
    "editable": false,
    "nbgrader": {
     "cell_type": "code",
     "checksum": "d8f37ba4a5b559d2961d11bccb39f025",
     "grade": true,
     "grade_id": "cell-ad280a1aceb1fe48",
     "locked": true,
     "points": 4,
     "schema_version": 3,
     "solution": false,
     "task": false
    },
    "tags": []
   },
   "outputs": [],
   "source": []
  },
  {
   "cell_type": "markdown",
   "id": "0eacb159",
   "metadata": {},
   "source": [
    "# 6. Discrete action spaces <a id='6.'></a>"
   ]
  },
  {
   "cell_type": "markdown",
   "id": "078ceb81",
   "metadata": {
    "deletable": false,
    "editable": false,
    "nbgrader": {
     "cell_type": "markdown",
     "checksum": "66dcd9987ec7c4e5ebda97a81438d820",
     "grade": false,
     "grade_id": "cell-ef7074d497b36665",
     "locked": true,
     "schema_version": 3,
     "solution": false,
     "task": false
    },
    "tags": []
   },
   "source": [
    "<a id='Q7'></a>\n",
    "<div class=\" alert alert-warning\">\n",
    "    <h3><b>Student Question 5.</b> Considering discrete action spaces (10 points) </h3> \n",
    "\n",
    "Can policy gradient methods be used with discrete action spaces? If so, how would they be implemented? **Select 5 options.**\n",
    "    \n",
    "🔝\t<a href='#TOC'><b>Table of Contents</b></a>\n",
    "</div>"
   ]
  },
  {
   "cell_type": "markdown",
   "id": "c9d9c3ec-d223-452d-8a47-4f8073e3066a",
   "metadata": {
    "deletable": false,
    "editable": false,
    "nbgrader": {
     "cell_type": "markdown",
     "checksum": "26f3c4738d927b2de66b599a486ba532",
     "grade": false,
     "grade_id": "cell-7f1aac4a2b0a31e4",
     "locked": true,
     "schema_version": 3,
     "solution": false,
     "task": false
    },
    "tags": []
   },
   "source": [
    "Options:\n",
    "    \n",
    "1. Yes, policy gradient methods can be used with discrete action spaces. \n",
    "2. The gradient can still be computed and used to update the policy in discrete action spaces. \n",
    "3. Policy gradient methods are fundamentally incompatible with discrete action spaces. \n",
    "4. In discrete action spaces, the policy network would output probabilities for each action instead of means and variances. \n",
    "5. No changes to the algorithm are needed; it works identically for continuous and discrete spaces. \n",
    "6. A categorical (softmax) distribution is typically used for the policy in discrete action spaces. \n",
    "7. In discrete spaces, the policy gradient is computed using the log-probability of the chosen action. \n",
    "8. Discrete action spaces require a completely different class of algorithms and cannot use policy gradients. \n",
    "9. The main challenge is in defining a continuous approximation of the discrete action space. \n"
   ]
  },
  {
   "cell_type": "code",
   "execution_count": null,
   "id": "97cd5abb-dd0a-43ea-b413-d2ce26fdab5d",
   "metadata": {},
   "outputs": [],
   "source": [
    "# Answer question 5 with appropriate option numbers\n",
    "sq5 = [] "
   ]
  },
  {
   "cell_type": "markdown",
   "id": "a457fc65-a43e-4bc2-ac20-6f5304cf9dfa",
   "metadata": {
    "deletable": false,
    "editable": false,
    "nbgrader": {
     "cell_type": "markdown",
     "checksum": "dce09cff7bd5d1047689ababaef90649",
     "grade": false,
     "grade_id": "cell-93982c40108e75aa",
     "locked": true,
     "schema_version": 3,
     "solution": false,
     "task": false
    },
    "tags": []
   },
   "source": [
    "The following cells are used for grading."
   ]
  },
  {
   "cell_type": "code",
   "execution_count": null,
   "id": "eae4646c-26ee-456b-a791-ffdaf1dea484",
   "metadata": {
    "deletable": false,
    "editable": false,
    "nbgrader": {
     "cell_type": "code",
     "checksum": "ae1a9141639c916b8df9810c7041bb4b",
     "grade": true,
     "grade_id": "cell-455629eb8ff429fc",
     "locked": true,
     "points": 2,
     "schema_version": 3,
     "solution": false,
     "task": false
    },
    "tags": []
   },
   "outputs": [],
   "source": []
  },
  {
   "cell_type": "code",
   "execution_count": null,
   "id": "c15dc545-4698-489b-a49c-3413cf70a548",
   "metadata": {
    "deletable": false,
    "editable": false,
    "nbgrader": {
     "cell_type": "code",
     "checksum": "b21d5d93a5b584d204404eb34b889116",
     "grade": true,
     "grade_id": "cell-ccd64746d61c21fe",
     "locked": true,
     "points": 2,
     "schema_version": 3,
     "solution": false,
     "task": false
    },
    "tags": []
   },
   "outputs": [],
   "source": []
  },
  {
   "cell_type": "code",
   "execution_count": null,
   "id": "1aa9a214-e0c3-42c8-bba9-28898f3a9758",
   "metadata": {
    "deletable": false,
    "editable": false,
    "nbgrader": {
     "cell_type": "code",
     "checksum": "4b411904077d2218347dba63d31cc773",
     "grade": true,
     "grade_id": "cell-3b1379631af22fbe",
     "locked": true,
     "points": 2,
     "schema_version": 3,
     "solution": false,
     "task": false
    },
    "tags": []
   },
   "outputs": [],
   "source": []
  },
  {
   "cell_type": "code",
   "execution_count": null,
   "id": "00222dd3-06b1-436c-93f4-f6b60147bb2a",
   "metadata": {
    "deletable": false,
    "editable": false,
    "nbgrader": {
     "cell_type": "code",
     "checksum": "86b3c8b0c452ce715cc376a7b4172974",
     "grade": true,
     "grade_id": "cell-a58c487d6d744df5",
     "locked": true,
     "points": 2,
     "schema_version": 3,
     "solution": false,
     "task": false
    },
    "tags": []
   },
   "outputs": [],
   "source": []
  },
  {
   "cell_type": "code",
   "execution_count": null,
   "id": "82c97890-ddd1-4824-bb2b-2e5be84291f4",
   "metadata": {
    "deletable": false,
    "editable": false,
    "nbgrader": {
     "cell_type": "code",
     "checksum": "8ed761b8c0d3a85b2b576a6e3ca8296a",
     "grade": true,
     "grade_id": "cell-6f7c8a46592ca476",
     "locked": true,
     "points": 2,
     "schema_version": 3,
     "solution": false,
     "task": false
    },
    "tags": []
   },
   "outputs": [],
   "source": []
  },
  {
   "cell_type": "markdown",
   "id": "4c50da4d",
   "metadata": {
    "deletable": false,
    "editable": false,
    "nbgrader": {
     "cell_type": "markdown",
     "checksum": "9965fc6e7758f8a420963a52b936f443",
     "grade": false,
     "grade_id": "cell-8d4be4c9092a091c",
     "locked": true,
     "schema_version": 3,
     "solution": false,
     "task": false
    },
    "tags": []
   },
   "source": [
    "# 7. Submitting <a id='7.'></a>\n",
    "\n",
    "Ensure all tasks and questions in `ex5.ipynb` are thoroughly answered and that all the relevant plots are displayed correctly (there is no need to save the plots in the results folder). \n",
    "\n",
    "The training performance plots are as follows:\n",
    "\n",
    "- **Task 1a, REINFORCE without baseline**: Ensure the implementation is correct and the plot is similar to the expected plot shown in the task description. Refer to [Figure 1a](#figure-1a).\n",
    "  \n",
    "- **Task 1b, REINFORCE with constant baseline b = 20**: Properly implement the algorithm with a constant baseline and plot the training performance. Refer to [Figure 1b](#figure-1b).\n",
    "  \n",
    "- **Task 1c, REINFORCE with discounted rewards normalized to zero mean and unit variance**: Implement and plot the performance ensuring the rewards are normalized correctly. Refer to [Figure 1c](#figure-1c).\n",
    "  \n",
    "- **Task 2, REINFORCE with learned variance**: Ensure that the variance is being learned and adjusted during training, and plot the training performance.\n",
    "\n",
    "No model files need to be saved for this assignment.\n",
    "\n",
    "🔝 [Back to Table of Contents](#TOC)\n"
   ]
  },
  {
   "cell_type": "code",
   "execution_count": null,
   "id": "ed2a8428",
   "metadata": {
    "deletable": false,
    "editable": false,
    "nbgrader": {
     "cell_type": "code",
     "checksum": "0f2a35dca22d4e6a91f7259550809999",
     "grade": true,
     "grade_id": "cell-26f0fb23212021f6",
     "locked": true,
     "points": 0,
     "schema_version": 3,
     "solution": false,
     "task": false
    }
   },
   "outputs": [],
   "source": [
    "# Make sure that skip training is set to True before submission\n",
    "assert skip_training == True"
   ]
  },
  {
   "cell_type": "markdown",
   "id": "ad098b5f",
   "metadata": {},
   "source": [
    "## 7.1 Feedback <a id='7.1'></a>\n",
    "\n",
    "In order to help the staff of the course as well as the forthcoming students, it would be great if you could answer to the following questions in your submission:"
   ]
  },
  {
   "cell_type": "markdown",
   "id": "5ed5c6d1-c83a-4d62-9b4f-5ed33f0f6aea",
   "metadata": {},
   "source": [
    "1) How much time did you spend solving this exercise? (change the ```hrs``` variable below to a floating point number representing the number of hours taken e.g. 5.43)\n",
    "\n"
   ]
  },
  {
   "cell_type": "code",
   "execution_count": null,
   "id": "216bc97b-e49b-4c18-8c41-1c45711b90cd",
   "metadata": {},
   "outputs": [],
   "source": [
    "hrs = None"
   ]
  },
  {
   "cell_type": "markdown",
   "id": "0d26d7a7-acc4-48db-84a8-e366ea68a709",
   "metadata": {},
   "source": [
    "2) Difficulty of each task/question from 1-5 (int or float)"
   ]
  },
  {
   "cell_type": "code",
   "execution_count": null,
   "id": "5eeb90fa-9f33-49c1-aca3-55f9a9a00d6a",
   "metadata": {},
   "outputs": [],
   "source": [
    "T1a = None   # Task 1a. basic REINFORCE without baseline (15 points)\n",
    "T1b = None   # Task 1b. REINFORCE with a constant baseline b = 20 (5 points)\n",
    "T1c = None   # Task 1c. REINFORCE with discounted rewards normalized to zero mean and unit variance (5 points)\n",
    "Q1_1 = None  # Question 1.1 A good baseline (15 points)\n",
    "T2 = None    # Task 2. Making Variance a Learnable Parameter (10 points)\n",
    "Q2_1 = None  # Question 2.1 Constant vs Learnable Variance (5 points)\n",
    "Q2_2 = None  # Question 2.2 Learnable Variance Initial Performance (5 points)\n",
    "Q3 = None    # Question 3. Considering a experience reply buffer (15 points)\n",
    "Q4_1 = None  # Question 4.1 Considering an unbounded continuous action space part 1 (5 points)\n",
    "Q4_2 = None  # Question 4.2 Considering an unbounded continuous action space part 2 (10 points)\n",
    "Q5 = None    # Question 5. Considering discrete action spaces (10 points)"
   ]
  },
  {
   "cell_type": "markdown",
   "id": "fe9387c6-00de-4414-86eb-801485a59ec7",
   "metadata": {},
   "source": [
    "3) How well did you understand the content of the task/question from 1-5? (int or float)"
   ]
  },
  {
   "cell_type": "code",
   "execution_count": null,
   "id": "d5a53120-fcf2-4dbf-b6ad-87e5aff7dee0",
   "metadata": {},
   "outputs": [],
   "source": [
    "T1a = None   # Task 1a. basic REINFORCE without baseline (15 points)\n",
    "T1b = None   # Task 1b. REINFORCE with a constant baseline b = 20 (5 points)\n",
    "T1c = None   # Task 1c. REINFORCE with discounted rewards normalized to zero mean and unit variance (5 points)\n",
    "Q1_1 = None  # Question 1.1 A good baseline (15 points)\n",
    "T2 = None    # Task 2. Making Variance a Learnable Parameter (10 points)\n",
    "Q2_1 = None  # Question 2.1 Constant vs Learnable Variance (5 points)\n",
    "Q2_2 = None  # Question 2.2 Learnable Variance Initial Performance (5 points)\n",
    "Q3 = None    # Question 3. Considering a experience reply buffer (15 points)\n",
    "Q4_1 = None  # Question 4.1 Considering an unbounded continuous action space part 1 (5 points)\n",
    "Q4_2 = None  # Question 4.2 Considering an unbounded continuous action space part 2 (10 points)\n",
    "Q5 = None    # Question 5. Considering discrete action spaces (10 points)"
   ]
  },
  {
   "cell_type": "markdown",
   "id": "7595057e-8666-486a-bd8c-788b4de828a7",
   "metadata": {},
   "source": [
    "4) General feedback. Consider questions like:\n",
    "\n",
    "    - Did the content of the lecture relate well with the assignment?\n",
    "    - To what extent did you find the material to be potentially useful for your research and studies?\n",
    "    \n",
    "And other feedback you think is worth including. Type in the box below"
   ]
  },
  {
   "cell_type": "markdown",
   "id": "33ff95b3-6a70-4270-af0d-877ee3959030",
   "metadata": {},
   "source": [
    "DOUBLE CLICK HERE TO EDIT, CLEAR THIS TEXT AND ANSWER HERE"
   ]
  },
  {
   "cell_type": "markdown",
   "id": "e3f5f8d4",
   "metadata": {
    "tags": []
   },
   "source": [
    "\n",
    "# References <a id='8.'></a>"
   ]
  }
 ],
 "metadata": {
  "kernelspec": {
   "display_name": "Python 3",
   "language": "python",
   "name": "python3"
  },
  "language_info": {
   "codemirror_mode": {
    "name": "ipython",
    "version": 3
   },
   "file_extension": ".py",
   "mimetype": "text/x-python",
   "name": "python",
   "nbconvert_exporter": "python",
   "pygments_lexer": "ipython3",
   "version": "3.10.12"
  }
 },
 "nbformat": 4,
 "nbformat_minor": 5
}
