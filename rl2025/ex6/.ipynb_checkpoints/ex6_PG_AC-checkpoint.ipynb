{
 "cells": [
  {
   "cell_type": "markdown",
   "id": "8323a86e",
   "metadata": {
    "deletable": false,
    "editable": false,
    "nbgrader": {
     "cell_type": "markdown",
     "checksum": "968ecb4cb3b8623792cd5938edc4ea1b",
     "grade": false,
     "grade_id": "cell-47bfc0ea1447f571",
     "locked": true,
     "schema_version": 3,
     "solution": false,
     "task": false
    }
   },
   "source": [
    "\n",
    "<div class=\"alert alert-block alert-info\">\n",
    "   <h2 align=\"center\"> <center><b> Reinforcement Learning Assignment 6 - Actor Critic part 1 </b></center></h2>\n",
    "\n",
    "<br>\n",
    "<center><font size=\"3\">This notebook is part of the teaching material for ELEC-E8125</font></center>\n",
    "<center><font size=\"3\">Aalto University</font></center>\n",
    "</div>\n",
    "\n",
    "\n",
    "<a id='TOC'></a>\n",
    "\n",
    "<div class=\"alert alert-block alert-success\">\n",
    "    \n",
    "# Table of contents\n",
    "* <a href='#1.'> 1. Introduction </a>\n",
    "* <a href='#1.1'> 1.1 Learning Objectives </a>\n",
    "* <a href='#1.2'> 1.2 Code Structure & Files </a>\n",
    "* <a href='#2.'> 2. Policy Gradient with a Critic </a>\n",
    "* <a href='#3.'> 3. Submitting </a>\n",
    "* <a href='#3.1'> 3.1 Feedback </a>\n",
    "* <a href='#4.'> References</a>\n",
    "\n",
    "<a href='#T1'><b>Student Task 1.</b> Implementing PG with critic (20 points)</a>\\\n",
    "<a href='#Q1'><b>Student Question 1.1</b> Relationship between actor-critic and REINFORCE with baseline (10 points)</a>\\\n",
    "<a href='#Q2'><b>Student Question 1.2</b> Advantage (5 points)  </a>\\\n",
    "<a href='#Q3'><b>Student Question 1.3</b> Bias and Variance Analysis (10 points) </a>\\\n",
    "<a href='#Q4'><b>Student Question 1.4</b> Controlling bias-variance tradeoff (10 points)</a>\n",
    "    \n",
    "**Total Points:** 55\n",
    "\n",
    "**Estimated runtime of all the cells:** 1 hour"
   ]
  },
  {
   "cell_type": "markdown",
   "id": "ab53631b",
   "metadata": {
    "deletable": false,
    "editable": false,
    "nbgrader": {
     "cell_type": "markdown",
     "checksum": "a4ce01f58b207f5715f395b180619b9e",
     "grade": false,
     "grade_id": "cell-6ef87fd4c2d2cc44",
     "locked": true,
     "schema_version": 3,
     "solution": false,
     "task": false
    }
   },
   "source": [
    "# 1. Introduction <a id='1.'></a>\n",
    "\n",
    "In this assignment, we will implement an actor-critic reinforcement learning algorithm which combines elements of both value-based methods (critic) and policy-based methods (actor) to improve learning and stability in the **InvertedPendulum-v4**  environment.\n",
    "\n",
    "## 1.1 Task environments: <a id='1.1'></a>\n",
    "\n",
    "In this exercise, we will focus on InvertedPendulum-v4 tasks:\n",
    "- InvertedPendulum-v4(https://gymnasium.farama.org/environments/mujoco/inverted_pendulum/): This environment is similar to the cartpole environment but now powered by the Mujoco physics simulator - allowing for more complex experiments (such as varying the effects of gravity). This environment involves a cart that moves horizontally, with a pole fixed on the cart at one end and the other end of the pole moving freely. The cart can be pushed left or right. The goal is to move the pole such that it is vertically above the cart pointing straight up by applying horizontal forces on the cart.\n",
    "<figure style=\"text-align: center\">\n",
    "    <img src=\"imgs/InvertedPendulum.png\" width=\"300\"/>\n",
    "    <figcaption style=\"text-align: center\">  Figure 1: The InvertedPendulum-v4 environment. </figcaption>\n",
    "</figure>\n",
    "\n",
    "## 1.2 Learning Objectives: <a id='1.1'></a>\n",
    "\n",
    "- Understand the idea of actor-critic algorithms\n",
    "- Understand the limits and use cases of actor-critics\n",
    "\n",
    "## 1.3 Code Structure & Files <a id='1.2'></a>\n",
    "\n",
    "```ex6_PG_AC.ipynb``` is the file needed to be modified for this part of the assignment.  \n",
    "\n",
    "<span style=\"color:red\"> **# IMPORTANT: DO NOT FORGET ANOTHER PART IN ```ex6_DDPG.ipynb```** </span>\n",
    "\n",
    "```\n",
    "├───cfg                            # Config files for environments\n",
    "├───imgs                           # Images used in notebook\n",
    "├───results\n",
    "│   └───HalfCheetah-v4\n",
    "│   │   ├───logging                \n",
    "│   │   │    └───logging.pkl        # Contains logged data\n",
    "│   │   ├───model              \n",
    "│   │   │    └───*HalfCheetah-v4_params.pt    # Contains trained model\n",
    "│   │   └───video                   # Videos saved\n",
    "│   │   └───*ddpg.png               # Contains training performance plot\n",
    "│   └───InvertedPendulum-v4\n",
    "│   │   ├───logging                \n",
    "│   │   │    └───logging.pkl        # Contains logged data\n",
    "│   │   ├───model              \n",
    "│   │   │    └───*InvertedPendulum-v4_params.pt      # Contains trained model\n",
    "│   │   └───video                   # Videos saved\n",
    "│   │   └───*pg_ac.png              # Contains training performance plot\n",
    "│   ex6_DDPG.ipynb                  # 2nd assignment file containing tasks <---------\n",
    "│   ex6_PG_AC.ipynb                 # 1st assignment file containing tasks <---------This task\n",
    "│   train.py                        # Contains train and test functions \n",
    "│   utils.py                        # Contains useful functions \n",
    "└───buffer.py                       # Contains buffer functions\n",
    "```\n",
    "\n",
    "## 1.4 Execution time <a id='1.4'></a>\n",
    "\n",
    "The training of Actor-Critic may take more than 30 mins depending on the server load. If you have problems with the training time, you can train locally."
   ]
  },
  {
   "cell_type": "markdown",
   "id": "36ef1c90",
   "metadata": {
    "deletable": false,
    "editable": false,
    "nbgrader": {
     "cell_type": "markdown",
     "checksum": "e2a4fdb4406c82cbf0924a4ae9fd56ca",
     "grade": false,
     "grade_id": "cell-76eb1e3dcf217198",
     "locked": true,
     "schema_version": 3,
     "solution": false,
     "task": false
    }
   },
   "source": [
    "## Warnings:\n",
    "\n",
    "- Don’t copy and paste cells within a notebook. This will mess up the tracking metadata and prevent autograding from working.\n",
    "- Only add new cells using the '+' button in the upper toolbar and do not split cells.\n",
    "- Be cautious about things such as copying the whole notebook to Colab to work on it. This has sometimes resulted in removing all notebook metadata, making autograding impossible."
   ]
  },
  {
   "cell_type": "markdown",
   "id": "eb79df48",
   "metadata": {
    "deletable": false,
    "editable": false,
    "nbgrader": {
     "cell_type": "markdown",
     "checksum": "dd4a8717cd49c894ce9a4aa3a1895148",
     "grade": false,
     "grade_id": "cell-78fdf22a73920722",
     "locked": true,
     "schema_version": 3,
     "solution": false,
     "task": false
    }
   },
   "source": [
    "\n",
    "# 2. Policy Gradient with a Critic <a id='2.'></a>"
   ]
  },
  {
   "cell_type": "markdown",
   "id": "c584d11d",
   "metadata": {
    "deletable": false,
    "editable": false,
    "nbgrader": {
     "cell_type": "markdown",
     "checksum": "0439bebaa3d0d286f254868ab55e9939",
     "grade": false,
     "grade_id": "cell-61899a5dd880417b",
     "locked": true,
     "schema_version": 3,
     "solution": false,
     "task": false
    }
   },
   "source": [
    "<a id='T1'></a>\n",
    "<div class=\" alert alert-warning\">\n",
    "    <h3><b>Student Task 1.</b> Implement policy gradient (PG) with critic (20 points) </h3> \n",
    "\n",
    "Revisit the policy gradient solution for the InvertedPendulum from Exercise 5 with learned sigma if needed. Implement the actor-critic algorithm below. Perform TD(0) updates at the end of each episode. You can check the training performance plot in the result folder after running the plot cell. Take Figure 2 as a reference training plot. \n",
    "    \n",
    "**Hint:** Check out the PyTorch tutorial from [here](https://pytorch.org/tutorials/beginner/basics/autogradqs_tutorial.html) to see how to calculate the $A_\\theta \\Delta_\\theta \\log \\pi_\\theta(a_i|s_i)$ term using the ```detach()``` function. \n",
    "\n",
    "<figure style=\"text-align: center\">\n",
    "<img src=\"imgs/pg_ac.png\" width=\"400px\">\n",
    "<figcaption style=\"text-align: center\"> Figure 2: Training plot of the policy gradient with a critic.\n",
    "</figcaption>\n",
    "</figure>\n",
    "     \n",
    "**Complete the all the unfinished implementation in `PG` class (marked with ```TODOs```)**. \n",
    "    \n",
    "1. **Policy Network**: Finish the `__init__(self, state_dim, action_dim)` function and `forward(self, state)` function within the `Policy` class\n",
    "2. **Agent Update Function**: Finish the `update(self, )` function within the `PG` class\n",
    "3. **Get Action Method**: Finish the `get_action(self, observation, evaluation=False)` function within the `PG` class.\n",
    "    \n",
    "🔝\t<a href='#TOC'><b>Table of Contents</b></a>\n",
    "</div>\n"
   ]
  },
  {
   "cell_type": "code",
   "execution_count": 183,
   "id": "9dc0d42e",
   "metadata": {
    "tags": []
   },
   "outputs": [],
   "source": [
    "skip_training = False  # Set this flag to True before validation and submission"
   ]
  },
  {
   "cell_type": "code",
   "execution_count": null,
   "id": "489df71f",
   "metadata": {
    "deletable": false,
    "editable": false,
    "nbgrader": {
     "cell_type": "code",
     "checksum": "e4a46183e22c508d922baebfefbe6a0a",
     "grade": true,
     "grade_id": "cell-f54b5f40d174d5b2",
     "locked": true,
     "points": 0,
     "schema_version": 3,
     "solution": false,
     "task": false
    }
   },
   "outputs": [],
   "source": []
  },
  {
   "cell_type": "code",
   "execution_count": 184,
   "id": "fad4384f",
   "metadata": {
    "tags": []
   },
   "outputs": [],
   "source": [
    "import sys, os\n",
    "sys.path.insert(0, os.path.abspath(\"..\"))\n",
    "\n",
    "import numpy as np\n",
    "from pathlib import Path\n",
    "from IPython.display import Video\n",
    "\n",
    "import torch, yaml\n",
    "from torch import nn\n",
    "import torch.nn.functional as F\n",
    "from torch.distributions import Normal\n",
    "\n",
    "import train as t\n",
    "import utils as u\n",
    "\n",
    "device = 'cpu'"
   ]
  },
  {
   "cell_type": "code",
   "execution_count": 185,
   "id": "a6634d41",
   "metadata": {
    "tags": []
   },
   "outputs": [],
   "source": [
    "# Actor-critic agent\n",
    "def layer_init(layer, std=np.sqrt(2), bias_const=0.0):\n",
    "    torch.nn.init.orthogonal_(layer.weight, std)\n",
    "    torch.nn.init.constant_(layer.bias, bias_const)\n",
    "    return layer\n",
    "\n",
    "\n",
    "class Policy(nn.Module):\n",
    "    def __init__(self, state_dim, action_dim):\n",
    "        super().__init__()\n",
    "        # Create a neural network and use it for the mean of the policy.\n",
    "        # The size of the neural network here has been chosen such that \n",
    "        # it is not too big but should perform well in the tasks we want to look at.\n",
    "        self.actor_mean = nn.Sequential(\n",
    "            layer_init(nn.Linear(state_dim, 64)), nn.Tanh(),\n",
    "            layer_init(nn.Linear(64, 64)), nn.Tanh(),\n",
    "            layer_init(nn.Linear(64, action_dim), std=0.01),\n",
    "        )\n",
    "        \n",
    "        \"\"\"\n",
    "        # TODO: Implement actor_logstd as a learnable parameter\n",
    "        # Use log of std to make sure std (standard deviation) of the policy\n",
    "        # doesn't become negative during training\n",
    "        \"\"\"\n",
    "        #self.actor_logstd = ...\n",
    "        self.actor_logstd = nn.Parameter(torch.zeros(1, action_dim))\n",
    "        \n",
    "    def forward(self, state):\n",
    "        # Get mean of a Normal distribution (the output of the neural network)\n",
    "        action_mean = self.actor_mean(state)\n",
    "\n",
    "        # Make sure action_logstd matches dimensions of action_mean\n",
    "        action_logstd = self.actor_logstd.expand_as(action_mean)\n",
    "\n",
    "        # Exponentiate the log std to get actual std\n",
    "        action_std = torch.exp(action_logstd)\n",
    "        \n",
    "        \"\"\"\n",
    "        # TODO: Create a Normal distribution with mean of 'action_mean' & standard deviation of 'action_logstd' \n",
    "        # and return the distribution. You should be using the torch.distributions.Normal class to create the distribution.\n",
    "        \"\"\"\n",
    "        #probs = ...\n",
    "        probs = Normal(action_mean, action_std)\n",
    "\n",
    "        return probs\n",
    "\n",
    "    \n",
    "class Value(nn.Module):\n",
    "    def __init__(self, state_dim):\n",
    "        super().__init__()\n",
    "        self.value = nn.Sequential(\n",
    "            layer_init(nn.Linear(state_dim, 64)), nn.Tanh(),\n",
    "            layer_init(nn.Linear(64, 64)), nn.Tanh(),\n",
    "            layer_init(nn.Linear(64, 1)))\n",
    "    \n",
    "    def forward(self, x):\n",
    "        return self.value(x).squeeze(1) # output shape [batch,]\n",
    "\n",
    "\n",
    "class PG(object):\n",
    "    def __init__(self, state_dim, action_dim, lr, gamma):\n",
    "        self.name = 'pg'\n",
    "        self.policy = Policy(state_dim, action_dim).to(device)\n",
    "        self.value = Value(state_dim).to(device)\n",
    "        self.optimizer = torch.optim.Adam(list(self.policy.parameters()) + list(self.value.parameters()), \n",
    "                                         lr=float(lr),)\n",
    "\n",
    "        self.gamma = gamma\n",
    "\n",
    "        # a simple buffer\n",
    "        self.states = []\n",
    "        self.action_probs = []\n",
    "        self.rewards = []\n",
    "        self.dones = []\n",
    "        self.next_states = []\n",
    "\n",
    "    '''\n",
    "    TODO: Task 1\n",
    "    # Complete the following 4 functions\n",
    "    # Hints: 1. calculate the target values as well as the MSE loss between the predicted value and the target values\n",
    "    #        2. calculate the policy loss (similar to ex5) with advantage calculated from the value function. Normalise\n",
    "    #           the advantage to zero mean and unit variance.\n",
    "    #        3. Use mean to calculate the actor (policy) loss ;)\n",
    "    #           - https://discuss.pytorch.org/t/loss-reduction-sum-vs-mean-when-to-use-each/115641/2\n",
    "    '''\n",
    "    \n",
    "    # 1. Calculate the target values, you should not modify the gradient of the variables\n",
    "    def calculate_target_values(self, rewards, next_states, dones):\n",
    "        ########## Your code starts here. ##########\n",
    "        with torch.no_grad():\n",
    "            #next_values = ...\n",
    "            #target_values = ...\n",
    "            next_values = self.value(next_states)\n",
    "            target_values = rewards + self.gamma * (1.0 - dones) * next_values\n",
    "        ########## Your code ends here. ##########\n",
    "        return target_values\n",
    "\n",
    "    # 2. Calculate the critic loss\n",
    "    def calculate_critic_loss(self, values, target_values):\n",
    "        ########## Your code starts here. ##########\n",
    "        #critic_loss = ...\n",
    "        critic_loss = F.mse_loss(values, target_values)\n",
    "        ########## Your code ends here. ##########\n",
    "        return critic_loss\n",
    "    \n",
    "    # 3. Advantage estimation, you should not modify the gradient of the variables\n",
    "    def calculate_advantage(self, values, target_values):\n",
    "        ########## Your code starts here. ##########\n",
    "        with torch.no_grad():\n",
    "            #advantage = ...\n",
    "            advantage = target_values - values\n",
    "            advantage = (advantage - advantage.mean())/(advantage.std() + 1e-9)\n",
    "        ########## Your code ends here. ##########\n",
    "        return advantage\n",
    "    \n",
    "    # 4. Calculate the actor (policy) loss \n",
    "    def calculate_actor_loss(self, action_probs, advantage):\n",
    "        ########## Your code starts here. ##########\n",
    "        #weighted_probs = ...\n",
    "        #actor_loss = ...\n",
    "        weighted_probs = action_probs*advantage\n",
    "        actor_loss = -weighted_probs.mean()\n",
    "        ########## Your code ends here. ##########\n",
    "        return actor_loss\n",
    "\n",
    "    def update(self,):\n",
    "        action_probs = torch.stack(self.action_probs, dim=0) \\\n",
    "                .to(device).squeeze(-1)\n",
    "        rewards = torch.stack(self.rewards, dim=0).to(device).squeeze(-1)\n",
    "        states = torch.stack(self.states, dim=0).to(device).squeeze(-1)\n",
    "        next_states = torch.stack(self.next_states, dim=0).to(device).squeeze(-1)\n",
    "        dones = torch.stack(self.dones, dim=0).to(device).squeeze(-1)\n",
    "        # clear buffer\n",
    "        self.states, self.action_probs, self.rewards, self.dones, self.next_states = [], [], [], [], []\n",
    "\n",
    "        \"\"\"\n",
    "        # TODO: Compute the current state value estimates using the value function network\n",
    "        \"\"\"\n",
    "        #values = ...\n",
    "        values = self.value(states)\n",
    "        \n",
    "        target_values = self.calculate_target_values(rewards, next_states, dones)        \n",
    "        critic_loss = self.calculate_critic_loss(values, target_values)        \n",
    "        advantage = self.calculate_advantage(values, target_values)\n",
    "        actor_loss = self.calculate_actor_loss(action_probs, advantage)\n",
    "\n",
    "        \"\"\"\n",
    "        # TODO: Compute the gradients of the joint loss w.r.t network parameters\n",
    "        \"\"\"\n",
    "        #loss = ...\n",
    "        loss = actor_loss + critic_loss\n",
    "        loss.backward()\n",
    "\n",
    "        # Update network parameters using self.optimizer and zero gradients \n",
    "        self.optimizer.step()  \n",
    "        nn.utils.clip_grad_norm_(list(self.policy.parameters())+ list(self.value.parameters()), 1.0)\n",
    "        self.optimizer.zero_grad() \n",
    "\n",
    "        return {}\n",
    "\n",
    "    def get_action(self, observation, evaluation=False):\n",
    "        \"\"\"Return action (np.ndarray) and logprob (torch.Tensor) of this action.\"\"\"\n",
    "        if observation.ndim == 1: observation = observation[None] # add the batch dimension\n",
    "        x = torch.from_numpy(observation).float().to(device)\n",
    "        \n",
    "        '''\n",
    "        # TODO: Task 1\n",
    "        # Hints: 1. the self.policy returns a normal distribution, check the PyTorch documentation to see \n",
    "        #           how to calculate the log_prob of an action and how to sample.\n",
    "        #        2. if evaluating the policy, return policy mean, otherwise, return a sample\n",
    "        #        3. the returned action and the act_logprob should be torch.Tensors.\n",
    "        #           Please always make sure the shape of variables is as you expected.\n",
    "        '''\n",
    "        ########## Your code starts here. ##########\n",
    "        #dist = ...\n",
    "        #if evaluation:\n",
    "        #    action = ...\n",
    "        #else:\n",
    "        #    action = ...\n",
    "        \n",
    "        dist = self.policy(x)\n",
    "        if evaluation:\n",
    "            action = dist.mean\n",
    "        else:\n",
    "            action = dist.sample()\n",
    "        \n",
    "        # compute the log probability of the action\n",
    "        #act_logprob = ...\n",
    "        act_logprob = dist.log_prob(action)\n",
    "        action = action.squeeze()\n",
    "        \n",
    "        act_logprob = act_logprob.sum(dim=-1)\n",
    "        act_logprob = act_logprob.squeeze()\n",
    "        \n",
    "        ########## Your code ends here. ###########\n",
    "        return action, act_logprob\n",
    "\n",
    "    def record(self, observation, action_prob, next_observation, reward, done):\n",
    "        self.states.append(torch.tensor(observation, dtype=torch.float32))\n",
    "        self.action_probs.append(action_prob)\n",
    "        self.rewards.append(torch.tensor([reward], dtype=torch.float32))\n",
    "        self.dones.append(torch.tensor([done], dtype=torch.float32))\n",
    "        self.next_states.append(torch.tensor(next_observation, dtype=torch.float32))\n",
    "\n",
    "    def load(self, filepath):\n",
    "        d = torch.load(filepath)\n",
    "        self.policy.load_state_dict(d['policy'])\n",
    "        self.value.load_state_dict(d['value'])\n",
    "    \n",
    "    def save(self, filepath):\n",
    "        torch.save({\n",
    "            'policy': self.policy.state_dict(),\n",
    "            'value': self.value.state_dict(),\n",
    "        }, filepath)"
   ]
  },
  {
   "cell_type": "code",
   "execution_count": 186,
   "id": "c970385d",
   "metadata": {
    "deletable": false,
    "editable": false,
    "nbgrader": {
     "cell_type": "code",
     "checksum": "5af7194a025f5c6a09d1e4bd68084daa",
     "grade": true,
     "grade_id": "cell-9122872aaa786a57",
     "locked": true,
     "points": 2,
     "schema_version": 3,
     "solution": false,
     "task": false
    },
    "tags": []
   },
   "outputs": [],
   "source": [
    "# Test Policy\n",
    "def test_policy_class():\n",
    "    policy = Policy(4, 1)\n",
    "    x = torch.Tensor((1.,2.,3.,4.)).reshape((1,4))\n",
    "    assert isinstance( policy.forward(x),Normal)\n",
    "    assert policy.actor_logstd.requires_grad\n",
    "\n",
    "test_policy_class()"
   ]
  },
  {
   "cell_type": "code",
   "execution_count": 187,
   "id": "1267fbc6",
   "metadata": {
    "deletable": false,
    "editable": false,
    "nbgrader": {
     "cell_type": "code",
     "checksum": "8bd467e6ef4d0bce56458aa52ec2b321",
     "grade": true,
     "grade_id": "cell-43cbda8b39fe293e",
     "locked": true,
     "points": 2,
     "schema_version": 3,
     "solution": false,
     "task": false
    },
    "tags": []
   },
   "outputs": [
    {
     "name": "stdout",
     "output_type": "stream",
     "text": [
      "Numpy/Torch/Random Seed:  43\n"
     ]
    }
   ],
   "source": [
    "%%capture --no-stdout\n",
    "#Test get_action method\n",
    "def test_get_action_1():\n",
    "    cfg_path=Path().cwd()/'cfg'/'pg_ac.yaml'\n",
    "    cfg_args=dict(save_video=False,testing=False,seed=43)\n",
    "    env, cfg = t.setup(cfg_path, cfg_args=cfg_args)\n",
    "    agent = PG(cfg.state_shape[0], cfg.action_dim, cfg.lr, cfg.gamma)\n",
    "    obs = np.array([ 0.00978977, -0.00972236, -0.00706408,  0.00517535])\n",
    "    action = -2.0871510059805587e-05\n",
    "    assert np.allclose(agent.get_action(obs,True)[0].item(),action,atol=1e-03)\n",
    "\n",
    "    agent2 = PG(cfg.state_shape[0], cfg.action_dim, cfg.lr, cfg.gamma)\n",
    "    assert tuple(agent2.get_action(obs,True)[1].shape) == ()\n",
    "\n",
    "test_get_action_1()"
   ]
  },
  {
   "cell_type": "code",
   "execution_count": 188,
   "id": "f1baa5e6",
   "metadata": {
    "deletable": false,
    "editable": false,
    "nbgrader": {
     "cell_type": "code",
     "checksum": "70ac43e68631b7ae6e31f11b62e2eece",
     "grade": true,
     "grade_id": "cell-5bfa2cf43da8fc00",
     "locked": true,
     "points": 2,
     "schema_version": 3,
     "solution": false,
     "task": false
    },
    "tags": []
   },
   "outputs": [
    {
     "name": "stdout",
     "output_type": "stream",
     "text": [
      "Numpy/Torch/Random Seed:  43\n"
     ]
    }
   ],
   "source": [
    "def test_update_function_1():\n",
    "    cfg_path=Path().cwd()/'cfg'/'pg_ac.yaml'\n",
    "    cfg_args=dict(save_video=False,testing=False,seed=43)\n",
    "    env, cfg = t.setup(cfg_path, cfg_args=cfg_args)\n",
    "    agent = PG(4, cfg.action_dim, cfg.lr, cfg.gamma)\n",
    "\n",
    "    rewards = torch.tensor([1., 1., 1., 1.])\n",
    "    action_probs = torch.tensor([-0.9286, -1.1687, -1.2360, -1.7127])\n",
    "    next_states = torch.tensor([[-0.0079,  0.0071, -0.1703,  0.4061],\n",
    "                                [-0.0274,  0.0524, -0.8029,  1.8464],\n",
    "                                [-0.0633,  0.1342, -0.9942,  2.2525],\n",
    "                                [-0.0931,  0.2017, -0.4978,  1.1568]])\n",
    "    dones = torch.tensor([0., 0., 0., 1.])\n",
    "    states = torch.tensor([[-4.6008e-03, -1.0801e-03,  7.1437e-03, -1.4543e-03],\n",
    "                           [-7.8743e-03,  7.0946e-03, -1.7034e-01,  4.0608e-01],\n",
    "                           [-2.7371e-02,  5.2385e-02, -8.0292e-01,  1.8464e+00],\n",
    "                           [-6.3307e-02,  1.3419e-01, -9.9422e-01,  2.2525e+00]])\n",
    "    values = torch.tensor([-0.0013, -0.0137, -0.0187, -0.0289])\n",
    "\n",
    "    target_values = agent.calculate_target_values(rewards, next_states, dones)        \n",
    "    critic_loss = agent.calculate_critic_loss(values, target_values)        \n",
    "    adv = agent.calculate_advantage(values, target_values)\n",
    "    actor_loss = agent.calculate_actor_loss(action_probs, adv)\n",
    "\n",
    "    assert torch.allclose(target_values, torch.tensor([0.9864, 0.9815, 0.9714, 1.0000]), atol = 0.001)\n",
    "    assert torch.allclose(critic_loss, torch.tensor(1.0012), atol = 0.001)\n",
    "    assert torch.allclose(adv, torch.tensor([-0.6645, -0.2767, -0.5391,  1.4803]), atol = 0.001)\n",
    "    assert torch.allclose(actor_loss, torch.tensor(0.2321), atol = 0.001)\n",
    "\n",
    "test_update_function_1()"
   ]
  },
  {
   "cell_type": "code",
   "execution_count": 189,
   "id": "04b263dd",
   "metadata": {
    "deletable": false,
    "editable": false,
    "nbgrader": {
     "cell_type": "code",
     "checksum": "47065bb40c58f45827cb38b377996854",
     "grade": true,
     "grade_id": "cell-dcf55b2136722f26",
     "locked": true,
     "points": 5,
     "schema_version": 3,
     "solution": false,
     "task": false
    },
    "tags": []
   },
   "outputs": [],
   "source": [
    "%%capture --no-stdout\n",
    "\"TEST\""
   ]
  },
  {
   "cell_type": "code",
   "execution_count": 190,
   "id": "d39c60f7",
   "metadata": {
    "deletable": false,
    "editable": false,
    "nbgrader": {
     "cell_type": "code",
     "checksum": "c35464679797db9e10ee0bb6646ff6e0",
     "grade": true,
     "grade_id": "cell-289c24f5539ad5d3",
     "locked": true,
     "points": 7,
     "schema_version": 3,
     "solution": false,
     "task": false
    }
   },
   "outputs": [],
   "source": [
    "%%capture --no-stdout\n",
    "\"TEST\""
   ]
  },
  {
   "cell_type": "code",
   "execution_count": 191,
   "id": "8c6b02f2-891d-40c1-b01a-9bd370009a3a",
   "metadata": {
    "tags": []
   },
   "outputs": [],
   "source": [
    "# init agent\n",
    "with open(Path().cwd()/'cfg'/'pg_ac.yaml', 'r') as f:\n",
    "    cfg = u.Struct(**yaml.safe_load(f))\n",
    "    \n",
    "agent = PG(cfg.state_shape[0], cfg.action_dim, cfg.lr, cfg.gamma)"
   ]
  },
  {
   "cell_type": "code",
   "execution_count": 192,
   "id": "5fad7389",
   "metadata": {
    "tags": []
   },
   "outputs": [
    {
     "name": "stdout",
     "output_type": "stream",
     "text": [
      "Numpy/Torch/Random Seed:  837\n",
      "{'episode': 0, 'timesteps': 5, 'ep_reward': 5.0}\n",
      "{'episode': 50, 'timesteps': 4, 'ep_reward': 4.0}\n",
      "{'episode': 100, 'timesteps': 4, 'ep_reward': 4.0}\n",
      "{'episode': 150, 'timesteps': 13, 'ep_reward': 13.0}\n",
      "{'episode': 200, 'timesteps': 11, 'ep_reward': 11.0}\n",
      "{'episode': 250, 'timesteps': 18, 'ep_reward': 18.0}\n",
      "{'episode': 300, 'timesteps': 31, 'ep_reward': 31.0}\n",
      "{'episode': 350, 'timesteps': 69, 'ep_reward': 69.0}\n",
      "{'episode': 400, 'timesteps': 14, 'ep_reward': 14.0}\n",
      "{'episode': 450, 'timesteps': 67, 'ep_reward': 67.0}\n",
      "{'episode': 500, 'timesteps': 114, 'ep_reward': 114.0}\n",
      "{'episode': 550, 'timesteps': 122, 'ep_reward': 122.0}\n",
      "{'episode': 600, 'timesteps': 221, 'ep_reward': 221.0}\n",
      "{'episode': 650, 'timesteps': 410, 'ep_reward': 410.0}\n",
      "{'episode': 700, 'timesteps': 262, 'ep_reward': 262.0}\n",
      "{'episode': 750, 'timesteps': 46, 'ep_reward': 46.0}\n",
      "{'episode': 800, 'timesteps': 691, 'ep_reward': 691.0}\n",
      "{'episode': 850, 'timesteps': 449, 'ep_reward': 449.0}\n",
      "{'episode': 900, 'timesteps': 1000, 'ep_reward': 1000.0}\n",
      "{'episode': 950, 'timesteps': 171, 'ep_reward': 171.0}\n",
      "{'episode': 1000, 'timesteps': 916, 'ep_reward': 916.0}\n",
      "{'episode': 1050, 'timesteps': 1000, 'ep_reward': 1000.0}\n",
      "{'episode': 1100, 'timesteps': 521, 'ep_reward': 521.0}\n",
      "{'episode': 1150, 'timesteps': 409, 'ep_reward': 409.0}\n",
      "{'episode': 1200, 'timesteps': 37, 'ep_reward': 37.0}\n",
      "{'episode': 1250, 'timesteps': 22, 'ep_reward': 22.0}\n",
      "{'episode': 1300, 'timesteps': 7, 'ep_reward': 7.0}\n",
      "{'episode': 1350, 'timesteps': 8, 'ep_reward': 8.0}\n",
      "{'episode': 1400, 'timesteps': 19, 'ep_reward': 19.0}\n",
      "{'episode': 1450, 'timesteps': 35, 'ep_reward': 35.0}\n",
      "{'episode': 1500, 'timesteps': 15, 'ep_reward': 15.0}\n",
      "{'episode': 1550, 'timesteps': 22, 'ep_reward': 22.0}\n",
      "{'episode': 1600, 'timesteps': 19, 'ep_reward': 19.0}\n",
      "{'episode': 1650, 'timesteps': 32, 'ep_reward': 32.0}\n",
      "{'episode': 1700, 'timesteps': 56, 'ep_reward': 56.0}\n",
      "{'episode': 1750, 'timesteps': 74, 'ep_reward': 74.0}\n",
      "{'episode': 1800, 'timesteps': 43, 'ep_reward': 43.0}\n",
      "{'episode': 1850, 'timesteps': 238, 'ep_reward': 238.0}\n",
      "{'episode': 1900, 'timesteps': 1000, 'ep_reward': 1000.0}\n",
      "{'episode': 1950, 'timesteps': 1000, 'ep_reward': 1000.0}\n",
      "{'episode': 2000, 'timesteps': 1000, 'ep_reward': 1000.0}\n",
      "Saving model to /notebooks/rl2025/ex6/results/InvertedPendulum-v4/model/InvertedPendulum-v4_params.pt\n",
      "------ Training Finished ------\n",
      "Total traning time is 2.7862859458856595mins\n"
     ]
    }
   ],
   "source": [
    "if not skip_training:\n",
    "    t.train(agent, cfg_path=Path().cwd()/'cfg'/'pg_ac.yaml', cfg_args={})"
   ]
  },
  {
   "cell_type": "code",
   "execution_count": 193,
   "id": "f8041f0c-73f8-4f23-bbd2-4a976a8b842a",
   "metadata": {
    "tags": []
   },
   "outputs": [
    {
     "name": "stdout",
     "output_type": "stream",
     "text": [
      "Numpy/Torch/Random Seed:  625\n"
     ]
    },
    {
     "data": {
      "image/png": "[encoded data removed]",
      "text/plain": [
       "<Figure size 640x480 with 1 Axes>"
      ]
     },
     "metadata": {},
     "output_type": "display_data"
    }
   ],
   "source": [
    "if not skip_training:\n",
    "    t.plot(cfg_path=Path().cwd()/'cfg'/'pg_ac.yaml',)"
   ]
  },
  {
   "cell_type": "code",
   "execution_count": 194,
   "id": "91d4922b",
   "metadata": {
    "tags": []
   },
   "outputs": [
    {
     "name": "stdout",
     "output_type": "stream",
     "text": [
      "Numpy/Torch/Random Seed:  820\n",
      "Loading model from /notebooks/rl2025/ex6/results/InvertedPendulum-v4/model/InvertedPendulum-v4_params.pt ...\n",
      "Testing ...\n",
      "Moviepy - Building video /notebooks/rl2025/ex6/results/InvertedPendulum-v4/video/test/ex6-episode-0.mp4.\n",
      "Moviepy - Writing video /notebooks/rl2025/ex6/results/InvertedPendulum-v4/video/test/ex6-episode-0.mp4\n",
      "\n"
     ]
    },
    {
     "name": "stderr",
     "output_type": "stream",
     "text": [
      "                                                                \r"
     ]
    },
    {
     "name": "stdout",
     "output_type": "stream",
     "text": [
      "Moviepy - Done !\n",
      "Moviepy - video ready /notebooks/rl2025/ex6/results/InvertedPendulum-v4/video/test/ex6-episode-0.mp4\n",
      "Ep0: Test ep_reward is 1000.0\n",
      "Ep1: Test ep_reward is 1000.0\n",
      "Ep2: Test ep_reward is 1000.0\n",
      "Ep3: Test ep_reward is 1000.0\n",
      "Ep4: Test ep_reward is 1000.0\n",
      "Ep5: Test ep_reward is 1000.0\n",
      "Ep6: Test ep_reward is 1000.0\n",
      "Ep7: Test ep_reward is 1000.0\n",
      "Ep8: Test ep_reward is 1000.0\n",
      "Moviepy - Building video /notebooks/rl2025/ex6/results/InvertedPendulum-v4/video/test/ex6-episode-9.mp4.\n",
      "Moviepy - Writing video /notebooks/rl2025/ex6/results/InvertedPendulum-v4/video/test/ex6-episode-9.mp4\n",
      "\n"
     ]
    },
    {
     "name": "stderr",
     "output_type": "stream",
     "text": [
      "                                                                "
     ]
    },
    {
     "name": "stdout",
     "output_type": "stream",
     "text": [
      "Moviepy - Done !\n",
      "Moviepy - video ready /notebooks/rl2025/ex6/results/InvertedPendulum-v4/video/test/ex6-episode-9.mp4\n",
      "Ep9: Test ep_reward is 1000.0\n",
      "Average test reward: 1000.0\n"
     ]
    },
    {
     "name": "stderr",
     "output_type": "stream",
     "text": [
      "\r"
     ]
    }
   ],
   "source": [
    "if not skip_training:\n",
    "    t.test(agent, cfg_path=Path().cwd()/'cfg'/'pg_ac.yaml', cfg_args=dict(save_video=True,testing=True))"
   ]
  },
  {
   "cell_type": "code",
   "execution_count": 195,
   "id": "2edb556b-187c-4662-a1df-60dc87917930",
   "metadata": {
    "tags": []
   },
   "outputs": [
    {
     "data": {
      "text/html": [
       "<video loop autoplay  >\n",
       " <source src=\"data:video/mp4;base64,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\" type=\"video/mp4\">\n",
       " Your browser does not support the video tag.\n",
       " </video>"
      ],
      "text/plain": [
       "<IPython.core.display.Video object>"
      ]
     },
     "metadata": {},
     "output_type": "display_data"
    }
   ],
   "source": [
    "if not skip_training:\n",
    "    video = Video(Path().cwd()/'results'/'InvertedPendulum-v4'/'video'/'test'/'ex6-episode-0.mp4',\n",
    "    embed=True, html_attributes=\"loop autoplay\") # Set html_attributes=\"controls\" for video control\n",
    "    display(video)"
   ]
  },
  {
   "cell_type": "code",
   "execution_count": 172,
   "id": "54640b32",
   "metadata": {
    "deletable": false,
    "editable": false,
    "nbgrader": {
     "cell_type": "code",
     "checksum": "f83948189f99f90b4085c2d303b547ad",
     "grade": true,
     "grade_id": "cell-09564874b32375cf",
     "locked": true,
     "points": 2,
     "schema_version": 3,
     "solution": false,
     "task": false
    }
   },
   "outputs": [],
   "source": [
    "%%capture --no-stdout\n",
    "\"TEST\""
   ]
  },
  {
   "cell_type": "markdown",
   "id": "7d432792",
   "metadata": {
    "deletable": false,
    "editable": false,
    "nbgrader": {
     "cell_type": "markdown",
     "checksum": "13b4216c279dd80ba4512330ce718bdd",
     "grade": false,
     "grade_id": "cell-5db97bc9fe1b8e96",
     "locked": true,
     "schema_version": 3,
     "solution": false,
     "task": false
    }
   },
   "source": [
    "<a id='Q1'></a>\n",
    "<div class=\" alert alert-warning\">\n",
    "    <h3><b>Student Question 1.1</b> Relationship between actor-critic and REINFORCE with baseline (10 points) </h3> \n",
    "\n",
    "What is the relationship between actor-critic and REINFORCE with baseline?\n",
    "            \n",
    "🔝\t<a href='#TOC'><b>Table of Contents</b></a>\n",
    "</div>"
   ]
  },
  {
   "cell_type": "markdown",
   "id": "a7662c12-4b22-48ca-85cc-d389b77dde79",
   "metadata": {
    "deletable": false,
    "editable": false,
    "nbgrader": {
     "cell_type": "markdown",
     "checksum": "9e350ecacc72df859b8ea1279bba8b20",
     "grade": false,
     "grade_id": "cell-af3dccf8c7e41349",
     "locked": true,
     "schema_version": 3,
     "solution": false,
     "task": false
    },
    "tags": []
   },
   "source": [
    "<h5><b>Options</b></h5>\n",
    "\n",
    "1. Both actor-critic and REINFORCE use boostrapping to update their parameters. \n",
    "2. Both methods use Monte-Carlo estimates for updating their parameters.\n",
    "3. The baseline in REINFORCE is the state value function for actor-critic.\n",
    "4. Both methods require full-trajectories before they can update their parameters.\n",
    "5. Both methods can update their parameters during each timestep.\n",
    "6. Actor-critic uses bootstrapping to update its parameters while REINFORCE does not.\n",
    "\n",
    "Select the **two** most appropriate answers. Selecting more than 2 answers results in zero points from this task."
   ]
  },
  {
   "cell_type": "code",
   "execution_count": 173,
   "id": "4875db20-b21d-4c28-b2ca-c7f2e46fffe2",
   "metadata": {
    "tags": []
   },
   "outputs": [],
   "source": [
    "sq1_1 = [3, 6] # Select the most approapriate answers"
   ]
  },
  {
   "cell_type": "markdown",
   "id": "6f4810fe-a2b7-44cd-93b1-a1b2d082c2ad",
   "metadata": {
    "deletable": false,
    "editable": false,
    "nbgrader": {
     "cell_type": "markdown",
     "checksum": "3beea4b65c1e4d7a95ab8a1ae1600bb9",
     "grade": false,
     "grade_id": "cell-d838cdbf4808c6ff",
     "locked": true,
     "schema_version": 3,
     "solution": false,
     "task": false
    },
    "tags": []
   },
   "source": [
    "The cells below are used for autograding."
   ]
  },
  {
   "cell_type": "code",
   "execution_count": 174,
   "id": "1a6b3310-7e16-4408-9d74-6555c1fc7ed3",
   "metadata": {
    "deletable": false,
    "editable": false,
    "nbgrader": {
     "cell_type": "code",
     "checksum": "1de4c11b92c17597e4ac9050802b3eaa",
     "grade": true,
     "grade_id": "cell-0e00f76e0960536d",
     "locked": true,
     "points": 0,
     "schema_version": 3,
     "solution": false,
     "task": false
    },
    "tags": []
   },
   "outputs": [],
   "source": [
    "assert 1 <= len(sq1_1) <= 2\n",
    "assert set(sq1_1) < set(range(1, 7))"
   ]
  },
  {
   "cell_type": "code",
   "execution_count": null,
   "id": "950514e5-56e9-488d-a9b6-b231e7d5262e",
   "metadata": {
    "deletable": false,
    "editable": false,
    "nbgrader": {
     "cell_type": "code",
     "checksum": "1702e61d7c49da20be80181b5c9d064e",
     "grade": true,
     "grade_id": "cell-26b1c613a6f06ff9",
     "locked": true,
     "points": 5,
     "schema_version": 3,
     "solution": false,
     "task": false
    },
    "tags": []
   },
   "outputs": [],
   "source": []
  },
  {
   "cell_type": "code",
   "execution_count": null,
   "id": "3a5dfa77-0d04-4384-84df-88f14550d8b4",
   "metadata": {
    "deletable": false,
    "editable": false,
    "nbgrader": {
     "cell_type": "code",
     "checksum": "e76afee0618f7073f2ebef8e947b465b",
     "grade": true,
     "grade_id": "cell-9aa5fe70a03ab88f",
     "locked": true,
     "points": 5,
     "schema_version": 3,
     "solution": false,
     "task": false
    },
    "tags": []
   },
   "outputs": [],
   "source": []
  },
  {
   "cell_type": "markdown",
   "id": "8b88b08e",
   "metadata": {
    "deletable": false,
    "editable": false,
    "nbgrader": {
     "cell_type": "markdown",
     "checksum": "a57b56668c6aed15c3d1dcaa0c5e0be7",
     "grade": false,
     "grade_id": "cell-05a96ed4b54d0a0c",
     "locked": true,
     "schema_version": 3,
     "solution": false,
     "task": false
    },
    "tags": []
   },
   "source": [
    "<a id='Q2'></a>\n",
    "<div class=\" alert alert-warning\">\n",
    "    <h3><b>Student Question 1.2</b> Advantage (5 points) </h3> \n",
    "\n",
    "How can the value of advantage be intuitively interpreted? (Your answer should not be longer than 10 sentences).\n",
    "    \n",
    "🔝\t<a href='#TOC'><b>Table of Contents</b></a>\n",
    "</div>"
   ]
  },
  {
   "cell_type": "markdown",
   "id": "aa3bac64",
   "metadata": {
    "deletable": false,
    "nbgrader": {
     "cell_type": "markdown",
     "checksum": "c97f49161088ab47f866a42e9dd909a4",
     "grade": true,
     "grade_id": "cell-7ea462e5360ad185",
     "locked": false,
     "points": 5,
     "schema_version": 3,
     "solution": true,
     "task": false
    }
   },
   "source": [
    "YOUR ANSWER HERE\n",
    "\n",
    "The advantage value represents how much better or worse a specific action is compared to the average expected return from a given state under the current policy. \n",
    "\n",
    "A positive advantage indicates that the action outperforms the policy's baseline, encouraging the policy to favor it more in future updates. \n",
    "\n",
    "Whereas, a negative advantage suggests the action underperforms, prompting the policy to reduce its probability. \n",
    "\n",
    "This measure helps reduce variance in policy gradient estimates by subtracting a state-dependent baseline, leading to more stable learning. \n",
    "\n",
    "It essentially quantifies the relative benefit of an action, guiding the agent toward optimal decisions without relying solely on absolute rewards."
   ]
  },
  {
   "cell_type": "markdown",
   "id": "a4db6c52",
   "metadata": {
    "deletable": false,
    "editable": false,
    "nbgrader": {
     "cell_type": "markdown",
     "checksum": "c98268593ad7780ce49ad86a1e8f987c",
     "grade": false,
     "grade_id": "cell-9a3f2bca9650b8b5",
     "locked": true,
     "schema_version": 3,
     "solution": false,
     "task": false
    }
   },
   "source": [
    "<a id='Q3'></a>\n",
    "<div class=\" alert alert-warning\">\n",
    "    <h3><b>Student Question 1.3</b> Bias and Variance Analysis (10 points) </h3> \n",
    "\n",
    "How does the implemented actor-critic method compare to REINFORCE in terms of bias and variance of the policy gradient estimation? Explain your answer. (Your answer should not be longer than 10 sentences).\n",
    "    \n",
    "🔝\t<a href='#TOC'><b>Table of Contents</b></a>\n",
    "</div>"
   ]
  },
  {
   "cell_type": "markdown",
   "id": "106d5916",
   "metadata": {
    "deletable": false,
    "nbgrader": {
     "cell_type": "markdown",
     "checksum": "22175d03d3f4b28b443696bddd162af1",
     "grade": true,
     "grade_id": "cell-74f7530fd7c8fef3",
     "locked": false,
     "points": 10,
     "schema_version": 3,
     "solution": true,
     "task": false
    }
   },
   "source": [
    "YOUR ANSWER HERE\n",
    "\n",
    "The actor-critic method  provides policy gradient estimates with lower variance but potentially higher bias compared to REINFORCE. \n",
    "\n",
    "REINFORCE relies on Monte Carlo sampling of full episode returns to compute gradients, resulting in unbiased estimates since it uses actual trajectory rewards without approximations. However, this leads to high variance due to the stochastic nature of entire episodes and environmental noise. \n",
    "\n",
    "Whereas, actor-critic uses a learned critic to estimate value functions and advantages via temporal difference (TD) learning, which bootstraps from current estimates. This bootstrapping reduces variance by smoothing out noisy returns with function approximation. Yet, it introduces some bias because the critic's value estimates are imperfect and depend on the accuracy of the learned model. \n",
    "\n",
    "The trade-off allows actor-critic to learn more efficiently in practice, especially in long-horizon tasks. Overall, the reduced variance often outweighs the introduced bias, leading to more stable training."
   ]
  },
  {
   "cell_type": "markdown",
   "id": "c0ddf4e7",
   "metadata": {
    "deletable": false,
    "editable": false,
    "nbgrader": {
     "cell_type": "markdown",
     "checksum": "600033db53328bf2d16d465b3aff68b2",
     "grade": false,
     "grade_id": "cell-57372114b7deef34",
     "locked": true,
     "schema_version": 3,
     "solution": false,
     "task": false
    }
   },
   "source": [
    "<a id='Q4'></a>\n",
    "<div class=\" alert alert-warning\">\n",
    "    <h3><b>Student Question 1.4</b> Controlling bias-variance tradeoff (10 points) </h3> \n",
    "\n",
    "How could the bias-variance tradeoff in actor-critic be controlled? (Your answer should not be longer than 10 sentences).\n",
    "    \n",
    "🔝\t<a href='#TOC'><b>Table of Contents</b></a>\n",
    "</div>"
   ]
  },
  {
   "cell_type": "markdown",
   "id": "03501249",
   "metadata": {
    "deletable": false,
    "nbgrader": {
     "cell_type": "markdown",
     "checksum": "719a83ac1efc28a51317240ab20e3168",
     "grade": true,
     "grade_id": "cell-bd37bcc37ef9fff6",
     "locked": false,
     "points": 10,
     "schema_version": 3,
     "solution": true,
     "task": false
    }
   },
   "source": [
    "YOUR ANSWER HERE\n",
    "\n",
    "To control bias-variance tradeoff in actor-critic: \n",
    "\n",
    "- **Generalized Advantage Estimation (GAE)**: Using hyperparameter $\\lambda$ to balance bias and variance. $\\lambda$ near 0 increases bias/lowers variance via TD updates. $\\lambda$ near 1 reduces bias/increases variance via Monte Carlo estimates.\n",
    "\n",
    "- **N-step Returns**: Adjusting bootstrapping horizon. Shorter n-steps increase bias but decrease variance. Longer n-steps reduce bias at the expense of increased variance.\n",
    "\n",
    "- **Critic Improvement**: Enhancing function approximation with deeper networks or ensembles to cut bias without raising variance much.\n",
    "\n",
    "- **Regularization Techniques**: Applying entropy bonuses or target networks to smooth updates and stabilize the tradeoff.\n",
    "\n",
    "- **Discount Factor ($\\gamma$)**: Tuning $\\gamma$ indirectly. Higher values extend horizon and may increase variance.\n"
   ]
  },
  {
   "cell_type": "markdown",
   "id": "edc1e91e-5715-45b9-a2c2-4e8f0fd2fff2",
   "metadata": {
    "deletable": false,
    "editable": false,
    "nbgrader": {
     "cell_type": "markdown",
     "checksum": "2b1c367010d08ca7088a8580a920eb7d",
     "grade": false,
     "grade_id": "cell-5f74898cf5b2c817",
     "locked": true,
     "schema_version": 3,
     "solution": false,
     "task": false
    },
    "tags": []
   },
   "source": [
    "\n",
    "# 3. Submitting <a id='3.'></a>\n",
    "Ensure all tasks and questions (in ```ex6_DDPG.ipynb``` and ```ex6_PG_AC.ipynb```) are answered and the necessary plots are saved in the appropriate locations. The relevant plots and files needed to be submitted for this assignment are:\n",
    "\n",
    "\n",
    "- Training performance plots:\n",
    "  - `pg_ac.png`: Training performance plots in terms of episode and episodic reward\n",
    "<br>\n",
    "\n",
    "  \n",
    "- Model files:\n",
    "  - `InvertedPendulum-v4_params.pt`: Trained model\n",
    "\n",
    "\n",
    "Ensure the model files and plots are saved in correct paths:\n",
    "- ```results/InvertedPendulum-v4/pg_ac.png``` Training result\n",
    "- ```results/InvertedPendulum-v4/model/InvertedPendulum-v4_params.pt``` Training Model\n",
    "\n",
    "\n",
    "<span style=\"color:red\"> **# IMPORTANT: DO NOT FORGET ANOTHER TASK IN ```ex6_DDPG.ipynb```** </span>"
   ]
  },
  {
   "cell_type": "code",
   "execution_count": 158,
   "id": "e9269a2b",
   "metadata": {},
   "outputs": [
    {
     "ename": "AssertionError",
     "evalue": "",
     "output_type": "error",
     "traceback": [
      "\u001b[0;31m---------------------------------------------------------------------------\u001b[0m",
      "\u001b[0;31mAssertionError\u001b[0m                            Traceback (most recent call last)",
      "Cell \u001b[0;32mIn[158], line 2\u001b[0m\n\u001b[1;32m      1\u001b[0m \u001b[38;5;66;03m# Make sure that skip training is set to True before submission\u001b[39;00m\n\u001b[0;32m----> 2\u001b[0m \u001b[38;5;28;01massert\u001b[39;00m skip_training \u001b[38;5;241m==\u001b[39m \u001b[38;5;28;01mTrue\u001b[39;00m\n",
      "\u001b[0;31mAssertionError\u001b[0m: "
     ]
    }
   ],
   "source": [
    "# Make sure that skip training is set to True before submission\n",
    "assert skip_training == True"
   ]
  },
  {
   "cell_type": "markdown",
   "id": "88b0c6d7-563a-4037-9d4c-ef1422d7b657",
   "metadata": {
    "deletable": false,
    "editable": false,
    "nbgrader": {
     "cell_type": "markdown",
     "checksum": "89e8fd20b8a0b3230d25dc0d69962803",
     "grade": false,
     "grade_id": "cell-99c320f0e224a0c8",
     "locked": true,
     "schema_version": 3,
     "solution": false,
     "task": false
    },
    "tags": []
   },
   "source": [
    "## 3.1 Feedback <a id='3.1'></a>\n",
    "\n",
    "In order to help the staff of the course as well as the forthcoming students, it would be great if you could answer to the following questions in your submission:"
   ]
  },
  {
   "cell_type": "markdown",
   "id": "de2e7c42-211b-419b-a3c9-daeab45597f1",
   "metadata": {
    "deletable": false,
    "editable": false,
    "nbgrader": {
     "cell_type": "markdown",
     "checksum": "016e22b96662eff6447f48f25857a230",
     "grade": false,
     "grade_id": "cell-09e6cdb34c71b984",
     "locked": true,
     "schema_version": 3,
     "solution": false,
     "task": false
    },
    "tags": []
   },
   "source": [
    "1) How much time did you spend solving this exercise? (change the ```hrs``` variable below to a floating point number representing the number of hours taken e.g. 5.43)"
   ]
  },
  {
   "cell_type": "code",
   "execution_count": null,
   "id": "3cfa3e0a-f247-43f4-92cc-5b6e99c79049",
   "metadata": {
    "tags": []
   },
   "outputs": [],
   "source": [
    "hrs = 2"
   ]
  },
  {
   "cell_type": "markdown",
   "id": "83e49e4f-0803-4d11-9ac4-9f77bedfa52f",
   "metadata": {
    "deletable": false,
    "editable": false,
    "nbgrader": {
     "cell_type": "markdown",
     "checksum": "7c96fba064ac1fc2b00810fc1dc378a0",
     "grade": false,
     "grade_id": "cell-fa64dd33a8c904ef",
     "locked": true,
     "schema_version": 3,
     "solution": false,
     "task": false
    },
    "tags": []
   },
   "source": [
    "2) Difficulty of each task/question from 1-5 (int or float)"
   ]
  },
  {
   "cell_type": "code",
   "execution_count": null,
   "id": "f8fc5ed4-1957-4c5c-97fb-de2dc7c4362e",
   "metadata": {
    "tags": []
   },
   "outputs": [],
   "source": [
    "T1 = None   # Implementing DDPG (20 points)\n",
    "Q1 = None   # Question 1.1 Relationship between actor-critic and REINFORCE with baseline (10 points)\n",
    "Q2 = None   # Question 1.2 Advantage (5 points)\n",
    "Q3 = None   # Question 1.3 Bias and Variance Analysis (10 points)\n",
    "Q4 = None   # Question 1.4 Controlling bias-variance tradeoff (10 points)"
   ]
  },
  {
   "cell_type": "markdown",
   "id": "a8f6cdd1-ea58-4a06-a81b-1d7cc36f14a2",
   "metadata": {
    "deletable": false,
    "editable": false,
    "nbgrader": {
     "cell_type": "markdown",
     "checksum": "4dab816afcbe55502451543d8a576129",
     "grade": false,
     "grade_id": "cell-69fa22cf9bfa78b8",
     "locked": true,
     "schema_version": 3,
     "solution": false,
     "task": false
    },
    "tags": []
   },
   "source": [
    "3) How well did you understand the content of the task/question from 1-5? (int or float)"
   ]
  },
  {
   "cell_type": "code",
   "execution_count": null,
   "id": "27706e2f-2a35-4a6e-ad07-9af944b96dfe",
   "metadata": {
    "tags": []
   },
   "outputs": [],
   "source": [
    "T1 = None   # Implementing DDPG (20 points)\n",
    "Q1 = None   # Question 1.1 Relationship between actor-critic and REINFORCE with baseline (10 points)\n",
    "Q2 = None   # Question 1.2 Advantage (5 points)\n",
    "Q3 = None   # Question 1.3 Bias and Variance Analysis (10 points)\n",
    "Q4 = None   # Question 1.4 Controlling bias-variance tradeoff (10 points)"
   ]
  },
  {
   "cell_type": "markdown",
   "id": "bc810cc9-ba38-480d-a95e-178f875bc744",
   "metadata": {
    "deletable": false,
    "editable": false,
    "nbgrader": {
     "cell_type": "markdown",
     "checksum": "e0204b1b962a537ae2e40333c7dfdbcb",
     "grade": false,
     "grade_id": "cell-2e02694ca4fcfa78",
     "locked": true,
     "schema_version": 3,
     "solution": false,
     "task": false
    },
    "tags": []
   },
   "source": [
    "4) General feedback. Consider questions like:\n",
    "\n",
    "    - Did the content of the lecture relate well with the assignment?\n",
    "    - To what extent did you find the material to be potentially useful for your research and studies?\n",
    "    \n",
    "Please share any additional feedback, suggestions, or comments you have about the lecture, assignment, or course content. Your input is valuable in helping us improve the learning experience."
   ]
  },
  {
   "cell_type": "markdown",
   "id": "ce6d30ad-8d44-4fe5-a642-121200f920d1",
   "metadata": {
    "tags": []
   },
   "source": [
    "DOUBLE CLICK HERE TO EDIT, CLEAR THIS TEXT AND ANSWER HERE"
   ]
  },
  {
   "cell_type": "markdown",
   "id": "785254f3-48b6-44a6-ace6-0eae136d6396",
   "metadata": {
    "deletable": false,
    "editable": false,
    "nbgrader": {
     "cell_type": "markdown",
     "checksum": "c456a1da33caaefda4a4a4c165be11d6",
     "grade": false,
     "grade_id": "cell-5086c1c7c783ad08",
     "locked": true,
     "schema_version": 3,
     "solution": false,
     "task": false
    },
    "tags": []
   },
   "source": [
    "# References <a id='4.'></a>\n",
    "Please use the following section to record references."
   ]
  },
  {
   "cell_type": "code",
   "execution_count": null,
   "id": "1be24169-8a32-4c87-9e15-3f6eee2364a9",
   "metadata": {},
   "outputs": [],
   "source": []
  }
 ],
 "metadata": {
  "kernelspec": {
   "display_name": "Python 3",
   "language": "python",
   "name": "python3"
  },
  "language_info": {
   "codemirror_mode": {
    "name": "ipython",
    "version": 3
   },
   "file_extension": ".py",
   "mimetype": "text/x-python",
   "name": "python",
   "nbconvert_exporter": "python",
   "pygments_lexer": "ipython3",
   "version": "3.10.12"
  }
 },
 "nbformat": 4,
 "nbformat_minor": 5
}
