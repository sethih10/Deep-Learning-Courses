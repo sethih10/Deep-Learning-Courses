{
 "cells": [
  {
   "cell_type": "markdown",
   "id": "8323a86e",
   "metadata": {
    "deletable": false,
    "editable": false,
    "nbgrader": {
     "cell_type": "markdown",
     "checksum": "968ecb4cb3b8623792cd5938edc4ea1b",
     "grade": false,
     "grade_id": "cell-47bfc0ea1447f571",
     "locked": true,
     "schema_version": 3,
     "solution": false,
     "task": false
    }
   },
   "source": [
    "\n",
    "<div class=\"alert alert-block alert-info\">\n",
    "   <h2 align=\"center\"> <center><b> Reinforcement Learning Assignment 6 - Actor Critic part 1 </b></center></h2>\n",
    "\n",
    "<br>\n",
    "<center><font size=\"3\">This notebook is part of the teaching material for ELEC-E8125</font></center>\n",
    "<center><font size=\"3\">Aalto University</font></center>\n",
    "</div>\n",
    "\n",
    "\n",
    "<a id='TOC'></a>\n",
    "\n",
    "<div class=\"alert alert-block alert-success\">\n",
    "    \n",
    "# Table of contents\n",
    "* <a href='#1.'> 1. Introduction </a>\n",
    "* <a href='#1.1'> 1.1 Learning Objectives </a>\n",
    "* <a href='#1.2'> 1.2 Code Structure & Files </a>\n",
    "* <a href='#2.'> 2. Policy Gradient with a Critic </a>\n",
    "* <a href='#3.'> 3. Submitting </a>\n",
    "* <a href='#3.1'> 3.1 Feedback </a>\n",
    "* <a href='#4.'> References</a>\n",
    "\n",
    "<a href='#T1'><b>Student Task 1.</b> Implementing PG with critic (20 points)</a>\\\n",
    "<a href='#Q1'><b>Student Question 1.1</b> Relationship between actor-critic and REINFORCE with baseline (10 points)</a>\\\n",
    "<a href='#Q2'><b>Student Question 1.2</b> Advantage (5 points)  </a>\\\n",
    "<a href='#Q3'><b>Student Question 1.3</b> Bias and Variance Analysis (10 points) </a>\\\n",
    "<a href='#Q4'><b>Student Question 1.4</b> Controlling bias-variance tradeoff (10 points)</a>\n",
    "    \n",
    "**Total Points:** 55\n",
    "\n",
    "**Estimated runtime of all the cells:** 1 hour"
   ]
  },
  {
   "cell_type": "markdown",
   "id": "ab53631b",
   "metadata": {
    "deletable": false,
    "editable": false,
    "nbgrader": {
     "cell_type": "markdown",
     "checksum": "a4ce01f58b207f5715f395b180619b9e",
     "grade": false,
     "grade_id": "cell-6ef87fd4c2d2cc44",
     "locked": true,
     "schema_version": 3,
     "solution": false,
     "task": false
    }
   },
   "source": [
    "# 1. Introduction <a id='1.'></a>\n",
    "\n",
    "In this assignment, we will implement an actor-critic reinforcement learning algorithm which combines elements of both value-based methods (critic) and policy-based methods (actor) to improve learning and stability in the **InvertedPendulum-v4**  environment.\n",
    "\n",
    "## 1.1 Task environments: <a id='1.1'></a>\n",
    "\n",
    "In this exercise, we will focus on InvertedPendulum-v4 tasks:\n",
    "- InvertedPendulum-v4(https://gymnasium.farama.org/environments/mujoco/inverted_pendulum/): This environment is similar to the cartpole environment but now powered by the Mujoco physics simulator - allowing for more complex experiments (such as varying the effects of gravity). This environment involves a cart that moves horizontally, with a pole fixed on the cart at one end and the other end of the pole moving freely. The cart can be pushed left or right. The goal is to move the pole such that it is vertically above the cart pointing straight up by applying horizontal forces on the cart.\n",
    "<figure style=\"text-align: center\">\n",
    "    <img src=\"imgs/InvertedPendulum.png\" width=\"300\"/>\n",
    "    <figcaption style=\"text-align: center\">  Figure 1: The InvertedPendulum-v4 environment. </figcaption>\n",
    "</figure>\n",
    "\n",
    "## 1.2 Learning Objectives: <a id='1.1'></a>\n",
    "\n",
    "- Understand the idea of actor-critic algorithms\n",
    "- Understand the limits and use cases of actor-critics\n",
    "\n",
    "## 1.3 Code Structure & Files <a id='1.2'></a>\n",
    "\n",
    "```ex6_PG_AC.ipynb``` is the file needed to be modified for this part of the assignment.  \n",
    "\n",
    "<span style=\"color:red\"> **# IMPORTANT: DO NOT FORGET ANOTHER PART IN ```ex6_DDPG.ipynb```** </span>\n",
    "\n",
    "```\n",
    "├───cfg                            # Config files for environments\n",
    "├───imgs                           # Images used in notebook\n",
    "├───results\n",
    "│   └───HalfCheetah-v4\n",
    "│   │   ├───logging                \n",
    "│   │   │    └───logging.pkl        # Contains logged data\n",
    "│   │   ├───model              \n",
    "│   │   │    └───*HalfCheetah-v4_params.pt    # Contains trained model\n",
    "│   │   └───video                   # Videos saved\n",
    "│   │   └───*ddpg.png               # Contains training performance plot\n",
    "│   └───InvertedPendulum-v4\n",
    "│   │   ├───logging                \n",
    "│   │   │    └───logging.pkl        # Contains logged data\n",
    "│   │   ├───model              \n",
    "│   │   │    └───*InvertedPendulum-v4_params.pt      # Contains trained model\n",
    "│   │   └───video                   # Videos saved\n",
    "│   │   └───*pg_ac.png              # Contains training performance plot\n",
    "│   ex6_DDPG.ipynb                  # 2nd assignment file containing tasks <---------\n",
    "│   ex6_PG_AC.ipynb                 # 1st assignment file containing tasks <---------This task\n",
    "│   train.py                        # Contains train and test functions \n",
    "│   utils.py                        # Contains useful functions \n",
    "└───buffer.py                       # Contains buffer functions\n",
    "```\n",
    "\n",
    "## 1.4 Execution time <a id='1.4'></a>\n",
    "\n",
    "The training of Actor-Critic may take more than 30 mins depending on the server load. If you have problems with the training time, you can train locally."
   ]
  },
  {
   "cell_type": "markdown",
   "id": "36ef1c90",
   "metadata": {
    "deletable": false,
    "editable": false,
    "nbgrader": {
     "cell_type": "markdown",
     "checksum": "e2a4fdb4406c82cbf0924a4ae9fd56ca",
     "grade": false,
     "grade_id": "cell-76eb1e3dcf217198",
     "locked": true,
     "schema_version": 3,
     "solution": false,
     "task": false
    }
   },
   "source": [
    "## Warnings:\n",
    "\n",
    "- Don’t copy and paste cells within a notebook. This will mess up the tracking metadata and prevent autograding from working.\n",
    "- Only add new cells using the '+' button in the upper toolbar and do not split cells.\n",
    "- Be cautious about things such as copying the whole notebook to Colab to work on it. This has sometimes resulted in removing all notebook metadata, making autograding impossible."
   ]
  },
  {
   "cell_type": "markdown",
   "id": "eb79df48",
   "metadata": {
    "deletable": false,
    "editable": false,
    "nbgrader": {
     "cell_type": "markdown",
     "checksum": "dd4a8717cd49c894ce9a4aa3a1895148",
     "grade": false,
     "grade_id": "cell-78fdf22a73920722",
     "locked": true,
     "schema_version": 3,
     "solution": false,
     "task": false
    }
   },
   "source": [
    "\n",
    "# 2. Policy Gradient with a Critic <a id='2.'></a>"
   ]
  },
  {
   "cell_type": "markdown",
   "id": "c584d11d",
   "metadata": {
    "deletable": false,
    "editable": false,
    "nbgrader": {
     "cell_type": "markdown",
     "checksum": "0439bebaa3d0d286f254868ab55e9939",
     "grade": false,
     "grade_id": "cell-61899a5dd880417b",
     "locked": true,
     "schema_version": 3,
     "solution": false,
     "task": false
    }
   },
   "source": [
    "<a id='T1'></a>\n",
    "<div class=\" alert alert-warning\">\n",
    "    <h3><b>Student Task 1.</b> Implement policy gradient (PG) with critic (20 points) </h3> \n",
    "\n",
    "Revisit the policy gradient solution for the InvertedPendulum from Exercise 5 with learned sigma if needed. Implement the actor-critic algorithm below. Perform TD(0) updates at the end of each episode. You can check the training performance plot in the result folder after running the plot cell. Take Figure 2 as a reference training plot. \n",
    "    \n",
    "**Hint:** Check out the PyTorch tutorial from [here](https://pytorch.org/tutorials/beginner/basics/autogradqs_tutorial.html) to see how to calculate the $A_\\theta \\Delta_\\theta \\log \\pi_\\theta(a_i|s_i)$ term using the ```detach()``` function. \n",
    "\n",
    "<figure style=\"text-align: center\">\n",
    "<img src=\"imgs/pg_ac.png\" width=\"400px\">\n",
    "<figcaption style=\"text-align: center\"> Figure 2: Training plot of the policy gradient with a critic.\n",
    "</figcaption>\n",
    "</figure>\n",
    "     \n",
    "**Complete the all the unfinished implementation in `PG` class (marked with ```TODOs```)**. \n",
    "    \n",
    "1. **Policy Network**: Finish the `__init__(self, state_dim, action_dim)` function and `forward(self, state)` function within the `Policy` class\n",
    "2. **Agent Update Function**: Finish the `update(self, )` function within the `PG` class\n",
    "3. **Get Action Method**: Finish the `get_action(self, observation, evaluation=False)` function within the `PG` class.\n",
    "    \n",
    "🔝\t<a href='#TOC'><b>Table of Contents</b></a>\n",
    "</div>\n"
   ]
  },
  {
   "cell_type": "code",
   "execution_count": 1,
   "id": "9dc0d42e",
   "metadata": {
    "tags": []
   },
   "outputs": [],
   "source": [
    "skip_training = True  # Set this flag to True before validation and submission"
   ]
  },
  {
   "cell_type": "code",
   "execution_count": null,
   "id": "489df71f",
   "metadata": {
    "deletable": false,
    "editable": false,
    "nbgrader": {
     "cell_type": "code",
     "checksum": "e4a46183e22c508d922baebfefbe6a0a",
     "grade": true,
     "grade_id": "cell-f54b5f40d174d5b2",
     "locked": true,
     "points": 0,
     "schema_version": 3,
     "solution": false,
     "task": false
    }
   },
   "outputs": [],
   "source": []
  },
  {
   "cell_type": "code",
   "execution_count": 2,
   "id": "fad4384f",
   "metadata": {
    "tags": []
   },
   "outputs": [],
   "source": [
    "import sys, os\n",
    "sys.path.insert(0, os.path.abspath(\"..\"))\n",
    "\n",
    "import numpy as np\n",
    "from pathlib import Path\n",
    "from IPython.display import Video\n",
    "\n",
    "import torch, yaml\n",
    "from torch import nn\n",
    "import torch.nn.functional as F\n",
    "from torch.distributions import Normal\n",
    "\n",
    "import train as t\n",
    "import utils as u\n",
    "\n",
    "device = 'cpu'"
   ]
  },
  {
   "cell_type": "code",
   "execution_count": 3,
   "id": "a6634d41",
   "metadata": {
    "tags": []
   },
   "outputs": [],
   "source": [
    "# Actor-critic agent\n",
    "def layer_init(layer, std=np.sqrt(2), bias_const=0.0):\n",
    "    torch.nn.init.orthogonal_(layer.weight, std)\n",
    "    torch.nn.init.constant_(layer.bias, bias_const)\n",
    "    return layer\n",
    "\n",
    "\n",
    "class Policy(nn.Module):\n",
    "    def __init__(self, state_dim, action_dim):\n",
    "        super().__init__()\n",
    "        # Create a neural network and use it for the mean of the policy.\n",
    "        # The size of the neural network here has been chosen such that \n",
    "        # it is not too big but should perform well in the tasks we want to look at.\n",
    "        self.actor_mean = nn.Sequential(\n",
    "            layer_init(nn.Linear(state_dim, 64)), nn.Tanh(),\n",
    "            layer_init(nn.Linear(64, 64)), nn.Tanh(),\n",
    "            layer_init(nn.Linear(64, action_dim), std=0.01),\n",
    "        )\n",
    "        \n",
    "        \"\"\"\n",
    "        # TODO: Implement actor_logstd as a learnable parameter\n",
    "        # Use log of std to make sure std (standard deviation) of the policy\n",
    "        # doesn't become negative during training\n",
    "        \"\"\"\n",
    "        #self.actor_logstd = ...\n",
    "        self.actor_logstd = nn.Parameter(torch.zeros(1, action_dim))\n",
    "        \n",
    "    def forward(self, state):\n",
    "        # Get mean of a Normal distribution (the output of the neural network)\n",
    "        action_mean = self.actor_mean(state)\n",
    "\n",
    "        # Make sure action_logstd matches dimensions of action_mean\n",
    "        action_logstd = self.actor_logstd.expand_as(action_mean)\n",
    "\n",
    "        # Exponentiate the log std to get actual std\n",
    "        action_std = torch.exp(action_logstd)\n",
    "        \n",
    "        \"\"\"\n",
    "        # TODO: Create a Normal distribution with mean of 'action_mean' & standard deviation of 'action_logstd' \n",
    "        # and return the distribution. You should be using the torch.distributions.Normal class to create the distribution.\n",
    "        \"\"\"\n",
    "        #probs = ...\n",
    "        probs = Normal(action_mean, action_std)\n",
    "\n",
    "        return probs\n",
    "\n",
    "    \n",
    "class Value(nn.Module):\n",
    "    def __init__(self, state_dim):\n",
    "        super().__init__()\n",
    "        self.value = nn.Sequential(\n",
    "            layer_init(nn.Linear(state_dim, 64)), nn.Tanh(),\n",
    "            layer_init(nn.Linear(64, 64)), nn.Tanh(),\n",
    "            layer_init(nn.Linear(64, 1)))\n",
    "    \n",
    "    def forward(self, x):\n",
    "        return self.value(x).squeeze(1) # output shape [batch,]\n",
    "\n",
    "\n",
    "class PG(object):\n",
    "    def __init__(self, state_dim, action_dim, lr, gamma):\n",
    "        self.name = 'pg'\n",
    "        self.policy = Policy(state_dim, action_dim).to(device)\n",
    "        self.value = Value(state_dim).to(device)\n",
    "        self.optimizer = torch.optim.Adam(list(self.policy.parameters()) + list(self.value.parameters()), \n",
    "                                         lr=float(lr),)\n",
    "\n",
    "        self.gamma = gamma\n",
    "\n",
    "        # a simple buffer\n",
    "        self.states = []\n",
    "        self.action_probs = []\n",
    "        self.rewards = []\n",
    "        self.dones = []\n",
    "        self.next_states = []\n",
    "\n",
    "    '''\n",
    "    TODO: Task 1\n",
    "    # Complete the following 4 functions\n",
    "    # Hints: 1. calculate the target values as well as the MSE loss between the predicted value and the target values\n",
    "    #        2. calculate the policy loss (similar to ex5) with advantage calculated from the value function. Normalise\n",
    "    #           the advantage to zero mean and unit variance.\n",
    "    #        3. Use mean to calculate the actor (policy) loss ;)\n",
    "    #           - https://discuss.pytorch.org/t/loss-reduction-sum-vs-mean-when-to-use-each/115641/2\n",
    "    '''\n",
    "    \n",
    "    # 1. Calculate the target values, you should not modify the gradient of the variables\n",
    "    def calculate_target_values(self, rewards, next_states, dones):\n",
    "        ########## Your code starts here. ##########\n",
    "        with torch.no_grad():\n",
    "            #next_values = ...\n",
    "            #target_values = ...\n",
    "            next_values = self.value(next_states)\n",
    "            target_values = rewards + self.gamma * (1.0 - dones) * next_values\n",
    "        ########## Your code ends here. ##########\n",
    "        return target_values\n",
    "\n",
    "    # 2. Calculate the critic loss\n",
    "    def calculate_critic_loss(self, values, target_values):\n",
    "        ########## Your code starts here. ##########\n",
    "        #critic_loss = ...\n",
    "        critic_loss = F.mse_loss(values, target_values)\n",
    "        ########## Your code ends here. ##########\n",
    "        return critic_loss\n",
    "    \n",
    "    # 3. Advantage estimation, you should not modify the gradient of the variables\n",
    "    def calculate_advantage(self, values, target_values):\n",
    "        ########## Your code starts here. ##########\n",
    "        with torch.no_grad():\n",
    "            #advantage = ...\n",
    "            advantage = target_values - values\n",
    "            advantage = (advantage - advantage.mean())/(advantage.std() + 1e-9)\n",
    "        ########## Your code ends here. ##########\n",
    "        return advantage\n",
    "    \n",
    "    # 4. Calculate the actor (policy) loss \n",
    "    def calculate_actor_loss(self, action_probs, advantage):\n",
    "        ########## Your code starts here. ##########\n",
    "        #weighted_probs = ...\n",
    "        #actor_loss = ...\n",
    "        weighted_probs = action_probs*advantage\n",
    "        actor_loss = -weighted_probs.mean()\n",
    "        ########## Your code ends here. ##########\n",
    "        return actor_loss\n",
    "\n",
    "    def update(self,):\n",
    "        action_probs = torch.stack(self.action_probs, dim=0) \\\n",
    "                .to(device).squeeze(-1)\n",
    "        rewards = torch.stack(self.rewards, dim=0).to(device).squeeze(-1)\n",
    "        states = torch.stack(self.states, dim=0).to(device).squeeze(-1)\n",
    "        next_states = torch.stack(self.next_states, dim=0).to(device).squeeze(-1)\n",
    "        dones = torch.stack(self.dones, dim=0).to(device).squeeze(-1)\n",
    "        # clear buffer\n",
    "        self.states, self.action_probs, self.rewards, self.dones, self.next_states = [], [], [], [], []\n",
    "\n",
    "        \"\"\"\n",
    "        # TODO: Compute the current state value estimates using the value function network\n",
    "        \"\"\"\n",
    "        #values = ...\n",
    "        values = self.value(states)\n",
    "        \n",
    "        target_values = self.calculate_target_values(rewards, next_states, dones)        \n",
    "        critic_loss = self.calculate_critic_loss(values, target_values)        \n",
    "        advantage = self.calculate_advantage(values, target_values)\n",
    "        actor_loss = self.calculate_actor_loss(action_probs, advantage)\n",
    "\n",
    "        \"\"\"\n",
    "        # TODO: Compute the gradients of the joint loss w.r.t network parameters\n",
    "        \"\"\"\n",
    "        #loss = ...\n",
    "        loss = actor_loss + critic_loss\n",
    "        loss.backward()\n",
    "\n",
    "        # Update network parameters using self.optimizer and zero gradients \n",
    "        self.optimizer.step()  \n",
    "        nn.utils.clip_grad_norm_(list(self.policy.parameters())+ list(self.value.parameters()), 1.0)\n",
    "        self.optimizer.zero_grad() \n",
    "\n",
    "        return {}\n",
    "\n",
    "    def get_action(self, observation, evaluation=False):\n",
    "        \"\"\"Return action (np.ndarray) and logprob (torch.Tensor) of this action.\"\"\"\n",
    "        if observation.ndim == 1: observation = observation[None] # add the batch dimension\n",
    "        x = torch.from_numpy(observation).float().to(device)\n",
    "        \n",
    "        '''\n",
    "        # TODO: Task 1\n",
    "        # Hints: 1. the self.policy returns a normal distribution, check the PyTorch documentation to see \n",
    "        #           how to calculate the log_prob of an action and how to sample.\n",
    "        #        2. if evaluating the policy, return policy mean, otherwise, return a sample\n",
    "        #        3. the returned action and the act_logprob should be torch.Tensors.\n",
    "        #           Please always make sure the shape of variables is as you expected.\n",
    "        '''\n",
    "        ########## Your code starts here. ##########\n",
    "        #dist = ...\n",
    "        #if evaluation:\n",
    "        #    action = ...\n",
    "        #else:\n",
    "        #    action = ...\n",
    "        \n",
    "        dist = self.policy(x)\n",
    "        if evaluation:\n",
    "            action = dist.mean\n",
    "        else:\n",
    "            action = dist.sample()\n",
    "        \n",
    "        # compute the log probability of the action\n",
    "        #act_logprob = ...\n",
    "        act_logprob = dist.log_prob(action)\n",
    "        action = action.squeeze()\n",
    "        \n",
    "        act_logprob = act_logprob.sum(dim=-1)\n",
    "        act_logprob = act_logprob.squeeze()\n",
    "        \n",
    "        ########## Your code ends here. ###########\n",
    "        return action, act_logprob\n",
    "\n",
    "    def record(self, observation, action_prob, next_observation, reward, done):\n",
    "        self.states.append(torch.tensor(observation, dtype=torch.float32))\n",
    "        self.action_probs.append(action_prob)\n",
    "        self.rewards.append(torch.tensor([reward], dtype=torch.float32))\n",
    "        self.dones.append(torch.tensor([done], dtype=torch.float32))\n",
    "        self.next_states.append(torch.tensor(next_observation, dtype=torch.float32))\n",
    "\n",
    "    def load(self, filepath):\n",
    "        d = torch.load(filepath)\n",
    "        self.policy.load_state_dict(d['policy'])\n",
    "        self.value.load_state_dict(d['value'])\n",
    "    \n",
    "    def save(self, filepath):\n",
    "        torch.save({\n",
    "            'policy': self.policy.state_dict(),\n",
    "            'value': self.value.state_dict(),\n",
    "        }, filepath)"
   ]
  },
  {
   "cell_type": "code",
   "execution_count": 4,
   "id": "c970385d",
   "metadata": {
    "deletable": false,
    "editable": false,
    "nbgrader": {
     "cell_type": "code",
     "checksum": "5af7194a025f5c6a09d1e4bd68084daa",
     "grade": true,
     "grade_id": "cell-9122872aaa786a57",
     "locked": true,
     "points": 2,
     "schema_version": 3,
     "solution": false,
     "task": false
    },
    "tags": []
   },
   "outputs": [],
   "source": [
    "# Test Policy\n",
    "def test_policy_class():\n",
    "    policy = Policy(4, 1)\n",
    "    x = torch.Tensor((1.,2.,3.,4.)).reshape((1,4))\n",
    "    assert isinstance( policy.forward(x),Normal)\n",
    "    assert policy.actor_logstd.requires_grad\n",
    "\n",
    "test_policy_class()"
   ]
  },
  {
   "cell_type": "code",
   "execution_count": 5,
   "id": "1267fbc6",
   "metadata": {
    "deletable": false,
    "editable": false,
    "nbgrader": {
     "cell_type": "code",
     "checksum": "8bd467e6ef4d0bce56458aa52ec2b321",
     "grade": true,
     "grade_id": "cell-43cbda8b39fe293e",
     "locked": true,
     "points": 2,
     "schema_version": 3,
     "solution": false,
     "task": false
    },
    "tags": []
   },
   "outputs": [
    {
     "name": "stdout",
     "output_type": "stream",
     "text": [
      "Numpy/Torch/Random Seed:  43\n"
     ]
    }
   ],
   "source": [
    "%%capture --no-stdout\n",
    "#Test get_action method\n",
    "def test_get_action_1():\n",
    "    cfg_path=Path().cwd()/'cfg'/'pg_ac.yaml'\n",
    "    cfg_args=dict(save_video=False,testing=False,seed=43)\n",
    "    env, cfg = t.setup(cfg_path, cfg_args=cfg_args)\n",
    "    agent = PG(cfg.state_shape[0], cfg.action_dim, cfg.lr, cfg.gamma)\n",
    "    obs = np.array([ 0.00978977, -0.00972236, -0.00706408,  0.00517535])\n",
    "    action = -2.0871510059805587e-05\n",
    "    assert np.allclose(agent.get_action(obs,True)[0].item(),action,atol=1e-03)\n",
    "\n",
    "    agent2 = PG(cfg.state_shape[0], cfg.action_dim, cfg.lr, cfg.gamma)\n",
    "    assert tuple(agent2.get_action(obs,True)[1].shape) == ()\n",
    "\n",
    "test_get_action_1()"
   ]
  },
  {
   "cell_type": "code",
   "execution_count": 6,
   "id": "f1baa5e6",
   "metadata": {
    "deletable": false,
    "editable": false,
    "nbgrader": {
     "cell_type": "code",
     "checksum": "70ac43e68631b7ae6e31f11b62e2eece",
     "grade": true,
     "grade_id": "cell-5bfa2cf43da8fc00",
     "locked": true,
     "points": 2,
     "schema_version": 3,
     "solution": false,
     "task": false
    },
    "tags": []
   },
   "outputs": [
    {
     "name": "stdout",
     "output_type": "stream",
     "text": [
      "Numpy/Torch/Random Seed:  43\n"
     ]
    }
   ],
   "source": [
    "def test_update_function_1():\n",
    "    cfg_path=Path().cwd()/'cfg'/'pg_ac.yaml'\n",
    "    cfg_args=dict(save_video=False,testing=False,seed=43)\n",
    "    env, cfg = t.setup(cfg_path, cfg_args=cfg_args)\n",
    "    agent = PG(4, cfg.action_dim, cfg.lr, cfg.gamma)\n",
    "\n",
    "    rewards = torch.tensor([1., 1., 1., 1.])\n",
    "    action_probs = torch.tensor([-0.9286, -1.1687, -1.2360, -1.7127])\n",
    "    next_states = torch.tensor([[-0.0079,  0.0071, -0.1703,  0.4061],\n",
    "                                [-0.0274,  0.0524, -0.8029,  1.8464],\n",
    "                                [-0.0633,  0.1342, -0.9942,  2.2525],\n",
    "                                [-0.0931,  0.2017, -0.4978,  1.1568]])\n",
    "    dones = torch.tensor([0., 0., 0., 1.])\n",
    "    states = torch.tensor([[-4.6008e-03, -1.0801e-03,  7.1437e-03, -1.4543e-03],\n",
    "                           [-7.8743e-03,  7.0946e-03, -1.7034e-01,  4.0608e-01],\n",
    "                           [-2.7371e-02,  5.2385e-02, -8.0292e-01,  1.8464e+00],\n",
    "                           [-6.3307e-02,  1.3419e-01, -9.9422e-01,  2.2525e+00]])\n",
    "    values = torch.tensor([-0.0013, -0.0137, -0.0187, -0.0289])\n",
    "\n",
    "    target_values = agent.calculate_target_values(rewards, next_states, dones)        \n",
    "    critic_loss = agent.calculate_critic_loss(values, target_values)        \n",
    "    adv = agent.calculate_advantage(values, target_values)\n",
    "    actor_loss = agent.calculate_actor_loss(action_probs, adv)\n",
    "\n",
    "    assert torch.allclose(target_values, torch.tensor([0.9864, 0.9815, 0.9714, 1.0000]), atol = 0.001)\n",
    "    assert torch.allclose(critic_loss, torch.tensor(1.0012), atol = 0.001)\n",
    "    assert torch.allclose(adv, torch.tensor([-0.6645, -0.2767, -0.5391,  1.4803]), atol = 0.001)\n",
    "    assert torch.allclose(actor_loss, torch.tensor(0.2321), atol = 0.001)\n",
    "\n",
    "test_update_function_1()"
   ]
  },
  {
   "cell_type": "code",
   "execution_count": 7,
   "id": "04b263dd",
   "metadata": {
    "deletable": false,
    "editable": false,
    "nbgrader": {
     "cell_type": "code",
     "checksum": "47065bb40c58f45827cb38b377996854",
     "grade": true,
     "grade_id": "cell-dcf55b2136722f26",
     "locked": true,
     "points": 5,
     "schema_version": 3,
     "solution": false,
     "task": false
    },
    "tags": []
   },
   "outputs": [],
   "source": [
    "%%capture --no-stdout\n",
    "\"TEST\""
   ]
  },
  {
   "cell_type": "code",
   "execution_count": 8,
   "id": "d39c60f7",
   "metadata": {
    "deletable": false,
    "editable": false,
    "nbgrader": {
     "cell_type": "code",
     "checksum": "c35464679797db9e10ee0bb6646ff6e0",
     "grade": true,
     "grade_id": "cell-289c24f5539ad5d3",
     "locked": true,
     "points": 7,
     "schema_version": 3,
     "solution": false,
     "task": false
    }
   },
   "outputs": [],
   "source": [
    "%%capture --no-stdout\n",
    "\"TEST\""
   ]
  },
  {
   "cell_type": "code",
   "execution_count": 9,
   "id": "8c6b02f2-891d-40c1-b01a-9bd370009a3a",
   "metadata": {
    "tags": []
   },
   "outputs": [],
   "source": [
    "# init agent\n",
    "with open(Path().cwd()/'cfg'/'pg_ac.yaml', 'r') as f:\n",
    "    cfg = u.Struct(**yaml.safe_load(f))\n",
    "    \n",
    "agent = PG(cfg.state_shape[0], cfg.action_dim, cfg.lr, cfg.gamma)"
   ]
  },
  {
   "cell_type": "code",
   "execution_count": 10,
   "id": "5fad7389",
   "metadata": {
    "tags": []
   },
   "outputs": [
    {
     "name": "stdout",
     "output_type": "stream",
     "text": [
      "Numpy/Torch/Random Seed:  837\n",
      "{'episode': 0, 'timesteps': 5, 'ep_reward': 5.0}\n",
      "{'episode': 50, 'timesteps': 9, 'ep_reward': 9.0}\n",
      "{'episode': 100, 'timesteps': 9, 'ep_reward': 9.0}\n",
      "{'episode': 150, 'timesteps': 28, 'ep_reward': 28.0}\n",
      "{'episode': 200, 'timesteps': 18, 'ep_reward': 18.0}\n",
      "{'episode': 250, 'timesteps': 22, 'ep_reward': 22.0}\n",
      "{'episode': 300, 'timesteps': 41, 'ep_reward': 41.0}\n",
      "{'episode': 350, 'timesteps': 97, 'ep_reward': 97.0}\n",
      "{'episode': 400, 'timesteps': 89, 'ep_reward': 89.0}\n",
      "{'episode': 450, 'timesteps': 180, 'ep_reward': 180.0}\n",
      "{'episode': 500, 'timesteps': 135, 'ep_reward': 135.0}\n",
      "{'episode': 550, 'timesteps': 134, 'ep_reward': 134.0}\n",
      "{'episode': 600, 'timesteps': 61, 'ep_reward': 61.0}\n",
      "{'episode': 650, 'timesteps': 176, 'ep_reward': 176.0}\n",
      "{'episode': 700, 'timesteps': 140, 'ep_reward': 140.0}\n",
      "{'episode': 750, 'timesteps': 203, 'ep_reward': 203.0}\n",
      "{'episode': 800, 'timesteps': 134, 'ep_reward': 134.0}\n",
      "{'episode': 850, 'timesteps': 626, 'ep_reward': 626.0}\n",
      "{'episode': 900, 'timesteps': 727, 'ep_reward': 727.0}\n",
      "{'episode': 950, 'timesteps': 171, 'ep_reward': 171.0}\n",
      "{'episode': 1000, 'timesteps': 524, 'ep_reward': 524.0}\n",
      "{'episode': 1050, 'timesteps': 185, 'ep_reward': 185.0}\n",
      "{'episode': 1100, 'timesteps': 241, 'ep_reward': 241.0}\n",
      "{'episode': 1150, 'timesteps': 1000, 'ep_reward': 1000.0}\n",
      "{'episode': 1200, 'timesteps': 132, 'ep_reward': 132.0}\n",
      "{'episode': 1250, 'timesteps': 267, 'ep_reward': 267.0}\n",
      "{'episode': 1300, 'timesteps': 503, 'ep_reward': 503.0}\n",
      "{'episode': 1350, 'timesteps': 753, 'ep_reward': 753.0}\n",
      "{'episode': 1400, 'timesteps': 1000, 'ep_reward': 1000.0}\n",
      "{'episode': 1450, 'timesteps': 297, 'ep_reward': 297.0}\n",
      "{'episode': 1500, 'timesteps': 358, 'ep_reward': 358.0}\n",
      "{'episode': 1550, 'timesteps': 1000, 'ep_reward': 1000.0}\n",
      "{'episode': 1600, 'timesteps': 149, 'ep_reward': 149.0}\n",
      "{'episode': 1650, 'timesteps': 1000, 'ep_reward': 1000.0}\n",
      "{'episode': 1700, 'timesteps': 209, 'ep_reward': 209.0}\n",
      "{'episode': 1750, 'timesteps': 1000, 'ep_reward': 1000.0}\n",
      "{'episode': 1800, 'timesteps': 1000, 'ep_reward': 1000.0}\n",
      "{'episode': 1850, 'timesteps': 1000, 'ep_reward': 1000.0}\n",
      "{'episode': 1900, 'timesteps': 157, 'ep_reward': 157.0}\n",
      "{'episode': 1950, 'timesteps': 1000, 'ep_reward': 1000.0}\n",
      "{'episode': 2000, 'timesteps': 157, 'ep_reward': 157.0}\n",
      "Saving model to /notebooks/rl2025/ex6/results/InvertedPendulum-v4/model/InvertedPendulum-v4_params.pt\n",
      "------ Training Finished ------\n",
      "Total traning time is 5.853845129099985mins\n"
     ]
    }
   ],
   "source": [
    "if not skip_training:\n",
    "    t.train(agent, cfg_path=Path().cwd()/'cfg'/'pg_ac.yaml', cfg_args={})"
   ]
  },
  {
   "cell_type": "code",
   "execution_count": 11,
   "id": "f8041f0c-73f8-4f23-bbd2-4a976a8b842a",
   "metadata": {
    "tags": []
   },
   "outputs": [
    {
     "name": "stdout",
     "output_type": "stream",
     "text": [
      "Numpy/Torch/Random Seed:  625\n"
     ]
    },
    {
     "data": {
      "image/png": "[encoded data removed]",
      "text/plain": [
       "<Figure size 640x480 with 1 Axes>"
      ]
     },
     "metadata": {},
     "output_type": "display_data"
    }
   ],
   "source": [
    "if not skip_training:\n",
    "    t.plot(cfg_path=Path().cwd()/'cfg'/'pg_ac.yaml',)"
   ]
  },
  {
   "cell_type": "code",
   "execution_count": 12,
   "id": "91d4922b",
   "metadata": {
    "tags": []
   },
   "outputs": [
    {
     "name": "stdout",
     "output_type": "stream",
     "text": [
      "Numpy/Torch/Random Seed:  820\n",
      "Loading model from /notebooks/rl2025/ex6/results/InvertedPendulum-v4/model/InvertedPendulum-v4_params.pt ...\n",
      "Testing ...\n",
      "Moviepy - Building video /notebooks/rl2025/ex6/results/InvertedPendulum-v4/video/test/ex6-episode-0.mp4.\n",
      "Moviepy - Writing video /notebooks/rl2025/ex6/results/InvertedPendulum-v4/video/test/ex6-episode-0.mp4\n",
      "\n"
     ]
    },
    {
     "name": "stderr",
     "output_type": "stream",
     "text": [
      "                                                                \r"
     ]
    },
    {
     "name": "stdout",
     "output_type": "stream",
     "text": [
      "Moviepy - Done !\n",
      "Moviepy - video ready /notebooks/rl2025/ex6/results/InvertedPendulum-v4/video/test/ex6-episode-0.mp4\n",
      "Ep0: Test ep_reward is 1000.0\n",
      "Ep1: Test ep_reward is 1000.0\n",
      "Ep2: Test ep_reward is 1000.0\n",
      "Ep3: Test ep_reward is 1000.0\n",
      "Ep4: Test ep_reward is 1000.0\n",
      "Ep5: Test ep_reward is 1000.0\n",
      "Ep6: Test ep_reward is 1000.0\n",
      "Ep7: Test ep_reward is 1000.0\n",
      "Ep8: Test ep_reward is 1000.0\n",
      "Moviepy - Building video /notebooks/rl2025/ex6/results/InvertedPendulum-v4/video/test/ex6-episode-9.mp4.\n",
      "Moviepy - Writing video /notebooks/rl2025/ex6/results/InvertedPendulum-v4/video/test/ex6-episode-9.mp4\n",
      "\n"
     ]
    },
    {
     "name": "stderr",
     "output_type": "stream",
     "text": [
      "                                                                "
     ]
    },
    {
     "name": "stdout",
     "output_type": "stream",
     "text": [
      "Moviepy - Done !\n",
      "Moviepy - video ready /notebooks/rl2025/ex6/results/InvertedPendulum-v4/video/test/ex6-episode-9.mp4\n",
      "Ep9: Test ep_reward is 1000.0\n",
      "Average test reward: 1000.0\n"
     ]
    },
    {
     "name": "stderr",
     "output_type": "stream",
     "text": [
      "\r"
     ]
    }
   ],
   "source": [
    "if not skip_training:\n",
    "    t.test(agent, cfg_path=Path().cwd()/'cfg'/'pg_ac.yaml', cfg_args=dict(save_video=True,testing=True))"
   ]
  },
  {
   "cell_type": "code",
   "execution_count": 13,
   "id": "2edb556b-187c-4662-a1df-60dc87917930",
   "metadata": {
    "tags": []
   },
   "outputs": [
    {
     "data": {
      "text/html": [
       "<video loop autoplay  >\n",
       " <source src=\"data:video/mp4;base64,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\" type=\"video/mp4\">\n",
       " Your browser does not support the video tag.\n",
       " </video>"
      ],
      "text/plain": [
       "<IPython.core.display.Video object>"
      ]
     },
     "metadata": {},
     "output_type": "display_data"
    }
   ],
   "source": [
    "if not skip_training:\n",
    "    video = Video(Path().cwd()/'results'/'InvertedPendulum-v4'/'video'/'test'/'ex6-episode-0.mp4',\n",
    "    embed=True, html_attributes=\"loop autoplay\") # Set html_attributes=\"controls\" for video control\n",
    "    display(video)"
   ]
  },
  {
   "cell_type": "code",
   "execution_count": 172,
   "id": "54640b32",
   "metadata": {
    "deletable": false,
    "editable": false,
    "nbgrader": {
     "cell_type": "code",
     "checksum": "f83948189f99f90b4085c2d303b547ad",
     "grade": true,
     "grade_id": "cell-09564874b32375cf",
     "locked": true,
     "points": 2,
     "schema_version": 3,
     "solution": false,
     "task": false
    }
   },
   "outputs": [],
   "source": [
    "%%capture --no-stdout\n",
    "\"TEST\""
   ]
  },
  {
   "cell_type": "markdown",
   "id": "7d432792",
   "metadata": {
    "deletable": false,
    "editable": false,
    "nbgrader": {
     "cell_type": "markdown",
     "checksum": "13b4216c279dd80ba4512330ce718bdd",
     "grade": false,
     "grade_id": "cell-5db97bc9fe1b8e96",
     "locked": true,
     "schema_version": 3,
     "solution": false,
     "task": false
    }
   },
   "source": [
    "<a id='Q1'></a>\n",
    "<div class=\" alert alert-warning\">\n",
    "    <h3><b>Student Question 1.1</b> Relationship between actor-critic and REINFORCE with baseline (10 points) </h3> \n",
    "\n",
    "What is the relationship between actor-critic and REINFORCE with baseline?\n",
    "            \n",
    "🔝\t<a href='#TOC'><b>Table of Contents</b></a>\n",
    "</div>"
   ]
  },
  {
   "cell_type": "markdown",
   "id": "a7662c12-4b22-48ca-85cc-d389b77dde79",
   "metadata": {
    "deletable": false,
    "editable": false,
    "nbgrader": {
     "cell_type": "markdown",
     "checksum": "9e350ecacc72df859b8ea1279bba8b20",
     "grade": false,
     "grade_id": "cell-af3dccf8c7e41349",
     "locked": true,
     "schema_version": 3,
     "solution": false,
     "task": false
    },
    "tags": []
   },
   "source": [
    "<h5><b>Options</b></h5>\n",
    "\n",
    "1. Both actor-critic and REINFORCE use boostrapping to update their parameters. \n",
    "2. Both methods use Monte-Carlo estimates for updating their parameters.\n",
    "3. The baseline in REINFORCE is the state value function for actor-critic.\n",
    "4. Both methods require full-trajectories before they can update their parameters.\n",
    "5. Both methods can update their parameters during each timestep.\n",
    "6. Actor-critic uses bootstrapping to update its parameters while REINFORCE does not.\n",
    "\n",
    "Select the **two** most appropriate answers. Selecting more than 2 answers results in zero points from this task."
   ]
  },
  {
   "cell_type": "code",
   "execution_count": 14,
   "id": "4875db20-b21d-4c28-b2ca-c7f2e46fffe2",
   "metadata": {
    "tags": []
   },
   "outputs": [],
   "source": [
    "sq1_1 = [3, 6] # Select the most approapriate answers"
   ]
  },
  {
   "cell_type": "markdown",
   "id": "6f4810fe-a2b7-44cd-93b1-a1b2d082c2ad",
   "metadata": {
    "deletable": false,
    "editable": false,
    "nbgrader": {
     "cell_type": "markdown",
     "checksum": "3beea4b65c1e4d7a95ab8a1ae1600bb9",
     "grade": false,
     "grade_id": "cell-d838cdbf4808c6ff",
     "locked": true,
     "schema_version": 3,
     "solution": false,
     "task": false
    },
    "tags": []
   },
   "source": [
    "The cells below are used for autograding."
   ]
  },
  {
   "cell_type": "code",
   "execution_count": 15,
   "id": "1a6b3310-7e16-4408-9d74-6555c1fc7ed3",
   "metadata": {
    "deletable": false,
    "editable": false,
    "nbgrader": {
     "cell_type": "code",
     "checksum": "1de4c11b92c17597e4ac9050802b3eaa",
     "grade": true,
     "grade_id": "cell-0e00f76e0960536d",
     "locked": true,
     "points": 0,
     "schema_version": 3,
     "solution": false,
     "task": false
    },
    "tags": []
   },
   "outputs": [],
   "source": [
    "assert 1 <= len(sq1_1) <= 2\n",
    "assert set(sq1_1) < set(range(1, 7))"
   ]
  },
  {
   "cell_type": "code",
   "execution_count": null,
   "id": "950514e5-56e9-488d-a9b6-b231e7d5262e",
   "metadata": {
    "deletable": false,
    "editable": false,
    "nbgrader": {
     "cell_type": "code",
     "checksum": "1702e61d7c49da20be80181b5c9d064e",
     "grade": true,
     "grade_id": "cell-26b1c613a6f06ff9",
     "locked": true,
     "points": 5,
     "schema_version": 3,
     "solution": false,
     "task": false
    },
    "tags": []
   },
   "outputs": [],
   "source": []
  },
  {
   "cell_type": "code",
   "execution_count": null,
   "id": "3a5dfa77-0d04-4384-84df-88f14550d8b4",
   "metadata": {
    "deletable": false,
    "editable": false,
    "nbgrader": {
     "cell_type": "code",
     "checksum": "e76afee0618f7073f2ebef8e947b465b",
     "grade": true,
     "grade_id": "cell-9aa5fe70a03ab88f",
     "locked": true,
     "points": 5,
     "schema_version": 3,
     "solution": false,
     "task": false
    },
    "tags": []
   },
   "outputs": [],
   "source": []
  },
  {
   "cell_type": "markdown",
   "id": "8b88b08e",
   "metadata": {
    "deletable": false,
    "editable": false,
    "nbgrader": {
     "cell_type": "markdown",
     "checksum": "a57b56668c6aed15c3d1dcaa0c5e0be7",
     "grade": false,
     "grade_id": "cell-05a96ed4b54d0a0c",
     "locked": true,
     "schema_version": 3,
     "solution": false,
     "task": false
    },
    "tags": []
   },
   "source": [
    "<a id='Q2'></a>\n",
    "<div class=\" alert alert-warning\">\n",
    "    <h3><b>Student Question 1.2</b> Advantage (5 points) </h3> \n",
    "\n",
    "How can the value of advantage be intuitively interpreted? (Your answer should not be longer than 10 sentences).\n",
    "    \n",
    "🔝\t<a href='#TOC'><b>Table of Contents</b></a>\n",
    "</div>"
   ]
  },
  {
   "cell_type": "markdown",
   "id": "aa3bac64",
   "metadata": {
    "deletable": false,
    "nbgrader": {
     "cell_type": "markdown",
     "checksum": "c97f49161088ab47f866a42e9dd909a4",
     "grade": true,
     "grade_id": "cell-7ea462e5360ad185",
     "locked": false,
     "points": 5,
     "schema_version": 3,
     "solution": true,
     "task": false
    }
   },
   "source": [
    "YOUR ANSWER HERE\n",
    "\n",
    "The advantage value represents how much better or worse a specific action is compared to the average expected return from a given state under the current policy. \n",
    "\n",
    "A positive advantage indicates that the action outperforms the policy's baseline, encouraging the policy to favor it more in future updates. \n",
    "\n",
    "Whereas, a negative advantage suggests the action underperforms, prompting the policy to reduce its probability. \n",
    "\n",
    "This measure helps reduce variance in policy gradient estimates by subtracting a state-dependent baseline, leading to more stable learning. \n",
    "\n",
    "It essentially quantifies the relative benefit of an action, guiding the agent toward optimal decisions without relying solely on absolute rewards."
   ]
  },
  {
   "cell_type": "markdown",
   "id": "a4db6c52",
   "metadata": {
    "deletable": false,
    "editable": false,
    "nbgrader": {
     "cell_type": "markdown",
     "checksum": "c98268593ad7780ce49ad86a1e8f987c",
     "grade": false,
     "grade_id": "cell-9a3f2bca9650b8b5",
     "locked": true,
     "schema_version": 3,
     "solution": false,
     "task": false
    }
   },
   "source": [
    "<a id='Q3'></a>\n",
    "<div class=\" alert alert-warning\">\n",
    "    <h3><b>Student Question 1.3</b> Bias and Variance Analysis (10 points) </h3> \n",
    "\n",
    "How does the implemented actor-critic method compare to REINFORCE in terms of bias and variance of the policy gradient estimation? Explain your answer. (Your answer should not be longer than 10 sentences).\n",
    "    \n",
    "🔝\t<a href='#TOC'><b>Table of Contents</b></a>\n",
    "</div>"
   ]
  },
  {
   "cell_type": "markdown",
   "id": "106d5916",
   "metadata": {
    "deletable": false,
    "nbgrader": {
     "cell_type": "markdown",
     "checksum": "22175d03d3f4b28b443696bddd162af1",
     "grade": true,
     "grade_id": "cell-74f7530fd7c8fef3",
     "locked": false,
     "points": 10,
     "schema_version": 3,
     "solution": true,
     "task": false
    }
   },
   "source": [
    "YOUR ANSWER HERE\n",
    "\n",
    "The actor-critic method  provides policy gradient estimates with lower variance but potentially higher bias compared to REINFORCE. \n",
    "\n",
    "REINFORCE relies on Monte Carlo sampling of full episode returns to compute gradients, resulting in unbiased estimates since it uses actual trajectory rewards without approximations. However, this leads to high variance due to the stochastic nature of entire episodes and environmental noise. \n",
    "\n",
    "Whereas, actor-critic uses a learned critic to estimate value functions and advantages via temporal difference (TD) learning, which bootstraps from current estimates. This bootstrapping reduces variance by smoothing out noisy returns with function approximation. Yet, it introduces some bias because the critic's value estimates are imperfect and depend on the accuracy of the learned model. \n",
    "\n",
    "The trade-off allows actor-critic to learn more efficiently in practice, especially in long-horizon tasks. Overall, the reduced variance often outweighs the introduced bias, leading to more stable training."
   ]
  },
  {
   "cell_type": "markdown",
   "id": "c0ddf4e7",
   "metadata": {
    "deletable": false,
    "editable": false,
    "nbgrader": {
     "cell_type": "markdown",
     "checksum": "600033db53328bf2d16d465b3aff68b2",
     "grade": false,
     "grade_id": "cell-57372114b7deef34",
     "locked": true,
     "schema_version": 3,
     "solution": false,
     "task": false
    }
   },
   "source": [
    "<a id='Q4'></a>\n",
    "<div class=\" alert alert-warning\">\n",
    "    <h3><b>Student Question 1.4</b> Controlling bias-variance tradeoff (10 points) </h3> \n",
    "\n",
    "How could the bias-variance tradeoff in actor-critic be controlled? (Your answer should not be longer than 10 sentences).\n",
    "    \n",
    "🔝\t<a href='#TOC'><b>Table of Contents</b></a>\n",
    "</div>"
   ]
  },
  {
   "cell_type": "markdown",
   "id": "03501249",
   "metadata": {
    "deletable": false,
    "nbgrader": {
     "cell_type": "markdown",
     "checksum": "719a83ac1efc28a51317240ab20e3168",
     "grade": true,
     "grade_id": "cell-bd37bcc37ef9fff6",
     "locked": false,
     "points": 10,
     "schema_version": 3,
     "solution": true,
     "task": false
    }
   },
   "source": [
    "YOUR ANSWER HERE\n",
    "\n",
    "To control bias-variance tradeoff in actor-critic: \n",
    "\n",
    "- **Generalized Advantage Estimation (GAE)**: Using hyperparameter $\\lambda$ to balance bias and variance. $\\lambda$ near 0 increases bias/lowers variance via TD updates. $\\lambda$ near 1 reduces bias/increases variance via Monte Carlo estimates.\n",
    "\n",
    "- **N-step Returns**: Adjusting bootstrapping horizon. Shorter n-steps increase bias but decrease variance. Longer n-steps reduce bias at the expense of increased variance.\n",
    "\n",
    "- **Critic Improvement**: Enhancing function approximation with deeper networks or ensembles to cut bias without raising variance much.\n",
    "\n",
    "- **Regularization Techniques**: Applying entropy bonuses or target networks to smooth updates and stabilize the tradeoff.\n",
    "\n",
    "- **Discount Factor ($\\gamma$)**: Tuning $\\gamma$ indirectly. Higher values extend horizon and may increase variance.\n"
   ]
  },
  {
   "cell_type": "markdown",
   "id": "edc1e91e-5715-45b9-a2c2-4e8f0fd2fff2",
   "metadata": {
    "deletable": false,
    "editable": false,
    "nbgrader": {
     "cell_type": "markdown",
     "checksum": "2b1c367010d08ca7088a8580a920eb7d",
     "grade": false,
     "grade_id": "cell-5f74898cf5b2c817",
     "locked": true,
     "schema_version": 3,
     "solution": false,
     "task": false
    },
    "tags": []
   },
   "source": [
    "\n",
    "# 3. Submitting <a id='3.'></a>\n",
    "Ensure all tasks and questions (in ```ex6_DDPG.ipynb``` and ```ex6_PG_AC.ipynb```) are answered and the necessary plots are saved in the appropriate locations. The relevant plots and files needed to be submitted for this assignment are:\n",
    "\n",
    "\n",
    "- Training performance plots:\n",
    "  - `pg_ac.png`: Training performance plots in terms of episode and episodic reward\n",
    "<br>\n",
    "\n",
    "  \n",
    "- Model files:\n",
    "  - `InvertedPendulum-v4_params.pt`: Trained model\n",
    "\n",
    "\n",
    "Ensure the model files and plots are saved in correct paths:\n",
    "- ```results/InvertedPendulum-v4/pg_ac.png``` Training result\n",
    "- ```results/InvertedPendulum-v4/model/InvertedPendulum-v4_params.pt``` Training Model\n",
    "\n",
    "\n",
    "<span style=\"color:red\"> **# IMPORTANT: DO NOT FORGET ANOTHER TASK IN ```ex6_DDPG.ipynb```** </span>"
   ]
  },
  {
   "cell_type": "code",
   "execution_count": 158,
   "id": "e9269a2b",
   "metadata": {},
   "outputs": [
    {
     "ename": "AssertionError",
     "evalue": "",
     "output_type": "error",
     "traceback": [
      "\u001b[0;31m---------------------------------------------------------------------------\u001b[0m",
      "\u001b[0;31mAssertionError\u001b[0m                            Traceback (most recent call last)",
      "Cell \u001b[0;32mIn[158], line 2\u001b[0m\n\u001b[1;32m      1\u001b[0m \u001b[38;5;66;03m# Make sure that skip training is set to True before submission\u001b[39;00m\n\u001b[0;32m----> 2\u001b[0m \u001b[38;5;28;01massert\u001b[39;00m skip_training \u001b[38;5;241m==\u001b[39m \u001b[38;5;28;01mTrue\u001b[39;00m\n",
      "\u001b[0;31mAssertionError\u001b[0m: "
     ]
    }
   ],
   "source": [
    "# Make sure that skip training is set to True before submission\n",
    "assert skip_training == True"
   ]
  },
  {
   "cell_type": "markdown",
   "id": "88b0c6d7-563a-4037-9d4c-ef1422d7b657",
   "metadata": {
    "deletable": false,
    "editable": false,
    "nbgrader": {
     "cell_type": "markdown",
     "checksum": "89e8fd20b8a0b3230d25dc0d69962803",
     "grade": false,
     "grade_id": "cell-99c320f0e224a0c8",
     "locked": true,
     "schema_version": 3,
     "solution": false,
     "task": false
    },
    "tags": []
   },
   "source": [
    "## 3.1 Feedback <a id='3.1'></a>\n",
    "\n",
    "In order to help the staff of the course as well as the forthcoming students, it would be great if you could answer to the following questions in your submission:"
   ]
  },
  {
   "cell_type": "markdown",
   "id": "de2e7c42-211b-419b-a3c9-daeab45597f1",
   "metadata": {
    "deletable": false,
    "editable": false,
    "nbgrader": {
     "cell_type": "markdown",
     "checksum": "016e22b96662eff6447f48f25857a230",
     "grade": false,
     "grade_id": "cell-09e6cdb34c71b984",
     "locked": true,
     "schema_version": 3,
     "solution": false,
     "task": false
    },
    "tags": []
   },
   "source": [
    "1) How much time did you spend solving this exercise? (change the ```hrs``` variable below to a floating point number representing the number of hours taken e.g. 5.43)"
   ]
  },
  {
   "cell_type": "code",
   "execution_count": null,
   "id": "3cfa3e0a-f247-43f4-92cc-5b6e99c79049",
   "metadata": {
    "tags": []
   },
   "outputs": [],
   "source": [
    "hrs = 2"
   ]
  },
  {
   "cell_type": "markdown",
   "id": "83e49e4f-0803-4d11-9ac4-9f77bedfa52f",
   "metadata": {
    "deletable": false,
    "editable": false,
    "nbgrader": {
     "cell_type": "markdown",
     "checksum": "7c96fba064ac1fc2b00810fc1dc378a0",
     "grade": false,
     "grade_id": "cell-fa64dd33a8c904ef",
     "locked": true,
     "schema_version": 3,
     "solution": false,
     "task": false
    },
    "tags": []
   },
   "source": [
    "2) Difficulty of each task/question from 1-5 (int or float)"
   ]
  },
  {
   "cell_type": "code",
   "execution_count": null,
   "id": "f8fc5ed4-1957-4c5c-97fb-de2dc7c4362e",
   "metadata": {
    "tags": []
   },
   "outputs": [],
   "source": [
    "T1 = None   # Implementing DDPG (20 points)\n",
    "Q1 = None   # Question 1.1 Relationship between actor-critic and REINFORCE with baseline (10 points)\n",
    "Q2 = None   # Question 1.2 Advantage (5 points)\n",
    "Q3 = None   # Question 1.3 Bias and Variance Analysis (10 points)\n",
    "Q4 = None   # Question 1.4 Controlling bias-variance tradeoff (10 points)"
   ]
  },
  {
   "cell_type": "markdown",
   "id": "a8f6cdd1-ea58-4a06-a81b-1d7cc36f14a2",
   "metadata": {
    "deletable": false,
    "editable": false,
    "nbgrader": {
     "cell_type": "markdown",
     "checksum": "4dab816afcbe55502451543d8a576129",
     "grade": false,
     "grade_id": "cell-69fa22cf9bfa78b8",
     "locked": true,
     "schema_version": 3,
     "solution": false,
     "task": false
    },
    "tags": []
   },
   "source": [
    "3) How well did you understand the content of the task/question from 1-5? (int or float)"
   ]
  },
  {
   "cell_type": "code",
   "execution_count": null,
   "id": "27706e2f-2a35-4a6e-ad07-9af944b96dfe",
   "metadata": {
    "tags": []
   },
   "outputs": [],
   "source": [
    "T1 = None   # Implementing DDPG (20 points)\n",
    "Q1 = None   # Question 1.1 Relationship between actor-critic and REINFORCE with baseline (10 points)\n",
    "Q2 = None   # Question 1.2 Advantage (5 points)\n",
    "Q3 = None   # Question 1.3 Bias and Variance Analysis (10 points)\n",
    "Q4 = None   # Question 1.4 Controlling bias-variance tradeoff (10 points)"
   ]
  },
  {
   "cell_type": "markdown",
   "id": "bc810cc9-ba38-480d-a95e-178f875bc744",
   "metadata": {
    "deletable": false,
    "editable": false,
    "nbgrader": {
     "cell_type": "markdown",
     "checksum": "e0204b1b962a537ae2e40333c7dfdbcb",
     "grade": false,
     "grade_id": "cell-2e02694ca4fcfa78",
     "locked": true,
     "schema_version": 3,
     "solution": false,
     "task": false
    },
    "tags": []
   },
   "source": [
    "4) General feedback. Consider questions like:\n",
    "\n",
    "    - Did the content of the lecture relate well with the assignment?\n",
    "    - To what extent did you find the material to be potentially useful for your research and studies?\n",
    "    \n",
    "Please share any additional feedback, suggestions, or comments you have about the lecture, assignment, or course content. Your input is valuable in helping us improve the learning experience."
   ]
  },
  {
   "cell_type": "markdown",
   "id": "ce6d30ad-8d44-4fe5-a642-121200f920d1",
   "metadata": {
    "tags": []
   },
   "source": [
    "DOUBLE CLICK HERE TO EDIT, CLEAR THIS TEXT AND ANSWER HERE"
   ]
  },
  {
   "cell_type": "markdown",
   "id": "785254f3-48b6-44a6-ace6-0eae136d6396",
   "metadata": {
    "deletable": false,
    "editable": false,
    "nbgrader": {
     "cell_type": "markdown",
     "checksum": "c456a1da33caaefda4a4a4c165be11d6",
     "grade": false,
     "grade_id": "cell-5086c1c7c783ad08",
     "locked": true,
     "schema_version": 3,
     "solution": false,
     "task": false
    },
    "tags": []
   },
   "source": [
    "# References <a id='4.'></a>\n",
    "Please use the following section to record references."
   ]
  },
  {
   "cell_type": "code",
   "execution_count": null,
   "id": "1be24169-8a32-4c87-9e15-3f6eee2364a9",
   "metadata": {},
   "outputs": [],
   "source": []
  }
 ],
 "metadata": {
  "kernelspec": {
   "display_name": "Python 3",
   "language": "python",
   "name": "python3"
  },
  "language_info": {
   "codemirror_mode": {
    "name": "ipython",
    "version": 3
   },
   "file_extension": ".py",
   "mimetype": "text/x-python",
   "name": "python",
   "nbconvert_exporter": "python",
   "pygments_lexer": "ipython3",
   "version": "3.10.12"
  }
 },
 "nbformat": 4,
 "nbformat_minor": 5
}
