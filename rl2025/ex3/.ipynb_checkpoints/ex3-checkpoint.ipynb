{
 "cells": [
  {
   "cell_type": "markdown",
   "id": "53274fb5",
   "metadata": {
    "deletable": false,
    "editable": false,
    "jp-MarkdownHeadingCollapsed": true,
    "nbgrader": {
     "cell_type": "markdown",
     "checksum": "73759704c25454df00b3738c245f7a5f",
     "grade": false,
     "grade_id": "cell-4b5bc7c2e51c6d03",
     "locked": true,
     "schema_version": 3,
     "solution": false,
     "task": false
    },
    "tags": []
   },
   "source": [
    "\n",
    "<div class=\"alert alert-block alert-info\">\n",
    "   <h2 align=\"center\"> <center><b> Reinforcement Learning Assignment 3 - Q Learning </b></center></h2>\n",
    "\n",
    "<br>\n",
    "<center><font size=\"3\">This notebook is a part of teaching material for ELEC-E8125</font></center>\n",
    "<center><font size=\"3\">Sep 1, 2025 - Dec 1, 2025</font></center>\n",
    "<center><font size=\"3\">Aalto University</font></center>\n",
    "</div>\n",
    "\n",
    "\n",
    "<a id='TOC'></a>\n",
    "\n",
    "<div class=\"alert alert-block alert-success\">\n",
    "    \n",
    "# Table of contents\n",
    "* <a href='#1.'> 1. Introduction </a>\n",
    "* <a href='#1.1'> 1.1 Learning Objectives </a>\n",
    "* <a href='#1.2'> 1.2 Code Structure & Files </a>\n",
    "* <a href='#2.'> 2. Cartpole </a>\n",
    "* <a href='#2.'> 3. Lunar Lander </a> \n",
    "* <a href='#4.'> 4. Submitting </a>\n",
    "* <a href='#4.1'> 4.1 Feedback </a>\n",
    "* <a href='#5.'> References</a>\n",
    "\n",
    "<a href='#T1'><b>Student Task 1.</b> Implementing Q-Learning  (25 points) </a>\\\n",
    "<a href='#T2'><b>Student Task 2.</b> Visualizing the Value Function (10 points) </a>\\\n",
    "<a href='#Q1'><b>Student Question 2.1</b> Analyzing the Value Function Heatmap (15 points) </a>\\\n",
    "<a href='#T3'><b>Student Task 3.</b> Investigating Initial Values (10 points) </a>\\\n",
    "<a href='#Q2'><b>Student Question 3.1</b> Analyzing Initial Values (5 points) </a>\\\n",
    "<a href='#Q3'><b>Student Question 3.2</b> Exploration (15 points) </a>\\\n",
    "<a href='#T4'><b>Student Task 4.</b> Using Q-Learning on the Lunar Lander Environment (5 points) </a>\\\n",
    "<a href='#Q4'><b>Student Question 4.1</b> Lunar Lander Performance (15 points) </a>\n",
    "\n",
    "**Total Points:** 100\n",
    "\n",
    "**Estimated runtime of all the cells:** 2 hour "
   ]
  },
  {
   "cell_type": "markdown",
   "id": "e845acab",
   "metadata": {
    "deletable": false,
    "editable": false,
    "nbgrader": {
     "cell_type": "markdown",
     "checksum": "b83672bf7f3be091f160f135ae78d22c",
     "grade": false,
     "grade_id": "cell-0ecccf891e2408d9",
     "locked": true,
     "schema_version": 3,
     "solution": false,
     "task": false
    },
    "tags": []
   },
   "source": [
    "# 1. Introduction <a id='1.'></a>\n",
    "\n",
    "In this exercise, you'll be applying grid-based Q-learning to the **Cartpole** and **LunarLander** environments.\n",
    "\n",
    "## 1.1 Learning Objectives: <a id='1.1'></a>\n",
    "- To understand and develop intuition about Q-learning.\n",
    "- To understand simple exploration methods like GLIE and how exploration effects learning\n",
    "\n",
    "## 1.2 Code Structure & Files <a id='1.2'></a>\n",
    "\n",
    "You don’t have to edit any other file other than ```ex3.ipynb``` to complete this exercise.\n",
    "\n",
    "```\n",
    "├───cfg                           # Config files for environments e.g. define the maximum number of steps in an episode.\n",
    "├───imgs                          # Images used in notebook\n",
    "├───results\n",
    "│   ├───CartPole-v1\n",
    "│   │   └───video                  # Videos saved\n",
    "│   │   │   logging.pkl            # Contains logged data\n",
    "│   │   │   *q_table_e.pkl         # Contains qtable data for epsilon fixed\n",
    "│   │   │   *q_table_glie.pkl      # Contains qtable data for glie\n",
    "│   │   │   *e.png                 # Contains training performance plot for epsilon fixed\n",
    "│   │   │   *glie.png              # Contains training performance plot for glie\n",
    "│   ├───LunarLander-v2\n",
    "│   │   └───video\n",
    "│   │   │   logging.pkl\n",
    "│   │   │   *q_table_e.pkl\n",
    "│   │   │   *q_table_glie.pkl\n",
    "│   │   │   *e.png                 \n",
    "│   │   │   *glie.png              \n",
    "│   ex3.ipynb                      # Main assignment file containing tasks <---------\n",
    "│   setup.py                       # Contains setup function\n",
    "│   utils.py                       # Contains useful functions \n",
    "```\n"
   ]
  },
  {
   "cell_type": "markdown",
   "id": "ff36c86f",
   "metadata": {},
   "source": [
    "## Warnings:\n",
    "\n",
    "- Don’t copy and paste cells within a notebook. This will mess up the tracking metadata and prevent autograding from working.\n",
    "- Only add new cells using the '+' button in the upper toolbar and do not split cells.\n",
    "- Be cautious about things such as copying the whole notebook to Colab to work on it. This has sometimes resulted in removing all notebook metadata, making autograding impossible."
   ]
  },
  {
   "cell_type": "markdown",
   "id": "0c999cc7",
   "metadata": {
    "deletable": false,
    "editable": false,
    "nbgrader": {
     "cell_type": "markdown",
     "checksum": "15066d1f084603d0367d637a21c41cef",
     "grade": false,
     "grade_id": "cell-c2117ccc1c4199d3",
     "locked": true,
     "schema_version": 3,
     "solution": false,
     "task": false
    },
    "tags": []
   },
   "source": [
    "# 2. Cartpole <a id='2.'></a>\n",
    "\n",
    "Recall the Cartpole environment from Exercise 1.\n"
   ]
  },
  {
   "cell_type": "markdown",
   "id": "88cfe17b",
   "metadata": {
    "deletable": false,
    "editable": false,
    "nbgrader": {
     "cell_type": "markdown",
     "checksum": "2524f28d2ba6329fe80ca41bedc61ea5",
     "grade": false,
     "grade_id": "cell-83fe844e90e20c9e",
     "locked": true,
     "schema_version": 3,
     "solution": false,
     "task": false
    },
    "tags": []
   },
   "source": [
    "<a id='T1'></a>\n",
    "<div class=\" alert alert-warning\">\n",
    "    <h3><b>Student Task 1.</b> Implementing Q-Learning  (25 points) </h3> \n",
    "\n",
    "Implement Q-learning as presented in [Sutton and Barto, 2017, Section 6.5][1] for the Cartpole environment. Once you've successfully implemented the `get_action` and `update_q_value` functions,\n",
    "you can compare the two exploration methods:\n",
    "\n",
    "1. Use a constant value of $\\epsilon = 0.1$:\n",
    "    \n",
    "- Training:\n",
    "    ```python\n",
    "    # Training with constant epsilon 0.1\n",
    "    cfg_args = dict(epsilon=0.1, save_video=False)\n",
    "    train(cfg_path=Path().cwd()/'cfg'/'cartpole_v1.yaml', cfg_args=cfg_args)\n",
    "    ```\n",
    "- Testing:\n",
    "    ```python\n",
    "    # Testing with constant epsilon 0.1\n",
    "    cfg_args=dict(epsilon=0.1, save_video=True)\n",
    "    test(cfg_path=Path().cwd()/'cfg'/'cartpole_v1.yaml', cfg_args=cfg_args)\n",
    "    ```\n",
    "- Visualization: To record and visualize the agent's performance, you could set `save_video=True` and run the following:\n",
    "\n",
    "    ```python\n",
    "    Video(Path().cwd()/'results'/'CartPole-v1'/'video'/'test'/'ex3-episode-0.mp4', embed=True, html_attributes=\"loop autoplay\")\n",
    "    ```\n",
    "\n",
    "2. Implement **GLIE** (i.e., *Greedy in the Limit with Infinite Exploration*), which reduces the value of $\\epsilon$ over time. For details on the formula, refer to **[Lecture 3]**.\n",
    "    \n",
    "- Training (Ensure you've determined the correct value for `glie_b`):  \n",
    "    ```python\n",
    "    # Training with GLIE\n",
    "    cfg_args=dict(epsilon='glie', glie_b=<insert-correct-value>, save_video=False) # insert correct value for glie_b\n",
    "    train(cfg_path=Path().cwd()/'cfg'/'cartpole_v1.yaml', cfg_args=cfg_args) # < 30 mins\n",
    "    ```\n",
    "- Testing:\n",
    " \n",
    "    ```python\n",
    "    # Testing with GLIE\n",
    "    cfg_args=dict(epsilon='glie', save_video=True)\n",
    "    test(cfg_path=Path().cwd()/'cfg'/'cartpole_v1.yaml', cfg_args=cfg_args)\n",
    "    ```\n",
    "- Visualization: To record and visualize the agent's performance, you could set `save_video=True` and run the following:\n",
    "\n",
    "    ```python\n",
    "    Video(Path().cwd()/'results'/'CartPole-v1'/'video'/'test'/'ex3-episode-0.mp4', embed=True, html_attributes=\"loop autoplay\")\n",
    "    ```\n",
    "    \n",
    "These videos will be stored in the **results** folder.\n",
    "\n",
    "**Note:** Before you proceed with the \"Training with GLIE\" method, ensure you have completed the \"Training with a constant epsilon\" steps. Since the video save path is the same, the results will be overwritten.\n",
    "\n",
    "---\n",
    "\n",
    "**Please attach the following files to your submission:**\n",
    "\n",
    "- Training performance plots:\n",
    "  - `task1_e.png`: This file represents the episode versus the smoothed episodic reward for the constant exploration rate.\n",
    "  - `task1_glie.png`: This file represents the episode versus the smoothed episodic reward for GLIE.\n",
    "\n",
    "- Q-table files:\n",
    "  - `task1_q_table_e.pkl`: Q-table for the constant exploration rate.\n",
    "  - `task1_q_table_glie.pkl`: Q-table for GLIE.\n",
    "\n",
    "Ensure all files are correctly named and included.\n",
    "\n",
    "\n",
    "<figure style=\"text-align: center\">\n",
    "<img src=\"imgs/ep_reward.png\" width=\"600px\">\n",
    "<figcaption style=\"text-align: center\"> Figure 1: The training performance plot should look similar to the one presented here when using GLIE  </figcaption>\n",
    "</figure>\n",
    "\n",
    "### References\n",
    "[1]: http://incompleteideas.net/book/RLbook2018.pdf\n",
    "[Sutton and Barto, 2017]: Sutton, Richard S., and Andrew G. Barto. \"Reinforcement Learning: An Introduction (in progress).\" London, England (2017).\n",
    "    \n",
    "🔝\t<a href='#TOC'><b>Table of Contents</b></a>\n",
    "</div>\n",
    "\n"
   ]
  },
  {
   "cell_type": "code",
   "execution_count": null,
   "id": "4375e55b",
   "metadata": {
    "tags": []
   },
   "outputs": [],
   "source": [
    "skip_training = False  # Set this flag to True before validation and submission"
   ]
  },
  {
   "cell_type": "code",
   "execution_count": null,
   "id": "db1eacb1",
   "metadata": {
    "deletable": false,
    "editable": false,
    "nbgrader": {
     "cell_type": "code",
     "checksum": "92d6d673e50350c2b0b437bc2a2803a9",
     "grade": true,
     "grade_id": "cell-6d789f0e8b41dcd4",
     "locked": true,
     "points": 0,
     "schema_version": 3,
     "solution": false,
     "task": false
    }
   },
   "outputs": [],
   "source": []
  },
  {
   "cell_type": "code",
   "execution_count": null,
   "id": "47d6ce86",
   "metadata": {
    "tags": []
   },
   "outputs": [],
   "source": [
    "# --- Standard Libraries ---\n",
    "from pathlib import Path\n",
    "from collections import deque\n",
    "import warnings\n",
    "import os\n",
    "\n",
    "# --- Third-party Libraries ---\n",
    "import numpy as np  # Fundamental package for scientific computing\n",
    "from IPython.display import Video  # For displaying videos in the notebook\n",
    "import seaborn as sns\n",
    "import matplotlib.pyplot as plt\n",
    "import pandas as pd\n",
    "\n",
    "# --- Custom Modules ---\n",
    "from setup import setup  # Setup functions for training\n",
    "import utils as u  # Helper functions for the notebook\n",
    "\n",
    "# --- Configurations ---\n",
    "# Set working directory to 'results'\n",
    "work_dir = Path().cwd() / 'results'\n",
    "\n",
    "# Suppress DeprecationWarnings\n",
    "warnings.filterwarnings(\"ignore\", category=DeprecationWarning)"
   ]
  },
  {
   "cell_type": "code",
   "execution_count": null,
   "id": "b91287ed",
   "metadata": {
    "tags": []
   },
   "outputs": [],
   "source": [
    "def init_q_table(observation_space, action_dim, discr, bool_position=None, init_q=0.):\n",
    "    \"\"\"\n",
    "    Initialize a Q-table for the given observation space and actions.\n",
    "    \n",
    "    Parameters:\n",
    "    - observation_space: The state space of the environment.\n",
    "    - action_dim: The number of possible actions.\n",
    "    - discr: The number of divisions for discretization.\n",
    "    - bool_position: Indexes where the observation space has boolean values.\n",
    "    - init_q: Initial value for the Q-table.\n",
    "    \n",
    "    Returns:\n",
    "    - axis: A list of numpy arrays representing the discrete states. \n",
    "            Each array's length corresponds to either 'discr' or 2 (for boolean values).\n",
    "    - q_table: The initialized Q-table. Its shape is determined by [*axis dimensions, action_dim].\n",
    "               For example, if the axis dimensions were [10, 10] and action_dim was 3, \n",
    "               the q_table shape would be [10, 10, 3].\n",
    "    \"\"\"\n",
    "    high_values = observation_space.high\n",
    "    low_values = observation_space.low\n",
    "    axis = []\n",
    "    for idx, (low_val, high_val) in enumerate(zip(low_values, high_values)):\n",
    "        # here to avoid inf boundary, we truncate the value to [-4, 4] \n",
    "        if low_val < -1e10: low_val = -4\n",
    "        if high_val > 1e10: high_val = 4\n",
    "        \n",
    "        if (bool_position is not None) and (idx in bool_position):\n",
    "            axis.append(np.linspace(low_val, high_val, 2, dtype=np.float32)) # for boolean, we only have two values: 1., 0.\n",
    "        else:\n",
    "            axis.append(np.linspace(low_val, high_val, discr, dtype=np.float32))\n",
    "    _shape = [ax.shape[0] for ax in axis] + [action_dim]\n",
    "    q_table = np.zeros(_shape) + init_q\n",
    "    return axis, q_table\n",
    "\n",
    "def get_table_idx(state, axis):\n",
    "    \"\"\"\n",
    "    Give a state, discretize it, and return the index in each dimension (axis). \n",
    "    With the returned index, you can access q(s,.) with q_table[idx].\n",
    "    \n",
    "    Parameters:\n",
    "    - state: The state to be discretized. \n",
    "    - axis: The discrete state space as a list of numpy arrays. \n",
    "    \n",
    "    Returns:\n",
    "    - idx: A tuple representing the index of the discretized state in the Q-table. \n",
    "           Its shape matches the dimensions of the provided 'axis'.\n",
    "    \"\"\"\n",
    "    def _get_ax_idx(ax, value):\n",
    "        return np.argmin(np.abs(ax - value))\n",
    "    return tuple([_get_ax_idx(ax, value) for ax, value in zip(axis, state)])"
   ]
  },
  {
   "cell_type": "code",
   "execution_count": null,
   "id": "a6b139b4",
   "metadata": {
    "tags": []
   },
   "outputs": [],
   "source": [
    "def get_action(state, q_axis, q_table, epsilon=0.0):\n",
    "    \"\"\"\n",
    "    Determine the action to take based on epsilon-greedy strategy.\n",
    "    \n",
    "    Parameters:\n",
    "    - state: The current state of the agent.\n",
    "    - q_axis: The discrete state space as a list of numpy arrays.\n",
    "    - q_table: The Q-table with learned values.\n",
    "    - epsilon: The probability with which a random action is taken (exploration). \n",
    "               Default is 0 (purely greedy).\n",
    "    \n",
    "    Returns:\n",
    "    - action: The chosen action, either greedily or randomly based on epsilon.\n",
    "    \"\"\"\n",
    "    # if epsilon == 0.0, the policy will be greedy -- always choose the best action\n",
    "    '''\n",
    "    # TODO: Task 1, implement epsilon-greedy\n",
    "    # 1. Discretize the given state by using the get_table_idx(state, axis) function\n",
    "    # 2. Use the discretized state's index to access the Q-table\n",
    "    # 3. Generate a random number between 0 and 1.\n",
    "    # 4. Compare this number to `epsilon`\n",
    "    # 5. If the random number is less than `epsilon`, choose a random action.\n",
    "    # 6. Otherwise, choose the best action (greedy action)\n",
    "    '''\n",
    "    ########## Your code starts here ##########\n",
    "    \n",
    "    ########## Your code ends here #########\n",
    "    return action\n",
    "\n",
    "\n",
    "def update_q_value(old_state, action, new_state, gamma, reward, done, alpha, q_axis, q_table):\n",
    "    \"\"\"\n",
    "    Update the Q-value for a state-action pair based on the Q-learning update rule.\n",
    "    \n",
    "    Parameters:\n",
    "    - old_state: The original state before taking the action.\n",
    "    - action: The action taken.\n",
    "    - new_state: The state after taking the action.\n",
    "    - gamma: Discount factor.\n",
    "    - reward: Immediate reward for taking the action.\n",
    "    - done: Boolean indicating if the episode is done.\n",
    "    - alpha: Learning rate.\n",
    "    - q_axis: The discrete state space as a list of numpy arrays.\n",
    "    - q_table: The Q-table with learned values.\n",
    "    \n",
    "    Returns:\n",
    "    - q_table: Updated Q-table.\n",
    "    \"\"\"\n",
    "\n",
    "    # q_table contains discretized state-action space (16, 16, 16, 16, 2) values\n",
    "    # Each observation is discritized 16 times and the last dimension are the two\n",
    "    # actions that can be taken. \n",
    "    '''\n",
    "    # TODO: Task 1, update q value\n",
    "    # 1. Retrieve Old Q-Value\n",
    "    # 2. Determine the Next Action\n",
    "    # 3. Retrieve New Q-Value\n",
    "    #     If the episode isn't done, get the Q-value for the new_state and next_action.\n",
    "    #     If the episode is done, set the new Q-value to zero.\n",
    "    # 4. Compute the Updated Q-Value\n",
    "    # 5. Update the Q-Table \n",
    "    # 6. Return the Updated Q-Table\n",
    "    '''\n",
    "    old_table_idx = get_table_idx(old_state, q_axis) # idx of q(s_old, *)\n",
    "    new_table_idx = get_table_idx(new_state, q_axis) # idx of q(s_new, *)  \n",
    "    ########## Your code starts here ########## \n",
    "    \n",
    "    ########### Your code ends here ########## \n",
    "    return q_table"
   ]
  },
  {
   "cell_type": "code",
   "execution_count": null,
   "id": "7d0d958b",
   "metadata": {
    "deletable": false,
    "editable": false,
    "nbgrader": {
     "cell_type": "code",
     "checksum": "dc16991d5ec22369589192a57b098e56",
     "grade": true,
     "grade_id": "cell-b84fd8ddc27262ad",
     "locked": true,
     "points": 5,
     "schema_version": 3,
     "solution": false,
     "task": false
    }
   },
   "outputs": [],
   "source": [
    "# test the get_action function \n",
    "\n",
    "def test_get_action():\n",
    "    test_state = [1,0]\n",
    "    test_qaxis = np.array([-4.,3.]), np.array([-4. ,-6. ])\n",
    "\n",
    "    test_qtable = np.array([[[0.49364422, 0.83209827],[0.987027,  0.48691833]],[[0.40560464, 0.26888288],[0.90825581, 0.88758134]]])\n",
    "    assert get_action(test_state, test_qaxis, test_qtable, epsilon=0) == 0\n",
    "    test_qtable = np.array([[[0.49364422, 0.83209827],[0.987027,  0.48691833]],[[-0.40560464, 0.26888288],[0.90825581, 0.88758134]]])\n",
    "    assert get_action(test_state, test_qaxis, test_qtable, epsilon=0) == 1\n",
    "\n",
    "\n",
    "# test update_q_value function\n",
    "def test_update_q_value():\n",
    "    test_state = [1,0]\n",
    "    test_qaxis = np.array([-4.,3.]), np.array([-4. ,-6. ])\n",
    "    test_qtable = np.array([[[0.49364422, 0.83209827],[0.987027,  0.48691833]],[[-0.40560464, 0.26888288],[0.90825581, 0.88758134]]])\n",
    "    new_test_state = [0,1]\n",
    "    reward = 1\n",
    "    gamma = 0.9\n",
    "    done = False\n",
    "    action = 0\n",
    "    alpha = 1\n",
    "    updated_q_value = update_q_value(test_state, action, new_test_state, gamma, reward, done, alpha, test_qaxis, test_qtable)\n",
    "    assert np.allclose(updated_q_value, np.array([[[0.49364422, 0.83209827],[0.987027  , 0.48691833]],[[1.24199459, 0.26888288],[0.90825581, 0.88758134]]]), 0.001)\n",
    "\n",
    "test_get_action()\n",
    "test_update_q_value()"
   ]
  },
  {
   "cell_type": "code",
   "execution_count": null,
   "id": "62297b95-5f55-4dcc-827b-ff984ae99bd2",
   "metadata": {
    "tags": []
   },
   "outputs": [],
   "source": [
    "def plot_training_data(training_data, save_path):\n",
    "    df = pd.DataFrame(training_data)\n",
    "    plt.figure(figsize=(5, 3.5))\n",
    "    sns.lineplot(data=df, x='episode', y='ep_reward_avg')\n",
    "    plt.title('Training Performance')\n",
    "    plt.savefig(save_path)\n",
    "    plt.show()\n",
    "\n",
    "def train(cfg_path, cfg_args={}):\n",
    "    env, cfg = setup(cfg_path, cfg_args=cfg_args)\n",
    "    performance_data = []\n",
    "\n",
    "    # init q_table with zeros\n",
    "    q_axis, q_table = init_q_table(env.observation_space, \n",
    "        env.action_space.n, cfg.discr, bool_position=cfg.bool_position, init_q=cfg.initial_q)\n",
    "\n",
    "    # begin training and testing\n",
    "    ep_reward_deque = deque([], maxlen=500)  # used to calculate the smoothed (avg over recent 500 episodes) ep_reward\n",
    "    for ep in range(cfg.train_episodes + 1):\n",
    "        # set epsilon value\n",
    "        if cfg.epsilon == 'glie':\n",
    "            epsilon = cfg.glie_b / (cfg.glie_b + ep)  \n",
    "        elif isinstance(cfg.epsilon, (int, float)):\n",
    "            epsilon = cfg.epsilon\n",
    "        else: \n",
    "            raise ValueError\n",
    "        \n",
    "        (state, _), done, ep_reward, timesteps = env.reset(), False, 0, 0\n",
    "        while not done:\n",
    "            action = get_action(state, q_axis, q_table, epsilon=epsilon) \n",
    "            new_state, reward, done, _, _ = env.step(action)\n",
    "            q_table = update_q_value(state, action, new_state, cfg.gamma, reward, done, cfg.alpha,\n",
    "                                        q_axis, q_table)\n",
    "    \n",
    "            state = new_state\n",
    "            ep_reward += reward\n",
    "            timesteps += 1\n",
    "            if timesteps >= env.spec.max_episode_steps:\n",
    "                done = True\n",
    "                \n",
    "        ep_reward_deque.append(ep_reward)\n",
    "        info = {\n",
    "            'episode': ep,\n",
    "            'epsilon': epsilon,\n",
    "            'ep_reward': ep_reward,\n",
    "            'timesteps': timesteps,\n",
    "            'ep_reward_avg': np.mean(list(ep_reward_deque))\n",
    "        }\n",
    "\n",
    "        performance_data.append(info)\n",
    "        \n",
    "\n",
    "        if (not cfg.silent) and (ep % 500 == 0): print(info)\n",
    "    \n",
    "    work_dir = Path().cwd()/'results'/f'{cfg.env_name}'\n",
    "      \n",
    "    # save the q-value table and q_axis\n",
    "    file_pre = f\"{cfg.task_no}_\" if hasattr(cfg, 'task_no') else \"\"\n",
    "    file = file_pre + 'q_table_glie.pkl' if cfg.epsilon == 'glie' else file_pre + 'q_table_e.pkl'\n",
    "    u.save_object({'q_table': q_table, 'axis': q_axis},\n",
    "                        work_dir/file)\n",
    "    png_file = file_pre + '_glie.png' if cfg.epsilon == 'glie' else file_pre + '_e.png'\n",
    "    plot_training_data(performance_data, work_dir/png_file)\n",
    "    print('Training done!')\n",
    "\n",
    "    \n",
    "def test(cfg_path, cfg_args={'testing':True}):\n",
    "    \n",
    "    cfg_args.update({'testing':True})\n",
    "    env, cfg = setup(cfg_path, cfg_args=cfg_args)\n",
    "    \n",
    "    work_dir = Path().cwd()/'results'/f'{cfg.env_name}'\n",
    "    \n",
    "    # load q_table\n",
    "    file_pre = f\"{cfg.task_no}_\" if hasattr(cfg, 'task_no') else \"\"\n",
    "    file = file_pre + 'q_table_glie.pkl' if cfg.epsilon == 'glie' else file_pre + 'q_table_e.pkl'\n",
    "    data = u.load_object(work_dir/file)\n",
    "    q_axis, q_table = data['axis'], data['q_table']\n",
    "\n",
    "    # begin testing\n",
    "    for ep in range(cfg.test_episodes):\n",
    "        (state, _), done, ep_reward, timesteps = env.reset(), False, 0, 0\n",
    "        while not done:\n",
    "            action = get_action(state, q_axis, q_table, epsilon=0.0) # be greedy during testing\n",
    "            new_state, reward, done, _, _ = env.step(action)\n",
    "\n",
    "            state = new_state\n",
    "            ep_reward += reward\n",
    "            timesteps += 1\n",
    "        \n",
    "        info = {\n",
    "            'test_episode': ep,\n",
    "            'test_ep_reward': ep_reward,\n",
    "            'timesteps': timesteps,\n",
    "        }\n",
    "\n",
    "        if not cfg.silent: print(info)\n",
    "    \n",
    "    print('Testing done!')\n",
    "\n"
   ]
  },
  {
   "cell_type": "code",
   "execution_count": null,
   "id": "dace84a6-031e-4b0d-9d99-511af93202eb",
   "metadata": {
    "tags": []
   },
   "outputs": [],
   "source": [
    "# Training with constant epsilon 0.1\n",
    "if not skip_training:\n",
    "    cfg_args=dict(epsilon=0.1, save_video=False)\n",
    "    train(cfg_path=Path().cwd()/'cfg'/'cartpole_v1.yaml', cfg_args=cfg_args) # < 30 mins"
   ]
  },
  {
   "cell_type": "code",
   "execution_count": null,
   "id": "8d603c2a-5582-4a7b-a04b-7b6ba03fc89d",
   "metadata": {
    "tags": []
   },
   "outputs": [],
   "source": [
    "# Testing with constant epsilon 0.1\n",
    "if not skip_training:\n",
    "    cfg_args=dict(epsilon=0.1, save_video=True)\n",
    "    test(cfg_path=Path().cwd()/'cfg'/'cartpole_v1.yaml', cfg_args=cfg_args)"
   ]
  },
  {
   "cell_type": "code",
   "execution_count": null,
   "id": "0c840efe",
   "metadata": {
    "deletable": false,
    "editable": false,
    "nbgrader": {
     "cell_type": "code",
     "checksum": "ad7d05103e53861c49975c1d2361488a",
     "grade": true,
     "grade_id": "cell-847ab0bf4eb63619",
     "locked": true,
     "points": 0,
     "schema_version": 3,
     "solution": false,
     "task": false
    }
   },
   "outputs": [],
   "source": []
  },
  {
   "cell_type": "code",
   "execution_count": null,
   "id": "c3ea5fd1",
   "metadata": {
    "deletable": false,
    "editable": false,
    "nbgrader": {
     "cell_type": "code",
     "checksum": "d0564f2e3a7abff5b2e4abdb8d16932e",
     "grade": true,
     "grade_id": "cell-dd274e845abca949",
     "locked": true,
     "points": 20,
     "schema_version": 3,
     "solution": false,
     "task": false
    }
   },
   "outputs": [],
   "source": []
  },
  {
   "cell_type": "markdown",
   "id": "2f6dd079-2502-4c2c-bd8e-0ac321b5826d",
   "metadata": {
    "deletable": false,
    "editable": false,
    "nbgrader": {
     "cell_type": "markdown",
     "checksum": "a6efc673501c2327e961e6c37013f0ff",
     "grade": false,
     "grade_id": "cell-fbe6a290babdf212",
     "locked": true,
     "schema_version": 3,
     "solution": false,
     "task": false
    },
    "tags": []
   },
   "source": [
    "To visualize how the agent acts within the environment, execute the cell below. **Modify the path** to select the episode you'd like to observe. Remember, by default, videos are saved every 500 episodes during training."
   ]
  },
  {
   "cell_type": "code",
   "execution_count": null,
   "id": "356b9226-601e-4ba3-ae3b-05f5ea36d3ca",
   "metadata": {
    "tags": []
   },
   "outputs": [],
   "source": [
    "# Visualizing the results with constant epsilon 0.1\n",
    "if not skip_training:\n",
    "      video = Video(Path().cwd()/'results'/'CartPole-v1'/'video'/'test'/'ex3-episode-0.mp4',\n",
    "      embed=True, html_attributes=\"loop autoplay\") # Set html_attributes=\"controls\" for video control\n",
    "      display(video)"
   ]
  },
  {
   "cell_type": "markdown",
   "id": "9f187979-feb2-4833-a11a-68cfacc62080",
   "metadata": {
    "deletable": false,
    "editable": false,
    "nbgrader": {
     "cell_type": "markdown",
     "checksum": "b906207556426401a8d6dbd61f4e4f7e",
     "grade": false,
     "grade_id": "cell-9f2ba95983a3b730",
     "locked": true,
     "schema_version": 3,
     "solution": false,
     "task": false
    },
    "tags": []
   },
   "source": [
    "\n",
    "**Important Reminder:** Before initiating the \"Training with GLIE\" process, make sure you've fully executed the steps under \"Training with a constant epsilon\". Be cautious, as the video save path remains identical; thus, any previous results will be overwritten.\n"
   ]
  },
  {
   "cell_type": "code",
   "execution_count": null,
   "id": "4f5da29e-f3f3-4b23-b879-a7786eb25c94",
   "metadata": {
    "tags": []
   },
   "outputs": [],
   "source": [
    "# Training with GLIE\n",
    "if not skip_training:\n",
    "    cfg_args=dict(epsilon='glie', glie_b=<insert-correct-value>, save_video=False) # insert correct value for glie_b\n",
    "    train(cfg_path=Path().cwd()/'cfg'/'cartpole_v1.yaml', cfg_args=cfg_args) # < 30 mins"
   ]
  },
  {
   "cell_type": "code",
   "execution_count": null,
   "id": "a77aea8d-2c8c-4e8f-baec-a3fd68fead5b",
   "metadata": {
    "tags": []
   },
   "outputs": [],
   "source": [
    "# Testing with GLIE\n",
    "if not skip_training:\n",
    "    cfg_args=dict(epsilon='glie', save_video=True)\n",
    "    test(cfg_path=Path().cwd()/'cfg'/'cartpole_v1.yaml', cfg_args=cfg_args)"
   ]
  },
  {
   "cell_type": "markdown",
   "id": "bdec32a0-acec-46fb-80cb-72bf8b6c5843",
   "metadata": {
    "deletable": false,
    "editable": false,
    "nbgrader": {
     "cell_type": "markdown",
     "checksum": "3032b3f39bfb870739c884f17717b974",
     "grade": false,
     "grade_id": "cell-8d0186add26c2a97",
     "locked": true,
     "schema_version": 3,
     "solution": false,
     "task": false
    },
    "tags": []
   },
   "source": [
    "Just as in the \"visualize the results with constant epsilon 0.1\" section, **modify the path** to select the episode you'd like to observe. Remember, videos are saved every 500 episodes during training."
   ]
  },
  {
   "cell_type": "code",
   "execution_count": null,
   "id": "c6204544",
   "metadata": {
    "tags": []
   },
   "outputs": [],
   "source": [
    "# Visualizing the results with GLIE\n",
    "if not skip_training:\n",
    "      video = Video(Path().cwd()/'results'/'CartPole-v1'/'video'/'test'/'ex3-episode-0.mp4',\n",
    "      embed=True, html_attributes=\"loop autoplay\") # Set html_attributes=\"controls\" for video control\n",
    "      display(video)"
   ]
  },
  {
   "cell_type": "code",
   "execution_count": null,
   "id": "13721787",
   "metadata": {
    "deletable": false,
    "editable": false,
    "nbgrader": {
     "cell_type": "code",
     "checksum": "4729db952ef44314e885465232bd3c7b",
     "grade": true,
     "grade_id": "cell-a49c5defa1c9854f",
     "locked": true,
     "points": 0,
     "schema_version": 3,
     "solution": false,
     "task": false
    }
   },
   "outputs": [],
   "source": []
  },
  {
   "cell_type": "markdown",
   "id": "c86e2e61",
   "metadata": {
    "deletable": false,
    "editable": false,
    "nbgrader": {
     "cell_type": "markdown",
     "checksum": "cb028b05a48b40ee3ffbab9745bfc939",
     "grade": false,
     "grade_id": "cell-61fe5d3f07b35b4b",
     "locked": true,
     "schema_version": 3,
     "solution": false,
     "task": false
    },
    "tags": []
   },
   "source": [
    "<a id='T2'></a>\n",
    "<div class=\" alert alert-warning\">\n",
    "    <h3><b>Student Task 2.</b> Visualizing the Value Function (10 points) </h3> \n",
    "\n",
    "Use your Q-function values estimated with GLIE to calculate the optimal value function of each state. Complete the ```display_heatmap_vf()``` function below to plot the heatmap of the value function in terms of $x$ and $\\theta$, such that $\\theta$ is on horizontal and $x$ is on vertical axis. For plotting, average the values over $\\dot{x}$ and $\\dot{\\theta}$. Attach the heatmap in your report.\n",
    "\n",
    "**Hint:** For plotting the heatmap you can use Matplotlib-pyplot: ```pyplot.imshow(values_array)``` or Seaborn: ```seaborn.heatmap(values_array)```\n",
    "    \n",
    "🔝\t<a href='#TOC'><b>Table of Contents</b></a>\n",
    "</div>\n"
   ]
  },
  {
   "cell_type": "code",
   "execution_count": null,
   "id": "a4e7567c",
   "metadata": {
    "tags": []
   },
   "outputs": [],
   "source": [
    "# --- Standard Libraries ---\n",
    "from pathlib import Path    # For handling filesystem paths in a more intuitive way\n",
    "\n",
    "# --- Third-party Libraries ---\n",
    "import matplotlib.pyplot as plt  # For creating static, interactive, and animated visualizations\n",
    "import seaborn as sns            # A data visualization library based on matplotlib"
   ]
  },
  {
   "cell_type": "code",
   "execution_count": null,
   "id": "d18d44fc",
   "metadata": {
    "tags": []
   },
   "outputs": [],
   "source": [
    "def display_heatmap_vf(env_name=\"CartPole-v1\", q_table_name='task1_q_table_glie.pkl'):\n",
    "    \"\"\"\n",
    "    Displays a heatmap of the value function for a given environment and Q-table.\n",
    "\n",
    "    Input:\n",
    "    - env_name (str): Name of the environment, default is \"CartPole-v1\".\n",
    "    - q_table_name (str): Name of the saved Q-table file, default is 'q_table_glie.pkl'.\n",
    "\n",
    "    Output:\n",
    "    - Visual display of the heatmap.\n",
    "\n",
    "    \"\"\"\n",
    "    \n",
    "    # load the Q-value array\n",
    "    work_dir = Path().cwd()/'results'/f'{env_name}'\n",
    "    \n",
    "    data = u.load_object(work_dir/q_table_name) # load q_table \n",
    "    q_axis, q_table = data['axis'], data['q_table'] \n",
    "    x_axis, th_axis = q_axis[0], q_axis[2]  # get the axis for x and \\theta\n",
    "\n",
    "    discr = q_table.shape[0] # get the number of discretized bins for a state variable in the Q-table\n",
    "    '''\n",
    "    # TODO: Task 2 Plot the heatmap of the value function\n",
    "    # 1. Compute the maximum Q-value for each state, which gives the value function of that state\n",
    "    # 2. Uses Seaborn and Matplotlib to display the heatmap.  \n",
    "    '''\n",
    "    \n",
    "    ########## Your code begins here. ##########\n",
    "\n",
    "    ########## Your code ends here. ##########\n",
    "\n",
    "        \n",
    "    "
   ]
  },
  {
   "cell_type": "code",
   "execution_count": null,
   "id": "eab4bd9c",
   "metadata": {
    "tags": []
   },
   "outputs": [],
   "source": [
    "# Visual display of the heatmap of the value function\n",
    "if not skip_training:\n",
    "    display_heatmap_vf()"
   ]
  },
  {
   "cell_type": "markdown",
   "id": "6752c4c4-f909-41e0-8eae-10f80055dbc3",
   "metadata": {
    "deletable": false,
    "editable": false,
    "nbgrader": {
     "cell_type": "markdown",
     "checksum": "f367a81d85146d63beb807550992c62b",
     "grade": false,
     "grade_id": "cell-88d5a81a7f1ca9f1",
     "locked": true,
     "points": 10,
     "schema_version": 3,
     "solution": false,
     "task": true
    },
    "tags": []
   },
   "source": [
    "Do not remove this cell as it is used for grading"
   ]
  },
  {
   "cell_type": "markdown",
   "id": "bbba1c47",
   "metadata": {
    "deletable": false,
    "editable": false,
    "nbgrader": {
     "cell_type": "markdown",
     "checksum": "41b202e122633a59ef0b2f03f5647b95",
     "grade": false,
     "grade_id": "cell-3cc55d2e2a030ea1",
     "locked": true,
     "schema_version": 3,
     "solution": false,
     "task": false
    },
    "tags": []
   },
   "source": [
    "<a id='Q1'></a>\n",
    "<div class=\" alert alert-warning\">\n",
    "    <h3><b>Student Question 2.1</b> Analyzing the Value Function Heatmap (15 points) </h3> \n",
    "\n",
    "What do you think the heatmap of the Q-values would have looked like at different stages of training? Select all accurate description for each stage.\n",
    "\n",
    "***Attaching the plots is not required.*** \n",
    "    \n",
    "🔝\t<a href='#TOC'><b>Table of Contents</b></a>\n",
    "</div>\n"
   ]
  },
  {
   "cell_type": "markdown",
   "id": "a99b696c-1c31-42a3-b783-9efd7212b516",
   "metadata": {
    "deletable": false,
    "editable": false,
    "nbgrader": {
     "cell_type": "markdown",
     "checksum": "a86e8a6f0c2eae37637dbebbc699d0c7",
     "grade": false,
     "grade_id": "cell-ffe562275575fe2a",
     "locked": true,
     "schema_version": 3,
     "solution": false,
     "task": false
    },
    "tags": []
   },
   "source": [
    "Select *all* correct options. You will get 3 points for each correct answer. Select **at most** 6 answers or you will lose **all points**\n",
    "\n",
    "Options\n",
    "\n",
    "1. Before training, the heatmap is all zeros (assuming Q-values are initialized as zeros)\n",
    "2. Before training, the heatmap has random values between -1 and 1\n",
    "3. After a single episode, the Q-values of visited states are updated with non-zero values\n",
    "4. After a single episode, there is a horizontal line in the middle of the heatmap\n",
    "5. After a single episode, the heatmap shows a vertical line in the middle of the heatmap\n",
    "6. Halfway through training, the heatmap already looks quite similar to the final optimal heatmap\n",
    "7. Halfway through training, the heatmap looks quite similar to the heatmap of after a single episode\n",
    "8. The cart's limited movement in the x direction and the pole's fall create a distinct pattern after one episode\n",
    "9. Random exploration in the first episode leads to scattered non-zero values throughout the heatmap"
   ]
  },
  {
   "cell_type": "code",
   "execution_count": null,
   "id": "b4a6d4dd-3f07-4e69-aa6d-414b2eb02c8d",
   "metadata": {
    "tags": []
   },
   "outputs": [],
   "source": [
    "# Answer question 2.1 with appropriate option numbers\n",
    "sq2_1 = [] "
   ]
  },
  {
   "cell_type": "code",
   "execution_count": null,
   "id": "5dbd9c27-ff3a-4c0b-8343-40a161b90386",
   "metadata": {
    "deletable": false,
    "editable": false,
    "nbgrader": {
     "cell_type": "code",
     "checksum": "ab06d1602d12d9821e3c33db9fe9375e",
     "grade": true,
     "grade_id": "cell-df8153a4c6b9c5a0",
     "locked": true,
     "points": 0,
     "schema_version": 3,
     "solution": false,
     "task": false
    },
    "tags": []
   },
   "outputs": [],
   "source": [
    "assert 1 <= len(sq2_1) <= 6\n",
    "assert max(sq2_1) <= 9"
   ]
  },
  {
   "cell_type": "markdown",
   "id": "02200ecc",
   "metadata": {
    "deletable": false,
    "editable": false,
    "nbgrader": {
     "cell_type": "markdown",
     "checksum": "ef964f8a38b7b879b191836bcd36ce0f",
     "grade": false,
     "grade_id": "cell-dcd042d34d99d37f",
     "locked": true,
     "schema_version": 3,
     "solution": false,
     "task": false
    },
    "tags": []
   },
   "source": [
    "This and following cells are used for grading."
   ]
  },
  {
   "cell_type": "code",
   "execution_count": null,
   "id": "9a060f2e-81e6-4927-bd46-f4a2b3933407",
   "metadata": {
    "deletable": false,
    "editable": false,
    "nbgrader": {
     "cell_type": "code",
     "checksum": "21e5c990ef3565650af30d1c3072c470",
     "grade": true,
     "grade_id": "cell-04e2f6847a6ba16b",
     "locked": true,
     "points": 3,
     "schema_version": 3,
     "solution": false,
     "task": false
    },
    "tags": []
   },
   "outputs": [],
   "source": []
  },
  {
   "cell_type": "code",
   "execution_count": null,
   "id": "d3e41260-10f8-4560-9f4b-a6a3337f7908",
   "metadata": {
    "deletable": false,
    "editable": false,
    "nbgrader": {
     "cell_type": "code",
     "checksum": "68697a7d2e6f1db783faa8eca19312ad",
     "grade": true,
     "grade_id": "cell-8093e9632ac2057b",
     "locked": true,
     "points": 3,
     "schema_version": 3,
     "solution": false,
     "task": false
    },
    "tags": []
   },
   "outputs": [],
   "source": []
  },
  {
   "cell_type": "code",
   "execution_count": null,
   "id": "df401a57-7053-486a-82b3-2d4c15023496",
   "metadata": {
    "deletable": false,
    "editable": false,
    "nbgrader": {
     "cell_type": "code",
     "checksum": "0c34ef2b67238347dc3d1f0103c4c890",
     "grade": true,
     "grade_id": "cell-c34556db05295fbe",
     "locked": true,
     "points": 3,
     "schema_version": 3,
     "solution": false,
     "task": false
    },
    "tags": []
   },
   "outputs": [],
   "source": []
  },
  {
   "cell_type": "code",
   "execution_count": null,
   "id": "579da06a-03a2-451f-8d3a-cacc7c272610",
   "metadata": {
    "deletable": false,
    "editable": false,
    "nbgrader": {
     "cell_type": "code",
     "checksum": "0dab553f2291074f7154c4903b2b2785",
     "grade": true,
     "grade_id": "cell-ca0be29e85c4e9f7",
     "locked": true,
     "points": 3,
     "schema_version": 3,
     "solution": false,
     "task": false
    },
    "tags": []
   },
   "outputs": [],
   "source": []
  },
  {
   "cell_type": "code",
   "execution_count": null,
   "id": "92042bae-3dcb-4e4a-ac8e-7e2efa4781c1",
   "metadata": {
    "deletable": false,
    "editable": false,
    "nbgrader": {
     "cell_type": "code",
     "checksum": "888e365fc59ccc8ef8175932de07dc81",
     "grade": true,
     "grade_id": "cell-f8e268ebc7896dc9",
     "locked": true,
     "points": 3,
     "schema_version": 3,
     "solution": false,
     "task": false
    },
    "tags": []
   },
   "outputs": [],
   "source": []
  },
  {
   "cell_type": "markdown",
   "id": "87fb7b90",
   "metadata": {
    "deletable": false,
    "editable": false,
    "nbgrader": {
     "cell_type": "markdown",
     "checksum": "0ed6babe8fed7689fc686d2d454a949c",
     "grade": false,
     "grade_id": "cell-c779d433119d8b02",
     "locked": true,
     "schema_version": 3,
     "solution": false,
     "task": false
    },
    "tags": []
   },
   "source": [
    "<a id='T3'></a>\n",
    "<div class=\" alert alert-warning\">\n",
    "    <h3><b>Student Task 3.</b> Investigating Initial Values (10 points) </h3> \n",
    "\n",
    "Set $\\epsilon$ to zero, effectively making the policy greedy w.r.t. current Q-value estimates. Run the training again while\n",
    "1) keeping the initial estimates of the Q function at 0,\n",
    "2) setting the initial estimates of the Q function to 50 for all states and actions.\n",
    "\n",
    "You can change the initial Q value estimates by passing ```initial_q=<value>``` in the following cells. \n",
    "\n",
    "**Attach training performance plots of both initializations in your report.**\n",
    "\n",
    "🔝\t<a href='#TOC'><b>Table of Contents</b></a>\n",
    "</div>\n"
   ]
  },
  {
   "cell_type": "code",
   "execution_count": null,
   "id": "39cf3dd6",
   "metadata": {
    "tags": []
   },
   "outputs": [],
   "source": [
    "# Initialize the Q function with a value of 0 and begin training\n",
    "if not skip_training:\n",
    "    cfg_args=dict(epsilon=0, initial_q=0, task_no='task3.1') # set the initial estimates of the Q function to 0\n",
    "    train(cfg_path=Path().cwd()/'cfg'/'cartpole_v1.yaml', cfg_args=cfg_args)"
   ]
  },
  {
   "cell_type": "code",
   "execution_count": null,
   "id": "ee238f34",
   "metadata": {
    "tags": []
   },
   "outputs": [],
   "source": [
    "# Visual display of the heatmap of the value function\n",
    "if not skip_training:\n",
    "    display_heatmap_vf('CartPole-v1', 'task3.1_q_table_e.pkl')"
   ]
  },
  {
   "cell_type": "code",
   "execution_count": null,
   "id": "3cc746ac",
   "metadata": {
    "tags": []
   },
   "outputs": [],
   "source": [
    "# Initialize the Q function with a value of 50 and begin training\n",
    "if not skip_training:\n",
    "    cfg_args=dict(epsilon=0, initial_q=<value>,task_no='task3.2') # set the initial estimates of the Q function to 50\n",
    "    train(cfg_path=Path().cwd()/'cfg'/'cartpole_v1.yaml', cfg_args=cfg_args)"
   ]
  },
  {
   "cell_type": "code",
   "execution_count": null,
   "id": "d9ed3aaf",
   "metadata": {
    "tags": []
   },
   "outputs": [],
   "source": [
    "# Visual display of the heatmap of the value function\n",
    "display_heatmap_vf('CartPole-v1', 'task3.2_q_table_e.pkl')"
   ]
  },
  {
   "cell_type": "code",
   "execution_count": null,
   "id": "09514150",
   "metadata": {
    "deletable": false,
    "editable": false,
    "nbgrader": {
     "cell_type": "code",
     "checksum": "f9ab1fd48e4583a37a4c80bea1298d51",
     "grade": true,
     "grade_id": "cell-f3641856fbc277ec",
     "locked": true,
     "points": 5,
     "schema_version": 3,
     "solution": false,
     "task": false
    }
   },
   "outputs": [],
   "source": []
  },
  {
   "cell_type": "code",
   "execution_count": null,
   "id": "35d54874-22c9-4367-a262-10399f81c0a2",
   "metadata": {
    "deletable": false,
    "editable": false,
    "nbgrader": {
     "cell_type": "code",
     "checksum": "620e26ec411953c00ef7617e63c34d79",
     "grade": true,
     "grade_id": "cell-1f7e70d287bd137d",
     "locked": true,
     "points": 5,
     "schema_version": 3,
     "solution": false,
     "task": false
    }
   },
   "outputs": [],
   "source": []
  },
  {
   "cell_type": "markdown",
   "id": "fbea9f8b",
   "metadata": {
    "deletable": false,
    "editable": false,
    "nbgrader": {
     "cell_type": "markdown",
     "checksum": "43adf752f5f23c243131934494ef1036",
     "grade": false,
     "grade_id": "cell-fb0ef3d88859dc85",
     "locked": true,
     "schema_version": 3,
     "solution": false,
     "task": false
    },
    "tags": []
   },
   "source": [
    "Based on the results you observed in Task 3, answer the following questions:"
   ]
  },
  {
   "cell_type": "markdown",
   "id": "2f97da87",
   "metadata": {
    "deletable": false,
    "editable": false,
    "nbgrader": {
     "cell_type": "markdown",
     "checksum": "8f9822fbf1a56fd63b9d1927e845b30d",
     "grade": false,
     "grade_id": "cell-7769c407f3a50628",
     "locked": true,
     "schema_version": 3,
     "solution": false,
     "task": false
    },
    "tags": []
   },
   "source": [
    "<a id='Q2'></a>\n",
    "<div class=\" alert alert-warning\">\n",
    "    <h3><b>Student Question 3.1</b> Analyzing Initial Values (5 points) </h3> \n",
    "\n",
    "In which case does the model perform better?\n",
    "    \n",
    "🔝\t<a href='#TOC'><b>Table of Contents</b></a>\n",
    "</div>\n"
   ]
  },
  {
   "cell_type": "markdown",
   "id": "a0b4827d-c6c2-41de-a652-a5440959c144",
   "metadata": {
    "deletable": false,
    "editable": false,
    "nbgrader": {
     "cell_type": "markdown",
     "checksum": "354771ebcdb9915ff4dc70176892b1a4",
     "grade": false,
     "grade_id": "cell-519c04dfa86099ee",
     "locked": true,
     "schema_version": 3,
     "solution": false,
     "task": false
    },
    "tags": []
   },
   "source": [
    "Options: **Choose only one**\n",
    "1. The model performs better with initial Q-values of 0\n",
    "2. The model performs better with initial Q-values of 50"
   ]
  },
  {
   "cell_type": "code",
   "execution_count": null,
   "id": "bd6d3838-9cd4-42f3-87b3-dbe8683ffcaf",
   "metadata": {},
   "outputs": [],
   "source": [
    "# Answer question 3.1 with appropriate option number\n",
    "sq3_1 = None"
   ]
  },
  {
   "cell_type": "markdown",
   "id": "38fcbcf9",
   "metadata": {
    "deletable": false,
    "editable": false,
    "nbgrader": {
     "cell_type": "markdown",
     "checksum": "aa28e6272b0a93cc6809b6dab8b27c55",
     "grade": false,
     "grade_id": "cell-b3ee495d57962ef2",
     "locked": true,
     "schema_version": 3,
     "solution": false,
     "task": false
    },
    "tags": []
   },
   "source": [
    "This and following cells are used for grading."
   ]
  },
  {
   "cell_type": "code",
   "execution_count": null,
   "id": "1f2deb0c-5e00-4ff0-bd34-85958ec29603",
   "metadata": {
    "deletable": false,
    "editable": false,
    "nbgrader": {
     "cell_type": "code",
     "checksum": "1e0498d350e6b03c0f6e60feaf7ba2c6",
     "grade": true,
     "grade_id": "cell-27c0a98fb49daec6",
     "locked": true,
     "points": 0,
     "schema_version": 3,
     "solution": false,
     "task": false
    },
    "tags": []
   },
   "outputs": [],
   "source": [
    "assert sq3_1 in (1, 2)"
   ]
  },
  {
   "cell_type": "code",
   "execution_count": null,
   "id": "477baea1-305d-45bd-bec8-a7f835d161e1",
   "metadata": {
    "deletable": false,
    "editable": false,
    "nbgrader": {
     "cell_type": "code",
     "checksum": "863d7d0b3a33ad730759604d6b547520",
     "grade": true,
     "grade_id": "cell-eb14719e4d62f7a8",
     "locked": true,
     "points": 5,
     "schema_version": 3,
     "solution": false,
     "task": false
    },
    "tags": []
   },
   "outputs": [],
   "source": []
  },
  {
   "cell_type": "markdown",
   "id": "9a200626",
   "metadata": {
    "deletable": false,
    "editable": false,
    "nbgrader": {
     "cell_type": "markdown",
     "checksum": "e6aa182ce0418396cf899243220d6187",
     "grade": false,
     "grade_id": "cell-8884a770b0a05023",
     "locked": true,
     "schema_version": 3,
     "solution": false,
     "task": false
    },
    "tags": []
   },
   "source": [
    "<a id='Q3'></a>\n",
    "<div class=\" alert alert-warning\">\n",
    "    <h3><b>Student Question 3.2</b> Exploration (15 points) </h3> \n",
    "\n",
    "Why is this the case, and how does the initialization of Q values affect exploration?\n",
    "    \n",
    "🔝\t<a href='#TOC'><b>Table of Contents</b></a>\n",
    "</div>\n"
   ]
  },
  {
   "cell_type": "markdown",
   "id": "716ab4d0-19a3-40d2-a7ca-22d8fee27300",
   "metadata": {
    "deletable": false,
    "editable": false,
    "nbgrader": {
     "cell_type": "markdown",
     "checksum": "afa2b737703f6a83218da809291ec2bd",
     "grade": false,
     "grade_id": "cell-605ea63c68c5b2c9",
     "locked": true,
     "schema_version": 3,
     "solution": false,
     "task": false
    },
    "tags": []
   },
   "source": [
    "Select *all* correct options. Select **at most** 5 options, or you will lose **all** points\n",
    "\n",
    "Options\n",
    "\n",
    "1. Higher initial Q-values encourage exploration by making unexplored actions seem more attractive.\n",
    "2. Q-values of 0 make the agent indifferent to all actions initially, leading to diverse exploration.\n",
    "3. Initializing Q-values to 50 creates an \"optimistic\" prior that encourages trying new actions.\n",
    "4. Q-values of 0 promote exploration because the agent needs to try all actions to differentiate their values.\n",
    "5. Higher initial Q-values allow the agent to overcome local optima more easily.\n",
    "6. Initializing to 0 encourages exploration as the agent is more willing to try actions with unknown outcomes.\n",
    "7. Q-values of 0 cause the agent to be overly cautious, avoiding potentially risky but rewarding actions.\n",
    "8. Higher initial Q-values compensate for the lack of explicit exploration in a greedy policy.\n",
    "9. Initializing to 0 promotes a \"blank slate\" approach, allowing the agent to explore without bias.\n",
    "10. With Q-values initialized to 0, the agent tends to stick with the first action it tries due to non-negative rewards.\n",
    "\n"
   ]
  },
  {
   "cell_type": "code",
   "execution_count": null,
   "id": "b02135a3-4830-465c-980c-b4be3e04f13d",
   "metadata": {},
   "outputs": [],
   "source": [
    "# Answer question 3.2 with appropriate option numbers\n",
    "sq3_2 = []"
   ]
  },
  {
   "cell_type": "markdown",
   "id": "05b77508",
   "metadata": {
    "deletable": false,
    "editable": false,
    "nbgrader": {
     "cell_type": "markdown",
     "checksum": "21e57df34ff7d38bf6ff8b3ebef1bd6c",
     "grade": false,
     "grade_id": "cell-926f5ebbd45e13dd",
     "locked": true,
     "schema_version": 3,
     "solution": false,
     "task": false
    },
    "tags": []
   },
   "source": [
    "This and following cells are used for grading."
   ]
  },
  {
   "cell_type": "code",
   "execution_count": null,
   "id": "9bd4f684-c278-481f-893f-bed40304e5e9",
   "metadata": {
    "deletable": false,
    "editable": false,
    "nbgrader": {
     "cell_type": "code",
     "checksum": "09aa16ffba08fcca7ff2397773e396e4",
     "grade": true,
     "grade_id": "cell-f74f34215be390f7",
     "locked": true,
     "points": 0,
     "schema_version": 3,
     "solution": false,
     "task": false
    },
    "tags": []
   },
   "outputs": [],
   "source": [
    "assert 1 <= len(sq3_2) <= 5\n",
    "assert max(sq3_2) <= 10"
   ]
  },
  {
   "cell_type": "code",
   "execution_count": null,
   "id": "70c2cfbb-5442-4500-8eb9-50a9dc498093",
   "metadata": {
    "deletable": false,
    "editable": false,
    "nbgrader": {
     "cell_type": "code",
     "checksum": "4c2ec55f6e4d6b9b5a04afff89138077",
     "grade": true,
     "grade_id": "cell-409541b588829a7d",
     "locked": true,
     "points": 4,
     "schema_version": 3,
     "solution": false,
     "task": false
    },
    "tags": []
   },
   "outputs": [],
   "source": []
  },
  {
   "cell_type": "code",
   "execution_count": null,
   "id": "634cfdb8-0b54-4e2e-9ca7-67d4e1d66ff0",
   "metadata": {
    "deletable": false,
    "editable": false,
    "nbgrader": {
     "cell_type": "code",
     "checksum": "7a05ee45b491c1c60653d6002f4b0e3d",
     "grade": true,
     "grade_id": "cell-c7dfe60e748bfaa5",
     "locked": true,
     "points": 4,
     "schema_version": 3,
     "solution": false,
     "task": false
    },
    "tags": []
   },
   "outputs": [],
   "source": []
  },
  {
   "cell_type": "code",
   "execution_count": null,
   "id": "75d303b9-5bc5-4698-a856-75c2abc50ede",
   "metadata": {
    "deletable": false,
    "editable": false,
    "nbgrader": {
     "cell_type": "code",
     "checksum": "3016ae2dc130d2b568a3248455fb562c",
     "grade": true,
     "grade_id": "cell-2f8cbb8be3f63150",
     "locked": true,
     "points": 4,
     "schema_version": 3,
     "solution": false,
     "task": false
    },
    "tags": []
   },
   "outputs": [],
   "source": []
  },
  {
   "cell_type": "code",
   "execution_count": null,
   "id": "121fb0e9-93d6-4d46-87a7-e7c4725d304d",
   "metadata": {
    "deletable": false,
    "editable": false,
    "nbgrader": {
     "cell_type": "code",
     "checksum": "4b3ad3fa4f6dd9419a479ece03fef846",
     "grade": true,
     "grade_id": "cell-598b63c886d8faf0",
     "locked": true,
     "points": 3,
     "schema_version": 3,
     "solution": false,
     "task": false
    },
    "tags": []
   },
   "outputs": [],
   "source": []
  },
  {
   "cell_type": "markdown",
   "id": "6176d62f",
   "metadata": {
    "deletable": false,
    "editable": false,
    "nbgrader": {
     "cell_type": "markdown",
     "checksum": "cebaca39f2d792d715901612cd04a3e4",
     "grade": false,
     "grade_id": "cell-b3915d3ec750dbcd",
     "locked": true,
     "schema_version": 3,
     "solution": false,
     "task": false
    },
    "tags": []
   },
   "source": [
    "# 3. Lunar lander <a id='3.'></a>"
   ]
  },
  {
   "cell_type": "markdown",
   "id": "95724c44",
   "metadata": {
    "deletable": false,
    "editable": false,
    "nbgrader": {
     "cell_type": "markdown",
     "checksum": "dd737602bb706e30df3df0d745a53fd3",
     "grade": false,
     "grade_id": "cell-5179eb4489994c45",
     "locked": true,
     "schema_version": 3,
     "solution": false,
     "task": false
    },
    "tags": []
   },
   "source": [
    "<figure style=\"text-align: center\">\n",
    "<img src=\"imgs/lunar_lander.png\" width=\"600px\">\n",
    "<figcaption style=\"text-align: center\"> Figure 2: The Lunar lander environment. </figcaption>\n",
    "</figure>\n",
    "\n",
    "The ***Lunar lander*** environment is shown in Figure 2. The goal is to make the lunar lander land on the ground between two flag poles. The agent receives a positive reward for moving towards the landing pad, landing, etc. A negative reward is given for firing the main engine (more fuel-efficient policies are better) and for crashing. Four actions are available: firing the left/right/main engines, or doing nothing (free fall). The observation vector consists of 6 continuous and 2 discrete values:\n",
    "\n",
    "$$\n",
    "o=\\left(\\begin{array}{llllllll}\n",
    "x & y & \\dot{x} & \\dot{y} & \\theta & \\dot{\\theta} & c_l & c_r\n",
    "\\end{array}\\right)^T,\n",
    "$$\n",
    "\n",
    "where $x$ and $y$ are the coordinates of the lander, $\\dot{x}$ and $\\dot{y}$ its velocities, $\\theta$ represents the rotation angle and $\\dot{\\theta}$ the angular velocity of the lander. Two discrete values $c_l$ and $c_r$  indicate whether the lander’s legs are in contact with the ground (0 or 1).\n"
   ]
  },
  {
   "cell_type": "markdown",
   "id": "3636f10e",
   "metadata": {
    "deletable": false,
    "editable": false,
    "nbgrader": {
     "cell_type": "markdown",
     "checksum": "441db32fe0877b8535c2e9a5fec31cc0",
     "grade": false,
     "grade_id": "cell-ca35aad51d60b334",
     "locked": true,
     "schema_version": 3,
     "solution": false,
     "task": false
    },
    "tags": []
   },
   "source": [
    "<a id='T4'></a>\n",
    "<div class=\" alert alert-warning\">\n",
    "    <h3><b>Student Task 4.</b> Using Q-Learning on the Lunar Lander Environment (5 points) </h3> \n",
    "\n",
    "Run the training for Lunar Lander environment by executing cell ```Training on the Lunar Lander Environment```. Run it for 20000 episodes (which was enough for the Cartpole to learn). **Attach the training performance plot in your submission.**\n",
    "\n",
    "**Heads Up:** The generated file `task4_q_table.pkl` is sizeable, approximately 2 GB. Ensure you **delete** it before submitting. But do not delete the `task4__glie.png` file.\n",
    "    \n",
    "🔝\t<a href='#TOC'><b>Table of Contents</b></a>\n",
    "</div>\n"
   ]
  },
  {
   "cell_type": "code",
   "execution_count": null,
   "id": "ec43485e",
   "metadata": {
    "tags": []
   },
   "outputs": [],
   "source": [
    "# Training on the Lunar Lander Environment\n",
    "if not skip_training:\n",
    "    cfg_args=dict(epsilon='glie', glie_b=<value-in-task-1.1>, save_video=False, discr=12) # insert correct value for glie_b\n",
    "    train(cfg_path=Path().cwd()/'cfg'/'lunarlander_v2.yaml', cfg_args=cfg_args) # "
   ]
  },
  {
   "cell_type": "code",
   "execution_count": null,
   "id": "d7d4481f",
   "metadata": {
    "tags": []
   },
   "outputs": [],
   "source": [
    "if not skip_training:\n",
    "    cfg_args=dict(epsilon='glie', save_video=True, test_episodes=5)\n",
    "    test(cfg_path=Path().cwd()/'cfg'/'lunarlander_v2.yaml', cfg_args=cfg_args)"
   ]
  },
  {
   "cell_type": "code",
   "execution_count": null,
   "id": "b2f33113",
   "metadata": {
    "tags": []
   },
   "outputs": [],
   "source": [
    "if not skip_training:\n",
    "      video = Video(Path().cwd()/'results'/'LunarLander-v2'/'video'/'test'/'ex3-episode-4.mp4',\n",
    "      embed=True, html_attributes=\"loop autoplay\") # Set html_attributes=\"controls\" for video control\n",
    "      display(video)"
   ]
  },
  {
   "cell_type": "code",
   "execution_count": null,
   "id": "9ff0a252",
   "metadata": {
    "deletable": false,
    "editable": false,
    "nbgrader": {
     "cell_type": "code",
     "checksum": "650c9f3243d0a1d2956190dcf3759aa0",
     "grade": true,
     "grade_id": "cell-d29073ccaa4d44b2",
     "locked": true,
     "points": 5,
     "schema_version": 3,
     "solution": false,
     "task": false
    }
   },
   "outputs": [],
   "source": []
  },
  {
   "cell_type": "markdown",
   "id": "39cd6a58",
   "metadata": {
    "deletable": false,
    "editable": false,
    "nbgrader": {
     "cell_type": "markdown",
     "checksum": "bf42e8ba417ce7ecdcd983c97abc34ea",
     "grade": false,
     "grade_id": "cell-e9ca0c916324acc2",
     "locked": true,
     "schema_version": 3,
     "solution": false,
     "task": false
    },
    "tags": []
   },
   "source": [
    "<a id='Q4'></a>\n",
    "<div class=\" alert alert-warning\">\n",
    "    <h3><b>Student Question 4.1</b> Lunar Lander Performance (15 points) </h3> \n",
    "\n",
    "Why doesn't the Lunar Lander learn to land consistently between the flag poles after 20,000 episodes? Select all that apply.\n",
    "    \n",
    "🔝\t<a href='#TOC'><b>Table of Contents</b></a>\n",
    "</div>\n"
   ]
  },
  {
   "cell_type": "markdown",
   "id": "341674d8-05f1-45fd-86f1-58e6fe053bcb",
   "metadata": {
    "deletable": false,
    "editable": false,
    "nbgrader": {
     "cell_type": "markdown",
     "checksum": "b3ced91cf860f74bd25377b2f0b1c4b8",
     "grade": false,
     "grade_id": "cell-241b3bf1f2c6e6fe",
     "locked": true,
     "schema_version": 3,
     "solution": false,
     "task": false
    },
    "tags": []
   },
   "source": [
    "Choose *all* correct options. Select **at most** 5 answers, or you will lose **all points**\n",
    "\n",
    "Options: \n",
    "\n",
    "1. The lunar lander's dynamics are too complex for a simple Q-learning approach\n",
    "2. The discretization of continuous states causes loss of crucial information\n",
    "3. The Q-learning algorithm struggles with high-dimensional state spaces\n",
    "4. The reward function may not provide enough guidance for precise landing\n",
    "5. The epsilon-greedy strategy may not provide sufficient exploration for Q-learning\n",
    "6. 20,000 episodes is insufficient for the Q-learning algorithm to converge in lunar lander\n",
    "7. The state space is too large for efficient exploration\n"
   ]
  },
  {
   "cell_type": "markdown",
   "id": "94efbd2d",
   "metadata": {
    "deletable": false,
    "editable": false,
    "nbgrader": {
     "cell_type": "markdown",
     "checksum": "5b97732431e585ba137a784a6e6e227f",
     "grade": false,
     "grade_id": "cell-686f2227c30c23bc",
     "locked": true,
     "schema_version": 3,
     "solution": false,
     "task": false
    },
    "tags": []
   },
   "source": [
    "This and following cells are used for grading."
   ]
  },
  {
   "cell_type": "code",
   "execution_count": null,
   "id": "6f1ceb16-e955-4083-b765-ac8ce7fc4afb",
   "metadata": {},
   "outputs": [],
   "source": [
    "# Answer question 4.2 with appropriate option numbers\n",
    "sq4_2 = []"
   ]
  },
  {
   "cell_type": "code",
   "execution_count": null,
   "id": "d2648e91-a063-4c99-8372-097b91525edd",
   "metadata": {
    "deletable": false,
    "editable": false,
    "nbgrader": {
     "cell_type": "code",
     "checksum": "fce6c3e7e354bc3773af362336ecde11",
     "grade": true,
     "grade_id": "cell-ac0292bc216b3977",
     "locked": true,
     "points": 0,
     "schema_version": 3,
     "solution": false,
     "task": false
    },
    "tags": []
   },
   "outputs": [],
   "source": [
    "assert 1 <= len(sq4_2) <= 5\n",
    "assert max(sq4_2) <= 7"
   ]
  },
  {
   "cell_type": "code",
   "execution_count": null,
   "id": "c8073563-5ecb-4469-b4ad-f236833e6806",
   "metadata": {
    "deletable": false,
    "editable": false,
    "nbgrader": {
     "cell_type": "code",
     "checksum": "e02dd1e74bbf2769002ec21af0088e1a",
     "grade": true,
     "grade_id": "cell-2ad87fd87ff8fc4d",
     "locked": true,
     "points": 4,
     "schema_version": 3,
     "solution": false,
     "task": false
    },
    "tags": []
   },
   "outputs": [],
   "source": []
  },
  {
   "cell_type": "code",
   "execution_count": null,
   "id": "a0d05400-cf65-48cd-ae5b-df87e558e6d7",
   "metadata": {
    "deletable": false,
    "editable": false,
    "nbgrader": {
     "cell_type": "code",
     "checksum": "b3d3f5a6361a9104c49d32b977df1b1f",
     "grade": true,
     "grade_id": "cell-ace1ce896c910591",
     "locked": true,
     "points": 4,
     "schema_version": 3,
     "solution": false,
     "task": false
    },
    "tags": []
   },
   "outputs": [],
   "source": []
  },
  {
   "cell_type": "code",
   "execution_count": null,
   "id": "6aa1b9a2-3e17-418d-941b-768323b362a5",
   "metadata": {
    "deletable": false,
    "editable": false,
    "nbgrader": {
     "cell_type": "code",
     "checksum": "f9ae885128cea38b5fcd2dd826ed1ba4",
     "grade": true,
     "grade_id": "cell-c8b576d9447b1b29",
     "locked": true,
     "points": 4,
     "schema_version": 3,
     "solution": false,
     "task": false
    },
    "tags": []
   },
   "outputs": [],
   "source": []
  },
  {
   "cell_type": "code",
   "execution_count": null,
   "id": "c56b84da-febd-4216-9d4a-9793656252f7",
   "metadata": {
    "deletable": false,
    "editable": false,
    "nbgrader": {
     "cell_type": "code",
     "checksum": "04db3ecc55638ca359f9e4ab798543d1",
     "grade": true,
     "grade_id": "cell-d4bf11ec4662fce0",
     "locked": true,
     "points": 3,
     "schema_version": 3,
     "solution": false,
     "task": false
    },
    "tags": []
   },
   "outputs": [],
   "source": []
  },
  {
   "cell_type": "markdown",
   "id": "98e534eb",
   "metadata": {
    "deletable": false,
    "editable": false,
    "nbgrader": {
     "cell_type": "markdown",
     "checksum": "86af336745b3942ce8d10f8aee9edcd7",
     "grade": false,
     "grade_id": "cell-922eef33455eab38",
     "locked": true,
     "schema_version": 3,
     "solution": false,
     "task": false
    },
    "tags": []
   },
   "source": [
    "# 4. Submitting <a id='4.'></a>\n",
    "Ensure all tasks and questions (in ```ex3.ipynb```) are answered and the relevant plots are recorded in the relevant places. Details about attaching images and figures can be found below. The relevant graphs to be included for this assignment are:\n",
    "\n",
    "\n",
    "- Training performance plots:\n",
    "  - `task1_e.png`: Cartpole, constant value of $\\epsilon$ training performance plots in terms of episode and smoothed episodic reward\n",
    "  - `task1_glie.png`: Cartpole, GLIE training performance plots in terms of episode and smoothed episodic reward\n",
    "  - `task3.1_e.png`: Cartpole, training performance plots of the initial estimates of the Q function at 0 \n",
    "  - `task3.2_e.png`: Cartpole, training performance plots of the initial estimates of the Q function at 50\n",
    "  - `task4_glie.png`: Luner Lander, training performance plots in terms of episode and smoothed episodic reward\n",
    "- Q-table files:\n",
    "  - `task1_q_table_e.pkl`: Cartpole, Q-table for the constant exploration rate.\n",
    "  - `task1_q_table_glie.pkl`: Cartpole, Q-table for GLIE.\n",
    "\n",
    "\n",
    "Ensure the correct model files and plots are saved:\n",
    "- ```results/CartPole-v1/task1_e.png``` From Task 1\n",
    "- ```results/CartPole-v1/task1_glie.png``` From Task 1\n",
    "- ```results/CartPole-v1/task1_q_table_e.pkl``` From Task 1\n",
    "- ```results/CartPole-v1/task1_q_table_glie.pkl``` From Task 1\n",
    "- ```results/CartPole-v1/task3.1__e.png``` From Task 3\n",
    "- ```results/CartPole-v1/task3.2__e.png``` From Task 3\n",
    "- ```results/LunarLander-v2/task4__glie.png``` From Task 4\n"
   ]
  },
  {
   "cell_type": "code",
   "execution_count": null,
   "id": "15c6c5b4",
   "metadata": {},
   "outputs": [],
   "source": [
    "# Make sure that skip training is set to True before submission\n",
    "assert skip_training == True"
   ]
  },
  {
   "cell_type": "markdown",
   "id": "4fdb3823",
   "metadata": {
    "deletable": false,
    "editable": false,
    "nbgrader": {
     "cell_type": "markdown",
     "checksum": "d69da8110b35b10bd4ef5ab4155d96b4",
     "grade": false,
     "grade_id": "cell-a63faf07dd8a1a80",
     "locked": true,
     "schema_version": 3,
     "solution": false,
     "task": false
    },
    "tags": []
   },
   "source": [
    "## 4.1 Feedback <a id='4.1'></a>\n",
    "\n",
    "In order to help the staff of the course as well as the forthcoming students, it would be great if you could answer to the following questions in your submission:"
   ]
  },
  {
   "cell_type": "markdown",
   "id": "1a19aa8d-6ce6-4688-b6f8-db0ae3caa596",
   "metadata": {
    "deletable": false,
    "editable": false,
    "nbgrader": {
     "cell_type": "markdown",
     "checksum": "c4a0cd82cb3471ab490f99840771f4a8",
     "grade": false,
     "grade_id": "cell-2a358f3dfa686d37",
     "locked": true,
     "schema_version": 3,
     "solution": false,
     "task": false
    },
    "tags": []
   },
   "source": [
    "1) How much time did you spend solving this exercise? (change the ```hrs``` variable below to a floating point number representing the number of hours taken e.g. 5.43)"
   ]
  },
  {
   "cell_type": "code",
   "execution_count": null,
   "id": "5b7c8370-ff84-4dc9-aab8-596782c55d62",
   "metadata": {
    "tags": []
   },
   "outputs": [],
   "source": [
    "hrs = None"
   ]
  },
  {
   "cell_type": "markdown",
   "id": "75d254d1-ad16-4c10-87a6-72afb79d49fe",
   "metadata": {
    "deletable": false,
    "editable": false,
    "nbgrader": {
     "cell_type": "markdown",
     "checksum": "b5db50df30213990cd28c1c809e1a7b6",
     "grade": false,
     "grade_id": "cell-2139188fae1d1565",
     "locked": true,
     "schema_version": 3,
     "solution": false,
     "task": false
    },
    "tags": []
   },
   "source": [
    "2) Difficulty of each task/question from 1-5 (int or float)"
   ]
  },
  {
   "cell_type": "code",
   "execution_count": null,
   "id": "58193777-64de-4d7c-be84-249d34e1c027",
   "metadata": {
    "tags": []
   },
   "outputs": [],
   "source": [
    "T1 = None   # Student Task 1. Implementing Q-Learning (25 points)\n",
    "T2 = None   # Student Task 2. Visualizing the Value Function (10 points)\n",
    "Q2_1 = None # Student Question 2.1 Analyzing the Value Function Heatmap (15 points)\n",
    "T3 = None   # Student Task 3. Investigating Initial Values (10 points)\n",
    "Q3_1 = None # Student Question 3.1 Analyzing Initial Values (5 points)\n",
    "Q3_2 = None # Student Question 3.2 Exploration (15 points)\n",
    "T4 = None   # Student Task 4. Using Q-Learning on the Lunar Lander Environment (5 points)\n",
    "Q4_1 = None # Student Question 4.1 Lunar Lander Performance (15 points)"
   ]
  },
  {
   "cell_type": "markdown",
   "id": "af146c4d-9475-4c0b-8b43-823fc345a584",
   "metadata": {
    "deletable": false,
    "editable": false,
    "nbgrader": {
     "cell_type": "markdown",
     "checksum": "e6a70089a969d60c3c49742635867ae8",
     "grade": false,
     "grade_id": "cell-04a0666c38cd5547",
     "locked": true,
     "schema_version": 3,
     "solution": false,
     "task": false
    },
    "tags": []
   },
   "source": [
    "3) How well did you understand the content of the task/question from 1-5? (int or float)"
   ]
  },
  {
   "cell_type": "code",
   "execution_count": null,
   "id": "0f5a460a-eb5b-45e4-a091-7153416dbd43",
   "metadata": {
    "tags": []
   },
   "outputs": [],
   "source": [
    "T1 = None   # Student Task 1. Implementing Q-Learning (25 points)\n",
    "T2 = None   # Student Task 2. Visualizing the Value Function (10 points)\n",
    "Q2_1 = None # Student Question 2.1 Analyzing the Value Function Heatmap (15 points)\n",
    "T3 = None   # Student Task 3. Investigating Initial Values (10 points)\n",
    "Q3_1 = None # Student Question 3.1 Analyzing Initial Values (5 points)\n",
    "Q3_2 = None # Student Question 3.2 Exploration (15 points)\n",
    "T4 = None   # Student Task 4. Using Q-Learning on the Lunar Lander Environment (5 points)\n",
    "Q4_1 = None # Student Question 4.1 Lunar Lander Performance (15 points)"
   ]
  },
  {
   "cell_type": "markdown",
   "id": "3de4ebe0-4012-42fd-90ae-2c8e386afa4f",
   "metadata": {
    "deletable": false,
    "editable": false,
    "nbgrader": {
     "cell_type": "markdown",
     "checksum": "65c2840d9245a90678fa5ceb9a377031",
     "grade": false,
     "grade_id": "cell-05f2777fbdfab5ce",
     "locked": true,
     "schema_version": 3,
     "solution": false,
     "task": false
    },
    "tags": []
   },
   "source": [
    "4) General feedback. Consider questions like:\n",
    "\n",
    "    - Did the content of the lecture relate well with the assignment?\n",
    "    - To what extent did you find the material to be potentially useful for your research and studies?\n",
    "    \n",
    "And other feedback you think is worth including. Type in the box below"
   ]
  },
  {
   "cell_type": "markdown",
   "id": "d67c9543-3652-4311-ad4d-6b6a087e5587",
   "metadata": {
    "tags": []
   },
   "source": [
    "DOUBLE CLICK HERE TO EDIT, CLEAR THIS TEXT AND ANSWER HERE"
   ]
  }
 ],
 "metadata": {
  "kernelspec": {
   "display_name": "Python 3",
   "language": "python",
   "name": "python3"
  },
  "language_info": {
   "codemirror_mode": {
    "name": "ipython",
    "version": 3
   },
   "file_extension": ".py",
   "mimetype": "text/x-python",
   "name": "python",
   "nbconvert_exporter": "python",
   "pygments_lexer": "ipython3",
   "version": "3.10.12"
  }
 },
 "nbformat": 4,
 "nbformat_minor": 5
}
